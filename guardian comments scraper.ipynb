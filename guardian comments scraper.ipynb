{
 "cells": [
  {
   "cell_type": "raw",
   "metadata": {},
   "source": [
    "# Basic scraping for Guardian discussions u"
   ]
  },
  {
   "cell_type": "code",
   "execution_count": 1,
   "metadata": {},
   "outputs": [
    {
     "name": "stdout",
     "output_type": "stream",
     "text": [
      "[master 705b837] web\n",
      " 3 files changed, 1090 insertions(+), 1110 deletions(-)\n",
      " rewrite guardian comments scraper.ipynb (69%)\n",
      " create mode 100644 jnntf.pkl\n",
      " create mode 100644 k9va7.pkl\n",
      "Counting objects: 5, done.\n",
      "Delta compression using up to 12 threads.\n",
      "Compressing objects: 100% (5/5), done.\n",
      "Writing objects: 100% (5/5), 1.08 MiB | 163.00 KiB/s, done.\n",
      "Total 5 (delta 2), reused 0 (delta 0)\n",
      "remote: Resolving deltas: 100% (2/2), completed with 1 local object.\u001b[K\n",
      "To https://github.com/macbuse/GUARDIAN.git\n",
      "   961a95f..705b837  master -> master\n"
     ]
    }
   ],
   "source": [
    "! ./.g\n"
   ]
  },
  {
   "cell_type": "code",
   "execution_count": 59,
   "metadata": {},
   "outputs": [],
   "source": [
    "with open('guardian comments scraper.ipynb','r') as fp:\n",
    "    nb = fp.read()"
   ]
  },
  {
   "cell_type": "code",
   "execution_count": 60,
   "metadata": {},
   "outputs": [],
   "source": [
    "import re\n",
    "\n",
    "pp = re.compile(\"(https://www.the.*?)'\")\n",
    "lks = pp.findall(nb)\n",
    "\n",
    "with open('links.txt','a') as fp:\n",
    "    fp.write('\\n'.join(lks))"
   ]
  },
  {
   "cell_type": "code",
   "execution_count": 1,
   "metadata": {},
   "outputs": [],
   "source": [
    "import re \n",
    "import requests\n",
    "import pickle\n",
    "import json"
   ]
  },
  {
   "cell_type": "code",
   "execution_count": 9,
   "metadata": {},
   "outputs": [],
   "source": [
    "article_url = 'https://www.theguardian.com/commentisfree/2020/aug/19/ditch-the-algorithm-generation-students-a-levels-politics'\n",
    "article_url = 'https://www.theguardian.com/commentisfree/2020/aug/21/joe-biden-democrat-convention-nice-guy-trump-fight'\n",
    "article_url = 'https://www.theguardian.com/commentisfree/2020/aug/23/the-cruel-exams-algorithm-has-laid-bare-the-unfairness-at-the-heart-of-our-schools'\n",
    "article_url = 'https://www.theguardian.com/commentisfree/2020/sep/01/us-mainstream-right-vigilante-terror'\n",
    "article_url = 'https://www.theguardian.com/commentisfree/2020/aug/31/politicians-covid-19-statistics-statisticians'\n",
    "article_url = 'https://www.theguardian.com/commentisfree/2021/apr/14/boris-johnson-is-telling-scotland-that-the-union-is-no-longer-based-on-consent'\n",
    "article_url = 'https://www.theguardian.com/commentisfree/2021/may/10/retail-politics-movements-polarising-projects-promise'"
   ]
  },
  {
   "cell_type": "code",
   "execution_count": 11,
   "metadata": {},
   "outputs": [],
   "source": [
    "article_url = 'https://www.theguardian.com/commentisfree/2020/sep/29/rival-scientists-lockdowns-scientific-covid-19'\n",
    "article_url = 'https://www.theguardian.com/commentisfree/2020/oct/08/johnson-and-sturgeon-will-need-a-better-philosophy-than-precaution-to-rid-us-of-covid'\n",
    "article_url = 'https://www.theguardian.com/commentisfree/2020/oct/10/continual-local-lockdowns-answer-covid-control'\n",
    "article_url = 'https://www.theguardian.com/commentisfree/2020/oct/11/the-rebel-scientists-cause-would-be-more-persuasive-if-it-werent-so-half-baked'\n",
    "\n",
    "article_url = 'https://www.theguardian.com/commentisfree/2021/apr/03/undermining-the-astrazeneca-jab-is-a-dangerous-act-of-political-folly#comment-148440261'\n",
    "article_url = 'https://www.theguardian.com/commentisfree/2021/apr/09/boris-johnson-brexit-belfast-violence-eu-good-friday-agreement'\n",
    "article_url ='https://www.theguardian.com/commentisfree/2021/apr/02/culture-war-government-race-report'\n",
    "article_url = 'https://www.theguardian.com/commentisfree/2021/mar/18/britain-sunny-vaccine-optimism-april-delivery-delay'\n",
    "article_url ='https://www.theguardian.com/commentisfree/2021/apr/14/boris-johnson-is-telling-scotland-that-the-union-is-no-longer-based-on-consent'\n",
    "article_url = 'https://www.theguardian.com/commentisfree/2021/apr/15/britain-harness-social-sciences-covid-pandemic-deprivation'\n",
    "article_url = 'https://www.theguardian.com/commentisfree/2021/apr/16/government-race-report-evidence#comment-148662066'\n",
    "article_url ='https://www.theguardian.com/commentisfree/2021/apr/20/britain-falling-birthrate-covid-pandemic-conservatives-removed-support-for-parents'\n",
    "article_url = 'https://www.theguardian.com/commentisfree/2021/apr/21/bmi-eating-disorder-pandemic-treatment'\n",
    "article_url = 'https://www.theguardian.com/commentisfree/2021/apr/30/government-delays-covid-public-inquiry-health-crisis'\n",
    "article_url = 'https://www.theguardian.com/commentisfree/2021/may/07/humiliation-hartlepool-smalltown-detective-di-starmer'\n",
    "article_url ='https://www.theguardian.com/commentisfree/2021/aug/06/uk-government-experts-vaccinating-under-16s'\n",
    "article_url = 'https://www.theguardian.com/commentisfree/2021/aug/01/there-is-a-case-for-vaccine-passports-but-ministers-are-failing-to-make-it'\n",
    "article_url = 'https://www.theguardian.com/commentisfree/2021/aug/09/america-is-flying-blind-when-it-comes-to-the-delta-variant'\n",
    "article_url = 'https://www.theguardian.com/commentisfree/2021/aug/10/covid-vaccines-britain-scientific-solution-jabs'\n",
    "article_url = 'https://www.theguardian.com/commentisfree/2021/aug/13/denial-anti-vaxxers-climate-sceptics'\n",
    "article_url = 'https://www.theguardian.com/commentisfree/2018/apr/11/bbc-andrew-neil-media-politics'\n",
    "\n",
    "article_url = 'https://www.theguardian.com/commentisfree/2021/aug/15/vaccine-passports-are-less-a-threat-to-liberty-than-a-mark-of-solidarity'\n",
    "article_url = 'https://www.theguardian.com/theobserver/commentisfree/2021/aug/14/will-we-reach-herd-immunity-for-the-new-coronavirus'\n",
    "article_url = 'https://www.theguardian.com/commentisfree/2021/aug/15/vaccine-hesitancy-broken-relationship-state-conspiracy-theorists'\n",
    "article_url = 'https://www.theguardian.com/commentisfree/2021/aug/17/dominic-raab-news-foreign-secretary-taliban-kabul'\n",
    "article_url= 'https://www.theguardian.com/commentisfree/2021/dec/11/so-which-of-these-politicians-is-a-neoliberal-not-one-of-them'\n",
    "\n",
    "article_url = 'https://www.theguardian.com/commentisfree/2021/dec/12/omicron-is-sneaky-it-could-be-fatal-for-us-or-for-our-faith-in-government'"
   ]
  },
  {
   "cell_type": "code",
   "execution_count": 13,
   "metadata": {},
   "outputs": [],
   "source": [
    "article_url ='https://www.theguardian.com/commentisfree/2021/dec/06/google-silicon-valley-ai-timnit-gebru'\n",
    "article_url = 'https://www.theguardian.com/commentisfree/2021/dec/20/rightwingers-us-social-change-coming'\n",
    "article_url = 'https://www.theguardian.com/commentisfree/2021/dec/22/omicron-covid-restrictions-young-people'\n",
    "article_url = 'https://www.theguardian.com/politics/2022/jan/01/sir-tim-brighouse-many-hold-gove-responsible-expert-educator-sets-out-whats-gone-wrong-with-britains-schools'\n",
    "article_url ='https://www.theguardian.com/commentisfree/2022/jan/10/colston-four-britain-apology-for-past'\n",
    "article_url = 'https://www.theguardian.com/commentisfree/2022/jan/21/democrats-shape-up-bidens-presidency-trumpian-sequel'\n",
    "article_url = 'https://www.theguardian.com/commentisfree/2022/jan/28/joe-rogan-neil-young-spotify-streaming-service'"
   ]
  },
  {
   "cell_type": "code",
   "execution_count": 7,
   "metadata": {},
   "outputs": [],
   "source": [
    "article_url = 'https://www.theguardian.com/commentisfree/2022/mar/04/ukraine-eu-membership-zelenskiy-european-values-war'\n",
    "article_url = 'https://www.theguardian.com/commentisfree/2022/feb/27/liberal-democracies-must-defend-their-values-and-show-putin-that-the-west-isnt-weak'\n",
    "article_url = 'https://www.theguardian.com/commentisfree/2022/mar/06/progress-women-international-womens-day-labour-party'\n",
    "article_url = 'https://www.theguardian.com/commentisfree/2022/mar/09/vladimir-putin-west-downfall-dictator-democracies'\n",
    "article_url = 'https://www.theguardian.com/commentisfree/2022/mar/26/britain-clocks-go-forward-eu-us-hour-changes'\n",
    "article_url = 'https://www.theguardian.com/commentisfree/2022/mar/27/for-brazen-cynicism-i-have-seen-nothing-like-sunaks-plan-in-40-years'"
   ]
  },
  {
   "cell_type": "code",
   "execution_count": 14,
   "metadata": {},
   "outputs": [],
   "source": [
    "article_url = 'https://www.theguardian.com/commentisfree/2022/apr/01/straight-women-tv-shows-lesbians-sally-wainwright'\n",
    "article_url ='https://www.theguardian.com/commentisfree/2022/apr/06/united-nations-putin-ukraine-catastrophic'\n",
    "article_url = 'https://www.theguardian.com/commentisfree/2022/apr/10/stench-entitlement-now-oozing-from-rishi-sunaks-home-as-well-as-boris-johnsons'\n",
    "article_url = 'https://www.theguardian.com/commentisfree/2022/apr/10/orban-le-pen-voters-sening-chill-message-to-europes-beleagured-centre'"
   ]
  },
  {
   "cell_type": "code",
   "execution_count": null,
   "metadata": {},
   "outputs": [],
   "source": [
    "key = my_keys.keys['guardian']"
   ]
  },
  {
   "cell_type": "code",
   "execution_count": 15,
   "metadata": {},
   "outputs": [
    {
     "name": "stdout",
     "output_type": "stream",
     "text": [
      "/p/y875b\n",
      "getting comments page no. 1\n",
      "there are 10 pages\n",
      "getting comments page no. 2\n",
      "getting comments page no. 3\n",
      "getting comments page no. 4\n",
      "getting comments page no. 5\n",
      "getting comments page no. 6\n",
      "getting comments page no. 7\n",
      "getting comments page no. 8\n",
      "getting comments page no. 9\n",
      "getting comments page no. 10\n",
      "archiving to y875b.pkl\n"
     ]
    }
   ],
   "source": [
    "#scrape the page and get the short url\n",
    "# 15/8/21  this failed and gave /p/temp\n",
    "short_url_pp =  re.compile('\"shortUrlId\":\"(.*?)\"')\n",
    "\n",
    "r = requests.get(article_url)\n",
    "mm = short_url_pp.search(r.text)\n",
    "short_url = mm.group(1)\n",
    "uu = r.text\n",
    "print(short_url)\n",
    "\n",
    "#the short url allows us to access the discussion\n",
    "# 15/8/21 api.nextgen.guardianapps.co.uk/discussion/ failed on \n",
    "# https://discussion.theguardian.com/discussion-api/discussion/p/tfmxg\n",
    "comments_url = 'https://api.nextgen.guardianapps.co.uk/discussion/%s.json'%short_url\n",
    "params = {'orderBy' : 'newest',\n",
    "          'pageSize' : 25,\n",
    "          'displayThreaded' : 'true',\n",
    "          'commentsClosed' : 'false',\n",
    "          'page' : '',\n",
    "          'maxResponses' : 50\n",
    "         }\n",
    "\n",
    "json_data =  []\n",
    "start_page  = 1\n",
    "last_page = None\n",
    "\n",
    "\n",
    "for num_page in range(start_page, 10**4):\n",
    "    print('getting comments page no.', num_page)\n",
    "    params['page'] = num_page\n",
    "    r = requests.get( comments_url, params=params)\n",
    "    json_data.append( r.text)\n",
    "    #The last page is a field in the json object\n",
    "    #I don't need to read this as json I could do a regexp\n",
    "    if num_page == start_page:\n",
    "        json_dict = json.loads(r.text)\n",
    "        last_page = json_dict['lastPage']\n",
    "        print('there are %d pages'%last_page)\n",
    "    if num_page == last_page : break\n",
    "        \n",
    "\n",
    "fn = '%s.pkl'%short_url.split('/')[-1]\n",
    "print('archiving to %s'%fn)\n",
    "with open(fn,'wb') as fp:\n",
    "    pickle.dump(json_data,fp)"
   ]
  },
  {
   "cell_type": "code",
   "execution_count": 2,
   "metadata": {},
   "outputs": [],
   "source": [
    "import pickle\n",
    "\n",
    "json_data = pickle.load(open('k4vhe.pkl','rb'))"
   ]
  },
  {
   "cell_type": "markdown",
   "metadata": {},
   "source": [
    "---\n",
    "\n",
    "## remember each page of comments has been stored separately"
   ]
  },
  {
   "cell_type": "code",
   "execution_count": 9,
   "metadata": {},
   "outputs": [
    {
     "data": {
      "text/plain": [
       "14"
      ]
     },
     "execution_count": 9,
     "metadata": {},
     "output_type": "execute_result"
    }
   ],
   "source": [
    "dd = json.loads(json_data[0])\n",
    "len(json_data)"
   ]
  },
  {
   "cell_type": "code",
   "execution_count": 19,
   "metadata": {},
   "outputs": [
    {
     "data": {
      "text/plain": [
       "'\\n<div class=\"d-discussion d-discussion--recommendations-open u-cf\"\\n     data-read-only=\"false\" >\\n\\n    \\n    \\n        <div class=\"d-discussion__size-message\">\\n            Due to the large number of comments, they are being shown 100 per page.\\n        </div>\\n    \\n\\n\\n    <ul class=\"d-thread d-thread--comments js-new-comments\">\\n\\n        \\n            \\n\\n<li class=\"d-comment\\n            d-comment--top-level d-comment-staff\"\\n           id=\"comment-154007965\"\\n           data-comment-id=\"154007965\"\\n           data-comment-author=\"CommunityMod\"\\n           data-comment-replies=\"0\"\\n           data-comment-timestamp=\"2022-01-01T18:00:47.000Z\"\\n           data-comment-author-id=\"2902769\"\\n           data-comment-highlighted=\"false\"\\n           itemscope itemtype=\"http://schema.org/Comment\">\\n\\n    <div class=\"d-comment__inner d-comment__inner--top-level\">\\n        <div class=\"d-comment__meta\">\\n            <span class=\"d-comment__avatar-wrapper\">\\n                <img src=\"https://avatar.guim.co.uk/user/2902769\" alt=\"\" class=\"d-comment__avatar\"/>\\n            </span>\\n            <div class=\"d-comment__meta-text\">\\n                <span\\n                    itemscope\\n                    itemprop=\"author\"\\n                    itemtype=\"http://schema.org/Person\"\\n                    title=\"CommunityMod\"\\n                    class=\"d-comment__author\">\\n                    <a href=\"https://profile.theguardian.com/user/id/2902769\" itemprop=\"url\">\\n                        <span itemprop=\"givenName\">CommunityMod</span>\\n                    </a>\\n                </span>\\n\\n                \\n                <div class=\"d-comment__timestamp\">\\n                    <a href=\"https://discussion.theguardian.com/comment-permalink/154007965\" class=\"d-comment__timestamp block-time\">\\n                        <time class=\"js-timestamp\" itemprop=\"dateCreated\"\\n                            datetime=\"2022-01-01T18:00:47Z\"\\n                            data-timestamp=\"1641060047000\" data-relativeformat=\"med\"\\n                            title=\"Permalink to this comment (1 Jan 2022 18:00)\">1 Jan 2022 18:00</time>\\n                        \\n\\n<span  class=\"inline-comment-anchor inline-icon \" >\\n    \\n        <svg width=\"15\" height=\"15\" viewbox=\"0 0 15 15\" class=\"inline-comment-anchor__svg inline-icon__svg\">\\n <path fill=\"#898989\" d=\"M5.725 13.348a2.563 2.563 0 0 1-3.699-3.547l8.424-8.79a1.921 1.921 0 0 1 2.776 2.658l-6.894 7.193a1.277 1.277 0 0 1-1.812.038 1.28 1.28 0 0 1-.04-1.81l5.324-5.553.337.321-5.325 5.555a.815.815 0 0 0 1.175 1.128l6.896-7.193a1.456 1.456 0 0 0-2.101-2.015l-8.427 8.79a2.102 2.102 0 0 0 .063 2.965 2.098 2.098 0 0 0 2.965-.062l6.853-7.152.338.323-6.853 7.151z\" />\\n</svg>\\n    \\n</span>\\n\\n                    </a>\\n                </div>\\n\\n                \\n    <div class=\"d-comment__author-label\">\\n        \\n\\n<span  class=\"inline-marque-36 inline-icon d-comment__gu-icon\" >\\n    \\n        <svg width=\"36\" height=\"36\" viewbox=\"0 0 36 36\" class=\"d-comment__gu-icon__svg inline-marque-36__svg inline-icon__svg\">\\n <path d=\"M18 0a18 18 0 1 0 0 36 18 18 0 0 0 0-36\" />\\n <path fill=\"#FFF\" d=\"M21.2 4.4c2.3.4 5.3 2 6.3 3.1v5.2H27L21.2 5v-.6zm-2.2.4c-4 0-6.3 5.6-6.3 13.2 0 7.7 2.2 13.3 6.3 13.3v.6c-6 .4-14.4-4.2-14-13.8A13.3 13.3 0 0 1 19 4v.7zm10.4 14.4-1.9.9v8.6c-1 1-3.8 2.6-6.3 3.1V19.9l-2.2-.7v-.6h10.4v.6z\" />\\n</svg>\\n    \\n</span>\\n Staff\\n    </div>\\n\\n\\n\\n                \\n            </div>\\n        </div>\\n\\n        <div class=\"d-comment__content\">\\n\\n             \\n                <div\\n                    class=\"d-comment__recommend js-recommend-comment\"\\n                    data-comment-id=\"154007965\"\\n                    data-comment-url=\"https://discussion.theguardian.com/comment-permalink/154007965\"\\n                    data-user-id=\"2902769\"\\n                    data-recommend-count=\"1\"\\n                    title=\"1 recommendations\">\\n                    <button class=\"u-button-reset d-comment__recommend-button rounded-icon\" data-link-name=\"Recommend comment\" >\\n                        <span class=\"d-comment__recommend-pulse\"></span>\\n                        \\n\\n<span  class=\"inline-arrow-up-white inline-icon \" >\\n    \\n        <svg height=\"14\" width=\"15\" class=\"inline-arrow-up-white__svg inline-icon__svg\">\\n <path d=\"m.5 7 5.25-4.5V14h1.5V2.5L12.5 7l.5-1-5.75-6h-1.5L0 6l.5 1Z\" />\\n</svg>\\n    \\n</span>\\n\\n                    </button>\\n                    <span class=\"d-comment__recommend-count js-recommend-count\">\\n                        <span class=\"d-comment__recommend-count--old\">1</span>\\n                        <span class=\"d-comment__recommend-count--new\">2</span>\\n                    </span>\\n                </div>\\n            \\n\\n            <div class=\"d-comment__main \">\\n\\n                <div class=\"d-comment__body\" itemprop=\"text\">\\n                    \\n                        \\n                            <p>Comments will close here at 18:15 GMT.</p>\\n                        \\n                    \\n                </div>\\n                \\n                    <div class=\"d-comment__actions d-comment__actions--left modern-visible\">\\n                        <a class=\"d-comment__action d-comment__action--reply\" href=\"https://profile.theguardian.com/signin?returnUrl=https://discussion.theguardian.com/comment-permalink/154007965&componentEventParams=componentType%3Didentityauthentication%26componentId%3Dsignin_to_reply_comment\"\\n                                data-link-name=\"reply to comment\" data-comment-id=\"154007965\" role=\"button\">\\n                            \\n\\n<span  class=\"inline-reply inline-icon blue\" >\\n    \\n        <svg width=\"18\" height=\"18\" class=\"blue__svg inline-reply__svg inline-icon__svg\">\\n <path d=\"m10.1 5 .9-1 4 4.5v1L11 14l-.9-1 2.5-3H4L3 9V6.5h2V8h7.6l-2.5-3z\" />\\n</svg>\\n    \\n</span>\\n\\n                            Reply\\n                        </a>\\n\\n                        \\n                            \\n<div class=\"d-comment__action d-comment__action--share\">\\n\\n    <div class=\"sharing-text\">\\n\\n<span  class=\"inline-share inline-icon comment-share-icon\" >\\n    \\n        <svg width=\"12\" height=\"12\" viewbox=\"0 0 12 12\" class=\"comment-share-icon__svg inline-share__svg inline-icon__svg\">\\n <path d=\"M10.073 8.4c-.475 0-.906.19-1.225.497L3.54 6.221 3.555 6l-.015-.221 5.308-2.676c.319.308.75.497 1.225.497.982 0 1.778-.806 1.778-1.8S11.055 0 10.073 0 8.295.806 8.295 1.8l.016.233-5.299 2.675a1.762 1.762 0 0 0-1.236-.507c-.982 0-1.778.806-1.778 1.8s.796 1.8 1.778 1.8c.48 0 .915-.194 1.236-.507l5.299 2.675-.016.233c0 .994.796 1.8 1.778 1.8s1.778-.806 1.778-1.8-.796-1.8-1.778-1.8zm0-7.68c.588 0 1.067.484 1.067 1.08 0 .596-.479 1.08-1.067 1.08S9.006 2.396 9.006 1.8c0-.596.479-1.08 1.067-1.08zm0 10.56a1.075 1.075 0 0 1-1.067-1.08c0-.596.479-1.08 1.067-1.08s1.067.484 1.067 1.08c0 .596-.479 1.08-1.067 1.08z\" />\\n</svg>\\n    \\n</span>\\n <span>Share</span></div>\\n\\n    <div class=\"sharing-buttons\" data-link-name=\"comment social\">\\n    \\n        \\n            \\n\\n        <a href=\"https://www.facebook.com/dialog/share?app_id=180444840287&amp;href=https%3A%2F%2Fdiscussion.theguardian.com%2Fcomment-permalink%2F154007965&amp;quote=CommunityMod%20commented%3A%20%22Comments%20will%20close%20here%20at%2018%3A15%20GMT.%22\"\\n        target=\"_blank\"\\n        class=\"social__action social-icon-wrapper\"\\n        data-link-name=\"social-comment : facebook\">\\n            <span class=\"inline-icon__fallback button\">\\n                Share on Facebook</span>\\n            \\n\\n<span  class=\"inline-share-facebook inline-icon rounded-icon social-icon centered-icon social-icon--facebook comment-facebook-icon\" >\\n    \\n        <svg width=\"32\" height=\"32\" viewbox=\"-2 -2 32 32\" class=\"rounded-icon__svg social-icon__svg centered-icon__svg social-icon--facebook__svg comment-facebook-icon__svg inline-share-facebook__svg inline-icon__svg\">\\n <path d=\"M17.9 14h-3v8H12v-8h-2v-2.9h2V8.7C12 6.8 13.1 5 16 5c1.2 0 2 .1 2 .1v3h-1.8c-1 0-1.2.5-1.2 1.3v1.8h3l-.1 2.8z\" />\\n</svg>\\n    \\n</span>\\n\\n            <span class=\"u-h\">Facebook</span>\\n        </a>\\n    \\n\\n            \\n            \\n                \\n\\n        <a href=\"https://tw'"
      ]
     },
     "execution_count": 19,
     "metadata": {},
     "output_type": "execute_result"
    }
   ],
   "source": [
    "xx = json.loads(json_data[0])\n",
    "xx['commentsHtml'][:8000]"
   ]
  },
  {
   "cell_type": "code",
   "execution_count": null,
   "metadata": {},
   "outputs": [],
   "source": [
    "https://discussion.theguardian.com/comment-permalink/154003870"
   ]
  },
  {
   "cell_type": "code",
   "execution_count": 136,
   "metadata": {},
   "outputs": [
    {
     "name": "stdout",
     "output_type": "stream",
     "text": [
      " class=\"d-comment\n",
      "            d-comment--top-level\"\n",
      "           id=\"comment-144422422\"\n",
      "           data-comment-id=\"144422422\"\n",
      "           data-comment-author=\"Hushing\"\n",
      "           data-comment-replies=\"0\"\n",
      "           data-comment-timestamp=\"2020-10-11T14:25:06.000+01:00\"\n",
      "           data-comment-author-id=\"12407494\"\n",
      "           data-comment-highlighted=\"false\"\n",
      "           itemscope itemtype=\"http://schema.org/Comment\">\n",
      "\n",
      "    <div class=\"d-comment__inner d-comment__inner--top-level\">\n",
      "        <div class=\"\n"
     ]
    }
   ],
   "source": [
    "print( xx['commentsHtml'][200:700])"
   ]
  },
  {
   "cell_type": "code",
   "execution_count": 16,
   "metadata": {},
   "outputs": [],
   "source": [
    "pa = re.compile('data-comment-author=\"(.*?)\"')\n",
    "pid = re.compile('data-comment-author-id=\"(\\d+)')\n",
    "pcid = re.compile('\\sid=\"comment-(.*?)\"')\n",
    "pp = re.compile('<li class=\"d-comment(.*?)>',re.DOTALL)\n",
    "\n",
    "auths = []\n",
    "md = []\n",
    "for xx in json_data:\n",
    "    hh = json.loads(xx)['commentsHtml']\n",
    "    auths.extend(list( zip(pa.findall(hh), \n",
    "                           pid.findall(hh)\n",
    "                          )))\n",
    "    md.extend(pp.findall(hh))\n",
    "\n",
    "auths = list(set(auths))\n",
    "auths.sort(key=lambda x : x[0].lower())\n"
   ]
  },
  {
   "cell_type": "code",
   "execution_count": 102,
   "metadata": {},
   "outputs": [],
   "source": [
    "#print( '\\n'.join([x for x in md if 'pinkie' in x.lower()]))"
   ]
  },
  {
   "cell_type": "markdown",
   "metadata": {},
   "source": [
    "https://discussion.theguardian.com/comment-permalink/144375739"
   ]
  },
  {
   "cell_type": "code",
   "execution_count": 8,
   "metadata": {},
   "outputs": [],
   "source": [
    "auths = dict(auths)"
   ]
  },
  {
   "cell_type": "code",
   "execution_count": 9,
   "metadata": {},
   "outputs": [
    {
     "data": {
      "text/plain": [
       "'https://api.nextgen.guardianapps.co.uk/discussion//p/hvpq8.json'"
      ]
     },
     "execution_count": 9,
     "metadata": {},
     "output_type": "execute_result"
    }
   ],
   "source": [
    "comments_url"
   ]
  },
  {
   "cell_type": "code",
   "execution_count": 16,
   "metadata": {},
   "outputs": [],
   "source": [
    "\n",
    "from bs4 import BeautifulSoup\n",
    "\n",
    "def html2comments(x):\n",
    "    tt = json.loads(x)\n",
    "    soup = BeautifulSoup(tt['commentsHtml'],  \"lxml\")\n",
    "    raw = [ comment.text for comment in  \n",
    "            soup.findAll('div', {'class' : \"d-comment__body\"}) ]\n",
    "    \n",
    "    metadata = soup.findAll('span', {'class' : \"d-comment__author\"})\n",
    "    \n",
    "    \n",
    "    auth = [ x.text.upper().strip() for x in metadata]\n",
    "    auth_id = [ x.find('a')['href'] for x in metadata]\n",
    "    #this was a pain to do really\n",
    "    #the problem is blocked comments\n",
    "    comment_id = [ x['id'][len('comment-'):] for x in soup.findAll('li')]\n",
    " \n",
    "    \n",
    "    ss = '##{}\\nhttps://discussion.theguardian.com/comment-permalink/{}\\n{}\\n\\n{}'\n",
    "    return [ ss.format(a,b,d,c.strip())  \n",
    "                   for a,b,d,c in zip(auth, comment_id, auth_id, raw)]\n",
    "     \n",
    "all_texts = [ html2comments(page) for page in json_data[:] ]\n",
    "\n",
    "\n",
    "from itertools import chain\n",
    "all_comments = list(chain.from_iterable(all_texts))\n",
    "    "
   ]
  },
  {
   "cell_type": "code",
   "execution_count": null,
   "metadata": {},
   "outputs": [],
   "source": []
  },
  {
   "cell_type": "markdown",
   "metadata": {},
   "source": [
    "# Random data hacking"
   ]
  },
  {
   "cell_type": "code",
   "execution_count": 7,
   "metadata": {
    "scrolled": true
   },
   "outputs": [
    {
     "data": {
      "text/plain": [
       "[('##VERAANTHONY', 8),\n",
       " ('##ELEPHANTMOTH', 7),\n",
       " ('##GETTROTTED', 7),\n",
       " ('##JOHNNIEAYSGARTH', 7),\n",
       " ('##ATTILA9000', 6),\n",
       " ('##ROVERTHEHILLANDFARAW', 5)]"
      ]
     },
     "execution_count": 7,
     "metadata": {},
     "output_type": "execute_result"
    }
   ],
   "source": [
    "A = [x.split('\\n')[0] for x in all_comments]\n",
    "from collections import Counter\n",
    "AN = Counter(A)\n",
    "sorted([(x,y) for x,y in AN.items() if y > 4], key=lambda x : -x[1]) "
   ]
  },
  {
   "cell_type": "code",
   "execution_count": 7,
   "metadata": {},
   "outputs": [
    {
     "name": "stdout",
     "output_type": "stream",
     "text": [
      "[master 2d74372] web\n",
      " 1 file changed, 0 insertions(+), 0 deletions(-)\n",
      " create mode 100644 kdxb7.pkl\n",
      "Counting objects: 3, done.\n",
      "Delta compression using up to 12 threads.\n",
      "Compressing objects: 100% (3/3), done.\n",
      "Writing objects: 100% (3/3), 418.83 KiB | 3.25 MiB/s, done.\n",
      "Total 3 (delta 1), reused 0 (delta 0)\n",
      "remote: Resolving deltas: 100% (1/1), completed with 1 local object.\u001b[K\n",
      "To https://github.com/macbuse/GUARDIAN.git\n",
      "   705b837..2d74372  master -> master\n"
     ]
    }
   ],
   "source": [
    "! ./.g\n"
   ]
  },
  {
   "cell_type": "code",
   "execution_count": 30,
   "metadata": {},
   "outputs": [
    {
     "name": "stdout",
     "output_type": "stream",
     "text": [
      "##STILT\n",
      "https://discussion.theguardian.com/comment-permalink/155280552\n",
      "https://profile.theguardian.com/user/id/2397205\n",
      "\n",
      "This comment was removed by a moderator because it didn't abide by our\n",
      "         \n"
     ]
    }
   ],
   "source": [
    "print(all_comments[0][:200])"
   ]
  },
  {
   "cell_type": "code",
   "execution_count": 14,
   "metadata": {},
   "outputs": [
    {
     "data": {
      "text/plain": [
       "'/home/macbuse'"
      ]
     },
     "execution_count": 14,
     "metadata": {},
     "output_type": "execute_result"
    }
   ],
   "source": []
  },
  {
   "cell_type": "code",
   "execution_count": 17,
   "metadata": {},
   "outputs": [
    {
     "name": "stdout",
     "output_type": "stream",
     "text": [
      "##CHAMPIGNONSOCIALIST\n",
      "https://discussion.theguardian.com/comment-permalink/155831980\n",
      "https://profile.theguardian.com/user/id/107184215\n",
      "\n",
      "The people arguing in defence of the far right on this page are full of nonsense. \n",
      "They are right that there are indeed many left wing sympathies to be had for ‘far right’ positions — after all reducing immigration is an effective way of preventing scab labour, keeping wages high by controlling Labour supply. Equally, cultural assimilation of immigrants, without oppressively demanding they abandon their customs, is important for national cohesion well. Not wanting immigrants bringing medieval social views into your secular liberal democracy is hardly unreasonable. Pre-New Labour leftist governments actually kept immigration very low for these legitimate reasons. \n",
      "But far right voters aren’t voting for these reasons. They aren’t arguing for trade unions, social solidarity and social liberalism, they are voting for right wing parties that consciously attack workers rights, trade unions and sow division between majorities and minorities constantly. They aren’t even conservatives — they attack international law, the judiciary, electoral institutions and various other democratic bodies constantly.\n",
      "Even their reasons for their bigotry are contradictory. In France, traditional French secularism is weaponised to attack Muslims for just living their lives (ie wearing a Burkini). Whatever you think about Islamic traditions, the principle of secularism is that the government shouldn’t suppress individual religious practices, simply keep the threat of organised religion out of national politics. This militant secularism is authoritarianism, not liberalism. \n",
      "In Hungary, Poland and increasingly the United States, on the other hand, Christian nationalism is the ideology, attacking both the ‘morally decadent’, secular, liberal West and Muslim ‘invaders’. They, like the Muslim authoritarians they criticise, pick constantly on sexual minorities, racial minorities (ie the Roma, Mexicans), transgenders, whatever. They argue for national cohesion, while destroying it at every turn.\n",
      "Equally, demographically these extremists are contradictory. Here in the United Kingdom, our racists are broadly elderly. I remember during the Brexit campaign, many elderly friends of my Irish grandparent celebrating that she would ‘get sent back to where she came from’ and spewing other anti-immigrant bile. Our racists are Gillian Duffy types, whinging about ‘Eastern Europeans’ until they reach a certain age, and those same immigrants are suddenly wiping their bottoms. They aren’t necessarily badly off — they are homeowners, they (until recently) had their triple lock and, as the largest demographic voting bloc, are pandered to at every turn. Somehow, they still have grievances. In France, on the other hand, Marine Le Pen is most popular in the youngest voter group, under 30’s. She recently proposed that under her rule, 30’s would pay no tax whatsoever. Far right movements have sympathy amongst the young in various other countries, particularly Scandinavia and Germany, as a vehicle of protest by younger voters.\n",
      "Far right people across the continent having nothing in common with each other. Some hate ‘Western values’, some are ‘defending’ them. Some are young, some are old. Some politicians claim to be economically centre left, others are unashamedly capitalist. All hate Muslims, many have more in common Salafists than they do with white liberals. All spew hate.\n",
      "Stop legitimising their bigotry.\n",
      "\n",
      "##JITSUZAI\n",
      "https://discussion.theguardian.com/comment-permalink/155831284\n",
      "https://profile.theguardian.com/user/id/107194948\n",
      "\n",
      "This present incarnation of right wing Neo-nationalism is to do with money and turf. It is such a low common denominator politically that the most rudimentary manifestations of social institutions also have the same hierarchy of concerns; street gangs and mafias.\n",
      "This is all set up to protect wealth and territory. Once one does it they force all to respond. It is a vicious circle. The last time it happened millions of people had to die to break the curse. I am starting to see thousands die now. I hope it does not descend into a similar madness as before and millions start dying. That is what will happen in the end if it is allowed to concentrate into such a nasty pesto.\n",
      "I wish the left had not got itself into its own war that it can't win; culture wars. It has diminished and impoverished the left at a time when it needed to be a strong political challenger. Anything left only has a chance of gaining ground if anything right becomes so obviously aggressive to the needs and lives of the majority that it is worse than their pet political prejudices that keep them in a deluded propaganda based fear and control by their populist facilitators.\n",
      "It's going no place special. It may end up being something very nasty. Extinction Rebellion are behaving like fascists as they try to bypass democracy with their ludicrously unrealistic demands. To me they are brownshirts of a different kind, but still brownshirts trying to force their extremism onto me without me having the voting choice to say YES or NO to them.\n",
      "I parted ways with my friend who got involved with ER. We all think he is an aggressive extremist and a total control freak and have nothing to do with him or they brownshirts he has joined. We are peace loving organic hippies that want to nurture regard for nature, not go stomping over people's livelihoods. ER does not represent me. \n",
      "I dress very colourfully and Bohemian. Every time I walk outside my door I am being met with aggressive stares from everybody now. They think I am ER. I hate ER. It is the most awful extremism and has ruined everything. Honestly, it is getting worrying and very uncomfortable. I really didn't need this. Britain is so socially aggressive now. It is almost like they are being prepped and groomed to become cannon fodder again. \n",
      "This is a mess with no end in sight. Culture wars and real wars, wars and more wars. Everywhere is war. It is everybody's fault because they are reacting in an extreme way. This needs capping like a nasty old mine. Throw it all in the abyss before it's too late. \n",
      "If I was any kind of power broker on the left with any influence I would chill it all out and make myself acceptable to a greater majority. I would see elements of left wing extremism as an even greater enemy than the political populist right. They are the ones machine gunning any hopes of being a capable opposition able to argue its way into power via the intellectual merits and economic/social benefits of its political vision and goals.\n",
      "As it stands Brexit Britain is the most prejudiced I have ever seen it in all my fifty plus years of living here. I can't function in it and steer myself around its skirts.\n",
      "If you don't do anything else please do respect our right to say yes and no to decisions that make and break our lives. Do that at least.\n",
      "\n",
      "##RICARDO111\n",
      "https://discussion.theguardian.com/comment-permalink/155832236\n",
      "https://profile.theguardian.com/user/id/4456428\n",
      "\n",
      "In the West, globalization has lowered prices of many if not most things but the gains and losses were very unevenly distributed across society: a slight layer who owned most of the shares of companies gained massivelly with much lower production costs from outsourcing while selling prices (hence revenue) were still at western levels creating vast profits in the middle, whilst a much larger group suffered from their jobs being outsourced and the resulting change against workers in supply/demand of work which slowly pushed lower the share of salaries in the total wealth being created and distributed (for example in the US salaries took 23% of revenues of companies back in the late 70s but only 7% by 2012).\n",
      "For a while this was compensated with increased indebtness: those who were not the owners of vast amounts of assets and whose income was mainly from their work couldn't afford anymore the same things as before, so they used debt to make up for it and total debt in the Economy increased with the eventual natural result as it became too much being the 2008 Crash (it's not by chance that ultra-low interest rates were the \"solution\" for it - as they lower the total interest, which is a slice of the new wealth society creates, that must be payed - and in over a decade it has not been possible to undo that supposedly temporary situation of ultra-low taxes) \n",
      "The stage we've been in since then is one were the slice of the population which captured most of the wealth has used their money to buy politics so as to maintain their rate of wealth capture even though the overall rate of wealth production fell precipituosly from earlier as there was little room for the masses to keep getting indebted to maintain the machinery going: the rich want to keep on growing their wealth in the same way but the overall Economy isn't growing like before as there are no more outsourcing gains and no more room for growth via indebtness, so they can only do it from pillaging from the rest and they used a slice of their wealth to capture the political and even judicial mechanisms which are supposedly representing the interests of and protecting the many.\n",
      "What we see at this point is a snapshot of this end state: the many are hurting, the few are getting wealthy mostly from pillaging, the \"center\" \"moderate\" politics has, after many years of their members being recipients of money from the richer classes transformed away from ideology and is populated by people who went into politics for personal enrichement, whilst a slice of politics who blame foreigners for the pain the many feel from the pillaging of locals has been subsidized (remember how Steve Bannon came to Europe with money from the Koch Fundation overtly to \"create far right parties\") as they are directing outwards the righteous anger for both the results of actions which are very much of internal actors and the seeming unwillingness of the elected representatives of people (most being the above mentionen idology free captured \"center\" of politics) of doing anything about it.\n",
      "\n",
      "##THEHOPINGEMU\n",
      "https://discussion.theguardian.com/comment-permalink/155831042\n",
      "https://profile.theguardian.com/user/id/107306130\n",
      "\n",
      "Question a person of this type, and you will often get the semi- frivolous answer: 'I don't object to Socialism, but I do object to Socialists.' Logically it is a poor argument, but it carries weight with many people. As with the Christian religion, the worst advertisement for Socialism is its adherents. \n",
      "The first thing that must strike any outside observer is thatSocialism, in its developed form is a theory confined entirely to themiddle classes. The typical Socialist is not, as tremulous old ladiesimagine, a ferocious-looking working man with greasy overalls and a raucousvoice. He is either a youthful snob-Bolshevik who in five years' time willquite probably have made a wealthy marriage and been converted to RomanCatholicism; or, still more typically, a prim little man with a white-collar job, usually a secret teetotaller and often with vegetarianleanings, with a history of Nonconformity behind him, and, above all, witha social position which he has no intention of forfeiting. This last typeis surprisingly common in Socialist parties of every shade; it has perhapsbeen taken over en bloc from. the old Liberal Party. In addition to thisthere is the horrible--the really disquieting--prevalence of crankswherever Socialists are gathered together. One sometimes gets theimpression that the mere words 'Socialism' and 'Communism' draw towardsthem with magnetic force every fruit-juice drinker, nudist, sandal-wearer,sex-maniac, Quaker, 'Nature Cure' quack, pacifist, and feminist in England.\n",
      "\n",
      "This is from The Road to Wigan Pier, it is George Orwell's explanation for why socialism and the left fail. After all it makes no sense because socialism is the movement for the masses, it should be a movement that thrives in an era of populism. Orwell's explanation is the reason socialism fails is not the flaws in the ideology but the movement attracts too many cranks that turn the voters off.\n",
      "Sadly that is as true of today as the 1930's. The right knows how to speak the language of ordinary people, the left do not. Too often leftwing politicians sound like they have been beamed out of some red brick university, giving a lecture to students using righton phrases and in academic language. That language might work in a Student Union but it sounds weird and alien to the average voter.\n",
      "\n",
      "##THESNIAL\n",
      "https://discussion.theguardian.com/comment-permalink/155832537\n",
      "https://profile.theguardian.com/user/id/10152154\n",
      "\n",
      "Since 2008, we've been following a parody of the 1930s:\n",
      "1. Global crash, which nations responded to by...2. Austerity which lead to..3. Political extremism, particularly right-wing Nationalism which lead to..4. The destabilisation of Europe, which lead to..5. War.\n",
      "To get off this path, we need to recognise the most basic forces at play here and stop them in their tracks.\n",
      "Centrists were effective and strong while we lived in a political consensus, but stick to the same electoral formulae when it breaks down. So, Centrists have real difficulty seeing that deregulation lead to the crash, which means they're fairly blind to point 1. Then, because they tend to think austerity works, they find the second step unavoidable - even though they don't approve of its direct consequences, namely the impact on the poor.\n",
      "Then, when political extremism hits, they tend to swing right, because that's where the new political centre is, rather than swinging left to counter it. This has the effect of reinforcing a right-wing shift.\n",
      "Nationalism is a consequence of austerity, because people who are badly affected by austerity tend to want to look after their own, personal interests, also because they have less time to look at wider issues. They're fearful and defensive, which correlates well with Nationalism.\n",
      "We are already seeing the destabilisation of Europe- as exemplified by this article. Unfortunately, centrist parties want to chase the same groups of people who are doing the destabilisation. For example, to put it bluntly, Labour hates Remainers and wants nothing to do with them; while embracing Brexit and Brexiters in the hope that these groups will vote for that kind of insincerity. They won't, all it does is further destabilise the country.\n",
      "And now, here we are, at the beginning of a war which Zelenskiy is clear, is an attack on the European project (as is Brexit). To get back on track - as we will inevitably have to do - means we have to reverse Brexit along with all these other things, because the longer we leave it, the heavier the cost as we are already seeing: each year is worse than the last.\n",
      "\n",
      "##FLUBICON\n",
      "https://discussion.theguardian.com/comment-permalink/155831171\n",
      "https://profile.theguardian.com/user/id/13349781\n",
      "\n",
      "Viktor Orbán, French uber-nationalist and anti-immigrant Marine Le Pen and Poland’s murky Law and Justice party. All trumpet a boastful nationalism and disregard international law, all aim to create a hostile climate for immigrants, all believe the electoral system should be manipulated for their advantage, all distrust a pluralist media, all want to limit dissent and expand summary policing powers, all incline to traditional views about sexuality and the family and, to varying degrees, all are climate change deniers.\n",
      "\n",
      "This is a completely unserious comparison when you consider that the last 12 years of Conservative rule have seen immigration increase above any year under new labour (and net migration to the UK is c. 8 times higher than to France where Macron has launched crackdowns on immigration in 2018 and 2020), a decrease in CO2 emissions of 29% (quicker than any other developed economy), the legalisation of gay marriage, the pledge to end coal use by 2024 (cf. Germany ending coal use in 2038), the most diverse cabinet the UK has ever seen etc etc etc.\n",
      "It is just silly, in this context, to pretend that the UK is like Poland or Hungary - particularly when half of Europe is openly racist. Both of the largest parties in Italy are openly racist, Norbert Hofer came within a hair's breadth of the presidency in Austria leading an openly racist party that was founded by literal neo-nazis, Geert Wilders's PVV became the second largest party in the 2017 Dutch elections and in the French elections, Macron - anti immigrant, world leading Napoleon LARPer Macron - is competing with three far right candidates, of which Marine Le Pen is amazingly not the most extreme.\n",
      "Across Europe the far right is ascending, actual far right, nazi sympathising, Islamophobic types, and you're pretending that the Conservative government is in the same class as Orban - it's just idiotic gibberish.\n",
      "\n",
      "##THEDEPTFORDBOUNDER\n",
      "https://discussion.theguardian.com/comment-permalink/155832511\n",
      "https://profile.theguardian.com/user/id/17100331\n",
      "\n",
      "Zelinskiy is entirely right and has again restated something that has been obvious since well before Brexit, but which many politicians seem unable to fully grasp the implications of, that one of Putin's main aim is to destabilise and destroy the European project, and, insofar as he can, replace it with his own miserable model of autocratic, illiberal client states that he wishes to surround the Soviet Union with (and has in many instances already succeeded in achieving). Amongst this group he can now count Victor Orban's Hungary and he would love to add Le Pen's France to the list. The deep tentacles of Russian money and corruption in the UK means that we are already in many respects a client state, despite Johnson's windy blatherings to the contrary (and despite so many Russian linked 'donations' to the Tory party - the question must be, why?). Dependence on Russian gas / oil / coal has turned many other European states into clients, whether they want to be or not. Brexit was a huge success for Putin, now we see Johnson desperate to hoik himself centre state in the slipstream of the European Union, making ever more noisy pronouncements about his support for Ukraine (whilst making no noise at all about the UK's hopelessly, and deliberately, compromised response to the refugee crisis). Zelinsky absolutely sees that the fundamental principles of democracy are under threat, but that threat already existed in countries many kilometres distant from the zone of conflict, and few want to talk about this in government here, even as highly illiberal and undemocratic measures are cheerfully waived through the British Parliament. Putin's work is being done for him, and that is how he intends to 'win'. The submission of Europe is the bigger prize. He doesn't even need to invade the rest of Europe to achieve it.\n",
      "\n",
      "##ONETWOSEVENFIVETHREE\n",
      "https://discussion.theguardian.com/comment-permalink/155830979\n",
      "https://profile.theguardian.com/user/id/100434670\n",
      "\n",
      "What’s going on? One factor is the impact of globalisation on advanced economies’ economic and social structures, captured by the famous “elephant curve” depicting how globalisation has influenced global income distribution over the decades. The curve in the middle is the relative improvement of incomes in many medium-income countries, particularly of their middle class, who have been helped as their countries catch up with richer neighbours. The elephant’s long, drooping tail is the continuing disadvantage faced by the world’s poor, the downward sloping of the trunk is what has happened to the incomes of the mass of workers in industrialised countries, while the last triumphant upward curve of the U-shaped trunk describes the ever lusher incomes of the elite – globalisation’s unchallenged beneficiaries. When ordinary French voters, at the wrong end of this global phenomenon, accuse Macron of being the president of the rich, this is what they mean.\n",
      "\n",
      "And they'd be right. Globalisation has been a disaster for the ordinary working people of industrialised, developed economies. Their jobs were taken and given to other parts of the world and they're supposed to be grateful that millions have been raised out of poverty in places in like India and China. Little comfort when you've just been landed in it yourself. \n",
      "Talk about tin eared. The economy doesn't work for millions of people. Isn't it about time so called progressives started actually looking at the damage that's been caused and coming up with solutions that don't just cater to a well off middle class? I worry immensely that Starmer will only usher in something far worse than Johnson's band of merry men if he does win and continues to just tinker around the edges.\n",
      "\n",
      "##FORTYNINER\n",
      "https://discussion.theguardian.com/comment-permalink/155831064\n",
      "https://profile.theguardian.com/user/id/2508836\n",
      "\n",
      "Time and again the Right play the \"immigrant\" card. It is a good dog whistle issue at elections, especially at times of economic hardship. Look back to the 1930s for instance.\n",
      "We have had increasing hardship since the Crash of 2008 and austerity to boot. Living standards have stagnated if not fallen. People often look for scapegoats and withdraw to things that they know, and tribalism takes centre stage.\n",
      "The other fact or has been 9/11 and its aftermath, and here Islamophobia has grown, fuelled by a series of terrorist outrages. France has long had a policy of not allowing religious symbolism in schools, with its origin in anti-clericalism a century or more ago. This has been used to stop the hijab and other Islamic dress in schools.\n",
      "All this is fertile territory for Right wing populists in particular. Here at home, even though he has never been elected to the Westminster Parliament, Farage casts a long shadow. The tory deal with the Brexit party in 2019 came at a price. The Tories know they must follow the Farage agenda or pay the price.\n",
      "The lesson for centrist and centre left politicians is clear. They must show government can and will work for the voters at large, especially those who are struggling. That was the lesson post-1945 and the modern welfare state was the result, something my generation enjoyed in our youth.\n",
      "The voters are entitled to be satisfied that those who would rule over them deliver on what they promise, and that they have the interests of all at the heart of their policies.\n",
      "With teh present government here floundering, where will their former supporters go? The opportunity for opposition parties to show there is an alternative. Now is the time to find and campaign on these alternatives.\n",
      "\n",
      "##TIRESIUS\n",
      "https://discussion.theguardian.com/comment-permalink/155832818\n",
      "https://profile.theguardian.com/user/id/3575283\n",
      "\n",
      "Too late Will. The liberal globalists have espoused identity politics which has alienated their traditional working class support , look at the collapse of the Red Wall , the rise of Le Pen , etc etc. It has also failed to defeat the Davos Consensus as it has been called , offshoring , de-industrialisation , free movement of capital , goods and mass economic migration , low taxes on corporations and the ultra wealthy and consequent real wage stagnation in the west. In representative democracies those affected have chosen to move toward social conservatism and anti globalism . You hint at this in your article but you fail to join the dots , the real consequence is that for the many the choice seems to be Melanchon or Le Pen , Corbyn or Johnson , or you just accept more of the same ..Macron , Cameron , Blair . In the end I suspect that whilst Macron may still shade this election the way is becoming clear for Le Pen’s niece Marion Marechal , next time I think is the probable first female President of the French Republic. But obviously we may yet be surprised , it will depend on how many of Melanchon’s voters abstain and how many of Pecresse’s voters vote Le Pen. What is also striking is how Le Pen now out scores Macron with younger voters . Finally , I think this has far more to do with a politics of relative economic advantage and very little to do with the EU , which is beginning to atrophy from within as you imply , this is a consequence of this late stage financialised global capitalism and the very large section of society which is embittered by it’s consequences. If your answer is just hold your nose and vote for Macron , well you might be right this time , just , but it’s not a winning strategy.\n",
      "\n",
      "##EAMONMCC\n",
      "https://discussion.theguardian.com/comment-permalink/155831356\n",
      "https://profile.theguardian.com/user/id/1155830\n",
      "\n",
      "I find myself admitting that we may be seeing the death of Western-style liberal democracy that we have grown up with over the decades. Will has listed some of the reasons for that. But I think we have to mention how complacent many of us became with the fruits of LD over the decades. I have heard and seen these attitudes and ways of thinking in the various circles I have passed through over the years. This complacency manifested itself in comments and thinking as exemplified in 'can't be arsed voting', 'politicians are all the same', 'who cares' and yawns over the idea that we have to defend and argue vigorously for what we gained, gains which in general were the answers to the unspeakable horrors of state terror in the 1930s and 1940s.\n",
      "I can also see the results now of decades of downgrading the value of the humanities not just in formal education but across our cultures. This has manifested itself in people I know asking 'Why didn't someone tell me about Putin and his intentions?' The details and the information were always there of course but contemporary history has been a casualty of the humanities downgrading I mentioned. Plus an absence of interest in much outside our boxes that doesn't give us an immediate ephemeral 'hit'.\n",
      "I don't want us to be recorded by future historians as the generations who had it all - thanks to the sacrifices of their parents and grandparents generation - and pissed it all away on the Great Distraction (the toys of consumer culture) but that's where we are heading.\n",
      "\n",
      "##POOTLEFARP\n",
      "https://discussion.theguardian.com/comment-permalink/155832393\n",
      "https://profile.theguardian.com/user/id/13441093\n",
      "\n",
      "I left the UK post brexit and now live in an EU country. There's a large British community here. I find myself constantly arguing with them about politics. They're virtually all brexit voting conservatives, like a microcosm of much of the UK. And the reason seems to be that they all, without exception, get their world view from either the Sun, The Mail (especially), the Express or the Telegraph. Given these paper's propensity for promoting the right, and also the general drift of the political centre in the UK to the right, I am known here as an 'extreme lefty', or a 'corbanista'. This, because I want a fully funded NHS, properly subsidised, universal access to education at all levels, affordable and useful public transport, and fairer wealth distribution and rewards. And a radical response to current env crises. I regard myself as centre left. I spoke to a bloke the other night who said he'd always vote tory... 'but not the eton lot of course'... unaware of the dissonance of this statement. These people, in british societal terms, are mostly working class. And they take their cues from their partisan media. The brexit process was a case in point. Which paper did the phrase 'Project Fear' come from? Was it the DM? Whatever, it was picked up and wielded as a shield against anyone who dared question the emerging consensus by people who often didn't understand the objection. Much comment on here seems to assume too much that the voters you're discussing think as deeply as you do. They don't.\n",
      "\n",
      "##MARK_MK\n",
      "https://discussion.theguardian.com/comment-permalink/155832421\n",
      "https://profile.theguardian.com/user/id/14333987\n",
      "\n",
      "Instead of criticising the right, Hutton (and others) might wonder why there is such support for the right-wing parties across Europe. Clearly it is not just Brexit supporters, since no other country has left the EU. He gives a reason why (the impact of globalisation on advanced economies’ economic and social structures) but then doesn’t follow through. If other parties are not going to do much about the impact of globalisation then it is rational to vote for a party which says it will. \n",
      "(It’s rather like the surprise expressed by many Remainers that the U.K. voted to Leave - if your perception of the impact of EU membership is the opportunity to work abroad, exchange schemes for your undergraduate children, and no worries about health insurance when on holiday, then it looks good. If your perception is competition for jobs, suppressed pay, and lots of politicians talking about big-picture Europe-wide issues, then why would you support it?\n",
      "Hutton does rather contradict himself. On the one hand he laments the rise of the right, on the other hand he says it’s obvious that Le Pen’s “economic programme is unworkable”.\n",
      "The article is really just preaching to the converted. Any skilled tradesperson who is now turning away work because demand outstrips supply with many Eastern Europeans no longer working here; and any lorry driver now earning £53K p.a. at Waitrose because Poles and Hungarians no longer want to do the work, will see recent changes as a good thing, not as bad as Hutton says.\n",
      "\n",
      "##WADDLECAKES\n",
      "https://discussion.theguardian.com/comment-permalink/155831058\n",
      "https://profile.theguardian.com/user/id/4799367\n",
      "\n",
      "No offence but most expats go to the bright bustling guardianista cities or beautiful (and wealthy) countryside. Life in France is expensive if you're on minimum wage, food is expensive, so is electricity. The only thing less expensive in France is rent and they are lucky they enjoy good renters rights.Huge parts of France are rural as in properly rural, not UK rural: if you dont have a car then you're fucked for work, and petrol is expensive. It's almost impossible to do a \"reconversion\" or change career paths, you need special diplomas for almost everything. There is an ongoing perceived lack of integration by the \"arabes\" and an anger that people who go out to work every day in low income are worse off than the generous social security beneficiaries. Finally, there is an inbuilt mistrust of the establishment and a dislike of politicians in a way that doesnt exist in the same way in the UK - in the UK people generally believe governments exist to work for the common good unless shown otherwise, in Le Pen voting France there is the sense that governments are there to screw you over, an idea not helped by the massive gendarme and military presence you see and feel around French cities in a way you dont in the UK, which feeds into a \"us and them\" attitude.You might be stumped by support for Le Pen. Lots of people in this paper were stumped by Brexit. There is a silent majority that live right next door to you. They're just less vocal.\n",
      "\n",
      "##VACUOUSSAPIENCE\n",
      "https://discussion.theguardian.com/comment-permalink/155832043\n",
      "https://profile.theguardian.com/user/id/104361920\n",
      "\n",
      "When the working class made things and things weren't as globalized or automated they could use unions and the witholding of their labour as a weapon to achieve concessions. That no longer works with globalisation, as production offshores to low regulation and low cost Labour. However, even globalisation is yesteryear's economic model. Robots and drones are posed to be even cheaper and are replacing sweatshop workers - even the famed outsourced call centres are now being replaced by automatic software and automation and 3d printing is allowing the click of a button to manufacture more and more things at home and cheaper than ever before.What Marxist theory never adequately addressed or anticipated is how people prefer to be exploited and needed than irrelevant.Automation, not communism or socialism, is capitalism's biggest threat. The shift in wealth is swinging away from making and creating toward owning, inheriting, renting and taking. In this sense capitalism is regressing back into feudalism.When machines make just about everything and wealth is derived from owning and taking (via owning of shares/property/drones/robots/automated factories) rather than producing, making and doing, the ‘just desserts’ basis for wealth justification breaks down. People's mentality towards money starts changing too. Money isn't a mulch to make things grow but a dragon hoard to clutch and keep. Wealth becomes poisonous, not productive\n",
      "\n",
      "##VACUOUSSAPIENCE\n",
      "https://discussion.theguardian.com/comment-permalink/155831330\n",
      "https://profile.theguardian.com/user/id/104361920\n",
      "\n",
      "The left need to understand that progress with identity politics and climate change is interlinked with economic inequality. Lose on one and you lose on the other. Sometimes you can be right at the wrong time. Hold fire with advancing a progressive identitarian agenda until economic security is sorted. Once someone has dignified work in which they find meaning and identity and prosperity they are less likely to feel threatened by other identities or feel the need to take on national, racial and extreme sexist or religious identities.When an unemployed white working class man is told about positive discrimination and white privilege he thinks - 'that's someone who may be given a job advantage at my expense' and I'm being told to shut up about it.When told about a 0 emission green target, he translates that to think - who is manufacturing the wind turbines. Will that make energy more expensive - that's putting the country a competitive disadvantage with another country who will do the dirty job for cheaper and so there go more jobsThe right's austerity coupled with the left's identity politics = a culture war the left can't win because when people feel that resources are low then they feel threatened by the claims of others on what they think are limited resources and so the arguments grow.So sort out economic inequality first. Then turn guns on progressing identity politics.\n",
      "\n",
      "##RABBIEDEOIR\n",
      "https://discussion.theguardian.com/comment-permalink/155831243\n",
      "https://profile.theguardian.com/user/id/100124009\n",
      "\n",
      "\"France’s left, like Britain’s, has had to perform a difficult straddling act.\"\n",
      "There is no longer an organised political left wing in Britain. The Labour party's \"straddling act\" has seen it mirror the Tories in too many respects. Left wing voters in Britain have no one to vote for anymore. I live in Scotland. There is no left wing to vote for in Scotland, any more than there is in England. The SNP gains my votes, not because I delude myself that it is left wing (it is a classic neo liberal party), but because it is the only organised anti-unionist alternative. \n",
      "And Britain's Tories differ in important respects from Orban's form of illiberalism, just as they do from Poland's Law and Justice party: it was the Tories, only a few years ago, who legalised gay marriage. And the Tories continue to pay lip service to liberal-left socio-cultural values. (The two most important offices of the Tory government, after the Premiership itself, are held, after all, by people of East Asian descent). \n",
      "Where Britain's Tory government (and increasingly, its so-called opposition, Labour) are very similar to the ruling parties in Hungary and Poland is in their promotion of a narrow, gung-ho, flag draped nationalism, and (in the case of the Tory government) its relegation of Parliament to a bit player. In Britain, just as in Poland and Hungary, true representative democracy is dying.\n",
      "\n",
      "##VACUOUSSAPIENCE\n",
      "https://discussion.theguardian.com/comment-permalink/155830943\n",
      "https://profile.theguardian.com/user/id/104361920\n",
      "\n",
      "The division of contractualist vs organicist goes back to a dichotomy set out by the German philosopher Peter Sloterjik.A contractualist is another word for a Liberal and would see the relationship between an individual and society as involving lots of different individual willpoints, gifted with reason, coexisting when agreeing to cooperate to chase joint interests. Freedom here, is the ability to make choices to contract but the contracts must be guarded and enforced - e.g. by the state. An organicist would see relationships as coexisting like building blocks of a more total body, or hyperbody. Constitutive members finding a place, like stones in a facade. Freedom here is more instinctual and tribal or caste based and involves finding a role. Bonds are a collective kinship based on family, spiritual alliances, shared causes, shared values, participation of life in a polis.Contractualists are classic liberal capitalists with all the benefits (individual liberty) and downsides (transactional society)Organicists often prefer dictatorships and like religion / family / community / gender / caste roles.Contractualists prefer democracy as it involves making a pledge which contracts to fulfill a manifesto in exchange for power and protects private property.Organicists like communism or dictatorships or nationalism where you play a role as part of a whole\n",
      "\n",
      "##1KEY2KAN\n",
      "https://discussion.theguardian.com/comment-permalink/155831239\n",
      "https://profile.theguardian.com/user/id/104749605\n",
      "\n",
      "I think that what we are seeing in these Countries are the effects of years and years of main stream politicians exploiting the good will of their support, not being honest in what the either could or were delivering and generally disappointing their traditional loyal supporters.\n",
      "So now where a new breed of politicians, claiming to be not part of the Establishment are coming along, using and exploiting this lack of trust to their own ends.\n",
      "Unfortunately and tragically, these politicians are in the main even lest honest, competent and well-intentioned that the politicians they are supposed to be calling out and no doubt eventually people will start to realise this, but at the moment we are in a really dangerous position where these sort of unscrupulously populist politicians are in the ascendency.\n",
      "I think our current political establishment Parties realise the danger now but it seems that they are still not able to forget their relatively minor differences, when compared to what is being offered as the alternative, and to work together to ensure that we don't go this very dangerous and destructive pathway.\n",
      "and of course all this is going on, when their are the most real and dangerous problems that we have ever had to face in our human existence, when we desperately need to be utterly realistic and focused and working together to ensure our whole future.\n",
      "\n",
      "##CLARITYOFTHOUGHT\n",
      "https://discussion.theguardian.com/comment-permalink/155831228\n",
      "https://profile.theguardian.com/user/id/12421113\n",
      "\n",
      "but there are inconvenient parallels between their domestic agenda and Hungary’s newly elected, self-confessed apostle of democratic illiberalism, Viktor Orbán, French uber-nationalist and anti-immigrant Marine Le Pen and Poland’s murky Law and Justice party. All trumpet a boastful nationalism and disregard international law, all aim to create a hostile climate for immigrants, all believe........etc\n",
      "\n",
      "Ignoring the obvious exaggerations within this one has to ask a basic question - has Putin been more supported and emboldened by the likes of Orban or by tolerant \"centrist\" politics practised by much of the west - particularly Germany. I don't say this in support of Orban, Le Pen or the polish nationalists - just that the status quo of tolerance, appeasement and doing nothing to upset the applecart equally has its own downsides.\n",
      "The centrists have brought us the Ukraine war - they have brought us the elephant curve. Much as I detest Orban et al they are a reaction to the mess created by others.\n",
      "The article recognises the failings of the centre, hides it in the grandstanding of the ultra right, attempts to blur the lines between the standard and extreme rights and proclaims that more durable coalitions must prevail in order to implement \n",
      "\n",
      "along with feasible if aggressive programmes that make capitalism work for the common good.\n",
      ". \n",
      "Like what?\n"
     ]
    }
   ],
   "source": [
    "import os\n",
    "\n",
    "all_comments.sort(key=lambda x : -len(x) )\n",
    "txt = '\\n\\n'.join(all_comments[:20])\n",
    "print(txt)\n",
    "with open(os.environ['HOME']+'/tmp.txt','w') as fp:\n",
    "    fp.write('\\n\\n'.join(all_comments[:20]))"
   ]
  },
  {
   "cell_type": "code",
   "execution_count": 32,
   "metadata": {},
   "outputs": [
    {
     "name": "stdout",
     "output_type": "stream",
     "text": [
      "[master b40921f] web\n",
      " 3 files changed, 328 insertions(+), 187 deletions(-)\n",
      " create mode 100644 kphq4.pkl\n",
      " create mode 100644 kqqtv.pkl\n",
      "Counting objects: 5, done.\n",
      "Delta compression using up to 12 threads.\n",
      "Compressing objects: 100% (5/5), done.\n",
      "Writing objects: 100% (5/5), 465.90 KiB | 2.29 MiB/s, done.\n",
      "Total 5 (delta 3), reused 0 (delta 0)\n",
      "remote: Resolving deltas: 100% (3/3), completed with 2 local objects.\u001b[K\n",
      "To https://github.com/macbuse/GUARDIAN.git\n",
      "   dd7587e..b40921f  master -> master\n"
     ]
    }
   ],
   "source": [
    "! ./.g"
   ]
  },
  {
   "cell_type": "code",
   "execution_count": 18,
   "metadata": {},
   "outputs": [
    {
     "name": "stderr",
     "output_type": "stream",
     "text": [
      "[nltk_data] Downloading package vader_lexicon to\n",
      "[nltk_data]     /home/gregmcshane/nltk_data...\n",
      "[nltk_data]   Package vader_lexicon is already up-to-date!\n"
     ]
    }
   ],
   "source": [
    "#https://towardsdatascience.com/sentimental-analysis-using-vader-a3415fef7664\n",
    "\n",
    "import nltk\n",
    "#nltk.download('vader_lexicon')\n",
    "\n",
    "from nltk.sentiment.vader import SentimentIntensityAnalyzer\n",
    "\n",
    "sid = SentimentIntensityAnalyzer()"
   ]
  },
  {
   "cell_type": "code",
   "execution_count": 22,
   "metadata": {},
   "outputs": [],
   "source": [
    "a = '''My views haven't changed. Leaving the EU will be of no benefit to anyone except those who hold money and power along with certain corporates and a smidgen of medium to small businesses.\n",
    "How else can it be when you are shutting shop to the most developed nations, the richest nations in the world, who are either in the EU or have market agreements with the EU. Even the emerging markets of China and India along with other developing economies are aspiring to develop trading agreements with the EU, the second largest economy in the world. Any deal with the UK will be secondary and will depend upon their agreement with the EU.\n",
    "Boris Johnson once said \"f**k business\". I take this as meaning there is something in it for them and they don't really care if businesses find it difficulA\n",
    "t to cope.\n",
    "I can see ministers and conservative MPs queuing to fill their pockets by acting as advisors for potential trade deals whilst the rest of the country are left struggling trying to rebuild their lives, especially following the pandemic. The same ministers will probably be looking to lower all kinds of standards from food and welfare to safety at work to improve their opportunities.\n",
    "When it comes to brinkmanship, I can only view this as getting away with whatever they can. I do not believe it is anything to do with negotiating an agreement that will be to the benefit of the UK or the EU as a whole, I don't believe our ministers are capable of doing that.'''"
   ]
  },
  {
   "cell_type": "code",
   "execution_count": 24,
   "metadata": {},
   "outputs": [
    {
     "ename": "TypeError",
     "evalue": "sentiment_valence() missing 4 required positional arguments: 'sentitext', 'item', 'i', and 'sentiments'",
     "output_type": "error",
     "traceback": [
      "\u001b[0;31m------------------------------------------------------------\u001b[0m",
      "\u001b[0;31mTypeError\u001b[0m                  Traceback (most recent call last)",
      "\u001b[0;32m<ipython-input-24-6f3326dcf5de>\u001b[0m in \u001b[0;36m<module>\u001b[0;34m\u001b[0m\n\u001b[1;32m      1\u001b[0m \u001b[0msid\u001b[0m\u001b[0;34m.\u001b[0m\u001b[0mpolarity_scores\u001b[0m\u001b[0;34m(\u001b[0m\u001b[0ma\u001b[0m\u001b[0;34m)\u001b[0m\u001b[0;34m\u001b[0m\u001b[0m\n\u001b[0;32m----> 2\u001b[0;31m \u001b[0msid\u001b[0m\u001b[0;34m.\u001b[0m\u001b[0msentiment_valence\u001b[0m\u001b[0;34m(\u001b[0m\u001b[0ma\u001b[0m\u001b[0;34m)\u001b[0m\u001b[0;34m\u001b[0m\u001b[0m\n\u001b[0m",
      "\u001b[0;31mTypeError\u001b[0m: sentiment_valence() missing 4 required positional arguments: 'sentitext', 'item', 'i', and 'sentiments'"
     ]
    }
   ],
   "source": [
    "sid.polarity_scores(a)\n",
    "sid.sentiment_valence(a)"
   ]
  },
  {
   "cell_type": "code",
   "execution_count": 7,
   "metadata": {},
   "outputs": [
    {
     "name": "stdout",
     "output_type": "stream",
     "text": [
      "##ROTEHAHN\n",
      "https://discussion.theguardian.com/comment-permalink/155170791\n",
      "https://profile.theguardian.com/user/id/4147194\n",
      "\n",
      "For far too long, we’ve off-loaded our security commitments to the (formerly) lone superpower, the United States. Appeals to international law, which still has no sovereign able to enforce it, are often futile when the most powerful states in the world are determined to utilise force in order to get what they want; where was the condemnation and ostracism Putin and the Russian Government are — rightly — being subject to when it was the United States and Great Britain or otherwise NATO that used force to change the facts on the ground? The hypocrisy here is staggering and at the same time also principled and correct. It is also too late.\n",
      "Putin will get what he wants because he is, quite simply put, prepared to go further than we are and willing to cross any threshold he needs to in order to get what he wants. That is our tragedy; it is Ukraine’s; it is also the Russian people’s, in whose hands the only chance for peace now lie. Unfortunately, as much as sovereignty remains that one sacrosanct principle in international relations, that same sovereignty which serves as the condition of possibility for peace and prosperity domestically is also the source of so much insecurity and violence internationally. This is precisely why organisations such as the United Nations and the European Union — peace projects both, and also primarily political in orientation — have sought to promulgate a corpus of international law that constrains the absolute sovereignty of states beyond their own borders.\n",
      "Equally unfortunate, these constraints are also rather unequal in their effects because the age-old Thucydidean observation that ‘large states do what they will and small states accept what they must’ remains as true now as ever it has done: in such a world, sovereignty exists only insofar as that claim can be defended through force of arms, and the more powerful states in the international system will often act in ways contrary to the maintenance of peace and security in said system on those occasions where they deem it in their own vital interests to do so. That is as true now for Putin’s Russia vis-à-vis Ukraine as it was for the US and UK in 2003 versus Iraq and as it was for JFK in Cuba (likewise Afghanistan for the USSR or, dare I say it, potentially even Taiwan for **CHINA** and Xi). There was, and is, no justification in any of these cases yet that does not fundamentally alter the facts created on the ground when such states rely upon the use of force (authorised or not under international law) to pursue their interests.\n",
      "As ever, in the world of international politics, the only true thing from the fairy tales we tell ourselves are its monsters.\n",
      "Provided this conflict does not escalate into a far more calamitous conflagration, our best hope as Europeans — and that includes the UK regardless of Brexit — is that we all start to take President Macron’s defence proposals much more seriously, invest more in our own defence (ironically, the one thing about which Donald Trump was correct), and to seek the necessary synergies to maximise our collective defence potential. I am not a fan of the NATO alliance as military alliances in general have a historical tendency to lead to the very thing they are intended to prevent, as J. David Singer’s Correlates of War research project proves, but ultimately, without a Europeanised mini-NATO, and almost certainly whilst ever the Russian dictator remains in power, our security and strategic interests shall inevitably remain at the whim and mercy of powers greater than each of us individually.\n",
      "For now, the best that can be hoped for is that Ukraine survives this and the conflict itself is contained, because the worst-case scenario is quite simply too terrible for any of us to contemplate given Putin has already made a thinly veiled threat as to where that could lead us.\n",
      "\n",
      "##KENKENN\n",
      "https://discussion.theguardian.com/comment-permalink/155170322\n",
      "https://profile.theguardian.com/user/id/15694367\n",
      "\n",
      "What is NATO for?\n",
      "It ( in theory ) should have ceased to exist since the Reagan/ Gorbachov days.\n",
      "Despite the unwritten assurances of the US ( the real NATO) the complete opposite has occurred and NATO has moved forward towards Russia as it is moving forward towards **CHINA**.\n",
      "Not surprisingly this makes Russia and **CHINA** extremely nervous.\n",
      "Make no mistake here we are talking nuclear first strike capabilities of both sides.\n",
      "Some strategists think that a limited nuclear war is possible depending on who gets their blows in first.\n",
      "This madness is what drives the whole move towards Russia ( the closer your nukes are - the faster the strike).\n",
      "That is the reapolitik of all this and is one of the reasons Ukraine is under attack.\n",
      "Notably I see no US reporters in Ukraine which is unusual but I think the US is working behind the scenes and advising Zelezney but no other media outlets give the US a mention and pretend that this is a problem the Europeans should solve.\n",
      "For the reasons above it most certainly is.\n",
      "The words that we are \" Right beside the Ukranians \" are hollow.\n",
      "They aren't beside them in Ukraine and no fleeing Ukrainians have been offered to stand beside Londoners or Parisians or New Yorkers.\n",
      "The thing is if the West actually did stand beside the Ukranians in Ukraine then we would be heading for a clash with a nuclear armed state.\n",
      "Sanctions will cost that's a definite but I can assure the people of all the nations involved in this that the people you see doing all the talking will not be paying that price.\n",
      "The failure of Western Democracy is not accidental from The Financial Crash of 2008 and Covid and everything in between.\n",
      "Austerity will follow in the EU the UK and the rest of the world.\n",
      "That was on the cards before this and will continue.\n",
      "The West has no answers simply because it hasn't got any questions to ask and areliterally fighting old economic wars such as fighting inflation by raising interest rates.\n",
      "No new ideas are on offer and therefore the decline will continue.\n",
      "\n",
      "##SIMONGBROWN\n",
      "https://discussion.theguardian.com/comment-permalink/155170440\n",
      "https://profile.theguardian.com/user/id/17033359\n",
      "\n",
      "Andrew, I think we need to try to be accurate in our assessment of history. NATO has been involved in wars in Iraq twice, Former Yugoslavia and Afghanistan. Of the three groups mentioned only **CHINA** has a strong record of not invading other countries. NATO is meant to be a defence pact of democratic countries, however, we have seen that it does use force to try to change other countries to democracies.\n",
      "If there were a group of communist countries joining together to protect each other, and sometimes engaging in wars with the aim of converting those countries to communism, how would we feel if they were expanding to our borders? Hopefully we would not use it as an excuse to start a war, but there might be unease, suspicion and reaction.\n",
      "Right now we need to do all we can to stop the war and encourage the Russian forces back to Russia. Long term we need to be check whether we are so enthralled with democracy that we risk turning into modern day crusaders. It is unlikely that among humans there is one perfect society and whilst we might feel democracy is best for us we need to respect other kinds of communities and be part of a global non aggression pact.\n",
      "We may also need to realise that for thousands of years humans have exploited each other and other societies for gain. As long as that continues, so will the stimulus for the revolution against exploitation along with the defence of being able to exploit. Similarly, natural resources have long been the reason for fighting.\n",
      "A deeper commitment to peace means we need to step back and look at the bigger picture of human nature and why we end up in these kind of conflicts so often.\n",
      "\n",
      "##PARCELOFROGUE\n",
      "https://discussion.theguardian.com/comment-permalink/155170856\n",
      "https://profile.theguardian.com/user/id/3489183\n",
      "\n",
      "Think back to the fall of the Berlin Wall and how the ensuing chaos was handled by the west. It is paying us back now for that foolishness.\n",
      "We had a right wing Tory Government and Reagan Republicans in power in USA, both with strong majorities. The whole Disaster Capitalism was taking hold to dominate thinking and Tory people's earnings after the UK's industry had been trashed by Patrick Minford's Monetarism and a second 80's recession, with our industrial plant shipped off to **CHINA**, asset stripping land and anything left.\n",
      "So an industrial giant in the Soviet Union goes down and the influential voices in Uk and USA were screaming don't intervene or let the existing managers re-organise, in other words don't have a settled co-operative sale of assets to western companies looking to upgrade their manufacturers to western standards. \n",
      "The UK and USA right wanted asset stripping, fire sales and in a desperate situation with millions unable to buy food, the KGB used their training, discipline and guns to take it all by force. The industry, oil and gas, the property not tied down by western deeds and factories by force and trickery. \n",
      "They tricked old ladies out of they Moscow fats and changed the locks, to be able to live it up in West London. We enabled all of this by fencing their hot money, taking political donations and still support them while Putin kills thousands to live his empire fantasy. \n",
      "The Tories are trying to change the law to enable political donations from anyone living in the UK, in other words Russian nationals.\n",
      "\n",
      "##SWEEDLEPIPELIAM\n",
      "https://discussion.theguardian.com/comment-permalink/155170854\n",
      "https://profile.theguardian.com/user/id/18089457\n",
      "\n",
      "I'm not so sure his 'influence' was needed in the Brexit and vote and US presidential election. The populations of both countries need to take a long hard look at themselves before blaming outside influence as being a significant reason.\n",
      "Another perspective on Putin. He's an aging, bloated, sociopath, sat on a throne in his gilded palace paid for by money stolen from the Russian people. Surrounded by sycophants and informed by his own inflated ego he's misjudging the situation. Ukraine is not lying down and the more protracted the war becomes, the fewer friends Putin will have - both inside and outside of Russia. Did Putin calculate this invasion would be similar to the Georgian invasion of 2008, because it's clearly not going the same way. \n",
      "Take **CHINA**'s response as an example. They abstained in the UN vote, which is what they would be expected to do. Do you really think they care about Russia, other than it's oil, gas and mineral wealth. The Russian economy is smaller than the Italy's, it's not an important market for the Chinese. A weakened Russia is no bad thing for them - it's probably an opportunity. \n",
      "Global public opinion seems to have fallen squarely behind Ukraine. If war becomes a protracted one, it may start to becomes an issue for Russia.\n",
      "I have no idea if any of this is true, but i think we need to lay off the narrative that Putin is some kind of master strategist. \n",
      "As for the UK. The response has mostly been risible, but what would you expect from a Boris Johnson government full of light-weight politicians.\n",
      "\n",
      "##UNDERYOURHAT\n",
      "https://discussion.theguardian.com/comment-permalink/155171195\n",
      "https://profile.theguardian.com/user/id/105354852\n",
      "\n",
      "Just read the Russian perspective of these sanctions in Novaya Gazeta:\n",
      "“It will be Venezuela with nuclear missiles,” financier Andrey Movchan assesses the future of Russia\n",
      "And the Russian oil and gas production industry cannot operate without imports:\n",
      "Drilling, oil and gas equipment, chemicals needed to pump certain solutions into wells have ceased to go to Russia. That is, everything that Russia needs for oil and gas production.\n",
      "So will **CHINA** really be willing to bail out Russia (re: Putin's future)? Well, this is what a Russian logistics manager has to say:\n",
      "Perhaps someone was counting on the Chinese comrades, who would gladly take the place of exporters who had turned their backs on Russia. This hope is also shattered by data on container traffic of recent days: according to Mikhail's observations, deliveries are being stopped in this direction as well. Fearing US sanctions, carriers are refusing to take cargo from **CHINA** as well.\n",
      "So no carriers able to provide services for that scenario.\n",
      "**CHINA** seem to have Russia dangling by their little finger in that respect:\n",
      "And **CHINA** itself, according to Mikhail, can stop shipments to Russia, because it is closely connected with American banks and will not take risks. Russia's share in Chinese exports is about 10% of what they supply to America\n",
      "\n",
      "##NICKOTIME\n",
      "https://discussion.theguardian.com/comment-permalink/155171474\n",
      "https://profile.theguardian.com/user/id/10128505\n",
      "\n",
      "The West won the cold war - period . At that point a hand of magnaminity could and should have been extended to Russia . Instead , from a Russian perspective , the Yeltsin era was characterised by bandit capitalism with Western enterprises joining in gleefully . It was said Russia was like the wild west - lawless , anything goes , this afterall was the end of history . **CHINA** watched and said , no thanks . It was a huge error by the west to behave so arrogantly , to despise Russia and it did not go unnoticed and it built a terrible resentment . Russia is a superpower because it owns a nuclear arsenal , otherwise its not much in world terms . They are however more than capable of devatating Ukraine with conventional forces alone . This whole sorry mess might have been avoided if NATO had not countenanced expansion into Ukraine .That is of visceral significance to Russia , its not like the Baltic states or Poland its far deeper than that . If Minsk 2 had been implemented and Ukraine had vowed to stay neutral - peace . Instead we have this nightmare invasion . I really hope it backfires and topples Putin , because this war is not wanted by anyone else , but if it does , will we learn anything and change our approach to what then emerges in Russia ?\n",
      "\n",
      "##GRAUN\n",
      "https://discussion.theguardian.com/comment-permalink/155169949\n",
      "https://profile.theguardian.com/user/id/4109931\n",
      "\n",
      "allowing so much of Europe – and notably Germany – to become so dependent on hydrocarbons supplied by a regime that is so starkly hostile to democratic values.\n",
      "I think the author will find that many of the world's sources of fossil fuels are not showcases of democracy. \n",
      ". \n",
      "However, that too is a two-edged sword. The flip-side is that those \"regimes\" are also dependent on the income they derive from what they export. If used properly - strategically - that can be a lever to move them towards more enlightened forms of government. \n",
      "\n",
      "The democracies will have to relearn the arts of deterrence and become much more serious about ensuring they have the means to protect themselves and their allies against despots who respect only hard power.\n",
      "This sounds suspiciously like \n",
      "we come in peace, shoot to kill \n",
      ". \n",
      "There is obviously a problem with the gap between countries run by war-mongering autocrats and those which just want a liberal, peaceful, existence. I do not claim to have any solutions, although it seems to me that having a \"best **CHINA**\" approach to weaponry (too expensive to ever use) is one part of the problem. Another part would be those countries citizens feeling that electing or supporting their despotic leaders is the only option.\n",
      "\n",
      "##REVOLUTION101\n",
      "https://discussion.theguardian.com/comment-permalink/155173470\n",
      "https://profile.theguardian.com/user/id/100690112\n",
      "\n",
      "The West however is weak. The American Century is over. America First which began with Obama, was ramped up by Trump and which continues with Biden has seen the fast declining super power in full blown retreat across the world leaving local vacuums for the likes of Tsar Putin to move into. America itself is on the cusp of its own civil war as the consequences of the 2008 bail out of the failed and anachronistic capitalist system finally work themselves out as a massive assault on poor and working class people that will make the austerity of 2010-20 seem benign. The war the West wants is not with Russia but with **CHINA** that it built up and now wants to knock down and it is hoping that by ceding Ukraine to Putin they can rely on his neutrality or even support for that bloody endeavour. As capitalist globalization unravels and collapses the world's imperialist elites are looking to re-divide the world on terms more favourable to themselves and find a new balance-of-power. But there is no new order of things that can give capitalism a new lease of life. The violence required to establish such a thing would in itself be sufficient to end human existence.\n",
      "\n",
      "##YORKSLASS\n",
      "https://discussion.theguardian.com/comment-permalink/155173367\n",
      "https://profile.theguardian.com/user/id/14099649\n",
      "\n",
      "The barbaric battering of Ukraine is the savage expression of a global contest for the soul of our planet. It is a struggle between the democracies and an axis of autocracies led by **CHINA** and Russia who seek to impose their authoritarian systems not only on their own populations, but on people beyond their borders.\n",
      "\n",
      "People power is more than the taking up of arms against an oppressor. Those fortunate enough to live in liberal democracies must remove, through general elections, governments which support money laundering and tax avoidance on the global scales we are now seeing. Wealthy and powerful global elites must be brought to account. \n",
      "Russia's economy is inevitably doomed to collapse over the next few years, due primarily to Putin and his cronies. We are seeing it's last gasp. We have though to make sure they don't being down the whole financial system with them. \n",
      "We are all undoubtedly in for a rocky ride but the financial war will, after a crisis probably lasting as long as WWII, stabilise the world economy for decades if not a millenium. It must be done and the process must start now.\n",
      "\n",
      "##GAMECABBAGE\n",
      "https://discussion.theguardian.com/comment-permalink/155170267\n",
      "https://profile.theguardian.com/user/id/17422128\n",
      "\n",
      "Unfortunately there is nothing good here. War mongering from both sides. If we cut out the hypocrisy and jingoism we are left with this fact. \n",
      "Looking at the wider picture, I agree with Rawnlsey (on this one thing only), this has been on the cards for some time. Since the downfall of the USSR, the brakes have been released on imperialism. **CHINA** and Russia are indeed capitalist autocracies, and I abhor them. But the advance of NATO (the US) and encirclement of Russia and **CHINA** cannot be excused. It has forced the hand of Putin and will delight arms manufacturers and their pets in politics the world over. It will also please the fossil fuel suppliers, Putin included. Some of the worlds worst despots supply our so called 'Liberal' democracies with this pollutant. The project of the US since the downfall of the USSR has been 'world' domination a 'new order' if you will. It has not been disguised for those that have been watching. The term 'absolute power corrupts absolutely comes to mind'. Absolute power may produce peace, but it will not be a peace that any would want, or could be maintained.\n",
      "\n",
      "##QUIETSKEPTIC\n",
      "https://discussion.theguardian.com/comment-permalink/155170031\n",
      "https://profile.theguardian.com/user/id/1687824\n",
      "\n",
      "We have allowed ourselves to create dependencies on Russia (and **CHINA**, and oil producers) that make us vulnerable, in order to be comfortable.\n",
      "We have known what was possible, but have told ourselves “it will never happen”, and looked away. Now there is a reckoning and we are having to re-think our position.\n",
      "Whilst we are doing so we might like to re-think a few things closer to home that we (or many of us) have ignored because “they would never happen” - and change those whilst we can…….. \n",
      "……….The implications of the new law restraining and criminalising protest, the transfer of election oversight to a government minister, the subtle erosion of the number who can vote readily. …….\n",
      "No need to worry, those would never be used in a malign way would they ??? \n",
      "Of course not, no more than an elected U.K. government would renege on an international agreement (NI/EU agreement), nor seek to override parliament by proroguing it, nor seek to have international law ignored (handling of asylum seekers at sea). \n",
      "So that’s OK then, “it will never happen”!\n",
      "\n",
      "##RUDEBOY1\n",
      "https://discussion.theguardian.com/comment-permalink/155170099\n",
      "https://profile.theguardian.com/user/id/3469372\n",
      "\n",
      "This is true...but...we don't need to prepare for war against Russia too much...on this showing NATO would annihilate them in a matter of days. In the air it hasn't been a contest between NATO and Russia for decades, neither at sea. In both spheres the Russian's are so technologically backward and outnumbered that it isn't even a contest. But there was always a fear of the sheer scale of the Russian Army and its firepower. Now its been seen to be a paper tiger, badly led, badly trained, with no motivation, poor logistics, poor equipment, poor tactics...the problems go on and on. And this is after 15 years of high funding and 'reforms' that the Russian's can no longer afford, and that have clearly failed.\n",
      "Make no mistake...nations that have cosied up to Russia thinking it was capable of protecting them are rapidly re-assessing that situation right now..\n",
      "its **CHINA** we need to worry about.\n",
      "\n",
      "##LITTLEJOCKELLIOT\n",
      "https://discussion.theguardian.com/comment-permalink/155170986\n",
      "https://profile.theguardian.com/user/id/103254717\n",
      "\n",
      "\"....only **CHINA** has a strong record of not invading other countries....\"\n",
      "Oh, please. Tibet? Chinese support for North Korea's invasion of the South? Its sabre-rattling against Taiwan? Sino-Soviet border conflicts? Sino-Indian border clashes? In contrast, the first Gulf War was sparked by Iraq's unprovoked invasion of a sovereign country, NATO's intervention in Former Yugoslavia was in response to Serbian aggression and war crimes and the invasion of Afghanistan was a response to the country serving as a safe haven for terrorists who had launched an attack on a NATO member that killed almost 3000 people.\n",
      "There is no moral equivalency here. If you seriously believe that Putin sees Ukraine as a neo-Nazi state that facilitates an existential threat posed to Holy Mother Russia by an aggressive NATO, then I'm sorry but your naivety is truly incredible.\n",
      "\n",
      "##RABBIEDEOIR\n",
      "https://discussion.theguardian.com/comment-permalink/155171223\n",
      "https://profile.theguardian.com/user/id/100124009\n",
      "\n",
      "It would be nice too if the liberal values the west holds forth would go so far as to boycott Chinese goods, in return for **CHINA**'s occupation of Tibet, and for **CHINA**'s unarguably genocidal attack on the Uighurs. But of course that would threaten the line of cheap tat to which westerners are addicted. Russian energy; Chinese cheap tat; the west is dependent on both. \n",
      "When in due course **CHINA** invades and occupies Taiwan, will we (I wonder) see as great an outcry in the west as is presently being shown for Ukraine? Or will our overwhelming dependence on cheap Chinese tat silence our anger? Because **CHINA** could not make it clearer that it intends in the not so distant future to invade Taiwan, a democratic, sovereign state, and the inheritor of the mantle of legitimist **CHINA**.\n",
      "\n",
      "##VINCAM\n",
      "https://discussion.theguardian.com/comment-permalink/155170774\n",
      "https://profile.theguardian.com/user/id/104114488\n",
      "\n",
      "As soon as Putin's tanks rolled into Ukraine, our only option is to intervene militarily. Think about it.\n",
      "If our cowardly leaders continue to hide under their blankets, every evil dictatorial regime around the world, from **CHINA** to Iran, will become emboldened or, worse, united. It will then be just a matter of time before we will have to intervene militarily to help defend some other nation (Israel? Taiwan? Finland? South Korea? Sweden?).\n",
      "That scenario can be eliminated right now whilst we, the West, hold the upper hand. We have the military might and we are, currently, the only ones united. What we lack is the vision in our leadership to see that this is a critical juncture in human history unfolding right now. We mustn't wait for history books to tell us so.\n",
      "\n",
      "##MEREMORTAL\n",
      "https://discussion.theguardian.com/comment-permalink/155169721\n",
      "https://profile.theguardian.com/user/id/2679561\n",
      "\n",
      "Russia sells Oil, gas and wheat, but it doesn't really make any actual goods that the west buys. **CHINA** on the other hand makes a large proportion of them. It's interesting that they abstained in the UN the other day on the resolution condemning Russia. There are signs that they embraced Putin out of convenience and 'my enemy's enemy is my friend', but I doubt that they really support what he's doing, they will be weary of siding with such an obvious megalomaniacal charlatan, and will not want to face investment or trade boycotts. There is some hope that rather than emboldening them to grab Taiwan, this outrage and the enormous condemnation it has received, will make them more cautious.\n",
      "\n",
      "##SIMONGBROWN\n",
      "https://discussion.theguardian.com/comment-permalink/155172043\n",
      "https://profile.theguardian.com/user/id/17033359\n",
      "\n",
      "Yes, **CHINA** has supported similar regimes and tried to further the communist movement in Vietnam and Korea, but they did stop short of invading those countries. The one **CHINA** policy seems to be very strong among some politicians and blinds them to the idea that it might be possible for autonomous societies to co-exist, however, most countries resist breakaway states. The US, Spain, Yugoslavia used force to try to maintain one country... Portugal and many other countries went to war when their colonies tried to separate. The question is relative and whether **CHINA** has been more or less aggressive in invading other countries than Russia or key NATO members.\n",
      "\n",
      "##TRIBALGEOFF\n",
      "https://discussion.theguardian.com/comment-permalink/155171170\n",
      "https://profile.theguardian.com/user/id/10799070\n",
      "\n",
      "Not surprisingly this makes Russia and **CHINA** extremely nervous.\n",
      "Not surprisingly this makes NATO similarly nervous.Both **CHINA** and Russia are authoritarian states.\n",
      "Some strategists think that a limited nuclear war is possible depending on who gets their blows in first.\n",
      "Well they should have their heads examined. If they actually do exist.\n",
      "The thing is if the West actually did stand beside the Ukranians in Ukraine then we would be heading for a clash with a nuclear armed state.\n",
      "Yes that is what's happening. Have you read the newspapers?\n",
      "The West has no answers. What was the purpose of your post?\n",
      "\n",
      "##DAVIDSC83\n",
      "https://discussion.theguardian.com/comment-permalink/155172634\n",
      "https://profile.theguardian.com/user/id/10141458\n",
      "\n",
      "You're the one who doesn't get it. Human nature means that in any society unpleasant people are more likely to rise to the top than nice people, and the nice people who get there end up corrupted by power. At least in our system the checks and balances of free press, elections, courts etc. mean a leader's worst excesses can be curbed and they can be removed before they do too much damage, e.g.. Trump.\n",
      "Also, the Soviet union and **CHINA** in the past, and North Korea now, operated outside capitalism, and all those countries had long term leaders with horrendous human rights records.\n",
      "\n",
      "##WYRDSISTER\n",
      "https://discussion.theguardian.com/comment-permalink/155172075\n",
      "https://profile.theguardian.com/user/id/4111863\n",
      "\n",
      "What a pity little Brexit Britain has lately been falling over itself to secure trade deals with the likes of India and **CHINA** - both of whom have refused so far to condemn Putin. \n",
      "We urgently need to at least rejoin the single market. Russian money did not part-fund Brexit just for laughs. If Brexit means we are more reliant on dealing with **CHINA**, India or the US, which has the extremist Republican cult in the ascendancy, we will essentially have swapped Brussels bureaucracy for bullying intimidation and control by the worlds craziest, most violent men.\n",
      "\n",
      "##SERVIUSGALBA\n",
      "https://discussion.theguardian.com/comment-permalink/155169930\n",
      "https://profile.theguardian.com/user/id/11519627\n",
      "\n",
      "But the west is weak and it no longer has any values (at least the ruling political and cultural classes don't). We saw that with Justin Trudeau's treatment of the truckers. The west no longer believes in itself - we're constantly trashing and rewriting our own history and historical values. We don't spend anywhere near enough on defence. We (or at least our politicians) are lazy and cheap, we'd rather buy oil and gas from Russia and Saudi Arabia and our microchips from **CHINA** than making our own. And now comes the reckoning...\n",
      "\n",
      "##LIBERALVIEW\n",
      "https://discussion.theguardian.com/comment-permalink/155171371\n",
      "https://profile.theguardian.com/user/id/100469029\n",
      "\n",
      "How we act now will dictate whether or not our children will face a major war in their lifetimes. Russia needs a complete economic embargo. It is better we suffer economically now than risk losing the lives of our children in the future through war. And lose their lives they will if we treat Russia and **CHINA** placidly. **CHINA** must see from this crisis what the West is willing to do to protect it's democracy or it too will do what it wants. I think there will be a major war in the future unless we act as strongly as we can now.\n",
      "\n",
      "##SMELLTHECOFFEE101\n",
      "https://discussion.theguardian.com/comment-permalink/155172011\n",
      "https://profile.theguardian.com/user/id/10204723\n",
      "\n",
      "but they are not doing anything particularly new or unique\n",
      "\n",
      "Social media is relatively new and unique in that nothing like it existed before - the open access to it, the anonymity and the industrial scale targeting of by Russia (and **CHINA** etc) is very different to any propaganda channel the West faced in the cold war. \n",
      "The West still seems to cling to the delusion that social media content is 'authentic' and the truth will outweigh the lies and 'good will triumph' - wheras the reverse is true.\n",
      "\n",
      "##FERRYLIKE\n",
      "https://discussion.theguardian.com/comment-permalink/155170025\n",
      "https://profile.theguardian.com/user/id/17844397\n",
      "\n",
      "It perturbs me that Rawnsley speaks sweepingly of Russians and Chinese. Wars and atrocities the world over are intiated by psychologically and emotionally delinquent leaders and enacted by a deceived military. What we need is to find a way to ensure such lunatics do not acquire power.While we are on the subject although the UK is not Russia or **CHINA** let's not kid ourselves that our 'democracy' is in any way healthy when the majority of people do not get the representation that they vote for.\n",
      "\n",
      "##RITASUEANDBOB\n",
      "https://discussion.theguardian.com/comment-permalink/155171427\n",
      "https://profile.theguardian.com/user/id/2999618\n",
      "\n",
      "Spot on - middle eastern human rights abusers are no better. The age of dirty money has to end and not just in football.\n",
      "I honestly think this is the biggest test since of the west's values since world war 2. If it fails, freedom & democracy is in danger across the globe. Not just from Russia but from **CHINA** too and other autocrats, potentially from America depending on what happens after the next election.\n",
      "This is a scary, pivotal moment.\n",
      "\n",
      "##FROWNTANK\n",
      "https://discussion.theguardian.com/comment-permalink/155169968\n",
      "https://profile.theguardian.com/user/id/106766408\n",
      "\n",
      "Fast-track Sweden and Finland into NATO, should they want to joinEnsure every member is spending the minimum 2% on defenceDevelop a hypersonic capabilityA European Iron Dome defence would be nice, irrespective of arms treatiesAnd, obviously, move completely away from Russian oil and gas, and bring some manufacturing back from **CHINA** and Taiwan\n",
      "As the Tisdall article rightly states, it's time to stop tip-toeing around, and to act assertively.\n",
      "\n",
      "##KROPOTKIN72\n",
      "https://discussion.theguardian.com/comment-permalink/155173612\n",
      "https://profile.theguardian.com/user/id/15484688\n",
      "\n",
      "Putin was well aware of the moral vacuum that western politics and business have become. It was easy for him to put his pawns/influencers into the right places and buy his way towards accreditation in circles that matter (industries like energy, banking, insurance, transport). In America he had to play a different game, but America also fell for it, hook line and sinker.The same is happening with **CHINA**, on a much larger scale.\n",
      "\n",
      "##HENCHARD11\n",
      "https://discussion.theguardian.com/comment-permalink/155170234\n",
      "https://profile.theguardian.com/user/id/12711404\n",
      "\n",
      "Astute summary. In addition there is a very real danger of the autocracies in Russia and **CHINA** being joined by the United States in 2022 and 2024, owing to the mutation of its Republican Party into an extremist, anti-democratic, populist and strongman-worshipping force. The Democratic administration has been feeble, but this dire trajectory is down to two other ‘useful idiots’ above all: Democrat senators Manchin and Sinema.\n",
      "\n",
      "##BLUEJAY2011\n",
      "https://discussion.theguardian.com/comment-permalink/155172921\n",
      "https://profile.theguardian.com/user/id/4471993\n",
      "\n",
      "I agree. I've had enough of this defeatist crap that this century is for the authoritarians, that Russian aggression is somehow fine \"because Iraq\", or that the century belongs to **CHINA** because it's \"their turn\".\n",
      "As the Ukrainian's are showing us, it is possible to defend democracy. If we don't back them, then we will hear those air raid sirens over Warsaw and London one day, but it doesn't have to be this way.\n",
      "\n",
      "##SOUTHWESTVIEW\n",
      "https://discussion.theguardian.com/comment-permalink/155170659\n",
      "https://profile.theguardian.com/user/id/104615459\n",
      "\n",
      "Of course the West or more precisely western Europe is weak, it has been thus for centuries. We haven't even been able to defend ourselves against each other without outside intervention. Putin has made a complete horlicks of his vanity project but the Chinese are much more measured and unlikely to make the same errors - **CHINA** has effectively already won, we just don't acknowledge it yet.\n",
      "\n",
      "##MIDKENT\n",
      "https://discussion.theguardian.com/comment-permalink/155170805\n",
      "https://profile.theguardian.com/user/id/106802286\n",
      "\n",
      "An appalling sense of history. Ignoring Chinese involvement and backing in Korea and Vietnam. Border disputes with Indian, Tibetans might disagree about **CHINA**'s policy, as no doubt the majority of Hong Kong residents. Russia, Afghanistan and backing through Cuba decades ago for military adventures in South America and Africa.\n",
      "\n",
      "##PBODDIE\n",
      "https://discussion.theguardian.com/comment-permalink/155172336\n",
      "https://profile.theguardian.com/user/id/17390522\n",
      "\n",
      "Yes, **CHINA** has supported similar regimes and tried to further the communist movement in Vietnam and Korea, but they did stop short of invading those countries.\n",
      "\n",
      "The Sino-Vietnamese War means nothing to you, then? And I suppose PRC troops were never involved in the Korean War, either.\n",
      "\n",
      "##SAVEASFILE\n",
      "https://discussion.theguardian.com/comment-permalink/155173603\n",
      "https://profile.theguardian.com/user/id/107009291\n",
      "\n",
      "You get it.The old westerner imperialists are about to be taken down by Russia and **CHINA**, mostly the AngloAmerican fascists.I hope the EU realises that they need to tell the Anglo-Americans to F off out if Europe...or they will be simply cannon fodder in the incoming global war.\n",
      "\n",
      "##CHASHURLEY\n",
      "https://discussion.theguardian.com/comment-permalink/155171786\n",
      "https://profile.theguardian.com/user/id/1597522\n",
      "\n",
      "“It is a struggle between the democracies and an axis of autocracies led by **CHINA** and Russia who seek to impose their authoritarian systems not only on their own populations, but on people beyond their borders.”\n",
      "One omission, Mr Rawnsley: corporate unaccountable organisations.\n",
      "\n",
      "##UNDERYOURHAT\n",
      "https://discussion.theguardian.com/comment-permalink/155173574\n",
      "https://profile.theguardian.com/user/id/105354852\n",
      "\n",
      "Ultimately **CHINA** does not like to see the UN System, in particular the UN Charter, abused to an extent where a war may not only be percieved as illegal, but be judged as illegal in international law. Unlike Russia **CHINA** really does care about its global reputation.\n",
      "\n",
      "##TIM1960\n",
      "https://discussion.theguardian.com/comment-permalink/155171399\n",
      "https://profile.theguardian.com/user/id/3638105\n",
      "\n",
      "Liberal democracies should be the social conscience of the World, why not? But not overlord, and policeman only in the sense of keeping the peace and trying to eliminate multinational criminal activity. \n",
      "The UN is hamstrung because both Russia and **CHINA** have a veto.\n",
      "\n",
      "##SEELIFEDIFFERENTLY\n",
      "https://discussion.theguardian.com/comment-permalink/155173231\n",
      "https://profile.theguardian.com/user/id/12214978\n",
      "\n",
      "Any and all superpowers want to exert their own systems and principles and mechanisms onto other countries...that's just the way it's always been. \n",
      "Yet America isn't **CHINA** or Russia or North Korea where true authoritarian rules apply.\n",
      "\n",
      "##JOEROBSON\n",
      "https://discussion.theguardian.com/comment-permalink/155170178\n",
      "https://profile.theguardian.com/user/id/101840578\n",
      "\n",
      "**CHINA** will lose vast investments and enormous trade if it invades Taiwan. IF the leadership thought that severe economic hardship would lead to massive civil unrest, then that's what would temper any thoughts of invading Taiwan.\n",
      "\n",
      "##CACHE2\n",
      "https://discussion.theguardian.com/comment-permalink/155173061\n",
      "https://profile.theguardian.com/user/id/16457923\n",
      "\n",
      "led by **CHINA** and Russia who seek to impose their authoritarian systems not only on their own populations, but on people beyond their borders.\n",
      "Yet America leads the world in imposing its authoritarian systems overtly and covertly.\n",
      "\n",
      "##DIOGENESPITHOS\n",
      "https://discussion.theguardian.com/comment-permalink/155171852\n",
      "https://profile.theguardian.com/user/id/15488791\n",
      "\n",
      "The more the twenty-first century progresses, the more eerie Orwell's predictions become. Today's superpowers of US, Russia and **CHINA**. Tomorrow's totalitarian states of Oceania, Eurasia and East Asia?\n",
      "\n",
      "##THEREALCMDRGRAVY\n",
      "https://discussion.theguardian.com/comment-permalink/155172937\n",
      "https://profile.theguardian.com/user/id/4054172\n",
      "\n",
      "We already spend slightly more on defence than Russia does. We spend more on defence in real terms than most other countries with the exception of **CHINA**, the US and India.\n",
      "\n",
      "##JOEROBSON\n",
      "https://discussion.theguardian.com/comment-permalink/155169828\n",
      "https://profile.theguardian.com/user/id/101840578\n",
      "\n",
      "When you pay Russia (or **CHINA**) for your \"stuff\" you are paying them to make weapons targeted at you. It's almost as bad as accepting Russian / Chinese cash to do their will.\n",
      "\n",
      "##OLDSYNNER\n",
      "https://discussion.theguardian.com/comment-permalink/155172000\n",
      "https://profile.theguardian.com/user/id/12869005\n",
      "\n",
      "Indeed, and a similar argument can be made about the consequences of \"us\" transferring most of our manufacturing to **CHINA**. Not that \"we\" had any say in this.\n",
      "\n",
      "##GEDW23\n",
      "https://discussion.theguardian.com/comment-permalink/155170648\n",
      "https://profile.theguardian.com/user/id/18539848\n",
      "\n",
      "The problem is that what goes for dependence on Russia with energy & filthy leuchar goes x1000 with dependence on **CHINA** for electronics & manufactured goods\n",
      "\n",
      "##DAVE5426546\n",
      "https://discussion.theguardian.com/comment-permalink/155171341\n",
      "https://profile.theguardian.com/user/id/107112197\n",
      "\n",
      "Because **CHINA** could not make it clearer that it intends in the not so distant future to invade Taiwan,\n",
      "\n",
      "They've been making that threat since 1950.\n",
      "\n",
      "##SOUTHWESTVIEW\n",
      "https://discussion.theguardian.com/comment-permalink/155170727\n",
      "https://profile.theguardian.com/user/id/104615459\n",
      "\n",
      "Why should NATO determine what sort of world we want? I suspect that **CHINA** and India, with a third of the world population will have an opinion.\n",
      "\n",
      "##PACKC47\n",
      "https://discussion.theguardian.com/comment-permalink/155171725\n",
      "https://profile.theguardian.com/user/id/3786343\n",
      "\n",
      "I would rather buy stuff from **CHINA** . They will think twice before trashing their own lucrative market place.\n",
      "\n",
      "##WILTSBLOKE\n",
      "https://discussion.theguardian.com/comment-permalink/155172330\n",
      "https://profile.theguardian.com/user/id/15676955\n",
      "\n",
      "Calm down **CHINA** has already captured Hinkley Point and handed it over to the French.\n",
      "\n",
      "##SMURPH123\n",
      "https://discussion.theguardian.com/comment-permalink/155172453\n",
      "https://profile.theguardian.com/user/id/105566772\n",
      "\n",
      "\"two new aircraft carriers for a reason\"Target practice for **CHINA**?\n",
      "\n",
      "##APINT4ME\n",
      "https://discussion.theguardian.com/comment-permalink/155172128\n",
      "https://profile.theguardian.com/user/id/2934372\n",
      "\n",
      "Indeed. Putin's nationalistic stupidity is a win win for Xi's **CHINA**.\n"
     ]
    }
   ],
   "source": [
    "target = 'decolon'\n",
    "target = 'science'\n",
    "target = 'irish'\n",
    "target = 'mandela'\n",
    "target = 'abolit'\n",
    "target = 'china'\n",
    "\n",
    "\n",
    "xx = [x for x in all_comments if target.lower() in x.lower() and  len(x) > 20]\n",
    "yy = [x for x in all_comments if '#pin' in x.lower() and 2000 > len(x) > 20]\n",
    "\n",
    "#print('\\n\\n'.join( ['\\n\\n'.join(x) for x in zip(xx,yy)])  )\n",
    "\n",
    "#print( '\\n\\n'.join(xx).replace(target, ) )\n",
    "pxx = re.compile(target, re.I)\n",
    "print( pxx.sub('**' + target.upper() + '**', \n",
    "              '\\n\\n'.join(xx)) )\n",
    "               \n",
    "#print( '\\n\\n'.join(xx) )\n"
   ]
  },
  {
   "cell_type": "code",
   "execution_count": 20,
   "metadata": {},
   "outputs": [
    {
     "data": {
      "text/plain": [
       "0.7820401046207497"
      ]
     },
     "execution_count": 20,
     "metadata": {},
     "output_type": "execute_result"
    }
   ],
   "source": [
    "(26/31) / (74/69)"
   ]
  },
  {
   "cell_type": "code",
   "execution_count": 64,
   "metadata": {},
   "outputs": [
    {
     "data": {
      "text/plain": [
       "529"
      ]
     },
     "execution_count": 64,
     "metadata": {},
     "output_type": "execute_result"
    }
   ],
   "source": [
    "23**2"
   ]
  },
  {
   "cell_type": "markdown",
   "metadata": {},
   "source": [
    "## "
   ]
  },
  {
   "cell_type": "code",
   "execution_count": 21,
   "metadata": {},
   "outputs": [
    {
     "data": {
      "text/plain": [
       "211"
      ]
     },
     "execution_count": 21,
     "metadata": {},
     "output_type": "execute_result"
    }
   ],
   "source": [
    "84 + 127"
   ]
  },
  {
   "cell_type": "code",
   "execution_count": 24,
   "metadata": {},
   "outputs": [
    {
     "data": {
      "text/plain": [
       "1.2842073077511085"
      ]
     },
     "execution_count": 24,
     "metadata": {},
     "output_type": "execute_result"
    }
   ],
   "source": [
    "84/211/.31"
   ]
  },
  {
   "cell_type": "code",
   "execution_count": 25,
   "metadata": {},
   "outputs": [
    {
     "data": {
      "text/plain": [
       "0.8723126588364586"
      ]
     },
     "execution_count": 25,
     "metadata": {},
     "output_type": "execute_result"
    }
   ],
   "source": [
    "127/211/.69"
   ]
  },
  {
   "cell_type": "code",
   "execution_count": 26,
   "metadata": {},
   "outputs": [
    {
     "data": {
      "text/plain": [
       "1.471264367816092"
      ]
     },
     "execution_count": 26,
     "metadata": {},
     "output_type": "execute_result"
    }
   ],
   "source": [
    "1.28/.87"
   ]
  },
  {
   "cell_type": "code",
   "execution_count": null,
   "metadata": {},
   "outputs": [],
   "source": []
  }
 ],
 "metadata": {
  "kernelspec": {
   "display_name": "NLP",
   "language": "python",
   "name": "nlp"
  },
  "language_info": {
   "codemirror_mode": {
    "name": "ipython",
    "version": 3
   },
   "file_extension": ".py",
   "mimetype": "text/x-python",
   "name": "python",
   "nbconvert_exporter": "python",
   "pygments_lexer": "ipython3",
   "version": "3.8.5"
  },
  "widgets": {
   "application/vnd.jupyter.widget-state+json": {
    "state": {},
    "version_major": 2,
    "version_minor": 0
   }
  }
 },
 "nbformat": 4,
 "nbformat_minor": 4
}
