{
 "cells": [
  {
   "cell_type": "raw",
   "metadata": {},
   "source": [
    "# Basic scraping for Guardian discussions u"
   ]
  },
  {
   "cell_type": "code",
   "execution_count": 1,
   "metadata": {},
   "outputs": [
    {
     "name": "stdout",
     "output_type": "stream",
     "text": [
      "[master 01b461f] web\n",
      " 1 file changed, 2373 insertions(+), 1017 deletions(-)\n",
      " rewrite guardian comments scraper.ipynb (61%)\n",
      "remote: Support for password authentication was removed on August 13, 2021. Please use a personal access token instead.\n",
      "remote: Please see https://github.blog/2020-12-15-token-authentication-requirements-for-git-operations/ for more information.\n",
      "fatal: unable to access 'https://github.com/macbuse/GUARDIAN.git/': The requested URL returned error: 403\n"
     ]
    }
   ],
   "source": [
    "! ./.g\n"
   ]
  },
  {
   "cell_type": "code",
   "execution_count": 59,
   "metadata": {},
   "outputs": [],
   "source": [
    "with open('guardian comments scraper.ipynb','r') as fp:\n",
    "    nb = fp.read()"
   ]
  },
  {
   "cell_type": "code",
   "execution_count": 60,
   "metadata": {},
   "outputs": [],
   "source": [
    "import re\n",
    "\n",
    "pp = re.compile(\"(https://www.the.*?)'\")\n",
    "lks = pp.findall(nb)\n",
    "\n",
    "with open('links.txt','a') as fp:\n",
    "    fp.write('\\n'.join(lks))"
   ]
  },
  {
   "cell_type": "code",
   "execution_count": 1,
   "metadata": {},
   "outputs": [],
   "source": [
    "import re \n",
    "import requests\n",
    "import pickle\n",
    "import json"
   ]
  },
  {
   "cell_type": "code",
   "execution_count": 9,
   "metadata": {},
   "outputs": [],
   "source": [
    "article_url = 'https://www.theguardian.com/commentisfree/2020/aug/19/ditch-the-algorithm-generation-students-a-levels-politics'\n",
    "article_url = 'https://www.theguardian.com/commentisfree/2020/aug/21/joe-biden-democrat-convention-nice-guy-trump-fight'\n",
    "article_url = 'https://www.theguardian.com/commentisfree/2020/aug/23/the-cruel-exams-algorithm-has-laid-bare-the-unfairness-at-the-heart-of-our-schools'\n",
    "article_url = 'https://www.theguardian.com/commentisfree/2020/sep/01/us-mainstream-right-vigilante-terror'\n",
    "article_url = 'https://www.theguardian.com/commentisfree/2020/aug/31/politicians-covid-19-statistics-statisticians'\n",
    "article_url = 'https://www.theguardian.com/commentisfree/2021/apr/14/boris-johnson-is-telling-scotland-that-the-union-is-no-longer-based-on-consent'\n",
    "article_url = 'https://www.theguardian.com/commentisfree/2021/may/10/retail-politics-movements-polarising-projects-promise'"
   ]
  },
  {
   "cell_type": "code",
   "execution_count": 11,
   "metadata": {},
   "outputs": [],
   "source": [
    "article_url = 'https://www.theguardian.com/commentisfree/2020/sep/29/rival-scientists-lockdowns-scientific-covid-19'\n",
    "article_url = 'https://www.theguardian.com/commentisfree/2020/oct/08/johnson-and-sturgeon-will-need-a-better-philosophy-than-precaution-to-rid-us-of-covid'\n",
    "article_url = 'https://www.theguardian.com/commentisfree/2020/oct/10/continual-local-lockdowns-answer-covid-control'\n",
    "article_url = 'https://www.theguardian.com/commentisfree/2020/oct/11/the-rebel-scientists-cause-would-be-more-persuasive-if-it-werent-so-half-baked'\n",
    "\n",
    "article_url = 'https://www.theguardian.com/commentisfree/2021/apr/03/undermining-the-astrazeneca-jab-is-a-dangerous-act-of-political-folly#comment-148440261'\n",
    "article_url = 'https://www.theguardian.com/commentisfree/2021/apr/09/boris-johnson-brexit-belfast-violence-eu-good-friday-agreement'\n",
    "article_url ='https://www.theguardian.com/commentisfree/2021/apr/02/culture-war-government-race-report'\n",
    "article_url = 'https://www.theguardian.com/commentisfree/2021/mar/18/britain-sunny-vaccine-optimism-april-delivery-delay'\n",
    "article_url ='https://www.theguardian.com/commentisfree/2021/apr/14/boris-johnson-is-telling-scotland-that-the-union-is-no-longer-based-on-consent'\n",
    "article_url = 'https://www.theguardian.com/commentisfree/2021/apr/15/britain-harness-social-sciences-covid-pandemic-deprivation'\n",
    "article_url = 'https://www.theguardian.com/commentisfree/2021/apr/16/government-race-report-evidence#comment-148662066'\n",
    "article_url ='https://www.theguardian.com/commentisfree/2021/apr/20/britain-falling-birthrate-covid-pandemic-conservatives-removed-support-for-parents'\n",
    "article_url = 'https://www.theguardian.com/commentisfree/2021/apr/21/bmi-eating-disorder-pandemic-treatment'\n",
    "article_url = 'https://www.theguardian.com/commentisfree/2021/apr/30/government-delays-covid-public-inquiry-health-crisis'\n",
    "article_url = 'https://www.theguardian.com/commentisfree/2021/may/07/humiliation-hartlepool-smalltown-detective-di-starmer'\n",
    "article_url ='https://www.theguardian.com/commentisfree/2021/aug/06/uk-government-experts-vaccinating-under-16s'\n",
    "article_url = 'https://www.theguardian.com/commentisfree/2021/aug/01/there-is-a-case-for-vaccine-passports-but-ministers-are-failing-to-make-it'\n",
    "article_url = 'https://www.theguardian.com/commentisfree/2021/aug/09/america-is-flying-blind-when-it-comes-to-the-delta-variant'\n",
    "article_url = 'https://www.theguardian.com/commentisfree/2021/aug/10/covid-vaccines-britain-scientific-solution-jabs'\n",
    "article_url = 'https://www.theguardian.com/commentisfree/2021/aug/13/denial-anti-vaxxers-climate-sceptics'\n",
    "article_url = 'https://www.theguardian.com/commentisfree/2018/apr/11/bbc-andrew-neil-media-politics'\n",
    "\n",
    "article_url = 'https://www.theguardian.com/commentisfree/2021/aug/15/vaccine-passports-are-less-a-threat-to-liberty-than-a-mark-of-solidarity'\n",
    "article_url = 'https://www.theguardian.com/theobserver/commentisfree/2021/aug/14/will-we-reach-herd-immunity-for-the-new-coronavirus'\n",
    "article_url = 'https://www.theguardian.com/commentisfree/2021/aug/15/vaccine-hesitancy-broken-relationship-state-conspiracy-theorists'\n",
    "article_url = 'https://www.theguardian.com/commentisfree/2021/aug/17/dominic-raab-news-foreign-secretary-taliban-kabul'\n",
    "article_url= 'https://www.theguardian.com/commentisfree/2021/dec/11/so-which-of-these-politicians-is-a-neoliberal-not-one-of-them'\n",
    "\n",
    "article_url = 'https://www.theguardian.com/commentisfree/2021/dec/12/omicron-is-sneaky-it-could-be-fatal-for-us-or-for-our-faith-in-government'"
   ]
  },
  {
   "cell_type": "code",
   "execution_count": 2,
   "metadata": {},
   "outputs": [],
   "source": [
    "article_url ='https://www.theguardian.com/commentisfree/2021/dec/06/google-silicon-valley-ai-timnit-gebru'"
   ]
  },
  {
   "cell_type": "code",
   "execution_count": null,
   "metadata": {},
   "outputs": [],
   "source": [
    "\n",
    "\n",
    "key = my_keys.keys['guardian']"
   ]
  },
  {
   "cell_type": "code",
   "execution_count": 3,
   "metadata": {},
   "outputs": [
    {
     "name": "stdout",
     "output_type": "stream",
     "text": [
      "/p/jz8nk\n",
      "getting comments page no. 1\n",
      "there are 2 pages\n",
      "getting comments page no. 2\n",
      "archiving to jz8nk.pkl\n"
     ]
    }
   ],
   "source": [
    "#scrape the page and get the short url\n",
    "# 15/8/21  this failed and gave /p/temp\n",
    "short_url_pp =  re.compile('\"shortUrlId\":\"(.*?)\"')\n",
    "\n",
    "r = requests.get(article_url)\n",
    "mm = short_url_pp.search(r.text)\n",
    "short_url = mm.group(1)\n",
    "uu = r.text\n",
    "print(short_url)\n",
    "\n",
    "#the short url allows us to access the discussion\n",
    "# 15/8/21 api.nextgen.guardianapps.co.uk/discussion/ failed on \n",
    "# https://discussion.theguardian.com/discussion-api/discussion/p/tfmxg\n",
    "comments_url = 'https://api.nextgen.guardianapps.co.uk/discussion/%s.json'%short_url\n",
    "params = {'orderBy' : 'newest',\n",
    "          'pageSize' : 25,\n",
    "          'displayThreaded' : 'true',\n",
    "          'commentsClosed' : 'false',\n",
    "          'page' : '',\n",
    "          'maxResponses' : 50\n",
    "         }\n",
    "\n",
    "json_data =  []\n",
    "start_page  = 1\n",
    "last_page = None\n",
    "\n",
    "\n",
    "for num_page in range(start_page, 10**4):\n",
    "    print('getting comments page no.', num_page)\n",
    "    params['page'] = num_page\n",
    "    r = requests.get( comments_url, params=params)\n",
    "    json_data.append( r.text)\n",
    "    #The last page is a field in the json object\n",
    "    #I don't need to read this as json I could do a regexp\n",
    "    if num_page == start_page:\n",
    "        json_dict = json.loads(r.text)\n",
    "        last_page = json_dict['lastPage']\n",
    "        print('there are %d pages'%last_page)\n",
    "    if num_page == last_page : break\n",
    "        \n",
    "\n",
    "fn = '%s.pkl'%short_url.split('/')[-1]\n",
    "print('archiving to %s'%fn)\n",
    "with open(fn,'wb') as fp:\n",
    "    pickle.dump(json_data,fp)"
   ]
  },
  {
   "cell_type": "code",
   "execution_count": 3,
   "metadata": {},
   "outputs": [
    {
     "name": "stdout",
     "output_type": "stream",
     "text": [
      " 8djv8.pkl        gn7h4.pkl                            links_2020_8.txt\n",
      " 94f6b.pkl        goose_test_editorialis_miner.ipynb   links.txt\n",
      " afuahirsch.csv  'guardian api and comments.ipynb'     matplotlib.ipynb\n",
      " edt72.pkl        guardian_api_prod.ipynb              \u001b[0m\u001b[01;35mNone0000000.png\u001b[0m\n",
      " eghyd.pkl       'guardian comments scraper.ipynb'     owen-jones.csv\n",
      " egqhf.pkl        guardian_extractor.ipynb             quad_forms.ipynb\n",
      " ej7f5.pkl        guardian_nlp.ipynb                   README.md\n",
      " ejdxt.pkl        guardian_photo.ipynb                 tbca8.pkl\n",
      " et8zg.pkl        h2tzt.pkl                            tdvxp.pkl\n",
      " etenk.pkl        h44zn.pkl                            te5tn.pkl\n",
      " eyhx8.pkl        h452h.pkl                            tedzk.pkl\n",
      " eytkx.pkl        h4cq2.pkl                            tfmxg.pkl\n",
      " f3ke9.pkl        h5j4n.pkl                            tfy7d.pkl\n",
      " f4a3q.pkl        h6v39.pkl                            tgaxq.pkl\n",
      " f4vfe.pkl        h8qmd.pkl                            tgqq8.pkl\n",
      " failed.txt       hbc2e.pkl                            tgxqd.pkl\n",
      " femicides2.csv   hbe5y.pkl                            transgender.csv\n",
      " femicides3.csv   hvg6j.pkl                            \u001b[01;35mtt.jpg\u001b[0m\n",
      " femicides.csv    hvpq8.pkl                            \u001b[01;35mtt.png\u001b[0m\n",
      " fvkbb.pkl        liberation_femicide.ipynb\n"
     ]
    }
   ],
   "source": [
    "ls"
   ]
  },
  {
   "cell_type": "code",
   "execution_count": 8,
   "metadata": {},
   "outputs": [],
   "source": [
    "json_data = pickle.load(open('tgqq8.pkl','rb'))\n"
   ]
  },
  {
   "cell_type": "markdown",
   "metadata": {},
   "source": [
    "## remember each page of comments has been stored separately"
   ]
  },
  {
   "cell_type": "code",
   "execution_count": 9,
   "metadata": {},
   "outputs": [
    {
     "data": {
      "text/plain": [
       "31"
      ]
     },
     "execution_count": 9,
     "metadata": {},
     "output_type": "execute_result"
    }
   ],
   "source": [
    "dd = json.loads(json_data[0])\n",
    "len(json_data)"
   ]
  },
  {
   "cell_type": "code",
   "execution_count": 4,
   "metadata": {},
   "outputs": [
    {
     "data": {
      "text/plain": [
       "dict_keys(['postedCommentHtml', 'commentsHtml', 'commentCount', 'refreshStatus', 'lastPage', 'paginationHtml'])"
      ]
     },
     "execution_count": 4,
     "metadata": {},
     "output_type": "execute_result"
    }
   ],
   "source": [
    "xx = json.loads(json_data[0])\n",
    "xx.keys()"
   ]
  },
  {
   "cell_type": "code",
   "execution_count": 136,
   "metadata": {},
   "outputs": [
    {
     "name": "stdout",
     "output_type": "stream",
     "text": [
      " class=\"d-comment\n",
      "            d-comment--top-level\"\n",
      "           id=\"comment-144422422\"\n",
      "           data-comment-id=\"144422422\"\n",
      "           data-comment-author=\"Hushing\"\n",
      "           data-comment-replies=\"0\"\n",
      "           data-comment-timestamp=\"2020-10-11T14:25:06.000+01:00\"\n",
      "           data-comment-author-id=\"12407494\"\n",
      "           data-comment-highlighted=\"false\"\n",
      "           itemscope itemtype=\"http://schema.org/Comment\">\n",
      "\n",
      "    <div class=\"d-comment__inner d-comment__inner--top-level\">\n",
      "        <div class=\"\n"
     ]
    }
   ],
   "source": [
    "print( xx['commentsHtml'][200:700])"
   ]
  },
  {
   "cell_type": "code",
   "execution_count": 16,
   "metadata": {},
   "outputs": [],
   "source": [
    "pa = re.compile('data-comment-author=\"(.*?)\"')\n",
    "pid = re.compile('data-comment-author-id=\"(\\d+)')\n",
    "pcid = re.compile('\\sid=\"comment-(.*?)\"')\n",
    "pp = re.compile('<li class=\"d-comment(.*?)>',re.DOTALL)\n",
    "\n",
    "auths = []\n",
    "md = []\n",
    "for xx in json_data:\n",
    "    hh = json.loads(xx)['commentsHtml']\n",
    "    auths.extend(list( zip(pa.findall(hh), \n",
    "                           pid.findall(hh)\n",
    "                          )))\n",
    "    md.extend(pp.findall(hh))\n",
    "\n",
    "auths = list(set(auths))\n",
    "auths.sort(key=lambda x : x[0].lower())\n"
   ]
  },
  {
   "cell_type": "code",
   "execution_count": 102,
   "metadata": {},
   "outputs": [],
   "source": [
    "#print( '\\n'.join([x for x in md if 'pinkie' in x.lower()]))"
   ]
  },
  {
   "cell_type": "markdown",
   "metadata": {},
   "source": [
    "https://discussion.theguardian.com/comment-permalink/144375739"
   ]
  },
  {
   "cell_type": "code",
   "execution_count": 8,
   "metadata": {},
   "outputs": [],
   "source": [
    "auths = dict(auths)"
   ]
  },
  {
   "cell_type": "code",
   "execution_count": 9,
   "metadata": {},
   "outputs": [
    {
     "data": {
      "text/plain": [
       "'https://api.nextgen.guardianapps.co.uk/discussion//p/hvpq8.json'"
      ]
     },
     "execution_count": 9,
     "metadata": {},
     "output_type": "execute_result"
    }
   ],
   "source": [
    "comments_url"
   ]
  },
  {
   "cell_type": "code",
   "execution_count": 4,
   "metadata": {},
   "outputs": [],
   "source": [
    "\n",
    "from bs4 import BeautifulSoup\n",
    "\n",
    "def html2comments(x):\n",
    "    tt = json.loads(x)\n",
    "    soup = BeautifulSoup(tt['commentsHtml'],  \"lxml\")\n",
    "    raw = [ comment.text for comment in  \n",
    "            soup.findAll('div', {'class' : \"d-comment__body\"}) ]\n",
    "    \n",
    "    metadata = soup.findAll('span', {'class' : \"d-comment__author\"})\n",
    "    \n",
    "    \n",
    "    auth = [ x.text.upper().strip() for x in metadata]\n",
    "    auth_id = [ x.find('a')['href'] for x in metadata]\n",
    "    #this was a pain to do really\n",
    "    #the problem is blocked comments\n",
    "    comment_id = [ x['id'][len('comment-'):] for x in soup.findAll('li')]\n",
    " \n",
    "    \n",
    "    ss = '##{}\\nhttps://discussion.theguardian.com/comment-permalink/{}\\n{}\\n\\n{}'\n",
    "    return [ ss.format(a,b,d,c.strip())  \n",
    "                   for a,b,d,c in zip(auth, comment_id, auth_id, raw)]\n",
    "     \n",
    "all_texts = [ html2comments(page) for page in json_data[:] ]\n",
    "\n",
    "\n",
    "from itertools import chain\n",
    "all_comments = list(chain.from_iterable(all_texts))\n",
    "    "
   ]
  },
  {
   "cell_type": "markdown",
   "metadata": {},
   "source": [
    "# Random data hacking"
   ]
  },
  {
   "cell_type": "code",
   "execution_count": 5,
   "metadata": {
    "scrolled": true
   },
   "outputs": [
    {
     "data": {
      "text/plain": [
       "[('##ONETONOFMETAL', 12),\n",
       " ('##BASEBALLISBEST', 10),\n",
       " ('##3RDCLASSPHYSICIST', 8),\n",
       " ('##MINTAKA', 6),\n",
       " ('##MARKBLR', 5),\n",
       " ('##DEKEDEKE', 5),\n",
       " ('##VERETO', 5),\n",
       " ('##STILLGRIZZLY', 5)]"
      ]
     },
     "execution_count": 5,
     "metadata": {},
     "output_type": "execute_result"
    }
   ],
   "source": [
    "A = [x.split('\\n')[0] for x in all_comments]\n",
    "from collections import Counter\n",
    "AN = Counter(A)\n",
    "sorted([(x,y) for x,y in AN.items() if y > 4], key=lambda x : -x[1]) "
   ]
  },
  {
   "cell_type": "code",
   "execution_count": 15,
   "metadata": {},
   "outputs": [
    {
     "name": "stdout",
     "output_type": "stream",
     "text": [
      "[master d2e0e21] web\n",
      " 2 files changed, 117 insertions(+), 437 deletions(-)\n",
      " create mode 100644 kvf22.pkl\n",
      "Enumerating objects: 6, done.\n",
      "Counting objects: 100% (6/6), done.\n",
      "Delta compression using up to 4 threads\n",
      "Compressing objects: 100% (4/4), done.\n",
      "Writing objects: 100% (4/4), 368.09 KiB | 1.38 MiB/s, done.\n",
      "Total 4 (delta 2), reused 0 (delta 0)\n",
      "remote: Resolving deltas: 100% (2/2), completed with 2 local objects.\u001b[K\n",
      "To https://github.com/macbuse/GUARDIAN.git\n",
      "   d397016..d2e0e21  master -> master\n"
     ]
    }
   ],
   "source": [
    "! ./.g\n"
   ]
  },
  {
   "cell_type": "code",
   "execution_count": 7,
   "metadata": {},
   "outputs": [
    {
     "name": "stdout",
     "output_type": "stream",
     "text": [
      "##SUPERSTRIKER\n",
      "https://discussion.theguardian.com/comment-permalink/153639318\n",
      "https://profile.theguardian.com/user/id/104468511\n",
      "\n",
      "I think we all know what a neo liberal is those opposed to government intervention, on economic or broad social grounds. Thatcher and Reagan fall into that category, even if few of their policies where neo liberal. They set the ball rolling for the neo liberals who came after them. Thatcher sold off the council houses that neo liberals policies use to drive millions into the yokes for the rentier class to live of their backs. Private rent tenants have their noses held to the grindwheel lest they fall into arrears and eviction.\n",
      "Tony Blair? Not so much. Cameron? A fucking halfwit, but a full frontal attack on the welfare state saw the rise of food banks, homelessness and a general hatred of those ousted out of the labour market. Sure tools to drive the neo liberal agenda.\n",
      "The fact that some I'll informed people use the term as a catchall insult in the same way the idiotic Right use the term socialist or Marxist does not mean their is no legitimate use of the term.\n"
     ]
    }
   ],
   "source": [
    "print(all_comments[0])"
   ]
  },
  {
   "cell_type": "code",
   "execution_count": 6,
   "metadata": {},
   "outputs": [
    {
     "name": "stdout",
     "output_type": "stream",
     "text": [
      "##KEDARB\n",
      "https://discussion.theguardian.com/comment-permalink/153522222\n",
      "https://profile.theguardian.com/user/id/2934342\n",
      "\n",
      "The immediate effects of unchecked misinformation, hate speech and “alternative facts” on social media have been devastating.\n",
      "\n",
      "As opposed to the deliberate long-term effects of checked misinformation, hate speech, and \"verified facts\" by the traditional media. Which can be equally or more devastating. Most people know that social media is like a cocktail talk. You might get the truth or lies. It is up to us the individuals to determine wheat from chaff. On the other hand many reasonable and intelligent people place a bigger trust in traditional media. To them they are mostly people of integrity who would be writing the truth. When such people lie the effects of misinformation is worse.\n",
      "Humans especially in politics have been lying since the beginning of time. Even before social media was even conceived we had all sorts of lies and misinformation. The Black Hole of Calcutta, the sinking of Maine, Vietnam War just to name a few. Today also traditional media tries to fudge facts and lie except there is social media with alternative facts to give the other side. I don't know much about the Ethiopian Civil War and its politics so can't substantiate or refute the author's assertions. However, on issues related to India and the US I have seen double-standards galore. Be it Kashmir, CAA, Rohingya and Myanmar, voting rights in the US; the traditional especially the British Media have been pushing only type of version.\n",
      "\n",
      "##IRUKA\n",
      "https://discussion.theguardian.com/comment-permalink/153523028\n",
      "https://profile.theguardian.com/user/id/3276335\n",
      "\n",
      "You might as well try to change the behaviour of a parasitic wasp as try to transform corporations into ethically compliant beings. They're defined by their sociopathy, which is constantly sharpened by the market forces that corporations have to obey, and that they shape in turn: Markets and the market actors in them are reciprocally defining, and so defining ever purer forms of sociopathy\n",
      "The only alternative to a future defined by the ends of ever-larger, ever-more-perfectly-sociopathic corporations, or a future defined by clumsy efforts by governments to usurp the power of corporations, inevitably leading to an oppression that reflects nothing so much as their sad failure in doinf the job, is exactly what Timnit Gebru suggests: \"communities building technology that genuinely benefits them\".\n",
      "And the only way to achieve that is to disassemble government and the power of capital, and hand it over to local polities and - more important - to democratically controlled workplaces. \n",
      "Possibly a hopeless goal - but that doesn't change the fact that it is the only alternative to the inexorable extinguishing of democracy in any meaningful sense - the only question being whether that happens before the climate crisis that corporations and governments will never face up to leads to the collapse of civilisation..\n",
      "\n",
      "##REGBULL\n",
      "https://discussion.theguardian.com/comment-permalink/153514976\n",
      "https://profile.theguardian.com/user/id/15769879\n",
      "\n",
      "Good to see you speaking out once again Timnit, and some very good suggestions you've put forward. As a cynic however, I get the feeling that whatever AI horrors an unregulated, monopolised silicon valley might put forward, they may well have more upsides in the long run than any regulations placed on them by right wing, populistic realpolitik. \n",
      "I think the best solution here is for more people like you, coming from within the field to speak out and take action against practices and trends that you believe to be harmful. Ultimately, it's really the brain power that creates the research and implements it who have the biggest say in terms of where it goes and how it's used, not the profit hungry owners, execs and shareholders, nor the government officials who have been bought and paid for, nor the ignorant, easily led masses. I think recent protest efforts by Google and Facebook employees have shown the power of this method, and I think formally organising it through unions is the best way to go. Seriously, some kind of national, even global, democratically run union of engineers, computer scientists and mathematicians all working within the machine learning space is the best option for humanity as a whole.\n",
      "\n",
      "##MINTAKA\n",
      "https://discussion.theguardian.com/comment-permalink/153518060\n",
      "https://profile.theguardian.com/user/id/2169435\n",
      "\n",
      "I agree with Vereto. There is no alternative to using AI, at least as part of the process of filtering content. AI could do the preliminary flagging up of material for a human to look at, but there is simply no way a human can go through the volume of content on these site.\n",
      "The bigger issue is that, while both humans and AI can spot hate speech relatively easily, they cannot verify what is or isn't hate speech. People from an often vilified minority are accused of child sexual abuse - genuine news or fake news intended to stir up violence against them? \n",
      "One solution would be to remove all potentially inflammatory news, including genuine news, from social media on the grounds that such news should only be publishable by accountable organisations and not by anonymous sources. The downside is that it effectively bans citizen journalism in dictatorships and means that the only news that gets out is what the ruling regime allows.\n",
      "It is really difficult to come up with good general rules for regulating content. But in the context of the specific example alluded to in the article ATL, it very clearly appears that Facebook was hugely irresponsible.\n",
      "\n",
      "##ADORABLEPRIMATE\n",
      "https://discussion.theguardian.com/comment-permalink/153534117\n",
      "https://profile.theguardian.com/user/id/105247760\n",
      "\n",
      "Stephen Hawking himself said regarding future developments of A.I. \" could spell the end of the human race.” he also say's \" It will either be the best thing that's ever happened to us, or it will be the worst thing. If we're not careful, it very well may be the last thing\". About a third of the British Science Association polled believes \"AI will pose a threat to the long-term survival of humanity.\" How do you control a super intelligent machine that has the capacity to outsmart humans? In Physics Magazine there is an article on Feb 21 2018 that warns of dictators and criminal empires using A.I. for malicious purposes. Not to mention \"lethal autonomous weapons\" threaten to be the third revolution in warfare.  China already uses A.I. like the television series \"Person of interest\" using facial recognition software in their network of national cameras across the nation to go after political enemies. AI programmers have already shown their biases in their algorithms in youtube and other platforms. I would bust all the monopolies up, not just tech, and regulate...regulate...regulate like we used to do before \"Reaganomics\"\n",
      "\n",
      "##3RDCLASSPHYSICIST\n",
      "https://discussion.theguardian.com/comment-permalink/153533395\n",
      "https://profile.theguardian.com/user/id/105723615\n",
      "\n",
      "(Post continues) As far as \"AI\" [sic] is concerned, its use would be greatly curtailed if data users were required to pay for the human data they employed, even if were anonymized. Furthermore, it should be required that any decision effecting humans that based on machine learning techniques display information concerning the performance of the technique(s) including but not limited to validation error rate, probability of incorrect classification or decision, and a statement as to whether the parameters for the particular individual lie within the range of the training data or represent extrapolations. This is analogous to the material drug producers are required to include in their advertisements, regarding effectiveness and side effects. The purpose would be to remind people that predictions based on data are not definitive, and would provide injured parties with information useful in suing the company for damages.\n",
      "\n",
      "##MINTAKA\n",
      "https://discussion.theguardian.com/comment-permalink/153520584\n",
      "https://profile.theguardian.com/user/id/2169435\n",
      "\n",
      "The bias may be less transparent in AI, but it is there even without AI. I remember attending a statistics seminar over 20 years ago about someone who was working on using statistical patterns of reoffending to help make decisions on sentencing and parole. This was just good old-fashioned statistics, completely interpretable, no AI. I asked about whether it was not discriminatory to use statistics as the basis for such decisions. The speaker replied that they had checked that it did not reveal discrimination by race or other protected characteristics. But they could not see why it was an issue that using statistics to make such decisions was already discriminatory as it did not base judgements purely on the individual but on their membership of some group, defined by arbitrary statistical characteristics. \n",
      "So I think the problems were already there long before AI exacerbated them.\n",
      "\n",
      "##3RDCLASSPHYSICIST\n",
      "https://discussion.theguardian.com/comment-permalink/153533880\n",
      "https://profile.theguardian.com/user/id/105723615\n",
      "\n",
      "Although I strongly favor unionization, and applaud the efforts of ethical employees to call the tech giants to account, I don't believe for a moment that either will have a lasting effect. There are always going to be people who are willing to strike a Faustian bargain, and for that reason I advocate regulatory measures that force the wielders of algorithms to pay users for their data on a per use basis, and to be financially accountable for all content they produce or is posted on their platforms. Elsewhere in this newspaper there is an article about the Rohingya people suing Facebook for $150 Billion for their role in facilitating the genocide by the Myanmar military. If modestly successful, it would not take many such lawsuits to instill a sense of social responsibility in F*ckbook and its ilk.\n",
      "\n",
      "##3RDCLASSPHYSICIST\n",
      "https://discussion.theguardian.com/comment-permalink/153534119\n",
      "https://profile.theguardian.com/user/id/105723615\n",
      "\n",
      "Banning is not possible, and besides that is not even useful. The focus of the popular press is on the application of data science in social media and the military, but these are but a tiny subset of the range of applications. Do you want to ban the use of machine learning in the study of protein folding? In the search for dark matter? In epidemiology? And how, precisely, would you do it? Burn all the books? Destroy all the computers? We have in our so-called civilization a plethora of things that are either harmful or potentially so, and where we are reasonably successful in curbing their excesses, it is through regulation vice prohibition. Alcohol, tobacco, automobiles as instances of relatively successful regulation. Marijuana and opiates as instances of prohibition not working\n",
      "\n",
      "##LMASURSKY\n",
      "https://discussion.theguardian.com/comment-permalink/153542744\n",
      "https://profile.theguardian.com/user/id/106324823\n",
      "\n",
      "Ethical study of AI?\n",
      "This is about the same as \"ethical research on the neutron bomb.\"\n",
      "AI, development, etc., is inherently unethical.\n",
      "As for insulating any such research from Big Tech, this is about as likely as inventing a perpetual motion machine.\n",
      "Choice 1: stop doing it. (As with human cloning it will happen anyway- deal with it punitively when people get caught.)\n",
      "Choice 2: embrace it with a race to develop a self teaching machine that can reproduce (with evolution) and, for example, compose an original poem and write an essay on a topic off the cuff, like a test question. Prize? 1 million thousand trillion dollars!\n",
      "Choice 3: keep going as we are, stumbling towards an obfuscated doom, presented as a \"cool\" way to be able to sleep in your car on the way to work.\n",
      "\n",
      "##REXTANKA1\n",
      "https://discussion.theguardian.com/comment-permalink/153516890\n",
      "https://profile.theguardian.com/user/id/12782070\n",
      "\n",
      "I do understand the issues you highlight. It should not, however, be necessary to point out that Google/Youtube/Alphabet, FaceBook/Meta/insta/WhatsApp and other companies in this area make astronomical profit fueled by the ability to scale services with little or no oversight. If they choose to continue to allow the manipulation of groups of people, they will ultimately be subject to legislation which consequently will slow them down and cost them more. Perhaps a reduction in profit to create a more sustainable environment is desirable.\n",
      "The other issue that Timnit points out is that often hate speech is in languages that are not common in the US centric social media industry and therefore often receive zero oversight.\n",
      "\n",
      "##KEDARB\n",
      "https://discussion.theguardian.com/comment-permalink/153522118\n",
      "https://profile.theguardian.com/user/id/2934342\n",
      "\n",
      "We need an independent source of government funding to nourish independent AI research institutes that can be alternatives\n",
      "\n",
      "In other words we need another governmental bureaucracy to determine what is the truth or not. As the golden rule goes, \"he who controls the gold makes the rules\". Or one who has control of the purse strings is the ultimate power. We had something similar in the former Soviet Union with Tass and Pravda. Even today in nations like China and North Korea. Growing up in India when the TV and Radio were only government owned, could see the ultimate bias in reporting. Luckily there were independent paper media.\n",
      "Who will the \"research institutes\" report to? The Ministry of Truth?\n",
      "\n",
      "##KEVINK\n",
      "https://discussion.theguardian.com/comment-permalink/153523190\n",
      "https://profile.theguardian.com/user/id/1593879\n",
      "\n",
      "Unfortunately, real AI does not work like Asimov’s “positronic brains”. There’s no place to embed the Three Laws or any other laws in the neural networks. Where you *can* have laws is In rules for humans. There is a movement within the AI community to establish a sort of Hippocratic oath for AI professionals, where they would vow to not build system that, for example, autonomously control weapons systems. I’ve discussed the language with some of them. It’s a nice idea, but lacking the sorts of traditions handed down in the medical community, and lacking a backup in the legal system analogous to statutes on practicing medicine without a license, I doubt it will deter many bad actors.\n",
      "\n",
      "##3RDCLASSPHYSICIST\n",
      "https://discussion.theguardian.com/comment-permalink/153534354\n",
      "https://profile.theguardian.com/user/id/105723615\n",
      "\n",
      "Absolutely correct. At its heart, data science is just an extension of statistics; the way I like to think of it is that statistics is retrospective while machine learning is prospective. As anyone who has taken even an undergraduate course in probability and statistics (in the math department) knows, there is always uncertainty in statistics, the degree of which can be quantified. This carries over into data science. One problem arises when the methodology is applied to a human being, affecting their health, future or standing in society, without acknowledging the possibility of error and providing a means of remediation.\n",
      "\n",
      "##3RDCLASSPHYSICIST\n",
      "https://discussion.theguardian.com/comment-permalink/153534910\n",
      "https://profile.theguardian.com/user/id/105723615\n",
      "\n",
      "Absolutely correct. We cannot even agree what natural intelligence is, or how it arises, and sometimes define artificial intelligence based on a concept of limited validity, constructed at a point in history where the most powerful conceivable computers were dwarfed in capability by a $10 pocket calculator. The term \"Artificial Intelligence\" was appropriated from the pure research community by commercial entities because of its cachet, its evocation of something powerful and useful, and the mathematics disadvantaged general population has alternatively embraced it and been repelled by it. The sign of true love.\n",
      "\n",
      "##SAISALIENT\n",
      "https://discussion.theguardian.com/comment-permalink/153544421\n",
      "https://profile.theguardian.com/user/id/106579545\n",
      "\n",
      "Seems to me we are confusing the ... cough ... amazing potential of Artificial nonIntelligence, with the potential for a computer to be able to identify a terrorist on a CCTV camera. \n",
      "The computer will probably learn that terrorists pick their nose or something like that, and then the statistics will show that everyone identified by such means was either a terrorist or a different type of miscreant, so enabling billions more to be ploughed into development.\n",
      "I do wonder whether people working in this field realise what's going on, I suspect that they do but are easily blinded by good money.\n",
      "\n",
      "##3RDCLASSPHYSICIST\n",
      "https://discussion.theguardian.com/comment-permalink/153533114\n",
      "https://profile.theguardian.com/user/id/105723615\n",
      "\n",
      "I am not sanguine about the ability of government regulators or company moderators to cull hate speech and disinformation from social media posts, but there is a lot they could do. With regard to social media a great deal would be accomplished if users had to pay a nominal amount for every action apart from some nominal number of posts in a 24 hour period. That would greatly curtail the spread, and make the social media companies less reliant on advertising and data sale revenue. It would also be useful if privacy rules such as those that exist in the EU were made universal.\n",
      "\n",
      "##WHILEROMEBURNS\n",
      "https://discussion.theguardian.com/comment-permalink/153514885\n",
      "https://profile.theguardian.com/user/id/18412929\n",
      "\n",
      "The role of the spreadsheet in businesses shows that tech tools become the prop of the incompetent because the massive data collection feeds management structure that is based on a knowlege infracture that crowds out indepedent and creative thinking to repalce it wiht micro-management and time wasting because the real underlying business model is rent-seeking, rather than innovation in the vast majority of businesses.\n",
      "AI is the next stage of this process to define more work as replaceable by knowledge infrastructure and move more business activity into the realm rent-seeking.\n",
      "\n",
      "##MARKBLR\n",
      "https://discussion.theguardian.com/comment-permalink/153530753\n",
      "https://profile.theguardian.com/user/id/3985037\n",
      "\n",
      "What Government entities did they buy out?\n",
      "\n",
      "Please re-read my post.\n",
      "The \"we\" there would be the recipients of the \"government funding\" requested by the ATL article, not the distributors of it.\n",
      "Note that the UK has modified the \"standard model\" used in many other countries around the world, and the \"flow of money\" there is now :Taxpayers --> Government coffers --> Tory party donators [ full stop ]\n",
      "The dynamic replacement of the equivalent of \"Tory party donators\" above in other countries with \"Big Tech buyouts\" does exist in the UK, just on a much smaller scale than elsewhere.\n",
      "\n",
      "##3RDCLASSPHYSICIST\n",
      "https://discussion.theguardian.com/comment-permalink/153534578\n",
      "https://profile.theguardian.com/user/id/105723615\n",
      "\n",
      "Not entirely correct. In supervised learning, for instance, the user specifies the variables (for instance the form of a polynomial); in neural nets the user specifies the number of layers. The list goes on. This may change somewhat with the advent of automated machine learning, but IMO there will always be a role for human judgement in the selection of the approach and the specification of details. I say this because there is usually knowledge beyond the data that is useful, even critical, in specifying the machine learning approach. Like for instance physics.\n"
     ]
    }
   ],
   "source": [
    "all_comments.sort(key=lambda x : -len(x) )\n",
    "print( '\\n\\n'.join(all_comments[:20]) )"
   ]
  },
  {
   "cell_type": "code",
   "execution_count": 7,
   "metadata": {},
   "outputs": [
    {
     "name": "stdout",
     "output_type": "stream",
     "text": [
      "[master 65b23aa] web\n",
      " 2 files changed, 167 insertions(+), 233 deletions(-)\n",
      " create mode 100644 jz8nk.pkl\n",
      "Enumerating objects: 6, done.\n",
      "Counting objects: 100% (6/6), done.\n",
      "Delta compression using up to 4 threads\n",
      "Compressing objects: 100% (4/4), done.\n",
      "Writing objects: 100% (4/4), 78.59 KiB | 1.33 MiB/s, done.\n",
      "Total 4 (delta 2), reused 0 (delta 0)\n",
      "remote: Resolving deltas: 100% (2/2), completed with 2 local objects.\u001b[K\n",
      "To https://github.com/macbuse/GUARDIAN.git\n",
      "   d2e0e21..65b23aa  master -> master\n"
     ]
    }
   ],
   "source": [
    "! ./.g"
   ]
  },
  {
   "cell_type": "code",
   "execution_count": 18,
   "metadata": {},
   "outputs": [
    {
     "name": "stderr",
     "output_type": "stream",
     "text": [
      "[nltk_data] Downloading package vader_lexicon to\n",
      "[nltk_data]     /home/gregmcshane/nltk_data...\n",
      "[nltk_data]   Package vader_lexicon is already up-to-date!\n"
     ]
    }
   ],
   "source": [
    "#https://towardsdatascience.com/sentimental-analysis-using-vader-a3415fef7664\n",
    "\n",
    "import nltk\n",
    "#nltk.download('vader_lexicon')\n",
    "\n",
    "from nltk.sentiment.vader import SentimentIntensityAnalyzer\n",
    "\n",
    "sid = SentimentIntensityAnalyzer()"
   ]
  },
  {
   "cell_type": "code",
   "execution_count": 22,
   "metadata": {},
   "outputs": [],
   "source": [
    "a = '''My views haven't changed. Leaving the EU will be of no benefit to anyone except those who hold money and power along with certain corporates and a smidgen of medium to small businesses.\n",
    "How else can it be when you are shutting shop to the most developed nations, the richest nations in the world, who are either in the EU or have market agreements with the EU. Even the emerging markets of China and India along with other developing economies are aspiring to develop trading agreements with the EU, the second largest economy in the world. Any deal with the UK will be secondary and will depend upon their agreement with the EU.\n",
    "Boris Johnson once said \"f**k business\". I take this as meaning there is something in it for them and they don't really care if businesses find it difficulA\n",
    "t to cope.\n",
    "I can see ministers and conservative MPs queuing to fill their pockets by acting as advisors for potential trade deals whilst the rest of the country are left struggling trying to rebuild their lives, especially following the pandemic. The same ministers will probably be looking to lower all kinds of standards from food and welfare to safety at work to improve their opportunities.\n",
    "When it comes to brinkmanship, I can only view this as getting away with whatever they can. I do not believe it is anything to do with negotiating an agreement that will be to the benefit of the UK or the EU as a whole, I don't believe our ministers are capable of doing that.'''"
   ]
  },
  {
   "cell_type": "code",
   "execution_count": 24,
   "metadata": {},
   "outputs": [
    {
     "ename": "TypeError",
     "evalue": "sentiment_valence() missing 4 required positional arguments: 'sentitext', 'item', 'i', and 'sentiments'",
     "output_type": "error",
     "traceback": [
      "\u001b[0;31m------------------------------------------------------------\u001b[0m",
      "\u001b[0;31mTypeError\u001b[0m                  Traceback (most recent call last)",
      "\u001b[0;32m<ipython-input-24-6f3326dcf5de>\u001b[0m in \u001b[0;36m<module>\u001b[0;34m\u001b[0m\n\u001b[1;32m      1\u001b[0m \u001b[0msid\u001b[0m\u001b[0;34m.\u001b[0m\u001b[0mpolarity_scores\u001b[0m\u001b[0;34m(\u001b[0m\u001b[0ma\u001b[0m\u001b[0;34m)\u001b[0m\u001b[0;34m\u001b[0m\u001b[0m\n\u001b[0;32m----> 2\u001b[0;31m \u001b[0msid\u001b[0m\u001b[0;34m.\u001b[0m\u001b[0msentiment_valence\u001b[0m\u001b[0;34m(\u001b[0m\u001b[0ma\u001b[0m\u001b[0;34m)\u001b[0m\u001b[0;34m\u001b[0m\u001b[0m\n\u001b[0m",
      "\u001b[0;31mTypeError\u001b[0m: sentiment_valence() missing 4 required positional arguments: 'sentitext', 'item', 'i', and 'sentiments'"
     ]
    }
   ],
   "source": [
    "sid.polarity_scores(a)\n",
    "sid.sentiment_valence(a)"
   ]
  },
  {
   "cell_type": "code",
   "execution_count": 10,
   "metadata": {},
   "outputs": [
    {
     "name": "stdout",
     "output_type": "stream",
     "text": [
      "##SOMEHOWRATIONAL\n",
      "https://discussion.theguardian.com/comment-permalink/153639308\n",
      "https://profile.theguardian.com/user/id/17763035\n",
      "\n",
      "I use the term meaning a world view that treats the market and capitalism not as a useful economic tool, but as something untouchable that is supposed to bring solutions in all kinds of areas. Capitalism not as a mere economic system but as a guiding principle for everything.I associate the term with a drive to privatize everything as well as confusing democracy with socialism. Everything is being called \"socialist\" even when it is just democratic common sense as soon as there is a role for the state in it. Not wanting to privatize infrastructure is not socialist.Similarly there is the idea that society doesn't exist as such, but that it is nothing but a collection of individuals. Which is true in a sense, but that it similar to saying a table doesn't exist as it is nothing but a collection of atoms. There is also the idea connected to it that there is no such thing as public service and that politicians are always only out for their own interest. Which is of course a perfect justification for corruption and goes hand in hand with the disdain for regulation. Of course criminals dislike regulation and red tape.In other words \"neoliberalism\" is denying the existence of a public sphere in the democratic sense as this view denies the very existence of a public as well as the idea of a \"public interest\". The \"state\" is seen as something alien and evil, best reduced to as small an existence as possible. This worldview is fundamentally anti-democratic in my opinion. There is complete lack of understanding that in a democracy the state is the political representation of the people. Maybe a different term would be better than \"neoliberalism\", the term doesn't matter as much. But these concepts are widespread, influential and - in my view at least - very damaging.\n",
      "They have also prepared the ground for **TRUMP** and others like him, by spreading cynicism about democracy wherever you look.\n",
      "\n",
      "##THEDEPTFORDBOUNDER\n",
      "https://discussion.theguardian.com/comment-permalink/153638051\n",
      "https://profile.theguardian.com/user/id/17100331\n",
      "\n",
      "It's quite true to say neoliberal is the most lazily applied epithet and all purpose insult of our age. Why can't people just call out rapacious capitalism for what it is rather than use a term that doesn't stand up to etymological scrutiny (i.e. it doesn't do what it says on the tin). There are plenty of rapacious capitalists about who claim to be both 'populists' and opponents of 'neo-liberal elites', from **TRUMP** downwards, and as a consequence they are given a free pass by people who are only too quick to point the finger at 'revisionists' like Macron and even Starmer. The fact that 'the (self appointed) left' waste so much energy on this rather than directly calling out the daily corruption and chicanery all around us is why they so rarely win elections, it's a form of collective narcissism that actually denies ordinary people the kind of social justice and equality of life chances and opportunities that they are crying out for now, not some hypothetical moment in the distant future when 'the left' has finally purged itself of all revisionist tendencies (i.e. never).\n",
      "\n",
      "##PARCELOFROGUE\n",
      "https://discussion.theguardian.com/comment-permalink/153638210\n",
      "https://profile.theguardian.com/user/id/3489183\n",
      "\n",
      "A better term than neoliberalism would be Extreme Marketism. The term liberal has all sort of other meanings wrapped into it, which often do not apply.\n",
      "These Extreme Free Market crowd ( Extreme Free Marketeers ) are often not open tolerant people, but hang 'em and flog 'em right wing tories and some neofascists who want severe restrictions and penalties on people that are anything but liberal. Think Farage, or better still, don't do.They want freedom for money only, to avoid taxes, to fence hot money from stolen assets or illegal activities. So money can travel but many people are not allowed.\n",
      "The Extreme Free marketeers in USA are **TRUMP**ists and the Tea Party wing of the Republicans. The hypocrites went on and on about hand outs and \"big government\" but once the pandemic hit they were claiming for every last cent. Even \"Build that wall\" turned out to be fraudulent money raising so Bannon could live in luxury.\n",
      "\n",
      "##APORETE\n",
      "https://discussion.theguardian.com/comment-permalink/153635647\n",
      "https://profile.theguardian.com/user/id/105882863\n",
      "\n",
      "As seriously, a belief in neoliberal hegemony ducks the question whether it makes sense to think of today’s right as neoliberal. I can see the idea’s appeal. \n",
      "Elements of it are (they say) post-neoliberal. **TRUMP** and Johnson are, as you point out, opposed to core tenets of neoliberalism.\n",
      "Also, the term is quite straightforward - it posits labour's freedom to compete on equal terms for the chance to make themselves useful to (now global) capital - which is sacrosanct. This is why early liberals fought tooth and nail against slavery and also fought tooth and nail to preserve the nightmare of child labour.\n",
      "\n",
      "##IHATECAPTCHAS\n",
      "https://discussion.theguardian.com/comment-permalink/153638140\n",
      "https://profile.theguardian.com/user/id/106724717\n",
      "\n",
      "They are all globalists - but I don't mean that in the traditional right wing slur sense as such.\n",
      "None of the above would have any problem with say Chinese or Saudi state owned companies owning any of our public services or infrastructure. Nor would they have a problem with jobs being offshored overseas.\n",
      "I'm not going to comment on whether that is bad or good, but that's where they stand. **TRUMP**, Sanders and Corbyn but also Starmer and Charles Kennedy would probably take a very different view. Again it is up to the reader to decide on how they view that.\n",
      "\n",
      "##A_REBOUR\n",
      "https://discussion.theguardian.com/comment-permalink/153638282\n",
      "https://profile.theguardian.com/user/id/103109953\n",
      "\n",
      "They refuse to understand. It must be some kind of residual belief in goodness - what in British politics was known as the 'Good Chap' theory of govt. Having good chaps as our checks and balances was the reason we didn't need a proper constitution, the thing that saved - to some extent - the US.And people still refuse to understand why **TRUMP** invented Stop the Steal - he rorted $60M in one month in donations from the low information crowd on the back of it.\n",
      "\n",
      "##JUSME2\n",
      "https://discussion.theguardian.com/comment-permalink/153639091\n",
      "https://profile.theguardian.com/user/id/11657365\n",
      "\n",
      "I've been wondering how the word \"liberal\" could be used in any way to describe people like Johnson, **TRUMP**, Clinton, Morrison etcConservative doesn't really cut it either because some things they do are extremely radical imo. (like going to war at the drop of a hat).So I just think of them as \"right wingers\". That especially dishonest, greedy & cruel type of person that happily changes from conservative to liberal depending on what they want at that moment.\n",
      "\n",
      "##NEUTRALPADDY\n",
      "https://discussion.theguardian.com/comment-permalink/153638884\n",
      "https://profile.theguardian.com/user/id/2912649\n",
      "\n",
      "Did **TRUMP**s mob on Jan 6 constitute 'neo-liberals' ? Partly ? There is a terrifying story elsewhere a 30+ slide Powerpoint has emerged as to how **TRUMP** had detailed plans to invoke emergency powers & halt in its tracks handing over to Biden. Is that how low neo-liberals will stoop?\n",
      "\n",
      "##3RDROCK\n",
      "https://discussion.theguardian.com/comment-permalink/153637067\n",
      "https://profile.theguardian.com/user/id/17346623\n",
      "\n",
      "Yes though the media cannot be blamed for people's choices in an election. Look at **TRUMP** who was hated by the press yet still managed to secure a win.\n",
      "\n",
      "Propaganda is a wonderful thing - especially when aimed at an audience whose shoe size exceeds their IQ. ;-)\n",
      "\n",
      "##EARLBERTEONI\n",
      "https://discussion.theguardian.com/comment-permalink/153636323\n",
      "https://profile.theguardian.com/user/id/2454201\n",
      "\n",
      "**TRUMP** had a huge amount of media support, notably from Fox News but also from many local outlets. Plus his self-administered media presence on Twitter and Facebook. The idea that he won *despite* a hostile media is clearly nonsense.\n",
      "\n",
      "##MFISHER\n",
      "https://discussion.theguardian.com/comment-permalink/153636414\n",
      "https://profile.theguardian.com/user/id/106698196\n",
      "\n",
      "So did Corbyn in the Guardian or on Facebook where everyone gets their news now, **TRUMP** was rubbished by the majority of the urban establishment but is still seen as a hero in rural areas.\n",
      "\n",
      "##TIMERSET\n",
      "https://discussion.theguardian.com/comment-permalink/153637990\n",
      "https://profile.theguardian.com/user/id/102217262\n",
      "\n",
      "Exactly. Same with **TRUMP**. He doesn't give a shit about left or right. All he cares about is **TRUMP**, so he will choose the side that will help his personal finances and self-interest.\n",
      "\n",
      "##BOBMEYRICK\n",
      "https://discussion.theguardian.com/comment-permalink/153639297\n",
      "https://profile.theguardian.com/user/id/4773741\n",
      "\n",
      "Look at **TRUMP** who was hated by the press yet still managed to secure a win.\n",
      "I presume you're referring to 2016 rather than 2020. Remember he had, ahem, \"outside help\"...\n",
      "\n",
      "##HFLASHMAN\n",
      "https://discussion.theguardian.com/comment-permalink/153635885\n",
      "https://profile.theguardian.com/user/id/4259440\n",
      "\n",
      "Having gone down this route & courting the UKIPers the Conservatives have got more **TRUMP**ian in recent years & it's difficult to know what they actually stand for.\n",
      "\n",
      "##MFISHER\n",
      "https://discussion.theguardian.com/comment-permalink/153635817\n",
      "https://profile.theguardian.com/user/id/106698196\n",
      "\n",
      "Yes though the media cannot be blamed for people's choices in an election. Look at **TRUMP** who was hated by the press yet still managed to secure a win.\n",
      "\n",
      "##MFISHER\n",
      "https://discussion.theguardian.com/comment-permalink/153637079\n",
      "https://profile.theguardian.com/user/id/106698196\n",
      "\n",
      "Indeed but the Democrats kept blaming Facebook for Russian influence because it was instrumental in getting **TRUMP** elected.\n",
      "\n",
      "##TIMTHEOUS\n",
      "https://discussion.theguardian.com/comment-permalink/153639251\n",
      "https://profile.theguardian.com/user/id/10511989\n",
      "\n",
      "fox news combined with favourable newspapers owned by Murdochgave the world **TRUMP**...to pretend otherwise is insulting\n"
     ]
    }
   ],
   "source": [
    "target = 'decolon'\n",
    "target = 'science'\n",
    "target = 'trump'\n",
    "\n",
    "\n",
    "xx = [x for x in all_comments if target.lower() in x.lower() and  len(x) > 20]\n",
    "yy = [x for x in all_comments if '#pin' in x.lower() and 2000 > len(x) > 20]\n",
    "\n",
    "#print('\\n\\n'.join( ['\\n\\n'.join(x) for x in zip(xx,yy)])  )\n",
    "\n",
    "#print( '\\n\\n'.join(xx).replace(target, ) )\n",
    "pxx = re.compile(target, re.I)\n",
    "print( pxx.sub('**' + target.upper() + '**', \n",
    "              '\\n\\n'.join(xx)) )\n",
    "               \n",
    "#print( '\\n\\n'.join(xx) )\n"
   ]
  },
  {
   "cell_type": "code",
   "execution_count": 20,
   "metadata": {},
   "outputs": [
    {
     "data": {
      "text/plain": [
       "0.7820401046207497"
      ]
     },
     "execution_count": 20,
     "metadata": {},
     "output_type": "execute_result"
    }
   ],
   "source": [
    "(26/31) / (74/69)"
   ]
  },
  {
   "cell_type": "code",
   "execution_count": 64,
   "metadata": {},
   "outputs": [
    {
     "data": {
      "text/plain": [
       "529"
      ]
     },
     "execution_count": 64,
     "metadata": {},
     "output_type": "execute_result"
    }
   ],
   "source": [
    "23**2"
   ]
  },
  {
   "cell_type": "markdown",
   "metadata": {},
   "source": [
    "## "
   ]
  },
  {
   "cell_type": "code",
   "execution_count": 21,
   "metadata": {},
   "outputs": [
    {
     "data": {
      "text/plain": [
       "211"
      ]
     },
     "execution_count": 21,
     "metadata": {},
     "output_type": "execute_result"
    }
   ],
   "source": [
    "84 + 127"
   ]
  },
  {
   "cell_type": "code",
   "execution_count": 24,
   "metadata": {},
   "outputs": [
    {
     "data": {
      "text/plain": [
       "1.2842073077511085"
      ]
     },
     "execution_count": 24,
     "metadata": {},
     "output_type": "execute_result"
    }
   ],
   "source": [
    "84/211/.31"
   ]
  },
  {
   "cell_type": "code",
   "execution_count": 25,
   "metadata": {},
   "outputs": [
    {
     "data": {
      "text/plain": [
       "0.8723126588364586"
      ]
     },
     "execution_count": 25,
     "metadata": {},
     "output_type": "execute_result"
    }
   ],
   "source": [
    "127/211/.69"
   ]
  },
  {
   "cell_type": "code",
   "execution_count": 26,
   "metadata": {},
   "outputs": [
    {
     "data": {
      "text/plain": [
       "1.471264367816092"
      ]
     },
     "execution_count": 26,
     "metadata": {},
     "output_type": "execute_result"
    }
   ],
   "source": [
    "1.28/.87"
   ]
  },
  {
   "cell_type": "code",
   "execution_count": null,
   "metadata": {},
   "outputs": [],
   "source": []
  }
 ],
 "metadata": {
  "kernelspec": {
   "display_name": "NLPkernel",
   "language": "python",
   "name": "nlpkernel"
  },
  "language_info": {
   "codemirror_mode": {
    "name": "ipython",
    "version": 3
   },
   "file_extension": ".py",
   "mimetype": "text/x-python",
   "name": "python",
   "nbconvert_exporter": "python",
   "pygments_lexer": "ipython3",
   "version": "3.6.5"
  }
 },
 "nbformat": 4,
 "nbformat_minor": 2
}
