{
 "cells": [
  {
   "cell_type": "raw",
   "metadata": {},
   "source": [
    "# Basic scraping for Guardian discussions u"
   ]
  },
  {
   "cell_type": "code",
   "execution_count": 1,
   "metadata": {},
   "outputs": [
    {
     "name": "stdout",
     "output_type": "stream",
     "text": [
      "[master 3fa9a7d] web\n",
      " 1 file changed, 191 insertions(+), 211 deletions(-)\n",
      "Counting objects: 3, done.\n",
      "Delta compression using up to 12 threads.\n",
      "Compressing objects: 100% (3/3), done.\n",
      "Writing objects: 100% (3/3), 14.94 KiB | 2.99 MiB/s, done.\n",
      "Total 3 (delta 2), reused 0 (delta 0)\n",
      "remote: Resolving deltas: 100% (2/2), completed with 2 local objects.\u001b[K\n",
      "To https://github.com/macbuse/GUARDIAN.git\n",
      "   f06fcf3..3fa9a7d  master -> master\n"
     ]
    }
   ],
   "source": [
    "! ./.g\n"
   ]
  },
  {
   "cell_type": "code",
   "execution_count": 1,
   "metadata": {},
   "outputs": [
    {
     "name": "stdout",
     "output_type": "stream",
     "text": [
      " 8djv8.pkl                            kqqtv.pkl\n",
      " 94f6b.pkl                            kv6n2.pkl\n",
      " afuahirsch.csv                       kvf22.pkl\n",
      " davidsmith.csv                       liberation_femicide.ipynb\n",
      " edt72.pkl                            links_2020_8.txt\n",
      " eghyd.pkl                            links.txt\n",
      " egqhf.pkl                            matplotlib.ipynb\n",
      " ej7f5.pkl                            nickcohen.csv\n",
      " ejdxt.pkl                            \u001b[0m\u001b[01;35mNone0000000.png\u001b[0m\n",
      " et8zg.pkl                            owen-jones.csv\n",
      " etenk.pkl                            quad_forms.ipynb\n",
      " eyhx8.pkl                            README.md\n",
      " eytkx.pkl                            rebeccasolnit.csv\n",
      " f3ke9.pkl                            simontisdall.csv\n",
      " f4a3q.pkl                            tags\n",
      " f4vfe.pkl                            tbca8.pkl\n",
      " failed.txt                           tdvxp.pkl\n",
      " femicides2.csv                       te5tn.pkl\n",
      " femicides3.csv                       tedzk.pkl\n",
      " femicides.csv                        tfmxg.pkl\n",
      " fvkbb.pkl                            tfy7d.pkl\n",
      " gabyhinsliff.csv                     tgaxq.pkl\n",
      " gn7h4.pkl                            tgqq8.pkl\n",
      " goose_test_editorialis_miner.ipynb   tgxqd.pkl\n",
      "'guardian api and comments.ipynb'     tmp.txt\n",
      " guardian_api_prod.ipynb              transgender.csv\n",
      "'guardian comments scraper.ipynb'     \u001b[01;35mtt.jpg\u001b[0m\n",
      " guardian_extractor.ipynb             \u001b[01;35mtt.png\u001b[0m\n",
      " guardian_nlp.ipynb                   y57xb.pkl\n",
      " guardian_photo.ipynb                 y5kne.pkl\n",
      " h2tzt.pkl                            y6tvn.pkl\n",
      " h44zn.pkl                            y7f2f.pkl\n",
      " h452h.pkl                            y829j.pkl\n",
      " h4cq2.pkl                            y875b.pkl\n",
      " h5j4n.pkl                            y87zm.pkl\n",
      " h6v39.pkl                            y8h4q.pkl\n",
      " h8qmd.pkl                            y98ff.pkl\n",
      " hbc2e.pkl                            y99zz.pkl\n",
      " hbe5y.pkl                            yaa2q.pkl\n",
      " hvg6j.pkl                            yaedy.pkl\n",
      " hvpq8.pkl                            yavg9.pkl\n",
      " jnntf.pkl                            yb8ez.pkl\n",
      " jz8nk.pkl                            ybxgx.pkl\n",
      " k2dza.pkl                            yddvx.pkl\n",
      " k4vhe.pkl                            ye5m7.pkl\n",
      " k9va7.pkl                            yjvf7.pkl\n",
      " kdxb7.pkl                            ymmym.pkl\n",
      " kfgzx.pkl                            yvv24.pkl\n",
      " kphq4.pkl                            yx7cz.pkl\n",
      " kpxyb.pkl                            yy437.pkl\n"
     ]
    }
   ],
   "source": [
    "ls\n"
   ]
  },
  {
   "cell_type": "code",
   "execution_count": null,
   "metadata": {},
   "outputs": [],
   "source": [
    "with open('guardian comments scraper.ipynb','r') as fp:\n",
    "    nb = fp.read()"
   ]
  },
  {
   "cell_type": "code",
   "execution_count": 60,
   "metadata": {},
   "outputs": [],
   "source": [
    "import re\n",
    "\n",
    "pp = re.compile(\"(https://www.the.*?)'\")\n",
    "lks = pp.findall(nb)\n",
    "\n",
    "with open('links.txt','a') as fp:\n",
    "    fp.write('\\n'.join(lks))"
   ]
  },
  {
   "cell_type": "code",
   "execution_count": 2,
   "metadata": {},
   "outputs": [],
   "source": [
    "import re \n",
    "import requests\n",
    "import pickle\n",
    "import json"
   ]
  },
  {
   "cell_type": "code",
   "execution_count": 9,
   "metadata": {},
   "outputs": [],
   "source": [
    "article_url = 'https://www.theguardian.com/commentisfree/2020/aug/19/ditch-the-algorithm-generation-students-a-levels-politics'\n",
    "article_url = 'https://www.theguardian.com/commentisfree/2020/aug/21/joe-biden-democrat-convention-nice-guy-trump-fight'\n",
    "article_url = 'https://www.theguardian.com/commentisfree/2020/aug/23/the-cruel-exams-algorithm-has-laid-bare-the-unfairness-at-the-heart-of-our-schools'\n",
    "article_url = 'https://www.theguardian.com/commentisfree/2020/sep/01/us-mainstream-right-vigilante-terror'\n",
    "article_url = 'https://www.theguardian.com/commentisfree/2020/aug/31/politicians-covid-19-statistics-statisticians'\n",
    "article_url = 'https://www.theguardian.com/commentisfree/2021/apr/14/boris-johnson-is-telling-scotland-that-the-union-is-no-longer-based-on-consent'\n",
    "article_url = 'https://www.theguardian.com/commentisfree/2021/may/10/retail-politics-movements-polarising-projects-promise'"
   ]
  },
  {
   "cell_type": "code",
   "execution_count": 11,
   "metadata": {},
   "outputs": [],
   "source": [
    "article_url = 'https://www.theguardian.com/commentisfree/2020/sep/29/rival-scientists-lockdowns-scientific-covid-19'\n",
    "article_url = 'https://www.theguardian.com/commentisfree/2020/oct/08/johnson-and-sturgeon-will-need-a-better-philosophy-than-precaution-to-rid-us-of-covid'\n",
    "article_url = 'https://www.theguardian.com/commentisfree/2020/oct/10/continual-local-lockdowns-answer-covid-control'\n",
    "article_url = 'https://www.theguardian.com/commentisfree/2020/oct/11/the-rebel-scientists-cause-would-be-more-persuasive-if-it-werent-so-half-baked'\n",
    "\n",
    "article_url = 'https://www.theguardian.com/commentisfree/2021/apr/03/undermining-the-astrazeneca-jab-is-a-dangerous-act-of-political-folly#comment-148440261'\n",
    "article_url = 'https://www.theguardian.com/commentisfree/2021/apr/09/boris-johnson-brexit-belfast-violence-eu-good-friday-agreement'\n",
    "article_url ='https://www.theguardian.com/commentisfree/2021/apr/02/culture-war-government-race-report'\n",
    "article_url = 'https://www.theguardian.com/commentisfree/2021/mar/18/britain-sunny-vaccine-optimism-april-delivery-delay'\n",
    "article_url ='https://www.theguardian.com/commentisfree/2021/apr/14/boris-johnson-is-telling-scotland-that-the-union-is-no-longer-based-on-consent'\n",
    "article_url = 'https://www.theguardian.com/commentisfree/2021/apr/15/britain-harness-social-sciences-covid-pandemic-deprivation'\n",
    "article_url = 'https://www.theguardian.com/commentisfree/2021/apr/16/government-race-report-evidence#comment-148662066'\n",
    "article_url ='https://www.theguardian.com/commentisfree/2021/apr/20/britain-falling-birthrate-covid-pandemic-conservatives-removed-support-for-parents'\n",
    "article_url = 'https://www.theguardian.com/commentisfree/2021/apr/21/bmi-eating-disorder-pandemic-treatment'\n",
    "article_url = 'https://www.theguardian.com/commentisfree/2021/apr/30/government-delays-covid-public-inquiry-health-crisis'\n",
    "article_url = 'https://www.theguardian.com/commentisfree/2021/may/07/humiliation-hartlepool-smalltown-detective-di-starmer'\n",
    "article_url ='https://www.theguardian.com/commentisfree/2021/aug/06/uk-government-experts-vaccinating-under-16s'\n",
    "article_url = 'https://www.theguardian.com/commentisfree/2021/aug/01/there-is-a-case-for-vaccine-passports-but-ministers-are-failing-to-make-it'\n",
    "article_url = 'https://www.theguardian.com/commentisfree/2021/aug/09/america-is-flying-blind-when-it-comes-to-the-delta-variant'\n",
    "article_url = 'https://www.theguardian.com/commentisfree/2021/aug/10/covid-vaccines-britain-scientific-solution-jabs'\n",
    "article_url = 'https://www.theguardian.com/commentisfree/2021/aug/13/denial-anti-vaxxers-climate-sceptics'\n",
    "article_url = 'https://www.theguardian.com/commentisfree/2018/apr/11/bbc-andrew-neil-media-politics'\n",
    "\n",
    "article_url = 'https://www.theguardian.com/commentisfree/2021/aug/15/vaccine-passports-are-less-a-threat-to-liberty-than-a-mark-of-solidarity'\n",
    "article_url = 'https://www.theguardian.com/theobserver/commentisfree/2021/aug/14/will-we-reach-herd-immunity-for-the-new-coronavirus'\n",
    "article_url = 'https://www.theguardian.com/commentisfree/2021/aug/15/vaccine-hesitancy-broken-relationship-state-conspiracy-theorists'\n",
    "article_url = 'https://www.theguardian.com/commentisfree/2021/aug/17/dominic-raab-news-foreign-secretary-taliban-kabul'\n",
    "article_url= 'https://www.theguardian.com/commentisfree/2021/dec/11/so-which-of-these-politicians-is-a-neoliberal-not-one-of-them'\n",
    "\n",
    "article_url = 'https://www.theguardian.com/commentisfree/2021/dec/12/omicron-is-sneaky-it-could-be-fatal-for-us-or-for-our-faith-in-government'"
   ]
  },
  {
   "cell_type": "code",
   "execution_count": 13,
   "metadata": {},
   "outputs": [],
   "source": [
    "article_url ='https://www.theguardian.com/commentisfree/2021/dec/06/google-silicon-valley-ai-timnit-gebru'\n",
    "article_url = 'https://www.theguardian.com/commentisfree/2021/dec/20/rightwingers-us-social-change-coming'\n",
    "article_url = 'https://www.theguardian.com/commentisfree/2021/dec/22/omicron-covid-restrictions-young-people'\n",
    "article_url = 'https://www.theguardian.com/politics/2022/jan/01/sir-tim-brighouse-many-hold-gove-responsible-expert-educator-sets-out-whats-gone-wrong-with-britains-schools'\n",
    "article_url ='https://www.theguardian.com/commentisfree/2022/jan/10/colston-four-britain-apology-for-past'\n",
    "article_url = 'https://www.theguardian.com/commentisfree/2022/jan/21/democrats-shape-up-bidens-presidency-trumpian-sequel'\n",
    "article_url = 'https://www.theguardian.com/commentisfree/2022/jan/28/joe-rogan-neil-young-spotify-streaming-service'"
   ]
  },
  {
   "cell_type": "code",
   "execution_count": 7,
   "metadata": {},
   "outputs": [],
   "source": [
    "article_url = 'https://www.theguardian.com/commentisfree/2022/mar/04/ukraine-eu-membership-zelenskiy-european-values-war'\n",
    "article_url = 'https://www.theguardian.com/commentisfree/2022/feb/27/liberal-democracies-must-defend-their-values-and-show-putin-that-the-west-isnt-weak'\n",
    "article_url = 'https://www.theguardian.com/commentisfree/2022/mar/06/progress-women-international-womens-day-labour-party'\n",
    "article_url = 'https://www.theguardian.com/commentisfree/2022/mar/09/vladimir-putin-west-downfall-dictator-democracies'\n",
    "article_url = 'https://www.theguardian.com/commentisfree/2022/mar/26/britain-clocks-go-forward-eu-us-hour-changes'\n",
    "article_url = 'https://www.theguardian.com/commentisfree/2022/mar/27/for-brazen-cynicism-i-have-seen-nothing-like-sunaks-plan-in-40-years'"
   ]
  },
  {
   "cell_type": "code",
   "execution_count": 3,
   "metadata": {},
   "outputs": [],
   "source": [
    "article_url = 'https://www.theguardian.com/commentisfree/2022/apr/01/straight-women-tv-shows-lesbians-sally-wainwright'\n",
    "article_url ='https://www.theguardian.com/commentisfree/2022/apr/06/united-nations-putin-ukraine-catastrophic'\n",
    "article_url = 'https://www.theguardian.com/commentisfree/2022/apr/10/stench-entitlement-now-oozing-from-rishi-sunaks-home-as-well-as-boris-johnsons'\n",
    "article_url = 'https://www.theguardian.com/commentisfree/2022/apr/10/orban-le-pen-voters-sening-chill-message-to-europes-beleagured-centre'\n",
    "article_url = 'https://www.theguardian.com/commentisfree/2022/apr/11/france-populism-gaining-ground-revolution'\n",
    "\n",
    "article_url = 'https://www.theguardian.com/commentisfree/2022/apr/12/herd-immunity-covid-reinfection-virus-world'\n",
    "article_url = 'https://www.theguardian.com/commentisfree/2022/apr/17/whoever-ends-up-in-elysee-palace-europeanism-is-already-on-the-way-out'\n",
    "article_url = 'https://www.theguardian.com/commentisfree/2022/apr/17/nato-should-talk-less-and-do-more-or-ukraine-will-be-torn-apart-bit-by-bit'\n",
    "article_url = 'https://www.theguardian.com/commentisfree/2022/apr/20/france-emmanuel-macron-president-far-right-marine-le-pen'\n",
    "article_url ='https://www.theguardian.com/commentisfree/2022/apr/23/france-vote-le-pen-macron-tv-debate-far-right'\n",
    "article_url = 'https://www.theguardian.com/commentisfree/2022/apr/22/hips-dont-lie-liam-gallagher-replacement-surgery-older-bodies'\n",
    "\n",
    "article_url = 'https://www.theguardian.com/commentisfree/2022/apr/25/french-left-emmanuel-macron-marine-le-pen-far-right-president'\n",
    "article_url = 'https://www.theguardian.com/commentisfree/2022/may/09/ncuti-gatwa-doctor-who-jodie-whittaker-whovians'\n",
    "article_url = 'https://www.theguardian.com/world/commentisfree/2022/apr/28/france-election-divide-campaign-split'\n",
    "\n",
    "article_url ='https://www.theguardian.com/commentisfree/2022/may/13/phone-north-sea-rebekah-vardy-coleen-rooney-libel-case'\n",
    "\n",
    "article_url = 'https://www.theguardian.com/commentisfree/2022/jun/09/west-victory-in-ukraine-escalation-war'\n",
    "article_url = 'https://www.theguardian.com/commentisfree/2022/jun/24/overturning-roe-story-is-women-unfreedom'\n",
    "article_url = 'https://www.theguardian.com/commentisfree/2022/jul/01/nicola-sturgeon-independence-referendum-britain'\n",
    "article_url = 'https://www.theguardian.com/commentisfree/2022/jul/11/would-be-mothers-parent-solo-dating-apps-children'\n",
    "article_url = 'https://www.theguardian.com/commentisfree/2022/jul/27/womens-football-is-not-just-a-spin-off-of-the-mens-game-its-great-in-its-own-right'"
   ]
  },
  {
   "cell_type": "code",
   "execution_count": null,
   "metadata": {},
   "outputs": [],
   "source": [
    "\n",
    "\n",
    "key = my_keys.keys['guardian']"
   ]
  },
  {
   "cell_type": "code",
   "execution_count": 4,
   "metadata": {},
   "outputs": [
    {
     "name": "stdout",
     "output_type": "stream",
     "text": [
      "/p/mv97t\n",
      "getting comments page no. 1\n",
      "there are 7 pages\n",
      "getting comments page no. 2\n",
      "getting comments page no. 3\n",
      "getting comments page no. 4\n",
      "getting comments page no. 5\n",
      "getting comments page no. 6\n",
      "getting comments page no. 7\n",
      "archiving to mv97t.pkl\n"
     ]
    }
   ],
   "source": [
    "#scrape the page and get the short url\n",
    "# 15/8/21  this failed and gave /p/temp\n",
    "short_url_pp =  re.compile('\"shortUrlId\":\"(.*?)\"')\n",
    "\n",
    "r = requests.get(article_url)\n",
    "mm = short_url_pp.search(r.text)\n",
    "short_url = mm.group(1)\n",
    "uu = r.text\n",
    "print(short_url)\n",
    "\n",
    "#the short url allows us to access the discussion\n",
    "# 15/8/21 api.nextgen.guardianapps.co.uk/discussion/ failed on \n",
    "# https://discussion.theguardian.com/discussion-api/discussion/p/tfmxg\n",
    "comments_url = 'https://api.nextgen.guardianapps.co.uk/discussion/%s.json'%short_url\n",
    "params = {'orderBy' : 'newest',\n",
    "          'pageSize' : 25,\n",
    "          'displayThreaded' : 'true',\n",
    "          'commentsClosed' : 'false',\n",
    "          'page' : '',\n",
    "          'maxResponses' : 50\n",
    "         }\n",
    "\n",
    "json_data =  []\n",
    "start_page  = 1\n",
    "last_page = None\n",
    "\n",
    "\n",
    "for num_page in range(start_page, 10**4):\n",
    "    print('getting comments page no.', num_page)\n",
    "    params['page'] = num_page\n",
    "    r = requests.get( comments_url, params=params)\n",
    "    json_data.append( r.text)\n",
    "    #The last page is a field in the json object\n",
    "    #I don't need to read this as json I could do a regexp\n",
    "    if num_page == start_page:\n",
    "        json_dict = json.loads(r.text)\n",
    "        last_page = json_dict['lastPage']\n",
    "        print('there are %d pages'%last_page)\n",
    "    if num_page == last_page : break\n",
    "        \n",
    "\n",
    "fn = '%s.pkl'%short_url.split('/')[-1]\n",
    "print('archiving to %s'%fn)\n",
    "with open(fn,'wb') as fp:\n",
    "    pickle.dump(json_data,fp)"
   ]
  },
  {
   "cell_type": "code",
   "execution_count": 2,
   "metadata": {},
   "outputs": [],
   "source": [
    "import pickle\n",
    "\n",
    "json_data = pickle.load(open('k4vhe.pkl','rb'))"
   ]
  },
  {
   "cell_type": "markdown",
   "metadata": {},
   "source": [
    "---\n",
    "\n",
    "## remember each page of comments has been stored separately"
   ]
  },
  {
   "cell_type": "code",
   "execution_count": 9,
   "metadata": {},
   "outputs": [
    {
     "data": {
      "text/plain": [
       "14"
      ]
     },
     "execution_count": 9,
     "metadata": {},
     "output_type": "execute_result"
    }
   ],
   "source": [
    "dd = json.loads(json_data[0])\n",
    "len(json_data)"
   ]
  },
  {
   "cell_type": "code",
   "execution_count": 19,
   "metadata": {},
   "outputs": [
    {
     "data": {
      "text/plain": [
       "'\\n<div class=\"d-discussion d-discussion--recommendations-open u-cf\"\\n     data-read-only=\"false\" >\\n\\n    \\n    \\n        <div class=\"d-discussion__size-message\">\\n            Due to the large number of comments, they are being shown 100 per page.\\n        </div>\\n    \\n\\n\\n    <ul class=\"d-thread d-thread--comments js-new-comments\">\\n\\n        \\n            \\n\\n<li class=\"d-comment\\n            d-comment--top-level d-comment-staff\"\\n           id=\"comment-154007965\"\\n           data-comment-id=\"154007965\"\\n           data-comment-author=\"CommunityMod\"\\n           data-comment-replies=\"0\"\\n           data-comment-timestamp=\"2022-01-01T18:00:47.000Z\"\\n           data-comment-author-id=\"2902769\"\\n           data-comment-highlighted=\"false\"\\n           itemscope itemtype=\"http://schema.org/Comment\">\\n\\n    <div class=\"d-comment__inner d-comment__inner--top-level\">\\n        <div class=\"d-comment__meta\">\\n            <span class=\"d-comment__avatar-wrapper\">\\n                <img src=\"https://avatar.guim.co.uk/user/2902769\" alt=\"\" class=\"d-comment__avatar\"/>\\n            </span>\\n            <div class=\"d-comment__meta-text\">\\n                <span\\n                    itemscope\\n                    itemprop=\"author\"\\n                    itemtype=\"http://schema.org/Person\"\\n                    title=\"CommunityMod\"\\n                    class=\"d-comment__author\">\\n                    <a href=\"https://profile.theguardian.com/user/id/2902769\" itemprop=\"url\">\\n                        <span itemprop=\"givenName\">CommunityMod</span>\\n                    </a>\\n                </span>\\n\\n                \\n                <div class=\"d-comment__timestamp\">\\n                    <a href=\"https://discussion.theguardian.com/comment-permalink/154007965\" class=\"d-comment__timestamp block-time\">\\n                        <time class=\"js-timestamp\" itemprop=\"dateCreated\"\\n                            datetime=\"2022-01-01T18:00:47Z\"\\n                            data-timestamp=\"1641060047000\" data-relativeformat=\"med\"\\n                            title=\"Permalink to this comment (1 Jan 2022 18:00)\">1 Jan 2022 18:00</time>\\n                        \\n\\n<span  class=\"inline-comment-anchor inline-icon \" >\\n    \\n        <svg width=\"15\" height=\"15\" viewbox=\"0 0 15 15\" class=\"inline-comment-anchor__svg inline-icon__svg\">\\n <path fill=\"#898989\" d=\"M5.725 13.348a2.563 2.563 0 0 1-3.699-3.547l8.424-8.79a1.921 1.921 0 0 1 2.776 2.658l-6.894 7.193a1.277 1.277 0 0 1-1.812.038 1.28 1.28 0 0 1-.04-1.81l5.324-5.553.337.321-5.325 5.555a.815.815 0 0 0 1.175 1.128l6.896-7.193a1.456 1.456 0 0 0-2.101-2.015l-8.427 8.79a2.102 2.102 0 0 0 .063 2.965 2.098 2.098 0 0 0 2.965-.062l6.853-7.152.338.323-6.853 7.151z\" />\\n</svg>\\n    \\n</span>\\n\\n                    </a>\\n                </div>\\n\\n                \\n    <div class=\"d-comment__author-label\">\\n        \\n\\n<span  class=\"inline-marque-36 inline-icon d-comment__gu-icon\" >\\n    \\n        <svg width=\"36\" height=\"36\" viewbox=\"0 0 36 36\" class=\"d-comment__gu-icon__svg inline-marque-36__svg inline-icon__svg\">\\n <path d=\"M18 0a18 18 0 1 0 0 36 18 18 0 0 0 0-36\" />\\n <path fill=\"#FFF\" d=\"M21.2 4.4c2.3.4 5.3 2 6.3 3.1v5.2H27L21.2 5v-.6zm-2.2.4c-4 0-6.3 5.6-6.3 13.2 0 7.7 2.2 13.3 6.3 13.3v.6c-6 .4-14.4-4.2-14-13.8A13.3 13.3 0 0 1 19 4v.7zm10.4 14.4-1.9.9v8.6c-1 1-3.8 2.6-6.3 3.1V19.9l-2.2-.7v-.6h10.4v.6z\" />\\n</svg>\\n    \\n</span>\\n Staff\\n    </div>\\n\\n\\n\\n                \\n            </div>\\n        </div>\\n\\n        <div class=\"d-comment__content\">\\n\\n             \\n                <div\\n                    class=\"d-comment__recommend js-recommend-comment\"\\n                    data-comment-id=\"154007965\"\\n                    data-comment-url=\"https://discussion.theguardian.com/comment-permalink/154007965\"\\n                    data-user-id=\"2902769\"\\n                    data-recommend-count=\"1\"\\n                    title=\"1 recommendations\">\\n                    <button class=\"u-button-reset d-comment__recommend-button rounded-icon\" data-link-name=\"Recommend comment\" >\\n                        <span class=\"d-comment__recommend-pulse\"></span>\\n                        \\n\\n<span  class=\"inline-arrow-up-white inline-icon \" >\\n    \\n        <svg height=\"14\" width=\"15\" class=\"inline-arrow-up-white__svg inline-icon__svg\">\\n <path d=\"m.5 7 5.25-4.5V14h1.5V2.5L12.5 7l.5-1-5.75-6h-1.5L0 6l.5 1Z\" />\\n</svg>\\n    \\n</span>\\n\\n                    </button>\\n                    <span class=\"d-comment__recommend-count js-recommend-count\">\\n                        <span class=\"d-comment__recommend-count--old\">1</span>\\n                        <span class=\"d-comment__recommend-count--new\">2</span>\\n                    </span>\\n                </div>\\n            \\n\\n            <div class=\"d-comment__main \">\\n\\n                <div class=\"d-comment__body\" itemprop=\"text\">\\n                    \\n                        \\n                            <p>Comments will close here at 18:15 GMT.</p>\\n                        \\n                    \\n                </div>\\n                \\n                    <div class=\"d-comment__actions d-comment__actions--left modern-visible\">\\n                        <a class=\"d-comment__action d-comment__action--reply\" href=\"https://profile.theguardian.com/signin?returnUrl=https://discussion.theguardian.com/comment-permalink/154007965&componentEventParams=componentType%3Didentityauthentication%26componentId%3Dsignin_to_reply_comment\"\\n                                data-link-name=\"reply to comment\" data-comment-id=\"154007965\" role=\"button\">\\n                            \\n\\n<span  class=\"inline-reply inline-icon blue\" >\\n    \\n        <svg width=\"18\" height=\"18\" class=\"blue__svg inline-reply__svg inline-icon__svg\">\\n <path d=\"m10.1 5 .9-1 4 4.5v1L11 14l-.9-1 2.5-3H4L3 9V6.5h2V8h7.6l-2.5-3z\" />\\n</svg>\\n    \\n</span>\\n\\n                            Reply\\n                        </a>\\n\\n                        \\n                            \\n<div class=\"d-comment__action d-comment__action--share\">\\n\\n    <div class=\"sharing-text\">\\n\\n<span  class=\"inline-share inline-icon comment-share-icon\" >\\n    \\n        <svg width=\"12\" height=\"12\" viewbox=\"0 0 12 12\" class=\"comment-share-icon__svg inline-share__svg inline-icon__svg\">\\n <path d=\"M10.073 8.4c-.475 0-.906.19-1.225.497L3.54 6.221 3.555 6l-.015-.221 5.308-2.676c.319.308.75.497 1.225.497.982 0 1.778-.806 1.778-1.8S11.055 0 10.073 0 8.295.806 8.295 1.8l.016.233-5.299 2.675a1.762 1.762 0 0 0-1.236-.507c-.982 0-1.778.806-1.778 1.8s.796 1.8 1.778 1.8c.48 0 .915-.194 1.236-.507l5.299 2.675-.016.233c0 .994.796 1.8 1.778 1.8s1.778-.806 1.778-1.8-.796-1.8-1.778-1.8zm0-7.68c.588 0 1.067.484 1.067 1.08 0 .596-.479 1.08-1.067 1.08S9.006 2.396 9.006 1.8c0-.596.479-1.08 1.067-1.08zm0 10.56a1.075 1.075 0 0 1-1.067-1.08c0-.596.479-1.08 1.067-1.08s1.067.484 1.067 1.08c0 .596-.479 1.08-1.067 1.08z\" />\\n</svg>\\n    \\n</span>\\n <span>Share</span></div>\\n\\n    <div class=\"sharing-buttons\" data-link-name=\"comment social\">\\n    \\n        \\n            \\n\\n        <a href=\"https://www.facebook.com/dialog/share?app_id=180444840287&amp;href=https%3A%2F%2Fdiscussion.theguardian.com%2Fcomment-permalink%2F154007965&amp;quote=CommunityMod%20commented%3A%20%22Comments%20will%20close%20here%20at%2018%3A15%20GMT.%22\"\\n        target=\"_blank\"\\n        class=\"social__action social-icon-wrapper\"\\n        data-link-name=\"social-comment : facebook\">\\n            <span class=\"inline-icon__fallback button\">\\n                Share on Facebook</span>\\n            \\n\\n<span  class=\"inline-share-facebook inline-icon rounded-icon social-icon centered-icon social-icon--facebook comment-facebook-icon\" >\\n    \\n        <svg width=\"32\" height=\"32\" viewbox=\"-2 -2 32 32\" class=\"rounded-icon__svg social-icon__svg centered-icon__svg social-icon--facebook__svg comment-facebook-icon__svg inline-share-facebook__svg inline-icon__svg\">\\n <path d=\"M17.9 14h-3v8H12v-8h-2v-2.9h2V8.7C12 6.8 13.1 5 16 5c1.2 0 2 .1 2 .1v3h-1.8c-1 0-1.2.5-1.2 1.3v1.8h3l-.1 2.8z\" />\\n</svg>\\n    \\n</span>\\n\\n            <span class=\"u-h\">Facebook</span>\\n        </a>\\n    \\n\\n            \\n            \\n                \\n\\n        <a href=\"https://tw'"
      ]
     },
     "execution_count": 19,
     "metadata": {},
     "output_type": "execute_result"
    }
   ],
   "source": [
    "xx = json.loads(json_data[0])\n",
    "xx['commentsHtml'][:8000]"
   ]
  },
  {
   "cell_type": "code",
   "execution_count": null,
   "metadata": {},
   "outputs": [],
   "source": [
    "https://discussion.theguardian.com/comment-permalink/154003870"
   ]
  },
  {
   "cell_type": "code",
   "execution_count": 136,
   "metadata": {},
   "outputs": [
    {
     "name": "stdout",
     "output_type": "stream",
     "text": [
      " class=\"d-comment\n",
      "            d-comment--top-level\"\n",
      "           id=\"comment-144422422\"\n",
      "           data-comment-id=\"144422422\"\n",
      "           data-comment-author=\"Hushing\"\n",
      "           data-comment-replies=\"0\"\n",
      "           data-comment-timestamp=\"2020-10-11T14:25:06.000+01:00\"\n",
      "           data-comment-author-id=\"12407494\"\n",
      "           data-comment-highlighted=\"false\"\n",
      "           itemscope itemtype=\"http://schema.org/Comment\">\n",
      "\n",
      "    <div class=\"d-comment__inner d-comment__inner--top-level\">\n",
      "        <div class=\"\n"
     ]
    }
   ],
   "source": [
    "print( xx['commentsHtml'][200:700])"
   ]
  },
  {
   "cell_type": "code",
   "execution_count": 8,
   "metadata": {},
   "outputs": [],
   "source": [
    "pa = re.compile('data-comment-author=\"(.*?)\"')\n",
    "pid = re.compile('data-comment-author-id=\"(\\d+)')\n",
    "pcid = re.compile('\\sid=\"comment-(.*?)\"')\n",
    "pp = re.compile('<li class=\"d-comment(.*?)>',re.DOTALL)\n",
    "\n",
    "auths = []\n",
    "md = []\n",
    "for xx in json_data:\n",
    "    hh = json.loads(xx)['commentsHtml']\n",
    "    auths.extend(list( zip(pa.findall(hh), \n",
    "                           pid.findall(hh)\n",
    "                          )))\n",
    "    md.extend(pp.findall(hh))\n",
    "\n",
    "auths = list(set(auths))\n",
    "auths.sort(key=lambda x : x[0].lower())\n"
   ]
  },
  {
   "cell_type": "code",
   "execution_count": 10,
   "metadata": {},
   "outputs": [
    {
     "data": {
      "text/plain": [
       "[('123654a', '14312750'),\n",
       " ('1key2kan', '104749605'),\n",
       " ('1Love1Heart', '100796168'),\n",
       " ('45022', '3426044'),\n",
       " ('48percenter', '2847558'),\n",
       " ('Abedonders', '3883075'),\n",
       " ('abstrusus', '15533337'),\n",
       " ('adamvarhy', '106853452'),\n",
       " ('ade1973', '14874802'),\n",
       " ('AlexanderGH', '4503360')]"
      ]
     },
     "execution_count": 10,
     "metadata": {},
     "output_type": "execute_result"
    }
   ],
   "source": [
    "auths[:10]"
   ]
  },
  {
   "cell_type": "code",
   "execution_count": 102,
   "metadata": {},
   "outputs": [],
   "source": [
    "#print( '\\n'.join([x for x in md if 'pinkie' in x.lower()]))"
   ]
  },
  {
   "cell_type": "markdown",
   "metadata": {},
   "source": [
    "https://discussion.theguardian.com/comment-permalink/144375739"
   ]
  },
  {
   "cell_type": "code",
   "execution_count": 8,
   "metadata": {},
   "outputs": [],
   "source": [
    "auths = dict(auths)"
   ]
  },
  {
   "cell_type": "code",
   "execution_count": 13,
   "metadata": {},
   "outputs": [
    {
     "data": {
      "text/plain": [
       "'https://api.nextgen.guardianapps.co.uk/discussion//p/yydf9.json'"
      ]
     },
     "execution_count": 13,
     "metadata": {},
     "output_type": "execute_result"
    }
   ],
   "source": [
    "comments_url"
   ]
  },
  {
   "cell_type": "code",
   "execution_count": 5,
   "metadata": {},
   "outputs": [],
   "source": [
    "from bs4 import BeautifulSoup\n",
    "import lxml\n",
    "\n",
    "def html2comments(x):\n",
    "    tt = json.loads(x)\n",
    "    soup = BeautifulSoup(tt['commentsHtml'],  \"lxml\")\n",
    "    raw = [ comment.text for comment in  \n",
    "            soup.findAll('div', {'class' : \"d-comment__body\"}) ]\n",
    "    \n",
    "    metadata = soup.findAll('span', {'class' : \"d-comment__author\"})\n",
    "    \n",
    "    \n",
    "    auth = [ x.text.upper().strip() for x in metadata]\n",
    "    auth_id = [ x.find('a')['href'] for x in metadata]\n",
    "    #this was a pain to do really\n",
    "    #the problem is blocked comments\n",
    "    comment_id = [ x['id'][len('comment-'):] for x in soup.findAll('li')]\n",
    " \n",
    "    \n",
    "    ss = '##{}\\nhttps://discussion.theguardian.com/comment-permalink/{}\\n{}\\n\\n{}'\n",
    "    return [ ss.format(a,b,d,c.strip())  \n",
    "                   for a,b,d,c in zip(auth, comment_id, auth_id, raw)]\n",
    "     \n",
    "all_texts = [ html2comments(page) for page in json_data[:] ]\n",
    "\n",
    "\n",
    "from itertools import chain\n",
    "all_comments = list(chain.from_iterable(all_texts))\n",
    "    "
   ]
  },
  {
   "cell_type": "code",
   "execution_count": 14,
   "metadata": {},
   "outputs": [
    {
     "data": {
      "text/plain": [
       "'##COMMUNITYMOD\\nhttps://discussion.theguardian.com/comment-permalink/157514033\\nhttps://profile.theguardian.com/user/id/2902769\\n\\nHi,\\nComments will close at 15:45.'"
      ]
     },
     "execution_count": 14,
     "metadata": {},
     "output_type": "execute_result"
    }
   ],
   "source": [
    "all_comments[0]"
   ]
  },
  {
   "cell_type": "markdown",
   "metadata": {},
   "source": [
    "# Random data hacking"
   ]
  },
  {
   "cell_type": "code",
   "execution_count": 6,
   "metadata": {
    "scrolled": true
   },
   "outputs": [
    {
     "data": {
      "text/plain": [
       "[('##JOHNNIEAYSGARTH', 14),\n",
       " ('##BANKER62', 8),\n",
       " ('##17LUFTBALLONS', 7),\n",
       " ('##DFIC1999', 7),\n",
       " ('##LALTHEGAL2021', 6),\n",
       " ('##FARABUNDOVIVE', 6),\n",
       " ('##HACKERJACK79', 6),\n",
       " ('##BARONVONDOMINIC', 5),\n",
       " ('##JFORBES', 5)]"
      ]
     },
     "execution_count": 6,
     "metadata": {},
     "output_type": "execute_result"
    }
   ],
   "source": [
    "A = [x.split('\\n')[0] for x in all_comments]\n",
    "from collections import Counter\n",
    "AN = Counter(A)\n",
    "sorted([(x,y) for x,y in AN.items() if y > 4], key=lambda x : -x[1]) "
   ]
  },
  {
   "cell_type": "code",
   "execution_count": 24,
   "metadata": {},
   "outputs": [
    {
     "name": "stdout",
     "output_type": "stream",
     "text": [
      "[master 26cbffe] web\n",
      " 5 files changed, 228 insertions(+), 271 deletions(-)\n",
      " create mode 100644 yb8ez.pkl\n",
      " create mode 100644 yddvx.pkl\n",
      " create mode 100644 ye5m7.pkl\n",
      " create mode 100644 yjvf7.pkl\n",
      "Counting objects: 7, done.\n",
      "Delta compression using up to 12 threads.\n",
      "Compressing objects: 100% (7/7), done.\n",
      "Writing objects: 100% (7/7), 738.28 KiB | 2.44 MiB/s, done.\n",
      "Total 7 (delta 4), reused 0 (delta 0)\n",
      "remote: Resolving deltas: 100% (4/4), completed with 2 local objects.\u001b[K\n",
      "To https://github.com/macbuse/GUARDIAN.git\n",
      "   f914f6e..26cbffe  master -> master\n"
     ]
    }
   ],
   "source": [
    "! ./.g\n"
   ]
  },
  {
   "cell_type": "code",
   "execution_count": 30,
   "metadata": {},
   "outputs": [
    {
     "name": "stdout",
     "output_type": "stream",
     "text": [
      "##STILT\n",
      "https://discussion.theguardian.com/comment-permalink/155280552\n",
      "https://profile.theguardian.com/user/id/2397205\n",
      "\n",
      "This comment was removed by a moderator because it didn't abide by our\n",
      "         \n"
     ]
    }
   ],
   "source": [
    "print(all_comments[0][:200])"
   ]
  },
  {
   "cell_type": "code",
   "execution_count": 25,
   "metadata": {},
   "outputs": [
    {
     "data": {
      "text/plain": [
       "'france-populism-gaining-ground-revolution'"
      ]
     },
     "execution_count": 25,
     "metadata": {},
     "output_type": "execute_result"
    }
   ],
   "source": []
  },
  {
   "cell_type": "code",
   "execution_count": 7,
   "metadata": {},
   "outputs": [
    {
     "name": "stdout",
     "output_type": "stream",
     "text": [
      "##JOHNBARNESONTOAST\n",
      "https://discussion.theguardian.com/comment-permalink/157847286\n",
      "https://profile.theguardian.com/user/id/2999750\n",
      "\n",
      "I think a premise touched on in this article is valid - that the women's game needs to be approached and appreciated in its own terms, rather than the continued comparatives with the men's game.\n",
      "They are entirely different 'products' (for lack of a better word)Leaving aside the braying from some quarters who will always look to denigrate the sport in relation to the men's iteration, we have in recent times seen an increasing tendency to draw comparisons in the areas that the women's game purportedly 'bests' that of the men's - in sporting integrity, honesty, its family-friendly nature.I contend that this route is a path to failure. Ultimately, those 'positive' characteristics broadly equate to a simple mirroring of the women's game's progress along the timeline of professionalism; there is less at stake for the players and the fans; there is less pressure. Assuming the women's game continues to develop, you will frankly see those traits lost in the pursuit of excellence. Players will become more cynical, fans more tribal.And if you've built your case for support on those foundations where are you left to go once they're eroded?You'd be left with few metrics beyond those currently preferred by the game's detractors: speed and strength in relation to the men's game - an area where the women's game will always come second.I think it's a far better long term strategy to position the women's game as different from the men's but still potentially great on its own terms.Let its 'weakness' even be a strength. Plenty of people enjoy women's tennis as an alternative to the men's game precisely because of the lower-reliance on brute physics.The women's game is slower than the men's. It is less physically intense. There is less power on display. Those things will not change.But those things don't define football in any absolute way. Sell the game on the aspects that are its long term USP -skill and tactical contests - leave the petty point scoring to the neanderthals sneering in the other direction.\n",
      "\n",
      "##LITERALLY\n",
      "https://discussion.theguardian.com/comment-permalink/157843181\n",
      "https://profile.theguardian.com/user/id/100724127\n",
      "\n",
      "Not sure on this. There are a few issues that I think are important to note. \n",
      "1. The American college system enables Women's Soccer to become a larger and more popular sport without incurring any of the costs with running it. But, it is also separate from the male national league, so there are no split loyalties etc. \n",
      "2. We have decided to follow the current team format - which has meant that the wealthier PL teams can afford to subsidise a woman's team, but lower league teams can't. The similarities between the top teams in the male league and the top teams in the women's league are quite stark. Taking into account the loyalty of fans - it is fair to suggest that there are literally hundreds of thousands of fans who do not have a women's team to follow. Maybe, as with the US example a completely different approach was needed? \n",
      "3. Men's football is expensive. I ticket for a PL game is £50 and above, for a family it is not possible to go regularly. Particularly for those clubs who have working class origins and supporters. Are you going to pay the same amount to watch a slower, inferior game? Are you going to start following the women's team because you can't afford to follow the men's team? Is that morally right as a strategy? \n",
      "I'm not sure Woman's football will ever be on an even footing with Men's, and those 'toxic' elements in men's football are what drive the billion pound industry! Sorry, but talk of 'equal pay' is ridiculous - equal rights are different. And comparisons with the US are moot - totally different culture, and totally different starting position - do you know any women's NFL teams? How is the WNBA doing financially?\n",
      "\n",
      "##WI1987\n",
      "https://discussion.theguardian.com/comment-permalink/157845081\n",
      "https://profile.theguardian.com/user/id/106805899\n",
      "\n",
      "A bit uncomfortable reading this. Why are men always the bad guys?\n",
      "I am very pleased at the improving status of women's football and the achievements of the england team. I cheered as loudly as any woman last night and throughout the tournament and there were thousands of men in the stands. And yet 'men rage on social media etc etc.'\n",
      "For what it is worth, I totally agree that the perpetual comparisons with mens' football are unnecessary. Different games, and womens football deserves and has earnt the right to continue to grow as the excellent product that it is, fully independent of mens football. I am uncomfortable that comparisons that paint mens football in a bad light are deemed fair game, whereas comparisons that paint womens football less favourably are off the table. \n",
      "Look, I get it. The lack of access and exposure for talented girls to enter the beautiful game in previous generations has been shocking. It is totally and inarguably right that the euros are getting the increased exposure. I daresay that as the stakes, prize money and risk rises, so will the cynicism that you have associated the mens game. \n",
      "But either way - womens football deserves to be treated and recognised as the excellent and independent product that it is. The england team are a credit to the nation and the tournament has been technically and sportingly excellent. I have thoroughly enjoyed watching it and look forward to watching future tournaments as the sports continues to get the exposure and recognition it deserves. I also will continue to enjoy the mens game and do not feel that comparisons (either way) need to be made.\n",
      "\n",
      "##LORDCUTGRASS\n",
      "https://discussion.theguardian.com/comment-permalink/157846212\n",
      "https://profile.theguardian.com/user/id/4045506\n",
      "\n",
      "I have seen numerous comments blaming the diving, cheating and cynicism in the men's game on the money they are paid. It has nothing to do with the money and everything to do with the refereeing. Why do players dive? Because referees won't give fouls unless a player goes down. I remember seeing Aidan McGeady getting booked for diving at Easter Road because he tried to hurdle a leg breaker of lunging tackle and lost his balance. Players shouldn't be expected to take a leg-breaker just to get the free kick. \n",
      "Simulation is a monster that men's football has created by tolerating brutality for decades (go back and watch some of the tackles Maradona was on the receiving end of in both Spain and Italy in the 80s) so skilful players respond in kind. Actual pre-meditated full on diving is rare - it happens, but is rare. The casual watcher of football thinks it is more common because they are much more likely to be aware of the egregious examples of cheating than the run-of-the-mill ordinary play that makes up the vast majority of football. \n",
      "Women's football can avoid this by refereeing the game fairly and giving free kicks for fouls without requiring the player to be knocked off their feet. I'd say the reason you see much less of it in the women's game is because it is more technical and has less physical contact (legal or otherwise), reducing the opportunity for players to try and gain an advantage by diving. \n",
      "Women are every bit as competitive as men, and elite sportspeople are ferociously competitive. If it brings them an advantage, they will do it.\n",
      "\n",
      "##BUMMBUMM3\n",
      "https://discussion.theguardian.com/comment-permalink/157843551\n",
      "https://profile.theguardian.com/user/id/103967708\n",
      "\n",
      "For me all this campaigning for women football is from a political point of view understandable.\n",
      "These permanent accusations now about money corrupting male football, about gucci players etc. has nothing to do that men are playing or that it is football. That is so hypocritical.It only depends on the demand, simple as that. People watch it and pay for it.\n",
      "Do you seriously think that a women'S league if under the same conditions - overflooded with money - would be different? Anywhere where a lots of money is involved things go the same way. Player's become superstars, influencers and role models. \n",
      "And women's football level has increased without doubt so it is more watchable, but overall level still needs some time to become attractive in a wider range and I just state a fact without judgement. \n",
      "And instead of campaigning for women football, it would be much better to campaign for all these sports - either men or women - which suffer enormously under the weight of football domination.\n",
      "The Guardian hardly reported of the athletics world championship, did not report of swimming world championship, table tennis, kanu, kayal ,whatever. That is depressing \n",
      "Running after the Zeitgeist and hail and promote women football, well it doesn't convince me. And I cannot here anymore the moral condemnation and accusation of being sexist, when someone has a different opinion about women football, does not like to see it, or thinks it is boring. I think people should decide what they like watching without being told what is good or bad.\n",
      "\n",
      "##THISEARTHLING\n",
      "https://discussion.theguardian.com/comment-permalink/157842565\n",
      "https://profile.theguardian.com/user/id/100496359\n",
      "\n",
      "When I have bemoaned the fact that the women’s game is becoming more like the men’s game with each passing season, in terms of what I call cheating – ie diving, feigning injury, “professional fouls” – I have been rounded upon and asked “Wy should I expect women to play any less hard than the men?” – an accusation which misses my point. There is a vast difference between “playing hard” and cheating, and it saddens me that so many can’t seem to see this.\n",
      "There is nothing wrong with playing hard and everything wrong with cheating, and this latter has ruined the men’s game. I really, really wish and hope that the women’s game stops itself from going further down this route. I understand players want to win, but the “win at any cost” attitude, which justifies cheating, is not a good one, and can be seen as a last resort by players not good enough to win by skill.\n",
      "Take Lionel Messi as a role model in this, please. You don’t see him pulling this shit, and there is no male player I have a greater respect for as a result. He is, unfortunately, a rarity in the men’s game, but I can only hope that such an attitude will be the norm in the women’s game. When the fear of losing becomes greater than the desire to play as best as possible, that is the end of what makes the sport worthwhile. It is, of course, a natural response to the desired and needed influx of money into the game, but it must be resisted if it is to retain what makes it, currently, still quite special.\n",
      "\n",
      "##POINTTAKEN\n",
      "https://discussion.theguardian.com/comment-permalink/157845319\n",
      "https://profile.theguardian.com/user/id/4780861\n",
      "\n",
      "\"male amateur players have even less strength and speed than the female pros\"\n",
      "that's why !There is a level at which any sport becomes unwatchable.\n",
      " wrt to amateur or semi-professional local male sides, I think popularity is increasing especially if they broadcast their games with half-decent commentators on social media, youtube, facebook etc.. The premier professional male game is killing itself due to greed at the top and that greed trickles down. People just want to watch genuine passion and emotion and a half decent game. Rossos back-healer is a perfect example of passion/emotion and half-decent skill. The only skill involved was that she could hit the ball hard enough with her heel and it would travel towards the goal. The reason it went in was a lack of skill by the defender and goalie as they weren't expecting it and it trundled through the goalies legs (LOL!!! ). Everyone jumped off their sofas and seats at that point, albeit for different emotions. Then there is the build up to the back heel, it arose after she missed a sitter by powering a free shot straight to the keeper (\"what an idiot!\"). After that she had nothing left to lose , back heel was a desperate attempt at redemption (\"go on!!!\"). I digress. The point I'm making is that the womens game has everything, even comedic moments. Male football is far too clinical and serious, few players dare take on the opposition and take chances. The male game is genuinely boring to watch.\n",
      "\n",
      "##WILLDUFF\n",
      "https://discussion.theguardian.com/comment-permalink/157843009\n",
      "https://profile.theguardian.com/user/id/2545117\n",
      "\n",
      "We were talking about how it feels like a different game while watching last night. Given that women footballers are smaller and (presumably) slower than the men, that seems to allow greater freedom for skill and smart passing because the pitch is more open. Which is not at all to say that the game is any less committed or difficult or confrontational or strategic or physical, just that it seems to be more enjoyable to watch because the players are able to express themselves better without every move being cut-out or failing. \n",
      "I've been amazed at the skill levels and vision, which is far in excess of what you'd see in the Championship. While women's football overall has less depth than the multiple tiers of the men's game, and therefore with a smaller player base to select from, that doesn't seem to have affected the quality of the pool of players.\n",
      "I echo others' points about the lack of cynicism and play-acting. The behaviour of Spain the other night was therefore quite a surprise, given that they seem to have picked up some bad habits from their male counterparts. One thing I would say, though, is that perhaps the refereeing is therefore a touch naive and needs to be braver. The Swedish player last night should have been booked in the first half for a clear, deliberate foul on the England left side (sorry, I don't recall the names). She knew perfectly well what she was doing, even if it was more out of desperation at being beaten for pace.\n",
      "\n",
      "##LTCDR_LOCKHART\n",
      "https://discussion.theguardian.com/comment-permalink/157846139\n",
      "https://profile.theguardian.com/user/id/12126200\n",
      "\n",
      "I disagree. The parameters may be different but that doesn't inherently make the game more entertaining, that is down to the particular circumstances of the teams. After all, the long ball game which you refer to is outmoded in the men's game at international level and has been for some time whereas picking a 5'11\" striker and hanging balls into the box remained a viable tactic in the women's game until relatively recently. Similarly, women's international tournaments are far more predictable than their male equivalents - the USA have won literally half of all women's World Cups ever, and Germany have won two thirds of the European Championships. Only ten teams have ever made the semi finals of the women's World Cup, compared to sixteen for the men over the same period (the equivalent figures for the European Championships are eleven and fourteen - and that's despite the women having three additional tournaments in the time frame).\n",
      "None of this is an inherent criticism of women's football - it's an entertaining sport and some of the issues will be resolved as it develops and professionalism spreads - but there is little fundamental difference between the men's and women's games. The only inherent difference that I can think of is that female goalkeepers are always likely to be smaller and therefore long shots and lobs will be a bit more effective.\n",
      "\n",
      "##BACKPEDDLE\n",
      "https://discussion.theguardian.com/comment-permalink/157843952\n",
      "https://profile.theguardian.com/user/id/3282049\n",
      "\n",
      "I’m not a football fan. If asked in the pub I’ll give a team name but couldn’t name it’s manager or any player and the only time I ever watch the male game is at international level.So faithful to this mantra I tuned into Englands quarter final last week and was met with a game so positive in atmosphere and play I was hooked enough to watch it. (Normally the mens game holds my attention for 5 minutes before I wander off).The play is less robotic, handling and control ‘mistakes’ are balanced on both sides giving the game a natural feel. No penises seems to equal less aggression giving the game a feeling of sport as it should be. The game feels far more genuine on every level than the mens.I know why. Rugby had the same feel to it before it went professional, post professional it became what it is today as has mens football filled with peacocks.Women should be receiving the same money as the men, of this there is no doubt, but I fear once the money comes in, deals are signed it will go the same way as the mens game, stale, robotic and feeling fake.I hope that the womens FA has the nuance to see this coming and somehow avoid the path trodden by the mens game and to ruin what is a superb sporting spectacle.PS, why is it in an age where there are no ‘ess’ do we continue to call our team the Lionesses? Come on you Lions!!!\n",
      "\n",
      "##FURI01\n",
      "https://discussion.theguardian.com/comment-permalink/157846334\n",
      "https://profile.theguardian.com/user/id/106655735\n",
      "\n",
      "If women's professional football wants a long-term future it needs to address a number of issues.Firstly finance, currently on a professional level it survives on funding from the men's game, the issues of finance killed the professional women's game in the USA, where it is more popular, a number of times. So what is the long-term plan?People when they have limited time and money, and they always do, will tend toward the best they can get, hence why major teams can sell all their tickets and your 'local side' as a 'man with his dog' How will the women's game address the standards issue ?The Wimbledon effect is the two weeks during the tournament when the courts are full, followed by the other 50 when no one cares. The current success and Euro's are likely to cause this effect for women's football, how will they keep the interest when the Euro's finish ?\n",
      "And mostly the gap between those who 'support ' women's football and those who 'actual pay ' to watch it regarding women themselves is huge, which reflects that on average women are less interested in sport than men regardless of who is playing and what they are playing. How will this be addressed?Many of these issues are interlinked, and none can be addressed through wishful thinking and just claiming 'sexism'.\n",
      "\n",
      "##MRJINX\n",
      "https://discussion.theguardian.com/comment-permalink/157846875\n",
      "https://profile.theguardian.com/user/id/4420858\n",
      "\n",
      "Of course you should compare it to the mens game. Football is football wherever and whomever decides to play it. So, regardless of gender, there are crappy games and there are some great games. Some of the great games can be because the participants aren’t great but are equal. And, some really crappy games have involved the best teams and players in the world. The issue with the women’s game, as it stands now, is that most games are crappy and involve crappy teams and players with little ability. Proponents of the women’s game will often see veiled sexism or misogyny when the quality of the delivered product is criticised. However, what shouldn’t be forgotten is how long it has taken to get the mens game and it’s competitive structures to this point in time. Even now, it’s continually evolving to make leagues and cups more competitive. Criticism and comparison with other football products is a necessary evil. Ask yourself, would the Lionesses be where they are today if it wasn’t for the criticism received after the last couple of tournaments. Or, the aim to have a team if not equal to the U.S women but better? To dismiss the men’s game as just ‘different’ does no favours to the women’s game and diminishes the game of football.\n",
      "\n",
      "##LUBOSLEFTBOOT\n",
      "https://discussion.theguardian.com/comment-permalink/157843167\n",
      "https://profile.theguardian.com/user/id/13048774\n",
      "\n",
      "Woman's football is no different to men's football.It's football.You qualify to play in the woman's team by being a woman but it is no better or worse than men's, even if the men's game is richer.Any argument that the men's game is 'better' comes with the qualification that infinitely more men play on better funded teams (part due to sexism and part due to football being more popular amongst men (which is part due to historic sexism as well)) and no history of sexism etc by society.Have the same situation for both genders and we can judge who is better.\n",
      "It's a bit like when English based commentators compare the men's leagues in Scotland to England and try to say where our teams .It's an utterly irrelevant comparison and anyone who does it needs put in the bin.\n",
      "Did you enjoy the game from a technical or entertainment standpoint?Do you want to support a team in the future because they represent you in some fashion or the atmosphere at their games is great?Do you want to watch them from purely an entertainment perspective in the same way you do a film (without being a committed fan)?Do they make you want to play football more yourself and can you help my 5s game get the numbers on a Thursday?That's all that matters.\n",
      "\n",
      "##SLEEPINGDOG\n",
      "https://discussion.theguardian.com/comment-permalink/157844569\n",
      "https://profile.theguardian.com/user/id/3634041\n",
      "\n",
      "I have watched the big tournaments (World Cup, Euros, but not Olympics) women's international football for many years, along with the men's World Cup and Euro (every non-concurrent match in each). While it is surely true to say there has been less simulation (diving) and similar on-pitch cheating in the women's tournaments overall, there are teams that practice it. I watched a horrendous short clip on television during the tournament about an English squad player raving about the USAmerican win-ugly mentality they had been exposed to in the USA. I remember the USA team running the ball into the corner flag before 80 minute in one game they were winning, to the horror of an aghast crowd.\n",
      "Football is a spectator sport, where people (not necessarily supporters of one team or another, especially in international tournaments and through broadcast/online) pay to watch football, not anti-football. I don't know what it is like in the English Women's Super League, but last night English players were diving all over the pitch against Sweden (except in the opposing penalty box) and winning free kicks for the first 35 minutes, leaving co-commentator Rachel Brown-Finnis struggling to come up with enough euphemisms for diving.\n",
      "\n",
      "##THEVICARAGECAT\n",
      "https://discussion.theguardian.com/comment-permalink/157847614\n",
      "https://profile.theguardian.com/user/id/4672500\n",
      "\n",
      "Fans and journalists should stop pitting the women's game against the men's game as if we have to choose one or the other. It's all football: we can love both and we should just enjoy it. We have a women's Euros and a men's World Cup this year, so that's pretty special for a football fan. That said, there are historical and cultural reasons why women's football needs to be grown. Unlike the women's game, men were not banned from playing football by the FA for 50 years, so the men's game has become the dominant part of football on and off the pitch. We will never know what women's football would be like if it had not been banned in 1921, and therefore needed to 'catch up' with men's football. It's an incredible lost opportunity. But despite this, women's football can learn from the development of men's football, in terms of tactics, style of play, and its administrative and commercial development, and catch up pretty quickly. Not only that, it can improve on aspects of the game and its fan culture, that reflect badly on the sport (think of your own examples here), and hopefully improve on things to make all football better for everyone. \n",
      "P.S. Support the Lionesses!\n",
      "\n",
      "##POINTTAKEN\n",
      "https://discussion.theguardian.com/comment-permalink/157843954\n",
      "https://profile.theguardian.com/user/id/4780861\n",
      "\n",
      "Only the female players and the female managers really understand womens football. It is a different sport to professional mens football simply because, relatively speaking, the pitch, the goals and the length of the match are all greater for women than men. It's simply an undeniable biological fact the women are less strong and less quick. For this reason, we are watching a different sport and strategies and that's for the btter. Womens football is far less predictable yet also far more relatable to spectators and amateur players than the professional mens game could ever be. This improves it's entertainment value immensely .For example, the completely un-entertaining strategy of hoofing the ball up the pitch to a striker whether it is done as a clearance or a pass is no longer an effective option, simply because women are physically less powerful than professional male footballers. A clearance into space by a female defender may only travel as far as a quarter of the pitch. AS such Womens football is way more entertaining. It's simply a matter of time before women's football becomes more popular than mens football.\n",
      "\n",
      "##EAMONMCC\n",
      "https://discussion.theguardian.com/comment-permalink/157843014\n",
      "https://profile.theguardian.com/user/id/1155830\n",
      "\n",
      "I went off men's football a long time ago. Here in Madrid I ask Real Madrid supporters why they get passionate about and defend to the death the sporting equivalent of JP Morgan. I haven't received a reply yet - it would appear that it has never occurred to them.\n",
      "I've caught a few of the games in the women's WC. It appears that women have a different centre of gravity to men and this changes the dynamics of the game really nicely. In general, I have been pleasantly surprised at the quality, behaviour and an atmosphere that invites me in rather than repels me.\n",
      "If I have understood correctly, women are at the other end of the scale from the warehouse-sized salaries most men get at or near the top of the game. I sense that women's football is at a lovely moment of its evolution: Big Money hasn't stomped its big boot on it yet and it hasn't got the vulgarity (yet!) that is often too much of the men's game.\n",
      "Here's the thing: let's see how much it changes once the big money-spinning gets going. If there isn't significant change in the downward direction, then maybe we really will be looking at the sport of the future ?\n",
      "\n",
      "##DFIC1999\n",
      "https://discussion.theguardian.com/comment-permalink/157843185\n",
      "https://profile.theguardian.com/user/id/37945\n",
      "\n",
      "Offord:\n",
      "\n",
      "Why is the women’s game seen as more “family friendly”? Because women are softer? Less prone to diving, swearing and backchatting the ref?\n",
      "\n",
      "What if this perception was the result of the marginalisation of the women's game, the subsequent desire to be perceived as different (often code for 'better') and allied to the way women are socialised in contrast to men? Hence the tendency to use the women's game as a stick with which to beat the men's game and male footballers. Offord's comment that male footballers are expected to 'just rock up with a Gucci washbag and some AirPods, play football and trot off again' overlooks the ways in which the conduct of male footballers and their potential influence as role models - both on and off the pitch - has been the subject of (endless) comment (e.g. Wayne Rooney, Marcus Rashford, Raheem Stirling). Going off for a football-related gig in the middle of a pandemic under lockdown rules was a bad look regardless of who did it because they're professionals, hence the club “reminded [the players] of their responsibilities” - not least to their team-mates.\n",
      "\n",
      "##REALORPINGTON\n",
      "https://discussion.theguardian.com/comment-permalink/157842938\n",
      "https://profile.theguardian.com/user/id/101264387\n",
      "\n",
      "Women‘s Euro 2022 is now getting where it deserves to be in television and public recognition and is such fun to watch. In my company we always had betting games for football European and World Championships. For men. Everybody played and it was great fun when finally the fanatics and experts lost to some lady from HR who picked lucky. When the women tried to set it up for the women‘s championships, we met with indifference. Nothing directly offensive, but turnout was just very low. Some even seemed to be surprised that such an event was on. Certainly there was no initiative to treat both events equal. When I discussed it with young footballers from my daughter’s school - which has a special program for youth league football for boys and girls, one young man gave a shrug and said: Women’s football is great and the old men who only support male football belong to a bygone era. Also if they are vocal about how they are only into men‘s football, they just show their lack of true sportsmanship. That was more than ten years ago but is still true.\n",
      "\n",
      "##FLIGHTGUILEANDPIES\n",
      "https://discussion.theguardian.com/comment-permalink/157846559\n",
      "https://profile.theguardian.com/user/id/17467893\n",
      "\n",
      "I think I agree; there aren't many other positives to take from it, but I think I'd take all the negatives, put them on one side of the scales, and the potential gains for women's cricket in the next three or fours years might counterbalance them (in my own head and in my opinion).\n",
      "Australia has that sharp focus on talent by having six state sides, and (I think) eight WBBL sides? It means that every game is competitive, and that there are players having to fight for their place and their professional contract. \n",
      "I never rated KP, but he was right about a lot of people strolling along and taking a living from the 18 team county championship. It isn't sharp enough to test batters. Most sides have one excellent bowler, or perhaps two. A batter can switch on for one spell and then cash in. Whereas at the peak level it's hour after hour of relentless probing from three or four quality bowlers. Only having six or eight franchises for The Hundred will mean that there's a talent pool for women's cricket, but also a concentration of quality.\n"
     ]
    }
   ],
   "source": [
    "import os\n",
    "\n",
    "all_comments.sort(key=lambda x : -len(x) )\n",
    "txt = '\\n\\n'.join(all_comments[:20])\n",
    "print(txt)\n",
    "with open(os.environ['HOME']+'/tmp.txt','w') as fp:\n",
    "    fp.write('\\n\\n'.join(all_comments[:20]))\n",
    "with open(os.environ['HOME']+'/{}.txt'.format(article_url.split('/')[-1]),'w') as fp:\n",
    "    fp.write('\\n\\n'.join(all_comments[:20]))"
   ]
  },
  {
   "cell_type": "code",
   "execution_count": null,
   "metadata": {},
   "outputs": [],
   "source": []
  },
  {
   "cell_type": "code",
   "execution_count": null,
   "metadata": {},
   "outputs": [],
   "source": []
  },
  {
   "cell_type": "code",
   "execution_count": 6,
   "metadata": {},
   "outputs": [
    {
     "name": "stdout",
     "output_type": "stream",
     "text": [
      "[master f06fcf3] web\n",
      " 4 files changed, 341 insertions(+), 216 deletions(-)\n",
      " create mode 100644 ymmym.pkl\n",
      " create mode 100644 yy437.pkl\n",
      " create mode 100644 yydf9.pkl\n",
      "Counting objects: 6, done.\n",
      "Delta compression using up to 12 threads.\n",
      "Compressing objects: 100% (6/6), done.\n",
      "Writing objects: 100% (6/6), 598.61 KiB | 1.82 MiB/s, done.\n",
      "Total 6 (delta 4), reused 0 (delta 0)\n",
      "remote: Resolving deltas: 100% (4/4), completed with 2 local objects.\u001b[K\n",
      "To https://github.com/macbuse/GUARDIAN.git\n",
      "   26cbffe..f06fcf3  master -> master\n"
     ]
    }
   ],
   "source": [
    "! ./.g"
   ]
  },
  {
   "cell_type": "code",
   "execution_count": 18,
   "metadata": {},
   "outputs": [
    {
     "name": "stderr",
     "output_type": "stream",
     "text": [
      "[nltk_data] Downloading package vader_lexicon to\n",
      "[nltk_data]     /home/gregmcshane/nltk_data...\n",
      "[nltk_data]   Package vader_lexicon is already up-to-date!\n"
     ]
    }
   ],
   "source": [
    "#https://towardsdatascience.com/sentimental-analysis-using-vader-a3415fef7664\n",
    "\n",
    "import nltk\n",
    "#nltk.download('vader_lexicon')\n",
    "\n",
    "from nltk.sentiment.vader import SentimentIntensityAnalyzer\n",
    "\n",
    "sid = SentimentIntensityAnalyzer()"
   ]
  },
  {
   "cell_type": "code",
   "execution_count": 22,
   "metadata": {},
   "outputs": [],
   "source": [
    "a = '''My views haven't changed. Leaving the EU will be of no benefit to anyone except those who hold money and power along with certain corporates and a smidgen of medium to small businesses.\n",
    "How else can it be when you are shutting shop to the most developed nations, the richest nations in the world, who are either in the EU or have market agreements with the EU. Even the emerging markets of China and India along with other developing economies are aspiring to develop trading agreements with the EU, the second largest economy in the world. Any deal with the UK will be secondary and will depend upon their agreement with the EU.\n",
    "Boris Johnson once said \"f**k business\". I take this as meaning there is something in it for them and they don't really care if businesses find it difficulA\n",
    "t to cope.\n",
    "I can see ministers and conservative MPs queuing to fill their pockets by acting as advisors for potential trade deals whilst the rest of the country are left struggling trying to rebuild their lives, especially following the pandemic. The same ministers will probably be looking to lower all kinds of standards from food and welfare to safety at work to improve their opportunities.\n",
    "When it comes to brinkmanship, I can only view this as getting away with whatever they can. I do not believe it is anything to do with negotiating an agreement that will be to the benefit of the UK or the EU as a whole, I don't believe our ministers are capable of doing that.'''"
   ]
  },
  {
   "cell_type": "code",
   "execution_count": 24,
   "metadata": {},
   "outputs": [
    {
     "ename": "TypeError",
     "evalue": "sentiment_valence() missing 4 required positional arguments: 'sentitext', 'item', 'i', and 'sentiments'",
     "output_type": "error",
     "traceback": [
      "\u001b[0;31m------------------------------------------------------------\u001b[0m",
      "\u001b[0;31mTypeError\u001b[0m                  Traceback (most recent call last)",
      "\u001b[0;32m<ipython-input-24-6f3326dcf5de>\u001b[0m in \u001b[0;36m<module>\u001b[0;34m\u001b[0m\n\u001b[1;32m      1\u001b[0m \u001b[0msid\u001b[0m\u001b[0;34m.\u001b[0m\u001b[0mpolarity_scores\u001b[0m\u001b[0;34m(\u001b[0m\u001b[0ma\u001b[0m\u001b[0;34m)\u001b[0m\u001b[0;34m\u001b[0m\u001b[0m\n\u001b[0;32m----> 2\u001b[0;31m \u001b[0msid\u001b[0m\u001b[0;34m.\u001b[0m\u001b[0msentiment_valence\u001b[0m\u001b[0;34m(\u001b[0m\u001b[0ma\u001b[0m\u001b[0;34m)\u001b[0m\u001b[0;34m\u001b[0m\u001b[0m\n\u001b[0m",
      "\u001b[0;31mTypeError\u001b[0m: sentiment_valence() missing 4 required positional arguments: 'sentitext', 'item', 'i', and 'sentiments'"
     ]
    }
   ],
   "source": [
    "sid.polarity_scores(a)\n",
    "sid.sentiment_valence(a)"
   ]
  },
  {
   "cell_type": "code",
   "execution_count": 10,
   "metadata": {},
   "outputs": [
    {
     "name": "stdout",
     "output_type": "stream",
     "text": [
      "##LIBBETS\n",
      "https://discussion.theguardian.com/comment-permalink/156335914\n",
      "https://profile.theguardian.com/user/id/12302017\n",
      "\n",
      "Peter **CAPALDI** sums it up well for me.'People always ask me what it is about Doctor Who that appeals so broadly. The answer I would like to give, and which I’m discouraged from giving because it is not useful in the promotion of a brand, is that it’s about death. It has a very powerful death motif in it which is that the central character dies. I think that is one of its most potent mysteries because somewhere in that people see what happens in life. You have loved ones and then they go, but you must carry on.'\n",
      "Here's to carrying on. Best wishes to Ncuti Gatwa, I can't wait.\n",
      "\n",
      "##MACHINEHEAD\n",
      "https://discussion.theguardian.com/comment-permalink/156338017\n",
      "https://profile.theguardian.com/user/id/1642806\n",
      "\n",
      "I’m not convinced Whitaker was a great Doctor to be honest…middling I’d say but like **CAPALDI** before her she was not gifted with the greatest storylines much of the time.\n",
      "The return of RT though bodes well in this respect and Gatwa is a good actor who will appeal to the yoof…\n",
      "My only appeal would be not to forget that Dr Who should have some gravitas along with some genuine scariness at times. \n",
      "Please let’s not have an overload of crazy wackyness ala Matt Smith and a few others…..quirky is fine though…\n",
      "\n",
      "##WILDBEAR82\n",
      "https://discussion.theguardian.com/comment-permalink/156334386\n",
      "https://profile.theguardian.com/user/id/15962759\n",
      "\n",
      "I'm not a Mail reader and I don't care what the actor playing doctors skin colour, gender or sexual preferences are. \n",
      "I also don't think any of the above should influence who's picked for the role but in todays easily offended society I'm sure it's the chief consideration. \n",
      "I'd just want the show to go back to being fun and enjoyable to watch like it was during the Tennant, Smith and **CAPALDI** days.\n",
      "\n",
      "##ACTUALGRAUNREADER\n",
      "https://discussion.theguardian.com/comment-permalink/156335694\n",
      "https://profile.theguardian.com/user/id/10562490\n",
      "\n",
      "Except McCoy and **CAPALDI**.\n",
      "And early Troughton.\n",
      "And as everything else is also unwatched - 'Britain's Got Talent' only pulled a million more than the Easter episode - ratngs matter less than position in the charts and recent stories have done better than alleged 'all tme classics'.\n",
      "\n",
      "##MARKYWILLIAM\n",
      "https://discussion.theguardian.com/comment-permalink/156334465\n",
      "https://profile.theguardian.com/user/id/10771465\n",
      "\n",
      "Um, I don't recall Whittaker being \"the latest top comic\".Neither do I recall that being true of **CAPALDI**.Or Smith.Or Tennant.\n",
      "Which \"latest top comic\" are you talking about?\n",
      "\n",
      "##BASILIDES\n",
      "https://discussion.theguardian.com/comment-permalink/156338998\n",
      "https://profile.theguardian.com/user/id/17015744\n",
      "\n",
      "1. Pertwee2. Smith3. Troughton4. Tom Baker5. **CAPALDI**6. Hartnell7. Ecclestone8. Tennant9. Whitaker10. McGann11. McCoy12. Colin Baker13. Davison\n",
      "\n",
      "##GOBSHEISSE\n",
      "https://discussion.theguardian.com/comment-permalink/156334801\n",
      "https://profile.theguardian.com/user/id/13092801\n",
      "\n",
      "Bring back Peter **CAPALDI** as Dr who merged with his character from 'the thick of it'. \n",
      "That'll liven things up\n",
      "\n",
      "##PETER272\n",
      "https://discussion.theguardian.com/comment-permalink/156339260\n",
      "https://profile.theguardian.com/user/id/100295045\n",
      "\n",
      "All he needs is some half-decent scripts, the lack of which saw off Peter **CAPALDI**\n"
     ]
    }
   ],
   "source": [
    "target = 'decolon'\n",
    "target = 'science'\n",
    "target = 'irish'\n",
    "target = 'mandela'\n",
    "target = 'abolit'\n",
    "target = 'whittaker'\n",
    "target = 'capaldi'\n",
    "\n",
    "\n",
    "xx = [x for x in all_comments if target.lower() in x.lower() and  len(x) > 20]\n",
    "yy = [x for x in all_comments if '#pin' in x.lower() and 2000 > len(x) > 20]\n",
    "\n",
    "#print('\\n\\n'.join( ['\\n\\n'.join(x) for x in zip(xx,yy)])  )\n",
    "\n",
    "#print( '\\n\\n'.join(xx).replace(target, ) )\n",
    "pxx = re.compile(target, re.I)\n",
    "print( pxx.sub('**' + target.upper() + '**', \n",
    "              '\\n\\n'.join(xx)) )\n",
    "               \n",
    "#print( '\\n\\n'.join(xx) )\n"
   ]
  },
  {
   "cell_type": "code",
   "execution_count": 20,
   "metadata": {},
   "outputs": [
    {
     "data": {
      "text/plain": [
       "0.7820401046207497"
      ]
     },
     "execution_count": 20,
     "metadata": {},
     "output_type": "execute_result"
    }
   ],
   "source": [
    "(26/31) / (74/69)"
   ]
  },
  {
   "cell_type": "code",
   "execution_count": 64,
   "metadata": {},
   "outputs": [
    {
     "data": {
      "text/plain": [
       "529"
      ]
     },
     "execution_count": 64,
     "metadata": {},
     "output_type": "execute_result"
    }
   ],
   "source": [
    "23**2"
   ]
  },
  {
   "cell_type": "markdown",
   "metadata": {},
   "source": [
    "## "
   ]
  },
  {
   "cell_type": "code",
   "execution_count": 21,
   "metadata": {},
   "outputs": [
    {
     "data": {
      "text/plain": [
       "211"
      ]
     },
     "execution_count": 21,
     "metadata": {},
     "output_type": "execute_result"
    }
   ],
   "source": [
    "84 + 127"
   ]
  },
  {
   "cell_type": "code",
   "execution_count": 24,
   "metadata": {},
   "outputs": [
    {
     "data": {
      "text/plain": [
       "1.2842073077511085"
      ]
     },
     "execution_count": 24,
     "metadata": {},
     "output_type": "execute_result"
    }
   ],
   "source": [
    "84/211/.31"
   ]
  },
  {
   "cell_type": "code",
   "execution_count": 25,
   "metadata": {},
   "outputs": [
    {
     "data": {
      "text/plain": [
       "0.8723126588364586"
      ]
     },
     "execution_count": 25,
     "metadata": {},
     "output_type": "execute_result"
    }
   ],
   "source": [
    "127/211/.69"
   ]
  },
  {
   "cell_type": "code",
   "execution_count": 26,
   "metadata": {},
   "outputs": [
    {
     "data": {
      "text/plain": [
       "1.471264367816092"
      ]
     },
     "execution_count": 26,
     "metadata": {},
     "output_type": "execute_result"
    }
   ],
   "source": [
    "1.28/.87"
   ]
  },
  {
   "cell_type": "code",
   "execution_count": null,
   "metadata": {},
   "outputs": [],
   "source": []
  }
 ],
 "metadata": {
  "kernelspec": {
   "display_name": "BASE",
   "language": "python",
   "name": "base"
  },
  "language_info": {
   "codemirror_mode": {
    "name": "ipython",
    "version": 3
   },
   "file_extension": ".py",
   "mimetype": "text/x-python",
   "name": "python",
   "nbconvert_exporter": "python",
   "pygments_lexer": "ipython3",
   "version": "3.9.12"
  },
  "widgets": {
   "application/vnd.jupyter.widget-state+json": {
    "state": {},
    "version_major": 2,
    "version_minor": 0
   }
  }
 },
 "nbformat": 4,
 "nbformat_minor": 4
}
