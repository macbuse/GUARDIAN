{
 "cells": [
  {
   "cell_type": "markdown",
   "metadata": {},
   "source": [
    "# Basic scraping for Guardian discussions u"
   ]
  },
  {
   "cell_type": "code",
   "execution_count": 18,
   "metadata": {},
   "outputs": [
    {
     "name": "stdout",
     "output_type": "stream",
     "text": [
      "[master 75ebeea] web\n",
      " 1 file changed, 1914 deletions(-)\n",
      " delete mode 100644 tt.csv\n",
      "Enumerating objects: 3, done.\n",
      "Counting objects: 100% (3/3), done.\n",
      "Delta compression using up to 4 threads\n",
      "Compressing objects: 100% (2/2), done.\n",
      "Writing objects: 100% (2/2), 213 bytes | 213.00 KiB/s, done.\n",
      "Total 2 (delta 1), reused 0 (delta 0)\n",
      "remote: Resolving deltas: 100% (1/1), completed with 1 local object.\u001b[K\n",
      "To https://github.com/macbuse/GUARDIAN.git\n",
      "   4d8b160..75ebeea  master -> master\n"
     ]
    }
   ],
   "source": [
    "! ./.g\n"
   ]
  },
  {
   "cell_type": "code",
   "execution_count": 4,
   "metadata": {},
   "outputs": [],
   "source": [
    "with open('guardian comments scraper.ipynb','r') as fp:\n",
    "    nb = fp.read()"
   ]
  },
  {
   "cell_type": "code",
   "execution_count": 9,
   "metadata": {},
   "outputs": [],
   "source": [
    "import re\n",
    "\n",
    "pp = re.compile(\"(https://www.the.*?)'\")\n",
    "lks = pp.findall(nb)\n",
    "\n",
    "with open('links.txt','w') as fp:\n",
    "    fp.write('\\n'.join(lks))"
   ]
  },
  {
   "cell_type": "code",
   "execution_count": 1,
   "metadata": {},
   "outputs": [],
   "source": [
    "import re \n",
    "import requests\n",
    "import pickle\n",
    "import json"
   ]
  },
  {
   "cell_type": "code",
   "execution_count": 20,
   "metadata": {},
   "outputs": [],
   "source": [
    "article_url = 'https://www.theguardian.com/commentisfree/2020/aug/19/ditch-the-algorithm-generation-students-a-levels-politics'\n",
    "article_url = 'https://www.theguardian.com/commentisfree/2020/aug/21/joe-biden-democrat-convention-nice-guy-trump-fight'"
   ]
  },
  {
   "cell_type": "code",
   "execution_count": 21,
   "metadata": {},
   "outputs": [
    {
     "ename": "NameError",
     "evalue": "name 'my_keys' is not defined",
     "output_type": "error",
     "traceback": [
      "\u001b[0;31m------------------------------------------\u001b[0m",
      "\u001b[0;31mNameError\u001b[0mTraceback (most recent call last)",
      "\u001b[0;32m<ipython-input-21-96eff3d6b4f1>\u001b[0m in \u001b[0;36m<module>\u001b[0;34m\u001b[0m\n\u001b[0;32m----> 1\u001b[0;31m \u001b[0mkey\u001b[0m \u001b[0;34m=\u001b[0m \u001b[0mmy_keys\u001b[0m\u001b[0;34m.\u001b[0m\u001b[0mkeys\u001b[0m\u001b[0;34m[\u001b[0m\u001b[0;34m'guardian'\u001b[0m\u001b[0;34m]\u001b[0m\u001b[0;34m\u001b[0m\u001b[0m\n\u001b[0m",
      "\u001b[0;31mNameError\u001b[0m: name 'my_keys' is not defined"
     ]
    }
   ],
   "source": [
    "key = my_keys.keys['guardian']"
   ]
  },
  {
   "cell_type": "code",
   "execution_count": 22,
   "metadata": {},
   "outputs": [
    {
     "name": "stdout",
     "output_type": "stream",
     "text": [
      "getting comments page no. 1\n",
      "there are 3 pages\n",
      "getting comments page no. 2\n",
      "getting comments page no. 3\n",
      "archiving to ej7f5.pkl\n"
     ]
    }
   ],
   "source": [
    "#scrape the page and get the short url\n",
    "short_url_pp =  re.compile('\"shortUrlId\":\"(.*?)\"')\n",
    "\n",
    "r = requests.get(article_url)\n",
    "mm = short_url_pp.search(r.text)\n",
    "short_url = mm.group(1)\n",
    "\n",
    "#the short url allows us to access the discussion\n",
    "comments_url = 'https://api.nextgen.guardianapps.co.uk/discussion/%s.json'%short_url\n",
    "params = {'orderBy' : 'newest',\n",
    "          'pageSize' : 25,\n",
    "          'displayThreaded' : 'true',\n",
    "          'commentsClosed' : 'false',\n",
    "          'page' : '',\n",
    "          'maxResponses' : 50\n",
    "         }\n",
    "\n",
    "json_data =  []\n",
    "start_page  = 1\n",
    "last_page = None\n",
    "\n",
    "\n",
    "for num_page in range(start_page, 10**4):\n",
    "    print('getting comments page no.', num_page)\n",
    "    params['page'] = num_page\n",
    "    r = requests.get( comments_url, params=params)\n",
    "    json_data.append( r.text)\n",
    "    #The last page is a field in the json object\n",
    "    #I don't need to read this as json I could do a regexp\n",
    "    if num_page == start_page:\n",
    "        json_dict = json.loads(r.text)\n",
    "        last_page = json_dict['lastPage']\n",
    "        print('there are %d pages'%last_page)\n",
    "    if num_page == last_page : break\n",
    "        \n",
    "\n",
    "fn = '%s.pkl'%short_url.split('/')[-1]\n",
    "print('archiving to %s'%fn)\n",
    "with open(fn ,'wb') as fp:\n",
    "    pickle.dump(json_data,fp)\n",
    "    \n"
   ]
  },
  {
   "cell_type": "code",
   "execution_count": 2,
   "metadata": {},
   "outputs": [
    {
     "ename": "SyntaxError",
     "evalue": "invalid syntax (<ipython-input-2-7a525c39f9dc>, line 3)",
     "output_type": "error",
     "traceback": [
      "\u001b[0;36m  File \u001b[0;32m\"<ipython-input-2-7a525c39f9dc>\"\u001b[0;36m, line \u001b[0;32m3\u001b[0m\n\u001b[0;31m    archiving to dqhaa.pkl #jenkins\u001b[0m\n\u001b[0m               ^\u001b[0m\n\u001b[0;31mSyntaxError\u001b[0m\u001b[0;31m:\u001b[0m invalid syntax\n"
     ]
    }
   ],
   "source": [
    "json_data = pickle.load(open('dpb6e.pkl','rb') ) #jenkins\n",
    "\n",
    "archiving to dqhaa.pkl #jenkins\n",
    "\n",
    "archiving to evdjz.pkl #big cummings\n",
    "\n",
    "e9j7e.pkl # bragg\n",
    "\n",
    "eghyd.pkl # migrants"
   ]
  },
  {
   "cell_type": "code",
   "execution_count": 3,
   "metadata": {},
   "outputs": [],
   "source": [
    "json_data = pickle.load(open('etenk.pkl','rb') ) #jenkins\n"
   ]
  },
  {
   "cell_type": "markdown",
   "metadata": {},
   "source": [
    "## remember each page of comments has been stored separately"
   ]
  },
  {
   "cell_type": "code",
   "execution_count": 4,
   "metadata": {},
   "outputs": [
    {
     "data": {
      "text/plain": [
       "8"
      ]
     },
     "execution_count": 4,
     "metadata": {},
     "output_type": "execute_result"
    }
   ],
   "source": [
    "dd = json.loads(json_data[0])\n",
    "len(json_data)"
   ]
  },
  {
   "cell_type": "code",
   "execution_count": 8,
   "metadata": {},
   "outputs": [
    {
     "data": {
      "text/plain": [
       "dict_keys(['postedCommentHtml', 'commentsHtml', 'commentCount', 'refreshStatus', 'lastPage', 'paginationHtml'])"
      ]
     },
     "execution_count": 8,
     "metadata": {},
     "output_type": "execute_result"
    }
   ],
   "source": [
    "xx = json.loads(json_data[0])\n",
    "xx.keys()"
   ]
  },
  {
   "cell_type": "code",
   "execution_count": 9,
   "metadata": {},
   "outputs": [
    {
     "name": "stdout",
     "output_type": "stream",
     "text": [
      "\n",
      "\n",
      "<div class=\"d-discussion d-discussion--recommendations-open u-cf\"\n",
      "     data-read-only=\"false\" >\n",
      "\n",
      " \n"
     ]
    }
   ],
   "source": [
    "print( xx['commentsHtml'][:100])"
   ]
  },
  {
   "cell_type": "code",
   "execution_count": 23,
   "metadata": {},
   "outputs": [],
   "source": [
    "pa = re.compile('data-comment-author=\"(.*?)\"')\n",
    "pid = re.compile('data-comment-author-id=\"(\\d+)')\n",
    "\n",
    "auths = []\n",
    "for xx in json_data:\n",
    "    hh = json.loads(xx)['commentsHtml']\n",
    "    auths.extend(list( zip(pa.findall(hh) , pid.findall(hh)) ))\n",
    "\n",
    "auths = list(set(auths))\n",
    "auths.sort(key=lambda x : x[0].lower())\n"
   ]
  },
  {
   "cell_type": "code",
   "execution_count": 24,
   "metadata": {},
   "outputs": [],
   "source": [
    "auths = dict(auths)"
   ]
  },
  {
   "cell_type": "code",
   "execution_count": 25,
   "metadata": {},
   "outputs": [],
   "source": [
    "class Comment():\n",
    "    pass\n",
    "\n",
    "from bs4 import BeautifulSoup\n",
    "\n",
    "def html2comments(x):\n",
    "    tt = json.loads(x)\n",
    "    soup = BeautifulSoup(tt['commentsHtml'],  \"lxml\")\n",
    "    raw = [ comment.text for comment in  \n",
    "            soup.findAll('div', {'class' : \"d-comment__body\"}) ]\n",
    "    \n",
    "    metadata = soup.findAll('span', {'class' : \"d-comment__author\"})\n",
    "    \n",
    "    auth = [x.text.upper().strip() for x in metadata]\n",
    "    auth_id = [ x.find('a')['href'] for x in metadata]\n",
    "    \n",
    "    return [ '##{}\\n{}\\n\\n{}'.format(a,b,c.strip())  \n",
    "                                 for a,b,c in zip(auth, auth_id, raw)]\n",
    "     \n",
    "all_texts = [ html2comments(page) for page in json_data[:] ]\n",
    "\n",
    "\n",
    "\n",
    "from itertools import chain\n",
    "all_comments = list(chain.from_iterable(all_texts))\n",
    "    "
   ]
  },
  {
   "cell_type": "markdown",
   "metadata": {},
   "source": [
    "with open('b7jtb.pkl','rb') as fp:\n",
    "    json_data = pickle.load(fp)"
   ]
  },
  {
   "cell_type": "code",
   "execution_count": 26,
   "metadata": {},
   "outputs": [],
   "source": [
    "A = [x.split('\\n')[0] for x in all_comments]\n",
    "from collections import Counter\n",
    "AN = Counter(A)"
   ]
  },
  {
   "cell_type": "code",
   "execution_count": 27,
   "metadata": {},
   "outputs": [
    {
     "data": {
      "text/plain": [
       "[('##CAROLEFURKINBASKIN', 9),\n",
       " ('##NOVEDSTHEBEST', 9),\n",
       " ('##SAGARMATHA1953', 7),\n",
       " ('##JAGSFAN80', 7),\n",
       " ('##ANGRYINSOCAL', 6),\n",
       " ('##PARTOFTHEPROBLEM', 6),\n",
       " ('##BREXITSBANE', 6),\n",
       " ('##JONBRADSHAW2020', 6)]"
      ]
     },
     "execution_count": 27,
     "metadata": {},
     "output_type": "execute_result"
    }
   ],
   "source": [
    "sorted([(x,y) for x,y in AN.items() if y > 4], key=lambda x : -x[1]) "
   ]
  },
  {
   "cell_type": "code",
   "execution_count": null,
   "metadata": {},
   "outputs": [],
   "source": []
  },
  {
   "cell_type": "code",
   "execution_count": 28,
   "metadata": {},
   "outputs": [],
   "source": [
    "all_comments.sort(key=lambda x : -len(x) )"
   ]
  },
  {
   "cell_type": "code",
   "execution_count": 29,
   "metadata": {},
   "outputs": [
    {
     "name": "stdout",
     "output_type": "stream",
     "text": [
      "##PARTOFTHEPROBLEM\n",
      "https://profile.theguardian.com/user/id/16171854\n",
      "\n",
      "I missed the balloons, the streamers, the strutting around the stage. I missed the lines carefully calibrated for applause and the veering off-script. I missed the theatricality.\n",
      "\n",
      "Why?! The above might be entertaining to you & others, but it's shouldn't have a place in politics as it places showmanship above everything else.\n",
      "\n",
      "The convention felt like a charity marathon without an audience, punctuated with unfunny comedy and sob stories.\n",
      "\n",
      "I've seen some suggest that the DNC didn't want to waste money when they have no faith in Biden/Kamala to win against Trump...I'm not sure I agree, but seeing that Billy Porter music video at the end of the first night they certainly didn't put a lot of effort into it.\n",
      "\n",
      "The US is standing on the faultline of a pandemic, a deepening recession and a racial divide...\n",
      "\n",
      "The racial divide seems to be driven in part by the media and activists who rush to sensationalise any incident they can into acts of extreme racism. We saw that with the short lived protests surrounding the shooting of Hakim Littleton, they broke up quickly as the police released the bodycam footage showing him pull a gun and fire at officers at nearly point blank range.\n",
      "The point being, when every incident involving the police is assumed to be racist in motivation and given 24-hour coverage people will being to believe that there is large problem than there actually is. I'm not saying the police never do anything wrong, it's just that it's not anywhere near as bad as some make out; the police end up killing approximately 1000 people a year and the vast majority are armed, yes there are the occasional cases where the police are guilty, but out of 330+million people it's not that many.\n",
      "\n",
      "...but the convention still subjected us to endless speeches about how great and good the country is.\n",
      "\n",
      "You think they would get anywhere telling everyone that their country is terrible? That would drive even more people to vote for Trump! Like it or not, most Americans like/love their country and don't think it's terrible... That said the Dems do need to decide if they want to play the patriotic card and then stick with it because if their rhetoric doesn't match Trump will (and is) going to use it.\n",
      "\n",
      "##MARKPJNY\n",
      "https://profile.theguardian.com/user/id/101511398\n",
      "\n",
      "It may be that Trump in his demeaning and dissembling manner may press a good many to vote for him, fearful of some Democratic Armageddon, devoid of the freedom to bear arms and to perhaps metaphorically removing their rights and their safety. Yet this is not likely to move those who are Independents, those professing 'anything but Trump' from some past GOP idealism or the dedicated Democrats.It is true that empathy alone cannot do much. Fortunately for the Democrats, Trump is often working to their benefit, antagonizing many of his own. Adding Phil Scott, the current Republican Governor of Vermont, to the growing list of deserters from Trump, the list is to be seen as an impressive roll call of abandonment. Adding on the 40 or 50 National Security Professionals including Negromonte and their protest against Trump some momentum can be seen along with what can be seen from Coleman Powell and a good number of other past Republican icons. Trump's base is probably immovable, but is it sufficient to garner his reelection?Biden has to be true to himself. I would have loved to have seen him get aggressive. He might have said: \"I am Sleepy Joe (in SARCASM) and here with you now. Yet Trump has allowed the Pandemic to kill over 170,000 here and seems to know nothing about Bannon, nothing about problems with protesting violence, etc. If I am sleepy, isn't Trump 'sleeping behind the wheel' as he drives the government's functioning\"? Biden could take such a line, but it would not ring true; it is not who he is!\"For Biden to deny what is clearly his manner and his well-understood style would fall flat in the false tone it produced, if he could produce it at all. For what it is worth, the Democrats are stuck with a congenial and pleasant man who shows compassion. He may wind up a sacrificial lamb by doing so-though I hope that is not the case. Yet, to assume some new mode of address in his campaigning is likely to result in a defeat. Even if he wins, his victory may be seen as Pyrrhic for what he has lost in his shape-shifting image.\n",
      "\n",
      "##VOICEOREASON\n",
      "https://profile.theguardian.com/user/id/3855284\n",
      "\n",
      "The democrats have a similar problem to Labour, albeit to a lesser extent because there’s no Trots left in the Dems. The party activists on campuses and from the NE or west coast are not in touch with the people they need to swing the vote. People like Sanders and Ocasio-Cortez appeal to a very narrow range of voters, few of whom consider voting for Trump. Their fantasies of a Green New Deal offer nothing except ammunition to the republican attack machine. Their moralizing against Aunt Hilary May well have cost the Dems last election and given us Trump. Funny but it’s similar to how the Corbyn Comrades saw a mass defection from their own “great red wall” in part because the London Socialists show more concern for Comrades in Venezuela and arguing that they aren’t anti-Semitic than jobs in Lincoln. \n",
      "If the democrats are going to win they need to convince some voters in swing states to get out, put up with the harassment and other BS, and vote for Biden. They don’t need Sanders and Ocasio-Cortez opening their mouths at all the next few months about fantasies of American “socialism:” the country isn’t a college campus or “safe place” for espousing green fantasies without risk of mockery. \n",
      "Trump has shown that as absurd as US adventurism is it is less deleterious to the world when they’re out there vying with Russia and China for dominance. A cowed Trumpian USA is giving carte-blanche to Russian policy to the detriment of the world in general and US influence in particular. Somehow Putin has an agent in the White House, right at the top, and that fact isn’t enough to make republicans put country before party.\n",
      "\n",
      "##NOVEDSTHEBEST\n",
      "https://profile.theguardian.com/user/id/101802099\n",
      "\n",
      "The US is standing on the faultline of a pandemic, a deepening recession and a racial divide, but the convention still subjected us to endless speeches about how great and good the country is.\n",
      "Not from the big hitters they didn't. Too many for my liking where saying very negative things about the state of the country, which of course was then all blamed on Trump. I feel that was a major miscalculation, and the sheer amount of Trump bashing, certainly where they were walking a very tight line to making the 2016 Clinton mistake of calling them 'deplorable's'. \n",
      "They also made another huge mistake by ignoring the difficult questions. At present there are 3 big policies that need addressing. Covid, the economy, law and order. Covid they covered because they could blame it on Trump, but that is somewhat like Brexiteers blaming Covid on the EU. For the most part it is the individual States which decide that policy. Trump can be seen as weak on the subject, but it isn't as clear cut as that.\n",
      "The economy. Other than the platitudes they all make hardly anything concrete on policies which leaves the Electorate wondering which faction of the Democrat party will win that debate. Law and order, on no account should anyone prod the elephant in the room.\n",
      "\n",
      "##NZKIWI2020\n",
      "https://profile.theguardian.com/user/id/14675634\n",
      "\n",
      "\"Democrats must understand that hugs and empathy can't defeat Trump\"\n",
      "Oh they do, in fact they don't actually need to do anything when Trump is busy defeating Trump all by himself. The Orange Idiot is in a death spiral, trying desperately to distract from his plummeting popularity and horrendous failings. Only the stupidest of his MAGA faithful, of which there are still too many, will buy his latest on how fantastic his COVID response has been, trying to paint New Zealand as failing on a worse level than the US with a staggering 0 deaths since the end of May and a recent daily high case rate of 13, as the US is still seeing over 1,000 deaths per day and cases around 50,000. To try to think Americans are going to forget 175,000 dead, over 5.5 million cases, and still in the grips of one of the worst responses in the world, to the tear gassing and forced removal of peaceful protesters all for a photo op with a Bible in front of a Church.\n",
      "You're right, the Democrats need more than Hugs and Empathy, they only need Trump to maintain being Trump, and just troll him enough to illicit an over-the-top offensive response, which continues to be all to easy to do.\n",
      "\n",
      "##GREENHOODIE\n",
      "https://profile.theguardian.com/user/id/104147611\n",
      "\n",
      "Hate to break it to you, but it's not 1980 anymore. This convention feels modern. People under 40, hell, under 50, just aren't into or impressed by all the pizzazz of a big party convention. When most of Gen X on down is drowning in debt, the expenditure of it all, is actually pretty tone-deaf and offensive. I'm a Wisconsinite. Seeing a bunch of rich, establishment Dems, pile into fundraisers and events in Milwaukee, when half the city is poor, with its abandoned factories is not a good look. \n",
      "I don't ever want to see another traditional convention again. I absolutely loved the roll call. Seeing delegates, in backgrounds and dress that reflective their home states, looking like they got barfed on by an American flag, was so much more meaningful. It looked like America, quite frankly. Steaming lets the convention go more broad, to a point where this was actually too focused on the middle and an appeal to the right. Online, you can literally go with a no stone unturned approach.\n",
      "This writer is hanging onto a past that no longer exists. It's time to step into the future.\n",
      "\n",
      "##ANGRYINSOCAL\n",
      "https://profile.theguardian.com/user/id/3054383\n",
      "\n",
      "Thank you leave it to British commentator to finally hit the nail on the head. Trump and 63 million foxnazis can not be sweet talked. I think Biden understands this and is trying to peel away the soft support. But the Dems better be ready to mobilize and take to the streets because Trump and his Republiklan party will try to steal power by any means necessary. The time for a more muscular confrontation with white supremacism and fascism is now, we need liberals who if forced to will pry their liberty from the cold dead hands of the fascists, and the bigots if the state no longer protects the integrity of our elections then we got to do it the old fashioned way. In the end the choice between bullets or ballots is not in the hands of the left, the fascists are the ones who will make that call unfortunately. As a brown American id rather burn the mfer to the ground than accept being a disenfranchised serf in a Neoconfederacy of Dunces.\n",
      "\n",
      "##LEEMING20\n",
      "https://profile.theguardian.com/user/id/102156531\n",
      "\n",
      "I have no real dog in this fight. I can not for the life of me see how Biden will be elected. I also think a lot of people need to wake up and see reality as far as the USA is concerned. American media and western media in general tends to show just one side of any argument and that is the side they support which is always the opposite of Trump.\n",
      "However that means they are not showing the huge support Trump has and the total disdain many americans have for the democrats and associated movements like BLM! It is not as popular as you may think and in reality it has a great eal of opposition rightly or wrongly in the US. Trump will win the next election with ease. If you can't see that then that is because you believe the western medias portrayal of events in America and not what jas treally happened or continues to happen.\n",
      "\n",
      "##TOM1982\n",
      "https://profile.theguardian.com/user/id/12327071\n",
      "\n",
      "My twopenneth for the Democrats:\n",
      "Focus a fair amount of attention on those States that voted for Obama either once or twice before rolling the dice on Trump in 2016; particularly in the Rustbelt. Trump made some grandiose promises about bringing back industry and well paid blue collar jobs............and never really followed through. He's going to be vulnerable in places like that.\n",
      "Furthermore, don't go too \"woke.\" That only really appeals to college students and you already have their votes, it's generally a turn off for older blue collar Democrats. That doesn't mean you can't call out Trump's crass xenophobia, just don't go too \"Titania McGrath\".\n",
      "Finally make sure your legal team are ready to challenge every dirty trick (gerrymandering, voter suppression etc) the GOP pull to try and steal the election.\n",
      "\n",
      "##PARTOFTHEPROBLEM\n",
      "https://profile.theguardian.com/user/id/16171854\n",
      "\n",
      "Thank you leave it to British commentator to finally hit the nail on the head. Trump and 63 million foxnazis can not be sweet talked.\n",
      "\n",
      "Calling people nazis is so 2016-18, it's not going to sway anyone and will only drive people away as they ask you to back up such a ridiculous stance (I'm betting you'd end up call them nazis as well.) \n",
      "\n",
      "The time for a more muscular confrontation with white supremacism and fascism is now...\n",
      "\n",
      "Where's the fascism? There have been protests and riots for months now and Trump, while moving to protect federal buildings, hasn't really been acting like the fascist you suggest he is...\n",
      "\n",
      "##DOWLAND\n",
      "https://profile.theguardian.com/user/id/3089106\n",
      "\n",
      "It’s what humans do. If you are right wing, religious you think trump is unfairly portrayed and the stories are liberal media fake news. If you’re left wing you think Corbyn is the only principled man in a parliament of crooks, and all that stuff about the IRA and antisemitism is a right wing Blairite smear. If you’re a Tory supporter you think Johnson is a good bloke doing his best, give him a chance, and you can’t trust those shifty Europeans.\n",
      "Each of us thinks our view is true, and we can’t believe that others can’t see it too. Surely it’s obvious! The trouble is, they think the same about us...\n",
      "\n",
      "##WHOAREWEKIDDING\n",
      "https://profile.theguardian.com/user/id/15698405\n",
      "\n",
      "The following could be somewhat off topic, but I can’t resist mentioning it. \n",
      "My impression has always been that Americans love nothing more than big showy hyperemotional melodrama. It never ceases to surprise me how they seemingly never can get enough of it.\n",
      "I was always curious how, when and why this peculiar American preference for big public displays of emotional overflow came about. If someone could point me to some info that explains it, that would be great.\n",
      "Oh, and by the way, I don’t think either that this will be enough for the Dems to win.\n",
      "\n",
      "##BONCIE19\n",
      "https://profile.theguardian.com/user/id/10018446\n",
      "\n",
      "Suzanne you are being overly critical of something which has never been done before- an online political convention- and comparing it unfairly to the live version. Of course it's going to be lacklustre in comparison. Biden's message was of hope, and that is what we are in short supply of these days. He hit all the right notes, conquered his speech impediment impressively, and convinced me that despite the DNC throwing everyone under the bus, that I could actually vote for this man without holding my nose, as I has to do with Clinton in 2016.\n",
      "\n",
      "##SOWESTER\n",
      "https://profile.theguardian.com/user/id/13584874\n",
      "\n",
      "Trump is already sowing the seeds of chaos in this election. He will not go quietly and it does not make much difference what the Democrats say. Only an overwhelming majority will do and as 40% of Americans seem okay with the idea of a fascist dictatorship that seems unlikely. \n",
      "This year has been really bad but I have a feeling 2021 will be even worse for America. Time for European countries to huddle together for safety. Thank goodness we are .......oh yes I had forgotten we are outside the tent just when we really need to be inside.\n",
      "\n",
      "##KIWI2020\n",
      "https://profile.theguardian.com/user/id/103226802\n",
      "\n",
      "I hope this opinion proves wrong. I hope that empathy and the revelation of true public service for the public good trump's Trump. We have a Prime Minister who led a wellness budget which was initially mocked but now understood as groundbreaking. The same Prime Minister exorted kindness through our Level Four lockdown. She hugged the suvivours of the mosque attack and never 'goes low'. Jacinda Ardern's empathy and kindness shouldn't be statling but the fact that it is should be the wake-up call the world needs. We can do it better.\n",
      "\n",
      "##FIRMBUTFAIR\n",
      "https://profile.theguardian.com/user/id/4464643\n",
      "\n",
      "I am sure that it is a good thing that Democrats in the US are being very nervous and overcautious.\n",
      "In 2016 I was puzzled and frustrated by the bizarre overconfidence of both the US Clinton campaign and the UK pro EU campaign as both seemed to be overinterpreting and over reliant on what was only ever a tenuous and shaky advantage = even going by the opinion polls...\n",
      "My judgement is that Biden has a better chance than Clinton did 4 years ago, but is still vulnerable to any unexpected \"events\"...\n",
      "\n",
      "##OBSERVERBIAS\n",
      "https://profile.theguardian.com/user/id/1902102\n",
      "\n",
      "Biden gave a good speech. Suzanne Moore has a low boredom threshold. So what? As for wanting Democrats to go on the attack, Moore seems to overlook (or not have registered?) what Michelle Obama said only a couple of days ago: keeping to the moral high ground does not mean being pretending everything is nice. The time for attack will come, and soon. In the meantime, Trump is doing everything possible to discredit himself and degrade his office in the process. There will be a reckoning.\n",
      "\n",
      "##NOVEDSTHEBEST\n",
      "https://profile.theguardian.com/user/id/101802099\n",
      "\n",
      "You cannot hide in an election, least of all in the USA. It is why they have conventions, it is why they fly around the States making stump speeches, it is why they try to get on TV and radio networks to do interviews. \n",
      "Much as the vast majority on here loathe Trump he is doing that. Having pre-recorded speeches with what Suzanne described asThe convention felt like a charity marathon without an audience, punctuated with unfunny comedy and sob stories. doesn't cut it.\n",
      "\n",
      "##JAGSFAN80\n",
      "https://profile.theguardian.com/user/id/17930680\n",
      "\n",
      "I’m deeply concerned that Biden won’t be able to make the case for change in the states where it counts. I lived and worked in the US during Obama’s tenure and I encountered so much hate and anger towards democrats and I don’t see that even remotely being reversed. They love Trump. The presidential election is ultimately a 2 way personality contest and trying to be reconciliatory and caring could see Biden get slaughtered. The polls look ok, but I fear the worst.\n",
      "\n",
      "##ZKIWI\n",
      "https://profile.theguardian.com/user/id/4318431\n",
      "\n",
      "So, what does Biden offer? Other than diatribe like “Trump is evil and must be defeated.”\n",
      "Sounding nice isn’t going to cut it. \n",
      "What is he proposing that is going to benefit small businesses, to grow the vanishing middle class, and most importantly, grow real jobs for the very large number of blue collar workers who have been cast off or relegated to the “gig economy”?\n",
      "So far he’s ignored this, instead prattling about a “green economy” and “social justice.”\n"
     ]
    }
   ],
   "source": [
    "print( '\\n\\n'.join(all_comments[:20]) )"
   ]
  },
  {
   "cell_type": "code",
   "execution_count": 18,
   "metadata": {},
   "outputs": [
    {
     "name": "stderr",
     "output_type": "stream",
     "text": [
      "[nltk_data] Downloading package vader_lexicon to\n",
      "[nltk_data]     /home/gregmcshane/nltk_data...\n",
      "[nltk_data]   Package vader_lexicon is already up-to-date!\n"
     ]
    }
   ],
   "source": [
    "#https://towardsdatascience.com/sentimental-analysis-using-vader-a3415fef7664\n",
    "\n",
    "import nltk\n",
    "nltk.download('vader_lexicon')\n",
    "\n",
    "from nltk.sentiment.vader import SentimentIntensityAnalyzer\n",
    "\n",
    "sid = SentimentIntensityAnalyzer()"
   ]
  },
  {
   "cell_type": "code",
   "execution_count": 22,
   "metadata": {},
   "outputs": [],
   "source": [
    "a = '''My views haven't changed. Leaving the EU will be of no benefit to anyone except those who hold money and power along with certain corporates and a smidgen of medium to small businesses.\n",
    "How else can it be when you are shutting shop to the most developed nations, the richest nations in the world, who are either in the EU or have market agreements with the EU. Even the emerging markets of China and India along with other developing economies are aspiring to develop trading agreements with the EU, the second largest economy in the world. Any deal with the UK will be secondary and will depend upon their agreement with the EU.\n",
    "Boris Johnson once said \"f**k business\". I take this as meaning there is something in it for them and they don't really care if businesses find it difficulA\n",
    "t to cope.\n",
    "I can see ministers and conservative MPs queuing to fill their pockets by acting as advisors for potential trade deals whilst the rest of the country are left struggling trying to rebuild their lives, especially following the pandemic. The same ministers will probably be looking to lower all kinds of standards from food and welfare to safety at work to improve their opportunities.\n",
    "When it comes to brinkmanship, I can only view this as getting away with whatever they can. I do not believe it is anything to do with negotiating an agreement that will be to the benefit of the UK or the EU as a whole, I don't believe our ministers are capable of doing that.'''"
   ]
  },
  {
   "cell_type": "code",
   "execution_count": 24,
   "metadata": {},
   "outputs": [
    {
     "ename": "TypeError",
     "evalue": "sentiment_valence() missing 4 required positional arguments: 'sentitext', 'item', 'i', and 'sentiments'",
     "output_type": "error",
     "traceback": [
      "\u001b[0;31m------------------------------------------------------------\u001b[0m",
      "\u001b[0;31mTypeError\u001b[0m                  Traceback (most recent call last)",
      "\u001b[0;32m<ipython-input-24-6f3326dcf5de>\u001b[0m in \u001b[0;36m<module>\u001b[0;34m\u001b[0m\n\u001b[1;32m      1\u001b[0m \u001b[0msid\u001b[0m\u001b[0;34m.\u001b[0m\u001b[0mpolarity_scores\u001b[0m\u001b[0;34m(\u001b[0m\u001b[0ma\u001b[0m\u001b[0;34m)\u001b[0m\u001b[0;34m\u001b[0m\u001b[0m\n\u001b[0;32m----> 2\u001b[0;31m \u001b[0msid\u001b[0m\u001b[0;34m.\u001b[0m\u001b[0msentiment_valence\u001b[0m\u001b[0;34m(\u001b[0m\u001b[0ma\u001b[0m\u001b[0;34m)\u001b[0m\u001b[0;34m\u001b[0m\u001b[0m\n\u001b[0m",
      "\u001b[0;31mTypeError\u001b[0m: sentiment_valence() missing 4 required positional arguments: 'sentitext', 'item', 'i', and 'sentiments'"
     ]
    }
   ],
   "source": [
    "sid.polarity_scores(a)\n",
    "sid.sentiment_valence(a)"
   ]
  },
  {
   "cell_type": "code",
   "execution_count": 41,
   "metadata": {},
   "outputs": [
    {
     "name": "stdout",
     "output_type": "stream",
     "text": [
      "\n"
     ]
    },
    {
     "name": "stderr",
     "output_type": "stream",
     "text": [
      "/home/gregmcshane/.env/lib/python3.6/site-packages/ipykernel_launcher.py:15: DeprecationWarning: bad escape \\S\n",
      "  from ipykernel import kernelapp as app\n"
     ]
    }
   ],
   "source": [
    "target = 'decolon'\n",
    "target = 'science'\n",
    "target = 'Obama^\\s*'\n",
    "\n",
    "\n",
    "xx = [x for x in all_comments if target.lower() in x.lower() and  len(x) > 20]\n",
    "yy = [x for x in all_comments if '#pin' in x.lower() and 2000 > len(x) > 20]\n",
    "\n",
    "#print('\\n\\n'.join( ['\\n\\n'.join(x) for x in zip(xx,yy)])  )\n",
    "\n",
    "\n",
    "#print( '\\n\\n'.join(xx).replace(target, ) )\n",
    "pxx = re.compile(target, re.I)\n",
    "print( pxx.sub('**' + target.upper() + '**', \n",
    "              '\\n\\n'.join(xx)) )\n",
    "               \n",
    "#print( '\\n\\n'.join(xx) )\n"
   ]
  },
  {
   "cell_type": "code",
   "execution_count": 29,
   "metadata": {},
   "outputs": [
    {
     "data": {
      "text/plain": [
       "36"
      ]
     },
     "execution_count": 29,
     "metadata": {},
     "output_type": "execute_result"
    }
   ],
   "source": []
  },
  {
   "cell_type": "code",
   "execution_count": null,
   "metadata": {},
   "outputs": [],
   "source": []
  }
 ],
 "metadata": {
  "kernelspec": {
   "display_name": "NLPkernel",
   "language": "python",
   "name": "nlpkernel"
  },
  "language_info": {
   "codemirror_mode": {
    "name": "ipython",
    "version": 3
   },
   "file_extension": ".py",
   "mimetype": "text/x-python",
   "name": "python",
   "nbconvert_exporter": "python",
   "pygments_lexer": "ipython3",
   "version": "3.6.5"
  }
 },
 "nbformat": 4,
 "nbformat_minor": 2
}
