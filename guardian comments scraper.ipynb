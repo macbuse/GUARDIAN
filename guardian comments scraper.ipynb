{
 "cells": [
  {
   "cell_type": "markdown",
   "metadata": {},
   "source": [
    "# Basic scraping for Guardian discussions u"
   ]
  },
  {
   "cell_type": "code",
   "execution_count": 1,
   "metadata": {},
   "outputs": [
    {
     "name": "stdout",
     "output_type": "stream",
     "text": [
      "[master 01b461f] web\n",
      " 1 file changed, 2373 insertions(+), 1017 deletions(-)\n",
      " rewrite guardian comments scraper.ipynb (61%)\n",
      "remote: Support for password authentication was removed on August 13, 2021. Please use a personal access token instead.\n",
      "remote: Please see https://github.blog/2020-12-15-token-authentication-requirements-for-git-operations/ for more information.\n",
      "fatal: unable to access 'https://github.com/macbuse/GUARDIAN.git/': The requested URL returned error: 403\n"
     ]
    }
   ],
   "source": [
    "! ./.g\n"
   ]
  },
  {
   "cell_type": "code",
   "execution_count": 59,
   "metadata": {},
   "outputs": [],
   "source": [
    "with open('guardian comments scraper.ipynb','r') as fp:\n",
    "    nb = fp.read()"
   ]
  },
  {
   "cell_type": "code",
   "execution_count": 60,
   "metadata": {},
   "outputs": [],
   "source": [
    "import re\n",
    "\n",
    "pp = re.compile(\"(https://www.the.*?)'\")\n",
    "lks = pp.findall(nb)\n",
    "\n",
    "with open('links.txt','a') as fp:\n",
    "    fp.write('\\n'.join(lks))"
   ]
  },
  {
   "cell_type": "code",
   "execution_count": 3,
   "metadata": {},
   "outputs": [],
   "source": [
    "import re \n",
    "import requests\n",
    "import pickle\n",
    "import json"
   ]
  },
  {
   "cell_type": "code",
   "execution_count": 9,
   "metadata": {},
   "outputs": [],
   "source": [
    "article_url = 'https://www.theguardian.com/commentisfree/2020/aug/19/ditch-the-algorithm-generation-students-a-levels-politics'\n",
    "article_url = 'https://www.theguardian.com/commentisfree/2020/aug/21/joe-biden-democrat-convention-nice-guy-trump-fight'\n",
    "article_url = 'https://www.theguardian.com/commentisfree/2020/aug/23/the-cruel-exams-algorithm-has-laid-bare-the-unfairness-at-the-heart-of-our-schools'\n",
    "article_url = 'https://www.theguardian.com/commentisfree/2020/sep/01/us-mainstream-right-vigilante-terror'\n",
    "article_url = 'https://www.theguardian.com/commentisfree/2020/aug/31/politicians-covid-19-statistics-statisticians'\n",
    "article_url = 'https://www.theguardian.com/commentisfree/2021/apr/14/boris-johnson-is-telling-scotland-that-the-union-is-no-longer-based-on-consent'\n",
    "article_url = 'https://www.theguardian.com/commentisfree/2021/may/10/retail-politics-movements-polarising-projects-promise'"
   ]
  },
  {
   "cell_type": "code",
   "execution_count": 22,
   "metadata": {},
   "outputs": [],
   "source": [
    "article_url = 'https://www.theguardian.com/commentisfree/2020/sep/29/rival-scientists-lockdowns-scientific-covid-19'\n",
    "article_url = 'https://www.theguardian.com/commentisfree/2020/oct/08/johnson-and-sturgeon-will-need-a-better-philosophy-than-precaution-to-rid-us-of-covid'\n",
    "article_url = 'https://www.theguardian.com/commentisfree/2020/oct/10/continual-local-lockdowns-answer-covid-control'\n",
    "article_url = 'https://www.theguardian.com/commentisfree/2020/oct/11/the-rebel-scientists-cause-would-be-more-persuasive-if-it-werent-so-half-baked'\n",
    "\n",
    "article_url = 'https://www.theguardian.com/commentisfree/2021/apr/03/undermining-the-astrazeneca-jab-is-a-dangerous-act-of-political-folly#comment-148440261'\n",
    "article_url = 'https://www.theguardian.com/commentisfree/2021/apr/09/boris-johnson-brexit-belfast-violence-eu-good-friday-agreement'\n",
    "article_url ='https://www.theguardian.com/commentisfree/2021/apr/02/culture-war-government-race-report'\n",
    "article_url = 'https://www.theguardian.com/commentisfree/2021/mar/18/britain-sunny-vaccine-optimism-april-delivery-delay'\n",
    "article_url ='https://www.theguardian.com/commentisfree/2021/apr/14/boris-johnson-is-telling-scotland-that-the-union-is-no-longer-based-on-consent'\n",
    "article_url = 'https://www.theguardian.com/commentisfree/2021/apr/15/britain-harness-social-sciences-covid-pandemic-deprivation'\n",
    "article_url = 'https://www.theguardian.com/commentisfree/2021/apr/16/government-race-report-evidence#comment-148662066'\n",
    "article_url ='https://www.theguardian.com/commentisfree/2021/apr/20/britain-falling-birthrate-covid-pandemic-conservatives-removed-support-for-parents'\n",
    "article_url = 'https://www.theguardian.com/commentisfree/2021/apr/21/bmi-eating-disorder-pandemic-treatment'\n",
    "article_url = 'https://www.theguardian.com/commentisfree/2021/apr/30/government-delays-covid-public-inquiry-health-crisis'\n",
    "article_url = 'https://www.theguardian.com/commentisfree/2021/may/07/humiliation-hartlepool-smalltown-detective-di-starmer'\n",
    "article_url ='https://www.theguardian.com/commentisfree/2021/aug/06/uk-government-experts-vaccinating-under-16s'\n",
    "article_url = 'https://www.theguardian.com/commentisfree/2021/aug/01/there-is-a-case-for-vaccine-passports-but-ministers-are-failing-to-make-it'\n",
    "article_url = 'https://www.theguardian.com/commentisfree/2021/aug/09/america-is-flying-blind-when-it-comes-to-the-delta-variant'\n",
    "article_url = 'https://www.theguardian.com/commentisfree/2021/aug/10/covid-vaccines-britain-scientific-solution-jabs'\n",
    "article_url = 'https://www.theguardian.com/commentisfree/2021/aug/13/denial-anti-vaxxers-climate-sceptics'\n",
    "article_url = 'https://www.theguardian.com/commentisfree/2018/apr/11/bbc-andrew-neil-media-politics'\n",
    "\n",
    "article_url = 'https://www.theguardian.com/commentisfree/2021/aug/15/vaccine-passports-are-less-a-threat-to-liberty-than-a-mark-of-solidarity'\n",
    "article_url = 'https://www.theguardian.com/theobserver/commentisfree/2021/aug/14/will-we-reach-herd-immunity-for-the-new-coronavirus'\n",
    "article_url = 'https://www.theguardian.com/commentisfree/2021/aug/15/vaccine-hesitancy-broken-relationship-state-conspiracy-theorists'"
   ]
  },
  {
   "cell_type": "code",
   "execution_count": 16,
   "metadata": {},
   "outputs": [
    {
     "ename": "NameError",
     "evalue": "name 'my_keys' is not defined",
     "output_type": "error",
     "traceback": [
      "\u001b[0;31m---------------------------------------\u001b[0m",
      "\u001b[0;31mNameError\u001b[0mTraceback (most recent call last)",
      "\u001b[0;32m<ipython-input-16-e80f1eb56025>\u001b[0m in \u001b[0;36m<module>\u001b[0;34m\u001b[0m\n\u001b[1;32m      1\u001b[0m \u001b[0;34m\u001b[0m\u001b[0m\n\u001b[0;32m----> 2\u001b[0;31m \u001b[0mkey\u001b[0m \u001b[0;34m=\u001b[0m \u001b[0mmy_keys\u001b[0m\u001b[0;34m.\u001b[0m\u001b[0mkeys\u001b[0m\u001b[0;34m[\u001b[0m\u001b[0;34m'guardian'\u001b[0m\u001b[0;34m]\u001b[0m\u001b[0;34m\u001b[0m\u001b[0m\n\u001b[0m",
      "\u001b[0;31mNameError\u001b[0m: name 'my_keys' is not defined"
     ]
    }
   ],
   "source": [
    "\n",
    "key = my_keys.keys['guardian']"
   ]
  },
  {
   "cell_type": "code",
   "execution_count": 23,
   "metadata": {},
   "outputs": [
    {
     "name": "stdout",
     "output_type": "stream",
     "text": [
      "/p/tgaxq\n",
      "getting comments page no. 1\n",
      "there are 9 pages\n",
      "getting comments page no. 2\n",
      "getting comments page no. 3\n",
      "getting comments page no. 4\n",
      "getting comments page no. 5\n",
      "getting comments page no. 6\n",
      "getting comments page no. 7\n",
      "getting comments page no. 8\n",
      "getting comments page no. 9\n",
      "archiving to tgaxq.pkl\n"
     ]
    }
   ],
   "source": [
    "#scrape the page and get the short url\n",
    "# 15/8/21  this failed and gave /p/temp\n",
    "short_url_pp =  re.compile('\"shortUrlId\":\"(.*?)\"')\n",
    "\n",
    "r = requests.get(article_url)\n",
    "mm = short_url_pp.search(r.text)\n",
    "short_url = mm.group(1)\n",
    "uu = r.text\n",
    "print(short_url)\n",
    "\n",
    "#the short url allows us to access the discussion\n",
    "# 15/8/21 api.nextgen.guardianapps.co.uk/discussion/ failed on \n",
    "# https://discussion.theguardian.com/discussion-api/discussion/p/tfmxg\n",
    "comments_url = 'https://api.nextgen.guardianapps.co.uk/discussion/%s.json'%short_url\n",
    "params = {'orderBy' : 'newest',\n",
    "          'pageSize' : 25,\n",
    "          'displayThreaded' : 'true',\n",
    "          'commentsClosed' : 'false',\n",
    "          'page' : '',\n",
    "          'maxResponses' : 50\n",
    "         }\n",
    "\n",
    "json_data =  []\n",
    "start_page  = 1\n",
    "last_page = None\n",
    "\n",
    "\n",
    "for num_page in range(start_page, 10**4):\n",
    "    print('getting comments page no.', num_page)\n",
    "    params['page'] = num_page\n",
    "    r = requests.get( comments_url, params=params)\n",
    "    json_data.append( r.text)\n",
    "    #The last page is a field in the json object\n",
    "    #I don't need to read this as json I could do a regexp\n",
    "    if num_page == start_page:\n",
    "        json_dict = json.loads(r.text)\n",
    "        last_page = json_dict['lastPage']\n",
    "        print('there are %d pages'%last_page)\n",
    "    if num_page == last_page : break\n",
    "        \n",
    "\n",
    "fn = '%s.pkl'%short_url.split('/')[-1]\n",
    "print('archiving to %s'%fn)\n",
    "with open(fn,'wb') as fp:\n",
    "    pickle.dump(json_data,fp)"
   ]
  },
  {
   "cell_type": "code",
   "execution_count": null,
   "metadata": {},
   "outputs": [],
   "source": [
    "\n"
   ]
  },
  {
   "cell_type": "markdown",
   "metadata": {},
   "source": [
    "## remember each page of comments has been stored separately"
   ]
  },
  {
   "cell_type": "code",
   "execution_count": 16,
   "metadata": {},
   "outputs": [
    {
     "data": {
      "text/plain": [
       "11"
      ]
     },
     "execution_count": 16,
     "metadata": {},
     "output_type": "execute_result"
    }
   ],
   "source": [
    "dd = json.loads(json_data[0])\n",
    "len(json_data)"
   ]
  },
  {
   "cell_type": "code",
   "execution_count": 17,
   "metadata": {},
   "outputs": [
    {
     "data": {
      "text/plain": [
       "dict_keys(['postedCommentHtml', 'commentsHtml', 'commentCount', 'refreshStatus', 'lastPage', 'paginationHtml'])"
      ]
     },
     "execution_count": 17,
     "metadata": {},
     "output_type": "execute_result"
    }
   ],
   "source": [
    "xx = json.loads(json_data[0])\n",
    "xx.keys()"
   ]
  },
  {
   "cell_type": "code",
   "execution_count": 136,
   "metadata": {},
   "outputs": [
    {
     "name": "stdout",
     "output_type": "stream",
     "text": [
      " class=\"d-comment\n",
      "            d-comment--top-level\"\n",
      "           id=\"comment-144422422\"\n",
      "           data-comment-id=\"144422422\"\n",
      "           data-comment-author=\"Hushing\"\n",
      "           data-comment-replies=\"0\"\n",
      "           data-comment-timestamp=\"2020-10-11T14:25:06.000+01:00\"\n",
      "           data-comment-author-id=\"12407494\"\n",
      "           data-comment-highlighted=\"false\"\n",
      "           itemscope itemtype=\"http://schema.org/Comment\">\n",
      "\n",
      "    <div class=\"d-comment__inner d-comment__inner--top-level\">\n",
      "        <div class=\"\n"
     ]
    }
   ],
   "source": [
    "print( xx['commentsHtml'][200:700])"
   ]
  },
  {
   "cell_type": "code",
   "execution_count": 16,
   "metadata": {},
   "outputs": [],
   "source": [
    "pa = re.compile('data-comment-author=\"(.*?)\"')\n",
    "pid = re.compile('data-comment-author-id=\"(\\d+)')\n",
    "pcid = re.compile('\\sid=\"comment-(.*?)\"')\n",
    "pp = re.compile('<li class=\"d-comment(.*?)>',re.DOTALL)\n",
    "\n",
    "auths = []\n",
    "md = []\n",
    "for xx in json_data:\n",
    "    hh = json.loads(xx)['commentsHtml']\n",
    "    auths.extend(list( zip(pa.findall(hh), \n",
    "                           pid.findall(hh)\n",
    "                          )))\n",
    "    md.extend(pp.findall(hh))\n",
    "\n",
    "auths = list(set(auths))\n",
    "auths.sort(key=lambda x : x[0].lower())\n"
   ]
  },
  {
   "cell_type": "code",
   "execution_count": 102,
   "metadata": {},
   "outputs": [],
   "source": [
    "#print( '\\n'.join([x for x in md if 'pinkie' in x.lower()]))"
   ]
  },
  {
   "cell_type": "markdown",
   "metadata": {},
   "source": [
    "https://discussion.theguardian.com/comment-permalink/144375739"
   ]
  },
  {
   "cell_type": "code",
   "execution_count": 8,
   "metadata": {},
   "outputs": [],
   "source": [
    "auths = dict(auths)"
   ]
  },
  {
   "cell_type": "code",
   "execution_count": 9,
   "metadata": {},
   "outputs": [
    {
     "data": {
      "text/plain": [
       "'https://api.nextgen.guardianapps.co.uk/discussion//p/hvpq8.json'"
      ]
     },
     "execution_count": 9,
     "metadata": {},
     "output_type": "execute_result"
    }
   ],
   "source": [
    "comments_url"
   ]
  },
  {
   "cell_type": "code",
   "execution_count": 24,
   "metadata": {},
   "outputs": [],
   "source": [
    "\n",
    "from bs4 import BeautifulSoup\n",
    "\n",
    "def html2comments(x):\n",
    "    tt = json.loads(x)\n",
    "    soup = BeautifulSoup(tt['commentsHtml'],  \"lxml\")\n",
    "    raw = [ comment.text for comment in  \n",
    "            soup.findAll('div', {'class' : \"d-comment__body\"}) ]\n",
    "    \n",
    "    metadata = soup.findAll('span', {'class' : \"d-comment__author\"})\n",
    "    \n",
    "    \n",
    "    auth = [ x.text.upper().strip() for x in metadata]\n",
    "    auth_id = [ x.find('a')['href'] for x in metadata]\n",
    "    #this was a pain to do really\n",
    "    #the problem is blocked comments\n",
    "    comment_id = [ x['id'][len('comment-'):] for x in soup.findAll('li')]\n",
    " \n",
    "    \n",
    "    ss = '##{}\\nhttps://discussion.theguardian.com/comment-permalink/{}\\n{}\\n\\n{}'\n",
    "    return [ ss.format(a,b,d,c.strip())  \n",
    "                   for a,b,d,c in zip(auth, comment_id, auth_id, raw)]\n",
    "     \n",
    "all_texts = [ html2comments(page) for page in json_data[:] ]\n",
    "\n",
    "\n",
    "from itertools import chain\n",
    "all_comments = list(chain.from_iterable(all_texts))\n",
    "    "
   ]
  },
  {
   "cell_type": "markdown",
   "metadata": {},
   "source": [
    "# Random data hacking"
   ]
  },
  {
   "cell_type": "code",
   "execution_count": 25,
   "metadata": {
    "scrolled": true
   },
   "outputs": [
    {
     "data": {
      "text/plain": [
       "[('##BARNEYB68', 16),\n",
       " ('##LRBNVNTR', 15),\n",
       " ('##VULGARIUS', 13),\n",
       " ('##LEIBOWITZ', 12),\n",
       " ('##ANTONYMOUSBOSCH', 11),\n",
       " ('##ANTICORBYNISTA', 11),\n",
       " ('##SOFTSELL', 10),\n",
       " ('##JOEROBSON', 10),\n",
       " ('##SUBJECTIVESUBJECT', 9),\n",
       " ('##RATHERBEINOZ', 8),\n",
       " ('##HAGGALA', 8),\n",
       " ('##KENT_RULES', 7),\n",
       " ('##MINTAKA', 7),\n",
       " ('##REDSINEXILE', 7),\n",
       " ('##BOBBIN7277', 7),\n",
       " ('##BLEAK_T_W', 7),\n",
       " ('##BRUMMBAER', 6),\n",
       " ('##OFFGRIDCANADIAN', 6),\n",
       " ('##IMAGINARY_FIEND', 6),\n",
       " ('##MINGECAMPBELL', 6),\n",
       " ('##VIOLAGIRL', 6),\n",
       " ('##SPEAK4SELF', 5),\n",
       " ('##JOMO347', 5),\n",
       " ('##ROCKYREX', 5),\n",
       " ('##ASDQWEYHHCCD345', 5),\n",
       " ('##DTAP', 5),\n",
       " ('##TOMPER2', 5),\n",
       " ('##PETETHEPILOT', 5),\n",
       " ('##VERAANTHONY', 5),\n",
       " ('##STILL_MELTY_CLOCK', 5),\n",
       " ('##LABOURGOONER', 5)]"
      ]
     },
     "execution_count": 25,
     "metadata": {},
     "output_type": "execute_result"
    }
   ],
   "source": [
    "A = [x.split('\\n')[0] for x in all_comments]\n",
    "from collections import Counter\n",
    "AN = Counter(A)\n",
    "sorted([(x,y) for x,y in AN.items() if y > 4], key=lambda x : -x[1]) "
   ]
  },
  {
   "cell_type": "code",
   "execution_count": 21,
   "metadata": {},
   "outputs": [
    {
     "name": "stdout",
     "output_type": "stream",
     "text": [
      "[master 42379d1] web\n",
      " 5 files changed, 1244 insertions(+), 2373 deletions(-)\n",
      " create mode 100644 8djv8.pkl\n",
      " rewrite guardian comments scraper.ipynb (83%)\n",
      " create mode 100644 tfmxg.pkl\n",
      " create mode 100644 tfy7d.pkl\n",
      " create mode 100644 tgxqd.pkl\n",
      "remote: Support for password authentication was removed on August 13, 2021. Please use a personal access token instead.\n",
      "remote: Please see https://github.blog/2020-12-15-token-authentication-requirements-for-git-operations/ for more information.\n",
      "fatal: unable to access 'https://github.com/macbuse/GUARDIAN.git/': The requested URL returned error: 403\n"
     ]
    }
   ],
   "source": [
    "! ./.g\n"
   ]
  },
  {
   "cell_type": "code",
   "execution_count": 7,
   "metadata": {},
   "outputs": [
    {
     "name": "stdout",
     "output_type": "stream",
     "text": [
      "##SIGMA79\n",
      "https://discussion.theguardian.com/comment-permalink/151126119\n",
      "https://profile.theguardian.com/user/id/17326520\n",
      "\n",
      "This comment was removed by a moderator because it didn't abide by our\n",
      "                            community standards.\n",
      "                            Replies may also be deleted. For more detail see our FAQs.\n"
     ]
    }
   ],
   "source": [
    "print(all_comments[0])"
   ]
  },
  {
   "cell_type": "code",
   "execution_count": 26,
   "metadata": {},
   "outputs": [
    {
     "name": "stdout",
     "output_type": "stream",
     "text": [
      "##GRAUN\n",
      "https://discussion.theguardian.com/comment-permalink/151276168\n",
      "https://profile.theguardian.com/user/id/4109931\n",
      "\n",
      "someone you thought you knew intimately starts to repeat conspiracy theories\n",
      "I would say that there are a large number of (let's be kind) impressionable people around. \n",
      ". \n",
      "In pre-internet times there was little exposure to \"fringe\" ideas. Most people got almost all their information from reliable sources: print, radio or TV. Ones that still retained a modicum of honour, pride in their profession and integrity. They at least tried to present factual information to their massed audiences. \n",
      ". \n",
      "In those times, it didn't matter too much if someone was easily convinced about things they should know better than to believe. There wasn't that much disinformation around. However, we now have a situation where the internet and the media can be searched to such a degree that it is easy to find support for pretty much any view, any belief, any conspiracy or any myth. \n",
      "An example might be \n",
      "the JFK assassination. A few people wrote wildly speculative books regarding their suspicions. Though with very little real evidence. However, it - like everything else, such as UFOs faked Moon landings or flat-earthers, bloomed into an industry with the coming of the internet and search engines. Suddenly conspiracies were everywhere - and gaining respectability. \n",
      "Hell: they even made it into mainstream TV. \n",
      ". \n",
      "And that meant that those who need some sort of protection against the loony fringe were left to fend for themselves. One thing that was a meme in the early days was \"on the internet, no one knows you're a dog\". Implying that with the right presentation, anyone can project a highly credible facade. No matter how batshit crazy they sounded! \n",
      "While some used this to scam the gullible, others used it to manipulate or promote their daft ideas. Propaganda. \n",
      ". \n",
      "We are all exposed to these lies, FAKE NEWS, \"reports\" and the rest. What used to be respected sources are now more concerned with pushing a narrative or in the frenzy to attract advertising than in upholding a reputation for trustworthiness. Fortunately, most people are able to discern what makes common sense and what is there to trick us. But there is a sizeable minority who will judge information according to the likability of the celebrity / presenter (conversely: dismissing anything said by people they dislike) or the quality of its presentation - judging a book by its cover.\n",
      "\n",
      "##BIFESS\n",
      "https://discussion.theguardian.com/comment-permalink/151276073\n",
      "https://profile.theguardian.com/user/id/10085855\n",
      "\n",
      "In many different ways this article chimes with me.\n",
      "I am a person who has underlying health issues issues that place me at risk from the virus and was and still am hesitant about the vaccines even though I have now had two doses.\n",
      "I put off having my first dose until I had some idea if the side effects were as had been claimed by the manufactures. Even then I was very skeptical about having the vaccine. It was not until that I had been reassured by the medical professionals treating my health conditions that I decided to have the vaccine.\n",
      "Sadly I can honestly say that after a decade of being mistreated at the hands of the government I have little to no trust at all in government rhetoric. \n",
      "Policies like austerity, and the welfare reforms have had a huge effect on my life over the last 10 years. Recently that was only exacerbated by policies like the £20 uplift in Universal Credit which came in and left those on the old legacy benefits without the same uplift leading to discrimination as two people on in the exact same circumstances would be getting different amounts of money where one was on UC and the other was on ESA.\n",
      "Couple that with the reforms to the state medical that were made under the Tories. This state medical wrongly found me fit for work twice and on both occasions removed all of my income. This impacted not only my physical health it also had a large impact on my mental health.\n",
      "Then there are all of the lies that we have seen from Johnson and his fellow ministers over the course of the pandemic and the illegal prorogation of parliament. Then there were past promises like we were all in it together, tackling banks and bankers bonuses or the infamous £350m per week for the NHS.\n",
      "Couple all of this together and it really is no surprise at all that people like myself have little to no trust in anything that the government states.\n",
      "When governments are allowed to tell lie after lie after lie without ever being held to account for those lies it sadly has an impact on things like any public health messaging that comes from the government.\n",
      "I would love to think that the government in the UK will use this as a learning examples but sadly I do not think there is any hope of that such is their unwillingness to listen to constructive criticism.\n",
      "\n",
      "##TAXIARCH\n",
      "https://discussion.theguardian.com/comment-permalink/151277266\n",
      "https://profile.theguardian.com/user/id/3532073\n",
      "\n",
      "\"...In the UK decisions as to vaccine testing and approval can only be based upon the advice of an independent regulator\"\n",
      "There is a specific difficulty in the UK in that the Government is led and directed and controlled by a man widely reputed to be a proven liar, deceptor, dissembler, and a ruthless self promoter. The concepts of 'independent' within a administration with apparent totalitarian aspirations - illegally proroguing Parliament, criminal immunity for state officials, attacks on the judiciary, are somewhat tenuous. When there is a prospect of Mr Johnson seeing a personal political advantage to prursue a course of action, it can be expected that 'independent' authorities will comply or be dissolved (rather like the HSE). \n",
      "The BBC itself is now widely seen as a mere agent of government 'messaging', serving the interests of The Party. The attempt to change lobby rules, to reward 'compliance' with preferred access means the independent media itself is perceived as a mere agency of the state. \n",
      "Then we must turn to the vaccine authorisation. The authorisation mechanism was invented in October 2020 with amendment to the Human Medicines Regulations 2012, to allow the MHRA to grant temporary authorisation of a covid-19 vaccine without needing to wait for the EMA. \n",
      "As the BMJ revealed, the \"MHRA has not published specific details about the approval process, but a spokesperson told The BMJ that scientists and clinicians had “carefully and scientifically reviewed the safety, quality, and effectiveness data—how [the vaccine] protects people from covid-19 and the level of protection it provides.\"\n",
      "https://www.bmj.com/content/371/bmj.m4759 [December 2020].Vaccinating the UK: how the covid vaccine was approved, and other questions answered\n",
      "If one is amongst the body of opinion that chooses to believe the Party's interest and the Country's interest are the same, there is no great problem here. However, the alternative opinion is at least as well founded. Secrecy deception and authority make for poor bedfellows.\n",
      "\n",
      "##XPERUAQP\n",
      "https://discussion.theguardian.com/comment-permalink/151276614\n",
      "https://profile.theguardian.com/user/id/101579931\n",
      "\n",
      "In Peru we have a long track record of government corruption. At least we manage to prosecute our former presidents. Something the US could learn from us.\n",
      "We have still managed to offer the vaccine for free. My wife and I jumped at the chance and are grateful. Many of our friends and relations don't trust the vaccine. Even though, as the hardest hit country in the world, we all know people in our immediate circles who have died of Covid. Mistrust of government runs deep.\n",
      "But there is a deeper and more worrying factor. Mistrust of science. There are legitimate concerns that govt advice is not based on science. Certainly there is a media blackout on any discussion of the uncertainties in the science. Something that is intellectually unhealthy and smacks of authoritarianism if not worse.\n",
      "India has achieved significant progress against covid by using a treatment that you cannot mention by name on social media without your post being deleted. The censorship even extends to top scientists reporting their peer reviewed research. Even the inventor of mRNA vaccines has had his posts deleted.\n",
      "Trust works both ways. The people won't trust govt if govt won't trust the people. When govt is as untrustworthy as ours is in Peru it's fair to put the argument that trusting the govt is the bigger risk. Peru's record on the forcible sterilization of Indian women is recent and horrific. \n",
      "When govt's respond to this lack of trust by imposing draconian enforcement policies, they get a natural response. Public resistance, as we see in France.\n",
      "Boris would be foolish to impose mandatory anything at this point whether passports or mask mandates or anything else. The trust isn't there. Without consent you can't govern. And authoritarianism is not a replacement.\n",
      "\n",
      "##GOLFFANATIC\n",
      "https://discussion.theguardian.com/comment-permalink/151277358\n",
      "https://profile.theguardian.com/user/id/4577049\n",
      "\n",
      "While many good points have been made btl, I keep thinking back to early spring 2020 when the pandemic was spreading and we -everywhere - were confronted by a new, unknown and dangerous situation. The only place to turn for direction and assurance was our governments, especially as the scientists honestly answered most of the questions we had - \"we don't know yet\". \n",
      "But we needed to know, to have answers in order to keep ourselves, our families, our communities safe. When faced with danger, it is natural to grasp for solutions in order to feel less helpless: some did this by dismissing the threat because \"only the old are at risk\", or denying the disease entirely. \n",
      "Some still do.\n",
      "While many attempted to become as informed as possible, doing their own research into what is in fact one of the most complex areas of medical science, too many others listened to those who took advantage of the situation - like the proliferation of quack 'cures' and self-styled online 'experts', because they offered certainty, the promise of safety, hope.\n",
      "From the beginning, there has been inadequate and contradictory messaging from all sides. Self-promoting hustlers were to be expected: political leaders have no excuse, particularly when their extensive pandemic emergency plans specifically state how vital it is that messaging not be screwed up.\n",
      "Looking back, it seems clear how much of the public's initial experience with Covid-19 has morphed into hesitancy about the vaccine and caution about actions currently being taken.\n",
      "Not talking about the lunatic fringe, the anti-establishment protesters, the religious extremists, but us, the general public - who behave responsibly, get vaccinated, but still feel unsure.\n",
      "\n",
      "##KENT_RULES\n",
      "https://discussion.theguardian.com/comment-permalink/151276832\n",
      "https://profile.theguardian.com/user/id/11862674\n",
      "\n",
      "I had my two jabs because I considered it to be in my best interests, but also as playing my part as a member of wider society.Things have not always been so clear-cut. Following Andrew Wakefield's claims, my wife and I were unsure whether or not the MMR jab that our child was due to have was safe. Could we have the three jabs separately NO, the NHS was all or nothing. Would anyone deal credibly with Wakefield's claims - NO. He was decried as a charlatan and an idiot, but then so was Barry Marshall who later gained a Nobel prize for identifying Heliobacter pylori as the cause of peptic ulcers. Fortunately for us, a friend with a baby born soon after ours was a former nurse married to a senior doctor - their belief in herd immunity (their words) and walking the walk gave us the confidence that wasn't coming from ministers or the NHS.Are all of the vaccine-hesitant stupid? Well, apparently the highest concentration of the vaccine-hesitant in the US is among those with a PhD. Now, Linus Pauling had two Nobel prizes when he persuaded his wife to ignore oncologists and take very high doses of vitamin C - he was partly right, she became entirely dead.Trust is earned and as Chris Whitty (alone) seems well aware, altruism and goodwill are limited in even the most compliant populations. Developing vaccines requires hard science, living with a novel endemic virus in our midst requires the ability to engage with hearts and minds - and not to screw things up by being caught with your pants down, breaking your own rules.\n",
      "\n",
      "##FLUFFYCHAP\n",
      "https://discussion.theguardian.com/comment-permalink/151277549\n",
      "https://profile.theguardian.com/user/id/103272108\n",
      "\n",
      "See my reply to speak4self a couple of posts down, and check out the second link.\n",
      "Around fifteen years ago, I bumped into a friend, we got chatting and he invited me back to his for a smoke and to watch a DVD he had which \"exposed\" how the twin towers bombing must have been a conspiracy, the bombing being one of our topics of discussion. I gave respect and watched the whole thing, must have been 45-60 minutes. The whole thing was riven with misspelled and \"misgrammared\" text, and this is usually enough to dismiss anything, in my book. However, there was one absolutely glaring misrepresentation of science which really wound me up. The DVD alleged that the two chunks of building which broke off at the top simultaneously should have landed at the same time according to physics, but they didn't, however slight the difference. Now, I paid attention at school and I liked physics, and the sheer fact that this organisation of goons could co-opt \"science\" to speak for them and few to no one could discern that either they lied through their teeth or they were massive idiots, the sheer fact of this should gall everyone.\n",
      "I told my mate the two above thoughts. He said I was too harsh about the language, and that I may be right about the physics, but that this did not disprove any of the rest of the argument...\n",
      "You can lead a horse to water, but at some point you might expect the horse to explore the landscape for itself.\n",
      "\n",
      "##MINTAKA\n",
      "https://discussion.theguardian.com/comment-permalink/151277192\n",
      "https://profile.theguardian.com/user/id/2169435\n",
      "\n",
      "Let me paraphrase your argument.\n",
      "The delta variant is more infectious than the original variant of SARS-Cov 2. Vaccines are very effective against the original but much less effective against the delta variant. Therefore, vaccinated people who become infected and spread the infection are creating selective pressure in favour of the delta variant.\n",
      "All that is true, but that doesn't mean they are making it worse. They are not. The delta variant would have become the dominant variant anyway, with or without vaccines, because it is more infectious. Vaccination may be speeding up the process of it becoming dominant, but it is doing so by reducing non-delta infections, not by increasing delta infections. And that is what matters, the total number of infections, not what proportion are of which type.\n",
      "Is it better to have a million infections, half a million each of the delta and original variants, or half a million infections, of which 450,000 are delta and only 50,000 are not delta? In the latter case, delta is much more dominant, but that doesn't make it the worse scenario.\n",
      "The only scenario in which vaccination would be worse is if infection by the original strain conferred better immunity against the delta variant than was conferred by the vaccine. There is not a shred of evidence that this is the case.\n",
      "\n",
      "##BATS2IN2THE2BELFRY\n",
      "https://discussion.theguardian.com/comment-permalink/151276700\n",
      "https://profile.theguardian.com/user/id/100690228\n",
      "\n",
      "This mistrust can run so deep that people will trust almost any source of information other than the government\n",
      "\n",
      "Thing is, if it was only (or even mainly) the government, as in Jobbo's dreadful political machine - providing the info on the pandemic, while the medical and science communities either said nowt or argued the opposite, then I would absolutely not trust them. \n",
      "My trust in the health services, in health data gathering (e.g. Johns Hopkins University), and in health bodies across the world from Fauci's CDC to the UK's SAGE is quite independent of my utter distrust for the slovenly despot and his cabinet of goons. In fact, when we saw huge majorities across the country supporting a continued mask mandate, while government repealed it, it is quite clear that a lot of people do NOT trust the government on this massive issue. And I'd call that healthy. \n",
      "It's the ones who go on to \"therefore\" also distrust the weight of medical data, analysis, research and the findings and warnings that are the problem. \n",
      "Do they still believe the 5G mast one? Or the woman screaming in a US court \"How do you explain that???\" as she desperately (and in vain) tried to get her doorkeys to stick to her \"magnetised\" neck? When will it dawn on them what a pile of hooey it all is?\n",
      "\n",
      "##SMELLTHECOFFEE101\n",
      "https://discussion.theguardian.com/comment-permalink/151276400\n",
      "https://profile.theguardian.com/user/id/10204723\n",
      "\n",
      "Vaccine hesitancy is a symptom of people’s broken relationship with the state\n",
      "\n",
      "I'd argue its more a symptom of an individual's characteristics (such as education, intelligence and wisdom) that means people have no background understanding of epidemics, viruses, vsccinstiond etc .......... and the industrial scale antivax disinformation campaigns on the internet (especially via targeted social media) manipulating what they believe.\n",
      "The loss of faith in 'the state' is similar. The Spaff may have effectively crippled the UK, but the Spaff and his ERG Con were voted in by individual voters who believed the internet disinformation they were fed. That information said \" don't trust experts, don't trust government, don't trust logic or statistics\" etc. Yes the past 10 years of Con government had kicked the poor in the teeth, but then the poor went and voted for another Con, again, because internet disinformation.\n",
      "As for 'the state' itself. The reluctance to call 'vaccine hesitancy' what it is and address its root causes are a measure of the weakness of the state ..... the very state that the people distrust because the internet disinformation conspiracy theories tell them it is an 'all powerful big brother behemoth trying to control them'.\n",
      "\n",
      "##CLOUD9DEMOCRACY\n",
      "https://discussion.theguardian.com/comment-permalink/151276978\n",
      "https://profile.theguardian.com/user/id/3589748\n",
      "\n",
      "If you are employed by the NHS as a Care Assistant you start on Band2 of £18,005 and have holiday and maternity or sick pay statutory rights\n",
      "If you work in the Private Care sector which runs about 85% of the care provision in the UK you could start on £15k a year but the hours are complex as the nature of Care Assistance is 24 / 7 days a week and can impact on one's own health if not monitored \n",
      "The idea that the Care 'sector' is whereby we get 'treated' badly is banal and quite frankly a disgraceful off the cuff ill informed view \n",
      "However,you have pointed out the comment about why would we trust the UK Govt? Well how would any of us know as the whole Care Provision Sector is almost a 'forgotten' workforce in the first instance as most people know when they realise they 'need' us or 'have to meet us' when they require our skills and compassion\n",
      "I may be low paid but I know my work is one of great worth to those I work with and help when on shift...the world is full of 'treated' badly but most people get bullied in a garage or factory floor by Amazon...to name but one big sprawling hangar along the M1...H&M+Amazon the unit is so big it's bigger than most towns! Now working in those 'situations' well that is being badly 'treated'\n",
      "\n",
      "##PEAKE1995\n",
      "https://discussion.theguardian.com/comment-permalink/151276039\n",
      "https://profile.theguardian.com/user/id/11585072\n",
      "\n",
      "The reason why the anti-vax movement is a particularly difficult piece of dog-mess to remove from society's shoe is that its messaging doesn't come just come from the far-left, or far-right. We've got anti-big government slogans, intertwined with the NWO/Jewish Cabal/Reset stuff. We've got anti-big pharma from the So Cal wine moms (and a number of my liberal family friends). \n",
      "The thing that confuses me about all of this is that the cognitive dissonance amongst all of these anti-vaxxers. I imagine they are happy to rely on a pilot to fly them somewhere, or for a doctor to fix a broken bone. Then there's the section who are vaccine \"hesitant\", and claim it's too much of a risk to take a vaccine that is \"under trial\", yet these are the people who've been saying for the last year that we need to open up and \"accept certain risks\". Never mind that the virus, and the mRNA technology some of the vaccines are based on, is extremely well researched etc etc.\n",
      "All I can say is I am very thankful the UK doesn't have politicians of the naked partisanship of the likes of Desantis, Abbot, Taylor-Greene etc. Eight States currently account for 50% of America's COVID hospitalisations. All of them deep Republican (read Trumpist) States.\n",
      "\n",
      "##WHATENLIGHTENMEANT\n",
      "https://discussion.theguardian.com/comment-permalink/151276309\n",
      "https://profile.theguardian.com/user/id/101865551\n",
      "\n",
      "If the people should lose faith in their governments, can you really blame them?\n",
      "Governments continue to use and abuse citizens, on multiple levels. Numerous states have a leadership that cultivates it’s image as a brand, while raking off quite fabulous wealth from the state.\n",
      "Some governments, too many, are quite brazen in suppressing all opposition, not only political opponents, but journalists both domestic and foreign. Sometimes, suppression includes murder, as with Jamal Khashoggi, and we citizens of elsewhere get to observe our own governments conveniently looking the other way. When did such complicity ever inspire confidence?\n",
      "The nature of leadership is broken, seen everywhere to be self serving. Just think of Australia’s Scott Morrison and the theatre he staged in Parliament with the piece of coal a while back, or the US Republicans who are OK with the fact that their defenders died defending them when the Capital building was stormed. \n",
      "Now, if we were to make government jobs sufficiently well paid, but with zero opportunity for exploitation or further reward, that might help, but the politician I would be most inclined to trust would be one who really, really didn’t want the job.\n",
      "\n",
      "##RICHARDOFBIRMINGHAM\n",
      "https://discussion.theguardian.com/comment-permalink/151276646\n",
      "https://profile.theguardian.com/user/id/4104246\n",
      "\n",
      "Vaccine take up in the UK has been very high, particularly amongst the elderly who it became clear early on were most at risk. Indeed compared with other vaccine programmes it has exceeded expert forecasts.Younger people are now coming forward but many may have been inadvertently given the impression that they were not at risk by the initial concentration on the older age groups. Whilst they remain much less at risk there is a growing realisation that the level of risk means they should also get vaccinated without delay. \n",
      "Our expert guidance on children has rightly concentrated on the value of vaccinating children for themselves rather than any perceived benefit to other age groups but now that other countries are extending mass vaccination campaigns to children over the age of 12 one suspects we will follow suit. Of course, vaccination in itself is not entirely free from risk but the balance of risk comes down in favour of vaccination when you have a virus which can cause such harm to individuals.It has nothing whatsoever to do with whether one supports or does not the current crop of politicians in power so far as regards the UK.\n",
      "\n",
      "##KTTEACHER\n",
      "https://discussion.theguardian.com/comment-permalink/151276402\n",
      "https://profile.theguardian.com/user/id/4002464\n",
      "\n",
      "Throughout history pandemics have always led to fear led theories, witches, volcanos, evil spirits, foreigners ( which included anyone really not from your town or village), people poisoning the wells, different religions. The main reason for this fear was ignorance of what spread disease. However people started to use forms of vaccine against smallpox around the world before they understood how it worked, because they knew the disease was a far worse and a greater threat than the vaccine. It’s denial of this basic fact that makes me so cross with those opposed to vaccination. I am also sick of being told they have an immune system, yes those of us with compromised immune systems are more at risk of dying from covid, but most people who have died had perfectly functioning immune systems. If our immune system was sufficient, nobody would ever die of disease. I support Macron 100%. His job is to protect the people of country, not risk everyone’s lives for a selfish minority. Let’s be clear know people who died of covid and I don’t want anyone else to die of it, even the deniers.\n",
      "\n",
      "##JIFFERYVTWO\n",
      "https://discussion.theguardian.com/comment-permalink/151277077\n",
      "https://profile.theguardian.com/user/id/14337204\n",
      "\n",
      "Here in France, where children have had 11 vaccinations for decades, anti-vaxxers have merged with anti-Covid pass campaigners, anti-maskers, anti-Macronites, anti-semites and the all-purpose, mindless anti-everything movement know as the \"gilets jaunes\". It is important to understand that anti-vaxxers are just another sub-set of the politically-extreme bunch of nutters and haters that deny all the evidence in favour of conspiracy theorists and other and attention seekers that flourish on social media and far-right media outlets. Those who follow these absurd \"causes\" are at the least frustrated by democratic systems that do not gives majority powers to their own minority viewpoints (as if those they favour actually want the responsibility of power) and are otherwise bitter at those who have made a better fist of their lives than they themselves have.\n",
      "The specific danger with anti-vaxxers is that they are effectively pro-Covid activists, as they prolong the duration of the pandemic with their opposition to the most effective anti-Covid weapon we have: vaccination.\n",
      "\n",
      "##BATS2IN2THE2BELFRY\n",
      "https://discussion.theguardian.com/comment-permalink/151276872\n",
      "https://profile.theguardian.com/user/id/100690228\n",
      "\n",
      "I get why you say it but I don't think it's that, just a simple case of not having the background or surplus intellectual capacity to understand. Because a thing like, say, masks providing an effective-enough dampener to virus spread, can and has been be shown in very plain and graphic forms to be the case. Plus, to argue for something like vaccination uptake and even passporting, you don't really have to say much more than - polio/ smallpox/ measles, it's just like that.What I find is a furious and hyper-complicated barrage of pseudo-intellectual gravel being chucked at these rather plain cause-and-effect operations, and at the data that show that, yes it happens, it happened, it is happening and it will happen. Arguments that present labyrinths of dead-end tunnels and require a lot of intellectual effort in the digging of them.That's why we end up with someone like Dr Didier Raoult, who discovered the first giant virus (the mimivirus I think it was called), and Cambridge-educated lawyers falling for this elaborate and exhausting anti-vaxx tripe.\n",
      "\n",
      "##BLEAK_T_W\n",
      "https://discussion.theguardian.com/comment-permalink/151277315\n",
      "https://profile.theguardian.com/user/id/104384402\n",
      "\n",
      "It's science that gave you electricity.It's science that means that you don't die from sepsis when you get a splinter.It's science that gave you antibiotics and the theory of hygiene.It's science that means you don't have cholera.It's science that means you don't have to have eight children in the hope that a couple make it to adulthood.It's science that has given you painkillers and anaesthetic.It's science that allows people to communicate with others, instantly, all over the world.It's science that has helped eradicate some of the most common childhood diseases through vaccination.It's science that means you're not dying of smallpox.It's science that is creating green technologies to fight climate change.It's science that has cured many cancers and developed treatments for many others.It's science that has developed treatments for genetic disorders.It's science that allows you to live into your nineties.It's science that lets us develop knowledge of the deep past and the distant universe.\n",
      "It's science that allows you to understand the world around you.\n",
      "\n",
      "##HIBERNICA\n",
      "https://discussion.theguardian.com/comment-permalink/151276230\n",
      "https://profile.theguardian.com/user/id/2822285\n",
      "\n",
      "The article points out that 'state failure breeds paranoia' and that is certainly true, but it also needs to be pointed out that there is paranoia around even in states that haven't failed.\n",
      "Of course every state is flawed but even wealthy countries have a surprising level of paranoia that leads to people who are anti-vaccine, anti-mask or anti-lockdown and, in some cases, all three. But it is as much an anti-science viewpoint as an anti-state one. \n",
      "There is certainly no logic involved. Even if you have a good reason for despising the state in which you live, you have no good reason for being anti-science. But the anti-science movement is substantial. Nevertheless, if you're anti-vaccine you're only one small step away from being a Flat Earther; it's all part of the agenda that rejects science.\n",
      "But I suppose if people really are anti-science it means that education has failed them. So the state has to share some of the blame. Most of the blame however, has to go to those people who appear to accept that paranoia and foolishness are the way forward.\n",
      "\n",
      "##JOMO347\n",
      "https://discussion.theguardian.com/comment-permalink/151277374\n",
      "https://profile.theguardian.com/user/id/18503814\n",
      "\n",
      "This issue has certainly brought out the insanity for many people. One side you have the people who believe covid was invented so that they can implant microchips into us who think anyone wearing a mask or social distancing is a sheep or zombie. The other camp who choose to question nothing and do everything that they're told to immediately and then spew hateful abuse at anyone who is different to them calling people tinfoil hat wearers and right wing nut jobs if they're not immediately getting shots and scrubbing their fruit and veg.... and there's people like me who are in the middle, who don't judge anyone, who don't call people names or mock people, who mind their own business, who are weary of the infancy of the vaccination and the varients overriding it, who worry about people's childrens welfare and the welfare ofany people affected by the confusing lockdowns and lack of clear direction and management. We all need to put our pitchforks down and become more clear headed about this. Stop turning on each other and 'mind your own business'.\n"
     ]
    }
   ],
   "source": [
    "all_comments.sort(key=lambda x : -len(x) )\n",
    "print( '\\n\\n'.join(all_comments[:20]) )"
   ]
  },
  {
   "cell_type": "code",
   "execution_count": 18,
   "metadata": {},
   "outputs": [
    {
     "name": "stderr",
     "output_type": "stream",
     "text": [
      "[nltk_data] Downloading package vader_lexicon to\n",
      "[nltk_data]     /home/gregmcshane/nltk_data...\n",
      "[nltk_data]   Package vader_lexicon is already up-to-date!\n"
     ]
    }
   ],
   "source": [
    "#https://towardsdatascience.com/sentimental-analysis-using-vader-a3415fef7664\n",
    "\n",
    "import nltk\n",
    "#nltk.download('vader_lexicon')\n",
    "\n",
    "from nltk.sentiment.vader import SentimentIntensityAnalyzer\n",
    "\n",
    "sid = SentimentIntensityAnalyzer()"
   ]
  },
  {
   "cell_type": "code",
   "execution_count": 22,
   "metadata": {},
   "outputs": [],
   "source": [
    "a = '''My views haven't changed. Leaving the EU will be of no benefit to anyone except those who hold money and power along with certain corporates and a smidgen of medium to small businesses.\n",
    "How else can it be when you are shutting shop to the most developed nations, the richest nations in the world, who are either in the EU or have market agreements with the EU. Even the emerging markets of China and India along with other developing economies are aspiring to develop trading agreements with the EU, the second largest economy in the world. Any deal with the UK will be secondary and will depend upon their agreement with the EU.\n",
    "Boris Johnson once said \"f**k business\". I take this as meaning there is something in it for them and they don't really care if businesses find it difficulA\n",
    "t to cope.\n",
    "I can see ministers and conservative MPs queuing to fill their pockets by acting as advisors for potential trade deals whilst the rest of the country are left struggling trying to rebuild their lives, especially following the pandemic. The same ministers will probably be looking to lower all kinds of standards from food and welfare to safety at work to improve their opportunities.\n",
    "When it comes to brinkmanship, I can only view this as getting away with whatever they can. I do not believe it is anything to do with negotiating an agreement that will be to the benefit of the UK or the EU as a whole, I don't believe our ministers are capable of doing that.'''"
   ]
  },
  {
   "cell_type": "code",
   "execution_count": 24,
   "metadata": {},
   "outputs": [
    {
     "ename": "TypeError",
     "evalue": "sentiment_valence() missing 4 required positional arguments: 'sentitext', 'item', 'i', and 'sentiments'",
     "output_type": "error",
     "traceback": [
      "\u001b[0;31m------------------------------------------------------------\u001b[0m",
      "\u001b[0;31mTypeError\u001b[0m                  Traceback (most recent call last)",
      "\u001b[0;32m<ipython-input-24-6f3326dcf5de>\u001b[0m in \u001b[0;36m<module>\u001b[0;34m\u001b[0m\n\u001b[1;32m      1\u001b[0m \u001b[0msid\u001b[0m\u001b[0;34m.\u001b[0m\u001b[0mpolarity_scores\u001b[0m\u001b[0;34m(\u001b[0m\u001b[0ma\u001b[0m\u001b[0;34m)\u001b[0m\u001b[0;34m\u001b[0m\u001b[0m\n\u001b[0;32m----> 2\u001b[0;31m \u001b[0msid\u001b[0m\u001b[0;34m.\u001b[0m\u001b[0msentiment_valence\u001b[0m\u001b[0;34m(\u001b[0m\u001b[0ma\u001b[0m\u001b[0;34m)\u001b[0m\u001b[0;34m\u001b[0m\u001b[0m\n\u001b[0m",
      "\u001b[0;31mTypeError\u001b[0m: sentiment_valence() missing 4 required positional arguments: 'sentitext', 'item', 'i', and 'sentiments'"
     ]
    }
   ],
   "source": [
    "sid.polarity_scores(a)\n",
    "sid.sentiment_valence(a)"
   ]
  },
  {
   "cell_type": "code",
   "execution_count": 9,
   "metadata": {},
   "outputs": [
    {
     "name": "stdout",
     "output_type": "stream",
     "text": [
      "##SMELLTHECOFFEE101\n",
      "https://discussion.theguardian.com/comment-permalink/151247108\n",
      "https://profile.theguardian.com/user/id/10204723\n",
      "\n",
      "Are you in **DENIAL**? Because it’s not just anti-vaxxers and climate sceptics\n",
      "\n",
      "Thats true, lots of people in **DENIAL** about lots of things.\n",
      "\n",
      "To accept the facts about climate science without changing the way we live is also to deny reality\n",
      "\n",
      "I accept the facts about climate science. I have a couple of problems with changing the way I live. The first is I simply cant afford to. \n",
      "Like many in the ;rich' UK I am desperately poor. I own the home I live in (in a poor area of the UK). BUT. ...... \n",
      "I drive an 11 year old diesel car, because I can't afford to replace it. My bathroom and kitchen are 25 years old, because I can't afford to replace them. My, very limited collection of clothes, probably the newest item is 4 years old. Replace my ancient gas boiler, you say? How? Eat less meat? I can't afford meat already, maybe 500g minced steak a week as a treat? I certainly can't afford the fashionable overpriced veggie meat substitutes. The UK has 10,000,000s as poor as me who simply cannot do anything without the state funding it.\n",
      "I have seen the UKs response to covid. Spaffer and the covidiots partied on while well over 130,000 died. We're still dying, and they still party on. After seeing that, I have no faith in the government to do anything about climate change other than \"letting the bodies pile high\" and giving money to their chums again - and, worse, no faith in the majority of the population to do anything either.\n",
      "Other countries? The amazon burns and the Asian 'powerhouse' countries plan to build coal fired power stations like its going out of fashion.\n",
      "None of that is my choice or '**DENIAL**', its simply reality.\n",
      "\n",
      "##RUMITHON\n",
      "https://discussion.theguardian.com/comment-permalink/151246990\n",
      "https://profile.theguardian.com/user/id/16001011\n",
      "\n",
      "Time to move the conversation on. Anti-vax, climate **DENIAL**, or continuing as normal regardless - only making available alternative perspectives with decent info, gently, may disabuse folk of their biases.\n",
      "But what of those who do want to deal with this code red for humanity?\n",
      "I'm just thinking out loud, for I see no meaningful movement from governments. Our one power, collectively, is consumer power. And I am thinking out loud and encourage everyone to join in, and observe a civil respect, cos I am tired of snootiness below the line, and we now need to explore genuine solutions to this predicament.\n",
      "I also do not want to feel helpless, and since the IPCC release, I have definitely felt anxious about a deteriorating future. These feelings - I wish to resist or appease with some activity. \n",
      "So beyond the essentials, and looking at a sustainable way of living - we need: food, clothing, locally produced, or domestically produced where possible in terms of food, internet, healthcare. Transport for essential key workers.\n",
      "I'm still into buying stuff, but I could buy or fix locally, domestically, and second hand. \n",
      "This would lead to the collapse of a lot of industry, and the economy, infrastructure, everything - would have to be radically rethought. And it would have to be anyway as the future is bleak in terms of climate and its impact.\n",
      "I do see a big positive in the forming of communities and cooperation as that will be very healthy, and there is joy in community.\n",
      "\n",
      "##KBG541\n",
      "https://discussion.theguardian.com/comment-permalink/151246696\n",
      "https://profile.theguardian.com/user/id/3614600\n",
      "\n",
      "We are not in **DENIAL**. \n",
      "The science keeps changing. Yes, we have been aware of global warming - however the warnings given up till 2010 or thereabouts were different - the timescales were different.\n",
      "And yes --behaviour has changed. Recycling was unheard of in the 90's - now almost everyone does it as a matter of course.\n",
      "Homes, boilers and electronic equipment are now energy rated - energy efficiency is being built into things such as fridges, TVs and so on. CFCs are not used as widely as they were before. Our town has gas powered buses - not diesel and they've been in operation since 2016. \n",
      "People have not been in **DENIAL** and have been taking action to save the planet. Progress has been made.\n",
      "However, the science has changed and we've gone from humanity needing to start to do something to humanity needs to decarbonise, now within the space of five or ten years. \n",
      " Telling people they aren't doing anything, when they have a recycling bin full of cans and bottles and have chosen the most energy efficient appliance for their home is not helpful. Telling people they have to give up the car, when society has been built around the motorcar is not helpful. \n",
      "If people were able to walk to work, or use broadband it would help save the planet more - but we've got government ministers demanding folk return to commuting, and no sign of a solution to a broken housing system which forces people to live 40 miles+ out of London so they can commute everyday.\n",
      "\n",
      "##SEAKAYAKER\n",
      "https://discussion.theguardian.com/comment-permalink/151247672\n",
      "https://profile.theguardian.com/user/id/4411944\n",
      "\n",
      "Re climate change, let's simplify and split people into groups: 1/ Campaigners to act to stop it; 2/ People who are aware and are trying to 'do their bit'; 3/ People who are aware but not doing anything; 4/Those who are not aware; 5/ Those who are are aware and don't care; 6/ Those who who deny it. Groups 5 & 6 are beyond all hope but they are, in my view, a minority in numbers but probably less so in impact on the climate.The effort should be put into groups 2, 3 & 4. Educating, nudging, call it what you will but they can, collectively, make a difference. At the moment who is doing anything? The Guardian, BBC and Sky.Where is the government-backed effort? Every single one of the **DENIAL**ists claims can be demolished. As a retired person I have spent the time on websites like Skeptical Science to see how many of the **DENIAL**ists' claims have been debunked but **DENIAL**ism has deep pockets going back decades. We cannot wait for the outcome of court cases against certain fossil fuel companies to show that they have been lying. We cannot wait for political groups like the GOP to become sane again. The history of warfare shows that when the will is there governments can achieve almost anything. We may not like the A-bomb but its creation in a few years was remarkable. Look at the vaccination development for Covid.We need those levels of effort now.\n",
      "\n",
      "##VERAANTHONY\n",
      "https://discussion.theguardian.com/comment-permalink/151246542\n",
      "https://profile.theguardian.com/user/id/103982416\n",
      "\n",
      "“But there is another form of **DENIAL**, what the philosopher Quassim Cassam calls “behavioural or practical **DENIAL**ism”. This is the mindset that accepts the science marshalled by the IPCC – it hears the alarm bell ringing – but still does not change its behaviour.”\n",
      "But that isn’t much use. Social scientists explain the same phenomenon in terms of socio-political disconnection. The interconnectedness of the global economy creates dependencies across territories - oil pipeline workers in the Middle East, petrochemical plants in Louisiana, plastic pellet producers in India, moulding specialists in Germany, electrical fitters in Scotland…\n",
      "Yet in spite of this super-glued industrial and economic interdependence the fact is that globally separated consumers know nothing (or next to nothing) about how their products are created or who creates them: economic interconnection is paralleled by socio-political disconnection. Most of us don’t know what our clothes are made of and don’t understand the material description on the label. We’re mostly ignorant about the production of the foodstuffs we eat. We have mostly no idea about how plastics get into cosmetics.\n",
      "Economic integration at the global level is accompanied step by step with differentiation at the social and political level. It isn’t ‘**DENIAL**ism’, it’s disconnection.\n",
      "\n",
      "##GRAUN\n",
      "https://discussion.theguardian.com/comment-permalink/151247882\n",
      "https://profile.theguardian.com/user/id/4109931\n",
      "\n",
      "one person can do nothing to halt a planetary emergency, so you might as well shrug and move on. Which is “to act in the same way as if you were a climate change denier,” says Cassam. “The practical upshot is the same.”\n",
      "Only on a very superficial (one might venture: argumentative) level. \n",
      ". \n",
      "The real point is not about belief, but motivation. While the Covid deniers, BREXIT believers and Trump supporters have a common fault - **DENIAL** of the FACTS, those who are not moving to act on climate change simply need to be shown what to do. \n",
      "\n",
      "When led, they are ready, willing and able to ditch their plastic bags, their coal, their over-packaged goods, flights and everything else. The big things, like spending £10,000 or more ripping out a perfectly functional gas boiler and installing a heat pump? Well, that needs time, examples to follow and support. \n",
      ". \n",
      "Of course, it helps a lot when everyone else is doing the same. Otherwise it just seems like one person or family donning the \n",
      "hair shirts and watching everyone else laugh at them.\n",
      "\n",
      "##FIRSTPOET\n",
      "https://discussion.theguardian.com/comment-permalink/151247014\n",
      "https://profile.theguardian.com/user/id/18308334\n",
      "\n",
      "Then starting from tomorrow,for example, never buy cheap clothing again. All Primark and clothing etc to close within a month and most retail workers and millions of textile workers around the world to be laid off. The article on green crofters on this site yesyerday showed them wearing plastic wellies. Not green. Make them last because no more can be made. Having a carpet laid tomorrow? Uses carbon to transport and part plastic based materials. Writing about **DENIAL** over a coffee made from cleared rainforest? Etc etc. Ok I know it sounds 'extreme' but spare me the moralising hypocrisy. Blame Johnson personally if it makes you feel justified. I think only one set of figures matter- population growth from around 2.5 bn only 60 yrs ago to approaching 8+bn up to 10bn. If only half want to live an affluent lifestyle with some tourism or regularly eat imported seafood we are finished. So it'll take coercion, conflict and warfare. It will be brutal.\n",
      "\n",
      "##SPOTTHELEMON\n",
      "https://discussion.theguardian.com/comment-permalink/151247351\n",
      "https://profile.theguardian.com/user/id/4077813\n",
      "\n",
      "The UK is not the US and the premise is wrong, it is perfectly possible to fully accept climate change and decide not to take any action, it's not an approach I would subscribe to but there is a logic to it and it is essentially passive, they don't try to force their view on anyone else. A problem with the Freeland view is that it creates a haystack in which lots of needles can hide\n",
      "On the other hand much of climate **DENIAL** has changed tack, it's hard to say it won't happen when it's happening around you so instead they oppose every solution with, \"it won't work\", \"it will have some bad consequence if it is done\" , \"it's not enough therefore you shouldn't do it\" or is not absolutely perfect in some other way. This is very much an active position, it goes out of its way to discourage solutions every bit as much as publicly claiming it wouldn't happen or and wasn't anthropomorphic and fossil fuels were not responsible.\n",
      "\n",
      "##VTIMAN\n",
      "https://discussion.theguardian.com/comment-permalink/151247471\n",
      "https://profile.theguardian.com/user/id/3991184\n",
      "\n",
      "I think that what might be termed MMCCDS is at play here. \n",
      "Man made climate change **DENIAL** syndrome. \n",
      "AGW is so all encompassing and life changing that many go straight into **DENIAL** which is a strong human emotion. \n",
      "The same with the pandemic. The anti science anti mask anti vaccine is also **DENIAL**. \n",
      "They do not think that the virus is serious, that they will recover easily, that they will not get it and if they do die it was fate that nothing can change. Many also believe God will protect them. \n",
      "It also appears that Republican politicians are willing to sacrifice the lives of their own voters to own the Libs and thwart Biden’s plans to reduce the pandemic. \n",
      "They do not care so much about their voters as they aim to suppress the Democrat vote by any means br it wrecking the post office, cancelling mail in votes, closing polling stations early and greatly reducing polling locations in heavily populated Democrat cities.\n",
      "\n",
      "##IANROD65\n",
      "https://discussion.theguardian.com/comment-permalink/151246730\n",
      "https://profile.theguardian.com/user/id/1842118\n",
      "\n",
      "I strongly object to the effects of plate tectonics, but like climate change there is practically nothing that can be done to prevent them, just mitigate their worst effects. (Not building on fault lines ect) \n",
      "Unlike Covid which has proved to be relatively easy to deal with with clearly very effective vaccines. \n",
      "It's not that i'm in **DENIAL** about any of the three. Just I have yet to hear a convincing argument for reversing climate change that doesn't start with 'we have to change.....' and then a whole list of impossible to achieve aims and goals... \n",
      "Just like there is no practical way to prevent or even predict earthquakes nor volcanic eruptions.I hope i'm proved wrong, but I don't think I will be.\n",
      "\n",
      "##CHEESEWOMBAT\n",
      "https://discussion.theguardian.com/comment-permalink/151247542\n",
      "https://profile.theguardian.com/user/id/106070968\n",
      "\n",
      "It is possible that, as a species, we are not capable of avoiding the coming catastrophe of our own making. Mathematicians may be able to produce an equation which expresses the increasing incidences of **DENIAL** in the face of clear evidence of our headlong race to disaster. But it won’t change a single denier’s mind.\n",
      "Apparently, half a billion years ago, the planet Venus had a temperate environment and oceans. Then it fell victim to a runaway greenhouse effect. We don’t know why. Any traces of possible life that existed before their total climate catastrophe are now lost on a world with surface temperatures hot enough to melt lead. Maybe Venus is a warning for us.\n",
      "\n",
      "##MUSTYKANKLES\n",
      "https://discussion.theguardian.com/comment-permalink/151246898\n",
      "https://profile.theguardian.com/user/id/14327058\n",
      "\n",
      "But there is another form of **DENIAL**, what the philosopher Quassim Cassam calls “behavioural or practical **DENIAL**ism”. This is the mindset that accepts the science marshalled by the IPCC – it hears the alarm bell ringing – but still does not change its behaviour.\n",
      "\n",
      "There's lots of evidence of that on these very boards! People use the the failure of the Government to act as an excuse to do nothing themselves. How often do we hear, \"If the Government did this or subsidised that then I could make a difference...\"?\n",
      "It's nonsense.\n",
      "If we are going to make a difference we cannot wait for the Government. We have to do it ourselves by changing our behaviour and our mindset.\n",
      "\n",
      "##SPOTTHELEMON\n",
      "https://discussion.theguardian.com/comment-permalink/151247774\n",
      "https://profile.theguardian.com/user/id/4077813\n",
      "\n",
      "It is very obvious that electric is the most eco-friendly option, that doesn't mean there aren't problems with it but technology usually moves forward out of necessity, it's why major wars result in rapid technological development. The issues are solved because the technology becomes widely used and there's an advantage in improving it, if the basic technology is not used then little or no work goes into improving it.The idea that there's no advantage to more eco friendly technology is one of the new tricks of climate **DENIAL**ism, \" it doesn't work\", \" it's not perfect\", \"there's some <insert problem> with it that means you should just stick with fossil fuels\"\n",
      "\n",
      "##GEDPARKER\n",
      "https://discussion.theguardian.com/comment-permalink/151247335\n",
      "https://profile.theguardian.com/user/id/2741475\n",
      "\n",
      "I think Jonathan and other commentators are in **DENIAL** by not spelling out how our modern rights derive from our prosperity and consumption; not least the right to expand the population of the world and give them healthy lives. Would we really say all rights to energy, goods and services, sophisticated medicines, and movement are to be denied to get us back to pre-industrial levels of CO2 and methane releases? Look how we've bleated over tiny restrictions to suppress a short life virus. Taking a jab is easy compared with going wholly off grid.\n",
      "\n",
      "##DENSHER\n",
      "https://discussion.theguardian.com/comment-permalink/151247738\n",
      "https://profile.theguardian.com/user/id/10874901\n",
      "\n",
      "“Right-wing nutters”? Many in **DENIAL** in the US South are members of Christian churches, as with those shown in Louisiana and Mississippi on the BBC last night. Have they never heard of Jesus telling us to care for each other? Are they told to do nothing to help the poor and the sick, or told that those who do advocate health care for the benefit of the community are communists and liars? - or is it just ‘God’s Will’? If Jesus returned to Earth in Louisiana, would he find a sympathetic ear, or be cursed and cast out as a threat to society?\n",
      "\n",
      "##STEELEWILL\n",
      "https://discussion.theguardian.com/comment-permalink/151247719\n",
      "https://profile.theguardian.com/user/id/100466704\n",
      "\n",
      "I thought the article was about pointing out that those who stick their heads in the sand over the climate crisis by not amending what they do are in **DENIAL** as much as covid deniers.But yours, along with many other comments on here are avoiding what appears an awkward truth by focussing on covid deniers & the like.We've had weeks & months to lambast covid deniers & anti-vaxxers in comment sections, but what of the climate issue in light of this new report? What steps, if any, are you taking in that respect?\n",
      "\n",
      "##FREEDOMOFSPEECG\n",
      "https://discussion.theguardian.com/comment-permalink/151247200\n",
      "https://profile.theguardian.com/user/id/104322773\n",
      "\n",
      "No, but if you want to solve a problem you need to understand the problem and plan accordingly. \n",
      "Climate change and vaccine **DENIAL** are very different problems and required very different solutions. To use an extreme example that I am not advocating, we could 'solve' vaccine **DENIAL** by physically forcing everyone in the country to have the vaccine but it is currently impossible to force the entire population to lead a net zero carbon lifestyle in the UK.\n",
      "\n",
      "##UNCOMMODIFIED\n",
      "https://discussion.theguardian.com/comment-permalink/151246791\n",
      "https://profile.theguardian.com/user/id/18309811\n",
      "\n",
      "Anybody within a country mile of the political centre is in **DENIAL**. To me, unless you agree that significant limits should be put on economic growth to bring emissions down, you are basically the same as Trump; the differences are in style but not substance.\n",
      "I am not in **DENIAL**, because I'm a self sufficient smallholder with radical politics. There are a good number of such people, more than you'd think, and many more who would if they could.\n",
      "\n",
      "##BLUEJ3\n",
      "https://discussion.theguardian.com/comment-permalink/151246933\n",
      "https://profile.theguardian.com/user/id/15402644\n",
      "\n",
      "Agreed - and sadly the UK has been adopting a few too many of the US ways - personally I would rather be more aligned with the EU - and annoyingly Brexit has been destructive and detrimental to our progress…instead with right wingers in charge there is a sense of sleepwalking towards a US dysfunctional state…maybe we are already there - plenty of **DENIAL** over what a messed up country we are..homelessness..poverty…division..corporate monopolies etc\n",
      "\n",
      "##LISAMARIE3\n",
      "https://discussion.theguardian.com/comment-permalink/151246798\n",
      "https://profile.theguardian.com/user/id/13958338\n",
      "\n",
      "The more I read about America the more I think the people there are suffering from a **DENIAL** of a different sort.\n",
      "They seem to be in **DENIAL** about the bat-shit crazy country they are living in.\n",
      "The Anti-Vax, Anti-Climate change stance is born of the same blindness that ignores the millions of homeless, jobless, hungry people in their own country.\n",
      "I'm imagining the gun lobby is pretty well represented in these factions..\n",
      "\n",
      "##EGRIFF\n",
      "https://discussion.theguardian.com/comment-permalink/151247519\n",
      "https://profile.theguardian.com/user/id/4149361\n",
      "\n",
      "**DENIAL** is sometimes an offshoot of the pervasive conspiracy theories...\n",
      "This week I've read the fires are being set by 'space lasers' or BLM or extinction rebellion... that the floods are 'HAARP' or 'weather manipulation'. Green policy is the 'NWO' or 'Agenda 2030' trying to drive all the non elites into the cities and take away their cars. Banning gas boilers is so the elite can make money from green policies....\n",
      "\n",
      "##PARIS68\n",
      "https://discussion.theguardian.com/comment-permalink/151246655\n",
      "https://profile.theguardian.com/user/id/3381880\n",
      "\n",
      "Love the way the entitled middle classes are completely blind to their own **DENIAL**. Between 2015 & 2019 was an opportunity to make a real progressive change on a host of issues including the environment. But the likes of Freedland, Guardian and home-owning middle classes pulled out all the stops to ensure the Tories were re-elected. Now they will blame anyone but themselves for the disasters we now face.\n",
      "\n",
      "##GOLFFANATIC\n",
      "https://discussion.theguardian.com/comment-permalink/151247829\n",
      "https://profile.theguardian.com/user/id/4577049\n",
      "\n",
      "Remaining in **DENIAL** is easy when fed bad info:If the world temperature rises by two degrees, mountain glaciers and rivers will start to disappear and mountainous regions will see more landslides, as the permafrost that held them together melts away. Been going on for a while - surprised they haven't heard.\n",
      "https://news.sky.com/story/what-will-happen-as-the-world-gets-warmer-10336299\n",
      "\n",
      "##MINTAKA\n",
      "https://discussion.theguardian.com/comment-permalink/151247515\n",
      "https://profile.theguardian.com/user/id/2169435\n",
      "\n",
      "Quite. Bit of a mishmash of an article.\n",
      "I also don't see what the value is in conflating **DENIAL**ism with an unwillingness to take individual action. Both are morally flawed, sure, but that doesn't mean they are equivalent. Driving off a cliff will kill you as will taking an overdose of sleeping pills. That doesn't imply that sleeping pills are a type of car.\n",
      "\n",
      "##RIMBAUSKI\n",
      "https://discussion.theguardian.com/comment-permalink/151247848\n",
      "https://profile.theguardian.com/user/id/105276439\n",
      "\n",
      "Giving up meat is easy! Why don’t you just get radical and say that driving your car and having foreign holidays is **DENIAL** of climate change? Turn off central heating and air conditioning, your freezer and TV. The list is endless.\n",
      "I have almost become vegetarian just by growing my own fruit and veg.\n",
      "\n",
      "##EGRIFF\n",
      "https://discussion.theguardian.com/comment-permalink/151247469\n",
      "https://profile.theguardian.com/user/id/4149361\n",
      "\n",
      "Posting that while drinking almond milk and not being very sure where your soya comes from and not making sure your veg wasn't flown is climate **DENIAL**.\n",
      "20% of all agricultural CO2 emissions are from rice farming.\n",
      "\n",
      "##UNKULTURED\n",
      "https://discussion.theguardian.com/comment-permalink/151247212\n",
      "https://profile.theguardian.com/user/id/14599937\n",
      "\n",
      "Yet the UK has a slightly greater percentage of vaccinated adults.\n",
      "So maybe there are other factors at play than **DENIAL**ism and maybe the vaccines aren't the silver bullet they're made out to be.\n",
      "\n",
      "##SKYMAGNET\n",
      "https://discussion.theguardian.com/comment-permalink/151247521\n",
      "https://profile.theguardian.com/user/id/16434068\n",
      "\n",
      "Very good article. I think we are all in **DENIAL**. The other thing you can do is Believe it, and then figure how it is going to play out and what you and your children are going to do to survive.\n",
      "\n",
      "##SHOWMASTER\n",
      "https://discussion.theguardian.com/comment-permalink/151247718\n",
      "https://profile.theguardian.com/user/id/3844077\n",
      "\n",
      "Boris Johnson told us that world overpopulation was the problem.Boris Johnson then announced the coming birth of his 8th, 9th or 10th child.Boris Johnson is in **DENIAL** and can go fuck himself.\n",
      "\n",
      "##1LOVE1HEART\n",
      "https://discussion.theguardian.com/comment-permalink/151246999\n",
      "https://profile.theguardian.com/user/id/100796168\n",
      "\n",
      "Are you in **DENIAL**? Because it’s not just anti-vaxxers and climate sceptics\n",
      "\n",
      "Probably not a great idea to mix Covid and Climate Change.\n",
      "\n",
      "##MAL4MAC\n",
      "https://discussion.theguardian.com/comment-permalink/151246957\n",
      "https://profile.theguardian.com/user/id/1861392\n",
      "\n",
      "Daily cases in UK are still (just) higher than USA, the quieter **DENIAL**ism in the UK is just as bad as the noisier **DENIAL**ism in the USA.\n",
      "\n",
      "##ONEPIECEMAN\n",
      "https://discussion.theguardian.com/comment-permalink/151247614\n",
      "https://profile.theguardian.com/user/id/12022042\n",
      "\n",
      "You're in **DENIAL** about at least one thing, namely that your self-sufficient lifestyle is a solution if scaled up to planet level.\n",
      "\n",
      "##GOLFFANATIC\n",
      "https://discussion.theguardian.com/comment-permalink/151247547\n",
      "https://profile.theguardian.com/user/id/4577049\n",
      "\n",
      "Sorry: \"anti-science folk\" should just be '**DENIAL**ists'\n",
      "\n",
      "##GOLFFANATIC\n",
      "https://discussion.theguardian.com/comment-permalink/151247548\n",
      "https://profile.theguardian.com/user/id/4577049\n",
      "\n",
      "Sorry: \"anti-science folk\" should just be '**DENIAL**ists'\n",
      "\n",
      "##PROPERTYPETE79\n",
      "https://discussion.theguardian.com/comment-permalink/151247293\n",
      "https://profile.theguardian.com/user/id/16030204\n",
      "\n",
      "Commenting on here is climate **DENIAL**.\n",
      "\n",
      "##HEATHENVEGAN\n",
      "https://discussion.theguardian.com/comment-permalink/151247233\n",
      "https://profile.theguardian.com/user/id/105891527\n",
      "\n",
      "Eating \"meat\" is climate **DENIAL**.\n"
     ]
    }
   ],
   "source": [
    "target = 'decolon'\n",
    "target = 'science'\n",
    "target = 'denial'\n",
    "\n",
    "\n",
    "xx = [x for x in all_comments if target.lower() in x.lower() and  len(x) > 20]\n",
    "yy = [x for x in all_comments if '#pin' in x.lower() and 2000 > len(x) > 20]\n",
    "\n",
    "#print('\\n\\n'.join( ['\\n\\n'.join(x) for x in zip(xx,yy)])  )\n",
    "\n",
    "#print( '\\n\\n'.join(xx).replace(target, ) )\n",
    "pxx = re.compile(target, re.I)\n",
    "print( pxx.sub('**' + target.upper() + '**', \n",
    "              '\\n\\n'.join(xx)) )\n",
    "               \n",
    "#print( '\\n\\n'.join(xx) )\n"
   ]
  },
  {
   "cell_type": "code",
   "execution_count": 20,
   "metadata": {},
   "outputs": [
    {
     "data": {
      "text/plain": [
       "0.7820401046207497"
      ]
     },
     "execution_count": 20,
     "metadata": {},
     "output_type": "execute_result"
    }
   ],
   "source": [
    "(26/31) / (74/69)"
   ]
  },
  {
   "cell_type": "code",
   "execution_count": 64,
   "metadata": {},
   "outputs": [
    {
     "data": {
      "text/plain": [
       "529"
      ]
     },
     "execution_count": 64,
     "metadata": {},
     "output_type": "execute_result"
    }
   ],
   "source": [
    "23**2"
   ]
  },
  {
   "cell_type": "markdown",
   "metadata": {},
   "source": [
    "## "
   ]
  },
  {
   "cell_type": "code",
   "execution_count": 21,
   "metadata": {},
   "outputs": [
    {
     "data": {
      "text/plain": [
       "211"
      ]
     },
     "execution_count": 21,
     "metadata": {},
     "output_type": "execute_result"
    }
   ],
   "source": [
    "84 + 127"
   ]
  },
  {
   "cell_type": "code",
   "execution_count": 24,
   "metadata": {},
   "outputs": [
    {
     "data": {
      "text/plain": [
       "1.2842073077511085"
      ]
     },
     "execution_count": 24,
     "metadata": {},
     "output_type": "execute_result"
    }
   ],
   "source": [
    "84/211/.31"
   ]
  },
  {
   "cell_type": "code",
   "execution_count": 25,
   "metadata": {},
   "outputs": [
    {
     "data": {
      "text/plain": [
       "0.8723126588364586"
      ]
     },
     "execution_count": 25,
     "metadata": {},
     "output_type": "execute_result"
    }
   ],
   "source": [
    "127/211/.69"
   ]
  },
  {
   "cell_type": "code",
   "execution_count": 26,
   "metadata": {},
   "outputs": [
    {
     "data": {
      "text/plain": [
       "1.471264367816092"
      ]
     },
     "execution_count": 26,
     "metadata": {},
     "output_type": "execute_result"
    }
   ],
   "source": [
    "1.28/.87"
   ]
  },
  {
   "cell_type": "code",
   "execution_count": null,
   "metadata": {},
   "outputs": [],
   "source": []
  }
 ],
 "metadata": {
  "kernelspec": {
   "display_name": "NLPkernel",
   "language": "python",
   "name": "nlpkernel"
  },
  "language_info": {
   "codemirror_mode": {
    "name": "ipython",
    "version": 3
   },
   "file_extension": ".py",
   "mimetype": "text/x-python",
   "name": "python",
   "nbconvert_exporter": "python",
   "pygments_lexer": "ipython3",
   "version": "3.6.5"
  }
 },
 "nbformat": 4,
 "nbformat_minor": 2
}
