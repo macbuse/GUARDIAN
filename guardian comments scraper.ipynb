{
 "cells": [
  {
   "cell_type": "raw",
   "metadata": {},
   "source": [
    "# Basic scraping for Guardian discussions u"
   ]
  },
  {
   "cell_type": "code",
   "execution_count": 1,
   "metadata": {},
   "outputs": [
    {
     "name": "stdout",
     "output_type": "stream",
     "text": [
      "[master 705b837] web\n",
      " 3 files changed, 1090 insertions(+), 1110 deletions(-)\n",
      " rewrite guardian comments scraper.ipynb (69%)\n",
      " create mode 100644 jnntf.pkl\n",
      " create mode 100644 k9va7.pkl\n",
      "Counting objects: 5, done.\n",
      "Delta compression using up to 12 threads.\n",
      "Compressing objects: 100% (5/5), done.\n",
      "Writing objects: 100% (5/5), 1.08 MiB | 163.00 KiB/s, done.\n",
      "Total 5 (delta 2), reused 0 (delta 0)\n",
      "remote: Resolving deltas: 100% (2/2), completed with 1 local object.\u001b[K\n",
      "To https://github.com/macbuse/GUARDIAN.git\n",
      "   961a95f..705b837  master -> master\n"
     ]
    }
   ],
   "source": [
    "! ./.g\n"
   ]
  },
  {
   "cell_type": "code",
   "execution_count": 59,
   "metadata": {},
   "outputs": [],
   "source": [
    "with open('guardian comments scraper.ipynb','r') as fp:\n",
    "    nb = fp.read()"
   ]
  },
  {
   "cell_type": "code",
   "execution_count": 60,
   "metadata": {},
   "outputs": [],
   "source": [
    "import re\n",
    "\n",
    "pp = re.compile(\"(https://www.the.*?)'\")\n",
    "lks = pp.findall(nb)\n",
    "\n",
    "with open('links.txt','a') as fp:\n",
    "    fp.write('\\n'.join(lks))"
   ]
  },
  {
   "cell_type": "code",
   "execution_count": 2,
   "metadata": {},
   "outputs": [],
   "source": [
    "import re \n",
    "import requests\n",
    "import pickle\n",
    "import json"
   ]
  },
  {
   "cell_type": "code",
   "execution_count": 9,
   "metadata": {},
   "outputs": [],
   "source": [
    "article_url = 'https://www.theguardian.com/commentisfree/2020/aug/19/ditch-the-algorithm-generation-students-a-levels-politics'\n",
    "article_url = 'https://www.theguardian.com/commentisfree/2020/aug/21/joe-biden-democrat-convention-nice-guy-trump-fight'\n",
    "article_url = 'https://www.theguardian.com/commentisfree/2020/aug/23/the-cruel-exams-algorithm-has-laid-bare-the-unfairness-at-the-heart-of-our-schools'\n",
    "article_url = 'https://www.theguardian.com/commentisfree/2020/sep/01/us-mainstream-right-vigilante-terror'\n",
    "article_url = 'https://www.theguardian.com/commentisfree/2020/aug/31/politicians-covid-19-statistics-statisticians'\n",
    "article_url = 'https://www.theguardian.com/commentisfree/2021/apr/14/boris-johnson-is-telling-scotland-that-the-union-is-no-longer-based-on-consent'\n",
    "article_url = 'https://www.theguardian.com/commentisfree/2021/may/10/retail-politics-movements-polarising-projects-promise'"
   ]
  },
  {
   "cell_type": "code",
   "execution_count": 11,
   "metadata": {},
   "outputs": [],
   "source": [
    "article_url = 'https://www.theguardian.com/commentisfree/2020/sep/29/rival-scientists-lockdowns-scientific-covid-19'\n",
    "article_url = 'https://www.theguardian.com/commentisfree/2020/oct/08/johnson-and-sturgeon-will-need-a-better-philosophy-than-precaution-to-rid-us-of-covid'\n",
    "article_url = 'https://www.theguardian.com/commentisfree/2020/oct/10/continual-local-lockdowns-answer-covid-control'\n",
    "article_url = 'https://www.theguardian.com/commentisfree/2020/oct/11/the-rebel-scientists-cause-would-be-more-persuasive-if-it-werent-so-half-baked'\n",
    "\n",
    "article_url = 'https://www.theguardian.com/commentisfree/2021/apr/03/undermining-the-astrazeneca-jab-is-a-dangerous-act-of-political-folly#comment-148440261'\n",
    "article_url = 'https://www.theguardian.com/commentisfree/2021/apr/09/boris-johnson-brexit-belfast-violence-eu-good-friday-agreement'\n",
    "article_url ='https://www.theguardian.com/commentisfree/2021/apr/02/culture-war-government-race-report'\n",
    "article_url = 'https://www.theguardian.com/commentisfree/2021/mar/18/britain-sunny-vaccine-optimism-april-delivery-delay'\n",
    "article_url ='https://www.theguardian.com/commentisfree/2021/apr/14/boris-johnson-is-telling-scotland-that-the-union-is-no-longer-based-on-consent'\n",
    "article_url = 'https://www.theguardian.com/commentisfree/2021/apr/15/britain-harness-social-sciences-covid-pandemic-deprivation'\n",
    "article_url = 'https://www.theguardian.com/commentisfree/2021/apr/16/government-race-report-evidence#comment-148662066'\n",
    "article_url ='https://www.theguardian.com/commentisfree/2021/apr/20/britain-falling-birthrate-covid-pandemic-conservatives-removed-support-for-parents'\n",
    "article_url = 'https://www.theguardian.com/commentisfree/2021/apr/21/bmi-eating-disorder-pandemic-treatment'\n",
    "article_url = 'https://www.theguardian.com/commentisfree/2021/apr/30/government-delays-covid-public-inquiry-health-crisis'\n",
    "article_url = 'https://www.theguardian.com/commentisfree/2021/may/07/humiliation-hartlepool-smalltown-detective-di-starmer'\n",
    "article_url ='https://www.theguardian.com/commentisfree/2021/aug/06/uk-government-experts-vaccinating-under-16s'\n",
    "article_url = 'https://www.theguardian.com/commentisfree/2021/aug/01/there-is-a-case-for-vaccine-passports-but-ministers-are-failing-to-make-it'\n",
    "article_url = 'https://www.theguardian.com/commentisfree/2021/aug/09/america-is-flying-blind-when-it-comes-to-the-delta-variant'\n",
    "article_url = 'https://www.theguardian.com/commentisfree/2021/aug/10/covid-vaccines-britain-scientific-solution-jabs'\n",
    "article_url = 'https://www.theguardian.com/commentisfree/2021/aug/13/denial-anti-vaxxers-climate-sceptics'\n",
    "article_url = 'https://www.theguardian.com/commentisfree/2018/apr/11/bbc-andrew-neil-media-politics'\n",
    "\n",
    "article_url = 'https://www.theguardian.com/commentisfree/2021/aug/15/vaccine-passports-are-less-a-threat-to-liberty-than-a-mark-of-solidarity'\n",
    "article_url = 'https://www.theguardian.com/theobserver/commentisfree/2021/aug/14/will-we-reach-herd-immunity-for-the-new-coronavirus'\n",
    "article_url = 'https://www.theguardian.com/commentisfree/2021/aug/15/vaccine-hesitancy-broken-relationship-state-conspiracy-theorists'\n",
    "article_url = 'https://www.theguardian.com/commentisfree/2021/aug/17/dominic-raab-news-foreign-secretary-taliban-kabul'\n",
    "article_url= 'https://www.theguardian.com/commentisfree/2021/dec/11/so-which-of-these-politicians-is-a-neoliberal-not-one-of-them'\n",
    "\n",
    "article_url = 'https://www.theguardian.com/commentisfree/2021/dec/12/omicron-is-sneaky-it-could-be-fatal-for-us-or-for-our-faith-in-government'"
   ]
  },
  {
   "cell_type": "code",
   "execution_count": 3,
   "metadata": {},
   "outputs": [],
   "source": [
    "article_url ='https://www.theguardian.com/commentisfree/2021/dec/06/google-silicon-valley-ai-timnit-gebru'\n",
    "article_url = 'https://www.theguardian.com/commentisfree/2021/dec/20/rightwingers-us-social-change-coming'\n",
    "article_url = 'https://www.theguardian.com/commentisfree/2021/dec/22/omicron-covid-restrictions-young-people'\n",
    "article_url = 'https://www.theguardian.com/politics/2022/jan/01/sir-tim-brighouse-many-hold-gove-responsible-expert-educator-sets-out-whats-gone-wrong-with-britains-schools'\n",
    "article_url ='https://www.theguardian.com/commentisfree/2022/jan/10/colston-four-britain-apology-for-past'\n",
    "article_url = 'https://www.theguardian.com/commentisfree/2022/jan/21/democrats-shape-up-bidens-presidency-trumpian-sequel'"
   ]
  },
  {
   "cell_type": "code",
   "execution_count": null,
   "metadata": {},
   "outputs": [],
   "source": [
    "key = my_keys.keys['guardian']"
   ]
  },
  {
   "cell_type": "code",
   "execution_count": 4,
   "metadata": {},
   "outputs": [
    {
     "name": "stdout",
     "output_type": "stream",
     "text": [
      "/p/kdxb7\n",
      "getting comments page no. 1\n",
      "there are 9 pages\n",
      "getting comments page no. 2\n",
      "getting comments page no. 3\n",
      "getting comments page no. 4\n",
      "getting comments page no. 5\n",
      "getting comments page no. 6\n",
      "getting comments page no. 7\n",
      "getting comments page no. 8\n",
      "getting comments page no. 9\n",
      "archiving to kdxb7.pkl\n"
     ]
    }
   ],
   "source": [
    "#scrape the page and get the short url\n",
    "# 15/8/21  this failed and gave /p/temp\n",
    "short_url_pp =  re.compile('\"shortUrlId\":\"(.*?)\"')\n",
    "\n",
    "r = requests.get(article_url)\n",
    "mm = short_url_pp.search(r.text)\n",
    "short_url = mm.group(1)\n",
    "uu = r.text\n",
    "print(short_url)\n",
    "\n",
    "#the short url allows us to access the discussion\n",
    "# 15/8/21 api.nextgen.guardianapps.co.uk/discussion/ failed on \n",
    "# https://discussion.theguardian.com/discussion-api/discussion/p/tfmxg\n",
    "comments_url = 'https://api.nextgen.guardianapps.co.uk/discussion/%s.json'%short_url\n",
    "params = {'orderBy' : 'newest',\n",
    "          'pageSize' : 25,\n",
    "          'displayThreaded' : 'true',\n",
    "          'commentsClosed' : 'false',\n",
    "          'page' : '',\n",
    "          'maxResponses' : 50\n",
    "         }\n",
    "\n",
    "json_data =  []\n",
    "start_page  = 1\n",
    "last_page = None\n",
    "\n",
    "\n",
    "for num_page in range(start_page, 10**4):\n",
    "    print('getting comments page no.', num_page)\n",
    "    params['page'] = num_page\n",
    "    r = requests.get( comments_url, params=params)\n",
    "    json_data.append( r.text)\n",
    "    #The last page is a field in the json object\n",
    "    #I don't need to read this as json I could do a regexp\n",
    "    if num_page == start_page:\n",
    "        json_dict = json.loads(r.text)\n",
    "        last_page = json_dict['lastPage']\n",
    "        print('there are %d pages'%last_page)\n",
    "    if num_page == last_page : break\n",
    "        \n",
    "\n",
    "fn = '%s.pkl'%short_url.split('/')[-1]\n",
    "print('archiving to %s'%fn)\n",
    "with open(fn,'wb') as fp:\n",
    "    pickle.dump(json_data,fp)"
   ]
  },
  {
   "cell_type": "code",
   "execution_count": 2,
   "metadata": {},
   "outputs": [],
   "source": [
    "import pickle\n",
    "\n",
    "json_data = pickle.load(open('k4vhe.pkl','rb'))"
   ]
  },
  {
   "cell_type": "markdown",
   "metadata": {},
   "source": [
    "## remember each page of comments has been stored separately"
   ]
  },
  {
   "cell_type": "code",
   "execution_count": 9,
   "metadata": {},
   "outputs": [
    {
     "data": {
      "text/plain": [
       "14"
      ]
     },
     "execution_count": 9,
     "metadata": {},
     "output_type": "execute_result"
    }
   ],
   "source": [
    "dd = json.loads(json_data[0])\n",
    "len(json_data)"
   ]
  },
  {
   "cell_type": "code",
   "execution_count": 19,
   "metadata": {},
   "outputs": [
    {
     "data": {
      "text/plain": [
       "'\\n<div class=\"d-discussion d-discussion--recommendations-open u-cf\"\\n     data-read-only=\"false\" >\\n\\n    \\n    \\n        <div class=\"d-discussion__size-message\">\\n            Due to the large number of comments, they are being shown 100 per page.\\n        </div>\\n    \\n\\n\\n    <ul class=\"d-thread d-thread--comments js-new-comments\">\\n\\n        \\n            \\n\\n<li class=\"d-comment\\n            d-comment--top-level d-comment-staff\"\\n           id=\"comment-154007965\"\\n           data-comment-id=\"154007965\"\\n           data-comment-author=\"CommunityMod\"\\n           data-comment-replies=\"0\"\\n           data-comment-timestamp=\"2022-01-01T18:00:47.000Z\"\\n           data-comment-author-id=\"2902769\"\\n           data-comment-highlighted=\"false\"\\n           itemscope itemtype=\"http://schema.org/Comment\">\\n\\n    <div class=\"d-comment__inner d-comment__inner--top-level\">\\n        <div class=\"d-comment__meta\">\\n            <span class=\"d-comment__avatar-wrapper\">\\n                <img src=\"https://avatar.guim.co.uk/user/2902769\" alt=\"\" class=\"d-comment__avatar\"/>\\n            </span>\\n            <div class=\"d-comment__meta-text\">\\n                <span\\n                    itemscope\\n                    itemprop=\"author\"\\n                    itemtype=\"http://schema.org/Person\"\\n                    title=\"CommunityMod\"\\n                    class=\"d-comment__author\">\\n                    <a href=\"https://profile.theguardian.com/user/id/2902769\" itemprop=\"url\">\\n                        <span itemprop=\"givenName\">CommunityMod</span>\\n                    </a>\\n                </span>\\n\\n                \\n                <div class=\"d-comment__timestamp\">\\n                    <a href=\"https://discussion.theguardian.com/comment-permalink/154007965\" class=\"d-comment__timestamp block-time\">\\n                        <time class=\"js-timestamp\" itemprop=\"dateCreated\"\\n                            datetime=\"2022-01-01T18:00:47Z\"\\n                            data-timestamp=\"1641060047000\" data-relativeformat=\"med\"\\n                            title=\"Permalink to this comment (1 Jan 2022 18:00)\">1 Jan 2022 18:00</time>\\n                        \\n\\n<span  class=\"inline-comment-anchor inline-icon \" >\\n    \\n        <svg width=\"15\" height=\"15\" viewbox=\"0 0 15 15\" class=\"inline-comment-anchor__svg inline-icon__svg\">\\n <path fill=\"#898989\" d=\"M5.725 13.348a2.563 2.563 0 0 1-3.699-3.547l8.424-8.79a1.921 1.921 0 0 1 2.776 2.658l-6.894 7.193a1.277 1.277 0 0 1-1.812.038 1.28 1.28 0 0 1-.04-1.81l5.324-5.553.337.321-5.325 5.555a.815.815 0 0 0 1.175 1.128l6.896-7.193a1.456 1.456 0 0 0-2.101-2.015l-8.427 8.79a2.102 2.102 0 0 0 .063 2.965 2.098 2.098 0 0 0 2.965-.062l6.853-7.152.338.323-6.853 7.151z\" />\\n</svg>\\n    \\n</span>\\n\\n                    </a>\\n                </div>\\n\\n                \\n    <div class=\"d-comment__author-label\">\\n        \\n\\n<span  class=\"inline-marque-36 inline-icon d-comment__gu-icon\" >\\n    \\n        <svg width=\"36\" height=\"36\" viewbox=\"0 0 36 36\" class=\"d-comment__gu-icon__svg inline-marque-36__svg inline-icon__svg\">\\n <path d=\"M18 0a18 18 0 1 0 0 36 18 18 0 0 0 0-36\" />\\n <path fill=\"#FFF\" d=\"M21.2 4.4c2.3.4 5.3 2 6.3 3.1v5.2H27L21.2 5v-.6zm-2.2.4c-4 0-6.3 5.6-6.3 13.2 0 7.7 2.2 13.3 6.3 13.3v.6c-6 .4-14.4-4.2-14-13.8A13.3 13.3 0 0 1 19 4v.7zm10.4 14.4-1.9.9v8.6c-1 1-3.8 2.6-6.3 3.1V19.9l-2.2-.7v-.6h10.4v.6z\" />\\n</svg>\\n    \\n</span>\\n Staff\\n    </div>\\n\\n\\n\\n                \\n            </div>\\n        </div>\\n\\n        <div class=\"d-comment__content\">\\n\\n             \\n                <div\\n                    class=\"d-comment__recommend js-recommend-comment\"\\n                    data-comment-id=\"154007965\"\\n                    data-comment-url=\"https://discussion.theguardian.com/comment-permalink/154007965\"\\n                    data-user-id=\"2902769\"\\n                    data-recommend-count=\"1\"\\n                    title=\"1 recommendations\">\\n                    <button class=\"u-button-reset d-comment__recommend-button rounded-icon\" data-link-name=\"Recommend comment\" >\\n                        <span class=\"d-comment__recommend-pulse\"></span>\\n                        \\n\\n<span  class=\"inline-arrow-up-white inline-icon \" >\\n    \\n        <svg height=\"14\" width=\"15\" class=\"inline-arrow-up-white__svg inline-icon__svg\">\\n <path d=\"m.5 7 5.25-4.5V14h1.5V2.5L12.5 7l.5-1-5.75-6h-1.5L0 6l.5 1Z\" />\\n</svg>\\n    \\n</span>\\n\\n                    </button>\\n                    <span class=\"d-comment__recommend-count js-recommend-count\">\\n                        <span class=\"d-comment__recommend-count--old\">1</span>\\n                        <span class=\"d-comment__recommend-count--new\">2</span>\\n                    </span>\\n                </div>\\n            \\n\\n            <div class=\"d-comment__main \">\\n\\n                <div class=\"d-comment__body\" itemprop=\"text\">\\n                    \\n                        \\n                            <p>Comments will close here at 18:15 GMT.</p>\\n                        \\n                    \\n                </div>\\n                \\n                    <div class=\"d-comment__actions d-comment__actions--left modern-visible\">\\n                        <a class=\"d-comment__action d-comment__action--reply\" href=\"https://profile.theguardian.com/signin?returnUrl=https://discussion.theguardian.com/comment-permalink/154007965&componentEventParams=componentType%3Didentityauthentication%26componentId%3Dsignin_to_reply_comment\"\\n                                data-link-name=\"reply to comment\" data-comment-id=\"154007965\" role=\"button\">\\n                            \\n\\n<span  class=\"inline-reply inline-icon blue\" >\\n    \\n        <svg width=\"18\" height=\"18\" class=\"blue__svg inline-reply__svg inline-icon__svg\">\\n <path d=\"m10.1 5 .9-1 4 4.5v1L11 14l-.9-1 2.5-3H4L3 9V6.5h2V8h7.6l-2.5-3z\" />\\n</svg>\\n    \\n</span>\\n\\n                            Reply\\n                        </a>\\n\\n                        \\n                            \\n<div class=\"d-comment__action d-comment__action--share\">\\n\\n    <div class=\"sharing-text\">\\n\\n<span  class=\"inline-share inline-icon comment-share-icon\" >\\n    \\n        <svg width=\"12\" height=\"12\" viewbox=\"0 0 12 12\" class=\"comment-share-icon__svg inline-share__svg inline-icon__svg\">\\n <path d=\"M10.073 8.4c-.475 0-.906.19-1.225.497L3.54 6.221 3.555 6l-.015-.221 5.308-2.676c.319.308.75.497 1.225.497.982 0 1.778-.806 1.778-1.8S11.055 0 10.073 0 8.295.806 8.295 1.8l.016.233-5.299 2.675a1.762 1.762 0 0 0-1.236-.507c-.982 0-1.778.806-1.778 1.8s.796 1.8 1.778 1.8c.48 0 .915-.194 1.236-.507l5.299 2.675-.016.233c0 .994.796 1.8 1.778 1.8s1.778-.806 1.778-1.8-.796-1.8-1.778-1.8zm0-7.68c.588 0 1.067.484 1.067 1.08 0 .596-.479 1.08-1.067 1.08S9.006 2.396 9.006 1.8c0-.596.479-1.08 1.067-1.08zm0 10.56a1.075 1.075 0 0 1-1.067-1.08c0-.596.479-1.08 1.067-1.08s1.067.484 1.067 1.08c0 .596-.479 1.08-1.067 1.08z\" />\\n</svg>\\n    \\n</span>\\n <span>Share</span></div>\\n\\n    <div class=\"sharing-buttons\" data-link-name=\"comment social\">\\n    \\n        \\n            \\n\\n        <a href=\"https://www.facebook.com/dialog/share?app_id=180444840287&amp;href=https%3A%2F%2Fdiscussion.theguardian.com%2Fcomment-permalink%2F154007965&amp;quote=CommunityMod%20commented%3A%20%22Comments%20will%20close%20here%20at%2018%3A15%20GMT.%22\"\\n        target=\"_blank\"\\n        class=\"social__action social-icon-wrapper\"\\n        data-link-name=\"social-comment : facebook\">\\n            <span class=\"inline-icon__fallback button\">\\n                Share on Facebook</span>\\n            \\n\\n<span  class=\"inline-share-facebook inline-icon rounded-icon social-icon centered-icon social-icon--facebook comment-facebook-icon\" >\\n    \\n        <svg width=\"32\" height=\"32\" viewbox=\"-2 -2 32 32\" class=\"rounded-icon__svg social-icon__svg centered-icon__svg social-icon--facebook__svg comment-facebook-icon__svg inline-share-facebook__svg inline-icon__svg\">\\n <path d=\"M17.9 14h-3v8H12v-8h-2v-2.9h2V8.7C12 6.8 13.1 5 16 5c1.2 0 2 .1 2 .1v3h-1.8c-1 0-1.2.5-1.2 1.3v1.8h3l-.1 2.8z\" />\\n</svg>\\n    \\n</span>\\n\\n            <span class=\"u-h\">Facebook</span>\\n        </a>\\n    \\n\\n            \\n            \\n                \\n\\n        <a href=\"https://tw'"
      ]
     },
     "execution_count": 19,
     "metadata": {},
     "output_type": "execute_result"
    }
   ],
   "source": [
    "xx = json.loads(json_data[0])\n",
    "xx['commentsHtml'][:8000]"
   ]
  },
  {
   "cell_type": "code",
   "execution_count": null,
   "metadata": {},
   "outputs": [],
   "source": [
    "https://discussion.theguardian.com/comment-permalink/154003870"
   ]
  },
  {
   "cell_type": "code",
   "execution_count": 136,
   "metadata": {},
   "outputs": [
    {
     "name": "stdout",
     "output_type": "stream",
     "text": [
      " class=\"d-comment\n",
      "            d-comment--top-level\"\n",
      "           id=\"comment-144422422\"\n",
      "           data-comment-id=\"144422422\"\n",
      "           data-comment-author=\"Hushing\"\n",
      "           data-comment-replies=\"0\"\n",
      "           data-comment-timestamp=\"2020-10-11T14:25:06.000+01:00\"\n",
      "           data-comment-author-id=\"12407494\"\n",
      "           data-comment-highlighted=\"false\"\n",
      "           itemscope itemtype=\"http://schema.org/Comment\">\n",
      "\n",
      "    <div class=\"d-comment__inner d-comment__inner--top-level\">\n",
      "        <div class=\"\n"
     ]
    }
   ],
   "source": [
    "print( xx['commentsHtml'][200:700])"
   ]
  },
  {
   "cell_type": "code",
   "execution_count": 16,
   "metadata": {},
   "outputs": [],
   "source": [
    "pa = re.compile('data-comment-author=\"(.*?)\"')\n",
    "pid = re.compile('data-comment-author-id=\"(\\d+)')\n",
    "pcid = re.compile('\\sid=\"comment-(.*?)\"')\n",
    "pp = re.compile('<li class=\"d-comment(.*?)>',re.DOTALL)\n",
    "\n",
    "auths = []\n",
    "md = []\n",
    "for xx in json_data:\n",
    "    hh = json.loads(xx)['commentsHtml']\n",
    "    auths.extend(list( zip(pa.findall(hh), \n",
    "                           pid.findall(hh)\n",
    "                          )))\n",
    "    md.extend(pp.findall(hh))\n",
    "\n",
    "auths = list(set(auths))\n",
    "auths.sort(key=lambda x : x[0].lower())\n"
   ]
  },
  {
   "cell_type": "code",
   "execution_count": 102,
   "metadata": {},
   "outputs": [],
   "source": [
    "#print( '\\n'.join([x for x in md if 'pinkie' in x.lower()]))"
   ]
  },
  {
   "cell_type": "markdown",
   "metadata": {},
   "source": [
    "https://discussion.theguardian.com/comment-permalink/144375739"
   ]
  },
  {
   "cell_type": "code",
   "execution_count": 8,
   "metadata": {},
   "outputs": [],
   "source": [
    "auths = dict(auths)"
   ]
  },
  {
   "cell_type": "code",
   "execution_count": 9,
   "metadata": {},
   "outputs": [
    {
     "data": {
      "text/plain": [
       "'https://api.nextgen.guardianapps.co.uk/discussion//p/hvpq8.json'"
      ]
     },
     "execution_count": 9,
     "metadata": {},
     "output_type": "execute_result"
    }
   ],
   "source": [
    "comments_url"
   ]
  },
  {
   "cell_type": "code",
   "execution_count": 5,
   "metadata": {},
   "outputs": [],
   "source": [
    "\n",
    "from bs4 import BeautifulSoup\n",
    "\n",
    "def html2comments(x):\n",
    "    tt = json.loads(x)\n",
    "    soup = BeautifulSoup(tt['commentsHtml'],  \"lxml\")\n",
    "    raw = [ comment.text for comment in  \n",
    "            soup.findAll('div', {'class' : \"d-comment__body\"}) ]\n",
    "    \n",
    "    metadata = soup.findAll('span', {'class' : \"d-comment__author\"})\n",
    "    \n",
    "    \n",
    "    auth = [ x.text.upper().strip() for x in metadata]\n",
    "    auth_id = [ x.find('a')['href'] for x in metadata]\n",
    "    #this was a pain to do really\n",
    "    #the problem is blocked comments\n",
    "    comment_id = [ x['id'][len('comment-'):] for x in soup.findAll('li')]\n",
    " \n",
    "    \n",
    "    ss = '##{}\\nhttps://discussion.theguardian.com/comment-permalink/{}\\n{}\\n\\n{}'\n",
    "    return [ ss.format(a,b,d,c.strip())  \n",
    "                   for a,b,d,c in zip(auth, comment_id, auth_id, raw)]\n",
    "     \n",
    "all_texts = [ html2comments(page) for page in json_data[:] ]\n",
    "\n",
    "\n",
    "from itertools import chain\n",
    "all_comments = list(chain.from_iterable(all_texts))\n",
    "    "
   ]
  },
  {
   "cell_type": "code",
   "execution_count": 8,
   "metadata": {},
   "outputs": [
    {
     "ename": "AttributeError",
     "evalue": "'str' object has no attribute 'keys'",
     "output_type": "error",
     "traceback": [
      "\u001b[0;31m---------------------------------------------------------------------------\u001b[0m",
      "\u001b[0;31mAttributeError\u001b[0m                            Traceback (most recent call last)",
      "\u001b[0;32m<ipython-input-8-192aa39254d9>\u001b[0m in \u001b[0;36m<module>\u001b[0;34m\u001b[0m\n\u001b[0;32m----> 1\u001b[0;31m \u001b[0mjson_data\u001b[0m\u001b[0;34m[\u001b[0m\u001b[0;36m0\u001b[0m\u001b[0;34m]\u001b[0m\u001b[0;34m.\u001b[0m\u001b[0mkeys\u001b[0m\u001b[0;34m(\u001b[0m\u001b[0;34m)\u001b[0m\u001b[0;34m\u001b[0m\u001b[0;34m\u001b[0m\u001b[0m\n\u001b[0m",
      "\u001b[0;31mAttributeError\u001b[0m: 'str' object has no attribute 'keys'"
     ]
    }
   ],
   "source": []
  },
  {
   "cell_type": "markdown",
   "metadata": {},
   "source": [
    "# Random data hacking"
   ]
  },
  {
   "cell_type": "code",
   "execution_count": 6,
   "metadata": {
    "scrolled": true
   },
   "outputs": [
    {
     "data": {
      "text/plain": [
       "[('##ANDREWF75', 26),\n",
       " ('##BARONVONAMERICANO', 22),\n",
       " ('##SEELIFEDIFFERENTLY', 17),\n",
       " ('##ZIONTRAIN', 15),\n",
       " ('##1LOVE1HEART', 15),\n",
       " ('##KAVANGH', 15),\n",
       " ('##ATLANT', 14),\n",
       " ('##DAVETHEWRAPPER', 12),\n",
       " ('##LISAMARIE3', 11),\n",
       " ('##PROUDSONOFDUCK', 10),\n",
       " ('##MISTERFRISKY', 9),\n",
       " ('##IRRELIGIOUS', 9),\n",
       " ('##MADORKALLAN', 8),\n",
       " ('##SNAFU5001', 8),\n",
       " ('##JALFRED_ARRY', 8),\n",
       " ('##DEANO1956', 8),\n",
       " ('##HFLASHMAN', 7),\n",
       " ('##JUSTANOTHERPROFILE', 7),\n",
       " ('##COMPAID', 7),\n",
       " ('##ROVERTHEHILLANDFARAW', 7),\n",
       " ('##MRMAY', 7),\n",
       " ('##TD1972', 6),\n",
       " ('##MCPWILK', 6),\n",
       " ('##DENSHER', 6),\n",
       " ('##LUDALEIN', 6),\n",
       " ('##DONDI', 6),\n",
       " ('##SOMETIMELATER', 5),\n",
       " ('##JAYPEE65', 5),\n",
       " ('##ROLLERRULER', 5),\n",
       " ('##SHIRA7777', 5),\n",
       " ('##OLDBUTNOTWISE', 5),\n",
       " ('##LEEABROAD', 5),\n",
       " ('##CMAN', 5)]"
      ]
     },
     "execution_count": 6,
     "metadata": {},
     "output_type": "execute_result"
    }
   ],
   "source": [
    "A = [x.split('\\n')[0] for x in all_comments]\n",
    "from collections import Counter\n",
    "AN = Counter(A)\n",
    "sorted([(x,y) for x,y in AN.items() if y > 4], key=lambda x : -x[1]) "
   ]
  },
  {
   "cell_type": "code",
   "execution_count": 7,
   "metadata": {},
   "outputs": [
    {
     "name": "stdout",
     "output_type": "stream",
     "text": [
      "[master 2d74372] web\n",
      " 1 file changed, 0 insertions(+), 0 deletions(-)\n",
      " create mode 100644 kdxb7.pkl\n",
      "Counting objects: 3, done.\n",
      "Delta compression using up to 12 threads.\n",
      "Compressing objects: 100% (3/3), done.\n",
      "Writing objects: 100% (3/3), 418.83 KiB | 3.25 MiB/s, done.\n",
      "Total 3 (delta 1), reused 0 (delta 0)\n",
      "remote: Resolving deltas: 100% (1/1), completed with 1 local object.\u001b[K\n",
      "To https://github.com/macbuse/GUARDIAN.git\n",
      "   705b837..2d74372  master -> master\n"
     ]
    }
   ],
   "source": [
    "! ./.g\n"
   ]
  },
  {
   "cell_type": "code",
   "execution_count": 6,
   "metadata": {},
   "outputs": [
    {
     "name": "stdout",
     "output_type": "stream",
     "text": [
      "##ZIPPYSTEETH\n",
      "https://discussion.theguardian.com/comment-permalink/153894955\n",
      "https://profile.theguardian.com/user/id/100479875\n",
      "\n",
      "The CRG might think that as support for restriction wanes they are onto \n"
     ]
    }
   ],
   "source": [
    "print(all_comments[0][:200])"
   ]
  },
  {
   "cell_type": "code",
   "execution_count": 8,
   "metadata": {},
   "outputs": [
    {
     "name": "stdout",
     "output_type": "stream",
     "text": [
      "##HAIGIN88\n",
      "https://discussion.theguardian.com/comment-permalink/154454755\n",
      "https://profile.theguardian.com/user/id/2836106\n",
      "\n",
      "Very good piece: lots of correct analysis but very well expressed too. Ultimately, they don't care. \"Nothing will fundamentally change\". I live in another country but, looking on, I would've bet the house on Sinema and Manchin being the rotating villains to whom Biden could point and say: \"You all saw them: what could I do?\" and if I knew it, the Democratic Party knew it. There were many techniques at hand to bringing these clowns to heel but he kept treating them gingerly, allowing them to further gut his agenda, before they killed it stone dead. Biden seemingly would've taken anything, just for 'a win', something to hold up as a trophy. This man isn't serious nor is his cockamamie party. The Democratic Party would happily accept winning 2024 by a single vote, or Florida by a single vote, and because they'll be up against a swivel-eyed lunatic like Trump or Cruz or DeSantis and they have almost zero pressure to be anything more than slightly less awful than them, one shouldn't expect anything more of them. That's how this machine is built; that's the nub. When the Republicans slaughter them in the 2022 mid-terms, the Democrats will have even more excuses for not being able to do anything. \n",
      "Some debate is swirling around on whether Biden (or Harris) should be challenged in 2024 for the Democratic nomination. Biden's people are saying that he will run again but they have to say that or he'll be an even lamer duck. The main idea is that presidents can't be successfully challenged in this way (although Ronald \"Mad Dog\" (McDonald) \"Ray-Gun\" Reagan came close in 1976 with 47% of the Republican primary vote) so you try to leverage them left but we've seen this movie before. Biden was portrayed as the new FDR after he beat Sanders, with the help of Sanders megaphoning this fake news, before the \"pivot\" once the general arrives. You'd have the same pantomime in a Democratic primary and the news - rather than act as a check and balance, and asking why a whole load of voters were lied to - will cheer it on as being \"smart\" and \"savvy\". Someone like Marianne Williamson has a career outside of politics so she'd be able to burn her political bridges but she'd have to run hard and run to win, not for concessions which would then vanish. \n",
      "I don't see it working without third party leverage. You either run in the Democratic Party - for news media coverage - and then jump to the Greens or the People's Party for the general or you just run in the general. Taking 10 - 15% out of the Democrats' polling in the general and they have to come to you and bend the knee. Once you get the pledges in public and numerous times, then you agree to endorse in swing states and run hard in safe states to obtain 5% of the vote for matching federal funds next time. \n",
      "A time for some real bravery. There's not much to lose, though. The only mainstream Democrat who could possibly win would be Michelle Obama but she's zero interest. Should've listened to Benjamin Studebaker's left-wing case against voting for Biden. In a Trump second term, the Republicans would've been disembowelled and Trump would've been boxed-in, with everyone running out the clock. Now he'll be back in January 2025, running on full vengeance mode for all 48 months of score-settling.\n",
      "\n",
      "##PYSCHOGEN\n",
      "https://discussion.theguardian.com/comment-permalink/154456864\n",
      "https://profile.theguardian.com/user/id/101825996\n",
      "\n",
      "If anything, history from 1600s through to mid 1900s of Europe provides the context to what happens in the world today and explains a lot of what we see today. Capitalism is something that emerged and exploded during this period, with competing imperialist countries such as the UK, each seeking to colonise and exploit. Their leaders ie owners haven't dropped that culture, continue to use their power to dominate other countries wherever they can and exploit them with no regards for locals, and their lack of integrity extends right through most of their entire populations. They see themselves as entitled to own and use others, their land and their wealth. If something works for them, and generates wealth for they will do it. However wealth is a net zero factor. As they take, others lose. As they become rich others become poor. Eg India had 20% of world GDP before UK went there, but only 4% when UK left. Its not as if the UKs current position was created through some magic money tree. If Iraqis or Libyan workers have lost wealth, then others have gained, perhaps in the US, UK, and local Iraqi/Libyan despots. If US or UK oil companies have gained with access rights, or say UK mining company shares gain when they find reserves in western Africa, then locals lose their wealth. It happens right across the world though, and within countries too. If UK is seen as a single entity, then if London becomes rich, the North becomes poor. If manufacturing has declined, and the need for skilled workers has dropped through political decisions (note countries like Germany managed to maintain industrial manufacturing) then the locals are left to try to relocate, retrain, or, work in unskilled roles if they can find them..each time earning less and less. Working in call centres, ( remember they went to S Asia as it was cheap labour... ) , as courier, deliveroo or uber drivers delivering to people who have no disposable incomes is never going to be a substitute for those skilled jobs. Meanwhile those down South will get even richer, as they own the call centres, so feed off the cheap labour, made ever cheaper because its in abundance. The locals get to a point that resort to crime, drugs, and can't spend the time with children to educate them. A viscious cycle for them.They are the workers in need and they need an equal platform with local involvement and investment. That equality comes from political decisions.  If you step back from timescales, look at the big picture, holistically and globally, the same applies today as it did then, and did over the centuries before too. Different time, different stages, same scenarios, same actors.\n",
      "\n",
      "##CONTINENTALCYCLIST\n",
      "https://discussion.theguardian.com/comment-permalink/154458486\n",
      "https://profile.theguardian.com/user/id/11797417\n",
      "\n",
      "This is an intrinsically American dilemma. And there is little we Europeans can do about it.\n",
      "We must, however, reflect about the impact on us, and act accordingly.\n",
      "Europe may before long be cast adrift by a US Administration. This is what China and particularly Russia bank upon. And Vladimir Putin is testing out before our eyes. He feels what in Russian chess is called by the German words Zugzwang and Zeitnot, owing to his age and Russia's economic and demographic decline. Ukraine is not the prize, but the epitome of the conflict. Ideal, because it gets no NATO guarantees. Ideal, because Russian pressure leads to Western assistance, which Putin can then again adduce as proof that NATO is reaching out to Kyiv and the River Don on Russia's heartland. Ideal because the Ukrainian test will spell out further moves in the Baltic, against Finland and Sweden and NATO's northern flank in Norway. It's a short drive from Kirkenes to Murmansk, and vice versa.\n",
      "What is at stake?\n",
      "The European Union, even without Britain, is an economic superpower. Russia is too big and cannot possibly be integrated, and yet needs Europe for its economic future, as the fall of the Soviet Union amply demonstrated. \n",
      "At the same time Russia is an economic dwarf, with an economy smaller than Italy's, a huge territory which requires economic clout for sheer maintenace, with a crumbling infrastructure, particularly in view of the Chinese economic and demographic incursion into the Far East, and far fewer people than needed to mark presence East of Lake Baikal.\n",
      "The European Union is a political and military lightweight, in spite of vast, increasingly well-equipped and trained armies. There is no command centre. Whereas Russia is, pro temp, commanded from one single centre, as isolated we hear as Stalin's ever was, minus the alcohol. And the Russian military have recovered from the decay of the 1990s. Attacking Kyiv frontally from Belarus would be a piece of cake. Occupying it might be another story. Recall Stalin's city on the Volga.\n",
      "Putin has exposed himself to a degree which makes it difficult to step back from the brink. And that is the real present drama for Europe, in view of American vicissitudes.\n",
      "\n",
      "##FROGHOLE1\n",
      "https://discussion.theguardian.com/comment-permalink/154452444\n",
      "https://profile.theguardian.com/user/id/15794618\n",
      "\n",
      "It was always going to be very difficult. As has been stated so often, the GOP have major natural advantages, in that they won big in 2010 at state legislature level, allowing them to gerrymander congressional districts, and they also have most of the thinly populated 'flyover' states (some of which were compared to rotten boroughs in the late nineteenth century).\n",
      "Nor was that all. The Democrats have almost always had difficulties with party discipline, because they cover the arc between the centre right and the left. The difficulties are not as severe as they were until the extinction of the standard issue 'southern Democrat', but they are still there, and with the country so finely split, that gives enormous bargaining power to the centre right of the party.\n",
      "Some of it is self-inflicted. Biden is a Delaware Democrat and has spent a legislative lifetime at the beck and call of the corporate class. He was the tribune and placeman of the Wall Street interest within the party. The infrastructure deal was permitted to be as big as it was chiefly because it would secure good revenue streams for the corporate class. The left suffered a massive defeat in the 2020 primaries, so their backing of the WH will always be contingent, and grudging.\n",
      "Biden is not going to throw over the habits of a lifetime (any more than Johnson). The only way the Democrats will win a sufficient section of what was once their core vote - the post-industrial working and lower middle classes - is if they deliver inflation-beating wage rises. Unfortunately, the odds are stacked heavily against that, and probably would have been even with a Sanders presidency.\n",
      "If he loses in November, as is very possible (thanks to the GOP having done well again at state legislature level), the administration will be hamstrung, and he will become dependent on executive orders, like so many of his recent predecessors.\n",
      "Not looking good. Let us hope for a turn.\n",
      "\n",
      "##CLARELONDON\n",
      "https://discussion.theguardian.com/comment-permalink/154457879\n",
      "https://profile.theguardian.com/user/id/1372819\n",
      "\n",
      "Totally right. 100%\n",
      "It puzzles me, how politicians can live out their career and not CARE about the quality, usefulness and fairness of the actions they take on behalf of society as a whole.\n",
      "As far as I'm concerned, obsession about money = mental unwellness.\n",
      "Maybe I'm a simple creature, but I think it's simple. YES take money out of politics. YES decentralise and put power directly in the hands of local people for their immediate community. YES raise taxes and reduce inequality. YES get rid of FPTP and have proper democracy, by which I mean collegiate coalitions. YES get rid of the cringe-making sneering and snorting and laughing and jeering that takes place in our kindergarten parliament Children wouldn't be allowed to behave like that in families - why do the people running our country thinkt that it the right way to behave?\n",
      "And yes, 100%, no party donors at ALL. All political campaigning paid for from central funds.\n",
      "And PROPER OPEN ACCOUNTABILITY. NO hiding behind ministerial lies. All government business openly on a website, including upcoming bills and debate online from the outset until voting.\n",
      "And NO routine reshuffling so that people who have never worked in a sector and know NOTHING, literally NOTHING about it, with NO experience, get to run the whole bloody sector. It's LUDICROUS. \n",
      "ALL government policy should be decided by special committee, equally represented by all parties, WITH experts from each specific field, and decisions should be after weeks of debate by those politicians and experts in the field, however long it takes, to come to the right decision for the greater majority of people in this country.\n",
      "And NO White Papers which are then ignored by government. And NO enquiries which have outcomes which are then ignored by government. And NO policy-making for the sake of it by politicians who want to \"make their mark\" - i.e. careerists.\n",
      "I could go on. \n",
      "Our politics is a joke.\n",
      "\n",
      "##SIBERIANNIGHTS\n",
      "https://discussion.theguardian.com/comment-permalink/154456059\n",
      "https://profile.theguardian.com/user/id/2674834\n",
      "\n",
      "I just wish he could come up with something to avert the next looming debacle in Ukraine. He’s no more bereft of ideas than any other western leader in this regard, but it’s such a pity that it’s got to happen on his watch. \n",
      "When Clinton visited Russia in the 90s he made it sound like it would all be a walk in the park: ‘Get the market mechanisms in place and Russia will take off like a rocket!’ Did he just assume that the rouble would magically become as strong and stable as the dollar? Did he think that one wave of a magic wand would suddenly give Russia a modern banking system? Did he think a liberal multi-party democracy would emerge by spontaneous generation? Did he know anything about the place at all? \n",
      "Navalny is just as surely stuck in prison as Russians’ aspirations of reconciliation and integration with the west are stuck in fantasy.\n",
      "It’s all very sad. But westerners surely don’t appreciate how weakly the sanctions threat goes down in Russia. The whole country is already literally ‘locked out in the cold’. The fact that Russians feel so European but have such difficulty in accessing Europe breeds much resentment. Only Russians with foreign connections can even enjoy the luxury of having a visa bank card. For its part, the EU doesn’t so much drag up new member countries as coax them into an exclusive rich-boys club in which their efforts then get co-opted into the service of an ever more ambitious European project – and this has the obvious negative side effect of alienating and isolating Russia even further. \n",
      "Brexit, however disastrous for the UK, is in this sense a ray of hope for Russia. I’m sure Russia appreciates the UK being out of the EU, just as much as it appreciates Austria and Finland being out of NATO.\n",
      "\n",
      "##LEEABROAD\n",
      "https://discussion.theguardian.com/comment-permalink/154453223\n",
      "https://profile.theguardian.com/user/id/2851210\n",
      "\n",
      "1/3 of the US public actively want a right wing demagogue and another third will pretty much tolerate one as long as they aren't actively threatened.\n",
      "But only 1/10, at most, actively want a left wing populist - which is basically what the article is calling for - whereas nigh on half will not tolerate the idea, let alone the realistic prospect of, of even the cuddliest of soft left populists that is Bernie Sanders\n",
      "Here are the dilemmas1) Even a small tack to the left doesn't just do significant harm but actually destroys large amounts of support from soft democrats.\n",
      "2) Tacking left also fails to garner massive support from large swathes of the least affluent in the US who would benefit the most from less rabidly capitalist politics. They are running around still wearing MAGA hats, screaming communism and muttering about revolution toward anything that even hints at a more communitarian and state based approach. \n",
      "3) Even if earnest it is fake. Bernie and co constantly reference the working class, but don't seem to actually represent whatever the US working class is. Rather they represent affluent liberals - arts types, media dn tv people, writers, organisers and documentary makers for example - who talk about the working class and who, let's be honest, fetishise it, but are not most definitely not part of it. And when they do get up close to earthy genuine working people they don't like the smell one little bit.Patrician posh socialists who seek to do things to those they view as less fortunate but not for or by them are rightly viewed as frauds not to be trusted. \n",
      "Bernie may not be ironic drinker of Pabst Blue Ribbon, lacking the self awareness of how insulting such posturing is, but most of those who support him are\n",
      "\n",
      "##KAVANGH\n",
      "https://discussion.theguardian.com/comment-permalink/154456937\n",
      "https://profile.theguardian.com/user/id/17075231\n",
      "\n",
      "The problem i have is this idea that all the problems of the world will be solved when we simply 'represent the needs and wants of the working class'\n",
      "\n",
      "Ironically this is lazy thinking.\n",
      "Nobody is saying literally ever single problem in the world is fixed by addressing the problem of inequality, but it's no accident inequality creates the vast majority of problems and most importantly comes in the form of class.\n",
      "\n",
      "There is no homogenous working class, their interests, needs and wants aren't possibly knowable and reconcilable with a realistic programme of government.\n",
      "\n",
      "Again this seems literally to the point of disingenuous, when people talk about class interests they don't mean literally every single individual working/middle/upper class person is give mind, they are referring to more general concept of how the economic interests of that class (which any individual within may very well go against) function.\n",
      "\n",
      "The result of this way of thinking is that people simply call for more state ownership and higher levels of taxation of the wealthy - which isn't a viable programme for winning power, as proven by the last election result.\n",
      "\n",
      "Again this is lazy and disingenuous, there was no great push for taxation or nationalisation last election, in fact Labour on the single most important question of the election (Brexit) was even more pro-free market and conservative than even the Conservative party.\n",
      "Last election showed how utterly unelectable New Labour policy is in a post 2008, post Brexit world.\n",
      "\n",
      "##HENCHARD11\n",
      "https://discussion.theguardian.com/comment-permalink/154454970\n",
      "https://profile.theguardian.com/user/id/12711404\n",
      "\n",
      "Ms Taylor is partly railing at the wrong targets. Apart from the GOP, the true villains here are two Democratic senators.\n",
      "Manchin and Sinema's behaviour over the last fortnight and complete inflexibility over the filibuster confirms that they are an absolute disgrace. They should be thrown out of the Democratic party caucus. Did the so-called Republican 'moderate' Susan Collins come out in favour of saving voting rights for one second? Of course not. Again and again the Democrats are knifed from within.\n",
      "Technically, expulsion would mean an end to the party's control of the Senate. However, I do not think that it makes any difference now to the Democrats or to Biden, frankly, as they, especially Manchin, have been nothing but obstructionist and inflexible throughout. It is not much of an overstatement to say that between them they have effectively destroyed this administration.\n",
      "Sinema's sickening remarks last week were, of course, also praised by Mitch McConnell. Well, naturally they would: her and Manchin's 'principles' have been feted by right-wing billionaires and have made them both incredibly useful idiots for the Republicans ever since Trump lost office.\n",
      "When the first stage of the carefully-planned two-stage GOP permanent coup takes place this November, these two, plus Breyer on the SCOTUS with his similarly misplaced 'integrity' (i.e. selfishness), will be squarely to blame. The grateful Republicans will surely erect statues to all three. Shame on them.\n",
      "\n",
      "##LEEABROAD\n",
      "https://discussion.theguardian.com/comment-permalink/154456703\n",
      "https://profile.theguardian.com/user/id/2851210\n",
      "\n",
      "Yep.\n",
      "One of the worst examples of this I've ever read was in a Gruaniad article about a community centre in a deprived town in Northern England. It was set up to help those who needed support with debt advice, good money management and budgeting and immediate assistance in emergencies. There was a food bank, a pay as you feel cafe and a creative arts space etc. etc. \n",
      "All good things\n",
      "Then there was an interview where those who set it up explained their rationale. Deprived people need access to creative arts spaces to express themselves, advice about budgeting so they buy the most nutritious food with their limited income, health guidance to stop smoking and reduce alcohol intake and a cafe to, and I quote, \"explain the benefits of veganism\"\n",
      "Never mind that what the locals would want to do to express themselves is go to the pub, or the bingo, or a night in with karaoke. That they might not take kindly to being told to spend their meagre income on, relatively expensive fresh fruit and veg or that they might not have the spare hour or two each day to prepare meals their kids would promptly refuse to eat. No thought of the patronising nature of telling people to cut down on the fags, booze, pizza's and processed foods or of how \"educating\" ignorant locals about the joys of veganism might come across.\n",
      "We are doing for their benefit, if only they'd listen and think like us they'd realise this and  actively want to be (decidedly inferior, of course) versions of us\n",
      "\n",
      "##MARCOOSE777\n",
      "https://discussion.theguardian.com/comment-permalink/154452903\n",
      "https://profile.theguardian.com/user/id/100087904\n",
      "\n",
      "In many ways Biden has surprised, I was expecting rampant centrism of the dullest deep shade of grey-brown, but he has embraced all sides of his own party with some pretty ambitious policies (for America). Sadly, the fact that cannot be overlooked is that he was only given a theoretical half share of the Senate seats, and a slightly more generous margin in the house. Having no mandate in the Senate has pretty much hogtied the Democrats, given the partisan nature of Moscow Mitch's republiKlan party. Listening to commenters complaining that 'they're' getting nothing done when the main obstacle is a silver grey creature that rules American politics from a minority position seems just a tad rich. Check for yourselves when the last time was that the party of Q-believers won a majority by popular vote, and that's not the college. Even some of us Brits have begun noticing how broken American politics has become, until it is fixed expect matters to become far worse. In the meanwhile, good news for the Jan 6th committee, 'free' access to TFG's records concerning the terrorist attack on the Capitol last year has been granted. The committee also wants to have an informal chat with hand bags (Ivanka), which if nothing else should make for an interesting conversation, and increasingly it appears Rudy the Ghoul was up to his neck in organising the 'Big Lie'. If Merrick can expedite these possibly criminal matters, then Democrats might be in with hope.\n",
      "\n",
      "##WISEOWLER\n",
      "https://discussion.theguardian.com/comment-permalink/154452491\n",
      "https://profile.theguardian.com/user/id/11096697\n",
      "\n",
      "Completely correct both from a social and economic justice perspective and from a realistic political one. The old centrist myths from Clinton onwards have revealed they are as establishment, wall street drive as are the reactionary billionaire financed Republicans. When in power govern for your base, exactly as Bush and Trump did. Either you represent ordinary working people including the poor and marginalised but not separating the 2. It was clear the fear factor of Trump propelled Biden into power so as not 5o frighten the horses ( in the rich man's stable). But now to save himself, the Democrats but at this time mostly to defend democracy Biden has to come out fighting. If not and the Republicans and Trump seize power then you enter a 21st century version of neo fascism where democracy is dismantled and a rigged system backed by brutality and violence takes over. History reminds us that when fascists take over they do not relinquish power democratically, only wars ( like the last good war the US fought in the second world war) and revolutions have done that.So good luck with your campaigns, it is the only way to nobility your base and swing middle of the road voters behind you when they see they and their families will be better off. If not and the Republicans take over both houses to stimy any future progress or protect democratic institutions and their leaders then the future is a dystopia nightmare for the whole world\n",
      "\n",
      "##BEARMUCHLY\n",
      "https://discussion.theguardian.com/comment-permalink/154453181\n",
      "https://profile.theguardian.com/user/id/14433057\n",
      "\n",
      "What a refreshingly insightful and blunt appraisal. Good to see a sensible middleground still exists in the US of A. Some of us non US readers of the Guardian were starting to wonder if it still existed. Should the Democrats ever find another setof candidates such as Sanders or Warren then perhaps they may start improvingtheir electoral appeal to those on lower incomes in the US, you know, the majority !They may even deny Trump another period in the White House and start distancingthe party from the clutches of Wall St. Student debt, appallingly low wages, lackof universal affordable health care etc. are all barriers to that once great Americanethos of social mobility. The obscene level of economic inequality that has resultedis destroying the fabric of US society and providing an incubator for racism, division,jingoism and desperation, all being exploited by pseudo populist politicians, assortedsnake oil salespeople and religious quacks. If the USA is ever to be \"great\" again itneeds to focus on becoming united... Biden and the power holders in the Democraticparty cannot achieve this and the Republican power holders fear signs of unity as itgives them nothing to exploit. Find yourselves another Jimmy Carter or LBJ, the last POTUS's to actually strive for unity and a shared vision for the USA.\n",
      "\n",
      "##DRIVENSNOW\n",
      "https://discussion.theguardian.com/comment-permalink/154456095\n",
      "https://profile.theguardian.com/user/id/102089808\n",
      "\n",
      "I’m sympathetic towards those stuck in an endless cycle of student loan debt with little prospects of ever being fully clear. However I personally made the decision not to go to college partly to avoid being stuck with the debt, and as a consequence missed out on what for many people is a fun and rewarding period of their lives. Why should I help to bail out (via tax dollars) those who did choose to attend college? Let’s not forget, those college graduates (statistically at least) have better prospects and career opportunities than those who didn’t attend. \n",
      "A much less expensive and more effective way of helping to improve things would be to fund vocational training programs, where technical skills aren’t required to campaign to encourage employers to stop senselessly requiring a college degree as a precursor to being able to apply for even some entry level jobs, and to provide financial education to young people so they can better understand simple concepts like compounded interest and income tax. I’ve interviewed many college graduates with expensive degrees from average colleges and have felt nothing but pity at their mountain of debt and not much obvious to show from it that wouldn’t have been equally able to be gained from a couple of years of employment.\n",
      "\n",
      "##JACKBAUERSADFACE\n",
      "https://discussion.theguardian.com/comment-permalink/154454949\n",
      "https://profile.theguardian.com/user/id/4639366\n",
      "\n",
      "\"It was democrats not putting working class needs first that led to Trump in the first place.\"Nonsense.The rise of right wing propaganda that plays to people's prejudices such as racism, xenophobia and homophobia has led to Trump and Brexit.People are too easily manipulated by their prejudices and the right use that to gain power.Unfortunately a large percentage of the white population in the US, and the UK for that matter, are racist, xenophobic, homophobic and sexist. They simply don't want non-whites and ethnic minorities, to be equal to them. Many people don't want to admit to being racist but unfortunately they are, that's why dog whistle racism works. Just look at Brexit, Donald Trump, Boris Johnson. Racism wins votes, that's why the main topic is always immigration when there's a general election, also \"wokeness\" is now a new topic that ultimately loops back to racism. And bigots and racists in the UK are pandered to by the media. Where are the news stories on Brexit troubles for example?A lot of people don't want societal progression if it means ethnic minorities and immigrants gaining more power and/or equality, and they are willing to vote for incompetents like Boris and Trump even at the expense of no improvement to their own lives.\n",
      "\n",
      "##LANCRIAN\n",
      "https://discussion.theguardian.com/comment-permalink/154455806\n",
      "https://profile.theguardian.com/user/id/106694334\n",
      "\n",
      "If you don't have democracy you have naked power play, and in the end that builds to who has the best weapons and is most prepared to use them. See Afghanistan. The Taliban won - if you can call winning the starvation of a population - because its members were willing to kill and keep killing anyone who got in their way. Unconstrained by any of the niceties that constrained those who opposed them, not answerable to political oversight or any media, and prepared to wait for ever if need be.Democracy does stand in the way of such a scenario being played out in all countries. There is no democracy in China, and only the facsimile of democracy in Russia, and look at the fate of the individual who desires autonomy.\n",
      "Democracy may turn up Trump and Johnson, but it also, eventually, allows us to get rid of them and try again.\n",
      "Men like Trump and Johnson are not respectful of the systems that brought them to power, and would, I believe, get to power and stay there, dumping the system, of only they could. \n",
      "For the democratic process to work I have to watch my own Prime Minister in action and put up with it, no matter how much it churns my stomach. Is he fit for office? No, absolutely not. Unfortunately, others disagree.\n",
      "\n",
      "##SELDONSHISTORY\n",
      "https://discussion.theguardian.com/comment-permalink/154457204\n",
      "https://profile.theguardian.com/user/id/105942307\n",
      "\n",
      "There are some excellent ideas advanced here, but the fatal flaw is the “Green Lantern” theory of government. Far too many progressive voices seem to think that Biden can simply put on a magic ring and with the stoke of a pen enact sweeping changes that will be both meaningful and permanent.\n",
      "This completely ignores the reality of how the US government is structured, and the circumstances around how it currently operates. With razor-thin majorities in Congress and 2 Democrats in the Senate unwilling to bend on the “sacred” filibuster, it is incredibly difficult to make real progress. And with a Supreme Court that acts as a political arm of the GOP, anything Biden does without Congress will and has been challenged and struck down.\n",
      "It would be far more prudent for progressives to advocate for what is possible, rather than making the perfect the enemy of the good. These idealistic takes only serve to demoralize and anger voters. This is not to say that Biden and Democrats are without flaw, and couldn’t do better — they absolutely can and should. But Americans should focus their ire where it belongs: the Republicans who are unanimous in destroying everything that progressives are fighting for.\n",
      "\n",
      "##PHILWEBSTER\n",
      "https://discussion.theguardian.com/comment-permalink/154455910\n",
      "https://profile.theguardian.com/user/id/11256036\n",
      "\n",
      "The Democrats have never \"put working class needs first\". They are the slightly more liberal twin of the Tweedledum and Tweedledee twin capitalist parties in the USA.\n",
      "Unfortunately, it's all too possible that Trump or a Trumpite might win the next election.\n",
      "When masses of working class and middle class people are being thrown under a bus by capitalist crisis, they understandably turn away from mainstream \"centre\" politics and look for someone to blame. They will either (hopefully) turn to the Left and correctly blame capitalism, or (if the Left is weak), there is the danger that they will be won over by the scapegoating politics of the Right.\n",
      "In the 1930s in Germany, the latter led to fascism. Five years ago it led to Trump. If there is not radical change for the better for large numbers of people under Biden (and unfortunately there probably won't be), then there is a real danger that the Trumpites will be back again next time because of disillusionment with this presidency.\n",
      "A new left is needed - one which bases itself on supporting, encouraging and generalising fightbacks in the workplaces and against racism and all forms of exploitation and oppression.\n",
      "\n",
      "##STILL_HERE\n",
      "https://discussion.theguardian.com/comment-permalink/154459312\n",
      "https://profile.theguardian.com/user/id/104037496\n",
      "\n",
      "Rather than focusing on elements of a bill that might garner support from both sides of the political divide, Biden/the democrats concocted an awful piece of legislation that covered far too much ground to make it easily digestible and gave a way too many reasons for people to object to it.\n",
      "Senators Manchin and Sinema have both stood against elements they don't believe in and effectively put an end to a badly thought out bill and the laughable attempt to remove the filibuster.\n",
      " Why so many democrats think/feel they should have voted for something they didn't believe in is beyond me. Both Senators and Members of Congress are voted for by the people as individuals, not just as a Democrat or Republican and are entitled to vote the way their conscience leads them.\n",
      "The bigger question may well be why so many democrats were prepared to vote for it considering the wide range of elements covered.\n",
      "With Biden and Harris about as popular as a skunk at a cookout, it's hard to see the democrats putting up any sort of battle in the midterms and quite honestly, having seen the mishandling of almost everything in the last year, we need a change.\n",
      "\n",
      "##MAWALTREES\n",
      "https://discussion.theguardian.com/comment-permalink/154453998\n",
      "https://profile.theguardian.com/user/id/2843729\n",
      "\n",
      "GOP and Right Wing Establishment have America ground into a halt with a political Supreme Court, Dysfunctional Senate, and Fox type media.\n",
      "Disaster has nothing to do with the President or Democrats. They have Bills they can't pass because of Republican obstructionism. Obama must have been some sort of Genius to get the ACA thru. \n",
      "Nor should you blame the Democrats if America wants to re elect a twice impeached criminal, most investigate person in human history, and most failing businessman in American Corporate history as its President. \n",
      "Biden at 80 years old stopped the GOP stealing yet another election and is a hero.\n",
      "The reason why GOP succeed with lower share of vote and popularity is because they are a tighter and more united ship.\n",
      "The so called progressive Left crap on each other at literally every opportunity because they are dreamers and ideologues themselves who think their only job is to complain ad nausea then carry on complaining whilst presenting fantasies as solutions.\n",
      "The Left attack each other so often I am actually beginning to think its a deliberate policy to support the Right. This piece being a prime example.\n"
     ]
    }
   ],
   "source": [
    "all_comments.sort(key=lambda x : -len(x) )\n",
    "print( '\\n\\n'.join(all_comments[:20]) )"
   ]
  },
  {
   "cell_type": "code",
   "execution_count": 7,
   "metadata": {},
   "outputs": [
    {
     "name": "stdout",
     "output_type": "stream",
     "text": [
      "[master 65b23aa] web\n",
      " 2 files changed, 167 insertions(+), 233 deletions(-)\n",
      " create mode 100644 jz8nk.pkl\n",
      "Enumerating objects: 6, done.\n",
      "Counting objects: 100% (6/6), done.\n",
      "Delta compression using up to 4 threads\n",
      "Compressing objects: 100% (4/4), done.\n",
      "Writing objects: 100% (4/4), 78.59 KiB | 1.33 MiB/s, done.\n",
      "Total 4 (delta 2), reused 0 (delta 0)\n",
      "remote: Resolving deltas: 100% (2/2), completed with 2 local objects.\u001b[K\n",
      "To https://github.com/macbuse/GUARDIAN.git\n",
      "   d2e0e21..65b23aa  master -> master\n"
     ]
    }
   ],
   "source": [
    "! ./.g"
   ]
  },
  {
   "cell_type": "code",
   "execution_count": 18,
   "metadata": {},
   "outputs": [
    {
     "name": "stderr",
     "output_type": "stream",
     "text": [
      "[nltk_data] Downloading package vader_lexicon to\n",
      "[nltk_data]     /home/gregmcshane/nltk_data...\n",
      "[nltk_data]   Package vader_lexicon is already up-to-date!\n"
     ]
    }
   ],
   "source": [
    "#https://towardsdatascience.com/sentimental-analysis-using-vader-a3415fef7664\n",
    "\n",
    "import nltk\n",
    "#nltk.download('vader_lexicon')\n",
    "\n",
    "from nltk.sentiment.vader import SentimentIntensityAnalyzer\n",
    "\n",
    "sid = SentimentIntensityAnalyzer()"
   ]
  },
  {
   "cell_type": "code",
   "execution_count": 22,
   "metadata": {},
   "outputs": [],
   "source": [
    "a = '''My views haven't changed. Leaving the EU will be of no benefit to anyone except those who hold money and power along with certain corporates and a smidgen of medium to small businesses.\n",
    "How else can it be when you are shutting shop to the most developed nations, the richest nations in the world, who are either in the EU or have market agreements with the EU. Even the emerging markets of China and India along with other developing economies are aspiring to develop trading agreements with the EU, the second largest economy in the world. Any deal with the UK will be secondary and will depend upon their agreement with the EU.\n",
    "Boris Johnson once said \"f**k business\". I take this as meaning there is something in it for them and they don't really care if businesses find it difficulA\n",
    "t to cope.\n",
    "I can see ministers and conservative MPs queuing to fill their pockets by acting as advisors for potential trade deals whilst the rest of the country are left struggling trying to rebuild their lives, especially following the pandemic. The same ministers will probably be looking to lower all kinds of standards from food and welfare to safety at work to improve their opportunities.\n",
    "When it comes to brinkmanship, I can only view this as getting away with whatever they can. I do not believe it is anything to do with negotiating an agreement that will be to the benefit of the UK or the EU as a whole, I don't believe our ministers are capable of doing that.'''"
   ]
  },
  {
   "cell_type": "code",
   "execution_count": 24,
   "metadata": {},
   "outputs": [
    {
     "ename": "TypeError",
     "evalue": "sentiment_valence() missing 4 required positional arguments: 'sentitext', 'item', 'i', and 'sentiments'",
     "output_type": "error",
     "traceback": [
      "\u001b[0;31m------------------------------------------------------------\u001b[0m",
      "\u001b[0;31mTypeError\u001b[0m                  Traceback (most recent call last)",
      "\u001b[0;32m<ipython-input-24-6f3326dcf5de>\u001b[0m in \u001b[0;36m<module>\u001b[0;34m\u001b[0m\n\u001b[1;32m      1\u001b[0m \u001b[0msid\u001b[0m\u001b[0;34m.\u001b[0m\u001b[0mpolarity_scores\u001b[0m\u001b[0;34m(\u001b[0m\u001b[0ma\u001b[0m\u001b[0;34m)\u001b[0m\u001b[0;34m\u001b[0m\u001b[0m\n\u001b[0;32m----> 2\u001b[0;31m \u001b[0msid\u001b[0m\u001b[0;34m.\u001b[0m\u001b[0msentiment_valence\u001b[0m\u001b[0;34m(\u001b[0m\u001b[0ma\u001b[0m\u001b[0;34m)\u001b[0m\u001b[0;34m\u001b[0m\u001b[0m\n\u001b[0m",
      "\u001b[0;31mTypeError\u001b[0m: sentiment_valence() missing 4 required positional arguments: 'sentitext', 'item', 'i', and 'sentiments'"
     ]
    }
   ],
   "source": [
    "sid.polarity_scores(a)\n",
    "sid.sentiment_valence(a)"
   ]
  },
  {
   "cell_type": "code",
   "execution_count": 31,
   "metadata": {},
   "outputs": [
    {
     "name": "stdout",
     "output_type": "stream",
     "text": [
      "##HELIOPOWER\n",
      "https://discussion.theguardian.com/comment-permalink/154171548\n",
      "https://profile.theguardian.com/user/id/14900488\n",
      "\n",
      "A lawyer wrote in The Times that in 1966, 2 men were cleared of helping a convicted spy George Blake to escape from Wormwood Scrubs because they believed his sentence of 42 years was too severe. \n",
      "In 1984 Clive Ponting was found not guilty of leaking secrets to an MP about the General Belgrano.\n",
      "The point the lawyer makes is that trail by jury can lead to 'perverse verdicts' and is an accepted feature of the law, if the thoughts of the jury are that the govt. is too oppressive or authoritarian. He adds that no precedent is set and each case has its own merits. \n",
      "So (my words), perhaps we can conclude the govt. with regard to the Colston 4 is demonstrating oppression and authoritarianism? We know this govt. has form with regard to people who disagree with their narrow minded and quite frankly reactionary views. That the right** WING** press seems to agree with the govt. should also be cause for concern. It is a slippery slope.\n",
      "\n",
      "##CRANSLEY\n",
      "https://discussion.theguardian.com/comment-permalink/154172194\n",
      "https://profile.theguardian.com/user/id/14968605\n",
      "\n",
      "The entire right** WING** media. They want you to ignore what Colston did, leave the statue there\n",
      "\n",
      "The concern being shown by those, including me, that you like to put under the umbrella of the right-wing media, is that the Jury was asked whether those responsible had committed an act of criminal damage.\n",
      "For the purposes of clarity, the offence is defined as:\n",
      "A person who without lawful excuse destroys or damages any property belonging to another, intending to destroy or damage any such property, or being reckless as to whether any such property would be destroyed or damaged, shall be guilty of an offence.\n",
      "The jury has failed in its duty. There is no doubt that those on trial were responsible for the damage. It is not the jury's place to apply leniency in the case because of the morals involved - that is the prerogative of the judge hearing the case.\n",
      "That is what is being criticised here.\n",
      "\n",
      "##MANOFTHEWORLD\n",
      "https://discussion.theguardian.com/comment-permalink/154172082\n",
      "https://profile.theguardian.com/user/id/1795079\n",
      "\n",
      "Even if an apology for the past made sense, it would be incredibly empowering for the Tories and the right** WING** press who would use it to fuel culture wars and present themselves as “humiliated victims”. Forced apologies are psychologically counterproductive - they stick in the throat. Anyone with a soul is already deeply sorry for victims of slavery and the culture that accompanied it. But that culture was overturned, and fought for. The US was much slower to act and much more defensive.\n",
      "\n",
      "##GOVERNMENTSIN\n",
      "https://discussion.theguardian.com/comment-permalink/154172408\n",
      "https://profile.theguardian.com/user/id/11264632\n",
      "\n",
      "Look at the attitudes of British liberals. They seem right** WING** in comparison to other nations. Always deflecting on British colonial history and suggesting that such racism helped build those other nations.\n",
      "It says a lot that American liberals are more left leaning than British ones. Yes, Britain has a huge, huge problem with its racist history and present day culture.\n",
      "\n",
      "##ILIKESPOONS\n",
      "https://discussion.theguardian.com/comment-permalink/154171822\n",
      "https://profile.theguardian.com/user/id/11832833\n",
      "\n",
      "The entire right** WING** media. They want you to ignore what Colston did, leave the statue there (which was an act of sanitising his past) and either pretend we had no part in slavery or act like we fixed it so everything is fine now.\n",
      "Not hard to figure out, you don't need to even look past the headlines.\n",
      "\n",
      "##KAVANGH\n",
      "https://discussion.theguardian.com/comment-permalink/154171426\n",
      "https://profile.theguardian.com/user/id/17075231\n",
      "\n",
      "Of course that's because the right** WING** only like history they can control and the plebs revolting against this vision, particularly is such spectacular fashion, endangers their grip upon the narrative.\n",
      "\n",
      "##DJF489\n",
      "https://discussion.theguardian.com/comment-permalink/154171539\n",
      "https://profile.theguardian.com/user/id/101380105\n",
      "\n",
      "Interesting to learn this right** WING** Tory government and its media machine don't really understand the law.Their plan to penalise backfired.\n",
      "\n",
      "##BEVREV\n",
      "https://discussion.theguardian.com/comment-permalink/154172237\n",
      "https://profile.theguardian.com/user/id/4212267\n",
      "\n",
      "The racist dog whistles of right** WING** politicians and media are alarmingly shrill, taking their playbook from Trump, no doubt.\n",
      "\n",
      "##BRIANBRADDOCK\n",
      "https://discussion.theguardian.com/comment-permalink/154171955\n",
      "https://profile.theguardian.com/user/id/17610467\n",
      "\n",
      "It's interesting that you appear to think that being against racism would repel right** WING** voters.\n",
      "\n",
      "##MARKTAIN9\n",
      "https://discussion.theguardian.com/comment-permalink/154171472\n",
      "https://profile.theguardian.com/user/id/16997217\n",
      "\n",
      "Are you suggesting that all twelve jurors were left** WING**?\n"
     ]
    }
   ],
   "source": [
    "target = 'decolon'\n",
    "target = 'science'\n",
    "target = 'irish'\n",
    "target = 'mandela'\n",
    "target = 'abolit'\n",
    "target = ' wing'\n",
    "\n",
    "\n",
    "xx = [x for x in all_comments if target.lower() in x.lower() and  len(x) > 20]\n",
    "yy = [x for x in all_comments if '#pin' in x.lower() and 2000 > len(x) > 20]\n",
    "\n",
    "#print('\\n\\n'.join( ['\\n\\n'.join(x) for x in zip(xx,yy)])  )\n",
    "\n",
    "#print( '\\n\\n'.join(xx).replace(target, ) )\n",
    "pxx = re.compile(target, re.I)\n",
    "print( pxx.sub('**' + target.upper() + '**', \n",
    "              '\\n\\n'.join(xx)) )\n",
    "               \n",
    "#print( '\\n\\n'.join(xx) )\n"
   ]
  },
  {
   "cell_type": "code",
   "execution_count": 20,
   "metadata": {},
   "outputs": [
    {
     "data": {
      "text/plain": [
       "0.7820401046207497"
      ]
     },
     "execution_count": 20,
     "metadata": {},
     "output_type": "execute_result"
    }
   ],
   "source": [
    "(26/31) / (74/69)"
   ]
  },
  {
   "cell_type": "code",
   "execution_count": 64,
   "metadata": {},
   "outputs": [
    {
     "data": {
      "text/plain": [
       "529"
      ]
     },
     "execution_count": 64,
     "metadata": {},
     "output_type": "execute_result"
    }
   ],
   "source": [
    "23**2"
   ]
  },
  {
   "cell_type": "markdown",
   "metadata": {},
   "source": [
    "## "
   ]
  },
  {
   "cell_type": "code",
   "execution_count": 21,
   "metadata": {},
   "outputs": [
    {
     "data": {
      "text/plain": [
       "211"
      ]
     },
     "execution_count": 21,
     "metadata": {},
     "output_type": "execute_result"
    }
   ],
   "source": [
    "84 + 127"
   ]
  },
  {
   "cell_type": "code",
   "execution_count": 24,
   "metadata": {},
   "outputs": [
    {
     "data": {
      "text/plain": [
       "1.2842073077511085"
      ]
     },
     "execution_count": 24,
     "metadata": {},
     "output_type": "execute_result"
    }
   ],
   "source": [
    "84/211/.31"
   ]
  },
  {
   "cell_type": "code",
   "execution_count": 25,
   "metadata": {},
   "outputs": [
    {
     "data": {
      "text/plain": [
       "0.8723126588364586"
      ]
     },
     "execution_count": 25,
     "metadata": {},
     "output_type": "execute_result"
    }
   ],
   "source": [
    "127/211/.69"
   ]
  },
  {
   "cell_type": "code",
   "execution_count": 26,
   "metadata": {},
   "outputs": [
    {
     "data": {
      "text/plain": [
       "1.471264367816092"
      ]
     },
     "execution_count": 26,
     "metadata": {},
     "output_type": "execute_result"
    }
   ],
   "source": [
    "1.28/.87"
   ]
  },
  {
   "cell_type": "code",
   "execution_count": null,
   "metadata": {},
   "outputs": [],
   "source": []
  }
 ],
 "metadata": {
  "kernelspec": {
   "display_name": "NLP",
   "language": "python",
   "name": "nlp"
  },
  "language_info": {
   "codemirror_mode": {
    "name": "ipython",
    "version": 3
   },
   "file_extension": ".py",
   "mimetype": "text/x-python",
   "name": "python",
   "nbconvert_exporter": "python",
   "pygments_lexer": "ipython3",
   "version": "3.8.5"
  },
  "widgets": {
   "application/vnd.jupyter.widget-state+json": {
    "state": {},
    "version_major": 2,
    "version_minor": 0
   }
  }
 },
 "nbformat": 4,
 "nbformat_minor": 4
}
