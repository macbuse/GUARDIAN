{
 "cells": [
  {
   "cell_type": "markdown",
   "metadata": {},
   "source": [
    "# Basic scraping for Guardian discussions u"
   ]
  },
  {
   "cell_type": "code",
   "execution_count": 1,
   "metadata": {},
   "outputs": [
    {
     "name": "stdout",
     "output_type": "stream",
     "text": [
      "[master 159945f] web\n",
      " 12 files changed, 2720 insertions(+), 498 deletions(-)\n",
      " rename .ipynb_checkpoints/{Untitled-checkpoint.ipynb => quad_forms-checkpoint.ipynb} (100%)\n",
      " create mode 100644 .ipynb_checkpoints/random_shapes-checkpoint.ipynb\n",
      " create mode 100644 None0000000.png\n",
      " create mode 100644 ejdxt.pkl\n",
      " create mode 100644 eyhx8.pkl\n",
      " create mode 100644 eytkx.pkl\n",
      " create mode 100644 femicides3.csv\n",
      " rewrite liberation_femicide.ipynb (78%)\n",
      " create mode 100644 links.txt\n",
      " rename Untitled.ipynb => quad_forms.ipynb (100%)\n",
      " create mode 100644 random_shapes.ipynb\n",
      "Enumerating objects: 15, done.\n",
      "Counting objects: 100% (15/15), done.\n",
      "Delta compression using up to 4 threads\n",
      "Compressing objects: 100% (11/11), done.\n",
      "Writing objects: 100% (11/11), 1.43 MiB | 93.00 KiB/s, done.\n",
      "Total 11 (delta 3), reused 0 (delta 0)\n",
      "remote: Resolving deltas: 100% (3/3), completed with 2 local objects.\u001b[K\n",
      "To https://github.com/macbuse/GUARDIAN.git\n",
      "   07063a7..159945f  master -> master\n"
     ]
    }
   ],
   "source": [
    "! ./.g\n"
   ]
  },
  {
   "cell_type": "code",
   "execution_count": 59,
   "metadata": {},
   "outputs": [],
   "source": [
    "with open('guardian comments scraper.ipynb','r') as fp:\n",
    "    nb = fp.read()"
   ]
  },
  {
   "cell_type": "code",
   "execution_count": 60,
   "metadata": {},
   "outputs": [],
   "source": [
    "import re\n",
    "\n",
    "pp = re.compile(\"(https://www.the.*?)'\")\n",
    "lks = pp.findall(nb)\n",
    "\n",
    "with open('links.txt','a') as fp:\n",
    "    fp.write('\\n'.join(lks))"
   ]
  },
  {
   "cell_type": "code",
   "execution_count": 2,
   "metadata": {},
   "outputs": [],
   "source": [
    "import re \n",
    "import requests\n",
    "import pickle\n",
    "import json"
   ]
  },
  {
   "cell_type": "code",
   "execution_count": 14,
   "metadata": {},
   "outputs": [],
   "source": [
    "article_url = 'https://www.theguardian.com/commentisfree/2020/aug/19/ditch-the-algorithm-generation-students-a-levels-politics'\n",
    "article_url = 'https://www.theguardian.com/commentisfree/2020/aug/21/joe-biden-democrat-convention-nice-guy-trump-fight'\n",
    "article_url = 'https://www.theguardian.com/commentisfree/2020/aug/23/the-cruel-exams-algorithm-has-laid-bare-the-unfairness-at-the-heart-of-our-schools'\n",
    "article_url = 'https://www.theguardian.com/commentisfree/2020/sep/01/us-mainstream-right-vigilante-terror'\n",
    "article_url = 'https://www.theguardian.com/commentisfree/2020/aug/31/politicians-covid-19-statistics-statisticians'"
   ]
  },
  {
   "cell_type": "code",
   "execution_count": 14,
   "metadata": {},
   "outputs": [],
   "source": [
    "article_url = 'https://www.theguardian.com/commentisfree/2020/sep/29/rival-scientists-lockdowns-scientific-covid-19'\n",
    "article_url = 'https://www.theguardian.com/commentisfree/2020/oct/08/johnson-and-sturgeon-will-need-a-better-philosophy-than-precaution-to-rid-us-of-covid'"
   ]
  },
  {
   "cell_type": "code",
   "execution_count": 21,
   "metadata": {},
   "outputs": [
    {
     "ename": "NameError",
     "evalue": "name 'my_keys' is not defined",
     "output_type": "error",
     "traceback": [
      "\u001b[0;31m------------------------------------------\u001b[0m",
      "\u001b[0;31mNameError\u001b[0mTraceback (most recent call last)",
      "\u001b[0;32m<ipython-input-21-96eff3d6b4f1>\u001b[0m in \u001b[0;36m<module>\u001b[0;34m\u001b[0m\n\u001b[0;32m----> 1\u001b[0;31m \u001b[0mkey\u001b[0m \u001b[0;34m=\u001b[0m \u001b[0mmy_keys\u001b[0m\u001b[0;34m.\u001b[0m\u001b[0mkeys\u001b[0m\u001b[0;34m[\u001b[0m\u001b[0;34m'guardian'\u001b[0m\u001b[0;34m]\u001b[0m\u001b[0;34m\u001b[0m\u001b[0m\n\u001b[0m",
      "\u001b[0;31mNameError\u001b[0m: name 'my_keys' is not defined"
     ]
    }
   ],
   "source": [
    "key = my_keys.keys['guardian']"
   ]
  },
  {
   "cell_type": "code",
   "execution_count": 15,
   "metadata": {},
   "outputs": [
    {
     "name": "stdout",
     "output_type": "stream",
     "text": [
      "getting comments page no. 1\n",
      "there are 4 pages\n",
      "getting comments page no. 2\n",
      "getting comments page no. 3\n",
      "getting comments page no. 4\n",
      "archiving to f3ke9.pkl\n"
     ]
    }
   ],
   "source": [
    "#scrape the page and get the short url\n",
    "short_url_pp =  re.compile('\"shortUrlId\":\"(.*?)\"')\n",
    "\n",
    "r = requests.get(article_url)\n",
    "mm = short_url_pp.search(r.text)\n",
    "short_url = mm.group(1)\n",
    "\n",
    "#the short url allows us to access the discussion\n",
    "comments_url = 'https://api.nextgen.guardianapps.co.uk/discussion/%s.json'%short_url\n",
    "params = {'orderBy' : 'newest',\n",
    "          'pageSize' : 25,\n",
    "          'displayThreaded' : 'true',\n",
    "          'commentsClosed' : 'false',\n",
    "          'page' : '',\n",
    "          'maxResponses' : 50\n",
    "         }\n",
    "\n",
    "json_data =  []\n",
    "start_page  = 1\n",
    "last_page = None\n",
    "\n",
    "\n",
    "for num_page in range(start_page, 10**4):\n",
    "    print('getting comments page no.', num_page)\n",
    "    params['page'] = num_page\n",
    "    r = requests.get( comments_url, params=params)\n",
    "    json_data.append( r.text)\n",
    "    #The last page is a field in the json object\n",
    "    #I don't need to read this as json I could do a regexp\n",
    "    if num_page == start_page:\n",
    "        json_dict = json.loads(r.text)\n",
    "        last_page = json_dict['lastPage']\n",
    "        print('there are %d pages'%last_page)\n",
    "    if num_page == last_page : break\n",
    "        \n",
    "\n",
    "fn = '%s.pkl'%short_url.split('/')[-1]\n",
    "print('archiving to %s'%fn)\n",
    "with open(fn ,'wb') as fp:\n",
    "    pickle.dump(json_data,fp)\n",
    "    \n"
   ]
  },
  {
   "cell_type": "code",
   "execution_count": 2,
   "metadata": {},
   "outputs": [
    {
     "ename": "SyntaxError",
     "evalue": "invalid syntax (<ipython-input-2-7a525c39f9dc>, line 3)",
     "output_type": "error",
     "traceback": [
      "\u001b[0;36m  File \u001b[0;32m\"<ipython-input-2-7a525c39f9dc>\"\u001b[0;36m, line \u001b[0;32m3\u001b[0m\n\u001b[0;31m    archiving to dqhaa.pkl #jenkins\u001b[0m\n\u001b[0m               ^\u001b[0m\n\u001b[0;31mSyntaxError\u001b[0m\u001b[0;31m:\u001b[0m invalid syntax\n"
     ]
    }
   ],
   "source": [
    "json_data = pickle.load(open('dpb6e.pkl','rb') ) #jenkins\n",
    "\n",
    "archiving to dqhaa.pkl #jenkins\n",
    "\n",
    "archiving to evdjz.pkl #big cummings\n",
    "\n",
    "e9j7e.pkl # bragg\n",
    "\n",
    "eghyd.pkl # migrants"
   ]
  },
  {
   "cell_type": "code",
   "execution_count": 3,
   "metadata": {},
   "outputs": [],
   "source": [
    "json_data = pickle.load(open('etenk.pkl','rb') ) #jenkins\n"
   ]
  },
  {
   "cell_type": "markdown",
   "metadata": {},
   "source": [
    "## remember each page of comments has been stored separately"
   ]
  },
  {
   "cell_type": "code",
   "execution_count": 55,
   "metadata": {},
   "outputs": [
    {
     "data": {
      "text/plain": [
       "4"
      ]
     },
     "execution_count": 55,
     "metadata": {},
     "output_type": "execute_result"
    }
   ],
   "source": [
    "dd = json.loads(json_data[0])\n",
    "len(json_data)"
   ]
  },
  {
   "cell_type": "code",
   "execution_count": 100,
   "metadata": {},
   "outputs": [
    {
     "data": {
      "text/plain": [
       "dict_keys(['postedCommentHtml', 'commentsHtml', 'commentCount', 'refreshStatus', 'lastPage', 'paginationHtml'])"
      ]
     },
     "execution_count": 100,
     "metadata": {},
     "output_type": "execute_result"
    }
   ],
   "source": [
    "xx = json.loads(json_data[0])\n",
    "xx.keys()"
   ]
  },
  {
   "cell_type": "code",
   "execution_count": 101,
   "metadata": {},
   "outputs": [
    {
     "name": "stdout",
     "output_type": "stream",
     "text": [
      "\n",
      "\n",
      "<div class=\"d-discussion d-discussion--recommendations-open u-cf\"\n",
      "     data-read-only=\"false\" >\n",
      "\n",
      "    \n",
      "    \n",
      "\n",
      "\n",
      "    <ul class=\"d-thread d-thread--comments js-new-comments\">\n",
      "\n",
      "        \n",
      "            \n",
      "\n",
      "\n",
      "<li class=\"d-comment\n",
      "            d-comment--top-level\"\n",
      "           id=\"comment-144376446\"\n",
      "           data-comment-id=\"144376446\"\n",
      "           data-comment-author=\"ethelfrida\"\n",
      "           data-comment-replies=\"0\"\n",
      "           data-comment-timestamp=\"2020-10-08T21:44:22.000+01:00\"\n",
      "           data-comment-author-id=\"13620487\"\n",
      "           data-comment-highlighted=\"false\"\n",
      "           itemscope itemtype=\"http://schema.org/Comment\">\n",
      "\n",
      "    <div class=\"d-comment__inner d-comment__inner--top-level\">\n",
      "        <div class=\"d-comment__meta\">\n",
      "            <span class=\"d-comment__avatar-wrapper\">\n",
      "                <img src=\"https://avatar.guim.co.uk/user/13620487\" alt=\"\" class=\"d-comment__avatar\"/>\n",
      "            </span>\n",
      "            <div class=\"d-comment__meta-text\">\n",
      "                <span\n",
      "                    itemscope\n",
      "                    itemprop=\"author\"\n",
      "                    itemtype=\"http://schema.org/Person\"\n",
      "                    title=\"ethelfrida\"\n",
      "                    class=\"d-comment__author\">\n",
      "                    <a href=\"https://profile.theguardian.com/user/id/13620487\" itemprop=\"url\">\n",
      "                        <span itemprop=\"givenName\">ethelfrida</span>\n",
      "                    </a>\n",
      "                </span>\n",
      "\n",
      "                \n",
      "                <div class=\"d-comment__timestamp\">\n",
      "                    <a href=\"https://discussion.theguardian.com/comment-permalink/144376446\" class=\"d-comment__timestamp block-time\">\n",
      "                        <time class=\"js-timestamp\" itemprop=\"dateCreated\"\n",
      "                            datetime=\"2020-10-08T21:44:22Z\"\n",
      "                            data-timestamp=\"1602189862000\" data-relativeformat=\"med\"\n",
      "                            title=\"Permalink to this comment (8 Oct 2020 21:44)\">8 Oct 2020 21:44</time>\n",
      "                        \n",
      "\n",
      "\n",
      "<span  class=\"inline-comment-anchor inline-icon \" >\n",
      "    \n",
      "        <svg width=\"15\" height=\"15\" viewbox=\"0 0 15 15\" class=\"inline-comment-anchor__svg inline-icon__svg\">\n",
      " <path fill=\"#898989\" d=\"M5.725 13.348a2.563 2.563 0 0 1-3.699-3.547l8.424-8.79a1.921 1.921 0 0 1 2.776 2.658l-6.894 7.193a1.277 1.277 0 0 1-1.812.038 1.28 1.28 0 0 1-.04-1.81l5.324-5.553.337.321-5.325 5.555a.815.815 0 0 0 1.175 1.128l6.896-7.193a1.456 1.456 0 0 0-2.101-2.015l-8.427 8.79a2.102 2.102 0 0 0 .063 2.965 2.098 2.098 0 0 0 2.965-.062l6.853-7.152.338.323-6.853 7.151z\" />\n",
      "</svg>\n",
      "    \n",
      "</span>\n",
      "\n",
      "                    </a>\n",
      "                </div>\n",
      "\n",
      "                \n",
      " \n",
      "\n",
      "\n",
      "                \n",
      "            </div>\n",
      "        </div>\n",
      "\n",
      "        <div class=\"d-comment__content\">\n",
      "\n",
      "             \n",
      "                <div\n",
      "                    class=\"d-comment__recommend js-recommend-comment\"\n",
      "                    data-comment-id=\"144376446\"\n",
      "                    data-comment-url=\"https://discussion.theguardian.com/comment-permalink/144376446\"\n",
      "                    data-user-id=\"13620487\"\n",
      "                    data-recommend-count=\"23\"\n",
      "                    title=\"23 recommendations\">\n",
      "                    <button class=\"u-button-reset d-comment__recommend-button rounded-icon\" data-link-name=\"Recommend comment\" >\n",
      "                        <span class=\"d-comment__recommend-pulse\"></span>\n",
      "                        \n",
      "\n",
      "\n",
      "<span  class=\"inline-arrow-up-white inline-icon \" >\n",
      "    \n",
      "        <svg height=\"14\" width=\"15\" class=\"inline-arrow-up-white__svg inline-icon__svg\">\n",
      " <path d=\"M.5 7l5.25-4.5V14h1.5V2.5L12.5 7l.5-1-5.75-6h-1.5L0 6l.5 1z\" />\n",
      "</svg>\n",
      "    \n",
      "</span>\n",
      "\n",
      "                    </button>\n",
      "                    <span class=\"d-comment__recommend-count js-recommend-count\">\n",
      "                        <span class=\"d-comment__recommend-count--old\">23</span>\n",
      "                        <span class=\"d-comment__recommend-count--new\">24</span>\n",
      "                    </span>\n",
      "                </div>\n",
      "            \n",
      "\n",
      "            <div class=\"d-comment__main \">\n",
      "\n",
      "                <div class=\"d-comment__body\" itemprop=\"text\">\n",
      "                  \n"
     ]
    }
   ],
   "source": [
    "print( xx['commentsHtml'][:4000])"
   ]
  },
  {
   "cell_type": "code",
   "execution_count": 92,
   "metadata": {},
   "outputs": [],
   "source": [
    "pa = re.compile('data-comment-author=\"(.*?)\"')\n",
    "pid = re.compile('data-comment-author-id=\"(\\d+)')\n",
    "pcid = re.compile('\\sid=\"comment-(.*?)\"')\n",
    "pp = re.compile('<li class=\"d-comment(.*?)>',re.DOTALL)\n",
    "\n",
    "auths = []\n",
    "md = []\n",
    "for xx in json_data:\n",
    "    hh = json.loads(xx)['commentsHtml']\n",
    "    auths.extend(list( zip(pa.findall(hh), \n",
    "                           pid.findall(hh)\n",
    "                          )))\n",
    "    md.extend(pp.findall(hh))\n",
    "\n",
    "auths = list(set(auths))\n",
    "auths.sort(key=lambda x : x[0].lower())\n"
   ]
  },
  {
   "cell_type": "code",
   "execution_count": 102,
   "metadata": {},
   "outputs": [],
   "source": [
    "#print( '\\n'.join([x for x in md if 'pinkie' in x.lower()]))"
   ]
  },
  {
   "cell_type": "markdown",
   "metadata": {},
   "source": [
    "https://discussion.theguardian.com/comment-permalink/144375739"
   ]
  },
  {
   "cell_type": "code",
   "execution_count": 34,
   "metadata": {},
   "outputs": [],
   "source": [
    "auths = dict(auths)"
   ]
  },
  {
   "cell_type": "code",
   "execution_count": 54,
   "metadata": {},
   "outputs": [
    {
     "data": {
      "text/plain": [
       "'https://api.nextgen.guardianapps.co.uk/discussion//p/f3ke9.json'"
      ]
     },
     "execution_count": 54,
     "metadata": {},
     "output_type": "execute_result"
    }
   ],
   "source": [
    "comments_url"
   ]
  },
  {
   "cell_type": "code",
   "execution_count": 112,
   "metadata": {},
   "outputs": [
    {
     "name": "stdout",
     "output_type": "stream",
     "text": [
      "63 63\n",
      "133 133\n",
      "84 84\n",
      "100 100\n"
     ]
    }
   ],
   "source": [
    "class Comment():\n",
    "    pass\n",
    "\n",
    "from bs4 import BeautifulSoup\n",
    "\n",
    "def html2comments(x):\n",
    "    tt = json.loads(x)\n",
    "    soup = BeautifulSoup(tt['commentsHtml'],  \"lxml\")\n",
    "    raw = [ comment.text for comment in  \n",
    "            soup.findAll('div', {'class' : \"d-comment__body\"}) ]\n",
    "    \n",
    "    metadata = soup.findAll('span', {'class' : \"d-comment__author\"})\n",
    "    \n",
    "    \n",
    "    auth = [ x.text.upper().strip() for x in metadata]\n",
    "    auth_id = [ x.find('a')['href'] for x in metadata]\n",
    "    #this was a pain to \n",
    "    c_id = [ x['id'][len('comment-'):] for x in soup.findAll('li')]\n",
    "    \n",
    "    \n",
    "    print(len(auth),len(c_id))\n",
    "    \n",
    "    \n",
    "    ss = '##{}\\nhttps://discussion.theguardian.com/comment-permalink/{}\\n{}\\n\\n{}'\n",
    "    return [ ss.format(a,b,d,c.strip())  \n",
    "                                 for a,b,d,c in zip(auth, c_id, auth_id, raw)]\n",
    "     \n",
    "all_texts = [ html2comments(page) for page in json_data[:] ]\n",
    "\n",
    "\n",
    "\n",
    "from itertools import chain\n",
    "all_comments = list(chain.from_iterable(all_texts))\n",
    "    "
   ]
  },
  {
   "cell_type": "markdown",
   "metadata": {},
   "source": [
    "with open('b7jtb.pkl','rb') as fp:\n",
    "    json_data = pickle.load(fp)"
   ]
  },
  {
   "cell_type": "code",
   "execution_count": 38,
   "metadata": {},
   "outputs": [],
   "source": [
    "A = [x.split('\\n')[0] for x in all_comments]\n",
    "from collections import Counter\n",
    "AN = Counter(A)"
   ]
  },
  {
   "cell_type": "code",
   "execution_count": 39,
   "metadata": {},
   "outputs": [
    {
     "data": {
      "text/plain": [
       "[('##NOTHERNGUARDIAN', 20),\n",
       " ('##DAVETHEWRAPPER', 18),\n",
       " ('##CLABALLIA', 17),\n",
       " ('##NICHOLIB', 11),\n",
       " ('##DSDSDSDSDS', 10),\n",
       " ('##BJERKLEY', 10),\n",
       " ('##LIBERTATEM', 9),\n",
       " ('##PINKIE123', 9),\n",
       " ('##PUMUCKLMAN', 9),\n",
       " ('##WOOLWICH', 8),\n",
       " ('##TESTAMENT235', 8),\n",
       " ('##DCARTER', 8),\n",
       " ('##FEARANDLOTHIAN', 8),\n",
       " ('##FELICIAFARREL', 7),\n",
       " ('##WHATABOUTTHEFORESTS', 7),\n",
       " ('##SEASARG', 7),\n",
       " ('##UKNORTH', 7),\n",
       " ('##CHARLOTT', 6),\n",
       " ('##ASPARAGUSNEXTLEFT', 6),\n",
       " ('##NOTBANNEDYET', 6),\n",
       " ('##MOZARTKUGELN', 5),\n",
       " ('##WHERESMEHAT', 5),\n",
       " ('##BILLCO14', 5),\n",
       " ('##MINCEPI', 5),\n",
       " ('##STRONTIUM90', 5),\n",
       " ('##PETEKREFF', 5),\n",
       " ('##HAK_A_DALAN', 5),\n",
       " ('##JOEROBSON', 5)]"
      ]
     },
     "execution_count": 39,
     "metadata": {},
     "output_type": "execute_result"
    }
   ],
   "source": [
    "sorted([(x,y) for x,y in AN.items() if y > 4], key=lambda x : -x[1]) "
   ]
  },
  {
   "cell_type": "code",
   "execution_count": null,
   "metadata": {},
   "outputs": [],
   "source": [
    "https://discussion.theguardian.com/comment-permalink/144375578"
   ]
  },
  {
   "cell_type": "code",
   "execution_count": 113,
   "metadata": {},
   "outputs": [
    {
     "name": "stdout",
     "output_type": "stream",
     "text": [
      "##ETHELFRIDA\n",
      "https://discussion.theguardian.com/comment-permalink/144376446\n",
      "https://profile.theguardian.com/user/id/13620487\n",
      "\n",
      "In the early stages of lockdown, traffic and hence air pollution fell by a huge amount. Many more people were out walking and junk food outlets were mostly shut. Could these explain the fall in other hospital admissions?\n"
     ]
    }
   ],
   "source": [
    "print(all_comments[0])"
   ]
  },
  {
   "cell_type": "code",
   "execution_count": 110,
   "metadata": {},
   "outputs": [],
   "source": [
    "all_comments.sort(key=lambda x : -len(x) )"
   ]
  },
  {
   "cell_type": "code",
   "execution_count": 111,
   "metadata": {},
   "outputs": [
    {
     "name": "stdout",
     "output_type": "stream",
     "text": [
      "##PINKIE123\n",
      "https://discussion.theguardian.com/comment-permalink/comment-144375212\n",
      "https://profile.theguardian.com/user/id/15834048\n",
      "\n",
      "Great that someone has finally looked at Covid from a philosophical perspective, because it is a philosophical phenomenon as much as an empirical reality.\n",
      "There are three main philosophical perspectives that must be brought to bear. \n",
      "1) The *theology* of data. Over the past several decades, something odd has happened to science. Hume and Locke would, as Jenkins points out, have seen empiricism as a technique. That is not how we see empiricism today. Instead, we imagine information to be a property of the universe. If I measure an object with a ruler as 3cm long it is indeed 3cm long. However, the 3cm is not inherent to the object. It is humans who create the rule and bring it to the object for various human purposes. The rule and the object are not the same. \n",
      "Today, we think about everything in terms of data to the point of thinking that data is an actual quality of physical reality. We measure everything, including things which it makes no sense to measure: progress, quality, achievement, happiness. There is not a unit of happiness. It does not exist in bits. But neither does even the physical world. A PCR Covid test is not black and white. A sample is identified as positive or negative based on the number of times small segments of the genetic material are amplified to detect the virus — and whether this number falls below or above a certain threshold. When a lot of virus is present, only need a few cycles of amplification are needed. When there isn’t much virus, or there’s none, the sample must be amplified several more times until finally we cross the threshold. But the thing is the threshold is not there for us to discover - we apply it.\n",
      "Nonetheless, we imagine data speaks for itself. We factor it into algorithmic models to predict human behaviour, which cannot be possibly be quantified. And as viruses live in people, the models of people like Neil Ferguson take them ever further away from reality as they attempt to measure the unmeasurable.\n",
      "Why do we think this? Because of ideas of markets, of people and computers have got mixed up into something almost like a religion. Ideas of markets as giant information processors, and by extension people as computers, have found their way into the physical sciences, psychology and almost everything else. \n",
      "2) Biopolitics or Biopower. In applying scientific concepts to things, we assert authority over them. Foucault’s insight was that in the modern world knowledge is power and particularly biomedical knowledge. This he called biopolitics: a form of power that has the body as its central object. When institutionalised, biopolitics becomes a form of governmentality. Therefore, there is no clear line dividing science from politics. In today’s world where biotechnology, medicine and health are the basis for powerful markets, NGOs, surveillance infrastructures and behavioural discourses, this is more the case than ever. Prior to Covid, there were already prevailing discourses of contagion: ‘safe spaces’, social problems describes as ‘epidemics’, ‘toxic masculinity’, ‘contaminated’ political parties, detoxes’, ‘things going ‘viral’. \n",
      "Third, the law. Under Covid, a public health emergency is used to justify what political theorist Giorgio Agamben terms a ‘State of Exception’. Simply explained, the SOE occurs when a state seizes a crisis as an opportunity to suspend the constitutional legislature, giving itself power that could not be made to seem justifiable in ordinary conditions. If I threaten to take away your rights because you are black or homosexual, that would appear outrageous and would not be possible in a nominal liberal democracy. However, if I take them away in the name of protecting you and the the public from terrorists or a virus, my purported reasoning is difficult to challenge. Once a state of exception is invoked, argues Agamben, it transcends its own definition as exceptional, becoming a new norm. The most extreme example of The State of Exception is the rise of the Nazis following the Reichstag Fire. A more recent one is the post 9/11 security state. In the war against terror, torture, rendition, extended detention without trial and other measures previously deemed unacceptable became legitimised as new norms. \n",
      "With Covid, the cult of data and the algorithm, the governing paradigm of infection, biopolitics and the state of exception all converge.\n",
      "\n",
      "##NOTHERNGUARDIAN\n",
      "https://discussion.theguardian.com/comment-permalink/comment-144375543\n",
      "https://profile.theguardian.com/user/id/103983764\n",
      "\n",
      "\"MPs were also shown early research by Public Health England suggesting that bars, pubs and restaurants accounted for 41% of cases in which two or more under-30s had visited the same venue in the week before testing positive.\"\n",
      "I honestly think we're at a point now where in the nicest way possible, pubs/bars/clubs can do one. They had their chance to do things. They failed. We're a worse off society for the mass consumption of alcohol in regular times. Right at this moment in time, it is the number 1 means of transmission. Covid is the virus people will get, but without the behaviour of people on nights out it would be considerably less successful. \n",
      "The idea that there are pub owners saying 'show me the evidence' is just ridiculous. I haven't walked past a single pub in the evening where there's been even 50% adherence to social distancing. Masks are nowhere to be seen anywhere past about 8pm. They know. They don't need to see evidence. I'm assuming you need to have a certain level of mental competence to run one of these places, and anyone capable of coherent thought knows that lots of drunk people gathered together in one place will spread the virus. Even if they wanna pretend otherwise.\n",
      "Same goes for people out drinking. They know full well what they're doing is making things worse. They just don't care.\n",
      "I'm sick of this alcohol obsessed nonsense. This defence of it as if it is some inevitable part of society. It's not. It's a drug. These establishments are drug dealers. It's excusable when you're a teenager to get hammered in public. Past that point, go swimming. And the establishments enabling this, go fall into bankruptcy.\n",
      "We don't need some masterplan. We need to close the places that allow people to meet up to get drunk together. We need to put a ban on alcohol consumption in public. We need to put a ban on public intoxication. And then we need to get on with life with covid safety measures in place and wearing masks when you can't socially distance.\n",
      "Oh and make the fines life-changing. At least £1000 for first time fines. No warnings.\n",
      "\n",
      "##SACCO\n",
      "https://discussion.theguardian.com/comment-permalink/comment-144375161\n",
      "https://profile.theguardian.com/user/id/363027\n",
      "\n",
      "Isn't it depressing when you already know before reading an article exactly which credibility-free contrarians will be cited. Heneghan has been (self-)publishing a stream of embarrassing and excruciatingly wayward contrarian takes in the \"the statistics are exaggerated and it's all a hysterical over-reaction\" since very early on in the pandemic, as I pointed out here already in June (together with some —more than it merits— discussion of specific details of what makes it such egregious nonsense). This tired old phenomenon is why I dubbed him the \"Patrick Minford of COVID\".  Have we not yet learned that when the same tiny rosary of sources must be trotted out endlessly to support a Strong Opinion —sources with, to boot, nothing that would normally be recognised as evidence or solid arguments for their case; sources with a record of being dramatically wrong on their special obsessions— then it doesn't mean they are plucky maverick challenging received wisdom?: it normally means they are hopelessly disconnected from reality and the only reason you are hearing from them is because they are saying something which somebody in a powerful position finds it convenient to hear. \n",
      "Jenkins apparently hasn't! \n",
      "Read this (Heneghan) article Mr Jenkins! Please try to work out and understand why it is abject nonsense before basing another article around this dangerous rubbish. Oh, but I'm forgetting, you don't do  Mathematics...\n",
      "OK, try looking up what Gupta was saying about herd immunity back in May and June: how have those assertions panned out? See if you can figure out why other leading workers in the field make comments on her work like:\n",
      "\n",
      "\"The whole premise of this model is flawed … There is absolutely no evidence currently to support this theory.\"\n",
      "\n",
      "##HAWKFISH\n",
      "https://discussion.theguardian.com/comment-permalink/comment-144375002\n",
      "https://profile.theguardian.com/user/id/14720730\n",
      "\n",
      ">>>Imperial College London continued to champion lockdown. Its Office for National Statistics-based React study even backed the rule of six.\n",
      "That makes no sense. If we're able to meet in groups of six, we're not in anything that could be called a lockdown. There may be no consensus on what level of restrictions add up to lockdown but any working definition of lockdown includes a prohibition on visiting, not instructions on how to do it.\n",
      ">>>At that point I think I joined many lockdown sceptics in floundering.\n",
      "That's because you're still talking about a simplistic dichotomy of being in full lockdown or having no restrictions at all. The sensible conversations have moved on to talking about what restrictions are necessary and where they need to be applied. It's a much more complicated conversation that doesn't lend itself to tantrums against tyranny but it's the conversation that matters right now.\n",
      "None of which means that I think the government have actually got it right. The best way to keep the restrictions to a minimum would be the promised world-beating contact tracing system that would enable the restrictions to be focused and to contain outbreaks as they happen. The government has delivered that with the panache it practiced when it delivered a ferryless ferry company.\n",
      "But while Mr Jenkins's columns constantly rail against the scientists trying to make best use of the data they have, they never seem to mention the abject failure of the system that's supposed to be providing the data they need to make better decisions.\n",
      "\n",
      "##GHOTIFACE\n",
      "https://discussion.theguardian.com/comment-permalink/comment-144374784\n",
      "https://profile.theguardian.com/user/id/15275475\n",
      "\n",
      "The main trouble is that to a large extent, there is not any settled science or reliable expertise that we can easily apply to this situation....\n",
      "either about this virus or about how to deal with a Pandemic....\n",
      "some people may have thought that we had a plan for this but if they are honest they must be realising that it was just not thought through or comprehensive enough, especially with all the so difficult to evaluate human and economic factors that complicate any action.\n",
      "I have some sympathy with politicians now because they are in the position of having to put into place strategies, which balance the risk to not just public health from the virus, but general physical and mental health, along with all the economic issues and are not allowed to admit that they really are just guessing and hoping they are setting a reasonable course...\n",
      "But basically at the moment, I'm sure they are working on the assumption that if they prevent the Pandemic spread and death rate from exploding again for the next few months, then a vaccine will be along to eventually control this for us...\n",
      "this may be a very dangerous assumption itself and of course if the imposed lockdowns causes almost as much damage as the virus itself may have done, then you might question whether this has been anything like the ideal strategy, but really and truly at the moment, you just pays your money and takes your choice on how we go about this and anybody who claims to know otherwise is really being dishonest, disingenuous or just plain daft.\n",
      "\n",
      "##PINKIE123\n",
      "https://discussion.theguardian.com/comment-permalink/comment-144375847\n",
      "https://profile.theguardian.com/user/id/15834048\n",
      "\n",
      "Well, you might call it reality; but what it means is that liberalism is dead. There cannot be a biopolitical liberalism. There can be no equality before the law. There can be no free movement. There can be nothing.\n",
      "Gramsci write that ‘The crisis consists precisely in the fact that the old is dying and the new cannot be born; in this interregnum a great variety of morbid symptoms appear.’ Well, Trump is a creature of the interregnum; he is not the new. He is certainly a morbid symptom though. The fact that someone like this is in power saying all these outrageous things is a sign that something has gone terribly wrong. But Trump symbolises the collapse of liberal politics. He has noting to replace it with.\n",
      "There is no chance, as some liberals believe, of Trump imposing a programmatic neofascist order. He has no belief system. His politics such as they are appear a vague pastiche of New Deal industrialism and Gilded Age capitalism that suggest empty nostalgia. He’s a total idiot. What you have to understand about the totalitarian regimes of the twentieth century is that they were highly organised, bureaucratic and technoscientific. The Nazi regime amounted to a lot more than some paramilitary thugs. \n",
      "The point is this: a post-liberal social order is being constructed, and many people identify that with Trump, or Brexit. But it won’t be like that. All that is just noise. It will be something else, and I think some kind of biosecurity state could be it. This could be the post-liberal formula.\n",
      "\n",
      "##WOOLWICH\n",
      "https://discussion.theguardian.com/comment-permalink/comment-144375946\n",
      "https://profile.theguardian.com/user/id/3072366\n",
      "\n",
      "The whole thing is that we need to know the facts. The vaccine may not come. The treatments are definitely improving all the time . Not surprising considering the brains at work on that. There is also a growing consensus on how best to strengthen our immune systems to deal with it. We know the at risk groups. That is no longer a mystery.Lockdowns will destroy our economy and that will lead to God knows what. Chaos on an unimaginable scale. The best estimate now of the Infection fatality rate is around 0.30 to 0.49% . We know this and it is not going to increase unless the virus radically alters which is I suppose a possibility. . Rather the more we test the more it will probably decrease. The peak IFR was 0.56% and that included the dreadful care home deaths. Source ONS. The failure of the NHS to treat other conditions is alarming. I know nobody who has had covid but I know two people well who have been badly affected by this. One is facing a wheelchair now as her operation has been cancelled sine die., .The other is facing serious problems and was only treated after his daughter made a real fuss. And I mean a real fuss. The GPs have shut up shop. My generation is on it's own and we know it. That is something this country has never experienced. In addition the jobs are vanishing at a rate not seen since 1929. We need a grown up debate. Johnson and the rest are inacapable of having it and must make way. As I saoid Starmer looks the part and could rise to the occasion. Somebody needs to.\n",
      "\n",
      "##MOZARTKUGELN\n",
      "https://discussion.theguardian.com/comment-permalink/comment-144376326\n",
      "https://profile.theguardian.com/user/id/18301742\n",
      "\n",
      "The Spanish flu pandemic had three waves: the second was stronger than the first, but the third was a bit weaker. Then it disappeared. We might get a vaccine before the third wave but not before the second. We have the advantage over our ancestors in that we know more about how it is spread and our counter-measures to alleviate the effect are more sophisticted. Provided we follow basic 'common sense' (dare I say it) measures we can reduce the spread to something manageable. We can make compromises that ensure that public health and social/economic considerations can be balanced to an extent. However if people are not willing to follow sensible precautions and minimise social contact then the virus will run riot. Offices - many can work from home. Schools are important, but not every pupil has to attend physically. Universities are important but can surely manage with mostly online teaching and learning. Pubs and restaurants are non-essentials, luxuries if you like: governments can miimise economic hardship temporarily. Likewise, large family gatherings. People have to grit their teeth and try to survive the winter, rather like a short bout of imprisonment. But if there are those who think they can have some semblance of normality and so ignore guidelines, then they show total ignorance of the overwhelming power of the virus. And to a large extent that is why we find ourselves here.\n",
      "\n",
      "##JOEROBSON\n",
      "https://discussion.theguardian.com/comment-permalink/comment-144374770\n",
      "https://profile.theguardian.com/user/id/101840578\n",
      "\n",
      "The problem is the same as the problems of government since Thatcher..... they ALL have tried to manage the minutiae from 10, Downing Street. Just look at the mess they have made of education, twisting and turning teachers and pupils lives because the latest SoS for Education has a bright idea (unfounded) which the next SoS changes again, and so on.\n",
      "Let's approach it in the most localised way possible ....\n",
      "First, EVERY business and organisation has to write its own anti-covid policy, in loine with guidance from central andf local government. If local government planners consider it sound, then each establishment's plan is put on public view. As long as they are sticking to the approved licence, they can continue to operate. BUT if there is a transgression, then they lose their licence to trade .... NOT the same business next door who can continue trading as long as they trade safely on the tems of their own licence.\n",
      "This would bring both the businesses, and the public to confront the issues on a personal basis. After all, which business wants to put itself out of business, when it affects only themselves?\n",
      "No national lockdowns, no businesses halted per se, and incidentally, no government compensation if you put yourself out of business!\n",
      "Fair, keeps the economy going, ensures 100% compliance, and does away with the \"I can get around this\" attitude.\n",
      "\n",
      "##BRINGBACK2015\n",
      "https://discussion.theguardian.com/comment-permalink/comment-144375962\n",
      "https://profile.theguardian.com/user/id/104487507\n",
      "\n",
      "What an embarrassing start to this article.\n",
      "\"I noted the virus as it peaked in April, turning down whether of its own accord or through government policy no one seemed to know. It abated in May and lockdown eased over the summer. It has now picked up again and is clearly rising, but again no one says why.\"\n",
      "It's not rocket science, the virus was brought under control by the lockdown in March, it then resurfaced in slightly greater numbers when that was eased and exploded when all those outdoor meetings where the sun inhibited Covid; beachs, parks and what not became indoor meetings, pubs, schools, restaurants during the colder weather. Sunak's encouragement to eat out was probably the single most stupid decision this government has made in a long, long list of sometimes stupid and sometimes self-serving decisions that have cost peoples their lives.\n",
      "At least the article gets better.The idea that the tories are being led by the science is as far-fetched as it is stupid. And that's even if you ignore the Times story about top tories constituencies and marginals being treated differently to the rest of the country despite often having worse figures. We have a government that cannot produce the science behind the decisions because there simple isn't any science behind their decisions. It's on the hoof.\n",
      "Angry doesn't cover it.\n",
      "\n",
      "##BILLCO14\n",
      "https://discussion.theguardian.com/comment-permalink/comment-144374899\n",
      "https://profile.theguardian.com/user/id/12725809\n",
      "\n",
      "This whole situation is more than complex. It's impossible to plot a course which doesn't burn somebody's fingers. \n",
      "Nicola Sturgeon has made it clear since the end of June, when the case numbers had flattened, that her top priority was to get the schools open and keep them open. At the same time the Scottish NHS's priority was to catchb up on delsyed treatments. \n",
      "She therefore, in the current circumstances of sharply increasing cases and rising hospitalisations, has to take corrective action. Success in controlling the virus is dependent on everyone doing their bit and following the guidelines. I blame the media for undermining the public health messages and envouraging confusion which adds to dissent in some of the population. The BBC in Scotland are especially guilty of this. Take tonight's Reporting Scotland news programme where I lost count of the number of times they used the words 'confusion' and 'confusing' when discussing the latest measures. There is nothing confusing about the measures. It is as though the BBC in Scotland has an ulterior motive. Some would say they are in fact being mendacious,\n",
      "Nicola Sturgeon is working her socks off and has been at the helm since day one. I fear for her health.\n",
      "\n",
      "##CLABALLIA\n",
      "https://discussion.theguardian.com/comment-permalink/comment-144375351\n",
      "https://profile.theguardian.com/user/id/100141852\n",
      "\n",
      "I don't get it.\n",
      "I wish people who support the herd immunity strategy would just say, older people and vulnerable people can just fuck off and die.\n",
      "At least have the honesty to say that. Survival of the fittest.\n",
      "Vulnerable people live in the community. They have kids at school. They have partners who are key workers. In Wuhan when the virus was everywhere the place was saturated with covid. They had to disinfect streets etc. Likewise in Northern Italy.\n",
      "Plus re younger people.\n",
      "Some die. Some get long covid and who knows the long term implications of that?\n",
      "Who knows the long term implications of contracting covid?\n",
      "People waiting for a cancer diagnosis etc, people not getting services re covid.\n",
      "How are they going to receive services or cancer diagnosis etc, if the health system is completely overrun and doctors are deciding who lives and dies.\n",
      "There looks like being a vaccine soon. There looks like being better treatments soon. \n",
      "In a study of US cities re the 1918 flu epidemic, the cities that locked down and saved as many of their citizens as possible recovered better mentally and economically and quicker than those that did not.\n",
      "\n",
      "##DEIBITTTO\n",
      "https://discussion.theguardian.com/comment-permalink/comment-144375823\n",
      "https://profile.theguardian.com/user/id/4503913\n",
      "\n",
      "Not read comments yet and expect you're getting flayed here for this but it's a good article. \n",
      "Most modern political policy is justified through what is essentially a holistic utilitarianism. That's understandable as it's really the only way to get a social contract to hold.\n",
      "The difficulty is it doesn't work well with absolute principles. For instance I fall back to some extent on my \"red lines\" of certain rights such as right to see family that I feel no policy should breach. But the reality is there is a level of threat to life that I'd compromise that for.\n",
      "Which means whatever we do we come back to the models, the probabilities, the values we place on things, and the risks we perceive. So we do need the input of the scientists and to be constantly updating that input to make sure it is as accurate as possible. \n",
      "But the end judgement is an ethical one. The politicians need to address the tail risks which are great in either direction and be clear about how and why they are coming to the judgements they are. Unfortunately we have a government guided entirely by opinion polling so fat chance of that.\n",
      "\n",
      "##HAK_A_DALAN\n",
      "https://discussion.theguardian.com/comment-permalink/comment-144374591\n",
      "https://profile.theguardian.com/user/id/102070198\n",
      "\n",
      "I agree that the reasoning behind all policy decisions needs to be clearly articulated. This is true for all times, and not just now. There needs to be an acknowledgment of the unknowns, the criteria upon which choices are made, an articulation of the long term goal and a clear statement of what mitigating actions will be in place for those that may suffer as a result of the decisions taken.\n",
      "This would require treating people as adults, setting out a clear strategy in an open and honest manner. However, for Johnson in particular, this would be a challenging departure from the normal way of treating the electorate. The problem for Johnson, especially, is that to deal with Covid requires a tidy mind. One capable of seeing a coherent strategy, harnessing the bureaucratic resources available and committing to the arduous administrative slog.\n",
      "There is a fundamental lack of political honesty within the UK. There is no political trust. There is no political co-operation. The UK is a house divided. That is why the UK is doomed to have a very bad pandemic. It is not by accident that this is happening.\n",
      "\n",
      "##STENDEC341\n",
      "https://discussion.theguardian.com/comment-permalink/comment-144376140\n",
      "https://profile.theguardian.com/user/id/16353974\n",
      "\n",
      "It’s understandable that everyone wants to return to normality. It’s even understandable that some people prioritise the economy over Covid-19, if they haven’t been touched by its effects. What’s not so understandable is some of the Covid-19 deniers with a platform, using their platform to peddle their irresponsible and dangerously deceitful opinions. Science isn’t split - unless you want to call it a split 99.99to 0.01%. If you can’t draw the right conclusions from that ‘split’ then you are in full Trumpian mode.Covid 19 likes confined spaces where it can spread through the air - loud talking and lack of distancing aid it, it doesn’t pay attention to the time of day or to the time of season, and a bit like nuclear fission, a high concentration of suitable material leads to a chain reaction that is very difficult to stop. Once the hospital beds are full and there is not enough medical care to go round you’ll see deaths across a wider bracket of ages.. it won’t just be the old and vulnerable. And where will you be then? Keeping your opinions quiet I suppose - that’s what people like you do.\n",
      "\n",
      "##NONEVERNOTUNTRUE\n",
      "https://discussion.theguardian.com/comment-permalink/comment-144376279\n",
      "https://profile.theguardian.com/user/id/102055265\n",
      "\n",
      "great post!A couple of things about point 1. Since the dominant models in physics and psychology are probabilistic, doesn’t it make sense to apply probability to the universe and behaviour? You are right about the problem of measurement, all we can do is produce logical systems, such as mathematics, and use these to produce systems of measurement that we can associate with our understanding of things outside our own brains. Thus, science and empirical knowledge developed. However, the measurements, models, thresholds etc are not chosen willy-nilly, they are chosen for their predictive value, over time. The test you talk about has predicted who will go on to get Covid many times in the past. So, for medicine and physics, and the sciences, the focus on data is appropriate. Society, on the other hand, is a construct with little relation to the world of reality. Societies have a choice about how they construct their power relations. The sirens paradigm in economics is fundamentally flawed etc. The second two points, I don’t have the language to decode.\n",
      "\n",
      "##PUMUCKLMAN\n",
      "https://discussion.theguardian.com/comment-permalink/comment-144375007\n",
      "https://profile.theguardian.com/user/id/103329237\n",
      "\n",
      "...\"until the probability drops under 1.\"\n",
      "Ideally the R is below one. I do not see this in the near future for the UK (neither, in the short run, for Germany). You know how they agree on \"an R\" in some SAGE subcommittee, to be filtered again through SAGE: not to be trusted.\n",
      "Test positivity rate is also interesting. I did not find UK test positivity numbers published but inferring a test positivity rate from \"daily test results total\" and \"daily test results positive\", with the exponentially rising UK infections numbers that positivity rate might have reached double digits in the UK (that can also be \"caused\" by switching from random testing to targeted testing whilst keeping the total test number constant)\n",
      "Growth/growth rate of active infections are also interesting parameters, as are growth/growth rate of the incidence numbers (might have to use 7-day rolling averages on these to even out spikes).\n",
      "UK numbers should be big enough now to play around with all these parameters, sadly.\n",
      "\n",
      "##WOOLWICH\n",
      "https://discussion.theguardian.com/comment-permalink/comment-144375186\n",
      "https://profile.theguardian.com/user/id/3072366\n",
      "\n",
      "But Johnson and the rest will not level with us. Nobody has yet come clean. That is in power. The economy is not an abstract thing. It is not a philosophical argument point. It is the way we humans exist on this earth. It is our ecosystem . The birds build nests. The beaver builds a dam. The spider spins a web. Every living thing exists this way. It create the means by which it lives. That is what an economy is and we have shut it down . In a panic and without thinking things through. We need to be told the choices and soon., There is little time left. The natural world is unforgiving in that it makes no allowances for our desires or needs. The death rate for this virus is fortunately very low. Very low for the young but not so low for my cohort. The infection rate which is also mainly asymptomatic is as it is and does seem to reflect the number of tests done. Somehow we have to get a way out of this. Another lockdown will lead to disaster . That is not a political view but a reality.\n",
      "\n",
      "##NONEVERNOTUNTRUE\n",
      "https://discussion.theguardian.com/comment-permalink/comment-144375815\n",
      "https://profile.theguardian.com/user/id/102055265\n",
      "\n",
      "We’re in a halfway house, aren’t we? The strategy still appears to be to slow the advance of the virus. As dePiffle-Waffle says - flatten the sombrero by playing whack a mole. This isn’t a viable strategy. Like aiming to half win a war, or come 4th in the semi-final of the 100m. This is perhaps because our leaders couldn’t make up their minds - herd immunity or total war on the virus. The balance of economic damage argument is a red herring, it’s either let it rip or try your best to get rid of it, allowing it to continue in the medium to long term will cost as much or more than going for zero Covid. With a zero Covid strategy, we probably wouldn’t get there - especially with the bunch of incompetent know-nothings we have in power, but the tactics that would be adopted would be effective, rather than a middle. The lockdown came too late, the test, track, trace system is a half-arsed, ideologically driven joke etc, all a result of deciding to half-deal with Covid.\n",
      "\n",
      "##FOSTER6THE6IMPOSTER6\n",
      "https://discussion.theguardian.com/comment-permalink/comment-144376372\n",
      "https://profile.theguardian.com/user/id/3715976\n",
      "\n",
      "I meant to be one of the 0.5% bumped off for the greater good.\n",
      "\n",
      "But that is not the point. Everyone who favours letting the virus do its thing (and sheilding those you can), accepts as a matter of logic that they will be at elevated risk (because that almost certainly follows as a result of such a policy). \n",
      "However, they are also saying that within their value system (which you don't have to agree with), living with some risk is a price they are prepared to take. \n",
      "Predictably you may say \"what about the others they put at risk\" (yawn). Well, no one can be gauranteed safety from others beyond what is reasonable to ask others to do. Some think there lives ought not be destroyed so that some will be safe. That too is a matter of values. We do not turn our whole society upside down to save people from all sorts of risks. Some we face. \n",
      "This is because living, is about more than just staying alive. The science doesn't decide where that balance lies. We have to .\n"
     ]
    }
   ],
   "source": [
    "print( '\\n\\n'.join(all_comments[:20]) )"
   ]
  },
  {
   "cell_type": "code",
   "execution_count": 18,
   "metadata": {},
   "outputs": [
    {
     "name": "stderr",
     "output_type": "stream",
     "text": [
      "[nltk_data] Downloading package vader_lexicon to\n",
      "[nltk_data]     /home/gregmcshane/nltk_data...\n",
      "[nltk_data]   Package vader_lexicon is already up-to-date!\n"
     ]
    }
   ],
   "source": [
    "#https://towardsdatascience.com/sentimental-analysis-using-vader-a3415fef7664\n",
    "\n",
    "import nltk\n",
    "nltk.download('vader_lexicon')\n",
    "\n",
    "from nltk.sentiment.vader import SentimentIntensityAnalyzer\n",
    "\n",
    "sid = SentimentIntensityAnalyzer()"
   ]
  },
  {
   "cell_type": "code",
   "execution_count": 22,
   "metadata": {},
   "outputs": [],
   "source": [
    "a = '''My views haven't changed. Leaving the EU will be of no benefit to anyone except those who hold money and power along with certain corporates and a smidgen of medium to small businesses.\n",
    "How else can it be when you are shutting shop to the most developed nations, the richest nations in the world, who are either in the EU or have market agreements with the EU. Even the emerging markets of China and India along with other developing economies are aspiring to develop trading agreements with the EU, the second largest economy in the world. Any deal with the UK will be secondary and will depend upon their agreement with the EU.\n",
    "Boris Johnson once said \"f**k business\". I take this as meaning there is something in it for them and they don't really care if businesses find it difficulA\n",
    "t to cope.\n",
    "I can see ministers and conservative MPs queuing to fill their pockets by acting as advisors for potential trade deals whilst the rest of the country are left struggling trying to rebuild their lives, especially following the pandemic. The same ministers will probably be looking to lower all kinds of standards from food and welfare to safety at work to improve their opportunities.\n",
    "When it comes to brinkmanship, I can only view this as getting away with whatever they can. I do not believe it is anything to do with negotiating an agreement that will be to the benefit of the UK or the EU as a whole, I don't believe our ministers are capable of doing that.'''"
   ]
  },
  {
   "cell_type": "code",
   "execution_count": 24,
   "metadata": {},
   "outputs": [
    {
     "ename": "TypeError",
     "evalue": "sentiment_valence() missing 4 required positional arguments: 'sentitext', 'item', 'i', and 'sentiments'",
     "output_type": "error",
     "traceback": [
      "\u001b[0;31m------------------------------------------------------------\u001b[0m",
      "\u001b[0;31mTypeError\u001b[0m                  Traceback (most recent call last)",
      "\u001b[0;32m<ipython-input-24-6f3326dcf5de>\u001b[0m in \u001b[0;36m<module>\u001b[0;34m\u001b[0m\n\u001b[1;32m      1\u001b[0m \u001b[0msid\u001b[0m\u001b[0;34m.\u001b[0m\u001b[0mpolarity_scores\u001b[0m\u001b[0;34m(\u001b[0m\u001b[0ma\u001b[0m\u001b[0;34m)\u001b[0m\u001b[0;34m\u001b[0m\u001b[0m\n\u001b[0;32m----> 2\u001b[0;31m \u001b[0msid\u001b[0m\u001b[0;34m.\u001b[0m\u001b[0msentiment_valence\u001b[0m\u001b[0;34m(\u001b[0m\u001b[0ma\u001b[0m\u001b[0;34m)\u001b[0m\u001b[0;34m\u001b[0m\u001b[0m\n\u001b[0m",
      "\u001b[0;31mTypeError\u001b[0m: sentiment_valence() missing 4 required positional arguments: 'sentitext', 'item', 'i', and 'sentiments'"
     ]
    }
   ],
   "source": [
    "sid.polarity_scores(a)\n",
    "sid.sentiment_valence(a)"
   ]
  },
  {
   "cell_type": "code",
   "execution_count": 63,
   "metadata": {},
   "outputs": [
    {
     "name": "stdout",
     "output_type": "stream",
     "text": [
      "#**#PINK**IE123\n",
      "https://www.theguardian.com/commentisfree/2020/oct/08/johnson-and-sturgeon-will-need-a-better-philosophy-than-precaution-to-rid-us-of-covid#comment-144376158\n",
      "https://profile.theguardian.com/user/id/15834048\n",
      "\n",
      "Great that someone has finally looked at Covid from a philosophical perspective, because it is a philosophical phenomenon as much as an empirical reality.\n",
      "There are three main philosophical perspectives that must be brought to bear. \n",
      "1) The *theology* of data. Over the past several decades, something odd has happened to science. Hume and Locke would, as Jenkins points out, have seen empiricism as a technique. That is not how we see empiricism today. Instead, we imagine information to be a property of the universe. If I measure an object with a ruler as 3cm long it is indeed 3cm long. However, the 3cm is not inherent to the object. It is humans who create the rule and bring it to the object for various human purposes. The rule and the object are not the same. \n",
      "Today, we think about everything in terms of data to the point of thinking that data is an actual quality of physical reality. We measure everything, including things which it makes no sense to measure: progress, quality, achievement, happiness. There is not a unit of happiness. It does not exist in bits. But neither does even the physical world. A PCR Covid test is not black and white. A sample is identified as positive or negative based on the number of times small segments of the genetic material are amplified to detect the virus — and whether this number falls below or above a certain threshold. When a lot of virus is present, only need a few cycles of amplification are needed. When there isn’t much virus, or there’s none, the sample must be amplified several more times until finally we cross the threshold. But the thing is the threshold is not there for us to discover - we apply it.\n",
      "Nonetheless, we imagine data speaks for itself. We factor it into algorithmic models to predict human behaviour, which cannot be possibly be quantified. And as viruses live in people, the models of people like Neil Ferguson take them ever further away from reality as they attempt to measure the unmeasurable.\n",
      "Why do we think this? Because of ideas of markets, of people and computers have got mixed up into something almost like a religion. Ideas of markets as giant information processors, and by extension people as computers, have found their way into the physical sciences, psychology and almost everything else. \n",
      "2) Biopolitics or Biopower. In applying scientific concepts to things, we assert authority over them. Foucault’s insight was that in the modern world knowledge is power and particularly biomedical knowledge. This he called biopolitics: a form of power that has the body as its central object. When institutionalised, biopolitics becomes a form of governmentality. Therefore, there is no clear line dividing science from politics. In today’s world where biotechnology, medicine and health are the basis for powerful markets, NGOs, surveillance infrastructures and behavioural discourses, this is more the case than ever. Prior to Covid, there were already prevailing discourses of contagion: ‘safe spaces’, social problems describes as ‘epidemics’, ‘toxic masculinity’, ‘contaminated’ political parties, detoxes’, ‘things going ‘viral’. \n",
      "Third, the law. Under Covid, a public health emergency is used to justify what political theorist Giorgio Agamben terms a ‘State of Exception’. Simply explained, the SOE occurs when a state seizes a crisis as an opportunity to suspend the constitutional legislature, giving itself power that could not be made to seem justifiable in ordinary conditions. If I threaten to take away your rights because you are black or homosexual, that would appear outrageous and would not be possible in a nominal liberal democracy. However, if I take them away in the name of protecting you and the the public from terrorists or a virus, my purported reasoning is difficult to challenge. Once a state of exception is invoked, argues Agamben, it transcends its own definition as exceptional, becoming a new norm. The most extreme example of The State of Exception is the rise of the Nazis following the Reichstag Fire. A more recent one is the post 9/11 security state. In the war against terror, torture, rendition, extended detention without trial and other measures previously deemed unacceptable became legitimised as new norms. \n",
      "With Covid, the cult of data and the algorithm, the governing paradigm of infection, biopolitics and the state of exception all converge.\n",
      "\n",
      "#**#PINK**IE123\n",
      "https://www.theguardian.com/commentisfree/2020/oct/08/johnson-and-sturgeon-will-need-a-better-philosophy-than-precaution-to-rid-us-of-covid#comment-144375990\n",
      "https://profile.theguardian.com/user/id/15834048\n",
      "\n",
      "Well, you might call it reality; but what it means is that liberalism is dead. There cannot be a biopolitical liberalism. There can be no equality before the law. There can be no free movement. There can be nothing.\n",
      "Gramsci write that ‘The crisis consists precisely in the fact that the old is dying and the new cannot be born; in this interregnum a great variety of morbid symptoms appear.’ Well, Trump is a creature of the interregnum; he is not the new. He is certainly a morbid symptom though. The fact that someone like this is in power saying all these outrageous things is a sign that something has gone terribly wrong. But Trump symbolises the collapse of liberal politics. He has noting to replace it with.\n",
      "There is no chance, as some liberals believe, of Trump imposing a programmatic neofascist order. He has no belief system. His politics such as they are appear a vague pastiche of New Deal industrialism and Gilded Age capitalism that suggest empty nostalgia. He’s a total idiot. What you have to understand about the totalitarian regimes of the twentieth century is that they were highly organised, bureaucratic and technoscientific. The Nazi regime amounted to a lot more than some paramilitary thugs. \n",
      "The point is this: a post-liberal social order is being constructed, and many people identify that with Trump, or Brexit. But it won’t be like that. All that is just noise. It will be something else, and I think some kind of biosecurity state could be it. This could be the post-liberal formula.\n",
      "\n",
      "#**#PINK**IE123\n",
      "https://www.theguardian.com/commentisfree/2020/oct/08/johnson-and-sturgeon-will-need-a-better-philosophy-than-precaution-to-rid-us-of-covid#comment-144375990\n",
      "https://profile.theguardian.com/user/id/15834048\n",
      "\n",
      "There is a lot of projection going on with liberals. By projection I mean displacing ones own culpability onto a fetish enemy. There is a lot of projection going on generally. It’s like rather than us confronting our collective failure to protect children from forces that sexualise them we get in a state about a Netflix drama.\n",
      "The truth is, the greatest danger to, for example, open borders, is no longer Johnson, Farage, Patel or Trump - it’s liberals. It’s liberals who want to be kept safe from people coming in. \n",
      "In adopting bio-security as their core political paradigm, liberals cease to be liberals. They become the enemy they hate.\n",
      "\n",
      "#**#PINK**IE123\n",
      "https://www.theguardian.com/commentisfree/2020/oct/08/johnson-and-sturgeon-will-need-a-better-philosophy-than-precaution-to-rid-us-of-covid#comment-144375976\n",
      "https://profile.theguardian.com/user/id/15834048\n",
      "\n",
      "To me this is not a pandemic. Because a pandemic starts, peaks, subsides and is declared over after which life returns to normal. 1918-19 - total global devastation, then you put on your flapper dress and have a roaring time in a very socially non-distanced 1920s. This cannot end in that sense, because unlike them we will continue to track cases, even after there is a vaccine, and respond with more restrictions to any increase in cases. \n",
      "It is a pandemic that cannot end and therefore is not a pandemic. It’s a new way of living based on the idea that other people are potential deadly sources of disease.\n",
      "\n",
      "#**#PINK**IE123\n",
      "https://www.theguardian.com/commentisfree/2020/oct/08/johnson-and-sturgeon-will-need-a-better-philosophy-than-precaution-to-rid-us-of-covid#comment-144376194\n",
      "https://profile.theguardian.com/user/id/15834048\n",
      "\n",
      "They are signifiers. Signifiers are not the thing they signify. Wittgenstein got this right. Suppose you and I don’t want our friend to know that we are planning a surprise party for him. So instead of saying ‘party’ we say ‘pub’. I’ll see you at the ‘pub’ tonight’ I say’ winking. We’ve decided that pub means party in that context. It is a tool of communication, nothing else. It doesn’t fix its own interpretation.\n",
      "Data is the same. It doesn’t validate itself. It’s a tool we use. It isn’t floating about there like some mystical substance.\n",
      "\n",
      "#**#PINK**IE123\n",
      "https://www.theguardian.com/commentisfree/2020/oct/08/johnson-and-sturgeon-will-need-a-better-philosophy-than-precaution-to-rid-us-of-covid#comment-144376158\n",
      "https://profile.theguardian.com/user/id/15834048\n",
      "\n",
      "The thing to understand is that these regulations and restrictions are a temporary response to an emergency, to be withdrawn when the emergency subsides; they are the basis for a new paradigm of power and even a new political epoch. 1945-75 was the epoch of the post-war industrial settlement; then the late-1970s-2020 was the neoliberal era; and now we are in the bioauthoritarian epoch.\n",
      "\n",
      "#**#PINK**IE123\n",
      "https://www.theguardian.com/commentisfree/2020/oct/08/johnson-and-sturgeon-will-need-a-better-philosophy-than-precaution-to-rid-us-of-covid#comment-144376013\n",
      "https://profile.theguardian.com/user/id/15834048\n",
      "\n",
      "Stoner pmsl. \n",
      "It’s not. You might not agree but you can’t evade a real problem. If we are from now on to live under a bioauthoritarian system, you are no longer a liberal or a democrat if you support such a system. If you’re fine with that then cool.\n",
      "\n",
      "#**#PINK**IE123\n",
      "https://www.theguardian.com/commentisfree/2020/oct/08/johnson-and-sturgeon-will-need-a-better-philosophy-than-precaution-to-rid-us-of-covid#comment-144376194\n",
      "https://profile.theguardian.com/user/id/15834048\n",
      "\n",
      "What’s your point? Which bit do you have a problem with?\n",
      "My point is that this is not just a pandemic because a pandemic is something that ends. This (as in the restrictions, laws, social distancing policies) will not end. How could it?\n",
      "\n",
      "#**#PINK**IE123\n",
      "https://www.theguardian.com/commentisfree/2020/oct/08/johnson-and-sturgeon-will-need-a-better-philosophy-than-precaution-to-rid-us-of-covid#comment-144376013\n",
      "https://profile.theguardian.com/user/id/15834048\n",
      "\n",
      "It is liberals who are now the wall builders.\n"
     ]
    }
   ],
   "source": [
    "target = 'decolon'\n",
    "target = 'science'\n",
    "target = '#pink'\n",
    "\n",
    "\n",
    "xx = [x for x in all_comments if target.lower() in x.lower() and  len(x) > 20]\n",
    "yy = [x for x in all_comments if '#pin' in x.lower() and 2000 > len(x) > 20]\n",
    "\n",
    "#print('\\n\\n'.join( ['\\n\\n'.join(x) for x in zip(xx,yy)])  )\n",
    "\n",
    "\n",
    "#print( '\\n\\n'.join(xx).replace(target, ) )\n",
    "pxx = re.compile(target, re.I)\n",
    "print( pxx.sub('**' + target.upper() + '**', \n",
    "              '\\n\\n'.join(xx)) )\n",
    "               \n",
    "#print( '\\n\\n'.join(xx) )\n"
   ]
  },
  {
   "cell_type": "code",
   "execution_count": 29,
   "metadata": {},
   "outputs": [
    {
     "data": {
      "text/plain": [
       "36"
      ]
     },
     "execution_count": 29,
     "metadata": {},
     "output_type": "execute_result"
    }
   ],
   "source": []
  },
  {
   "cell_type": "code",
   "execution_count": null,
   "metadata": {},
   "outputs": [],
   "source": []
  }
 ],
 "metadata": {
  "kernelspec": {
   "display_name": "NLPkernel",
   "language": "python",
   "name": "nlpkernel"
  },
  "language_info": {
   "codemirror_mode": {
    "name": "ipython",
    "version": 3
   },
   "file_extension": ".py",
   "mimetype": "text/x-python",
   "name": "python",
   "nbconvert_exporter": "python",
   "pygments_lexer": "ipython3",
   "version": "3.6.5"
  }
 },
 "nbformat": 4,
 "nbformat_minor": 2
}
