{
 "cells": [
  {
   "cell_type": "raw",
   "metadata": {},
   "source": [
    "# Basic scraping for Guardian discussions u"
   ]
  },
  {
   "cell_type": "code",
   "execution_count": 1,
   "metadata": {},
   "outputs": [
    {
     "name": "stdout",
     "output_type": "stream",
     "text": [
      "[master 01b461f] web\n",
      " 1 file changed, 2373 insertions(+), 1017 deletions(-)\n",
      " rewrite guardian comments scraper.ipynb (61%)\n",
      "remote: Support for password authentication was removed on August 13, 2021. Please use a personal access token instead.\n",
      "remote: Please see https://github.blog/2020-12-15-token-authentication-requirements-for-git-operations/ for more information.\n",
      "fatal: unable to access 'https://github.com/macbuse/GUARDIAN.git/': The requested URL returned error: 403\n"
     ]
    }
   ],
   "source": [
    "! ./.g\n"
   ]
  },
  {
   "cell_type": "code",
   "execution_count": 59,
   "metadata": {},
   "outputs": [],
   "source": [
    "with open('guardian comments scraper.ipynb','r') as fp:\n",
    "    nb = fp.read()"
   ]
  },
  {
   "cell_type": "code",
   "execution_count": 60,
   "metadata": {},
   "outputs": [],
   "source": [
    "import re\n",
    "\n",
    "pp = re.compile(\"(https://www.the.*?)'\")\n",
    "lks = pp.findall(nb)\n",
    "\n",
    "with open('links.txt','a') as fp:\n",
    "    fp.write('\\n'.join(lks))"
   ]
  },
  {
   "cell_type": "code",
   "execution_count": 1,
   "metadata": {},
   "outputs": [],
   "source": [
    "import re \n",
    "import requests\n",
    "import pickle\n",
    "import json"
   ]
  },
  {
   "cell_type": "code",
   "execution_count": 9,
   "metadata": {},
   "outputs": [],
   "source": [
    "article_url = 'https://www.theguardian.com/commentisfree/2020/aug/19/ditch-the-algorithm-generation-students-a-levels-politics'\n",
    "article_url = 'https://www.theguardian.com/commentisfree/2020/aug/21/joe-biden-democrat-convention-nice-guy-trump-fight'\n",
    "article_url = 'https://www.theguardian.com/commentisfree/2020/aug/23/the-cruel-exams-algorithm-has-laid-bare-the-unfairness-at-the-heart-of-our-schools'\n",
    "article_url = 'https://www.theguardian.com/commentisfree/2020/sep/01/us-mainstream-right-vigilante-terror'\n",
    "article_url = 'https://www.theguardian.com/commentisfree/2020/aug/31/politicians-covid-19-statistics-statisticians'\n",
    "article_url = 'https://www.theguardian.com/commentisfree/2021/apr/14/boris-johnson-is-telling-scotland-that-the-union-is-no-longer-based-on-consent'\n",
    "article_url = 'https://www.theguardian.com/commentisfree/2021/may/10/retail-politics-movements-polarising-projects-promise'"
   ]
  },
  {
   "cell_type": "code",
   "execution_count": 11,
   "metadata": {},
   "outputs": [],
   "source": [
    "article_url = 'https://www.theguardian.com/commentisfree/2020/sep/29/rival-scientists-lockdowns-scientific-covid-19'\n",
    "article_url = 'https://www.theguardian.com/commentisfree/2020/oct/08/johnson-and-sturgeon-will-need-a-better-philosophy-than-precaution-to-rid-us-of-covid'\n",
    "article_url = 'https://www.theguardian.com/commentisfree/2020/oct/10/continual-local-lockdowns-answer-covid-control'\n",
    "article_url = 'https://www.theguardian.com/commentisfree/2020/oct/11/the-rebel-scientists-cause-would-be-more-persuasive-if-it-werent-so-half-baked'\n",
    "\n",
    "article_url = 'https://www.theguardian.com/commentisfree/2021/apr/03/undermining-the-astrazeneca-jab-is-a-dangerous-act-of-political-folly#comment-148440261'\n",
    "article_url = 'https://www.theguardian.com/commentisfree/2021/apr/09/boris-johnson-brexit-belfast-violence-eu-good-friday-agreement'\n",
    "article_url ='https://www.theguardian.com/commentisfree/2021/apr/02/culture-war-government-race-report'\n",
    "article_url = 'https://www.theguardian.com/commentisfree/2021/mar/18/britain-sunny-vaccine-optimism-april-delivery-delay'\n",
    "article_url ='https://www.theguardian.com/commentisfree/2021/apr/14/boris-johnson-is-telling-scotland-that-the-union-is-no-longer-based-on-consent'\n",
    "article_url = 'https://www.theguardian.com/commentisfree/2021/apr/15/britain-harness-social-sciences-covid-pandemic-deprivation'\n",
    "article_url = 'https://www.theguardian.com/commentisfree/2021/apr/16/government-race-report-evidence#comment-148662066'\n",
    "article_url ='https://www.theguardian.com/commentisfree/2021/apr/20/britain-falling-birthrate-covid-pandemic-conservatives-removed-support-for-parents'\n",
    "article_url = 'https://www.theguardian.com/commentisfree/2021/apr/21/bmi-eating-disorder-pandemic-treatment'\n",
    "article_url = 'https://www.theguardian.com/commentisfree/2021/apr/30/government-delays-covid-public-inquiry-health-crisis'\n",
    "article_url = 'https://www.theguardian.com/commentisfree/2021/may/07/humiliation-hartlepool-smalltown-detective-di-starmer'\n",
    "article_url ='https://www.theguardian.com/commentisfree/2021/aug/06/uk-government-experts-vaccinating-under-16s'\n",
    "article_url = 'https://www.theguardian.com/commentisfree/2021/aug/01/there-is-a-case-for-vaccine-passports-but-ministers-are-failing-to-make-it'\n",
    "article_url = 'https://www.theguardian.com/commentisfree/2021/aug/09/america-is-flying-blind-when-it-comes-to-the-delta-variant'\n",
    "article_url = 'https://www.theguardian.com/commentisfree/2021/aug/10/covid-vaccines-britain-scientific-solution-jabs'\n",
    "article_url = 'https://www.theguardian.com/commentisfree/2021/aug/13/denial-anti-vaxxers-climate-sceptics'\n",
    "article_url = 'https://www.theguardian.com/commentisfree/2018/apr/11/bbc-andrew-neil-media-politics'\n",
    "\n",
    "article_url = 'https://www.theguardian.com/commentisfree/2021/aug/15/vaccine-passports-are-less-a-threat-to-liberty-than-a-mark-of-solidarity'\n",
    "article_url = 'https://www.theguardian.com/theobserver/commentisfree/2021/aug/14/will-we-reach-herd-immunity-for-the-new-coronavirus'\n",
    "article_url = 'https://www.theguardian.com/commentisfree/2021/aug/15/vaccine-hesitancy-broken-relationship-state-conspiracy-theorists'\n",
    "article_url = 'https://www.theguardian.com/commentisfree/2021/aug/17/dominic-raab-news-foreign-secretary-taliban-kabul'\n",
    "article_url= 'https://www.theguardian.com/commentisfree/2021/dec/11/so-which-of-these-politicians-is-a-neoliberal-not-one-of-them'\n",
    "\n",
    "article_url = 'https://www.theguardian.com/commentisfree/2021/dec/12/omicron-is-sneaky-it-could-be-fatal-for-us-or-for-our-faith-in-government'"
   ]
  },
  {
   "cell_type": "code",
   "execution_count": null,
   "metadata": {},
   "outputs": [],
   "source": [
    "\n",
    "\n",
    "key = my_keys.keys['guardian']"
   ]
  },
  {
   "cell_type": "code",
   "execution_count": 12,
   "metadata": {},
   "outputs": [
    {
     "name": "stdout",
     "output_type": "stream",
     "text": [
      "/p/kvf22\n",
      "getting comments page no. 1\n",
      "there are 5 pages\n",
      "getting comments page no. 2\n",
      "getting comments page no. 3\n",
      "getting comments page no. 4\n",
      "getting comments page no. 5\n",
      "archiving to kvf22.pkl\n"
     ]
    }
   ],
   "source": [
    "#scrape the page and get the short url\n",
    "# 15/8/21  this failed and gave /p/temp\n",
    "short_url_pp =  re.compile('\"shortUrlId\":\"(.*?)\"')\n",
    "\n",
    "r = requests.get(article_url)\n",
    "mm = short_url_pp.search(r.text)\n",
    "short_url = mm.group(1)\n",
    "uu = r.text\n",
    "print(short_url)\n",
    "\n",
    "#the short url allows us to access the discussion\n",
    "# 15/8/21 api.nextgen.guardianapps.co.uk/discussion/ failed on \n",
    "# https://discussion.theguardian.com/discussion-api/discussion/p/tfmxg\n",
    "comments_url = 'https://api.nextgen.guardianapps.co.uk/discussion/%s.json'%short_url\n",
    "params = {'orderBy' : 'newest',\n",
    "          'pageSize' : 25,\n",
    "          'displayThreaded' : 'true',\n",
    "          'commentsClosed' : 'false',\n",
    "          'page' : '',\n",
    "          'maxResponses' : 50\n",
    "         }\n",
    "\n",
    "json_data =  []\n",
    "start_page  = 1\n",
    "last_page = None\n",
    "\n",
    "\n",
    "for num_page in range(start_page, 10**4):\n",
    "    print('getting comments page no.', num_page)\n",
    "    params['page'] = num_page\n",
    "    r = requests.get( comments_url, params=params)\n",
    "    json_data.append( r.text)\n",
    "    #The last page is a field in the json object\n",
    "    #I don't need to read this as json I could do a regexp\n",
    "    if num_page == start_page:\n",
    "        json_dict = json.loads(r.text)\n",
    "        last_page = json_dict['lastPage']\n",
    "        print('there are %d pages'%last_page)\n",
    "    if num_page == last_page : break\n",
    "        \n",
    "\n",
    "fn = '%s.pkl'%short_url.split('/')[-1]\n",
    "print('archiving to %s'%fn)\n",
    "with open(fn,'wb') as fp:\n",
    "    pickle.dump(json_data,fp)"
   ]
  },
  {
   "cell_type": "code",
   "execution_count": 3,
   "metadata": {},
   "outputs": [
    {
     "name": "stdout",
     "output_type": "stream",
     "text": [
      " 8djv8.pkl        gn7h4.pkl                            links_2020_8.txt\n",
      " 94f6b.pkl        goose_test_editorialis_miner.ipynb   links.txt\n",
      " afuahirsch.csv  'guardian api and comments.ipynb'     matplotlib.ipynb\n",
      " edt72.pkl        guardian_api_prod.ipynb              \u001b[0m\u001b[01;35mNone0000000.png\u001b[0m\n",
      " eghyd.pkl       'guardian comments scraper.ipynb'     owen-jones.csv\n",
      " egqhf.pkl        guardian_extractor.ipynb             quad_forms.ipynb\n",
      " ej7f5.pkl        guardian_nlp.ipynb                   README.md\n",
      " ejdxt.pkl        guardian_photo.ipynb                 tbca8.pkl\n",
      " et8zg.pkl        h2tzt.pkl                            tdvxp.pkl\n",
      " etenk.pkl        h44zn.pkl                            te5tn.pkl\n",
      " eyhx8.pkl        h452h.pkl                            tedzk.pkl\n",
      " eytkx.pkl        h4cq2.pkl                            tfmxg.pkl\n",
      " f3ke9.pkl        h5j4n.pkl                            tfy7d.pkl\n",
      " f4a3q.pkl        h6v39.pkl                            tgaxq.pkl\n",
      " f4vfe.pkl        h8qmd.pkl                            tgqq8.pkl\n",
      " failed.txt       hbc2e.pkl                            tgxqd.pkl\n",
      " femicides2.csv   hbe5y.pkl                            transgender.csv\n",
      " femicides3.csv   hvg6j.pkl                            \u001b[01;35mtt.jpg\u001b[0m\n",
      " femicides.csv    hvpq8.pkl                            \u001b[01;35mtt.png\u001b[0m\n",
      " fvkbb.pkl        liberation_femicide.ipynb\n"
     ]
    }
   ],
   "source": [
    "ls\n"
   ]
  },
  {
   "cell_type": "code",
   "execution_count": 8,
   "metadata": {},
   "outputs": [],
   "source": [
    "json_data = pickle.load(open('tgqq8.pkl','rb'))\n"
   ]
  },
  {
   "cell_type": "markdown",
   "metadata": {},
   "source": [
    "## remember each page of comments has been stored separately"
   ]
  },
  {
   "cell_type": "code",
   "execution_count": 9,
   "metadata": {},
   "outputs": [
    {
     "data": {
      "text/plain": [
       "31"
      ]
     },
     "execution_count": 9,
     "metadata": {},
     "output_type": "execute_result"
    }
   ],
   "source": [
    "dd = json.loads(json_data[0])\n",
    "len(json_data)"
   ]
  },
  {
   "cell_type": "code",
   "execution_count": 4,
   "metadata": {},
   "outputs": [
    {
     "data": {
      "text/plain": [
       "dict_keys(['postedCommentHtml', 'commentsHtml', 'commentCount', 'refreshStatus', 'lastPage', 'paginationHtml'])"
      ]
     },
     "execution_count": 4,
     "metadata": {},
     "output_type": "execute_result"
    }
   ],
   "source": [
    "xx = json.loads(json_data[0])\n",
    "xx.keys()"
   ]
  },
  {
   "cell_type": "code",
   "execution_count": 136,
   "metadata": {},
   "outputs": [
    {
     "name": "stdout",
     "output_type": "stream",
     "text": [
      " class=\"d-comment\n",
      "            d-comment--top-level\"\n",
      "           id=\"comment-144422422\"\n",
      "           data-comment-id=\"144422422\"\n",
      "           data-comment-author=\"Hushing\"\n",
      "           data-comment-replies=\"0\"\n",
      "           data-comment-timestamp=\"2020-10-11T14:25:06.000+01:00\"\n",
      "           data-comment-author-id=\"12407494\"\n",
      "           data-comment-highlighted=\"false\"\n",
      "           itemscope itemtype=\"http://schema.org/Comment\">\n",
      "\n",
      "    <div class=\"d-comment__inner d-comment__inner--top-level\">\n",
      "        <div class=\"\n"
     ]
    }
   ],
   "source": [
    "print( xx['commentsHtml'][200:700])"
   ]
  },
  {
   "cell_type": "code",
   "execution_count": 16,
   "metadata": {},
   "outputs": [],
   "source": [
    "pa = re.compile('data-comment-author=\"(.*?)\"')\n",
    "pid = re.compile('data-comment-author-id=\"(\\d+)')\n",
    "pcid = re.compile('\\sid=\"comment-(.*?)\"')\n",
    "pp = re.compile('<li class=\"d-comment(.*?)>',re.DOTALL)\n",
    "\n",
    "auths = []\n",
    "md = []\n",
    "for xx in json_data:\n",
    "    hh = json.loads(xx)['commentsHtml']\n",
    "    auths.extend(list( zip(pa.findall(hh), \n",
    "                           pid.findall(hh)\n",
    "                          )))\n",
    "    md.extend(pp.findall(hh))\n",
    "\n",
    "auths = list(set(auths))\n",
    "auths.sort(key=lambda x : x[0].lower())\n"
   ]
  },
  {
   "cell_type": "code",
   "execution_count": 102,
   "metadata": {},
   "outputs": [],
   "source": [
    "#print( '\\n'.join([x for x in md if 'pinkie' in x.lower()]))"
   ]
  },
  {
   "cell_type": "markdown",
   "metadata": {},
   "source": [
    "https://discussion.theguardian.com/comment-permalink/144375739"
   ]
  },
  {
   "cell_type": "code",
   "execution_count": 8,
   "metadata": {},
   "outputs": [],
   "source": [
    "auths = dict(auths)"
   ]
  },
  {
   "cell_type": "code",
   "execution_count": 9,
   "metadata": {},
   "outputs": [
    {
     "data": {
      "text/plain": [
       "'https://api.nextgen.guardianapps.co.uk/discussion//p/hvpq8.json'"
      ]
     },
     "execution_count": 9,
     "metadata": {},
     "output_type": "execute_result"
    }
   ],
   "source": [
    "comments_url"
   ]
  },
  {
   "cell_type": "code",
   "execution_count": null,
   "metadata": {},
   "outputs": [],
   "source": [
    "\n",
    "from bs4 import BeautifulSoup\n",
    "\n",
    "def html2comments(x):\n",
    "    tt = json.loads(x)\n",
    "    soup = BeautifulSoup(tt['commentsHtml'],  \"lxml\")\n",
    "    raw = [ comment.text for comment in  \n",
    "            soup.findAll('div', {'class' : \"d-comment__body\"}) ]\n",
    "    \n",
    "    metadata = soup.findAll('span', {'class' : \"d-comment__author\"})\n",
    "    \n",
    "    \n",
    "    auth = [ x.text.upper().strip() for x in metadata]\n",
    "    auth_id = [ x.find('a')['href'] for x in metadata]\n",
    "    #this was a pain to do really\n",
    "    #the problem is blocked comments\n",
    "    comment_id = [ x['id'][len('comment-'):] for x in soup.findAll('li')]\n",
    " \n",
    "    \n",
    "    ss = '##{}\\nhttps://discussion.theguardian.com/comment-permalink/{}\\n{}\\n\\n{}'\n",
    "    return [ ss.format(a,b,d,c.strip())  \n",
    "                   for a,b,d,c in zip(auth, comment_id, auth_id, raw)]\n",
    "     \n",
    "all_texts = [ html2comments(page) for page in json_data[:] ]\n",
    "\n",
    "\n",
    "from itertools import chain\n",
    "all_comments = list(chain.from_iterable(all_texts))\n",
    "    "
   ]
  },
  {
   "cell_type": "markdown",
   "metadata": {},
   "source": [
    "# Random data hacking"
   ]
  },
  {
   "cell_type": "code",
   "execution_count": 6,
   "metadata": {
    "scrolled": true
   },
   "outputs": [
    {
     "data": {
      "text/plain": [
       "[('##BOBBYLEOPARD', 30),\n",
       " ('##MAXIBOY339', 20),\n",
       " ('##CHICKENSANDGOATS', 13),\n",
       " ('##MONKEY_HANGER', 12),\n",
       " ('##JASONBRADLEY', 11),\n",
       " ('##WHILEROMEBURNS', 11),\n",
       " ('##PARCELOFROGUE', 10),\n",
       " ('##NEUTRALPADDY', 10),\n",
       " ('##BARCIAD', 9),\n",
       " ('##3RDROCK', 9),\n",
       " ('##ZIONTRAIN', 8),\n",
       " ('##DREAMER06', 7),\n",
       " ('##TOMPER2', 7),\n",
       " ('##ONEEYEDMANISKING', 7),\n",
       " ('##LISAMARIE3', 7),\n",
       " ('##PINKROOM', 7),\n",
       " ('##RICOS321', 7),\n",
       " ('##ALPO88', 6),\n",
       " ('##IHATECAPTCHAS', 6),\n",
       " ('##STILLBREATHINGJUST', 6),\n",
       " ('##FALLOWFIELD', 6),\n",
       " ('##GEGENBEISPIEL', 6),\n",
       " ('##MICK233489', 6),\n",
       " ('##HAGGALA', 6),\n",
       " ('##HARRYTHEHAWK', 6),\n",
       " ('##MFISHER', 6),\n",
       " ('##FATBOY2001', 5),\n",
       " ('##EKNGEWNGEJWGNGE', 5),\n",
       " ('##BLISSEX', 5),\n",
       " ('##FAIRSHARES', 5),\n",
       " ('##CHRISWR', 5),\n",
       " ('##ROBBO100', 5),\n",
       " ('##KOFIANNAN', 5),\n",
       " ('##A_REBOUR', 5)]"
      ]
     },
     "execution_count": 6,
     "metadata": {},
     "output_type": "execute_result"
    }
   ],
   "source": [
    "A = [x.split('\\n')[0] for x in all_comments]\n",
    "from collections import Counter\n",
    "AN = Counter(A)\n",
    "sorted([(x,y) for x,y in AN.items() if y > 4], key=lambda x : -x[1]) "
   ]
  },
  {
   "cell_type": "code",
   "execution_count": null,
   "metadata": {},
   "outputs": [],
   "source": [
    "! ./.g\n"
   ]
  },
  {
   "cell_type": "code",
   "execution_count": 7,
   "metadata": {},
   "outputs": [
    {
     "name": "stdout",
     "output_type": "stream",
     "text": [
      "##SUPERSTRIKER\n",
      "https://discussion.theguardian.com/comment-permalink/153639318\n",
      "https://profile.theguardian.com/user/id/104468511\n",
      "\n",
      "I think we all know what a neo liberal is those opposed to government intervention, on economic or broad social grounds. Thatcher and Reagan fall into that category, even if few of their policies where neo liberal. They set the ball rolling for the neo liberals who came after them. Thatcher sold off the council houses that neo liberals policies use to drive millions into the yokes for the rentier class to live of their backs. Private rent tenants have their noses held to the grindwheel lest they fall into arrears and eviction.\n",
      "Tony Blair? Not so much. Cameron? A fucking halfwit, but a full frontal attack on the welfare state saw the rise of food banks, homelessness and a general hatred of those ousted out of the labour market. Sure tools to drive the neo liberal agenda.\n",
      "The fact that some I'll informed people use the term as a catchall insult in the same way the idiotic Right use the term socialist or Marxist does not mean their is no legitimate use of the term.\n"
     ]
    }
   ],
   "source": [
    "print(all_comments[0])"
   ]
  },
  {
   "cell_type": "code",
   "execution_count": 8,
   "metadata": {},
   "outputs": [
    {
     "name": "stdout",
     "output_type": "stream",
     "text": [
      "##ANDYFOSTER353\n",
      "https://discussion.theguardian.com/comment-permalink/153639159\n",
      "https://profile.theguardian.com/user/id/14132951\n",
      "\n",
      "The problem with Nick Cohen's writing here is a lack of logic, produced by a lack of courage. On the one hand:\n",
      "\"Like so much insider jargon, neoliberal is a pathetically weak term. To take an everyday example: since Thatcher’s government privatised the water industry in 1989, managers and shareholders have exploited their monopoly power to take almost £60bn in profit. In 2020, the companies spent 3.1m hours dumping sewage into rivers. So great has been their failure to reinvest even a small portion of the money they take, south-east England may soon face water shortages.\"\n",
      "Dead right. But then:\n",
      "\"Only moderate centre-left parties have won elections in western countries and their victories are rare enough. If you insist that they are as much a part of a neoliberal conspiracy as the right, then there is no point in fighting to remove the right from power.\"\n",
      "So Nick understands that privatisation of water has been disastrous, and by implication other public services too. But the \"moderate centre-left parties\" are defined by their unwillingness to do anything about it. \n",
      "\"... the far left... must maintain there is no difference between Tony Blair’s Labour government and any government Keir Starmer may lead, and the Tories. I once believed that, but the brutality of David Cameron’s actual Conservative government made me think again.\"\n",
      "When it comes to bringing water, and other services, back into public ownership, there is no difference. Keir Starmer is not going to reverse the disastrous policy. Indeed, he's just demoted Ed Miliband for suggesting that public ownership in the power industry is still Labour's policy. Starmer has totally abandoned the platform on which he was elected Labour leader only eighteen months ago.\n",
      "It is tragedy that Nick Cohen, and others, attacked the one political leader of recent times who would have restored our pubic services. There was one election that proved that it's not just \"moderate centre-left parties\" that win elections. In 2017 Labour nearly won an election, called specifically because the Tories looked like winning a landslide. Labour got 40% of the vote, only 2% behind the Tories, on a platcform which included reversing exactly the Thatcher privatisations which Nick, rightly, abhors. The 2019 election result doesn't alter that. It happened. \n",
      "Instead of supporting that platform, however critically, Nick preferred to lambast it and its supporters as \"fucking fools\" (quote) in this paper. There was a real movement, especially among young people, to reverse the political direction of the last forty years. Nick just stuck that new phenomenon into a mould of older left politics. It was \"far left\". And he and others helped destroy it.\n",
      "I think, if Nick had been around in 1945, he would have refused to support the Labour party under Attlee because there were so many \"Communists\" or \"fellow travellers\" in the party and around it. There were people who did exactly that. For the sake of their preconceptions they failed support public ownership of public services, and the creation of the NHS. Perhaps one day Nick and others will wake up. Until then, the \"negligent protfiteers\" will carry on winning.\n",
      "\n",
      "##CONTINENTALCYCLIST\n",
      "https://discussion.theguardian.com/comment-permalink/153639213\n",
      "https://profile.theguardian.com/user/id/11797417\n",
      "\n",
      "Ronnie and Maggie certainly did not usher in a liberal or neoliberal age. Liberalism meant freedom for the many, the greatest good for the greatest number.\n",
      "What Ronnie and Maggie brought upon the world was a system of neofeudalism, in the worst sense of the word. \n",
      "Original feudalism involved paternalistic care of the liege lord for the vassals, combined with the good works of the church for those left behind. Neofeudalism was and is certainly not based on any idea of looking after your vassals or retainers. Instead of behaving like liege lords, the controllers of the money flows behave like robbver barons. And their effect has not by any means been anything like Hayek's ’creative destruction' as a precursor for new creation. \n",
      "Reformed liberal capitalism of the Rhenanian type, dubbed 'soziale Marktwirtschaft' in Germany, coupled 'destruction' of outdated industries with 'creative construction', offering incentives, but above all professional and vocational instruction and training of a quality and scale quqite unheard of in Britain. It produced a workforce that would instantly cause long queues if it set up shop anywhere in the UK. And it managed the transformation of the Stalinist economy of what the Russian occupation force dubbed the German Democratic Republic (with Vlad Putin as one of the KGB residents).\n",
      "Moreover, as a number of Continental economies show, the shift from manufacturing to service economies were only partial. And a lot of the services are subservient to industrial production. After all King Midas could not live on bullion, nor services.\n",
      "What some understand as (neo)liberalism has in fact been akin to the setup of late robber baron feudalism in the 'autumn' of the Middle Ages (eg the Wars of the Roses), in that \"the Bank of England and the Foreign Office enabled the creation of tax havens that allowed plutocrats, corporations and criminals to hoard their money with disastrous and enduring consequences for humanity\". Utterly unproductive and inefficient crony capitalism, quite unlike the unfettering of productive forces. The evidence is Britain's poor productivity, lack of competitive edge, asset-stripping, negative balance of payments, and above all poor pay. Evinced by the elementary fact that there is no market price for the human habitat.\n",
      "Calling Ronnie's and Maggie's by anything containing the term 'liberal' or 'neoliberal' is an insult to liberal (and Marxist) thinkers of the nineteenth century. John Stuart Mill must be rotating in his grave.\n",
      "There is a lot wrong in Russia, but at least there is a certain terminological honesty expressed by word 'prikhvatisatsia', privatisation as seizure by might. Kitchen language captures 'the banditry of crony capitalism by talking of robbers, looters and frauds'. Vlad Putin as the world's first trillionaire, as shown in Navalny videos.\n",
      "Britain's version is covered by a slightly more pleasing veneer. Or in Osborne's and Johnson's case, wallpaper.\n",
      "\n",
      "##ALPO88\n",
      "https://discussion.theguardian.com/comment-permalink/153638518\n",
      "https://profile.theguardian.com/user/id/12910973\n",
      "\n",
      "\"No one admits to being a “neoliberal”. You cannot vote for the Neoliberal party or join a neoliberal club. Like 21st-century fascism and religious fundamentalism, neoliberalism is a movement without declared adherents.\"...\n",
      "Yes, that's quite correct and I had personal experiences both here in The Guardian, with Australian posters that I strongly suspect are associated with the Neoliberal think-tank \"Institute of Public Affairs\" (IPA), based in Melbourne; and, before that, with similar posters writing their opinions in The Drum online of the Australian Broadcasting Corporation (ABC). So, it is true that, currently, the Neoliberals deny that they exist, why would they do that? Simple, if you don't exist you can't be the target of analyses, criticisms and the offer of alternatives. You cannot be identified as the \"side of politics to beat\"... you are just a ghost.... doing very many nasty things, without being seen, let alone scared away.... But the Neoliberals cannot hide: By their deeds you will recognise them!\n",
      "Historically, however, the Neoliberals did start by proudly identifying themselves. In fact, the term Neoliberalism was introduced by Alexander Rustow at the \"Walter Lippmann Colloquium\" in Paris in 1938, his objective was to offer a new liberalism as an alternative to collectivism, socialism, and laissez-faire liberalism. By Neoliberalism Rustow meant an economic system that prioritises price mechanisms, free enterprise, competition, and a strong and impartial state, to which it was subsequently added deregulation, privatisation, and inequality. In 1951, Milton Friedman wrote that: \"Neo-liberalism would accept the nineteenth century liberal emphasis on the fundamental importance of the individual, but it would substitute for the nineteenth century goal of laissez faire as a means to this end, the goal of the competitive order.\"\n",
      "Subsequently, Neoliberalism spread throughout the capitalist world since the end of the 1970s-beginning of the 1980s, to be also adopted by former communist countries in Eastern Europe after the fall of the Soviet Union. Sadly, during that period, Neoliberalism also sucked in an entire generation of Social Democrats around the world. It took the GFC of 2008 to start an ongoing process of De-Neoliberalisation of Western Social Democratic parties.\n",
      "The Neoliberals cannot hide at all, just Google (or Google Scholar) \"Neoliberalism\" and you will see the shower of articles and books that you will get on the topic.\n",
      "\n",
      "##SPANGLEJ\n",
      "https://discussion.theguardian.com/comment-permalink/153637171\n",
      "https://profile.theguardian.com/user/id/2931607\n",
      "\n",
      "What a crazily muddled article. \n",
      "\"Neo-liberal\" as difficult as a term and confusing to some, because \"liberal\" can be used to mean 100 different things. In this case, it is referring to economic liberalism - free marketeering - downgrading state interference and regulation, upgrading privatisation, voluntary industry standards, reducing universal welfare state and education. It's not a 'conspiracy' any more than Keynesianism - it's just an descriptor of an economic model. Lots of people would argue that neo-liberalism has worked well for the world - propelling social change through strengthened economies and strong business models. I don't agree that the term is take to be necessarily insulting. \n",
      "\n",
      " \"The neoliberals of the 20th century wanted to... uphold markets and competition. As history, this is tediously sentimental.\"\n",
      "\n",
      "You would argue this is not the case? Regan, Thatcher, Bush? Strong markets were a central plank of their economic model - out with unionisation, \"nannying the population\" - instead get on yer bike, pull yourself up, be entrepreneurial. Etc. \n",
      "\n",
      "\n",
      "Were they really preceded by a social democratic golden age? (The movements to empower women, ethnic minorities and gays and lesbians did not think so.)\n",
      "\n",
      "This is disinguenous comment. These movements were fighting hard for legislative change through the 1970s and before. Forms of protest were not outlawed, striking was not illegal. Universal education and welfare a thing. The post-war contract was still in motion. There was a sense of moving forward with this, not dismantling it and have a (quote): \"bonfire of regulations\"\n",
      "\n",
      "To take an everyday example: since Thatcher’s government privatised the water industry in 1989, managers and shareholders have exploited their monopoly power to take almost £60bn in profit. In 2020, the companies spent 3.1m hours dumping sewage into rivers. I accept that no mid-20th-century government would have contemplated handing over water companies to negligent profiteers. But to call today’s politicians and regulatory authorities, who sit back while monopolists cover the countryside in excrement, “neoliberals” is to let them off lightly.\n",
      "\n",
      "My friend, I think it is you have no idea what the economic term \"neo-liberal\" means, what it purports, why, and what they are aiming for. The article is a mess.\n",
      "\n",
      "##ROLLERRULER\n",
      "https://discussion.theguardian.com/comment-permalink/153638767\n",
      "https://profile.theguardian.com/user/id/104006251\n",
      "\n",
      "I agree neoliberalism is not well defined, Starmer's relationship to the Labour party membership is now well defined, it is defined by betrayal, ten promises he has now made clear he will not keep and the promise he has kept to is to exclude the left.\n",
      "How should the Left respond to Starmer's attacks and exclusion from the shadow cabinet? The Left gave Blair conditional and critical support in the hope some progress would be achieved. What little progress was made under Blair, under pressure from the Left of the party, was quickly rolled back when the Tories returned to power and any progress made under any 'centrist' Labour party leadership is quickly rolled back and the same will be true of a Starmer government. The Left argument was that it has to give the Labour party critical and conditional support in order for working-class(the wealth creators) are taken through a political 'process' and learn from experience the limitations of 'centrist' Labour government and after the working class(the wealth creators) learn this lesson the most politically conscious layers would learn that Left-wing politics represent working-class(the wealth creators) interests. This strategy didn't work with the Blair government and has not worked in over a century of trying. If a strategy does not work where is the logic in sticking to it?\n",
      "The Left with potential funding from UNITE now available should build a socialist party to offer politics that would upend and overthrow the political status quo. The Left need to represent the political interests of the working-class(the wealth creators) and stop feeding working-class9the wealth creators) alienation from politics and stop working to elect Labour governments under ‘centrist’ cuckoos who offer the working class (the wealth creators) a few more crumbs off the capitalists extravagant dining tables. The Left knows and has no illusions that Starmer will tinker with the system, he will not change anything fundamentally and the Left knows Starmer is another Blair and under successive Blair, governments increasing numbers of working-class(the wealth creators) became alienated from politics and stopped voting. The Left knows the working class(the wealth creators) need fundamental change, the Left needs to offer that fundamental change.\n",
      "\n",
      "##VECSLACPLESIS\n",
      "https://discussion.theguardian.com/comment-permalink/153637192\n",
      "https://profile.theguardian.com/user/id/12298271\n",
      "\n",
      "None of the governments mentioned were neo-liberal, which i would describe as allowing the capitalist system to operate as unhindered by government policies or regulations as possible: and accepting that countries should concentrate on those areas of economic activity where they had a competitive advantage. That's why \"neo-liberals\" like Raab & Minford wanted the UK to leave the EU: because it was too interventionist. And why Minford fully expected the UK to lose most if not all of our manufacturing industry post-Brexit and accepted it as being inevitable.Neoliberalism has been confused with the view that the private sector can run utilities better than the public sector. Although a notion that capitalist competition would make these industry be leaner and fitter was present, that was a secondary consideration: not least because certain industries (e.g. water and railways) are in effect natural monopolies where competition is impossible, in practice. Hence the results for the privatised water industry which Cohen mentions, which have little, if anything to do with neoliberalism.The extent to which governments since 1979 carried out or believed in neoliberal policies varied. Blair & Brown barely challenged the ideology that capitalist competition was an effective basis for the economy, while plainly content to use government regulation (including EU regulation) as necessary. In a country where the majority of voters don't vote for the conservatives, inevitably any government is required to respond to majority opinion: hence moves towards less regulation have been more limited than the promises. What we have in practice is a partly-regulated capitalism in an economy which is based largely on rentier capitalism, with the Johnson government adding a new level of crony capitalism. Of course, there are some extreme left wingers who attack politicians they abhor as supporting neoliberalism: but at the extreme, many would do away with capitalism altogether, while probably most would be content with nationalising the natural monopolies & regulating much further.However, a more important question than any of this analysis is how or if capitalism can adapt to the challenges of climate change?\n",
      "\n",
      "##BLUTGRAETSCHE\n",
      "https://discussion.theguardian.com/comment-permalink/153638297\n",
      "https://profile.theguardian.com/user/id/14817834\n",
      "\n",
      "None of his personal corruptions, however, can hide the truth that Johnson is a nationalist, who appeals to deep chauvinist sentiments rather than class interests. No economic liberal, neo or otherwise, would pull the UK out of the world’s richest single market. Conservatives fooled themselves that Brexit would bring a deregulated society. But we should pay more attention to the world as it is than to the fantasies of the delusional and see that, instead of a Singapore-on-Thames, they have undermined exporters and brought tax to its highest level since the 1960s, an era the Thatcher revolution supposedly finished off.\n",
      "\n",
      "This is the huge contradiction of Brexit, indeed. The main protagonists always had the intention to position the UK as low regulation, low tax competitor to the \"bureaucratic\" EU, only to be drowned in red tape, extra buraucracy and lower competitiveness of the British economy in the real world of modern trade. \n",
      "Thatcher, hardly a pro-European herself and an English nationalist as well, knew this. She was pragmatic enough to understand the huge benefits of a big common market with unified standards and low / non-existent barriers of trade. \"Neo-liberal\" or not, that is just common sense. \n",
      "The chauvinist Torykippers lack that common sense, just like the \"Lexiter\" useful idiots on the far-left who believe that a socialist utopia is now on the horizon for Britain after having left the EU. A socialist utopia that was delivered by the most shady fringes of the Conservative party who would would rather sell their own grandmother than increase social standards. \n",
      "Plus, there is the factor of a globalised economy. Europe does not exist in a vaccum. Only the big common market allows Europe to keep the relatively high social standards. Europe can not compete with China on price. Imagine the US being split in 50 different economies without a big common market - they'd be an irrelevance compared to the dominant status of the US today.\n",
      "\n",
      "##REIDMALENFANT\n",
      "https://discussion.theguardian.com/comment-permalink/153636382\n",
      "https://profile.theguardian.com/user/id/10017523\n",
      "\n",
      "Well of course. NeoLiberalism always was simply an extension of Liberalism. The Neo part of the name was always a misnomer. But then the whole philosophy was a sleight of hand. The whole of it was designed to confuse and divert, to keep people looking too closely at it's effects. Words used to disguise Reality. Just like Liberalism itself.\n",
      "I'm at risk of serially repeating myself here but it's again relevant, and as it's the heart of our Society it will remain so. Western Liberal Society is based around the claim that we voluntarily give up Freedom in exchange for the Security Society can offer us. \n",
      "All our Politics, Left or Right, revolve around this. Every debate in Parliament, or Congress, or any other form of Government in Western Liberalism, is about one question: How much Freedom do we have to give up, and how much Security do we get in return?\n",
      "How much Tax should we pay? Has the Government the Right to enforce Lockdown? How much do we spend on the NHS? Can we ban smoking in Public Places? All these are different forms of that same question. Everything in Liberal Society revolves around that question.\n",
      "NeoLiberalism, as far as I understand it, simply equates Wealth more directly with Freedom. Instead of Wealth being a proxy for Freedom, an abstract form of it, NeoLiberalism says they are the same and so should be treated the same. So when you are putting controls on Wealth you are putting controls on Freedom. \n",
      "And because we are a Liberal Society and we should limit controls on Freedom as much as possible, then we shouldn't control the use or the accumulation of Wealth. It's not the business of the State, outside the negotiation of how much we should be expected to give up for Security.\n",
      "It's just as much a crock of shit as the rest of Liberalism. It's based on complete nonsense. None of it makes sense in the real world, and all of it is the root cause of Humanity's problems. NeoLiberailism isn't the problem, Liberalism is.\n",
      "\n",
      "##JONNIESTEWPOT\n",
      "https://discussion.theguardian.com/comment-permalink/153638179\n",
      "https://profile.theguardian.com/user/id/1196879\n",
      "\n",
      "It's a perfectly respectable academic word. The fact it's misused if anything proves it. All politically charged words are. Socialism, communism, fascism. The former two get greater traction in their understanding but fascism is an easy term of abuse though harder to define, that doesn't detract from its academic usage, which is surely where the word is at its most useful. \n",
      "Nothing wrong that some people grope towards using it effectively many given time will. \n",
      "It's clear that 1979 was a watershed in politics with Regan and Thatcher pushing further to the right and Deng Xiaoping in China opening up that economy to globally manufacturing goods for the world so creating the fastest-growing economy of all major countries. \n",
      "We can see in the West as shown in the article the extraction of wealth for the rich at the expense of the poor. Made worse in our country because of the fiscal policies of the Tories over the last 11 years. Even to the extent of natural utilities like energy and water. \n",
      "Robbers and crooks they surely are, but it is that system of neo-liberalism that gave the crooks that opportunity. As we now see it goes right to the heart of government where ministers have given PPE contracts to family and friends. Spent £37 billion on track and trace which no one I know has ever seen. That money could have gone to the NHS to run that system as was done with the vaccine. \n",
      "All of it is excused in our country by the ideology of the free market the private sector good the public sector bad. Neoliberalism can easily be defined as a system the consequence being that poverty has flourished despite the growing GDP in those countries. That let Blair off the hook, being grounded by Brown. \n",
      "It's a vampire system unsustainable in the long term as it gives rewards to a small section of society by not collecting fair taxes arguing that it produces more wealth that the majority of the country misses out on.\n",
      "\n",
      "##SOMEHOWRATIONAL\n",
      "https://discussion.theguardian.com/comment-permalink/153639308\n",
      "https://profile.theguardian.com/user/id/17763035\n",
      "\n",
      "I use the term meaning a world view that treats the market and capitalism not as a useful economic tool, but as something untouchable that is supposed to bring solutions in all kinds of areas. Capitalism not as a mere economic system but as a guiding principle for everything.I associate the term with a drive to privatize everything as well as confusing democracy with socialism. Everything is being called \"socialist\" even when it is just democratic common sense as soon as there is a role for the state in it. Not wanting to privatize infrastructure is not socialist.Similarly there is the idea that society doesn't exist as such, but that it is nothing but a collection of individuals. Which is true in a sense, but that it similar to saying a table doesn't exist as it is nothing but a collection of atoms. There is also the idea connected to it that there is no such thing as public service and that politicians are always only out for their own interest. Which is of course a perfect justification for corruption and goes hand in hand with the disdain for regulation. Of course criminals dislike regulation and red tape.In other words \"neoliberalism\" is denying the existence of a public sphere in the democratic sense as this view denies the very existence of a public as well as the idea of a \"public interest\". The \"state\" is seen as something alien and evil, best reduced to as small an existence as possible. This worldview is fundamentally anti-democratic in my opinion. There is complete lack of understanding that in a democracy the state is the political representation of the people. Maybe a different term would be better than \"neoliberalism\", the term doesn't matter as much. But these concepts are widespread, influential and - in my view at least - very damaging.\n",
      "They have also prepared the ground for Trump and others like him, by spreading cynicism about democracy wherever you look.\n",
      "\n",
      "##BLISSEX\n",
      "https://discussion.theguardian.com/comment-permalink/153638731\n",
      "https://profile.theguardian.com/user/id/16345762\n",
      "\n",
      "Globalization yes, but it was mostly \"labour market reform\", that is cheaper wages by any means, not just globalization.\n",
      "Before WW1 the English Empire had already achieved a high degree of globalization (and of cheap wages), J.M. Keynes wrote:\n",
      "ttp://www.econlib.org/library/YPDBooks/Keynes/kynsCP2.html\n",
      "\n",
      "“What an extraordinary episode in the economic progress of man that age was which came to an end in August, 1914! ... The inhabitant of London could order by telephone, sipping his morning tea in bed, the various products of the whole earth, in such quantity as he might see fit, and reasonably expect their early delivery upon his doorstep; he could at the same moment and by the same means adventure his wealth in the natural resources and new enterprises of any quarter of the world, and share, without exertion or even trouble, in their prospective fruits and advantages; or he could decide to couple the security of his fortunes with the good faith of the townspeople of any substantial municipality in any continent that fancy or information might recommend. He could secure forthwith, if he wished it, cheap and comfortable means of transit to any country or climate without passport or other formality, could despatch his servant to the neighboring office of a bank for such supply of the precious metals as might seem convenient, and could then proceed abroad to foreign quarters, without knowledge of their religion, language, or customs, bearing coined wealth upon his person, and would consider himself greatly aggrieved and much surprised at the least interference. But, most important of all, he regarded this state of affairs as normal, certain, and permanent, except in the direction of further improvement, and any deviation from it as aberrant, scandalous, and avoidable.”\n",
      "\n",
      "Note that of course it is written from the point of view of a \"gentleman\", that is an affluent rentier.\n",
      "\n",
      "##HARTEBEEST\n",
      "https://discussion.theguardian.com/comment-permalink/153638055\n",
      "https://profile.theguardian.com/user/id/14862790\n",
      "\n",
      "It's very obviously true that there was a tendential growth in the functions exercised via the public rather than private sphere post-wwii to the 1970s, and that this trend then revesed, broadly speaking, for the next decades up to roughly 2008. This is the case for the UK, but also dozens of countries (with slightly different dates and to slightly different degrees) from the US to Mexico to Germany to Indonesia. \n",
      "There are clearly nuances to this, as one would expect from a global tendency which impacted unevenly across the world and mixed with existing socio-economic arrangements. But that complexity at the local scale does not in anyway negate what is a very clearly evident global trend over time. This is not really arguable. \n",
      "Second, if you know anything about the support for brutal dictatorships from Latin America to SE Asia by what might broadly he called neoliberal economists, or about the social impacts of IMF-demamded austerity programmes across the developing world, you wouldn't regard 'neoliberal' as such a toothless condemnation.\n",
      "And last, if you'd followed even really mainstream debates in recent years, from Adam Tooze to Ian Bremner to Branko Milanovic, and even occasionally on these pages, you'd be aware that there's been a great deal of discussion over the new global populist right and whether that represents a new and distinc phenomenon from neoliberalism. Personally my view is that the latter is (unevenly) breaking down, as the economy tendentially stagnates and the state is gradually stepping in to backstop profit-making in various ways- and some of this is explicitly justified in terms of competing with China, where the state already excerises those functions to a much greater degree.\n",
      "\n",
      "##UNCLESTINKY\n",
      "https://discussion.theguardian.com/comment-permalink/153639306\n",
      "https://profile.theguardian.com/user/id/15951142\n",
      "\n",
      "“It comes from a very ancient democracy, you see...\"\"You mean, it comes from a world of lizards?\"\"No,\" said Ford, who by this time was a little more rational and coherent than he had been, having finally had the coffee forced down him, \"nothing so simple. Nothing anything like so straightforward. On its world, the people are people. The leaders are lizards. The people hate the lizards and the lizards rule the people.\"\"Odd,\" said Arthur, \"I thought you said it was a democracy.\"\"I did,\" said Ford. \"It is.\"\"So,\" said Arthur, hoping he wasn't sounding ridiculously obtuse, \"why don't people get rid of the lizards?\"\"It honestly doesn't occur to them,\" said Ford. \"They've all got the vote, so they all pretty much assume that the government they've voted in more or less approximates to the government they want.\"\"You mean they actually vote for the lizards?\"\"Oh yes,\" said Ford with a shrug, \"of course.\"\"But,\" said Arthur, going for the big one again, \"why?\"\"Because if they didn't vote for a lizard,\" said Ford, \"the wrong lizard might get in. Got any gin?\"\"What?\"\"I said,\" said Ford, with an increasing air of urgency creeping into his voice, \"have you got any gin?\"\"I'll look. Tell me about the lizards.\"Ford shrugged again.\"Some people say that the lizards are the best thing that ever happenned to them,\" he said. \"They're completely wrong of course, completely and utterly wrong, but someone's got to say it.\"\"But that's terrible,\" said Arthur.\"Listen, bud,\" said Ford, \"if I had one Altairian dollar for every time I heard one bit of the Universe look at another bit of the Universe and say 'That's terrible' I wouldn't be sitting here like a lemon looking for a gin.”\n",
      "Douglas Adams, So Long, and Thanks for All the Fish\n",
      "\n",
      "##MICK233489\n",
      "https://discussion.theguardian.com/comment-permalink/153637436\n",
      "https://profile.theguardian.com/user/id/105349314\n",
      "\n",
      "I can’t speak for academia, but in politics I know that the cry “neoliberal” is a certain sign that I am in the presence of the far left. It must maintain there is no difference between Tony Blair’s Labour government and any government Keir Starmer may lead, and the Tories.\n",
      "\n",
      "To be fair that isn't a leftwing delusion. Tony Blair's government would have been to the right of the majority of Post-war Conservative governments. Look at its record.\n",
      "Taxes weren't increased on the rich, major landowners were left untouched, the financial sector was barely regulated, there was no industrial policy and British company after British company was either sold off or run into the ground by incompetent British executives. Blair's government did nothing to restrain private equity and did nothing about the reward for failure culture of rich Britain. While barely enforcing the minimum wage and leaving it at poverty levels.\n",
      "The only leftwing things they did was, one increase public speeding. Something which happened in the middle of a boom fuelled by debt and a housing bubble. The Tories would have done the same and much of Labour's spending was diverted to their pals in the private sector via ripoff PFI schemes.\n",
      "The second leftish thing they did was a vague embrace of identity politics, which is something wealthy types on the left love to do, to pretend they haven't gone full Tory. A bit of feminism here, a quota there doesn't threaten their second home or their kids private education.\n",
      "So it is not an unfair charge to call Blair's government a government of red Tories.\n",
      "\n",
      "##BLISSEX\n",
      "https://discussion.theguardian.com/comment-permalink/153638541\n",
      "https://profile.theguardian.com/user/id/16345762\n",
      "\n",
      "«But the neoliberals of the 20th century wanted to empower the state to create and uphold markets and competition»\n",
      "Neoliberal can mean many things, but usually it is taken to mean the \"Washington Consensus\" of policies, which has been described 20 years ago by Peter Mandelson this way:\n",
      "“in the urgent need to remove rigidities and incorporate flexibility in capital, product and labour markets, we are all Thatcherites now”\n",
      "Of these by car the most important has been \"Labour market reform”, that is lower wages and more insecure jobs thanks to anti-union policies and competition fro offshoring and immigrants. The second has been globalized capital markets, and more flexibility in product markets has been a distant third as policy goal (except in the EU).\n",
      "But politically neoliberalism is different from the original liberalism in some very important aspect: the state funding, bailing out, and in general protecting of the interests of incumbents, such as property and finance rentiers, which was extraneous to the original of liberalism, under which the state should not have any \"national champtions\" or favoured constituencies.\n",
      "So in practice apart from cheaper wages and globalized capital and products, he other essential component of neoliberalism has been high inflation rates of housing costs, and an ever growing percentage of GDP consumed by the finance sector, which have given neoliberal politics the support of two important constituencies, property owners as votes for neoliberalism, and finance spivs as \"sponsors\".\n",
      "\n",
      "##PARCELOFROGUE\n",
      "https://discussion.theguardian.com/comment-permalink/153637709\n",
      "https://profile.theguardian.com/user/id/3489183\n",
      "\n",
      "\"Since Thatcher’s government privatised the water industry in 1989, managers and shareholders have exploited their monopoly power to take almost £60bn in profit. In 2020, the companies spent 3.1m hours dumping sewage into rivers. So great has been their failure to reinvest even a small portion of the money they take, south-east England may soon face water shortages.\" \n",
      "\n",
      "This is an amazing analgam of facts. It explains why many wealthy people and companies were so desperate to buy into the water industry when they had no experience or understanding of it in some cases. Merely an accountant's understanding of the bottom line and how to maximise it. \n",
      "This is the unacceptable face of capitalism that screams for strict regulation, with enforcement and appropriately heavy fines, or public ownership. It is an issue that resonates almost as much with the average Tory as with centre and left wing parties. It ought to be one of the issues that unseats this corrupt and purulent shower from power. FPTP voting not only ruins many people's lives from the resultant government and policies, but also those in the natural world.\n",
      "Public ownership would end the siphoning off of the money for Investment and might be the best answer if it could somehow avoid then becoming a cash cow for the Treasury, a body little-known for investing in public services or infrastructure out side of the S.East.\n",
      "\n",
      "##BOBBYBB72\n",
      "https://discussion.theguardian.com/comment-permalink/153637920\n",
      "https://profile.theguardian.com/user/id/105630708\n",
      "\n",
      "Well speaking as someone from the left. Who Nick Cohen would no doubt describe as an extremist.Its a pleasant surprise to see him write a decent article.\n",
      "Liberals seem perplexed by the popularity of Johnson in declining industrial heartlands (I was born and raised in one). Johnson (and to a lesser extent brexit) represents something opposed to the pro globalisation of Blair and Cameron. Many are aware of his dishonesty but populism (and the regular U-turns on toxic ideas) appear preferable to the hard 'tough choices' of previous Conservative leaders. Tough choices that fell on the backs of poorest. \n",
      "So in that sense Johnson is a greatest hits complication of state intervention (sweeteners to car makers), nationalism and false optimism. In that sense - he's neither pro globalisation or has a sworn allegiance to Thatcherism (there a members of shadow cabinet economically further to the right). Many Conservative MPs dislike him because he's not a Hayek obsessive. Basically an entitled con-man who wants to popular. \n",
      "And as Mr Cohen obereves. The Singapore on Thames dreams hasn't come to fruition because the globalization cheap labour tap has been switched off.As a remain voter - I must admit I've enjoyed watching the middle classes and exploitative bosses whinging about the lack of post brexit staff. Every cloud....\n",
      "If they Tories have any sense - they'll keep Johnson.\n",
      "\n",
      "##BORTHOLOMEW\n",
      "https://discussion.theguardian.com/comment-permalink/153638935\n",
      "https://profile.theguardian.com/user/id/103305589\n",
      "\n",
      "All were neoliberals. Cutting taxes, diminishing public sector and right wing bullshit to claim the right wing policies like cutting progressive taxes and adding regressive taxes or tax-like fees, adding austerity because of the endless tax cuts to rich people and corporations and then claim it's \"moderate\". The policies are behind what we call neoliberals.\n",
      "\"I cannot imagine the ghost of Friedman applauding a government that raises taxes on employers and employees to protect the property of wealthy retirees.\"You can't? I can. Tax cuts to corporations and the rich means debt. That means tax raises and austerity for others. And the Friedman's hypothesis was all bullshit. It doesn't work. Neither does Laffer's bullshit. Neither did Reagan's bullshit. Neither did Thatcher's bullshit. Because it's right wing neoliberal bullshit. Tax cuts=debt. Not more money for everyone=debt. That means tax rises and austerity. We already know that neoliberal policies are bullshit. The facts have been measured many times in four decades.\n",
      "Also, the authoritarians and populists use ANY ideology or religion to gain more power and/or money. Now it is capitalism mixed with nationalism and populism. Whatever suits them the best. The capitalists are nationalists from the past and when we notice the capitalism's faults, they go back to their nationalistic antics. All right wing bullshit.\n",
      "\n",
      "##KOFIANNAN\n",
      "https://discussion.theguardian.com/comment-permalink/153636369\n",
      "https://profile.theguardian.com/user/id/2457376\n",
      "\n",
      "Ah, Cohen demonstrating his complete misunderstanding of what neoliberalism is! All because he's too eager to sidestep the fact of neoliberalism being used as an insult nowadays. You can call it whatever you want, global Thatcherism/Reaganism or whatever but you cannot avoid what it is: a supposedly liberal economic and social order or settlement that flows out of the west's supposed triumph over the USSR when it was believed that all we needed to do was put a McDonalds in every former Soviet state, China, the Middle East etc because apparently no countries with a McDonalds ever went to war. Back then Fukuyama was declaring the end of history. It's an order that elevates the market to the highest realm as the one and only solution to humanity's contemporary problems. Some of us are old enough to recall the World Bank, IMF etc foisting this order on developing countries in the form of structural adjustment programmes, which essentially meant privatising public assets, from healthcare to education. You can see it in Latin America, in Africa etc, the outcome of the Thatcherite belief that there's no such thing as a society but individuals. There's a reason Thatcher called Blair his true heir. But of course, let's pretend. Is it because what the figures above are increasingly being caught out on the wrong side of history?\n",
      "\n",
      "##PETEASHTON\n",
      "https://discussion.theguardian.com/comment-permalink/153636942\n",
      "https://profile.theguardian.com/user/id/1391461\n",
      "\n",
      "When I was a kid, if I didn't know what a word meant I was told to look it up. Then I knew what it meant and could use it appropriately. \n",
      "Neoliberal is fairly easy to look up. The meaning might not be settled, but we are technically still living within it so that's to be expected. \n",
      "If you feel excluded by people using words and concepts you haven't encountered before, it's not too hard to copy and paste them into the Wikipedia search box. \n",
      "For example, I had not come across the word \"obscurant\" before, so I looked it up. I now know:\n",
      "\n",
      "Obscurantism and Obscurationism describe the practice of deliberately presenting information in an imprecise, abstruse manner designed to limit further inquiry and understanding. There are two historical and intellectual denotations of Obscurantism: (1) the deliberate restriction of knowledge—opposition to disseminating knowledge;and (2) deliberate obscurity—a recondite literary or artistic style, characterized by deliberate vagueness.\n",
      "\n",
      "The use of this word was not an act of obscurantism because I was equipped with the ability to look it up, as are we all (caveats apply).\n",
      "We assign words to things and ideas in an attempt to find their boundaries and start the process of understanding them in more detail. That process will be messy but that's OK.\n"
     ]
    }
   ],
   "source": [
    "all_comments.sort(key=lambda x : -len(x) )\n",
    "print( '\\n\\n'.join(all_comments[:20]) )"
   ]
  },
  {
   "cell_type": "code",
   "execution_count": 9,
   "metadata": {},
   "outputs": [
    {
     "name": "stdout",
     "output_type": "stream",
     "text": [
      "[master d397016] web\n",
      " 3 files changed, 1467 insertions(+), 1252 deletions(-)\n",
      " rewrite guardian comments scraper.ipynb (72%)\n",
      " create mode 100644 kv6n2.pkl\n",
      " create mode 100644 tgqq8.pkl\n",
      "Enumerating objects: 7, done.\n",
      "Counting objects: 100% (7/7), done.\n",
      "Delta compression using up to 4 threads\n",
      "Compressing objects: 100% (5/5), done.\n",
      "Writing objects: 100% (5/5), 1.36 MiB | 116.00 KiB/s, done.\n",
      "Total 5 (delta 2), reused 0 (delta 0)\n",
      "remote: Resolving deltas: 100% (2/2), completed with 1 local object.\u001b[K\n",
      "To https://github.com/macbuse/GUARDIAN.git\n",
      "   c0dc26b..d397016  master -> master\n"
     ]
    }
   ],
   "source": [
    "! ./.g"
   ]
  },
  {
   "cell_type": "code",
   "execution_count": 18,
   "metadata": {},
   "outputs": [
    {
     "name": "stderr",
     "output_type": "stream",
     "text": [
      "[nltk_data] Downloading package vader_lexicon to\n",
      "[nltk_data]     /home/gregmcshane/nltk_data...\n",
      "[nltk_data]   Package vader_lexicon is already up-to-date!\n"
     ]
    }
   ],
   "source": [
    "#https://towardsdatascience.com/sentimental-analysis-using-vader-a3415fef7664\n",
    "\n",
    "import nltk\n",
    "#nltk.download('vader_lexicon')\n",
    "\n",
    "from nltk.sentiment.vader import SentimentIntensityAnalyzer\n",
    "\n",
    "sid = SentimentIntensityAnalyzer()"
   ]
  },
  {
   "cell_type": "code",
   "execution_count": 22,
   "metadata": {},
   "outputs": [],
   "source": [
    "a = '''My views haven't changed. Leaving the EU will be of no benefit to anyone except those who hold money and power along with certain corporates and a smidgen of medium to small businesses.\n",
    "How else can it be when you are shutting shop to the most developed nations, the richest nations in the world, who are either in the EU or have market agreements with the EU. Even the emerging markets of China and India along with other developing economies are aspiring to develop trading agreements with the EU, the second largest economy in the world. Any deal with the UK will be secondary and will depend upon their agreement with the EU.\n",
    "Boris Johnson once said \"f**k business\". I take this as meaning there is something in it for them and they don't really care if businesses find it difficulA\n",
    "t to cope.\n",
    "I can see ministers and conservative MPs queuing to fill their pockets by acting as advisors for potential trade deals whilst the rest of the country are left struggling trying to rebuild their lives, especially following the pandemic. The same ministers will probably be looking to lower all kinds of standards from food and welfare to safety at work to improve their opportunities.\n",
    "When it comes to brinkmanship, I can only view this as getting away with whatever they can. I do not believe it is anything to do with negotiating an agreement that will be to the benefit of the UK or the EU as a whole, I don't believe our ministers are capable of doing that.'''"
   ]
  },
  {
   "cell_type": "code",
   "execution_count": 24,
   "metadata": {},
   "outputs": [
    {
     "ename": "TypeError",
     "evalue": "sentiment_valence() missing 4 required positional arguments: 'sentitext', 'item', 'i', and 'sentiments'",
     "output_type": "error",
     "traceback": [
      "\u001b[0;31m------------------------------------------------------------\u001b[0m",
      "\u001b[0;31mTypeError\u001b[0m                  Traceback (most recent call last)",
      "\u001b[0;32m<ipython-input-24-6f3326dcf5de>\u001b[0m in \u001b[0;36m<module>\u001b[0;34m\u001b[0m\n\u001b[1;32m      1\u001b[0m \u001b[0msid\u001b[0m\u001b[0;34m.\u001b[0m\u001b[0mpolarity_scores\u001b[0m\u001b[0;34m(\u001b[0m\u001b[0ma\u001b[0m\u001b[0;34m)\u001b[0m\u001b[0;34m\u001b[0m\u001b[0m\n\u001b[0;32m----> 2\u001b[0;31m \u001b[0msid\u001b[0m\u001b[0;34m.\u001b[0m\u001b[0msentiment_valence\u001b[0m\u001b[0;34m(\u001b[0m\u001b[0ma\u001b[0m\u001b[0;34m)\u001b[0m\u001b[0;34m\u001b[0m\u001b[0m\n\u001b[0m",
      "\u001b[0;31mTypeError\u001b[0m: sentiment_valence() missing 4 required positional arguments: 'sentitext', 'item', 'i', and 'sentiments'"
     ]
    }
   ],
   "source": [
    "sid.polarity_scores(a)\n",
    "sid.sentiment_valence(a)"
   ]
  },
  {
   "cell_type": "code",
   "execution_count": 10,
   "metadata": {},
   "outputs": [
    {
     "name": "stdout",
     "output_type": "stream",
     "text": [
      "##SOMEHOWRATIONAL\n",
      "https://discussion.theguardian.com/comment-permalink/153639308\n",
      "https://profile.theguardian.com/user/id/17763035\n",
      "\n",
      "I use the term meaning a world view that treats the market and capitalism not as a useful economic tool, but as something untouchable that is supposed to bring solutions in all kinds of areas. Capitalism not as a mere economic system but as a guiding principle for everything.I associate the term with a drive to privatize everything as well as confusing democracy with socialism. Everything is being called \"socialist\" even when it is just democratic common sense as soon as there is a role for the state in it. Not wanting to privatize infrastructure is not socialist.Similarly there is the idea that society doesn't exist as such, but that it is nothing but a collection of individuals. Which is true in a sense, but that it similar to saying a table doesn't exist as it is nothing but a collection of atoms. There is also the idea connected to it that there is no such thing as public service and that politicians are always only out for their own interest. Which is of course a perfect justification for corruption and goes hand in hand with the disdain for regulation. Of course criminals dislike regulation and red tape.In other words \"neoliberalism\" is denying the existence of a public sphere in the democratic sense as this view denies the very existence of a public as well as the idea of a \"public interest\". The \"state\" is seen as something alien and evil, best reduced to as small an existence as possible. This worldview is fundamentally anti-democratic in my opinion. There is complete lack of understanding that in a democracy the state is the political representation of the people. Maybe a different term would be better than \"neoliberalism\", the term doesn't matter as much. But these concepts are widespread, influential and - in my view at least - very damaging.\n",
      "They have also prepared the ground for **TRUMP** and others like him, by spreading cynicism about democracy wherever you look.\n",
      "\n",
      "##THEDEPTFORDBOUNDER\n",
      "https://discussion.theguardian.com/comment-permalink/153638051\n",
      "https://profile.theguardian.com/user/id/17100331\n",
      "\n",
      "It's quite true to say neoliberal is the most lazily applied epithet and all purpose insult of our age. Why can't people just call out rapacious capitalism for what it is rather than use a term that doesn't stand up to etymological scrutiny (i.e. it doesn't do what it says on the tin). There are plenty of rapacious capitalists about who claim to be both 'populists' and opponents of 'neo-liberal elites', from **TRUMP** downwards, and as a consequence they are given a free pass by people who are only too quick to point the finger at 'revisionists' like Macron and even Starmer. The fact that 'the (self appointed) left' waste so much energy on this rather than directly calling out the daily corruption and chicanery all around us is why they so rarely win elections, it's a form of collective narcissism that actually denies ordinary people the kind of social justice and equality of life chances and opportunities that they are crying out for now, not some hypothetical moment in the distant future when 'the left' has finally purged itself of all revisionist tendencies (i.e. never).\n",
      "\n",
      "##PARCELOFROGUE\n",
      "https://discussion.theguardian.com/comment-permalink/153638210\n",
      "https://profile.theguardian.com/user/id/3489183\n",
      "\n",
      "A better term than neoliberalism would be Extreme Marketism. The term liberal has all sort of other meanings wrapped into it, which often do not apply.\n",
      "These Extreme Free Market crowd ( Extreme Free Marketeers ) are often not open tolerant people, but hang 'em and flog 'em right wing tories and some neofascists who want severe restrictions and penalties on people that are anything but liberal. Think Farage, or better still, don't do.They want freedom for money only, to avoid taxes, to fence hot money from stolen assets or illegal activities. So money can travel but many people are not allowed.\n",
      "The Extreme Free marketeers in USA are **TRUMP**ists and the Tea Party wing of the Republicans. The hypocrites went on and on about hand outs and \"big government\" but once the pandemic hit they were claiming for every last cent. Even \"Build that wall\" turned out to be fraudulent money raising so Bannon could live in luxury.\n",
      "\n",
      "##APORETE\n",
      "https://discussion.theguardian.com/comment-permalink/153635647\n",
      "https://profile.theguardian.com/user/id/105882863\n",
      "\n",
      "As seriously, a belief in neoliberal hegemony ducks the question whether it makes sense to think of today’s right as neoliberal. I can see the idea’s appeal. \n",
      "Elements of it are (they say) post-neoliberal. **TRUMP** and Johnson are, as you point out, opposed to core tenets of neoliberalism.\n",
      "Also, the term is quite straightforward - it posits labour's freedom to compete on equal terms for the chance to make themselves useful to (now global) capital - which is sacrosanct. This is why early liberals fought tooth and nail against slavery and also fought tooth and nail to preserve the nightmare of child labour.\n",
      "\n",
      "##IHATECAPTCHAS\n",
      "https://discussion.theguardian.com/comment-permalink/153638140\n",
      "https://profile.theguardian.com/user/id/106724717\n",
      "\n",
      "They are all globalists - but I don't mean that in the traditional right wing slur sense as such.\n",
      "None of the above would have any problem with say Chinese or Saudi state owned companies owning any of our public services or infrastructure. Nor would they have a problem with jobs being offshored overseas.\n",
      "I'm not going to comment on whether that is bad or good, but that's where they stand. **TRUMP**, Sanders and Corbyn but also Starmer and Charles Kennedy would probably take a very different view. Again it is up to the reader to decide on how they view that.\n",
      "\n",
      "##A_REBOUR\n",
      "https://discussion.theguardian.com/comment-permalink/153638282\n",
      "https://profile.theguardian.com/user/id/103109953\n",
      "\n",
      "They refuse to understand. It must be some kind of residual belief in goodness - what in British politics was known as the 'Good Chap' theory of govt. Having good chaps as our checks and balances was the reason we didn't need a proper constitution, the thing that saved - to some extent - the US.And people still refuse to understand why **TRUMP** invented Stop the Steal - he rorted $60M in one month in donations from the low information crowd on the back of it.\n",
      "\n",
      "##JUSME2\n",
      "https://discussion.theguardian.com/comment-permalink/153639091\n",
      "https://profile.theguardian.com/user/id/11657365\n",
      "\n",
      "I've been wondering how the word \"liberal\" could be used in any way to describe people like Johnson, **TRUMP**, Clinton, Morrison etcConservative doesn't really cut it either because some things they do are extremely radical imo. (like going to war at the drop of a hat).So I just think of them as \"right wingers\". That especially dishonest, greedy & cruel type of person that happily changes from conservative to liberal depending on what they want at that moment.\n",
      "\n",
      "##NEUTRALPADDY\n",
      "https://discussion.theguardian.com/comment-permalink/153638884\n",
      "https://profile.theguardian.com/user/id/2912649\n",
      "\n",
      "Did **TRUMP**s mob on Jan 6 constitute 'neo-liberals' ? Partly ? There is a terrifying story elsewhere a 30+ slide Powerpoint has emerged as to how **TRUMP** had detailed plans to invoke emergency powers & halt in its tracks handing over to Biden. Is that how low neo-liberals will stoop?\n",
      "\n",
      "##3RDROCK\n",
      "https://discussion.theguardian.com/comment-permalink/153637067\n",
      "https://profile.theguardian.com/user/id/17346623\n",
      "\n",
      "Yes though the media cannot be blamed for people's choices in an election. Look at **TRUMP** who was hated by the press yet still managed to secure a win.\n",
      "\n",
      "Propaganda is a wonderful thing - especially when aimed at an audience whose shoe size exceeds their IQ. ;-)\n",
      "\n",
      "##EARLBERTEONI\n",
      "https://discussion.theguardian.com/comment-permalink/153636323\n",
      "https://profile.theguardian.com/user/id/2454201\n",
      "\n",
      "**TRUMP** had a huge amount of media support, notably from Fox News but also from many local outlets. Plus his self-administered media presence on Twitter and Facebook. The idea that he won *despite* a hostile media is clearly nonsense.\n",
      "\n",
      "##MFISHER\n",
      "https://discussion.theguardian.com/comment-permalink/153636414\n",
      "https://profile.theguardian.com/user/id/106698196\n",
      "\n",
      "So did Corbyn in the Guardian or on Facebook where everyone gets their news now, **TRUMP** was rubbished by the majority of the urban establishment but is still seen as a hero in rural areas.\n",
      "\n",
      "##TIMERSET\n",
      "https://discussion.theguardian.com/comment-permalink/153637990\n",
      "https://profile.theguardian.com/user/id/102217262\n",
      "\n",
      "Exactly. Same with **TRUMP**. He doesn't give a shit about left or right. All he cares about is **TRUMP**, so he will choose the side that will help his personal finances and self-interest.\n",
      "\n",
      "##BOBMEYRICK\n",
      "https://discussion.theguardian.com/comment-permalink/153639297\n",
      "https://profile.theguardian.com/user/id/4773741\n",
      "\n",
      "Look at **TRUMP** who was hated by the press yet still managed to secure a win.\n",
      "I presume you're referring to 2016 rather than 2020. Remember he had, ahem, \"outside help\"...\n",
      "\n",
      "##HFLASHMAN\n",
      "https://discussion.theguardian.com/comment-permalink/153635885\n",
      "https://profile.theguardian.com/user/id/4259440\n",
      "\n",
      "Having gone down this route & courting the UKIPers the Conservatives have got more **TRUMP**ian in recent years & it's difficult to know what they actually stand for.\n",
      "\n",
      "##MFISHER\n",
      "https://discussion.theguardian.com/comment-permalink/153635817\n",
      "https://profile.theguardian.com/user/id/106698196\n",
      "\n",
      "Yes though the media cannot be blamed for people's choices in an election. Look at **TRUMP** who was hated by the press yet still managed to secure a win.\n",
      "\n",
      "##MFISHER\n",
      "https://discussion.theguardian.com/comment-permalink/153637079\n",
      "https://profile.theguardian.com/user/id/106698196\n",
      "\n",
      "Indeed but the Democrats kept blaming Facebook for Russian influence because it was instrumental in getting **TRUMP** elected.\n",
      "\n",
      "##TIMTHEOUS\n",
      "https://discussion.theguardian.com/comment-permalink/153639251\n",
      "https://profile.theguardian.com/user/id/10511989\n",
      "\n",
      "fox news combined with favourable newspapers owned by Murdochgave the world **TRUMP**...to pretend otherwise is insulting\n"
     ]
    }
   ],
   "source": [
    "target = 'decolon'\n",
    "target = 'science'\n",
    "target = 'trump'\n",
    "\n",
    "\n",
    "xx = [x for x in all_comments if target.lower() in x.lower() and  len(x) > 20]\n",
    "yy = [x for x in all_comments if '#pin' in x.lower() and 2000 > len(x) > 20]\n",
    "\n",
    "#print('\\n\\n'.join( ['\\n\\n'.join(x) for x in zip(xx,yy)])  )\n",
    "\n",
    "#print( '\\n\\n'.join(xx).replace(target, ) )\n",
    "pxx = re.compile(target, re.I)\n",
    "print( pxx.sub('**' + target.upper() + '**', \n",
    "              '\\n\\n'.join(xx)) )\n",
    "               \n",
    "#print( '\\n\\n'.join(xx) )\n"
   ]
  },
  {
   "cell_type": "code",
   "execution_count": 20,
   "metadata": {},
   "outputs": [
    {
     "data": {
      "text/plain": [
       "0.7820401046207497"
      ]
     },
     "execution_count": 20,
     "metadata": {},
     "output_type": "execute_result"
    }
   ],
   "source": [
    "(26/31) / (74/69)"
   ]
  },
  {
   "cell_type": "code",
   "execution_count": 64,
   "metadata": {},
   "outputs": [
    {
     "data": {
      "text/plain": [
       "529"
      ]
     },
     "execution_count": 64,
     "metadata": {},
     "output_type": "execute_result"
    }
   ],
   "source": [
    "23**2"
   ]
  },
  {
   "cell_type": "markdown",
   "metadata": {},
   "source": [
    "## "
   ]
  },
  {
   "cell_type": "code",
   "execution_count": 21,
   "metadata": {},
   "outputs": [
    {
     "data": {
      "text/plain": [
       "211"
      ]
     },
     "execution_count": 21,
     "metadata": {},
     "output_type": "execute_result"
    }
   ],
   "source": [
    "84 + 127"
   ]
  },
  {
   "cell_type": "code",
   "execution_count": 24,
   "metadata": {},
   "outputs": [
    {
     "data": {
      "text/plain": [
       "1.2842073077511085"
      ]
     },
     "execution_count": 24,
     "metadata": {},
     "output_type": "execute_result"
    }
   ],
   "source": [
    "84/211/.31"
   ]
  },
  {
   "cell_type": "code",
   "execution_count": 25,
   "metadata": {},
   "outputs": [
    {
     "data": {
      "text/plain": [
       "0.8723126588364586"
      ]
     },
     "execution_count": 25,
     "metadata": {},
     "output_type": "execute_result"
    }
   ],
   "source": [
    "127/211/.69"
   ]
  },
  {
   "cell_type": "code",
   "execution_count": 26,
   "metadata": {},
   "outputs": [
    {
     "data": {
      "text/plain": [
       "1.471264367816092"
      ]
     },
     "execution_count": 26,
     "metadata": {},
     "output_type": "execute_result"
    }
   ],
   "source": [
    "1.28/.87"
   ]
  },
  {
   "cell_type": "code",
   "execution_count": null,
   "metadata": {},
   "outputs": [],
   "source": []
  }
 ],
 "metadata": {
  "kernelspec": {
   "display_name": "NLPkernel",
   "language": "python",
   "name": "nlpkernel"
  },
  "language_info": {
   "codemirror_mode": {
    "name": "ipython",
    "version": 3
   },
   "file_extension": ".py",
   "mimetype": "text/x-python",
   "name": "python",
   "nbconvert_exporter": "python",
   "pygments_lexer": "ipython3",
   "version": "3.6.5"
  }
 },
 "nbformat": 4,
 "nbformat_minor": 2
}
