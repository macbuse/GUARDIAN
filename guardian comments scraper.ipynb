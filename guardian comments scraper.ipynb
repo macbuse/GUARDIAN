{
 "cells": [
  {
   "cell_type": "raw",
   "metadata": {},
   "source": [
    "# Basic scraping for Guardian discussions u"
   ]
  },
  {
   "cell_type": "code",
   "execution_count": 1,
   "metadata": {},
   "outputs": [
    {
     "name": "stdout",
     "output_type": "stream",
     "text": [
      "[master 61c604e] web\n",
      " 1 file changed, 6 insertions(+)\n",
      " create mode 100644 tags\n",
      "Counting objects: 3, done.\n",
      "Delta compression using up to 12 threads.\n",
      "Compressing objects: 100% (3/3), done.\n",
      "Writing objects: 100% (3/3), 489 bytes | 489.00 KiB/s, done.\n",
      "Total 3 (delta 1), reused 0 (delta 0)\n",
      "remote: Resolving deltas: 100% (1/1), completed with 1 local object.\u001b[K\n",
      "To https://github.com/macbuse/GUARDIAN.git\n",
      "   0a936c8..61c604e  master -> master\n"
     ]
    }
   ],
   "source": [
    "! ./.g\n"
   ]
  },
  {
   "cell_type": "code",
   "execution_count": 59,
   "metadata": {},
   "outputs": [],
   "source": [
    "with open('guardian comments scraper.ipynb','r') as fp:\n",
    "    nb = fp.read()"
   ]
  },
  {
   "cell_type": "code",
   "execution_count": 60,
   "metadata": {},
   "outputs": [],
   "source": [
    "import re\n",
    "\n",
    "pp = re.compile(\"(https://www.the.*?)'\")\n",
    "lks = pp.findall(nb)\n",
    "\n",
    "with open('links.txt','a') as fp:\n",
    "    fp.write('\\n'.join(lks))"
   ]
  },
  {
   "cell_type": "code",
   "execution_count": 3,
   "metadata": {},
   "outputs": [],
   "source": [
    "import re \n",
    "import requests\n",
    "import pickle\n",
    "import json"
   ]
  },
  {
   "cell_type": "code",
   "execution_count": 9,
   "metadata": {},
   "outputs": [],
   "source": [
    "article_url = 'https://www.theguardian.com/commentisfree/2020/aug/19/ditch-the-algorithm-generation-students-a-levels-politics'\n",
    "article_url = 'https://www.theguardian.com/commentisfree/2020/aug/21/joe-biden-democrat-convention-nice-guy-trump-fight'\n",
    "article_url = 'https://www.theguardian.com/commentisfree/2020/aug/23/the-cruel-exams-algorithm-has-laid-bare-the-unfairness-at-the-heart-of-our-schools'\n",
    "article_url = 'https://www.theguardian.com/commentisfree/2020/sep/01/us-mainstream-right-vigilante-terror'\n",
    "article_url = 'https://www.theguardian.com/commentisfree/2020/aug/31/politicians-covid-19-statistics-statisticians'\n",
    "article_url = 'https://www.theguardian.com/commentisfree/2021/apr/14/boris-johnson-is-telling-scotland-that-the-union-is-no-longer-based-on-consent'\n",
    "article_url = 'https://www.theguardian.com/commentisfree/2021/may/10/retail-politics-movements-polarising-projects-promise'"
   ]
  },
  {
   "cell_type": "code",
   "execution_count": 11,
   "metadata": {},
   "outputs": [],
   "source": [
    "article_url = 'https://www.theguardian.com/commentisfree/2020/sep/29/rival-scientists-lockdowns-scientific-covid-19'\n",
    "article_url = 'https://www.theguardian.com/commentisfree/2020/oct/08/johnson-and-sturgeon-will-need-a-better-philosophy-than-precaution-to-rid-us-of-covid'\n",
    "article_url = 'https://www.theguardian.com/commentisfree/2020/oct/10/continual-local-lockdowns-answer-covid-control'\n",
    "article_url = 'https://www.theguardian.com/commentisfree/2020/oct/11/the-rebel-scientists-cause-would-be-more-persuasive-if-it-werent-so-half-baked'\n",
    "\n",
    "article_url = 'https://www.theguardian.com/commentisfree/2021/apr/03/undermining-the-astrazeneca-jab-is-a-dangerous-act-of-political-folly#comment-148440261'\n",
    "article_url = 'https://www.theguardian.com/commentisfree/2021/apr/09/boris-johnson-brexit-belfast-violence-eu-good-friday-agreement'\n",
    "article_url ='https://www.theguardian.com/commentisfree/2021/apr/02/culture-war-government-race-report'\n",
    "article_url = 'https://www.theguardian.com/commentisfree/2021/mar/18/britain-sunny-vaccine-optimism-april-delivery-delay'\n",
    "article_url ='https://www.theguardian.com/commentisfree/2021/apr/14/boris-johnson-is-telling-scotland-that-the-union-is-no-longer-based-on-consent'\n",
    "article_url = 'https://www.theguardian.com/commentisfree/2021/apr/15/britain-harness-social-sciences-covid-pandemic-deprivation'\n",
    "article_url = 'https://www.theguardian.com/commentisfree/2021/apr/16/government-race-report-evidence#comment-148662066'\n",
    "article_url ='https://www.theguardian.com/commentisfree/2021/apr/20/britain-falling-birthrate-covid-pandemic-conservatives-removed-support-for-parents'\n",
    "article_url = 'https://www.theguardian.com/commentisfree/2021/apr/21/bmi-eating-disorder-pandemic-treatment'\n",
    "article_url = 'https://www.theguardian.com/commentisfree/2021/apr/30/government-delays-covid-public-inquiry-health-crisis'\n",
    "article_url = 'https://www.theguardian.com/commentisfree/2021/may/07/humiliation-hartlepool-smalltown-detective-di-starmer'\n",
    "article_url ='https://www.theguardian.com/commentisfree/2021/aug/06/uk-government-experts-vaccinating-under-16s'\n",
    "article_url = 'https://www.theguardian.com/commentisfree/2021/aug/01/there-is-a-case-for-vaccine-passports-but-ministers-are-failing-to-make-it'\n",
    "article_url = 'https://www.theguardian.com/commentisfree/2021/aug/09/america-is-flying-blind-when-it-comes-to-the-delta-variant'\n",
    "article_url = 'https://www.theguardian.com/commentisfree/2021/aug/10/covid-vaccines-britain-scientific-solution-jabs'\n",
    "article_url = 'https://www.theguardian.com/commentisfree/2021/aug/13/denial-anti-vaxxers-climate-sceptics'\n",
    "article_url = 'https://www.theguardian.com/commentisfree/2018/apr/11/bbc-andrew-neil-media-politics'\n",
    "\n",
    "article_url = 'https://www.theguardian.com/commentisfree/2021/aug/15/vaccine-passports-are-less-a-threat-to-liberty-than-a-mark-of-solidarity'\n",
    "article_url = 'https://www.theguardian.com/theobserver/commentisfree/2021/aug/14/will-we-reach-herd-immunity-for-the-new-coronavirus'\n",
    "article_url = 'https://www.theguardian.com/commentisfree/2021/aug/15/vaccine-hesitancy-broken-relationship-state-conspiracy-theorists'\n",
    "article_url = 'https://www.theguardian.com/commentisfree/2021/aug/17/dominic-raab-news-foreign-secretary-taliban-kabul'\n",
    "article_url= 'https://www.theguardian.com/commentisfree/2021/dec/11/so-which-of-these-politicians-is-a-neoliberal-not-one-of-them'\n",
    "\n",
    "article_url = 'https://www.theguardian.com/commentisfree/2021/dec/12/omicron-is-sneaky-it-could-be-fatal-for-us-or-for-our-faith-in-government'"
   ]
  },
  {
   "cell_type": "code",
   "execution_count": 20,
   "metadata": {},
   "outputs": [],
   "source": [
    "article_url ='https://www.theguardian.com/commentisfree/2021/dec/06/google-silicon-valley-ai-timnit-gebru'\n",
    "article_url = 'https://www.theguardian.com/commentisfree/2021/dec/20/rightwingers-us-social-change-coming'\n",
    "article_url = 'https://www.theguardian.com/commentisfree/2021/dec/22/omicron-covid-restrictions-young-people'\n",
    "article_url = 'https://www.theguardian.com/politics/2022/jan/01/sir-tim-brighouse-many-hold-gove-responsible-expert-educator-sets-out-whats-gone-wrong-with-britains-schools'\n",
    "article_url ='https://www.theguardian.com/commentisfree/2022/jan/10/colston-four-britain-apology-for-past'"
   ]
  },
  {
   "cell_type": "code",
   "execution_count": null,
   "metadata": {},
   "outputs": [],
   "source": [
    "key = my_keys.keys['guardian']"
   ]
  },
  {
   "cell_type": "code",
   "execution_count": 21,
   "metadata": {},
   "outputs": [
    {
     "name": "stdout",
     "output_type": "stream",
     "text": [
      "/p/k9va7\n",
      "getting comments page no. 1\n",
      "there are 7 pages\n",
      "getting comments page no. 2\n",
      "getting comments page no. 3\n",
      "getting comments page no. 4\n",
      "getting comments page no. 5\n",
      "getting comments page no. 6\n",
      "getting comments page no. 7\n",
      "archiving to k9va7.pkl\n"
     ]
    }
   ],
   "source": [
    "#scrape the page and get the short url\n",
    "# 15/8/21  this failed and gave /p/temp\n",
    "short_url_pp =  re.compile('\"shortUrlId\":\"(.*?)\"')\n",
    "\n",
    "r = requests.get(article_url)\n",
    "mm = short_url_pp.search(r.text)\n",
    "short_url = mm.group(1)\n",
    "uu = r.text\n",
    "print(short_url)\n",
    "\n",
    "#the short url allows us to access the discussion\n",
    "# 15/8/21 api.nextgen.guardianapps.co.uk/discussion/ failed on \n",
    "# https://discussion.theguardian.com/discussion-api/discussion/p/tfmxg\n",
    "comments_url = 'https://api.nextgen.guardianapps.co.uk/discussion/%s.json'%short_url\n",
    "params = {'orderBy' : 'newest',\n",
    "          'pageSize' : 25,\n",
    "          'displayThreaded' : 'true',\n",
    "          'commentsClosed' : 'false',\n",
    "          'page' : '',\n",
    "          'maxResponses' : 50\n",
    "         }\n",
    "\n",
    "json_data =  []\n",
    "start_page  = 1\n",
    "last_page = None\n",
    "\n",
    "\n",
    "for num_page in range(start_page, 10**4):\n",
    "    print('getting comments page no.', num_page)\n",
    "    params['page'] = num_page\n",
    "    r = requests.get( comments_url, params=params)\n",
    "    json_data.append( r.text)\n",
    "    #The last page is a field in the json object\n",
    "    #I don't need to read this as json I could do a regexp\n",
    "    if num_page == start_page:\n",
    "        json_dict = json.loads(r.text)\n",
    "        last_page = json_dict['lastPage']\n",
    "        print('there are %d pages'%last_page)\n",
    "    if num_page == last_page : break\n",
    "        \n",
    "\n",
    "fn = '%s.pkl'%short_url.split('/')[-1]\n",
    "print('archiving to %s'%fn)\n",
    "with open(fn,'wb') as fp:\n",
    "    pickle.dump(json_data,fp)"
   ]
  },
  {
   "cell_type": "code",
   "execution_count": 2,
   "metadata": {},
   "outputs": [],
   "source": [
    "import pickle\n",
    "\n",
    "json_data = pickle.load(open('k4vhe.pkl','rb'))"
   ]
  },
  {
   "cell_type": "markdown",
   "metadata": {},
   "source": [
    "## remember each page of comments has been stored separately"
   ]
  },
  {
   "cell_type": "code",
   "execution_count": 9,
   "metadata": {},
   "outputs": [
    {
     "data": {
      "text/plain": [
       "14"
      ]
     },
     "execution_count": 9,
     "metadata": {},
     "output_type": "execute_result"
    }
   ],
   "source": [
    "dd = json.loads(json_data[0])\n",
    "len(json_data)"
   ]
  },
  {
   "cell_type": "code",
   "execution_count": 19,
   "metadata": {},
   "outputs": [
    {
     "data": {
      "text/plain": [
       "'\\n<div class=\"d-discussion d-discussion--recommendations-open u-cf\"\\n     data-read-only=\"false\" >\\n\\n    \\n    \\n        <div class=\"d-discussion__size-message\">\\n            Due to the large number of comments, they are being shown 100 per page.\\n        </div>\\n    \\n\\n\\n    <ul class=\"d-thread d-thread--comments js-new-comments\">\\n\\n        \\n            \\n\\n<li class=\"d-comment\\n            d-comment--top-level d-comment-staff\"\\n           id=\"comment-154007965\"\\n           data-comment-id=\"154007965\"\\n           data-comment-author=\"CommunityMod\"\\n           data-comment-replies=\"0\"\\n           data-comment-timestamp=\"2022-01-01T18:00:47.000Z\"\\n           data-comment-author-id=\"2902769\"\\n           data-comment-highlighted=\"false\"\\n           itemscope itemtype=\"http://schema.org/Comment\">\\n\\n    <div class=\"d-comment__inner d-comment__inner--top-level\">\\n        <div class=\"d-comment__meta\">\\n            <span class=\"d-comment__avatar-wrapper\">\\n                <img src=\"https://avatar.guim.co.uk/user/2902769\" alt=\"\" class=\"d-comment__avatar\"/>\\n            </span>\\n            <div class=\"d-comment__meta-text\">\\n                <span\\n                    itemscope\\n                    itemprop=\"author\"\\n                    itemtype=\"http://schema.org/Person\"\\n                    title=\"CommunityMod\"\\n                    class=\"d-comment__author\">\\n                    <a href=\"https://profile.theguardian.com/user/id/2902769\" itemprop=\"url\">\\n                        <span itemprop=\"givenName\">CommunityMod</span>\\n                    </a>\\n                </span>\\n\\n                \\n                <div class=\"d-comment__timestamp\">\\n                    <a href=\"https://discussion.theguardian.com/comment-permalink/154007965\" class=\"d-comment__timestamp block-time\">\\n                        <time class=\"js-timestamp\" itemprop=\"dateCreated\"\\n                            datetime=\"2022-01-01T18:00:47Z\"\\n                            data-timestamp=\"1641060047000\" data-relativeformat=\"med\"\\n                            title=\"Permalink to this comment (1 Jan 2022 18:00)\">1 Jan 2022 18:00</time>\\n                        \\n\\n<span  class=\"inline-comment-anchor inline-icon \" >\\n    \\n        <svg width=\"15\" height=\"15\" viewbox=\"0 0 15 15\" class=\"inline-comment-anchor__svg inline-icon__svg\">\\n <path fill=\"#898989\" d=\"M5.725 13.348a2.563 2.563 0 0 1-3.699-3.547l8.424-8.79a1.921 1.921 0 0 1 2.776 2.658l-6.894 7.193a1.277 1.277 0 0 1-1.812.038 1.28 1.28 0 0 1-.04-1.81l5.324-5.553.337.321-5.325 5.555a.815.815 0 0 0 1.175 1.128l6.896-7.193a1.456 1.456 0 0 0-2.101-2.015l-8.427 8.79a2.102 2.102 0 0 0 .063 2.965 2.098 2.098 0 0 0 2.965-.062l6.853-7.152.338.323-6.853 7.151z\" />\\n</svg>\\n    \\n</span>\\n\\n                    </a>\\n                </div>\\n\\n                \\n    <div class=\"d-comment__author-label\">\\n        \\n\\n<span  class=\"inline-marque-36 inline-icon d-comment__gu-icon\" >\\n    \\n        <svg width=\"36\" height=\"36\" viewbox=\"0 0 36 36\" class=\"d-comment__gu-icon__svg inline-marque-36__svg inline-icon__svg\">\\n <path d=\"M18 0a18 18 0 1 0 0 36 18 18 0 0 0 0-36\" />\\n <path fill=\"#FFF\" d=\"M21.2 4.4c2.3.4 5.3 2 6.3 3.1v5.2H27L21.2 5v-.6zm-2.2.4c-4 0-6.3 5.6-6.3 13.2 0 7.7 2.2 13.3 6.3 13.3v.6c-6 .4-14.4-4.2-14-13.8A13.3 13.3 0 0 1 19 4v.7zm10.4 14.4-1.9.9v8.6c-1 1-3.8 2.6-6.3 3.1V19.9l-2.2-.7v-.6h10.4v.6z\" />\\n</svg>\\n    \\n</span>\\n Staff\\n    </div>\\n\\n\\n\\n                \\n            </div>\\n        </div>\\n\\n        <div class=\"d-comment__content\">\\n\\n             \\n                <div\\n                    class=\"d-comment__recommend js-recommend-comment\"\\n                    data-comment-id=\"154007965\"\\n                    data-comment-url=\"https://discussion.theguardian.com/comment-permalink/154007965\"\\n                    data-user-id=\"2902769\"\\n                    data-recommend-count=\"1\"\\n                    title=\"1 recommendations\">\\n                    <button class=\"u-button-reset d-comment__recommend-button rounded-icon\" data-link-name=\"Recommend comment\" >\\n                        <span class=\"d-comment__recommend-pulse\"></span>\\n                        \\n\\n<span  class=\"inline-arrow-up-white inline-icon \" >\\n    \\n        <svg height=\"14\" width=\"15\" class=\"inline-arrow-up-white__svg inline-icon__svg\">\\n <path d=\"m.5 7 5.25-4.5V14h1.5V2.5L12.5 7l.5-1-5.75-6h-1.5L0 6l.5 1Z\" />\\n</svg>\\n    \\n</span>\\n\\n                    </button>\\n                    <span class=\"d-comment__recommend-count js-recommend-count\">\\n                        <span class=\"d-comment__recommend-count--old\">1</span>\\n                        <span class=\"d-comment__recommend-count--new\">2</span>\\n                    </span>\\n                </div>\\n            \\n\\n            <div class=\"d-comment__main \">\\n\\n                <div class=\"d-comment__body\" itemprop=\"text\">\\n                    \\n                        \\n                            <p>Comments will close here at 18:15 GMT.</p>\\n                        \\n                    \\n                </div>\\n                \\n                    <div class=\"d-comment__actions d-comment__actions--left modern-visible\">\\n                        <a class=\"d-comment__action d-comment__action--reply\" href=\"https://profile.theguardian.com/signin?returnUrl=https://discussion.theguardian.com/comment-permalink/154007965&componentEventParams=componentType%3Didentityauthentication%26componentId%3Dsignin_to_reply_comment\"\\n                                data-link-name=\"reply to comment\" data-comment-id=\"154007965\" role=\"button\">\\n                            \\n\\n<span  class=\"inline-reply inline-icon blue\" >\\n    \\n        <svg width=\"18\" height=\"18\" class=\"blue__svg inline-reply__svg inline-icon__svg\">\\n <path d=\"m10.1 5 .9-1 4 4.5v1L11 14l-.9-1 2.5-3H4L3 9V6.5h2V8h7.6l-2.5-3z\" />\\n</svg>\\n    \\n</span>\\n\\n                            Reply\\n                        </a>\\n\\n                        \\n                            \\n<div class=\"d-comment__action d-comment__action--share\">\\n\\n    <div class=\"sharing-text\">\\n\\n<span  class=\"inline-share inline-icon comment-share-icon\" >\\n    \\n        <svg width=\"12\" height=\"12\" viewbox=\"0 0 12 12\" class=\"comment-share-icon__svg inline-share__svg inline-icon__svg\">\\n <path d=\"M10.073 8.4c-.475 0-.906.19-1.225.497L3.54 6.221 3.555 6l-.015-.221 5.308-2.676c.319.308.75.497 1.225.497.982 0 1.778-.806 1.778-1.8S11.055 0 10.073 0 8.295.806 8.295 1.8l.016.233-5.299 2.675a1.762 1.762 0 0 0-1.236-.507c-.982 0-1.778.806-1.778 1.8s.796 1.8 1.778 1.8c.48 0 .915-.194 1.236-.507l5.299 2.675-.016.233c0 .994.796 1.8 1.778 1.8s1.778-.806 1.778-1.8-.796-1.8-1.778-1.8zm0-7.68c.588 0 1.067.484 1.067 1.08 0 .596-.479 1.08-1.067 1.08S9.006 2.396 9.006 1.8c0-.596.479-1.08 1.067-1.08zm0 10.56a1.075 1.075 0 0 1-1.067-1.08c0-.596.479-1.08 1.067-1.08s1.067.484 1.067 1.08c0 .596-.479 1.08-1.067 1.08z\" />\\n</svg>\\n    \\n</span>\\n <span>Share</span></div>\\n\\n    <div class=\"sharing-buttons\" data-link-name=\"comment social\">\\n    \\n        \\n            \\n\\n        <a href=\"https://www.facebook.com/dialog/share?app_id=180444840287&amp;href=https%3A%2F%2Fdiscussion.theguardian.com%2Fcomment-permalink%2F154007965&amp;quote=CommunityMod%20commented%3A%20%22Comments%20will%20close%20here%20at%2018%3A15%20GMT.%22\"\\n        target=\"_blank\"\\n        class=\"social__action social-icon-wrapper\"\\n        data-link-name=\"social-comment : facebook\">\\n            <span class=\"inline-icon__fallback button\">\\n                Share on Facebook</span>\\n            \\n\\n<span  class=\"inline-share-facebook inline-icon rounded-icon social-icon centered-icon social-icon--facebook comment-facebook-icon\" >\\n    \\n        <svg width=\"32\" height=\"32\" viewbox=\"-2 -2 32 32\" class=\"rounded-icon__svg social-icon__svg centered-icon__svg social-icon--facebook__svg comment-facebook-icon__svg inline-share-facebook__svg inline-icon__svg\">\\n <path d=\"M17.9 14h-3v8H12v-8h-2v-2.9h2V8.7C12 6.8 13.1 5 16 5c1.2 0 2 .1 2 .1v3h-1.8c-1 0-1.2.5-1.2 1.3v1.8h3l-.1 2.8z\" />\\n</svg>\\n    \\n</span>\\n\\n            <span class=\"u-h\">Facebook</span>\\n        </a>\\n    \\n\\n            \\n            \\n                \\n\\n        <a href=\"https://tw'"
      ]
     },
     "execution_count": 19,
     "metadata": {},
     "output_type": "execute_result"
    }
   ],
   "source": [
    "xx = json.loads(json_data[0])\n",
    "xx['commentsHtml'][:8000]"
   ]
  },
  {
   "cell_type": "code",
   "execution_count": null,
   "metadata": {},
   "outputs": [],
   "source": [
    "https://discussion.theguardian.com/comment-permalink/154003870"
   ]
  },
  {
   "cell_type": "code",
   "execution_count": 136,
   "metadata": {},
   "outputs": [
    {
     "name": "stdout",
     "output_type": "stream",
     "text": [
      " class=\"d-comment\n",
      "            d-comment--top-level\"\n",
      "           id=\"comment-144422422\"\n",
      "           data-comment-id=\"144422422\"\n",
      "           data-comment-author=\"Hushing\"\n",
      "           data-comment-replies=\"0\"\n",
      "           data-comment-timestamp=\"2020-10-11T14:25:06.000+01:00\"\n",
      "           data-comment-author-id=\"12407494\"\n",
      "           data-comment-highlighted=\"false\"\n",
      "           itemscope itemtype=\"http://schema.org/Comment\">\n",
      "\n",
      "    <div class=\"d-comment__inner d-comment__inner--top-level\">\n",
      "        <div class=\"\n"
     ]
    }
   ],
   "source": [
    "print( xx['commentsHtml'][200:700])"
   ]
  },
  {
   "cell_type": "code",
   "execution_count": 16,
   "metadata": {},
   "outputs": [],
   "source": [
    "pa = re.compile('data-comment-author=\"(.*?)\"')\n",
    "pid = re.compile('data-comment-author-id=\"(\\d+)')\n",
    "pcid = re.compile('\\sid=\"comment-(.*?)\"')\n",
    "pp = re.compile('<li class=\"d-comment(.*?)>',re.DOTALL)\n",
    "\n",
    "auths = []\n",
    "md = []\n",
    "for xx in json_data:\n",
    "    hh = json.loads(xx)['commentsHtml']\n",
    "    auths.extend(list( zip(pa.findall(hh), \n",
    "                           pid.findall(hh)\n",
    "                          )))\n",
    "    md.extend(pp.findall(hh))\n",
    "\n",
    "auths = list(set(auths))\n",
    "auths.sort(key=lambda x : x[0].lower())\n"
   ]
  },
  {
   "cell_type": "code",
   "execution_count": 102,
   "metadata": {},
   "outputs": [],
   "source": [
    "#print( '\\n'.join([x for x in md if 'pinkie' in x.lower()]))"
   ]
  },
  {
   "cell_type": "markdown",
   "metadata": {},
   "source": [
    "https://discussion.theguardian.com/comment-permalink/144375739"
   ]
  },
  {
   "cell_type": "code",
   "execution_count": 8,
   "metadata": {},
   "outputs": [],
   "source": [
    "auths = dict(auths)"
   ]
  },
  {
   "cell_type": "code",
   "execution_count": 9,
   "metadata": {},
   "outputs": [
    {
     "data": {
      "text/plain": [
       "'https://api.nextgen.guardianapps.co.uk/discussion//p/hvpq8.json'"
      ]
     },
     "execution_count": 9,
     "metadata": {},
     "output_type": "execute_result"
    }
   ],
   "source": [
    "comments_url"
   ]
  },
  {
   "cell_type": "code",
   "execution_count": 23,
   "metadata": {},
   "outputs": [],
   "source": [
    "\n",
    "from bs4 import BeautifulSoup\n",
    "\n",
    "def html2comments(x):\n",
    "    tt = json.loads(x)\n",
    "    soup = BeautifulSoup(tt['commentsHtml'],  \"lxml\")\n",
    "    raw = [ comment.text for comment in  \n",
    "            soup.findAll('div', {'class' : \"d-comment__body\"}) ]\n",
    "    \n",
    "    metadata = soup.findAll('span', {'class' : \"d-comment__author\"})\n",
    "    \n",
    "    \n",
    "    auth = [ x.text.upper().strip() for x in metadata]\n",
    "    auth_id = [ x.find('a')['href'] for x in metadata]\n",
    "    #this was a pain to do really\n",
    "    #the problem is blocked comments\n",
    "    comment_id = [ x['id'][len('comment-'):] for x in soup.findAll('li')]\n",
    " \n",
    "    \n",
    "    ss = '##{}\\nhttps://discussion.theguardian.com/comment-permalink/{}\\n{}\\n\\n{}'\n",
    "    return [ ss.format(a,b,d,c.strip())  \n",
    "                   for a,b,d,c in zip(auth, comment_id, auth_id, raw)]\n",
    "     \n",
    "all_texts = [ html2comments(page) for page in json_data[:] ]\n",
    "\n",
    "\n",
    "from itertools import chain\n",
    "all_comments = list(chain.from_iterable(all_texts))\n",
    "    "
   ]
  },
  {
   "cell_type": "code",
   "execution_count": 8,
   "metadata": {},
   "outputs": [
    {
     "ename": "AttributeError",
     "evalue": "'str' object has no attribute 'keys'",
     "output_type": "error",
     "traceback": [
      "\u001b[0;31m---------------------------------------------------------------------------\u001b[0m",
      "\u001b[0;31mAttributeError\u001b[0m                            Traceback (most recent call last)",
      "\u001b[0;32m<ipython-input-8-192aa39254d9>\u001b[0m in \u001b[0;36m<module>\u001b[0;34m\u001b[0m\n\u001b[0;32m----> 1\u001b[0;31m \u001b[0mjson_data\u001b[0m\u001b[0;34m[\u001b[0m\u001b[0;36m0\u001b[0m\u001b[0;34m]\u001b[0m\u001b[0;34m.\u001b[0m\u001b[0mkeys\u001b[0m\u001b[0;34m(\u001b[0m\u001b[0;34m)\u001b[0m\u001b[0;34m\u001b[0m\u001b[0;34m\u001b[0m\u001b[0m\n\u001b[0m",
      "\u001b[0;31mAttributeError\u001b[0m: 'str' object has no attribute 'keys'"
     ]
    }
   ],
   "source": []
  },
  {
   "cell_type": "markdown",
   "metadata": {},
   "source": [
    "# Random data hacking"
   ]
  },
  {
   "cell_type": "code",
   "execution_count": 24,
   "metadata": {
    "scrolled": true
   },
   "outputs": [
    {
     "data": {
      "text/plain": [
       "[('##MADORKALLAN', 16),\n",
       " ('##BOBBYKNOX', 12),\n",
       " ('##ERIZO_PSICODELICO', 10),\n",
       " ('##ROCKYREX', 9),\n",
       " ('##UPTHEIRONS', 9),\n",
       " ('##VTIMAN', 8),\n",
       " ('##UNEDUKATED', 8),\n",
       " ('##ELZORRO', 7),\n",
       " ('##HEALTHYMONGREL', 7),\n",
       " ('##UNASHAMEDPEDANT', 7),\n",
       " ('##BRIANBRADDOCK', 7),\n",
       " ('##G4ANDY49', 7),\n",
       " ('##BOOLING', 6),\n",
       " ('##ABOBRINHA', 6),\n",
       " ('##CRANSLEY', 6),\n",
       " ('##CARL123', 6),\n",
       " ('##KAVANGH', 5),\n",
       " ('##GAZOLEDELUTON', 5),\n",
       " ('##SPIKE501', 5),\n",
       " ('##CANARYATTHEWHARF', 5),\n",
       " ('##NATURAMORTE', 5),\n",
       " ('##SALLADIN', 5),\n",
       " ('##ABIMOPECTORE', 5)]"
      ]
     },
     "execution_count": 24,
     "metadata": {},
     "output_type": "execute_result"
    }
   ],
   "source": [
    "A = [x.split('\\n')[0] for x in all_comments]\n",
    "from collections import Counter\n",
    "AN = Counter(A)\n",
    "sorted([(x,y) for x,y in AN.items() if y > 4], key=lambda x : -x[1]) "
   ]
  },
  {
   "cell_type": "code",
   "execution_count": 4,
   "metadata": {},
   "outputs": [
    {
     "name": "stdout",
     "output_type": "stream",
     "text": [
      "[master 961a95f] web\n",
      " 5 files changed, 6099 insertions(+), 84 deletions(-)\n",
      " create mode 100644 .ipynb_checkpoints/gabyhinsliff-checkpoint.csv\n",
      " create mode 100644 gabyhinsliff.csv\n",
      " create mode 100644 k4vhe.pkl\n",
      "Counting objects: 7, done.\n",
      "Delta compression using up to 12 threads.\n",
      "Compressing objects: 100% (7/7), done.\n",
      "Writing objects: 100% (7/7), 782.59 KiB | 3.25 MiB/s, done.\n",
      "Total 7 (delta 4), reused 0 (delta 0)\n",
      "remote: Resolving deltas: 100% (4/4), completed with 4 local objects.\u001b[K\n",
      "To https://github.com/macbuse/GUARDIAN.git\n",
      "   61c604e..961a95f  master -> master\n"
     ]
    }
   ],
   "source": [
    "! ./.g\n"
   ]
  },
  {
   "cell_type": "code",
   "execution_count": 6,
   "metadata": {},
   "outputs": [
    {
     "name": "stdout",
     "output_type": "stream",
     "text": [
      "##ZIPPYSTEETH\n",
      "https://discussion.theguardian.com/comment-permalink/153894955\n",
      "https://profile.theguardian.com/user/id/100479875\n",
      "\n",
      "The CRG might think that as support for restriction wanes they are onto \n"
     ]
    }
   ],
   "source": [
    "print(all_comments[0][:200])"
   ]
  },
  {
   "cell_type": "code",
   "execution_count": 25,
   "metadata": {},
   "outputs": [
    {
     "name": "stdout",
     "output_type": "stream",
     "text": [
      "##HINEKAAHU\n",
      "https://discussion.theguardian.com/comment-permalink/154172327\n",
      "https://profile.theguardian.com/user/id/105225572\n",
      "\n",
      "As a member of an indigenous nation colonised by the British, I have an interest in these issues. 'The Crown' did give an apology, but to be honest, it meant little because it didn't actually do anything to reverse the situation that had been created when the British Red Coats swept in. My people were fortunate not to be slaughtered or besieged but many others were not so lucky. The Red Coats invaded a neighbouring tribe, murdering, raping women and children, burning the homes to the ground and destroying crops, and pushing families into starvation. Let me add here that these were peaceful villages whose only crime was to refuse to move from their lands when the Crown wanted to take them so that the region could be 'opened up' for settlement - ie, that the resources could be stolen by the British to fund their empire and the land turned over to speculators and developers. My own people were left diseased, starving, landless and forced into a subsistence living by providing a pool of poorly paid, cheap, seasonal labour for settlers. If anyone went to Parliament to try and alleviate the situation, settler and business lobby groups would scream and say this was all for our own good and it would 'ruin the economy' if we were to receive any meaningful legal protections for what we had left, which was previous little. On top of this, it was all, apparently, our own fault and if only we worked harder and lived more like the British, all our problems would go away. Apology? Who cares, words are cheap and easy. Actually doing something is what is required - it may be, for example, teaching this history in schools, funding scholarships, partnerships to rehabilitate our lands that have been abused and polluted for so long after the forests were razed and our beautiful lakes drained for farming. The British cut down every single tree and set fire to what was left, all to fund 'the Empire'. I don't hold any animosity for what happened, only sadness, but there is such a thing as righting the wrongs of the past. These are tangible today - there have been many studies that have traced current problems to what happened back in the day. It wasn't a short process either, even 100 years after the first British came to take the land for themselves, many of the indigenous people were still living subsistence livelihood, ravaged by European diseases, not in any small part due to starvation and poor living conditions. The Government, just as the Crown, simply refused any real solution, fearful of upsetting the lobby groups of the 'haves' by being seen to favour the 'have nots'. So they let people die. You might find it surprising then that I'm in two minds about tearing down statues. I see the reasons for tearing them down but I also see the reasons for keeping them up. Tearing down means erasure, but is that what is needed? Just because there's a statue doesn't mean it has to be revered, or reviled, for that matter, and if we take it away, is a piece of the past less accessible? I would be inclined to leave it up, but tell the unvarnished truth. Explain why the statue was put there and how people thought when it was put up, and how people think about it now. Being from a people whose past has been consistently denied, I see the value in claiming the past - all of it - and using the icons of the past to teach new lessons - and perhaps old ones.\n",
      "\n",
      "##BLACKCAT510\n",
      "https://discussion.theguardian.com/comment-permalink/154171390\n",
      "https://profile.theguardian.com/user/id/105959752\n",
      "\n",
      "Well, what we really need to consider is, what about taking down Colston’s statue to people really object to?\n",
      "1. Is it the destruction of history? Of course not. Could the average person tell you who Samuel Morley, once the Liberal MP for Bristol is, since there is a statue of him up in Bristol? Or Edmund Burke? I think it’s unlikely and if people did know anything about those figures, they’d know that they were great abolitionists and as much a part of our history as Colston and surely, by their logic, they would know about them? \n",
      "2. Is it about the law? The average person, me included, knows nothing about law. So the idea that conservative MPs or members of the public understand this trial better than the JURY MEMBERS who overwhelmingly voted not guilty, is unlikely, if not ludicrous.\n",
      "3. It’s about identity. People in Bristol were taught for decades that Colston was a kind benefactor (influenced significantly by the Merchant Venturers who refused to have Colston’s misleading plaque changed) and British people have been taught that the empire and Britain was always a great, glorious thing. It is now clear that, despite being a philanthropist to the non-catholic children of Bristol, there was certainly a lot more to Colston than that and that Britaing has often behaved very badly — and the world is shaped by that history. Conservatives can’t cope with that — to them, all British history is glorious and when it isn’t, it’s because people apparently had no moral fibre back then. But they certainly did, or Bristol wouldn’t have statues up of abolitionist MPs, would they? \n",
      "So what this is really about is a crisis of identity. The view some people have of Britain (and thus of themselves) has been challenged and they can’t cope. So if you want to learn about history, teach all of it in schools — that Britain had slavers and that the abolitionists eventually beat them.\n",
      "Why do you know of Colston’s statue? Is it because it was put up — or because it was torn down. Which do you object to more? That’s the issue here.\n",
      "\n",
      "##CONTINENTALCYCLIST\n",
      "https://discussion.theguardian.com/comment-permalink/154172242\n",
      "https://profile.theguardian.com/user/id/11797417\n",
      "\n",
      "There is something Orwellian about Johnson's Ministry of Truth. And it relates not merely to the history of England, Scotland, Ireland and Wales, but also to that of Africa, India, and notably the United States of America.\n",
      "There is nothing 'revisionist' in the critical appraisal of the past, and it has enormous repercussions in the present. \n",
      "Germany, with some success, tried to come to terms with its history, and is striving to continue. A pivot in Europe's present, of momentous importance for all living in Germany's ambit. (I cannot fail to remember that I was born within reach of the Wehrmacht's guns.)\n",
      "Japan's past appears to be untouchable, and it is poisoning the country's relations with its Asian neighbours. \n",
      "Russia has 'liquidated' MEMORIAL, concerned with literally unearthing the millions of victims of the GULAG and Stalinism, as well as the blood toll of the Second World War, itself the result of the Bolsheviks' military and economic ineptitude. With 'Moscow' still incapable of understanding that 'Malorussians' may have a will of their own independent of the Kremlin 'master historian', who is currently trying to bring disobedient Ukrainians back into the fold, once more by force. Like the Belorussians, and the Kazakhs, who can only be described as somehow 'Russian' by stretching the meaning of words to thinly veil Russian imperialism, in Central Asia as well as the Caucasus. \n",
      "Whereas in China the hecatombs of Mao's madness and the memory of the Tien An Men Square Massacre are taboo.\n",
      "It is intriguing that in a country like Britain gifted with so many historians focussing on other countries, the home turf seems to be so untouched. At least it appears so to the Continentalcyclist, who has immersed himself into British and American history, to the best of his abilities.\n",
      "Will the Colston trial be a turning point, with Britain trying to come to terms with its multi-layered past? Hurry up, I have not got much time left.\n",
      "\n",
      "##MICK233489\n",
      "https://discussion.theguardian.com/comment-permalink/154171286\n",
      "https://profile.theguardian.com/user/id/105349314\n",
      "\n",
      "The first question is, which past? Take slavery, Britain's history is complex. The nation went from a slave owning empire, to the leading anti-slaver state in the 19th century. With British military, economic and diplomatic power used to first stamp out the Atlantic slave trade and then eliminate slavery in Africa and the Americas. So which history are we going to discuss? Some of it, all of it?\n",
      "Who should we apologise to? Take the Irish question, many would say we should apologise for our involvement in Ireland, some have even talked of reparations. When you look at my ancestry only half of my family are actually English, the other half is Irish Catholic. So should I apologise and give compensation to myself? In the historical context am I villain, victim or neither?\n",
      "Whose morality should we judged history by? Even inside the lifetimes of those alive today, morality on many issues has changed. Is it fair to condemned those people for doing something that was seen as acceptable 20, 30 or 40 years ago by modern standards? Surely this gets trickier as we delve into history and start to judge people who died centuries ago by modern standards. When they lived in a world very different to our own?\n",
      "Even if we put these questions asides, is the article correct in believing that such a re-examination of our past would lead to better community cohesion? If a large community of English people in an Asian or African country began to demand that historic monuments were removed, streets/buildings renamed or local history was rewritten. Would that be seen as acceptable or a form of colonialism? Wouldn't the Guardian condemn such action as failing to respect local history and culture? As creating division and setting back integration between the communities?\n",
      "\n",
      "##KAVANGH\n",
      "https://discussion.theguardian.com/comment-permalink/154172385\n",
      "https://profile.theguardian.com/user/id/17075231\n",
      "\n",
      "- 'You shouldn't try to change things by breaking the law'. Yet Rosa Parks, ML King, Emily Pankhurst, Nelson Mandela did just that and are praised for it.\n",
      "MLK put in best in Birmingham Jail letter (edited slightly\n",
      "\n",
      "must make two honest confessions to you, my Christian and Jewish brothers. First, I must confess that over the past few years I have been gravely disappointed with the white moderate. I have almost reached the regrettable conclusion that the [Black person]'s great stumbling block in his stride toward freedom is not the White Citizen's Counciler or the Ku Klux Klanner, but the white moderate, who is more devoted to \"order\" than to justice; who prefers a negative peace which is the absence of tension to a positive peace which is the presence of justice; who constantly says: \"I agree with you in the goal you seek, but I cannot agree with your methods of direct action\"; who paternalistically believes he can set the timetable for another man's freedom; who lives by a mythical concept of time and who constantly advises the [Black person] to wait for a \"more convenient season.\" Shallow understanding from people of good will is more frustrating than absolute misunderstanding from people of ill will. Lukewarm acceptance is much more bewildering than outright rejection.\n",
      "\n",
      "Liberals will wring their hands and say how upset they are at racism but ultimately when it comes down to it they value their comfortable middle class institutions far, far more than they do fighting racism and will never actually back change least it hurt their white middle class comforts.\n",
      "\n",
      "##MARK_MK\n",
      "https://discussion.theguardian.com/comment-permalink/154171619\n",
      "https://profile.theguardian.com/user/id/14333987\n",
      "\n",
      "Once you start saying that Britain owes an apology for its past, you can never stop. Does Spain owe an apology for its treatment of the native peoples of South America who were slaughtered for their gold? How about the Romans and Ancient Greeks, who kept slaves? How about the various Middle Eastern countries which traded slaves?\n",
      "Of course many countries have had slaves in the past, so anyone concerned with morality should be taking this much more widely than just Bristol, or just the U.K., or even just Europe. \n",
      "But the wider point is that at the time when Britain was engaged in the slave trade, most of its citizens were also being exploited by a small class of powerful and wealthy people, so most British people have nothing to apologise for. Indeed, they themselves are surely also due an apology on the same grounds. There is plenty of evidence that people who tried to tackle the powerful and wealthy were killed (Peterloo), incarcerated (transported to Australia) or severely punished (imprisoned for being in debt, or stealing food), women were raped (Droit de seigneur) and men made to work in appallingly unsafe conditions (factories, mines…) or go to war to fight battles they had no interest in winning.\n",
      "So this constant portrayal of certain groups as victims just sets one group against another, instead of tackling the real issue which is how to address inequality.\n",
      "\n",
      "##WHATENLIGHTENMEANT\n",
      "https://discussion.theguardian.com/comment-permalink/154172395\n",
      "https://profile.theguardian.com/user/id/101865551\n",
      "\n",
      "Like any other statue, the statue of Colston forms part of an evolving story, one of cultural change.Culture should never allow itself to be defined by a political Party, because politics is so easily tempted to try to dictate it’s nature, in an effort to re-write norms, and truth itself. Culture is a product of a people, their traditions, arts and humanity. Culture is a living thing, reflecting complex and changing relationships, and in a sense a statue such as that of Colston takes a role in a narrative without beginning or end. Like a novel, like music, like poetry or painting, a statue can mean something to one generation, and something else to the next.\n",
      "Like political and historical figures, heroes and cultural icons, a statue can fall from grace as easily as from a plinth, and still form part of the evolving narrative of cultural truth.\n",
      "The fall, the fact and nature of it, the background and lead up to the event, all are relevant to both culture and storyline. The statue remains relevant, whether it is on a plinth, lying at the bottom of a harbour, or placed in a museum accompanied by an honest account explaining it’s continued significance. If a statue becomes damaged or defaced during the course of it’s ecistence, that only adds depth and context to the story.\n",
      "\n",
      "##GUERRILLASINTHEMIDST\n",
      "https://discussion.theguardian.com/comment-permalink/154171871\n",
      "https://profile.theguardian.com/user/id/103418641\n",
      "\n",
      "The nation went from a slave owning empire, to the leading anti-slaver state in the 19th century. With British military, economic and diplomatic power used to first stamp out the Atlantic slave trade and then eliminate slavery in Africa and the Americas.\n",
      "\n",
      "It's just a wee bit more complicated than that standard run of self-congratulatory bollocks. \n",
      "The British government really only accepted the abolitionist argument in 1807 as an excuse to attack French, Spanish and American shipping anywhere it could be found, and strangle the USA in its youth.Consider the \"Great Experiment\" in schlepping Indian labourers out to all corners of the empire to replace the slaves after 1835. Consider that the only freedom slaves on British plantations gained was the freedom to go away and die homeless if they weren't willing to stay on as indentured labour on the same masters' land - they were not given any means to live free lives after the formalities of abolition were over and done with.Consider the American Civil War - for its own cynical ends, Britain supported the Confederate side and its slave economy.And the only thing the British empire was trying to \"stamp out\" in Africa was any form of local independence and resistance to British rule.\n",
      "\n",
      "##ALEXANDERHENRY\n",
      "https://discussion.theguardian.com/comment-permalink/154172181\n",
      "https://profile.theguardian.com/user/id/3738183\n",
      "\n",
      "The Coulston statue should have gone years ago but for me , but the people to blame are local politicians in Bristol itself. Not least Marvin Rees who is of afro carribean heritage and a Labour member.But he makes his feelings on the issue here:\n",
      "https://www.theguardian.com/uk-news/2022/jan/06/bristol-mayor-colston-four-verdict-has-little-to-do-with-drive-to-tackle-racism\n",
      "It's a bit mealy mouthed but he's right in making the point that symbolic gestures-,especially by four white and suspiciously middle class looking white people don't really amount to much.\n",
      "In the meantime, everyone needs to put this in perspective and not wrongly and cynicaklly use it to promote the false claim that modern Britain is racist society.\n",
      "Making comments like:\n",
      " 'community relations are still strained as a result of deep inequalities that run, like cracks, from the past to the present.'\n",
      "Really? which communities exactly and how? \n",
      "or\n",
      "'a modern Britain that is as delusional about the moral integrity of its colonial heroes as it is about the health of its race and ethnic relations.'\n",
      "Most of us are well aware of the crimes of British imperialism and race relations in this country, especially between British people of colour is\n",
      "\n",
      "##HEALTHYMONGREL\n",
      "https://discussion.theguardian.com/comment-permalink/154171551\n",
      "https://profile.theguardian.com/user/id/13605942\n",
      "\n",
      "Very hard to get an unbiased view of Cromwell, who was both one of our greatest men and a man who in some ways failed to transcend what was bad in his society. The Irish massacres for which he was responsible happened, but they were limited, they were within the laws of war as then understood, and they took place in the context of a lot of previous violence - Cromwell no doubt believed too unquestioningly the stories of Irish atrocities and finally they need to be seen in the context of the violence in all parts of the countries. Think of the deaths in Leicester, or the population of Bristol abused by Rupert, or a town like Newark, ravaged by plague as a direct result of the wars. The Irish suffered during this period, but they were not the only peole to suffer.If you have been brought up to hate Cromwell, I pity you, but take comfort. Charles II, a man notable for having a moral compass no higher than that of our current PM, decreed that the key vengeance after the Restoration should be taken out on Cromwell's body, which was ritually dug up and insulted. Disgusting? Yes, but so much better than doing it to people who were still alive.\n",
      "\n",
      "##NOHAND\n",
      "https://discussion.theguardian.com/comment-permalink/154171296\n",
      "https://profile.theguardian.com/user/id/17634872\n",
      "\n",
      "The behaviour of the Government really beggars belief.\n",
      "We have the case of the Prime Minister who denied a gathering took place, then when faced with photographic evidence of said gathering states it was a work meeting, despite there being no evidence of notes being taken etc. Then there is the investigation into the payment for the refurbishment of the flat at No 11, where the investigator accepted the key messages were not available, when it transpired they were. Nothing to see here, the matter is closed.\n",
      "On the other hand you have these 4 people who have been through a jury trail and been found innocent. I was not there and am not qualified to pass comment on the decision, but accept a jury found them innocent. The response is to look for a re-trial, with lots of time and energy being spent discussing this in the press.\n",
      "Surely with the powers that we give the Government, the resources they have available and their ability to create laws they need to accept that this one is lost and they need to move on. On the other hand members of the public do not have these resources and if found innocent should be allowed to move on.\n",
      "\n",
      "##THREADBAREELBOWPATCH\n",
      "https://discussion.theguardian.com/comment-permalink/154172048\n",
      "https://profile.theguardian.com/user/id/4600373\n",
      "\n",
      "It's my understanding that the statue to Colston was erected in celebration of his philanthropic deeds, undertaken by Colston after he divested himself of his slavery interests/shares in the Royal Africa Company (a company established/headed by the brother of Charles II, later James II) - which Colston had sold to, then, William of Orange (later King). As such, it seems that Colston took the profits from his sins, and used them for good (not, in the main, towards the victims of the Company he had interests in, admittedly) - unlike the British Royal Family, who acquired his shares in the slave company and whose largesse was limited to themselves and their families. Accordingly, whilst I'd like to have seen the statue to Colston stay in place (there's more joy in heaven for one sinner that repents etc.), I'd be quite happy for any statues of James II or King Billy to be toppled as, as far as I'm aware, unlike Colston, they never did any good with the blood money they - or their descendants - came into.\n",
      "\n",
      "##FIRSTPOET\n",
      "https://discussion.theguardian.com/comment-permalink/154171922\n",
      "https://profile.theguardian.com/user/id/18308334\n",
      "\n",
      "Can't have it both ways. Either the UK is a diverse country of immigrants- in my and wife's case Irish landless peasants kucked off the land in the 1920s during the Civil War and ludicrous to feel any responsibility or it isn't and there is something called a 'country' that owes something for past wrongs. Perhaps descendents of the Moroccans or the Moroccan Government who destroyed the stable West African Songhai Empire leading to internecine warfare and tribal slaves as war booty just before the Portuguese arrived to trade are the root of the West African slave trade? Of course not. Presumably the large Brazilian community domiciled in the UK aren't guilty though it would be absurd to start dividing them into Portuguese ancestry groups- more likely to have exploited slaves? Legally this is nonsensical. Of course as much history as possible should be studied- the sorry tale of oppression everywhere. Of course there's too much to get through sensibly so it ends up being partial and therefore ideological.\n",
      "\n",
      "##KTTEACHER\n",
      "https://discussion.theguardian.com/comment-permalink/154172255\n",
      "https://profile.theguardian.com/user/id/4002464\n",
      "\n",
      "Denmark and Norway were in fact the first European countries to abolish slavery in 1803. The British abolished the slave trade in 1807 but not slavery, that did not happen until 1833. When we did abolish slavery we compensated slave owners but not the slaves. That’s not actually quite the humanitarian act we try to make out. We glorify white men and women who campaigned to end the slave trade but most adults know little or nothing about how we treated slave revolts or the the role literature from freed slaves played in educating the public. The story of the slave ship Zong is known by most young people but not most adults. Slaves thrown overboard simply to enable an insurance claim. Lies told in court to further that claim. Stories like that were forgotten yet Coulson glorified for how he spent the money he made from slavery. We fool ourselves about the kind of people we were in the 18th century. We made our selves rich on the suffering of others with even vicars having shares in slaving.\n",
      "\n",
      "##SQUARETHECIRCLE\n",
      "https://discussion.theguardian.com/comment-permalink/154171904\n",
      "https://profile.theguardian.com/user/id/101619758\n",
      "\n",
      "Looking at historical events in the cold light of day would force a lot of people to re-evaluate the things around them and might lead to the thought that there is a lot of inequality and that it is structural. But disturbing thoughts like this cause anxiety and stress, and the easy way out of this is to listen to mainstream propaganda that \"that is just all the woke lefties with their weird ideas\" problem sorted, nothing to worry about anymore, back to business as usual. I wondered about this in another context just over Christmas - how come that so many supermarkets pledge that they are donating unsold food to foodbanks, never ever pointing out why people need foodbanks in the first? It is easier to stick a propaganda plaster over the fact that social services of all sorts have been cut to the bones (the famous \"cutting red tape\"!) and so many people cannot hold it together any longer. Instead of looking at the fact that government dictated austerity is literally killing people.\n",
      "\n",
      "##NORFOLKRADICAL\n",
      "https://discussion.theguardian.com/comment-permalink/154171752\n",
      "https://profile.theguardian.com/user/id/103136284\n",
      "\n",
      "As a Welshman from a centuries-long line of serfs, am I an apologiser or an apologisee?\n",
      "\n",
      "Couple of things. \n",
      "The first is a nit-picky point. Serfdom ceased to exist in the British Isles since the 15th century. I assuming you mean your ancestors were exploited agricultural workers.\n",
      "From that we have to ask whether your ancestors benefited from empire, slavery and colonialism. On one level we all have as slavery essentially kick-started the Industrial Revolution and the continued existence of Empire benefited the country in trade terms right up until the 20th century. For a specifically Welsh perspective the colonialism report from the National Trust makes interesting reading. In the 18th century the owner of the Penrhyn Estate massively profited from slave plantations in Jamaica. He then ploughed that money into his agricultural estate and the local port and slate quarry. So it could be argued that part of the economy/infrastructure of North Wales comes directly from slavery.\n",
      "\n",
      "##REDSPERANZA\n",
      "https://discussion.theguardian.com/comment-permalink/154171814\n",
      "https://profile.theguardian.com/user/id/2658898\n",
      "\n",
      "The Germans, as we know, have words for many things. One such that the English language really should borrow is Vergangenheitsbewältigung.\n",
      "This means \"coming to terms with the past.\" Every German schoolkid is taught about it. \n",
      "As Germany is the great example of a nation confronting the darkness of its own history, Britain is the great example of a nation not doing so. I am convinced that difference explains so much about the relative state of each country today. The one, an imperfect but fundamentally decent democracy, a nation of honest triers. The other a deluded, self-pitying, nationalist mess, bordering on failed state status.\n",
      "The British empire was a centuries long criminal enterprise. Slavery, mass murder, despoilation, theft, on an epic scale. For most of its history since its formation in the 18th century, the UK was not, as the national myth would have it, a nation of plucky little Hobbits. It was Mordor. \n",
      "Deal with that history. Confront it, overcome it, and be free.\n",
      "\n",
      "##FURIONSTORMRAGE\n",
      "https://discussion.theguardian.com/comment-permalink/154171352\n",
      "https://profile.theguardian.com/user/id/4207020\n",
      "\n",
      "What should have really happened here is that the statue remained in place but the information about who he was should have been updated to tell people about the bad things he did and how society has changed for the better since his day.As someone in their mid 50s I've grown up through many phases of political correctness. When I was at school we all used words and did things that are entirely unacceptable now and people my age have had to make huge changes to their behaviour over their lifetime in comparison to younger people who are growing up in a nicer and more offence-aware society.We have come a long way from the time of Colston and even further still from the 60s and 70s of my school days and all become much better people but I often sense that this isn't recognised or respected when to change your behaviour for the better surely should be. We can't be persecuted forever for the wrongdoings of our historical generations. We weren't there then.\n",
      "\n",
      "##HEALTHYMONGREL\n",
      "https://discussion.theguardian.com/comment-permalink/154171815\n",
      "https://profile.theguardian.com/user/id/13605942\n",
      "\n",
      "I taught history for many years and managed to get the slave trade into the curriculum whenever I could. No child in my classes remained ignorant of vileness of the crime that was the slave trade. That said, I am skeptical of the breast-beating that seems to be demanded here. This crime was perpetrated in a society whose poor lived in conditions no better than the slaves, and who had no more political freedom. Colston is an interesting case in that he was a major donor to his city, and therefore deserves to be remembered in the round, as slaver and philanthropist. That is much more profitable and thought-provoking (scary, even) than taking sides over the destruction of his statue. He deserves a place in a museum of Bristol's history. We don't \"do\" statues these days, but if we did I would contrubute to one to commemorate the many men of the Royal Navy who died crushing the Atlantic slave trade. Is there a national memorial to them? There should be.\n",
      "\n",
      "##FREIXANET\n",
      "https://discussion.theguardian.com/comment-permalink/154172247\n",
      "https://profile.theguardian.com/user/id/4276811\n",
      "\n",
      "I basically agree with the author of this piece, but feel that by reducing and somewhat cariacaturing critics of the Colston topplers, she is perpetuating the damaging polarization of this topic. \n",
      "Critics of the topplers range from outright white supremacists and racists, through to people who were in favour of Colston being removed but were disquieted by the idea that the sudden action of a crowd (which, if a rope had got caught up in someone's ankles or neck, or someone hadn't got out of the way, could have resulted in death and injury) should have impunity. \n",
      "It is true that civil society failed the just cause in terms of removing the vile statue because Colstonites had Bristol CC stritched up. But civil society and its laws do exist for a good reason, and should be respected.\n",
      "I think that all columnists engaging in cultural wars themes should at least take the time to present and examine the more nunaced and moderate points of their opponents.\n"
     ]
    }
   ],
   "source": [
    "all_comments.sort(key=lambda x : -len(x) )\n",
    "print( '\\n\\n'.join(all_comments[:20]) )"
   ]
  },
  {
   "cell_type": "code",
   "execution_count": 7,
   "metadata": {},
   "outputs": [
    {
     "name": "stdout",
     "output_type": "stream",
     "text": [
      "[master 65b23aa] web\n",
      " 2 files changed, 167 insertions(+), 233 deletions(-)\n",
      " create mode 100644 jz8nk.pkl\n",
      "Enumerating objects: 6, done.\n",
      "Counting objects: 100% (6/6), done.\n",
      "Delta compression using up to 4 threads\n",
      "Compressing objects: 100% (4/4), done.\n",
      "Writing objects: 100% (4/4), 78.59 KiB | 1.33 MiB/s, done.\n",
      "Total 4 (delta 2), reused 0 (delta 0)\n",
      "remote: Resolving deltas: 100% (2/2), completed with 2 local objects.\u001b[K\n",
      "To https://github.com/macbuse/GUARDIAN.git\n",
      "   d2e0e21..65b23aa  master -> master\n"
     ]
    }
   ],
   "source": [
    "! ./.g"
   ]
  },
  {
   "cell_type": "code",
   "execution_count": 18,
   "metadata": {},
   "outputs": [
    {
     "name": "stderr",
     "output_type": "stream",
     "text": [
      "[nltk_data] Downloading package vader_lexicon to\n",
      "[nltk_data]     /home/gregmcshane/nltk_data...\n",
      "[nltk_data]   Package vader_lexicon is already up-to-date!\n"
     ]
    }
   ],
   "source": [
    "#https://towardsdatascience.com/sentimental-analysis-using-vader-a3415fef7664\n",
    "\n",
    "import nltk\n",
    "#nltk.download('vader_lexicon')\n",
    "\n",
    "from nltk.sentiment.vader import SentimentIntensityAnalyzer\n",
    "\n",
    "sid = SentimentIntensityAnalyzer()"
   ]
  },
  {
   "cell_type": "code",
   "execution_count": 22,
   "metadata": {},
   "outputs": [],
   "source": [
    "a = '''My views haven't changed. Leaving the EU will be of no benefit to anyone except those who hold money and power along with certain corporates and a smidgen of medium to small businesses.\n",
    "How else can it be when you are shutting shop to the most developed nations, the richest nations in the world, who are either in the EU or have market agreements with the EU. Even the emerging markets of China and India along with other developing economies are aspiring to develop trading agreements with the EU, the second largest economy in the world. Any deal with the UK will be secondary and will depend upon their agreement with the EU.\n",
    "Boris Johnson once said \"f**k business\". I take this as meaning there is something in it for them and they don't really care if businesses find it difficulA\n",
    "t to cope.\n",
    "I can see ministers and conservative MPs queuing to fill their pockets by acting as advisors for potential trade deals whilst the rest of the country are left struggling trying to rebuild their lives, especially following the pandemic. The same ministers will probably be looking to lower all kinds of standards from food and welfare to safety at work to improve their opportunities.\n",
    "When it comes to brinkmanship, I can only view this as getting away with whatever they can. I do not believe it is anything to do with negotiating an agreement that will be to the benefit of the UK or the EU as a whole, I don't believe our ministers are capable of doing that.'''"
   ]
  },
  {
   "cell_type": "code",
   "execution_count": 24,
   "metadata": {},
   "outputs": [
    {
     "ename": "TypeError",
     "evalue": "sentiment_valence() missing 4 required positional arguments: 'sentitext', 'item', 'i', and 'sentiments'",
     "output_type": "error",
     "traceback": [
      "\u001b[0;31m------------------------------------------------------------\u001b[0m",
      "\u001b[0;31mTypeError\u001b[0m                  Traceback (most recent call last)",
      "\u001b[0;32m<ipython-input-24-6f3326dcf5de>\u001b[0m in \u001b[0;36m<module>\u001b[0;34m\u001b[0m\n\u001b[1;32m      1\u001b[0m \u001b[0msid\u001b[0m\u001b[0;34m.\u001b[0m\u001b[0mpolarity_scores\u001b[0m\u001b[0;34m(\u001b[0m\u001b[0ma\u001b[0m\u001b[0;34m)\u001b[0m\u001b[0;34m\u001b[0m\u001b[0m\n\u001b[0;32m----> 2\u001b[0;31m \u001b[0msid\u001b[0m\u001b[0;34m.\u001b[0m\u001b[0msentiment_valence\u001b[0m\u001b[0;34m(\u001b[0m\u001b[0ma\u001b[0m\u001b[0;34m)\u001b[0m\u001b[0;34m\u001b[0m\u001b[0m\n\u001b[0m",
      "\u001b[0;31mTypeError\u001b[0m: sentiment_valence() missing 4 required positional arguments: 'sentitext', 'item', 'i', and 'sentiments'"
     ]
    }
   ],
   "source": [
    "sid.polarity_scores(a)\n",
    "sid.sentiment_valence(a)"
   ]
  },
  {
   "cell_type": "code",
   "execution_count": 31,
   "metadata": {},
   "outputs": [
    {
     "name": "stdout",
     "output_type": "stream",
     "text": [
      "##HELIOPOWER\n",
      "https://discussion.theguardian.com/comment-permalink/154171548\n",
      "https://profile.theguardian.com/user/id/14900488\n",
      "\n",
      "A lawyer wrote in The Times that in 1966, 2 men were cleared of helping a convicted spy George Blake to escape from Wormwood Scrubs because they believed his sentence of 42 years was too severe. \n",
      "In 1984 Clive Ponting was found not guilty of leaking secrets to an MP about the General Belgrano.\n",
      "The point the lawyer makes is that trail by jury can lead to 'perverse verdicts' and is an accepted feature of the law, if the thoughts of the jury are that the govt. is too oppressive or authoritarian. He adds that no precedent is set and each case has its own merits. \n",
      "So (my words), perhaps we can conclude the govt. with regard to the Colston 4 is demonstrating oppression and authoritarianism? We know this govt. has form with regard to people who disagree with their narrow minded and quite frankly reactionary views. That the right** WING** press seems to agree with the govt. should also be cause for concern. It is a slippery slope.\n",
      "\n",
      "##CRANSLEY\n",
      "https://discussion.theguardian.com/comment-permalink/154172194\n",
      "https://profile.theguardian.com/user/id/14968605\n",
      "\n",
      "The entire right** WING** media. They want you to ignore what Colston did, leave the statue there\n",
      "\n",
      "The concern being shown by those, including me, that you like to put under the umbrella of the right-wing media, is that the Jury was asked whether those responsible had committed an act of criminal damage.\n",
      "For the purposes of clarity, the offence is defined as:\n",
      "A person who without lawful excuse destroys or damages any property belonging to another, intending to destroy or damage any such property, or being reckless as to whether any such property would be destroyed or damaged, shall be guilty of an offence.\n",
      "The jury has failed in its duty. There is no doubt that those on trial were responsible for the damage. It is not the jury's place to apply leniency in the case because of the morals involved - that is the prerogative of the judge hearing the case.\n",
      "That is what is being criticised here.\n",
      "\n",
      "##MANOFTHEWORLD\n",
      "https://discussion.theguardian.com/comment-permalink/154172082\n",
      "https://profile.theguardian.com/user/id/1795079\n",
      "\n",
      "Even if an apology for the past made sense, it would be incredibly empowering for the Tories and the right** WING** press who would use it to fuel culture wars and present themselves as “humiliated victims”. Forced apologies are psychologically counterproductive - they stick in the throat. Anyone with a soul is already deeply sorry for victims of slavery and the culture that accompanied it. But that culture was overturned, and fought for. The US was much slower to act and much more defensive.\n",
      "\n",
      "##GOVERNMENTSIN\n",
      "https://discussion.theguardian.com/comment-permalink/154172408\n",
      "https://profile.theguardian.com/user/id/11264632\n",
      "\n",
      "Look at the attitudes of British liberals. They seem right** WING** in comparison to other nations. Always deflecting on British colonial history and suggesting that such racism helped build those other nations.\n",
      "It says a lot that American liberals are more left leaning than British ones. Yes, Britain has a huge, huge problem with its racist history and present day culture.\n",
      "\n",
      "##ILIKESPOONS\n",
      "https://discussion.theguardian.com/comment-permalink/154171822\n",
      "https://profile.theguardian.com/user/id/11832833\n",
      "\n",
      "The entire right** WING** media. They want you to ignore what Colston did, leave the statue there (which was an act of sanitising his past) and either pretend we had no part in slavery or act like we fixed it so everything is fine now.\n",
      "Not hard to figure out, you don't need to even look past the headlines.\n",
      "\n",
      "##KAVANGH\n",
      "https://discussion.theguardian.com/comment-permalink/154171426\n",
      "https://profile.theguardian.com/user/id/17075231\n",
      "\n",
      "Of course that's because the right** WING** only like history they can control and the plebs revolting against this vision, particularly is such spectacular fashion, endangers their grip upon the narrative.\n",
      "\n",
      "##DJF489\n",
      "https://discussion.theguardian.com/comment-permalink/154171539\n",
      "https://profile.theguardian.com/user/id/101380105\n",
      "\n",
      "Interesting to learn this right** WING** Tory government and its media machine don't really understand the law.Their plan to penalise backfired.\n",
      "\n",
      "##BEVREV\n",
      "https://discussion.theguardian.com/comment-permalink/154172237\n",
      "https://profile.theguardian.com/user/id/4212267\n",
      "\n",
      "The racist dog whistles of right** WING** politicians and media are alarmingly shrill, taking their playbook from Trump, no doubt.\n",
      "\n",
      "##BRIANBRADDOCK\n",
      "https://discussion.theguardian.com/comment-permalink/154171955\n",
      "https://profile.theguardian.com/user/id/17610467\n",
      "\n",
      "It's interesting that you appear to think that being against racism would repel right** WING** voters.\n",
      "\n",
      "##MARKTAIN9\n",
      "https://discussion.theguardian.com/comment-permalink/154171472\n",
      "https://profile.theguardian.com/user/id/16997217\n",
      "\n",
      "Are you suggesting that all twelve jurors were left** WING**?\n"
     ]
    }
   ],
   "source": [
    "target = 'decolon'\n",
    "target = 'science'\n",
    "target = 'irish'\n",
    "target = 'mandela'\n",
    "target = 'abolit'\n",
    "target = ' wing'\n",
    "\n",
    "\n",
    "xx = [x for x in all_comments if target.lower() in x.lower() and  len(x) > 20]\n",
    "yy = [x for x in all_comments if '#pin' in x.lower() and 2000 > len(x) > 20]\n",
    "\n",
    "#print('\\n\\n'.join( ['\\n\\n'.join(x) for x in zip(xx,yy)])  )\n",
    "\n",
    "#print( '\\n\\n'.join(xx).replace(target, ) )\n",
    "pxx = re.compile(target, re.I)\n",
    "print( pxx.sub('**' + target.upper() + '**', \n",
    "              '\\n\\n'.join(xx)) )\n",
    "               \n",
    "#print( '\\n\\n'.join(xx) )\n"
   ]
  },
  {
   "cell_type": "code",
   "execution_count": 20,
   "metadata": {},
   "outputs": [
    {
     "data": {
      "text/plain": [
       "0.7820401046207497"
      ]
     },
     "execution_count": 20,
     "metadata": {},
     "output_type": "execute_result"
    }
   ],
   "source": [
    "(26/31) / (74/69)"
   ]
  },
  {
   "cell_type": "code",
   "execution_count": 64,
   "metadata": {},
   "outputs": [
    {
     "data": {
      "text/plain": [
       "529"
      ]
     },
     "execution_count": 64,
     "metadata": {},
     "output_type": "execute_result"
    }
   ],
   "source": [
    "23**2"
   ]
  },
  {
   "cell_type": "markdown",
   "metadata": {},
   "source": [
    "## "
   ]
  },
  {
   "cell_type": "code",
   "execution_count": 21,
   "metadata": {},
   "outputs": [
    {
     "data": {
      "text/plain": [
       "211"
      ]
     },
     "execution_count": 21,
     "metadata": {},
     "output_type": "execute_result"
    }
   ],
   "source": [
    "84 + 127"
   ]
  },
  {
   "cell_type": "code",
   "execution_count": 24,
   "metadata": {},
   "outputs": [
    {
     "data": {
      "text/plain": [
       "1.2842073077511085"
      ]
     },
     "execution_count": 24,
     "metadata": {},
     "output_type": "execute_result"
    }
   ],
   "source": [
    "84/211/.31"
   ]
  },
  {
   "cell_type": "code",
   "execution_count": 25,
   "metadata": {},
   "outputs": [
    {
     "data": {
      "text/plain": [
       "0.8723126588364586"
      ]
     },
     "execution_count": 25,
     "metadata": {},
     "output_type": "execute_result"
    }
   ],
   "source": [
    "127/211/.69"
   ]
  },
  {
   "cell_type": "code",
   "execution_count": 26,
   "metadata": {},
   "outputs": [
    {
     "data": {
      "text/plain": [
       "1.471264367816092"
      ]
     },
     "execution_count": 26,
     "metadata": {},
     "output_type": "execute_result"
    }
   ],
   "source": [
    "1.28/.87"
   ]
  },
  {
   "cell_type": "code",
   "execution_count": null,
   "metadata": {},
   "outputs": [],
   "source": []
  }
 ],
 "metadata": {
  "kernelspec": {
   "display_name": "NLP",
   "language": "python",
   "name": "nlp"
  },
  "language_info": {
   "codemirror_mode": {
    "name": "ipython",
    "version": 3
   },
   "file_extension": ".py",
   "mimetype": "text/x-python",
   "name": "python",
   "nbconvert_exporter": "python",
   "pygments_lexer": "ipython3",
   "version": "3.8.5"
  },
  "widgets": {
   "application/vnd.jupyter.widget-state+json": {
    "state": {},
    "version_major": 2,
    "version_minor": 0
   }
  }
 },
 "nbformat": 4,
 "nbformat_minor": 4
}
