{
 "cells": [
  {
   "cell_type": "raw",
   "metadata": {},
   "source": [
    "# Basic scraping for Guardian discussions u"
   ]
  },
  {
   "cell_type": "code",
   "execution_count": null,
   "metadata": {},
   "outputs": [],
   "source": [
    "! ./.g\n"
   ]
  },
  {
   "cell_type": "code",
   "execution_count": 1,
   "metadata": {},
   "outputs": [
    {
     "name": "stdout",
     "output_type": "stream",
     "text": [
      " 8djv8.pkl                            kqqtv.pkl\n",
      " 94f6b.pkl                            kv6n2.pkl\n",
      " afuahirsch.csv                       kvf22.pkl\n",
      " davidsmith.csv                       liberation_femicide.ipynb\n",
      " edt72.pkl                            links_2020_8.txt\n",
      " eghyd.pkl                            links.txt\n",
      " egqhf.pkl                            matplotlib.ipynb\n",
      " ej7f5.pkl                            nickcohen.csv\n",
      " ejdxt.pkl                            \u001b[0m\u001b[01;35mNone0000000.png\u001b[0m\n",
      " et8zg.pkl                            owen-jones.csv\n",
      " etenk.pkl                            quad_forms.ipynb\n",
      " eyhx8.pkl                            README.md\n",
      " eytkx.pkl                            rebeccasolnit.csv\n",
      " f3ke9.pkl                            simontisdall.csv\n",
      " f4a3q.pkl                            tags\n",
      " f4vfe.pkl                            tbca8.pkl\n",
      " failed.txt                           tdvxp.pkl\n",
      " femicides2.csv                       te5tn.pkl\n",
      " femicides3.csv                       tedzk.pkl\n",
      " femicides.csv                        tfmxg.pkl\n",
      " fvkbb.pkl                            tfy7d.pkl\n",
      " gabyhinsliff.csv                     tgaxq.pkl\n",
      " gn7h4.pkl                            tgqq8.pkl\n",
      " goose_test_editorialis_miner.ipynb   tgxqd.pkl\n",
      "'guardian api and comments.ipynb'     tmp.txt\n",
      " guardian_api_prod.ipynb              transgender.csv\n",
      "'guardian comments scraper.ipynb'     \u001b[01;35mtt.jpg\u001b[0m\n",
      " guardian_extractor.ipynb             \u001b[01;35mtt.png\u001b[0m\n",
      " guardian_nlp.ipynb                   y57xb.pkl\n",
      " guardian_photo.ipynb                 y5kne.pkl\n",
      " h2tzt.pkl                            y6tvn.pkl\n",
      " h44zn.pkl                            y7f2f.pkl\n",
      " h452h.pkl                            y829j.pkl\n",
      " h4cq2.pkl                            y875b.pkl\n",
      " h5j4n.pkl                            y87zm.pkl\n",
      " h6v39.pkl                            y8h4q.pkl\n",
      " h8qmd.pkl                            y98ff.pkl\n",
      " hbc2e.pkl                            y99zz.pkl\n",
      " hbe5y.pkl                            yaa2q.pkl\n",
      " hvg6j.pkl                            yaedy.pkl\n",
      " hvpq8.pkl                            yavg9.pkl\n",
      " jnntf.pkl                            yb8ez.pkl\n",
      " jz8nk.pkl                            ybxgx.pkl\n",
      " k2dza.pkl                            yddvx.pkl\n",
      " k4vhe.pkl                            ye5m7.pkl\n",
      " k9va7.pkl                            yjvf7.pkl\n",
      " kdxb7.pkl                            ymmym.pkl\n",
      " kfgzx.pkl                            yvv24.pkl\n",
      " kphq4.pkl                            yx7cz.pkl\n",
      " kpxyb.pkl                            yy437.pkl\n"
     ]
    }
   ],
   "source": [
    "ls\n"
   ]
  },
  {
   "cell_type": "code",
   "execution_count": null,
   "metadata": {},
   "outputs": [],
   "source": [
    "with open('guardian comments scraper.ipynb','r') as fp:\n",
    "    nb = fp.read()"
   ]
  },
  {
   "cell_type": "code",
   "execution_count": 60,
   "metadata": {},
   "outputs": [],
   "source": [
    "import re\n",
    "\n",
    "pp = re.compile(\"(https://www.the.*?)'\")\n",
    "lks = pp.findall(nb)\n",
    "\n",
    "with open('links.txt','a') as fp:\n",
    "    fp.write('\\n'.join(lks))"
   ]
  },
  {
   "cell_type": "code",
   "execution_count": 1,
   "metadata": {},
   "outputs": [],
   "source": [
    "import re \n",
    "import requests\n",
    "import pickle\n",
    "import json"
   ]
  },
  {
   "cell_type": "code",
   "execution_count": 9,
   "metadata": {},
   "outputs": [],
   "source": [
    "article_url = 'https://www.theguardian.com/commentisfree/2020/aug/19/ditch-the-algorithm-generation-students-a-levels-politics'\n",
    "article_url = 'https://www.theguardian.com/commentisfree/2020/aug/21/joe-biden-democrat-convention-nice-guy-trump-fight'\n",
    "article_url = 'https://www.theguardian.com/commentisfree/2020/aug/23/the-cruel-exams-algorithm-has-laid-bare-the-unfairness-at-the-heart-of-our-schools'\n",
    "article_url = 'https://www.theguardian.com/commentisfree/2020/sep/01/us-mainstream-right-vigilante-terror'\n",
    "article_url = 'https://www.theguardian.com/commentisfree/2020/aug/31/politicians-covid-19-statistics-statisticians'\n",
    "article_url = 'https://www.theguardian.com/commentisfree/2021/apr/14/boris-johnson-is-telling-scotland-that-the-union-is-no-longer-based-on-consent'\n",
    "article_url = 'https://www.theguardian.com/commentisfree/2021/may/10/retail-politics-movements-polarising-projects-promise'"
   ]
  },
  {
   "cell_type": "code",
   "execution_count": 11,
   "metadata": {},
   "outputs": [],
   "source": [
    "article_url = 'https://www.theguardian.com/commentisfree/2020/sep/29/rival-scientists-lockdowns-scientific-covid-19'\n",
    "article_url = 'https://www.theguardian.com/commentisfree/2020/oct/08/johnson-and-sturgeon-will-need-a-better-philosophy-than-precaution-to-rid-us-of-covid'\n",
    "article_url = 'https://www.theguardian.com/commentisfree/2020/oct/10/continual-local-lockdowns-answer-covid-control'\n",
    "article_url = 'https://www.theguardian.com/commentisfree/2020/oct/11/the-rebel-scientists-cause-would-be-more-persuasive-if-it-werent-so-half-baked'\n",
    "\n",
    "article_url = 'https://www.theguardian.com/commentisfree/2021/apr/03/undermining-the-astrazeneca-jab-is-a-dangerous-act-of-political-folly#comment-148440261'\n",
    "article_url = 'https://www.theguardian.com/commentisfree/2021/apr/09/boris-johnson-brexit-belfast-violence-eu-good-friday-agreement'\n",
    "article_url ='https://www.theguardian.com/commentisfree/2021/apr/02/culture-war-government-race-report'\n",
    "article_url = 'https://www.theguardian.com/commentisfree/2021/mar/18/britain-sunny-vaccine-optimism-april-delivery-delay'\n",
    "article_url ='https://www.theguardian.com/commentisfree/2021/apr/14/boris-johnson-is-telling-scotland-that-the-union-is-no-longer-based-on-consent'\n",
    "article_url = 'https://www.theguardian.com/commentisfree/2021/apr/15/britain-harness-social-sciences-covid-pandemic-deprivation'\n",
    "article_url = 'https://www.theguardian.com/commentisfree/2021/apr/16/government-race-report-evidence#comment-148662066'\n",
    "article_url ='https://www.theguardian.com/commentisfree/2021/apr/20/britain-falling-birthrate-covid-pandemic-conservatives-removed-support-for-parents'\n",
    "article_url = 'https://www.theguardian.com/commentisfree/2021/apr/21/bmi-eating-disorder-pandemic-treatment'\n",
    "article_url = 'https://www.theguardian.com/commentisfree/2021/apr/30/government-delays-covid-public-inquiry-health-crisis'\n",
    "article_url = 'https://www.theguardian.com/commentisfree/2021/may/07/humiliation-hartlepool-smalltown-detective-di-starmer'\n",
    "article_url ='https://www.theguardian.com/commentisfree/2021/aug/06/uk-government-experts-vaccinating-under-16s'\n",
    "article_url = 'https://www.theguardian.com/commentisfree/2021/aug/01/there-is-a-case-for-vaccine-passports-but-ministers-are-failing-to-make-it'\n",
    "article_url = 'https://www.theguardian.com/commentisfree/2021/aug/09/america-is-flying-blind-when-it-comes-to-the-delta-variant'\n",
    "article_url = 'https://www.theguardian.com/commentisfree/2021/aug/10/covid-vaccines-britain-scientific-solution-jabs'\n",
    "article_url = 'https://www.theguardian.com/commentisfree/2021/aug/13/denial-anti-vaxxers-climate-sceptics'\n",
    "article_url = 'https://www.theguardian.com/commentisfree/2018/apr/11/bbc-andrew-neil-media-politics'\n",
    "\n",
    "article_url = 'https://www.theguardian.com/commentisfree/2021/aug/15/vaccine-passports-are-less-a-threat-to-liberty-than-a-mark-of-solidarity'\n",
    "article_url = 'https://www.theguardian.com/theobserver/commentisfree/2021/aug/14/will-we-reach-herd-immunity-for-the-new-coronavirus'\n",
    "article_url = 'https://www.theguardian.com/commentisfree/2021/aug/15/vaccine-hesitancy-broken-relationship-state-conspiracy-theorists'\n",
    "article_url = 'https://www.theguardian.com/commentisfree/2021/aug/17/dominic-raab-news-foreign-secretary-taliban-kabul'\n",
    "article_url= 'https://www.theguardian.com/commentisfree/2021/dec/11/so-which-of-these-politicians-is-a-neoliberal-not-one-of-them'\n",
    "\n",
    "article_url = 'https://www.theguardian.com/commentisfree/2021/dec/12/omicron-is-sneaky-it-could-be-fatal-for-us-or-for-our-faith-in-government'"
   ]
  },
  {
   "cell_type": "code",
   "execution_count": 13,
   "metadata": {},
   "outputs": [],
   "source": [
    "article_url ='https://www.theguardian.com/commentisfree/2021/dec/06/google-silicon-valley-ai-timnit-gebru'\n",
    "article_url = 'https://www.theguardian.com/commentisfree/2021/dec/20/rightwingers-us-social-change-coming'\n",
    "article_url = 'https://www.theguardian.com/commentisfree/2021/dec/22/omicron-covid-restrictions-young-people'\n",
    "article_url = 'https://www.theguardian.com/politics/2022/jan/01/sir-tim-brighouse-many-hold-gove-responsible-expert-educator-sets-out-whats-gone-wrong-with-britains-schools'\n",
    "article_url ='https://www.theguardian.com/commentisfree/2022/jan/10/colston-four-britain-apology-for-past'\n",
    "article_url = 'https://www.theguardian.com/commentisfree/2022/jan/21/democrats-shape-up-bidens-presidency-trumpian-sequel'\n",
    "article_url = 'https://www.theguardian.com/commentisfree/2022/jan/28/joe-rogan-neil-young-spotify-streaming-service'"
   ]
  },
  {
   "cell_type": "code",
   "execution_count": 7,
   "metadata": {},
   "outputs": [],
   "source": [
    "article_url = 'https://www.theguardian.com/commentisfree/2022/mar/04/ukraine-eu-membership-zelenskiy-european-values-war'\n",
    "article_url = 'https://www.theguardian.com/commentisfree/2022/feb/27/liberal-democracies-must-defend-their-values-and-show-putin-that-the-west-isnt-weak'\n",
    "article_url = 'https://www.theguardian.com/commentisfree/2022/mar/06/progress-women-international-womens-day-labour-party'\n",
    "article_url = 'https://www.theguardian.com/commentisfree/2022/mar/09/vladimir-putin-west-downfall-dictator-democracies'\n",
    "article_url = 'https://www.theguardian.com/commentisfree/2022/mar/26/britain-clocks-go-forward-eu-us-hour-changes'\n",
    "article_url = 'https://www.theguardian.com/commentisfree/2022/mar/27/for-brazen-cynicism-i-have-seen-nothing-like-sunaks-plan-in-40-years'"
   ]
  },
  {
   "cell_type": "code",
   "execution_count": 2,
   "metadata": {},
   "outputs": [],
   "source": [
    "article_url = 'https://www.theguardian.com/commentisfree/2022/apr/01/straight-women-tv-shows-lesbians-sally-wainwright'\n",
    "article_url ='https://www.theguardian.com/commentisfree/2022/apr/06/united-nations-putin-ukraine-catastrophic'\n",
    "article_url = 'https://www.theguardian.com/commentisfree/2022/apr/10/stench-entitlement-now-oozing-from-rishi-sunaks-home-as-well-as-boris-johnsons'\n",
    "article_url = 'https://www.theguardian.com/commentisfree/2022/apr/10/orban-le-pen-voters-sening-chill-message-to-europes-beleagured-centre'\n",
    "article_url = 'https://www.theguardian.com/commentisfree/2022/apr/11/france-populism-gaining-ground-revolution'\n",
    "\n",
    "article_url = 'https://www.theguardian.com/commentisfree/2022/apr/12/herd-immunity-covid-reinfection-virus-world'\n",
    "article_url = 'https://www.theguardian.com/commentisfree/2022/apr/17/whoever-ends-up-in-elysee-palace-europeanism-is-already-on-the-way-out'\n",
    "article_url = 'https://www.theguardian.com/commentisfree/2022/apr/17/nato-should-talk-less-and-do-more-or-ukraine-will-be-torn-apart-bit-by-bit'\n",
    "article_url = 'https://www.theguardian.com/commentisfree/2022/apr/20/france-emmanuel-macron-president-far-right-marine-le-pen'\n",
    "article_url ='https://www.theguardian.com/commentisfree/2022/apr/23/france-vote-le-pen-macron-tv-debate-far-right'\n",
    "article_url = 'https://www.theguardian.com/commentisfree/2022/apr/22/hips-dont-lie-liam-gallagher-replacement-surgery-older-bodies'\n",
    "\n",
    "article_url = 'https://www.theguardian.com/commentisfree/2022/apr/25/french-left-emmanuel-macron-marine-le-pen-far-right-president'\n",
    "article_url = 'https://www.theguardian.com/commentisfree/2022/may/09/ncuti-gatwa-doctor-who-jodie-whittaker-whovians'\n",
    "article_url = 'https://www.theguardian.com/world/commentisfree/2022/apr/28/france-election-divide-campaign-split'\n",
    "\n",
    "article_url ='https://www.theguardian.com/commentisfree/2022/may/13/phone-north-sea-rebekah-vardy-coleen-rooney-libel-case'\n",
    "\n",
    "article_url = 'https://www.theguardian.com/commentisfree/2022/jun/09/west-victory-in-ukraine-escalation-war'\n",
    "article_url = 'https://www.theguardian.com/commentisfree/2022/jun/24/overturning-roe-story-is-women-unfreedom'\n",
    "article_url = 'https://www.theguardian.com/commentisfree/2022/jul/01/nicola-sturgeon-independence-referendum-britain'\n",
    "article_url = 'https://www.theguardian.com/commentisfree/2022/jul/11/would-be-mothers-parent-solo-dating-apps-children'"
   ]
  },
  {
   "cell_type": "code",
   "execution_count": null,
   "metadata": {},
   "outputs": [],
   "source": [
    "\n",
    "\n",
    "key = my_keys.keys['guardian']"
   ]
  },
  {
   "cell_type": "code",
   "execution_count": 3,
   "metadata": {},
   "outputs": [
    {
     "name": "stdout",
     "output_type": "stream",
     "text": [
      "/p/yydf9\n",
      "getting comments page no. 1\n",
      "there are 5 pages\n",
      "getting comments page no. 2\n",
      "getting comments page no. 3\n",
      "getting comments page no. 4\n",
      "getting comments page no. 5\n",
      "archiving to yydf9.pkl\n"
     ]
    }
   ],
   "source": [
    "#scrape the page and get the short url\n",
    "# 15/8/21  this failed and gave /p/temp\n",
    "short_url_pp =  re.compile('\"shortUrlId\":\"(.*?)\"')\n",
    "\n",
    "r = requests.get(article_url)\n",
    "mm = short_url_pp.search(r.text)\n",
    "short_url = mm.group(1)\n",
    "uu = r.text\n",
    "print(short_url)\n",
    "\n",
    "#the short url allows us to access the discussion\n",
    "# 15/8/21 api.nextgen.guardianapps.co.uk/discussion/ failed on \n",
    "# https://discussion.theguardian.com/discussion-api/discussion/p/tfmxg\n",
    "comments_url = 'https://api.nextgen.guardianapps.co.uk/discussion/%s.json'%short_url\n",
    "params = {'orderBy' : 'newest',\n",
    "          'pageSize' : 25,\n",
    "          'displayThreaded' : 'true',\n",
    "          'commentsClosed' : 'false',\n",
    "          'page' : '',\n",
    "          'maxResponses' : 50\n",
    "         }\n",
    "\n",
    "json_data =  []\n",
    "start_page  = 1\n",
    "last_page = None\n",
    "\n",
    "\n",
    "for num_page in range(start_page, 10**4):\n",
    "    print('getting comments page no.', num_page)\n",
    "    params['page'] = num_page\n",
    "    r = requests.get( comments_url, params=params)\n",
    "    json_data.append( r.text)\n",
    "    #The last page is a field in the json object\n",
    "    #I don't need to read this as json I could do a regexp\n",
    "    if num_page == start_page:\n",
    "        json_dict = json.loads(r.text)\n",
    "        last_page = json_dict['lastPage']\n",
    "        print('there are %d pages'%last_page)\n",
    "    if num_page == last_page : break\n",
    "        \n",
    "\n",
    "fn = '%s.pkl'%short_url.split('/')[-1]\n",
    "print('archiving to %s'%fn)\n",
    "with open(fn,'wb') as fp:\n",
    "    pickle.dump(json_data,fp)"
   ]
  },
  {
   "cell_type": "code",
   "execution_count": 2,
   "metadata": {},
   "outputs": [],
   "source": [
    "import pickle\n",
    "\n",
    "json_data = pickle.load(open('k4vhe.pkl','rb'))"
   ]
  },
  {
   "cell_type": "markdown",
   "metadata": {},
   "source": [
    "---\n",
    "\n",
    "## remember each page of comments has been stored separately"
   ]
  },
  {
   "cell_type": "code",
   "execution_count": 9,
   "metadata": {},
   "outputs": [
    {
     "data": {
      "text/plain": [
       "14"
      ]
     },
     "execution_count": 9,
     "metadata": {},
     "output_type": "execute_result"
    }
   ],
   "source": [
    "dd = json.loads(json_data[0])\n",
    "len(json_data)"
   ]
  },
  {
   "cell_type": "code",
   "execution_count": 19,
   "metadata": {},
   "outputs": [
    {
     "data": {
      "text/plain": [
       "'\\n<div class=\"d-discussion d-discussion--recommendations-open u-cf\"\\n     data-read-only=\"false\" >\\n\\n    \\n    \\n        <div class=\"d-discussion__size-message\">\\n            Due to the large number of comments, they are being shown 100 per page.\\n        </div>\\n    \\n\\n\\n    <ul class=\"d-thread d-thread--comments js-new-comments\">\\n\\n        \\n            \\n\\n<li class=\"d-comment\\n            d-comment--top-level d-comment-staff\"\\n           id=\"comment-154007965\"\\n           data-comment-id=\"154007965\"\\n           data-comment-author=\"CommunityMod\"\\n           data-comment-replies=\"0\"\\n           data-comment-timestamp=\"2022-01-01T18:00:47.000Z\"\\n           data-comment-author-id=\"2902769\"\\n           data-comment-highlighted=\"false\"\\n           itemscope itemtype=\"http://schema.org/Comment\">\\n\\n    <div class=\"d-comment__inner d-comment__inner--top-level\">\\n        <div class=\"d-comment__meta\">\\n            <span class=\"d-comment__avatar-wrapper\">\\n                <img src=\"https://avatar.guim.co.uk/user/2902769\" alt=\"\" class=\"d-comment__avatar\"/>\\n            </span>\\n            <div class=\"d-comment__meta-text\">\\n                <span\\n                    itemscope\\n                    itemprop=\"author\"\\n                    itemtype=\"http://schema.org/Person\"\\n                    title=\"CommunityMod\"\\n                    class=\"d-comment__author\">\\n                    <a href=\"https://profile.theguardian.com/user/id/2902769\" itemprop=\"url\">\\n                        <span itemprop=\"givenName\">CommunityMod</span>\\n                    </a>\\n                </span>\\n\\n                \\n                <div class=\"d-comment__timestamp\">\\n                    <a href=\"https://discussion.theguardian.com/comment-permalink/154007965\" class=\"d-comment__timestamp block-time\">\\n                        <time class=\"js-timestamp\" itemprop=\"dateCreated\"\\n                            datetime=\"2022-01-01T18:00:47Z\"\\n                            data-timestamp=\"1641060047000\" data-relativeformat=\"med\"\\n                            title=\"Permalink to this comment (1 Jan 2022 18:00)\">1 Jan 2022 18:00</time>\\n                        \\n\\n<span  class=\"inline-comment-anchor inline-icon \" >\\n    \\n        <svg width=\"15\" height=\"15\" viewbox=\"0 0 15 15\" class=\"inline-comment-anchor__svg inline-icon__svg\">\\n <path fill=\"#898989\" d=\"M5.725 13.348a2.563 2.563 0 0 1-3.699-3.547l8.424-8.79a1.921 1.921 0 0 1 2.776 2.658l-6.894 7.193a1.277 1.277 0 0 1-1.812.038 1.28 1.28 0 0 1-.04-1.81l5.324-5.553.337.321-5.325 5.555a.815.815 0 0 0 1.175 1.128l6.896-7.193a1.456 1.456 0 0 0-2.101-2.015l-8.427 8.79a2.102 2.102 0 0 0 .063 2.965 2.098 2.098 0 0 0 2.965-.062l6.853-7.152.338.323-6.853 7.151z\" />\\n</svg>\\n    \\n</span>\\n\\n                    </a>\\n                </div>\\n\\n                \\n    <div class=\"d-comment__author-label\">\\n        \\n\\n<span  class=\"inline-marque-36 inline-icon d-comment__gu-icon\" >\\n    \\n        <svg width=\"36\" height=\"36\" viewbox=\"0 0 36 36\" class=\"d-comment__gu-icon__svg inline-marque-36__svg inline-icon__svg\">\\n <path d=\"M18 0a18 18 0 1 0 0 36 18 18 0 0 0 0-36\" />\\n <path fill=\"#FFF\" d=\"M21.2 4.4c2.3.4 5.3 2 6.3 3.1v5.2H27L21.2 5v-.6zm-2.2.4c-4 0-6.3 5.6-6.3 13.2 0 7.7 2.2 13.3 6.3 13.3v.6c-6 .4-14.4-4.2-14-13.8A13.3 13.3 0 0 1 19 4v.7zm10.4 14.4-1.9.9v8.6c-1 1-3.8 2.6-6.3 3.1V19.9l-2.2-.7v-.6h10.4v.6z\" />\\n</svg>\\n    \\n</span>\\n Staff\\n    </div>\\n\\n\\n\\n                \\n            </div>\\n        </div>\\n\\n        <div class=\"d-comment__content\">\\n\\n             \\n                <div\\n                    class=\"d-comment__recommend js-recommend-comment\"\\n                    data-comment-id=\"154007965\"\\n                    data-comment-url=\"https://discussion.theguardian.com/comment-permalink/154007965\"\\n                    data-user-id=\"2902769\"\\n                    data-recommend-count=\"1\"\\n                    title=\"1 recommendations\">\\n                    <button class=\"u-button-reset d-comment__recommend-button rounded-icon\" data-link-name=\"Recommend comment\" >\\n                        <span class=\"d-comment__recommend-pulse\"></span>\\n                        \\n\\n<span  class=\"inline-arrow-up-white inline-icon \" >\\n    \\n        <svg height=\"14\" width=\"15\" class=\"inline-arrow-up-white__svg inline-icon__svg\">\\n <path d=\"m.5 7 5.25-4.5V14h1.5V2.5L12.5 7l.5-1-5.75-6h-1.5L0 6l.5 1Z\" />\\n</svg>\\n    \\n</span>\\n\\n                    </button>\\n                    <span class=\"d-comment__recommend-count js-recommend-count\">\\n                        <span class=\"d-comment__recommend-count--old\">1</span>\\n                        <span class=\"d-comment__recommend-count--new\">2</span>\\n                    </span>\\n                </div>\\n            \\n\\n            <div class=\"d-comment__main \">\\n\\n                <div class=\"d-comment__body\" itemprop=\"text\">\\n                    \\n                        \\n                            <p>Comments will close here at 18:15 GMT.</p>\\n                        \\n                    \\n                </div>\\n                \\n                    <div class=\"d-comment__actions d-comment__actions--left modern-visible\">\\n                        <a class=\"d-comment__action d-comment__action--reply\" href=\"https://profile.theguardian.com/signin?returnUrl=https://discussion.theguardian.com/comment-permalink/154007965&componentEventParams=componentType%3Didentityauthentication%26componentId%3Dsignin_to_reply_comment\"\\n                                data-link-name=\"reply to comment\" data-comment-id=\"154007965\" role=\"button\">\\n                            \\n\\n<span  class=\"inline-reply inline-icon blue\" >\\n    \\n        <svg width=\"18\" height=\"18\" class=\"blue__svg inline-reply__svg inline-icon__svg\">\\n <path d=\"m10.1 5 .9-1 4 4.5v1L11 14l-.9-1 2.5-3H4L3 9V6.5h2V8h7.6l-2.5-3z\" />\\n</svg>\\n    \\n</span>\\n\\n                            Reply\\n                        </a>\\n\\n                        \\n                            \\n<div class=\"d-comment__action d-comment__action--share\">\\n\\n    <div class=\"sharing-text\">\\n\\n<span  class=\"inline-share inline-icon comment-share-icon\" >\\n    \\n        <svg width=\"12\" height=\"12\" viewbox=\"0 0 12 12\" class=\"comment-share-icon__svg inline-share__svg inline-icon__svg\">\\n <path d=\"M10.073 8.4c-.475 0-.906.19-1.225.497L3.54 6.221 3.555 6l-.015-.221 5.308-2.676c.319.308.75.497 1.225.497.982 0 1.778-.806 1.778-1.8S11.055 0 10.073 0 8.295.806 8.295 1.8l.016.233-5.299 2.675a1.762 1.762 0 0 0-1.236-.507c-.982 0-1.778.806-1.778 1.8s.796 1.8 1.778 1.8c.48 0 .915-.194 1.236-.507l5.299 2.675-.016.233c0 .994.796 1.8 1.778 1.8s1.778-.806 1.778-1.8-.796-1.8-1.778-1.8zm0-7.68c.588 0 1.067.484 1.067 1.08 0 .596-.479 1.08-1.067 1.08S9.006 2.396 9.006 1.8c0-.596.479-1.08 1.067-1.08zm0 10.56a1.075 1.075 0 0 1-1.067-1.08c0-.596.479-1.08 1.067-1.08s1.067.484 1.067 1.08c0 .596-.479 1.08-1.067 1.08z\" />\\n</svg>\\n    \\n</span>\\n <span>Share</span></div>\\n\\n    <div class=\"sharing-buttons\" data-link-name=\"comment social\">\\n    \\n        \\n            \\n\\n        <a href=\"https://www.facebook.com/dialog/share?app_id=180444840287&amp;href=https%3A%2F%2Fdiscussion.theguardian.com%2Fcomment-permalink%2F154007965&amp;quote=CommunityMod%20commented%3A%20%22Comments%20will%20close%20here%20at%2018%3A15%20GMT.%22\"\\n        target=\"_blank\"\\n        class=\"social__action social-icon-wrapper\"\\n        data-link-name=\"social-comment : facebook\">\\n            <span class=\"inline-icon__fallback button\">\\n                Share on Facebook</span>\\n            \\n\\n<span  class=\"inline-share-facebook inline-icon rounded-icon social-icon centered-icon social-icon--facebook comment-facebook-icon\" >\\n    \\n        <svg width=\"32\" height=\"32\" viewbox=\"-2 -2 32 32\" class=\"rounded-icon__svg social-icon__svg centered-icon__svg social-icon--facebook__svg comment-facebook-icon__svg inline-share-facebook__svg inline-icon__svg\">\\n <path d=\"M17.9 14h-3v8H12v-8h-2v-2.9h2V8.7C12 6.8 13.1 5 16 5c1.2 0 2 .1 2 .1v3h-1.8c-1 0-1.2.5-1.2 1.3v1.8h3l-.1 2.8z\" />\\n</svg>\\n    \\n</span>\\n\\n            <span class=\"u-h\">Facebook</span>\\n        </a>\\n    \\n\\n            \\n            \\n                \\n\\n        <a href=\"https://tw'"
      ]
     },
     "execution_count": 19,
     "metadata": {},
     "output_type": "execute_result"
    }
   ],
   "source": [
    "xx = json.loads(json_data[0])\n",
    "xx['commentsHtml'][:8000]"
   ]
  },
  {
   "cell_type": "code",
   "execution_count": null,
   "metadata": {},
   "outputs": [],
   "source": [
    "https://discussion.theguardian.com/comment-permalink/154003870"
   ]
  },
  {
   "cell_type": "code",
   "execution_count": 136,
   "metadata": {},
   "outputs": [
    {
     "name": "stdout",
     "output_type": "stream",
     "text": [
      " class=\"d-comment\n",
      "            d-comment--top-level\"\n",
      "           id=\"comment-144422422\"\n",
      "           data-comment-id=\"144422422\"\n",
      "           data-comment-author=\"Hushing\"\n",
      "           data-comment-replies=\"0\"\n",
      "           data-comment-timestamp=\"2020-10-11T14:25:06.000+01:00\"\n",
      "           data-comment-author-id=\"12407494\"\n",
      "           data-comment-highlighted=\"false\"\n",
      "           itemscope itemtype=\"http://schema.org/Comment\">\n",
      "\n",
      "    <div class=\"d-comment__inner d-comment__inner--top-level\">\n",
      "        <div class=\"\n"
     ]
    }
   ],
   "source": [
    "print( xx['commentsHtml'][200:700])"
   ]
  },
  {
   "cell_type": "code",
   "execution_count": 16,
   "metadata": {},
   "outputs": [],
   "source": [
    "pa = re.compile('data-comment-author=\"(.*?)\"')\n",
    "pid = re.compile('data-comment-author-id=\"(\\d+)')\n",
    "pcid = re.compile('\\sid=\"comment-(.*?)\"')\n",
    "pp = re.compile('<li class=\"d-comment(.*?)>',re.DOTALL)\n",
    "\n",
    "auths = []\n",
    "md = []\n",
    "for xx in json_data:\n",
    "    hh = json.loads(xx)['commentsHtml']\n",
    "    auths.extend(list( zip(pa.findall(hh), \n",
    "                           pid.findall(hh)\n",
    "                          )))\n",
    "    md.extend(pp.findall(hh))\n",
    "\n",
    "auths = list(set(auths))\n",
    "auths.sort(key=lambda x : x[0].lower())\n"
   ]
  },
  {
   "cell_type": "code",
   "execution_count": 102,
   "metadata": {},
   "outputs": [],
   "source": [
    "#print( '\\n'.join([x for x in md if 'pinkie' in x.lower()]))"
   ]
  },
  {
   "cell_type": "markdown",
   "metadata": {},
   "source": [
    "https://discussion.theguardian.com/comment-permalink/144375739"
   ]
  },
  {
   "cell_type": "code",
   "execution_count": 8,
   "metadata": {},
   "outputs": [],
   "source": [
    "auths = dict(auths)"
   ]
  },
  {
   "cell_type": "code",
   "execution_count": 13,
   "metadata": {},
   "outputs": [
    {
     "data": {
      "text/plain": [
       "'https://api.nextgen.guardianapps.co.uk/discussion//p/yydf9.json'"
      ]
     },
     "execution_count": 13,
     "metadata": {},
     "output_type": "execute_result"
    }
   ],
   "source": [
    "comments_url"
   ]
  },
  {
   "cell_type": "code",
   "execution_count": 4,
   "metadata": {},
   "outputs": [],
   "source": [
    "from bs4 import BeautifulSoup\n",
    "import lxml\n",
    "\n",
    "def html2comments(x):\n",
    "    tt = json.loads(x)\n",
    "    soup = BeautifulSoup(tt['commentsHtml'],  features=\"xml\")\n",
    "    raw = [ comment.text for comment in  \n",
    "            soup.findAll('div', {'class' : \"d-comment__body\"}) ]\n",
    "    \n",
    "    metadata = soup.findAll('span', {'class' : \"d-comment__author\"})\n",
    "    \n",
    "    \n",
    "    auth = [ x.text.upper().strip() for x in metadata]\n",
    "    auth_id = [ x.find('a')['href'] for x in metadata]\n",
    "    #this was a pain to do really\n",
    "    #the problem is blocked comments\n",
    "    comment_id = [ x['id'][len('comment-'):] for x in soup.findAll('li')]\n",
    " \n",
    "    \n",
    "    ss = '##{}\\nhttps://discussion.theguardian.com/comment-permalink/{}\\n{}\\n\\n{}'\n",
    "    return [ ss.format(a,b,d,c.strip())  \n",
    "                   for a,b,d,c in zip(auth, comment_id, auth_id, raw)]\n",
    "     \n",
    "all_texts = [ html2comments(page) for page in json_data[:] ]\n",
    "\n",
    "\n",
    "from itertools import chain\n",
    "all_comments = list(chain.from_iterable(all_texts))\n",
    "    "
   ]
  },
  {
   "cell_type": "code",
   "execution_count": null,
   "metadata": {},
   "outputs": [],
   "source": []
  },
  {
   "cell_type": "markdown",
   "metadata": {},
   "source": [
    "# Random data hacking"
   ]
  },
  {
   "cell_type": "code",
   "execution_count": 30,
   "metadata": {
    "scrolled": true
   },
   "outputs": [
    {
     "data": {
      "text/plain": [
       "[('##RONNEWMEXICO', 21),\n",
       " ('##INTERIORBC', 15),\n",
       " ('##LOUISRIEL', 15),\n",
       " ('##GRYPHONISLE', 12),\n",
       " ('##BRITLIB', 11),\n",
       " ('##AADMAN', 10),\n",
       " ('##MYTINYTOY', 9),\n",
       " ('##SKEPTICSAYER', 9),\n",
       " ('##ELZORRO', 8),\n",
       " ('##JDIVNEY', 8),\n",
       " ('##RICHMANCHESTER', 8),\n",
       " ('##POPEALEXANDERVI', 7),\n",
       " ('##JUDYXAN', 7),\n",
       " ('##ALFREDE', 7),\n",
       " ('##UBERGEEKIAN', 7),\n",
       " ('##PIOTRKOWSKA', 7),\n",
       " ('##LISAMARIE3', 7),\n",
       " ('##SNAFU5001', 7),\n",
       " ('##PILRIG1954', 6),\n",
       " ('##IMISSRONRAFFERTY', 6),\n",
       " ('##SCANDIHARALD', 6),\n",
       " ('##WRBSKI', 6),\n",
       " ('##DENSHER', 6),\n",
       " ('##FARBYBRIT', 6),\n",
       " ('##BEAUTIFULBLACKBIRD', 6),\n",
       " ('##GARFIELDLOVESTOROCK', 5),\n",
       " ('##12YEARSON', 5),\n",
       " ('##ERRORDITE', 5),\n",
       " ('##ONONA', 5),\n",
       " ('##MUSTYKANKLES', 5),\n",
       " ('##COOLDAY', 5),\n",
       " ('##NOTSAINTPAUL', 5),\n",
       " ('##FFC800', 5),\n",
       " ('##SERVIUSGALBA', 5)]"
      ]
     },
     "execution_count": 30,
     "metadata": {},
     "output_type": "execute_result"
    }
   ],
   "source": [
    "A = [x.split('\\n')[0] for x in all_comments]\n",
    "from collections import Counter\n",
    "AN = Counter(A)\n",
    "sorted([(x,y) for x,y in AN.items() if y > 4], key=lambda x : -x[1]) "
   ]
  },
  {
   "cell_type": "code",
   "execution_count": 24,
   "metadata": {},
   "outputs": [
    {
     "name": "stdout",
     "output_type": "stream",
     "text": [
      "[master 26cbffe] web\n",
      " 5 files changed, 228 insertions(+), 271 deletions(-)\n",
      " create mode 100644 yb8ez.pkl\n",
      " create mode 100644 yddvx.pkl\n",
      " create mode 100644 ye5m7.pkl\n",
      " create mode 100644 yjvf7.pkl\n",
      "Counting objects: 7, done.\n",
      "Delta compression using up to 12 threads.\n",
      "Compressing objects: 100% (7/7), done.\n",
      "Writing objects: 100% (7/7), 738.28 KiB | 2.44 MiB/s, done.\n",
      "Total 7 (delta 4), reused 0 (delta 0)\n",
      "remote: Resolving deltas: 100% (4/4), completed with 2 local objects.\u001b[K\n",
      "To https://github.com/macbuse/GUARDIAN.git\n",
      "   f914f6e..26cbffe  master -> master\n"
     ]
    }
   ],
   "source": [
    "! ./.g\n"
   ]
  },
  {
   "cell_type": "code",
   "execution_count": 30,
   "metadata": {},
   "outputs": [
    {
     "name": "stdout",
     "output_type": "stream",
     "text": [
      "##STILT\n",
      "https://discussion.theguardian.com/comment-permalink/155280552\n",
      "https://profile.theguardian.com/user/id/2397205\n",
      "\n",
      "This comment was removed by a moderator because it didn't abide by our\n",
      "         \n"
     ]
    }
   ],
   "source": [
    "print(all_comments[0][:200])"
   ]
  },
  {
   "cell_type": "code",
   "execution_count": 25,
   "metadata": {},
   "outputs": [
    {
     "data": {
      "text/plain": [
       "'france-populism-gaining-ground-revolution'"
      ]
     },
     "execution_count": 25,
     "metadata": {},
     "output_type": "execute_result"
    }
   ],
   "source": []
  },
  {
   "cell_type": "code",
   "execution_count": 35,
   "metadata": {},
   "outputs": [
    {
     "name": "stdout",
     "output_type": "stream",
     "text": [
      "##BAGGYWHACKER\n",
      "https://discussion.theguardian.com/comment-permalink/157290001\n",
      "https://profile.theguardian.com/user/id/12314206\n",
      "\n",
      "Alrighty! The countdown to indyref2 has begun, and we can expect the usual bs tropes to be trotted out ad nauseam for the next 16 months about why we should vote no, but more disturbingly, why we're not allowed another vote. So what say we address them now? If we clarify all of them right now, we can save an awful lot of wasted posts over the next year and a half.\n",
      "1. It's too soon, you decided in 2014, there's no need for another referendum!People change their minds. Whole nations change their minds. What if we've changed our minds? There's an easy way to find out!More specifically, I shouldn't have to insult anyone's intelligence by mentioning EU membership (not to mention the casual breaking of domestic and international law and the deportation the most desperate people in the world to a 3rd world country just for the ability to tell hard-core Tory gammons that there are less brown people physically on UK soil...) but here's an analogy I'd ask you to consider:- Darling! I've had it with you. Your controlling nature, your constant gaslighting, your obsession with right-wing politics, all of it! I can't take it any more, so I'm divorcing you. - But darling, stop, think for a second! You LOVE the country club, right? You love all your friends there, right? You love hanging out with them, getting on (even though I'm usually there in the background making bitchy comments...), freely visiting each other whenever you want, all that? Well, if you divorce me, you'll lose your membership! You won't be able to hang out with your mates anymore, and you'll be stuck at home with me all day, every day! - Oh, damn... I hadn't thought of that. Grrr, good point - I won't give up my club membership. OK, I'll stay with you, I guess... - Good choice, darling! Oh, by the way - I've decided to cancel our country club membership. Soz, lol! Now, get in the kitchen and make me my dinner.\n",
      "2. But, but, we were told it was a once-in-a-generation vote!By whom? With what authority? In what context? Yes, Alex Salmond certainly used the expression \"once in a lifetime opportunity\" (note the inclusion of the last word). It's extraordinary how many anti-independence talking heads seem so happy to bestow unassailable authority to Mr. Salmond to dictate the terms of voting for an entire country with one informal phrase!\n",
      "More importantly, what's your point? That we're not ALLOWED another vote, because it is written in stone that such votes can only happen once in every generation? The phrase \"once in a generation opportunity\" is synonymous with \"rare as hen's teeth\". The point being made was, these opportunites only rarely come around, let's seize it while we have the chance: it was obviously NOT, let's have a vote, and regardless of the outcome, we hereby formally and legally forbid any reconsideration until \"a generation\" has passed.To use another analogy: if Late-90s Jessica Alba texted me and said \"omg I've seen your Guardian posts and I'm so impressed that I desperately want to make sweet, sweet love to you right now!\", and I asked my mates what they thought I should do, I'm pretty sure they'd say something along the lines of \"are you serious?? This a once-in-a-generation opportunity! Take it!\"Say I did, and then a few years later Jessica texted me to say \"wow, last time was so great, I simply have to have you again, are you free tonight?\", I'm pretty sure my mates WOULDN'T say \"no mate, we referred to the last time as a once-in-a-generation opportunity, therefore I'm afraid you're not allowed to accept this latest offer.\"\n",
      "Plus, people change their minds. See point 1. I mean, if your point is, we have to wait a generation because the last vote was so decisive then there's simply no point in another vote, then you're saying there should be no vote because the outcome is certain. Well, let's find out! But if you're saying we're not \"allowed\" another vote because Alex Salmond has bound the nation of Scotland, then with respect, get forked.[cont]\n",
      "\n",
      "##BAGGYWHACKER\n",
      "https://discussion.theguardian.com/comment-permalink/157290101\n",
      "https://profile.theguardian.com/user/id/12314206\n",
      "\n",
      "3. There shouldn't be a vote because weak, poor, incompetent Scotland is so small and economically rubbish that it simply couldn't survive without the largesse of England!The first answer to this is, that's our freakin' business, not yours. If we're too small and weak to survive as an independent nation, that's our call to make and our mistake to make, if mistake it is.More specifically, (if my googling is correct) a total of 61 countries have achieved independence from UK rule over the years. Did all 61 of those fail, and come crawling back, cap in hand? Are you seriously suggesting that Scotland is less able to survive without Westminster making all the big calls than, oh I don't know, New Zealand, or Bermuda, or Zimbabwe, or Vanuata, or Qatar, or Eswatini, or the USA?If your point is, you should vote against independence because you'll never make it as a sovereign nation because you're sooooo lame, then fine, make that argument, see how well that goes down with the electorate. But if your point is, you shouldn't even be allowed a vote on that basis, then with the greatest respect, go fork yourselves a second time.\n",
      "4. You can't go independent because you can't say with 100% certainty what currency you'll use!Again in brief, who gives a fork?? We've made it abundantly clear we'll be rejoining the EU, so we'll be using euros relatively quickly. The only issue is, what currency will we use in the relatively brief period (I say \"relatively\" with a view to the greater scope of history, before any \"um I think you'll find re-admission to the EU could take a number of years...\" jobsworths chip in) between achieving independence and rejoining the EU? Again I say, who cares? We'll obviously use A currency! Which one is details, unless you're suggesting that there is NO option that wouldn't result in our total economic collapse in that interim period, in which case, I declare you a gloomster and doomster!My personal preference would be a return to the groat, but alternatively I see no reason we can't keep using sterling - what, you say we can't?? Not allowed? Sterling is uniquely English, and not for the Scots (or Welsh, or Northern Irish)? Anyway, we have our own banknotes, as any poor Scot who's tried to buy anything with a Clydesdale tenner south of the border can testify. We'll be fine.But overall - again, you want to use that as an argument to persuade people to vote no, go right ahead, but I find the argument that it's such a major issue that the entire Scottish economy will definitely collapse and force us to come crawling back to the Union before we even get a chance to return to the EU to be insultingly weak.\n",
      "Right, that's the main bugbears sorted! Now let's spend the next 16 months discussing the pros and cons of independence, and not wasting time arguing over whether we're \"allowed\" to decide our own future or not.\n",
      "\n",
      "##THEGREATBALDO\n",
      "https://discussion.theguardian.com/comment-permalink/157293058\n",
      "https://profile.theguardian.com/user/id/4146678\n",
      "\n",
      "Nor is it clear how a general election can seriously be treated as a single-issue referendum in either legal or political terms. This is wishful thinking. \n",
      "Is it ?\n",
      "As Martin correct alludes to elsewhere - the ultimate aim of the strategy is to get a Section 30 Order and have a referendum on the same basis as 2014.\n",
      "If Lord Keen strikes down the Bill - in effect ruling out Scotland's right to self determination, it's not self determination when a 2nd country gets to decide whether you can or can't exercise it - then all the legal and constitutional have been exhausted.\n",
      "The only option left will be democratic/electoral means - in this case a Westminister election.\n",
      "Now my understanding was that any individual/party provided they have submitted the required paperwork and paid their deposits - can stand on any damn platform, they damn well choose in a General Election. So if the SNP run on a one line manifesto - Scotland has the right to choose ! - they can.\n",
      "I - and I suspect anyone else is Pro Indy - know fine well that a GE/referendum are different beasts and that even if The SNP sweep every seat and get way over 50% of the popular vote - it won't make Scotland independent.\n",
      "But it will make it virtually impossible to ignore our demand and right to decide our own destiny - especially when it is made clear that is EXPLICITLY what mandate is for.\n",
      "Ironically, this is the natural reaction to the Unionist position - expressed most haughtily by Alistair Jack, that whilst the SNP keeps winning mandates at GE's (Holyrood/Westminister) people vote on a variety of topics.\n",
      "This is of course true, except when you've ask people to vote for you for a specific reason.\n",
      "Ultimately, I think we will end up with the transfer of Section 30 powers - probably in early 2025, rather than on the FM's prefered timeline.\n",
      "But if we do so AFTER the Supreme Court AND a General Election mandate, then I suspect Martin will be rueing the missed to grant the Section 30 Order sooner, when the Union still had a chance of victory.\n",
      "Incidently, the only tweak I would make to The FM's plan is to actually run a joint 'Scottish Democracy' ticket with the other parts of the YES coalition rather than SNP candidates in the GE.\n",
      "\n",
      "##SLATERHAT\n",
      "https://discussion.theguardian.com/comment-permalink/157293502\n",
      "https://profile.theguardian.com/user/id/102704339\n",
      "\n",
      "For most of the people in Scotland, it’s much more than simply individual issues such as the NHS, the economy and climate crisis. The real problem is that Westminster continues to ignore these issues, just as it continues to ignore Scotland. It’ll take our resources and tax though. If we in Scotland care about these issues (which we do), then we must tackle them as individual country. We can not deal with them as a part of the UK as we do not have the powers. Take all of these examples Martin cites - Unfortunately the UK now has an unenviable record of steadily and continually privatising and running down the NHS. Wrecking the economy through a costly and hard Brexit and ignoring Scotland’s economy requirements. Disregarding the climate problem through cancelling carbon capture, applying the transmission charges to green energy and continually opening new oil fields (despite these supposedly being dry in 2014).You are also incorrect regarding a proposed boycott of the referendum itself. If the turnout is above 50%, it will be deemed internationally to be valid. It is almost certain to be above this figure as there are already around 50% of the Scottish population who support it.In terms of your suggestion that thwarting the “nationalist” forces is a simple case of the UK being more conciliatory and open, you couldn’t be more wrong.The case for remaining within the UK union is closed. There is no positive case and none is being given. Only threats and fearmongering is evident again. The voters of Scotland just prior to the last indy ref (in 2014) were told in no uncertain terms that the only way to remain in the EU was to vote no. The further ignoring of Scotland during any negotiations has resulted in the hardest of Brexit agreements. This agreement harms Scotland, our people, out NHS and our businesses. Ironically of course the Tories look set to unilaterally abandon parts of the agreement to spark a trade war.I cannot see any way in which a Labour or Tory led government can appease or soften any of the damage done to the relationships in the UK now.\n",
      "\n",
      "##ANGRY_DOC\n",
      "https://discussion.theguardian.com/comment-permalink/157291407\n",
      "https://profile.theguardian.com/user/id/12069591\n",
      "\n",
      "“Nationalism thrives in the absence, exacerbated by Brexit, of a shared and capacious sense of what Britain is.“\n",
      "–what exactly IS Britain for Martin? That is the question half of Scots are asking themselves despite the best efforts of the Guardian and our overwhelmingly pro-Union media to tell us what to think.\n",
      "Apart from a brief progressive interregnum after WW2, “the Union” has always been a retrogressive, incorporating, Anglocentric, colonial and Londoncentric concept. It is an artifice – a bind instead of a truly representative, inclusive union of countries with different traditions and different political, social and economic circumstances.\n",
      "Nationalism may well be a dirty word to us progressive types (I wish the SNP was named the Scottish Self-determination party) but the reason that I (and tens of thousands of other ex-Labour voters) continue to support them is because they represent our sole hope of a progressive future for our children in the face of a permanently Tory Little England and a Labour Party that has forgotten what it exists for.\n",
      "At the last Scottish election, the pro-Independence parties secured a majority on manifestoes that backed a new referendum on the basis of a fundamental change in circumstance since the last one (Brexit, and the broken promises of Labour’s so-called “vow” to Scotland). To insinuate that moves to secure said referendum are somehow invalid are frankly anti-democratic and not worthy of a paper of the Guardian’s reputation.\n",
      "The Guardian is guilty of double standards in its approach to the Scottish question. It would never publish such opinions about other similar causes abroad. When is the UK’s supposedly leading “progressive” paper going to finally wake up to the fact that Scottish independence in its present form is a progressive cause?Labour has long lost Scotland and it needs to finally embrace proportional representation and coalition politics at Westminster or face obsolescence. The Guardian’s op-ed pages have embraced this lattee cause, and it’s time for it to get behind the former.\n",
      "\n",
      "##MADMONTY\n",
      "https://discussion.theguardian.com/comment-permalink/157292562\n",
      "https://profile.theguardian.com/user/id/2479941\n",
      "\n",
      "The real danger English commentators have on this issue is assuming that only those in the SNP want independence. \n",
      "The Scottish Green party also want it.\n",
      "A\n",
      "I a Labour party member voted for independence in 2014, more with my heart than my head. Apparently around 20% of Labour supporters did as well.\n",
      " However I see no future for the Union after Brexit and according to a recent poll around 30% of Labour supporters feel the same way. \n",
      "An in depth poll conducted in January found that even 8% of Tories would support another independence referendum if it meant Scotland applied immeadieatly for EU membership after a yes vote.\n",
      "I've watched the rise of the SNP since the late 1970s. Regarded then as the \" Tartan Tories\" , Alex Salmond dragged it kicking and screaming into the centre ground.\n",
      "Thatcher made a terrible mistake by introducing the Poll Tax into Scotland a year before the rest of the UK.\n",
      "It was and is still seen as treating us Scots as guinea pigs, lab rats and in my generation that's never been forgotten or forgiven.\n",
      "It helped the SNP gain ground, so much so by the 1990s my Grandmothers local MP John Smith , came up to Airdrie to the Cenotaph there for Remembrance Day in 1993 as the SNP were breathing down his neck.\n",
      "David Cameron could have spiked the SNP's guns in 2012 by allowing Devo Max onto the ballot paper for 2014. Yougov showed that 65 % of Scots would have voted for that, which would have kept Scotland as part of the Union and have killed the constutional question as far as most Scots would have been concerned.\n",
      "However he didn't, and Brexit is now added to the Poll Tax into Scottish memory, dragged out of the EU, despite promises made in 2014, a vote for the Union was a vote to ensure our EU membership.\n",
      "So the constutional arguments will continue. \n",
      "The Scottish parliament cannot be wished away. A BBC poll taken in 2019 found that 80% of Scots across the whole of the political spectrum want it to remain, that its a good thing.\n",
      "So the Union continues to creak and strain at its seams.\n",
      "\n",
      "##HESWALLIAN76\n",
      "https://discussion.theguardian.com/comment-permalink/157290059\n",
      "https://profile.theguardian.com/user/id/14823567\n",
      "\n",
      "I cant remember the last time I read anything written from such a colonial perspective. Even DM don't do this any more. Sturgeon is unlikely to get her 2023 referendum, but be warned: the threat is not going away\n",
      "It isn't Sturgeon that wants the referendum. It's the SNP that wants the referendum. SNP, the party that 's won every possible election in Scotland for the past 15+ years with independence in its manifesto. Sturgeon might not be SNP's leader tomorrow, but SNP most certainly isn't going anywhere. What threat? The 'threat' majority of Scots keep voting for years now? Polling shows that even voters in England don't see Scotland becoming independent as a 'threat', but think it's up to Scots to decide.\n",
      "Yet the world is not so easily ordered. It may be common to see Sturgeon as essentially the moderate social democratic reformist that she sometimes appears to be. But this is wrong. She is in reality, and above all, a nationalist leader of a nationalist party. Neither is Sturgeon a nationalist nor is the SNP a nationalist party. Yes - Sturgeon and SNP want to leave a supposedly voluntary union. Why and how does this make them nationalists? Is she wrapped in saltire every time she utters a word for BBC like Starmer is in union jack for example? \n",
      "It is a daunting prospect. But the greatest challenge that history has reserved for Starmer will be to find a way of recreating the British state. Starmer’s plan to rule out an alliance with the SNP and to oppose a second referendum imply that he gets it.\n",
      "Opposing to work together with a party that's getting between 85 and 95 per cent of Scottish MPs implies that Starmer gets what? That it is English MPs that should be deciding about Scotland's future? That it doesn't matter how Scots vote because there Starmer to think for them. \n",
      "Please - I'd like to see as many of articles like this printed in anglo-centric British press. This one just shows why union has no future whatsoever.\n",
      "\n",
      "##HIBERNICA\n",
      "https://discussion.theguardian.com/comment-permalink/157291616\n",
      "https://profile.theguardian.com/user/id/2822285\n",
      "\n",
      "Devolution can only be described as constitutional vandalism by someone caught in the wildest excesses of British Nationalism.\n",
      "The reality, of course, is that devolution was an attempt to keep the UK together by reducing the level of Welsh and Scottish antipathy towards Westminster. \n",
      "But it is absolutely clear that the reason for the decline of the British state, and its potential break up, is Brexit. Most Brexiteers identify, to themselves at least, as unionists. But you can't be a Unionist and a Brexiteer. It was always obvious that a Leave vote would put enormous pressure on the Union. Scotland was clearly going to vote Remain so, when England voted Scotland out of the EU against its will, it confirmed that the Union is not a union of equals. So naturally support for Scottish independence would rise. There's also the little matter of Northern Ireland voting Remain and getting Remain. Scotland was the only part of the UK that didn't get what it voted for.\n",
      "I suspect the bulk of the vote will be based on identity. Do you feel Scottish first and British second or the other way around? But there will be some waverers who will base their vote on economics. Unionists will make the most of the money that Westminster gives to Scotland. The other side will point out that this money in no way makes up for the fact that the UK has always been run for the benefit of England, and South East England in particular. \n",
      "And, of course, there's the EU. Scotland, if it gets a vote, would have a choice between the small, isolated economy of the UK and the enormous market that the EU provides. Only one winner there.\n",
      "In fact, the killer argument for unionists in 2014 was the old you'll be out of the EU if you vote yes line that was used incessantly and successfully during the campaign.\n",
      "What argument can they use to replace it next time?\n",
      "\n",
      "##CRANSLEY\n",
      "https://discussion.theguardian.com/comment-permalink/157289796\n",
      "https://profile.theguardian.com/user/id/14968605\n",
      "\n",
      "The whole premise of an independent Scotland from when the SNP became a significant political force in the mid 1970s was predicated on the \"It's Scotland's Oil\" campaign, and the fact that those striving for independence saw Scotland being an independent oil-rich nation:\n",
      "https://en.wikipedia.org/wiki/It%27s_Scotland%27s_oil\n",
      "That argument made some financial sense at the time. But we are 50 years on and oil is about to go the same way as coal did in the 1980s. In ten years time, cars will not be manufactured that run on petrol or diesel. There will be no market for it.\n",
      "And North Sea oil is close to being uneconomic to get out of the ground now.\n",
      "Any Scot who thinks that Scotland is going to be better-off when there is no oil revenue, without its massive subsidies from the rest of the UK via the Barnett formula, is seriously deluded.\n",
      "Just look back at You-tube clips of Nicola Sturgeon from earlier in her career banging on about how wealthy Scotland would be with its own oil. Now she never mentions the stuff.\n",
      "Why? Because she knows its a busted-flush and doesn't want the Scottish people to see that.\n",
      "There is also the issue of the Shetland Islands, which have indicated that if Scotland votes to leave the UK, that they will then want an independence referendum, to become independent from Scotland. 80% of the oil that is left that IS economic to extract is in the Shetlands.\n",
      "How could Nicola NOT allow such a thing when she is such an advocate of self-determination?\n",
      "And then there is the lovely irony of Nicola having campaigned to stay in the EU because it was economically essential as our biggest export market.\n",
      "And yet 60% of all of Scotland's exports are to the rest of the UK:\n",
      "https://www.heraldscotland.com/politics/19663522.independence-warning-scotland-relies-exports-rest-uk/\n",
      "Her whole argument is incoherent.\n",
      "\n",
      "##SINO\n",
      "https://discussion.theguardian.com/comment-permalink/157289998\n",
      "https://profile.theguardian.com/user/id/3587350\n",
      "\n",
      "Well that’s some message Keir wants to give Scotland.It is that we don’t care if you vote and elect SNP mps and msps or pass a vote in a Scottish Parliament it is far more important we pander to Brexit supporting voters in English constituencies who can’t bear the idea that Scotland has another referendum not independence but another referendum.Meanwhile the Scottish leader of the Labour Party will no doubt state that he will be fighting for Scotland but have no power whatsoever to deliver anything as it will have to go through Westminster Gordon Browns master plan will be to balkanise Scotland giving power to councils reducing the power of the Parliament.The downside for labour is that it will be seen as totally backing the unionist position and as Scotland is divided 50- 50 it will alienate huge swathes of snp voters for the foreseeable future.It will continue the Tory assault on the Scottish Parliament.It will teach a new generation of nationalists that there appears to be no democratic way for Scotland to gain independence. Here’s a challenge to unionists please explain what the democratic way is ?It was always going to come down to nationalist V unionist in Scotland. Westminster dominates the govt and assemblies of Wales Scotland and NI.Seems labour has joined the Tories in choosing to not allow these nations to breathe within the U.K.Keir should have stood up and faced down the Tories over devolution. Those people in England would never vote for him anyway. The tabloid press will never support him anyway.If the policy succeeds in pushing the nationalists back they will return in time due to the imbalance within the U.K. Support waxes and wanes for the SNP but they always return because the system is unbalanced.The next generation will be far more militant and labours reputation will be trashed\n",
      "\n",
      "##FORTYNINER\n",
      "https://discussion.theguardian.com/comment-permalink/157290204\n",
      "https://profile.theguardian.com/user/id/2508836\n",
      "\n",
      "History should remind us that, precisely when other minds are elsewhere, nationalist minds remain focused. Irish nationalism was not deflected by the world wars. Scottish nationalism, which is now the most potent separatist movement in Europe, is no different.\n",
      "\n",
      "Ever since devolution I have been of the view that Scottish independence is now inevitable, though probably not in my lifetime. Scotland is a separate nation culturally and politically, with its own systems some even dating from before the Act of Union in 1707.\n",
      "There is a default position in Westminster and many journalistic circles that somehow Scottish independence would necessarily be a bad thing. Why? As far as I am concerned if people in Scotland want independence then I am happy for them and wish them well. Let them go their own way.\n",
      "Irish independence has been a success and that started with far fewer advantages than Scotland and a civil war to boot that split 6 northern counties from the Free State a century ago. It is still a work in progress, but helped by the NI Protocol, an increasing number of people in the Six Counties are seriously considering the possibility of a united Ireland within the Republic.\n",
      "Sooner or later we all have to confront the possibility the once \"United\" Kingdom may have reached its sell by date. From a personal perspective, though I am English by birth and residence, I have no particular emotional attachment to the current structures. I feel just as excluded and alienated by the imperial government in London as many Scots do.\n",
      "Learn from the Irish Question. If a people tell you for many years they want to rule themselves and go their own way, then you just have to accept that and move on. That is what Ireland did, and that I am sure is what Scotland will do eventually\n",
      "\n",
      "##SKELLS\n",
      "https://discussion.theguardian.com/comment-permalink/157292110\n",
      "https://profile.theguardian.com/user/id/3111035\n",
      "\n",
      "Pro-independence parties didn't win a majority at the last Scottish election in terms of individual votes, the only measure that counts, because that's the measure that would be used to decide if Scotland went independent or not.\n",
      "In the last Scottish election: six pro-indy parties got a total of 2,696,529 votes out of a total of 5,419,544 valid votes cast in the election. That's 49.8%. \n",
      "Even if we attributed every vote for independent candidates to the pro-indy side (and we have no grounds for doing so), that only adds 11,795 – not enough.\n",
      "Even if you remove the parties who explicitly said they were neutral on independence and/or a referendum (Women’s Equality and Freedom Alliance), pro-indy parties get 2,696,529 out of 5,410,223 votes (still 49.8%).\n",
      "At the most recent Scotland-wide elections, the SNP scored 34.1%, the Greens, 6%, Alba 0.7%. The Tories, Lib Dems and Conservatives score added up to 49.9%. The British Unionist party (not heard of them either), tipped them into 50% and independents scored 8.4%. I think it's reasonable to assume at least some of those independents were anti-referendum. And in any case, the Scottish Family party (0.4%) is explicity opposed to a referendum within the life-time of the next parliament. \n",
      "To add to this, opinion polling consistently shows that a clear majority of Scottish voters do not want a referendum re-run within the next two years (only around 20 to 25% want a referendum within that time period, around 30 to 45% want one within the next 2 to 5 years and around about 40 to 45% don't want a re-run at all.)\n",
      "There is simply no way that nationalists can claim that 'the people of Scotland' want a referendum or have given the SNP a mandate to have a referendum. The figures just prove otherwise.\n",
      "\n",
      "##QUESOMANCHEGO\n",
      "https://discussion.theguardian.com/comment-permalink/157290561\n",
      "https://profile.theguardian.com/user/id/3079058\n",
      "\n",
      "I never used to be pro-independence and 10 years ago I would never have imagined joining the SNP. \n",
      "What changed? Brexit for one and years of reading articles like this that show zero understanding of why people want independence in the first place.\n",
      "Keir Starmers refusal to cooperate with the SNP is not evidence of how he \"gets it\" - it's another nail in the coffin of Britain. It shows that Labour are more interested in courting the Scotophobic sections of the Daily Mail readership than trying to win over left leaning Scots like myself. It's the attitude of the Labour leadership to Scotland, \"back in your box jocks\", that ie the final straw. We expect this from Tories but when it comes from Labour and the Guardian as well it shows that there truly is no hope and if either Labour or the London press understood the world beyond Barnet they'd get that and do something about it.\n",
      "The other thing that this article fails to grasp is that Unionism is itself a form of nationalism which is why simply chanting \"Nationalism = bad\" doesn't work. I support Scottish independence because I want greater union with the rest of Europe. The vast majority of independence supporters I've met aren't remotely nationalistic while the biggest unionists are invariably the ones for whom the sun still hasn't set on the Empire. This would be pretty obvious to anyone whose ever actually tried to engage with actual Scottish opinion and try to figure out what is going on up here but I fear for the Guardian Scotland is like some distant planet that can only be studied through powerful radio telescopes and not an actual real place with real inhabitants.\n",
      "\n",
      "##BINBUCKS\n",
      "https://discussion.theguardian.com/comment-permalink/157293559\n",
      "https://profile.theguardian.com/user/id/14226043\n",
      "\n",
      "I think it is wholly misguided to present the SNP as a “nationalist “ party. They are a party seeking self determination and - above all - democracy. They are not a party that start from a position that “their people” somehow are superior and that anyone who disagrees with them is a “traitor “ or “unpatriotic “.\n",
      "The U.K. is not a real democracy (it uses the unrepresentative FPTP system that gives a minority unchallengeable power) and its government policies and decisions such as Brexit have dismissed and ignored the majority of Scotland and Northern Ireland. That is because it is the U.K. government is nationalist. The Conservative party is an English nationalist party that expects non-English people to bow to their self entitled “superiority “. That was the case when the U.K. was an EU member state (Tories never knew what to do when other countries didn’t just accept the English “natural” place as “leaders” and rulers) which is why they wanted to leave. Now all they have left is ruling over the U.K..\n",
      "So the desire of Scotland to live in a democratic outward looking country with a realistic self image is completely understandable. Good luck to them .\n",
      "Of course, the conservatives see this as a big threat: the loss of another bit of the old empire, and a new neighbour country with a democratic parliamentary system. Before you know it, the English people may start getting ideas…\n",
      "This is the same motivation that drives Putin to invade Ukraine. Let’s hope the U.K. doesn’t go the same way after Scottish independence.\n",
      "\n",
      "##COMPUTERSAYSPERHAPS\n",
      "https://discussion.theguardian.com/comment-permalink/157292016\n",
      "https://profile.theguardian.com/user/id/104616791\n",
      "\n",
      "The reality, of course, is that devolution was an attempt to keep the UK together by reducing the level of Welsh and Scottish antipathy towards Westminster.\n",
      "\n",
      "Although Blair was warned that this would not work and that giving the nationalist the inch of devolution would only encourage them and result in the breakup of the UK. Chief among the warners was Tam Dalyell, and he was absolutely spot on.\n",
      "\n",
      "I suspect the bulk of the vote will be based on identity\n",
      "\n",
      "That always works out well...\n",
      "\n",
      "Do you feel Scottish first and British second or the other way around?\n",
      "\n",
      "I feel British, end of. Although I live in Scotland and was born here, my parentage is English. I have never felt Scottish, nor do I feel English, but I do feel British. I am also very much NOT a fan of identitarian politics.\n",
      "\n",
      "Scotland, if it gets a vote, would have a choice between the small, isolated economy of the UK and the enormous market that the EU provides\n",
      "\n",
      "Well, yes - but you DO have to meet the EU's economic requirements and that would be a pretty severe test for Scotland. Not that it can't be done, but it would hurt a great deal and would not be popular.\n",
      "Also, the EU is largely irrelevant to the Scottish economy. Europe wasn't buying much Scottish stuff before Brexit, so why are they going to suddenly change after independence?\n",
      "\n",
      "What argument can they use to replace it next time?\n",
      "\n",
      "\"You can't afford your current lifestyle without significant tax hikes, which incidentally will drive people and business south\"\n",
      "\n",
      "##ROTEHAHN\n",
      "https://discussion.theguardian.com/comment-permalink/157291310\n",
      "https://profile.theguardian.com/user/id/4147194\n",
      "\n",
      "To be perfectly honest, as someone who would describe themselves as a recovering Unionist, I think the UK as a constitutional construct has had its day. Everything is so out of kilter that the best way forward isn’t some hodge-podge reformation by incrementation approach, as very often espoused by those remaining pro-Union, but rather, to simply recognise that the constituent nations that make up the British state are nowadays rather different polities culturally speaking. The economics of British Unionism might still be a pre-determining factor, but the underlying social and cultural dynamics will continue to pressurise the centre until it is eventually taken beyond breaking point for the simple reason that England’s fiat remains sufficient to sustain it in the short-to-medium term; that is, however, an unsustainable political principle, so something has got to give. Whilst I am in favour of Scottish independence, with the benefit of hindsight, I am still conflicted: I loved being British, but the social democrat in me does not think this ancien régime is actually redeemable with anything like the sort of replacement to which we in these islands all should aspire. Insofar as I am concerned, what would be nice to see in lieu of a centralised, England-dominated union state, then, is a looser confederation akin to the Nordic Union — especially if this could be made compatible with a return to EU membership for those newly independent states that actually want it.\n",
      "\n",
      "##JP1203\n",
      "https://discussion.theguardian.com/comment-permalink/157291279\n",
      "https://profile.theguardian.com/user/id/13533790\n",
      "\n",
      "I would like to know when the author last visited Scotland and talked to anyone who is not a Labour apparatchik?This comment piece is dripping with ill informed condescension. If Nicola Sturgeon reads it she may want to consider using it for pro-independence literature.He talks about opinion polls on referendum because he doesn’t want to acknowledge the only democratic way to assess Scotland’s wishes on an independence referendum is via the Scottish Parliament- where there is a majority for a referendum to take place before 2026.Mr Kettle May wish to recall that in 1997 Labour had 50 Scottish MPs and boasted about Scotland being Tory free. Labour is in a self inflicted death spiral in Scotland with only 1 MP in Morningside (the most Tory minded part of Scotland). They managed to scrape above 20% vote in Holyrood election last year as Tories imploded with incompetent Ross at the helm but are no nearer to getting the tens of thousand’s of voters lost to SNP back The way Sarwar, Starmer, Nandy (& Me Kettle) go on about ignoring and overriding wishes of Scottish voters it would appear they now wish to make Scotland Labour free in 2024.If Scottish Labour had accepted mandate for Referendum and to left the decision of campaigning and voting Yes or No to each party member to decide they could have gone some way to persuading former supporters to return. They are however to frightened of Matt Hancock and right wing press outside Scotland.\n",
      "\n",
      "##BRIZERWATT1962\n",
      "https://discussion.theguardian.com/comment-permalink/157292415\n",
      "https://profile.theguardian.com/user/id/11824561\n",
      "\n",
      "Wow, how easy it is to completely ignore the fact that Nicola Sturgeons government won an election in May of last year on the manifesto promise to deliver an independence referendum. A far bigger majority of Scots voted SNP in May than voted for any UK govt in many years. The \"expert\" quoted ie Adam Tompkins is a tory party mouthpiece with little credibility in Scotland, and the lazy and absurd characterisation of Nicola Sturgeon and the SNP as \"nationalists\", hunting at a right wing racist party in the clothes of Social Democrats is just another recycled Unionist trope.Scottish voters can and do vote for the policies and party they want to lead them out from the smothering and crippling Union with an English nationalist Tory government living in a God, Queen and Empire fantasy world. We want a modern democratic 21st Century government, open to the world, with a written constitution, not some backward looking, elitist, old Estonian governed, isolated backwater intent on taking us all back to the 19th century.I would have thought the Guardian might be a little bit better than this, but I guess when panic sets in, all standards are abandoned and British newspapers go to their Imperial default position ie. these people need to shut up and do as they are told!Good luck if that is the road the British establishment want to down AGAIN, its not exactly worked out for them in the past, has it?\n",
      "\n",
      "##HDTVDALY\n",
      "https://discussion.theguardian.com/comment-permalink/157290743\n",
      "https://profile.theguardian.com/user/id/3026632\n",
      "\n",
      "\"Yet nationalism is an ever-present spectre at the British state feast. History should remind us that, precisely when other minds are elsewhere, nationalist minds remain focused. Irish nationalism was not deflected by the world wars.\"\n",
      "Ireland is not a part of Britain. It is not British anymore than it is French or Spanish. That Britain once ruled all of it or some of it now or all of it in the future or none of it in the future at no stage ever made it Britain anymore than Mexico was Spain.\n",
      "The ironic situaiton of this author invoking Ukraine and Russia while continuing on with the very thing that allows Russian power holder sot normalize the violence upon Ukraine - the idea that Ukraine is somehow \"Russian\".\n",
      "There is no British Isles that includes Ireland. There is no term in the Irish language that ever corresponded to this ludicrous 18th century British Empire invention. Britain sits further from Ireland than it does France. London is closer to Paris, Brussels and Luxembourg than it is Dublin, Belfast and Cork.\n",
      "Get it together on this bizarre issue, unless you're some right wing brit and then fill your boots. Every time you rope Ireland in with Britain you do what Russians do with Ukraine. Ireland is your neighbor, like France and Belgium. Nothing more. \n",
      "You literally had to plant British people there to normalize it for yourselves during the period of colonization, it's so foreign.\n",
      "\n",
      "##SKELLS\n",
      "https://discussion.theguardian.com/comment-permalink/157292280\n",
      "https://profile.theguardian.com/user/id/3111035\n",
      "\n",
      "There is a majority of seats in the Scottish parliament held by parties who want a referendum to be held, but a majority of those who voted in the most recent Holyrood elections did not vote for independence/referendum-supporting parties. Given that a referendum will be won or lost on the basis of individual votes, not which parties hold the most seats, it's quite clear that is the only metric which counts. And on that metric, nationalists don't have an advantage.\n",
      "Figures are here:\n",
      " In the last Scottish election: six pro-indy parties got a total of 2,696,529 votes out of a total of 5,419,544 valid votes cast in the election. That's 49.8%. Even if we attributed every vote for independent candidates to the pro-indy side (and we have no grounds for doing so), that only adds 11,795 – not enough. Even if you remove the parties who explicitly said they were neutral on independence and/or a referendum (Women’s Equality and Freedom Alliance), pro-indy parties get 2,696,529 out of 5,410,223 votes (still 49.8%).\n",
      "It's on a wafer-thin edge, but more votes were cast for unionist parties than nationalist parties. And here, https://en.wikipedia.org/wiki/Opinion_polling_on_Scottish_independence#Polling_on_a_second_independence_referendum, you can see very clearly that the large, large majority of Scots do not want another referendum in the next two years.\n"
     ]
    }
   ],
   "source": [
    "import os\n",
    "\n",
    "all_comments.sort(key=lambda x : -len(x) )\n",
    "txt = '\\n\\n'.join(all_comments[:20])\n",
    "print(txt)\n",
    "with open(os.environ['HOME']+'/tmp.txt','w') as fp:\n",
    "    fp.write('\\n\\n'.join(all_comments[:20]))\n",
    "with open(os.environ['HOME']+'/{}.txt'.format(article_url.split('/')[-1]),'w') as fp:\n",
    "    fp.write('\\n\\n'.join(all_comments[:20]))"
   ]
  },
  {
   "cell_type": "code",
   "execution_count": 19,
   "metadata": {},
   "outputs": [
    {
     "name": "stdout",
     "output_type": "stream",
     "text": [
      "[master 4331ca5] web\n",
      " 9 files changed, 1185 insertions(+), 1460 deletions(-)\n",
      " rewrite guardian comments scraper.ipynb (69%)\n",
      " create mode 100644 y829j.pkl\n",
      " create mode 100644 y8h4q.pkl\n",
      " create mode 100644 y98ff.pkl\n",
      " create mode 100644 y99zz.pkl\n",
      " create mode 100644 yaa2q.pkl\n",
      " create mode 100644 yaedy.pkl\n",
      " create mode 100644 yavg9.pkl\n",
      " create mode 100644 ybxgx.pkl\n",
      "Counting objects: 11, done.\n",
      "Delta compression using up to 12 threads.\n",
      "Compressing objects: 100% (11/11), done.\n",
      "Writing objects: 100% (11/11), 2.32 MiB | 93.00 KiB/s, done.\n",
      "Total 11 (delta 9), reused 0 (delta 0)\n",
      "remote: Resolving deltas: 100% (9/9), completed with 2 local objects.\u001b[K\n",
      "To https://github.com/macbuse/GUARDIAN.git\n",
      "   675153b..4331ca5  master -> master\n"
     ]
    }
   ],
   "source": [
    "! ./.g"
   ]
  },
  {
   "cell_type": "code",
   "execution_count": 18,
   "metadata": {},
   "outputs": [
    {
     "name": "stderr",
     "output_type": "stream",
     "text": [
      "[nltk_data] Downloading package vader_lexicon to\n",
      "[nltk_data]     /home/gregmcshane/nltk_data...\n",
      "[nltk_data]   Package vader_lexicon is already up-to-date!\n"
     ]
    }
   ],
   "source": [
    "#https://towardsdatascience.com/sentimental-analysis-using-vader-a3415fef7664\n",
    "\n",
    "import nltk\n",
    "#nltk.download('vader_lexicon')\n",
    "\n",
    "from nltk.sentiment.vader import SentimentIntensityAnalyzer\n",
    "\n",
    "sid = SentimentIntensityAnalyzer()"
   ]
  },
  {
   "cell_type": "code",
   "execution_count": 22,
   "metadata": {},
   "outputs": [],
   "source": [
    "a = '''My views haven't changed. Leaving the EU will be of no benefit to anyone except those who hold money and power along with certain corporates and a smidgen of medium to small businesses.\n",
    "How else can it be when you are shutting shop to the most developed nations, the richest nations in the world, who are either in the EU or have market agreements with the EU. Even the emerging markets of China and India along with other developing economies are aspiring to develop trading agreements with the EU, the second largest economy in the world. Any deal with the UK will be secondary and will depend upon their agreement with the EU.\n",
    "Boris Johnson once said \"f**k business\". I take this as meaning there is something in it for them and they don't really care if businesses find it difficulA\n",
    "t to cope.\n",
    "I can see ministers and conservative MPs queuing to fill their pockets by acting as advisors for potential trade deals whilst the rest of the country are left struggling trying to rebuild their lives, especially following the pandemic. The same ministers will probably be looking to lower all kinds of standards from food and welfare to safety at work to improve their opportunities.\n",
    "When it comes to brinkmanship, I can only view this as getting away with whatever they can. I do not believe it is anything to do with negotiating an agreement that will be to the benefit of the UK or the EU as a whole, I don't believe our ministers are capable of doing that.'''"
   ]
  },
  {
   "cell_type": "code",
   "execution_count": 24,
   "metadata": {},
   "outputs": [
    {
     "ename": "TypeError",
     "evalue": "sentiment_valence() missing 4 required positional arguments: 'sentitext', 'item', 'i', and 'sentiments'",
     "output_type": "error",
     "traceback": [
      "\u001b[0;31m------------------------------------------------------------\u001b[0m",
      "\u001b[0;31mTypeError\u001b[0m                  Traceback (most recent call last)",
      "\u001b[0;32m<ipython-input-24-6f3326dcf5de>\u001b[0m in \u001b[0;36m<module>\u001b[0;34m\u001b[0m\n\u001b[1;32m      1\u001b[0m \u001b[0msid\u001b[0m\u001b[0;34m.\u001b[0m\u001b[0mpolarity_scores\u001b[0m\u001b[0;34m(\u001b[0m\u001b[0ma\u001b[0m\u001b[0;34m)\u001b[0m\u001b[0;34m\u001b[0m\u001b[0m\n\u001b[0;32m----> 2\u001b[0;31m \u001b[0msid\u001b[0m\u001b[0;34m.\u001b[0m\u001b[0msentiment_valence\u001b[0m\u001b[0;34m(\u001b[0m\u001b[0ma\u001b[0m\u001b[0;34m)\u001b[0m\u001b[0;34m\u001b[0m\u001b[0m\n\u001b[0m",
      "\u001b[0;31mTypeError\u001b[0m: sentiment_valence() missing 4 required positional arguments: 'sentitext', 'item', 'i', and 'sentiments'"
     ]
    }
   ],
   "source": [
    "sid.polarity_scores(a)\n",
    "sid.sentiment_valence(a)"
   ]
  },
  {
   "cell_type": "code",
   "execution_count": 10,
   "metadata": {},
   "outputs": [
    {
     "name": "stdout",
     "output_type": "stream",
     "text": [
      "##LIBBETS\n",
      "https://discussion.theguardian.com/comment-permalink/156335914\n",
      "https://profile.theguardian.com/user/id/12302017\n",
      "\n",
      "Peter **CAPALDI** sums it up well for me.'People always ask me what it is about Doctor Who that appeals so broadly. The answer I would like to give, and which I’m discouraged from giving because it is not useful in the promotion of a brand, is that it’s about death. It has a very powerful death motif in it which is that the central character dies. I think that is one of its most potent mysteries because somewhere in that people see what happens in life. You have loved ones and then they go, but you must carry on.'\n",
      "Here's to carrying on. Best wishes to Ncuti Gatwa, I can't wait.\n",
      "\n",
      "##MACHINEHEAD\n",
      "https://discussion.theguardian.com/comment-permalink/156338017\n",
      "https://profile.theguardian.com/user/id/1642806\n",
      "\n",
      "I’m not convinced Whitaker was a great Doctor to be honest…middling I’d say but like **CAPALDI** before her she was not gifted with the greatest storylines much of the time.\n",
      "The return of RT though bodes well in this respect and Gatwa is a good actor who will appeal to the yoof…\n",
      "My only appeal would be not to forget that Dr Who should have some gravitas along with some genuine scariness at times. \n",
      "Please let’s not have an overload of crazy wackyness ala Matt Smith and a few others…..quirky is fine though…\n",
      "\n",
      "##WILDBEAR82\n",
      "https://discussion.theguardian.com/comment-permalink/156334386\n",
      "https://profile.theguardian.com/user/id/15962759\n",
      "\n",
      "I'm not a Mail reader and I don't care what the actor playing doctors skin colour, gender or sexual preferences are. \n",
      "I also don't think any of the above should influence who's picked for the role but in todays easily offended society I'm sure it's the chief consideration. \n",
      "I'd just want the show to go back to being fun and enjoyable to watch like it was during the Tennant, Smith and **CAPALDI** days.\n",
      "\n",
      "##ACTUALGRAUNREADER\n",
      "https://discussion.theguardian.com/comment-permalink/156335694\n",
      "https://profile.theguardian.com/user/id/10562490\n",
      "\n",
      "Except McCoy and **CAPALDI**.\n",
      "And early Troughton.\n",
      "And as everything else is also unwatched - 'Britain's Got Talent' only pulled a million more than the Easter episode - ratngs matter less than position in the charts and recent stories have done better than alleged 'all tme classics'.\n",
      "\n",
      "##MARKYWILLIAM\n",
      "https://discussion.theguardian.com/comment-permalink/156334465\n",
      "https://profile.theguardian.com/user/id/10771465\n",
      "\n",
      "Um, I don't recall Whittaker being \"the latest top comic\".Neither do I recall that being true of **CAPALDI**.Or Smith.Or Tennant.\n",
      "Which \"latest top comic\" are you talking about?\n",
      "\n",
      "##BASILIDES\n",
      "https://discussion.theguardian.com/comment-permalink/156338998\n",
      "https://profile.theguardian.com/user/id/17015744\n",
      "\n",
      "1. Pertwee2. Smith3. Troughton4. Tom Baker5. **CAPALDI**6. Hartnell7. Ecclestone8. Tennant9. Whitaker10. McGann11. McCoy12. Colin Baker13. Davison\n",
      "\n",
      "##GOBSHEISSE\n",
      "https://discussion.theguardian.com/comment-permalink/156334801\n",
      "https://profile.theguardian.com/user/id/13092801\n",
      "\n",
      "Bring back Peter **CAPALDI** as Dr who merged with his character from 'the thick of it'. \n",
      "That'll liven things up\n",
      "\n",
      "##PETER272\n",
      "https://discussion.theguardian.com/comment-permalink/156339260\n",
      "https://profile.theguardian.com/user/id/100295045\n",
      "\n",
      "All he needs is some half-decent scripts, the lack of which saw off Peter **CAPALDI**\n"
     ]
    }
   ],
   "source": [
    "target = 'decolon'\n",
    "target = 'science'\n",
    "target = 'irish'\n",
    "target = 'mandela'\n",
    "target = 'abolit'\n",
    "target = 'whittaker'\n",
    "target = 'capaldi'\n",
    "\n",
    "\n",
    "xx = [x for x in all_comments if target.lower() in x.lower() and  len(x) > 20]\n",
    "yy = [x for x in all_comments if '#pin' in x.lower() and 2000 > len(x) > 20]\n",
    "\n",
    "#print('\\n\\n'.join( ['\\n\\n'.join(x) for x in zip(xx,yy)])  )\n",
    "\n",
    "#print( '\\n\\n'.join(xx).replace(target, ) )\n",
    "pxx = re.compile(target, re.I)\n",
    "print( pxx.sub('**' + target.upper() + '**', \n",
    "              '\\n\\n'.join(xx)) )\n",
    "               \n",
    "#print( '\\n\\n'.join(xx) )\n"
   ]
  },
  {
   "cell_type": "code",
   "execution_count": 20,
   "metadata": {},
   "outputs": [
    {
     "data": {
      "text/plain": [
       "0.7820401046207497"
      ]
     },
     "execution_count": 20,
     "metadata": {},
     "output_type": "execute_result"
    }
   ],
   "source": [
    "(26/31) / (74/69)"
   ]
  },
  {
   "cell_type": "code",
   "execution_count": 64,
   "metadata": {},
   "outputs": [
    {
     "data": {
      "text/plain": [
       "529"
      ]
     },
     "execution_count": 64,
     "metadata": {},
     "output_type": "execute_result"
    }
   ],
   "source": [
    "23**2"
   ]
  },
  {
   "cell_type": "markdown",
   "metadata": {},
   "source": [
    "## "
   ]
  },
  {
   "cell_type": "code",
   "execution_count": 21,
   "metadata": {},
   "outputs": [
    {
     "data": {
      "text/plain": [
       "211"
      ]
     },
     "execution_count": 21,
     "metadata": {},
     "output_type": "execute_result"
    }
   ],
   "source": [
    "84 + 127"
   ]
  },
  {
   "cell_type": "code",
   "execution_count": 24,
   "metadata": {},
   "outputs": [
    {
     "data": {
      "text/plain": [
       "1.2842073077511085"
      ]
     },
     "execution_count": 24,
     "metadata": {},
     "output_type": "execute_result"
    }
   ],
   "source": [
    "84/211/.31"
   ]
  },
  {
   "cell_type": "code",
   "execution_count": 25,
   "metadata": {},
   "outputs": [
    {
     "data": {
      "text/plain": [
       "0.8723126588364586"
      ]
     },
     "execution_count": 25,
     "metadata": {},
     "output_type": "execute_result"
    }
   ],
   "source": [
    "127/211/.69"
   ]
  },
  {
   "cell_type": "code",
   "execution_count": 26,
   "metadata": {},
   "outputs": [
    {
     "data": {
      "text/plain": [
       "1.471264367816092"
      ]
     },
     "execution_count": 26,
     "metadata": {},
     "output_type": "execute_result"
    }
   ],
   "source": [
    "1.28/.87"
   ]
  },
  {
   "cell_type": "code",
   "execution_count": null,
   "metadata": {},
   "outputs": [],
   "source": []
  }
 ],
 "metadata": {
  "kernelspec": {
   "display_name": "BASE",
   "language": "python",
   "name": "base"
  },
  "language_info": {
   "codemirror_mode": {
    "name": "ipython",
    "version": 3
   },
   "file_extension": ".py",
   "mimetype": "text/x-python",
   "name": "python",
   "nbconvert_exporter": "python",
   "pygments_lexer": "ipython3",
   "version": "3.9.12"
  },
  "widgets": {
   "application/vnd.jupyter.widget-state+json": {
    "state": {},
    "version_major": 2,
    "version_minor": 0
   }
  }
 },
 "nbformat": 4,
 "nbformat_minor": 4
}
