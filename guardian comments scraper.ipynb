{
 "cells": [
  {
   "cell_type": "raw",
   "metadata": {},
   "source": [
    "# Basic scraping for Guardian discussions u"
   ]
  },
  {
   "cell_type": "code",
   "execution_count": 1,
   "metadata": {},
   "outputs": [
    {
     "name": "stdout",
     "output_type": "stream",
     "text": [
      "[master 705b837] web\n",
      " 3 files changed, 1090 insertions(+), 1110 deletions(-)\n",
      " rewrite guardian comments scraper.ipynb (69%)\n",
      " create mode 100644 jnntf.pkl\n",
      " create mode 100644 k9va7.pkl\n",
      "Counting objects: 5, done.\n",
      "Delta compression using up to 12 threads.\n",
      "Compressing objects: 100% (5/5), done.\n",
      "Writing objects: 100% (5/5), 1.08 MiB | 163.00 KiB/s, done.\n",
      "Total 5 (delta 2), reused 0 (delta 0)\n",
      "remote: Resolving deltas: 100% (2/2), completed with 1 local object.\u001b[K\n",
      "To https://github.com/macbuse/GUARDIAN.git\n",
      "   961a95f..705b837  master -> master\n"
     ]
    }
   ],
   "source": [
    "! ./.g\n"
   ]
  },
  {
   "cell_type": "code",
   "execution_count": 59,
   "metadata": {},
   "outputs": [],
   "source": [
    "with open('guardian comments scraper.ipynb','r') as fp:\n",
    "    nb = fp.read()"
   ]
  },
  {
   "cell_type": "code",
   "execution_count": 60,
   "metadata": {},
   "outputs": [],
   "source": [
    "import re\n",
    "\n",
    "pp = re.compile(\"(https://www.the.*?)'\")\n",
    "lks = pp.findall(nb)\n",
    "\n",
    "with open('links.txt','a') as fp:\n",
    "    fp.write('\\n'.join(lks))"
   ]
  },
  {
   "cell_type": "code",
   "execution_count": 2,
   "metadata": {},
   "outputs": [],
   "source": [
    "import re \n",
    "import requests\n",
    "import pickle\n",
    "import json"
   ]
  },
  {
   "cell_type": "code",
   "execution_count": 9,
   "metadata": {},
   "outputs": [],
   "source": [
    "article_url = 'https://www.theguardian.com/commentisfree/2020/aug/19/ditch-the-algorithm-generation-students-a-levels-politics'\n",
    "article_url = 'https://www.theguardian.com/commentisfree/2020/aug/21/joe-biden-democrat-convention-nice-guy-trump-fight'\n",
    "article_url = 'https://www.theguardian.com/commentisfree/2020/aug/23/the-cruel-exams-algorithm-has-laid-bare-the-unfairness-at-the-heart-of-our-schools'\n",
    "article_url = 'https://www.theguardian.com/commentisfree/2020/sep/01/us-mainstream-right-vigilante-terror'\n",
    "article_url = 'https://www.theguardian.com/commentisfree/2020/aug/31/politicians-covid-19-statistics-statisticians'\n",
    "article_url = 'https://www.theguardian.com/commentisfree/2021/apr/14/boris-johnson-is-telling-scotland-that-the-union-is-no-longer-based-on-consent'\n",
    "article_url = 'https://www.theguardian.com/commentisfree/2021/may/10/retail-politics-movements-polarising-projects-promise'"
   ]
  },
  {
   "cell_type": "code",
   "execution_count": 11,
   "metadata": {},
   "outputs": [],
   "source": [
    "article_url = 'https://www.theguardian.com/commentisfree/2020/sep/29/rival-scientists-lockdowns-scientific-covid-19'\n",
    "article_url = 'https://www.theguardian.com/commentisfree/2020/oct/08/johnson-and-sturgeon-will-need-a-better-philosophy-than-precaution-to-rid-us-of-covid'\n",
    "article_url = 'https://www.theguardian.com/commentisfree/2020/oct/10/continual-local-lockdowns-answer-covid-control'\n",
    "article_url = 'https://www.theguardian.com/commentisfree/2020/oct/11/the-rebel-scientists-cause-would-be-more-persuasive-if-it-werent-so-half-baked'\n",
    "\n",
    "article_url = 'https://www.theguardian.com/commentisfree/2021/apr/03/undermining-the-astrazeneca-jab-is-a-dangerous-act-of-political-folly#comment-148440261'\n",
    "article_url = 'https://www.theguardian.com/commentisfree/2021/apr/09/boris-johnson-brexit-belfast-violence-eu-good-friday-agreement'\n",
    "article_url ='https://www.theguardian.com/commentisfree/2021/apr/02/culture-war-government-race-report'\n",
    "article_url = 'https://www.theguardian.com/commentisfree/2021/mar/18/britain-sunny-vaccine-optimism-april-delivery-delay'\n",
    "article_url ='https://www.theguardian.com/commentisfree/2021/apr/14/boris-johnson-is-telling-scotland-that-the-union-is-no-longer-based-on-consent'\n",
    "article_url = 'https://www.theguardian.com/commentisfree/2021/apr/15/britain-harness-social-sciences-covid-pandemic-deprivation'\n",
    "article_url = 'https://www.theguardian.com/commentisfree/2021/apr/16/government-race-report-evidence#comment-148662066'\n",
    "article_url ='https://www.theguardian.com/commentisfree/2021/apr/20/britain-falling-birthrate-covid-pandemic-conservatives-removed-support-for-parents'\n",
    "article_url = 'https://www.theguardian.com/commentisfree/2021/apr/21/bmi-eating-disorder-pandemic-treatment'\n",
    "article_url = 'https://www.theguardian.com/commentisfree/2021/apr/30/government-delays-covid-public-inquiry-health-crisis'\n",
    "article_url = 'https://www.theguardian.com/commentisfree/2021/may/07/humiliation-hartlepool-smalltown-detective-di-starmer'\n",
    "article_url ='https://www.theguardian.com/commentisfree/2021/aug/06/uk-government-experts-vaccinating-under-16s'\n",
    "article_url = 'https://www.theguardian.com/commentisfree/2021/aug/01/there-is-a-case-for-vaccine-passports-but-ministers-are-failing-to-make-it'\n",
    "article_url = 'https://www.theguardian.com/commentisfree/2021/aug/09/america-is-flying-blind-when-it-comes-to-the-delta-variant'\n",
    "article_url = 'https://www.theguardian.com/commentisfree/2021/aug/10/covid-vaccines-britain-scientific-solution-jabs'\n",
    "article_url = 'https://www.theguardian.com/commentisfree/2021/aug/13/denial-anti-vaxxers-climate-sceptics'\n",
    "article_url = 'https://www.theguardian.com/commentisfree/2018/apr/11/bbc-andrew-neil-media-politics'\n",
    "\n",
    "article_url = 'https://www.theguardian.com/commentisfree/2021/aug/15/vaccine-passports-are-less-a-threat-to-liberty-than-a-mark-of-solidarity'\n",
    "article_url = 'https://www.theguardian.com/theobserver/commentisfree/2021/aug/14/will-we-reach-herd-immunity-for-the-new-coronavirus'\n",
    "article_url = 'https://www.theguardian.com/commentisfree/2021/aug/15/vaccine-hesitancy-broken-relationship-state-conspiracy-theorists'\n",
    "article_url = 'https://www.theguardian.com/commentisfree/2021/aug/17/dominic-raab-news-foreign-secretary-taliban-kabul'\n",
    "article_url= 'https://www.theguardian.com/commentisfree/2021/dec/11/so-which-of-these-politicians-is-a-neoliberal-not-one-of-them'\n",
    "\n",
    "article_url = 'https://www.theguardian.com/commentisfree/2021/dec/12/omicron-is-sneaky-it-could-be-fatal-for-us-or-for-our-faith-in-government'"
   ]
  },
  {
   "cell_type": "code",
   "execution_count": 13,
   "metadata": {},
   "outputs": [],
   "source": [
    "article_url ='https://www.theguardian.com/commentisfree/2021/dec/06/google-silicon-valley-ai-timnit-gebru'\n",
    "article_url = 'https://www.theguardian.com/commentisfree/2021/dec/20/rightwingers-us-social-change-coming'\n",
    "article_url = 'https://www.theguardian.com/commentisfree/2021/dec/22/omicron-covid-restrictions-young-people'\n",
    "article_url = 'https://www.theguardian.com/politics/2022/jan/01/sir-tim-brighouse-many-hold-gove-responsible-expert-educator-sets-out-whats-gone-wrong-with-britains-schools'\n",
    "article_url ='https://www.theguardian.com/commentisfree/2022/jan/10/colston-four-britain-apology-for-past'\n",
    "article_url = 'https://www.theguardian.com/commentisfree/2022/jan/21/democrats-shape-up-bidens-presidency-trumpian-sequel'\n",
    "article_url = 'https://www.theguardian.com/commentisfree/2022/jan/28/joe-rogan-neil-young-spotify-streaming-service'"
   ]
  },
  {
   "cell_type": "code",
   "execution_count": null,
   "metadata": {},
   "outputs": [],
   "source": [
    "key = my_keys.keys['guardian']"
   ]
  },
  {
   "cell_type": "code",
   "execution_count": 14,
   "metadata": {},
   "outputs": [
    {
     "name": "stdout",
     "output_type": "stream",
     "text": [
      "/p/kfgzx\n",
      "getting comments page no. 1\n",
      "there are 8 pages\n",
      "getting comments page no. 2\n",
      "getting comments page no. 3\n",
      "getting comments page no. 4\n",
      "getting comments page no. 5\n",
      "getting comments page no. 6\n",
      "getting comments page no. 7\n",
      "getting comments page no. 8\n",
      "archiving to kfgzx.pkl\n"
     ]
    }
   ],
   "source": [
    "#scrape the page and get the short url\n",
    "# 15/8/21  this failed and gave /p/temp\n",
    "short_url_pp =  re.compile('\"shortUrlId\":\"(.*?)\"')\n",
    "\n",
    "r = requests.get(article_url)\n",
    "mm = short_url_pp.search(r.text)\n",
    "short_url = mm.group(1)\n",
    "uu = r.text\n",
    "print(short_url)\n",
    "\n",
    "#the short url allows us to access the discussion\n",
    "# 15/8/21 api.nextgen.guardianapps.co.uk/discussion/ failed on \n",
    "# https://discussion.theguardian.com/discussion-api/discussion/p/tfmxg\n",
    "comments_url = 'https://api.nextgen.guardianapps.co.uk/discussion/%s.json'%short_url\n",
    "params = {'orderBy' : 'newest',\n",
    "          'pageSize' : 25,\n",
    "          'displayThreaded' : 'true',\n",
    "          'commentsClosed' : 'false',\n",
    "          'page' : '',\n",
    "          'maxResponses' : 50\n",
    "         }\n",
    "\n",
    "json_data =  []\n",
    "start_page  = 1\n",
    "last_page = None\n",
    "\n",
    "\n",
    "for num_page in range(start_page, 10**4):\n",
    "    print('getting comments page no.', num_page)\n",
    "    params['page'] = num_page\n",
    "    r = requests.get( comments_url, params=params)\n",
    "    json_data.append( r.text)\n",
    "    #The last page is a field in the json object\n",
    "    #I don't need to read this as json I could do a regexp\n",
    "    if num_page == start_page:\n",
    "        json_dict = json.loads(r.text)\n",
    "        last_page = json_dict['lastPage']\n",
    "        print('there are %d pages'%last_page)\n",
    "    if num_page == last_page : break\n",
    "        \n",
    "\n",
    "fn = '%s.pkl'%short_url.split('/')[-1]\n",
    "print('archiving to %s'%fn)\n",
    "with open(fn,'wb') as fp:\n",
    "    pickle.dump(json_data,fp)"
   ]
  },
  {
   "cell_type": "code",
   "execution_count": 2,
   "metadata": {},
   "outputs": [],
   "source": [
    "import pickle\n",
    "\n",
    "json_data = pickle.load(open('k4vhe.pkl','rb'))"
   ]
  },
  {
   "cell_type": "markdown",
   "metadata": {},
   "source": [
    "## remember each page of comments has been stored separately"
   ]
  },
  {
   "cell_type": "code",
   "execution_count": 9,
   "metadata": {},
   "outputs": [
    {
     "data": {
      "text/plain": [
       "14"
      ]
     },
     "execution_count": 9,
     "metadata": {},
     "output_type": "execute_result"
    }
   ],
   "source": [
    "dd = json.loads(json_data[0])\n",
    "len(json_data)"
   ]
  },
  {
   "cell_type": "code",
   "execution_count": 19,
   "metadata": {},
   "outputs": [
    {
     "data": {
      "text/plain": [
       "'\\n<div class=\"d-discussion d-discussion--recommendations-open u-cf\"\\n     data-read-only=\"false\" >\\n\\n    \\n    \\n        <div class=\"d-discussion__size-message\">\\n            Due to the large number of comments, they are being shown 100 per page.\\n        </div>\\n    \\n\\n\\n    <ul class=\"d-thread d-thread--comments js-new-comments\">\\n\\n        \\n            \\n\\n<li class=\"d-comment\\n            d-comment--top-level d-comment-staff\"\\n           id=\"comment-154007965\"\\n           data-comment-id=\"154007965\"\\n           data-comment-author=\"CommunityMod\"\\n           data-comment-replies=\"0\"\\n           data-comment-timestamp=\"2022-01-01T18:00:47.000Z\"\\n           data-comment-author-id=\"2902769\"\\n           data-comment-highlighted=\"false\"\\n           itemscope itemtype=\"http://schema.org/Comment\">\\n\\n    <div class=\"d-comment__inner d-comment__inner--top-level\">\\n        <div class=\"d-comment__meta\">\\n            <span class=\"d-comment__avatar-wrapper\">\\n                <img src=\"https://avatar.guim.co.uk/user/2902769\" alt=\"\" class=\"d-comment__avatar\"/>\\n            </span>\\n            <div class=\"d-comment__meta-text\">\\n                <span\\n                    itemscope\\n                    itemprop=\"author\"\\n                    itemtype=\"http://schema.org/Person\"\\n                    title=\"CommunityMod\"\\n                    class=\"d-comment__author\">\\n                    <a href=\"https://profile.theguardian.com/user/id/2902769\" itemprop=\"url\">\\n                        <span itemprop=\"givenName\">CommunityMod</span>\\n                    </a>\\n                </span>\\n\\n                \\n                <div class=\"d-comment__timestamp\">\\n                    <a href=\"https://discussion.theguardian.com/comment-permalink/154007965\" class=\"d-comment__timestamp block-time\">\\n                        <time class=\"js-timestamp\" itemprop=\"dateCreated\"\\n                            datetime=\"2022-01-01T18:00:47Z\"\\n                            data-timestamp=\"1641060047000\" data-relativeformat=\"med\"\\n                            title=\"Permalink to this comment (1 Jan 2022 18:00)\">1 Jan 2022 18:00</time>\\n                        \\n\\n<span  class=\"inline-comment-anchor inline-icon \" >\\n    \\n        <svg width=\"15\" height=\"15\" viewbox=\"0 0 15 15\" class=\"inline-comment-anchor__svg inline-icon__svg\">\\n <path fill=\"#898989\" d=\"M5.725 13.348a2.563 2.563 0 0 1-3.699-3.547l8.424-8.79a1.921 1.921 0 0 1 2.776 2.658l-6.894 7.193a1.277 1.277 0 0 1-1.812.038 1.28 1.28 0 0 1-.04-1.81l5.324-5.553.337.321-5.325 5.555a.815.815 0 0 0 1.175 1.128l6.896-7.193a1.456 1.456 0 0 0-2.101-2.015l-8.427 8.79a2.102 2.102 0 0 0 .063 2.965 2.098 2.098 0 0 0 2.965-.062l6.853-7.152.338.323-6.853 7.151z\" />\\n</svg>\\n    \\n</span>\\n\\n                    </a>\\n                </div>\\n\\n                \\n    <div class=\"d-comment__author-label\">\\n        \\n\\n<span  class=\"inline-marque-36 inline-icon d-comment__gu-icon\" >\\n    \\n        <svg width=\"36\" height=\"36\" viewbox=\"0 0 36 36\" class=\"d-comment__gu-icon__svg inline-marque-36__svg inline-icon__svg\">\\n <path d=\"M18 0a18 18 0 1 0 0 36 18 18 0 0 0 0-36\" />\\n <path fill=\"#FFF\" d=\"M21.2 4.4c2.3.4 5.3 2 6.3 3.1v5.2H27L21.2 5v-.6zm-2.2.4c-4 0-6.3 5.6-6.3 13.2 0 7.7 2.2 13.3 6.3 13.3v.6c-6 .4-14.4-4.2-14-13.8A13.3 13.3 0 0 1 19 4v.7zm10.4 14.4-1.9.9v8.6c-1 1-3.8 2.6-6.3 3.1V19.9l-2.2-.7v-.6h10.4v.6z\" />\\n</svg>\\n    \\n</span>\\n Staff\\n    </div>\\n\\n\\n\\n                \\n            </div>\\n        </div>\\n\\n        <div class=\"d-comment__content\">\\n\\n             \\n                <div\\n                    class=\"d-comment__recommend js-recommend-comment\"\\n                    data-comment-id=\"154007965\"\\n                    data-comment-url=\"https://discussion.theguardian.com/comment-permalink/154007965\"\\n                    data-user-id=\"2902769\"\\n                    data-recommend-count=\"1\"\\n                    title=\"1 recommendations\">\\n                    <button class=\"u-button-reset d-comment__recommend-button rounded-icon\" data-link-name=\"Recommend comment\" >\\n                        <span class=\"d-comment__recommend-pulse\"></span>\\n                        \\n\\n<span  class=\"inline-arrow-up-white inline-icon \" >\\n    \\n        <svg height=\"14\" width=\"15\" class=\"inline-arrow-up-white__svg inline-icon__svg\">\\n <path d=\"m.5 7 5.25-4.5V14h1.5V2.5L12.5 7l.5-1-5.75-6h-1.5L0 6l.5 1Z\" />\\n</svg>\\n    \\n</span>\\n\\n                    </button>\\n                    <span class=\"d-comment__recommend-count js-recommend-count\">\\n                        <span class=\"d-comment__recommend-count--old\">1</span>\\n                        <span class=\"d-comment__recommend-count--new\">2</span>\\n                    </span>\\n                </div>\\n            \\n\\n            <div class=\"d-comment__main \">\\n\\n                <div class=\"d-comment__body\" itemprop=\"text\">\\n                    \\n                        \\n                            <p>Comments will close here at 18:15 GMT.</p>\\n                        \\n                    \\n                </div>\\n                \\n                    <div class=\"d-comment__actions d-comment__actions--left modern-visible\">\\n                        <a class=\"d-comment__action d-comment__action--reply\" href=\"https://profile.theguardian.com/signin?returnUrl=https://discussion.theguardian.com/comment-permalink/154007965&componentEventParams=componentType%3Didentityauthentication%26componentId%3Dsignin_to_reply_comment\"\\n                                data-link-name=\"reply to comment\" data-comment-id=\"154007965\" role=\"button\">\\n                            \\n\\n<span  class=\"inline-reply inline-icon blue\" >\\n    \\n        <svg width=\"18\" height=\"18\" class=\"blue__svg inline-reply__svg inline-icon__svg\">\\n <path d=\"m10.1 5 .9-1 4 4.5v1L11 14l-.9-1 2.5-3H4L3 9V6.5h2V8h7.6l-2.5-3z\" />\\n</svg>\\n    \\n</span>\\n\\n                            Reply\\n                        </a>\\n\\n                        \\n                            \\n<div class=\"d-comment__action d-comment__action--share\">\\n\\n    <div class=\"sharing-text\">\\n\\n<span  class=\"inline-share inline-icon comment-share-icon\" >\\n    \\n        <svg width=\"12\" height=\"12\" viewbox=\"0 0 12 12\" class=\"comment-share-icon__svg inline-share__svg inline-icon__svg\">\\n <path d=\"M10.073 8.4c-.475 0-.906.19-1.225.497L3.54 6.221 3.555 6l-.015-.221 5.308-2.676c.319.308.75.497 1.225.497.982 0 1.778-.806 1.778-1.8S11.055 0 10.073 0 8.295.806 8.295 1.8l.016.233-5.299 2.675a1.762 1.762 0 0 0-1.236-.507c-.982 0-1.778.806-1.778 1.8s.796 1.8 1.778 1.8c.48 0 .915-.194 1.236-.507l5.299 2.675-.016.233c0 .994.796 1.8 1.778 1.8s1.778-.806 1.778-1.8-.796-1.8-1.778-1.8zm0-7.68c.588 0 1.067.484 1.067 1.08 0 .596-.479 1.08-1.067 1.08S9.006 2.396 9.006 1.8c0-.596.479-1.08 1.067-1.08zm0 10.56a1.075 1.075 0 0 1-1.067-1.08c0-.596.479-1.08 1.067-1.08s1.067.484 1.067 1.08c0 .596-.479 1.08-1.067 1.08z\" />\\n</svg>\\n    \\n</span>\\n <span>Share</span></div>\\n\\n    <div class=\"sharing-buttons\" data-link-name=\"comment social\">\\n    \\n        \\n            \\n\\n        <a href=\"https://www.facebook.com/dialog/share?app_id=180444840287&amp;href=https%3A%2F%2Fdiscussion.theguardian.com%2Fcomment-permalink%2F154007965&amp;quote=CommunityMod%20commented%3A%20%22Comments%20will%20close%20here%20at%2018%3A15%20GMT.%22\"\\n        target=\"_blank\"\\n        class=\"social__action social-icon-wrapper\"\\n        data-link-name=\"social-comment : facebook\">\\n            <span class=\"inline-icon__fallback button\">\\n                Share on Facebook</span>\\n            \\n\\n<span  class=\"inline-share-facebook inline-icon rounded-icon social-icon centered-icon social-icon--facebook comment-facebook-icon\" >\\n    \\n        <svg width=\"32\" height=\"32\" viewbox=\"-2 -2 32 32\" class=\"rounded-icon__svg social-icon__svg centered-icon__svg social-icon--facebook__svg comment-facebook-icon__svg inline-share-facebook__svg inline-icon__svg\">\\n <path d=\"M17.9 14h-3v8H12v-8h-2v-2.9h2V8.7C12 6.8 13.1 5 16 5c1.2 0 2 .1 2 .1v3h-1.8c-1 0-1.2.5-1.2 1.3v1.8h3l-.1 2.8z\" />\\n</svg>\\n    \\n</span>\\n\\n            <span class=\"u-h\">Facebook</span>\\n        </a>\\n    \\n\\n            \\n            \\n                \\n\\n        <a href=\"https://tw'"
      ]
     },
     "execution_count": 19,
     "metadata": {},
     "output_type": "execute_result"
    }
   ],
   "source": [
    "xx = json.loads(json_data[0])\n",
    "xx['commentsHtml'][:8000]"
   ]
  },
  {
   "cell_type": "code",
   "execution_count": null,
   "metadata": {},
   "outputs": [],
   "source": [
    "https://discussion.theguardian.com/comment-permalink/154003870"
   ]
  },
  {
   "cell_type": "code",
   "execution_count": 136,
   "metadata": {},
   "outputs": [
    {
     "name": "stdout",
     "output_type": "stream",
     "text": [
      " class=\"d-comment\n",
      "            d-comment--top-level\"\n",
      "           id=\"comment-144422422\"\n",
      "           data-comment-id=\"144422422\"\n",
      "           data-comment-author=\"Hushing\"\n",
      "           data-comment-replies=\"0\"\n",
      "           data-comment-timestamp=\"2020-10-11T14:25:06.000+01:00\"\n",
      "           data-comment-author-id=\"12407494\"\n",
      "           data-comment-highlighted=\"false\"\n",
      "           itemscope itemtype=\"http://schema.org/Comment\">\n",
      "\n",
      "    <div class=\"d-comment__inner d-comment__inner--top-level\">\n",
      "        <div class=\"\n"
     ]
    }
   ],
   "source": [
    "print( xx['commentsHtml'][200:700])"
   ]
  },
  {
   "cell_type": "code",
   "execution_count": 16,
   "metadata": {},
   "outputs": [],
   "source": [
    "pa = re.compile('data-comment-author=\"(.*?)\"')\n",
    "pid = re.compile('data-comment-author-id=\"(\\d+)')\n",
    "pcid = re.compile('\\sid=\"comment-(.*?)\"')\n",
    "pp = re.compile('<li class=\"d-comment(.*?)>',re.DOTALL)\n",
    "\n",
    "auths = []\n",
    "md = []\n",
    "for xx in json_data:\n",
    "    hh = json.loads(xx)['commentsHtml']\n",
    "    auths.extend(list( zip(pa.findall(hh), \n",
    "                           pid.findall(hh)\n",
    "                          )))\n",
    "    md.extend(pp.findall(hh))\n",
    "\n",
    "auths = list(set(auths))\n",
    "auths.sort(key=lambda x : x[0].lower())\n"
   ]
  },
  {
   "cell_type": "code",
   "execution_count": 102,
   "metadata": {},
   "outputs": [],
   "source": [
    "#print( '\\n'.join([x for x in md if 'pinkie' in x.lower()]))"
   ]
  },
  {
   "cell_type": "markdown",
   "metadata": {},
   "source": [
    "https://discussion.theguardian.com/comment-permalink/144375739"
   ]
  },
  {
   "cell_type": "code",
   "execution_count": 8,
   "metadata": {},
   "outputs": [],
   "source": [
    "auths = dict(auths)"
   ]
  },
  {
   "cell_type": "code",
   "execution_count": 9,
   "metadata": {},
   "outputs": [
    {
     "data": {
      "text/plain": [
       "'https://api.nextgen.guardianapps.co.uk/discussion//p/hvpq8.json'"
      ]
     },
     "execution_count": 9,
     "metadata": {},
     "output_type": "execute_result"
    }
   ],
   "source": [
    "comments_url"
   ]
  },
  {
   "cell_type": "code",
   "execution_count": 15,
   "metadata": {},
   "outputs": [],
   "source": [
    "\n",
    "from bs4 import BeautifulSoup\n",
    "\n",
    "def html2comments(x):\n",
    "    tt = json.loads(x)\n",
    "    soup = BeautifulSoup(tt['commentsHtml'],  \"lxml\")\n",
    "    raw = [ comment.text for comment in  \n",
    "            soup.findAll('div', {'class' : \"d-comment__body\"}) ]\n",
    "    \n",
    "    metadata = soup.findAll('span', {'class' : \"d-comment__author\"})\n",
    "    \n",
    "    \n",
    "    auth = [ x.text.upper().strip() for x in metadata]\n",
    "    auth_id = [ x.find('a')['href'] for x in metadata]\n",
    "    #this was a pain to do really\n",
    "    #the problem is blocked comments\n",
    "    comment_id = [ x['id'][len('comment-'):] for x in soup.findAll('li')]\n",
    " \n",
    "    \n",
    "    ss = '##{}\\nhttps://discussion.theguardian.com/comment-permalink/{}\\n{}\\n\\n{}'\n",
    "    return [ ss.format(a,b,d,c.strip())  \n",
    "                   for a,b,d,c in zip(auth, comment_id, auth_id, raw)]\n",
    "     \n",
    "all_texts = [ html2comments(page) for page in json_data[:] ]\n",
    "\n",
    "\n",
    "from itertools import chain\n",
    "all_comments = list(chain.from_iterable(all_texts))\n",
    "    "
   ]
  },
  {
   "cell_type": "code",
   "execution_count": null,
   "metadata": {},
   "outputs": [],
   "source": []
  },
  {
   "cell_type": "markdown",
   "metadata": {},
   "source": [
    "# Random data hacking"
   ]
  },
  {
   "cell_type": "code",
   "execution_count": 6,
   "metadata": {
    "scrolled": true
   },
   "outputs": [
    {
     "data": {
      "text/plain": [
       "[('##ANDREWF75', 26),\n",
       " ('##BARONVONAMERICANO', 22),\n",
       " ('##SEELIFEDIFFERENTLY', 17),\n",
       " ('##ZIONTRAIN', 15),\n",
       " ('##1LOVE1HEART', 15),\n",
       " ('##KAVANGH', 15),\n",
       " ('##ATLANT', 14),\n",
       " ('##DAVETHEWRAPPER', 12),\n",
       " ('##LISAMARIE3', 11),\n",
       " ('##PROUDSONOFDUCK', 10),\n",
       " ('##MISTERFRISKY', 9),\n",
       " ('##IRRELIGIOUS', 9),\n",
       " ('##MADORKALLAN', 8),\n",
       " ('##SNAFU5001', 8),\n",
       " ('##JALFRED_ARRY', 8),\n",
       " ('##DEANO1956', 8),\n",
       " ('##HFLASHMAN', 7),\n",
       " ('##JUSTANOTHERPROFILE', 7),\n",
       " ('##COMPAID', 7),\n",
       " ('##ROVERTHEHILLANDFARAW', 7),\n",
       " ('##MRMAY', 7),\n",
       " ('##TD1972', 6),\n",
       " ('##MCPWILK', 6),\n",
       " ('##DENSHER', 6),\n",
       " ('##LUDALEIN', 6),\n",
       " ('##DONDI', 6),\n",
       " ('##SOMETIMELATER', 5),\n",
       " ('##JAYPEE65', 5),\n",
       " ('##ROLLERRULER', 5),\n",
       " ('##SHIRA7777', 5),\n",
       " ('##OLDBUTNOTWISE', 5),\n",
       " ('##LEEABROAD', 5),\n",
       " ('##CMAN', 5)]"
      ]
     },
     "execution_count": 6,
     "metadata": {},
     "output_type": "execute_result"
    }
   ],
   "source": [
    "A = [x.split('\\n')[0] for x in all_comments]\n",
    "from collections import Counter\n",
    "AN = Counter(A)\n",
    "sorted([(x,y) for x,y in AN.items() if y > 4], key=lambda x : -x[1]) "
   ]
  },
  {
   "cell_type": "code",
   "execution_count": 7,
   "metadata": {},
   "outputs": [
    {
     "name": "stdout",
     "output_type": "stream",
     "text": [
      "[master 2d74372] web\n",
      " 1 file changed, 0 insertions(+), 0 deletions(-)\n",
      " create mode 100644 kdxb7.pkl\n",
      "Counting objects: 3, done.\n",
      "Delta compression using up to 12 threads.\n",
      "Compressing objects: 100% (3/3), done.\n",
      "Writing objects: 100% (3/3), 418.83 KiB | 3.25 MiB/s, done.\n",
      "Total 3 (delta 1), reused 0 (delta 0)\n",
      "remote: Resolving deltas: 100% (1/1), completed with 1 local object.\u001b[K\n",
      "To https://github.com/macbuse/GUARDIAN.git\n",
      "   705b837..2d74372  master -> master\n"
     ]
    }
   ],
   "source": [
    "! ./.g\n"
   ]
  },
  {
   "cell_type": "code",
   "execution_count": 6,
   "metadata": {},
   "outputs": [
    {
     "name": "stdout",
     "output_type": "stream",
     "text": [
      "##ZIPPYSTEETH\n",
      "https://discussion.theguardian.com/comment-permalink/153894955\n",
      "https://profile.theguardian.com/user/id/100479875\n",
      "\n",
      "The CRG might think that as support for restriction wanes they are onto \n"
     ]
    }
   ],
   "source": [
    "print(all_comments[0][:200])"
   ]
  },
  {
   "cell_type": "code",
   "execution_count": 16,
   "metadata": {},
   "outputs": [
    {
     "name": "stdout",
     "output_type": "stream",
     "text": [
      "##HAIGIN88\n",
      "https://discussion.theguardian.com/comment-permalink/154609723\n",
      "https://profile.theguardian.com/user/id/2836106\n",
      "\n",
      "There was an episode in music some years ago, before the internet, when a rapper's new album came out in Britain but minus a couple of songs (later added back in for its anniversary re-release, of course) when the record company made mealy-mouthed jibber-jabber about freedom of speech but said that those two songs weren't entities behind which the record company could stand. Foolish. Once you draw that line, then you de facto, are standing by all of the others. \"So violence against women; violence in general; drink; drugs is all okay but violence and hate against only a certain group is wrong?\". Er, er, er, well, er.....\n",
      "Once you start pulling at that thread, you're in a whole world of hurt. I love Young and quite like Rogan but Young's dropped a bollock here. Why on Earth didn't one of his people rugby tackle him away from his laptop. Spotify had no option. If they'd allowed themselves to be dictated to, it would've opened the floodgates. They had to take down Young's music and Young now looks like a ninny, having beclowned himself. One looks forward to him and Spotify quietly putting his music back when he waves the white flag while pretending that he's only blowing his nose. Same principle is at work: so you are drawing the line here....which means that you quasi-endorse all of our other content with songs talking about many other dubious subjects? Like it or not, that's the outcome. \n",
      "There are two things at work here, which Young's blundered into. One is that Rogan's reach dwarfs the reach of US network television: they hate his guts and will be trying to run him up a tree however they can. The second is that when it comes to disinformation, I can think of one network name who said that the coronavirus stops at every vaccinated person and I can think of a president at a Town Hall who said to the throng and the TV audience that if you get the vaccine, you will not get the virus. He was left uncorrected by the host.\n",
      "Everyone's blundering around, trying to make the best of an impossible situation. People who are anti-people being mandated to undertake a vaccination are being painted as anti-vaccination itself. I've had my three jabs and I'll take as many that I'm offered but I fail to see why people being forced into a medical procedure is in any way productive when vaccinations protect you from serious damage from the virus but neither stop you from getting it nor stop you from passing it on to others. If that's the case, and it is, then those refusing to be bullied into a vaccination, are taking the hit, not other people.\n",
      "Also, it's within living memory when US senators' launched a campaign to mark \"suspect\" music with \"Explicit Lyrics: Parental Advisory\" which then led to some stores not selling the work and so financially strangling artists and companies, who were less likely to make such work in the first place. Quite amazing to see an artist like Young and a US citizen like Young (I gather than he's now a Canadian/US citizen) so he must be aware of the importance of freedom of speech to the American body politic, go down this shaky road. \n",
      "All power to Rogan and Spotify in this regard. While I find Rogan's views on certain things diametrically opposed to what I believe in (he hunts animals, for example) it doesn't mean that he's not well worth one's time. Although he's a martial artist, a comedian, a cage fighting host, he's also a majorly talented interviewer. There isn't a better interviewer in the world. He makes the highly-paid news \"actors\" on network television look like dummies and they know it. Hence, he must be stopped. Hence this exercise in ludicrousness.\n",
      "\n",
      "##LOUISRIEL\n",
      "https://discussion.theguardian.com/comment-permalink/154612565\n",
      "https://profile.theguardian.com/user/id/100809061\n",
      "\n",
      "Likely, most of what you think you know about Malone is based on reading or hearing various know-nothings repeating Malone's own self-promotion.3 decades ago, under someone else's direction, Malone did a couple of experiments whose results suggested it was possible to get controlled transient expression of foreign proteins in mammalian cells, by temporarily stabilizing the mRNA and transfecting it into the cells ( https://pubmed.ncbi.nlm.nih.gov/2762315/ ). After publishing that result, he appeared as a middle author on a handful of papers that attempted to further the transfection technology he had worked with.While he has since had a successful career in biotech -- including vaccine technology -- and he seems to have contributed to the development of, for example, some DNA transfection technologies, AFAICT he hasn't in the last 25 years published much about mRNA that is noteworthy. He may indeed be an expert in mRNA vaccine technology, but if so it isn't -- again, AFACIT -- because he's ever successfully developed one, either in a human or in a lab animal.Most significantly, he categorically is not \"the inventor\" of mRNA vaccines, a title he has given to himself and then promulgated through gullible media types like Rogan. As a graduate student working under supervision, he made an early, significant contribution -- mainly a proof of concept. It took another 25 years before the work of hundreds of other scientists brought that concept to fruition, with a technology that is not, as it happens, directly based on the technique Malone published, which had long before been abandoned ( https://www.ncbi.nlm.nih.gov/pmc/articles/PMC3597572/ ).He comes across as an embittered egomaniac, of a sort that almost all who work in science have encountered (see: Didier Raoult): They make hyperbolic and grandiose claims about the significance of their own ideas and work, dismiss and undermine the ideas and work of others, and end up in conflict (often, over credit) with people who try to work with them.Thus, the problem with bringing Malone on as an expert is that we cannot separate his interest in sharing his viewpoint from his interest in tearing down the people whose success is eating away at his liver. They're getting paid, and he isn't. They're getting interviewed on CNN and in the NYT and he isn't. He's the genius, and they're the pedestrian drones, but they're all fabulously wealthy and courting the Swedish Committee. The injustice of it all!\n",
      "\n",
      "##BARONVONAMERICANO\n",
      "https://discussion.theguardian.com/comment-permalink/154609203\n",
      "https://profile.theguardian.com/user/id/10768278\n",
      "\n",
      "Many here rightfully point out that it's not just about money and TRUTH.\n",
      "Free speech is implicated in the demands to deplatform Joe Rogan.\n",
      "In response, people argue free speech shouldn't belong to people like Rogan \"who have a lot of crazy people on his show\" etc. \n",
      "Well...\n",
      "What about MSNBC, Fox, CBS, ABC, etc., who EMPLOY former members of US intelligence and military to spin news in favor of global violence (profitable to the shareholdings of corporate owners and political donors)?\n",
      "What about the conflict of interest that a vast -- probably more than double digit -- source of revenue for such news channels is Pharma? Every time I engage in the rare process of watching commercial television half the ads appear to be for the drug industry; often two or three in a row. \n",
      "What about the fact that both Fox and MSNBC made the exact same argument in Court that their big hosts (Carlson and Maddow, respectively) that they could not have engaged in slander because a) they aren't on news channels, but entertainment channels; and b) everyone in the public knows that they aren't news channels or journalists. \n",
      "Finally, how the hell --and who the hell-- decides in the moment whether something is \"misinformation?\" \n",
      "All those news channels can broadcast a ton of shit that turns out to be total bullshit (and, frankly, knowable at the time). Yellow cake uranium. Curveball. Russian prostitutes doing something with the president elect. WMD. \n",
      "Is that permissible misinformation? The kind that leads to dead brown bodies and trillions of dollars to the private accounts of the arms and war consulting industry? \n",
      "Joe Rogan outrage is a bullshit rabbit hole, even if his one \"bad\" guest was wrong about everything.\n",
      "And Neil Young, who backed Reagan in the day, is hardly a sharp political mind, however great the music he created four decades ago.\n",
      "\n",
      "##BARONVONAMERICANO\n",
      "https://discussion.theguardian.com/comment-permalink/154610481\n",
      "https://profile.theguardian.com/user/id/10768278\n",
      "\n",
      "When the people of the United States live a virtual sea of bullshit, and yet have their outrage directed at something so remote, it's hard to think we're headed anywhere good.\n",
      "Assuming Joe Rogan's guest was full of shit about everything, it is nonetheless stunning that there are such concentrated calls to deplatform him (whether from Young or any other talking head / group /etc.). \n",
      "Our so-called \"news\" channels make money by selling ads to pharmaceutical companies, broadcast \"news\" about pharmaceuticals, and then argue in court they can't be held to any truth standards because they are not \"news\" but instead entertainment, and their hosts aren't journalists, but entertainers. These are uncontroverted facts. \n",
      "Our politicians can't get within a mile of any influential position until they sell their soul along with their political career to the MIC, Pharma, insurance, and global finance. \n",
      "Is this one doctor, who at least has the relevance of working on the mRNA technology, really a greater threat than all of the above? Do his opinions cause more deaths and trauma than prior decades of poison air and water because our purchased government doesn't really regulate industry anymore? \n",
      "What about all the \"misinformation\" that made that possible? \"EPA found it safe!\" Then we find out from whistleblowers at the EPA that employee-scientists are threatened with firing and personal lawsuits if they don't approve chemicals even if those scientists have not concluded the chemicals are safe (still true under Biden, according to those whistleblowers).\n",
      "That's not even really in the news. Seems some dangerous misinformation, no? \n",
      "Our society can't prioritize its way out of a box. \n",
      "And it's not long before that box becomes a prison.\n",
      "\n",
      "##SHORTORDERCOOK\n",
      "https://discussion.theguardian.com/comment-permalink/154611480\n",
      "https://profile.theguardian.com/user/id/12611808\n",
      "\n",
      "With views you disagree with, including conspiracy theories, it's always best to give them the oxygen of publicity, where better to have them exposed and debunked.\n",
      "\n",
      "The trouble is that this has repeatedly been shown to be incorrect. People have many reasons for accepting a fact as true or not, it actually being true is not always one of those reasons. The most obvious example of this is that literally no one thinks that a way to reduce racism in society would be to have more racists given time on news programs to explain why they are racist.\n",
      "In the same way, allowing debate between people were right on climate change and people who were wrong did not stop people believing those demonstrably wrong things about climate change, it simply exposed more people to them. It set action on climate change back thirty years. \n",
      "What has actually turned the tide on public opinion on climate change has been denying people spreading misinformation on climate change a platform. News programs have been lobbied not to get on prominent climate science deniers, scientists have refused to appear on programs with them, newspapers have refused to print them and websites delete comments which feature climate science denial. In this way debate is allowed to focus on the actual issues around climate change, rather than constantly being around whether misinformation is misinformation or not.\n",
      "Incidentally, if you think that only \"the left\" shuts down debate, then why is it that mainstream media never discusses prominent left-wing ideas like nationalisation, except to shut it down by saying how unrealistic it is? Writing off left-wing ideas as \"fringe\", \"radical\" or \"extreme\" has been a tactic of the right for decades.\n",
      "\n",
      "##TEREUS\n",
      "https://discussion.theguardian.com/comment-permalink/154612096\n",
      "https://profile.theguardian.com/user/id/2941933\n",
      "\n",
      "I'm not an anti-vaxxer and there's no doubt Malone is a bit of a crank these days. But that is a totally unfair characterisation of him. I thought this article was pretty fair: https://www.theatlantic.com/science/archive/2021/08/robert-malone-vaccine-inventor-vaccine-skeptic/619734/\n",
      "\n",
      "The abridged version is that when Malone was a graduate student in biology in the late 1980s at the Salk Institute for Biological Studies, he injected genetic material—DNA and RNA—into the cells of mice in hopes of creating a new kind of vaccine. He was the first author on a 1989 paper demonstrating how RNA could be delivered into cells using lipids, which are basically tiny globules of fat, and a co-author on a 1990 Science paper showing that if you inject pure RNA or DNA into mouse muscle cells, it can lead to the transcription of new proteins. If the same approach worked for human cells, the latter paper said in its conclusion, this technology “may provide alternative approaches to vaccine development.” \n",
      "These two studies do indeed represent seminal work in the field of gene transfer, according to Rein Verbeke, a postdoctoral fellow at Ghent University, in Belgium, and the lead author of a 2019 history of mRNA-vaccine development. (Indeed, Malone’s studies are the first two references in Verbeke’s paper, out of 224 in total.) Verbeke told me he believes that Malone and his co-authors “sparked for the first time the hope that mRNA could have potential as a new drug class,” though he also notes that “the achievement of the mRNA vaccines of today is the accomplishment of a lot of collaborative efforts.”\n",
      "\n",
      "##HUG_A_FOODIE\n",
      "https://discussion.theguardian.com/comment-permalink/154609560\n",
      "https://profile.theguardian.com/user/id/105404981\n",
      "\n",
      "Rogan is someone that infuriates me and gets my approval in equal measure.\n",
      "By his own admission, he's 'just an idiot, trying to figure things out' (we all fit into that category, which goes a long way towards explaining his popularity). He's also admitted multiple times, that a not insignificant proportion of his fans are bats**t nuts. He really should be much more responsible, with that in mind. \n",
      "I don't understand the unquestioning devotion he receives from some (mind you, I get that parasocial fan relationships sustain a lot of people who are cut off from regular social interactions for a variety of reasons), but saying that, I don't really understand unquestioning, cultlike behaviour in any form. It's just weird. Obviously a big part of human nature in the internet age, but again...weird.\n",
      "On the positive side though, when he gets it right, his interviews are enormously informative and good fun.\n",
      " He's made some appalling choices with certain interviewees and has platformed some extremely dodgy stuff to his massive audience, so again, my main criticism of him, is the lack of forethought and responsibility he takes regarding what he says and his guests might say.\n",
      "He's no longer a regular Joe (pun intended). He has the biggest podcast on the planet. He can say 'we're just here shootin' the s**t' as much as he likes. That's not the situation any longer. There are consequences to all speech, whether he likes it or not.\n",
      "He just needs to be more careful. End of. But again, when he has got it right, it really, really does work. And it's great stuff.\n",
      "\n",
      "##KAVANGH\n",
      "https://discussion.theguardian.com/comment-permalink/154612716\n",
      "https://profile.theguardian.com/user/id/17075231\n",
      "\n",
      "If free speech brought us from tyranny in the 1800s to freedom today, what makes you so sure removing it now won't be a step back to returning us to tyranny? \n",
      "I am constantly amazed at how many of you, my liberal bretheren\n",
      "\n",
      "To get the real easy stuff out of the way, free speech did not get rid of the Aristocratic structures of old, revolution did. Nobody has suggested the removal of free speech and I am not a liberal as I believe in a democratically ran society rather than one that only benefits a few capitalists at the top.\n",
      "\n",
      "If free speech brought us from tyranny in the 1800s to freedom today\n",
      "\n",
      "The tyranny of the upper class being replaced by the middle class (of the time) was just installing a new tyranny of a slightly different class, it did not remove as such but replace them and the \"luxuries\" this got you is now you can complain about the government but can't do anything about them just the same!\n",
      "\n",
      "a level of control of what opinionscan be discussed in public that looks very like the control the modern Chinese state exerts over its people. As it is, I can't watch anything on youtube about corona without the enormous link to the WHO corona facts appearing just under it.\n",
      "\n",
      "This honestly does a great job showing how just empty those supposedly worried about free speech are, there is a link under your YouTube video? Yeah I am pretty sure that's exactly what Deng Xiaoping said would pave the way for China. A little link that if you were really truly worried for you could quite easily add an extension to your browser to hide it.\n",
      "\n",
      "##MEREMORTAL\n",
      "https://discussion.theguardian.com/comment-permalink/154610530\n",
      "https://profile.theguardian.com/user/id/2679561\n",
      "\n",
      "i'm not up on this particular controversy, but I think Joe Rogan who I've watched a few times has struck me as a really brilliant interviwer. He may not be right about everything, he may have a guest that some people despise, but he strikes me as intellectually honest and open to being mistaken. I think he got to where he got to because he was willing to chat to all sorts of people, he's certainly no shock jock and he's not some total jerk like Howard Stern or Rush Limbaugh or Hannity or any of those other cretins. I don't think he deserves such a massive pile-on, because in a time of pandemic you want people willing to ask questions, for example everyone tried to say in the first year of the pandemic that saying that Covid was a lab leak was tantamount to being a total loony, but we heard this year that Jeremy Farrar (director of the Wellcome Trust and a scientist) thought in private emails that the virus being a lab leak was 70/30 to it being from the wet market. But a few weeks later he signed a letter to the Lancet saying that anyone who doubted the market story was a conspiracy theorist. In the initial email he was worried about the lab leak theory because it 'might harm science'. So there are questions to be answered. I'm triple jabbed so i'm absolutely not anti-vax in any way but I don't agree with this pile-on on Joe Rogan who strikes me as a pretty impressive person. Neil Young is free to do what he likes it doesn't mean he's understood every nuance of this particular issue as well any more than Rogan.\n",
      "\n",
      "##TEREUS\n",
      "https://discussion.theguardian.com/comment-permalink/154611941\n",
      "https://profile.theguardian.com/user/id/2941933\n",
      "\n",
      "But the problem is no-one has unfettered access to the truth. We are all making best guesses based on partial data. I agree that we can make judgements about likelihoods, and in some cases be highly confident that a particular statement is true (say human activity is warming the planet or whatever). But you hardly need to be a historian to know history is absolutely littered with people, whole societies, who all believed a certain thing, who would have considered that thing a stone cold fact, and yet we know (as far as we can) that they were wrong. I bloody love science. I am a trained physicist. I love Bayes. I despair of the conspiratorial mode of much thinking these days. But I am very skeptical that the way to fight it is by deplatforming speech. I know Rogan does not have a 'right' to that platform. But still, I think any attack on the pipes of information, rather than the information itself, will likely backfire.I reckon the only way to fight is to educate - not just formally, but informally, in every conversation, tweet, CiF comment: try to show you have weighed up an argument, that you have not just ad hominemed it or straw-manned it, try to understand why someone might think something different from you without impugning their integrity, try to employ a scout mindset, and all that done, lay out as clearly as you can why you believe whatever you believe. \n",
      "Jordan Peterson is a total arse though.\n",
      "\n",
      "##WAVINGPINES1971\n",
      "https://discussion.theguardian.com/comment-permalink/154611860\n",
      "https://profile.theguardian.com/user/id/18402706\n",
      "\n",
      "Full disclosure: I love Neal Young. Especially the CSN@Y years. I didn't watch \"Fear Factor\", I've never heard his stand-up act, but I am a fan of MMA and he's an excellent analyst in that arena. I have, subsequently, heard a few of his podcasts but am not a regular listener. All that said, Joe Rogan is NOT a journalist nor is he pretending to be like all of those \"luminaries\" on FOX News and CNN. He is also the first to tell you you're an idiot if you're listening to him for medical, scientific, cultural, or historical \"facts\"...I've heard him say it on the podcast. What he knows is the entertainment industry and fighting. If you want advice or \"accurate\" commentary about any of that....he's your source. The rest of the stuff he talks about or features is because he's personally interested in it and admittedly knows NOTHING about it, or because his staff believes it'll \"trigger\" people and get \"clicks\"...Seems to be working. Free speech is clearly protected by the constitution. That's been upheld by numerous court rulings in the past....Stripping rights away takes time....First you gotta get some \"new judges\" on the court that will make up new definitions of words so they can pretend the amendments don't mean what they say or \"don't count\" for Joe Rogan....You know, like the republicans have done to cancel \"old court\" rulings they don't like.\n",
      "\n",
      "##SHORTORDERCOOK\n",
      "https://discussion.theguardian.com/comment-permalink/154612601\n",
      "https://profile.theguardian.com/user/id/12611808\n",
      "\n",
      "But you hardly need to be a historian to know history is absolutely littered with people, whole societies, who all believed a certain thing, who would have considered that thing a stone cold fact, and yet we know (as far as we can) that they were wrong.\n",
      "\n",
      "That may have been the case then but it's not the case now. With modern science the chances of the whole of society believing something that is wrong in an important way is tiny. Moreover the problem with those beliefs is not the holding of them in itself, it is the fact that major damage was caused to those societies by actions taken based on those beliefs being true. On matters of fact, there is nothing that we could plausibly be wrong about enough to cause major damage to society. \n",
      "This practical argument for free speech, that it allows society to work through ideas and that preventing it prevents potentially dangerous erroneous beliefs being cast aside also has to be weighed against deliberately malicious actors causing damage by spreading misinformation, as we saw over the last thirty years with the climate change debate. Freely allowing climate science deniers access to media platforms did nothing to advance public knowledge and debate. Lobbying the BBC and other media organisations to stop giving bogus think tanks air time was what worked.\n",
      "\n",
      "##BARONVONAMERICANO\n",
      "https://discussion.theguardian.com/comment-permalink/154608482\n",
      "https://profile.theguardian.com/user/id/10768278\n",
      "\n",
      "This article inexcusably ignores an elephant in the room.\n",
      "Argue one way or another, but also in the mix is the question of political speech and a free press.\n",
      "The letter at the root of the complaints (and Young's objections) points to one episode, and a single guest on that episode, over a year ago. That guest had a major hand in the development of mRNA technology. \n",
      "It seems to me that retroactively asking for Rogan to be deplatformed for that \"crime\" -- having a controversial but relevant guest on about a major public topic -- would be enormously chilling.\n",
      "What message does that send any journalist (or public speaker)? Do not venture into any speech / information / opinion that may end up on the wrong side of history. \n",
      "Again, argue why speech wouldn't be chilled (I think that's a hard argument without clairvoyance, particularly given that governments and corporations lie all the time), but don't pretend this is about only the mighty dollar versus unambiguous righteousness. \n",
      "There is a value in ideas and information having avenues to the general public for discussion, even if those ideas and information are wrong. If for nothing else because who is going to decide what is wrong in the present, and will they always be right?\n",
      "\n",
      "##KAVANGH\n",
      "https://discussion.theguardian.com/comment-permalink/154610003\n",
      "https://profile.theguardian.com/user/id/17075231\n",
      "\n",
      "Worth noting us the fact this gets everyone involved in the news (free advertising), you gave people here saying they will cancel/subscribe as a reaction who assuming at least a few of will tell their friends or further propagate on other social media (free advertising).\n",
      "The reality is of course this is a nothing burger, it couldn't matter a bit what Spotify does and does not do in the grand scale of things. Rogan is hardly a figure of obscurity who has to deal with any actual censorship someone far less established wealth and influence would have.\n",
      "It is both impressive and horrifying that we are at a stage of manufactured outrage where a few people at least report to change their consumption habits while days of free advertising getting things into people's mind thanks to free advertising (a nice euphemism for consumption driven propaganda).\n",
      "How many people do you think will be listening to Rogan and Neil Young thanks to this \"Spat\" compared to last week? How many people has this got posting Spotify on their timelines?\n",
      "People harp on about how Orwell was right (and he had many great insights) but I think he very much missed just how horrifically performative capitalism's own \"opposition\" to itself would be and to it's own benefit.\n",
      "\n",
      "##NASHER02\n",
      "https://discussion.theguardian.com/comment-permalink/154612338\n",
      "https://profile.theguardian.com/user/id/4540336\n",
      "\n",
      "If free speech brought us from tyranny in the 1800s to freedom today, what makes you so sure removing it now won't be a step back to returning us to tyranny?\n",
      "I am constantly amazed at how many of you, my liberal bretheren, seem to be hankering for a level of control of what opinionscan be discussed in public that looks very like the control the modern Chinese state exerts over its people. As it is, I can't watch anything on youtube about corona without the enormous link to the WHO corona facts appearing just under it. It is enough. The risk to society does not require going any further. It is important that we can discuss these topics. Indeed even over the last months we have seen some positions go from heretical (according to our bien-pensant betters) to accepted. Accepting the a lab leak is a possible explanation for the virus for example. Questioning the wisdom of booster shots for young people. Accepting the validity of natural immunity. All these things were verboten at one point, but discussed and won out on the merits. Other ideas - chloroquine for example - were discussed and thrown out on the merits. This is vital to society and to our progress and we shut these discussions down at great peril.\n",
      "\n",
      "##BORTHOLOMEW\n",
      "https://discussion.theguardian.com/comment-permalink/154612449\n",
      "https://profile.theguardian.com/user/id/103305589\n",
      "\n",
      "Stop building a ridiculous straw man. Climate change is physics. 100 percent exact science every time from here to the end of time. Stupid, ARROGANT people argue against exact science like physics without studying the topic. They arrogantly argue against thousands and thousands of scientists who have studied physics and the exact topic for years and have done work amongst the topic even for decades! But arrogant people think they know better than these people. They don't. They know less. You actually have to study the topic for years until you know about the topic. Spewing pseudoscientific bullshit is not enough even though it might be even logical. You still need to learn the MEASURED and established causative facts. You know, how it goes in real life. And nothing is more real than physics.\n",
      "Almost as stupid and arrogant people argue against established, empirical, MEASUREABLE facts with unmeasureable hypothetical, cherrypicking bullshit which gets people killed like in the case of vaccinations. You have bullshit on your side, I and other people against the bullshitters spewing bullshit have MEASUREABLE objective facts. Protip: you can look them up even yourself! Just look at the numbers. The end.\n",
      "\n",
      "##GSBAKER\n",
      "https://discussion.theguardian.com/comment-permalink/154610747\n",
      "https://profile.theguardian.com/user/id/106983840\n",
      "\n",
      "I'm a three times vaccinated Neil Young fan but I can't help feel the lefty Californian hippy is wrong on this one.\n",
      "Far too many on the left first's instinct it to shut down debate.\n",
      "It was also Margret Thatcher's first instinct, where the IRA was concerned, starving them of the oxygen of publicity, as she put it, and it backfired badly.\n",
      "With views you disagree with, including conspiracy theories, it's always best to give them the oxygen of publicity, where better to have them exposed and debunked.\n",
      "The modern left's view of ordinary people is to believe they are mostly stupid. I grew up in an era when the left respected the views and values of ordinary people, mainly because its leadership came from the ordinary working people, and that always worked out far better.\n",
      "Then all the evidence you need for that is the current liberal left Labour opposition trying to come to terms with their abject failure.\n",
      "The good sense of the people is usually more than good enough to counter wacko theories, except perhaps in the small number of idiots, always with us, determined to only believe what they want to believe, determined to find out the hard way.\n",
      "\n",
      "##STEVECINQ\n",
      "https://discussion.theguardian.com/comment-permalink/154612604\n",
      "https://profile.theguardian.com/user/id/14085927\n",
      "\n",
      "I'm not sure why we can't explicitly mention alternative providers, but I'll have a go and see if I get deleted ...\n",
      "I've tried Spotify, Amazon, Deezer and Tidal so far. They all have their foibles. Eg Spotify insists on shuffling music, its quality is lower than the others and it's, now, poison as far as I'm concerned.\n",
      "Tidal is high quality, pays artists better but has limited content and some wierdities with its apps.\n",
      "Amazon ... well, it's the \"Big Guy\" and it gets enough of my cash already, not always because I have a choice. Good content and quality, though.\n",
      "I'm currently (back) with Deezer but although it's not bad - plenty of choice and good quality - it has one really, really annoying thing: its so-called Shuffle My Music feature is total crap. It will play five R.E.M. songs in a row, R.E.M. about 50% of the time overall with about 30% Neil Young, and will play only a few tracks from my 200+ artists. I'm forever skipping tracks or turning this off. (I often wonder why these artists get \"pushed\" but will refrain from verbalising that here.)\n",
      "Anyway, there you go. I'd love to hear what others have tried and what they think.\n",
      "\n",
      "##SODEMALL\n",
      "https://discussion.theguardian.com/comment-permalink/154610951\n",
      "https://profile.theguardian.com/user/id/4528079\n",
      "\n",
      "Oh dear. So, Joe Rogan talking with people with an alternative view is so threatening to people that they have to cancel their Spotify subscriptions. In a world where we only get one point of view from most media, it is refreshing to hear something different. Cancel your Spotify subscriptions, go elsewhere for your information; that is your right. But, unchallenged points of view are dangerous. As an example, all scientists will tell you that when you breath out, Covid virus exits in water droplets that fall to the ground about three feet away. That's why we were told that washing our hands was more important than wearing masks, as we were more likely to pick it up from surfaces than breathing it in. Yet a current Government advert is saying that \"Covid particles hang around in the air\", so we should wear masks. I'm not a virologist and don't know which is true. I can only make an informed decision by listening to all the available information. As it happens, I agree with the majority and am fully jabbed. I also like Joe Rogan and listen to him regularly and will continue to do so.\n",
      "\n",
      "##BORTHOLOMEW\n",
      "https://discussion.theguardian.com/comment-permalink/154609669\n",
      "https://profile.theguardian.com/user/id/103305589\n",
      "\n",
      "\"it might have lost its way\"Nah. That's how capitalism works. The end goal and above else is collecting capital. So nothing else matters. Not even getting people killed by proxy by spreading dangerous misinformation. It's all Friedman/neoliberal bullshit that the CEOs are only responsible for shareholders. No. Everybody is responsible for their actions and the consequences that follow. Time to grow up and take responsibility. When Spotify let this bullshitter spew his bullshit on their platform, the leaders in charge are also responsible for putting lives in danger. Of course Joe Rogan is responsible for his bullshit but Spotify CEOs are just as responsible for taking him to their service to spew his dangerous bullshit. In fact, they have ALL the power to allow or stop it. They have decided to allow the dangerous bullshit on their platform. That's their corporation and their responsibility. You don't get away from the responsibility by believing in ideological nonsense like neoliberal capitalism or even capitalism.\n"
     ]
    }
   ],
   "source": [
    "all_comments.sort(key=lambda x : -len(x) )\n",
    "print( '\\n\\n'.join(all_comments[:20]) )"
   ]
  },
  {
   "cell_type": "code",
   "execution_count": 9,
   "metadata": {},
   "outputs": [
    {
     "name": "stdout",
     "output_type": "stream",
     "text": [
      "[master 72292db] web\n",
      " 1 file changed, 222 insertions(+), 185 deletions(-)\n",
      "Counting objects: 3, done.\n",
      "Delta compression using up to 12 threads.\n",
      "Compressing objects: 100% (3/3), done.\n",
      "Writing objects: 100% (3/3), 16.33 KiB | 4.08 MiB/s, done.\n",
      "Total 3 (delta 2), reused 0 (delta 0)\n",
      "remote: Resolving deltas: 100% (2/2), completed with 2 local objects.\u001b[K\n",
      "To https://github.com/macbuse/GUARDIAN.git\n",
      "   2d74372..72292db  master -> master\n"
     ]
    }
   ],
   "source": [
    "! ./.g"
   ]
  },
  {
   "cell_type": "code",
   "execution_count": 18,
   "metadata": {},
   "outputs": [
    {
     "name": "stderr",
     "output_type": "stream",
     "text": [
      "[nltk_data] Downloading package vader_lexicon to\n",
      "[nltk_data]     /home/gregmcshane/nltk_data...\n",
      "[nltk_data]   Package vader_lexicon is already up-to-date!\n"
     ]
    }
   ],
   "source": [
    "#https://towardsdatascience.com/sentimental-analysis-using-vader-a3415fef7664\n",
    "\n",
    "import nltk\n",
    "#nltk.download('vader_lexicon')\n",
    "\n",
    "from nltk.sentiment.vader import SentimentIntensityAnalyzer\n",
    "\n",
    "sid = SentimentIntensityAnalyzer()"
   ]
  },
  {
   "cell_type": "code",
   "execution_count": 22,
   "metadata": {},
   "outputs": [],
   "source": [
    "a = '''My views haven't changed. Leaving the EU will be of no benefit to anyone except those who hold money and power along with certain corporates and a smidgen of medium to small businesses.\n",
    "How else can it be when you are shutting shop to the most developed nations, the richest nations in the world, who are either in the EU or have market agreements with the EU. Even the emerging markets of China and India along with other developing economies are aspiring to develop trading agreements with the EU, the second largest economy in the world. Any deal with the UK will be secondary and will depend upon their agreement with the EU.\n",
    "Boris Johnson once said \"f**k business\". I take this as meaning there is something in it for them and they don't really care if businesses find it difficulA\n",
    "t to cope.\n",
    "I can see ministers and conservative MPs queuing to fill their pockets by acting as advisors for potential trade deals whilst the rest of the country are left struggling trying to rebuild their lives, especially following the pandemic. The same ministers will probably be looking to lower all kinds of standards from food and welfare to safety at work to improve their opportunities.\n",
    "When it comes to brinkmanship, I can only view this as getting away with whatever they can. I do not believe it is anything to do with negotiating an agreement that will be to the benefit of the UK or the EU as a whole, I don't believe our ministers are capable of doing that.'''"
   ]
  },
  {
   "cell_type": "code",
   "execution_count": 24,
   "metadata": {},
   "outputs": [
    {
     "ename": "TypeError",
     "evalue": "sentiment_valence() missing 4 required positional arguments: 'sentitext', 'item', 'i', and 'sentiments'",
     "output_type": "error",
     "traceback": [
      "\u001b[0;31m------------------------------------------------------------\u001b[0m",
      "\u001b[0;31mTypeError\u001b[0m                  Traceback (most recent call last)",
      "\u001b[0;32m<ipython-input-24-6f3326dcf5de>\u001b[0m in \u001b[0;36m<module>\u001b[0;34m\u001b[0m\n\u001b[1;32m      1\u001b[0m \u001b[0msid\u001b[0m\u001b[0;34m.\u001b[0m\u001b[0mpolarity_scores\u001b[0m\u001b[0;34m(\u001b[0m\u001b[0ma\u001b[0m\u001b[0;34m)\u001b[0m\u001b[0;34m\u001b[0m\u001b[0m\n\u001b[0;32m----> 2\u001b[0;31m \u001b[0msid\u001b[0m\u001b[0;34m.\u001b[0m\u001b[0msentiment_valence\u001b[0m\u001b[0;34m(\u001b[0m\u001b[0ma\u001b[0m\u001b[0;34m)\u001b[0m\u001b[0;34m\u001b[0m\u001b[0m\n\u001b[0m",
      "\u001b[0;31mTypeError\u001b[0m: sentiment_valence() missing 4 required positional arguments: 'sentitext', 'item', 'i', and 'sentiments'"
     ]
    }
   ],
   "source": [
    "sid.polarity_scores(a)\n",
    "sid.sentiment_valence(a)"
   ]
  },
  {
   "cell_type": "code",
   "execution_count": 12,
   "metadata": {},
   "outputs": [
    {
     "name": "stdout",
     "output_type": "stream",
     "text": [
      "##STILL_HERE\n",
      "https://discussion.theguardian.com/comment-permalink/154459312\n",
      "https://profile.theguardian.com/user/id/104037496\n",
      "\n",
      "Rather than focusing on elements of a bill that might garner support from both sides of the political divide, Biden/the democrats concocted an awful piece of legislation that covered far too much ground to make it easily digestible and gave a way too many reasons for people to object to it.\n",
      "Senators Manchin and Sinema have both stood against elements they don't believe in and effectively put an end to a badly thought out bill and the laughable attempt to remove the filibuster.\n",
      " Why so many democrats think/feel they should have voted for something they didn't believe in is beyond me. Both Senators and Members of Congress are voted for by the people as individuals, not just as a Democrat or Republican and are entitled to vote the way their con**SCIENCE** leads them.\n",
      "The bigger question may well be why so many democrats were prepared to vote for it considering the wide range of elements covered.\n",
      "With Biden and Harris about as popular as a skunk at a cookout, it's hard to see the democrats putting up any sort of battle in the midterms and quite honestly, having seen the mishandling of almost everything in the last year, we need a change.\n",
      "\n",
      "##DEANO1956\n",
      "https://discussion.theguardian.com/comment-permalink/154456133\n",
      "https://profile.theguardian.com/user/id/17060555\n",
      "\n",
      "Are you serious? Gun toting, violent, racists - denying **SCIENCE**, medicine, and destroying the planet - and attempting to make life worse for others. These are not nice people. Sometimes, you have to recognise the scale of the problem if you are to address it. Wicked and, yes, evil (perhaps better described as ignorant) people have always existed. But, trying to compromise with them doesn't help. They simply see that as weakness.\n"
     ]
    }
   ],
   "source": [
    "target = 'decolon'\n",
    "target = 'science'\n",
    "target = 'irish'\n",
    "target = 'mandela'\n",
    "target = 'abolit'\n",
    "target = 'science'\n",
    "\n",
    "\n",
    "xx = [x for x in all_comments if target.lower() in x.lower() and  len(x) > 20]\n",
    "yy = [x for x in all_comments if '#pin' in x.lower() and 2000 > len(x) > 20]\n",
    "\n",
    "#print('\\n\\n'.join( ['\\n\\n'.join(x) for x in zip(xx,yy)])  )\n",
    "\n",
    "#print( '\\n\\n'.join(xx).replace(target, ) )\n",
    "pxx = re.compile(target, re.I)\n",
    "print( pxx.sub('**' + target.upper() + '**', \n",
    "              '\\n\\n'.join(xx)) )\n",
    "               \n",
    "#print( '\\n\\n'.join(xx) )\n"
   ]
  },
  {
   "cell_type": "code",
   "execution_count": 20,
   "metadata": {},
   "outputs": [
    {
     "data": {
      "text/plain": [
       "0.7820401046207497"
      ]
     },
     "execution_count": 20,
     "metadata": {},
     "output_type": "execute_result"
    }
   ],
   "source": [
    "(26/31) / (74/69)"
   ]
  },
  {
   "cell_type": "code",
   "execution_count": 64,
   "metadata": {},
   "outputs": [
    {
     "data": {
      "text/plain": [
       "529"
      ]
     },
     "execution_count": 64,
     "metadata": {},
     "output_type": "execute_result"
    }
   ],
   "source": [
    "23**2"
   ]
  },
  {
   "cell_type": "markdown",
   "metadata": {},
   "source": [
    "## "
   ]
  },
  {
   "cell_type": "code",
   "execution_count": 21,
   "metadata": {},
   "outputs": [
    {
     "data": {
      "text/plain": [
       "211"
      ]
     },
     "execution_count": 21,
     "metadata": {},
     "output_type": "execute_result"
    }
   ],
   "source": [
    "84 + 127"
   ]
  },
  {
   "cell_type": "code",
   "execution_count": 24,
   "metadata": {},
   "outputs": [
    {
     "data": {
      "text/plain": [
       "1.2842073077511085"
      ]
     },
     "execution_count": 24,
     "metadata": {},
     "output_type": "execute_result"
    }
   ],
   "source": [
    "84/211/.31"
   ]
  },
  {
   "cell_type": "code",
   "execution_count": 25,
   "metadata": {},
   "outputs": [
    {
     "data": {
      "text/plain": [
       "0.8723126588364586"
      ]
     },
     "execution_count": 25,
     "metadata": {},
     "output_type": "execute_result"
    }
   ],
   "source": [
    "127/211/.69"
   ]
  },
  {
   "cell_type": "code",
   "execution_count": 26,
   "metadata": {},
   "outputs": [
    {
     "data": {
      "text/plain": [
       "1.471264367816092"
      ]
     },
     "execution_count": 26,
     "metadata": {},
     "output_type": "execute_result"
    }
   ],
   "source": [
    "1.28/.87"
   ]
  },
  {
   "cell_type": "code",
   "execution_count": null,
   "metadata": {},
   "outputs": [],
   "source": []
  }
 ],
 "metadata": {
  "kernelspec": {
   "display_name": "NLP",
   "language": "python",
   "name": "nlp"
  },
  "language_info": {
   "codemirror_mode": {
    "name": "ipython",
    "version": 3
   },
   "file_extension": ".py",
   "mimetype": "text/x-python",
   "name": "python",
   "nbconvert_exporter": "python",
   "pygments_lexer": "ipython3",
   "version": "3.8.5"
  },
  "widgets": {
   "application/vnd.jupyter.widget-state+json": {
    "state": {},
    "version_major": 2,
    "version_minor": 0
   }
  }
 },
 "nbformat": 4,
 "nbformat_minor": 4
}
