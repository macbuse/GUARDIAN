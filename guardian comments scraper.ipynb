{
 "cells": [
  {
   "cell_type": "markdown",
   "metadata": {},
   "source": [
    "# Basic scraping for Guardian discussions u"
   ]
  },
  {
   "cell_type": "code",
   "execution_count": 47,
   "metadata": {},
   "outputs": [
    {
     "name": "stdout",
     "output_type": "stream",
     "text": [
      "[master 7182c5e] web\n",
      " 6 files changed, 942 insertions(+), 1446 deletions(-)\n",
      " create mode 100644 gn7h4.pkl\n",
      " rewrite guardian comments scraper.ipynb (84%)\n",
      " create mode 100644 h2tzt.pkl\n",
      " create mode 100644 h452h.pkl\n",
      " create mode 100644 hvg6j.pkl\n",
      " create mode 100644 hvpq8.pkl\n",
      "Enumerating objects: 10, done.\n",
      "Counting objects: 100% (10/10), done.\n",
      "Delta compression using up to 4 threads\n",
      "Compressing objects: 100% (8/8), done.\n",
      "Writing objects: 100% (8/8), 1.63 MiB | 79.00 KiB/s, done.\n",
      "Total 8 (delta 5), reused 0 (delta 0)\n",
      "fatal: the remote end hung up unexpectedly\n",
      "fatal: the remote end hung up unexpectedly\n",
      "Everything up-to-date\n"
     ]
    }
   ],
   "source": [
    "! ./.g\n"
   ]
  },
  {
   "cell_type": "code",
   "execution_count": 59,
   "metadata": {},
   "outputs": [],
   "source": [
    "with open('guardian comments scraper.ipynb','r') as fp:\n",
    "    nb = fp.read()"
   ]
  },
  {
   "cell_type": "code",
   "execution_count": 60,
   "metadata": {},
   "outputs": [],
   "source": [
    "import re\n",
    "\n",
    "pp = re.compile(\"(https://www.the.*?)'\")\n",
    "lks = pp.findall(nb)\n",
    "\n",
    "with open('links.txt','a') as fp:\n",
    "    fp.write('\\n'.join(lks))"
   ]
  },
  {
   "cell_type": "code",
   "execution_count": 1,
   "metadata": {},
   "outputs": [],
   "source": [
    "import re \n",
    "import requests\n",
    "import pickle\n",
    "import json"
   ]
  },
  {
   "cell_type": "code",
   "execution_count": 34,
   "metadata": {},
   "outputs": [],
   "source": [
    "article_url = 'https://www.theguardian.com/commentisfree/2020/aug/19/ditch-the-algorithm-generation-students-a-levels-politics'\n",
    "article_url = 'https://www.theguardian.com/commentisfree/2020/aug/21/joe-biden-democrat-convention-nice-guy-trump-fight'\n",
    "article_url = 'https://www.theguardian.com/commentisfree/2020/aug/23/the-cruel-exams-algorithm-has-laid-bare-the-unfairness-at-the-heart-of-our-schools'\n",
    "article_url = 'https://www.theguardian.com/commentisfree/2020/sep/01/us-mainstream-right-vigilante-terror'\n",
    "article_url = 'https://www.theguardian.com/commentisfree/2020/aug/31/politicians-covid-19-statistics-statisticians'\n",
    "article_url = 'https://www.theguardian.com/commentisfree/2021/apr/14/boris-johnson-is-telling-scotland-that-the-union-is-no-longer-based-on-consent'"
   ]
  },
  {
   "cell_type": "code",
   "execution_count": 71,
   "metadata": {},
   "outputs": [],
   "source": [
    "article_url = 'https://www.theguardian.com/commentisfree/2020/sep/29/rival-scientists-lockdowns-scientific-covid-19'\n",
    "article_url = 'https://www.theguardian.com/commentisfree/2020/oct/08/johnson-and-sturgeon-will-need-a-better-philosophy-than-precaution-to-rid-us-of-covid'\n",
    "article_url = 'https://www.theguardian.com/commentisfree/2020/oct/10/continual-local-lockdowns-answer-covid-control'\n",
    "article_url = 'https://www.theguardian.com/commentisfree/2020/oct/11/the-rebel-scientists-cause-would-be-more-persuasive-if-it-werent-so-half-baked'\n",
    "\n",
    "article_url = 'https://www.theguardian.com/commentisfree/2021/apr/03/undermining-the-astrazeneca-jab-is-a-dangerous-act-of-political-folly#comment-148440261'\n",
    "article_url = 'https://www.theguardian.com/commentisfree/2021/apr/09/boris-johnson-brexit-belfast-violence-eu-good-friday-agreement'\n",
    "article_url ='https://www.theguardian.com/commentisfree/2021/apr/02/culture-war-government-race-report'\n",
    "article_url = 'https://www.theguardian.com/commentisfree/2021/mar/18/britain-sunny-vaccine-optimism-april-delivery-delay'\n",
    "article_url ='https://www.theguardian.com/commentisfree/2021/apr/14/boris-johnson-is-telling-scotland-that-the-union-is-no-longer-based-on-consent'\n",
    "article_url = 'https://www.theguardian.com/commentisfree/2021/apr/15/britain-harness-social-sciences-covid-pandemic-deprivation'\n",
    "article_url = 'https://www.theguardian.com/commentisfree/2021/apr/16/government-race-report-evidence#comment-148662066'\n",
    "article_url ='https://www.theguardian.com/commentisfree/2021/apr/20/britain-falling-birthrate-covid-pandemic-conservatives-removed-support-for-parents'\n",
    "article_url = 'https://www.theguardian.com/commentisfree/2021/apr/21/bmi-eating-disorder-pandemic-treatment'"
   ]
  },
  {
   "cell_type": "code",
   "execution_count": 36,
   "metadata": {},
   "outputs": [
    {
     "ename": "NameError",
     "evalue": "name 'my_keys' is not defined",
     "output_type": "error",
     "traceback": [
      "\u001b[0;31m---------------------------------------\u001b[0m",
      "\u001b[0;31mNameError\u001b[0mTraceback (most recent call last)",
      "\u001b[0;32m<ipython-input-36-e80f1eb56025>\u001b[0m in \u001b[0;36m<module>\u001b[0;34m\u001b[0m\n\u001b[1;32m      1\u001b[0m \u001b[0;34m\u001b[0m\u001b[0m\n\u001b[0;32m----> 2\u001b[0;31m \u001b[0mkey\u001b[0m \u001b[0;34m=\u001b[0m \u001b[0mmy_keys\u001b[0m\u001b[0;34m.\u001b[0m\u001b[0mkeys\u001b[0m\u001b[0;34m[\u001b[0m\u001b[0;34m'guardian'\u001b[0m\u001b[0;34m]\u001b[0m\u001b[0;34m\u001b[0m\u001b[0m\n\u001b[0m",
      "\u001b[0;31mNameError\u001b[0m: name 'my_keys' is not defined"
     ]
    }
   ],
   "source": [
    "\n",
    "key = my_keys.keys['guardian']"
   ]
  },
  {
   "cell_type": "code",
   "execution_count": 72,
   "metadata": {},
   "outputs": [
    {
     "name": "stdout",
     "output_type": "stream",
     "text": [
      "getting comments page no. 1\n",
      "there are 4 pages\n",
      "getting comments page no. 2\n",
      "getting comments page no. 3\n",
      "getting comments page no. 4\n",
      "archiving to h6v39.pkl\n"
     ]
    }
   ],
   "source": [
    "#scrape the page and get the short url\n",
    "short_url_pp =  re.compile('\"shortUrlId\":\"(.*?)\"')\n",
    "\n",
    "r = requests.get(article_url)\n",
    "mm = short_url_pp.search(r.text)\n",
    "short_url = mm.group(1)\n",
    "\n",
    "#the short url allows us to access the discussion\n",
    "comments_url = 'https://api.nextgen.guardianapps.co.uk/discussion/%s.json'%short_url\n",
    "params = {'orderBy' : 'newest',\n",
    "          'pageSize' : 25,\n",
    "          'displayThreaded' : 'true',\n",
    "          'commentsClosed' : 'false',\n",
    "          'page' : '',\n",
    "          'maxResponses' : 50\n",
    "         }\n",
    "\n",
    "json_data =  []\n",
    "start_page  = 1\n",
    "last_page = None\n",
    "\n",
    "\n",
    "for num_page in range(start_page, 10**4):\n",
    "    print('getting comments page no.', num_page)\n",
    "    params['page'] = num_page\n",
    "    r = requests.get( comments_url, params=params)\n",
    "    json_data.append( r.text)\n",
    "    #The last page is a field in the json object\n",
    "    #I don't need to read this as json I could do a regexp\n",
    "    if num_page == start_page:\n",
    "        json_dict = json.loads(r.text)\n",
    "        last_page = json_dict['lastPage']\n",
    "        print('there are %d pages'%last_page)\n",
    "    if num_page == last_page : break\n",
    "        \n",
    "\n",
    "fn = '%s.pkl'%short_url.split('/')[-1]\n",
    "print('archiving to %s'%fn)\n",
    "with open(fn,'wb') as fp:\n",
    "    pickle.dump(json_data,fp)\n",
    "    \n"
   ]
  },
  {
   "cell_type": "markdown",
   "metadata": {},
   "source": [
    "## remember each page of comments has been stored separately"
   ]
  },
  {
   "cell_type": "code",
   "execution_count": 16,
   "metadata": {},
   "outputs": [
    {
     "data": {
      "text/plain": [
       "11"
      ]
     },
     "execution_count": 16,
     "metadata": {},
     "output_type": "execute_result"
    }
   ],
   "source": [
    "dd = json.loads(json_data[0])\n",
    "len(json_data)"
   ]
  },
  {
   "cell_type": "code",
   "execution_count": 17,
   "metadata": {},
   "outputs": [
    {
     "data": {
      "text/plain": [
       "dict_keys(['postedCommentHtml', 'commentsHtml', 'commentCount', 'refreshStatus', 'lastPage', 'paginationHtml'])"
      ]
     },
     "execution_count": 17,
     "metadata": {},
     "output_type": "execute_result"
    }
   ],
   "source": [
    "xx = json.loads(json_data[0])\n",
    "xx.keys()"
   ]
  },
  {
   "cell_type": "code",
   "execution_count": 136,
   "metadata": {},
   "outputs": [
    {
     "name": "stdout",
     "output_type": "stream",
     "text": [
      " class=\"d-comment\n",
      "            d-comment--top-level\"\n",
      "           id=\"comment-144422422\"\n",
      "           data-comment-id=\"144422422\"\n",
      "           data-comment-author=\"Hushing\"\n",
      "           data-comment-replies=\"0\"\n",
      "           data-comment-timestamp=\"2020-10-11T14:25:06.000+01:00\"\n",
      "           data-comment-author-id=\"12407494\"\n",
      "           data-comment-highlighted=\"false\"\n",
      "           itemscope itemtype=\"http://schema.org/Comment\">\n",
      "\n",
      "    <div class=\"d-comment__inner d-comment__inner--top-level\">\n",
      "        <div class=\"\n"
     ]
    }
   ],
   "source": [
    "print( xx['commentsHtml'][200:700])"
   ]
  },
  {
   "cell_type": "code",
   "execution_count": 66,
   "metadata": {},
   "outputs": [],
   "source": [
    "pa = re.compile('data-comment-author=\"(.*?)\"')\n",
    "pid = re.compile('data-comment-author-id=\"(\\d+)')\n",
    "pcid = re.compile('\\sid=\"comment-(.*?)\"')\n",
    "pp = re.compile('<li class=\"d-comment(.*?)>',re.DOTALL)\n",
    "\n",
    "auths = []\n",
    "md = []\n",
    "for xx in json_data:\n",
    "    hh = json.loads(xx)['commentsHtml']\n",
    "    auths.extend(list( zip(pa.findall(hh), \n",
    "                           pid.findall(hh)\n",
    "                          )))\n",
    "    md.extend(pp.findall(hh))\n",
    "\n",
    "auths = list(set(auths))\n",
    "auths.sort(key=lambda x : x[0].lower())\n"
   ]
  },
  {
   "cell_type": "code",
   "execution_count": 102,
   "metadata": {},
   "outputs": [],
   "source": [
    "#print( '\\n'.join([x for x in md if 'pinkie' in x.lower()]))"
   ]
  },
  {
   "cell_type": "markdown",
   "metadata": {},
   "source": [
    "https://discussion.theguardian.com/comment-permalink/144375739"
   ]
  },
  {
   "cell_type": "code",
   "execution_count": 8,
   "metadata": {},
   "outputs": [],
   "source": [
    "auths = dict(auths)"
   ]
  },
  {
   "cell_type": "code",
   "execution_count": 9,
   "metadata": {},
   "outputs": [
    {
     "data": {
      "text/plain": [
       "'https://api.nextgen.guardianapps.co.uk/discussion//p/hvpq8.json'"
      ]
     },
     "execution_count": 9,
     "metadata": {},
     "output_type": "execute_result"
    }
   ],
   "source": [
    "comments_url"
   ]
  },
  {
   "cell_type": "code",
   "execution_count": 73,
   "metadata": {},
   "outputs": [],
   "source": [
    "class Comment():\n",
    "    pass\n",
    "\n",
    "from bs4 import BeautifulSoup\n",
    "\n",
    "def html2comments(x):\n",
    "    tt = json.loads(x)\n",
    "    soup = BeautifulSoup(tt['commentsHtml'],  \"lxml\")\n",
    "    raw = [ comment.text for comment in  \n",
    "            soup.findAll('div', {'class' : \"d-comment__body\"}) ]\n",
    "    \n",
    "    metadata = soup.findAll('span', {'class' : \"d-comment__author\"})\n",
    "    \n",
    "    \n",
    "    auth = [ x.text.upper().strip() for x in metadata]\n",
    "    auth_id = [ x.find('a')['href'] for x in metadata]\n",
    "    #this was a pain to do really\n",
    "    #the problem is blocked comments\n",
    "    comment_id = [ x['id'][len('comment-'):] for x in soup.findAll('li')]\n",
    " \n",
    "    \n",
    "    ss = '##{}\\nhttps://discussion.theguardian.com/comment-permalink/{}\\n{}\\n\\n{}'\n",
    "    return [ ss.format(a,b,d,c.strip())  \n",
    "                   for a,b,d,c in zip(auth, comment_id, auth_id, raw)]\n",
    "     \n",
    "all_texts = [ html2comments(page) for page in json_data[:] ]\n",
    "\n",
    "\n",
    "\n",
    "from itertools import chain\n",
    "all_comments = list(chain.from_iterable(all_texts))\n",
    "    "
   ]
  },
  {
   "cell_type": "markdown",
   "metadata": {},
   "source": [
    "# Random data hacking"
   ]
  },
  {
   "cell_type": "code",
   "execution_count": 74,
   "metadata": {
    "scrolled": true
   },
   "outputs": [
    {
     "data": {
      "text/plain": [
       "[('##FRAZZLEDSTUDENTNURSE', 16),\n",
       " ('##ONONA', 11),\n",
       " ('##CLARITYOFTHOUGHT', 9),\n",
       " ('##LISAMARIE3', 7),\n",
       " ('##MJBESWICK', 6),\n",
       " ('##MATTHEWHENSON', 6),\n",
       " ('##VANLEEUW', 5),\n",
       " ('##RICHIE34', 5),\n",
       " ('##BLUEJAY2011', 5)]"
      ]
     },
     "execution_count": 74,
     "metadata": {},
     "output_type": "execute_result"
    }
   ],
   "source": [
    "A = [x.split('\\n')[0] for x in all_comments]\n",
    "from collections import Counter\n",
    "AN = Counter(A)\n",
    "sorted([(x,y) for x,y in AN.items() if y > 4], key=lambda x : -x[1]) "
   ]
  },
  {
   "cell_type": "code",
   "execution_count": 149,
   "metadata": {},
   "outputs": [
    {
     "name": "stdout",
     "output_type": "stream",
     "text": [
      "[master b8c8a75] web\n",
      " 2 files changed, 1457 insertions(+), 1317 deletions(-)\n",
      " rewrite guardian comments scraper.ipynb (76%)\n",
      "Enumerating objects: 7, done.\n",
      "Counting objects: 100% (7/7), done.\n",
      "Delta compression using up to 4 threads\n",
      "Compressing objects: 100% (4/4), done.\n",
      "Writing objects: 100% (4/4), 47.51 KiB | 84.00 KiB/s, done.\n",
      "Total 4 (delta 2), reused 0 (delta 0)\n",
      "remote: Resolving deltas: 100% (2/2), completed with 2 local objects.\u001b[K\n",
      "To https://github.com/macbuse/GUARDIAN.git\n",
      "   d207214..b8c8a75  master -> master\n"
     ]
    }
   ],
   "source": [
    "! ./.g\n"
   ]
  },
  {
   "cell_type": "code",
   "execution_count": 52,
   "metadata": {},
   "outputs": [
    {
     "name": "stdout",
     "output_type": "stream",
     "text": [
      "##NELLIESWEET\n",
      "https://discussion.theguardian.com/comment-permalink/148657977\n",
      "https://profile.theguardian.com/user/id/105310467\n",
      "\n",
      "...so there are common social rules about vaccination. It is a universal social obligation.I don't think I've ever thought about protecting other people when I've had a vaccine. Screw them. It was either because I wanted to go somewhere which wouldn't let me in without one, or, like with Covid, it was pure self-interest. I'll have the Covid vaccine as soon as they come to me, but only because I don't want to catch the damn thing.\n"
     ]
    }
   ],
   "source": [
    "print(all_comments[0])"
   ]
  },
  {
   "cell_type": "code",
   "execution_count": 75,
   "metadata": {},
   "outputs": [
    {
     "name": "stdout",
     "output_type": "stream",
     "text": [
      "##ANDYPANDY1968\n",
      "https://discussion.theguardian.com/comment-permalink/148776512\n",
      "https://profile.theguardian.com/user/id/12992447\n",
      "\n",
      "I didn't specifically know BMI was used as a crude measure to access NHS eating disorder services, but it doesn't surprise me. \n",
      "I think the cold fact is that NHS eating disorder services are indeed hopelessly underfunded as indeed are NHS mental health services in general. Given this is the case, the BMI measure itself is not really the issue. The issue is a lack of resource in this area, and as usual, anything in the realm of mental health has the added problem of stigma. There is also a lack of 'joining the dots' in terms of the eventual cost of physical ill health caused by the different types of eating disorder. \n",
      "Malnutrition is not just too little but also too much intake, or any unhealthy intake.\n",
      "I myself was somewhat overweight for many years. I didn't really think of the mental health connection, but with hindsight, I now realise it was an element to my condition. I first started noticing I was gaining weight in my late 20's and I could not seem to help it. I was previously 'normal' build, fit and healthy. I did however have a very stressy job. This got in the way of exercise. It also led me to use alcohol as a stress reliever. I now realise the stress was affecting my mental health, which in turn affected my intake, and then my physical health. Over a period of more than 20 years my BMI went from 'normal' to 48. The worst advice I ever got from my GP was 'there were no fat people in Belson'. True, but not very helpful really. It was only after I turned 50 that I started getting other health related issues, and it was becoming a problem. The NHS offered nothing for my 'eating disorder' which was self evident. I was however offered knee surgery, blood pressure tablets and statins and much more for things brought on by my unhealthy intake! \n",
      "Fortunately for me, I had an epiphany. I realised my stressy job was shaping my mind so that I was eating badly, drinking badly, had no time to exercise and it was a very bad combo. I realised that if I did not take control of this, I would die young. So I quit my job, quit drinking, quit smoking, and took my dietary intake ultra seriously. I lost all the weight I needed to, and not only got my body mass back to where it should be. I am 1000% more healthy. I am now a health food addict. I have a fitness watch, a fitness regime, and do all the exercise my body needs. This makes my mind better. I have never been happier. My GP told me I am the most self-improved patient he has ever seen. I did not say back to him 'no thanks to you mate'! \n",
      "I realise not everyone has the luxury of chucking in their stressy job or taking on these changes themselves. What I find depressing is that with hindsight, the changes I needed to make should have been obvious, but far from not getting any specialist help, I didn't even get any rudimentary help. I got nothing. I did it myself. This is not so good for the many that can't, be they obese, or anorexic or anything else. Mental health, dietary intake and physical health are all inextricably linked, and it is about time resources were allocated to people struggling with this, rather than just dealing with the consequences. I now take a fraction of the medications I did, because I am much healthier. This should be obvious, but as I said earlier, nobody appears to be joining the dots.\n",
      "\n",
      "##GREEBOTHECAT\n",
      "https://discussion.theguardian.com/comment-permalink/148777023\n",
      "https://profile.theguardian.com/user/id/103175832\n",
      "\n",
      "I have BED (Binge Eating Disorder) and it has made me morbidly obese. This is the most common eating disorder in this country but it is the least talked about. Whenever eating disorders are mentioned it is always Anorexia or Bulemia that gets the spotlight. My eating disorder with eventually kill me if I can't get it under control, just the same as anorexia kills. Yet people have zero knowledge or sympathy about it. To a lot of people, I am just fat, lazy, greedy, and stupid. I suspect there are many obese people who are wondering why they can't diet. Why they always sabotage themselves, why it gets harder and harder to get back to eating healthily after a \"cheat\" day. And cheat day becomes two days, then three, then a week. They wondering why they panic if they start to lose weight even though they are also happy about it. Why they hurry to put the weight back on and then some. Why every meal is a battle, the despair, the anxiety, the self-loathing. Being \"good\" in front of people, then eating in secret where no one can see. Slowly withdrawing from social contact. Only going somewhere if there is food involved. Being anxious at buffets, seeing food wasted, other people taking it all, unable to gauge what is a lot or normal portion. Being utterly bloody sick of thinking about food. Being utterly bloody sick of explaining it to people, including medical professionals who should know better. Being utterly bloody sick of public policy ignoring it. Being utterly bloody sick of that person (and there will be a few on here) explaining how to diet/be thin/exercise/eat healthy/live your life \"that's what I do, it's simple innit\". No, it isn't simple. I am mentally ill. Please shut up.\n",
      "\n",
      "##MARKPJNY\n",
      "https://discussion.theguardian.com/comment-permalink/148777787\n",
      "https://profile.theguardian.com/user/id/101511398\n",
      "\n",
      "BMI can neither adequately address Obesity nor even its opposite of malnutrition terribly well. The ability of mass/weight to clearly define a state of health is compromised by the nature of the weight's contributing factors.Kwashiorkor malnutrition causes water accumulation from protein deficiency (albumin, prealbumin) which can mask tissue loss, mostly in children though sometimes in adults. Arm circumference may be a better index for malnutrition.Obesity has the issue of muscle mass. Muscle, being dense by comparison, is quite small in volume compared to its heft. This results in a muscular man or woman having the same weight as a rather chunky overweight individual with much more bulky fat deposits of lesser density.BMI has been quick to measure. It is reproducable as well. That is the extent of its benefit however.Fat could be measured by calipers at the lateral chest, mid triceps (upper arm) and lateral thigh, but this requires training, tables for age and gender and is quite complicated to learn. Special scales can measure what they claim to be fat deposits. Caution is required due to assumptions, not the least of which is their safety.  Caution: such scales are not for those with Cardiac defibrillators or nerve or spinal stimulator devices! Unwanted discharges can occur or possible alteration of the parameters of a nerve stimulator system. Such scale devices are generally labelled, but I have encountered physician office staffs which are not knowledgeable to the extent of the contraindication. Ready answers of ease are not clear to me.\n",
      "\n",
      "##WORDCHAZER\n",
      "https://discussion.theguardian.com/comment-permalink/148777274\n",
      "https://profile.theguardian.com/user/id/12449240\n",
      "\n",
      "It's hardly surprisng that there has been a rise in people suffering from eating disorders. Not just the pandemic, but the whole way our lives are lived these days is tilting even the average person towards an eating disorder.\n",
      "People over size 12 are considered obese, clothes are made to fit a teenage girl, not a woman with curves. Money is often an issue for many people so the parent/s will ensure their children eat first and then eat what's left over. If anything. There is less physical exercise and more sedentary work than ever, and you don't burn many calories sitting down, so even people with an average appetite will find themselves putting on weight if they don't move that much in the course of a day. My dad never used to eat lunch when he was at work. Instead he worked through his lunch break. I'm going the same way working from home, although it has to be said that I could do with adjusting my attitude to food to include more healthy options and less junk food.\n",
      "Then there's the issue of additives in food. No one knows the long term effect of those on people, and someone who finds themselves putting on weight or getting depressed may then develop a damaging attitude to food because they associate the food with their problem rather than the contents of the food.\n",
      "Life is an ever increasing mental challenge for everyone. The ideal of being able to step back and work at your own pace is rubbished as being aspirational and the stuff of dreams rather than being something we ought to aim for in order to preserve our health.\n",
      "\n",
      "##MANLEY\n",
      "https://discussion.theguardian.com/comment-permalink/148777047\n",
      "https://profile.theguardian.com/user/id/1824927\n",
      "\n",
      "It's difficult to actually detect until becomes obvious though, right? A lot of people have disordered eating, skipping meals, fasting, needing to exercise after eating etc...but when does this disorder become an actual problem that requires intervention? My daughter suffered from anorexia a few years ago when she was 13. We should have seen it coming, she worried about being fat, what she ate, did loads of sport...but when is that normal, and when is it a problem. In the end it became obvious because she pretty much stopped eating and started losing weight rapidly.The help we got was one of those family therapy plans, where she stays home, but we are given a feeding plan, and she is basically told to follow it otherwise she'd end up in hospital and they would feed her. It was hard bloody work, but she got there, and as her weight gains her mental health improves, but it doesn't just go away...it is there always. She never got any actual therapy, it was always about getting her to a healthy weight, and then she was discharged.During lockdown we have had a few worrying moments, but on the whole she's been ok, she doesn't want to go back there.It's a horrible illness. And it spirals out of control. I would suggest anyone who is worried about themselves or someone else, get help early...because it can be devastating.\n",
      "\n",
      "##CAPTAINCHIEN\n",
      "https://discussion.theguardian.com/comment-permalink/148776258\n",
      "https://profile.theguardian.com/user/id/3773656\n",
      "\n",
      "they are also highly treatable.\n",
      "\n",
      "When I worked on young peoples wards the patients who spent the longest, the ones who returned most often and the ones who died were those suffering from Anorexia Nervosa. And they had a well resourced treatment service with psychiatrists, psychologists, dieticians, teachers, social workers and nursing staff all with considerable expertise and experience all working in concert to address the issues, often with little significant impact. This could be why there is a shortage of consultants as it can be a bleak and despairing condition to work with, often feeling as if for every step forward made two are taken backward upon discharge. Maybe there have been major advances in treatment in the last ten years but if so they have been kept quiet. \n",
      "That said I recognise only too well that there is an all round shortage of funding for all mental health services, both for in patient and outpatient and for third sector community based organisations. Everything that gets support seem to be the initiatives that provide services on the cheap, giving as broad a coverage as possible to hit the numbers but without any real depth required to make a lasting difference. I'll shut up now before I start to depress myself about it.\n",
      "\n",
      "##IANROD65\n",
      "https://discussion.theguardian.com/comment-permalink/148776016\n",
      "https://profile.theguardian.com/user/id/1842118\n",
      "\n",
      "Height is a factor but muscle mass, and body fat is much more of a factor. Lean muscle takes up a lot less space than fat, and weighs far more. So someone who is moderately well muscled will weigh a lot more than someone who isn't. \n",
      "What we need to measure is body fat percentages, and visceral (organ) fat percentages. But finding those and extrapolating data and creating research for those over populations is close to impossible. Even the body fat monitors that use impedance can only estimate. And i've never even seen one of those in used public outside a gym.\n",
      "Imagine the reaction at the GP's surgery, weight watchers or slimmer world.... \n",
      "Mr X is very active 25 y.o. male 5'11\" & 15.5 stone but has a low body fat percentage and an athletic build but a bmi of 30 so is classified as obese. Mrs Y is a 45 year old sedentary woman who is 9 stone & 5'5\" but with a high body fat & high visceral fat percentages, but only has a bmi of 21 and so is classified as healthy.\n",
      "In health terms Mrs Y is in a lot more trouble than Mr X just doesn't know it, X doesn't need to lose weight, or body fat; but Y does, as she could be heading for fatty liver, diabetes and all sorts of visceral fat related issues.\n",
      "\n",
      "##UNDERTWACATSANK\n",
      "https://discussion.theguardian.com/comment-permalink/148775023\n",
      "https://profile.theguardian.com/user/id/105227840\n",
      "\n",
      "Being overweight is bad for your health, and being very overweight is very bad for your health.\n",
      "My BMI was borderline overweight .. and it was impacting me quite seriously.I have lost some and now I am just higher than I should be. Things are improving, but I need to do more.\n",
      "We have also recently seen the impact of being overweight on one of our dogs. He was not overweight enough for us to notice a change in his his body shape, but it affected his behaviour massively. Now more or less normal weight, but it took a while for his behaviour to return to normal .. it lagged his weight loss. Very damaging.. things like recovery from minor injuries are MUCH slower when you are overweight. Your whole system is struggling. It is not just a physical thing.\n",
      "CLEARLY there is more to it than just BMI, but if your BMI is out of kilter .. you really should do something about it. \n",
      "I have been borderline overweight for about 5 years. Just could not motivate myself to do anything about it until I got very ill 2 months ago. Yes .. stupid. OK I was not ill in those 5 years, but it was leading up to me being ill. Poor sleep, tired, bad eating habits. All in my own hands.... no one else to blame.\n",
      "\n",
      "##CLARITYOFTHOUGHT\n",
      "https://discussion.theguardian.com/comment-permalink/148777732\n",
      "https://profile.theguardian.com/user/id/12421113\n",
      "\n",
      "That's not what this article is about. This is about people being denied access to specialised eating disorder services because they don't meet arbitrary BMI criteria.\n",
      "\n",
      "To be fair - all the article says on this is\n",
      "\n",
      "Many people who have eating disorders are missing out on treatment because underfunded NHS services are using body mass index (BMI) as the main indicator to determine whether a person can access specialist care\n",
      "\n",
      "So the article doesn't evidence the claim, doesn't define \"many\" and even if it did the crucial point is \"underfunded\" not \"BMI\". Surely if its underfunded it can't treat everyone so it has to use some metric to choose who to treat. Whether BMI is the best metric to choose in an environment where treatment is being rationed is another question.\n",
      "If the service is underfunded then would one spend a larger proportion of the budget in determining who should be treated rather than just treating some people?\n",
      "What I read is that (taking the claim at face value) BMI is being used as a broad brush triage. Obviously the correct solution would be increased funding but if thats not available its not clear to me what should be used instead.\n",
      "\n",
      "##ALONGSHADOW\n",
      "https://discussion.theguardian.com/comment-permalink/148779053\n",
      "https://profile.theguardian.com/user/id/101676932\n",
      "\n",
      "One thing I have to remark upon in your comment; the opposite of Obesity is not Malnutrition. It is absolutely possible to be malnourished at any body size. One consequence of starving oneself all day to then - possibly - eat at the end of the day, is to actually gain weight - AND can contribute to the onset of diabetes. And an inability to lose any weight at all - and it becomes a horrible vicious cycle.I suffer with disordered eating - orthorexia if you will. I cannot remember the last time I ate something nutritious - and only recently stopped taking various supplements, when advised that they require food intake to metabolise properly.I am on my GP records as overweight - but that is because I never went to them when I went down to six and half stone - so it was never noted - or noticed. In the end, my system rebounded and I cannot eat anything at all without some kind of ill effect.In my horse-owning days, his diet was scientifically calculated and montiored for his well being and lifestyle, adjusted as necessary. I cannot apply that diligence to myself - which is all part of the mental effects of this \"disorder\".\n",
      "\n",
      "##OLDTIMER1955\n",
      "https://discussion.theguardian.com/comment-permalink/148776607\n",
      "https://profile.theguardian.com/user/id/1294451\n",
      "\n",
      "BMI is a good tool for looking at whole populations, and for comparing sub-sets of populations. It is also useful as a rough and ready first approximation of whether someone is over or under an expected weight, but probably no better than using your eyeballs. \n",
      "Many people give their health care professionals a hard time if it is suggested to then that they are overweight (or under weight) and mostly it is not discussed unless the individual brings it up because of the distress caused to a fat person if they are told they are overweight. \n",
      "BMI gives a fig leaf for the medical profession to hide behind. It is easily understood by the man in the street, and is 'objective' - \"Don't blame me, its the numbers\".\n",
      "It is not relevant to this article, but the failure to address the national problem of obesity is costing the NHS vast amounts of money - in diabetes care, orthopaedics, and heart disease. Promoting a 'body positive' narrative makes no sense. It's like promoting smoking for your throat's sake.\n",
      "\n",
      "##SAMMYPEPYS\n",
      "https://discussion.theguardian.com/comment-permalink/148776362\n",
      "https://profile.theguardian.com/user/id/13232279\n",
      "\n",
      "There's a wonderful book by Todd Rose called The End of Average. He argues successfully (imo) that much of today's life has been designed around the mythical “average person.” And such people simply do not exist. So it is with BMI, an index that can be significant at population level for certain kinds of statistical applications. That's it.It's bad enough that some insurance companies use BMI in determining life insurance risks. It's worse that the medical community uses it as a shortcut to determine 'average' health and potential treatment. As Ms Ayton points out, obesity and eating disorders are two sides of the same coin and the predominance of ultra-processed food in our diet is increasingly being seen as the major factor. In that context, there is much to be done but without more medical school places, we will employ yet more AI approaches to make judgements based on averages such as those established by BMI ratios. In summary, BMI is often incorrect - it's use can cause great harm.\n",
      "\n",
      "##WHOMANBEING\n",
      "https://discussion.theguardian.com/comment-permalink/148778003\n",
      "https://profile.theguardian.com/user/id/15468640\n",
      "\n",
      "BMI is just a euphemistic way for health professionals to tell you you’re too fat or too skinny. My view is that all the factors that play a part in your overall health (how do you even measure “health”?), like diet, exercise/movement, sleep, sun exposure, etc, are all decisions you have to make on a daily basis, and all are undermined by an incredible amount of contradictory information you encounter from medical professionals, scientists, tv doctors, celebrities, bloggers & (worst if all) influencers. Mental health is the battle to keep all of this in some sort of perspective with relation to reality. Literally fretting over the number of calories you consume, cholesterol levels, BMI, etc, are all contributors to mental health problems, but to take a pragmatic outlook, every functioning individual is responsible for their own life and health, and I’m afraid there seems to be a massive amount of ignorance and lack of personal responsibility driving these societal issues.\n",
      "\n",
      "##NOISEFORMIND\n",
      "https://discussion.theguardian.com/comment-permalink/148774579\n",
      "https://profile.theguardian.com/user/id/15658414\n",
      "\n",
      "What are you saying? There are over 5 million of type II diagnosed diabetics in the UK. 1 in 10 people over 40 have a diabetes diagnosis. 85% of these people are obese. If they weren't obese (with a healthy food regimen of fasting) they would save 5 times what the >40 smokers population costs to the NHS.\n",
      "Contrary to most chronic diseases Type 2 diabetes is reversible, most of the times completely, if you normalize your BMI while eating healthy and moderately.\n",
      "The statistics literally are numbers of individuals.\n",
      "There are no individuals with a BMI of 40+ that are healthy, simply because they have at least joint problems, sleep apnoea and skin problems, al least.\n",
      "A BMI of 40+ means a decrease in 20 years in the life expectancy of men, the same decrease as cirrhosis and and ever worse outcome than light smoking. So we have an easier way to prevent something that is on par with cirrhosis and worst than smoking just by weighing people and your saying that it is a poor metric?\n",
      "\n",
      "##OLIVER_HEAVISIDE\n",
      "https://discussion.theguardian.com/comment-permalink/148779158\n",
      "https://profile.theguardian.com/user/id/102170633\n",
      "\n",
      "because it is not I tended to be a primary diagnostic tool. It's a lopation level metric which acts as a flag for a more specific analysis.\n",
      "Having said that, if your BMI is over 30 and you aren't a serious athlete or body builder, you are likely a bit of a fatty.\n",
      "Pretty much everyone with a high BMI who is not overweight as determined by body fat knows their situation.\n",
      "I am fit and not considered \"fat\" but I had let my bmi sneak up to the high 20s. It was obvious in the mirror, naked.\n",
      "A BMI of say 22 for me is actually not having a lot of excess fat. An that is how it works.\n",
      "The majority of complaints about BMI are from people who think that normal wright encompasses a it of middle aged spread. Most people actually are overweight. And that is what BMI tells us \n",
      "And in fa t is not massively less accurate than most actu body fat measures. Skinfold is very inaccurate. Unless you do isotope dilution of total body densitometry, BMI is actually not bad.\n",
      "\n",
      "##JAMES__CLAYTON\n",
      "https://discussion.theguardian.com/comment-permalink/148775250\n",
      "https://profile.theguardian.com/user/id/15748791\n",
      "\n",
      "I agree with this article and it makes excellent points. Speaking as someone who has spent time on an inpatient eating disorder ward, the over-focus on BMI concerned me when it felt like the main sign of successful recovery. Reaching a healthy BMI doesn't mean that a sufferer is 'fixed' - it's just one part of a recovery process that involves a lot of internal rewiring and psychosocial work, never mind dealing with all kinds of anxieties and trauma. I worried a lot about fellow patients not getting the full treatment they needed while inpatients just because BMI was the main yardstick for recovery. It's horrifying to think of all the people who can't access treatment and are suffering (and deteriorating irreparably, potentially dying) while they can't get the help they really need. Things need to be better, especially as we face a surging eating disorder epidemic in a society and culture geared towards triggering eating disorders.\n",
      "\n",
      "##USERNAMEXVIIIVIV\n",
      "https://discussion.theguardian.com/comment-permalink/148777238\n",
      "https://profile.theguardian.com/user/id/14406125\n",
      "\n",
      "Obesity generally is something that creeps up on the majority, just 200kcals a day extra over what we need can be approx 20lbs of body fat added in one year. Lack of exercise (people driving everywhere is a massive impact on that) eating the wrong foods or eating too much of the wrong foods too often and at the wrong time of day.Add in ease of fast food delivery and many other aspects that seem to be common place in Western society and simply eating is not an eating disorder, it's modification of how people can get their food and how people get about.There's very good reasons why government really don't want to change that status quo and indeed through their inaction (despite the piecemeal efforts) are complicit in the obesity and general poor health of the nation, they like car buying and other stuff that does massive damage to society on a monumental scale and has done so for well over a century.\n",
      "\n",
      "##WUTHERINGSHITE\n",
      "https://discussion.theguardian.com/comment-permalink/148779289\n",
      "https://profile.theguardian.com/user/id/3538250\n",
      "\n",
      "It is easy to be flippant about eating disorder until you are responsible for someone with one. I was myself dismissive in the past. It affects just about everything in a family. Enjoying food and drink is a pretty basic feature of family life but when you have to try to cater for a loved one that refuses to eat, join a table where people are eating, go shopping for food or even discuss food with them and they refuse it saps the enjoyment of living for all. It splits families. The support required to help a sufferer is exhausting for the primary carer, and as a secondary carer myself, I'm not allowed a voice, helping the split. And all the time you are seeing a loved one turn to skin and bone but unable to help them. I'm pretty sure that no amount of help would be of any use, the cure has to be realised by the individual, OK better mental health support might expedite that, but it cannot be forced.\n",
      "\n",
      "##ORDINARYPERSON87\n",
      "https://discussion.theguardian.com/comment-permalink/148775095\n",
      "https://profile.theguardian.com/user/id/104911001\n",
      "\n",
      "Health nut here. I'm a bit wound up at this piece. \n",
      "I understand fully that BMI is a reductionist sort of measure of weight and health but this article is even more reductionist if anything. What health conditions are you talking about precisely? I'd imagine that it's weight related health conditions that a patient would have more control over than other conditions, eg. The cancer example mentioned. I know the conditions in question aren't entirely within someone's control, but more so than cancer.\n",
      "And I mean it'd be great if I went to the doctor they took my shoulder to waist/waist to hip ratio, body fat percentage, body fat, lean body weight, blood carotenoid concentrations but would it really be worth the money? \n",
      "BMI is a good 0 cost indication of general health for the majority of the population. That's why it's in use.\n",
      "Your health is your own responsibility not that of the NHS.\n",
      "\n",
      "##ELASTICATION\n",
      "https://discussion.theguardian.com/comment-permalink/148774345\n",
      "https://profile.theguardian.com/user/id/14283598\n",
      "\n",
      "Clearly BMI is used in some cases as a way to ration access to treatment. Anorexia nervosa and Bulimia nervosa are both complex and potentially dangerous conditions and sufferers deserve more than the application of a broad brush population based standard for diagnosis.\n",
      "There is clearly hidden demand, and the notion that people should have to get much worse before they can access therapy is clearly at the heart of the authors concerns - hence the call for more training and investment.\n",
      "However it is worth noting that anorexia and obesity can both arise without the presence of a mental disorder (and are not gateway conditions to mental disorder) - and predispose to a number of unpleasant physical conditions, so clearly there is a public health role in promoting good nutrition (\"five a day\" etc) and a healthy weight.\n"
     ]
    }
   ],
   "source": [
    "all_comments.sort(key=lambda x : -len(x) )\n",
    "print( '\\n\\n'.join(all_comments[:20]) )"
   ]
  },
  {
   "cell_type": "code",
   "execution_count": 18,
   "metadata": {},
   "outputs": [
    {
     "name": "stderr",
     "output_type": "stream",
     "text": [
      "[nltk_data] Downloading package vader_lexicon to\n",
      "[nltk_data]     /home/gregmcshane/nltk_data...\n",
      "[nltk_data]   Package vader_lexicon is already up-to-date!\n"
     ]
    }
   ],
   "source": [
    "#https://towardsdatascience.com/sentimental-analysis-using-vader-a3415fef7664\n",
    "\n",
    "import nltk\n",
    "#nltk.download('vader_lexicon')\n",
    "\n",
    "from nltk.sentiment.vader import SentimentIntensityAnalyzer\n",
    "\n",
    "sid = SentimentIntensityAnalyzer()"
   ]
  },
  {
   "cell_type": "code",
   "execution_count": 22,
   "metadata": {},
   "outputs": [],
   "source": [
    "a = '''My views haven't changed. Leaving the EU will be of no benefit to anyone except those who hold money and power along with certain corporates and a smidgen of medium to small businesses.\n",
    "How else can it be when you are shutting shop to the most developed nations, the richest nations in the world, who are either in the EU or have market agreements with the EU. Even the emerging markets of China and India along with other developing economies are aspiring to develop trading agreements with the EU, the second largest economy in the world. Any deal with the UK will be secondary and will depend upon their agreement with the EU.\n",
    "Boris Johnson once said \"f**k business\". I take this as meaning there is something in it for them and they don't really care if businesses find it difficulA\n",
    "t to cope.\n",
    "I can see ministers and conservative MPs queuing to fill their pockets by acting as advisors for potential trade deals whilst the rest of the country are left struggling trying to rebuild their lives, especially following the pandemic. The same ministers will probably be looking to lower all kinds of standards from food and welfare to safety at work to improve their opportunities.\n",
    "When it comes to brinkmanship, I can only view this as getting away with whatever they can. I do not believe it is anything to do with negotiating an agreement that will be to the benefit of the UK or the EU as a whole, I don't believe our ministers are capable of doing that.'''"
   ]
  },
  {
   "cell_type": "code",
   "execution_count": 24,
   "metadata": {},
   "outputs": [
    {
     "ename": "TypeError",
     "evalue": "sentiment_valence() missing 4 required positional arguments: 'sentitext', 'item', 'i', and 'sentiments'",
     "output_type": "error",
     "traceback": [
      "\u001b[0;31m------------------------------------------------------------\u001b[0m",
      "\u001b[0;31mTypeError\u001b[0m                  Traceback (most recent call last)",
      "\u001b[0;32m<ipython-input-24-6f3326dcf5de>\u001b[0m in \u001b[0;36m<module>\u001b[0;34m\u001b[0m\n\u001b[1;32m      1\u001b[0m \u001b[0msid\u001b[0m\u001b[0;34m.\u001b[0m\u001b[0mpolarity_scores\u001b[0m\u001b[0;34m(\u001b[0m\u001b[0ma\u001b[0m\u001b[0;34m)\u001b[0m\u001b[0;34m\u001b[0m\u001b[0m\n\u001b[0;32m----> 2\u001b[0;31m \u001b[0msid\u001b[0m\u001b[0;34m.\u001b[0m\u001b[0msentiment_valence\u001b[0m\u001b[0;34m(\u001b[0m\u001b[0ma\u001b[0m\u001b[0;34m)\u001b[0m\u001b[0;34m\u001b[0m\u001b[0m\n\u001b[0m",
      "\u001b[0;31mTypeError\u001b[0m: sentiment_valence() missing 4 required positional arguments: 'sentitext', 'item', 'i', and 'sentiments'"
     ]
    }
   ],
   "source": [
    "sid.polarity_scores(a)\n",
    "sid.sentiment_valence(a)"
   ]
  },
  {
   "cell_type": "code",
   "execution_count": 70,
   "metadata": {},
   "outputs": [
    {
     "name": "stdout",
     "output_type": "stream",
     "text": [
      "##FRED1\n",
      "https://discussion.theguardian.com/comment-permalink/148740973\n",
      "https://profile.theguardian.com/user/id/2979908\n",
      "\n",
      "What's the point in moaning about population numbers either way?\n",
      "It's not like we can really do anything about it. Population growth or decline depends on the independent decisions of billions of people and the wonders of modern medicine. It is whatever it is.\n",
      "Sure we can educate, we can incentivise, we can disincentivise, but we're talking billions of variables. \n",
      "Population is a problem. Doing anything about it is not a solution. Dealing with it is the solution. We need solutions to the population that we have not the one we wished we had.\n",
      "Some countries have ageing populations. Some have young populations. There's a solution. It's not a straightforward solution. Many cities are under pressure already with the populations they have so we do need better infrastructure.\n",
      "But the bigger issue to overcome is just how damn popular populist anti-**IMMIGRATION** politicians are amongst the populace. Anyone who says they'll end or cut **IMMIGRATION** is a shoo-in come election or referendum time.\n",
      "The biggest issue in countering anti-immigrant politicians is that it's the people least effected by or most reliant on **IMMIGRATION** who are the most taken in by the policies. Voting patterns show that voters in overcrowded cities and younger people who don't seem that taken in by the policies. It's mostly the regions especially places with declining populations that have voted for anti-immigrant politicians (obvs). Older voters, who rely on migrants for care, also seem particularly keen to send their carers home. And that's not just a dig at Brexiters, Lombardy, one of the oldest regions in Italy, voted to leave Italy in an informal referendum. \n",
      "So if we're going to make [whatever population we have] work, we need to, well, work together. We need to remain calm. Nobody except John Lennon has advocated open borders and I'd hate to see what his views would've been like today!\n",
      "No, we need borders (probably) to manage resources, but we need to put away our counters. Just as when you go (or went pre-covid) to the pub or cinema and assumed the people in charge were not going to let double the capacity in, we can assume that the bad asses running **IMMIGRATION** are not opening the floodgates.\n",
      "So we need to calmly work out how we can accomodate the people on the planet, address issues with ageing populations, inequality, women's rights, climate change and all of the other ginormous challenges facing us.\n",
      "But........the starting point has to be to accept the reality of [whatever population] we have. 7.5b today. Apparently it'll be 9b by 2050.\n",
      "\n",
      "##PHYLLISAUFEU\n",
      "https://discussion.theguardian.com/comment-permalink/148740720\n",
      "https://profile.theguardian.com/user/id/2259911\n",
      "\n",
      "What Polly's article ignores is the implications of climate change in terms of migration. People from regions that will be badly affected by climate change will need to move to places that will not be so badly affected. Civilised human beings will see the need to make room for these migrants. Therefore, having fewer children and encouraging **IMMIGRATION** is surely the approach we should adopt. Unfortunately, selfishness, xenophobia and bigotry seem to dominate views on this topic.Also, in relation to climate change and environmental degradation, children and adults in Western developed nations consume many times more planet resources than do children and adults in developing countries. If we are to save humanity (and yes, it is as serious as that) we must either consume a lot less or have fewer children (probably both). Again, **IMMIGRATION** can solve many of the problems of a declining population and can help those in countries badly affected by climate change. We need a huge attitude shift but, as Polly says, older people tend in general to be more frightened of change and more likely to be anti-**IMMIGRATION**. So, an ageing society is a barrier to solutions relating to reducing the number of highly expensive consumers and facilitating climate-related migration. Finally, there is the mistaken assumption that having a smaller population means everyone earns more. This is a very simplistic assumption based on historical precedents like the financial benefits the peasants saw after the Black Death. Of course, today we compete on a global scale with countries that have huge populations and therefore lots of cheap labour. We can't opt out of this global competition. Being a member of the EU was beneficial in this respect because of freedom of movement and the migration of cheap labour to the UK (which was also beneficial to those migrant workers because they could earn more in the UK than they could at home (even at minimum wage rates)). The upshot is that we need to be more sophisticated and strategic in how we approach the birth rate in the light of climate change and environmental degradation. We also need to change our attitude to **IMMIGRATION** as it is far more of a solution than a problem to the challenges we face in coming years. In fact, as the migrants will come, whether we like it or not, it is vital that we plan for the mass movement of peoples who can no longer survive as a result of climate change.\n",
      "\n",
      "##DON_MAC\n",
      "https://discussion.theguardian.com/comment-permalink/148737661\n",
      "https://profile.theguardian.com/user/id/17625621\n",
      "\n",
      "The countries with the best child care policies in Scandinavia have varying success in this regard. Norway and Finland have a slightly lower birth rate than the UK, while Sweden and Denmark have a slightly higher rate. All five countries though had much higher rates up until the 1970s when women entered the workplace in high numbers and the rate dropped significantly, with occasional up turns when the economy boomed dropping back straight back as soon as it cooled down. The more women become educated and able to secure good jobs in the economy the less inclined they are to have children. This is a universal norm and independent of child care provision by the state. The obvious conclusion is that to maintain a sustainable population a country needs to attract immigrants. **IMMIGRATION** is contentious though and can lead to disharmony so the best way to square this is to make the **IMMIGRATION** progress work selfishly for the host country, so the benefits are obvious and undeniable (something like the successful Canadian **IMMIGRATION** model). Obviously this approach is problematic for some on the left as it means categorising potential candidates into high, medium and low quality applicants. It's also problematic for some on the right as it means that the immigrants that do get accepted are not likely to play the role of the subservient immigrant, happy to work for less pay in poor conditions, and unwilling to take the blame for failed domestic policy making.\n",
      "\n",
      "##APPEALFORSANITY\n",
      "https://discussion.theguardian.com/comment-permalink/148740093\n",
      "https://profile.theguardian.com/user/id/1314307\n",
      "\n",
      "In terms of consumption, emissions, housing dropping populations - particularly in crowded areas of the world, like much of England - are not a bad thing. \n",
      "Of course, in reality populations are not actually dropping in England, just distorting towards the old and established, as geopolitically-wealthy and more powerful older cohorts rely on exploitative **IMMIGRATION** - from 'abroad' and peripheral parts of the UK - to do the jobs needed to sustain the status quo for those propertied families with pan-generational wealth. \n",
      "So the Waitrose-shopping, Tory-voting Surrey octogenarian is able to buy her 4-quid chicken for lunch, while getting her Filipino carer to cook it, and be blissfully ignorant of the gang of Bulgarian 'chicken catcher' gig-workers who have had to round that chicken up from a 55,000-chicken battery farming facility in Powys. She might complain that her granddaughter is childless and vegan and 'woke', but is not for one minute going to use her vote to support better childcare allowances or salaries for the Fipino carer or the Bulgarian chicken-catcher. \n",
      "And there is the issue. The world population is not dropping anytime soon, nor is wealth being shared equitably with 'The Global South', or even with poorer parts of the UK. It's just that the low-birthrate haves seem unwilling to share their 'society' and living standards with the child-bearing have-nots.\n",
      "\n",
      "##CAPTCRASH\n",
      "https://discussion.theguardian.com/comment-permalink/148739251\n",
      "https://profile.theguardian.com/user/id/2395684\n",
      "\n",
      "Economically, a country of 10 people will be less economically active and productive than a country of 67 million, and that economic activity is what the worth of a nation is, and underpins the value of our currency and likelihood of repaying national debts.\n",
      "Up until 2001 we had an aging population, and therefore a future of lower economic activity and production to pay for the debts the nation accrues, and it's liabilities to the the diminishing young and increasingly old.\n",
      "**IMMIGRATION** has been a shot in the arm but has not been matched with the investment required in housing, schools, and other infrastructure, and this is purely an ideological issue rather than one of cost.\n",
      "In the end a house should cost around 3 x annual income, but if wages or private housing costs are not controlled then the ability for infrastructure to service people and people to service debts starts failing, and it does not matter how much your population increases, because their reason to be is not wider economic benefit but for the benefit of banks, developers and landlord classes only.\n",
      "CO2 is a red herring. If the lives of 7 billion people are already generally abstracted from the economic realities of mud-huts, hunting, gathering and agriculture, and we can abstract away CO2 by limiting the necessity of \"travel\" and \"things\".\n",
      "Indeed Covid proves we can.\n",
      "\n",
      "##DSDSDSDSDS\n",
      "https://discussion.theguardian.com/comment-permalink/148738359\n",
      "https://profile.theguardian.com/user/id/2738095\n",
      "\n",
      "Falling birth rates are a sign of prosperity. Birth rates are falling (or have already fallen as low as they can go) almost all over the world outside of the asian subcontinent and sub saharan africa. Afghanistan and Niger hardly offer good examples of governance but their birth rates are far higher than any developed country.Low birth rates have been a 'problem' for developed countries for 30 years and in the UK have been mostly masked or solved by using **IMMIGRATION**. Other than re introduce religiousity while trashing the UK welfare state and economy there seems little a government can do. People will have to adapt and realise that the people/citizens of tomorrow will increasingly be migrants from poorer places until eventually the likes of the UK and Afghanistan swap places in prosperity and in 100 years UK migrants move there to prop up their falling birth rates.\n",
      "The one thing the government could and should do, is publicise and pay for more women to freeze their eggs. A lot of women who are financially secure in their late 30s and 40s would finally like to have children, or have more children but often find biology has made it too late for them. If women and their partners can live and work till their 70s they should be more able to have children in middle age when they have financial security.\n",
      "\n",
      "##MINTAKA\n",
      "https://discussion.theguardian.com/comment-permalink/148742507\n",
      "https://profile.theguardian.com/user/id/2169435\n",
      "\n",
      "I agree. The fall is very modest in any case. I also have some bones to pick with Polly's figures.\n",
      "Fertility is hard to estimate. You only know how many children a woman is going to have when she can no longer have any. Measuring fertility in the UK on that basis last give a figure above 1.8 for fertility. The estimate of 1.6 that Polly quotes includes assumptions about how many children women currently of reproductive age are going to have in future, based on their age. While some attempt is made to account for the fact that women are having babies later, I think it doesn't fully capture that. So 1.6 is likely an underestimate - I would guess the true figure is closer to 1.7 or a bit more.\n",
      "The other quoted figure of around 1.4 is even more dodgy, based on a pandemic year. Sure, 1.6 or 1.7 is still below replacement rate, but there is also the fact that life expectancy is rising, and the number of years of good health is also rising. So the population is in little danger of falling, and some of the demographic problems will have to be addressed by us working longer, gradually rising to 70 over the next decade or two.\n",
      "In any case, the problems of a gently declining population are rather small, and can be easily plugged by **IMMIGRATION**, which is a win-win solution.\n",
      "\n",
      "##ELIAS_ARTIFEX\n",
      "https://discussion.theguardian.com/comment-permalink/148741154\n",
      "https://profile.theguardian.com/user/id/100434983\n",
      "\n",
      "For many years our politicians have applied neoliberal principles to produce social and economic conditions which make family life as difficult as possible. That the birth rate has fallen off a cliff is hardly surprising given the sky-high housing costs and job insecurity which exist in the UK today. But no-worries because the same politicians have a ready neoliberal solution to this problem, which is simply to \"off-shore\" the production of new people through massive and unremitting levels of net **IMMIGRATION**. There is one slight problem however, which is that such high rates of adult population replacement inevitably result in cultural replacement as well. The politicians have made a virtue out of necessity and proclaimed the benefits of \"multi-culturalism\" but we already see the beginnings of \"culture wars\" in the UK. It remains to be seen how many of our hard-won personal freedoms, including freedom of thought and expression, can survive the process.\n",
      "\n",
      "##PROJECTXRAY\n",
      "https://discussion.theguardian.com/comment-permalink/148742479\n",
      "https://profile.theguardian.com/user/id/4740293\n",
      "\n",
      "The main issue driving hostility to **IMMIGRATION** isn't the immigrants themselves, its the media portrayal of immigrants and the politicians who exploit it for political capital. The 'disharmony' is often actually strongest in areas with very low **IMMIGRATION**, and hostility is greatest amongst retired people who aren't even in competition with immigrants in the jobs market. In other words, groundless xenophobia is the primary factor driving resistance to **IMMIGRATION**, as it pretty much always has been, and the notion that politicians are merely responding to 'valid concerns' is a fiction. You don't overcome xenophobia by pandering to it. We don't need a points system to manage **IMMIGRATION**- it'd make little or no difference at all to peoples attitudes to **IMMIGRATION**, as they aren't generally grounded in reality. We need a robust societal response to prejudice, and we need politicians who aren't in thrall to Rupert Murdoch and the Daily Mail.\n",
      "\n",
      "##PROJECTXRAY\n",
      "https://discussion.theguardian.com/comment-permalink/148742097\n",
      "https://profile.theguardian.com/user/id/4740293\n",
      "\n",
      "This issue has already become a negative feedback loop- a falling birthrate without the numbers being made up by **IMMIGRATION** creates a population that is, on average, older. Older people are more likely to vote for conservative social policies that oppose **IMMIGRATION** and welfare measures to support low-income families. The only way to escape this loop is if politicians have the courage to openly tie pension provision to the existence of a labour pool capable of sustaining it. The Tories will never do this, as they are so completely reliant on the nurturing of societal grievances in order to maintain their broader base of support. Labour will struggle to make the case, as it is inevitably going to be met with intense resistance. Personally, I think it'll only get worse until it creates a debt crisis that'll result in sharp cuts to pensions.\n",
      "\n",
      "##FIRMBUTFAIR\n",
      "https://discussion.theguardian.com/comment-permalink/148740220\n",
      "https://profile.theguardian.com/user/id/4464643\n",
      "\n",
      "An ageing society is really only a problem if people survive longer in a state of poor health.\n",
      "Unfortunately this is part of what is happening. Do we really want to choose between a lot of sick people seeing their lives ebb away, placing an economic and social burden on those working on the one hand, and a demographic \"Ponzi scheme\" where the population is constantly inflated, whether by births or by **IMMIGRATION** in order to preserve a \"balance\".\n",
      "Personally if I reach a stage of permanent incapacity or semi capacity I intend to do what I can to terminate my existence.\n",
      "I can understand to a point where talk of assisted dying raises fears of the vulnerable being put under pressure, but I don't think this is an issue that we can just ignore.\n",
      "On the whole I would suggest a roughly stable population, or one declining very slowly, as the ideal.\n",
      "\n",
      "##CHEVEGUARA\n",
      "https://discussion.theguardian.com/comment-permalink/148738127\n",
      "https://profile.theguardian.com/user/id/3129531\n",
      "\n",
      "The truth is this - people are just not going to have kids as they did at the same rates as the past. There are far more people living single lives now and lots of couples who don't want kids. In fact it's a lot better for the planet that less kids are born - especially in developed countries where they eat up a lot more resources. With climate change and western economic policies causing mass emigration around the world a sensible **IMMIGRATION** policy is what's needed. I don't recognise the term \"illegal immigrant\". All immigrants leave their country for a reason and if they arrive here then surely they are just the people to be allowed straight into work, not have languishing in detention centres. I know this because my father was an immigrant and so were my grandparents. Priti Patel whose parents were immigrants should know this too.\n",
      "\n",
      "##CHUNKYCHIPS\n",
      "https://discussion.theguardian.com/comment-permalink/148739483\n",
      "https://profile.theguardian.com/user/id/4671941\n",
      "\n",
      "I can't quite believe this article!! People are arguing about how to manage the effects of man made climate change produced mainly by people in developed countries living developed country lifestyles and here's Polly apparently worried that we won't be sufficiently adding to the number of people in this developed country living developed country lifestyles!! \n",
      "A \"top heavy preponderance of the old\" needs to be gotten through so that we can have a smaller more balanced population with a chance of some level of sustainability in the future. To suggest that we need to increase the birth rate while still having high **IMMIGRATION** rates AND arguing FOR tackling climate change before we've really gotten any solutions underway is utterly mind boggling.\n",
      "\n",
      "##UMAUMA\n",
      "https://discussion.theguardian.com/comment-permalink/148742563\n",
      "https://profile.theguardian.com/user/id/105565155\n",
      "\n",
      "Yeah I don't know.At a minimum people who have a misanthropic view about human beings and think our numbers have to come down sharply need to understand that it's the developed countries and their populations that drive pollution around the world, so population growth through **IMMIGRATION** totally negates falling fertility. What's more is that places that have high fertility are often enabled to have it for longer if emigration acts as a pressure valve easing the effects of a ballooning population.\n",
      "Climate change has to be tackled by multinationals, governments and consumers' habits. By the time western europe's or the USA's population has stopped growing (from **IMMIGRATION**) it will be too late. Depopulation is a hopeless avenue. A dead end.\n",
      "\n",
      "##HEDGEHOPE\n",
      "https://discussion.theguardian.com/comment-permalink/148740424\n",
      "https://profile.theguardian.com/user/id/11640473\n",
      "\n",
      "The Tory Governments benefits policies were explicitly designed to discourage poorer families from having children, and COVID and other causes of economic insecurity may also play a part. It is also the case that as societies grow richer birth rates reduce due to better survival rates, and better access to education and birth control. So the UK is likely to have a continuing trend of reducing birth rates, which potentially will lead to economic stagnation and a general lack of dynamism in society (and a shortage of teachers, carers etc). The straightforward solution is a rational approach to **IMMIGRATION** so that younger people and families from less fortunate parts of the world are able to move here and contribute to our society.\n",
      "\n",
      "##ENVIROCAPITALIST\n",
      "https://discussion.theguardian.com/comment-permalink/148741539\n",
      "https://profile.theguardian.com/user/id/3578530\n",
      "\n",
      "The world's population is rising too fast, so if a subset of that, e.g. Japanese, or White British people, decide to shrink, overall that is a good thing. \n",
      "However, it can cause local imblances. Japan for example doesn't want **IMMIGRATION**, creating a difficult dependency ratio. (Too many old retired people, no one to look after them). The UK prefers **IMMIGRATION**, which helps take the strain off other areas (like Africa), keeps the economy growing, but creates some social tensions. \n",
      "Countries like Poland and Hungary have sent many of their young to the UK and Germany, hence have falling populations, but don't want immigrants to replace them. So they're trying to encourage their people to have more children.\n",
      "\n",
      "##HONJITSUMO\n",
      "https://discussion.theguardian.com/comment-permalink/148739515\n",
      "https://profile.theguardian.com/user/id/105369125\n",
      "\n",
      "I think this is reflecting economist's opinions who always argue that we need more people. But how many more people do you want on this planet? The real cause of much environmental crisis is actually rapid population growth. And Britain's productivity is very low (OUTPUT/POPN) suggesting the denominator might be too large as well as output to small per population. Besides, other countries are growing fast, unsustainably so; so if there is underpopulation growth, the answer is **IMMIGRATION**.\n",
      "The real long term answer though is to invest in new technologies, preferably green. This will maintain living standards, improve living standards by allowing people to work less, and give the planet a breather.\n",
      "\n",
      "##ERENATA\n",
      "https://discussion.theguardian.com/comment-permalink/148739178\n",
      "https://profile.theguardian.com/user/id/14430328\n",
      "\n",
      "'' A top-heavy preponderance of the old creates a conservative and fearful electorate. We are there already – and it’s getting worse.''As an old lady I assume you are speaking for yourself and your personal attitude. It certainly isn't mine.To keep the situation you say is required for a healthy population will result in a constantly increasing world population which is clearly untenable.Germany has suffered from too small a population for its economic plans for years an has solved it as and when needed either by **IMMIGRATION** in the early days and lately off the back of the EU, a short term solution.The world population is too large, use what we have by shuffling it around, it does not need adding to.\n",
      "\n",
      "##MINTAKA\n",
      "https://discussion.theguardian.com/comment-permalink/148741800\n",
      "https://profile.theguardian.com/user/id/2169435\n",
      "\n",
      "It does not work this way because as the population declines in Western countries, it is 'topped up' by **IMMIGRATION** from the third world and developing countries like India, thus transferring people from a moderate carbon lifestyle to a high carbon lifestyle.\n",
      "\n",
      "True, but **IMMIGRATION** by vagina transfers people from a zero-carbon lifestyle to a high-carbon lifestyle.\n",
      "Secondly, most progress towards carbon neutrality is set to occur by changing where energy comes from, not vastly reducing the amount of energy consumed. The challenge is to develop the technology faster, and disseminate it to poorer countries without the desire for profits seriously curbing the spread of the necessary technologies.\n",
      "\n",
      "##ENVIROCAPITALIST\n",
      "https://discussion.theguardian.com/comment-permalink/148741328\n",
      "https://profile.theguardian.com/user/id/3578530\n",
      "\n",
      "Mainly due to **IMMIGRATION**.\n",
      "Japan doesn't take many immigrants. No one wants to move to Russia. \n",
      "Italy and Spain have demographic issues meaning the native population will decline quite fast. Spain at least has short term potential to increase **IMMIGRATION** - not just from developing countries, but also from the rest of Europe. Italy too, if it can sort out its economy. \n",
      "If you look at the USA, the rise of airconditioning has made the south a pleasant place to live, and that driven migration from the rust belt to the sunbelt. Something similar could happen in Europe, though to a lesser extent, as moving from say Sweden to Sicily is not as easy as moving from Detroit to Phoenix.\n",
      "\n",
      "##MINTAKA\n",
      "https://discussion.theguardian.com/comment-permalink/148741646\n",
      "https://profile.theguardian.com/user/id/2169435\n",
      "\n",
      "Excellent post. I agree with you. Polly is scaremongering. If not for **IMMIGRATION**, the UK population would decline gradually, not catastrophically. With **IMMIGRATION**, it will rise gradually. Spain, Italy and Japan have the same option available to them. But again, even if they choose not to avail themselves of it, their population decline will be pretty gradual, even though their average fertility is lower than the UK - substantially so in the case of Japan.\n",
      "It also takes a long time for demographic change to happen. Preferences, and fertility, can change faster than that. Though I admit that it is hard to see any reason why fertility would rise significantly anytime soon.\n",
      "\n",
      "##WISHINGCOOKIE\n",
      "https://discussion.theguardian.com/comment-permalink/148739859\n",
      "https://profile.theguardian.com/user/id/101975870\n",
      "\n",
      "I feel like people are severely underestimating how bad the aging crisis is going to be. A world where the consumer base is shrinking instead of the growing which is all we've ever known collapses the economic model of every export-led economy. We've yet to see the full consequences, but the Spanish and Italian pension crises will be illustrative. While I'd agree that overpopulation is a major problem for the planet, what is required is a managed decrease over time. A birth rate of 1.4 is disastrous, and **IMMIGRATION** is a sticking plaster solution. A country where the economy shrinks every year is nothing to look forward to\n",
      "\n",
      "##DICTATORTOBE\n",
      "https://discussion.theguardian.com/comment-permalink/148741189\n",
      "https://profile.theguardian.com/user/id/10696972\n",
      "\n",
      "Reducing the birth rate well below 2.1 per couple in developed countries, which disproportionately account for unsustainable environmental damage is essential for our survival, and should be celebrated. I have 2 children and will have no more. I admire those with 0 or 1, but worry for the welfare of only children. Adoption rules must be relaxed. **IMMIGRATION** from the developing world is the way to stabilise the economic impacts here whilst helping those nations with policies from sanitation to women's empowerment to bring down theirs, not racially motivated eugenicist policies to drive up domestic births.\n",
      "\n",
      "##CHRYSOMARC\n",
      "https://discussion.theguardian.com/comment-permalink/148739589\n",
      "https://profile.theguardian.com/user/id/12033118\n",
      "\n",
      "Apart from wider social/economic consequences (which I still think Polly is extrapolating from usinng conventional outdated models of social organisation), I feel (certainly compared with comparable European countries like Spain and France) the population density of this country is too high (and no I'm not referring to **IMMIGRATION**) and our landscape (already criminally abused - e.g. vanishing habitats for wildlife, low species diversity, crowded tourist spots, litter) could benefit from less people, less consumption, rewilding\n",
      "\n",
      "##JASON1925\n",
      "https://discussion.theguardian.com/comment-permalink/148738741\n",
      "https://profile.theguardian.com/user/id/100675897\n",
      "\n",
      "I wish other countries had a falling birthrate. Ultimately our impact on the world decreases. There is a reason why we only make up 1.1% of CO2 emissions and dropping. That would not be the case if our population was growing at the the same rate as in the 19th century. We would have 100 million living here by now if that was the case. Plus, we can't just increase **IMMIGRATION**, they will become old one day and it will just increase the number who need care in the future. Complete short termism.\n",
      "\n",
      "##DANNYNEDELKO\n",
      "https://discussion.theguardian.com/comment-permalink/148738927\n",
      "https://profile.theguardian.com/user/id/100745030\n",
      "\n",
      "The prevaling narative in the UK over the last few years has been an obsession with its supposed 'overcrowdedness'. Of course, that only seemed to apply to **IMMIGRATION**, nobody seems to advocate for lower birth numbers.In the push for more childbirth, you can sense its less about numbers and more about preserving the 'race' or 'native' levels, after all, worldwide population is still growing sharply. The unspoken part is that its not just babies we want but 'white British' ones.\n",
      "\n",
      "##THEWILDANDTHEFREE\n",
      "https://discussion.theguardian.com/comment-permalink/148739090\n",
      "https://profile.theguardian.com/user/id/17548337\n",
      "\n",
      "It does not work this way because as the population declines in Western countries, it is 'topped up' by **IMMIGRATION** from the third world and developing countries like India, thus transferring people from a moderate carbon lifestyle to a high carbon lifestyle. At the same time, other countries refuse to confront their demographic issues, and prefer to simply displace their excess populations onto Western countries. Thus there is no net reduction in global emissions.\n",
      "\n",
      "##ROMBELINSKI\n",
      "https://discussion.theguardian.com/comment-permalink/148738940\n",
      "https://profile.theguardian.com/user/id/17929652\n",
      "\n",
      "If we get an inversion of the population pyramid then , yes , we are likely to need more younger immigrants . Many of these will be from non white ethnic groups . Imagine the joy on the faces of the millions of Brexiters who voted to reduce **IMMIGRATION** , not to mention sending some people \" back \" . Bulldog chewing on a wasp springs to mind . Sorry Polly , you really ought to have mentioned the advantages of depopulation as well .\n",
      "\n",
      "##UMAUMA\n",
      "https://discussion.theguardian.com/comment-permalink/148740323\n",
      "https://profile.theguardian.com/user/id/105565155\n",
      "\n",
      "I commend their willingness to work as fulfillment associates.\n",
      "Considering the fertility of most of central and eastern europe is through the floor (Poland's is about 1.3) and most of those countries don't have high net **IMMIGRATION** to offset that trend, it's only a problem insofar as the sorts of social problems that come with shrinking and ageing populations are being exported to those poorer countries.\n",
      "\n",
      "##AYLING72\n",
      "https://discussion.theguardian.com/comment-permalink/148739676\n",
      "https://profile.theguardian.com/user/id/105518854\n",
      "\n",
      "To maintain the system you have to increase the population so that the balance between workers and the elderly is kept constant.\n",
      "Unless you can improve the productivity of the remaining workers. Many economists argue that the UK's high **IMMIGRATION** rate of the past 20 years has removed the incentive to invest in technology and automation due to the abundance of cheap labour. Viz: Hand car washes.\n",
      "\n",
      "##DSDSDSDSDS\n",
      "https://discussion.theguardian.com/comment-permalink/148740098\n",
      "https://profile.theguardian.com/user/id/2738095\n",
      "\n",
      "Italy has had very high **IMMIGRATION** in recent years, from having very low levels up to about 2000. Russia has also had a lot of **IMMIGRATION** from central asia and if siberia become more hospitable, with fertile but empty farmland, then they will not stay empty while people in Arabia are suffering from 50 degree summers.\n",
      "\n",
      "##MAJORSENSIBLE\n",
      "https://discussion.theguardian.com/comment-permalink/148740487\n",
      "https://profile.theguardian.com/user/id/16055387\n",
      "\n",
      "Increase birth rate, increase **IMMIGRATION** (ideally both) or go the way of Japan. Lower GDP even as GDP per capita continues to rise (slowly). Add the impending loss of Northern Ireland and Scotland, and the relative decline into the United Kingdom of England (and Wales, keep forgetting) is all but assured.\n",
      "\n",
      "##RICHMANCHESTER\n",
      "https://discussion.theguardian.com/comment-permalink/148739007\n",
      "https://profile.theguardian.com/user/id/1818735\n",
      "\n",
      "“ **IMMIGRATION** has plugged the gap so far, but this government’s policies and Brexit make Britain less attractive”\n",
      "To some certainly.\n",
      "But since populations are growing rapidly in some areas, West and Sub Saharan Africa for example, there won’t be a lack of people, of the will for them to move exists\n",
      "\n",
      "##ENGLISHROG\n",
      "https://discussion.theguardian.com/comment-permalink/148739903\n",
      "https://profile.theguardian.com/user/id/2387735\n",
      "\n",
      "Many economists argue that the UK's high **IMMIGRATION** rate of the past 20 years has removed the incentive to invest in technology and automation due to the abundance of cheap labour. Viz: Hand car washes.\n",
      "\n",
      "Agree 100%. In any case, whether we like it or not, AI and automation are coming.\n",
      "\n",
      "##GRENZER\n",
      "https://discussion.theguardian.com/comment-permalink/148739740\n",
      "https://profile.theguardian.com/user/id/2109803\n",
      "\n",
      "The UK population is growing still and will continue to, not because of fertility but because of **IMMIGRATION**.\n",
      "\n",
      "And that's a good thing for the UK, especially when you look at the caliber of workers from Eastern Europe who easily outcompete western workers.\n",
      "\n",
      "##ORANGES4SALE\n",
      "https://discussion.theguardian.com/comment-permalink/148741100\n",
      "https://profile.theguardian.com/user/id/16768069\n",
      "\n",
      "Looking at the comments, it seems that most people actually support a managed population decline. But lets be fair here; are we talking about birth rate or **IMMIGRATION** control? Which ethic group wants to see its numbers (and influence) reduced?\n",
      "\n",
      "##ONEPIECEMAN\n",
      "https://discussion.theguardian.com/comment-permalink/148740908\n",
      "https://profile.theguardian.com/user/id/12022042\n",
      "\n",
      "Is the \"net outflow\" claim even close to being true? Is Polly Toynbee claiming that net **IMMIGRATION** hasn't just fallen to the \"tens of thousands\" promised by Cameron but down to an actual negative number? That's certainly news to me.\n",
      "\n",
      "##ONETANAHMERAH\n",
      "https://discussion.theguardian.com/comment-permalink/148737850\n",
      "https://profile.theguardian.com/user/id/105330918\n",
      "\n",
      "From an environmental point of view is a drop in birth rates not a good thing?\n",
      "And no, Polly, a temporary drop in birth rates doesn't mean we have to increase **IMMIGRATION**.\n",
      "\n",
      "##D30014\n",
      "https://discussion.theguardian.com/comment-permalink/148739231\n",
      "https://profile.theguardian.com/user/id/13715052\n",
      "\n",
      "Why would the UK population increase by 18 million? The birth rate is inadequate and **IMMIGRATION** is dropping and is likely to continue to do so. Where does this number come from?\n",
      "\n",
      "##LORDMORGANOFGLOSSOP\n",
      "https://discussion.theguardian.com/comment-permalink/148742422\n",
      "https://profile.theguardian.com/user/id/16510811\n",
      "\n",
      "Every child born in a consumer economy like the UK is another kick in the teeth to the planet.\n",
      "\n",
      "Would that principle also apply to **IMMIGRATION** too?\n",
      "\n",
      "##UMAUMA\n",
      "https://discussion.theguardian.com/comment-permalink/148738395\n",
      "https://profile.theguardian.com/user/id/105565155\n",
      "\n",
      "The UK population is growing still and will continue to, not because of fertility but because of **IMMIGRATION**.\n",
      "\n",
      "##UMAUMA\n",
      "https://discussion.theguardian.com/comment-permalink/148739098\n",
      "https://profile.theguardian.com/user/id/105565155\n",
      "\n",
      "The drop isn't temporary and **IMMIGRATION** is already doing the heavy lifting in the UK's population growth.\n",
      "\n",
      "##FTWFTW\n",
      "https://discussion.theguardian.com/comment-permalink/148741795\n",
      "https://profile.theguardian.com/user/id/14741800\n",
      "\n",
      "Large **IMMIGRATION** to western countries must be stopped.\n"
     ]
    }
   ],
   "source": [
    "target = 'decolon'\n",
    "target = 'science'\n",
    "target = 'immigration'\n",
    "\n",
    "\n",
    "xx = [x for x in all_comments if target.lower() in x.lower() and  len(x) > 20]\n",
    "yy = [x for x in all_comments if '#pin' in x.lower() and 2000 > len(x) > 20]\n",
    "\n",
    "#print('\\n\\n'.join( ['\\n\\n'.join(x) for x in zip(xx,yy)])  )\n",
    "\n",
    "\n",
    "#print( '\\n\\n'.join(xx).replace(target, ) )\n",
    "pxx = re.compile(target, re.I)\n",
    "print( pxx.sub('**' + target.upper() + '**', \n",
    "              '\\n\\n'.join(xx)) )\n",
    "               \n",
    "#print( '\\n\\n'.join(xx) )\n"
   ]
  },
  {
   "cell_type": "code",
   "execution_count": 29,
   "metadata": {},
   "outputs": [
    {
     "data": {
      "text/plain": [
       "36"
      ]
     },
     "execution_count": 29,
     "metadata": {},
     "output_type": "execute_result"
    }
   ],
   "source": []
  },
  {
   "cell_type": "code",
   "execution_count": 64,
   "metadata": {},
   "outputs": [
    {
     "data": {
      "text/plain": [
       "529"
      ]
     },
     "execution_count": 64,
     "metadata": {},
     "output_type": "execute_result"
    }
   ],
   "source": [
    "23**2"
   ]
  },
  {
   "cell_type": "markdown",
   "metadata": {},
   "source": [
    "## "
   ]
  },
  {
   "cell_type": "code",
   "execution_count": null,
   "metadata": {},
   "outputs": [],
   "source": []
  }
 ],
 "metadata": {
  "kernelspec": {
   "display_name": "NLPkernel",
   "language": "python",
   "name": "nlpkernel"
  },
  "language_info": {
   "codemirror_mode": {
    "name": "ipython",
    "version": 3
   },
   "file_extension": ".py",
   "mimetype": "text/x-python",
   "name": "python",
   "nbconvert_exporter": "python",
   "pygments_lexer": "ipython3",
   "version": "3.6.5"
  }
 },
 "nbformat": 4,
 "nbformat_minor": 2
}
