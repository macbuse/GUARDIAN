{
 "cells": [
  {
   "cell_type": "raw",
   "metadata": {},
   "source": [
    "# Basic scraping for Guardian discussions u"
   ]
  },
  {
   "cell_type": "code",
   "execution_count": 1,
   "metadata": {},
   "outputs": [
    {
     "name": "stdout",
     "output_type": "stream",
     "text": [
      "[master f914f6e] web\n",
      " 3 files changed, 2323 insertions(+), 394 deletions(-)\n",
      " create mode 100644 nickcohen.csv\n",
      "Counting objects: 5, done.\n",
      "Delta compression using up to 12 threads.\n",
      "Compressing objects: 100% (5/5), done.\n",
      "Writing objects: 100% (5/5), 51.05 KiB | 6.38 MiB/s, done.\n",
      "Total 5 (delta 3), reused 0 (delta 0)\n",
      "remote: Resolving deltas: 100% (3/3), completed with 3 local objects.\u001b[K\n",
      "To https://github.com/macbuse/GUARDIAN.git\n",
      "   4331ca5..f914f6e  master -> master\n"
     ]
    }
   ],
   "source": [
    "! ./.g\n"
   ]
  },
  {
   "cell_type": "code",
   "execution_count": 59,
   "metadata": {},
   "outputs": [],
   "source": [
    "with open('guardian comments scraper.ipynb','r') as fp:\n",
    "    nb = fp.read()"
   ]
  },
  {
   "cell_type": "code",
   "execution_count": 60,
   "metadata": {},
   "outputs": [],
   "source": [
    "import re\n",
    "\n",
    "pp = re.compile(\"(https://www.the.*?)'\")\n",
    "lks = pp.findall(nb)\n",
    "\n",
    "with open('links.txt','a') as fp:\n",
    "    fp.write('\\n'.join(lks))"
   ]
  },
  {
   "cell_type": "code",
   "execution_count": 2,
   "metadata": {},
   "outputs": [],
   "source": [
    "import re \n",
    "import requests\n",
    "import pickle\n",
    "import json"
   ]
  },
  {
   "cell_type": "code",
   "execution_count": 9,
   "metadata": {},
   "outputs": [],
   "source": [
    "article_url = 'https://www.theguardian.com/commentisfree/2020/aug/19/ditch-the-algorithm-generation-students-a-levels-politics'\n",
    "article_url = 'https://www.theguardian.com/commentisfree/2020/aug/21/joe-biden-democrat-convention-nice-guy-trump-fight'\n",
    "article_url = 'https://www.theguardian.com/commentisfree/2020/aug/23/the-cruel-exams-algorithm-has-laid-bare-the-unfairness-at-the-heart-of-our-schools'\n",
    "article_url = 'https://www.theguardian.com/commentisfree/2020/sep/01/us-mainstream-right-vigilante-terror'\n",
    "article_url = 'https://www.theguardian.com/commentisfree/2020/aug/31/politicians-covid-19-statistics-statisticians'\n",
    "article_url = 'https://www.theguardian.com/commentisfree/2021/apr/14/boris-johnson-is-telling-scotland-that-the-union-is-no-longer-based-on-consent'\n",
    "article_url = 'https://www.theguardian.com/commentisfree/2021/may/10/retail-politics-movements-polarising-projects-promise'"
   ]
  },
  {
   "cell_type": "code",
   "execution_count": 11,
   "metadata": {},
   "outputs": [],
   "source": [
    "article_url = 'https://www.theguardian.com/commentisfree/2020/sep/29/rival-scientists-lockdowns-scientific-covid-19'\n",
    "article_url = 'https://www.theguardian.com/commentisfree/2020/oct/08/johnson-and-sturgeon-will-need-a-better-philosophy-than-precaution-to-rid-us-of-covid'\n",
    "article_url = 'https://www.theguardian.com/commentisfree/2020/oct/10/continual-local-lockdowns-answer-covid-control'\n",
    "article_url = 'https://www.theguardian.com/commentisfree/2020/oct/11/the-rebel-scientists-cause-would-be-more-persuasive-if-it-werent-so-half-baked'\n",
    "\n",
    "article_url = 'https://www.theguardian.com/commentisfree/2021/apr/03/undermining-the-astrazeneca-jab-is-a-dangerous-act-of-political-folly#comment-148440261'\n",
    "article_url = 'https://www.theguardian.com/commentisfree/2021/apr/09/boris-johnson-brexit-belfast-violence-eu-good-friday-agreement'\n",
    "article_url ='https://www.theguardian.com/commentisfree/2021/apr/02/culture-war-government-race-report'\n",
    "article_url = 'https://www.theguardian.com/commentisfree/2021/mar/18/britain-sunny-vaccine-optimism-april-delivery-delay'\n",
    "article_url ='https://www.theguardian.com/commentisfree/2021/apr/14/boris-johnson-is-telling-scotland-that-the-union-is-no-longer-based-on-consent'\n",
    "article_url = 'https://www.theguardian.com/commentisfree/2021/apr/15/britain-harness-social-sciences-covid-pandemic-deprivation'\n",
    "article_url = 'https://www.theguardian.com/commentisfree/2021/apr/16/government-race-report-evidence#comment-148662066'\n",
    "article_url ='https://www.theguardian.com/commentisfree/2021/apr/20/britain-falling-birthrate-covid-pandemic-conservatives-removed-support-for-parents'\n",
    "article_url = 'https://www.theguardian.com/commentisfree/2021/apr/21/bmi-eating-disorder-pandemic-treatment'\n",
    "article_url = 'https://www.theguardian.com/commentisfree/2021/apr/30/government-delays-covid-public-inquiry-health-crisis'\n",
    "article_url = 'https://www.theguardian.com/commentisfree/2021/may/07/humiliation-hartlepool-smalltown-detective-di-starmer'\n",
    "article_url ='https://www.theguardian.com/commentisfree/2021/aug/06/uk-government-experts-vaccinating-under-16s'\n",
    "article_url = 'https://www.theguardian.com/commentisfree/2021/aug/01/there-is-a-case-for-vaccine-passports-but-ministers-are-failing-to-make-it'\n",
    "article_url = 'https://www.theguardian.com/commentisfree/2021/aug/09/america-is-flying-blind-when-it-comes-to-the-delta-variant'\n",
    "article_url = 'https://www.theguardian.com/commentisfree/2021/aug/10/covid-vaccines-britain-scientific-solution-jabs'\n",
    "article_url = 'https://www.theguardian.com/commentisfree/2021/aug/13/denial-anti-vaxxers-climate-sceptics'\n",
    "article_url = 'https://www.theguardian.com/commentisfree/2018/apr/11/bbc-andrew-neil-media-politics'\n",
    "\n",
    "article_url = 'https://www.theguardian.com/commentisfree/2021/aug/15/vaccine-passports-are-less-a-threat-to-liberty-than-a-mark-of-solidarity'\n",
    "article_url = 'https://www.theguardian.com/theobserver/commentisfree/2021/aug/14/will-we-reach-herd-immunity-for-the-new-coronavirus'\n",
    "article_url = 'https://www.theguardian.com/commentisfree/2021/aug/15/vaccine-hesitancy-broken-relationship-state-conspiracy-theorists'\n",
    "article_url = 'https://www.theguardian.com/commentisfree/2021/aug/17/dominic-raab-news-foreign-secretary-taliban-kabul'\n",
    "article_url= 'https://www.theguardian.com/commentisfree/2021/dec/11/so-which-of-these-politicians-is-a-neoliberal-not-one-of-them'\n",
    "\n",
    "article_url = 'https://www.theguardian.com/commentisfree/2021/dec/12/omicron-is-sneaky-it-could-be-fatal-for-us-or-for-our-faith-in-government'"
   ]
  },
  {
   "cell_type": "code",
   "execution_count": 13,
   "metadata": {},
   "outputs": [],
   "source": [
    "article_url ='https://www.theguardian.com/commentisfree/2021/dec/06/google-silicon-valley-ai-timnit-gebru'\n",
    "article_url = 'https://www.theguardian.com/commentisfree/2021/dec/20/rightwingers-us-social-change-coming'\n",
    "article_url = 'https://www.theguardian.com/commentisfree/2021/dec/22/omicron-covid-restrictions-young-people'\n",
    "article_url = 'https://www.theguardian.com/politics/2022/jan/01/sir-tim-brighouse-many-hold-gove-responsible-expert-educator-sets-out-whats-gone-wrong-with-britains-schools'\n",
    "article_url ='https://www.theguardian.com/commentisfree/2022/jan/10/colston-four-britain-apology-for-past'\n",
    "article_url = 'https://www.theguardian.com/commentisfree/2022/jan/21/democrats-shape-up-bidens-presidency-trumpian-sequel'\n",
    "article_url = 'https://www.theguardian.com/commentisfree/2022/jan/28/joe-rogan-neil-young-spotify-streaming-service'"
   ]
  },
  {
   "cell_type": "code",
   "execution_count": 7,
   "metadata": {},
   "outputs": [],
   "source": [
    "article_url = 'https://www.theguardian.com/commentisfree/2022/mar/04/ukraine-eu-membership-zelenskiy-european-values-war'\n",
    "article_url = 'https://www.theguardian.com/commentisfree/2022/feb/27/liberal-democracies-must-defend-their-values-and-show-putin-that-the-west-isnt-weak'\n",
    "article_url = 'https://www.theguardian.com/commentisfree/2022/mar/06/progress-women-international-womens-day-labour-party'\n",
    "article_url = 'https://www.theguardian.com/commentisfree/2022/mar/09/vladimir-putin-west-downfall-dictator-democracies'\n",
    "article_url = 'https://www.theguardian.com/commentisfree/2022/mar/26/britain-clocks-go-forward-eu-us-hour-changes'\n",
    "article_url = 'https://www.theguardian.com/commentisfree/2022/mar/27/for-brazen-cynicism-i-have-seen-nothing-like-sunaks-plan-in-40-years'"
   ]
  },
  {
   "cell_type": "code",
   "execution_count": 15,
   "metadata": {},
   "outputs": [],
   "source": [
    "article_url = 'https://www.theguardian.com/commentisfree/2022/apr/01/straight-women-tv-shows-lesbians-sally-wainwright'\n",
    "article_url ='https://www.theguardian.com/commentisfree/2022/apr/06/united-nations-putin-ukraine-catastrophic'\n",
    "article_url = 'https://www.theguardian.com/commentisfree/2022/apr/10/stench-entitlement-now-oozing-from-rishi-sunaks-home-as-well-as-boris-johnsons'\n",
    "article_url = 'https://www.theguardian.com/commentisfree/2022/apr/10/orban-le-pen-voters-sening-chill-message-to-europes-beleagured-centre'\n",
    "article_url = 'https://www.theguardian.com/commentisfree/2022/apr/11/france-populism-gaining-ground-revolution'\n",
    "\n",
    "article_url = 'https://www.theguardian.com/commentisfree/2022/apr/12/herd-immunity-covid-reinfection-virus-world'\n",
    "article_url = 'https://www.theguardian.com/commentisfree/2022/apr/17/whoever-ends-up-in-elysee-palace-europeanism-is-already-on-the-way-out'\n",
    "article_url = 'https://www.theguardian.com/commentisfree/2022/apr/17/nato-should-talk-less-and-do-more-or-ukraine-will-be-torn-apart-bit-by-bit'\n",
    "article_url = 'https://www.theguardian.com/commentisfree/2022/apr/20/france-emmanuel-macron-president-far-right-marine-le-pen'\n",
    "article_url ='https://www.theguardian.com/commentisfree/2022/apr/23/france-vote-le-pen-macron-tv-debate-far-right'\n",
    "article_url = 'https://www.theguardian.com/commentisfree/2022/apr/22/hips-dont-lie-liam-gallagher-replacement-surgery-older-bodies'\n",
    "\n",
    "article_url = 'https://www.theguardian.com/commentisfree/2022/apr/25/french-left-emmanuel-macron-marine-le-pen-far-right-president'\n",
    "article_url = 'https://www.theguardian.com/commentisfree/2022/may/09/ncuti-gatwa-doctor-who-jodie-whittaker-whovians'\n",
    "article_url = 'https://www.theguardian.com/world/commentisfree/2022/apr/28/france-election-divide-campaign-split'\n",
    "\n",
    "article_url ='https://www.theguardian.com/commentisfree/2022/may/13/phone-north-sea-rebekah-vardy-coleen-rooney-libel-case'"
   ]
  },
  {
   "cell_type": "code",
   "execution_count": null,
   "metadata": {},
   "outputs": [],
   "source": [
    "\n",
    "\n",
    "key = my_keys.keys['guardian']"
   ]
  },
  {
   "cell_type": "code",
   "execution_count": 16,
   "metadata": {},
   "outputs": [
    {
     "name": "stdout",
     "output_type": "stream",
     "text": [
      "/p/ye5m7\n",
      "getting comments page no. 1\n",
      "there are 13 pages\n",
      "getting comments page no. 2\n",
      "getting comments page no. 3\n",
      "getting comments page no. 4\n",
      "getting comments page no. 5\n",
      "getting comments page no. 6\n",
      "getting comments page no. 7\n",
      "getting comments page no. 8\n",
      "getting comments page no. 9\n",
      "getting comments page no. 10\n",
      "getting comments page no. 11\n",
      "getting comments page no. 12\n",
      "getting comments page no. 13\n",
      "archiving to ye5m7.pkl\n"
     ]
    }
   ],
   "source": [
    "#scrape the page and get the short url\n",
    "# 15/8/21  this failed and gave /p/temp\n",
    "short_url_pp =  re.compile('\"shortUrlId\":\"(.*?)\"')\n",
    "\n",
    "r = requests.get(article_url)\n",
    "mm = short_url_pp.search(r.text)\n",
    "short_url = mm.group(1)\n",
    "uu = r.text\n",
    "print(short_url)\n",
    "\n",
    "#the short url allows us to access the discussion\n",
    "# 15/8/21 api.nextgen.guardianapps.co.uk/discussion/ failed on \n",
    "# https://discussion.theguardian.com/discussion-api/discussion/p/tfmxg\n",
    "comments_url = 'https://api.nextgen.guardianapps.co.uk/discussion/%s.json'%short_url\n",
    "params = {'orderBy' : 'newest',\n",
    "          'pageSize' : 25,\n",
    "          'displayThreaded' : 'true',\n",
    "          'commentsClosed' : 'false',\n",
    "          'page' : '',\n",
    "          'maxResponses' : 50\n",
    "         }\n",
    "\n",
    "json_data =  []\n",
    "start_page  = 1\n",
    "last_page = None\n",
    "\n",
    "\n",
    "for num_page in range(start_page, 10**4):\n",
    "    print('getting comments page no.', num_page)\n",
    "    params['page'] = num_page\n",
    "    r = requests.get( comments_url, params=params)\n",
    "    json_data.append( r.text)\n",
    "    #The last page is a field in the json object\n",
    "    #I don't need to read this as json I could do a regexp\n",
    "    if num_page == start_page:\n",
    "        json_dict = json.loads(r.text)\n",
    "        last_page = json_dict['lastPage']\n",
    "        print('there are %d pages'%last_page)\n",
    "    if num_page == last_page : break\n",
    "        \n",
    "\n",
    "fn = '%s.pkl'%short_url.split('/')[-1]\n",
    "print('archiving to %s'%fn)\n",
    "with open(fn,'wb') as fp:\n",
    "    pickle.dump(json_data,fp)"
   ]
  },
  {
   "cell_type": "code",
   "execution_count": 2,
   "metadata": {},
   "outputs": [],
   "source": [
    "import pickle\n",
    "\n",
    "json_data = pickle.load(open('k4vhe.pkl','rb'))"
   ]
  },
  {
   "cell_type": "markdown",
   "metadata": {},
   "source": [
    "---\n",
    "\n",
    "## remember each page of comments has been stored separately"
   ]
  },
  {
   "cell_type": "code",
   "execution_count": 9,
   "metadata": {},
   "outputs": [
    {
     "data": {
      "text/plain": [
       "14"
      ]
     },
     "execution_count": 9,
     "metadata": {},
     "output_type": "execute_result"
    }
   ],
   "source": [
    "dd = json.loads(json_data[0])\n",
    "len(json_data)"
   ]
  },
  {
   "cell_type": "code",
   "execution_count": 19,
   "metadata": {},
   "outputs": [
    {
     "data": {
      "text/plain": [
       "'\\n<div class=\"d-discussion d-discussion--recommendations-open u-cf\"\\n     data-read-only=\"false\" >\\n\\n    \\n    \\n        <div class=\"d-discussion__size-message\">\\n            Due to the large number of comments, they are being shown 100 per page.\\n        </div>\\n    \\n\\n\\n    <ul class=\"d-thread d-thread--comments js-new-comments\">\\n\\n        \\n            \\n\\n<li class=\"d-comment\\n            d-comment--top-level d-comment-staff\"\\n           id=\"comment-154007965\"\\n           data-comment-id=\"154007965\"\\n           data-comment-author=\"CommunityMod\"\\n           data-comment-replies=\"0\"\\n           data-comment-timestamp=\"2022-01-01T18:00:47.000Z\"\\n           data-comment-author-id=\"2902769\"\\n           data-comment-highlighted=\"false\"\\n           itemscope itemtype=\"http://schema.org/Comment\">\\n\\n    <div class=\"d-comment__inner d-comment__inner--top-level\">\\n        <div class=\"d-comment__meta\">\\n            <span class=\"d-comment__avatar-wrapper\">\\n                <img src=\"https://avatar.guim.co.uk/user/2902769\" alt=\"\" class=\"d-comment__avatar\"/>\\n            </span>\\n            <div class=\"d-comment__meta-text\">\\n                <span\\n                    itemscope\\n                    itemprop=\"author\"\\n                    itemtype=\"http://schema.org/Person\"\\n                    title=\"CommunityMod\"\\n                    class=\"d-comment__author\">\\n                    <a href=\"https://profile.theguardian.com/user/id/2902769\" itemprop=\"url\">\\n                        <span itemprop=\"givenName\">CommunityMod</span>\\n                    </a>\\n                </span>\\n\\n                \\n                <div class=\"d-comment__timestamp\">\\n                    <a href=\"https://discussion.theguardian.com/comment-permalink/154007965\" class=\"d-comment__timestamp block-time\">\\n                        <time class=\"js-timestamp\" itemprop=\"dateCreated\"\\n                            datetime=\"2022-01-01T18:00:47Z\"\\n                            data-timestamp=\"1641060047000\" data-relativeformat=\"med\"\\n                            title=\"Permalink to this comment (1 Jan 2022 18:00)\">1 Jan 2022 18:00</time>\\n                        \\n\\n<span  class=\"inline-comment-anchor inline-icon \" >\\n    \\n        <svg width=\"15\" height=\"15\" viewbox=\"0 0 15 15\" class=\"inline-comment-anchor__svg inline-icon__svg\">\\n <path fill=\"#898989\" d=\"M5.725 13.348a2.563 2.563 0 0 1-3.699-3.547l8.424-8.79a1.921 1.921 0 0 1 2.776 2.658l-6.894 7.193a1.277 1.277 0 0 1-1.812.038 1.28 1.28 0 0 1-.04-1.81l5.324-5.553.337.321-5.325 5.555a.815.815 0 0 0 1.175 1.128l6.896-7.193a1.456 1.456 0 0 0-2.101-2.015l-8.427 8.79a2.102 2.102 0 0 0 .063 2.965 2.098 2.098 0 0 0 2.965-.062l6.853-7.152.338.323-6.853 7.151z\" />\\n</svg>\\n    \\n</span>\\n\\n                    </a>\\n                </div>\\n\\n                \\n    <div class=\"d-comment__author-label\">\\n        \\n\\n<span  class=\"inline-marque-36 inline-icon d-comment__gu-icon\" >\\n    \\n        <svg width=\"36\" height=\"36\" viewbox=\"0 0 36 36\" class=\"d-comment__gu-icon__svg inline-marque-36__svg inline-icon__svg\">\\n <path d=\"M18 0a18 18 0 1 0 0 36 18 18 0 0 0 0-36\" />\\n <path fill=\"#FFF\" d=\"M21.2 4.4c2.3.4 5.3 2 6.3 3.1v5.2H27L21.2 5v-.6zm-2.2.4c-4 0-6.3 5.6-6.3 13.2 0 7.7 2.2 13.3 6.3 13.3v.6c-6 .4-14.4-4.2-14-13.8A13.3 13.3 0 0 1 19 4v.7zm10.4 14.4-1.9.9v8.6c-1 1-3.8 2.6-6.3 3.1V19.9l-2.2-.7v-.6h10.4v.6z\" />\\n</svg>\\n    \\n</span>\\n Staff\\n    </div>\\n\\n\\n\\n                \\n            </div>\\n        </div>\\n\\n        <div class=\"d-comment__content\">\\n\\n             \\n                <div\\n                    class=\"d-comment__recommend js-recommend-comment\"\\n                    data-comment-id=\"154007965\"\\n                    data-comment-url=\"https://discussion.theguardian.com/comment-permalink/154007965\"\\n                    data-user-id=\"2902769\"\\n                    data-recommend-count=\"1\"\\n                    title=\"1 recommendations\">\\n                    <button class=\"u-button-reset d-comment__recommend-button rounded-icon\" data-link-name=\"Recommend comment\" >\\n                        <span class=\"d-comment__recommend-pulse\"></span>\\n                        \\n\\n<span  class=\"inline-arrow-up-white inline-icon \" >\\n    \\n        <svg height=\"14\" width=\"15\" class=\"inline-arrow-up-white__svg inline-icon__svg\">\\n <path d=\"m.5 7 5.25-4.5V14h1.5V2.5L12.5 7l.5-1-5.75-6h-1.5L0 6l.5 1Z\" />\\n</svg>\\n    \\n</span>\\n\\n                    </button>\\n                    <span class=\"d-comment__recommend-count js-recommend-count\">\\n                        <span class=\"d-comment__recommend-count--old\">1</span>\\n                        <span class=\"d-comment__recommend-count--new\">2</span>\\n                    </span>\\n                </div>\\n            \\n\\n            <div class=\"d-comment__main \">\\n\\n                <div class=\"d-comment__body\" itemprop=\"text\">\\n                    \\n                        \\n                            <p>Comments will close here at 18:15 GMT.</p>\\n                        \\n                    \\n                </div>\\n                \\n                    <div class=\"d-comment__actions d-comment__actions--left modern-visible\">\\n                        <a class=\"d-comment__action d-comment__action--reply\" href=\"https://profile.theguardian.com/signin?returnUrl=https://discussion.theguardian.com/comment-permalink/154007965&componentEventParams=componentType%3Didentityauthentication%26componentId%3Dsignin_to_reply_comment\"\\n                                data-link-name=\"reply to comment\" data-comment-id=\"154007965\" role=\"button\">\\n                            \\n\\n<span  class=\"inline-reply inline-icon blue\" >\\n    \\n        <svg width=\"18\" height=\"18\" class=\"blue__svg inline-reply__svg inline-icon__svg\">\\n <path d=\"m10.1 5 .9-1 4 4.5v1L11 14l-.9-1 2.5-3H4L3 9V6.5h2V8h7.6l-2.5-3z\" />\\n</svg>\\n    \\n</span>\\n\\n                            Reply\\n                        </a>\\n\\n                        \\n                            \\n<div class=\"d-comment__action d-comment__action--share\">\\n\\n    <div class=\"sharing-text\">\\n\\n<span  class=\"inline-share inline-icon comment-share-icon\" >\\n    \\n        <svg width=\"12\" height=\"12\" viewbox=\"0 0 12 12\" class=\"comment-share-icon__svg inline-share__svg inline-icon__svg\">\\n <path d=\"M10.073 8.4c-.475 0-.906.19-1.225.497L3.54 6.221 3.555 6l-.015-.221 5.308-2.676c.319.308.75.497 1.225.497.982 0 1.778-.806 1.778-1.8S11.055 0 10.073 0 8.295.806 8.295 1.8l.016.233-5.299 2.675a1.762 1.762 0 0 0-1.236-.507c-.982 0-1.778.806-1.778 1.8s.796 1.8 1.778 1.8c.48 0 .915-.194 1.236-.507l5.299 2.675-.016.233c0 .994.796 1.8 1.778 1.8s1.778-.806 1.778-1.8-.796-1.8-1.778-1.8zm0-7.68c.588 0 1.067.484 1.067 1.08 0 .596-.479 1.08-1.067 1.08S9.006 2.396 9.006 1.8c0-.596.479-1.08 1.067-1.08zm0 10.56a1.075 1.075 0 0 1-1.067-1.08c0-.596.479-1.08 1.067-1.08s1.067.484 1.067 1.08c0 .596-.479 1.08-1.067 1.08z\" />\\n</svg>\\n    \\n</span>\\n <span>Share</span></div>\\n\\n    <div class=\"sharing-buttons\" data-link-name=\"comment social\">\\n    \\n        \\n            \\n\\n        <a href=\"https://www.facebook.com/dialog/share?app_id=180444840287&amp;href=https%3A%2F%2Fdiscussion.theguardian.com%2Fcomment-permalink%2F154007965&amp;quote=CommunityMod%20commented%3A%20%22Comments%20will%20close%20here%20at%2018%3A15%20GMT.%22\"\\n        target=\"_blank\"\\n        class=\"social__action social-icon-wrapper\"\\n        data-link-name=\"social-comment : facebook\">\\n            <span class=\"inline-icon__fallback button\">\\n                Share on Facebook</span>\\n            \\n\\n<span  class=\"inline-share-facebook inline-icon rounded-icon social-icon centered-icon social-icon--facebook comment-facebook-icon\" >\\n    \\n        <svg width=\"32\" height=\"32\" viewbox=\"-2 -2 32 32\" class=\"rounded-icon__svg social-icon__svg centered-icon__svg social-icon--facebook__svg comment-facebook-icon__svg inline-share-facebook__svg inline-icon__svg\">\\n <path d=\"M17.9 14h-3v8H12v-8h-2v-2.9h2V8.7C12 6.8 13.1 5 16 5c1.2 0 2 .1 2 .1v3h-1.8c-1 0-1.2.5-1.2 1.3v1.8h3l-.1 2.8z\" />\\n</svg>\\n    \\n</span>\\n\\n            <span class=\"u-h\">Facebook</span>\\n        </a>\\n    \\n\\n            \\n            \\n                \\n\\n        <a href=\"https://tw'"
      ]
     },
     "execution_count": 19,
     "metadata": {},
     "output_type": "execute_result"
    }
   ],
   "source": [
    "xx = json.loads(json_data[0])\n",
    "xx['commentsHtml'][:8000]"
   ]
  },
  {
   "cell_type": "code",
   "execution_count": null,
   "metadata": {},
   "outputs": [],
   "source": [
    "https://discussion.theguardian.com/comment-permalink/154003870"
   ]
  },
  {
   "cell_type": "code",
   "execution_count": 136,
   "metadata": {},
   "outputs": [
    {
     "name": "stdout",
     "output_type": "stream",
     "text": [
      " class=\"d-comment\n",
      "            d-comment--top-level\"\n",
      "           id=\"comment-144422422\"\n",
      "           data-comment-id=\"144422422\"\n",
      "           data-comment-author=\"Hushing\"\n",
      "           data-comment-replies=\"0\"\n",
      "           data-comment-timestamp=\"2020-10-11T14:25:06.000+01:00\"\n",
      "           data-comment-author-id=\"12407494\"\n",
      "           data-comment-highlighted=\"false\"\n",
      "           itemscope itemtype=\"http://schema.org/Comment\">\n",
      "\n",
      "    <div class=\"d-comment__inner d-comment__inner--top-level\">\n",
      "        <div class=\"\n"
     ]
    }
   ],
   "source": [
    "print( xx['commentsHtml'][200:700])"
   ]
  },
  {
   "cell_type": "code",
   "execution_count": 16,
   "metadata": {},
   "outputs": [],
   "source": [
    "pa = re.compile('data-comment-author=\"(.*?)\"')\n",
    "pid = re.compile('data-comment-author-id=\"(\\d+)')\n",
    "pcid = re.compile('\\sid=\"comment-(.*?)\"')\n",
    "pp = re.compile('<li class=\"d-comment(.*?)>',re.DOTALL)\n",
    "\n",
    "auths = []\n",
    "md = []\n",
    "for xx in json_data:\n",
    "    hh = json.loads(xx)['commentsHtml']\n",
    "    auths.extend(list( zip(pa.findall(hh), \n",
    "                           pid.findall(hh)\n",
    "                          )))\n",
    "    md.extend(pp.findall(hh))\n",
    "\n",
    "auths = list(set(auths))\n",
    "auths.sort(key=lambda x : x[0].lower())\n"
   ]
  },
  {
   "cell_type": "code",
   "execution_count": 102,
   "metadata": {},
   "outputs": [],
   "source": [
    "#print( '\\n'.join([x for x in md if 'pinkie' in x.lower()]))"
   ]
  },
  {
   "cell_type": "markdown",
   "metadata": {},
   "source": [
    "https://discussion.theguardian.com/comment-permalink/144375739"
   ]
  },
  {
   "cell_type": "code",
   "execution_count": 8,
   "metadata": {},
   "outputs": [],
   "source": [
    "auths = dict(auths)"
   ]
  },
  {
   "cell_type": "code",
   "execution_count": 9,
   "metadata": {},
   "outputs": [
    {
     "data": {
      "text/plain": [
       "'https://api.nextgen.guardianapps.co.uk/discussion//p/hvpq8.json'"
      ]
     },
     "execution_count": 9,
     "metadata": {},
     "output_type": "execute_result"
    }
   ],
   "source": [
    "comments_url"
   ]
  },
  {
   "cell_type": "code",
   "execution_count": 17,
   "metadata": {},
   "outputs": [],
   "source": [
    "\n",
    "from bs4 import BeautifulSoup\n",
    "\n",
    "def html2comments(x):\n",
    "    tt = json.loads(x)\n",
    "    soup = BeautifulSoup(tt['commentsHtml'],  \"lxml\")\n",
    "    raw = [ comment.text for comment in  \n",
    "            soup.findAll('div', {'class' : \"d-comment__body\"}) ]\n",
    "    \n",
    "    metadata = soup.findAll('span', {'class' : \"d-comment__author\"})\n",
    "    \n",
    "    \n",
    "    auth = [ x.text.upper().strip() for x in metadata]\n",
    "    auth_id = [ x.find('a')['href'] for x in metadata]\n",
    "    #this was a pain to do really\n",
    "    #the problem is blocked comments\n",
    "    comment_id = [ x['id'][len('comment-'):] for x in soup.findAll('li')]\n",
    " \n",
    "    \n",
    "    ss = '##{}\\nhttps://discussion.theguardian.com/comment-permalink/{}\\n{}\\n\\n{}'\n",
    "    return [ ss.format(a,b,d,c.strip())  \n",
    "                   for a,b,d,c in zip(auth, comment_id, auth_id, raw)]\n",
    "     \n",
    "all_texts = [ html2comments(page) for page in json_data[:] ]\n",
    "\n",
    "\n",
    "from itertools import chain\n",
    "all_comments = list(chain.from_iterable(all_texts))\n",
    "    "
   ]
  },
  {
   "cell_type": "code",
   "execution_count": null,
   "metadata": {},
   "outputs": [],
   "source": []
  },
  {
   "cell_type": "markdown",
   "metadata": {},
   "source": [
    "# Random data hacking"
   ]
  },
  {
   "cell_type": "code",
   "execution_count": 7,
   "metadata": {
    "scrolled": true
   },
   "outputs": [
    {
     "data": {
      "text/plain": [
       "[('##VERAANTHONY', 8),\n",
       " ('##ELEPHANTMOTH', 7),\n",
       " ('##GETTROTTED', 7),\n",
       " ('##JOHNNIEAYSGARTH', 7),\n",
       " ('##ATTILA9000', 6),\n",
       " ('##ROVERTHEHILLANDFARAW', 5)]"
      ]
     },
     "execution_count": 7,
     "metadata": {},
     "output_type": "execute_result"
    }
   ],
   "source": [
    "A = [x.split('\\n')[0] for x in all_comments]\n",
    "from collections import Counter\n",
    "AN = Counter(A)\n",
    "sorted([(x,y) for x,y in AN.items() if y > 4], key=lambda x : -x[1]) "
   ]
  },
  {
   "cell_type": "code",
   "execution_count": 7,
   "metadata": {},
   "outputs": [
    {
     "name": "stdout",
     "output_type": "stream",
     "text": [
      "[master 2d74372] web\n",
      " 1 file changed, 0 insertions(+), 0 deletions(-)\n",
      " create mode 100644 kdxb7.pkl\n",
      "Counting objects: 3, done.\n",
      "Delta compression using up to 12 threads.\n",
      "Compressing objects: 100% (3/3), done.\n",
      "Writing objects: 100% (3/3), 418.83 KiB | 3.25 MiB/s, done.\n",
      "Total 3 (delta 1), reused 0 (delta 0)\n",
      "remote: Resolving deltas: 100% (1/1), completed with 1 local object.\u001b[K\n",
      "To https://github.com/macbuse/GUARDIAN.git\n",
      "   705b837..2d74372  master -> master\n"
     ]
    }
   ],
   "source": [
    "! ./.g\n"
   ]
  },
  {
   "cell_type": "code",
   "execution_count": 30,
   "metadata": {},
   "outputs": [
    {
     "name": "stdout",
     "output_type": "stream",
     "text": [
      "##STILT\n",
      "https://discussion.theguardian.com/comment-permalink/155280552\n",
      "https://profile.theguardian.com/user/id/2397205\n",
      "\n",
      "This comment was removed by a moderator because it didn't abide by our\n",
      "         \n"
     ]
    }
   ],
   "source": [
    "print(all_comments[0][:200])"
   ]
  },
  {
   "cell_type": "code",
   "execution_count": 25,
   "metadata": {},
   "outputs": [
    {
     "data": {
      "text/plain": [
       "'france-populism-gaining-ground-revolution'"
      ]
     },
     "execution_count": 25,
     "metadata": {},
     "output_type": "execute_result"
    }
   ],
   "source": []
  },
  {
   "cell_type": "code",
   "execution_count": 18,
   "metadata": {},
   "outputs": [
    {
     "name": "stdout",
     "output_type": "stream",
     "text": [
      "##MANOFTHEWORLD\n",
      "https://discussion.theguardian.com/comment-permalink/156431010\n",
      "https://profile.theguardian.com/user/id/1795079\n",
      "\n",
      "There are so many interesting insights in this piece but the penultimate paragraph is weighed with so much wisdom. \n",
      "Never litigate unless it is absolutely unavoidable - ie: you're the respondent to some other fool's determined efforts. A long while ago I got caught up in a civil case when the government behaved appallingly and brought a civil case to be tried in the High Court. Before the case even got to court they had spent the best part of £1m in advance legal costs. Even admitting liability (which I would never do) to avoid the trial would have led to financial ruin, so I had to stand and fight. Since I couldn't afford professional legal help I went as litigant-in-person. Legal aid? Forget it. This was a very specific area of law and no one was going to care as much as I did about whether I won or lost. \n",
      "Pre-trial lasted the best part of 3 years as the government delayed, bullied, threatened and delayed. I had a serious day job but spent literally hundreds of hours in evenings (and nights) over those 3 years - essentially becoming first a de facto solicitor and then, as the trial approached, a de facto barrister. The only way to deal with the legal demands and allegations was to become obsessed with the case. I had posters stuck on the doors to my apartment. ...\"Never give up.\" Litigation is the most vicious, nasty, twisted, sneery, arrogant pursuit. You cannot believe the aggression and innuendo built into the professional legal correspondence. Their intent was to break me before the trial.\n",
      "When the trial started it was like the bell ringing to start a boxing match. There is no hiding place, the punches start flying and they aim to really hurt you. Of course the government side had QCs and the Treasury solicitors. I had had to consecutively number the thousands of pages of the trial bundles myself and some of them were incorrect - it led to mistakes. At least I had rights of audience with the High Court judge and he was understanding of the asymmetry of the occasion and careful to allow me my say. He was impressive. \n",
      "The trial was slated for 3 weeks but after 2 days it became clear the government had no case. He invited me into his chambers with their counsel and suggested they drop the case but they refused. The trial continued and as the witnesses whom I had to support my claims were cross-examined on their sworn affidavits, they were able to point out to the judge the various wild assumptions and flawed thinking behind the government's case. They got more and more desperate.\n",
      "Four weeks later I walked down to the Royal Courts of Justice in The Strand to collect the judgement in a brown envelope waiting at reception. It was an overwhelming victory. The government had to establish two key elements and had failed to prove either. The judge made it clear that he was pretty disgusted with the government's case and the time delays they had caused. And then something happened that really took any joy away. With a few days they appealed the decision and took it to the House of Lords...... where, quickly.. they were told to shove off. The Law Lords made it clear they stood no chance.\n",
      "As for costs? I have no idea how much this cost the taxpayer in the end but it was infuriating that they seemed to be squandering money on a case which, from the outset, was clear to me that they had misunderstood both the facts AND the law. I imagine their legal costs were several hundred pounds per hour over that period. At the costs hearing, the \"Taxing Master\" (a judge) offered me £10 something per hour for maybe 150 hours.\n",
      "The actual cost to me was extreme. I quit work, I went abroad for a while, I went on a bender for a few years and I was seething with anger for the waste of life this had brought through the unchecked power and well funded incompetence of a badly run government department. It was not a criminal case - there was no question of me breaking the law, of being fined or punished - just legal costs to play for. \n",
      "Marina is more than right in almost everything she writes. But on this point about litigation, she has never been more right. It is the first thing you think about when you wake up and the last thing you think at night. But that is likely the only way you're ever going to win.\n",
      "\n",
      "##SCIENCETHINK\n",
      "https://discussion.theguardian.com/comment-permalink/156432565\n",
      "https://profile.theguardian.com/user/id/100008197\n",
      "\n",
      "The thread within this thread that I was replying to was mocking grealish for having an expensive car when plenty of other people own expensive cars but it only seems to become an issue when footballers buy one.\n",
      "As a classic Guardianista, believe me, I sneer at anyone who drives a stupidly expensive (big) car, including those on lower incomes buying something they can't actually afford on a PCP scheme and those more wealthy who only use their 4-wheel drive Volvo or Land Rover Discovery to go to the shops once a week or use their Porsche Cayenne for the school run 'to keep the children safe'. What utter bollocks! \n",
      "It is pure snobbery about owning something more expensive than the person next door. The 'look what I've got' mentality, and in this day and age of environmental destruction through over-consumption, desperate hunger and poverty for those at the bottom (even in this wealthy country) and an almost total loss of opportunity for young people (housing, travel, education costs, discrimination if you didn't go through the 'elite schools' route) wasting money like this on a 'status symbol' is morally and intellectually indefensible. \n",
      "However, those who own such vehicles (in my opinion) don't have the moral or intellectual ability to think through what they are doing or why they are doing it, and therefore it seems perfectly reasonable for me to look down on such people. Thank-you Marina for doing this on my behalf and making me laugh. (BTW my use of the 'intellectual' label has absolutely nothing to do with the level of education people have 'achieved'.)\n",
      "People look down on me in the car park because I only have a battered old tiny 1 litre engine car. It only shows how superficial, greedy and morally bereft they all are. \n",
      "Why do people 'look up' to others just because they have money and a flashy car? One care worker or hospital cleaner is worth any number of useless 'celebrities', including those who kick a bag of air around a field and their useless wives. \n",
      "People need to get a grip before it's too late. They can't take their car with them when they are dying from the next pandemic or the effects of climate change!\n",
      "\n",
      "##MAWALTREES\n",
      "https://discussion.theguardian.com/comment-permalink/156429355\n",
      "https://profile.theguardian.com/user/id/2843729\n",
      "\n",
      "We are very lucky only one of the Husbands is still playing in the top flight or this would have gone thermo nuclear in the press. Can you imagine Leicester vs Man Utd with Rooney still at the top.\n",
      "This is one of those cases that reveals what most already know; that there is more than one type of intelligence. \n",
      "As thick as they come across, most of us could not cope with their lives. In fact most people structure their lives to avoid gossip, drama, theatre. \n",
      "Folks famous for being famous are the complete opposite. They rush headlong towards gossip and drama. At this point I'm not talking about Colleen who tends to keep her head down. \n",
      "This is a clash of massive celeb establishment egos. I do hope Miss Vardy is asked what charitable works she does with this sort of time on her hands and money to burn.\n",
      "But for some there's no such thing as bad publicity. Millions will be made in further news articles. \"My Side' and sad photo shoots in designer gear plus books at some point. Its just business.\n",
      "This is like Jeremy Kyle the millionaire celeb version. He would sort this out in under an hour.\n",
      "Must thank Marina for including some of the wisest words for the modern age.\n",
      "Never talk to the cops under caution on your own or journalists. At absolutely no point are they your friends however friendly they may sound. \n",
      "And avoid Litigation. We live in an age where nobody agrees what evidence is anymore. Its making lawyers into multimillionaires.\n",
      "The bullying whilst claiming to be a victim of bullying angle here is so brazen its breathtaking. The rest of the universe literally doesn't exist to some people.\n",
      "\n",
      "##ADH1969\n",
      "https://discussion.theguardian.com/comment-permalink/156429608\n",
      "https://profile.theguardian.com/user/id/12424237\n",
      "\n",
      "Yes we all know that we should stay away from litigation and court , even more so if you are in the public eye . But fact is that libel / defamation trials hardly ever settle because the recoverable costs are so high that there is no incentive to settle . If we want to stop laughing and stop wasting court time , put these types of cases on a fixed cost regime . Accept that in this day of Twitter and whatever , people publish and say stupid things but ultimately none of those things really impact your reputation for long . Not even the truth leaves a lasting impact - just look at our politicians. \n",
      "So without a doubt Vardy’s legal team are only in this for the money because if they truly thought Vardy’s reputation mattered or was irrecoverable then they would never have advised her to bring this claim. \n",
      "Once a claim is brought , if the claimant won’t settle , then absolutely the defendant Rooney should bring her best defence forward . \n",
      "But overall got to say the word Wagatha is my new fave word . If only it could be used in Wordle !\n",
      "\n",
      "##BRONDESBOY\n",
      "https://discussion.theguardian.com/comment-permalink/156428480\n",
      "https://profile.theguardian.com/user/id/2946750\n",
      "\n",
      "Forgive the disloyalty to my profession, but my cast-iron advice to any friend who asks is always: don’t. The experience is utterly asymmetric. It will be an infinitely bigger deal to you than it will be to them, and more often than not turns out in unfortunate ways you didn’t predict. \n",
      "What I haven’t said is that this advice was really inspired by some once given to me by a very good lawyer and very good friend. And that advice was: never litigate. Never, never litigate, unless it is absolutely unavoidable.\n",
      "\n",
      "Both of these points are some seriously good advice. On the litigation side, my experience extends to the small claims court and the employment tribunal and both were utterly horrendous experiences. To this day, I advise employees to avoid grievances/disputes - it's the live rail of employee relations: if you step on it you die. I can only imagine the stress levels for high court litigation. As for talking to journalists....well as Alex Ferguson said, never go looking for trouble, it will always find you.\n",
      "\n",
      "##NEDRYERSON\n",
      "https://discussion.theguardian.com/comment-permalink/156430413\n",
      "https://profile.theguardian.com/user/id/107070617\n",
      "\n",
      "The original post mocks rebekah vardy for being an ignoramus in terms relative to the commenter's own demographic position. Hence the ignorance is not an ignorance in the absolute sense but an ignorance tied to class and education.\n",
      "Bringing Jack grealishs ignorance into the discussion is also telling. You can be ignorant about football or botany or any number of things but a poor vocabulary is simply an indicator of education level. \n",
      "The thread within this thread that I was replying to was mocking grealish for having an expensive car when plenty of other people own expensive cars but it only seems to become an issue when footballers buy one.\n",
      "In all three instances my diagnosis of displacement fits very well. To tie it into the wider political scene, it's this sneering classism (evident in the above examples) that has consigned the red wall to the Tories permanently. But at least we have Wandsworth I guess.\n",
      "\n",
      "##MEREMORTAL\n",
      "https://discussion.theguardian.com/comment-permalink/156430684\n",
      "https://profile.theguardian.com/user/id/2679561\n",
      "\n",
      "very few things in this life are more horrifyingly overrated than “having your day in court”.\n",
      "\n",
      "This was an excellent and very thoughtful piece by Marina. Her parting advice is telling, it's an interesting juxtaposition that 2 wags are arguing about selling gossip and both calling each other liars, when the really important liars are governing the country and totally backed by their liar mates in the press. \n",
      "I'd be fascinated to see Bodger (aka The Convict) forensically dismantled by a brilliant QC in court, because he really is such a prolific but easily dismantled liar, then people would see that it's not really funny or banter of merely a matter of tribal loyalty or opinion, but that \n",
      "actual lying when done by political leaders has the potential to create societal level trauma to the population or even to destroy entire societies. (I'm paraphrasing Hannah Arendt but cannot find the quote).\n",
      "\n",
      "##CIARAN1968\n",
      "https://discussion.theguardian.com/comment-permalink/156431513\n",
      "https://profile.theguardian.com/user/id/13902781\n",
      "\n",
      "I have been trying avoid this car crash story for weeks and couldn't believe the Guardian were devoting so many column inches to it. But then Marina has written about it and I love her articles so I thought I would. At the start of this I was wincing as I thought Marina was just knocking out another celeb hatchet job but the point later about not going to court under any circumstances redeemed this for me. I had a friend a few years ago who tried to sue their neighbour, as they had built an extension on their house that ended up damaging my friend's house. He told me that regardless of the outcome- he won- he would never do it now. Three years where him and his wife woke up every morning with a start thinking about the case and not getting to sleep at nights. With two small kids and working full time too. For three bloody years. As his savings leaked away paying lawyers. Just a nightmare.\n",
      "\n",
      "##MR_PERCIVAL\n",
      "https://discussion.theguardian.com/comment-permalink/156432324\n",
      "https://profile.theguardian.com/user/id/102823073\n",
      "\n",
      "I don't think it's cut and dry at all. Legally, Vardy has to be lowered in the estimation of 'right thinking' men and women to be libelled. Are people who are basically internet celebrities, gossips, influencers and self-created tabloid fodder held in good esteem by 'right thinking' members of society to begin with? Also worth noting that Rooney didn't actually name Vardy - she said the source was Rebekah Vardy's account (that was quite smart of her). So has Vardy herself been libelled, particularly as other people seem to have had access to her account? Finally, Rooney can reasonably claim fair comment - all the facts pointed towards it being Rebekah Vardy's account and she made the claim without malice. At best, I reckon, Vardy will get a token award and no costs. But she will have destroyed her own reputation, while Rooney's is enhanced. Coleen's playing a blinder.\n",
      "\n",
      "##FROMTHEROOFTOPS\n",
      "https://discussion.theguardian.com/comment-permalink/156428013\n",
      "https://profile.theguardian.com/user/id/1436036\n",
      "\n",
      "This inter-person verbal dispute is occupying the High Court for a week, and presumably a week's worth of its paid admin and judge's time, though at least they are not consuming an unpaid jury's time too. Gadzillions are also voluntarily being expended on legal fees by two fairly rich people, fees which are predicted to outstrip significantly any damages awarded. The lawyers are also perfectly happy to accept these fees.\n",
      "Meanwhile victims of abuse and rape wait years to have their cases heard, and in some instances run out of time, or they abandon their cases due to the personal stress and lack of access to resources, particularly legal representation.\n",
      "Desperate parents go to the family court as litigants in person over child custody cases as legal aid has all but dried up.\n",
      "Is justice now merely a resource which we compete for on financial grounds?\n",
      "\n",
      "##BENB01\n",
      "https://discussion.theguardian.com/comment-permalink/156431114\n",
      "https://profile.theguardian.com/user/id/3092150\n",
      "\n",
      "Agree with your 1st and third paras.\n",
      "As for Vardy’s lawyers being “only in it for the money” - well, yes, they are acting for her as she is choosing to instruct and pay them. There is no reason why they would act for free. The size of fees is another issue - but these litigants will have been given costs estimates at the start. \n",
      "You say the lawyers advised her to bring the claim. You don’t know what advice was given. Lawyers don’t have to believe that their client will win in order to act. Advice at the start could well have been “you have a 50/50 chance of winning and it will be very expensive, do you want to take that risk ?”. \n",
      "The lawyers may not have known about what was on phones and what’s app accounts or that there would then be so many unfortunate incidents losing evidence.\n",
      "\n",
      "##BENB01\n",
      "https://discussion.theguardian.com/comment-permalink/156432088\n",
      "https://profile.theguardian.com/user/id/3092150\n",
      "\n",
      "I would just add that the burden is on the claimant RV to prove her case that CR’s comment would “lower the estimation of RV in right thinking people”. \n",
      "CR can then defend on a couple of bases. \n",
      "CR can defend saying that her comment that RV leaked confidential information to the press would not lower people’s estimation of RV. This might take into account the matters reported from the trial about past press reports and including that RV had leaked other confidential information to the press \n",
      "CR can also defend by arguing that on the balance of probabilities it is likely to be true that RV leaked, or the leak was at the instigation of RV, the story about CR. The Judge will consider RV’s credibility in the context of the several losses of evidence by RV and those connected to her.\n",
      "\n",
      "##AEGIAN\n",
      "https://discussion.theguardian.com/comment-permalink/156428753\n",
      "https://profile.theguardian.com/user/id/1859329\n",
      "\n",
      "Several years ago there was a dispute between my spouse and his family over his inheritance. He knew that his parent had intended him to have half the estate but his sibling disagreed. Since his sibling was the executor of the ,my spouse did not get his fair share and his sibling said to him, \"Go to court.\" Of course he didn't. The very thought turned our stomachs, so my spouse simply accepted what he was given.\n",
      "The irony is that his sibling's spouse died soon after and his sibling was miserable until he too died a few years later. Whoever brought this case in this article to court, should remember that there are far more valuable things in life than a day in court. The very thought of what would have happened to us if my spouse had gone to court makes me shudder to this day.\n",
      "\n",
      "##AEGIAN\n",
      "https://discussion.theguardian.com/comment-permalink/156428752\n",
      "https://profile.theguardian.com/user/id/1859329\n",
      "\n",
      "Several years ago there was a dispute between my spouse and his family over his inheritance. He knew that his parent had intended him to have half the estate but his sibling disagreed. Since his sibling was the executor of the ,my spouse did not get his fair share and his sibling said to him, \"Go to court.\" Of course he didn't. The very thought turned our stomachs, so my spouse simply accepted what he was given.\n",
      "The irony is that his sibling's spouse died soon after and his sibling was miserable until he too died a few years later. Whoever brought this case in this article to court, should remember that there are far more valuable things in life than a day in court. The very thought of what would have happened to us if my spouse had gone to court makes me shudder to this day.\n",
      "\n",
      "##BACKINTHEDAY\n",
      "https://discussion.theguardian.com/comment-permalink/156432197\n",
      "https://profile.theguardian.com/user/id/4806745\n",
      "\n",
      "To be fair, given a war in Ukraine, failing Brexit, empty shelves, the cost of living crisis, rising fuel bills, a dishonest PM and a government that has no idea what to do about any of the former, Rebekah Vardy and Coleen Rooney are providing a kind of public service. They are adding to the national joy and our sense of self-worth, knowing we literally wouldn't be that daft.\n",
      "The verbal gems just keep on coming, the Mail is doing full-on wardrobe analysis and even I find myself calculating the type of house and wardrobe of designer gear I could buy for what they're wasting on legal fees. And let's face we are having a laugh at their expense (in all senses) and they have no-one to blame but themselves. Although after this week my money is on Coleen.\n",
      "\n",
      "##MARKEAR\n",
      "https://discussion.theguardian.com/comment-permalink/156429901\n",
      "https://profile.theguardian.com/user/id/10805984\n",
      "\n",
      "I am not sure how it works in libel, but in personal injury cases, if the defendant, for example, makes a part 36 offer of £1m, this figure is not known to the judge. If the claimant rejects the offer, goes to Court, and the judge awards a figure less than £1m, then the claimant pays both sides legal costs. This can be eye-waveringly expensive. \n",
      "I guess that the idea is to try and get people to settle without using Court time which is about 12k to 18k (plus VAT) a day. \n",
      "I am not sure which if these professors of stupidity is suing who, but if the one being sued has made an offer to settle and the judge awards less than this, I don't know if the same principle applies.\n",
      "\n",
      "##BIGCATFACE\n",
      "https://discussion.theguardian.com/comment-permalink/156430787\n",
      "https://profile.theguardian.com/user/id/103002715\n",
      "\n",
      "I would be surprised if Rebekah Vardy does not regret this deeply in the future. Although only her side has been heard so far, she is coming out of this looking really bad and it may well back-fire nastily on her children and family. She has been very poorly advised and Coleen Rooney's side have been able to erode much of Rebekah Vardy's claims to credibility, honesty or decency. I suspect that once the judgement is made, the gloves will be off all over social media and around the tabloids, an element of which will percolate down to schools and may well be stirred up repeatedly into the future. Even if Rebekah Vardy wins she will come out looking very sullied.\n",
      "\n",
      "##LIZCARDIFF\n",
      "https://discussion.theguardian.com/comment-permalink/156429485\n",
      "https://profile.theguardian.com/user/id/13090399\n",
      "\n",
      "Think what good they could have done with all the money wasted on this nonsense!\n",
      "I do know how awful it is to be betrayed and humiliated by someone you consider a close friend. His weapon of choice was facebook, and I have never used it since the awfulness happened almost 15 years ago. I was devastated to the extent I was ill and almost suicidal for a time. I didn't have the money to seek justice, or whatever it is these two are doing, but frankly all it does is draw attention to a horrible situation best forgotten. The fact that such tragically immoral cruel behaviour becomes amusement for the masses is actually pretty tragic in itself. A sad sad situation.\n",
      "\n",
      "##ACORNANTIQUES\n",
      "https://discussion.theguardian.com/comment-permalink/156428849\n",
      "https://profile.theguardian.com/user/id/4131149\n",
      "\n",
      "What I haven’t said is that this advice was really inspired by some once given to me by a very good lawyer and very good friend. And that advice was: never litigate. Never, never litigate, unless it is absolutely unavoidable.\n",
      " The same lesson can be learned from Dicken's Bleak House and the never ending case of Jarndyce vs Jarndyce. The interminable case finally reaches a conclusion only for the litigants to discover that there was nothing left of the inherritance, over which the case was fought, and so the verdict was moot. \"Suffer any wrong that can be done you rather than come here!\" was Dicken's opinion of the chancery court system.\n",
      "\n",
      "##MAWALTREES\n",
      "https://discussion.theguardian.com/comment-permalink/156429562\n",
      "https://profile.theguardian.com/user/id/2843729\n",
      "\n",
      "Worth noting every newspaper repeated the claim the phone lost in the North Sea was a genuine accident. At the same time a password was lost by.... an IT Professional. \n",
      "The potential star witness who hasn't even reached middle age is \"too sick\" to attend court\n",
      "Odds that exist nowhere else in the known universe.\n",
      "Oh to start life again and study law instead. The counsel in this case must have the same feeling as winning the lottery.\n",
      "Mr Davy Jones in particular knew she didn't know who Davy Jones is, and must have been quietly pissing himself whilst at the same time exposing the claiments limitations for £3000 per hour.\n"
     ]
    }
   ],
   "source": [
    "import os\n",
    "\n",
    "all_comments.sort(key=lambda x : -len(x) )\n",
    "txt = '\\n\\n'.join(all_comments[:20])\n",
    "print(txt)\n",
    "with open(os.environ['HOME']+'/tmp.txt','w') as fp:\n",
    "    fp.write('\\n\\n'.join(all_comments[:20]))\n",
    "with open(os.environ['HOME']+'/{}.txt'.format(article_url.split('/')[-1]),'w') as fp:\n",
    "    fp.write('\\n\\n'.join(all_comments[:20]))"
   ]
  },
  {
   "cell_type": "code",
   "execution_count": 19,
   "metadata": {},
   "outputs": [
    {
     "name": "stdout",
     "output_type": "stream",
     "text": [
      "[master 4331ca5] web\n",
      " 9 files changed, 1185 insertions(+), 1460 deletions(-)\n",
      " rewrite guardian comments scraper.ipynb (69%)\n",
      " create mode 100644 y829j.pkl\n",
      " create mode 100644 y8h4q.pkl\n",
      " create mode 100644 y98ff.pkl\n",
      " create mode 100644 y99zz.pkl\n",
      " create mode 100644 yaa2q.pkl\n",
      " create mode 100644 yaedy.pkl\n",
      " create mode 100644 yavg9.pkl\n",
      " create mode 100644 ybxgx.pkl\n",
      "Counting objects: 11, done.\n",
      "Delta compression using up to 12 threads.\n",
      "Compressing objects: 100% (11/11), done.\n",
      "Writing objects: 100% (11/11), 2.32 MiB | 93.00 KiB/s, done.\n",
      "Total 11 (delta 9), reused 0 (delta 0)\n",
      "remote: Resolving deltas: 100% (9/9), completed with 2 local objects.\u001b[K\n",
      "To https://github.com/macbuse/GUARDIAN.git\n",
      "   675153b..4331ca5  master -> master\n"
     ]
    }
   ],
   "source": [
    "! ./.g"
   ]
  },
  {
   "cell_type": "code",
   "execution_count": 18,
   "metadata": {},
   "outputs": [
    {
     "name": "stderr",
     "output_type": "stream",
     "text": [
      "[nltk_data] Downloading package vader_lexicon to\n",
      "[nltk_data]     /home/gregmcshane/nltk_data...\n",
      "[nltk_data]   Package vader_lexicon is already up-to-date!\n"
     ]
    }
   ],
   "source": [
    "#https://towardsdatascience.com/sentimental-analysis-using-vader-a3415fef7664\n",
    "\n",
    "import nltk\n",
    "#nltk.download('vader_lexicon')\n",
    "\n",
    "from nltk.sentiment.vader import SentimentIntensityAnalyzer\n",
    "\n",
    "sid = SentimentIntensityAnalyzer()"
   ]
  },
  {
   "cell_type": "code",
   "execution_count": 22,
   "metadata": {},
   "outputs": [],
   "source": [
    "a = '''My views haven't changed. Leaving the EU will be of no benefit to anyone except those who hold money and power along with certain corporates and a smidgen of medium to small businesses.\n",
    "How else can it be when you are shutting shop to the most developed nations, the richest nations in the world, who are either in the EU or have market agreements with the EU. Even the emerging markets of China and India along with other developing economies are aspiring to develop trading agreements with the EU, the second largest economy in the world. Any deal with the UK will be secondary and will depend upon their agreement with the EU.\n",
    "Boris Johnson once said \"f**k business\". I take this as meaning there is something in it for them and they don't really care if businesses find it difficulA\n",
    "t to cope.\n",
    "I can see ministers and conservative MPs queuing to fill their pockets by acting as advisors for potential trade deals whilst the rest of the country are left struggling trying to rebuild their lives, especially following the pandemic. The same ministers will probably be looking to lower all kinds of standards from food and welfare to safety at work to improve their opportunities.\n",
    "When it comes to brinkmanship, I can only view this as getting away with whatever they can. I do not believe it is anything to do with negotiating an agreement that will be to the benefit of the UK or the EU as a whole, I don't believe our ministers are capable of doing that.'''"
   ]
  },
  {
   "cell_type": "code",
   "execution_count": 24,
   "metadata": {},
   "outputs": [
    {
     "ename": "TypeError",
     "evalue": "sentiment_valence() missing 4 required positional arguments: 'sentitext', 'item', 'i', and 'sentiments'",
     "output_type": "error",
     "traceback": [
      "\u001b[0;31m------------------------------------------------------------\u001b[0m",
      "\u001b[0;31mTypeError\u001b[0m                  Traceback (most recent call last)",
      "\u001b[0;32m<ipython-input-24-6f3326dcf5de>\u001b[0m in \u001b[0;36m<module>\u001b[0;34m\u001b[0m\n\u001b[1;32m      1\u001b[0m \u001b[0msid\u001b[0m\u001b[0;34m.\u001b[0m\u001b[0mpolarity_scores\u001b[0m\u001b[0;34m(\u001b[0m\u001b[0ma\u001b[0m\u001b[0;34m)\u001b[0m\u001b[0;34m\u001b[0m\u001b[0m\n\u001b[0;32m----> 2\u001b[0;31m \u001b[0msid\u001b[0m\u001b[0;34m.\u001b[0m\u001b[0msentiment_valence\u001b[0m\u001b[0;34m(\u001b[0m\u001b[0ma\u001b[0m\u001b[0;34m)\u001b[0m\u001b[0;34m\u001b[0m\u001b[0m\n\u001b[0m",
      "\u001b[0;31mTypeError\u001b[0m: sentiment_valence() missing 4 required positional arguments: 'sentitext', 'item', 'i', and 'sentiments'"
     ]
    }
   ],
   "source": [
    "sid.polarity_scores(a)\n",
    "sid.sentiment_valence(a)"
   ]
  },
  {
   "cell_type": "code",
   "execution_count": 10,
   "metadata": {},
   "outputs": [
    {
     "name": "stdout",
     "output_type": "stream",
     "text": [
      "##LIBBETS\n",
      "https://discussion.theguardian.com/comment-permalink/156335914\n",
      "https://profile.theguardian.com/user/id/12302017\n",
      "\n",
      "Peter **CAPALDI** sums it up well for me.'People always ask me what it is about Doctor Who that appeals so broadly. The answer I would like to give, and which I’m discouraged from giving because it is not useful in the promotion of a brand, is that it’s about death. It has a very powerful death motif in it which is that the central character dies. I think that is one of its most potent mysteries because somewhere in that people see what happens in life. You have loved ones and then they go, but you must carry on.'\n",
      "Here's to carrying on. Best wishes to Ncuti Gatwa, I can't wait.\n",
      "\n",
      "##MACHINEHEAD\n",
      "https://discussion.theguardian.com/comment-permalink/156338017\n",
      "https://profile.theguardian.com/user/id/1642806\n",
      "\n",
      "I’m not convinced Whitaker was a great Doctor to be honest…middling I’d say but like **CAPALDI** before her she was not gifted with the greatest storylines much of the time.\n",
      "The return of RT though bodes well in this respect and Gatwa is a good actor who will appeal to the yoof…\n",
      "My only appeal would be not to forget that Dr Who should have some gravitas along with some genuine scariness at times. \n",
      "Please let’s not have an overload of crazy wackyness ala Matt Smith and a few others…..quirky is fine though…\n",
      "\n",
      "##WILDBEAR82\n",
      "https://discussion.theguardian.com/comment-permalink/156334386\n",
      "https://profile.theguardian.com/user/id/15962759\n",
      "\n",
      "I'm not a Mail reader and I don't care what the actor playing doctors skin colour, gender or sexual preferences are. \n",
      "I also don't think any of the above should influence who's picked for the role but in todays easily offended society I'm sure it's the chief consideration. \n",
      "I'd just want the show to go back to being fun and enjoyable to watch like it was during the Tennant, Smith and **CAPALDI** days.\n",
      "\n",
      "##ACTUALGRAUNREADER\n",
      "https://discussion.theguardian.com/comment-permalink/156335694\n",
      "https://profile.theguardian.com/user/id/10562490\n",
      "\n",
      "Except McCoy and **CAPALDI**.\n",
      "And early Troughton.\n",
      "And as everything else is also unwatched - 'Britain's Got Talent' only pulled a million more than the Easter episode - ratngs matter less than position in the charts and recent stories have done better than alleged 'all tme classics'.\n",
      "\n",
      "##MARKYWILLIAM\n",
      "https://discussion.theguardian.com/comment-permalink/156334465\n",
      "https://profile.theguardian.com/user/id/10771465\n",
      "\n",
      "Um, I don't recall Whittaker being \"the latest top comic\".Neither do I recall that being true of **CAPALDI**.Or Smith.Or Tennant.\n",
      "Which \"latest top comic\" are you talking about?\n",
      "\n",
      "##BASILIDES\n",
      "https://discussion.theguardian.com/comment-permalink/156338998\n",
      "https://profile.theguardian.com/user/id/17015744\n",
      "\n",
      "1. Pertwee2. Smith3. Troughton4. Tom Baker5. **CAPALDI**6. Hartnell7. Ecclestone8. Tennant9. Whitaker10. McGann11. McCoy12. Colin Baker13. Davison\n",
      "\n",
      "##GOBSHEISSE\n",
      "https://discussion.theguardian.com/comment-permalink/156334801\n",
      "https://profile.theguardian.com/user/id/13092801\n",
      "\n",
      "Bring back Peter **CAPALDI** as Dr who merged with his character from 'the thick of it'. \n",
      "That'll liven things up\n",
      "\n",
      "##PETER272\n",
      "https://discussion.theguardian.com/comment-permalink/156339260\n",
      "https://profile.theguardian.com/user/id/100295045\n",
      "\n",
      "All he needs is some half-decent scripts, the lack of which saw off Peter **CAPALDI**\n"
     ]
    }
   ],
   "source": [
    "target = 'decolon'\n",
    "target = 'science'\n",
    "target = 'irish'\n",
    "target = 'mandela'\n",
    "target = 'abolit'\n",
    "target = 'whittaker'\n",
    "target = 'capaldi'\n",
    "\n",
    "\n",
    "xx = [x for x in all_comments if target.lower() in x.lower() and  len(x) > 20]\n",
    "yy = [x for x in all_comments if '#pin' in x.lower() and 2000 > len(x) > 20]\n",
    "\n",
    "#print('\\n\\n'.join( ['\\n\\n'.join(x) for x in zip(xx,yy)])  )\n",
    "\n",
    "#print( '\\n\\n'.join(xx).replace(target, ) )\n",
    "pxx = re.compile(target, re.I)\n",
    "print( pxx.sub('**' + target.upper() + '**', \n",
    "              '\\n\\n'.join(xx)) )\n",
    "               \n",
    "#print( '\\n\\n'.join(xx) )\n"
   ]
  },
  {
   "cell_type": "code",
   "execution_count": 20,
   "metadata": {},
   "outputs": [
    {
     "data": {
      "text/plain": [
       "0.7820401046207497"
      ]
     },
     "execution_count": 20,
     "metadata": {},
     "output_type": "execute_result"
    }
   ],
   "source": [
    "(26/31) / (74/69)"
   ]
  },
  {
   "cell_type": "code",
   "execution_count": 64,
   "metadata": {},
   "outputs": [
    {
     "data": {
      "text/plain": [
       "529"
      ]
     },
     "execution_count": 64,
     "metadata": {},
     "output_type": "execute_result"
    }
   ],
   "source": [
    "23**2"
   ]
  },
  {
   "cell_type": "markdown",
   "metadata": {},
   "source": [
    "## "
   ]
  },
  {
   "cell_type": "code",
   "execution_count": 21,
   "metadata": {},
   "outputs": [
    {
     "data": {
      "text/plain": [
       "211"
      ]
     },
     "execution_count": 21,
     "metadata": {},
     "output_type": "execute_result"
    }
   ],
   "source": [
    "84 + 127"
   ]
  },
  {
   "cell_type": "code",
   "execution_count": 24,
   "metadata": {},
   "outputs": [
    {
     "data": {
      "text/plain": [
       "1.2842073077511085"
      ]
     },
     "execution_count": 24,
     "metadata": {},
     "output_type": "execute_result"
    }
   ],
   "source": [
    "84/211/.31"
   ]
  },
  {
   "cell_type": "code",
   "execution_count": 25,
   "metadata": {},
   "outputs": [
    {
     "data": {
      "text/plain": [
       "0.8723126588364586"
      ]
     },
     "execution_count": 25,
     "metadata": {},
     "output_type": "execute_result"
    }
   ],
   "source": [
    "127/211/.69"
   ]
  },
  {
   "cell_type": "code",
   "execution_count": 26,
   "metadata": {},
   "outputs": [
    {
     "data": {
      "text/plain": [
       "1.471264367816092"
      ]
     },
     "execution_count": 26,
     "metadata": {},
     "output_type": "execute_result"
    }
   ],
   "source": [
    "1.28/.87"
   ]
  },
  {
   "cell_type": "code",
   "execution_count": null,
   "metadata": {},
   "outputs": [],
   "source": []
  }
 ],
 "metadata": {
  "kernelspec": {
   "display_name": "NLP",
   "language": "python",
   "name": "nlp"
  },
  "language_info": {
   "codemirror_mode": {
    "name": "ipython",
    "version": 3
   },
   "file_extension": ".py",
   "mimetype": "text/x-python",
   "name": "python",
   "nbconvert_exporter": "python",
   "pygments_lexer": "ipython3",
   "version": "3.8.5"
  },
  "widgets": {
   "application/vnd.jupyter.widget-state+json": {
    "state": {},
    "version_major": 2,
    "version_minor": 0
   }
  }
 },
 "nbformat": 4,
 "nbformat_minor": 4
}
