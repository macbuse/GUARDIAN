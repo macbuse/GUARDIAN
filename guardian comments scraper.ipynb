{
 "cells": [
  {
   "cell_type": "raw",
   "metadata": {},
   "source": [
    "# Basic scraping for Guardian discussions u"
   ]
  },
  {
   "cell_type": "code",
   "execution_count": null,
   "metadata": {},
   "outputs": [],
   "source": [
    "! ./.g\n"
   ]
  },
  {
   "cell_type": "code",
   "execution_count": 1,
   "metadata": {},
   "outputs": [
    {
     "name": "stdout",
     "output_type": "stream",
     "text": [
      " 8djv8.pkl                            kqqtv.pkl\n",
      " 94f6b.pkl                            kv6n2.pkl\n",
      " afuahirsch.csv                       kvf22.pkl\n",
      " davidsmith.csv                       liberation_femicide.ipynb\n",
      " edt72.pkl                            links_2020_8.txt\n",
      " eghyd.pkl                            links.txt\n",
      " egqhf.pkl                            matplotlib.ipynb\n",
      " ej7f5.pkl                            nickcohen.csv\n",
      " ejdxt.pkl                            \u001b[0m\u001b[01;35mNone0000000.png\u001b[0m\n",
      " et8zg.pkl                            owen-jones.csv\n",
      " etenk.pkl                            quad_forms.ipynb\n",
      " eyhx8.pkl                            README.md\n",
      " eytkx.pkl                            rebeccasolnit.csv\n",
      " f3ke9.pkl                            simontisdall.csv\n",
      " f4a3q.pkl                            tags\n",
      " f4vfe.pkl                            tbca8.pkl\n",
      " failed.txt                           tdvxp.pkl\n",
      " femicides2.csv                       te5tn.pkl\n",
      " femicides3.csv                       tedzk.pkl\n",
      " femicides.csv                        tfmxg.pkl\n",
      " fvkbb.pkl                            tfy7d.pkl\n",
      " gabyhinsliff.csv                     tgaxq.pkl\n",
      " gn7h4.pkl                            tgqq8.pkl\n",
      " goose_test_editorialis_miner.ipynb   tgxqd.pkl\n",
      "'guardian api and comments.ipynb'     tmp.txt\n",
      " guardian_api_prod.ipynb              transgender.csv\n",
      "'guardian comments scraper.ipynb'     \u001b[01;35mtt.jpg\u001b[0m\n",
      " guardian_extractor.ipynb             \u001b[01;35mtt.png\u001b[0m\n",
      " guardian_nlp.ipynb                   y57xb.pkl\n",
      " guardian_photo.ipynb                 y5kne.pkl\n",
      " h2tzt.pkl                            y6tvn.pkl\n",
      " h44zn.pkl                            y7f2f.pkl\n",
      " h452h.pkl                            y829j.pkl\n",
      " h4cq2.pkl                            y875b.pkl\n",
      " h5j4n.pkl                            y87zm.pkl\n",
      " h6v39.pkl                            y8h4q.pkl\n",
      " h8qmd.pkl                            y98ff.pkl\n",
      " hbc2e.pkl                            y99zz.pkl\n",
      " hbe5y.pkl                            yaa2q.pkl\n",
      " hvg6j.pkl                            yaedy.pkl\n",
      " hvpq8.pkl                            yavg9.pkl\n",
      " jnntf.pkl                            yb8ez.pkl\n",
      " jz8nk.pkl                            ybxgx.pkl\n",
      " k2dza.pkl                            yddvx.pkl\n",
      " k4vhe.pkl                            ye5m7.pkl\n",
      " k9va7.pkl                            yjvf7.pkl\n",
      " kdxb7.pkl                            ymmym.pkl\n",
      " kfgzx.pkl                            yvv24.pkl\n",
      " kphq4.pkl                            yx7cz.pkl\n",
      " kpxyb.pkl                            yy437.pkl\n"
     ]
    }
   ],
   "source": [
    "ls\n"
   ]
  },
  {
   "cell_type": "code",
   "execution_count": null,
   "metadata": {},
   "outputs": [],
   "source": [
    "with open('guardian comments scraper.ipynb','r') as fp:\n",
    "    nb = fp.read()"
   ]
  },
  {
   "cell_type": "code",
   "execution_count": 60,
   "metadata": {},
   "outputs": [],
   "source": [
    "import re\n",
    "\n",
    "pp = re.compile(\"(https://www.the.*?)'\")\n",
    "lks = pp.findall(nb)\n",
    "\n",
    "with open('links.txt','a') as fp:\n",
    "    fp.write('\\n'.join(lks))"
   ]
  },
  {
   "cell_type": "code",
   "execution_count": 1,
   "metadata": {},
   "outputs": [],
   "source": [
    "import re \n",
    "import requests\n",
    "import pickle\n",
    "import json"
   ]
  },
  {
   "cell_type": "code",
   "execution_count": 9,
   "metadata": {},
   "outputs": [],
   "source": [
    "article_url = 'https://www.theguardian.com/commentisfree/2020/aug/19/ditch-the-algorithm-generation-students-a-levels-politics'\n",
    "article_url = 'https://www.theguardian.com/commentisfree/2020/aug/21/joe-biden-democrat-convention-nice-guy-trump-fight'\n",
    "article_url = 'https://www.theguardian.com/commentisfree/2020/aug/23/the-cruel-exams-algorithm-has-laid-bare-the-unfairness-at-the-heart-of-our-schools'\n",
    "article_url = 'https://www.theguardian.com/commentisfree/2020/sep/01/us-mainstream-right-vigilante-terror'\n",
    "article_url = 'https://www.theguardian.com/commentisfree/2020/aug/31/politicians-covid-19-statistics-statisticians'\n",
    "article_url = 'https://www.theguardian.com/commentisfree/2021/apr/14/boris-johnson-is-telling-scotland-that-the-union-is-no-longer-based-on-consent'\n",
    "article_url = 'https://www.theguardian.com/commentisfree/2021/may/10/retail-politics-movements-polarising-projects-promise'"
   ]
  },
  {
   "cell_type": "code",
   "execution_count": 11,
   "metadata": {},
   "outputs": [],
   "source": [
    "article_url = 'https://www.theguardian.com/commentisfree/2020/sep/29/rival-scientists-lockdowns-scientific-covid-19'\n",
    "article_url = 'https://www.theguardian.com/commentisfree/2020/oct/08/johnson-and-sturgeon-will-need-a-better-philosophy-than-precaution-to-rid-us-of-covid'\n",
    "article_url = 'https://www.theguardian.com/commentisfree/2020/oct/10/continual-local-lockdowns-answer-covid-control'\n",
    "article_url = 'https://www.theguardian.com/commentisfree/2020/oct/11/the-rebel-scientists-cause-would-be-more-persuasive-if-it-werent-so-half-baked'\n",
    "\n",
    "article_url = 'https://www.theguardian.com/commentisfree/2021/apr/03/undermining-the-astrazeneca-jab-is-a-dangerous-act-of-political-folly#comment-148440261'\n",
    "article_url = 'https://www.theguardian.com/commentisfree/2021/apr/09/boris-johnson-brexit-belfast-violence-eu-good-friday-agreement'\n",
    "article_url ='https://www.theguardian.com/commentisfree/2021/apr/02/culture-war-government-race-report'\n",
    "article_url = 'https://www.theguardian.com/commentisfree/2021/mar/18/britain-sunny-vaccine-optimism-april-delivery-delay'\n",
    "article_url ='https://www.theguardian.com/commentisfree/2021/apr/14/boris-johnson-is-telling-scotland-that-the-union-is-no-longer-based-on-consent'\n",
    "article_url = 'https://www.theguardian.com/commentisfree/2021/apr/15/britain-harness-social-sciences-covid-pandemic-deprivation'\n",
    "article_url = 'https://www.theguardian.com/commentisfree/2021/apr/16/government-race-report-evidence#comment-148662066'\n",
    "article_url ='https://www.theguardian.com/commentisfree/2021/apr/20/britain-falling-birthrate-covid-pandemic-conservatives-removed-support-for-parents'\n",
    "article_url = 'https://www.theguardian.com/commentisfree/2021/apr/21/bmi-eating-disorder-pandemic-treatment'\n",
    "article_url = 'https://www.theguardian.com/commentisfree/2021/apr/30/government-delays-covid-public-inquiry-health-crisis'\n",
    "article_url = 'https://www.theguardian.com/commentisfree/2021/may/07/humiliation-hartlepool-smalltown-detective-di-starmer'\n",
    "article_url ='https://www.theguardian.com/commentisfree/2021/aug/06/uk-government-experts-vaccinating-under-16s'\n",
    "article_url = 'https://www.theguardian.com/commentisfree/2021/aug/01/there-is-a-case-for-vaccine-passports-but-ministers-are-failing-to-make-it'\n",
    "article_url = 'https://www.theguardian.com/commentisfree/2021/aug/09/america-is-flying-blind-when-it-comes-to-the-delta-variant'\n",
    "article_url = 'https://www.theguardian.com/commentisfree/2021/aug/10/covid-vaccines-britain-scientific-solution-jabs'\n",
    "article_url = 'https://www.theguardian.com/commentisfree/2021/aug/13/denial-anti-vaxxers-climate-sceptics'\n",
    "article_url = 'https://www.theguardian.com/commentisfree/2018/apr/11/bbc-andrew-neil-media-politics'\n",
    "\n",
    "article_url = 'https://www.theguardian.com/commentisfree/2021/aug/15/vaccine-passports-are-less-a-threat-to-liberty-than-a-mark-of-solidarity'\n",
    "article_url = 'https://www.theguardian.com/theobserver/commentisfree/2021/aug/14/will-we-reach-herd-immunity-for-the-new-coronavirus'\n",
    "article_url = 'https://www.theguardian.com/commentisfree/2021/aug/15/vaccine-hesitancy-broken-relationship-state-conspiracy-theorists'\n",
    "article_url = 'https://www.theguardian.com/commentisfree/2021/aug/17/dominic-raab-news-foreign-secretary-taliban-kabul'\n",
    "article_url= 'https://www.theguardian.com/commentisfree/2021/dec/11/so-which-of-these-politicians-is-a-neoliberal-not-one-of-them'\n",
    "\n",
    "article_url = 'https://www.theguardian.com/commentisfree/2021/dec/12/omicron-is-sneaky-it-could-be-fatal-for-us-or-for-our-faith-in-government'"
   ]
  },
  {
   "cell_type": "code",
   "execution_count": 13,
   "metadata": {},
   "outputs": [],
   "source": [
    "article_url ='https://www.theguardian.com/commentisfree/2021/dec/06/google-silicon-valley-ai-timnit-gebru'\n",
    "article_url = 'https://www.theguardian.com/commentisfree/2021/dec/20/rightwingers-us-social-change-coming'\n",
    "article_url = 'https://www.theguardian.com/commentisfree/2021/dec/22/omicron-covid-restrictions-young-people'\n",
    "article_url = 'https://www.theguardian.com/politics/2022/jan/01/sir-tim-brighouse-many-hold-gove-responsible-expert-educator-sets-out-whats-gone-wrong-with-britains-schools'\n",
    "article_url ='https://www.theguardian.com/commentisfree/2022/jan/10/colston-four-britain-apology-for-past'\n",
    "article_url = 'https://www.theguardian.com/commentisfree/2022/jan/21/democrats-shape-up-bidens-presidency-trumpian-sequel'\n",
    "article_url = 'https://www.theguardian.com/commentisfree/2022/jan/28/joe-rogan-neil-young-spotify-streaming-service'"
   ]
  },
  {
   "cell_type": "code",
   "execution_count": 7,
   "metadata": {},
   "outputs": [],
   "source": [
    "article_url = 'https://www.theguardian.com/commentisfree/2022/mar/04/ukraine-eu-membership-zelenskiy-european-values-war'\n",
    "article_url = 'https://www.theguardian.com/commentisfree/2022/feb/27/liberal-democracies-must-defend-their-values-and-show-putin-that-the-west-isnt-weak'\n",
    "article_url = 'https://www.theguardian.com/commentisfree/2022/mar/06/progress-women-international-womens-day-labour-party'\n",
    "article_url = 'https://www.theguardian.com/commentisfree/2022/mar/09/vladimir-putin-west-downfall-dictator-democracies'\n",
    "article_url = 'https://www.theguardian.com/commentisfree/2022/mar/26/britain-clocks-go-forward-eu-us-hour-changes'\n",
    "article_url = 'https://www.theguardian.com/commentisfree/2022/mar/27/for-brazen-cynicism-i-have-seen-nothing-like-sunaks-plan-in-40-years'"
   ]
  },
  {
   "cell_type": "code",
   "execution_count": 2,
   "metadata": {},
   "outputs": [],
   "source": [
    "article_url = 'https://www.theguardian.com/commentisfree/2022/apr/01/straight-women-tv-shows-lesbians-sally-wainwright'\n",
    "article_url ='https://www.theguardian.com/commentisfree/2022/apr/06/united-nations-putin-ukraine-catastrophic'\n",
    "article_url = 'https://www.theguardian.com/commentisfree/2022/apr/10/stench-entitlement-now-oozing-from-rishi-sunaks-home-as-well-as-boris-johnsons'\n",
    "article_url = 'https://www.theguardian.com/commentisfree/2022/apr/10/orban-le-pen-voters-sening-chill-message-to-europes-beleagured-centre'\n",
    "article_url = 'https://www.theguardian.com/commentisfree/2022/apr/11/france-populism-gaining-ground-revolution'\n",
    "\n",
    "article_url = 'https://www.theguardian.com/commentisfree/2022/apr/12/herd-immunity-covid-reinfection-virus-world'\n",
    "article_url = 'https://www.theguardian.com/commentisfree/2022/apr/17/whoever-ends-up-in-elysee-palace-europeanism-is-already-on-the-way-out'\n",
    "article_url = 'https://www.theguardian.com/commentisfree/2022/apr/17/nato-should-talk-less-and-do-more-or-ukraine-will-be-torn-apart-bit-by-bit'\n",
    "article_url = 'https://www.theguardian.com/commentisfree/2022/apr/20/france-emmanuel-macron-president-far-right-marine-le-pen'\n",
    "article_url ='https://www.theguardian.com/commentisfree/2022/apr/23/france-vote-le-pen-macron-tv-debate-far-right'\n",
    "article_url = 'https://www.theguardian.com/commentisfree/2022/apr/22/hips-dont-lie-liam-gallagher-replacement-surgery-older-bodies'\n",
    "\n",
    "article_url = 'https://www.theguardian.com/commentisfree/2022/apr/25/french-left-emmanuel-macron-marine-le-pen-far-right-president'\n",
    "article_url = 'https://www.theguardian.com/commentisfree/2022/may/09/ncuti-gatwa-doctor-who-jodie-whittaker-whovians'\n",
    "article_url = 'https://www.theguardian.com/world/commentisfree/2022/apr/28/france-election-divide-campaign-split'\n",
    "\n",
    "article_url ='https://www.theguardian.com/commentisfree/2022/may/13/phone-north-sea-rebekah-vardy-coleen-rooney-libel-case'\n",
    "\n",
    "article_url = 'https://www.theguardian.com/commentisfree/2022/jun/09/west-victory-in-ukraine-escalation-war'\n",
    "article_url = 'https://www.theguardian.com/commentisfree/2022/jun/24/overturning-roe-story-is-women-unfreedom'\n",
    "article_url = 'https://www.theguardian.com/commentisfree/2022/jul/01/nicola-sturgeon-independence-referendum-britain'\n",
    "article_url = 'https://www.theguardian.com/commentisfree/2022/jul/11/would-be-mothers-parent-solo-dating-apps-children'"
   ]
  },
  {
   "cell_type": "code",
   "execution_count": null,
   "metadata": {},
   "outputs": [],
   "source": [
    "\n",
    "\n",
    "key = my_keys.keys['guardian']"
   ]
  },
  {
   "cell_type": "code",
   "execution_count": 3,
   "metadata": {},
   "outputs": [
    {
     "name": "stdout",
     "output_type": "stream",
     "text": [
      "/p/yydf9\n",
      "getting comments page no. 1\n",
      "there are 5 pages\n",
      "getting comments page no. 2\n",
      "getting comments page no. 3\n",
      "getting comments page no. 4\n",
      "getting comments page no. 5\n",
      "archiving to yydf9.pkl\n"
     ]
    }
   ],
   "source": [
    "#scrape the page and get the short url\n",
    "# 15/8/21  this failed and gave /p/temp\n",
    "short_url_pp =  re.compile('\"shortUrlId\":\"(.*?)\"')\n",
    "\n",
    "r = requests.get(article_url)\n",
    "mm = short_url_pp.search(r.text)\n",
    "short_url = mm.group(1)\n",
    "uu = r.text\n",
    "print(short_url)\n",
    "\n",
    "#the short url allows us to access the discussion\n",
    "# 15/8/21 api.nextgen.guardianapps.co.uk/discussion/ failed on \n",
    "# https://discussion.theguardian.com/discussion-api/discussion/p/tfmxg\n",
    "comments_url = 'https://api.nextgen.guardianapps.co.uk/discussion/%s.json'%short_url\n",
    "params = {'orderBy' : 'newest',\n",
    "          'pageSize' : 25,\n",
    "          'displayThreaded' : 'true',\n",
    "          'commentsClosed' : 'false',\n",
    "          'page' : '',\n",
    "          'maxResponses' : 50\n",
    "         }\n",
    "\n",
    "json_data =  []\n",
    "start_page  = 1\n",
    "last_page = None\n",
    "\n",
    "\n",
    "for num_page in range(start_page, 10**4):\n",
    "    print('getting comments page no.', num_page)\n",
    "    params['page'] = num_page\n",
    "    r = requests.get( comments_url, params=params)\n",
    "    json_data.append( r.text)\n",
    "    #The last page is a field in the json object\n",
    "    #I don't need to read this as json I could do a regexp\n",
    "    if num_page == start_page:\n",
    "        json_dict = json.loads(r.text)\n",
    "        last_page = json_dict['lastPage']\n",
    "        print('there are %d pages'%last_page)\n",
    "    if num_page == last_page : break\n",
    "        \n",
    "\n",
    "fn = '%s.pkl'%short_url.split('/')[-1]\n",
    "print('archiving to %s'%fn)\n",
    "with open(fn,'wb') as fp:\n",
    "    pickle.dump(json_data,fp)"
   ]
  },
  {
   "cell_type": "code",
   "execution_count": 2,
   "metadata": {},
   "outputs": [],
   "source": [
    "import pickle\n",
    "\n",
    "json_data = pickle.load(open('k4vhe.pkl','rb'))"
   ]
  },
  {
   "cell_type": "markdown",
   "metadata": {},
   "source": [
    "---\n",
    "\n",
    "## remember each page of comments has been stored separately"
   ]
  },
  {
   "cell_type": "code",
   "execution_count": 9,
   "metadata": {},
   "outputs": [
    {
     "data": {
      "text/plain": [
       "14"
      ]
     },
     "execution_count": 9,
     "metadata": {},
     "output_type": "execute_result"
    }
   ],
   "source": [
    "dd = json.loads(json_data[0])\n",
    "len(json_data)"
   ]
  },
  {
   "cell_type": "code",
   "execution_count": 19,
   "metadata": {},
   "outputs": [
    {
     "data": {
      "text/plain": [
       "'\\n<div class=\"d-discussion d-discussion--recommendations-open u-cf\"\\n     data-read-only=\"false\" >\\n\\n    \\n    \\n        <div class=\"d-discussion__size-message\">\\n            Due to the large number of comments, they are being shown 100 per page.\\n        </div>\\n    \\n\\n\\n    <ul class=\"d-thread d-thread--comments js-new-comments\">\\n\\n        \\n            \\n\\n<li class=\"d-comment\\n            d-comment--top-level d-comment-staff\"\\n           id=\"comment-154007965\"\\n           data-comment-id=\"154007965\"\\n           data-comment-author=\"CommunityMod\"\\n           data-comment-replies=\"0\"\\n           data-comment-timestamp=\"2022-01-01T18:00:47.000Z\"\\n           data-comment-author-id=\"2902769\"\\n           data-comment-highlighted=\"false\"\\n           itemscope itemtype=\"http://schema.org/Comment\">\\n\\n    <div class=\"d-comment__inner d-comment__inner--top-level\">\\n        <div class=\"d-comment__meta\">\\n            <span class=\"d-comment__avatar-wrapper\">\\n                <img src=\"https://avatar.guim.co.uk/user/2902769\" alt=\"\" class=\"d-comment__avatar\"/>\\n            </span>\\n            <div class=\"d-comment__meta-text\">\\n                <span\\n                    itemscope\\n                    itemprop=\"author\"\\n                    itemtype=\"http://schema.org/Person\"\\n                    title=\"CommunityMod\"\\n                    class=\"d-comment__author\">\\n                    <a href=\"https://profile.theguardian.com/user/id/2902769\" itemprop=\"url\">\\n                        <span itemprop=\"givenName\">CommunityMod</span>\\n                    </a>\\n                </span>\\n\\n                \\n                <div class=\"d-comment__timestamp\">\\n                    <a href=\"https://discussion.theguardian.com/comment-permalink/154007965\" class=\"d-comment__timestamp block-time\">\\n                        <time class=\"js-timestamp\" itemprop=\"dateCreated\"\\n                            datetime=\"2022-01-01T18:00:47Z\"\\n                            data-timestamp=\"1641060047000\" data-relativeformat=\"med\"\\n                            title=\"Permalink to this comment (1 Jan 2022 18:00)\">1 Jan 2022 18:00</time>\\n                        \\n\\n<span  class=\"inline-comment-anchor inline-icon \" >\\n    \\n        <svg width=\"15\" height=\"15\" viewbox=\"0 0 15 15\" class=\"inline-comment-anchor__svg inline-icon__svg\">\\n <path fill=\"#898989\" d=\"M5.725 13.348a2.563 2.563 0 0 1-3.699-3.547l8.424-8.79a1.921 1.921 0 0 1 2.776 2.658l-6.894 7.193a1.277 1.277 0 0 1-1.812.038 1.28 1.28 0 0 1-.04-1.81l5.324-5.553.337.321-5.325 5.555a.815.815 0 0 0 1.175 1.128l6.896-7.193a1.456 1.456 0 0 0-2.101-2.015l-8.427 8.79a2.102 2.102 0 0 0 .063 2.965 2.098 2.098 0 0 0 2.965-.062l6.853-7.152.338.323-6.853 7.151z\" />\\n</svg>\\n    \\n</span>\\n\\n                    </a>\\n                </div>\\n\\n                \\n    <div class=\"d-comment__author-label\">\\n        \\n\\n<span  class=\"inline-marque-36 inline-icon d-comment__gu-icon\" >\\n    \\n        <svg width=\"36\" height=\"36\" viewbox=\"0 0 36 36\" class=\"d-comment__gu-icon__svg inline-marque-36__svg inline-icon__svg\">\\n <path d=\"M18 0a18 18 0 1 0 0 36 18 18 0 0 0 0-36\" />\\n <path fill=\"#FFF\" d=\"M21.2 4.4c2.3.4 5.3 2 6.3 3.1v5.2H27L21.2 5v-.6zm-2.2.4c-4 0-6.3 5.6-6.3 13.2 0 7.7 2.2 13.3 6.3 13.3v.6c-6 .4-14.4-4.2-14-13.8A13.3 13.3 0 0 1 19 4v.7zm10.4 14.4-1.9.9v8.6c-1 1-3.8 2.6-6.3 3.1V19.9l-2.2-.7v-.6h10.4v.6z\" />\\n</svg>\\n    \\n</span>\\n Staff\\n    </div>\\n\\n\\n\\n                \\n            </div>\\n        </div>\\n\\n        <div class=\"d-comment__content\">\\n\\n             \\n                <div\\n                    class=\"d-comment__recommend js-recommend-comment\"\\n                    data-comment-id=\"154007965\"\\n                    data-comment-url=\"https://discussion.theguardian.com/comment-permalink/154007965\"\\n                    data-user-id=\"2902769\"\\n                    data-recommend-count=\"1\"\\n                    title=\"1 recommendations\">\\n                    <button class=\"u-button-reset d-comment__recommend-button rounded-icon\" data-link-name=\"Recommend comment\" >\\n                        <span class=\"d-comment__recommend-pulse\"></span>\\n                        \\n\\n<span  class=\"inline-arrow-up-white inline-icon \" >\\n    \\n        <svg height=\"14\" width=\"15\" class=\"inline-arrow-up-white__svg inline-icon__svg\">\\n <path d=\"m.5 7 5.25-4.5V14h1.5V2.5L12.5 7l.5-1-5.75-6h-1.5L0 6l.5 1Z\" />\\n</svg>\\n    \\n</span>\\n\\n                    </button>\\n                    <span class=\"d-comment__recommend-count js-recommend-count\">\\n                        <span class=\"d-comment__recommend-count--old\">1</span>\\n                        <span class=\"d-comment__recommend-count--new\">2</span>\\n                    </span>\\n                </div>\\n            \\n\\n            <div class=\"d-comment__main \">\\n\\n                <div class=\"d-comment__body\" itemprop=\"text\">\\n                    \\n                        \\n                            <p>Comments will close here at 18:15 GMT.</p>\\n                        \\n                    \\n                </div>\\n                \\n                    <div class=\"d-comment__actions d-comment__actions--left modern-visible\">\\n                        <a class=\"d-comment__action d-comment__action--reply\" href=\"https://profile.theguardian.com/signin?returnUrl=https://discussion.theguardian.com/comment-permalink/154007965&componentEventParams=componentType%3Didentityauthentication%26componentId%3Dsignin_to_reply_comment\"\\n                                data-link-name=\"reply to comment\" data-comment-id=\"154007965\" role=\"button\">\\n                            \\n\\n<span  class=\"inline-reply inline-icon blue\" >\\n    \\n        <svg width=\"18\" height=\"18\" class=\"blue__svg inline-reply__svg inline-icon__svg\">\\n <path d=\"m10.1 5 .9-1 4 4.5v1L11 14l-.9-1 2.5-3H4L3 9V6.5h2V8h7.6l-2.5-3z\" />\\n</svg>\\n    \\n</span>\\n\\n                            Reply\\n                        </a>\\n\\n                        \\n                            \\n<div class=\"d-comment__action d-comment__action--share\">\\n\\n    <div class=\"sharing-text\">\\n\\n<span  class=\"inline-share inline-icon comment-share-icon\" >\\n    \\n        <svg width=\"12\" height=\"12\" viewbox=\"0 0 12 12\" class=\"comment-share-icon__svg inline-share__svg inline-icon__svg\">\\n <path d=\"M10.073 8.4c-.475 0-.906.19-1.225.497L3.54 6.221 3.555 6l-.015-.221 5.308-2.676c.319.308.75.497 1.225.497.982 0 1.778-.806 1.778-1.8S11.055 0 10.073 0 8.295.806 8.295 1.8l.016.233-5.299 2.675a1.762 1.762 0 0 0-1.236-.507c-.982 0-1.778.806-1.778 1.8s.796 1.8 1.778 1.8c.48 0 .915-.194 1.236-.507l5.299 2.675-.016.233c0 .994.796 1.8 1.778 1.8s1.778-.806 1.778-1.8-.796-1.8-1.778-1.8zm0-7.68c.588 0 1.067.484 1.067 1.08 0 .596-.479 1.08-1.067 1.08S9.006 2.396 9.006 1.8c0-.596.479-1.08 1.067-1.08zm0 10.56a1.075 1.075 0 0 1-1.067-1.08c0-.596.479-1.08 1.067-1.08s1.067.484 1.067 1.08c0 .596-.479 1.08-1.067 1.08z\" />\\n</svg>\\n    \\n</span>\\n <span>Share</span></div>\\n\\n    <div class=\"sharing-buttons\" data-link-name=\"comment social\">\\n    \\n        \\n            \\n\\n        <a href=\"https://www.facebook.com/dialog/share?app_id=180444840287&amp;href=https%3A%2F%2Fdiscussion.theguardian.com%2Fcomment-permalink%2F154007965&amp;quote=CommunityMod%20commented%3A%20%22Comments%20will%20close%20here%20at%2018%3A15%20GMT.%22\"\\n        target=\"_blank\"\\n        class=\"social__action social-icon-wrapper\"\\n        data-link-name=\"social-comment : facebook\">\\n            <span class=\"inline-icon__fallback button\">\\n                Share on Facebook</span>\\n            \\n\\n<span  class=\"inline-share-facebook inline-icon rounded-icon social-icon centered-icon social-icon--facebook comment-facebook-icon\" >\\n    \\n        <svg width=\"32\" height=\"32\" viewbox=\"-2 -2 32 32\" class=\"rounded-icon__svg social-icon__svg centered-icon__svg social-icon--facebook__svg comment-facebook-icon__svg inline-share-facebook__svg inline-icon__svg\">\\n <path d=\"M17.9 14h-3v8H12v-8h-2v-2.9h2V8.7C12 6.8 13.1 5 16 5c1.2 0 2 .1 2 .1v3h-1.8c-1 0-1.2.5-1.2 1.3v1.8h3l-.1 2.8z\" />\\n</svg>\\n    \\n</span>\\n\\n            <span class=\"u-h\">Facebook</span>\\n        </a>\\n    \\n\\n            \\n            \\n                \\n\\n        <a href=\"https://tw'"
      ]
     },
     "execution_count": 19,
     "metadata": {},
     "output_type": "execute_result"
    }
   ],
   "source": [
    "xx = json.loads(json_data[0])\n",
    "xx['commentsHtml'][:8000]"
   ]
  },
  {
   "cell_type": "code",
   "execution_count": null,
   "metadata": {},
   "outputs": [],
   "source": [
    "https://discussion.theguardian.com/comment-permalink/154003870"
   ]
  },
  {
   "cell_type": "code",
   "execution_count": 136,
   "metadata": {},
   "outputs": [
    {
     "name": "stdout",
     "output_type": "stream",
     "text": [
      " class=\"d-comment\n",
      "            d-comment--top-level\"\n",
      "           id=\"comment-144422422\"\n",
      "           data-comment-id=\"144422422\"\n",
      "           data-comment-author=\"Hushing\"\n",
      "           data-comment-replies=\"0\"\n",
      "           data-comment-timestamp=\"2020-10-11T14:25:06.000+01:00\"\n",
      "           data-comment-author-id=\"12407494\"\n",
      "           data-comment-highlighted=\"false\"\n",
      "           itemscope itemtype=\"http://schema.org/Comment\">\n",
      "\n",
      "    <div class=\"d-comment__inner d-comment__inner--top-level\">\n",
      "        <div class=\"\n"
     ]
    }
   ],
   "source": [
    "print( xx['commentsHtml'][200:700])"
   ]
  },
  {
   "cell_type": "code",
   "execution_count": 8,
   "metadata": {},
   "outputs": [],
   "source": [
    "pa = re.compile('data-comment-author=\"(.*?)\"')\n",
    "pid = re.compile('data-comment-author-id=\"(\\d+)')\n",
    "pcid = re.compile('\\sid=\"comment-(.*?)\"')\n",
    "pp = re.compile('<li class=\"d-comment(.*?)>',re.DOTALL)\n",
    "\n",
    "auths = []\n",
    "md = []\n",
    "for xx in json_data:\n",
    "    hh = json.loads(xx)['commentsHtml']\n",
    "    auths.extend(list( zip(pa.findall(hh), \n",
    "                           pid.findall(hh)\n",
    "                          )))\n",
    "    md.extend(pp.findall(hh))\n",
    "\n",
    "auths = list(set(auths))\n",
    "auths.sort(key=lambda x : x[0].lower())\n"
   ]
  },
  {
   "cell_type": "code",
   "execution_count": 10,
   "metadata": {},
   "outputs": [
    {
     "data": {
      "text/plain": [
       "[('123654a', '14312750'),\n",
       " ('1key2kan', '104749605'),\n",
       " ('1Love1Heart', '100796168'),\n",
       " ('45022', '3426044'),\n",
       " ('48percenter', '2847558'),\n",
       " ('Abedonders', '3883075'),\n",
       " ('abstrusus', '15533337'),\n",
       " ('adamvarhy', '106853452'),\n",
       " ('ade1973', '14874802'),\n",
       " ('AlexanderGH', '4503360')]"
      ]
     },
     "execution_count": 10,
     "metadata": {},
     "output_type": "execute_result"
    }
   ],
   "source": [
    "auths[:10]"
   ]
  },
  {
   "cell_type": "code",
   "execution_count": 102,
   "metadata": {},
   "outputs": [],
   "source": [
    "#print( '\\n'.join([x for x in md if 'pinkie' in x.lower()]))"
   ]
  },
  {
   "cell_type": "markdown",
   "metadata": {},
   "source": [
    "https://discussion.theguardian.com/comment-permalink/144375739"
   ]
  },
  {
   "cell_type": "code",
   "execution_count": 8,
   "metadata": {},
   "outputs": [],
   "source": [
    "auths = dict(auths)"
   ]
  },
  {
   "cell_type": "code",
   "execution_count": 13,
   "metadata": {},
   "outputs": [
    {
     "data": {
      "text/plain": [
       "'https://api.nextgen.guardianapps.co.uk/discussion//p/yydf9.json'"
      ]
     },
     "execution_count": 13,
     "metadata": {},
     "output_type": "execute_result"
    }
   ],
   "source": [
    "comments_url"
   ]
  },
  {
   "cell_type": "code",
   "execution_count": null,
   "metadata": {},
   "outputs": [],
   "source": [
    "from bs4 import BeautifulSoup\n",
    "import lxml\n",
    "\n",
    "def html2comments(x):\n",
    "    tt = json.loads(x)\n",
    "    soup = BeautifulSoup(tt['commentsHtml'],  \"lxml\")\n",
    "    raw = [ comment.text for comment in  \n",
    "            soup.findAll('div', {'class' : \"d-comment__body\"}) ]\n",
    "    \n",
    "    metadata = soup.findAll('span', {'class' : \"d-comment__author\"})\n",
    "    \n",
    "    \n",
    "    auth = [ x.text.upper().strip() for x in metadata]\n",
    "    auth_id = [ x.find('a')['href'] for x in metadata]\n",
    "    #this was a pain to do really\n",
    "    #the problem is blocked comments\n",
    "    comment_id = [ x['id'][len('comment-'):] for x in soup.findAll('li')]\n",
    " \n",
    "    \n",
    "    ss = '##{}\\nhttps://discussion.theguardian.com/comment-permalink/{}\\n{}\\n\\n{}'\n",
    "    return [ ss.format(a,b,d,c.strip())  \n",
    "                   for a,b,d,c in zip(auth, comment_id, auth_id, raw)]\n",
    "     \n",
    "all_texts = [ html2comments(page) for page in json_data[:] ]\n",
    "\n",
    "\n",
    "from itertools import chain\n",
    "all_comments = list(chain.from_iterable(all_texts))\n",
    "    "
   ]
  },
  {
   "cell_type": "code",
   "execution_count": 14,
   "metadata": {},
   "outputs": [
    {
     "data": {
      "text/plain": [
       "'##COMMUNITYMOD\\nhttps://discussion.theguardian.com/comment-permalink/157514033\\nhttps://profile.theguardian.com/user/id/2902769\\n\\nHi,\\nComments will close at 15:45.'"
      ]
     },
     "execution_count": 14,
     "metadata": {},
     "output_type": "execute_result"
    }
   ],
   "source": [
    "all_comments[0]"
   ]
  },
  {
   "cell_type": "markdown",
   "metadata": {},
   "source": [
    "# Random data hacking"
   ]
  },
  {
   "cell_type": "code",
   "execution_count": 30,
   "metadata": {
    "scrolled": true
   },
   "outputs": [
    {
     "data": {
      "text/plain": [
       "[('##RONNEWMEXICO', 21),\n",
       " ('##INTERIORBC', 15),\n",
       " ('##LOUISRIEL', 15),\n",
       " ('##GRYPHONISLE', 12),\n",
       " ('##BRITLIB', 11),\n",
       " ('##AADMAN', 10),\n",
       " ('##MYTINYTOY', 9),\n",
       " ('##SKEPTICSAYER', 9),\n",
       " ('##ELZORRO', 8),\n",
       " ('##JDIVNEY', 8),\n",
       " ('##RICHMANCHESTER', 8),\n",
       " ('##POPEALEXANDERVI', 7),\n",
       " ('##JUDYXAN', 7),\n",
       " ('##ALFREDE', 7),\n",
       " ('##UBERGEEKIAN', 7),\n",
       " ('##PIOTRKOWSKA', 7),\n",
       " ('##LISAMARIE3', 7),\n",
       " ('##SNAFU5001', 7),\n",
       " ('##PILRIG1954', 6),\n",
       " ('##IMISSRONRAFFERTY', 6),\n",
       " ('##SCANDIHARALD', 6),\n",
       " ('##WRBSKI', 6),\n",
       " ('##DENSHER', 6),\n",
       " ('##FARBYBRIT', 6),\n",
       " ('##BEAUTIFULBLACKBIRD', 6),\n",
       " ('##GARFIELDLOVESTOROCK', 5),\n",
       " ('##12YEARSON', 5),\n",
       " ('##ERRORDITE', 5),\n",
       " ('##ONONA', 5),\n",
       " ('##MUSTYKANKLES', 5),\n",
       " ('##COOLDAY', 5),\n",
       " ('##NOTSAINTPAUL', 5),\n",
       " ('##FFC800', 5),\n",
       " ('##SERVIUSGALBA', 5)]"
      ]
     },
     "execution_count": 30,
     "metadata": {},
     "output_type": "execute_result"
    }
   ],
   "source": [
    "A = [x.split('\\n')[0] for x in all_comments]\n",
    "from collections import Counter\n",
    "AN = Counter(A)\n",
    "sorted([(x,y) for x,y in AN.items() if y > 4], key=lambda x : -x[1]) "
   ]
  },
  {
   "cell_type": "code",
   "execution_count": 24,
   "metadata": {},
   "outputs": [
    {
     "name": "stdout",
     "output_type": "stream",
     "text": [
      "[master 26cbffe] web\n",
      " 5 files changed, 228 insertions(+), 271 deletions(-)\n",
      " create mode 100644 yb8ez.pkl\n",
      " create mode 100644 yddvx.pkl\n",
      " create mode 100644 ye5m7.pkl\n",
      " create mode 100644 yjvf7.pkl\n",
      "Counting objects: 7, done.\n",
      "Delta compression using up to 12 threads.\n",
      "Compressing objects: 100% (7/7), done.\n",
      "Writing objects: 100% (7/7), 738.28 KiB | 2.44 MiB/s, done.\n",
      "Total 7 (delta 4), reused 0 (delta 0)\n",
      "remote: Resolving deltas: 100% (4/4), completed with 2 local objects.\u001b[K\n",
      "To https://github.com/macbuse/GUARDIAN.git\n",
      "   f914f6e..26cbffe  master -> master\n"
     ]
    }
   ],
   "source": [
    "! ./.g\n"
   ]
  },
  {
   "cell_type": "code",
   "execution_count": 30,
   "metadata": {},
   "outputs": [
    {
     "name": "stdout",
     "output_type": "stream",
     "text": [
      "##STILT\n",
      "https://discussion.theguardian.com/comment-permalink/155280552\n",
      "https://profile.theguardian.com/user/id/2397205\n",
      "\n",
      "This comment was removed by a moderator because it didn't abide by our\n",
      "         \n"
     ]
    }
   ],
   "source": [
    "print(all_comments[0][:200])"
   ]
  },
  {
   "cell_type": "code",
   "execution_count": 25,
   "metadata": {},
   "outputs": [
    {
     "data": {
      "text/plain": [
       "'france-populism-gaining-ground-revolution'"
      ]
     },
     "execution_count": 25,
     "metadata": {},
     "output_type": "execute_result"
    }
   ],
   "source": []
  },
  {
   "cell_type": "code",
   "execution_count": 15,
   "metadata": {},
   "outputs": [
    {
     "name": "stdout",
     "output_type": "stream",
     "text": [
      "##OSTALGIA\n",
      "https://discussion.theguardian.com/comment-permalink/157504215\n",
      "https://profile.theguardian.com/user/id/14891392\n",
      "\n",
      "I'll start by saying I am a man, in case anyone wants to disregard my comment on account of my genitalia.\n",
      "Allow me to begin with a digression. I strongly believe in the freedom of choice for women - no woman should be forced, against her will, to be a mother. Abortion should be readily available for the widest spectrum of the population and at the lowest cost possible. But if involuntary (read: forced) mothership, and thus the possibility of having abortion or not is indeed an issue of a woman having the right to her own body, with voluntary mothership the issue is, I believe, different. It's no longer about the woman, but about the child. The article is very much focused on a woman's desire to quench the thirst for motherhood, so to speak, while what should be, in my view, at the centre of this dilemma is the well-being of the future baby, and not so much the wish of the would-be mother.\n",
      "A child is not a toy - you don't get one just because you want it, and there is no \"right\" to pregnancy (allow me to add, however, that I welcome the variety of fertility treatments for men and women and wish they became available to as wide a public as possible, too). Having two parents (regardless of gender) is far superior to having the single one - it's not only about someone being available to look after the child while the other (either one) works, or about the possibility of an increased income for the common home and subsequently better schooling, a better diet, etc. It's also about the child engaging with at least two different personalities, with two different experiences, both enriching, and even more if we count extended families on both sides. Yes, there are exceptions, but by and large this holds true, even in the case of divorced families - my parents split when I was but a child, yet I had regular contact with both families, although I still had a much more difficult upbringing than my classmates at school (it's not an easy situation to explain as a child).\n",
      "Some in the so-called \"pro-life\" camp consider abortion to be a selfish act. I can agree with that, but it's the \"right\" kind of selfish - it's about deciding over your own well-being without harming another living, sentient, being. But bringing a child to life in a sub-optimal environment just because of a desire to tick an item off the list (\"pregnancy, yay!\") is, in my opinion, the wrong kind of selfish: it involves deciding over someone else's future, potential well-being for one's own benefit. If your desire is to be a mother at all costs, and you fail to find a partner that will go through motherhood with you, there are hundreds, thousands even, of orphans of all ages looking for a home. For them even single parenthood is huge upgrade and a blessing.\n",
      "Needless to say, all this applies to single fatherhood through surrogacy as well. While the clock ticks a lot more slowly for us men, it still does tick.\n",
      "Finally, I apologise if any of this came across as aggressive. It is not my intention to offend anyone and I will not judge a single mother negatively, ever, particularly given that the vast majority of those who fall into that category do so unwillingly. I just strongly felt the need to share my point of view and ask whoever is in this situation to try and look at the situation from a different perspective. I could add a few more lines but I believe this post is already unreadable as it is, so I'll leave it as is.\n",
      "\n",
      "##MAROONHEART\n",
      "https://discussion.theguardian.com/comment-permalink/157513604\n",
      "https://profile.theguardian.com/user/id/16466152\n",
      "\n",
      "I've got a number of problems with this. Firstly the reliance on dating apps to find a husband is a recipe for disaster and is frankly lazy. Human beings cannot consistently find compatibility using a business model that is designed to keep them sswiping. How sad its come to this. People before had to physically change their environment, do some inner and outer work to attract the partner they want. \" On the apps look for a partner is a touch sad...is that whats it come to? \n",
      "Secondly and more pressing as far as Im concerned is this blaise attitude towards single parenthood. Why on earth would any women want to start a family with the basic balance of a mother and father. Just because a mother can feed and clothe and take a child on expensive trips and play dates does not equate to giving that child the emotional blance of an adult male and female interacting and giving their various life lessons from a male and female perpective to a child. This all a child needs is love nonsense is a school to prison pipeline in many deprived areas of the UK. Its frankly selfish. Putting the needs of a woman to have a pet 'child' without her putting in the neccessary work or adapting her no doubt unreasonable expectations to have the perfect man to procreate with. By the age of 35 if a woman has not found encountered a suitable male to procreate and bond with then she should be looking at herself and seeing what can be improved. The majority of people will not find their life partner on a bloody app! Its lazy, goes against human evolution and the 200,00 yrs of socialisation that we have gone through. But to then conclude that \" f.. it\" I'll just be a single parent who doesn't even have the basic right to have a relationship with its father.\n",
      "Just goes to show you how little modern day women think of the role of a man and of a father in a relationship. Only a man can show a boy how to be a man. And a father is the best male role model a daughter can have for a future husband. This new age nonsense does everything to empower selfish women and nothing to promote healthy development of a child.\n",
      "\n",
      "##ASPHODEL27\n",
      "https://discussion.theguardian.com/comment-permalink/157507901\n",
      "https://profile.theguardian.com/user/id/12249497\n",
      "\n",
      "At the end of the day, I don't know what the purpose and meaning of my life will be over the next 40 years if I don't have a family. I don't have a career that drives me, and I don't have a loving partner, so what would be the focus of my time and energy?\n",
      "I hear this all the time from women and I see it in comments on these articles all the time: the idea that meaning comes from a) reproduction and raising children or b) career or c) romantic relationship. It makes me sad. There are so many other options for people. Doesn't the research at least suggest that single, childfree women are one of the most fulfilled groups? So what are these women doing? They can't all be Nobel-Prize winners or CEOs. The childfree, single women I know (I'm CF but not single) are getting their fulfilment from all kinds of things: creating communities, giving back to communities, volunteering, fighting for a cause (rights to contraception and safe abortion, expanding literacy, fighting climate change). They travel - yes, sometimes alone!! - and make connections with people all over the world. They find meaning all over the place, in the least expected scenarios. They are great friends, mentors, godparents. You can help hundreds of people or you can throw all of your energy into one child, in the hope that they will fill some hole in your life. I would warn against the latter: counting on the experience of motherhood to provide something to give you purpose, fill your time, bring companionship and solace, doesn't always end well. Children nowadays are much more likely to leave and live miles away and then you're back to square one. I know lots of lonely parents and grandparents, who assumed that their bonds with their children and grandchildren would see them through to age 100. \n",
      "I recommend reading Sheila Heti, Motherhood, on this very issue, and No One Tells You This, by Glynnis MacNicol: a book about finding meaning beyond the partner and/or child paradigm.\n",
      "\n",
      "##1KEY2KAN\n",
      "https://discussion.theguardian.com/comment-permalink/157501989\n",
      "https://profile.theguardian.com/user/id/104749605\n",
      "\n",
      "There are undoubtedly big differences between the way men and women think and feel about the issue of children but I think from the man's point of view, there is also a lot of complexity in a man's attitude that doesn't really get much discussion.\n",
      "I was always clear from from my youth that i did not want children and i think this in itself was a hugely emotional decision to the sheer daunting prospect of being responsible for bringing new life into the World, particularly on the back of a very difficult childhood of my own.\n",
      "I was always open with the women i met about this but in fact i think it was more of a constraint on me than on them from forming close relationships because it always seemed that even if a woman said she was happy with my position this was something that was something that was likely to change at some point and i did not want us to then go through one of us living a life we did not want or go through the pains of breakup over this. So in fact I would say i did not have a close relationship with a woman until my 40s.\n",
      "Then I met a woman who had already completed her family, with teenage children and I found that as a step-father i could have the dual benefit of being able to do what i can to give children the best start in life and to establish the close and sustaining familial relationships that this requires but without feeling the overwhelming burden of being responsible for bringing this life into the World.\n",
      "I think this has been particularly fruitful with my step-grandchildren as it now seems that i am the grandfather they spend by far the most time with ( although this is a lot to do with my wife being the most popular and fun grandmother)\n",
      "The point is that motivations and reasons for behaviour are rarely simple and that families can form in many different ways with people who may have seemed unpromising material at some stages of your life becoming much better options at other times.\n",
      "\n",
      "##CRESC2020\n",
      "https://discussion.theguardian.com/comment-permalink/157502368\n",
      "https://profile.theguardian.com/user/id/102462373\n",
      "\n",
      "What's missing is any sense that there is life after parenthood. Our ageist attitudes plus the natural belief of the young in their immortality blind us to the fact that middle age doesn't have to be a desert. Unfortunately career-wise we make it so.\n",
      "Child rearing is a young person's game. Like physical sport. Leaving it to the mid thirties or even older is to make the job harder than it already is. However the pressures that were always there to create a stable relationship, become financially stable and have a house to start a family in have been exacerbated by technology that enables delay to be possible. With previous generations contraceptive failure often provided a push - the first iterations of the pill didn't suit a lot of women - and the absence of dating apps probably also injected a dose of realism into the task of finding a partner.\n",
      "The generation going through now have to deal with the situation as it is. However as a society we should be trying to make it possible for future generations to have their children in their mid twenties when they have the bodies and physical strength and stamina to handle parenthood. That means not only economic policies to get young people financially and domestically stable, but also a change in attitudes so that people in their thirties and forties aren't prematurely written off. It requires a more positive view of middle age but it also requires a change in how people see relationships. What matters in a relationship is what you can make of it, not an expectation that the pieces will click. Previous generations, with a much more limited selection of potential partners, had to do this. It seems the current generation does too, only comes to that conclusion fifteen years later.\n",
      "\n",
      "##RACHEL191\n",
      "https://discussion.theguardian.com/comment-permalink/157502125\n",
      "https://profile.theguardian.com/user/id/14972106\n",
      "\n",
      "Does anyone ever think about the child that results from chosen solo-parenting? I ask because I am an only child whose mother died when I was 11. I am old enough to remember the difference between having two present parents and then just one. Economically very hard for a start. I spent a lot of time alone because my father was always at work and when not at work, asleep because he was shattered. I became very independent very quickly leading to Sunday Row Day when he was present, awake, and finally noticing what I was doing/wearing/not doing/not wearing. He treated me as another adult far too early in that I knew far too much about what his worries were and how much the gas bill was and what was happening at work. I did the Saturday shop, learned to return things that weren't right, did my homework alone and had to wait for him to be available and not tired before I could have a lift anywhere - we were in a small village.Single parenthood can be tough and lonely. The child is not your friend - you are its parent. You will have to make some hard decisions without having another person to share them. If your child is ill or injured this is unbelievably hard. I am speaking from the perspective of what had been a happy marriage of course, not from relationship misery.I never seem to hear a balanced view from people brought up by one parent. I hear how wonderful the remaining parent was and I always think they rarely acknowledge the hard parts. Among my friends, it was usually those who had been brought up by two parents who blithely say they would choose this route as if it's a doddle because after all, 'Naomi Campbell did it' or some such.Please think wisely.\n",
      "\n",
      "##MTASMITH\n",
      "https://discussion.theguardian.com/comment-permalink/157507617\n",
      "https://profile.theguardian.com/user/id/13164867\n",
      "\n",
      "Throughout the western world there has been a tremendous number of studies on the effect of family structure on children, and the evidence is overwhelming: children raised by only a single parent, as a result of either illegitimacy or divorce, do much worse statistically than those raised by both their parents, even starting from birth, when they are less likely to be breastfed, and more likely to die of Sudden Infant Death Syndrome. Even allowing for compounding effects such as race and socio-economical status, they are statistically less healthy, less likely to be vaccinated, and more likely to develop asthma, among other things. Girls are more likely to experience early puberty. The children of unmarried and divorced mothers are far more likely to smoke, abuse alcohol and/or other substances, suffer from anxiety and depression, be sexually active, get pregnant, join gangs, get involved in crime, and even to commit suicide, to list just some of the negative outcomes. Fatherless boys are strongly prone to antisocial activities. It is also well established that a father functions differently from a mother in child raising. From him, his children learn how to relate to authority. His sons learn from example how to relate to women, his daughters how to relate to men. He is the first man the little girl falls in love with, and all those who follow have to measure up. These studies, which number in the hundreds, have been so consistent and so compelling across many decades and many different countries, it can only be the result of deliberate blindness that the media fail to publicise them, and the average person ignores them.\n",
      "\n",
      "##BERTRIGBY\n",
      "https://discussion.theguardian.com/comment-permalink/157502618\n",
      "https://profile.theguardian.com/user/id/3233146\n",
      "\n",
      "I'm in the position right now of going through fertility treatment to give myself the option of having children in the future, possibly as a SMBC (single mum by choice). This is because I took a fertility MOT that revealed I simply don't have time to wait, even though I am relatively young.\n",
      "It's a dreadful, heart-rending, financially crippling and physically difficult position to be in. OF COURSE I would rather meet a man, fall in love, move in, spend time together assessing if it's the right thing, and then have a happy pregnancy and raise the child together. But in a year of dating, I have not yet met the man who is ready for commitment within a fairly short time frame, and, importantly, to whom I am really attracted and vice versa. There is a huge male privilege in being able to hand-wave and delay until late 40s or 50s. God, if I had all that time...I would be doing the same. But I simply don't. \n",
      "Comments here that ask about the quality of life for my hypothetical child...obviously I have wrestled with this, enormously. Constantly. But then I think of everyone out there who becomes a single parent not by choice. Partners leave, partners die. And we get on with it. \n",
      "The alternative is to accept that I will never have children. I am not ready to close that door just yet. It's clear that when looking at the 'normal things': nice home, loving partner, child - I won't have all of those. I may only have one, in fact. It's the hardest decision I have ever faced, and it's a devil's contract. I wish the commenters on this piece would have more compassion for people like me.\n",
      "\n",
      "##ASPHODEL27\n",
      "https://discussion.theguardian.com/comment-permalink/157513578\n",
      "https://profile.theguardian.com/user/id/12249497\n",
      "\n",
      "Couples who enter into relationships without vows, or even commitment, are playing with fire, \n",
      "I know several couples in decades-long relationships - no vows ever taken. Are they playing with fire? No. They know that their partner is with them purely out of mutual love and like, not because of some vow taken years ago. Not because of some legality. Not because of financial issues. Not because divorce is too stressful. Not because some deity witnessed the vows. That's the kind of relationship that inspires me. \n",
      "I don't believe that you can expect people to promise such solemn things for the rest of their lives without them not knowing how either of you will evolve, how the relationship will change. I would never ask someone I loved to do that. Every time I'm at a wedding and hear the vows, I wonder: are they really not  entered into lightly? There was research done on this and it was found that most people utter the vows in hope, not expectation. Some have no intention whatsoever of keeping them. Some break them on the wedding night! Some cannot cope with 'in sickness and in health' and tell their partners they 'didn't sign up for this' when they fall ill. Ermmmmm yes you did! \n",
      "So, I don't share your elevation of people who 'make a commitment' or your cynicism towards people who just let their partners be and let their relationships develop naturally. \n",
      "If these very long relationships found tomorrow, then at least these couples would know that they stayed together for the right reasons, not because of some moral obligation.\n",
      "\n",
      "##SIMOTHER\n",
      "https://discussion.theguardian.com/comment-permalink/157507309\n",
      "https://profile.theguardian.com/user/id/12170338\n",
      "\n",
      "I think time teaches us that these things are not so cut ‘n dry as people who want children seem to think. I spoke to someone who has an adult adoptee child and she said that 90% of adopted children have difficulties because of it. A father in my country has just written a book about his adopted sons (with their knowledge) that he cannot recommend adoption at all and that he would not do it again if he could redo things (these are adoptions from foreign countries). I also think that the future will teach us that things like surrogates and sperm donors come with a lot of issues for the children involved. Having children is a delicate proces that deserves love and care and time and an awareness of things that go beyond our understanding. Personally I have two teenagers with my husband and I do think that if I had done it alone my children would be more traumatised than they (potentially) are because their father is often capable to see a third way/ another solution that my child and I didn’t see when we get caught up in things. There is a lot to say for the nuclear family. Another option would be (in my mind) communal living with a wider group of people who support you. I have a gay friend he and his husband have two children with a lesbian couple and the children alternate between the two homes. That also seems to work very well for all of them.\n",
      "I would also recommend keeping a bigger picture in your mind, eventually they will leave your house and go live on their own. Which is a heartbreaking relief.\n",
      "\n",
      "##MARKPJNY\n",
      "https://discussion.theguardian.com/comment-permalink/157512511\n",
      "https://profile.theguardian.com/user/id/101511398\n",
      "\n",
      "What is your quintessence? What is mine?Do we even know how to measure ourselves or others?What we may believe to be the thing which is most important to us at one time may only be a short-term misunderstanding of what we are and what we want.Software cannot tell us much beyond what we place into it and can tell us less about what that party is at the other end of the algorithm who might have believed he/she/they might truly be. Even that assumes that such a party is absolutely frank with you or me or indeed even with that own party's self!It has been hard enough to see an individual in person where the nonverbal cues or the glances of others about might give us feedback which might tend to question the comments made. Much of our instincts are based upon subtle cues which an app cannot and will not give us and which may be smoothed out by some later visit so long as the commitment made of time and effort has not by that time become a bit too much to be easily counterbalanced.We must consider that the best algorithms are rough in the final estimate and that even with the best of honest fellow consumers of such apps there is much to be learned outside of the selected parameters which may not be so much to our liking.I have -as you can well judge reading here- been very skeptical of how well such connections may work out. I don't doubt that they have been successful on the occasion. How many failures are found for each success is what each individual must decide.\n",
      "\n",
      "##ASPHODEL27\n",
      "https://discussion.theguardian.com/comment-permalink/157510727\n",
      "https://profile.theguardian.com/user/id/12249497\n",
      "\n",
      "I doubt the desire to have children is any more socially constructed than the desire to have sex. In both cases some people may not feel the desire strongly, or at all. But for most, it’s a powerful and innate impulse that cannot be ignored forever without distress and unhappiness.\n",
      "I disagree with this. Over and over, studies show that the more education, autonomy and freedom are given to women, the less likely they are to have children. Surely these issues are part of social conditioning? I've lost count of the amount of people who've quizzed me on my childfree status, who've balked at me turning the question around. Why did we have children? Well, it's just, erm, it's what you do, isn't it?' Surely that tells us that social conditioning is playing a huge role here. Then there's those who have children because their friends 'have a baby' and they don't want to fall behind. \n",
      "As for 'most' of us feeling this innate urge, I would query that as well. The numbers of childfree women are growing, as more options becomes available to them - somehow, the innate urge isn't striking the way it used to. Even if you take into account that most women still have children, it's impossible to discount social conditioning and limits placed on women as a result of religious belief, peer group, their own parents' expectations. Surely not all of these mothers are simply responding to an urge?\n",
      "\n",
      "##FDV1970\n",
      "https://discussion.theguardian.com/comment-permalink/157505538\n",
      "https://profile.theguardian.com/user/id/107477217\n",
      "\n",
      "I started dating on the apps after my divorce in my early 40s. Having not dated since my early 30s I was completely shocked at how dating had changed as a result of all these apps (and more likely dating women in their 30s and early 40s). Whilst dating in my 20s and 30s was all about fun, friendship and romance it was all of a sudden massively transactional. That in itself is not too surprising however it really can diminish any romantic notions. I hear a lot of criticism of men for not dealing with the child issue upfront but what this article and those criticisms fail to mention is that a lot of men my age (who already have children) know the intense commitment and investment that raising children successfully requires. Any man in his right mind will not contemplate having children unless he's willing to make the massive commitment that it takes to them and their partner to be a good parent/partner. Let's be honest, to expect a man to commit to that so soon is almost impossible if not irresponsible. Anybody has gone through a divorce in this country knows that rushing things can lead to catastrophic consequences. I'm willing to bet most guys are more than willing to have children with a woman they love and trust and want to spend the rest of their lives with. To expect them to commit to that so soon into dating is just totally crazy however. Give the guys a break.\n",
      "\n",
      "##FLIX\n",
      "https://discussion.theguardian.com/comment-permalink/157508061\n",
      "https://profile.theguardian.com/user/id/2470172\n",
      "\n",
      "I think it's a nearly impossible conundrum. I hear regular updates from my (male) friend on his experiences as a mid 30s guy. He's good looking, good job, owns a house, and wants a long term relationship. He's likes going for walks in the country and spotting birds and wildflowers, but also enjoys going to concerts, the movies, restaurants, etc. I think he's a catch (bias, but still).\n",
      "Unfortunately, on these dating apps, he only ever seems to be matched with women who want a quick dinner or fling. It seems that trying to stand out against the thousands of other men all swiping right (if that's the 'approve' direction) on almost every women means that it's very much a scattergun approach in terms of how successful you are. He's all but given up on ever finding someone. He has the occasional few dates but they never lead into anything because of personality mismatches or lack of interest in the long term.\n",
      "It could be a 'him' problem, I'm not saying he's perfect - I'm sure he can come off as a bit boring - but I've kind of run out of things to tell him to support him through this, it's been this holding pattern for 6 or 7 years. I honestly just don't think app dating seems like a very reliable way of doing this. But then, if not apps, what do you do? Go out and meet people the traditional way? I don't think any of us having the social skills for that anymore, do we?\n",
      "\n",
      "##THEHAPPYONE007\n",
      "https://discussion.theguardian.com/comment-permalink/157512570\n",
      "https://profile.theguardian.com/user/id/15820019\n",
      "\n",
      "I was a single parent ( not by choice, but after my son’t father decided he doesn’t want children when I was already 6.5 months pregnant)- I beat the stats and my son had a good upbringing, currently finished GCSEs and awaiting top grades - studied since year 7 at a private school. If I had the choice between single parenthood and childfree- I’d go for child free. Even if I had great support from my mum and a small army of au pairs with a decent professional job it was extremely tough journey. Making decisions affecting the child without having a soul to talk to when solo is also tough , even if used to make life and death decisions in my day job.I think for many women if we had a crystal ball to see the impact of parenting on our lives we would give it a miss. There is a lot of pressure on women to become mothers from society - of course since we are the essential piece in making the babies - and lots of glamorised motherhood images around us, but reality is different and mothers carry the heaviest impact on their health, bodies, sleep, career progression, finances, pensions and lack of free time for anything resembling a hobby unless in the privileged position to have family/ friends to help or able to buy help . Even then it’s difficult. Think 100 times and 100 more before considering motherhood\n",
      "\n",
      "##JOHNNIEAYSGARTH\n",
      "https://discussion.theguardian.com/comment-permalink/157511162\n",
      "https://profile.theguardian.com/user/id/106649445\n",
      "\n",
      "Other than you know what, there's one big difference between having a child and adopting - the agencies that handle adoptions have a duty of care to the child. They place the needs of the child and its wellbeing first, rather than the prospective parent's \"I want a child\".\n",
      "And this has been interpreted differently by successive generations of legislators. So when I was born in the early 1960s, adoptive parents were told that in no circumstances could the natural parents ever be traced. This changed around 1980 and adoptive children were given the access to their adoption details that made the tracing possible. (PD James wrote a very thought-provoking book, Innocent Blood, that explored this and punctured the cosy one-way view that the media holds of this process).\n",
      "Now it's changed again to the extent that birth parents are allowed to submit gifts and other communications to the child which, if a social worker decides is in the child's best interests (and they almost always do) will be passed on to the developing child. Such is the consequent undermining of the poor old adopters that the outcome - who would have guessed it?! - is a further plummeting in the numbers of couples willing to become adoptive parents.\n",
      "\n",
      "##TADCOOPER\n",
      "https://discussion.theguardian.com/comment-permalink/157512831\n",
      "https://profile.theguardian.com/user/id/103411668\n",
      "\n",
      "You say the child might need the perspective of parents of their own gender, but couldn’t you equally say that a child realising they’re gay in their teens might need the perspective of a gay parent? We can’t ever guarantee that parents will have the same life experiences as their kids, but parents also aren’t the only adults in their kids’ lives. A child with two mothers (or only one mother as a single parent) will likely still have a grandfather, or an uncle, or a male teacher, or a male friend of their mum(s) as a trusted male influence. \n",
      "This isn’t to say that women should avoid having children with men - not at all - but that women should be able to choose to have children without a male partner (and equally men should be able to choose to have children without a female partner, and enby folks should be able to have kids by themselves, too). \n",
      "On the subject of he struggles of single parenthood - isn’t this just a reason to support single parents more as a society? I doubt we’ll ever reach a state where the majority of single parents set out to be single parents, so if single-parenthood is so bad for children then we should be supporting all single parents, and therefore their children.\n",
      "\n",
      "##JUST_BE_KIND\n",
      "https://discussion.theguardian.com/comment-permalink/157511562\n",
      "https://profile.theguardian.com/user/id/104906209\n",
      "\n",
      "It’s assumed that everyone wants a partner, but that’s not the case for me. I am 38, happily single and pregnant through IVF using a sperm donor. I’ve had several relationships (serious, casual, met through apps and in real life). They weren’t bad people, but they didn’t add much to my life. Mostly they were still figuring themselves out (in their 30s and 40s) and weren’t able to offer much value as partners. And with a narrowing window for fertility, my dreams of motherhood felt increasingly urgent and dating just didn’t feel appropriate anymore. I’ve always wanted to be a mum and I’m lucky enough to be in a situation where I have financial & emotional stability, a nice home and a fantastic support network. It’s not a decision I’ve taken lightly, I know it’s unconventional and it will definitely be hard work. But overall I feel confident that I can raise a happy child. In some ways it may even be easier, having only my child to focus on and not having to make compromises or maintain a romantic relationship. Families come in all shapes and sizes. Children just need love and stability. Maybe I’ll fall in love again in the future, but that’s not the end goal for me.\n",
      "\n",
      "##CAREFREE\n",
      "https://discussion.theguardian.com/comment-permalink/157511983\n",
      "https://profile.theguardian.com/user/id/1437715\n",
      "\n",
      "We went to Brittany with 2 kids then aged about 3 and 7, I think - pre covid. We made lots of mistakes and learnt a lot about what works on a family holiday and what doesn’t - we were in a beautiful gite which had a hot tub, so we had somewhere to sit and chill under a parasol, but we were slap bang in the middle of Brittany so getting to the sea was a long drive - and once we were at the sea, no shade to sit in (I suddenly realised why British folk at the seaside have those windbreaks!).\n",
      "Then the gite was way too hot inside so no-one got any sleep at night, and we started hunting out any day trips we could do that weren’t as hot as the seaside. The big successes were Huelgoat, a walk through a wooded gorge with amazing rock formations (loads of shade!) and the lac de Guerledan, which had pedaloes and lake swimming, plus trees to sit under afterwards. Both of these more successful than going to the sea. \n",
      "What I really remember was seeing the weather reports - it was during one of the great summer heatwaves in France, lots of storms and flash floods elsewhere in the country, and everywhere in the weather map was ‘red weather warning’ on the news *except* Brittany.\n",
      "\n",
      "##KIWINL\n",
      "https://discussion.theguardian.com/comment-permalink/157502791\n",
      "https://profile.theguardian.com/user/id/102179472\n",
      "\n",
      "Hi Rachel, I am really sorry for you loss and hardship! It must have been really hard for you growing up without the loving care of your mother and then having to take care for your father. \n",
      "As to answer your question, yes, a lot of thought is given to the well-being of the child of solo mothers. I live in the Netherlands and if you apply at a fertility clinic it is obligatory to have counseling from a therapist or social worker specialized in the needs of donor-children (and especially of solo-mothers). Women have to prove to have thought about all kind of issues in order to be eligible for a sperm-donation. From research it is shown that a child doesn't need a mother and a father in order to grow up in a safe environment. There are all kinds of (in)formal family structures that can give support to a child while growing up. Important are a stable environment and stable caregivers. But these could also be friends of the parent, an uncle or aunt, the grandparents, it could be two mothers or two fathers, one mother and two gay fathers etc. It doesn't matter how the support-network looks like as long as there is a caring and loving one. \n",
      "I wish you all the best!\n"
     ]
    }
   ],
   "source": [
    "import os\n",
    "\n",
    "all_comments.sort(key=lambda x : -len(x) )\n",
    "txt = '\\n\\n'.join(all_comments[:20])\n",
    "print(txt)\n",
    "with open(os.environ['HOME']+'/tmp.txt','w') as fp:\n",
    "    fp.write('\\n\\n'.join(all_comments[:20]))\n",
    "with open(os.environ['HOME']+'/{}.txt'.format(article_url.split('/')[-1]),'w') as fp:\n",
    "    fp.write('\\n\\n'.join(all_comments[:20]))"
   ]
  },
  {
   "cell_type": "code",
   "execution_count": null,
   "metadata": {},
   "outputs": [],
   "source": []
  },
  {
   "cell_type": "code",
   "execution_count": null,
   "metadata": {},
   "outputs": [],
   "source": []
  },
  {
   "cell_type": "code",
   "execution_count": 6,
   "metadata": {},
   "outputs": [
    {
     "name": "stdout",
     "output_type": "stream",
     "text": [
      "[master f06fcf3] web\n",
      " 4 files changed, 341 insertions(+), 216 deletions(-)\n",
      " create mode 100644 ymmym.pkl\n",
      " create mode 100644 yy437.pkl\n",
      " create mode 100644 yydf9.pkl\n",
      "Counting objects: 6, done.\n",
      "Delta compression using up to 12 threads.\n",
      "Compressing objects: 100% (6/6), done.\n",
      "Writing objects: 100% (6/6), 598.61 KiB | 1.82 MiB/s, done.\n",
      "Total 6 (delta 4), reused 0 (delta 0)\n",
      "remote: Resolving deltas: 100% (4/4), completed with 2 local objects.\u001b[K\n",
      "To https://github.com/macbuse/GUARDIAN.git\n",
      "   26cbffe..f06fcf3  master -> master\n"
     ]
    }
   ],
   "source": [
    "! ./.g"
   ]
  },
  {
   "cell_type": "code",
   "execution_count": 18,
   "metadata": {},
   "outputs": [
    {
     "name": "stderr",
     "output_type": "stream",
     "text": [
      "[nltk_data] Downloading package vader_lexicon to\n",
      "[nltk_data]     /home/gregmcshane/nltk_data...\n",
      "[nltk_data]   Package vader_lexicon is already up-to-date!\n"
     ]
    }
   ],
   "source": [
    "#https://towardsdatascience.com/sentimental-analysis-using-vader-a3415fef7664\n",
    "\n",
    "import nltk\n",
    "#nltk.download('vader_lexicon')\n",
    "\n",
    "from nltk.sentiment.vader import SentimentIntensityAnalyzer\n",
    "\n",
    "sid = SentimentIntensityAnalyzer()"
   ]
  },
  {
   "cell_type": "code",
   "execution_count": 22,
   "metadata": {},
   "outputs": [],
   "source": [
    "a = '''My views haven't changed. Leaving the EU will be of no benefit to anyone except those who hold money and power along with certain corporates and a smidgen of medium to small businesses.\n",
    "How else can it be when you are shutting shop to the most developed nations, the richest nations in the world, who are either in the EU or have market agreements with the EU. Even the emerging markets of China and India along with other developing economies are aspiring to develop trading agreements with the EU, the second largest economy in the world. Any deal with the UK will be secondary and will depend upon their agreement with the EU.\n",
    "Boris Johnson once said \"f**k business\". I take this as meaning there is something in it for them and they don't really care if businesses find it difficulA\n",
    "t to cope.\n",
    "I can see ministers and conservative MPs queuing to fill their pockets by acting as advisors for potential trade deals whilst the rest of the country are left struggling trying to rebuild their lives, especially following the pandemic. The same ministers will probably be looking to lower all kinds of standards from food and welfare to safety at work to improve their opportunities.\n",
    "When it comes to brinkmanship, I can only view this as getting away with whatever they can. I do not believe it is anything to do with negotiating an agreement that will be to the benefit of the UK or the EU as a whole, I don't believe our ministers are capable of doing that.'''"
   ]
  },
  {
   "cell_type": "code",
   "execution_count": 24,
   "metadata": {},
   "outputs": [
    {
     "ename": "TypeError",
     "evalue": "sentiment_valence() missing 4 required positional arguments: 'sentitext', 'item', 'i', and 'sentiments'",
     "output_type": "error",
     "traceback": [
      "\u001b[0;31m------------------------------------------------------------\u001b[0m",
      "\u001b[0;31mTypeError\u001b[0m                  Traceback (most recent call last)",
      "\u001b[0;32m<ipython-input-24-6f3326dcf5de>\u001b[0m in \u001b[0;36m<module>\u001b[0;34m\u001b[0m\n\u001b[1;32m      1\u001b[0m \u001b[0msid\u001b[0m\u001b[0;34m.\u001b[0m\u001b[0mpolarity_scores\u001b[0m\u001b[0;34m(\u001b[0m\u001b[0ma\u001b[0m\u001b[0;34m)\u001b[0m\u001b[0;34m\u001b[0m\u001b[0m\n\u001b[0;32m----> 2\u001b[0;31m \u001b[0msid\u001b[0m\u001b[0;34m.\u001b[0m\u001b[0msentiment_valence\u001b[0m\u001b[0;34m(\u001b[0m\u001b[0ma\u001b[0m\u001b[0;34m)\u001b[0m\u001b[0;34m\u001b[0m\u001b[0m\n\u001b[0m",
      "\u001b[0;31mTypeError\u001b[0m: sentiment_valence() missing 4 required positional arguments: 'sentitext', 'item', 'i', and 'sentiments'"
     ]
    }
   ],
   "source": [
    "sid.polarity_scores(a)\n",
    "sid.sentiment_valence(a)"
   ]
  },
  {
   "cell_type": "code",
   "execution_count": 10,
   "metadata": {},
   "outputs": [
    {
     "name": "stdout",
     "output_type": "stream",
     "text": [
      "##LIBBETS\n",
      "https://discussion.theguardian.com/comment-permalink/156335914\n",
      "https://profile.theguardian.com/user/id/12302017\n",
      "\n",
      "Peter **CAPALDI** sums it up well for me.'People always ask me what it is about Doctor Who that appeals so broadly. The answer I would like to give, and which I’m discouraged from giving because it is not useful in the promotion of a brand, is that it’s about death. It has a very powerful death motif in it which is that the central character dies. I think that is one of its most potent mysteries because somewhere in that people see what happens in life. You have loved ones and then they go, but you must carry on.'\n",
      "Here's to carrying on. Best wishes to Ncuti Gatwa, I can't wait.\n",
      "\n",
      "##MACHINEHEAD\n",
      "https://discussion.theguardian.com/comment-permalink/156338017\n",
      "https://profile.theguardian.com/user/id/1642806\n",
      "\n",
      "I’m not convinced Whitaker was a great Doctor to be honest…middling I’d say but like **CAPALDI** before her she was not gifted with the greatest storylines much of the time.\n",
      "The return of RT though bodes well in this respect and Gatwa is a good actor who will appeal to the yoof…\n",
      "My only appeal would be not to forget that Dr Who should have some gravitas along with some genuine scariness at times. \n",
      "Please let’s not have an overload of crazy wackyness ala Matt Smith and a few others…..quirky is fine though…\n",
      "\n",
      "##WILDBEAR82\n",
      "https://discussion.theguardian.com/comment-permalink/156334386\n",
      "https://profile.theguardian.com/user/id/15962759\n",
      "\n",
      "I'm not a Mail reader and I don't care what the actor playing doctors skin colour, gender or sexual preferences are. \n",
      "I also don't think any of the above should influence who's picked for the role but in todays easily offended society I'm sure it's the chief consideration. \n",
      "I'd just want the show to go back to being fun and enjoyable to watch like it was during the Tennant, Smith and **CAPALDI** days.\n",
      "\n",
      "##ACTUALGRAUNREADER\n",
      "https://discussion.theguardian.com/comment-permalink/156335694\n",
      "https://profile.theguardian.com/user/id/10562490\n",
      "\n",
      "Except McCoy and **CAPALDI**.\n",
      "And early Troughton.\n",
      "And as everything else is also unwatched - 'Britain's Got Talent' only pulled a million more than the Easter episode - ratngs matter less than position in the charts and recent stories have done better than alleged 'all tme classics'.\n",
      "\n",
      "##MARKYWILLIAM\n",
      "https://discussion.theguardian.com/comment-permalink/156334465\n",
      "https://profile.theguardian.com/user/id/10771465\n",
      "\n",
      "Um, I don't recall Whittaker being \"the latest top comic\".Neither do I recall that being true of **CAPALDI**.Or Smith.Or Tennant.\n",
      "Which \"latest top comic\" are you talking about?\n",
      "\n",
      "##BASILIDES\n",
      "https://discussion.theguardian.com/comment-permalink/156338998\n",
      "https://profile.theguardian.com/user/id/17015744\n",
      "\n",
      "1. Pertwee2. Smith3. Troughton4. Tom Baker5. **CAPALDI**6. Hartnell7. Ecclestone8. Tennant9. Whitaker10. McGann11. McCoy12. Colin Baker13. Davison\n",
      "\n",
      "##GOBSHEISSE\n",
      "https://discussion.theguardian.com/comment-permalink/156334801\n",
      "https://profile.theguardian.com/user/id/13092801\n",
      "\n",
      "Bring back Peter **CAPALDI** as Dr who merged with his character from 'the thick of it'. \n",
      "That'll liven things up\n",
      "\n",
      "##PETER272\n",
      "https://discussion.theguardian.com/comment-permalink/156339260\n",
      "https://profile.theguardian.com/user/id/100295045\n",
      "\n",
      "All he needs is some half-decent scripts, the lack of which saw off Peter **CAPALDI**\n"
     ]
    }
   ],
   "source": [
    "target = 'decolon'\n",
    "target = 'science'\n",
    "target = 'irish'\n",
    "target = 'mandela'\n",
    "target = 'abolit'\n",
    "target = 'whittaker'\n",
    "target = 'capaldi'\n",
    "\n",
    "\n",
    "xx = [x for x in all_comments if target.lower() in x.lower() and  len(x) > 20]\n",
    "yy = [x for x in all_comments if '#pin' in x.lower() and 2000 > len(x) > 20]\n",
    "\n",
    "#print('\\n\\n'.join( ['\\n\\n'.join(x) for x in zip(xx,yy)])  )\n",
    "\n",
    "#print( '\\n\\n'.join(xx).replace(target, ) )\n",
    "pxx = re.compile(target, re.I)\n",
    "print( pxx.sub('**' + target.upper() + '**', \n",
    "              '\\n\\n'.join(xx)) )\n",
    "               \n",
    "#print( '\\n\\n'.join(xx) )\n"
   ]
  },
  {
   "cell_type": "code",
   "execution_count": 20,
   "metadata": {},
   "outputs": [
    {
     "data": {
      "text/plain": [
       "0.7820401046207497"
      ]
     },
     "execution_count": 20,
     "metadata": {},
     "output_type": "execute_result"
    }
   ],
   "source": [
    "(26/31) / (74/69)"
   ]
  },
  {
   "cell_type": "code",
   "execution_count": 64,
   "metadata": {},
   "outputs": [
    {
     "data": {
      "text/plain": [
       "529"
      ]
     },
     "execution_count": 64,
     "metadata": {},
     "output_type": "execute_result"
    }
   ],
   "source": [
    "23**2"
   ]
  },
  {
   "cell_type": "markdown",
   "metadata": {},
   "source": [
    "## "
   ]
  },
  {
   "cell_type": "code",
   "execution_count": 21,
   "metadata": {},
   "outputs": [
    {
     "data": {
      "text/plain": [
       "211"
      ]
     },
     "execution_count": 21,
     "metadata": {},
     "output_type": "execute_result"
    }
   ],
   "source": [
    "84 + 127"
   ]
  },
  {
   "cell_type": "code",
   "execution_count": 24,
   "metadata": {},
   "outputs": [
    {
     "data": {
      "text/plain": [
       "1.2842073077511085"
      ]
     },
     "execution_count": 24,
     "metadata": {},
     "output_type": "execute_result"
    }
   ],
   "source": [
    "84/211/.31"
   ]
  },
  {
   "cell_type": "code",
   "execution_count": 25,
   "metadata": {},
   "outputs": [
    {
     "data": {
      "text/plain": [
       "0.8723126588364586"
      ]
     },
     "execution_count": 25,
     "metadata": {},
     "output_type": "execute_result"
    }
   ],
   "source": [
    "127/211/.69"
   ]
  },
  {
   "cell_type": "code",
   "execution_count": 26,
   "metadata": {},
   "outputs": [
    {
     "data": {
      "text/plain": [
       "1.471264367816092"
      ]
     },
     "execution_count": 26,
     "metadata": {},
     "output_type": "execute_result"
    }
   ],
   "source": [
    "1.28/.87"
   ]
  },
  {
   "cell_type": "code",
   "execution_count": null,
   "metadata": {},
   "outputs": [],
   "source": []
  }
 ],
 "metadata": {
  "kernelspec": {
   "display_name": "BASE",
   "language": "python",
   "name": "base"
  },
  "language_info": {
   "codemirror_mode": {
    "name": "ipython",
    "version": 3
   },
   "file_extension": ".py",
   "mimetype": "text/x-python",
   "name": "python",
   "nbconvert_exporter": "python",
   "pygments_lexer": "ipython3",
   "version": "3.9.12"
  },
  "widgets": {
   "application/vnd.jupyter.widget-state+json": {
    "state": {},
    "version_major": 2,
    "version_minor": 0
   }
  }
 },
 "nbformat": 4,
 "nbformat_minor": 4
}
