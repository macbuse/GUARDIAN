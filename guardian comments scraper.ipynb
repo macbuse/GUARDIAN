{
 "cells": [
  {
   "cell_type": "raw",
   "metadata": {},
   "source": [
    "# Basic scraping for Guardian discussions u"
   ]
  },
  {
   "cell_type": "code",
   "execution_count": 1,
   "metadata": {},
   "outputs": [
    {
     "name": "stdout",
     "output_type": "stream",
     "text": [
      "[master 01b461f] web\n",
      " 1 file changed, 2373 insertions(+), 1017 deletions(-)\n",
      " rewrite guardian comments scraper.ipynb (61%)\n",
      "remote: Support for password authentication was removed on August 13, 2021. Please use a personal access token instead.\n",
      "remote: Please see https://github.blog/2020-12-15-token-authentication-requirements-for-git-operations/ for more information.\n",
      "fatal: unable to access 'https://github.com/macbuse/GUARDIAN.git/': The requested URL returned error: 403\n"
     ]
    }
   ],
   "source": [
    "! ./.g\n"
   ]
  },
  {
   "cell_type": "code",
   "execution_count": 59,
   "metadata": {},
   "outputs": [],
   "source": [
    "with open('guardian comments scraper.ipynb','r') as fp:\n",
    "    nb = fp.read()"
   ]
  },
  {
   "cell_type": "code",
   "execution_count": 60,
   "metadata": {},
   "outputs": [],
   "source": [
    "import re\n",
    "\n",
    "pp = re.compile(\"(https://www.the.*?)'\")\n",
    "lks = pp.findall(nb)\n",
    "\n",
    "with open('links.txt','a') as fp:\n",
    "    fp.write('\\n'.join(lks))"
   ]
  },
  {
   "cell_type": "code",
   "execution_count": 1,
   "metadata": {},
   "outputs": [],
   "source": [
    "import re \n",
    "import requests\n",
    "import pickle\n",
    "import json"
   ]
  },
  {
   "cell_type": "code",
   "execution_count": 9,
   "metadata": {},
   "outputs": [],
   "source": [
    "article_url = 'https://www.theguardian.com/commentisfree/2020/aug/19/ditch-the-algorithm-generation-students-a-levels-politics'\n",
    "article_url = 'https://www.theguardian.com/commentisfree/2020/aug/21/joe-biden-democrat-convention-nice-guy-trump-fight'\n",
    "article_url = 'https://www.theguardian.com/commentisfree/2020/aug/23/the-cruel-exams-algorithm-has-laid-bare-the-unfairness-at-the-heart-of-our-schools'\n",
    "article_url = 'https://www.theguardian.com/commentisfree/2020/sep/01/us-mainstream-right-vigilante-terror'\n",
    "article_url = 'https://www.theguardian.com/commentisfree/2020/aug/31/politicians-covid-19-statistics-statisticians'\n",
    "article_url = 'https://www.theguardian.com/commentisfree/2021/apr/14/boris-johnson-is-telling-scotland-that-the-union-is-no-longer-based-on-consent'\n",
    "article_url = 'https://www.theguardian.com/commentisfree/2021/may/10/retail-politics-movements-polarising-projects-promise'"
   ]
  },
  {
   "cell_type": "code",
   "execution_count": 2,
   "metadata": {},
   "outputs": [],
   "source": [
    "article_url = 'https://www.theguardian.com/commentisfree/2020/sep/29/rival-scientists-lockdowns-scientific-covid-19'\n",
    "article_url = 'https://www.theguardian.com/commentisfree/2020/oct/08/johnson-and-sturgeon-will-need-a-better-philosophy-than-precaution-to-rid-us-of-covid'\n",
    "article_url = 'https://www.theguardian.com/commentisfree/2020/oct/10/continual-local-lockdowns-answer-covid-control'\n",
    "article_url = 'https://www.theguardian.com/commentisfree/2020/oct/11/the-rebel-scientists-cause-would-be-more-persuasive-if-it-werent-so-half-baked'\n",
    "\n",
    "article_url = 'https://www.theguardian.com/commentisfree/2021/apr/03/undermining-the-astrazeneca-jab-is-a-dangerous-act-of-political-folly#comment-148440261'\n",
    "article_url = 'https://www.theguardian.com/commentisfree/2021/apr/09/boris-johnson-brexit-belfast-violence-eu-good-friday-agreement'\n",
    "article_url ='https://www.theguardian.com/commentisfree/2021/apr/02/culture-war-government-race-report'\n",
    "article_url = 'https://www.theguardian.com/commentisfree/2021/mar/18/britain-sunny-vaccine-optimism-april-delivery-delay'\n",
    "article_url ='https://www.theguardian.com/commentisfree/2021/apr/14/boris-johnson-is-telling-scotland-that-the-union-is-no-longer-based-on-consent'\n",
    "article_url = 'https://www.theguardian.com/commentisfree/2021/apr/15/britain-harness-social-sciences-covid-pandemic-deprivation'\n",
    "article_url = 'https://www.theguardian.com/commentisfree/2021/apr/16/government-race-report-evidence#comment-148662066'\n",
    "article_url ='https://www.theguardian.com/commentisfree/2021/apr/20/britain-falling-birthrate-covid-pandemic-conservatives-removed-support-for-parents'\n",
    "article_url = 'https://www.theguardian.com/commentisfree/2021/apr/21/bmi-eating-disorder-pandemic-treatment'\n",
    "article_url = 'https://www.theguardian.com/commentisfree/2021/apr/30/government-delays-covid-public-inquiry-health-crisis'\n",
    "article_url = 'https://www.theguardian.com/commentisfree/2021/may/07/humiliation-hartlepool-smalltown-detective-di-starmer'\n",
    "article_url ='https://www.theguardian.com/commentisfree/2021/aug/06/uk-government-experts-vaccinating-under-16s'\n",
    "article_url = 'https://www.theguardian.com/commentisfree/2021/aug/01/there-is-a-case-for-vaccine-passports-but-ministers-are-failing-to-make-it'\n",
    "article_url = 'https://www.theguardian.com/commentisfree/2021/aug/09/america-is-flying-blind-when-it-comes-to-the-delta-variant'\n",
    "article_url = 'https://www.theguardian.com/commentisfree/2021/aug/10/covid-vaccines-britain-scientific-solution-jabs'\n",
    "article_url = 'https://www.theguardian.com/commentisfree/2021/aug/13/denial-anti-vaxxers-climate-sceptics'\n",
    "article_url = 'https://www.theguardian.com/commentisfree/2018/apr/11/bbc-andrew-neil-media-politics'\n",
    "\n",
    "article_url = 'https://www.theguardian.com/commentisfree/2021/aug/15/vaccine-passports-are-less-a-threat-to-liberty-than-a-mark-of-solidarity'\n",
    "article_url = 'https://www.theguardian.com/theobserver/commentisfree/2021/aug/14/will-we-reach-herd-immunity-for-the-new-coronavirus'\n",
    "article_url = 'https://www.theguardian.com/commentisfree/2021/aug/15/vaccine-hesitancy-broken-relationship-state-conspiracy-theorists'\n",
    "article_url = 'https://www.theguardian.com/commentisfree/2021/aug/17/dominic-raab-news-foreign-secretary-taliban-kabul'\n",
    "article_url = 'https://www.theguardian.com/commentisfree/2021/dec/11/so-which-of-these-politicians-is-a-neoliberal-not-one-of-them'"
   ]
  },
  {
   "cell_type": "code",
   "execution_count": null,
   "metadata": {},
   "outputs": [],
   "source": [
    "\n",
    "\n",
    "key = my_keys.keys['guardian']"
   ]
  },
  {
   "cell_type": "code",
   "execution_count": 3,
   "metadata": {},
   "outputs": [
    {
     "name": "stdout",
     "output_type": "stream",
     "text": [
      "/p/kv6n2\n",
      "getting comments page no. 1\n",
      "there are 12 pages\n",
      "getting comments page no. 2\n",
      "getting comments page no. 3\n",
      "getting comments page no. 4\n",
      "getting comments page no. 5\n",
      "getting comments page no. 6\n",
      "getting comments page no. 7\n",
      "getting comments page no. 8\n",
      "getting comments page no. 9\n",
      "getting comments page no. 10\n",
      "getting comments page no. 11\n",
      "getting comments page no. 12\n",
      "archiving to kv6n2.pkl\n"
     ]
    }
   ],
   "source": [
    "#scrape the page and get the short url\n",
    "# 15/8/21  this failed and gave /p/temp\n",
    "short_url_pp =  re.compile('\"shortUrlId\":\"(.*?)\"')\n",
    "\n",
    "r = requests.get(article_url)\n",
    "mm = short_url_pp.search(r.text)\n",
    "short_url = mm.group(1)\n",
    "uu = r.text\n",
    "print(short_url)\n",
    "\n",
    "#the short url allows us to access the discussion\n",
    "# 15/8/21 api.nextgen.guardianapps.co.uk/discussion/ failed on \n",
    "# https://discussion.theguardian.com/discussion-api/discussion/p/tfmxg\n",
    "comments_url = 'https://api.nextgen.guardianapps.co.uk/discussion/%s.json'%short_url\n",
    "params = {'orderBy' : 'newest',\n",
    "          'pageSize' : 25,\n",
    "          'displayThreaded' : 'true',\n",
    "          'commentsClosed' : 'false',\n",
    "          'page' : '',\n",
    "          'maxResponses' : 50\n",
    "         }\n",
    "\n",
    "json_data =  []\n",
    "start_page  = 1\n",
    "last_page = None\n",
    "\n",
    "\n",
    "for num_page in range(start_page, 10**4):\n",
    "    print('getting comments page no.', num_page)\n",
    "    params['page'] = num_page\n",
    "    r = requests.get( comments_url, params=params)\n",
    "    json_data.append( r.text)\n",
    "    #The last page is a field in the json object\n",
    "    #I don't need to read this as json I could do a regexp\n",
    "    if num_page == start_page:\n",
    "        json_dict = json.loads(r.text)\n",
    "        last_page = json_dict['lastPage']\n",
    "        print('there are %d pages'%last_page)\n",
    "    if num_page == last_page : break\n",
    "        \n",
    "\n",
    "fn = '%s.pkl'%short_url.split('/')[-1]\n",
    "print('archiving to %s'%fn)\n",
    "with open(fn,'wb') as fp:\n",
    "    pickle.dump(json_data,fp)"
   ]
  },
  {
   "cell_type": "code",
   "execution_count": 3,
   "metadata": {},
   "outputs": [
    {
     "name": "stdout",
     "output_type": "stream",
     "text": [
      " 8djv8.pkl        gn7h4.pkl                            links_2020_8.txt\n",
      " 94f6b.pkl        goose_test_editorialis_miner.ipynb   links.txt\n",
      " afuahirsch.csv  'guardian api and comments.ipynb'     matplotlib.ipynb\n",
      " edt72.pkl        guardian_api_prod.ipynb              \u001b[0m\u001b[01;35mNone0000000.png\u001b[0m\n",
      " eghyd.pkl       'guardian comments scraper.ipynb'     owen-jones.csv\n",
      " egqhf.pkl        guardian_extractor.ipynb             quad_forms.ipynb\n",
      " ej7f5.pkl        guardian_nlp.ipynb                   README.md\n",
      " ejdxt.pkl        guardian_photo.ipynb                 tbca8.pkl\n",
      " et8zg.pkl        h2tzt.pkl                            tdvxp.pkl\n",
      " etenk.pkl        h44zn.pkl                            te5tn.pkl\n",
      " eyhx8.pkl        h452h.pkl                            tedzk.pkl\n",
      " eytkx.pkl        h4cq2.pkl                            tfmxg.pkl\n",
      " f3ke9.pkl        h5j4n.pkl                            tfy7d.pkl\n",
      " f4a3q.pkl        h6v39.pkl                            tgaxq.pkl\n",
      " f4vfe.pkl        h8qmd.pkl                            tgqq8.pkl\n",
      " failed.txt       hbc2e.pkl                            tgxqd.pkl\n",
      " femicides2.csv   hbe5y.pkl                            transgender.csv\n",
      " femicides3.csv   hvg6j.pkl                            \u001b[01;35mtt.jpg\u001b[0m\n",
      " femicides.csv    hvpq8.pkl                            \u001b[01;35mtt.png\u001b[0m\n",
      " fvkbb.pkl        liberation_femicide.ipynb\n"
     ]
    }
   ],
   "source": [
    "ls\n"
   ]
  },
  {
   "cell_type": "code",
   "execution_count": 8,
   "metadata": {},
   "outputs": [],
   "source": [
    "json_data = pickle.load(open('tgqq8.pkl','rb'))\n"
   ]
  },
  {
   "cell_type": "markdown",
   "metadata": {},
   "source": [
    "## remember each page of comments has been stored separately"
   ]
  },
  {
   "cell_type": "code",
   "execution_count": 9,
   "metadata": {},
   "outputs": [
    {
     "data": {
      "text/plain": [
       "31"
      ]
     },
     "execution_count": 9,
     "metadata": {},
     "output_type": "execute_result"
    }
   ],
   "source": [
    "dd = json.loads(json_data[0])\n",
    "len(json_data)"
   ]
  },
  {
   "cell_type": "code",
   "execution_count": 4,
   "metadata": {},
   "outputs": [
    {
     "data": {
      "text/plain": [
       "dict_keys(['postedCommentHtml', 'commentsHtml', 'commentCount', 'refreshStatus', 'lastPage', 'paginationHtml'])"
      ]
     },
     "execution_count": 4,
     "metadata": {},
     "output_type": "execute_result"
    }
   ],
   "source": [
    "xx = json.loads(json_data[0])\n",
    "xx.keys()"
   ]
  },
  {
   "cell_type": "code",
   "execution_count": 136,
   "metadata": {},
   "outputs": [
    {
     "name": "stdout",
     "output_type": "stream",
     "text": [
      " class=\"d-comment\n",
      "            d-comment--top-level\"\n",
      "           id=\"comment-144422422\"\n",
      "           data-comment-id=\"144422422\"\n",
      "           data-comment-author=\"Hushing\"\n",
      "           data-comment-replies=\"0\"\n",
      "           data-comment-timestamp=\"2020-10-11T14:25:06.000+01:00\"\n",
      "           data-comment-author-id=\"12407494\"\n",
      "           data-comment-highlighted=\"false\"\n",
      "           itemscope itemtype=\"http://schema.org/Comment\">\n",
      "\n",
      "    <div class=\"d-comment__inner d-comment__inner--top-level\">\n",
      "        <div class=\"\n"
     ]
    }
   ],
   "source": [
    "print( xx['commentsHtml'][200:700])"
   ]
  },
  {
   "cell_type": "code",
   "execution_count": 16,
   "metadata": {},
   "outputs": [],
   "source": [
    "pa = re.compile('data-comment-author=\"(.*?)\"')\n",
    "pid = re.compile('data-comment-author-id=\"(\\d+)')\n",
    "pcid = re.compile('\\sid=\"comment-(.*?)\"')\n",
    "pp = re.compile('<li class=\"d-comment(.*?)>',re.DOTALL)\n",
    "\n",
    "auths = []\n",
    "md = []\n",
    "for xx in json_data:\n",
    "    hh = json.loads(xx)['commentsHtml']\n",
    "    auths.extend(list( zip(pa.findall(hh), \n",
    "                           pid.findall(hh)\n",
    "                          )))\n",
    "    md.extend(pp.findall(hh))\n",
    "\n",
    "auths = list(set(auths))\n",
    "auths.sort(key=lambda x : x[0].lower())\n"
   ]
  },
  {
   "cell_type": "code",
   "execution_count": 102,
   "metadata": {},
   "outputs": [],
   "source": [
    "#print( '\\n'.join([x for x in md if 'pinkie' in x.lower()]))"
   ]
  },
  {
   "cell_type": "markdown",
   "metadata": {},
   "source": [
    "https://discussion.theguardian.com/comment-permalink/144375739"
   ]
  },
  {
   "cell_type": "code",
   "execution_count": 8,
   "metadata": {},
   "outputs": [],
   "source": [
    "auths = dict(auths)"
   ]
  },
  {
   "cell_type": "code",
   "execution_count": 9,
   "metadata": {},
   "outputs": [
    {
     "data": {
      "text/plain": [
       "'https://api.nextgen.guardianapps.co.uk/discussion//p/hvpq8.json'"
      ]
     },
     "execution_count": 9,
     "metadata": {},
     "output_type": "execute_result"
    }
   ],
   "source": [
    "comments_url"
   ]
  },
  {
   "cell_type": "code",
   "execution_count": 5,
   "metadata": {},
   "outputs": [],
   "source": [
    "\n",
    "from bs4 import BeautifulSoup\n",
    "\n",
    "def html2comments(x):\n",
    "    tt = json.loads(x)\n",
    "    soup = BeautifulSoup(tt['commentsHtml'],  \"lxml\")\n",
    "    raw = [ comment.text for comment in  \n",
    "            soup.findAll('div', {'class' : \"d-comment__body\"}) ]\n",
    "    \n",
    "    metadata = soup.findAll('span', {'class' : \"d-comment__author\"})\n",
    "    \n",
    "    \n",
    "    auth = [ x.text.upper().strip() for x in metadata]\n",
    "    auth_id = [ x.find('a')['href'] for x in metadata]\n",
    "    #this was a pain to do really\n",
    "    #the problem is blocked comments\n",
    "    comment_id = [ x['id'][len('comment-'):] for x in soup.findAll('li')]\n",
    " \n",
    "    \n",
    "    ss = '##{}\\nhttps://discussion.theguardian.com/comment-permalink/{}\\n{}\\n\\n{}'\n",
    "    return [ ss.format(a,b,d,c.strip())  \n",
    "                   for a,b,d,c in zip(auth, comment_id, auth_id, raw)]\n",
    "     \n",
    "all_texts = [ html2comments(page) for page in json_data[:] ]\n",
    "\n",
    "\n",
    "from itertools import chain\n",
    "all_comments = list(chain.from_iterable(all_texts))\n",
    "    "
   ]
  },
  {
   "cell_type": "markdown",
   "metadata": {},
   "source": [
    "# Random data hacking"
   ]
  },
  {
   "cell_type": "code",
   "execution_count": 6,
   "metadata": {
    "scrolled": true
   },
   "outputs": [
    {
     "data": {
      "text/plain": [
       "[('##BOBBYLEOPARD', 30),\n",
       " ('##MAXIBOY339', 20),\n",
       " ('##CHICKENSANDGOATS', 13),\n",
       " ('##MONKEY_HANGER', 12),\n",
       " ('##JASONBRADLEY', 11),\n",
       " ('##WHILEROMEBURNS', 11),\n",
       " ('##PARCELOFROGUE', 10),\n",
       " ('##NEUTRALPADDY', 10),\n",
       " ('##BARCIAD', 9),\n",
       " ('##3RDROCK', 9),\n",
       " ('##ZIONTRAIN', 8),\n",
       " ('##DREAMER06', 7),\n",
       " ('##TOMPER2', 7),\n",
       " ('##ONEEYEDMANISKING', 7),\n",
       " ('##LISAMARIE3', 7),\n",
       " ('##PINKROOM', 7),\n",
       " ('##RICOS321', 7),\n",
       " ('##ALPO88', 6),\n",
       " ('##IHATECAPTCHAS', 6),\n",
       " ('##STILLBREATHINGJUST', 6),\n",
       " ('##FALLOWFIELD', 6),\n",
       " ('##GEGENBEISPIEL', 6),\n",
       " ('##MICK233489', 6),\n",
       " ('##HAGGALA', 6),\n",
       " ('##HARRYTHEHAWK', 6),\n",
       " ('##MFISHER', 6),\n",
       " ('##FATBOY2001', 5),\n",
       " ('##EKNGEWNGEJWGNGE', 5),\n",
       " ('##BLISSEX', 5),\n",
       " ('##FAIRSHARES', 5),\n",
       " ('##CHRISWR', 5),\n",
       " ('##ROBBO100', 5),\n",
       " ('##KOFIANNAN', 5),\n",
       " ('##A_REBOUR', 5)]"
      ]
     },
     "execution_count": 6,
     "metadata": {},
     "output_type": "execute_result"
    }
   ],
   "source": [
    "A = [x.split('\\n')[0] for x in all_comments]\n",
    "from collections import Counter\n",
    "AN = Counter(A)\n",
    "sorted([(x,y) for x,y in AN.items() if y > 4], key=lambda x : -x[1]) "
   ]
  },
  {
   "cell_type": "code",
   "execution_count": null,
   "metadata": {},
   "outputs": [],
   "source": [
    "! ./.g\n"
   ]
  },
  {
   "cell_type": "code",
   "execution_count": 7,
   "metadata": {},
   "outputs": [
    {
     "name": "stdout",
     "output_type": "stream",
     "text": [
      "##SUPERSTRIKER\n",
      "https://discussion.theguardian.com/comment-permalink/153639318\n",
      "https://profile.theguardian.com/user/id/104468511\n",
      "\n",
      "I think we all know what a neo liberal is those opposed to government intervention, on economic or broad social grounds. Thatcher and Reagan fall into that category, even if few of their policies where neo liberal. They set the ball rolling for the neo liberals who came after them. Thatcher sold off the council houses that neo liberals policies use to drive millions into the yokes for the rentier class to live of their backs. Private rent tenants have their noses held to the grindwheel lest they fall into arrears and eviction.\n",
      "Tony Blair? Not so much. Cameron? A fucking halfwit, but a full frontal attack on the welfare state saw the rise of food banks, homelessness and a general hatred of those ousted out of the labour market. Sure tools to drive the neo liberal agenda.\n",
      "The fact that some I'll informed people use the term as a catchall insult in the same way the idiotic Right use the term socialist or Marxist does not mean their is no legitimate use of the term.\n"
     ]
    }
   ],
   "source": [
    "print(all_comments[0])"
   ]
  },
  {
   "cell_type": "code",
   "execution_count": 8,
   "metadata": {},
   "outputs": [
    {
     "name": "stdout",
     "output_type": "stream",
     "text": [
      "##ANDYFOSTER353\n",
      "https://discussion.theguardian.com/comment-permalink/153639159\n",
      "https://profile.theguardian.com/user/id/14132951\n",
      "\n",
      "The problem with Nick Cohen's writing here is a lack of logic, produced by a lack of courage. On the one hand:\n",
      "\"Like so much insider jargon, neoliberal is a pathetically weak term. To take an everyday example: since Thatcher’s government privatised the water industry in 1989, managers and shareholders have exploited their monopoly power to take almost £60bn in profit. In 2020, the companies spent 3.1m hours dumping sewage into rivers. So great has been their failure to reinvest even a small portion of the money they take, south-east England may soon face water shortages.\"\n",
      "Dead right. But then:\n",
      "\"Only moderate centre-left parties have won elections in western countries and their victories are rare enough. If you insist that they are as much a part of a neoliberal conspiracy as the right, then there is no point in fighting to remove the right from power.\"\n",
      "So Nick understands that privatisation of water has been disastrous, and by implication other public services too. But the \"moderate centre-left parties\" are defined by their unwillingness to do anything about it. \n",
      "\"... the far left... must maintain there is no difference between Tony Blair’s Labour government and any government Keir Starmer may lead, and the Tories. I once believed that, but the brutality of David Cameron’s actual Conservative government made me think again.\"\n",
      "When it comes to bringing water, and other services, back into public ownership, there is no difference. Keir Starmer is not going to reverse the disastrous policy. Indeed, he's just demoted Ed Miliband for suggesting that public ownership in the power industry is still Labour's policy. Starmer has totally abandoned the platform on which he was elected Labour leader only eighteen months ago.\n",
      "It is tragedy that Nick Cohen, and others, attacked the one political leader of recent times who would have restored our pubic services. There was one election that proved that it's not just \"moderate centre-left parties\" that win elections. In 2017 Labour nearly won an election, called specifically because the Tories looked like winning a landslide. Labour got 40% of the vote, only 2% behind the Tories, on a platcform which included reversing exactly the Thatcher privatisations which Nick, rightly, abhors. The 2019 election result doesn't alter that. It happened. \n",
      "Instead of supporting that platform, however critically, Nick preferred to lambast it and its supporters as \"fucking fools\" (quote) in this paper. There was a real movement, especially among young people, to reverse the political direction of the last forty years. Nick just stuck that new phenomenon into a mould of older left politics. It was \"far left\". And he and others helped destroy it.\n",
      "I think, if Nick had been around in 1945, he would have refused to support the Labour party under Attlee because there were so many \"Communists\" or \"fellow travellers\" in the party and around it. There were people who did exactly that. For the sake of their preconceptions they failed support public ownership of public services, and the creation of the NHS. Perhaps one day Nick and others will wake up. Until then, the \"negligent protfiteers\" will carry on winning.\n",
      "\n",
      "##CONTINENTALCYCLIST\n",
      "https://discussion.theguardian.com/comment-permalink/153639213\n",
      "https://profile.theguardian.com/user/id/11797417\n",
      "\n",
      "Ronnie and Maggie certainly did not usher in a liberal or neoliberal age. Liberalism meant freedom for the many, the greatest good for the greatest number.\n",
      "What Ronnie and Maggie brought upon the world was a system of neofeudalism, in the worst sense of the word. \n",
      "Original feudalism involved paternalistic care of the liege lord for the vassals, combined with the good works of the church for those left behind. Neofeudalism was and is certainly not based on any idea of looking after your vassals or retainers. Instead of behaving like liege lords, the controllers of the money flows behave like robbver barons. And their effect has not by any means been anything like Hayek's ’creative destruction' as a precursor for new creation. \n",
      "Reformed liberal capitalism of the Rhenanian type, dubbed 'soziale Marktwirtschaft' in Germany, coupled 'destruction' of outdated industries with 'creative construction', offering incentives, but above all professional and vocational instruction and training of a quality and scale quqite unheard of in Britain. It produced a workforce that would instantly cause long queues if it set up shop anywhere in the UK. And it managed the transformation of the Stalinist economy of what the Russian occupation force dubbed the German Democratic Republic (with Vlad Putin as one of the KGB residents).\n",
      "Moreover, as a number of Continental economies show, the shift from manufacturing to service economies were only partial. And a lot of the services are subservient to industrial production. After all King Midas could not live on bullion, nor services.\n",
      "What some understand as (neo)liberalism has in fact been akin to the setup of late robber baron feudalism in the 'autumn' of the Middle Ages (eg the Wars of the Roses), in that \"the Bank of England and the Foreign Office enabled the creation of tax havens that allowed plutocrats, corporations and criminals to hoard their money with disastrous and enduring consequences for humanity\". Utterly unproductive and inefficient crony capitalism, quite unlike the unfettering of productive forces. The evidence is Britain's poor productivity, lack of competitive edge, asset-stripping, negative balance of payments, and above all poor pay. Evinced by the elementary fact that there is no market price for the human habitat.\n",
      "Calling Ronnie's and Maggie's by anything containing the term 'liberal' or 'neoliberal' is an insult to liberal (and Marxist) thinkers of the nineteenth century. John Stuart Mill must be rotating in his grave.\n",
      "There is a lot wrong in Russia, but at least there is a certain terminological honesty expressed by word 'prikhvatisatsia', privatisation as seizure by might. Kitchen language captures 'the banditry of crony capitalism by talking of robbers, looters and frauds'. Vlad Putin as the world's first trillionaire, as shown in Navalny videos.\n",
      "Britain's version is covered by a slightly more pleasing veneer. Or in Osborne's and Johnson's case, wallpaper.\n",
      "\n",
      "##ALPO88\n",
      "https://discussion.theguardian.com/comment-permalink/153638518\n",
      "https://profile.theguardian.com/user/id/12910973\n",
      "\n",
      "\"No one admits to being a “neoliberal”. You cannot vote for the Neoliberal party or join a neoliberal club. Like 21st-century fascism and religious fundamentalism, neoliberalism is a movement without declared adherents.\"...\n",
      "Yes, that's quite correct and I had personal experiences both here in The Guardian, with Australian posters that I strongly suspect are associated with the Neoliberal think-tank \"Institute of Public Affairs\" (IPA), based in Melbourne; and, before that, with similar posters writing their opinions in The Drum online of the Australian Broadcasting Corporation (ABC). So, it is true that, currently, the Neoliberals deny that they exist, why would they do that? Simple, if you don't exist you can't be the target of analyses, criticisms and the offer of alternatives. You cannot be identified as the \"side of politics to beat\"... you are just a ghost.... doing very many nasty things, without being seen, let alone scared away.... But the Neoliberals cannot hide: By their deeds you will recognise them!\n",
      "Historically, however, the Neoliberals did start by proudly identifying themselves. In fact, the term Neoliberalism was introduced by Alexander Rustow at the \"Walter Lippmann Colloquium\" in Paris in 1938, his objective was to offer a new liberalism as an alternative to collectivism, socialism, and laissez-faire liberalism. By Neoliberalism Rustow meant an economic system that prioritises price mechanisms, free enterprise, competition, and a strong and impartial state, to which it was subsequently added deregulation, privatisation, and inequality. In 1951, Milton Friedman wrote that: \"Neo-liberalism would accept the nineteenth century liberal emphasis on the fundamental importance of the individual, but it would substitute for the nineteenth century goal of laissez faire as a means to this end, the goal of the competitive order.\"\n",
      "Subsequently, Neoliberalism spread throughout the capitalist world since the end of the 1970s-beginning of the 1980s, to be also adopted by former communist countries in Eastern Europe after the fall of the Soviet Union. Sadly, during that period, Neoliberalism also sucked in an entire generation of Social Democrats around the world. It took the GFC of 2008 to start an ongoing process of De-Neoliberalisation of Western Social Democratic parties.\n",
      "The Neoliberals cannot hide at all, just Google (or Google Scholar) \"Neoliberalism\" and you will see the shower of articles and books that you will get on the topic.\n",
      "\n",
      "##SPANGLEJ\n",
      "https://discussion.theguardian.com/comment-permalink/153637171\n",
      "https://profile.theguardian.com/user/id/2931607\n",
      "\n",
      "What a crazily muddled article. \n",
      "\"Neo-liberal\" as difficult as a term and confusing to some, because \"liberal\" can be used to mean 100 different things. In this case, it is referring to economic liberalism - free marketeering - downgrading state interference and regulation, upgrading privatisation, voluntary industry standards, reducing universal welfare state and education. It's not a 'conspiracy' any more than Keynesianism - it's just an descriptor of an economic model. Lots of people would argue that neo-liberalism has worked well for the world - propelling social change through strengthened economies and strong business models. I don't agree that the term is take to be necessarily insulting. \n",
      "\n",
      " \"The neoliberals of the 20th century wanted to... uphold markets and competition. As history, this is tediously sentimental.\"\n",
      "\n",
      "You would argue this is not the case? Regan, Thatcher, Bush? Strong markets were a central plank of their economic model - out with unionisation, \"nannying the population\" - instead get on yer bike, pull yourself up, be entrepreneurial. Etc. \n",
      "\n",
      "\n",
      "Were they really preceded by a social democratic golden age? (The movements to empower women, ethnic minorities and gays and lesbians did not think so.)\n",
      "\n",
      "This is disinguenous comment. These movements were fighting hard for legislative change through the 1970s and before. Forms of protest were not outlawed, striking was not illegal. Universal education and welfare a thing. The post-war contract was still in motion. There was a sense of moving forward with this, not dismantling it and have a (quote): \"bonfire of regulations\"\n",
      "\n",
      "To take an everyday example: since Thatcher’s government privatised the water industry in 1989, managers and shareholders have exploited their monopoly power to take almost £60bn in profit. In 2020, the companies spent 3.1m hours dumping sewage into rivers. I accept that no mid-20th-century government would have contemplated handing over water companies to negligent profiteers. But to call today’s politicians and regulatory authorities, who sit back while monopolists cover the countryside in excrement, “neoliberals” is to let them off lightly.\n",
      "\n",
      "My friend, I think it is you have no idea what the economic term \"neo-liberal\" means, what it purports, why, and what they are aiming for. The article is a mess.\n",
      "\n",
      "##ROLLERRULER\n",
      "https://discussion.theguardian.com/comment-permalink/153638767\n",
      "https://profile.theguardian.com/user/id/104006251\n",
      "\n",
      "I agree neoliberalism is not well defined, Starmer's relationship to the Labour party membership is now well defined, it is defined by betrayal, ten promises he has now made clear he will not keep and the promise he has kept to is to exclude the left.\n",
      "How should the Left respond to Starmer's attacks and exclusion from the shadow cabinet? The Left gave Blair conditional and critical support in the hope some progress would be achieved. What little progress was made under Blair, under pressure from the Left of the party, was quickly rolled back when the Tories returned to power and any progress made under any 'centrist' Labour party leadership is quickly rolled back and the same will be true of a Starmer government. The Left argument was that it has to give the Labour party critical and conditional support in order for working-class(the wealth creators) are taken through a political 'process' and learn from experience the limitations of 'centrist' Labour government and after the working class(the wealth creators) learn this lesson the most politically conscious layers would learn that Left-wing politics represent working-class(the wealth creators) interests. This strategy didn't work with the Blair government and has not worked in over a century of trying. If a strategy does not work where is the logic in sticking to it?\n",
      "The Left with potential funding from UNITE now available should build a socialist party to offer politics that would upend and overthrow the political status quo. The Left need to represent the political interests of the working-class(the wealth creators) and stop feeding working-class9the wealth creators) alienation from politics and stop working to elect Labour governments under ‘centrist’ cuckoos who offer the working class (the wealth creators) a few more crumbs off the capitalists extravagant dining tables. The Left knows and has no illusions that Starmer will tinker with the system, he will not change anything fundamentally and the Left knows Starmer is another Blair and under successive Blair, governments increasing numbers of working-class(the wealth creators) became alienated from politics and stopped voting. The Left knows the working class(the wealth creators) need fundamental change, the Left needs to offer that fundamental change.\n",
      "\n",
      "##VECSLACPLESIS\n",
      "https://discussion.theguardian.com/comment-permalink/153637192\n",
      "https://profile.theguardian.com/user/id/12298271\n",
      "\n",
      "None of the governments mentioned were neo-liberal, which i would describe as allowing the capitalist system to operate as unhindered by government policies or regulations as possible: and accepting that countries should concentrate on those areas of economic activity where they had a competitive advantage. That's why \"neo-liberals\" like Raab & Minford wanted the UK to leave the EU: because it was too interventionist. And why Minford fully expected the UK to lose most if not all of our manufacturing industry post-Brexit and accepted it as being inevitable.Neoliberalism has been confused with the view that the private sector can run utilities better than the public sector. Although a notion that capitalist competition would make these industry be leaner and fitter was present, that was a secondary consideration: not least because certain industries (e.g. water and railways) are in effect natural monopolies where competition is impossible, in practice. Hence the results for the privatised water industry which Cohen mentions, which have little, if anything to do with neoliberalism.The extent to which governments since 1979 carried out or believed in neoliberal policies varied. Blair & Brown barely challenged the ideology that capitalist competition was an effective basis for the economy, while plainly content to use government regulation (including EU regulation) as necessary. In a country where the majority of voters don't vote for the conservatives, inevitably any government is required to respond to majority opinion: hence moves towards less regulation have been more limited than the promises. What we have in practice is a partly-regulated capitalism in an economy which is based largely on rentier capitalism, with the Johnson government adding a new level of crony capitalism. Of course, there are some extreme left wingers who attack politicians they abhor as supporting neoliberalism: but at the extreme, many would do away with capitalism altogether, while probably most would be content with nationalising the natural monopolies & regulating much further.However, a more important question than any of this analysis is how or if capitalism can adapt to the challenges of climate change?\n",
      "\n",
      "##BLUTGRAETSCHE\n",
      "https://discussion.theguardian.com/comment-permalink/153638297\n",
      "https://profile.theguardian.com/user/id/14817834\n",
      "\n",
      "None of his personal corruptions, however, can hide the truth that Johnson is a nationalist, who appeals to deep chauvinist sentiments rather than class interests. No economic liberal, neo or otherwise, would pull the UK out of the world’s richest single market. Conservatives fooled themselves that Brexit would bring a deregulated society. But we should pay more attention to the world as it is than to the fantasies of the delusional and see that, instead of a Singapore-on-Thames, they have undermined exporters and brought tax to its highest level since the 1960s, an era the Thatcher revolution supposedly finished off.\n",
      "\n",
      "This is the huge contradiction of Brexit, indeed. The main protagonists always had the intention to position the UK as low regulation, low tax competitor to the \"bureaucratic\" EU, only to be drowned in red tape, extra buraucracy and lower competitiveness of the British economy in the real world of modern trade. \n",
      "Thatcher, hardly a pro-European herself and an English nationalist as well, knew this. She was pragmatic enough to understand the huge benefits of a big common market with unified standards and low / non-existent barriers of trade. \"Neo-liberal\" or not, that is just common sense. \n",
      "The chauvinist Torykippers lack that common sense, just like the \"Lexiter\" useful idiots on the far-left who believe that a socialist utopia is now on the horizon for Britain after having left the EU. A socialist utopia that was delivered by the most shady fringes of the Conservative party who would would rather sell their own grandmother than increase social standards. \n",
      "Plus, there is the factor of a globalised economy. Europe does not exist in a vaccum. Only the big common market allows Europe to keep the relatively high social standards. Europe can not compete with China on price. Imagine the US being split in 50 different economies without a big common market - they'd be an irrelevance compared to the dominant status of the US today.\n",
      "\n",
      "##REIDMALENFANT\n",
      "https://discussion.theguardian.com/comment-permalink/153636382\n",
      "https://profile.theguardian.com/user/id/10017523\n",
      "\n",
      "Well of course. NeoLiberalism always was simply an extension of Liberalism. The Neo part of the name was always a misnomer. But then the whole philosophy was a sleight of hand. The whole of it was designed to confuse and divert, to keep people looking too closely at it's effects. Words used to disguise Reality. Just like Liberalism itself.\n",
      "I'm at risk of serially repeating myself here but it's again relevant, and as it's the heart of our Society it will remain so. Western Liberal Society is based around the claim that we voluntarily give up Freedom in exchange for the Security Society can offer us. \n",
      "All our Politics, Left or Right, revolve around this. Every debate in Parliament, or Congress, or any other form of Government in Western Liberalism, is about one question: How much Freedom do we have to give up, and how much Security do we get in return?\n",
      "How much Tax should we pay? Has the Government the Right to enforce Lockdown? How much do we spend on the NHS? Can we ban smoking in Public Places? All these are different forms of that same question. Everything in Liberal Society revolves around that question.\n",
      "NeoLiberalism, as far as I understand it, simply equates Wealth more directly with Freedom. Instead of Wealth being a proxy for Freedom, an abstract form of it, NeoLiberalism says they are the same and so should be treated the same. So when you are putting controls on Wealth you are putting controls on Freedom. \n",
      "And because we are a Liberal Society and we should limit controls on Freedom as much as possible, then we shouldn't control the use or the accumulation of Wealth. It's not the business of the State, outside the negotiation of how much we should be expected to give up for Security.\n",
      "It's just as much a crock of shit as the rest of Liberalism. It's based on complete nonsense. None of it makes sense in the real world, and all of it is the root cause of Humanity's problems. NeoLiberailism isn't the problem, Liberalism is.\n",
      "\n",
      "##JONNIESTEWPOT\n",
      "https://discussion.theguardian.com/comment-permalink/153638179\n",
      "https://profile.theguardian.com/user/id/1196879\n",
      "\n",
      "It's a perfectly respectable academic word. The fact it's misused if anything proves it. All politically charged words are. Socialism, communism, fascism. The former two get greater traction in their understanding but fascism is an easy term of abuse though harder to define, that doesn't detract from its academic usage, which is surely where the word is at its most useful. \n",
      "Nothing wrong that some people grope towards using it effectively many given time will. \n",
      "It's clear that 1979 was a watershed in politics with Regan and Thatcher pushing further to the right and Deng Xiaoping in China opening up that economy to globally manufacturing goods for the world so creating the fastest-growing economy of all major countries. \n",
      "We can see in the West as shown in the article the extraction of wealth for the rich at the expense of the poor. Made worse in our country because of the fiscal policies of the Tories over the last 11 years. Even to the extent of natural utilities like energy and water. \n",
      "Robbers and crooks they surely are, but it is that system of neo-liberalism that gave the crooks that opportunity. As we now see it goes right to the heart of government where ministers have given PPE contracts to family and friends. Spent £37 billion on track and trace which no one I know has ever seen. That money could have gone to the NHS to run that system as was done with the vaccine. \n",
      "All of it is excused in our country by the ideology of the free market the private sector good the public sector bad. Neoliberalism can easily be defined as a system the consequence being that poverty has flourished despite the growing GDP in those countries. That let Blair off the hook, being grounded by Brown. \n",
      "It's a vampire system unsustainable in the long term as it gives rewards to a small section of society by not collecting fair taxes arguing that it produces more wealth that the majority of the country misses out on.\n",
      "\n",
      "##SOMEHOWRATIONAL\n",
      "https://discussion.theguardian.com/comment-permalink/153639308\n",
      "https://profile.theguardian.com/user/id/17763035\n",
      "\n",
      "I use the term meaning a world view that treats the market and capitalism not as a useful economic tool, but as something untouchable that is supposed to bring solutions in all kinds of areas. Capitalism not as a mere economic system but as a guiding principle for everything.I associate the term with a drive to privatize everything as well as confusing democracy with socialism. Everything is being called \"socialist\" even when it is just democratic common sense as soon as there is a role for the state in it. Not wanting to privatize infrastructure is not socialist.Similarly there is the idea that society doesn't exist as such, but that it is nothing but a collection of individuals. Which is true in a sense, but that it similar to saying a table doesn't exist as it is nothing but a collection of atoms. There is also the idea connected to it that there is no such thing as public service and that politicians are always only out for their own interest. Which is of course a perfect justification for corruption and goes hand in hand with the disdain for regulation. Of course criminals dislike regulation and red tape.In other words \"neoliberalism\" is denying the existence of a public sphere in the democratic sense as this view denies the very existence of a public as well as the idea of a \"public interest\". The \"state\" is seen as something alien and evil, best reduced to as small an existence as possible. This worldview is fundamentally anti-democratic in my opinion. There is complete lack of understanding that in a democracy the state is the political representation of the people. Maybe a different term would be better than \"neoliberalism\", the term doesn't matter as much. But these concepts are widespread, influential and - in my view at least - very damaging.\n",
      "They have also prepared the ground for Trump and others like him, by spreading cynicism about democracy wherever you look.\n",
      "\n",
      "##BLISSEX\n",
      "https://discussion.theguardian.com/comment-permalink/153638731\n",
      "https://profile.theguardian.com/user/id/16345762\n",
      "\n",
      "Globalization yes, but it was mostly \"labour market reform\", that is cheaper wages by any means, not just globalization.\n",
      "Before WW1 the English Empire had already achieved a high degree of globalization (and of cheap wages), J.M. Keynes wrote:\n",
      "ttp://www.econlib.org/library/YPDBooks/Keynes/kynsCP2.html\n",
      "\n",
      "“What an extraordinary episode in the economic progress of man that age was which came to an end in August, 1914! ... The inhabitant of London could order by telephone, sipping his morning tea in bed, the various products of the whole earth, in such quantity as he might see fit, and reasonably expect their early delivery upon his doorstep; he could at the same moment and by the same means adventure his wealth in the natural resources and new enterprises of any quarter of the world, and share, without exertion or even trouble, in their prospective fruits and advantages; or he could decide to couple the security of his fortunes with the good faith of the townspeople of any substantial municipality in any continent that fancy or information might recommend. He could secure forthwith, if he wished it, cheap and comfortable means of transit to any country or climate without passport or other formality, could despatch his servant to the neighboring office of a bank for such supply of the precious metals as might seem convenient, and could then proceed abroad to foreign quarters, without knowledge of their religion, language, or customs, bearing coined wealth upon his person, and would consider himself greatly aggrieved and much surprised at the least interference. But, most important of all, he regarded this state of affairs as normal, certain, and permanent, except in the direction of further improvement, and any deviation from it as aberrant, scandalous, and avoidable.”\n",
      "\n",
      "Note that of course it is written from the point of view of a \"gentleman\", that is an affluent rentier.\n",
      "\n",
      "##HARTEBEEST\n",
      "https://discussion.theguardian.com/comment-permalink/153638055\n",
      "https://profile.theguardian.com/user/id/14862790\n",
      "\n",
      "It's very obviously true that there was a tendential growth in the functions exercised via the public rather than private sphere post-wwii to the 1970s, and that this trend then revesed, broadly speaking, for the next decades up to roughly 2008. This is the case for the UK, but also dozens of countries (with slightly different dates and to slightly different degrees) from the US to Mexico to Germany to Indonesia. \n",
      "There are clearly nuances to this, as one would expect from a global tendency which impacted unevenly across the world and mixed with existing socio-economic arrangements. But that complexity at the local scale does not in anyway negate what is a very clearly evident global trend over time. This is not really arguable. \n",
      "Second, if you know anything about the support for brutal dictatorships from Latin America to SE Asia by what might broadly he called neoliberal economists, or about the social impacts of IMF-demamded austerity programmes across the developing world, you wouldn't regard 'neoliberal' as such a toothless condemnation.\n",
      "And last, if you'd followed even really mainstream debates in recent years, from Adam Tooze to Ian Bremner to Branko Milanovic, and even occasionally on these pages, you'd be aware that there's been a great deal of discussion over the new global populist right and whether that represents a new and distinc phenomenon from neoliberalism. Personally my view is that the latter is (unevenly) breaking down, as the economy tendentially stagnates and the state is gradually stepping in to backstop profit-making in various ways- and some of this is explicitly justified in terms of competing with China, where the state already excerises those functions to a much greater degree.\n",
      "\n",
      "##UNCLESTINKY\n",
      "https://discussion.theguardian.com/comment-permalink/153639306\n",
      "https://profile.theguardian.com/user/id/15951142\n",
      "\n",
      "“It comes from a very ancient democracy, you see...\"\"You mean, it comes from a world of lizards?\"\"No,\" said Ford, who by this time was a little more rational and coherent than he had been, having finally had the coffee forced down him, \"nothing so simple. Nothing anything like so straightforward. On its world, the people are people. The leaders are lizards. The people hate the lizards and the lizards rule the people.\"\"Odd,\" said Arthur, \"I thought you said it was a democracy.\"\"I did,\" said Ford. \"It is.\"\"So,\" said Arthur, hoping he wasn't sounding ridiculously obtuse, \"why don't people get rid of the lizards?\"\"It honestly doesn't occur to them,\" said Ford. \"They've all got the vote, so they all pretty much assume that the government they've voted in more or less approximates to the government they want.\"\"You mean they actually vote for the lizards?\"\"Oh yes,\" said Ford with a shrug, \"of course.\"\"But,\" said Arthur, going for the big one again, \"why?\"\"Because if they didn't vote for a lizard,\" said Ford, \"the wrong lizard might get in. Got any gin?\"\"What?\"\"I said,\" said Ford, with an increasing air of urgency creeping into his voice, \"have you got any gin?\"\"I'll look. Tell me about the lizards.\"Ford shrugged again.\"Some people say that the lizards are the best thing that ever happenned to them,\" he said. \"They're completely wrong of course, completely and utterly wrong, but someone's got to say it.\"\"But that's terrible,\" said Arthur.\"Listen, bud,\" said Ford, \"if I had one Altairian dollar for every time I heard one bit of the Universe look at another bit of the Universe and say 'That's terrible' I wouldn't be sitting here like a lemon looking for a gin.”\n",
      "Douglas Adams, So Long, and Thanks for All the Fish\n",
      "\n",
      "##MICK233489\n",
      "https://discussion.theguardian.com/comment-permalink/153637436\n",
      "https://profile.theguardian.com/user/id/105349314\n",
      "\n",
      "I can’t speak for academia, but in politics I know that the cry “neoliberal” is a certain sign that I am in the presence of the far left. It must maintain there is no difference between Tony Blair’s Labour government and any government Keir Starmer may lead, and the Tories.\n",
      "\n",
      "To be fair that isn't a leftwing delusion. Tony Blair's government would have been to the right of the majority of Post-war Conservative governments. Look at its record.\n",
      "Taxes weren't increased on the rich, major landowners were left untouched, the financial sector was barely regulated, there was no industrial policy and British company after British company was either sold off or run into the ground by incompetent British executives. Blair's government did nothing to restrain private equity and did nothing about the reward for failure culture of rich Britain. While barely enforcing the minimum wage and leaving it at poverty levels.\n",
      "The only leftwing things they did was, one increase public speeding. Something which happened in the middle of a boom fuelled by debt and a housing bubble. The Tories would have done the same and much of Labour's spending was diverted to their pals in the private sector via ripoff PFI schemes.\n",
      "The second leftish thing they did was a vague embrace of identity politics, which is something wealthy types on the left love to do, to pretend they haven't gone full Tory. A bit of feminism here, a quota there doesn't threaten their second home or their kids private education.\n",
      "So it is not an unfair charge to call Blair's government a government of red Tories.\n",
      "\n",
      "##BLISSEX\n",
      "https://discussion.theguardian.com/comment-permalink/153638541\n",
      "https://profile.theguardian.com/user/id/16345762\n",
      "\n",
      "«But the neoliberals of the 20th century wanted to empower the state to create and uphold markets and competition»\n",
      "Neoliberal can mean many things, but usually it is taken to mean the \"Washington Consensus\" of policies, which has been described 20 years ago by Peter Mandelson this way:\n",
      "“in the urgent need to remove rigidities and incorporate flexibility in capital, product and labour markets, we are all Thatcherites now”\n",
      "Of these by car the most important has been \"Labour market reform”, that is lower wages and more insecure jobs thanks to anti-union policies and competition fro offshoring and immigrants. The second has been globalized capital markets, and more flexibility in product markets has been a distant third as policy goal (except in the EU).\n",
      "But politically neoliberalism is different from the original liberalism in some very important aspect: the state funding, bailing out, and in general protecting of the interests of incumbents, such as property and finance rentiers, which was extraneous to the original of liberalism, under which the state should not have any \"national champtions\" or favoured constituencies.\n",
      "So in practice apart from cheaper wages and globalized capital and products, he other essential component of neoliberalism has been high inflation rates of housing costs, and an ever growing percentage of GDP consumed by the finance sector, which have given neoliberal politics the support of two important constituencies, property owners as votes for neoliberalism, and finance spivs as \"sponsors\".\n",
      "\n",
      "##PARCELOFROGUE\n",
      "https://discussion.theguardian.com/comment-permalink/153637709\n",
      "https://profile.theguardian.com/user/id/3489183\n",
      "\n",
      "\"Since Thatcher’s government privatised the water industry in 1989, managers and shareholders have exploited their monopoly power to take almost £60bn in profit. In 2020, the companies spent 3.1m hours dumping sewage into rivers. So great has been their failure to reinvest even a small portion of the money they take, south-east England may soon face water shortages.\" \n",
      "\n",
      "This is an amazing analgam of facts. It explains why many wealthy people and companies were so desperate to buy into the water industry when they had no experience or understanding of it in some cases. Merely an accountant's understanding of the bottom line and how to maximise it. \n",
      "This is the unacceptable face of capitalism that screams for strict regulation, with enforcement and appropriately heavy fines, or public ownership. It is an issue that resonates almost as much with the average Tory as with centre and left wing parties. It ought to be one of the issues that unseats this corrupt and purulent shower from power. FPTP voting not only ruins many people's lives from the resultant government and policies, but also those in the natural world.\n",
      "Public ownership would end the siphoning off of the money for Investment and might be the best answer if it could somehow avoid then becoming a cash cow for the Treasury, a body little-known for investing in public services or infrastructure out side of the S.East.\n",
      "\n",
      "##BOBBYBB72\n",
      "https://discussion.theguardian.com/comment-permalink/153637920\n",
      "https://profile.theguardian.com/user/id/105630708\n",
      "\n",
      "Well speaking as someone from the left. Who Nick Cohen would no doubt describe as an extremist.Its a pleasant surprise to see him write a decent article.\n",
      "Liberals seem perplexed by the popularity of Johnson in declining industrial heartlands (I was born and raised in one). Johnson (and to a lesser extent brexit) represents something opposed to the pro globalisation of Blair and Cameron. Many are aware of his dishonesty but populism (and the regular U-turns on toxic ideas) appear preferable to the hard 'tough choices' of previous Conservative leaders. Tough choices that fell on the backs of poorest. \n",
      "So in that sense Johnson is a greatest hits complication of state intervention (sweeteners to car makers), nationalism and false optimism. In that sense - he's neither pro globalisation or has a sworn allegiance to Thatcherism (there a members of shadow cabinet economically further to the right). Many Conservative MPs dislike him because he's not a Hayek obsessive. Basically an entitled con-man who wants to popular. \n",
      "And as Mr Cohen obereves. The Singapore on Thames dreams hasn't come to fruition because the globalization cheap labour tap has been switched off.As a remain voter - I must admit I've enjoyed watching the middle classes and exploitative bosses whinging about the lack of post brexit staff. Every cloud....\n",
      "If they Tories have any sense - they'll keep Johnson.\n",
      "\n",
      "##BORTHOLOMEW\n",
      "https://discussion.theguardian.com/comment-permalink/153638935\n",
      "https://profile.theguardian.com/user/id/103305589\n",
      "\n",
      "All were neoliberals. Cutting taxes, diminishing public sector and right wing bullshit to claim the right wing policies like cutting progressive taxes and adding regressive taxes or tax-like fees, adding austerity because of the endless tax cuts to rich people and corporations and then claim it's \"moderate\". The policies are behind what we call neoliberals.\n",
      "\"I cannot imagine the ghost of Friedman applauding a government that raises taxes on employers and employees to protect the property of wealthy retirees.\"You can't? I can. Tax cuts to corporations and the rich means debt. That means tax raises and austerity for others. And the Friedman's hypothesis was all bullshit. It doesn't work. Neither does Laffer's bullshit. Neither did Reagan's bullshit. Neither did Thatcher's bullshit. Because it's right wing neoliberal bullshit. Tax cuts=debt. Not more money for everyone=debt. That means tax rises and austerity. We already know that neoliberal policies are bullshit. The facts have been measured many times in four decades.\n",
      "Also, the authoritarians and populists use ANY ideology or religion to gain more power and/or money. Now it is capitalism mixed with nationalism and populism. Whatever suits them the best. The capitalists are nationalists from the past and when we notice the capitalism's faults, they go back to their nationalistic antics. All right wing bullshit.\n",
      "\n",
      "##KOFIANNAN\n",
      "https://discussion.theguardian.com/comment-permalink/153636369\n",
      "https://profile.theguardian.com/user/id/2457376\n",
      "\n",
      "Ah, Cohen demonstrating his complete misunderstanding of what neoliberalism is! All because he's too eager to sidestep the fact of neoliberalism being used as an insult nowadays. You can call it whatever you want, global Thatcherism/Reaganism or whatever but you cannot avoid what it is: a supposedly liberal economic and social order or settlement that flows out of the west's supposed triumph over the USSR when it was believed that all we needed to do was put a McDonalds in every former Soviet state, China, the Middle East etc because apparently no countries with a McDonalds ever went to war. Back then Fukuyama was declaring the end of history. It's an order that elevates the market to the highest realm as the one and only solution to humanity's contemporary problems. Some of us are old enough to recall the World Bank, IMF etc foisting this order on developing countries in the form of structural adjustment programmes, which essentially meant privatising public assets, from healthcare to education. You can see it in Latin America, in Africa etc, the outcome of the Thatcherite belief that there's no such thing as a society but individuals. There's a reason Thatcher called Blair his true heir. But of course, let's pretend. Is it because what the figures above are increasingly being caught out on the wrong side of history?\n",
      "\n",
      "##PETEASHTON\n",
      "https://discussion.theguardian.com/comment-permalink/153636942\n",
      "https://profile.theguardian.com/user/id/1391461\n",
      "\n",
      "When I was a kid, if I didn't know what a word meant I was told to look it up. Then I knew what it meant and could use it appropriately. \n",
      "Neoliberal is fairly easy to look up. The meaning might not be settled, but we are technically still living within it so that's to be expected. \n",
      "If you feel excluded by people using words and concepts you haven't encountered before, it's not too hard to copy and paste them into the Wikipedia search box. \n",
      "For example, I had not come across the word \"obscurant\" before, so I looked it up. I now know:\n",
      "\n",
      "Obscurantism and Obscurationism describe the practice of deliberately presenting information in an imprecise, abstruse manner designed to limit further inquiry and understanding. There are two historical and intellectual denotations of Obscurantism: (1) the deliberate restriction of knowledge—opposition to disseminating knowledge;and (2) deliberate obscurity—a recondite literary or artistic style, characterized by deliberate vagueness.\n",
      "\n",
      "The use of this word was not an act of obscurantism because I was equipped with the ability to look it up, as are we all (caveats apply).\n",
      "We assign words to things and ideas in an attempt to find their boundaries and start the process of understanding them in more detail. That process will be messy but that's OK.\n"
     ]
    }
   ],
   "source": [
    "all_comments.sort(key=lambda x : -len(x) )\n",
    "print( '\\n\\n'.join(all_comments[:20]) )"
   ]
  },
  {
   "cell_type": "code",
   "execution_count": 18,
   "metadata": {},
   "outputs": [
    {
     "name": "stderr",
     "output_type": "stream",
     "text": [
      "[nltk_data] Downloading package vader_lexicon to\n",
      "[nltk_data]     /home/gregmcshane/nltk_data...\n",
      "[nltk_data]   Package vader_lexicon is already up-to-date!\n"
     ]
    }
   ],
   "source": [
    "#https://towardsdatascience.com/sentimental-analysis-using-vader-a3415fef7664\n",
    "\n",
    "import nltk\n",
    "#nltk.download('vader_lexicon')\n",
    "\n",
    "from nltk.sentiment.vader import SentimentIntensityAnalyzer\n",
    "\n",
    "sid = SentimentIntensityAnalyzer()"
   ]
  },
  {
   "cell_type": "code",
   "execution_count": 22,
   "metadata": {},
   "outputs": [],
   "source": [
    "a = '''My views haven't changed. Leaving the EU will be of no benefit to anyone except those who hold money and power along with certain corporates and a smidgen of medium to small businesses.\n",
    "How else can it be when you are shutting shop to the most developed nations, the richest nations in the world, who are either in the EU or have market agreements with the EU. Even the emerging markets of China and India along with other developing economies are aspiring to develop trading agreements with the EU, the second largest economy in the world. Any deal with the UK will be secondary and will depend upon their agreement with the EU.\n",
    "Boris Johnson once said \"f**k business\". I take this as meaning there is something in it for them and they don't really care if businesses find it difficulA\n",
    "t to cope.\n",
    "I can see ministers and conservative MPs queuing to fill their pockets by acting as advisors for potential trade deals whilst the rest of the country are left struggling trying to rebuild their lives, especially following the pandemic. The same ministers will probably be looking to lower all kinds of standards from food and welfare to safety at work to improve their opportunities.\n",
    "When it comes to brinkmanship, I can only view this as getting away with whatever they can. I do not believe it is anything to do with negotiating an agreement that will be to the benefit of the UK or the EU as a whole, I don't believe our ministers are capable of doing that.'''"
   ]
  },
  {
   "cell_type": "code",
   "execution_count": 24,
   "metadata": {},
   "outputs": [
    {
     "ename": "TypeError",
     "evalue": "sentiment_valence() missing 4 required positional arguments: 'sentitext', 'item', 'i', and 'sentiments'",
     "output_type": "error",
     "traceback": [
      "\u001b[0;31m------------------------------------------------------------\u001b[0m",
      "\u001b[0;31mTypeError\u001b[0m                  Traceback (most recent call last)",
      "\u001b[0;32m<ipython-input-24-6f3326dcf5de>\u001b[0m in \u001b[0;36m<module>\u001b[0;34m\u001b[0m\n\u001b[1;32m      1\u001b[0m \u001b[0msid\u001b[0m\u001b[0;34m.\u001b[0m\u001b[0mpolarity_scores\u001b[0m\u001b[0;34m(\u001b[0m\u001b[0ma\u001b[0m\u001b[0;34m)\u001b[0m\u001b[0;34m\u001b[0m\u001b[0m\n\u001b[0;32m----> 2\u001b[0;31m \u001b[0msid\u001b[0m\u001b[0;34m.\u001b[0m\u001b[0msentiment_valence\u001b[0m\u001b[0;34m(\u001b[0m\u001b[0ma\u001b[0m\u001b[0;34m)\u001b[0m\u001b[0;34m\u001b[0m\u001b[0m\n\u001b[0m",
      "\u001b[0;31mTypeError\u001b[0m: sentiment_valence() missing 4 required positional arguments: 'sentitext', 'item', 'i', and 'sentiments'"
     ]
    }
   ],
   "source": [
    "sid.polarity_scores(a)\n",
    "sid.sentiment_valence(a)"
   ]
  },
  {
   "cell_type": "code",
   "execution_count": 12,
   "metadata": {},
   "outputs": [
    {
     "name": "stdout",
     "output_type": "stream",
     "text": [
      "##SNAFU5001\n",
      "https://discussion.theguardian.com/comment-permalink/151314550\n",
      "https://profile.theguardian.com/user/id/11745420\n",
      "\n",
      "Ah bless, a dispirited Fox News ‘journalist’ justifying their existence.\n",
      " Nope not a conservative or a liberal just a realist. \n",
      "\n",
      "So tell us Snafu5001 how does injecting bleach cure Covid or protect us from Covid? Because Fox News certainly didn’t bother holding **TRUMP** to account on this one.\n",
      " Ideologs have a tendency to spin everything to support their ideology. Was **TRUMP** an asshole, yep. Does that make me liberal now? No. \n",
      "\n",
      "Secondly how did **TRUMP**s deal with the Taliban work out? The US was supposed to have left by May and Fox News **TRUMP**eted **TRUMP** super peace deal with the Taliban. Any news and comment from Snafu5001 on the reality of that?\n",
      " People said on both sides of the isle that his peace deal was stupid. Having spent time in Afghanistan I thought it was stupid. **TRUMP** went around changing all of Obama's deals and Biden and team have been going around changing all of **TRUMP**'s deals. Biden and the Dems said their hands were tied on the deal but yet they can change everything else? Please explain. Biden didn't change it because he didn't want to change it and on top of it his planning along with his 4 star generals was shit. \n",
      "\n",
      "Looking forward to your objective views on right wing journalism holding power to account.\n",
      " Just because you think with your ideology does not mean everyone does. Right wing journalism is no better than left wing journalism. They both spew lies and they both spin events so that their ideology doesn't get harmed. I view the Guardian in the same sceptic view as I do Fox news, MSNBC and CNN, Washington post and times as well as the Telegraph, but if you want to try and understand what's going on you have to expose yourself to all kinds of views so you can formulate your own opinions. You should try it.\n",
      "\n",
      "##DAVE_P\n",
      "https://discussion.theguardian.com/comment-permalink/151312662\n",
      "https://profile.theguardian.com/user/id/15447889\n",
      "\n",
      "and most significantly by the American president, Joe Biden.\n",
      "Right country, wrong President. It was **TRUMP** who reduced the US military presence from 13,000 to a mere 2,500 by the time he left office, handing bases & equipment to the Afghan army as he went so there was little to go back to: since taking office Biden's withdrawn hardly any of the remaining forces, instead extending **TRUMP**'s May 1 target for full evacuation by four months. \n",
      "Biden may have been all but useless but this isn't his fiasco, it's down to Republicans all the way, and if they'd won last November this would have happened sooner with still less consideration for Afghans trapped in the catastrophe: **TRUMP** isn't exactly the sort to welcome refugees, even those who've risked their lives to help the US. \n",
      "The intelligence seems to have been woeful all round, suggesting little improvement in real terms since Iraq \"cakewalk\" days, with no-one apparently noticing as the Taliban quietly negotiated local handovers with the army commanders Washington had just gifted with billions in facilities and hardware. The west wasn't outfought, it was outmanoeuvred politically as locals faced the prospect of carrying on the war alone and had other ideas. \n",
      "As for Raab, it's just the usual Tories being Tories: where else would they be but soaking up the good life as others suffer? Johnson's worry is probably where he'll scuttle off to next time he wants to avoid an embarrassing Commons debate now that Kabul's off the quickie visit list for the time being.\n",
      "\n",
      "##STEAMBUFF\n",
      "https://discussion.theguardian.com/comment-permalink/151310959\n",
      "https://profile.theguardian.com/user/id/16689593\n",
      "\n",
      "Ben Wallace predicted exactly this when **TRUMP** surrendered in Doha, he said it was a shabby and stupid deal but nobody in the Cabinet wanted to listen because they were fixated on a US-Trade Deal. He predicted this again when Biden made his announcement about speeding up the great skedaddle, but again the Cabinet were fixated on a US-Trade Deal. He approached NATO allies like France and Germany (and others), warned of the consequences and asked them to help make up the American short-fall. None of them were the remotest bit interested, all citing domestic pressures and \"what the voters wanted.\" He was quite right Britain couldn't remain the sole foreign player on the ground, he knew the US State Department had been lying about the capabilities of the ANA. He told the Cabinet all this and they weren't interested. Ben Wallace is a former soldier, he \"knows\" what it has cost to try and protect democracy, women's rights and basic freedoms in a country that appears to prefer medieval misogyny. He was incandescent when the Foreign Office Officials all hogged the first flights out of Kabul leaving his young soldiers to try and process the visa applications within minutes of arriving and all the computers and files having been destroyed. He may be a Conservative, but he is a man of integrity who puts his men & women on the front-line first and appears to be the only grown-up in the Cabinet.\n",
      "\n",
      "##ROVERTHEHILLANDFARAW\n",
      "https://discussion.theguardian.com/comment-permalink/151314734\n",
      "https://profile.theguardian.com/user/id/10688606\n",
      "\n",
      "\"She must be proud of you!\"Not yet, I haven't told her. I'm thinking of saving it for her Christmas present.\n",
      "Actually I think Biden's actions are the natural end result and I think its the right choice to pull out (I even will give **TRUMP** credit for the decision albeit I doubt his motive was weighed as heavily as Biden's likely was and he did it as a trap for Biden). Politically expedient yes (I think the US populace is generally sick and disillusioned with the war in Afghanistan) but the two alternatives are to stick or twist. Continuing a never-ending mission with Taliban marginal gains and an ongoing civil war or another surge with a more committed attempt at nation building. One an unpopular 'meh' decision (with US and Afghan populace, allies and with a natural enemy in sight), the other a significant investment with no real success horizon in sight.\n",
      "As to Raab, meh, overpromoted like most of the current cabinet. I don't think he's the worst of a bad bunch and not as bad principled like Patel or unsuited to govern (Johnson) but unsuited for a critical office of state.\n",
      "\n",
      "##SNAFU5001\n",
      "https://discussion.theguardian.com/comment-permalink/151312462\n",
      "https://profile.theguardian.com/user/id/11745420\n",
      "\n",
      "You know we Americans are wondering where our vaunted everything is better now that **TRUMP** is gone Democrats were at during all of this as well. I mean come on Biden an the Democrats have been touting how they are correcting **TRUMP**s failures by overturning all he did and then turn around with the media and say the agreement couldn't be changed? \n",
      "Another question I have is where were all of you journalists who go around saying their job is to hold governments accountable? All of you were so were caught up on whether or not you should condemn somebody for not getting vaccinated or waring a mask that you missed out on countless journalism awards by not getting out in front of this. Perhaps we can all learn an important lesson here and go back to actual journalism instead of opinion journalism that proclaims how right you are and how stupid everyone else is based off your personal ideology.\n",
      "\n",
      "##LITMUSTEST\n",
      "https://discussion.theguardian.com/comment-permalink/151314552\n",
      "https://profile.theguardian.com/user/id/102444774\n",
      "\n",
      "Snafu5001 - rather different tone now your original bullshit has been exposed as one sided bollocks blaming just the Democrats.\n",
      "“ You know we Americans are wondering where our vaunted everything is better now that **TRUMP** is gone Democrats were at during all of this as well.”\n",
      "You know we Brits were wondering were the ‘Make America Great Again’ policies were under **TRUMP**. Stillno evidence and certainly no promised trade deal.\n",
      "“ I mean come on Biden an the Democrats have been touting how they are correcting **TRUMP**s failures by overturning all he did…”\n",
      "You hold the democrats to a different standard to the GOP and then maintain an incredulous appearance of neutrality.\n",
      "Maybe you could rewrite your original piece to reflect your current position and we can discuss things further and shed light on political and journalistic honesty.\n",
      "\n",
      "##SNAFU5001\n",
      "https://discussion.theguardian.com/comment-permalink/151312660\n",
      "https://profile.theguardian.com/user/id/11745420\n",
      "\n",
      "It's not about whether the UK was a global power or not the political establishment on both sides of the pond had decided enough was enough. We Americans bare most of the blame for all of this for sure, but Europe wringing their hands about is a bit laughable. The UK sent troops that actually performed combat operations alongside the US, the rest of NATO countries not so much. Why would they, they hated Bush with a passion, totally fucked up Libya alongside Obama, hated **TRUMP** even more than Bush and danced in the streets when Biden got elected. Like I said at least the UK government was willing to put actual combat troops alongside us Americans and bled with rest of over there all for nothing so you I guess you have earned the right to bitch. The loved EU well they need to just shut up.\n",
      "\n",
      "##SNAFU5001\n",
      "https://discussion.theguardian.com/comment-permalink/151314211\n",
      "https://profile.theguardian.com/user/id/11745420\n",
      "\n",
      "Snafu5001, we liberals are wondering what happened to **TRUMP**s ‘historic peace deal with the Taliban’ as touted by the GOP.\n",
      " **TRUMP**s historic peace deal with the Taliban was shit then and is still shit and I believe enough politicians on both sides of the isle said so. Not a conservative or a liberal as I would never caught dead belonging to either party here in the US as I can think for myself and don't need either ideology telling me just how do it. \n",
      "\n",
      "Such a great deal the GOP has deleted its website puff pages because they are so awfully inconvenient.\n",
      " Both political parties delete and blame each other for events all the time it is not a one way street and to suggest otherwise makes you an ideolog and there is more than enough evidence as to what that brings about.\n",
      "\n",
      "##SISSYGALORE\n",
      "https://discussion.theguardian.com/comment-permalink/151311384\n",
      "https://profile.theguardian.com/user/id/17821140\n",
      "\n",
      "Although as usual the failed end-game is actually mostly **TRUMP**'s fault with his fake 'negotiating' with the Taliban for a photo op last year without even inviting the Afgan leadership to the talks; setting an arbitrary withdrawal date for US troops; brokering a deal to leave by releasing thousands of Taliban fighters from jail etc etc. The Afgan administration was corrupt, but **TRUMP** set them up to fail biggly.There's a lot more to this of course. Polly Toynbee's article touches on some of the main failures of the last two decades, and the Biden admin deserve blame for a serious lack of preparation and obvious intel failures.....but yeah, Raab is and always will be a useless tool.\n",
      "\n",
      "##TIPTOPKLIPPITYKLOPP\n",
      "https://discussion.theguardian.com/comment-permalink/151313691\n",
      "https://profile.theguardian.com/user/id/3102885\n",
      "\n",
      "I actually do t think Biden is entirely blameless, although I do feel the fault mainly lies with **TRUMP** who actually made the deal with the Taliban and already withdrew half the US forces before Biden even came into office. (The republicans have quickly removed the articles on their site celebrating **TRUMP**s achievement as bringing peace to the region and accusing Biden of wanting to continue the war indefinitely)As for the article, of course its justified to have go at raab for going off on his jollies just as a major international incident was escalating. This didn't come out of nowhere and events were unravelling even as he packed.\n",
      "\n",
      "##TIPTOPKLIPPITYKLOPP\n",
      "https://discussion.theguardian.com/comment-permalink/151313692\n",
      "https://profile.theguardian.com/user/id/3102885\n",
      "\n",
      "I actually do t think Biden is entirely blameless, although I do feel the fault mainly lies with **TRUMP** who actually made the deal with the Taliban and already withdrew half the US forces before Biden even came into office. (The republicans have quickly removed the articles on their site celebrating **TRUMP**s achievement as bringing peace to the region and accusing Biden of wanting to continue the war indefinitely)As for the article, of course its justified to have go at raab for going off on his jollies just as a major international incident was escalating. This didn't come out of nowhere and events were unravelling even as he packed.\n",
      "\n",
      "##ROSCOBOYLE\n",
      "https://discussion.theguardian.com/comment-permalink/151312236\n",
      "https://profile.theguardian.com/user/id/4706274\n",
      "\n",
      "Taking a (figurative) dump on Biden seems to be the hot take du jour - especially for those types who’ve got their gung ho mixed up with Gunga Din. Next they’ll be saying it’s his Jimmy Carter moment. Actually, Biden was right to follow through with **TRUMP**’s deal… remember the ‘rules’ based international order, where you don’t welsh on deals like the PM and that protocol HM Government agreed? Tories (and Labour members!) having a ‘not since Suez’ moment is eye-wateringly ironic… Iraq, Libya, Syria… the list goes on and on, back to the break up of the Ottoman Empire and the Shahnanigans in Iran and his western-trained torturers .\n",
      "\n",
      "##DAVE_P\n",
      "https://discussion.theguardian.com/comment-permalink/151313427\n",
      "https://profile.theguardian.com/user/id/15447889\n",
      "\n",
      "Well **TRUMP** had no business in Syria beyond what was needed to protect Iraq against Isis, and the best way to do that would have been to work (in return for concessions in Damascus) with Moscow and Tehran which each wanted the jihadists crushed. Instead the same **TRUMP**ian unilateralism achieved little beyond picking pointless fights with Iran which was doing more to stem the jihadist tide than he ever did. \n",
      "This time there's even less to show for the effort, and while the western powers flee the scene in disarray, guess who's keeping a diplomatic presence amid the chaos? Yep, Russia and Iran which know how to sit these things out.\n",
      "\n",
      "##BARRYSTAR\n",
      "https://discussion.theguardian.com/comment-permalink/151312882\n",
      "https://profile.theguardian.com/user/id/2571331\n",
      "\n",
      "The withdrawal and evacuation of those who loyally served us is undoubtedly being mismanaged by the US and UK, and the familiar mixture of HMG insouciance and lack of preparation is exasperating and humiliating as well as, for some, probably deadly. \n",
      "Stepping back and looking at the bigger strategic picture, and without in anyway detracting from horror at the current operational shambles, this is an interesting assessment of Biden's options from March this year, and they were not palatable, in part because he was boxed in by **TRUMP**'s deal with the Taliban. https://blog.politics.ox.ac.uk/the-doha-agreement-what-happens-next/\n",
      "\n",
      "##SUBOOTEO\n",
      "https://discussion.theguardian.com/comment-permalink/151313036\n",
      "https://profile.theguardian.com/user/id/101239662\n",
      "\n",
      "As if Britain could have made any difference once **TRUMP** let the Taleban have control months ago..Given our tendency to outsourced UK foreign policy to the White House disillusion was on the cards.I doubt that Johnson spent too much time reflecting upon the demise of a loosely devised democracy in far away Afghanistan so why blame Dominic Raab for staying abroad topping up his suntan.Global Britain is rapidly shrinking in terms of overseas trade and foreign policy clout but we have apparently 'taken back control' of our declining prospects.Yipee!\n",
      "\n",
      "##LITMUSTEST\n",
      "https://discussion.theguardian.com/comment-permalink/151313038\n",
      "https://profile.theguardian.com/user/id/102444774\n",
      "\n",
      "Ah bless, a dispirited Fox News ‘journalist’ justifying their existence.\n",
      "So tell us Snafu5001 how does injecting bleach cure Covid or protect us from Covid? Because Fox News certainly didn’t bother holding **TRUMP** to account on this one.\n",
      "Secondly how did **TRUMP**s deal with the Taliban work out? The US was supposed to have left by May and Fox News **TRUMP**eted **TRUMP** super peace deal with the Taliban. Any news and comment from Snafu5001 on the reality of that?\n",
      "Looking forward to your objective views on right wing journalism holding power to account.\n",
      "\n",
      "##ENNERDALE\n",
      "https://discussion.theguardian.com/comment-permalink/151310710\n",
      "https://profile.theguardian.com/user/id/10193062\n",
      "\n",
      "Maybe they all should have read Kipling's' 'Arithmetic on the Frontier'A very prescient warning from the past about Afghanistan.'No preposition Euclid wroteNo formulae that text books know Will turn the bullet from your coatNor ward the Tulyar's downward blowStrike hard who cares - shoot straight who canThe odds are on the cheaper man'BTWWhy pick on Biden?He is just the poor sap who got left holding the baby.The original sin was George W Bush and Tony Blair'sCompounded no doubt by whatever dirty deal Donald **TRUMP** really did with the Talban .\n",
      "\n",
      "##EVILBADGER\n",
      "https://discussion.theguardian.com/comment-permalink/151310637\n",
      "https://profile.theguardian.com/user/id/17194066\n",
      "\n",
      "Absolutely nobody saw it coming. Oh, hang on - 2012 https://www.reuters.com/article/us-afghan-nato-report-idUSTRE81006N201202012015 https://www.aljazeera.com/features/2015/10/12/afghans-fear-the-rising-influence-of-taliban2019 https://www.vox.com/world/2019/10/21/20899024/afghanistan-war-us-taliban-peace-talks-**TRUMP**-troop-withdrawal2020 https://www.france24.com/en/asia-pacific/20201123-turning-away-from-afghanistan-will-have-disastrous-consequences-warns-un-refugee-chief\n",
      "You can see why this was a complete mystery to the Foreign Secretary\n",
      "\n",
      "##FADING_BUBBLES\n",
      "https://discussion.theguardian.com/comment-permalink/151313958\n",
      "https://profile.theguardian.com/user/id/100351619\n",
      "\n",
      "It was always going to be a lose lose situation for the US administration.\n",
      "The only real question was how orderly a withdrawal. \n",
      "The more you expedite that withdrawal and compress the time frame, the more you create the appearance of it being a full scale retreat, and so the more the domestic forces think they have no chance so why fight and so the quicker the Taliban advance - one very vicious circle.\n",
      "There is something to be thankful for - **TRUMP** could have been overseeing this cluster fuck and that is a really frightening thought.\n",
      "\n",
      "##PREVIOUSLYID9637740\n",
      "https://discussion.theguardian.com/comment-permalink/151312632\n",
      "https://profile.theguardian.com/user/id/2394257\n",
      "\n",
      "‘No one saw this coming’\n",
      "says *well-informed* man in charge of Brexit negotiations who didn’t realise England was close to France, who hadn’t read the Good Friday Agreement, who thought taking the knee was from Game of Thrones and who resigned over the Brexit deal he negotiated.\n",
      "Michael Wolff was interviewed on RTÉ Radio this morning about his latest book on **TRUMP** (Landslide). Asked if he thought **TRUMP** was incredibly stupid or incredibly smart, he said he thought **TRUMP** had a ‘knowledge deficiency’. It would appear to infectious.\n",
      "\n",
      "##MADORKALLAN\n",
      "https://discussion.theguardian.com/comment-permalink/151312671\n",
      "https://profile.theguardian.com/user/id/103018652\n",
      "\n",
      "While the UK and the US were giving the looters, I mean government, of Afghanistan billions to line their own pockets and wreck the country, what will happen now? They look forward to western sanctions, becoming a blank spot on a map and being forced to starve or escape. It is time that all these countries wrecked by the west were given recompense and restitution for the damage done, perhaps only that will make the Blairs, Bushes and **TRUMP**s think again about putting \"boots on the ground.\"\n",
      "\n",
      "##TIFFIE41\n",
      "https://discussion.theguardian.com/comment-permalink/151312766\n",
      "https://profile.theguardian.com/user/id/17967232\n",
      "\n",
      "SNAFU: Biden's hands were very much tied by the so-called deal **TRUMP** did with the Taliban. Troop numbers were already down to those needed for the withdrawal, and to ramp up again would merely have postponed the inevitable. And BTW that concentration on vaccinations and masks is because 600,000 plus people in the US (and nearly 4.5M worldwide) have died and more are going to die because stupid people aren't listening to the Government.\n",
      "\n",
      "##NIGLES\n",
      "https://discussion.theguardian.com/comment-permalink/151313281\n",
      "https://profile.theguardian.com/user/id/12223500\n",
      "\n",
      "We could start by ...overtly taking more responsibility for the entire fiasco. The BBC seems to be peddling the line (as it is now the 'official' state media) that this is entirely a US cock-up and nothing to do with the UK at all. The conservatives seem hell bent on blaming the Biden administration and not their former 'buddy' in the Whitehouse... **TRUMP** for all this, and washing their hands of it. Global Britain indeed!\n",
      "\n",
      "##LITMUSTEST\n",
      "https://discussion.theguardian.com/comment-permalink/151313201\n",
      "https://profile.theguardian.com/user/id/102444774\n",
      "\n",
      "Snafu5001, we liberals are wondering what happened to **TRUMP**s ‘historic peace deal with the Taliban’ as touted by the GOP.\n",
      "Such a great deal the GOP has deleted its website puff pages because they are so awfully inconvenient.\n",
      "You can of course find them archived here:\n",
      "https://web.archive.org/web/20210615230810/https://gop.com/president-**TRUMP**-is-bringing-peace-to-the-middle-east-rsr/\n",
      "So looking forward to your reply.\n",
      "\n",
      "##BOBSLEIGHT\n",
      "https://discussion.theguardian.com/comment-permalink/151312430\n",
      "https://profile.theguardian.com/user/id/16750679\n",
      "\n",
      "Re the cretin on the Cretan beach: this has been brewing ever since **TRUMP** made the deal with the Taliban. It's just a pity that Biden didn't make the point that this has turned out like the rest of **TRUMP**'s deals. (Perhaps he did and it was just be edited out by the beeb.) About the only good thing that you can say about Raab is that he hasn't (yet) recited Kipling in Mandalay.\n",
      "\n",
      "##GOM1954\n",
      "https://discussion.theguardian.com/comment-permalink/151311314\n",
      "https://profile.theguardian.com/user/id/3630073\n",
      "\n",
      "Point well made - this is not to be laid at Biden's door; this was the **TRUMP**ster going for what looked like an easy win a couple of years ago. Well, it turned out to be an easy win after all, but for the Taliban, not the West. This will go down in history as the second Retreat from Kabul; the last time only Dr Brydon got out alive; I wonder how many will perish this time?\n",
      "\n",
      "##BOSTONVILLA\n",
      "https://discussion.theguardian.com/comment-permalink/151313525\n",
      "https://profile.theguardian.com/user/id/102236133\n",
      "\n",
      "A sorry affair for 20 years. Bad decisions all along, Bush, Obama, continued by **TRUMP** and now Biden. Maybe a slower draw down would have helped and the operational incompetence seems glaring, but long term I'm not sure anyone has any answers. The Afghan army has more equipment and outnumber the Taliban 4 to 1 so when would it be ok to leave them to manage alone?\n",
      "\n",
      "##RUFFLEDFEATHERS\n",
      "https://discussion.theguardian.com/comment-permalink/151312429\n",
      "https://profile.theguardian.com/user/id/10236456\n",
      "\n",
      "**TRUMP**'s withdrawal was conditional.\n",
      "**TRUMP** is bombastic. Did you notice things were relatively peaceful when he was around? He is a bit mad, and other leaders, also a bit mad, could never be sure what he might do.\n",
      "Biden set no conditions.\n",
      "If you start a project, I take it over and see serious problems, ignore them, then the blame lies with me, not with you.\n",
      "\n",
      "##DAVE_P\n",
      "https://discussion.theguardian.com/comment-permalink/151314559\n",
      "https://profile.theguardian.com/user/id/15447889\n",
      "\n",
      "There was, in fact: May 1 was the withdrawal deadline agreed by **TRUMP** & the Taliban, and Biden was the one who extended it, otherwise this would have happened months ago. So his real contribution turns out not to have been withdrawing, but not withdrawing, which was probably just as well but for the failure to get more endangered locals out in the meantime.\n",
      "\n",
      "##CLOUD9DEMOCRACY\n",
      "https://discussion.theguardian.com/comment-permalink/151312863\n",
      "https://profile.theguardian.com/user/id/3589748\n",
      "\n",
      "Thank you Marina, great article about Raab our very own HM UK Govt cretan in speedos\n",
      "If **TRUMP** and Biden agreed to withdraw from the Afghanistan region it may be because the India govt of Modi needs to be shored up now that the Pakistan Taliban & sections of the house of Saudis are so, so yesterday?\n",
      "Ahmed Rashid anyone?\n",
      "\n",
      "##CONFLIMP\n",
      "https://discussion.theguardian.com/comment-permalink/151311582\n",
      "https://profile.theguardian.com/user/id/106247962\n",
      "\n",
      "'Those words could have come right out of **TRUMP**'s mouth.'\n",
      "Any words could come out of **TRUMP**'s mouth. Including covfefious neologisms.\n",
      "Other than that, the US has two major options:\n",
      "1) Colonialism/Afghanistanisation\n",
      "2) Work with the Taliban (to cultivate their own interests - as well as the T's removal)\n",
      "Which do you think?\n",
      "\n",
      "##DONOTBELIEVEME\n",
      "https://discussion.theguardian.com/comment-permalink/151313507\n",
      "https://profile.theguardian.com/user/id/17001075\n",
      "\n",
      "Hardly knee jerk. This has been on the agenda since **TRUMP** negotiated a US troop withdrawal. Afganistan has been reliant on the States for at least 3/4 of its GDP for ten years now. The whole country is corupt because of it. Time for them to sort it out 'cos the US has fucked it up big time.\n",
      "\n",
      "##MALCOLMSPOND\n",
      "https://discussion.theguardian.com/comment-permalink/151311031\n",
      "https://profile.theguardian.com/user/id/13029766\n",
      "\n",
      "What on earth do you think the UK could do once Biden (following up on **TRUMP** who laid the ground in place) decided the US was going to withdraw?By all means say Parliament should have come back, I don't necessarily disagree for the sake of show, but it couldn't do anything.\n",
      "\n",
      "##GERALDINEMITCHELL\n",
      "https://discussion.theguardian.com/comment-permalink/151311173\n",
      "https://profile.theguardian.com/user/id/4085816\n",
      "\n",
      "I am not surprised by the Taliban's take over -so why is he?. I thought it would happen when **TRUMP** first announced the withdrawal, giving them plenty of time to plan. They must have laughed all the way home when **TRUMP** believed their story that they would play nice!\n",
      "\n",
      "##CASSANDRA451\n",
      "https://discussion.theguardian.com/comment-permalink/151313886\n",
      "https://profile.theguardian.com/user/id/105748911\n",
      "\n",
      "On a comparative scale to **TRUMP**, Biden looked good…compared to certain other politicians he looks weak and lacking in judgement. Pandering to the mob (or public opinion-which is a euphemism for the same thing) doesn’t usually gain a politician any respect…\n",
      "\n",
      "##ARCANICS\n",
      "https://discussion.theguardian.com/comment-permalink/151310703\n",
      "https://profile.theguardian.com/user/id/101629661\n",
      "\n",
      "I love that every political stance seems to have found this to utterly prove them right.The right are saying it proves Biden is rubbish, the left that **TRUMP** was.\n",
      "As if the whole of western mainstream politics wasn't fully behind the 20 year waste of time.\n",
      "\n",
      "##NOVIRUSESHERE\n",
      "https://discussion.theguardian.com/comment-permalink/151312306\n",
      "https://profile.theguardian.com/user/id/102376825\n",
      "\n",
      "I am shocked at the Tories attacking Biden, when their mate **TRUMP** started this and the UK had both feet in Afghanistan.\n",
      "Blame Boris and Raab - they were fully briefed but went on holiday!\n",
      "A Republican war, a republican withdrawal, a Tory-**TRUMP** mess?\n",
      "\n",
      "##NONNAJ\n",
      "https://discussion.theguardian.com/comment-permalink/151311513\n",
      "https://profile.theguardian.com/user/id/18212029\n",
      "\n",
      "Surely he should have been considering the thousands of Afghans and their families who helped his fellow countrymen at those crucial times? Surely he should have been doing this ever since **TRUMP** 's withdrawal agreement? He has certainly had enough warning.\n",
      "\n",
      "##DAVE_P\n",
      "https://discussion.theguardian.com/comment-permalink/151314445\n",
      "https://profile.theguardian.com/user/id/15447889\n",
      "\n",
      "Why? It wasn't his withdrawal, it was **TRUMP**'s, and he didn't care about the consequences. Nobody in western official circles saw it coming: even the Taliban were surprised at the speed. The real question is why western intelligence is still so useless.\n",
      "\n",
      "##GEETHOM\n",
      "https://discussion.theguardian.com/comment-permalink/151313100\n",
      "https://profile.theguardian.com/user/id/11804970\n",
      "\n",
      "No one saw this coming, Raab says of Taliban’s rapid Afghan takeover\n",
      "What, not even when **TRUMP** started downscaling American activity and announce troop withdrawals? If they weren't expected to be missed then what was the point of being there at all?\n",
      "\n",
      "##DENSHER\n",
      "https://discussion.theguardian.com/comment-permalink/151311598\n",
      "https://profile.theguardian.com/user/id/10874901\n",
      "\n",
      "Why? It has been US policy because most Americans want out of foreign wars. A bit rich of **TRUMP** and his apostles to attack Biden for implementing their policy. There was never a good time to leave because the army was a phantom.\n",
      "\n",
      "##ANGRYSKEPTIC\n",
      "https://discussion.theguardian.com/comment-permalink/151313520\n",
      "https://profile.theguardian.com/user/id/11577802\n",
      "\n",
      "The decision to leave Afghanistan was made by **TRUMP**, as was peace with the Taliban. Biden was simply carrying out what had already been agreed. Of course, he should have done things differently, but that is another matter.\n",
      "\n",
      "##MIKEATSMILEEND\n",
      "https://discussion.theguardian.com/comment-permalink/151312217\n",
      "https://profile.theguardian.com/user/id/14512879\n",
      "\n",
      "Biden’s administration is 7 months old. **TRUMP** started negotiations with the Taliban behind the Afghan government’s back. I wonder what planning **TRUMP** did. He doesn’t even read. It’s a mess. But it would always have been.\n",
      "\n",
      "##RUFFLEDFEATHERS\n",
      "https://discussion.theguardian.com/comment-permalink/151311825\n",
      "https://profile.theguardian.com/user/id/10236456\n",
      "\n",
      "Global Britain did request other NATO members for help when it became clear how quickly Biden was pulling America out.\n",
      "Unfortunately they vindicated **TRUMP**'s claim that they were not pulling their weight.\n",
      "\n",
      "##ZZADOKTHEPRIEST\n",
      "https://discussion.theguardian.com/comment-permalink/151313464\n",
      "https://profile.theguardian.com/user/id/104934797\n",
      "\n",
      "Biden's job is not a difficult one is it if all he has to do is to not be **TRUMP**?��We could all do that couldn't we?In fact there is literally only one person who couldn't!\n",
      "\n",
      "##NOVIRUSESHERE\n",
      "https://discussion.theguardian.com/comment-permalink/151313344\n",
      "https://profile.theguardian.com/user/id/102376825\n",
      "\n",
      "So bold to deport, so eager to burn bridges with EU, so bold to complain against non-**TRUMP** USA.\n",
      "A nation that claimed it was a beacon of light... \n",
      "Clap for Boris.\n",
      "\n",
      "##SAGARMATHA1953\n",
      "https://discussion.theguardian.com/comment-permalink/151312693\n",
      "https://profile.theguardian.com/user/id/100507122\n",
      "\n",
      "President Biden was lounging at Camp David.\n",
      "\n",
      "That's because he's now retired. Didn't you hear? Donald **TRUMP** was reinstated as president over the weekend.\n",
      "\n",
      "##JOEROBSON\n",
      "https://discussion.theguardian.com/comment-permalink/151312701\n",
      "https://profile.theguardian.com/user/id/101840578\n",
      "\n",
      "Before you go overboard on Biden, may I remind you that it was Dubya that thought the whole adventure was a great idea, and **TRUMP** who signalled the end.\n",
      "\n",
      "##MADTOM1999\n",
      "https://discussion.theguardian.com/comment-permalink/151311102\n",
      "https://profile.theguardian.com/user/id/1175869\n",
      "\n",
      "Given **TRUMP** ordered the evacuation I doubt Biden could have done much about stopping it. It was a right wing fuckup from start to finish.\n",
      "\n",
      "##KARLRGIBSON\n",
      "https://discussion.theguardian.com/comment-permalink/151311294\n",
      "https://profile.theguardian.com/user/id/12117652\n",
      "\n",
      "I listened to Biden's speech last might. I was very disappointed. Those words could have come right out of **TRUMP**'s mouth.\n",
      "\n",
      "##ROWAN17\n",
      "https://discussion.theguardian.com/comment-permalink/151312946\n",
      "https://profile.theguardian.com/user/id/101259625\n",
      "\n",
      "The Blairs, Bushes and **TRUMP**s would not be paying it out of their own pockets so they still wouldn't give a tuppeny fuck.\n",
      "\n",
      "##LALTHEGAL2021\n",
      "https://discussion.theguardian.com/comment-permalink/151314672\n",
      "https://profile.theguardian.com/user/id/105714490\n",
      "\n",
      "Anyone who thinks **TRUMP** is anything other than a self serving rich evil puking parcel is a numpty, stick that.\n",
      "\n",
      "##NIGLES\n",
      "https://discussion.theguardian.com/comment-permalink/151313446\n",
      "https://profile.theguardian.com/user/id/12223500\n",
      "\n",
      "He inherited policy on Afghanistan from the idiot **TRUMP**...who needed a pre election policy triumph (at any price!).\n",
      "\n",
      "##JAMESSANSBURY\n",
      "https://discussion.theguardian.com/comment-permalink/151314071\n",
      "https://profile.theguardian.com/user/id/2831789\n",
      "\n",
      "Biden was merely putting the finishing touches to **TRUMP**s plan.Raab was warned, but went to the beach anyway.\n",
      "\n",
      "##SANSPEUR\n",
      "https://discussion.theguardian.com/comment-permalink/151312747\n",
      "https://profile.theguardian.com/user/id/4243811\n",
      "\n",
      "Quite. Didn't **TRUMP** withdraw from Syria, leaving the surrounding area free for Russian influence?\n",
      "\n",
      "##NOVIRUSESHERE\n",
      "https://discussion.theguardian.com/comment-permalink/151312551\n",
      "https://profile.theguardian.com/user/id/102376825\n",
      "\n",
      "Things were peace in **TRUMP** times????\n",
      "I must pay my $1 subscription to a fake news channel?\n",
      "\n",
      "##THEOUTLANDER\n",
      "https://discussion.theguardian.com/comment-permalink/151314371\n",
      "https://profile.theguardian.com/user/id/16885481\n",
      "\n",
      "He's just not **TRUMP**. That's his best recommendation, and to be fair, it's not a bad one.\n",
      "\n",
      "##MADORKALLAN\n",
      "https://discussion.theguardian.com/comment-permalink/151312463\n",
      "https://profile.theguardian.com/user/id/103018652\n",
      "\n",
      "The alternative to liking Biden is getting **TRUMP** so I'd like Biden whatever he did.\n",
      "\n",
      "##EASTERMAN\n",
      "https://discussion.theguardian.com/comment-permalink/151311794\n",
      "https://profile.theguardian.com/user/id/1279406\n",
      "\n",
      "**TRUMP** wanted to leave earlier - though he is busy deleting tweets to that effect.\n",
      "\n",
      "##DONOTBELIEVEME\n",
      "https://discussion.theguardian.com/comment-permalink/151314470\n",
      "https://profile.theguardian.com/user/id/17001075\n",
      "\n",
      "**TRUMP** negotiated the withdrawal but no I dislike Biden almost as much.\n",
      "\n",
      "##SAGARMATHA1953\n",
      "https://discussion.theguardian.com/comment-permalink/151313319\n",
      "https://profile.theguardian.com/user/id/100507122\n",
      "\n",
      "I'd bet a lot of **TRUMP** supporters are crying into TheirPillow.\n",
      "\n",
      "##OAKVIEW\n",
      "https://discussion.theguardian.com/comment-permalink/151313503\n",
      "https://profile.theguardian.com/user/id/103333516\n",
      "\n",
      "Wallace did blame it primarily on the **TRUMP** administration, though.\n",
      "\n",
      "##SCUBADOC\n",
      "https://discussion.theguardian.com/comment-permalink/151312407\n",
      "https://profile.theguardian.com/user/id/2000661\n",
      "\n",
      "**TRUMP** started it, but Biden was too American to risk stopping it...\n",
      "\n",
      "##NOVIRUSESHERE\n",
      "https://discussion.theguardian.com/comment-permalink/151312658\n",
      "https://profile.theguardian.com/user/id/102376825\n",
      "\n",
      "When **TRUMP** is president ... The trolls are silent. Hmm...\n",
      "\n",
      "##DUGGIEDOG\n",
      "https://discussion.theguardian.com/comment-permalink/151312362\n",
      "https://profile.theguardian.com/user/id/12926460\n",
      "\n",
      "Wasn't it **TRUMP** who set the withdrawal of troops up?\n",
      "\n",
      "##THE_NIGHT_CALLER\n",
      "https://discussion.theguardian.com/comment-permalink/151314247\n",
      "https://profile.theguardian.com/user/id/105827910\n",
      "\n",
      "Let me guess, **TRUMP** supporter ?\n"
     ]
    }
   ],
   "source": [
    "target = 'decolon'\n",
    "target = 'science'\n",
    "target = 'trump'\n",
    "\n",
    "\n",
    "xx = [x for x in all_comments if target.lower() in x.lower() and  len(x) > 20]\n",
    "yy = [x for x in all_comments if '#pin' in x.lower() and 2000 > len(x) > 20]\n",
    "\n",
    "#print('\\n\\n'.join( ['\\n\\n'.join(x) for x in zip(xx,yy)])  )\n",
    "\n",
    "#print( '\\n\\n'.join(xx).replace(target, ) )\n",
    "pxx = re.compile(target, re.I)\n",
    "print( pxx.sub('**' + target.upper() + '**', \n",
    "              '\\n\\n'.join(xx)) )\n",
    "               \n",
    "#print( '\\n\\n'.join(xx) )\n"
   ]
  },
  {
   "cell_type": "code",
   "execution_count": 20,
   "metadata": {},
   "outputs": [
    {
     "data": {
      "text/plain": [
       "0.7820401046207497"
      ]
     },
     "execution_count": 20,
     "metadata": {},
     "output_type": "execute_result"
    }
   ],
   "source": [
    "(26/31) / (74/69)"
   ]
  },
  {
   "cell_type": "code",
   "execution_count": 64,
   "metadata": {},
   "outputs": [
    {
     "data": {
      "text/plain": [
       "529"
      ]
     },
     "execution_count": 64,
     "metadata": {},
     "output_type": "execute_result"
    }
   ],
   "source": [
    "23**2"
   ]
  },
  {
   "cell_type": "markdown",
   "metadata": {},
   "source": [
    "## "
   ]
  },
  {
   "cell_type": "code",
   "execution_count": 21,
   "metadata": {},
   "outputs": [
    {
     "data": {
      "text/plain": [
       "211"
      ]
     },
     "execution_count": 21,
     "metadata": {},
     "output_type": "execute_result"
    }
   ],
   "source": [
    "84 + 127"
   ]
  },
  {
   "cell_type": "code",
   "execution_count": 24,
   "metadata": {},
   "outputs": [
    {
     "data": {
      "text/plain": [
       "1.2842073077511085"
      ]
     },
     "execution_count": 24,
     "metadata": {},
     "output_type": "execute_result"
    }
   ],
   "source": [
    "84/211/.31"
   ]
  },
  {
   "cell_type": "code",
   "execution_count": 25,
   "metadata": {},
   "outputs": [
    {
     "data": {
      "text/plain": [
       "0.8723126588364586"
      ]
     },
     "execution_count": 25,
     "metadata": {},
     "output_type": "execute_result"
    }
   ],
   "source": [
    "127/211/.69"
   ]
  },
  {
   "cell_type": "code",
   "execution_count": 26,
   "metadata": {},
   "outputs": [
    {
     "data": {
      "text/plain": [
       "1.471264367816092"
      ]
     },
     "execution_count": 26,
     "metadata": {},
     "output_type": "execute_result"
    }
   ],
   "source": [
    "1.28/.87"
   ]
  },
  {
   "cell_type": "code",
   "execution_count": null,
   "metadata": {},
   "outputs": [],
   "source": []
  }
 ],
 "metadata": {
  "kernelspec": {
   "display_name": "NLPkernel",
   "language": "python",
   "name": "nlpkernel"
  },
  "language_info": {
   "codemirror_mode": {
    "name": "ipython",
    "version": 3
   },
   "file_extension": ".py",
   "mimetype": "text/x-python",
   "name": "python",
   "nbconvert_exporter": "python",
   "pygments_lexer": "ipython3",
   "version": "3.6.5"
  }
 },
 "nbformat": 4,
 "nbformat_minor": 2
}
