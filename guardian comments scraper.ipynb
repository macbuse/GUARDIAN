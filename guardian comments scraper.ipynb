{
 "cells": [
  {
   "cell_type": "markdown",
   "metadata": {},
   "source": [
    "# Basic scraping for Guardian discussions u"
   ]
  },
  {
   "cell_type": "code",
   "execution_count": 1,
   "metadata": {},
   "outputs": [
    {
     "name": "stdout",
     "output_type": "stream",
     "text": [
      "[master 159945f] web\n",
      " 12 files changed, 2720 insertions(+), 498 deletions(-)\n",
      " rename .ipynb_checkpoints/{Untitled-checkpoint.ipynb => quad_forms-checkpoint.ipynb} (100%)\n",
      " create mode 100644 .ipynb_checkpoints/random_shapes-checkpoint.ipynb\n",
      " create mode 100644 None0000000.png\n",
      " create mode 100644 ejdxt.pkl\n",
      " create mode 100644 eyhx8.pkl\n",
      " create mode 100644 eytkx.pkl\n",
      " create mode 100644 femicides3.csv\n",
      " rewrite liberation_femicide.ipynb (78%)\n",
      " create mode 100644 links.txt\n",
      " rename Untitled.ipynb => quad_forms.ipynb (100%)\n",
      " create mode 100644 random_shapes.ipynb\n",
      "Enumerating objects: 15, done.\n",
      "Counting objects: 100% (15/15), done.\n",
      "Delta compression using up to 4 threads\n",
      "Compressing objects: 100% (11/11), done.\n",
      "Writing objects: 100% (11/11), 1.43 MiB | 93.00 KiB/s, done.\n",
      "Total 11 (delta 3), reused 0 (delta 0)\n",
      "remote: Resolving deltas: 100% (3/3), completed with 2 local objects.\u001b[K\n",
      "To https://github.com/macbuse/GUARDIAN.git\n",
      "   07063a7..159945f  master -> master\n"
     ]
    }
   ],
   "source": [
    "! ./.g\n"
   ]
  },
  {
   "cell_type": "code",
   "execution_count": 59,
   "metadata": {},
   "outputs": [],
   "source": [
    "with open('guardian comments scraper.ipynb','r') as fp:\n",
    "    nb = fp.read()"
   ]
  },
  {
   "cell_type": "code",
   "execution_count": 60,
   "metadata": {},
   "outputs": [],
   "source": [
    "import re\n",
    "\n",
    "pp = re.compile(\"(https://www.the.*?)'\")\n",
    "lks = pp.findall(nb)\n",
    "\n",
    "with open('links.txt','a') as fp:\n",
    "    fp.write('\\n'.join(lks))"
   ]
  },
  {
   "cell_type": "code",
   "execution_count": 1,
   "metadata": {},
   "outputs": [],
   "source": [
    "import re \n",
    "import requests\n",
    "import pickle\n",
    "import json"
   ]
  },
  {
   "cell_type": "code",
   "execution_count": 34,
   "metadata": {},
   "outputs": [],
   "source": [
    "article_url = 'https://www.theguardian.com/commentisfree/2020/aug/19/ditch-the-algorithm-generation-students-a-levels-politics'\n",
    "article_url = 'https://www.theguardian.com/commentisfree/2020/aug/21/joe-biden-democrat-convention-nice-guy-trump-fight'\n",
    "article_url = 'https://www.theguardian.com/commentisfree/2020/aug/23/the-cruel-exams-algorithm-has-laid-bare-the-unfairness-at-the-heart-of-our-schools'\n",
    "article_url = 'https://www.theguardian.com/commentisfree/2020/sep/01/us-mainstream-right-vigilante-terror'\n",
    "article_url = 'https://www.theguardian.com/commentisfree/2020/aug/31/politicians-covid-19-statistics-statisticians'\n",
    "article_url = 'https://www.theguardian.com/commentisfree/2021/apr/14/boris-johnson-is-telling-scotland-that-the-union-is-no-longer-based-on-consent'"
   ]
  },
  {
   "cell_type": "code",
   "execution_count": 42,
   "metadata": {},
   "outputs": [],
   "source": [
    "article_url = 'https://www.theguardian.com/commentisfree/2020/sep/29/rival-scientists-lockdowns-scientific-covid-19'\n",
    "article_url = 'https://www.theguardian.com/commentisfree/2020/oct/08/johnson-and-sturgeon-will-need-a-better-philosophy-than-precaution-to-rid-us-of-covid'\n",
    "article_url = 'https://www.theguardian.com/commentisfree/2020/oct/10/continual-local-lockdowns-answer-covid-control'\n",
    "article_url = 'https://www.theguardian.com/commentisfree/2020/oct/11/the-rebel-scientists-cause-would-be-more-persuasive-if-it-werent-so-half-baked'\n",
    "\n",
    "article_url = 'https://www.theguardian.com/commentisfree/2021/apr/03/undermining-the-astrazeneca-jab-is-a-dangerous-act-of-political-folly#comment-148440261'\n",
    "article_url = 'https://www.theguardian.com/commentisfree/2021/apr/09/boris-johnson-brexit-belfast-violence-eu-good-friday-agreement'\n",
    "article_url ='https://www.theguardian.com/commentisfree/2021/apr/02/culture-war-government-race-report'\n",
    "article_url = 'https://www.theguardian.com/commentisfree/2021/mar/18/britain-sunny-vaccine-optimism-april-delivery-delay'\n",
    "article_url ='https://www.theguardian.com/commentisfree/2021/apr/14/boris-johnson-is-telling-scotland-that-the-union-is-no-longer-based-on-consent'"
   ]
  },
  {
   "cell_type": "code",
   "execution_count": 36,
   "metadata": {},
   "outputs": [
    {
     "ename": "NameError",
     "evalue": "name 'my_keys' is not defined",
     "output_type": "error",
     "traceback": [
      "\u001b[0;31m---------------------------------------\u001b[0m",
      "\u001b[0;31mNameError\u001b[0mTraceback (most recent call last)",
      "\u001b[0;32m<ipython-input-36-e80f1eb56025>\u001b[0m in \u001b[0;36m<module>\u001b[0;34m\u001b[0m\n\u001b[1;32m      1\u001b[0m \u001b[0;34m\u001b[0m\u001b[0m\n\u001b[0;32m----> 2\u001b[0;31m \u001b[0mkey\u001b[0m \u001b[0;34m=\u001b[0m \u001b[0mmy_keys\u001b[0m\u001b[0;34m.\u001b[0m\u001b[0mkeys\u001b[0m\u001b[0;34m[\u001b[0m\u001b[0;34m'guardian'\u001b[0m\u001b[0;34m]\u001b[0m\u001b[0;34m\u001b[0m\u001b[0m\n\u001b[0m",
      "\u001b[0;31mNameError\u001b[0m: name 'my_keys' is not defined"
     ]
    }
   ],
   "source": [
    "\n",
    "key = my_keys.keys['guardian']"
   ]
  },
  {
   "cell_type": "code",
   "execution_count": 43,
   "metadata": {},
   "outputs": [
    {
     "name": "stdout",
     "output_type": "stream",
     "text": [
      "getting comments page no. 1\n",
      "there are 6 pages\n",
      "getting comments page no. 2\n",
      "getting comments page no. 3\n",
      "getting comments page no. 4\n",
      "getting comments page no. 5\n",
      "getting comments page no. 6\n",
      "archiving to h452h.pkl\n"
     ]
    }
   ],
   "source": [
    "#scrape the page and get the short url\n",
    "short_url_pp =  re.compile('\"shortUrlId\":\"(.*?)\"')\n",
    "\n",
    "r = requests.get(article_url)\n",
    "mm = short_url_pp.search(r.text)\n",
    "short_url = mm.group(1)\n",
    "\n",
    "#the short url allows us to access the discussion\n",
    "comments_url = 'https://api.nextgen.guardianapps.co.uk/discussion/%s.json'%short_url\n",
    "params = {'orderBy' : 'newest',\n",
    "          'pageSize' : 25,\n",
    "          'displayThreaded' : 'true',\n",
    "          'commentsClosed' : 'false',\n",
    "          'page' : '',\n",
    "          'maxResponses' : 50\n",
    "         }\n",
    "\n",
    "json_data =  []\n",
    "start_page  = 1\n",
    "last_page = None\n",
    "\n",
    "\n",
    "for num_page in range(start_page, 10**4):\n",
    "    print('getting comments page no.', num_page)\n",
    "    params['page'] = num_page\n",
    "    r = requests.get( comments_url, params=params)\n",
    "    json_data.append( r.text)\n",
    "    #The last page is a field in the json object\n",
    "    #I don't need to read this as json I could do a regexp\n",
    "    if num_page == start_page:\n",
    "        json_dict = json.loads(r.text)\n",
    "        last_page = json_dict['lastPage']\n",
    "        print('there are %d pages'%last_page)\n",
    "    if num_page == last_page : break\n",
    "        \n",
    "\n",
    "fn = '%s.pkl'%short_url.split('/')[-1]\n",
    "print('archiving to %s'%fn)\n",
    "with open(fn ,'wb') as fp:\n",
    "    pickle.dump(json_data,fp)\n",
    "    \n"
   ]
  },
  {
   "cell_type": "markdown",
   "metadata": {},
   "source": [
    "## remember each page of comments has been stored separately"
   ]
  },
  {
   "cell_type": "code",
   "execution_count": 16,
   "metadata": {},
   "outputs": [
    {
     "data": {
      "text/plain": [
       "11"
      ]
     },
     "execution_count": 16,
     "metadata": {},
     "output_type": "execute_result"
    }
   ],
   "source": [
    "dd = json.loads(json_data[0])\n",
    "len(json_data)"
   ]
  },
  {
   "cell_type": "code",
   "execution_count": 17,
   "metadata": {},
   "outputs": [
    {
     "data": {
      "text/plain": [
       "dict_keys(['postedCommentHtml', 'commentsHtml', 'commentCount', 'refreshStatus', 'lastPage', 'paginationHtml'])"
      ]
     },
     "execution_count": 17,
     "metadata": {},
     "output_type": "execute_result"
    }
   ],
   "source": [
    "xx = json.loads(json_data[0])\n",
    "xx.keys()"
   ]
  },
  {
   "cell_type": "code",
   "execution_count": 136,
   "metadata": {},
   "outputs": [
    {
     "name": "stdout",
     "output_type": "stream",
     "text": [
      " class=\"d-comment\n",
      "            d-comment--top-level\"\n",
      "           id=\"comment-144422422\"\n",
      "           data-comment-id=\"144422422\"\n",
      "           data-comment-author=\"Hushing\"\n",
      "           data-comment-replies=\"0\"\n",
      "           data-comment-timestamp=\"2020-10-11T14:25:06.000+01:00\"\n",
      "           data-comment-author-id=\"12407494\"\n",
      "           data-comment-highlighted=\"false\"\n",
      "           itemscope itemtype=\"http://schema.org/Comment\">\n",
      "\n",
      "    <div class=\"d-comment__inner d-comment__inner--top-level\">\n",
      "        <div class=\"\n"
     ]
    }
   ],
   "source": [
    "print( xx['commentsHtml'][200:700])"
   ]
  },
  {
   "cell_type": "code",
   "execution_count": 18,
   "metadata": {},
   "outputs": [],
   "source": [
    "pa = re.compile('data-comment-author=\"(.*?)\"')\n",
    "pid = re.compile('data-comment-author-id=\"(\\d+)')\n",
    "pcid = re.compile('\\sid=\"comment-(.*?)\"')\n",
    "pp = re.compile('<li class=\"d-comment(.*?)>',re.DOTALL)\n",
    "\n",
    "auths = []\n",
    "md = []\n",
    "for xx in json_data:\n",
    "    hh = json.loads(xx)['commentsHtml']\n",
    "    auths.extend(list( zip(pa.findall(hh), \n",
    "                           pid.findall(hh)\n",
    "                          )))\n",
    "    md.extend(pp.findall(hh))\n",
    "\n",
    "auths = list(set(auths))\n",
    "auths.sort(key=lambda x : x[0].lower())\n"
   ]
  },
  {
   "cell_type": "code",
   "execution_count": 102,
   "metadata": {},
   "outputs": [],
   "source": [
    "#print( '\\n'.join([x for x in md if 'pinkie' in x.lower()]))"
   ]
  },
  {
   "cell_type": "markdown",
   "metadata": {},
   "source": [
    "https://discussion.theguardian.com/comment-permalink/144375739"
   ]
  },
  {
   "cell_type": "code",
   "execution_count": 8,
   "metadata": {},
   "outputs": [],
   "source": [
    "auths = dict(auths)"
   ]
  },
  {
   "cell_type": "code",
   "execution_count": 9,
   "metadata": {},
   "outputs": [
    {
     "data": {
      "text/plain": [
       "'https://api.nextgen.guardianapps.co.uk/discussion//p/hvpq8.json'"
      ]
     },
     "execution_count": 9,
     "metadata": {},
     "output_type": "execute_result"
    }
   ],
   "source": [
    "comments_url"
   ]
  },
  {
   "cell_type": "code",
   "execution_count": 44,
   "metadata": {},
   "outputs": [],
   "source": [
    "class Comment():\n",
    "    pass\n",
    "\n",
    "from bs4 import BeautifulSoup\n",
    "\n",
    "def html2comments(x):\n",
    "    tt = json.loads(x)\n",
    "    soup = BeautifulSoup(tt['commentsHtml'],  \"lxml\")\n",
    "    raw = [ comment.text for comment in  \n",
    "            soup.findAll('div', {'class' : \"d-comment__body\"}) ]\n",
    "    \n",
    "    metadata = soup.findAll('span', {'class' : \"d-comment__author\"})\n",
    "    \n",
    "    \n",
    "    auth = [ x.text.upper().strip() for x in metadata]\n",
    "    auth_id = [ x.find('a')['href'] for x in metadata]\n",
    "    #this was a pain to do really\n",
    "    #the problem is blocked comments\n",
    "    comment_id = [ x['id'][len('comment-'):] for x in soup.findAll('li')]\n",
    " \n",
    "    \n",
    "    ss = '##{}\\nhttps://discussion.theguardian.com/comment-permalink/{}\\n{}\\n\\n{}'\n",
    "    return [ ss.format(a,b,d,c.strip())  \n",
    "                   for a,b,d,c in zip(auth, comment_id, auth_id, raw)]\n",
    "     \n",
    "all_texts = [ html2comments(page) for page in json_data[:] ]\n",
    "\n",
    "\n",
    "\n",
    "from itertools import chain\n",
    "all_comments = list(chain.from_iterable(all_texts))\n",
    "    "
   ]
  },
  {
   "cell_type": "markdown",
   "metadata": {},
   "source": [
    "# Random data hacking"
   ]
  },
  {
   "cell_type": "code",
   "execution_count": 45,
   "metadata": {
    "scrolled": true
   },
   "outputs": [
    {
     "data": {
      "text/plain": [
       "[('##FRAILEA', 40),\n",
       " ('##LYNNMA', 17),\n",
       " ('##COMPUTERSAYSPERHAPS', 17),\n",
       " ('##ETHOSDAIMON', 16),\n",
       " ('##DANNYNEDELKO', 13),\n",
       " ('##FIFI_EAT_MY_HAMSTER', 12),\n",
       " ('##PILRIG1954', 12),\n",
       " ('##SPORADICWIT', 11),\n",
       " ('##ATTILA9000', 11),\n",
       " ('##BOJOHARAM', 11),\n",
       " ('##ARTHUROPODD', 9),\n",
       " ('##KWAKWA', 9),\n",
       " ('##FREEDOMOFSPEECG', 9),\n",
       " ('##TUPPENCE_WORTH', 9),\n",
       " ('##CANARYATTHEWHARF', 8),\n",
       " ('##BISCUIT74', 8),\n",
       " ('##NICHOLIB', 8),\n",
       " ('##CADICYMWRAIG', 8),\n",
       " ('##CHRISPYTL', 8),\n",
       " ('##CURIA', 7),\n",
       " ('##BEWARETHEMYSTERONS', 7),\n",
       " ('##SHARK_SANDWICH', 7),\n",
       " ('##INARGUENDO', 7),\n",
       " ('##IMAGINARY_FIEND', 6),\n",
       " ('##NYAMUK', 6),\n",
       " ('##NOAMERICANO1', 6),\n",
       " ('##BRAVEHEARTABROAD', 6),\n",
       " ('##METALMAN71', 6),\n",
       " ('##ETPHONESHOME', 6),\n",
       " ('##EDITHCLUNGE', 6),\n",
       " ('##MARTINSILENUS', 5),\n",
       " ('##MRSPEX999', 5),\n",
       " ('##TONYNORTHWEST59', 5),\n",
       " ('##BATS2IN2THE2BELFRY', 5),\n",
       " ('##JACM111', 5),\n",
       " ('##MONKEYJOUK', 5),\n",
       " ('##DAVETHEWRAPPER', 5),\n",
       " ('##MRMOJOPIN', 5)]"
      ]
     },
     "execution_count": 45,
     "metadata": {},
     "output_type": "execute_result"
    }
   ],
   "source": [
    "A = [x.split('\\n')[0] for x in all_comments]\n",
    "from collections import Counter\n",
    "AN = Counter(A)\n",
    "sorted([(x,y) for x,y in AN.items() if y > 4], key=lambda x : -x[1]) "
   ]
  },
  {
   "cell_type": "code",
   "execution_count": 149,
   "metadata": {},
   "outputs": [
    {
     "name": "stdout",
     "output_type": "stream",
     "text": [
      "[master b8c8a75] web\n",
      " 2 files changed, 1457 insertions(+), 1317 deletions(-)\n",
      " rewrite guardian comments scraper.ipynb (76%)\n",
      "Enumerating objects: 7, done.\n",
      "Counting objects: 100% (7/7), done.\n",
      "Delta compression using up to 4 threads\n",
      "Compressing objects: 100% (4/4), done.\n",
      "Writing objects: 100% (4/4), 47.51 KiB | 84.00 KiB/s, done.\n",
      "Total 4 (delta 2), reused 0 (delta 0)\n",
      "remote: Resolving deltas: 100% (2/2), completed with 2 local objects.\u001b[K\n",
      "To https://github.com/macbuse/GUARDIAN.git\n",
      "   d207214..b8c8a75  master -> master\n"
     ]
    }
   ],
   "source": [
    "! ./.g\n"
   ]
  },
  {
   "cell_type": "code",
   "execution_count": 150,
   "metadata": {},
   "outputs": [
    {
     "name": "stdout",
     "output_type": "stream",
     "text": [
      "##HUSHING\n",
      "https://discussion.theguardian.com/comment-permalink/144422422\n",
      "https://profile.theguardian.com/user/id/12407494\n",
      "\n",
      "Any proposal should be clear in its conception, its aims, and what outcomes it would take the person proposing to reconsider.\n",
      "What facts are you drawing on?What facts are you dismissing?What preconceptions are you making?What assumptions are you relying on?What do you aim to achieve? Why?How does what you propose achieve this?What do you aim to avoid? Why?How does what you propose avoid this?What answers to serious (non-strawman) criticisms do you have?What would you consider to be a sign that your proposal had failed?\n",
      "Anything that doesn't answer these questions is performative bullshit.\n"
     ]
    }
   ],
   "source": [
    "print(all_comments[0])"
   ]
  },
  {
   "cell_type": "code",
   "execution_count": 46,
   "metadata": {},
   "outputs": [
    {
     "name": "stdout",
     "output_type": "stream",
     "text": [
      "##HAIGIN88\n",
      "https://discussion.theguardian.com/comment-permalink/148638710\n",
      "https://profile.theguardian.com/user/id/2836106\n",
      "\n",
      "Not only did almost all Leavers demand that the June 2016 EU vote was recognised but so many Remainers too. It was just bad taste and not British to, in effect, claim that a one-off was a two-legged affair and that pissed off many a Remainer-voter as well. That so many went to the mat to defend that vote but some will wave through a re-run of a referendum from just a year and 10 months earlier? Crazy talk. One shouldn't shit on the 2014 'No, Thanks' vote as one shouldn't befoul the 2016 Leave vote.\n",
      "Britons decide what happens to Britain: that was the Brexit theory of the case. If there was another one and it was a Yes vote then the rest of Britain would be turned into a de facto one-party (Tory) state, not by Westminster, not by Brussels but by a state north of the country. Not only that but such a result would be achieved with the rest of Britain being able to vote to the contrary. Utter bollocks and shame on anyone trying to wave this through who isn't a nationalist bonehead. \n",
      "Al Johnson might be thinking that it's his job to keep the country together; that the 2014 vote has to be recognised like the 2016 referendum; that Brexit means nothing if Britain's future can be dictated by (soon to be) non-Britons, if Scotland had a re-run and voted yes. \n",
      "Pretty simple and that's without talk on how there would have to be a hard border with the north of England; how an \"independent\" Scotland wouldn't have the leverage to refuse the Euro since no one would believe that it would walk away in protest; that keeping the pound would negate spitting from Britain since the City of London would still, in reality, be in charge and it wouldn't be allowed anyway; how the austerity to join the EU and then keep within the 3% deficit of GDP as demanded by the EU's Growth and Stability Pact would be brutal beyond imagination; that becoming the \"new Greece\", a burned-out husk of neoliberal gangsterism, should be no one's aim, if they love their country; that becoming a tiny fish in the neoliberal lake of the EU doesn't compare with being a big fish in the British pond. \n",
      "One wonders how many of the London media who give the SNP such a constantly easy ride wouldn't dream of living in Scotland so couldn't care less if it became a neoliberal hellscape but their Scottish birth/parentage/grandparentage would give them an eventual EU passport and \"victory\" over the Leave voters? Such a cynical mode of practice.\n",
      "\n",
      "##SPORADICWIT\n",
      "https://discussion.theguardian.com/comment-permalink/148637908\n",
      "https://profile.theguardian.com/user/id/13613007\n",
      "\n",
      "Two crucial choices were made at the start: England was ignored and UK parliamentary sovereignty remained unchallenged.\n",
      "A revealing slip, which itself says rather a lot.\n",
      "Partliamentary Sovereignty is purely a concept in English Law (not UK Law). Martin is confusing legislation with \"the Law\", and doesn't seem to understand that the UK consists of three separate legal jurisidictions, with very different underlying constitutional principles.\n",
      "In short, in England sovereignty is derived from the monarch, but exercised by the aristocracy) in modern terms, parliament) because centuries ago, some Barons had a rebellion and held the King hostage. Yoiu can see the same thing today with the power exercised by the press barons. But sovereignty does not rest with ordinary people in England.\n",
      "Scots Law follows the European norm, in that soveresignty rests with the people, and the monarchy exists purely on the sufferance of the people. If for example, Scotland decided to rid of Mrs Windsor, and replace her Meghan Markle, that would entirely legal under Scots Law. In fact it has already happened historically, although obviously different individuals were involved.\n",
      "Under the Act of Union, Scots and English Law have equal status, and yet this doesn't seem to taught or understood in English schools, leading to the mistaken belief that English Law or concepts such as \"parliamentary sovereignty\" have legal weight outside the borders of England and Wales. They do not.\n",
      "Of course in UK terms it creates a thorny constitutional problem, but it really isn't helpful for English journalists, to talk as if they have annexed another country, and subsumed its own legal system and constituional principles.\n",
      "In fact it is one of the things that has always puzzled me. If people like Martin were seriously concerned about preserving the Union, why on earth do they not teach these things in English schools?\n",
      "A union like a marriage, requires not just consent, but also a degree of mutual understanding.\n",
      "\n",
      "##GEPPID\n",
      "https://discussion.theguardian.com/comment-permalink/148639175\n",
      "https://profile.theguardian.com/user/id/16891675\n",
      "\n",
      "Assuming that is not a rhetorical question, it depends what you mean by saying \"England was ignored\" and what you think the purpose of devolution was. Scottish independence was designed as a tactical manoeuvre by New Labour to head off the risk from the SNP. (Ha! That worked well.) \n",
      "Welsh devolution was added on in order to make it a bit less obvious that devolution to Scotland was just party politicking dressed up as constitutional reform. There was little groundswell for Welsh devolution, and the Welsh assembly was authorised by a tiny majority on a very low turnout.Devolution to London was also part of this. It was offered to the North East of England too, which voted against it, and Blair promptly gave up on any more constitutional reform, leaving the rest of England as it was. The truth is he was never interested in devolution as a project, only for its tactical political advantage.\n",
      "Although I am in favour of all that devolution and more, I am cynical enough to acknowledge that Blair never even proposed devolution for Tory-voting areas. \n",
      "Some say there should be an English Parliament, by analogy with the Welsh Senned and Scottish Parliament. Personally I see no point in that. In my view devolution should bring govt closer to the people. An English parliament would cover 85% of the UK population, so it would be no nearer or more responsive than Westminster. Real English devolution means the creation of at least half a dozen regions, with relevant assemblies and powers. Johnson and the tories have no interest in that. They want to concentrate power in their own hands. Taking back control indeed!\n",
      "\n",
      "##MRMOJOPIN\n",
      "https://discussion.theguardian.com/comment-permalink/148639218\n",
      "https://profile.theguardian.com/user/id/3444886\n",
      "\n",
      "You: \"Why would you welcome the break-up of your own country, just to spite a few here today/gone tomorrow politicians? Incredibly bizarre thinking.\"\n",
      "Here's why:\n",
      "I was 17 in 1998. I remember NI before the signing of the Good Friday Agreement. I remember the bombs (there was one in the housing estate I lived in) and I remember the paramilitary murders (my friend's dad was the subject of attempted murder). I remember the British Army checkpoints, I remember the riots, I remember the sectarianism. I witnessed the long and painful road to peace. I moved to Belfast to attend university in 1999. It was a city transformed. No more bombs, no more checkpoints. Then, 18 years later, in 2016, an Etonian fraud tables a cynical referendum as a means of neutering his own Europhobes and outflanking the clown Farage, after 6 years of subjecting the nation to a punishing, economically illiterate and politically motivated austerity programme. The campaign in support of leaving the EU engages in (quoting the Electoral Commission) \"multiple breaches of electoral law.\" Then the victorious wing of the Tory party pursues a ruinous version of Brexit for which they had no mandate, and which threatens the peace of this part of the island of Ireland. Despite this, the English seem quite content to continue to vote for the privileged authors of this insanity indefinitely. \n",
      "That's why I want a united Ireland. I've had enough of being delivered into the hands of the Tory party by English voters. It's not that hard to understand.\n",
      "\n",
      "##HAK_A_DALAN\n",
      "https://discussion.theguardian.com/comment-permalink/148637624\n",
      "https://profile.theguardian.com/user/id/102070198\n",
      "\n",
      "The implacable desire to centralise and control, and the crass, cavalier attitude to established conventions, makes the current UK government the biggest threat to the Union. They seem to lack the wit to realise that that which does not bend will break. \n",
      "Several weeks ago, in the days after Nicola Sturgeon was cleared of any wrong-doing, midst all the unionist hand-wringing and sanctimony, there was an article in the Guardian which revealed that according to voices within government, “Now the Conservatives must begin the work to keep the UK intact.”\n",
      "Yes indeed. It’s a real shame when vacuous slogans and mud-slinging don’t quite get the job done. \n",
      "It will be interesting to see how the UK government will defend the Union. There is talk of a detailed assessment being made of the impact on Scotland should they leave …... how the erection of new borders can “impact trade and family ties”. Johnson and his Brexity courtiers will have a lot of credibility in setting out that case, I’m sure.\n",
      "The reality is that Johnson has neither the intelligence, the subtlety nor the application required to finesse a working solution to the problems the Union now faces. To add to his obvious incompetence, he is a horribly divisive and belligerent figure with not a shred of credibility.\n",
      "He is the wrong man, at the wrong time, in the wrong place pursuing the wrong thing.Unless, of course, you’re judging him from the perspective of the SNP or Irish Nationalists. In which case, he is a god-send.\n",
      "\n",
      "##M909\n",
      "https://discussion.theguardian.com/comment-permalink/148638523\n",
      "https://profile.theguardian.com/user/id/3962422\n",
      "\n",
      "Johnson's impact upon NI is indicative of his character, so well described by Max Hastings in this paper a year or two back. He isn't a serious politician. He's keen on self aggrandisement and whilst happy to be a bully when holding all the cards, prefers to avoid criticism by basically telling people what they would prefer to hear. Regardless of link to fact or truth. \n",
      "So Johnson's attitude to NI - the expectation that he could promise many things and not deliver once elected - and an inability to understand the nuances that were required to make the GFA work - will be just like his attitude to Scotland. That Scotland might vote for the opportunity for independence will mean little to a man for whom truth and honesty are just details. It can only be about what suits Johnson's advantage. And what catches his tendency to spend other people's money, to look good. \n",
      "Whether or not there is a divide between Westminster and Scotland is hard to know definitively, as with 11 years of Tory England centric Tory rule, who knows what options might have been possible. Whether or not there were options probably doesn't matter now as Scotland might be thinking that an independent country looking to link to the EU, even if disadvantaged economically in the short/medium term, is a better option than being a region ignored, within a Union very far from being equals. \n",
      "Westminster/England can't argue against as otherwise, why did it go for brexit?\n",
      "\n",
      "##MARTINSILENUS\n",
      "https://discussion.theguardian.com/comment-permalink/148638934\n",
      "https://profile.theguardian.com/user/id/12941320\n",
      "\n",
      "There was a time I forgave my enemies, that time is long other.I see the EU - as it`s founders did - as a last desperate way out of endless, internal European wars. As a way of going beyond belief in absolute nation-states, where no loyalty beyond that state was even thinkable.\n",
      "Larry Elliot never once saw the EU in anything but economic terms, my German family never thought of it in that way. It is peculiar blindness of limited minds, to see the EU yet completely miss what its founders intended it to become.\n",
      "Not a single European state, nation-states are part of the EU, just like Kent is part of England. In most things, nation-states are still perfectly viable and can do most things interaly. However, beyond that, they join together in an EU of nation-states, to share sovereignty when it suits them.\n",
      "The EU is not intended to replace nation-states, it is supposed to join these states for the common purpose of creating a better future. \n",
      "I never believed one small planet cut up into 200 odd countries, all saying they have absolute sovereignty, of their part of earth's ecosystem, was even sane. \n",
      "The EU is an experiment to see if this genuinely shared sovereignty can be made to work, if it fails the whole concept will be lost for this century. It is that important for the future.\n",
      "I am blabbering to myself, in a foreign language, I can see that. Brexitiers will never understand what they have done.Never.\n",
      "\n",
      "##LENOXOFOLD\n",
      "https://discussion.theguardian.com/comment-permalink/148637765\n",
      "https://profile.theguardian.com/user/id/101841534\n",
      "\n",
      "I dont think it is either fair or accurate to put the 'woes' of the Union at Boris' door. What most commentators down south do not realise is that by casting independence in Scotland as a 'problem' or a 'worry' or a 'loss' they ignore something very fundamental. Scotland has always been quasi-autonomous. This was lost during the 20th century, largely down to the world wars, and a generation after the war and succeeding ones have never read Scotland or understood it at all. This is at the heart of the growing displeasure with the Union in Scotland. We are seen as a 'problem' to be fixed, not a partner. We are told time and time again those voting for independence are 'separatists' or union-wreckers, yet, no-one understands it is not about breaking anything but calling time on a union that stopped being a union many decades ago. Scotland is treated with utter contempt, and has been for many many years now, to the point we are viewed as recalcitrant traitors rather than a people in their own country, fed up with the drip drip negative treatment of a once very proud nation. We are no longer seen as a nation, nor as autonomous, and that is why the desire to get it back grows with every decade. It's not a problem. It's a solution.\n",
      "\n",
      "##WISEOWLER\n",
      "https://discussion.theguardian.com/comment-permalink/148638035\n",
      "https://profile.theguardian.com/user/id/11096697\n",
      "\n",
      "This UK govt is deeply authoritarian, a return to a first past the post electoral dictatorship, with civil liberties, the right to dissent, oversight of the security services when they commit crimes all being trashed and refusing a referendum is part of this process.The only liberty now is for the govt, it's cronies and global capital to break whatever laws or conventions it wishes to line their own pockets. Johnson's Brexit Britain is consolidating it's tax avoidance and money laundering as a USP for billionaires like the Russian criminal oligarchs now funding the Tories and Johnson in particular, closely followed by Middle Eastern autocrats with blood on their hands. With the slavish support of right wing media barons and financiers bank rolling them the govt knows it can get away with anything so they fill their boots and seek to turn us into a one party state run by incompetents whose arrogance is matched by their ignorance. Unless there is a real opposition inside and outside of Parliament and a united front around democracy, proportional representation and a return to basic values of equality, fairness and probity this mess may last the rest of this decade.\n",
      "\n",
      "##THEHIGHROAD\n",
      "https://discussion.theguardian.com/comment-permalink/148638248\n",
      "https://profile.theguardian.com/user/id/12431057\n",
      "\n",
      "“The English majoritarian restraint that was so marked when governments were more sensitive to the need to accommodate differences is today like an abandoned house on the top of a crumbling cliff.”\n",
      "I think this is the key point. The existence of the Union was always based on the tacit understanding that the geopolitical benefit to England and the economic benefit to Scotland were worth both of them ignoring the things they didn’t like so much - it’s easily forgotten that the Union was very unpopular in both countries when it first happened and really only came into effect as a joint enterprise and popular cause in the 19th c. at the height of empire. But if the “British” government, consisting almost entirely of English MPs, no longer sees enough geopolitical value in the Union to accommodate the cultural difference, and the Scots believe there is another, European, Union that offers an economic alternative - where’s the common interest? Yes, we can’t ignore the deep family and social connections (I speak as a Scot long resident in England), but is that enough? The absence of a political union doesn’t seem to hinder the same links between England and Ireland.\n",
      "\n",
      "##GREYWARG\n",
      "https://discussion.theguardian.com/comment-permalink/148638459\n",
      "https://profile.theguardian.com/user/id/100725787\n",
      "\n",
      "Scotland really should be independent. Scotland WILL become independent, it is inevitable, just look at all the other parts of Europe. Westminster claiming they can stop the scots from deciding their own fate \"by law\" is totally self-defeating, it will lay everything bare (and not only concerning Scotland). Even \"self-governance\" is an idea from the past. The question is simply how it happens. While making a mess about a lot of things, Cameron was right about allowing the vote. But then Westminster bungled it with the heavy-handed last-minute scare tactics & propaganda (focusing on \"economics\"), managing to win the vote but losing the chance to actually resolve the question at the same time. Independence was left smoldering, and then Brexit threw petrol on the coals. But just think for a minute, in what future will Scotland happily stay a part of the UK? And yes, there is the answer, since such a future does not exist (in the really real world). Brexit will hurt the UK a lot, which will hurt the money flowing to Scotland enormously, removing the only real reason to stay on as part of the UK. And yes, it really is Scotland's decision.\n",
      "\n",
      "##DODIE65\n",
      "https://discussion.theguardian.com/comment-permalink/148639213\n",
      "https://profile.theguardian.com/user/id/16881216\n",
      "\n",
      "We will read various disparaging almost abusive comments here, espousing outrage at the sheer temerity of Scottish people who have had enough of this 'precious' Union. If I may loosely copy below an observation below from another source I think it goes to the very core of the Unionist psyche particularly south of the border.\n",
      " \"What affect would an independent Scotland...... have on England and the English psyche \n",
      "Of all the nations on these islands England has the shakiest identity.... \n",
      "England and Englishness has been defined by empire building, dominating others and taking/using their resources, being a rule giver, being on the winning teams in world wars etc \n",
      "Losing Scotland (and the last remaining Irish colony) would represent the final end of all of this in a very visible way. The English finally retreating back to where they came from, leaving the world stage with only Wales left to ‘look after’\n",
      "It would also upset the electoral map changing English politics forever \n",
      "The Brexit debate has shown that the English are still struggling to articulate their identity even to each other \n",
      "Is that what they are actually afraid of?\"\n",
      "\n",
      "##SHURELLL\n",
      "https://discussion.theguardian.com/comment-permalink/148638677\n",
      "https://profile.theguardian.com/user/id/4381919\n",
      "\n",
      "whilst I agree with the narrative of this article it does leave one topic which no one as yet has answered of how the separation would be achieved. Unlike Brexit, which has been badly handled by the British government, most of the entities were in place which would allow Britain to continue even if the separation from the EU turned out to be a shambles. Scotland, on the other hand, has nothing in place to function as a sovereign country. The most recent example appears to suggest they would like to continue with access to the BBC as they no state broadcaster. The SNP have dodged consistently which currency they would use, what defense strategy they will have in place they have no central bank the list just goes on and on. It could take tears of wrangling with Westminster to sort out even basic rules for leaving and don't even talk about the hard border and the effect on Scottish trade. I wish Westminster would show some leadership and insist the SNP lay out the terms of separation so that everyone could see the impact. 14 years in office and not once have they explained how to undo 300 years of union.\n",
      "\n",
      "##HAVEYOUFEDTHEFISH\n",
      "https://discussion.theguardian.com/comment-permalink/148639165\n",
      "https://profile.theguardian.com/user/id/10880234\n",
      "\n",
      "\"But a less well educated population, lower labour productivity and an addiction to welfare.\"\n",
      "Fuck me, thats a patronising pile of bullshit. 47% of Scotlands population has a degree or vocational qualification - that's the HIGHEST in Europe; 5% more than the UK average. 33% of Scotland population have a degree or higher, compared to 29% of Denmarks. \n",
      "Percentage of Scots households receiving benefits: 53% - that's the LOWEST region in the UK except the South East (50%), and by far the lowest if you exclude London (37%). (Its hard to directly compare like with like with Denmark because the Danish Welfare state provides such universal support that by UK standards pretty much 100% of the population receive something)\n",
      "Scotland's labour productivity has been consistently the fastest growing of any region if the UK for the last 4 years - and that includes London (but saying that, the UKs productivity is the lowest in Europe and has been for decades. However the data largely suggests its England outside the southwest that drags the UK average down)\n",
      "So: Three assertions, all wrong.\n",
      "\n",
      "##MRMOJOPIN\n",
      "https://discussion.theguardian.com/comment-permalink/148637696\n",
      "https://profile.theguardian.com/user/id/3444886\n",
      "\n",
      "Resident of County Armagh, Northern Ireland here Martin. As someone reared in a small 'n' nationalist household, until relatively recently a United Ireland was as far down my wish list as owning the more humble moons of Pluto. Since the tawdry, cynical Brexit Referendum and the subsequent squalid Tory psychodrama, I've become an evangelist for a United Ireland. \n",
      "Having watched the contemptible treatment of the Good Friday Agreement and the peace process by the collection of Etonian charlatans running the UK, I'm now desperate to escape Tory control. A corollary of this sentiment is fealty for my Scottish independence seeking brethern who've been treated with equal contempt by the same coterie of Tory mountebanks.\n",
      " It will be interesting watching how Johnson reacts if the SNP get endowed with a huge mandate. A vote for independence would perfectly instaniate just how badly Johnson et fellow Tory cronies have mismanaged their stewardship of the UK. Such is their vanity that I expect them to resist a Scottish referendum with every sinew\n",
      "\n",
      "##MARTINMAN\n",
      "https://discussion.theguardian.com/comment-permalink/148638156\n",
      "https://profile.theguardian.com/user/id/101738821\n",
      "\n",
      "Johnson didn't get where he is today by not being a shape-shifting weasel. \n",
      "He won't refuse a referendum, he'll just expend gargantuan effort gaming every single aspect of it as the \"price\" for holding it. \n",
      "The question won't be Yes/No, the franchise will be more restricted than the Holyrood election, and he'll try to dictate the timing. Then the UK government will devote a huge budget to alternately love-bombing and frightening the Scots electorate.\n",
      "Further central government jobs will be moved north of the border (\"look at the thousands of jobs you'd lose!\"), all sorts of infrastructure projects will be nodded through (\"look at what Scotland can only have thanks to UK money!\"), and they'll co-opt their neo-fascist mates in Hungary and Poland to state that they'd veto an application to re-join the EU.\n",
      "Johnson may be morally disabled, and a lazy, slapdash nightmare of a leader - but he's never lost anything in his entire life. The kitchen sink will merely be the starter for what is chucked at this.\n",
      "\n",
      "##FRED1\n",
      "https://discussion.theguardian.com/comment-permalink/148639100\n",
      "https://profile.theguardian.com/user/id/2979908\n",
      "\n",
      "Fundamentally the Scottish people have a right to demand another referendum because the conditions have changed so dramatically since the last referendum.\n",
      "Britain was still in the EU. That was huge. Not only did it give Scotland all of the benefits of EU membership but it also fundamentally changed the relationship between Scotland and Westminster.\n",
      "Westminster’s powers were offset by EU membership. There are now powers that have reverted to Westminster which Scotland could reasonably expect to be devolved. Why shouldn’t Scotland negotiate its own trade deals?\n",
      "The fact that the Brexiters are the ones who are most opposed to Scottish independence shows their arrogance and hypocrisy. They demand their “freedom” from the EU but deny it to the Scots.\n",
      "Of course according to Brexiters, referenda, except the one in 1975, are final, never to be questioned.\n",
      "But what it also shows is that they have no shame. They’re like second hand car salesman who did a bait and switch, and are laughing in the victims faces.\n",
      "\n",
      "##COMPUTERSAYSPERHAPS\n",
      "https://discussion.theguardian.com/comment-permalink/148638423\n",
      "https://profile.theguardian.com/user/id/104616791\n",
      "\n",
      "Scotland has every right to do it - provided the Scottish people vote for independence, and then vote for EU membership with the price that carries, and always assuming the EU actually wants Scotland (what for, exactly?).\n",
      "Were I PM, I wold grant a referendum as soon as Scotland wanted it, subject to two conditions: first, that if the answer is no then you don't get another shot, and second that the pro-independence side comes up with a credible economic plan for independence, unlike the fantasy economics of the last white paper. This plan should explicitly state the intention for currency, border controls, LOLR, taxation and expenditure, and were it up to me HM Treasury could give all the assistance the SNP wanted to work it out. The people should have an INFORMED vote, not one on fantasy and mythology.\n",
      "If Scotland votes in favour, well and good. If it rejects it, then shut up moaning about it. We can't keep having referendums every few years until you get the answer you want.\n",
      "\n",
      "##FIFI_EAT_MY_HAMSTER\n",
      "https://discussion.theguardian.com/comment-permalink/148639231\n",
      "https://profile.theguardian.com/user/id/15159771\n",
      "\n",
      "Well, Panelbase has a very interesting poll out.\n",
      "Scottish Parliament constituency voting intentions (Panelbase / Believe in Scotland):\n",
      "SNP 47% (-2) Conservatives 23% (+1) Labour 20% (-) Liberal Democrats 6% (-) Greens 4% (+2) \n",
      "Scottish Parliament regional list voting intentions: \n",
      "SNP 36% (-3) Conservatives 22% (+1) Labour 17% (-) Greens 9% (+1)Alba 6% (-)Liberal Democrats 6% (+1) All for Unity 2% (-2) \n",
      "Seats projection (with changes from the 2016 election): SNP 63 (-), Conservatives 26 (-5), Labour 20 (-4), Greens 10 (+4), Alba 5 (+5), Liberal Democrats 5 (-)\n",
      "SNP: 63 seatsAll others: 66 seats\n",
      "SNP SHORT OF AN OVERALL MAJORITY BY 2 SEATS\n",
      "Pro-independence parties: 78 seatsAnti-independence parties: 51 seats\n",
      "PRO-INDEPENDENCE MAJORITY OF 27 SEATS\n",
      "https://scotgoespop.blogspot.com/ \n",
      "27 seat Yes majority. If he doesn't grant a referendum after that, we know that there's no other way out other than civil disobedience. Which is what he wants, it is the ultimate Tory wet dream.\n",
      "\n",
      "##EUROCITOYEN\n",
      "https://discussion.theguardian.com/comment-permalink/148638924\n",
      "https://profile.theguardian.com/user/id/16771414\n",
      "\n",
      "I don't know of one. There would be much to decide in terms of independence beforehand. Currency, borders with England, etc. Closer relations with the EU could start immediately, however, with a view towards joining the European Free Trade Area. IT would take a few years, would be my guess, but Scotland would have reversed a slide into isolationism with England and turned itself back towards a cooperative multi-lateral relationship with all of its neighbours. The benefits would begin to accrue immediately, and English businesses, particularly exporters and financial firms would likely go north to Scotland. Scotland could consider and plan its own destiny without constantly being overruled by England. England too, could stand on its own two feet and learn politically to cooperate with other nations instead of constantly trying to dominate them. England isn't there yet, but Scotland leaving the Union would certainly help it see the light.\n"
     ]
    }
   ],
   "source": [
    "all_comments.sort(key=lambda x : -len(x) )\n",
    "print( '\\n\\n'.join(all_comments[:20]) )"
   ]
  },
  {
   "cell_type": "code",
   "execution_count": 18,
   "metadata": {},
   "outputs": [
    {
     "name": "stderr",
     "output_type": "stream",
     "text": [
      "[nltk_data] Downloading package vader_lexicon to\n",
      "[nltk_data]     /home/gregmcshane/nltk_data...\n",
      "[nltk_data]   Package vader_lexicon is already up-to-date!\n"
     ]
    }
   ],
   "source": [
    "#https://towardsdatascience.com/sentimental-analysis-using-vader-a3415fef7664\n",
    "\n",
    "import nltk\n",
    "#nltk.download('vader_lexicon')\n",
    "\n",
    "from nltk.sentiment.vader import SentimentIntensityAnalyzer\n",
    "\n",
    "sid = SentimentIntensityAnalyzer()"
   ]
  },
  {
   "cell_type": "code",
   "execution_count": 22,
   "metadata": {},
   "outputs": [],
   "source": [
    "a = '''My views haven't changed. Leaving the EU will be of no benefit to anyone except those who hold money and power along with certain corporates and a smidgen of medium to small businesses.\n",
    "How else can it be when you are shutting shop to the most developed nations, the richest nations in the world, who are either in the EU or have market agreements with the EU. Even the emerging markets of China and India along with other developing economies are aspiring to develop trading agreements with the EU, the second largest economy in the world. Any deal with the UK will be secondary and will depend upon their agreement with the EU.\n",
    "Boris Johnson once said \"f**k business\". I take this as meaning there is something in it for them and they don't really care if businesses find it difficulA\n",
    "t to cope.\n",
    "I can see ministers and conservative MPs queuing to fill their pockets by acting as advisors for potential trade deals whilst the rest of the country are left struggling trying to rebuild their lives, especially following the pandemic. The same ministers will probably be looking to lower all kinds of standards from food and welfare to safety at work to improve their opportunities.\n",
    "When it comes to brinkmanship, I can only view this as getting away with whatever they can. I do not believe it is anything to do with negotiating an agreement that will be to the benefit of the UK or the EU as a whole, I don't believe our ministers are capable of doing that.'''"
   ]
  },
  {
   "cell_type": "code",
   "execution_count": 24,
   "metadata": {},
   "outputs": [
    {
     "ename": "TypeError",
     "evalue": "sentiment_valence() missing 4 required positional arguments: 'sentitext', 'item', 'i', and 'sentiments'",
     "output_type": "error",
     "traceback": [
      "\u001b[0;31m------------------------------------------------------------\u001b[0m",
      "\u001b[0;31mTypeError\u001b[0m                  Traceback (most recent call last)",
      "\u001b[0;32m<ipython-input-24-6f3326dcf5de>\u001b[0m in \u001b[0;36m<module>\u001b[0;34m\u001b[0m\n\u001b[1;32m      1\u001b[0m \u001b[0msid\u001b[0m\u001b[0;34m.\u001b[0m\u001b[0mpolarity_scores\u001b[0m\u001b[0;34m(\u001b[0m\u001b[0ma\u001b[0m\u001b[0;34m)\u001b[0m\u001b[0;34m\u001b[0m\u001b[0m\n\u001b[0;32m----> 2\u001b[0;31m \u001b[0msid\u001b[0m\u001b[0;34m.\u001b[0m\u001b[0msentiment_valence\u001b[0m\u001b[0;34m(\u001b[0m\u001b[0ma\u001b[0m\u001b[0;34m)\u001b[0m\u001b[0;34m\u001b[0m\u001b[0m\n\u001b[0m",
      "\u001b[0;31mTypeError\u001b[0m: sentiment_valence() missing 4 required positional arguments: 'sentitext', 'item', 'i', and 'sentiments'"
     ]
    }
   ],
   "source": [
    "sid.polarity_scores(a)\n",
    "sid.sentiment_valence(a)"
   ]
  },
  {
   "cell_type": "code",
   "execution_count": 29,
   "metadata": {},
   "outputs": [
    {
     "name": "stdout",
     "output_type": "stream",
     "text": [
      "##FLETCHISBACK\n",
      "https://discussion.theguardian.com/comment-permalink/148427412\n",
      "https://profile.theguardian.com/user/id/15531940\n",
      "\n",
      "I never understand why the left think they are blameless in the culture wars, that this is something being done to them. \n",
      "We had article after article traducing Winston Churchill, before the statue was vandalised in the BLM protests. Then article after article saying that was perfectly fine. Then when **BORIS**, spying a political opportunity mentions it, knowing he is revered figure for many, suddenly **BORIS** is starting a culture war. No he didn't start it, but he is capitalising on it. He is saying to a sizable demographic - look the left hate your heroes, your values, and let's face it you. Now the left may well be right, Churchill may have been awful through and through. But it is interesting that concerns over policing in the USA leads to attacks on British culture. Wouldn't it be better that we had all these articles about the utterly toothless and captured IOPC? Unless of course solving the problems of racism, comes second to telling people you hate them or the things they care about. But the left seem to be completely in denial about their role, that they are typically initiators. Even conspiracy theory levels of denial. I've had one even tell me that Churchill statue wasn't vandalised, the Mail made it up. \n",
      "It's the same with the flags. The Tories may have put a flag in the corner of every zoom. But this only worked as a culture skirmish if the left take the bait and descend into a hissy fit over a British government minister having a flag. But even though they must surely have known this was a huge trap, they sprung it anyway. The left needs to understand it is losing fights that it is starting, to the point the right is now hanging around outside the pub hoping you want another one. And you always do. \n",
      "Just park the hatred of your countrymen for 5 minutes and you might have enough mental capacity left over to actually win some political arguments, and God forbid, some elections.\n",
      "\n",
      "##BACKGROUNDNOISE\n",
      "https://discussion.theguardian.com/comment-permalink/148428632\n",
      "https://profile.theguardian.com/user/id/105036310\n",
      "\n",
      "For a country that bought wholesale into the idea that it's a tragic victim of political correctness, it consistently fails to acknowledge the one actual, genuine example of political correctness that is the cause of so many of its problems. \n",
      "England has the lowest public literacy level in the OECD rankings. Where literacy is low, political literacy is low and England's level of public political literacy is a fucking disgrace. An utterly shameful statistic and even mentioning it is taboo in the moronic environment that's been cultivated, wherein any acknowledgement of national failure, is interpreted as \"talking down Britain.\" \n",
      "That's the real \"political correctness\" - don't tell people they're thick and they need to do something about it - because that's \"unpatriotic\" and then they become tragic victims of sneering (or whatever they like to bleat on about). \n",
      "That's the reason too many English voters swallow the garbage they're fed in tabloids. It's not in **BORIS** Johnson or the Conservative party's interest to address the issue of literacy, because then their jobs get more difficult. They'd have to address the 150,000 covid deaths, the £1.5 trillion capital flight, the collapse in British exports, the bankruptcies of British small businesses. \n",
      "Much easier to start some half-witted \"culture war\" and sit back while their defensive, low-literacy supporters take offence that anyone has the temerity to question their attitudes on race. Stating aloud that there are too many illiterate and semi-literate people in the country is taboo, winding them up to distract from your failures is fine. In fact, it's what drives UK politics is these days.\n",
      "\n",
      "##LEX772\n",
      "https://discussion.theguardian.com/comment-permalink/148427693\n",
      "https://profile.theguardian.com/user/id/14934361\n",
      "\n",
      "\"I never understand why the left think they are blameless in the culture wars, that this is something being done to them.\"\n",
      "Interesting framing, when in essence it's always the right in Britain who try and avoid discussing history on any other terms but their own, and accuse those who call out past crimes as traitors. Bit like a confession in Catholicism where the first words are \"Forgive me Father, but I've never sinned\".\n",
      "\"We had article after article traducing Winston Churchill, before the statue was vandalised in the BLM protests. Then article after article saying that was perfectly fine. Then when **BORIS**, spying a political opportunity mentions it, knowing he is revered figure for many, suddenly **BORIS** is starting a culture war. No he didn't start it, but he is capitalising on it.\"\n",
      "Why would a politician capitalise on racial tensions? Wouldn't it be his job to stop something he purportedly didn't start? Isn't it his job to meditate and resolve rather than stoke one side?\n",
      "The rest of your post is basically specious apologetics for a reactionary government.\n",
      "\n",
      "##AURABOY\n",
      "https://discussion.theguardian.com/comment-permalink/148427208\n",
      "https://profile.theguardian.com/user/id/10065967\n",
      "\n",
      "The link to Trump is exactly right. When the Orange one was in charge over there, **BORIS** had some level of political cover, to always say, “but we’re not as extreme as the USA,” but now, with Biden and a more public acceptance of race issues, Johnson just looks like he’s playing the dying white supremacy playlist. Trump’s environmental agency simply removed the words climate change and global warming from its reports and that was enough for them. Now the Tory race report simply doesn’t bother with Windrush or Grenfell or a thousand other pieces of evidence, and that seems to satisfy exactly the sort of people who want to hear what they paid for. Simply erasing the evidence from reports isn’t going to stop it being reality. Johnson still thinks he’s a journalist and can simply edit or remove a bad news story away.\n",
      "\n",
      "##TIMVINCIBLE\n",
      "https://discussion.theguardian.com/comment-permalink/148428391\n",
      "https://profile.theguardian.com/user/id/2895430\n",
      "\n",
      "**BORIS** and his cohort are probably just about smart enough to realise they're not actually that smart. To know that ones power is not earned through intellectual merit must cause an almost continual sense of imposter syndrome. Thus, denial is a powerful tool... and what better form of denial than to invent a culture war where everyone who thinks you're wrong is not smarter than you, but is in fact an agent of an enemy movement. This is certainly how Trump defended his fragile, narcissistic inferiority complex. Create a false enemy and a false dichotomy, claim that the enemy is malevolent and their concerns are manufactured, then look for support amongst others who also feel inferior, or at least need a non-objective reason to feel superior despite all the evidence to the contrary.\n",
      "\n",
      "##OLIVERELKINGTON\n",
      "https://discussion.theguardian.com/comment-permalink/148428553\n",
      "https://profile.theguardian.com/user/id/10416530\n",
      "\n",
      "We'll see but the tories are very efficient at changing their spots, changing their colours, they are a chameleon party which makes them so effective, you only have to look at Cameron's success to win over liberal voters in suburbs or **BORIS**'s success to win over rural and suburban voters in the North to see that the tory party are always a step ahead of the other parties. It is up to the left to all join together and campaign together at the next election then they could squeeze a majority, Labour wont win it alone.\n",
      "\n",
      "##JEMIMAPEBBLETHWAITE\n",
      "https://discussion.theguardian.com/comment-permalink/148427834\n",
      "https://profile.theguardian.com/user/id/104115877\n",
      "\n",
      "2017: A government report finds racial disparities in educational attainment, health, employment and treatment by police and courts. Prime minister Theresa May promises to tackle \"burning injustices\".\n",
      "2021: A government report finds no evidence of institutional racism and declares the UK an example to the rest of the world. Prime minister **BORIS** Johnson promises nothing.\n",
      "Anyone with more than two brain cells in their head knows that the racism problem identified in 2017 hasn't gone away in the space of 4 years.\n",
      "\n",
      "##SQRL\n",
      "https://discussion.theguardian.com/comment-permalink/148427913\n",
      "https://profile.theguardian.com/user/id/404871\n",
      "\n",
      "The year 2022 promises to be a special one: a new energy as we are fully released from COVID captivity, The Queen’s 70th Jubilee and the Commonwealth Games in Birmingham. And we hope it will be infused with the spirit of British optimism, fairness and national purpose that was captured by that 2012 Olympic opening ceremony, and has animated this report.\n",
      "\n",
      "Tell me that this final paragraph of the independent report was not dictated personally by **BORIS** Johnson.\n",
      "\n",
      "##FERALPROLE\n",
      "https://discussion.theguardian.com/comment-permalink/148428624\n",
      "https://profile.theguardian.com/user/id/16122143\n",
      "\n",
      "The irony - or maybe its a paradox - is that the flag-waving idiocy is speeding up the decline of Britain that its a reaction to.Forget Trump, just look at the UK's own orange men. No-one waves the Butcher's Apron more than north Irish unionists. They were mad for Brexit, effectively went into government with the tories, helped **BORIS** Johnson into office, and what did it get them? A border in the Irish Sea. You've got to laugh really.\n",
      "\n",
      "##SCUBADOC\n",
      "https://discussion.theguardian.com/comment-permalink/148427370\n",
      "https://profile.theguardian.com/user/id/2000661\n",
      "\n",
      "Marina's message can't be bettered:\n",
      "\"It used to seem unutterably lame, the lengths to which David Cameron’s Conservatives would go to avoid being outflanked by a man of the calibre of Nigel Farage. That now looks like an era of lofty idealism, given that **BORIS** Johnson’s Conservatives look like they’re trying to avoid being outflanked by a man of the calibre of Laurence Fox.\"\n",
      "\n",
      "##BALANCEDTRUE\n",
      "https://discussion.theguardian.com/comment-permalink/148428085\n",
      "https://profile.theguardian.com/user/id/16444614\n",
      "\n",
      "I suppose what I should have added with this current government it's the \"**BORIS** Fawlty\" school of governing and the race report just another in a long line of rush to prejudice judgements on issues facing the country which very much mirrors the Basil Fawlty TV series school of hotel business management!\n",
      "\n",
      "##JEMIMAPEBBLETHWAITE\n",
      "https://discussion.theguardian.com/comment-permalink/148428098\n",
      "https://profile.theguardian.com/user/id/104115877\n",
      "\n",
      "Was this race report written to reflect **BORIS** Johnson's own blinkered, wilfully ignorant, deludedly patriotic views, or to win Conservative votes among flag-waving, Sun/Mail-reading anti-woke warriors? I suspect it's probably both.\n"
     ]
    }
   ],
   "source": [
    "target = 'decolon'\n",
    "target = 'science'\n",
    "target = 'boris'\n",
    "\n",
    "\n",
    "xx = [x for x in all_comments if target.lower() in x.lower() and  len(x) > 20]\n",
    "yy = [x for x in all_comments if '#pin' in x.lower() and 2000 > len(x) > 20]\n",
    "\n",
    "#print('\\n\\n'.join( ['\\n\\n'.join(x) for x in zip(xx,yy)])  )\n",
    "\n",
    "\n",
    "#print( '\\n\\n'.join(xx).replace(target, ) )\n",
    "pxx = re.compile(target, re.I)\n",
    "print( pxx.sub('**' + target.upper() + '**', \n",
    "              '\\n\\n'.join(xx)) )\n",
    "               \n",
    "#print( '\\n\\n'.join(xx) )\n"
   ]
  },
  {
   "cell_type": "code",
   "execution_count": 29,
   "metadata": {},
   "outputs": [
    {
     "data": {
      "text/plain": [
       "36"
      ]
     },
     "execution_count": 29,
     "metadata": {},
     "output_type": "execute_result"
    }
   ],
   "source": []
  },
  {
   "cell_type": "code",
   "execution_count": null,
   "metadata": {},
   "outputs": [],
   "source": []
  }
 ],
 "metadata": {
  "kernelspec": {
   "display_name": "NLPkernel",
   "language": "python",
   "name": "nlpkernel"
  },
  "language_info": {
   "codemirror_mode": {
    "name": "ipython",
    "version": 3
   },
   "file_extension": ".py",
   "mimetype": "text/x-python",
   "name": "python",
   "nbconvert_exporter": "python",
   "pygments_lexer": "ipython3",
   "version": "3.6.5"
  }
 },
 "nbformat": 4,
 "nbformat_minor": 2
}
