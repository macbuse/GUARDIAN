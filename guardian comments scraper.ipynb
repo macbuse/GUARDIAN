{
 "cells": [
  {
   "cell_type": "raw",
   "metadata": {},
   "source": [
    "# Basic scraping for Guardian discussions u"
   ]
  },
  {
   "cell_type": "code",
   "execution_count": 1,
   "metadata": {},
   "outputs": [
    {
     "name": "stdout",
     "output_type": "stream",
     "text": [
      "[master 3fa9a7d] web\n",
      " 1 file changed, 191 insertions(+), 211 deletions(-)\n",
      "Counting objects: 3, done.\n",
      "Delta compression using up to 12 threads.\n",
      "Compressing objects: 100% (3/3), done.\n",
      "Writing objects: 100% (3/3), 14.94 KiB | 2.99 MiB/s, done.\n",
      "Total 3 (delta 2), reused 0 (delta 0)\n",
      "remote: Resolving deltas: 100% (2/2), completed with 2 local objects.\u001b[K\n",
      "To https://github.com/macbuse/GUARDIAN.git\n",
      "   f06fcf3..3fa9a7d  master -> master\n"
     ]
    }
   ],
   "source": [
    "! ./.g\n"
   ]
  },
  {
   "cell_type": "code",
   "execution_count": 1,
   "metadata": {},
   "outputs": [
    {
     "name": "stdout",
     "output_type": "stream",
     "text": [
      " 8djv8.pkl                            kqqtv.pkl\n",
      " 94f6b.pkl                            kv6n2.pkl\n",
      " afuahirsch.csv                       kvf22.pkl\n",
      " davidsmith.csv                       liberation_femicide.ipynb\n",
      " edt72.pkl                            links_2020_8.txt\n",
      " eghyd.pkl                            links.txt\n",
      " egqhf.pkl                            matplotlib.ipynb\n",
      " ej7f5.pkl                            nickcohen.csv\n",
      " ejdxt.pkl                            \u001b[0m\u001b[01;35mNone0000000.png\u001b[0m\n",
      " et8zg.pkl                            owen-jones.csv\n",
      " etenk.pkl                            quad_forms.ipynb\n",
      " eyhx8.pkl                            README.md\n",
      " eytkx.pkl                            rebeccasolnit.csv\n",
      " f3ke9.pkl                            simontisdall.csv\n",
      " f4a3q.pkl                            tags\n",
      " f4vfe.pkl                            tbca8.pkl\n",
      " failed.txt                           tdvxp.pkl\n",
      " femicides2.csv                       te5tn.pkl\n",
      " femicides3.csv                       tedzk.pkl\n",
      " femicides.csv                        tfmxg.pkl\n",
      " fvkbb.pkl                            tfy7d.pkl\n",
      " gabyhinsliff.csv                     tgaxq.pkl\n",
      " gn7h4.pkl                            tgqq8.pkl\n",
      " goose_test_editorialis_miner.ipynb   tgxqd.pkl\n",
      "'guardian api and comments.ipynb'     tmp.txt\n",
      " guardian_api_prod.ipynb              transgender.csv\n",
      "'guardian comments scraper.ipynb'     \u001b[01;35mtt.jpg\u001b[0m\n",
      " guardian_extractor.ipynb             \u001b[01;35mtt.png\u001b[0m\n",
      " guardian_nlp.ipynb                   y57xb.pkl\n",
      " guardian_photo.ipynb                 y5kne.pkl\n",
      " h2tzt.pkl                            y6tvn.pkl\n",
      " h44zn.pkl                            y7f2f.pkl\n",
      " h452h.pkl                            y829j.pkl\n",
      " h4cq2.pkl                            y875b.pkl\n",
      " h5j4n.pkl                            y87zm.pkl\n",
      " h6v39.pkl                            y8h4q.pkl\n",
      " h8qmd.pkl                            y98ff.pkl\n",
      " hbc2e.pkl                            y99zz.pkl\n",
      " hbe5y.pkl                            yaa2q.pkl\n",
      " hvg6j.pkl                            yaedy.pkl\n",
      " hvpq8.pkl                            yavg9.pkl\n",
      " jnntf.pkl                            yb8ez.pkl\n",
      " jz8nk.pkl                            ybxgx.pkl\n",
      " k2dza.pkl                            yddvx.pkl\n",
      " k4vhe.pkl                            ye5m7.pkl\n",
      " k9va7.pkl                            yjvf7.pkl\n",
      " kdxb7.pkl                            ymmym.pkl\n",
      " kfgzx.pkl                            yvv24.pkl\n",
      " kphq4.pkl                            yx7cz.pkl\n",
      " kpxyb.pkl                            yy437.pkl\n"
     ]
    }
   ],
   "source": [
    "ls\n"
   ]
  },
  {
   "cell_type": "code",
   "execution_count": null,
   "metadata": {},
   "outputs": [],
   "source": [
    "with open('guardian comments scraper.ipynb','r') as fp:\n",
    "    nb = fp.read()"
   ]
  },
  {
   "cell_type": "code",
   "execution_count": 60,
   "metadata": {},
   "outputs": [],
   "source": [
    "import re\n",
    "\n",
    "pp = re.compile(\"(https://www.the.*?)'\")\n",
    "lks = pp.findall(nb)\n",
    "\n",
    "with open('links.txt','a') as fp:\n",
    "    fp.write('\\n'.join(lks))"
   ]
  },
  {
   "cell_type": "code",
   "execution_count": 1,
   "metadata": {},
   "outputs": [],
   "source": [
    "import re \n",
    "import requests\n",
    "import pickle\n",
    "import json"
   ]
  },
  {
   "cell_type": "code",
   "execution_count": 9,
   "metadata": {},
   "outputs": [],
   "source": [
    "article_url = 'https://www.theguardian.com/commentisfree/2020/aug/19/ditch-the-algorithm-generation-students-a-levels-politics'\n",
    "article_url = 'https://www.theguardian.com/commentisfree/2020/aug/21/joe-biden-democrat-convention-nice-guy-trump-fight'\n",
    "article_url = 'https://www.theguardian.com/commentisfree/2020/aug/23/the-cruel-exams-algorithm-has-laid-bare-the-unfairness-at-the-heart-of-our-schools'\n",
    "article_url = 'https://www.theguardian.com/commentisfree/2020/sep/01/us-mainstream-right-vigilante-terror'\n",
    "article_url = 'https://www.theguardian.com/commentisfree/2020/aug/31/politicians-covid-19-statistics-statisticians'\n",
    "article_url = 'https://www.theguardian.com/commentisfree/2021/apr/14/boris-johnson-is-telling-scotland-that-the-union-is-no-longer-based-on-consent'\n",
    "article_url = 'https://www.theguardian.com/commentisfree/2021/may/10/retail-politics-movements-polarising-projects-promise'"
   ]
  },
  {
   "cell_type": "code",
   "execution_count": 11,
   "metadata": {},
   "outputs": [],
   "source": [
    "article_url = 'https://www.theguardian.com/commentisfree/2020/sep/29/rival-scientists-lockdowns-scientific-covid-19'\n",
    "article_url = 'https://www.theguardian.com/commentisfree/2020/oct/08/johnson-and-sturgeon-will-need-a-better-philosophy-than-precaution-to-rid-us-of-covid'\n",
    "article_url = 'https://www.theguardian.com/commentisfree/2020/oct/10/continual-local-lockdowns-answer-covid-control'\n",
    "article_url = 'https://www.theguardian.com/commentisfree/2020/oct/11/the-rebel-scientists-cause-would-be-more-persuasive-if-it-werent-so-half-baked'\n",
    "\n",
    "article_url = 'https://www.theguardian.com/commentisfree/2021/apr/03/undermining-the-astrazeneca-jab-is-a-dangerous-act-of-political-folly#comment-148440261'\n",
    "article_url = 'https://www.theguardian.com/commentisfree/2021/apr/09/boris-johnson-brexit-belfast-violence-eu-good-friday-agreement'\n",
    "article_url ='https://www.theguardian.com/commentisfree/2021/apr/02/culture-war-government-race-report'\n",
    "article_url = 'https://www.theguardian.com/commentisfree/2021/mar/18/britain-sunny-vaccine-optimism-april-delivery-delay'\n",
    "article_url ='https://www.theguardian.com/commentisfree/2021/apr/14/boris-johnson-is-telling-scotland-that-the-union-is-no-longer-based-on-consent'\n",
    "article_url = 'https://www.theguardian.com/commentisfree/2021/apr/15/britain-harness-social-sciences-covid-pandemic-deprivation'\n",
    "article_url = 'https://www.theguardian.com/commentisfree/2021/apr/16/government-race-report-evidence#comment-148662066'\n",
    "article_url ='https://www.theguardian.com/commentisfree/2021/apr/20/britain-falling-birthrate-covid-pandemic-conservatives-removed-support-for-parents'\n",
    "article_url = 'https://www.theguardian.com/commentisfree/2021/apr/21/bmi-eating-disorder-pandemic-treatment'\n",
    "article_url = 'https://www.theguardian.com/commentisfree/2021/apr/30/government-delays-covid-public-inquiry-health-crisis'\n",
    "article_url = 'https://www.theguardian.com/commentisfree/2021/may/07/humiliation-hartlepool-smalltown-detective-di-starmer'\n",
    "article_url ='https://www.theguardian.com/commentisfree/2021/aug/06/uk-government-experts-vaccinating-under-16s'\n",
    "article_url = 'https://www.theguardian.com/commentisfree/2021/aug/01/there-is-a-case-for-vaccine-passports-but-ministers-are-failing-to-make-it'\n",
    "article_url = 'https://www.theguardian.com/commentisfree/2021/aug/09/america-is-flying-blind-when-it-comes-to-the-delta-variant'\n",
    "article_url = 'https://www.theguardian.com/commentisfree/2021/aug/10/covid-vaccines-britain-scientific-solution-jabs'\n",
    "article_url = 'https://www.theguardian.com/commentisfree/2021/aug/13/denial-anti-vaxxers-climate-sceptics'\n",
    "article_url = 'https://www.theguardian.com/commentisfree/2018/apr/11/bbc-andrew-neil-media-politics'\n",
    "\n",
    "article_url = 'https://www.theguardian.com/commentisfree/2021/aug/15/vaccine-passports-are-less-a-threat-to-liberty-than-a-mark-of-solidarity'\n",
    "article_url = 'https://www.theguardian.com/theobserver/commentisfree/2021/aug/14/will-we-reach-herd-immunity-for-the-new-coronavirus'\n",
    "article_url = 'https://www.theguardian.com/commentisfree/2021/aug/15/vaccine-hesitancy-broken-relationship-state-conspiracy-theorists'\n",
    "article_url = 'https://www.theguardian.com/commentisfree/2021/aug/17/dominic-raab-news-foreign-secretary-taliban-kabul'\n",
    "article_url= 'https://www.theguardian.com/commentisfree/2021/dec/11/so-which-of-these-politicians-is-a-neoliberal-not-one-of-them'\n",
    "\n",
    "article_url = 'https://www.theguardian.com/commentisfree/2021/dec/12/omicron-is-sneaky-it-could-be-fatal-for-us-or-for-our-faith-in-government'"
   ]
  },
  {
   "cell_type": "code",
   "execution_count": 13,
   "metadata": {},
   "outputs": [],
   "source": [
    "article_url ='https://www.theguardian.com/commentisfree/2021/dec/06/google-silicon-valley-ai-timnit-gebru'\n",
    "article_url = 'https://www.theguardian.com/commentisfree/2021/dec/20/rightwingers-us-social-change-coming'\n",
    "article_url = 'https://www.theguardian.com/commentisfree/2021/dec/22/omicron-covid-restrictions-young-people'\n",
    "article_url = 'https://www.theguardian.com/politics/2022/jan/01/sir-tim-brighouse-many-hold-gove-responsible-expert-educator-sets-out-whats-gone-wrong-with-britains-schools'\n",
    "article_url ='https://www.theguardian.com/commentisfree/2022/jan/10/colston-four-britain-apology-for-past'\n",
    "article_url = 'https://www.theguardian.com/commentisfree/2022/jan/21/democrats-shape-up-bidens-presidency-trumpian-sequel'\n",
    "article_url = 'https://www.theguardian.com/commentisfree/2022/jan/28/joe-rogan-neil-young-spotify-streaming-service'"
   ]
  },
  {
   "cell_type": "code",
   "execution_count": 7,
   "metadata": {},
   "outputs": [],
   "source": [
    "article_url = 'https://www.theguardian.com/commentisfree/2022/mar/04/ukraine-eu-membership-zelenskiy-european-values-war'\n",
    "article_url = 'https://www.theguardian.com/commentisfree/2022/feb/27/liberal-democracies-must-defend-their-values-and-show-putin-that-the-west-isnt-weak'\n",
    "article_url = 'https://www.theguardian.com/commentisfree/2022/mar/06/progress-women-international-womens-day-labour-party'\n",
    "article_url = 'https://www.theguardian.com/commentisfree/2022/mar/09/vladimir-putin-west-downfall-dictator-democracies'\n",
    "article_url = 'https://www.theguardian.com/commentisfree/2022/mar/26/britain-clocks-go-forward-eu-us-hour-changes'\n",
    "article_url = 'https://www.theguardian.com/commentisfree/2022/mar/27/for-brazen-cynicism-i-have-seen-nothing-like-sunaks-plan-in-40-years'"
   ]
  },
  {
   "cell_type": "code",
   "execution_count": 2,
   "metadata": {},
   "outputs": [],
   "source": [
    "article_url = 'https://www.theguardian.com/commentisfree/2022/apr/01/straight-women-tv-shows-lesbians-sally-wainwright'\n",
    "article_url ='https://www.theguardian.com/commentisfree/2022/apr/06/united-nations-putin-ukraine-catastrophic'\n",
    "article_url = 'https://www.theguardian.com/commentisfree/2022/apr/10/stench-entitlement-now-oozing-from-rishi-sunaks-home-as-well-as-boris-johnsons'\n",
    "article_url = 'https://www.theguardian.com/commentisfree/2022/apr/10/orban-le-pen-voters-sening-chill-message-to-europes-beleagured-centre'\n",
    "article_url = 'https://www.theguardian.com/commentisfree/2022/apr/11/france-populism-gaining-ground-revolution'\n",
    "\n",
    "article_url = 'https://www.theguardian.com/commentisfree/2022/apr/12/herd-immunity-covid-reinfection-virus-world'\n",
    "article_url = 'https://www.theguardian.com/commentisfree/2022/apr/17/whoever-ends-up-in-elysee-palace-europeanism-is-already-on-the-way-out'\n",
    "article_url = 'https://www.theguardian.com/commentisfree/2022/apr/17/nato-should-talk-less-and-do-more-or-ukraine-will-be-torn-apart-bit-by-bit'\n",
    "article_url = 'https://www.theguardian.com/commentisfree/2022/apr/20/france-emmanuel-macron-president-far-right-marine-le-pen'\n",
    "article_url ='https://www.theguardian.com/commentisfree/2022/apr/23/france-vote-le-pen-macron-tv-debate-far-right'\n",
    "article_url = 'https://www.theguardian.com/commentisfree/2022/apr/22/hips-dont-lie-liam-gallagher-replacement-surgery-older-bodies'\n",
    "\n",
    "article_url = 'https://www.theguardian.com/commentisfree/2022/apr/25/french-left-emmanuel-macron-marine-le-pen-far-right-president'\n",
    "article_url = 'https://www.theguardian.com/commentisfree/2022/may/09/ncuti-gatwa-doctor-who-jodie-whittaker-whovians'\n",
    "article_url = 'https://www.theguardian.com/world/commentisfree/2022/apr/28/france-election-divide-campaign-split'\n",
    "\n",
    "article_url ='https://www.theguardian.com/commentisfree/2022/may/13/phone-north-sea-rebekah-vardy-coleen-rooney-libel-case'\n",
    "\n",
    "article_url = 'https://www.theguardian.com/commentisfree/2022/jun/09/west-victory-in-ukraine-escalation-war'\n",
    "article_url = 'https://www.theguardian.com/commentisfree/2022/jun/24/overturning-roe-story-is-women-unfreedom'\n",
    "article_url = 'https://www.theguardian.com/commentisfree/2022/jul/01/nicola-sturgeon-independence-referendum-britain'\n",
    "article_url = 'https://www.theguardian.com/commentisfree/2022/jul/11/would-be-mothers-parent-solo-dating-apps-children'\n",
    "article_url = 'https://www.theguardian.com/commentisfree/2022/jul/27/womens-football-is-not-just-a-spin-off-of-the-mens-game-its-great-in-its-own-right'\n",
    "article_url = 'https://www.theguardian.com/commentisfree/2022/aug/01/liz-truss-tory-race-oxbridge'\n",
    "article_url = 'https://www.theguardian.com/commentisfree/2022/aug/11/liz-truss-gen-xer-like-me-we-shouldnt-be-in-power'\n",
    "article_url = 'https://www.theguardian.com/commentisfree/2022/aug/17/cyclists-grant-shapps-culture-wars'\n",
    "article_url = 'https://www.theguardian.com/commentisfree/2022/aug/18/brexit-research-grant-uk-science-jeopardy'"
   ]
  },
  {
   "cell_type": "code",
   "execution_count": 16,
   "metadata": {},
   "outputs": [],
   "source": [
    "article_url = 'https://www.theguardian.com/commentisfree/2023/jan/05/maths-schools-rishi-sunak-arts-sport'\n",
    "article_url = 'https://www.theguardian.com/commentisfree/2023/jan/08/more-maths-rishi-sunaks-calculation-doesnt-add-up'"
   ]
  },
  {
   "cell_type": "code",
   "execution_count": null,
   "metadata": {},
   "outputs": [],
   "source": [
    "\n",
    "\n",
    "key = my_keys.keys['guardian']"
   ]
  },
  {
   "cell_type": "code",
   "execution_count": 17,
   "metadata": {},
   "outputs": [
    {
     "name": "stdout",
     "output_type": "stream",
     "text": [
      "/p/n3n95\n",
      "getting comments page no. 1\n",
      "there are 10 pages\n",
      "getting comments page no. 2\n",
      "getting comments page no. 3\n",
      "getting comments page no. 4\n",
      "getting comments page no. 5\n",
      "getting comments page no. 6\n",
      "getting comments page no. 7\n",
      "getting comments page no. 8\n",
      "getting comments page no. 9\n",
      "getting comments page no. 10\n",
      "archiving to n3n95.pkl\n"
     ]
    }
   ],
   "source": [
    "#scrape the page and get the short url\n",
    "# 15/8/21  this failed and gave /p/temp\n",
    "short_url_pp =  re.compile('\"shortUrlId\":\"(.*?)\"')\n",
    "\n",
    "r = requests.get(article_url)\n",
    "mm = short_url_pp.search(r.text)\n",
    "short_url = mm.group(1)\n",
    "uu = r.text\n",
    "print(short_url)\n",
    "\n",
    "#the short url allows us to access the discussion\n",
    "# 15/8/21 api.nextgen.guardianapps.co.uk/discussion/ failed on \n",
    "# https://discussion.theguardian.com/discussion-api/discussion/p/tfmxg\n",
    "comments_url = 'https://api.nextgen.guardianapps.co.uk/discussion/%s.json'%short_url\n",
    "params = {'orderBy' : 'newest',\n",
    "          'pageSize' : 25,\n",
    "          'displayThreaded' : 'true',\n",
    "          'commentsClosed' : 'false',\n",
    "          'page' : '',\n",
    "          'maxResponses' : 50\n",
    "         }\n",
    "\n",
    "json_data =  []\n",
    "start_page  = 1\n",
    "last_page = None\n",
    "\n",
    "\n",
    "for num_page in range(start_page, 10**4):\n",
    "    print('getting comments page no.', num_page)\n",
    "    params['page'] = num_page\n",
    "    r = requests.get( comments_url, params=params)\n",
    "    json_data.append( r.text)\n",
    "    #The last page is a field in the json object\n",
    "    #I don't need to read this as json I could do a regexp\n",
    "    if num_page == start_page:\n",
    "        json_dict = json.loads(r.text)\n",
    "        last_page = json_dict['lastPage']\n",
    "        print('there are %d pages'%last_page)\n",
    "    if num_page == last_page : break\n",
    "        \n",
    "\n",
    "fn = '%s.pkl'%short_url.split('/')[-1]\n",
    "print('archiving to %s'%fn)\n",
    "with open(fn,'wb') as fp:\n",
    "    pickle.dump(json_data,fp)"
   ]
  },
  {
   "cell_type": "code",
   "execution_count": 2,
   "metadata": {},
   "outputs": [],
   "source": [
    "import pickle\n",
    "\n",
    "json_data = pickle.load(open('k4vhe.pkl','rb'))"
   ]
  },
  {
   "cell_type": "markdown",
   "metadata": {},
   "source": [
    "---\n",
    "\n",
    "## remember each page of comments has been stored separately"
   ]
  },
  {
   "cell_type": "code",
   "execution_count": 5,
   "metadata": {},
   "outputs": [
    {
     "data": {
      "text/plain": [
       "4"
      ]
     },
     "execution_count": 5,
     "metadata": {},
     "output_type": "execute_result"
    }
   ],
   "source": [
    "dd = json.loads(json_data[0])\n",
    "len(json_data)"
   ]
  },
  {
   "cell_type": "code",
   "execution_count": 6,
   "metadata": {},
   "outputs": [
    {
     "data": {
      "text/plain": [
       "'\\n<div class=\"d-discussion d-discussion--recommendations-open u-cf\"\\n     data-read-only=\"false\" >\\n\\n    \\n    \\n\\n\\n    <ul class=\"d-thread d-thread--comments js-new-comments\">\\n\\n        \\n            \\n\\n<li class=\"d-comment\\n            d-comment--top-level\"\\n           id=\"comment-160611507\"\\n           data-comment-id=\"160611507\"\\n           data-comment-author=\"ianfraser3\"\\n           data-comment-replies=\"0\"\\n           data-comment-timestamp=\"2023-01-05T18:59:11.000Z\"\\n           data-comment-author-id=\"16727937\"\\n           data-comment-highlighted=\"false\"\\n           itemscope itemtype=\"http://schema.org/Comment\">\\n\\n    <div class=\"d-comment__inner d-comment__inner--top-level\">\\n        <div class=\"d-comment__meta\">\\n            <span class=\"d-comment__avatar-wrapper\">\\n                <img src=\"https://avatar.guim.co.uk/user/16727937\" alt=\"\" class=\"d-comment__avatar\"/>\\n            </span>\\n            <div class=\"d-comment__meta-text\">\\n                <span\\n                    itemscope\\n                    itemprop=\"author\"\\n                    itemtype=\"http://schema.org/Person\"\\n                    title=\"ianfraser3\"\\n                    class=\"d-comment__author\">\\n                    <a href=\"https://profile.theguardian.com/user/id/16727937\" itemprop=\"url\">\\n                        <span itemprop=\"givenName\">ianfraser3</span>\\n                    </a>\\n                </span>\\n\\n                \\n                <div class=\"d-comment__timestamp\">\\n                    <a href=\"https://discussion.theguardian.com/comment-permalink/160611507\" class=\"d-comment__timestamp block-time\">\\n                        <time class=\"js-timestamp\" itemprop=\"dateCreated\"\\n                            datetime=\"2023-01-05T18:59:11Z\"\\n                            data-timestamp=\"1672945151000\" data-relativeformat=\"med\"\\n                            title=\"Permalink to this comment (5 Jan 2023 18:59)\">5 Jan 2023 18:59</time>\\n                        \\n\\n<span  class=\"inline-comment-anchor inline-icon \" >\\n    \\n        <svg width=\"15\" height=\"15\" viewbox=\"0 0 15 15\" class=\"inline-comment-anchor__svg inline-icon__svg\">\\n <path fill=\"#898989\" d=\"M5.725 13.348a2.563 2.563 0 0 1-3.699-3.547l8.424-8.79a1.921 1.921 0 0 1 2.776 2.658l-6.894 7.193a1.277 1.277 0 0 1-1.812.038 1.28 1.28 0 0 1-.04-1.81l5.324-5.553.337.321-5.325 5.555a.815.815 0 0 0 1.175 1.128l6.896-7.193a1.456 1.456 0 0 0-2.101-2.015l-8.427 8.79a2.102 2.102 0 0 0 .063 2.965 2.098 2.098 0 0 0 2.965-.062l6.853-7.152.338.323-6.853 7.151z\" />\\n</svg>\\n    \\n</span>\\n\\n                    </a>\\n                </div>\\n\\n                 \\n\\n\\n                \\n            </div>\\n        </div>\\n\\n        <div class=\"d-comment__content\">\\n\\n             \\n                <div\\n                    class=\"d-comment__recommend js-recommend-comment\"\\n                    data-comment-id=\"160611507\"\\n                    data-comment-url=\"https://discussion.theguardian.com/comment-permalink/160611507\"\\n                    data-user-id=\"16727937\"\\n                    data-recommend-count=\"132\"\\n                    title=\"132 recommendations\">\\n                    <button class=\"u-button-reset d-comment__recommend-button rounded-icon\" data-link-name=\"Recommend comment\" >\\n                        <span class=\"d-comment__recommend-pulse\"></span>\\n                        \\n\\n<span  class=\"inline-arrow-up-white inline-icon \" >\\n    \\n        <svg height=\"14\" width=\"15\" class=\"inline-arrow-up-white__svg inline-icon__svg\">\\n <path d=\"m.5 7 5.25-4.5V14h1.5V2.5L12.5 7l.5-1-5.75-6h-1.5L0 6l.5 1Z\" />\\n</svg>\\n    \\n</span>\\n\\n                    </button>\\n                    <span class=\"d-comment__recommend-count js-recommend-count\">\\n                        <span class=\"d-comment__recommend-count--old\">132</span>\\n                        <span class=\"d-comment__recommend-count--new\">133</span>\\n                    </span>\\n                </div>\\n            \\n\\n            <div class=\"d-comment__main \">\\n\\n                <div class=\"d-comment__body\" itemprop=\"text\">\\n                    \\n                        \\n                            <p>I think this maths drive will create a lot of division.</p>\\n                        \\n                    \\n                </div>\\n                \\n                    <div class=\"d-comment__actions d-comment__actions--left modern-visible\">\\n                        <a class=\"d-comment__action d-comment__action--reply\" href=\"https://profile.theguardian.com/signin?returnUrl=https://discussion.theguardian.com/comment-permalink/160611507&componentEventParams=componentType%3Didentityauthentication%26componentId%3Dsignin_to_reply_comment\"\\n                                data-link-name=\"reply to comment\" data-comment-id=\"160611507\" role=\"button\">\\n                            \\n\\n<span  class=\"inline-reply inline-icon blue\" >\\n    \\n        <svg width=\"18\" height=\"18\" class=\"blue__svg inline-reply__svg inline-icon__svg\">\\n <path d=\"m10.1 5 .9-1 4 4.5v1L11 14l-.9-1 2.5-3H4L3 9V6.5h2V8h7.6l-2.5-3z\" />\\n</svg>\\n    \\n</span>\\n\\n                            Reply\\n                        </a>\\n\\n                        <span class=\"d-comment__action-separator d-staff-required\">|</span>\\n\\n                        <button class=\"u-button-reset d-comment__action d-comment__action--pick d-staff-required\" role=\"button\"\\n                            data-comment-id=\"160611507\"\\n                            data-comment-highlighted=\"false\" data-link-name=\"Pick comment\">Pick</button>\\n                    </div>\\n\\n                    <div class=\"report-comment-container js-report-comment-container d-comment__action d-comment__action--report\">\\n                        <a href=\"/discussion/report-abuse/160611507\" rel=\"nofollow\" class=\"js-report-comment\" data-comment-id=\"160611507\" target=\"_blank\" data-link-name=\"Open report abuse\">Report</a>\\n                    </div>\\n                \\n            </div>\\n        </div>\\n\\n    </div>\\n\\n    \\n</li>\\n\\n        \\n            \\n\\n<li class=\"d-comment\\n            d-comment--top-level\"\\n           id=\"comment-160611506\"\\n           data-comment-id=\"160611506\"\\n           data-comment-author=\"schleiermacher\"\\n           data-comment-replies=\"0\"\\n           data-comment-timestamp=\"2023-01-05T18:58:56.000Z\"\\n           data-comment-author-id=\"14246931\"\\n           data-comment-highlighted=\"false\"\\n           itemscope itemtype=\"http://schema.org/Comment\">\\n\\n    <div class=\"d-comment__inner d-comment__inner--top-level\">\\n        <div class=\"d-comment__meta\">\\n            <span class=\"d-comment__avatar-wrapper\">\\n                <img src=\"https://avatar.guim.co.uk/user/14246931\" alt=\"\" class=\"d-comment__avatar\"/>\\n            </span>\\n            <div class=\"d-comment__meta-text\">\\n                <span\\n                    itemscope\\n                    itemprop=\"author\"\\n                    itemtype=\"http://schema.org/Person\"\\n                    title=\"schleiermacher\"\\n                    class=\"d-comment__author\">\\n                    <a href=\"https://profile.theguardian.com/user/id/14246931\" itemprop=\"url\">\\n                        <span itemprop=\"givenName\">schleiermacher</span>\\n                    </a>\\n                </span>\\n\\n                \\n                <div class=\"d-comment__timestamp\">\\n                    <a href=\"https://discussion.theguardian.com/comment-permalink/160611506\" class=\"d-comment__timestamp block-time\">\\n                        <time class=\"js-timestamp\" itemprop=\"dateCreated\"\\n                            datetime=\"2023-01-05T18:58:56Z\"\\n                            data-timestamp=\"1672945136000\" data-relativeformat=\"med\"\\n                            title=\"Permalink to this comment (5 Jan 2023 18:58)\">5 Jan 2023 18:58</time>\\n                        \\n\\n<span  class=\"inline-comment-anchor inline-icon \" >\\n    \\n        <svg width=\"15\" height=\"15\" viewbox=\"0 0 15 15\" class=\"inline-comment-anchor__svg inline-icon__svg\">\\n <path fill=\"#898989\" d=\"M5.725 13.348a2.563 2.563 0 0 1-3.699-3.547l8.424-8.79a1.921 1.921 0 0 1 2.776 2.658l-6.894 7.193a1.277 1.277 0 0 1-1.812.038 1.28 1.28 0 0 1-.04-1.81l5.324-'"
      ]
     },
     "execution_count": 6,
     "metadata": {},
     "output_type": "execute_result"
    }
   ],
   "source": [
    "xx = json.loads(json_data[0])\n",
    "xx['commentsHtml'][:8000]"
   ]
  },
  {
   "cell_type": "code",
   "execution_count": null,
   "metadata": {},
   "outputs": [],
   "source": [
    "https://discussion.theguardian.com/comment-permalink/154003870"
   ]
  },
  {
   "cell_type": "code",
   "execution_count": 136,
   "metadata": {},
   "outputs": [
    {
     "name": "stdout",
     "output_type": "stream",
     "text": [
      " class=\"d-comment\n",
      "            d-comment--top-level\"\n",
      "           id=\"comment-144422422\"\n",
      "           data-comment-id=\"144422422\"\n",
      "           data-comment-author=\"Hushing\"\n",
      "           data-comment-replies=\"0\"\n",
      "           data-comment-timestamp=\"2020-10-11T14:25:06.000+01:00\"\n",
      "           data-comment-author-id=\"12407494\"\n",
      "           data-comment-highlighted=\"false\"\n",
      "           itemscope itemtype=\"http://schema.org/Comment\">\n",
      "\n",
      "    <div class=\"d-comment__inner d-comment__inner--top-level\">\n",
      "        <div class=\"\n"
     ]
    }
   ],
   "source": [
    "print( xx['commentsHtml'][200:700])"
   ]
  },
  {
   "cell_type": "code",
   "execution_count": 8,
   "metadata": {},
   "outputs": [],
   "source": [
    "pa = re.compile('data-comment-author=\"(.*?)\"')\n",
    "pid = re.compile('data-comment-author-id=\"(\\d+)')\n",
    "pcid = re.compile('\\sid=\"comment-(.*?)\"')\n",
    "pp = re.compile('<li class=\"d-comment(.*?)>',re.DOTALL)\n",
    "\n",
    "auths = []\n",
    "md = []\n",
    "for xx in json_data:\n",
    "    hh = json.loads(xx)['commentsHtml']\n",
    "    auths.extend(list( zip(pa.findall(hh), \n",
    "                           pid.findall(hh)\n",
    "                          )))\n",
    "    md.extend(pp.findall(hh))\n",
    "\n",
    "auths = list(set(auths))\n",
    "auths.sort(key=lambda x : x[0].lower())\n"
   ]
  },
  {
   "cell_type": "code",
   "execution_count": 10,
   "metadata": {},
   "outputs": [
    {
     "data": {
      "text/plain": [
       "[('123654a', '14312750'),\n",
       " ('1key2kan', '104749605'),\n",
       " ('1Love1Heart', '100796168'),\n",
       " ('45022', '3426044'),\n",
       " ('48percenter', '2847558'),\n",
       " ('Abedonders', '3883075'),\n",
       " ('abstrusus', '15533337'),\n",
       " ('adamvarhy', '106853452'),\n",
       " ('ade1973', '14874802'),\n",
       " ('AlexanderGH', '4503360')]"
      ]
     },
     "execution_count": 10,
     "metadata": {},
     "output_type": "execute_result"
    }
   ],
   "source": [
    "auths[:10]"
   ]
  },
  {
   "cell_type": "code",
   "execution_count": 102,
   "metadata": {},
   "outputs": [],
   "source": [
    "#print( '\\n'.join([x for x in md if 'pinkie' in x.lower()]))"
   ]
  },
  {
   "cell_type": "markdown",
   "metadata": {},
   "source": [
    "https://discussion.theguardian.com/comment-permalink/144375739"
   ]
  },
  {
   "cell_type": "code",
   "execution_count": 8,
   "metadata": {},
   "outputs": [],
   "source": [
    "auths = dict(auths)"
   ]
  },
  {
   "cell_type": "code",
   "execution_count": 13,
   "metadata": {},
   "outputs": [
    {
     "data": {
      "text/plain": [
       "'https://api.nextgen.guardianapps.co.uk/discussion//p/yydf9.json'"
      ]
     },
     "execution_count": 13,
     "metadata": {},
     "output_type": "execute_result"
    }
   ],
   "source": [
    "comments_url"
   ]
  },
  {
   "cell_type": "code",
   "execution_count": 18,
   "metadata": {},
   "outputs": [],
   "source": [
    "from bs4 import BeautifulSoup\n",
    "import lxml\n",
    "\n",
    "def html2comments(x):\n",
    "    tt = json.loads(x)\n",
    "    soup = BeautifulSoup(tt['commentsHtml'],  \"lxml\")\n",
    "    raw = [ comment.text for comment in  \n",
    "            soup.findAll('div', {'class' : \"d-comment__body\"}) ]\n",
    "    \n",
    "    metadata = soup.findAll('span', {'class' : \"d-comment__author\"})\n",
    "    \n",
    "    auth = [ x.text.upper().strip() for x in metadata]\n",
    "    auth_id = [ x.find('a')['href'] for x in metadata]\n",
    "    #this was a pain to do really\n",
    "    #the problem is blocked comments\n",
    "    comment_id = [ x['id'][len('comment-'):] for x in soup.findAll('li')]\n",
    " \n",
    "    \n",
    "    ss = '##{}\\nhttps://discussion.theguardian.com/comment-permalink/{}\\n{}\\n\\n{}'\n",
    "    return [ ss.format(a,b,d,c.strip())  \n",
    "                   for a,b,d,c in zip(auth, comment_id, auth_id, raw)]\n",
    "     \n",
    "all_texts = [ html2comments(page) for page in json_data[:] ]\n",
    "\n",
    "\n",
    "from itertools import chain\n",
    "all_comments = list(chain.from_iterable(all_texts))\n",
    "    "
   ]
  },
  {
   "cell_type": "code",
   "execution_count": 8,
   "metadata": {},
   "outputs": [
    {
     "data": {
      "text/plain": [
       "'##IANFRASER3\\nhttps://discussion.theguardian.com/comment-permalink/160611507\\nhttps://profile.theguardian.com/user/id/16727937\\n\\nI think this maths drive will create a lot of division.'"
      ]
     },
     "execution_count": 8,
     "metadata": {},
     "output_type": "execute_result"
    }
   ],
   "source": [
    "all_comments[0]"
   ]
  },
  {
   "cell_type": "markdown",
   "metadata": {},
   "source": [
    "# Random data hacking"
   ]
  },
  {
   "cell_type": "code",
   "execution_count": 14,
   "metadata": {
    "scrolled": true
   },
   "outputs": [
    {
     "data": {
      "text/plain": [
       "[('##BEASY', 10),\n",
       " ('##FISHWORLD', 9),\n",
       " ('##HGOURLAYUK', 7),\n",
       " ('##WOMBAL', 6),\n",
       " ('##SSSSSSSSSS', 6),\n",
       " ('##MRMCMCNESS', 5)]"
      ]
     },
     "execution_count": 14,
     "metadata": {},
     "output_type": "execute_result"
    }
   ],
   "source": [
    "A = [x.split('\\n')[0] for x in all_comments]\n",
    "from collections import Counter\n",
    "AN = Counter(A)\n",
    "sorted([(x,y) for x,y in AN.items() if y > 4], key=lambda x : -x[1]) "
   ]
  },
  {
   "cell_type": "code",
   "execution_count": 24,
   "metadata": {},
   "outputs": [
    {
     "name": "stdout",
     "output_type": "stream",
     "text": [
      "[master 26cbffe] web\n",
      " 5 files changed, 228 insertions(+), 271 deletions(-)\n",
      " create mode 100644 yb8ez.pkl\n",
      " create mode 100644 yddvx.pkl\n",
      " create mode 100644 ye5m7.pkl\n",
      " create mode 100644 yjvf7.pkl\n",
      "Counting objects: 7, done.\n",
      "Delta compression using up to 12 threads.\n",
      "Compressing objects: 100% (7/7), done.\n",
      "Writing objects: 100% (7/7), 738.28 KiB | 2.44 MiB/s, done.\n",
      "Total 7 (delta 4), reused 0 (delta 0)\n",
      "remote: Resolving deltas: 100% (4/4), completed with 2 local objects.\u001b[K\n",
      "To https://github.com/macbuse/GUARDIAN.git\n",
      "   f914f6e..26cbffe  master -> master\n"
     ]
    }
   ],
   "source": [
    "! ./.g\n"
   ]
  },
  {
   "cell_type": "code",
   "execution_count": 30,
   "metadata": {},
   "outputs": [
    {
     "name": "stdout",
     "output_type": "stream",
     "text": [
      "##STILT\n",
      "https://discussion.theguardian.com/comment-permalink/155280552\n",
      "https://profile.theguardian.com/user/id/2397205\n",
      "\n",
      "This comment was removed by a moderator because it didn't abide by our\n",
      "         \n"
     ]
    }
   ],
   "source": [
    "print(all_comments[0][:200])"
   ]
  },
  {
   "cell_type": "code",
   "execution_count": 25,
   "metadata": {},
   "outputs": [
    {
     "data": {
      "text/plain": [
       "'france-populism-gaining-ground-revolution'"
      ]
     },
     "execution_count": 25,
     "metadata": {},
     "output_type": "execute_result"
    }
   ],
   "source": []
  },
  {
   "cell_type": "code",
   "execution_count": 19,
   "metadata": {},
   "outputs": [
    {
     "name": "stdout",
     "output_type": "stream",
     "text": [
      "##COAL_MINERS_DAUGHTER\n",
      "https://discussion.theguardian.com/comment-permalink/160644109\n",
      "https://profile.theguardian.com/user/id/108336618\n",
      "\n",
      "“just because you disagree with what other commenters say doesn’t mean that they have no experience or, indeed, are wrong.”\n",
      "Read the comments. I just said what I thought and others have started to say that I am wrong, as if there is only one way of seeing this. I have not said I am right but others are convinced this is a bad idea, so why isn’t there some balance here? I am struck by how many identikit comments condemning this new scheme. The issue here is that it is not about right or wrong because this subject will always be debatable. Until tue maths provision is put in place and its effectiveness tracked over several years would anyone have some authoritative data. Even then people won’t always agree. \n",
      "As for my experience, I was at school from the 1980s and 1990s. I went to sixth form college, and then did a BA and two Ma’s. I also worked at schools, and have had nieces and nephews going to state schools. My own kids go to school now, and the education provision has changed considerably from my time. Teachers are much more caring for a start. Most people here seem to be relating their experiences of what schools were like decades ago and have no recent experience of being at school. They have little experience of seeing what is taught at schools today because it is is obvious many people here don’t have children at school now.From reception age, kids are given more Maths support than they used to in the 1980s and 1990s. My primary school aged children are given many Maths related games that sharpen those skills and enrol them in a type of national competition. Kids thoroughly enjoy that, and it often it means kids get ahead of what they were learning. Children at primary school age never used to get homework but now they are given lots of Maths work to do at home. Teachers have dedicated classes for pupils who struggle with maths so they could catch up with the students who are at the level they should be at their age. \n",
      "You said this: “..this government is one which is not naturally associated with spreading opportunity to all, so I’m inclined to view this aspiration cynically.”It is well know that many readers of the Guardian are richer people, middle and upper classes. It is conceivable that many people reading here send their kids to private schools, pay for extra tuition and see the advanced fields in Maths, sciences and computing as something that was reserved for their children. I am cynical that people here genuinely care about this initiative and see it as a way of poorer children getting greater access to education that might qualify them to enter high earning professions in science technology and engineering. I rewrote my cynicism as I sometimes feel there is a big difference between Guardian readers and commentators. I find it often that people on this website often bash progressive initiatives, and in some cases even repeat the extreme views found on The Daily Mail website. \n",
      "Only time will tell if Maths will help or not, but there have been quite a few articles about this subject here over the last week, most of them very critical, and with very negative comments. I mean, sure , it is OK to be be a bit cynical but the reaction in this paper is bordering on the hysterical. I am not just talking about this article here, but all the ones published here combined. The vast majority of comments on this subject have been pretty hostile, and I find that strange because I am not sure if this is the worst this party has even announced. It is almost as if people have an agenda here to discredit this initiative to the detriment of the students who may benefit and get access to the kids of fields rich kids used to enter. In all likelihood the government. won’t even pay for this extra education anyway, and I think that some advanced Maths skills, which would usually only be affordable to richer parents, is truly a good thing, even if it is down by the wrong people or the wrong government. I am more concerned if this is an empty pledge than thinking it won’t be beneficial.\n",
      "\n",
      "##SMILEECOYOTE\n",
      "https://discussion.theguardian.com/comment-permalink/160642344\n",
      "https://profile.theguardian.com/user/id/105795884\n",
      "\n",
      "I love maths, coming from an amateur level computing point of view, and also how to adequately describe difficult theoretical physics concepts like moving from event to event in spacetime etc.\n",
      "I do think that what is considered an acceptable level for mathematics as an essential core subject for life in the modern world is too low in the UK I don't have experience in other nations, though I've not found too many Europeans with the sub standard I see often here. There are cultural gender issues, (Oh it's OK to be bad at math you're a girl for example) cultural class issues a sort of working class snobbery against academic pursuits. In my life I have met a lot of older children and young adults who just believe that they're not capable of doing math to any significant standard, and it seems that they've been taught to believe they're mentally incapable.\n",
      "Now I have tried many times with many people to explain that the brain is just like a muscle, if you exercise and challenge it as a routine, it will grow strong and sharp. Maths is just one of the best logical exercises you can do. And I do not believe that anyone who is physically healthy coudln't attain the ability and confidence in math to an A-Level standard. I remember being absolutely hopeless at times tables in primary school, and falling behind my peers. I remember feeling inadequate and like I just wasn't capable. The real reason I was behind was the teaching style didn't fit me - having it all written out on a board then chanting through the list as a class wasn't getting it into my brain. It wasn't until my late Grandfather who was a math teacher at a secondary school got me to draw out a grid with the numbers down each axis, then work each box out multiplying one by one a write the answer in - once I'd done that maybe 5 or 6 times? I never had any problem with times tables again. I also saw patterns in that grid of numbers that were not at all apparent before.\n",
      "Some people have responded positively to my efforts, when I have tried to teach children a bit of programming, but something I have had to learn since is that while I think anyone can do it;\n",
      "Some people just don't like doing maths.\n",
      "And it is not helpful for them to try and get them to do something they dislike so much. Invariably they end up hating it more and being annoyed with me.\n",
      "\n",
      "##RGMANN\n",
      "https://discussion.theguardian.com/comment-permalink/160644305\n",
      "https://profile.theguardian.com/user/id/107253442\n",
      "\n",
      "Coming from abroad, I keep being shocked by the UK's school system. First I find out that 20% of the people drop out at 16 and then I find out that only 50% of the people have any maths past 16. This is the 21st century, people! I know people here like telling themselves fairy tales about how kids should never do any homework or tests or ever be intellectually challenged in any way in case they are scared for life, that university is about meeting people from different backgrounds and \"experimenting\" and not about learning or that the only intellectual skills worth acquiring are indistinguishable from those of an opinion piece writer or ChatGPT, and the rest have had enough of experts and have \"other skills\" and \"are good at working with their hands\". If it they do end up actually not got at anything, it's probably the class system that's done it, never a failing on the part of any person, family or community. \n",
      "I mean, come on! It's not the 1970s anymore - the human knowledge has gotten far beyond the point where you can afford to not push for more learning in schools. Not just maths, mind you! I don't know what's going on here, but despite spending the most years and most hours in schools compared to any other country I know, people in the UK are by far the worst educated and least aware of the world. Some of it is the curriculum, but a lot of this must be the \"culture\" and this needs challenging. \n",
      "The country that wants the NHS and might even want a good education system, doesn't want to pay more tax as it's milking the last of the empire dividends, scraping by thanks to taxes on financial services, sticky tape, immigration and prayer is not self-sustaining. Fixing badly installed boilers in badly built houses and spending the money on getting your hair cut doesn't pay for the imported food someone stacked on the shelves in Tesco, nor medicine, tech, schools for your children, doctors or care homes. Something has to give, but while maths alone won't do it, most people would rather claim their free cactus than consider what really needs improving in education so that Britain might one day become a productive and healthy society.\n",
      "\n",
      "##COAL_MINERS_DAUGHTER\n",
      "https://discussion.theguardian.com/comment-permalink/160641831\n",
      "https://profile.theguardian.com/user/id/108336618\n",
      "\n",
      "“8 million adults have the numeracy skills of primary school children. 60% of disadvantaged children do not have basic maths skills at aged 16.\n",
      "This rather suggests that the problem is with maths teaching / developement of numeracy between ages 11 and 16, doesn’t it?”\n",
      "Then obviously Maths classes have to be improved and they have been doing that for the last 10 years at least, with additional Maths clubs, interactive apps like Timestables Rock Stars and Num Bots. This new scheme is building upon what schools Shevardnadze been doing for the last several years at primary and secondary schools. You won’t see the improvements in statistics overnight, and the 70% of adults you refer to obviously include people who went to school decades ago. The vast majority of people commenting here neither have kids nor have seen the inside of a school for decades, but education provision in Uk schools has changed considerably over the last 10-15 years and children are learning far more maths than they used to. Back in the 1980s and 1990s, children did not even get homework in primary school but they do now. Your comment is staggeringly ignorant and you don’t understand why they are planning to add two more years of Maths. The reason is that many children don’t go on and study Maths for their A-Levels and since they don’t all these students usually can’t take subjects for which advanced Maths is a requirement. These classes will give students the confidence that they can do Maths at more advanced levels and then hopefully study subjects that require these skills. Students who will get additional Maths lessons will be able to handle them because they are already being given very good Maths tuition at school, and you will see the positive results of this in time, not next week. Nothing changes overnight but all positive steps to improve things don’t show immediate improvements, and your 60% of adults, who aren’t at school now, and obviously won’t benefit from any improvements at schools, should not be your focus. You should look at what is being done at schools now and how that would be beneficial in the future.\n",
      "\n",
      "##NOTNOWNOTEVER\n",
      "https://discussion.theguardian.com/comment-permalink/160643602\n",
      "https://profile.theguardian.com/user/id/101964157\n",
      "\n",
      "It didn't just get lost because of other stuff in the curriculum, most of the things you \"learn\" in school don't really get \"learnt\" at all.\n",
      "They get retained for long enough to do the next batch of homework or pass the next test or exam.\n",
      "And that comes down to how much every adult in the education process, from cabinet ministers all the way down to parents wants crammed into their kids.\n",
      "How much of a school week is devoted to maths? If the aim is more maths what are you going to sacrifice to make more space in the 30 hours or so of schooling that children receive for around 36 weeks a year?\n",
      "Languages? History? Geography? PE? Science? Computing? and that's just the headline makers without the myriad of other subjects that politicians, the press, parents and every busybody with nothing better to do are constantly demanding kids do more of.\n",
      "Education in this country is a fucking mess from top to bottom beacause the adults running it and those given a platform to propogate their mindless garbage are fucking stupid and arrogant, the outcome is a testimony to the top down, dictatorial approach imposed by administrators throughout the system.\n",
      "One thing that none of these people ever learned is that just because they believe something it is neither correct or true by default, they just carry right on screwing things up in the royalist sense, safe in the knowledge that by the time someone realises what an irredeemable mess they've made they'll be long gone - to a better paid position in another education related organisation in another town - and all their time spent presiding over the chaos they leave behind will be relegated to a self-serving single line on their online CV or the festival of dishonesty that is linkedin, maybe two lines if they can misrepresent some fuck-up they are inextricably linked to as an improvement.\n",
      "Given what teachers and children are having to cope with just to mitigate the malignity that results from the constant interference you have to conclude that they're doing a magnificent job.\n",
      "I don't envy the position either are being placed.\n",
      "\n",
      "##COAL_MINERS_DAUGHTER\n",
      "https://discussion.theguardian.com/comment-permalink/160642244\n",
      "https://profile.theguardian.com/user/id/108336618\n",
      "\n",
      "You don’t get it. Most kids, especially younger ones don’t particularly care for time as adults do. Their day is often regimented and they do things when they are told, regardless of what time it is. Parents, teachers and care givers always tell kids it’s time to do something and the kids do it then. Do they know what time it is on the clock? It wouldn’t matter if they did because they still have to do what they are supposed to at that time. Adults are responsible for time keeping, and they need to know the time, and when it starts to become necessary to read the time, kids learn to do it because it begins to have meaning and consequences. All adults can tell the time and that is because they know it is important to be on time (though Marilyn Monroe famously had no concept of it).Same with money. Children don’t buy or seek things. They do5 really care how to count money or what it is for, until they start to get some and then quickly figure it out. You can teach people lots of things at school that have meaning for adults, but children might understand its importance, it is a skill they cannot internalise because it is not of any use to them. In the old days many young children understood money better because poor parents might send Theo kids to buy stuff. Some even had to work at a young age. Things are different now. Just because you can observe kids without certain skills, doesn’t mean a lack of those skills has anything to do with their ability or intelligence. Many old people can’t use apps or mobile smartphones but once they know that they have no choice, they quickly figure it out. It is the same idea. Schools place emphasis on things like subtraction, multiplication and division in the early years. Telling the time doesn’t fluffier much because kids don’t really refer to the time much at all.\n",
      "\n",
      "##COAL_MINERS_DAUGHTER\n",
      "https://discussion.theguardian.com/comment-permalink/160642868\n",
      "https://profile.theguardian.com/user/id/108336618\n",
      "\n",
      "“Maths is hugely important, certainly the closest thing we have found to the language of the Universe but it is both not necessary to have this sort of detailed knowledge of most areas of maths for most people…”\n",
      "That is precisely the reason why it should be taught to lost people so they have the confidence to go into many socially beneficial fields in the sciences, computing and engineering. This can effectively extend people’s options by training them up, building their confidence and hoping they would feel more able to do subjects that are viewed as being difficult. Of all people leaving schools have much more advanced skills than present, it can’t be a bad thing because such a society is more prepared to make use of skills you think are not necessary for “most people”. They are not necessary at present because people don’t have them, so can’t make use of them. Your reasoning is flawed and somewhat irrational. You obviously have to train people to you see the results, you can’t say people don’t have those skills and that is proof they won’t benefit people. Guardian reader demographics show that it is mostly read by more affluent and rich people, and to me it seems they use politics to keep the plebs in their place, so their rich kids could have the whole cake of the advanced fields to themselves. They just don’t want kids to learn more advanced skills at school, lest their privately schooled kids, lose their edge in higher earning professions. Yes, teach less Maths to keep poorer children in their place because “most people have no need for it”. Well, how would you know if they have need for it or not? Let them get the skills and they will show you what need there is, thank you very much. Thanks for your concerns.\n",
      "\n",
      "##COAL_MINERS_DAUGHTER\n",
      "https://discussion.theguardian.com/comment-permalink/160643164\n",
      "https://profile.theguardian.com/user/id/108336618\n",
      "\n",
      "Sorry to differ with you but I have seen an enormous drive, especially at primary schools, to improve maths. Over the last two years children have also been getting Maths classes over the summer and Christmas breaks. I have seen children being born more games based learning where they are made competitive with other children, and having children of primary school age at schools, we hear every week how much statistical difference has been made in improving Maths skills. Perhaps you don’t agree with the way this Maths education is revised but it has yielded excellent results. In primary schools you often have children who fall behind of rind it hard and schools are now sending these kids to dedicated classes to improve their skills and get back to the level they need to be. I went to school in the 1980s and 1990s and it was not like this. You either got it, or you didn’t. Hardly anyone got extra help, classes. Maths provision has been criticised for years, but the positive steps taken won’t show a statistical difference for a long time because we have to track people through different ages etc. If further improvements need to be made, they will always start with a politician saying that the changes must occur. To prematurely condemn anyone taking the steps to improve Maths provision in the UK is irrational. If the UK, in spite of being one of the richest countries in the world, is behind other countries in Maths, any initiatives designed to improve this should be considered positive. This government spends a lot of public money by enriching their friends, so anything they do to extend advanced Maths skills to more people is to be welcomed. That does not mean this plan cannot be revised and improved.\n",
      "\n",
      "##UNASHAMEDPEDANT\n",
      "https://discussion.theguardian.com/comment-permalink/160642182\n",
      "https://profile.theguardian.com/user/id/1855621\n",
      "\n",
      "I studied maths A-Level not because I wanted to but because my grammar school curriculum dictated that I could not study 3 \"arts\" subjects\n",
      "Interesting. In the 70s at my public school, 3 \"arts\" subjects or 3 \"science\" subjects were the norm for A-Levels, although some people, including me, straddled the frontier. \n",
      "\n",
      "(quite why Geography counts as \"art\" I've never been quite sure).\n",
      "This use of \"art\" goes back to before the word took on its common modern meaning. In mediaeval education, based on Greek and Roman ideals, the 7 \"liberal arts\" were: first the \"trivium\" (giving us our word \"trivial\") grammar, logic and rhetoric; then the \"quadrivium\" arithmetic, geometry, music and astronomy. These were considered the \"handmaids\" of Theology as the master subject (\"ancillae theologiae\"). That is why you can get a Bachelor of Arts in Maths, Physics, Chemistry or Biology.* Gradually in the course of the 19th and 20th centuries subjects were resolved into big groups and university faculties, with Science for the natural sciences (pushing most other forms of knowledge and research out of the concept \"science\" in the English language, which creates problems in translating into and out of e.g. German) and tending to co-opt Maths; Medicine as self-explanatory; Theology (see above); and the rest as a rag bag under \"Arts\". \n",
      "* In have just looked at my old school list, and the Maths and Science masters all had \"M.A.\" or \"B.A.\" after their names (, except those who studies at universities other than Oxford or Cambridge, who were \"M.Sc.\" or \"B.Sc\". Obviously Oxbridge stuck to the mediaeval terminology in the naming of degrees, and at least some newer universities did not.\n",
      "\n",
      "##ITGUYREADER\n",
      "https://discussion.theguardian.com/comment-permalink/160644938\n",
      "https://profile.theguardian.com/user/id/17394199\n",
      "\n",
      "My observation, as an Irish person with a Comp. Sci. degree from 1983 (!) is that the English (Scottish is better) education system is extremely class-based and has relegated a large proportion of the population to a dependent 'lower class' with little education and thus no means to participate productively in a modern knowledge-based economy.\n",
      "My English husband, also with a Comp Sci degree from the '80s from what was then an English PolyTech (now a University), tells of how he and his classmates, at a Comprehensive school in Leicester in the late 1970s/early 1980s , were presented with practical 'engineering' subjects like technical drawing rather than more academic subjects at O Level - as they were being groomed for a life of employment in the local industry workshops. None were pushed to complete their education to age 18 / A-Level. Luckily for my husband, his Indian father had the strong immigrant's drive to push his son towards further education - and prevailed. He went on to gain A-Level Maths and his subsequent degree. A very profitable career in the IT industry in the US and UK ensued.(His Indian father also advised leaving the UK if he wanted to advance).\n",
      "My 'working-class' husband's story of how he escaped the English class-based education system has a sad coda - his classmates to age 16 did not, and after leaving school with O Levels they have scraped a living in low-level jobs or on unemployment benefit - never leaving Leicester, which lost most of the industry they were groomed for, in the Thatcher years.\n",
      "The UK's persistent lack of productivity and growth can be traced directly to its not-fit-for-purpose, class-based education system.\n",
      "\n",
      "##NONEVERNOTUNTRUE\n",
      "https://discussion.theguardian.com/comment-permalink/160643230\n",
      "https://profile.theguardian.com/user/id/102055265\n",
      "\n",
      "OK, but just because you disagree with what other commenters say doesn’t mean that they have no experience or, indeed, are wrong. What direct experience do you have yourself? \n",
      "My argument was that this “announcement” (I have noted that it’s only an aspiration without a green / white paper or, seemingly, any funding) doesn’t deal with the problem as defined (in the statistics quoted). You haven’t dealt with that, but implied that it doesn’t matter. This is rather reminiscent of my criticism that government funding lost pandemic for students who had been affected to catch up was insufficient - because the government didn’t care or thought it didn’t matter. \n",
      "As someone who studied two degrees later in life, I have some sympathy for your argument about mathematics. I studied probability theory and statistics at level 7 without A-level mathematics, and, like with the two degrees, had to fund my catch-up out of my own pocket, by working at the same time. \n",
      "However, there is the issue of priorities. In a second (mistaken) era of austerity, is the priority making additional (unfunded / planned) promises which require additional work and funding from teachers (currently considering strikes)? \n",
      "In principle, I think it would be great to extend opportunity to studying a whole host of subjects until 18 (indeed, why stop there?). I could add critical thinking, history, future-studies, citizenship, literature, philosophy, politics, sociology and psychology to mathematics and English. However, this government is one which is not naturally associated with spreading opportunity to all, so I’m inclined to view this aspiration cynically.\n",
      "\n",
      "##FLOATLINE\n",
      "https://discussion.theguardian.com/comment-permalink/160641154\n",
      "https://profile.theguardian.com/user/id/108391702\n",
      "\n",
      "Some math for yous\n",
      "Maybe the NHS setting up food banks for their staff is a equation of the poorest workers in society are being helped so that the actual sickest people in society can still get some medical help as and when needed \n",
      "Because our government can’t well won’t help them. Who do you think profits from the NHS being on its knees ? And sending people who can afford it to private health care providers ? \n",
      "Some basic simple math for Sunak who once worked in the financial sector so I would bet ( Odds are back 1.50 lay 1.51 ) on Flutter Entertainment betting exchange Betfair \n",
      "As math is how bookmakers do their odds again Denise Coates ( makes some news at last ) 365 Billy’s Flutter have cut funding to GambleAware by 25% because I believe \n",
      "As we are due a white paper on the betting industry ( it’s very late ) where a minimum wager maybe passed into the industry and their sponsorship of the biggest watched sport in the world will like cigarettes alcohol become a non runner ( Someone work out the odds please ) on this happening 2024/2025 \n",
      "Gambling loves losers hates winners they will again some mathematicians inplay\n",
      "Lavish gifts trips to sporting events ( euros 2020 Horse Racing and many more cricket this summer Ashes )\n",
      "On MPs and bettors who lose £1000s a day. Why ? Because the maths say they’ll make money off this speculate to accumulate \n",
      "Can’t wait for my extra math lesson from Rishi and co\n",
      "Think maybe they should get someone on benefits to give a few lessons on the maths behind the business of budgeting \n",
      "Truss and her chancellor could also attend these because they’re skills are all there to be seen or lack of them\n",
      "\n",
      "##COAL_MINERS_DAUGHTER\n",
      "https://discussion.theguardian.com/comment-permalink/160644731\n",
      "https://profile.theguardian.com/user/id/108336618\n",
      "\n",
      "People don’t always do what the government tells them and there are numerous arts and humanities subjects you can study at sixth form and university. I should know because I studied one of those. Where does it show that studying Maths will be at the expense of picking a humanities subject, given there are dedicated colleges and universities for the arts and universities? Is there evidence that more maths will lead to fewer students taking humanities? Are studies in advanced subjects that require Maths, and currently taken by fewer students, worse than the humanities? Do we need more sociologists, than engineers of people doing advanced physics that may one day help cure cancer? Do we need more people dissecting the meaning of a Kubrick movie (as if you need a fucking degree for that), than skills that might one day lead to people create new technology that even fits everyone? As for the Kubrick thing, it wasn’t a joke. I was in a class that made the obvious comparisons between Homer’s the Odyssey, and Kubrick’s 2001. Did you know that Hal was a bit like the Minotaur? It had one eye, was misunderstood and killed people? Woah, now that I know that, it would benefit everyone. The humanities will still have students, as many as society needs will be there to do whatever they end up doing. In the meantime, many of society’s problems will be solved by people that get into subjects that require more advanced Maths, things like engineering, computing, and various sciences. Also, extra maths does not mean people won’t make their own choices as to what to study at university. Your argument is poor.\n",
      "\n",
      "##DRUNKJAM\n",
      "https://discussion.theguardian.com/comment-permalink/160642396\n",
      "https://profile.theguardian.com/user/id/14796519\n",
      "\n",
      "I have some level of maths / number blindness. I cannot reliably copy out a phone number. I CAN do basic mental arithmetic and not get ripped off while sale shopping, and that's about it. I have an average GCSE maths grade - the least I could get without needing a resit. I just assumed I cannot maths. I would have been horrified to have to do an additional two years OF THE SAME THING (which is what it amounts to. )BUT THEN... I did post graduate study which required a compulsory statistics module. I was so terrified by this, that I actually explained to the professor that I really didn't think I would be able to do his course and was, therefore, the whole course unsuitable for me (this module had never come up in the interview for my PhD study) He reassured me that he was SURE he could teach me all the statistics I would need, and told me that I should not worry because it is a shame that secondary school maths teachers allow children to assume they cannot cope with ALL of maths. Turns out, his course was absolutely revelatory to me, and I passed, and I learnt SO much maths. I will never claim in any way to be good at it, but I can confidently apply myself to some research and understand what is going on and where the pitfalls might be. Because, as it turns out, statistics is NOT about numbers. It LOOKS like numbers, but really, it's just people, or things or whatever. I would never foist more of the same secondary maths on anyone, but I WOULD say, being taught not to be scared and to look at maths in. different way can be life changing\n",
      "\n",
      "##EMILYISOBEL\n",
      "https://discussion.theguardian.com/comment-permalink/160641689\n",
      "https://profile.theguardian.com/user/id/3632120\n",
      "\n",
      "Numeracy is low level - there’s nothing wrong with using a calculator. Rough mental estimation is a more important skill than accurate mental calculation. Most people don’t use cash so the change issue is irrelevant.It’s rare that geometry and angles are linked to clock faces because of the way the hands move around the clock. Digital time is fine so long as it is made clear that it isn’t base 10. Given that time isn’t base 10, the analogue clock is of little use for understanding percentages.So long as people know how to use a calculator properly and how to mentally estimate an answer so they can check whether they have used it properly, it’s actually far more important that they learn how to think mathematically and how different parts of mathematics link together and can be used to analyse and solve puzzles, including those involved in building things, assessing risks etc etc etc. It’s also important to understand statistics and how they relate to the real world - playing about manually finding the range, mean, median etc of a small group of numbers is a pointless task - they need to use computers to deal with statistically significant datasets.We live in a technological age - we should be using technology to do the grunt work and the extra time to develop deeper understanding and applications. For younger children we should be using equipment they can move around and develop their ability to order and spot patterns in order to develop an instinctive understanding of numbers and pattern before moving to formal written methods.\n",
      "\n",
      "##COAL_MINERS_DAUGHTER\n",
      "https://discussion.theguardian.com/comment-permalink/160644582\n",
      "https://profile.theguardian.com/user/id/108336618\n",
      "\n",
      "Exactly. These commentators here just have different agenda. Seems they just don’t want educational privileges extended to poorer people. Remember many of the advanced sciences, Maths and engineering jobs are extremely well paid, and mostly go to people from richer people. To improve Maths provision to everyone means all those rich parents paying for their kids to get extra Maths classes are worried the plebs might catch up. Every time there is an article over education, you will find there is no difference between commentators here than at the Daily Mail, where people start saying there is no point in offering extra education to people, or that more people should take apprenticeships to train for speed of trades, and leave the loftier jobs to an undefined group of people. I wonder who those are. Probably the kids of the rich politically motivated rich people who comment on The Guardian. They pretend to be friends of the poor but if you look at this article, they are actually discouraging the teaching of a subject that leads to people getting into subjects that pay well. Richer people spend their money to get their kids ahead and they don’t want everyone to be the same because then their extra money teaching their kids goes to waste and wealth offers no advantage. “What? I can’t even use my money now to get my kid an unfair advantage because the plebs are now going to be true training for free?” Fuck it, let’s just say it is the dumb government on The Guardian and convince the progressives it is a bad idea!”\n",
      "\n",
      "##COAL_MINERS_DAUGHTER\n",
      "https://discussion.theguardian.com/comment-permalink/160642522\n",
      "https://profile.theguardian.com/user/id/108336618\n",
      "\n",
      "“You should perhaps stick to topics you are familiar with.” Perhaps you should take your own advice after your daft comment about kids and their parents and clocks. Do you have children? Most of the time children hardly ever refer to times because they are supervised all the time and are told to do things at certain time of day, so they don’t need to learn the time. As they get older, and they do, they figure it out because by that point, that clock has some meaningful information to convey. You don’t look at the reasons for why certain things might be the way they are, you imply kids and Theo parents are incapable of telling the time, without any real evidence of any kind, and then ask me to stick to the subjects I understand? Quite silly really.I actually had a conversation with a teacher at primary school and I asked why don’t they teach children to tell the time, and I was told that many children don’t have a concept of time and it wouldn’t mean much to them because they don’t independently do things by liking at what time is on the clock. The children eventually pick it up. When a school announces it is lunchtime, the kids know it is, it wouldn’t matter what it says on the clock because they are not expected to lol a true time and independently make their way to the dinner hall. That is true for most other things they do, until they start doing things independently and have to time keep. That is when they thing “oh, that”’s what it is really for!”\n",
      "\n",
      "##GOLDENZEN\n",
      "https://discussion.theguardian.com/comment-permalink/160644908\n",
      "https://profile.theguardian.com/user/id/106312983\n",
      "\n",
      "A fascinatingly reductive perspective. Of course it is certainly true that one can learn anything one chooses, including mathematics or crochet, at any age and a jolly good thing too. Fortunately that fact alone doesn't determine what we choose to teach in schools.That is decided by an assessment of what creates opportunities for individuals when they enter the labour market as well as what is useful to society - or more crudely to UK plc. In the modern world society is increasingly reliant on technology underpinned by maths so it deserves consideration on both counts if we want to have skin in the game. That game is played out across the world in many languages though and it is no longer possible to get by by just SPEAKING VERY LOUDLY at people in English. Knowing other languages opens doors to employment and exciting careers both here and overseas for individuals, and improves the UK's ability to operate in overseas markets. It's a valuable economic asset to the country.Since the idea of making maths compulsory to 18 is at least in part driven by what other countries do maybe it's worth looking at the other things, like languages, that they do better than us. We are competing against them after all aren't we.The very idea of Global Britain outside the EU as promoted by the Brexit faction pretty much demands that we become good at foreign languages to make that a reality anyway. Why would anyone on any side of the political divide object.\n",
      "\n",
      "##GOLDENZEN\n",
      "https://discussion.theguardian.com/comment-permalink/160643478\n",
      "https://profile.theguardian.com/user/id/106312983\n",
      "\n",
      "Maths is a very important subject and other countries are better than us at delivering it but so are modern languages which the UK is undeniably appallingly bad at. Shouldn't every child leave school fluent in at least one other language? Let's have a bun fight over which is more important! Or maybe just go both. But how?Before getting to that though - since Rish! is so hot on making things add up he could not have made this statement without realising that to add any compulsory subject - maths or anything else - into the curriculum for 16-18 year olds will require a wholesale change in the structure of the 'A level years'. 16-18 actually means 4 terms of fresh teaching since the summer exams these days start in early May meaning that the Lent term is necessarily given over to revision. Getting through the curriculum of three A Levels in 4 terms is hard enough so where is a maths module going to fit? How many hours a week? Will it be examined? How much revision time will be allotted? What will be sacrificed from other subjects to create the time?Seen in that way Rishi! is actually proposing a move to a BL type of sixth form curriculum which will allow a broader education up to 18 with scope for making certain things compulsory. Which is of course how those crafty Europeans manage to do it. Clever. Let the culture wars begin!Also to consider will be those that leave school at 16. Will they be required to take the same courses/exams?\n",
      "\n",
      "##COAL_MINERS_DAUGHTER\n",
      "https://discussion.theguardian.com/comment-permalink/160641618\n",
      "https://profile.theguardian.com/user/id/108336618\n",
      "\n",
      "You are very wrong. First of all, for the last several years, schools have stepped up Maths provisions at schools in the UK, anyone with children at school will tell you there is much more focus on Maths than there used to be. To imply children are not learning any Maths is patently wrong. The additional Maths classes Mr Sunak wants schools to provide would be for older students between the ages of 16-18, in the hope that they will learn more advanced Maths skills and then might be encouraged to enter fields that require strong Maths skills. Since not all school leavers currently progress on to Maths at college, few go on to learn subjects that require advanced Maths skills. If students learn more advanced Maths at ages 16-18, this would qualify them to choose subjects where Maths is essential. It will broaden students’ options after leaving school. Whether this makes sense or not is up for debate, but you seem to be saying that Maths provision in general is poor. Regardless of what happens, or whether this new scheme works or not, your perception that kids in the UK are not taught Maths or that “schooling is horrifically inefficient”, is wrong, and you insult the teachers and students at school. The teachers are advised by the government what to teach, and they do so professionally and with dedication. There is always room for improvement but all children, even in private schools, follow the same curriculum.\n"
     ]
    }
   ],
   "source": [
    "import os\n",
    "\n",
    "all_comments.sort(key=lambda x : -len(x) )\n",
    "txt = '\\n\\n'.join(all_comments[:20])\n",
    "print(txt)\n",
    "with open(os.environ['HOME']+'/tmp.txt','w') as fp:\n",
    "    fp.write('\\n\\n'.join(all_comments[:20]))\n",
    "with open(os.environ['HOME']+'/{}.txt'.format(article_url.split('/')[-1]),'w') as fp:\n",
    "    fp.write('\\n\\n'.join(all_comments[:20]))"
   ]
  },
  {
   "cell_type": "code",
   "execution_count": null,
   "metadata": {},
   "outputs": [],
   "source": []
  },
  {
   "cell_type": "code",
   "execution_count": null,
   "metadata": {},
   "outputs": [],
   "source": []
  },
  {
   "cell_type": "code",
   "execution_count": 8,
   "metadata": {},
   "outputs": [
    {
     "name": "stdout",
     "output_type": "stream",
     "text": [
      "[master 01b30cd] web\n",
      " 2 files changed, 161 insertions(+), 163 deletions(-)\n",
      " create mode 100644 mv97t.pkl\n",
      "Counting objects: 4, done.\n",
      "Delta compression using up to 12 threads.\n",
      "Compressing objects: 100% (4/4), done.\n",
      "Writing objects: 100% (4/4), 175.12 KiB | 3.50 MiB/s, done.\n",
      "Total 4 (delta 2), reused 0 (delta 0)\n",
      "remote: Resolving deltas: 100% (2/2), completed with 2 local objects.\u001b[K\n",
      "To https://github.com/macbuse/GUARDIAN.git\n",
      "   3fa9a7d..01b30cd  master -> master\n"
     ]
    }
   ],
   "source": [
    "! ./.g"
   ]
  },
  {
   "cell_type": "code",
   "execution_count": 11,
   "metadata": {},
   "outputs": [],
   "source": [
    "#https://towardsdatascience.com/sentimental-analysis-using-vader-a3415fef7664\n",
    "\n",
    "import nltk\n",
    "#nltk.download('vader_lexicon')\n",
    "\n",
    "from nltk.sentiment.vader import SentimentIntensityAnalyzer\n",
    "\n",
    "sid = SentimentIntensityAnalyzer()"
   ]
  },
  {
   "cell_type": "code",
   "execution_count": 22,
   "metadata": {},
   "outputs": [],
   "source": [
    "a = '''My views haven't changed. Leaving the EU will be of no benefit to anyone except those who hold money and power along with certain corporates and a smidgen of medium to small businesses.\n",
    "How else can it be when you are shutting shop to the most developed nations, the richest nations in the world, who are either in the EU or have market agreements with the EU. Even the emerging markets of China and India along with other developing economies are aspiring to develop trading agreements with the EU, the second largest economy in the world. Any deal with the UK will be secondary and will depend upon their agreement with the EU.\n",
    "Boris Johnson once said \"f**k business\". I take this as meaning there is something in it for them and they don't really care if businesses find it difficulA\n",
    "t to cope.\n",
    "I can see ministers and conservative MPs queuing to fill their pockets by acting as advisors for potential trade deals whilst the rest of the country are left struggling trying to rebuild their lives, especially following the pandemic. The same ministers will probably be looking to lower all kinds of standards from food and welfare to safety at work to improve their opportunities.\n",
    "When it comes to brinkmanship, I can only view this as getting away with whatever they can. I do not believe it is anything to do with negotiating an agreement that will be to the benefit of the UK or the EU as a whole, I don't believe our ministers are capable of doing that.'''"
   ]
  },
  {
   "cell_type": "code",
   "execution_count": 12,
   "metadata": {},
   "outputs": [
    {
     "ename": "NameError",
     "evalue": "name 'a' is not defined",
     "output_type": "error",
     "traceback": [
      "\u001b[0;31m---------------------------------------------------------------------------\u001b[0m",
      "\u001b[0;31mNameError\u001b[0m                                 Traceback (most recent call last)",
      "Input \u001b[0;32mIn [12]\u001b[0m, in \u001b[0;36m<cell line: 1>\u001b[0;34m()\u001b[0m\n\u001b[0;32m----> 1\u001b[0m sid\u001b[38;5;241m.\u001b[39mpolarity_scores(\u001b[43ma\u001b[49m)\n\u001b[1;32m      2\u001b[0m sid\u001b[38;5;241m.\u001b[39msentiment_valence(a)\n",
      "\u001b[0;31mNameError\u001b[0m: name 'a' is not defined"
     ]
    }
   ],
   "source": [
    "sid.polarity_scores(a)\n",
    "sid.sentiment_valence(a)"
   ]
  },
  {
   "cell_type": "code",
   "execution_count": 25,
   "metadata": {},
   "outputs": [
    {
     "name": "stdout",
     "output_type": "stream",
     "text": [
      "#**#EPI**VORE\n",
      "https://discussion.theguardian.com/comment-permalink/158096375\n",
      "https://profile.theguardian.com/user/id/13748050\n",
      "\n",
      "Relative global stability? What, growing up in the shadow of Vietnam and the innumerable proxy wars that plagued the developing world until the end of the Cold War? Watching the fall of the Berlin Wall, the first Gulf War, the rise of fundamentalist terrorism and the resurgence of the right wing in Europe? That's stability? Our reality (and I was born at the tail end of what's loosely defined as Gen X) is that we've been dragged along by the post-war generations, forced into submission to their cult of greed and fear while being told to shut up and work hard if we wanted a better life only to watch them pull up the ladder after them on workers' rights, pensions, healthcare, housing etc. etc. We had maybe a decade when things were even vaguely stable and then only if you were living in a very specific economic band within a select few countries. I'm frankly sick to death of being told that my opinions don't matter, that I need to defer either to a sclerotic gerontocracy or to a tyranny of youth trying to tell me what words I'm allowed to use, what I'm supposed to think, while constantly looking for someone to blame for everything that's wrong in the world rather than doing something about it.\n"
     ]
    }
   ],
   "source": [
    "target = 'decolon'\n",
    "target = 'science'\n",
    "target = 'irish'\n",
    "target = 'mandela'\n",
    "target = 'abolit'\n",
    "target = 'whittaker'\n",
    "target = 'science'\n",
    "target = '#epi'\n",
    "\n",
    "\n",
    "xx = [x for x in all_comments if target.lower() in x.lower() and  len(x) > 20]\n",
    "yy = [x for x in all_comments if '#pin' in x.lower() and 2000 > len(x) > 20]\n",
    "\n",
    "#print('\\n\\n'.join( ['\\n\\n'.join(x) for x in zip(xx,yy)])  )\n",
    "\n",
    "#print( '\\n\\n'.join(xx).replace(target, ) )\n",
    "pxx = re.compile(target, re.I)\n",
    "print( pxx.sub('**' + target.upper() + '**', \n",
    "              '\\n\\n'.join(xx)) )\n",
    "               \n",
    "#print( '\\n\\n'.join(xx) )\n"
   ]
  },
  {
   "cell_type": "code",
   "execution_count": 20,
   "metadata": {},
   "outputs": [
    {
     "data": {
      "text/plain": [
       "0.7820401046207497"
      ]
     },
     "execution_count": 20,
     "metadata": {},
     "output_type": "execute_result"
    }
   ],
   "source": [
    "(26/31) / (74/69)"
   ]
  },
  {
   "cell_type": "code",
   "execution_count": 64,
   "metadata": {},
   "outputs": [
    {
     "data": {
      "text/plain": [
       "529"
      ]
     },
     "execution_count": 64,
     "metadata": {},
     "output_type": "execute_result"
    }
   ],
   "source": [
    "23**2"
   ]
  },
  {
   "cell_type": "markdown",
   "metadata": {},
   "source": [
    "## "
   ]
  },
  {
   "cell_type": "code",
   "execution_count": 21,
   "metadata": {},
   "outputs": [
    {
     "data": {
      "text/plain": [
       "211"
      ]
     },
     "execution_count": 21,
     "metadata": {},
     "output_type": "execute_result"
    }
   ],
   "source": [
    "84 + 127"
   ]
  },
  {
   "cell_type": "code",
   "execution_count": 24,
   "metadata": {},
   "outputs": [
    {
     "data": {
      "text/plain": [
       "1.2842073077511085"
      ]
     },
     "execution_count": 24,
     "metadata": {},
     "output_type": "execute_result"
    }
   ],
   "source": [
    "84/211/.31"
   ]
  },
  {
   "cell_type": "code",
   "execution_count": 25,
   "metadata": {},
   "outputs": [
    {
     "data": {
      "text/plain": [
       "0.8723126588364586"
      ]
     },
     "execution_count": 25,
     "metadata": {},
     "output_type": "execute_result"
    }
   ],
   "source": [
    "127/211/.69"
   ]
  },
  {
   "cell_type": "code",
   "execution_count": 26,
   "metadata": {},
   "outputs": [
    {
     "data": {
      "text/plain": [
       "1.471264367816092"
      ]
     },
     "execution_count": 26,
     "metadata": {},
     "output_type": "execute_result"
    }
   ],
   "source": [
    "1.28/.87"
   ]
  },
  {
   "cell_type": "code",
   "execution_count": null,
   "metadata": {},
   "outputs": [],
   "source": []
  }
 ],
 "metadata": {
  "kernelspec": {
   "display_name": "BASE",
   "language": "python",
   "name": "base"
  },
  "language_info": {
   "codemirror_mode": {
    "name": "ipython",
    "version": 3
   },
   "file_extension": ".py",
   "mimetype": "text/x-python",
   "name": "python",
   "nbconvert_exporter": "python",
   "pygments_lexer": "ipython3",
   "version": "3.9.12"
  },
  "widgets": {
   "application/vnd.jupyter.widget-state+json": {
    "state": {},
    "version_major": 2,
    "version_minor": 0
   }
  }
 },
 "nbformat": 4,
 "nbformat_minor": 4
}
