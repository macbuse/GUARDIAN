{
 "cells": [
  {
   "cell_type": "raw",
   "metadata": {},
   "source": [
    "# Basic scraping for Guardian discussions u"
   ]
  },
  {
   "cell_type": "code",
   "execution_count": 1,
   "metadata": {},
   "outputs": [
    {
     "name": "stdout",
     "output_type": "stream",
     "text": [
      "[master 3fa9a7d] web\n",
      " 1 file changed, 191 insertions(+), 211 deletions(-)\n",
      "Counting objects: 3, done.\n",
      "Delta compression using up to 12 threads.\n",
      "Compressing objects: 100% (3/3), done.\n",
      "Writing objects: 100% (3/3), 14.94 KiB | 2.99 MiB/s, done.\n",
      "Total 3 (delta 2), reused 0 (delta 0)\n",
      "remote: Resolving deltas: 100% (2/2), completed with 2 local objects.\u001b[K\n",
      "To https://github.com/macbuse/GUARDIAN.git\n",
      "   f06fcf3..3fa9a7d  master -> master\n"
     ]
    }
   ],
   "source": [
    "! ./.g\n"
   ]
  },
  {
   "cell_type": "code",
   "execution_count": 1,
   "metadata": {},
   "outputs": [
    {
     "name": "stdout",
     "output_type": "stream",
     "text": [
      " 8djv8.pkl                            kqqtv.pkl\n",
      " 94f6b.pkl                            kv6n2.pkl\n",
      " afuahirsch.csv                       kvf22.pkl\n",
      " davidsmith.csv                       liberation_femicide.ipynb\n",
      " edt72.pkl                            links_2020_8.txt\n",
      " eghyd.pkl                            links.txt\n",
      " egqhf.pkl                            matplotlib.ipynb\n",
      " ej7f5.pkl                            nickcohen.csv\n",
      " ejdxt.pkl                            \u001b[0m\u001b[01;35mNone0000000.png\u001b[0m\n",
      " et8zg.pkl                            owen-jones.csv\n",
      " etenk.pkl                            quad_forms.ipynb\n",
      " eyhx8.pkl                            README.md\n",
      " eytkx.pkl                            rebeccasolnit.csv\n",
      " f3ke9.pkl                            simontisdall.csv\n",
      " f4a3q.pkl                            tags\n",
      " f4vfe.pkl                            tbca8.pkl\n",
      " failed.txt                           tdvxp.pkl\n",
      " femicides2.csv                       te5tn.pkl\n",
      " femicides3.csv                       tedzk.pkl\n",
      " femicides.csv                        tfmxg.pkl\n",
      " fvkbb.pkl                            tfy7d.pkl\n",
      " gabyhinsliff.csv                     tgaxq.pkl\n",
      " gn7h4.pkl                            tgqq8.pkl\n",
      " goose_test_editorialis_miner.ipynb   tgxqd.pkl\n",
      "'guardian api and comments.ipynb'     tmp.txt\n",
      " guardian_api_prod.ipynb              transgender.csv\n",
      "'guardian comments scraper.ipynb'     \u001b[01;35mtt.jpg\u001b[0m\n",
      " guardian_extractor.ipynb             \u001b[01;35mtt.png\u001b[0m\n",
      " guardian_nlp.ipynb                   y57xb.pkl\n",
      " guardian_photo.ipynb                 y5kne.pkl\n",
      " h2tzt.pkl                            y6tvn.pkl\n",
      " h44zn.pkl                            y7f2f.pkl\n",
      " h452h.pkl                            y829j.pkl\n",
      " h4cq2.pkl                            y875b.pkl\n",
      " h5j4n.pkl                            y87zm.pkl\n",
      " h6v39.pkl                            y8h4q.pkl\n",
      " h8qmd.pkl                            y98ff.pkl\n",
      " hbc2e.pkl                            y99zz.pkl\n",
      " hbe5y.pkl                            yaa2q.pkl\n",
      " hvg6j.pkl                            yaedy.pkl\n",
      " hvpq8.pkl                            yavg9.pkl\n",
      " jnntf.pkl                            yb8ez.pkl\n",
      " jz8nk.pkl                            ybxgx.pkl\n",
      " k2dza.pkl                            yddvx.pkl\n",
      " k4vhe.pkl                            ye5m7.pkl\n",
      " k9va7.pkl                            yjvf7.pkl\n",
      " kdxb7.pkl                            ymmym.pkl\n",
      " kfgzx.pkl                            yvv24.pkl\n",
      " kphq4.pkl                            yx7cz.pkl\n",
      " kpxyb.pkl                            yy437.pkl\n"
     ]
    }
   ],
   "source": [
    "ls\n"
   ]
  },
  {
   "cell_type": "code",
   "execution_count": null,
   "metadata": {},
   "outputs": [],
   "source": [
    "with open('guardian comments scraper.ipynb','r') as fp:\n",
    "    nb = fp.read()"
   ]
  },
  {
   "cell_type": "code",
   "execution_count": 60,
   "metadata": {},
   "outputs": [],
   "source": [
    "import re\n",
    "\n",
    "pp = re.compile(\"(https://www.the.*?)'\")\n",
    "lks = pp.findall(nb)\n",
    "\n",
    "with open('links.txt','a') as fp:\n",
    "    fp.write('\\n'.join(lks))"
   ]
  },
  {
   "cell_type": "code",
   "execution_count": 14,
   "metadata": {},
   "outputs": [],
   "source": [
    "import re \n",
    "import requests\n",
    "import pickle\n",
    "import json"
   ]
  },
  {
   "cell_type": "code",
   "execution_count": 9,
   "metadata": {},
   "outputs": [],
   "source": [
    "article_url = 'https://www.theguardian.com/commentisfree/2020/aug/19/ditch-the-algorithm-generation-students-a-levels-politics'\n",
    "article_url = 'https://www.theguardian.com/commentisfree/2020/aug/21/joe-biden-democrat-convention-nice-guy-trump-fight'\n",
    "article_url = 'https://www.theguardian.com/commentisfree/2020/aug/23/the-cruel-exams-algorithm-has-laid-bare-the-unfairness-at-the-heart-of-our-schools'\n",
    "article_url = 'https://www.theguardian.com/commentisfree/2020/sep/01/us-mainstream-right-vigilante-terror'\n",
    "article_url = 'https://www.theguardian.com/commentisfree/2020/aug/31/politicians-covid-19-statistics-statisticians'\n",
    "article_url = 'https://www.theguardian.com/commentisfree/2021/apr/14/boris-johnson-is-telling-scotland-that-the-union-is-no-longer-based-on-consent'\n",
    "article_url = 'https://www.theguardian.com/commentisfree/2021/may/10/retail-politics-movements-polarising-projects-promise'"
   ]
  },
  {
   "cell_type": "code",
   "execution_count": 11,
   "metadata": {},
   "outputs": [],
   "source": [
    "article_url = 'https://www.theguardian.com/commentisfree/2020/sep/29/rival-scientists-lockdowns-scientific-covid-19'\n",
    "article_url = 'https://www.theguardian.com/commentisfree/2020/oct/08/johnson-and-sturgeon-will-need-a-better-philosophy-than-precaution-to-rid-us-of-covid'\n",
    "article_url = 'https://www.theguardian.com/commentisfree/2020/oct/10/continual-local-lockdowns-answer-covid-control'\n",
    "article_url = 'https://www.theguardian.com/commentisfree/2020/oct/11/the-rebel-scientists-cause-would-be-more-persuasive-if-it-werent-so-half-baked'\n",
    "\n",
    "article_url = 'https://www.theguardian.com/commentisfree/2021/apr/03/undermining-the-astrazeneca-jab-is-a-dangerous-act-of-political-folly#comment-148440261'\n",
    "article_url = 'https://www.theguardian.com/commentisfree/2021/apr/09/boris-johnson-brexit-belfast-violence-eu-good-friday-agreement'\n",
    "article_url ='https://www.theguardian.com/commentisfree/2021/apr/02/culture-war-government-race-report'\n",
    "article_url = 'https://www.theguardian.com/commentisfree/2021/mar/18/britain-sunny-vaccine-optimism-april-delivery-delay'\n",
    "article_url ='https://www.theguardian.com/commentisfree/2021/apr/14/boris-johnson-is-telling-scotland-that-the-union-is-no-longer-based-on-consent'\n",
    "article_url = 'https://www.theguardian.com/commentisfree/2021/apr/15/britain-harness-social-sciences-covid-pandemic-deprivation'\n",
    "article_url = 'https://www.theguardian.com/commentisfree/2021/apr/16/government-race-report-evidence#comment-148662066'\n",
    "article_url ='https://www.theguardian.com/commentisfree/2021/apr/20/britain-falling-birthrate-covid-pandemic-conservatives-removed-support-for-parents'\n",
    "article_url = 'https://www.theguardian.com/commentisfree/2021/apr/21/bmi-eating-disorder-pandemic-treatment'\n",
    "article_url = 'https://www.theguardian.com/commentisfree/2021/apr/30/government-delays-covid-public-inquiry-health-crisis'\n",
    "article_url = 'https://www.theguardian.com/commentisfree/2021/may/07/humiliation-hartlepool-smalltown-detective-di-starmer'\n",
    "article_url ='https://www.theguardian.com/commentisfree/2021/aug/06/uk-government-experts-vaccinating-under-16s'\n",
    "article_url = 'https://www.theguardian.com/commentisfree/2021/aug/01/there-is-a-case-for-vaccine-passports-but-ministers-are-failing-to-make-it'\n",
    "article_url = 'https://www.theguardian.com/commentisfree/2021/aug/09/america-is-flying-blind-when-it-comes-to-the-delta-variant'\n",
    "article_url = 'https://www.theguardian.com/commentisfree/2021/aug/10/covid-vaccines-britain-scientific-solution-jabs'\n",
    "article_url = 'https://www.theguardian.com/commentisfree/2021/aug/13/denial-anti-vaxxers-climate-sceptics'\n",
    "article_url = 'https://www.theguardian.com/commentisfree/2018/apr/11/bbc-andrew-neil-media-politics'\n",
    "\n",
    "article_url = 'https://www.theguardian.com/commentisfree/2021/aug/15/vaccine-passports-are-less-a-threat-to-liberty-than-a-mark-of-solidarity'\n",
    "article_url = 'https://www.theguardian.com/theobserver/commentisfree/2021/aug/14/will-we-reach-herd-immunity-for-the-new-coronavirus'\n",
    "article_url = 'https://www.theguardian.com/commentisfree/2021/aug/15/vaccine-hesitancy-broken-relationship-state-conspiracy-theorists'\n",
    "article_url = 'https://www.theguardian.com/commentisfree/2021/aug/17/dominic-raab-news-foreign-secretary-taliban-kabul'\n",
    "article_url= 'https://www.theguardian.com/commentisfree/2021/dec/11/so-which-of-these-politicians-is-a-neoliberal-not-one-of-them'\n",
    "\n",
    "article_url = 'https://www.theguardian.com/commentisfree/2021/dec/12/omicron-is-sneaky-it-could-be-fatal-for-us-or-for-our-faith-in-government'"
   ]
  },
  {
   "cell_type": "code",
   "execution_count": 13,
   "metadata": {},
   "outputs": [],
   "source": [
    "article_url ='https://www.theguardian.com/commentisfree/2021/dec/06/google-silicon-valley-ai-timnit-gebru'\n",
    "article_url = 'https://www.theguardian.com/commentisfree/2021/dec/20/rightwingers-us-social-change-coming'\n",
    "article_url = 'https://www.theguardian.com/commentisfree/2021/dec/22/omicron-covid-restrictions-young-people'\n",
    "article_url = 'https://www.theguardian.com/politics/2022/jan/01/sir-tim-brighouse-many-hold-gove-responsible-expert-educator-sets-out-whats-gone-wrong-with-britains-schools'\n",
    "article_url ='https://www.theguardian.com/commentisfree/2022/jan/10/colston-four-britain-apology-for-past'\n",
    "article_url = 'https://www.theguardian.com/commentisfree/2022/jan/21/democrats-shape-up-bidens-presidency-trumpian-sequel'\n",
    "article_url = 'https://www.theguardian.com/commentisfree/2022/jan/28/joe-rogan-neil-young-spotify-streaming-service'"
   ]
  },
  {
   "cell_type": "code",
   "execution_count": 7,
   "metadata": {},
   "outputs": [],
   "source": [
    "article_url = 'https://www.theguardian.com/commentisfree/2022/mar/04/ukraine-eu-membership-zelenskiy-european-values-war'\n",
    "article_url = 'https://www.theguardian.com/commentisfree/2022/feb/27/liberal-democracies-must-defend-their-values-and-show-putin-that-the-west-isnt-weak'\n",
    "article_url = 'https://www.theguardian.com/commentisfree/2022/mar/06/progress-women-international-womens-day-labour-party'\n",
    "article_url = 'https://www.theguardian.com/commentisfree/2022/mar/09/vladimir-putin-west-downfall-dictator-democracies'\n",
    "article_url = 'https://www.theguardian.com/commentisfree/2022/mar/26/britain-clocks-go-forward-eu-us-hour-changes'\n",
    "article_url = 'https://www.theguardian.com/commentisfree/2022/mar/27/for-brazen-cynicism-i-have-seen-nothing-like-sunaks-plan-in-40-years'"
   ]
  },
  {
   "cell_type": "code",
   "execution_count": 32,
   "metadata": {},
   "outputs": [],
   "source": [
    "article_url = 'https://www.theguardian.com/commentisfree/2022/apr/01/straight-women-tv-shows-lesbians-sally-wainwright'\n",
    "article_url ='https://www.theguardian.com/commentisfree/2022/apr/06/united-nations-putin-ukraine-catastrophic'\n",
    "article_url = 'https://www.theguardian.com/commentisfree/2022/apr/10/stench-entitlement-now-oozing-from-rishi-sunaks-home-as-well-as-boris-johnsons'\n",
    "article_url = 'https://www.theguardian.com/commentisfree/2022/apr/10/orban-le-pen-voters-sening-chill-message-to-europes-beleagured-centre'\n",
    "article_url = 'https://www.theguardian.com/commentisfree/2022/apr/11/france-populism-gaining-ground-revolution'\n",
    "\n",
    "article_url = 'https://www.theguardian.com/commentisfree/2022/apr/12/herd-immunity-covid-reinfection-virus-world'\n",
    "article_url = 'https://www.theguardian.com/commentisfree/2022/apr/17/whoever-ends-up-in-elysee-palace-europeanism-is-already-on-the-way-out'\n",
    "article_url = 'https://www.theguardian.com/commentisfree/2022/apr/17/nato-should-talk-less-and-do-more-or-ukraine-will-be-torn-apart-bit-by-bit'\n",
    "article_url = 'https://www.theguardian.com/commentisfree/2022/apr/20/france-emmanuel-macron-president-far-right-marine-le-pen'\n",
    "article_url ='https://www.theguardian.com/commentisfree/2022/apr/23/france-vote-le-pen-macron-tv-debate-far-right'\n",
    "article_url = 'https://www.theguardian.com/commentisfree/2022/apr/22/hips-dont-lie-liam-gallagher-replacement-surgery-older-bodies'\n",
    "\n",
    "article_url = 'https://www.theguardian.com/commentisfree/2022/apr/25/french-left-emmanuel-macron-marine-le-pen-far-right-president'\n",
    "article_url = 'https://www.theguardian.com/commentisfree/2022/may/09/ncuti-gatwa-doctor-who-jodie-whittaker-whovians'\n",
    "article_url = 'https://www.theguardian.com/world/commentisfree/2022/apr/28/france-election-divide-campaign-split'\n",
    "\n",
    "article_url ='https://www.theguardian.com/commentisfree/2022/may/13/phone-north-sea-rebekah-vardy-coleen-rooney-libel-case'\n",
    "\n",
    "article_url = 'https://www.theguardian.com/commentisfree/2022/jun/09/west-victory-in-ukraine-escalation-war'\n",
    "article_url = 'https://www.theguardian.com/commentisfree/2022/jun/24/overturning-roe-story-is-women-unfreedom'\n",
    "article_url = 'https://www.theguardian.com/commentisfree/2022/jul/01/nicola-sturgeon-independence-referendum-britain'\n",
    "article_url = 'https://www.theguardian.com/commentisfree/2022/jul/11/would-be-mothers-parent-solo-dating-apps-children'\n",
    "article_url = 'https://www.theguardian.com/commentisfree/2022/jul/27/womens-football-is-not-just-a-spin-off-of-the-mens-game-its-great-in-its-own-right'\n",
    "article_url = 'https://www.theguardian.com/commentisfree/2022/aug/01/liz-truss-tory-race-oxbridge'\n",
    "article_url = 'https://www.theguardian.com/commentisfree/2022/aug/11/liz-truss-gen-xer-like-me-we-shouldnt-be-in-power'\n",
    "article_url = 'https://www.theguardian.com/commentisfree/2022/aug/17/cyclists-grant-shapps-culture-wars'\n",
    "article_url = 'https://www.theguardian.com/commentisfree/2022/aug/18/brexit-research-grant-uk-science-jeopardy'"
   ]
  },
  {
   "cell_type": "code",
   "execution_count": null,
   "metadata": {},
   "outputs": [],
   "source": [
    "\n",
    "\n",
    "key = my_keys.keys['guardian']"
   ]
  },
  {
   "cell_type": "code",
   "execution_count": 33,
   "metadata": {},
   "outputs": [
    {
     "name": "stdout",
     "output_type": "stream",
     "text": [
      "/p/m45j6\n",
      "getting comments page no. 1\n",
      "there are 9 pages\n",
      "getting comments page no. 2\n",
      "getting comments page no. 3\n",
      "getting comments page no. 4\n",
      "getting comments page no. 5\n",
      "getting comments page no. 6\n",
      "getting comments page no. 7\n",
      "getting comments page no. 8\n",
      "getting comments page no. 9\n",
      "archiving to m45j6.pkl\n"
     ]
    }
   ],
   "source": [
    "#scrape the page and get the short url\n",
    "# 15/8/21  this failed and gave /p/temp\n",
    "short_url_pp =  re.compile('\"shortUrlId\":\"(.*?)\"')\n",
    "\n",
    "r = requests.get(article_url)\n",
    "mm = short_url_pp.search(r.text)\n",
    "short_url = mm.group(1)\n",
    "uu = r.text\n",
    "print(short_url)\n",
    "\n",
    "#the short url allows us to access the discussion\n",
    "# 15/8/21 api.nextgen.guardianapps.co.uk/discussion/ failed on \n",
    "# https://discussion.theguardian.com/discussion-api/discussion/p/tfmxg\n",
    "comments_url = 'https://api.nextgen.guardianapps.co.uk/discussion/%s.json'%short_url\n",
    "params = {'orderBy' : 'newest',\n",
    "          'pageSize' : 25,\n",
    "          'displayThreaded' : 'true',\n",
    "          'commentsClosed' : 'false',\n",
    "          'page' : '',\n",
    "          'maxResponses' : 50\n",
    "         }\n",
    "\n",
    "json_data =  []\n",
    "start_page  = 1\n",
    "last_page = None\n",
    "\n",
    "\n",
    "for num_page in range(start_page, 10**4):\n",
    "    print('getting comments page no.', num_page)\n",
    "    params['page'] = num_page\n",
    "    r = requests.get( comments_url, params=params)\n",
    "    json_data.append( r.text)\n",
    "    #The last page is a field in the json object\n",
    "    #I don't need to read this as json I could do a regexp\n",
    "    if num_page == start_page:\n",
    "        json_dict = json.loads(r.text)\n",
    "        last_page = json_dict['lastPage']\n",
    "        print('there are %d pages'%last_page)\n",
    "    if num_page == last_page : break\n",
    "        \n",
    "\n",
    "fn = '%s.pkl'%short_url.split('/')[-1]\n",
    "print('archiving to %s'%fn)\n",
    "with open(fn,'wb') as fp:\n",
    "    pickle.dump(json_data,fp)"
   ]
  },
  {
   "cell_type": "code",
   "execution_count": 2,
   "metadata": {},
   "outputs": [],
   "source": [
    "import pickle\n",
    "\n",
    "json_data = pickle.load(open('k4vhe.pkl','rb'))"
   ]
  },
  {
   "cell_type": "markdown",
   "metadata": {},
   "source": [
    "---\n",
    "\n",
    "## remember each page of comments has been stored separately"
   ]
  },
  {
   "cell_type": "code",
   "execution_count": 9,
   "metadata": {},
   "outputs": [
    {
     "data": {
      "text/plain": [
       "14"
      ]
     },
     "execution_count": 9,
     "metadata": {},
     "output_type": "execute_result"
    }
   ],
   "source": [
    "dd = json.loads(json_data[0])\n",
    "len(json_data)"
   ]
  },
  {
   "cell_type": "code",
   "execution_count": 19,
   "metadata": {},
   "outputs": [
    {
     "data": {
      "text/plain": [
       "'\\n<div class=\"d-discussion d-discussion--recommendations-open u-cf\"\\n     data-read-only=\"false\" >\\n\\n    \\n    \\n        <div class=\"d-discussion__size-message\">\\n            Due to the large number of comments, they are being shown 100 per page.\\n        </div>\\n    \\n\\n\\n    <ul class=\"d-thread d-thread--comments js-new-comments\">\\n\\n        \\n            \\n\\n<li class=\"d-comment\\n            d-comment--top-level d-comment-staff\"\\n           id=\"comment-154007965\"\\n           data-comment-id=\"154007965\"\\n           data-comment-author=\"CommunityMod\"\\n           data-comment-replies=\"0\"\\n           data-comment-timestamp=\"2022-01-01T18:00:47.000Z\"\\n           data-comment-author-id=\"2902769\"\\n           data-comment-highlighted=\"false\"\\n           itemscope itemtype=\"http://schema.org/Comment\">\\n\\n    <div class=\"d-comment__inner d-comment__inner--top-level\">\\n        <div class=\"d-comment__meta\">\\n            <span class=\"d-comment__avatar-wrapper\">\\n                <img src=\"https://avatar.guim.co.uk/user/2902769\" alt=\"\" class=\"d-comment__avatar\"/>\\n            </span>\\n            <div class=\"d-comment__meta-text\">\\n                <span\\n                    itemscope\\n                    itemprop=\"author\"\\n                    itemtype=\"http://schema.org/Person\"\\n                    title=\"CommunityMod\"\\n                    class=\"d-comment__author\">\\n                    <a href=\"https://profile.theguardian.com/user/id/2902769\" itemprop=\"url\">\\n                        <span itemprop=\"givenName\">CommunityMod</span>\\n                    </a>\\n                </span>\\n\\n                \\n                <div class=\"d-comment__timestamp\">\\n                    <a href=\"https://discussion.theguardian.com/comment-permalink/154007965\" class=\"d-comment__timestamp block-time\">\\n                        <time class=\"js-timestamp\" itemprop=\"dateCreated\"\\n                            datetime=\"2022-01-01T18:00:47Z\"\\n                            data-timestamp=\"1641060047000\" data-relativeformat=\"med\"\\n                            title=\"Permalink to this comment (1 Jan 2022 18:00)\">1 Jan 2022 18:00</time>\\n                        \\n\\n<span  class=\"inline-comment-anchor inline-icon \" >\\n    \\n        <svg width=\"15\" height=\"15\" viewbox=\"0 0 15 15\" class=\"inline-comment-anchor__svg inline-icon__svg\">\\n <path fill=\"#898989\" d=\"M5.725 13.348a2.563 2.563 0 0 1-3.699-3.547l8.424-8.79a1.921 1.921 0 0 1 2.776 2.658l-6.894 7.193a1.277 1.277 0 0 1-1.812.038 1.28 1.28 0 0 1-.04-1.81l5.324-5.553.337.321-5.325 5.555a.815.815 0 0 0 1.175 1.128l6.896-7.193a1.456 1.456 0 0 0-2.101-2.015l-8.427 8.79a2.102 2.102 0 0 0 .063 2.965 2.098 2.098 0 0 0 2.965-.062l6.853-7.152.338.323-6.853 7.151z\" />\\n</svg>\\n    \\n</span>\\n\\n                    </a>\\n                </div>\\n\\n                \\n    <div class=\"d-comment__author-label\">\\n        \\n\\n<span  class=\"inline-marque-36 inline-icon d-comment__gu-icon\" >\\n    \\n        <svg width=\"36\" height=\"36\" viewbox=\"0 0 36 36\" class=\"d-comment__gu-icon__svg inline-marque-36__svg inline-icon__svg\">\\n <path d=\"M18 0a18 18 0 1 0 0 36 18 18 0 0 0 0-36\" />\\n <path fill=\"#FFF\" d=\"M21.2 4.4c2.3.4 5.3 2 6.3 3.1v5.2H27L21.2 5v-.6zm-2.2.4c-4 0-6.3 5.6-6.3 13.2 0 7.7 2.2 13.3 6.3 13.3v.6c-6 .4-14.4-4.2-14-13.8A13.3 13.3 0 0 1 19 4v.7zm10.4 14.4-1.9.9v8.6c-1 1-3.8 2.6-6.3 3.1V19.9l-2.2-.7v-.6h10.4v.6z\" />\\n</svg>\\n    \\n</span>\\n Staff\\n    </div>\\n\\n\\n\\n                \\n            </div>\\n        </div>\\n\\n        <div class=\"d-comment__content\">\\n\\n             \\n                <div\\n                    class=\"d-comment__recommend js-recommend-comment\"\\n                    data-comment-id=\"154007965\"\\n                    data-comment-url=\"https://discussion.theguardian.com/comment-permalink/154007965\"\\n                    data-user-id=\"2902769\"\\n                    data-recommend-count=\"1\"\\n                    title=\"1 recommendations\">\\n                    <button class=\"u-button-reset d-comment__recommend-button rounded-icon\" data-link-name=\"Recommend comment\" >\\n                        <span class=\"d-comment__recommend-pulse\"></span>\\n                        \\n\\n<span  class=\"inline-arrow-up-white inline-icon \" >\\n    \\n        <svg height=\"14\" width=\"15\" class=\"inline-arrow-up-white__svg inline-icon__svg\">\\n <path d=\"m.5 7 5.25-4.5V14h1.5V2.5L12.5 7l.5-1-5.75-6h-1.5L0 6l.5 1Z\" />\\n</svg>\\n    \\n</span>\\n\\n                    </button>\\n                    <span class=\"d-comment__recommend-count js-recommend-count\">\\n                        <span class=\"d-comment__recommend-count--old\">1</span>\\n                        <span class=\"d-comment__recommend-count--new\">2</span>\\n                    </span>\\n                </div>\\n            \\n\\n            <div class=\"d-comment__main \">\\n\\n                <div class=\"d-comment__body\" itemprop=\"text\">\\n                    \\n                        \\n                            <p>Comments will close here at 18:15 GMT.</p>\\n                        \\n                    \\n                </div>\\n                \\n                    <div class=\"d-comment__actions d-comment__actions--left modern-visible\">\\n                        <a class=\"d-comment__action d-comment__action--reply\" href=\"https://profile.theguardian.com/signin?returnUrl=https://discussion.theguardian.com/comment-permalink/154007965&componentEventParams=componentType%3Didentityauthentication%26componentId%3Dsignin_to_reply_comment\"\\n                                data-link-name=\"reply to comment\" data-comment-id=\"154007965\" role=\"button\">\\n                            \\n\\n<span  class=\"inline-reply inline-icon blue\" >\\n    \\n        <svg width=\"18\" height=\"18\" class=\"blue__svg inline-reply__svg inline-icon__svg\">\\n <path d=\"m10.1 5 .9-1 4 4.5v1L11 14l-.9-1 2.5-3H4L3 9V6.5h2V8h7.6l-2.5-3z\" />\\n</svg>\\n    \\n</span>\\n\\n                            Reply\\n                        </a>\\n\\n                        \\n                            \\n<div class=\"d-comment__action d-comment__action--share\">\\n\\n    <div class=\"sharing-text\">\\n\\n<span  class=\"inline-share inline-icon comment-share-icon\" >\\n    \\n        <svg width=\"12\" height=\"12\" viewbox=\"0 0 12 12\" class=\"comment-share-icon__svg inline-share__svg inline-icon__svg\">\\n <path d=\"M10.073 8.4c-.475 0-.906.19-1.225.497L3.54 6.221 3.555 6l-.015-.221 5.308-2.676c.319.308.75.497 1.225.497.982 0 1.778-.806 1.778-1.8S11.055 0 10.073 0 8.295.806 8.295 1.8l.016.233-5.299 2.675a1.762 1.762 0 0 0-1.236-.507c-.982 0-1.778.806-1.778 1.8s.796 1.8 1.778 1.8c.48 0 .915-.194 1.236-.507l5.299 2.675-.016.233c0 .994.796 1.8 1.778 1.8s1.778-.806 1.778-1.8-.796-1.8-1.778-1.8zm0-7.68c.588 0 1.067.484 1.067 1.08 0 .596-.479 1.08-1.067 1.08S9.006 2.396 9.006 1.8c0-.596.479-1.08 1.067-1.08zm0 10.56a1.075 1.075 0 0 1-1.067-1.08c0-.596.479-1.08 1.067-1.08s1.067.484 1.067 1.08c0 .596-.479 1.08-1.067 1.08z\" />\\n</svg>\\n    \\n</span>\\n <span>Share</span></div>\\n\\n    <div class=\"sharing-buttons\" data-link-name=\"comment social\">\\n    \\n        \\n            \\n\\n        <a href=\"https://www.facebook.com/dialog/share?app_id=180444840287&amp;href=https%3A%2F%2Fdiscussion.theguardian.com%2Fcomment-permalink%2F154007965&amp;quote=CommunityMod%20commented%3A%20%22Comments%20will%20close%20here%20at%2018%3A15%20GMT.%22\"\\n        target=\"_blank\"\\n        class=\"social__action social-icon-wrapper\"\\n        data-link-name=\"social-comment : facebook\">\\n            <span class=\"inline-icon__fallback button\">\\n                Share on Facebook</span>\\n            \\n\\n<span  class=\"inline-share-facebook inline-icon rounded-icon social-icon centered-icon social-icon--facebook comment-facebook-icon\" >\\n    \\n        <svg width=\"32\" height=\"32\" viewbox=\"-2 -2 32 32\" class=\"rounded-icon__svg social-icon__svg centered-icon__svg social-icon--facebook__svg comment-facebook-icon__svg inline-share-facebook__svg inline-icon__svg\">\\n <path d=\"M17.9 14h-3v8H12v-8h-2v-2.9h2V8.7C12 6.8 13.1 5 16 5c1.2 0 2 .1 2 .1v3h-1.8c-1 0-1.2.5-1.2 1.3v1.8h3l-.1 2.8z\" />\\n</svg>\\n    \\n</span>\\n\\n            <span class=\"u-h\">Facebook</span>\\n        </a>\\n    \\n\\n            \\n            \\n                \\n\\n        <a href=\"https://tw'"
      ]
     },
     "execution_count": 19,
     "metadata": {},
     "output_type": "execute_result"
    }
   ],
   "source": [
    "xx = json.loads(json_data[0])\n",
    "xx['commentsHtml'][:8000]"
   ]
  },
  {
   "cell_type": "code",
   "execution_count": null,
   "metadata": {},
   "outputs": [],
   "source": [
    "https://discussion.theguardian.com/comment-permalink/154003870"
   ]
  },
  {
   "cell_type": "code",
   "execution_count": 136,
   "metadata": {},
   "outputs": [
    {
     "name": "stdout",
     "output_type": "stream",
     "text": [
      " class=\"d-comment\n",
      "            d-comment--top-level\"\n",
      "           id=\"comment-144422422\"\n",
      "           data-comment-id=\"144422422\"\n",
      "           data-comment-author=\"Hushing\"\n",
      "           data-comment-replies=\"0\"\n",
      "           data-comment-timestamp=\"2020-10-11T14:25:06.000+01:00\"\n",
      "           data-comment-author-id=\"12407494\"\n",
      "           data-comment-highlighted=\"false\"\n",
      "           itemscope itemtype=\"http://schema.org/Comment\">\n",
      "\n",
      "    <div class=\"d-comment__inner d-comment__inner--top-level\">\n",
      "        <div class=\"\n"
     ]
    }
   ],
   "source": [
    "print( xx['commentsHtml'][200:700])"
   ]
  },
  {
   "cell_type": "code",
   "execution_count": 8,
   "metadata": {},
   "outputs": [],
   "source": [
    "pa = re.compile('data-comment-author=\"(.*?)\"')\n",
    "pid = re.compile('data-comment-author-id=\"(\\d+)')\n",
    "pcid = re.compile('\\sid=\"comment-(.*?)\"')\n",
    "pp = re.compile('<li class=\"d-comment(.*?)>',re.DOTALL)\n",
    "\n",
    "auths = []\n",
    "md = []\n",
    "for xx in json_data:\n",
    "    hh = json.loads(xx)['commentsHtml']\n",
    "    auths.extend(list( zip(pa.findall(hh), \n",
    "                           pid.findall(hh)\n",
    "                          )))\n",
    "    md.extend(pp.findall(hh))\n",
    "\n",
    "auths = list(set(auths))\n",
    "auths.sort(key=lambda x : x[0].lower())\n"
   ]
  },
  {
   "cell_type": "code",
   "execution_count": 10,
   "metadata": {},
   "outputs": [
    {
     "data": {
      "text/plain": [
       "[('123654a', '14312750'),\n",
       " ('1key2kan', '104749605'),\n",
       " ('1Love1Heart', '100796168'),\n",
       " ('45022', '3426044'),\n",
       " ('48percenter', '2847558'),\n",
       " ('Abedonders', '3883075'),\n",
       " ('abstrusus', '15533337'),\n",
       " ('adamvarhy', '106853452'),\n",
       " ('ade1973', '14874802'),\n",
       " ('AlexanderGH', '4503360')]"
      ]
     },
     "execution_count": 10,
     "metadata": {},
     "output_type": "execute_result"
    }
   ],
   "source": [
    "auths[:10]"
   ]
  },
  {
   "cell_type": "code",
   "execution_count": 102,
   "metadata": {},
   "outputs": [],
   "source": [
    "#print( '\\n'.join([x for x in md if 'pinkie' in x.lower()]))"
   ]
  },
  {
   "cell_type": "markdown",
   "metadata": {},
   "source": [
    "https://discussion.theguardian.com/comment-permalink/144375739"
   ]
  },
  {
   "cell_type": "code",
   "execution_count": 8,
   "metadata": {},
   "outputs": [],
   "source": [
    "auths = dict(auths)"
   ]
  },
  {
   "cell_type": "code",
   "execution_count": 13,
   "metadata": {},
   "outputs": [
    {
     "data": {
      "text/plain": [
       "'https://api.nextgen.guardianapps.co.uk/discussion//p/yydf9.json'"
      ]
     },
     "execution_count": 13,
     "metadata": {},
     "output_type": "execute_result"
    }
   ],
   "source": [
    "comments_url"
   ]
  },
  {
   "cell_type": "code",
   "execution_count": 34,
   "metadata": {},
   "outputs": [],
   "source": [
    "from bs4 import BeautifulSoup\n",
    "import lxml\n",
    "\n",
    "def html2comments(x):\n",
    "    tt = json.loads(x)\n",
    "    soup = BeautifulSoup(tt['commentsHtml'],  \"lxml\")\n",
    "    raw = [ comment.text for comment in  \n",
    "            soup.findAll('div', {'class' : \"d-comment__body\"}) ]\n",
    "    \n",
    "    metadata = soup.findAll('span', {'class' : \"d-comment__author\"})\n",
    "    \n",
    "    \n",
    "    auth = [ x.text.upper().strip() for x in metadata]\n",
    "    auth_id = [ x.find('a')['href'] for x in metadata]\n",
    "    #this was a pain to do really\n",
    "    #the problem is blocked comments\n",
    "    comment_id = [ x['id'][len('comment-'):] for x in soup.findAll('li')]\n",
    " \n",
    "    \n",
    "    ss = '##{}\\nhttps://discussion.theguardian.com/comment-permalink/{}\\n{}\\n\\n{}'\n",
    "    return [ ss.format(a,b,d,c.strip())  \n",
    "                   for a,b,d,c in zip(auth, comment_id, auth_id, raw)]\n",
    "     \n",
    "all_texts = [ html2comments(page) for page in json_data[:] ]\n",
    "\n",
    "\n",
    "from itertools import chain\n",
    "all_comments = list(chain.from_iterable(all_texts))\n",
    "    "
   ]
  },
  {
   "cell_type": "code",
   "execution_count": 36,
   "metadata": {},
   "outputs": [
    {
     "data": {
      "text/plain": [
       "\"##MACEASY\\nhttps://discussion.theguardian.com/comment-permalink/158217046\\nhttps://profile.theguardian.com/user/id/1401212\\n\\nIt is absolutely tragic the wrecking ball that the torykip party are taking to Britain. All of it without any mandate. It is perfectly possible to accept the brexit vote, while recognising that the incompetent and extremist wing of the tories now in charge have destroyed what could have been a moderate brexit along Norway lines. One which, given the closeness of the vote, would have satisfied the majority on both sides, retained our trade and investment links, not put up barriers at our borders, and saved a lot of small businesses and industry now relocating or sinking.The level of malice in the taliban wing of the tories, with their links to dark money think tanks, hedge funds and property developers is frightening for the future of this country, which is now one of desperate decline and astonishment from our former partners. We are in the grip of a malevolent rightwing faction who have gerrymandered their way to power by hijacking brexit and lying through their teeth for six years, ably abetted by the non-dom oligarchs who run the press.To throw away our excellent science research projects and collaboration on the altar of the wingnuts in the DUP, while ignoring the majority in the NI, is pure vindictive petty nationalism of a kind Britain should never accept.And as if to illustrate the democratic desert we inhabit, two extremist, one utter idiot, are vying for further austerity, pain and more recession while we look on without so much as a vote. And people accept it. Why aren't we marching in the streets to demonstrate that we do not accept an illegitmate leader with illegitimate policies for which no-one has given them any mandate? Why aren't the opposition parties shouting it from the rooftops every day? We really are screwed. What a dismal future we have with this level of unrepresentative extremist government by a tiny elite of clueless egotists and liars.\""
      ]
     },
     "execution_count": 36,
     "metadata": {},
     "output_type": "execute_result"
    }
   ],
   "source": [
    "all_comments[0]"
   ]
  },
  {
   "cell_type": "markdown",
   "metadata": {},
   "source": [
    "# Random data hacking"
   ]
  },
  {
   "cell_type": "code",
   "execution_count": 6,
   "metadata": {
    "scrolled": true
   },
   "outputs": [
    {
     "data": {
      "text/plain": [
       "[('##JOHNNIEAYSGARTH', 14),\n",
       " ('##BANKER62', 8),\n",
       " ('##17LUFTBALLONS', 7),\n",
       " ('##DFIC1999', 7),\n",
       " ('##LALTHEGAL2021', 6),\n",
       " ('##FARABUNDOVIVE', 6),\n",
       " ('##HACKERJACK79', 6),\n",
       " ('##BARONVONDOMINIC', 5),\n",
       " ('##JFORBES', 5)]"
      ]
     },
     "execution_count": 6,
     "metadata": {},
     "output_type": "execute_result"
    }
   ],
   "source": [
    "A = [x.split('\\n')[0] for x in all_comments]\n",
    "from collections import Counter\n",
    "AN = Counter(A)\n",
    "sorted([(x,y) for x,y in AN.items() if y > 4], key=lambda x : -x[1]) "
   ]
  },
  {
   "cell_type": "code",
   "execution_count": 24,
   "metadata": {},
   "outputs": [
    {
     "name": "stdout",
     "output_type": "stream",
     "text": [
      "[master 26cbffe] web\n",
      " 5 files changed, 228 insertions(+), 271 deletions(-)\n",
      " create mode 100644 yb8ez.pkl\n",
      " create mode 100644 yddvx.pkl\n",
      " create mode 100644 ye5m7.pkl\n",
      " create mode 100644 yjvf7.pkl\n",
      "Counting objects: 7, done.\n",
      "Delta compression using up to 12 threads.\n",
      "Compressing objects: 100% (7/7), done.\n",
      "Writing objects: 100% (7/7), 738.28 KiB | 2.44 MiB/s, done.\n",
      "Total 7 (delta 4), reused 0 (delta 0)\n",
      "remote: Resolving deltas: 100% (4/4), completed with 2 local objects.\u001b[K\n",
      "To https://github.com/macbuse/GUARDIAN.git\n",
      "   f914f6e..26cbffe  master -> master\n"
     ]
    }
   ],
   "source": [
    "! ./.g\n"
   ]
  },
  {
   "cell_type": "code",
   "execution_count": 30,
   "metadata": {},
   "outputs": [
    {
     "name": "stdout",
     "output_type": "stream",
     "text": [
      "##STILT\n",
      "https://discussion.theguardian.com/comment-permalink/155280552\n",
      "https://profile.theguardian.com/user/id/2397205\n",
      "\n",
      "This comment was removed by a moderator because it didn't abide by our\n",
      "         \n"
     ]
    }
   ],
   "source": [
    "print(all_comments[0][:200])"
   ]
  },
  {
   "cell_type": "code",
   "execution_count": 25,
   "metadata": {},
   "outputs": [
    {
     "data": {
      "text/plain": [
       "'france-populism-gaining-ground-revolution'"
      ]
     },
     "execution_count": 25,
     "metadata": {},
     "output_type": "execute_result"
    }
   ],
   "source": []
  },
  {
   "cell_type": "code",
   "execution_count": 35,
   "metadata": {},
   "outputs": [
    {
     "name": "stdout",
     "output_type": "stream",
     "text": [
      "##MACEASY\n",
      "https://discussion.theguardian.com/comment-permalink/158217046\n",
      "https://profile.theguardian.com/user/id/1401212\n",
      "\n",
      "It is absolutely tragic the wrecking ball that the torykip party are taking to Britain. All of it without any mandate. It is perfectly possible to accept the brexit vote, while recognising that the incompetent and extremist wing of the tories now in charge have destroyed what could have been a moderate brexit along Norway lines. One which, given the closeness of the vote, would have satisfied the majority on both sides, retained our trade and investment links, not put up barriers at our borders, and saved a lot of small businesses and industry now relocating or sinking.The level of malice in the taliban wing of the tories, with their links to dark money think tanks, hedge funds and property developers is frightening for the future of this country, which is now one of desperate decline and astonishment from our former partners. We are in the grip of a malevolent rightwing faction who have gerrymandered their way to power by hijacking brexit and lying through their teeth for six years, ably abetted by the non-dom oligarchs who run the press.To throw away our excellent science research projects and collaboration on the altar of the wingnuts in the DUP, while ignoring the majority in the NI, is pure vindictive petty nationalism of a kind Britain should never accept.And as if to illustrate the democratic desert we inhabit, two extremist, one utter idiot, are vying for further austerity, pain and more recession while we look on without so much as a vote. And people accept it. Why aren't we marching in the streets to demonstrate that we do not accept an illegitmate leader with illegitimate policies for which no-one has given them any mandate? Why aren't the opposition parties shouting it from the rooftops every day? We really are screwed. What a dismal future we have with this level of unrepresentative extremist government by a tiny elite of clueless egotists and liars.\n",
      "\n",
      "##APPEALFORSANITY\n",
      "https://discussion.theguardian.com/comment-permalink/158216065\n",
      "https://profile.theguardian.com/user/id/1314307\n",
      "\n",
      "The big moral issue for young European researchers is whether they want to forget about all the investment that got them to a postgraduate level - usually in an EU Member State - and then to gift their considerable talents, plus a lifetime of paying UK taxes, to Brexit Britain instead. \n",
      "Brexit has created this major conflict of loyalty. As in other industries, Britain spent decades poaching European research talent within the Horizon programme, and UK institutions benefited from enormous brain-gain. The UK economy also took researchers' day-to-day spending and taxes too, the business offshoots (patents, ventures, companies) of their applied research, their teaching abilities, their graft, their youth. \n",
      "As Britain used to be just another part of a wider European family, for researchers any sense of moral and academic saudade was not so acute: everyone was a European citizen, so moving around between elite peer universities was a natural thing to do. Everyone could vote in EU and local elections, everyone enjoyed the equal rights of EU citizenship. For many, the attraction of improving their English swung it. \n",
      "Today, without being a part of this wider network, and with very insular pronouncements on 'going it alone' by UK politicians, surely only the most mercenary of EU-nurtured researchers will choose the UK over the scores of elite universities across Europe (why not just 'sell their soul' to the US, China, or a Middle Eastern petrodollar university instead?). \n",
      "Personally, I would not see the attraction of Imperial College over, say, Ghent or Leyden or Leuven or Barcelona, the Karolinska or Max Planck institutes. Perhaps if you love Tories, there is a case for ditching the continent that nurtured you, and spending one's life paying for Liz Truss's Thatcher cosplay suits. That would be taking anglophilia a bit far.\n",
      "\n",
      "##JAMESVALENCIA\n",
      "https://discussion.theguardian.com/comment-permalink/158217824\n",
      "https://profile.theguardian.com/user/id/3761271\n",
      "\n",
      "A tragic loss. An ERC grant is a nice thing to get.\n",
      "The UK has done particularly well in research, development, and university teaching. It's not clear why, but it's significantly better than its European neighbours, and I say that as someone in the field across the channel but who spent a long time in the UK.\n",
      "Reasons are unclear, but I think it might be related to focus. In the UK, a degree is three years. Exceptionally, it may run to four. Only minor subject choice is available along the way. In a number of other system, the timeline is free-er, as is the subject matter which may evolve.The latter sounds much more understanding and I wish it produced better results. But the more authoritarian UK system seems to produce better results : Students, and then postdoc researchers and lecturers who are more focussed, get more done, and have a greater impact. That's just an opinion: It's a murky ad mysterious thing to behold, but the British (and USA) really are very good.\n",
      "This excellence has already been somewhat damaged by the introduction of fees. The lecturer-student relationship changed slighly from teacher - learner to services provider - consumer.This sounds great if one believes in marker solutions.At the coal face it meant students bringing lawsuits if they didn't get a first, students complaining about staff teaching for similar reasons : a deterioration of the teaching relationship that led some to take early retirement.\n",
      "This is a great shame because the UK has, for quite a long time, had this exceptional university culture.\n",
      "The isolation of the UK now is accelerating this decline. We all lose from this, whether in the UK, or not.\n",
      "\n",
      "##ONEPACEFORWARD\n",
      "https://discussion.theguardian.com/comment-permalink/158217916\n",
      "https://profile.theguardian.com/user/id/3914175\n",
      "\n",
      "No, but it's completely relevant because he was criticising all 'experts', be in Brexit, science, economics, anything really. It just happened to be a debate/interview about Brexit, because the majority of these 'experts' knew what they are talking about, well, it turns out they were right. The dismissal of all experts was short-sighted as we needed them, their research and expertise less than three years later during a crisis. That's the point.\n",
      "Brexit is an absolute shitshow for regulations, trade, funding to support research, shared education for childrens (Erasmus) to name but a few.\n",
      "While I'm specifically talking about the economists here, who when lining out the economic reality of Brexit or not in 2016, Gove was unable to name one of these 'experts' either way, presumably because everything he was saying could be debunked with logic and fact. Because the majority of them do independent research and often come to the same evidence-based conclusion. Another example could be the 99% of climate scientists who argee that climate change is man made. 'Some' don't. Not many. This is why research and finding are peer reviewed and the majority concensus is taken. The problem of science, facts and research from a populist point of view is that it largely more often than not it turns out to be proven correct (which is mildly inconvenient for this government, fo say the least) and has done over centuries, or longer and will continue to do so, which is why experts with organisations with acronyms *need* funding. Cherry picking a clutch of examples either way doesn't view the wider picture.\n",
      "\n",
      "##MRFENDER\n",
      "https://discussion.theguardian.com/comment-permalink/158215741\n",
      "https://profile.theguardian.com/user/id/12001081\n",
      "\n",
      "Plus ca change...I believe the Judge at Antoine Lavoisier's trial told him to the effect that the revolution had no need of scientists. Whilst the Judge himself was satisfyingly guillotined a few months later, the sad thing is I sometimes think that the only state that really consistently valued scientists was the old Soviet Union. Ultimately, in the UK, I think it is still seen as a sort of recondite hobby, not quite equating to legitimate country pursuits (killing and not usually eating various defenceless organisms) and certainly less important than creating vast personal wealth at the expense of the usual widows and orphans. I have dabbled in the science lark myself and whilst it was great fun while it lasted, getting the money to fund the work was like one of those strongest man in the world challenges, when you push an engine block through setting post cement for 10 miles in the morning and the afternoon...something really difficult. At first you give it a good go, but after a while, the futility of wasting what is left of your time on this planet being told by some voracious and better connected competitor that you should do this work on rats or ****ing pangolins or whatever, is just overwhelming. Having said that, there are a few young thrusty characters still out there and even though the Brexit Wonderland means lots more scientists clawing each others faces off in confined sacks to get money, the young folks will give it their best like I did back in the day..plus ca...hang on,...losing my grip as well..\n",
      "\n",
      "##TANAQUIL2\n",
      "https://discussion.theguardian.com/comment-permalink/158216693\n",
      "https://profile.theguardian.com/user/id/17335799\n",
      "\n",
      "This was, sadly, very predictable. I was in the process of preparing a grant application at the time of Brexit and like many, it hit the buffers. It was immediately obvious that the government hadn't a clue about the likely impact on UK universities and didn't understand or value the nature of scientific and academic research. Its promise to replace the funding lost was clearly fake (like the Turing scheme replacing Erasmus +, it was planned to be more limited than Horizon Europe). More to the point, Horizon Europe is a scheme to support collaborative research and foster research and scientific networks across Europe. These connections are essential because the ensure communication of ideas and best practice and establish ongoing research networks which are especially valuable for younger scholars. The chances are that UK researchers in all disciplines are going to fall ever further behind their European counterparts and become increasingly marginalised. It makes no economic sense, either, not just because we are forfeiting billions in research funds, but because it signals that the UK is an unfriendly environment for science and technology more generally. As an example, Intel has announced a billion dollar investment in European plants for manufacturing and R&D. None of them are in the UK, largely because of the difficulties of transferring staff and materials between the EU and a third country but also presumably because the UK has voluntarily exiled itself from the European scientific community.\n",
      "\n",
      "##SEABOATER\n",
      "https://discussion.theguardian.com/comment-permalink/158215199\n",
      "https://profile.theguardian.com/user/id/16592689\n",
      "\n",
      "I have worked in science, both academic research and now industrially, for the past 35 years and I think that very few people in the wider community, especially politicians, realised the extent and value of international collaboration. Brexit was always going to be a disaster for those scientists working within the European frameworks but its effect has been felt far wider. Not having access to European projects brings lack of involvement in the wider international projects that are interlinked and trying to negotiate a way into those programs for just one country is all but impossible. In fact, just dealing with paperwork, travel documents and inport/export is enough to halt projects . There were always exchange programmes meaning that UK and EU PhD students and post docs could experience working with each other's groups, enabling the trading of ideas and the building of relationships that are often the bedrock of networks for future research- this now will not happen and will add to further decline in the coming years. Brexit has hit industry hard too, again the freeflow of materials and expertise has been stifled with many UK companies spawning EU subsidiaries to enable competitive trading in Europe - these obviously pay their taxes to foreign exchequers! Working in a flagship hi-tech science based industry I have not seen a single advantage from Brexit and, if I was a young researcher, I would be looking to a different industry.\n",
      "\n",
      "##EEEEETEEEE\n",
      "https://discussion.theguardian.com/comment-permalink/158215861\n",
      "https://profile.theguardian.com/user/id/1636925\n",
      "\n",
      "I'm sorry but the way this is written, especially the headline, is very disingenuous on two key points. 1. The UK did not fail to negotiate membership of EU funding schemes post-Brexit. It did. What then happened is that the EU then later decided unilaterally that agreed onward membership of science programs would be tied to the outcome of agreements over trade and goods checks in Northern Ireland. The UK considered these separate matters, but the EU decided that collaborative science should be put at risk as part of the bargaining on this thorny issue. No-one on the UK side wanted this to happen.2. While Jose indeed has to turn down his 2.5M euro grant from the EU unless he moves, he also now automatically collects a 2.5M euro grant in £ equivalent from UKRI to study exactly the same research and do pretty much exactly the same stuff. So he doesn't lose out at all on funding in terms of money and what he will spend it on. It just comes from UK tax payers directly now, rather than the indirect way from before where we helped fund the EU science programs from our taxes and then won money back for our smart science.\n",
      "I hate Brexit as much as anyone, and I'm sad that my own EU grant award won in the last year isn't an official EU grant anymore - but I'm not going around telling people that I lost my funding - it's still coming - just now from UKRI - and I'll still be able to collaborate with project members in many other countries.\n",
      "\n",
      "##MARTINSILENUS\n",
      "https://discussion.theguardian.com/comment-permalink/158219006\n",
      "https://profile.theguardian.com/user/id/12941320\n",
      "\n",
      "This country has an anti intellectual bias a mile wide, how else could brexitiers have succeeded in so demeaning `experts` that everything they said was derided as: `Project Fear`?\n",
      "I was about six when I first heard the phrase `Too Clever By Half`, which deeply comfused me. I later learned that this and other phrases, were how stupid people, make themselves feel superior, to intelligent people. \n",
      "In my school, god help anyone who worked and actually learned - er, me - nothing was more likely to get you bullied. My father said that the biggest failure of some white British Culture, was a contempt for education.\n",
      "He suggested that the main difference between most of the middle class people he knew, and the working class ones. Was that about half the working class one - not all,note - had no respect for formal education, but middle class ones were rarely like that?\n",
      "He suggested that as working class white young people, competed directly against those from cultures where educating their children was paramount. The white children would simply fall behind. At least, those white working class families, where educating their children, was not a priority.\n",
      "He himself came from that kind of background, but an Engineering apprenticeship and hence a spell in the RAF, got him educated. My mother came from a working class family with books, and a strong desire to educate their children. \n",
      "So, my family come from both strands,\n",
      "\n",
      "##JAMESVALENCIA\n",
      "https://discussion.theguardian.com/comment-permalink/158218251\n",
      "https://profile.theguardian.com/user/id/3761271\n",
      "\n",
      "I'd agree but along slightly different lines :\n",
      "Obtaining grants is not in itself a problem. How else would it work? Massive endowments and financial returns on investment by universities and institutions perhaps? This would in fact be the same thing : one would have to apply for funding internally.By writing proposals.\n",
      "The problem I see all the time now (I review HE and national proposals, and write my own, and participate in more) is a marked focus on the market especially in European grants. We're now encouraged to build business models and include industrialisation, strongly encouraged.\n",
      "This results in researchers trying to get funding for research but being forced to write pages of identicit formulas for industrialisation which cloud the quality of the underlying research and more importantly its reviewing.\n",
      "The same old problem of the bean counters getting involved and ruining what they do not understand (the science).\n",
      "Public research is for the public. These virtuous sounding market perspectives (\"create jobs! promote the Eurpean Economic Area! Who could be against that?\") result in one thing : Public finance doing the private sector's research and development for it, which is scandalous.\n",
      "What I wish for therefore : removal of market perspectives in all research.While leaving the option to mention this as an added bonus.A fine line, I'll admit.\n",
      "\n",
      "##OILAIKE\n",
      "https://discussion.theguardian.com/comment-permalink/158216084\n",
      "https://profile.theguardian.com/user/id/101283194\n",
      "\n",
      "Interesting question. The UK was a full member of the EU. As a full member of the EU it was a member of the single market, the customs union and all supporting EU institutions and frameworks. There is an argument which was put by among others Dr Schauble the German Finance Minister that, given this, a vote to leave the EU (or the UK's Brexit) was indeed a vote to leave all these institutions and frameworks. \n",
      "I tend to agree with this and it's why I get really annoyed folk say they didn't vote to leave the single market for example. Yes you did. As a member of the EU, you were a member of the single market. If you don't want to be a full member of the EU, and the UK was as we note a full member, one can only assume you are not happy with being a member of the single market. And that is what the referendum Q here asked: (do you want to be a member of the EU Y/N?).\n",
      "I accept this requires a level of detail in the understanding of the EU and its institutions. So when the likes of Hannan or Farage say no one is threatening our place in the single market, or wouldn't it be great to be like Norway, they simply show their utter fucking ignorance. Astonishing ignorance, given they had been obsessed with the EU for decades. But then as others are noting, that's the English way. Ignorance is preferred to clever-dickery in these parts.\n",
      "\n",
      "##JAZZIT\n",
      "https://discussion.theguardian.com/comment-permalink/158216855\n",
      "https://profile.theguardian.com/user/id/17478421\n",
      "\n",
      "I worked on a European Cost Benefit study. I came from an Engineering background most other team members were economists or the like. It soon became clear to me and some of my engineering colleagues that those we were working with often didn’t have a real grasp of the issues. They would treat some effects as additive in a model and others as multiplicative with no rhyme of reason. The main measure of performance degradation that we were trying to minimise turned out to be wrong. I found that there was double counting. It turned out that the performance degradation statistic that the EU had widely published year after year was roughly twice what it should be. The team accepted that the figure was wrong but invented some new contributing factors so that the EU could continue to publish the same number. The summary of our work in the final report was rewritten to align with requirements of major industry players.\n",
      "The funding for the work was meant to be 50% from the EU and 50% from the participating institution. Some members of the team rarely attended meetings and showed no evidence of having undertaken any work. They just took the money. Other team members appeared to undertake work consistent with the EU element of the funding only.\n",
      "\n",
      "##SIBERIANNIGHTS\n",
      "https://discussion.theguardian.com/comment-permalink/158219385\n",
      "https://profile.theguardian.com/user/id/2674834\n",
      "\n",
      "In truth, there have long been plenty of other reasons besides Brexit why so many research scientists have chosen to quit the UK after completing their education. As historian of 20th century science, Walter McDougall noted in 'The Heavens and the Earth - A Political History of the Space Age': 'Britain's version of R&D is to forget the D'. Questionable UK university conventions about retirement ages resulted in Prof John Goodenough quitting Oxford and ultimately winning the Nobel Prize for chemistry in Texas when in his 90s for his work on lithium ion batteries. We can't attribute that to Brexit. Brexit surely hasn't helped, but the UK's top scientists have been leaving in droves for decades. The UK as a rule just doesn't gamble on big science to anything like the extent that Germany, France and US are prepared to. But it's not all doom and doom for European funding post Brexit. European Space Agency membership should be unaffected, given that other non-EU countries, such as Canada, have long been welcomed in as members. As a liberal and peaceful place, the UK can also still get lucky with non-EU immigrant scientists who arrive and come up with graphene - as did Geim and Novoselov at Manchester.\n",
      "\n",
      "##MIDDLE24\n",
      "https://discussion.theguardian.com/comment-permalink/158216372\n",
      "https://profile.theguardian.com/user/id/103677521\n",
      "\n",
      "Another example of this country assuming that just because it wanted something it could have it, even though it was quite clear that in this case participation was not automatic? Change in status (from EU member to 3rd country) brings other changes with it, a message that still doesn't seem to be getting through - whether due to ignorance(willful or otherwise), arrogance, pointless pig-headedness or, most likely, a toxic mix of the three. I find it telling (although not surprising) that there is still no sign of the money that government said would be available to underwrite lack of access to Horizon funding, should that situation arise. Indications that there might be problems post-Brexit appeared quite quickly after 2016 judging by articles in the local press where I live from scientists working on international research, to do with EU concerns about stability of UK involvement in projects, since exacerbated by Home Office actions affecting recruitment and retention. This government has demonstrated that it cannot be trusted and Horizon exclusion is one of the casualties, with effects that said government neither understands nor in all likelihood cares about.\n",
      "\n",
      "##GRAZIEROMA\n",
      "https://discussion.theguardian.com/comment-permalink/158217465\n",
      "https://profile.theguardian.com/user/id/2960713\n",
      "\n",
      "I am also an academic researcher working on a number of ERC grants and similarly came to London in 2013. I share the deep concerns expressed and sincerely echo this clarion call.Sadly, I have almost no faith our government will take heed. They are on an ideological mission and the facts be damned. I am currently working to set up a UK node of what would become a permanent European research infrastructure with funding through 2050. Each day, my colleagues and I engage this task in good faith but with the never ending fear that our government will dash our efforts in their myopic and reckless pursuit of Brexit purity.At what point does it matter that virtually no academic researchers support Brexit? How much harm are we willing to bring to the UK's capacity for research excellence?Not so long ago, I had utmost confidence, being at a Russell Group university in central London, that we would be a desired research partner for any European project. That is no longer the case. There are and never will be any sunny uplands for academic research under Brexit. Just diminishing opportunities for innovation and knowledge exchange. And we are doing it to ourselves.\n",
      "\n",
      "##APPEALFORSANITY\n",
      "https://discussion.theguardian.com/comment-permalink/158216498\n",
      "https://profile.theguardian.com/user/id/1314307\n",
      "\n",
      "The clue with the reliability of that quote is the last line. \n",
      "The 'UK government' has become, post-Brexit, the kind of unreliable narrator that is so beloved of postmodern scriptwriters (Johnson was perhaps the most extreme manifestation of official mythomania). \n",
      "How many times during Brexit negotiations was the UK reminded by Barnier that 'nothing is agreed until all is agreed'?\n",
      "If you threaten breaking one part of an international treaty, you will risk the counterparty using the leverage at its disposal to ensure that the wider treaty holds. \n",
      "While many in the UK might think that Northern Ireland is a peripheral issue, Brussels clearly takes the protocol more seriously. The simple approach to resolving the Horizon dispute would be for the UK government, in keeping with the desires of the majority in Northern Ireland, to follow its own 'oven-ready deal' and not rip up the NI protocol. \n",
      "The UK is disingenuous if it thinks it can stovepipe parts of Brexit agreements as it feels fit. That is, to use the overused word, 'cakeism'. The EU is not some pushover colony of England: it will vigorously defend its interests.\n",
      "\n",
      "##STENDEC341\n",
      "https://discussion.theguardian.com/comment-permalink/158218293\n",
      "https://profile.theguardian.com/user/id/16353974\n",
      "\n",
      "The UK government handling of the EU Horizons research project has been disastrously inept. They have also told lies to us about it.\n",
      "I was in a brief only last week where a civil servant told us that it was UK Government’s “preference” that we participate in the Horizon Programme but that the EU had insisted on bringing “broader considerations” than science into the negotiation so it seemed unlikely that we could participate.\n",
      "This is a lie - but it’s the official UK position to the EU.\n",
      "Fact is that the UK has withheld its promised third party country contribution to Horizons, preferring to use it as a negotiation weapon - its a “shoot your self in the foot” argument of the type that the Brexit exceptionalists love. But it’s stupid.\n",
      "The UK hasn’t got the resources to easily manage a substantial number of extra national programmes - so it’s unclear too me that the equivalent level of funding will make its way back into the system.\n",
      "Nothing good comes from allowing the right wingers control of anything important- they don’t make any sensible or logical decisions, preferring to lead from their mouths instead.\n",
      "\n",
      "##DUNNECHTAIN\n",
      "https://discussion.theguardian.com/comment-permalink/158217754\n",
      "https://profile.theguardian.com/user/id/16277344\n",
      "\n",
      ".\n",
      "An acquaintance of mine has PhD in botany, he had a research grant to classify grasses. He spent a few years going to various countries collecting specimens of grass and the soil it grew in. He found that a type of grass he found in South America flourished in the soil there. He noted that the soil in the highlands of Syria had a similar composition to that found in South America. He sent some seed samples to a friend in Syria who found that the seed samples did in fact grow much better than the native grasses. He was planning to send more seeds to Syria when a letter arrived out of the blue telling him that his research grant was being discontinued.\n",
      "Apparently only grants for economically advantageous projects would be considered. Apparently classifying grasses was not considered to be economically advantageous.\n",
      "Syrian hill farmers whose lives might have been transformed would not be suitable subjects for help. And of course it was a tory government who made the \"economically advantageous\" ruling. \n",
      ".\n",
      "\n",
      "##JUMPEDUPELECTRICIAN\n",
      "https://discussion.theguardian.com/comment-permalink/158218339\n",
      "https://profile.theguardian.com/user/id/12070921\n",
      "\n",
      "As far as I can see grants that disappear are gone, government isn't replacing them it's reducing them and expecting private investment into what is basic research. They all but destroyed our nuclear science after I'd joined it, I managed to get into the fusion side that no private body would fund as it was 50 years away. (Europe had a big part in it and the government were kind of trapped there), It's likely 30 years away now, the UK won't be part of it. What we do have is lots of little start ups gaining private investment by promising fusion as early as next year in one case, 2030 in many more. What's actually occurring is good and clever scientists no longer getting proper funding are setting up companies to cover their part of the field, making tory promises to get funding and who knows, in five years when it's obvious it's going nowhere to even the most blinkered, being clever folks will move on abroad to where properly funded research is going on to continue, or just retire.\n",
      "\n",
      "##ONEPACEFORWARD\n",
      "https://discussion.theguardian.com/comment-permalink/158217070\n",
      "https://profile.theguardian.com/user/id/3914175\n",
      "\n",
      "The full quote is basically the same but he's talking about 'experts with organisations with acronyms', the point still remains as which most experts, shock and horror, will work for or with reputable organisations, most of which use acronyms. I'm still not sure what his point is, six years on, other than the deliberate erosion of facts that as proven by people who put the time and research in and know what they are talking about. \n",
      "Some of these very same 'experts with organisations with acronyms', consistency got it right, be in post brexit trade numbers, or viral experts during the pandemic (people like Neil Ferguson, for example)\n",
      " It's nothing less than idiocy to vilify and dismiss them, but of course Gove knew that, he just wanted votes from those who got told what they wanted to hear.\n",
      "The full quote is “I think the people of this country have had enough of experts with organisations with acronyms saying that they know what is best and getting it consistently wrong.”\n"
     ]
    }
   ],
   "source": [
    "import os\n",
    "\n",
    "all_comments.sort(key=lambda x : -len(x) )\n",
    "txt = '\\n\\n'.join(all_comments[:20])\n",
    "print(txt)\n",
    "with open(os.environ['HOME']+'/tmp.txt','w') as fp:\n",
    "    fp.write('\\n\\n'.join(all_comments[:20]))\n",
    "with open(os.environ['HOME']+'/{}.txt'.format(article_url.split('/')[-1]),'w') as fp:\n",
    "    fp.write('\\n\\n'.join(all_comments[:20]))"
   ]
  },
  {
   "cell_type": "code",
   "execution_count": null,
   "metadata": {},
   "outputs": [],
   "source": []
  },
  {
   "cell_type": "code",
   "execution_count": null,
   "metadata": {},
   "outputs": [],
   "source": []
  },
  {
   "cell_type": "code",
   "execution_count": 8,
   "metadata": {},
   "outputs": [
    {
     "name": "stdout",
     "output_type": "stream",
     "text": [
      "[master 01b30cd] web\n",
      " 2 files changed, 161 insertions(+), 163 deletions(-)\n",
      " create mode 100644 mv97t.pkl\n",
      "Counting objects: 4, done.\n",
      "Delta compression using up to 12 threads.\n",
      "Compressing objects: 100% (4/4), done.\n",
      "Writing objects: 100% (4/4), 175.12 KiB | 3.50 MiB/s, done.\n",
      "Total 4 (delta 2), reused 0 (delta 0)\n",
      "remote: Resolving deltas: 100% (2/2), completed with 2 local objects.\u001b[K\n",
      "To https://github.com/macbuse/GUARDIAN.git\n",
      "   3fa9a7d..01b30cd  master -> master\n"
     ]
    }
   ],
   "source": [
    "! ./.g"
   ]
  },
  {
   "cell_type": "code",
   "execution_count": 11,
   "metadata": {},
   "outputs": [],
   "source": [
    "#https://towardsdatascience.com/sentimental-analysis-using-vader-a3415fef7664\n",
    "\n",
    "import nltk\n",
    "#nltk.download('vader_lexicon')\n",
    "\n",
    "from nltk.sentiment.vader import SentimentIntensityAnalyzer\n",
    "\n",
    "sid = SentimentIntensityAnalyzer()"
   ]
  },
  {
   "cell_type": "code",
   "execution_count": 22,
   "metadata": {},
   "outputs": [],
   "source": [
    "a = '''My views haven't changed. Leaving the EU will be of no benefit to anyone except those who hold money and power along with certain corporates and a smidgen of medium to small businesses.\n",
    "How else can it be when you are shutting shop to the most developed nations, the richest nations in the world, who are either in the EU or have market agreements with the EU. Even the emerging markets of China and India along with other developing economies are aspiring to develop trading agreements with the EU, the second largest economy in the world. Any deal with the UK will be secondary and will depend upon their agreement with the EU.\n",
    "Boris Johnson once said \"f**k business\". I take this as meaning there is something in it for them and they don't really care if businesses find it difficulA\n",
    "t to cope.\n",
    "I can see ministers and conservative MPs queuing to fill their pockets by acting as advisors for potential trade deals whilst the rest of the country are left struggling trying to rebuild their lives, especially following the pandemic. The same ministers will probably be looking to lower all kinds of standards from food and welfare to safety at work to improve their opportunities.\n",
    "When it comes to brinkmanship, I can only view this as getting away with whatever they can. I do not believe it is anything to do with negotiating an agreement that will be to the benefit of the UK or the EU as a whole, I don't believe our ministers are capable of doing that.'''"
   ]
  },
  {
   "cell_type": "code",
   "execution_count": 12,
   "metadata": {},
   "outputs": [
    {
     "ename": "NameError",
     "evalue": "name 'a' is not defined",
     "output_type": "error",
     "traceback": [
      "\u001b[0;31m---------------------------------------------------------------------------\u001b[0m",
      "\u001b[0;31mNameError\u001b[0m                                 Traceback (most recent call last)",
      "Input \u001b[0;32mIn [12]\u001b[0m, in \u001b[0;36m<cell line: 1>\u001b[0;34m()\u001b[0m\n\u001b[0;32m----> 1\u001b[0m sid\u001b[38;5;241m.\u001b[39mpolarity_scores(\u001b[43ma\u001b[49m)\n\u001b[1;32m      2\u001b[0m sid\u001b[38;5;241m.\u001b[39msentiment_valence(a)\n",
      "\u001b[0;31mNameError\u001b[0m: name 'a' is not defined"
     ]
    }
   ],
   "source": [
    "sid.polarity_scores(a)\n",
    "sid.sentiment_valence(a)"
   ]
  },
  {
   "cell_type": "code",
   "execution_count": 25,
   "metadata": {},
   "outputs": [
    {
     "name": "stdout",
     "output_type": "stream",
     "text": [
      "#**#EPI**VORE\n",
      "https://discussion.theguardian.com/comment-permalink/158096375\n",
      "https://profile.theguardian.com/user/id/13748050\n",
      "\n",
      "Relative global stability? What, growing up in the shadow of Vietnam and the innumerable proxy wars that plagued the developing world until the end of the Cold War? Watching the fall of the Berlin Wall, the first Gulf War, the rise of fundamentalist terrorism and the resurgence of the right wing in Europe? That's stability? Our reality (and I was born at the tail end of what's loosely defined as Gen X) is that we've been dragged along by the post-war generations, forced into submission to their cult of greed and fear while being told to shut up and work hard if we wanted a better life only to watch them pull up the ladder after them on workers' rights, pensions, healthcare, housing etc. etc. We had maybe a decade when things were even vaguely stable and then only if you were living in a very specific economic band within a select few countries. I'm frankly sick to death of being told that my opinions don't matter, that I need to defer either to a sclerotic gerontocracy or to a tyranny of youth trying to tell me what words I'm allowed to use, what I'm supposed to think, while constantly looking for someone to blame for everything that's wrong in the world rather than doing something about it.\n"
     ]
    }
   ],
   "source": [
    "target = 'decolon'\n",
    "target = 'science'\n",
    "target = 'irish'\n",
    "target = 'mandela'\n",
    "target = 'abolit'\n",
    "target = 'whittaker'\n",
    "target = 'science'\n",
    "target = '#epi'\n",
    "\n",
    "\n",
    "xx = [x for x in all_comments if target.lower() in x.lower() and  len(x) > 20]\n",
    "yy = [x for x in all_comments if '#pin' in x.lower() and 2000 > len(x) > 20]\n",
    "\n",
    "#print('\\n\\n'.join( ['\\n\\n'.join(x) for x in zip(xx,yy)])  )\n",
    "\n",
    "#print( '\\n\\n'.join(xx).replace(target, ) )\n",
    "pxx = re.compile(target, re.I)\n",
    "print( pxx.sub('**' + target.upper() + '**', \n",
    "              '\\n\\n'.join(xx)) )\n",
    "               \n",
    "#print( '\\n\\n'.join(xx) )\n"
   ]
  },
  {
   "cell_type": "code",
   "execution_count": 20,
   "metadata": {},
   "outputs": [
    {
     "data": {
      "text/plain": [
       "0.7820401046207497"
      ]
     },
     "execution_count": 20,
     "metadata": {},
     "output_type": "execute_result"
    }
   ],
   "source": [
    "(26/31) / (74/69)"
   ]
  },
  {
   "cell_type": "code",
   "execution_count": 64,
   "metadata": {},
   "outputs": [
    {
     "data": {
      "text/plain": [
       "529"
      ]
     },
     "execution_count": 64,
     "metadata": {},
     "output_type": "execute_result"
    }
   ],
   "source": [
    "23**2"
   ]
  },
  {
   "cell_type": "markdown",
   "metadata": {},
   "source": [
    "## "
   ]
  },
  {
   "cell_type": "code",
   "execution_count": 21,
   "metadata": {},
   "outputs": [
    {
     "data": {
      "text/plain": [
       "211"
      ]
     },
     "execution_count": 21,
     "metadata": {},
     "output_type": "execute_result"
    }
   ],
   "source": [
    "84 + 127"
   ]
  },
  {
   "cell_type": "code",
   "execution_count": 24,
   "metadata": {},
   "outputs": [
    {
     "data": {
      "text/plain": [
       "1.2842073077511085"
      ]
     },
     "execution_count": 24,
     "metadata": {},
     "output_type": "execute_result"
    }
   ],
   "source": [
    "84/211/.31"
   ]
  },
  {
   "cell_type": "code",
   "execution_count": 25,
   "metadata": {},
   "outputs": [
    {
     "data": {
      "text/plain": [
       "0.8723126588364586"
      ]
     },
     "execution_count": 25,
     "metadata": {},
     "output_type": "execute_result"
    }
   ],
   "source": [
    "127/211/.69"
   ]
  },
  {
   "cell_type": "code",
   "execution_count": 26,
   "metadata": {},
   "outputs": [
    {
     "data": {
      "text/plain": [
       "1.471264367816092"
      ]
     },
     "execution_count": 26,
     "metadata": {},
     "output_type": "execute_result"
    }
   ],
   "source": [
    "1.28/.87"
   ]
  },
  {
   "cell_type": "code",
   "execution_count": null,
   "metadata": {},
   "outputs": [],
   "source": []
  }
 ],
 "metadata": {
  "kernelspec": {
   "display_name": "BASE",
   "language": "python",
   "name": "base"
  },
  "language_info": {
   "codemirror_mode": {
    "name": "ipython",
    "version": 3
   },
   "file_extension": ".py",
   "mimetype": "text/x-python",
   "name": "python",
   "nbconvert_exporter": "python",
   "pygments_lexer": "ipython3",
   "version": "3.9.12"
  },
  "widgets": {
   "application/vnd.jupyter.widget-state+json": {
    "state": {},
    "version_major": 2,
    "version_minor": 0
   }
  }
 },
 "nbformat": 4,
 "nbformat_minor": 4
}
