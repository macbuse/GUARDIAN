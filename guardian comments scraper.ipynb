{
 "cells": [
  {
   "cell_type": "markdown",
   "metadata": {},
   "source": [
    "# Basic scraping for Guardian discussions u"
   ]
  },
  {
   "cell_type": "code",
   "execution_count": 49,
   "metadata": {},
   "outputs": [
    {
     "name": "stdout",
     "output_type": "stream",
     "text": [
      "[master 07063a7] web\n",
      " 2 files changed, 706 insertions(+), 1060 deletions(-)\n",
      " create mode 100644 ej7f5.pkl\n",
      " rewrite guardian comments scraper.ipynb (82%)\n",
      "Enumerating objects: 6, done.\n",
      "Counting objects: 100% (6/6), done.\n",
      "Delta compression using up to 4 threads\n",
      "Compressing objects: 100% (4/4), done.\n",
      "Writing objects: 100% (4/4), 105.96 KiB | 1.31 MiB/s, done.\n",
      "Total 4 (delta 1), reused 0 (delta 0)\n",
      "remote: Resolving deltas: 100% (1/1), completed with 1 local object.\u001b[K\n",
      "To https://github.com/macbuse/GUARDIAN.git\n",
      "   75ebeea..07063a7  master -> master\n"
     ]
    }
   ],
   "source": [
    "! ./.g\n"
   ]
  },
  {
   "cell_type": "code",
   "execution_count": 59,
   "metadata": {},
   "outputs": [],
   "source": [
    "with open('guardian comments scraper.ipynb','r') as fp:\n",
    "    nb = fp.read()"
   ]
  },
  {
   "cell_type": "code",
   "execution_count": 60,
   "metadata": {},
   "outputs": [],
   "source": [
    "import re\n",
    "\n",
    "pp = re.compile(\"(https://www.the.*?)'\")\n",
    "lks = pp.findall(nb)\n",
    "\n",
    "with open('links.txt','a') as fp:\n",
    "    fp.write('\\n'.join(lks))"
   ]
  },
  {
   "cell_type": "code",
   "execution_count": 1,
   "metadata": {},
   "outputs": [],
   "source": [
    "import re \n",
    "import requests\n",
    "import pickle\n",
    "import json"
   ]
  },
  {
   "cell_type": "code",
   "execution_count": 14,
   "metadata": {},
   "outputs": [],
   "source": [
    "article_url = 'https://www.theguardian.com/commentisfree/2020/aug/19/ditch-the-algorithm-generation-students-a-levels-politics'\n",
    "article_url = 'https://www.theguardian.com/commentisfree/2020/aug/21/joe-biden-democrat-convention-nice-guy-trump-fight'\n",
    "article_url = 'https://www.theguardian.com/commentisfree/2020/aug/23/the-cruel-exams-algorithm-has-laid-bare-the-unfairness-at-the-heart-of-our-schools'\n",
    "article_url = 'https://www.theguardian.com/commentisfree/2020/sep/01/us-mainstream-right-vigilante-terror'\n",
    "article_url = 'https://www.theguardian.com/commentisfree/2020/aug/31/politicians-covid-19-statistics-statisticians'"
   ]
  },
  {
   "cell_type": "code",
   "execution_count": 21,
   "metadata": {},
   "outputs": [
    {
     "ename": "NameError",
     "evalue": "name 'my_keys' is not defined",
     "output_type": "error",
     "traceback": [
      "\u001b[0;31m------------------------------------------\u001b[0m",
      "\u001b[0;31mNameError\u001b[0mTraceback (most recent call last)",
      "\u001b[0;32m<ipython-input-21-96eff3d6b4f1>\u001b[0m in \u001b[0;36m<module>\u001b[0;34m\u001b[0m\n\u001b[0;32m----> 1\u001b[0;31m \u001b[0mkey\u001b[0m \u001b[0;34m=\u001b[0m \u001b[0mmy_keys\u001b[0m\u001b[0;34m.\u001b[0m\u001b[0mkeys\u001b[0m\u001b[0;34m[\u001b[0m\u001b[0;34m'guardian'\u001b[0m\u001b[0;34m]\u001b[0m\u001b[0;34m\u001b[0m\u001b[0m\n\u001b[0m",
      "\u001b[0;31mNameError\u001b[0m: name 'my_keys' is not defined"
     ]
    }
   ],
   "source": [
    "key = my_keys.keys['guardian']"
   ]
  },
  {
   "cell_type": "code",
   "execution_count": 15,
   "metadata": {},
   "outputs": [
    {
     "name": "stdout",
     "output_type": "stream",
     "text": [
      "getting comments page no. 1\n",
      "there are 10 pages\n",
      "getting comments page no. 2\n",
      "getting comments page no. 3\n",
      "getting comments page no. 4\n",
      "getting comments page no. 5\n",
      "getting comments page no. 6\n",
      "getting comments page no. 7\n",
      "getting comments page no. 8\n",
      "getting comments page no. 9\n",
      "getting comments page no. 10\n",
      "archiving to eyhx8.pkl\n"
     ]
    }
   ],
   "source": [
    "#scrape the page and get the short url\n",
    "short_url_pp =  re.compile('\"shortUrlId\":\"(.*?)\"')\n",
    "\n",
    "r = requests.get(article_url)\n",
    "mm = short_url_pp.search(r.text)\n",
    "short_url = mm.group(1)\n",
    "\n",
    "#the short url allows us to access the discussion\n",
    "comments_url = 'https://api.nextgen.guardianapps.co.uk/discussion/%s.json'%short_url\n",
    "params = {'orderBy' : 'newest',\n",
    "          'pageSize' : 25,\n",
    "          'displayThreaded' : 'true',\n",
    "          'commentsClosed' : 'false',\n",
    "          'page' : '',\n",
    "          'maxResponses' : 50\n",
    "         }\n",
    "\n",
    "json_data =  []\n",
    "start_page  = 1\n",
    "last_page = None\n",
    "\n",
    "\n",
    "for num_page in range(start_page, 10**4):\n",
    "    print('getting comments page no.', num_page)\n",
    "    params['page'] = num_page\n",
    "    r = requests.get( comments_url, params=params)\n",
    "    json_data.append( r.text)\n",
    "    #The last page is a field in the json object\n",
    "    #I don't need to read this as json I could do a regexp\n",
    "    if num_page == start_page:\n",
    "        json_dict = json.loads(r.text)\n",
    "        last_page = json_dict['lastPage']\n",
    "        print('there are %d pages'%last_page)\n",
    "    if num_page == last_page : break\n",
    "        \n",
    "\n",
    "fn = '%s.pkl'%short_url.split('/')[-1]\n",
    "print('archiving to %s'%fn)\n",
    "with open(fn ,'wb') as fp:\n",
    "    pickle.dump(json_data,fp)\n",
    "    \n"
   ]
  },
  {
   "cell_type": "code",
   "execution_count": 2,
   "metadata": {},
   "outputs": [
    {
     "ename": "SyntaxError",
     "evalue": "invalid syntax (<ipython-input-2-7a525c39f9dc>, line 3)",
     "output_type": "error",
     "traceback": [
      "\u001b[0;36m  File \u001b[0;32m\"<ipython-input-2-7a525c39f9dc>\"\u001b[0;36m, line \u001b[0;32m3\u001b[0m\n\u001b[0;31m    archiving to dqhaa.pkl #jenkins\u001b[0m\n\u001b[0m               ^\u001b[0m\n\u001b[0;31mSyntaxError\u001b[0m\u001b[0;31m:\u001b[0m invalid syntax\n"
     ]
    }
   ],
   "source": [
    "json_data = pickle.load(open('dpb6e.pkl','rb') ) #jenkins\n",
    "\n",
    "archiving to dqhaa.pkl #jenkins\n",
    "\n",
    "archiving to evdjz.pkl #big cummings\n",
    "\n",
    "e9j7e.pkl # bragg\n",
    "\n",
    "eghyd.pkl # migrants"
   ]
  },
  {
   "cell_type": "code",
   "execution_count": 3,
   "metadata": {},
   "outputs": [],
   "source": [
    "json_data = pickle.load(open('etenk.pkl','rb') ) #jenkins\n"
   ]
  },
  {
   "cell_type": "markdown",
   "metadata": {},
   "source": [
    "## remember each page of comments has been stored separately"
   ]
  },
  {
   "cell_type": "code",
   "execution_count": 4,
   "metadata": {},
   "outputs": [
    {
     "data": {
      "text/plain": [
       "8"
      ]
     },
     "execution_count": 4,
     "metadata": {},
     "output_type": "execute_result"
    }
   ],
   "source": [
    "dd = json.loads(json_data[0])\n",
    "len(json_data)"
   ]
  },
  {
   "cell_type": "code",
   "execution_count": 8,
   "metadata": {},
   "outputs": [
    {
     "data": {
      "text/plain": [
       "dict_keys(['postedCommentHtml', 'commentsHtml', 'commentCount', 'refreshStatus', 'lastPage', 'paginationHtml'])"
      ]
     },
     "execution_count": 8,
     "metadata": {},
     "output_type": "execute_result"
    }
   ],
   "source": [
    "xx = json.loads(json_data[0])\n",
    "xx.keys()"
   ]
  },
  {
   "cell_type": "code",
   "execution_count": 9,
   "metadata": {},
   "outputs": [
    {
     "name": "stdout",
     "output_type": "stream",
     "text": [
      "\n",
      "\n",
      "<div class=\"d-discussion d-discussion--recommendations-open u-cf\"\n",
      "     data-read-only=\"false\" >\n",
      "\n",
      " \n"
     ]
    }
   ],
   "source": [
    "print( xx['commentsHtml'][:100])"
   ]
  },
  {
   "cell_type": "code",
   "execution_count": 16,
   "metadata": {},
   "outputs": [],
   "source": [
    "pa = re.compile('data-comment-author=\"(.*?)\"')\n",
    "pid = re.compile('data-comment-author-id=\"(\\d+)')\n",
    "\n",
    "auths = []\n",
    "for xx in json_data:\n",
    "    hh = json.loads(xx)['commentsHtml']\n",
    "    auths.extend(list( zip(pa.findall(hh) , pid.findall(hh)) ))\n",
    "\n",
    "auths = list(set(auths))\n",
    "auths.sort(key=lambda x : x[0].lower())\n"
   ]
  },
  {
   "cell_type": "code",
   "execution_count": 5,
   "metadata": {},
   "outputs": [],
   "source": [
    "auths = dict(auths)"
   ]
  },
  {
   "cell_type": "code",
   "execution_count": 17,
   "metadata": {},
   "outputs": [],
   "source": [
    "class Comment():\n",
    "    pass\n",
    "\n",
    "from bs4 import BeautifulSoup\n",
    "\n",
    "def html2comments(x):\n",
    "    tt = json.loads(x)\n",
    "    soup = BeautifulSoup(tt['commentsHtml'],  \"lxml\")\n",
    "    raw = [ comment.text for comment in  \n",
    "            soup.findAll('div', {'class' : \"d-comment__body\"}) ]\n",
    "    \n",
    "    metadata = soup.findAll('span', {'class' : \"d-comment__author\"})\n",
    "    \n",
    "    auth = [x.text.upper().strip() for x in metadata]\n",
    "    auth_id = [ x.find('a')['href'] for x in metadata]\n",
    "    \n",
    "    return [ '##{}\\n{}\\n\\n{}'.format(a,b,c.strip())  \n",
    "                                 for a,b,c in zip(auth, auth_id, raw)]\n",
    "     \n",
    "all_texts = [ html2comments(page) for page in json_data[:] ]\n",
    "\n",
    "\n",
    "\n",
    "from itertools import chain\n",
    "all_comments = list(chain.from_iterable(all_texts))\n",
    "    "
   ]
  },
  {
   "cell_type": "markdown",
   "metadata": {},
   "source": [
    "with open('b7jtb.pkl','rb') as fp:\n",
    "    json_data = pickle.load(fp)"
   ]
  },
  {
   "cell_type": "code",
   "execution_count": 18,
   "metadata": {},
   "outputs": [],
   "source": [
    "A = [x.split('\\n')[0] for x in all_comments]\n",
    "from collections import Counter\n",
    "AN = Counter(A)"
   ]
  },
  {
   "cell_type": "code",
   "execution_count": 19,
   "metadata": {},
   "outputs": [
    {
     "data": {
      "text/plain": [
       "[('##SPIKE501', 34),\n",
       " ('##JDRMCR', 33),\n",
       " ('##PASTISANDCHIPS', 23),\n",
       " ('##BEADYFRY', 21),\n",
       " ('##CANARYATTHEWHARF', 19),\n",
       " ('##FIRMBELIEVER', 18),\n",
       " ('##JONBRADSHAW2020', 17),\n",
       " ('##COMMENTOR76', 15),\n",
       " ('##JACKDURHAM2020', 15),\n",
       " ('##ARTUSOV', 14),\n",
       " ('##DAVE6723', 14),\n",
       " ('##MARTINSILENUS', 12),\n",
       " ('##PUMUCKLMAN', 12),\n",
       " ('##HUGHBRYANT', 12),\n",
       " ('##HAGGALA', 12),\n",
       " ('##MILL1806', 11),\n",
       " ('##RATHERBEINOZ', 11),\n",
       " ('##EASTONHALL33', 11),\n",
       " ('##DISCUZ', 10),\n",
       " ('##RICHARDJWILLIAMS', 10),\n",
       " ('##BIELSA', 9),\n",
       " ('##DISABLEDSCAPEGOAT', 9),\n",
       " ('##ENGLISHATHENA', 8),\n",
       " ('##STECLOUD', 8),\n",
       " ('##PARTOFTHEPROBLEM', 8),\n",
       " ('##KINGOFTHEKOP', 7),\n",
       " ('##STEVEINBAVARIA', 7),\n",
       " ('##FISHPLATE', 7),\n",
       " ('##ATTILA9000', 7),\n",
       " ('##THEWHOFAN', 7),\n",
       " ('##AMORYC', 7),\n",
       " ('##ARCAIS', 6),\n",
       " ('##IFITSMAGIC', 6),\n",
       " ('##1ESSEX', 6),\n",
       " ('##SPORADICWIT', 6),\n",
       " ('##DIANAB', 6),\n",
       " ('##TEATOWL', 6),\n",
       " ('##AVBROWN', 6),\n",
       " ('##SECONDTHOUGHTS2', 6),\n",
       " ('##VERAANTHONY', 6),\n",
       " ('##SAGARMATHA1953', 6),\n",
       " ('##USEDTOLOVELEARNING', 5),\n",
       " ('##DARTINGKISS', 5),\n",
       " ('##CELTILAD56', 5),\n",
       " ('##TOMPER2', 5),\n",
       " ('##ANDREWJ2020', 5),\n",
       " ('##TAGGARTT', 5),\n",
       " ('##ULENSPIEGEL', 5),\n",
       " ('##DOUGMEYBERRY', 5),\n",
       " ('##KAVANGH', 5),\n",
       " ('##OBESEDACHSHUND', 5),\n",
       " ('##DCARTER', 5),\n",
       " ('##JESSTHECRIP', 5),\n",
       " ('##OLDWEASE', 5),\n",
       " ('##TROUBLEATMILL', 5),\n",
       " ('##SUNDRIDGEPETE', 5)]"
      ]
     },
     "execution_count": 19,
     "metadata": {},
     "output_type": "execute_result"
    }
   ],
   "source": [
    "sorted([(x,y) for x,y in AN.items() if y > 4], key=lambda x : -x[1]) "
   ]
  },
  {
   "cell_type": "code",
   "execution_count": null,
   "metadata": {},
   "outputs": [],
   "source": []
  },
  {
   "cell_type": "code",
   "execution_count": 20,
   "metadata": {},
   "outputs": [],
   "source": [
    "all_comments.sort(key=lambda x : -len(x) )"
   ]
  },
  {
   "cell_type": "code",
   "execution_count": 21,
   "metadata": {},
   "outputs": [
    {
     "name": "stdout",
     "output_type": "stream",
     "text": [
      "##COGITAANTESALIS\n",
      "https://profile.theguardian.com/user/id/12707619\n",
      "\n",
      "When politicians cite Covid-19 statistics, they may be wrong – it doesn't mean the numbers are,\n",
      "Well, I take two issue with the headline. First, politicians and media pundits are often cherry picking statistics to create narratives, frame certain topics and suggest solutions. If the UK Statistics Authority would have ensured that the wide public can access statistics that have been independently validated, maybe many toxic narratives would have been easier to debunk, wether the topic is our EU membership, taxes, trade and geopolitical relations, education, healthcare or immigration, or anything else.\n",
      "If numbers would always be right, the way how they are aggregated would't be subject to arbitrary formulae and bias, then people would be in a better place to make informed choices. But they aren't.\n",
      "Second, the recent public outrage in relation to numbers, formulae and computer modelling used to measure educational attainment has demonstrated that scrutinising the validity of \"numbers\" is not as straightforward as David and those who place a lot of weight on analysing numbers and ML like to claim. Moreover, as the RSS has repeatedly argued, we don't register deaths timely and properly in England and Wales, which makes it rather challenging to interpret data like for example the number of suicides per capita, by gender and age group, or deaths due to car accidents or as an outcome of domestic violence or other types of crime. WE don't even know officially, how many deaths are recorded late, as that is subject to FOI.\n",
      "In regards, to the numbers used by politicians and different pundits to measure, communicate and manage this public health crisis, unfortunately they are neither proper or timely, even when we look at the number of deaths or the processes designed to decide when should a death be recorded as having as primary cause Covid-19 or not. Is it 100% objective to decide if someone has died from Covid-19 within 28 days or longer after they were diagnosed? No. It is subject to a process, interpretation, and even personal bias.\n",
      "At the best of times, trust is a precious commodity, and during a crisis its importance is crucial as it can enable our leaders to take the public with them and manage the situation in an effective and safe way, with minimal losses. \n",
      "The fact that we are increasingly polarised and divided is not something that was brought on by this public health crisis, but by the habit of those in public office and corporate life to keep throwing around numbers and statistics which are carefully calibrated and aligned to match their ideology and agenda.\n",
      "Nothing is risk free in life. We do not know how long or short our lives will be and we have less control over our lives than we might be ready to admit. In this respect , numbers and statistics can provide the support to inform decisions and balance potential harms and benefits. But that is valid only is there is no bias in how data was collected, aggregated and presented by statisticians.\n",
      "If data, numbers and national statistics in this country would have been bias free, timely and proper, then many things would be different, starting with our crooked and highly divisive voting system , the FPTP. \n",
      "If statisticians would take their responsibility of their jobs seriously, our public debate won't be as toxic, divisive and polarising. And it would' be so easy for disruptors to use tainted money, dark political ads and three-words-slogans to stoke up fear and hate.\n",
      "A high grasp of numeracy across the general population can ensure that more people know how to evaluate critically stories or claims that are maliciously or incompetently made by politicians and different pundits. Having high quality national statistics produced by independent organisations is crucial. What we have in this courtny is a love affair with cherry picking what it's worth to measure and manage, and clim to be open, accountable and transparent.\n",
      "David says: \"Numbers may not measure what you think they may be measuring, but they are rarely completely wrong.\" That is the same strategy employed by those who create narratives , control the tone of public debate and use unethical scientific methods to shape social attitudes and behaviour.\n",
      "Counting the dead should be a pretty easy task as long as it is done properly and timely. But breaking down the number of deaths by cause is still subject to bias and even political interference. Our vital statistics like the registration of new births were put on hold during this pandemic. Why, given that the overwhelming majority of births take place in hospitals?\n",
      "\n",
      "##ROBM2001\n",
      "https://profile.theguardian.com/user/id/2015819\n",
      "\n",
      "Well times have moved on and govs around the world ARE sensitive to unnecessary deaths. I prefer it! For winter flu.. UK has for years been vaccinating at risk groups. This year the target group is expanded. Many of those covid measures were taken to flatten the curve so that (under funded and resourced) NHS wasn't overwhelmed. Additionally many medics were retrained / refreshed in intensive care medicine.\n",
      "But.. From NHS burnout over covid, 40,000 death figure covid wasn't in any way imaginary. Ukgov spends £ Billions a year trying to avoid (upto now) say 100 public murders by terrorists a year. You prefer to save the money & let the terrorists kill? Worldwide govs have entered lock downs etc not just ukgov. But ukgovs weakness or errors are apparent over covid. Taiwan, s Korea, ozz, nz, Japan all have far lower deaths AND less economic damage. Taiwan for instance 7 covid deaths over the whole 8 months. Internally everything is open.. Saving the majority of their high street, restaurants etc. \n",
      "Ukgovs usual ploy of Nothing to see here, no one is available, oh look! A squirrel!, no comment.. Hasn't worked with covid since its not a one day / week event. Covid has exposed how stupid and inefficient ukgov is.. 11 u turns, lock down late, airports open til June when Philippines shut mid Feb (&that's not listed as a u turn!!) , masks (OK face coverings since stupid ukgov doesn't manufacture anything, I spite of 2008 & now covid where it is apparent just how little UK manufactures) asia since day 1, ukgov 6 months late. So ukgov could have simply copied other countries months ago.. But didn't. The 'following the science' doesn't wash either.. Covid is 'new' the science is still being researched and decided as we speak 6 months later. Other countries got far better (saved lives and economic recovery) results following their science or.. Just from common sense! Taiwan and others put part of their covid success down to SARs experience. Which ukgov should also have learned from but obviously didn't. Also ukpublic, opposition, pressure groups need to engage and organise now, because once a covid vaccine arrives, ukgov will be able to go back to normal divide & conquer, no one was available etc ploys to railroad public back into..For instance commuting 2hrs a day to work for no reason. 5 day weeks when rotating 4 day (extended) weeks could get work done, reduce traffic, congestion, pollution and transport expansion pressures. Spending in high street to support what for decade pre covid was a known, dying event. You might have thought ukgov having had decade plus to prepare for high street etc demise.. Would have had a plan for retraining, new services or industries which while staff were furlough Ed at home, they could have part retrained on line over a few months. \n",
      "From one week after schools closure.. Video star teachers lessons, distribute online, on USB stick.. Pre covid biz were against homeworking Until the experiment was done and biz forced to change its mind. Online teaching could have been another experiment and eye opener. Why should the range of lessons be limited by school? Why should rate of learning be limited to school days, school hours, school terms? Why shouldn't oaps, prisons, adult learning have access to high quality teaching online at what ever dates (not just school terms), rates (French every hour of the day for 2 weeks straight), content subtitled and signed. \n",
      "But no.. Ukgov seems to have.. No plan at all!\n",
      "\n",
      "##RICHARDJWILLIAMS\n",
      "https://profile.theguardian.com/user/id/3889018\n",
      "\n",
      ".Perhaps the Public Accounts Committee and MP's ought to look very closely at the statistics used to support the already weakened business case for HS2, and the real data emerging from companies post Covid. The data would suggest a permanent rather than a temporary shift in working practice.The non- listening MP's continue to act blindly over HS2,, The incredible guff handed out by HS2 and Civil Servants to the Public Accounts Committee notwithstanding ostensibly lying about massive budget overruns, and the seriously questionable Shapps/ Oakervee Review we now have a radically altered situation Post Covid. In order to try and meet the widely accepted £100 Bn plus yet to be spent on HS2 no longer meeting any realistic business case, reduced speeds so less (theoretical business) time saved and radically reduced peak time capacity the reality is a market that is disappearing,for this line, rather than expenditure on the whole network.Outsourcing firm Capita is to close over a third of its offices in the UK permanently, announced today (BBC).The firm, which is a major government contractor, is to end its leases on almost 100 workplaces.\"Following dialogue with our 45000 employees it has become very clear that they would like to work in a more flexible way, which will involve increased working from home, but they will still spend a significant amount of their time working from offices that are based in the heart of our local communities.\"Exactly - but they are but one of 50 companies already assuring us that they intend to adopt the same principle. Why on earth would they not? Main boards have become aware that output is maintained by home working without a massive premises overhead, unnecessary meetings, and needless commuting.The technology for home networking will only improve and successful companies going forward will adopt this as the standard model.Business lobby group CBI has warned that the fall in office working is damaging city centre economies.\"No it is not, it is damaging commercial property values and support/ hospitality city services, and transferring the expenditure out of the centres.This is a permanent shift; all that remains to be answered is the degree, as the government tries to persuade everyone to return to the existing, now outdated, model. The same applies, even more so, to HS2 ; it's doubtful that MP's. of all parties will pay any attention. The build, build, build mantra from Boris is madness if its spend, spend, spend to no purpose and a clear waste.\n",
      "\n",
      "##CONTINENTALCYCLIST\n",
      "https://profile.theguardian.com/user/id/11797417\n",
      "\n",
      "\"the most statistically dim-witted utterance\"\n",
      "\n",
      "\n",
      "\n",
      "They abound, unfortunately, because many journalists and politicians spurned mathematics in their education. It is greatly to be regretted. \n",
      "Witness one Angela Merkel, physicist and biochemist, who patiently explained the risks in understandable language to the German public. \n",
      "On top of that there are some high-profile medical experts giving people honest assessments opf the situation, unadulterated by political intents. Who moreover admit changes of scientific knowledge based on current experience.\n",
      "This will be of particular importance in the coming autumn and winter. It will be vital to understand the role of aerosols in spreading the disease, the impact of a possible flu wave, the cold, poorly heated homes, low humidity in heated homes, insufficient ventilation because of fuel poverty, the impact of the lack of exercise on the elderly in winter, the pressures on the NHS until spring, the reopening of schools, which may not affect the children themselves, but may turn them into virus spreaders for granny and gramps, possible vitamin deficiencies due to lack of sunlight, and a lot more.\n",
      "I took a lively interest in mathematics in the 1950s and early 1960s. After all I came to the school nearly seven decades after the German-Jewish Wunderkind who developed the beginnings of his new physics at our modest institution and began to publish them nine years later in 1905. But I do not pretend to understand statistics with their multiple conditions and caveats. Becauwe, as the author's book on the subject indicates, statistics may be a branch of mathematics, but it is also an art. Much neglected at the schools producing our supposed leaders, alongside probability calculus. Which I hold in high esteem in the current crisis, approaching the end of my eighth decade, with the Covid-19 probability this entails, but fully realising the probability of a heart attack or a brain haemorrhage if I do not exercise enough. So on my bicycle every day, rain or shine, in somewhat more hilly country than commonly found in Engelland. Wwhich we will probably not be able to visit in October, because our R-factor is rising above the simple figure of 1. One infected person infecting more than one other person.\n",
      "So hello from Thomas More's country of the Zapoletes, some five hundred miles to the east of Utopia.\n",
      "\n",
      "##MINTAKA\n",
      "https://profile.theguardian.com/user/id/2169435\n",
      "\n",
      "There are two issues here, at least. One is the clear communication of risk, and empowering personal decision-making about risk. The other is the goal of public policy.\n",
      "What should the goal of public policy have been? I think a very good case can be made that, especially at the incipient stages of an outbreak, the goal SHOULD be elimination, i.e., zero-Covid. I hasten to add that zero-Covid does not literally mean zero Covid, but numbers so low that contact tracing can fully contain any new epidemics.\n",
      "If you accept this goal, and you are of under no obligation to do so, then lockdown was not at all an unreasonable policy choice. There is, of course, a completely different policy goal, which is herd immunity. I believe it was extremely foolish to make this the initial goal, and it muddled a lot of policy-making as well as communication.\n",
      "How far have succeeded in achieving zero Covid? We have not done at all badly, actually. Daily death rates have come down from a few hundred at the peak to around ten. The doubling time for the total number of deaths has come down from 1-2 weeks at the peak to essentially infinity. So lockdown has been a success, by and large.\n",
      "Of course lockdown cannot be continued indefinitely. We have brought down the numbers to the point where, technically, it ought to be feasible to carry out contact tracing on every new outbreak. The real policy failure is that that capability has not been developed. That is why we are still having all these arguments about whether we can safely emerge from lockdown. \n",
      "If we had that capability, then it would genuinely be much less a public policy issue, and much more an issue of personal risk appetite (based on personal demographics). But in early March, it was entirely a public policy issue, and was botched for the first few weeks, though handled reasonably well thereafter.\n",
      "\n",
      "##DSPERKINS\n",
      "https://profile.theguardian.com/user/id/104016603\n",
      "\n",
      "I have a number of this author's works within my Kindle & Book Collection along with various publications from his peers, and do believe him to be an experienced & competent voice on these matters-however Statisticians much like many a long held established Profession suffer like many an other Societal realm in the \"inducing boredom in the audience\" stakes.\n",
      "What is clearly required and what I propose is that David Spiegelhalter write a non-arithmetic fantasy fiction book that he calls \"Lord of The Algorithms\" or some such, maybe he could break it down into a Trilogy \"The Fellowship of The Algorithm\", \"The Twin Flowers\", \"The Return Of The Statistic\". \n",
      "In doing so he will of course have potentially & unconsciously embedded his mathematic statistical excellence within his writings and therefore anyone who happens to read his fantasy fiction is also taking onboard any unconscious biases & skillsets that he as an author may unknowingly seeded within his output.\n",
      "As we all know Data is supposedly neutral, until a bias of some description is introduced, we all require bias of some description within our lives, in order to explain how we identify ourselves, for very many establishment facilities that we utilse as members of a civilisation. Some of those attributes & values are likely generalised across populations, whilst others are far more personalised and discrete, & whilst it can be daunting task wanting to overcome very many a life herdle such-as the present pandemic, we cannot genuinely say that only this population will be affected, whilst this other sector will not. Far better surely to follow basic disciplined guidance, and choose for ourselves that we follow healthier lifestyles, rather than leave so many things to chance, on the basis that I pay my taxes and am entitled to this service, or that service etc.\n",
      "\n",
      "##JDRMCR\n",
      "https://profile.theguardian.com/user/id/101368991\n",
      "\n",
      "‘People tend to have an exaggerated sense of their vulnerability to Covid-19...’\n",
      "Quite possibly, yes. However, since the Cummings affair and the rather botched messaging around the easing fo restrictions that followed it, people feel they have to follow their own instincts to reduce their risk to the lowest possible level. No one feels they are being looked out for by anyone but themselves. Consequently, everyone is doing the maximum they feel necessary, spending on their own age, health and temperament. It doesn’t mean they overestimate risk, it just means we all feel a duty to ourselves and those who love us to do the max. \n",
      "In addition to this, we were in a fairly strict lockdown, so much of the data we are told to look at when assessing risk applies to circumstances that no longer pertain. Take, for example, the argument that schoolteachers are at no greater risk than any other member of the working public. How do we know? The only data of any relevance would be that covering Feb-March, and that’s a very small dataset. It could equally be the case that no profession has yet been exposed at anything like the level that teachers will be; prolonged close contact with large numbers in small and unventilated indoor spaces, without PPE. Feasibly, that could mean teachers face a far greater risk than medical professionals who have PPE, and probably equal to medics in the early days when PPE was not available. \n",
      "Finally, a ton of data just doesn’t exist. Apart from the Imperial symptom app study, very little exists on Long Covid in non hospitalised cases. Most working age people know they probably won’t be hospitalised, but what they don’t know is if they will ever be the same again if they catch it. So, again, you have to apply the precautionary principle and assume there’s a high probability that it will disable you.\n",
      "\n",
      "##USEDTOLOVELEARNING\n",
      "https://profile.theguardian.com/user/id/100139200\n",
      "\n",
      "I'm going to put my head in the mouth of the lion, so to speak, here. Politicians and the media have gotten away with doing such an appalling job of using and interpreting data largely because we have let them. They are able to do so secure in the knowledge that far too many people lack the confidence and understanding to call them out on it.\n",
      "This is where Maths teachers and parents need to be working together more effectively to make sure the next generation is able to do so. If the last few months have taught us anything it is that there is actual a profound social and political reason for challenging the quality of statistical education in this country.\n",
      "The reason I include parents in this is because they need to consider the harm their attitude to Maths does to their children. Saying \"it's alright, I was crap at Maths\" is far too commonplace. Yet the same parent would hide any equivalent literacy skills. It is far past time to challenge the acceptance here and that goes for parents from all social groups.\n",
      "School statistics needs desperately to move beyond the dry and insipid methods to explore the nuance and complexity of the field. Spiegelhalter has written several excellent books that set out the framework for such a change. There is massive scope to tie it into relevant and appropriate topics such as mental health, social media and climatology. Doing so does not need to be at the expense of methodological rigour either. \n",
      "I'm also going to admit to a conflict of interest here. As a Maths teacher I resent some of the accusations levelled against my practice here. Mainly because I recognise the validity inherent in them. I question whether or not I have done a good enough job in the past and find the answer unpalatable. Then I question how I can achieve these changes in the future ...\n",
      "\n",
      "##PAZOOZOO\n",
      "https://profile.theguardian.com/user/id/2633788\n",
      "\n",
      "Numbers may not measure what you think they may be measuring, but they are rarely completely wrong. That’s why the statistical community let out a collective gasp last Sunday when Stephen Hahn, the commissioner of the US Food and Drug Administration, told a press conference that treatment with convalescent plasma would mean that of “100 people who were sick with Covid-19, 35 would have been saved”. If true, this would be one of the most remarkable medical discoveries in history, saving one life for every three people treated. But it is completely false. In fact 13.7% of the treated group died, compared with 8.9% of a comparison group, a 35% relative difference. The absolute difference was 5%, so if we believed the figures, in fact 20 people had to be treated to save one life. But we should not even believe those numbers, being based on selected patients receiving the treatment, and not comparing like with like in a proper randomised design.\n",
      "This is possibly the most statistically dim-witted utterance I have witnessed from any authority during this crisis, and he’s up against some pretty stiff competition, not least from the president flanking him at the press conference. \n",
      "Hmmm, but probably the majority of people would believe that's what a 35% improvement means, so I can't really agree with it being the most dim witted utterance. It does come across slightly as you're looking down on him precisly because you need a detailed knowledge of statistics to know why it's wrong, everyone can laugh at Trump saying \"Lower than the world\", but by choosing that as the worst it's showing off knowledge.\n",
      "There is an element of scientists, and statisticians lamenting people not understanding their findings, while at the same time refusing to communicate their ideas in a way that lay people could understand\n",
      "\n",
      "##BAROCKIE\n",
      "https://profile.theguardian.com/user/id/3947406\n",
      "\n",
      "Yes, you are right about that. But there is another confounding issue coming along. Much more testing is being done and (in Scotland at any rate) positive tests seem to be coming in at around, or less than 1% of those tested.\n",
      "This gives us the false positive problem. So far as I know, from what I have read, the specificity of the Covid PCR test is usually quoted as 99.5%. The specificity is the proportion of patients without the disease that correctly test negative - the remainder are false positives, ie patients without the disease who nevertheless have a positive test. \n",
      "Think about it like this. Say you test 1000 people who do not have Covid. Five of them will test positive. So if your are screening a population, and get positive test results of around 1%, you can expect that around half of these will truly have Covid and around half will not. But at the time of testing you simply won't know. When the disease has prevalence at this sort of level false positives are inevitable and will elevate the reported prevalence to as much as twice the true prevalence. \n",
      "Conversely, the sensitivity (proportion of patients with the disease who test positive) is said to be around 70%, so if you get an outbreak your problem is false negative results. Say there is a cluster and you test 200 people, of which 70 have a positive test. In this case there will be around 30 infected people who were not identified by the test (and in this group theoretically one false negative).\n",
      "So we must be very careful when local outbreaks lead to mass testing, as it s likely that even when the outbreak is under control, continued mass testing will give lots of positive results in people who do not have covid. Not an easy scenario is it?\n",
      "\n",
      "##PYSCHOGEN\n",
      "https://profile.theguardian.com/user/id/101825996\n",
      "\n",
      "Stats have been used to frighten citizens of death.I can only guess why a govt may wish to do this.Everyone will die of something, that's obvious. That's a fact.1% of those infected may die from the disease. If infected. That's a fact.Its highly contagious. That's a fact. The rate of spread can be moderated, and that's the only thing the govt can influence, as it's a virus and medical practitioners can't offer a cure, once infected. That's a fact. \n",
      "The real issue here is how frightened people are of catching the disease. Its a risk, obviously. But one risks influenza, pneumonia, HIV, when one steps out of the door too. In addition one risks a car crash, or a plane crashing. One risks being hit by a tree, or being stabbed in the street.\n",
      "In the 60's to 80's I remember so many people were led to believe the Russians could invade at any moment, and we could we hit by a nuclear bomb at any time, with only a 4 minute warning. Some people (many) were made to fear an A-bomb attack so much they trained to paint their windows white, to stock up on food or even build their own bunkers. \n",
      "I retrospect, we know this was all hogwash. The Russians were never coming. It was a political ploy to justify military build-ups and the defence industry, and it gained people's support to bring down the USSR. The real fear to those who created the fear of attack, was the spread of communism.\n",
      "So the point? You could live in fear of a disease you can't control other than by avoiding people. It'll affect your everyday life, destroy jobs, your social life and your mental health.Or you could face the facts of the risk it presents, which is there, accept it, and live with the people you love. \n",
      "Its for politicians to make dec\n",
      "\n",
      "##MARTINSILENUS\n",
      "https://profile.theguardian.com/user/id/12941320\n",
      "\n",
      "Dying within 28 days of a Covid-19 diagnosis, means that if you get it and are so weakened you die 29 days later, that does not count? Really, 28 days is a Lunar month, so what?\n",
      "What you need is a statistical actuary model of how likely a given group of people was to die within a given 28 day period after a positive Covid test , then compare that with your actual measured mortality rate within 28 days. See how good your model is, by testing it.\n",
      "You would do what all actuary` do, you cannot predict how long a given person will live, but given a big enough sample their average life expectancy can be calculated. With Covid-19 `victims` you look at how many in a given group are at any given age 30-40, 41-50 etc, work out from that the average life expectancy for a given group of people of different ages etc, on average. From that working out the probability of any given member, at random, dying within a 28 day period is easy, for a big enough sample size. \n",
      "So, you get the odds of dying within a 28 day period, of two groups. The group of those who test positive for Covid, against a carefully matched `equivalent` (age ranges, general health etc) group, not tested at all. A third group, tested but negative, would also then further tell you how good the tests, really were?\n",
      "That tells you the extra rick of a positive Covid-19 positive test. For really large groups, you can use not the average odds of dying within 28 days, but the number - on average - predicated to die within 28 days. As an example if eight were predicted to die, without testing, within 28 days, yet 22 die after positive tests, you are in serious trouble, the death rate has more than doubled, nearly trebled in fact!\n",
      "\n",
      "##DAVE6723\n",
      "https://profile.theguardian.com/user/id/18522661\n",
      "\n",
      "From what I've seen the newer variant spreads slightly more efficiently (as you'd expect if it's coming to dominate), but I've seen zero evidence that it has a lower mortality rate (other than the well understood age effect, which means more recent stats will be inflected by the fact that those getting infected are younger on average, and has nothing to do with the apparent lethality of the virus).\n",
      "There's seclection pressure for more infectious versions. And in highly lethal infections (tens of percent mortality) for lower lethality. But this virus mostly kills people past breeding age who are not very socially active. And it's passed on before symptoms appear. So there will be very little selection pressure for less fatal strains. It kills the people that don't matter for its transmission, or the people that do matter but after it's been transmitted. That's why it transmits so well despite being much more lethal than flu. And a 1% infection fatality rate means it will make no serious impact on the size of the host pool. This is not like Ebola, where half of those infected die (although they can pass it on after death, so again there's little selection pressure to become less lethal).\n",
      "And in the early stages of a pandemic, other things like infectiousness are more important than virus lethality. Invasion thresholds and the evolution of nonequilibrium virulence.\n",
      "Which can actually go up as well as down. Next step in the ongoing arms race between myxoma virus and wild rabbits in Australia is a novel disease phenotype.\n",
      "In the long term it may become less lethal. But for Australian rabbits, the long term was decades at least. And, as they say, in the long term we're all dead.\n",
      "\n",
      "##EN2009\n",
      "https://profile.theguardian.com/user/id/102196275\n",
      "\n",
      "Are you really sure that these deaths are attributable to physical reactions caused by Covid 19 or are these deaths rather related to people who were too scared to go to hospital as they felt they were vulnerable or are these suicides or stress-related?\n",
      "There have been a few suicides because of the lockdown and whilst you could argue that they were Covid-related these people did not die of Covid. In addition to that - if you look at the correlation and offset of reported infections and reported deaths in the UK, France and Spain you will notice that despite infections apparently increasing (drastically in some cases) there does not seem to be a correlating increase in the number of fatalities as had happened with the first wave. It was also reported that there was a significant number of excess deaths at home and not in hospital - these are people who can't or won't go to hospital - for whatever reason.\n",
      "So, your blanket statement is rather unhelpful in actually understanding what happened. Especially as SARS-CoV-2 was found in waste water samples from last November in a few countries and there were no excess deaths back then. \"Excess deaths\" as a measure is thus very unhelpful and practically meaningless if not used in the correct context.\n",
      "\n",
      "It’s not controversial to say Covid was the primary factor in the vast majority of those\n",
      "\n",
      "I disagree with the use of the word \"vast\". I agree with the use of the word \"majority\" but would argue that without appropriate cause of death analysis all you are doing is speculating. So it actually is not uncontroversial.\n",
      "\n",
      "##CITIZEN_OF_EUROPE\n",
      "https://profile.theguardian.com/user/id/101220304\n",
      "\n",
      "The statisticians are doing an excellent job across the world, but it is striking how little attention is paid in the UK to a key statistic, that of excess deaths per million. This measure, and particularly when adjusted to a standardised spread of age, is internationally recognised as the best measure of the impact of the virus. The virus is an indirect as well as direct killer. The fact is that people are dying earlier than would otherwise be the case because, for example, of postponed cancer treatment as hospitals risk being overrun .For excess deaths per million, up to a date when data is reasonably widely available (it takes administrative time to record and report deaths), the UK is second only to Spain in the extent of the impact of the virus, and once the age profile is taken into account, the UK is the worst. Interestingly the much maligned USA is mid-table - note the significance of the size of its population - and China is exceptionally robust.\n",
      "Of course there could be many reasons why a country struggles to cope more than another - density of population is one that the UK can point to - but another very clear outcome of the study of this data is that the excess death rate is closely correlated to the number infections present in the population prior to initial lockdown. That points the finger directly at the UK government's failure to act promptly.\n",
      "So why, I wonder somewhat cynically, do we see so little reference to this data from the government, despite Chris Whitty's recognition of it as \"the key metric\"?\n",
      "\n",
      "##MARKPJNY\n",
      "https://profile.theguardian.com/user/id/101511398\n",
      "\n",
      "Those who support Trump or who support Bolsonaro or Johnson or even Lukashenko are not concerned about the statistics cited unless their family members are ill or dying or maybe their neighbors are serious ill or dying. Those far from supporting the same politicians will look to the news and often make their own way. It is for the nonpartisan mid-ground that the limited reporting is to possibly make the difference. In the U.S, with 183,000 plus dead and with the numbers piling up, one would have to be 'putting your head in the ground' not to be concerned. As outbreaks recur, recently now in Spain and in Korea, the message that the Pandemic is 'in the rear-view mirror' is only to be seen as satisfactory by those who do not want to know.We should be able to trust in the government, but with information as free as it is to the Public, perhaps excepting in China and Russia with their Internet systems 'protected', there is plenty of an ability for at least those willing to seek information to find what they will. Politicians should certainly be honest, but I would ask: In the U.S, how many people would willingly tolerate 180,000 dead in 7 months from a war and yet accept it from a viral Pandemic? How many in the UK would accept nearly 42,000 dead from the same war? Cases can be miscounted and even some of the dead hidden from view, but eventually the caskets and their graves mount up or the crematoria fall victim to backlogs. The truth will have its showing!\n",
      "\n",
      "##OLDWEASE\n",
      "https://profile.theguardian.com/user/id/4685070\n",
      "\n",
      "Mask wearing is actually a good example, as the timeline of minutes from the Nervtag and SAGE meetings show; \n",
      "In February, Nervtag reported, \"the wearing of face masks by well-people living with symptomatic people is not recommended, because it won't make any difference to whether they get infected. Wearing face masks by well-people interacting with well members of the public (either occupationally or otherwise) is not recommended....... Members noted that the evidence for [mask] use is very weak and limited for those with prolonged contact with symptomatic individuals in the same household. The evidence for [mask] use in the general public is near nil.\"\n",
      "From April;\n",
      "\"Evidence does not currently support use of face masks to protect the wearer in the general population.....\n",
      "\"The effect of wearing face masks is weak, likely to be small.....\n",
      "Into May, no mention of masks at the meetings.\n",
      "Right up until the laughable, \"The transport secretary announces that face coverings will be mandatory on public transport in England, from 15 June. He said these face coverings should not be surgical masks but things like homemade masks or scarves......\"\n",
      "The latter, not only contrary to the actual evidence, is even more moronic given that any evidence supporting the wearing of masks relates specifically to the type of mask and its correct use (clue, it ain't homemade or scarves).\n",
      "Compulsory face coverings are a purely political decision with nothing to back it up.\n",
      "\n",
      "##MARTINSILENUS\n",
      "https://profile.theguardian.com/user/id/12941320\n",
      "\n",
      "That politician lie is as true as saying everyone lies, but that does not mean they lie all the time? Trump has seen that you can in fact lie as easily as you breathe and nothing bad happens to you, their is no downside to lying, as long as you lie so relentlessly that it swamps every conceivable lie checker.\n",
      "You can then - quite literally - construct your own separate reality, only your supporters inhabit. Thus completely insulating yourself, from the consequences of ever action/inaction you want? What matter 183,000 die in a pandemic, if enough of your supporters simply refuse to believe it? Your fake reality, to them is all to real. They believe only you, all else is lies.\n",
      "That is why Trump endangers the western civilization itself, previously only an all powerful dictator or cult leader could so create a false reality, like that. Trump has shown it can still be done in a relatively open democracy, by making his supporters live in a parallel reality to everyone else.\n",
      "There are no limits on what you can do after that, only in closed cults can leaders freely have that amount of power. What they can then persuade other cult members to do then, is why you should be frightened. Ever heard of Jim Jones, well that is how far you can go if you control your acolytes, very reality itself.\n",
      "https://www.theguardian.com/world/2018/nov/17/an-apocalyptic-cult-900-dead-remembering-the-jonestown-massacre-40-years-on\n",
      "\n",
      "##DISCUZ\n",
      "https://profile.theguardian.com/user/id/4446191\n",
      "\n",
      "Is the author explaining risk to us so we have a better understanding of risk? Or is his intent to convince us all to taken on more risk?\n",
      "\n",
      "Asked whether the previous figures unnecessarily scared the nation into staying at home and not wanting to go back to work, Spiegelhalter said: “I do think on the whole people are rather too cautious, rather too fearful, and the communication hasn’t helped in that.”\n",
      "\n",
      "In my view, if the modern economy needs us all to absorb ever more health risks to be able to continue to grow, then it is not up to a few scientists using their skills for persuasion, not understanding, making that decision on behalf of all of us.\n",
      "People, on average are quite risk averse. Using artful statistics and questionable communication techniques to nudge the public into accepting higher risk may be standard practice in advertising or pr. But when banks do something similar, say, misselling of investment products, this is rightfully seen as fraud.\n",
      "I am quite sure the author is one of the most dexterous specialists in the field, that's why his responsibility is so enormous. And why data in the hands of people with those skills can be as effective as a bullet in the barrel of a gun.\n",
      "Mathematicians are scientists, so they are bound by research ethics shared with many other disciplines. There is an age old ethical principle called 'Primum non nocere'. Maybe some people would benefit from a refresher?\n",
      "\n",
      "##PINKIE123\n",
      "https://profile.theguardian.com/user/id/15834048\n",
      "\n",
      "There is no transition to a world that is ‘safe’. It doesn’t exist and never has.\n",
      "I’ve stayed away from empirical arguments about data. Because while accepting the author’s excellent point that the numbers don’t speak for themselves but are “imbued with meaning” a posteriori, whether Covid is 20% worse or 20% less worse than they suggest, ethical questions would remain about how these interventions are affecting our society, economy, culture, mental well-being and, indeed, physical wellbeing. People die from other things but Covid. People’s immune systems are compromised by stress and isolation.\n",
      "In sum, we are becoming a society fixated on Covid at the expense of all other concerns. Saving life cannot be the overriding concern of our societies. All the time people choose quality of life over longevity. People sacrifice their lives for liberty and justice. Questions of quality of life and freedom - not freedom in some capitalist libertarian sense but of the most fundamental existential nature - have been outlawed.\n",
      "During previous pandemics these extreme measures were not imposed. Elections were not postponed. Fundamental rights, such as to a state education, were not suspended. This suggests that Covid - or the fear of Covid - exists partially in the current cultural imagination - one of disintegrating capitalist societies being held together by nothing but fear.\n"
     ]
    }
   ],
   "source": [
    "print( '\\n\\n'.join(all_comments[:20]) )"
   ]
  },
  {
   "cell_type": "code",
   "execution_count": 18,
   "metadata": {},
   "outputs": [
    {
     "name": "stderr",
     "output_type": "stream",
     "text": [
      "[nltk_data] Downloading package vader_lexicon to\n",
      "[nltk_data]     /home/gregmcshane/nltk_data...\n",
      "[nltk_data]   Package vader_lexicon is already up-to-date!\n"
     ]
    }
   ],
   "source": [
    "#https://towardsdatascience.com/sentimental-analysis-using-vader-a3415fef7664\n",
    "\n",
    "import nltk\n",
    "nltk.download('vader_lexicon')\n",
    "\n",
    "from nltk.sentiment.vader import SentimentIntensityAnalyzer\n",
    "\n",
    "sid = SentimentIntensityAnalyzer()"
   ]
  },
  {
   "cell_type": "code",
   "execution_count": 22,
   "metadata": {},
   "outputs": [],
   "source": [
    "a = '''My views haven't changed. Leaving the EU will be of no benefit to anyone except those who hold money and power along with certain corporates and a smidgen of medium to small businesses.\n",
    "How else can it be when you are shutting shop to the most developed nations, the richest nations in the world, who are either in the EU or have market agreements with the EU. Even the emerging markets of China and India along with other developing economies are aspiring to develop trading agreements with the EU, the second largest economy in the world. Any deal with the UK will be secondary and will depend upon their agreement with the EU.\n",
    "Boris Johnson once said \"f**k business\". I take this as meaning there is something in it for them and they don't really care if businesses find it difficulA\n",
    "t to cope.\n",
    "I can see ministers and conservative MPs queuing to fill their pockets by acting as advisors for potential trade deals whilst the rest of the country are left struggling trying to rebuild their lives, especially following the pandemic. The same ministers will probably be looking to lower all kinds of standards from food and welfare to safety at work to improve their opportunities.\n",
    "When it comes to brinkmanship, I can only view this as getting away with whatever they can. I do not believe it is anything to do with negotiating an agreement that will be to the benefit of the UK or the EU as a whole, I don't believe our ministers are capable of doing that.'''"
   ]
  },
  {
   "cell_type": "code",
   "execution_count": 24,
   "metadata": {},
   "outputs": [
    {
     "ename": "TypeError",
     "evalue": "sentiment_valence() missing 4 required positional arguments: 'sentitext', 'item', 'i', and 'sentiments'",
     "output_type": "error",
     "traceback": [
      "\u001b[0;31m------------------------------------------------------------\u001b[0m",
      "\u001b[0;31mTypeError\u001b[0m                  Traceback (most recent call last)",
      "\u001b[0;32m<ipython-input-24-6f3326dcf5de>\u001b[0m in \u001b[0;36m<module>\u001b[0;34m\u001b[0m\n\u001b[1;32m      1\u001b[0m \u001b[0msid\u001b[0m\u001b[0;34m.\u001b[0m\u001b[0mpolarity_scores\u001b[0m\u001b[0;34m(\u001b[0m\u001b[0ma\u001b[0m\u001b[0;34m)\u001b[0m\u001b[0;34m\u001b[0m\u001b[0m\n\u001b[0;32m----> 2\u001b[0;31m \u001b[0msid\u001b[0m\u001b[0;34m.\u001b[0m\u001b[0msentiment_valence\u001b[0m\u001b[0;34m(\u001b[0m\u001b[0ma\u001b[0m\u001b[0;34m)\u001b[0m\u001b[0;34m\u001b[0m\u001b[0m\n\u001b[0m",
      "\u001b[0;31mTypeError\u001b[0m: sentiment_valence() missing 4 required positional arguments: 'sentitext', 'item', 'i', and 'sentiments'"
     ]
    }
   ],
   "source": [
    "sid.polarity_scores(a)\n",
    "sid.sentiment_valence(a)"
   ]
  },
  {
   "cell_type": "code",
   "execution_count": 13,
   "metadata": {},
   "outputs": [
    {
     "name": "stdout",
     "output_type": "stream",
     "text": [
      "##PARTOFTHEPROBLEM\n",
      "https://profile.theguardian.com/user/id/16171854\n",
      "\n",
      "It is alleged that having travelled from Illinois to Wisconsin to point his assault rifle at unarmed protesters, he shot two people dead.\n",
      "\n",
      "That's one way of phrasing it I suppose, another would be that he lived 20-30 minutes away across the state border (Illinois) and worked in Kenosha... I thought he was there to protect a specific business (at the request of the owner, that's according to some reports) and it was to protect them from the **RIOT**ers (the ones setting the fires that have burned down buildings).\n",
      "\n",
      "...the president himself defended Rittenhouse, saying he appeared to have been acting in self defence.\n",
      "\n",
      "He might have been or do you think it's impossible? I can comfortably say that if he wasn't acting in self-defense then he should be prosecuted to the fullest extent of the law, but it doesn't look like you're happy with the idea that it might be justified.\n",
      "Like it or not, not all the protesters are peaceful, some of them are in fact **RIOT**ers and if it is the case that Rittenhouse was attacked (the first person killed allegedly tried to grab his rifle) then he has the right to defend himself under the law; what happened after that was caught on camera and it does look like self-defense (assuming the first act was of course).\n",
      "\n",
      "Predictably, every accused lone-wolf murderer generates an online fan club.\n",
      "\n",
      "I thought he was standing with a few other militia types that night? Sure, he might have been the only one of them to fire, but the reports suggest 16 other rounds were fired and it's possible they were at Rittenhouse. We just don't know and need to wait for the investigation to conclude.\n",
      "\n",
      "“How shocked are we,” Carlson said, “that 17-year-olds with rifles decided they had to maintain order when no one else would?”\n",
      "\n",
      "There has been **RIOT**ing, arson & looting across the US for months now, Kenosha has had 30+ suspected arson cases, order is not being maintained and people are scared. The longer this goes on the better Trump looks as the state officials have been refusing & publicly rejecting his offers of federal assistance.\n",
      "Personally, I think it's mad that he was out there with a rifle (or at all), but I think the same of the protesters and **RIOT**ers; it's all pretty senseless at this point...\n",
      "\n",
      "....betrays a conception of order identical to that of Rittenhouse and other white vigilantes who have pointed their guns at Black Lives Matter protesters....\n",
      "\n",
      "You keep using the word protester as those that's all that's out there, it's not.\n",
      "\n",
      "Police themselves have repeatedly condoned and indulged the vigilantes, who have been permitted to roam around with guns out...\n",
      "\n",
      "Most/many have a right to do just that, I'm not a fan of the gun laws over there, but there's little the police can do.\n",
      "\n",
      "##THEOLDGREYFOX\n",
      "https://profile.theguardian.com/user/id/12970973\n",
      "\n",
      "Of course it was President Trump who decided to set fires in Kenosha, it was President Trump who started the looting there as well.This constant blaming of President Trump for all the evils in the USA is what will drive many voters to vote against the Democrats who pointedly refuse to condemn or ignore what s happening on the ground, or if not ignore it downplay it with statements arguing that these \"protests\" are \"mainly peaceful\". You are falling into that trap as well, no condemnation of the arson and looting, just a condemnation of President Trump. Just to set things straight - Police \"oppression\" and use of deadly force is no worse today n the USA than it was 5 years ago under President Obama - remember the Ferguson **RIOT**s, or were they President Trumps fault also? Policing on a local and state level is governed by local and state Government in the USA, it is only Federal policing that is Government at the Federal Level, therefore failure by police at the local and state level should be \"blamed on the respecting local and Government bodies.It is people who attempt to deny responsibility of local Governments and who attempt to blame the President for these tragedies who are driving the voters away from the Democrats as the vast majority of these events are happening in states and cities that have been governed by the Democrats for the past years, and the \"ordinary voter\" is getting fed up of the platitudes these Governments are spouting.\n",
      "\n",
      "##JAZZFUNK23\n",
      "https://profile.theguardian.com/user/id/13568616\n",
      "\n",
      "Ayn Rand is considered essential reading by right wing types that worship at the altar of right wing libertarianism. Those philosophies were the foundation of 20th Century Satanism and the Satanic Bible https://en.wikipedia.org/wiki/LaVeyan_Satanism. Is this QANon conspiracy yet another example of projection by the right wing who constantly accuse their opponents of the very thing they are doing themselves? An act of deflection? (A tactic adopted by the Nazis).\n",
      "As for the **RIOT**s, it is tragic that people are losing their lives and there is a real danger that the situation will descend into tit-for-tat. I truly hope it doesn't, however when the Republicans show no sign of reconciliation, attempts to defuse the situation (if anything actively fanning the flames of division).\n",
      "The vast majority of the protests in the US are peaceful and the destruction has been extremely limited to small areas, however, the right wing media frame it as though all major cities in the USA are burning down. It's a bit like the UK right wing media that portray the UK as 'full', when this clearly is not the case, just 6% of the UK is actually built on https://www.sheffield.ac.uk/news/nr/land-cover-atlas-uk-1.744440.\n",
      "I also wonder how many of the **RIOT**s, fires, damage etc are actually being caused by right wing agent provocateurs? A significant amount I would imagine...\n",
      "\n",
      "##MARY_QUITE_CONTRARY\n",
      "https://profile.theguardian.com/user/id/18135132\n",
      "\n",
      "The sad thing is these protests are happening because the police departments are absolutely incapable of keeping control of law and order - which should be obvious from the fact that they so frequently overreact and kill non-violent suspects. If they really had control, that wouldn't be happening. There's a complete lack of basic competence by the police departments.\n",
      "So when protests happen we again see that lack of competence, and it again leads to controllable situations descending into violence. There shouldn't be groups of protesters and counter-protesters waving guns at each other, or chasing each other, they should be a kept a safe distance apart! The police should not be acting chummy with armed groups showing up from out of town, they should be policing their behaviour as potential trouble-makers. They should be ensuring that both protests are peaceful affairs, they shouldn't be treating one group like **RIOT**ers without due cause and another like their friends - again, without due course. \n",
      "At the very least they should be checking that anyone who shows up and is armed is bearing those arms legally.\n",
      "If Americans want law and order, they should be supporting police reform and re-training, because their current police departments are doing an absolutely lousy job of providing it.\n",
      "\n",
      "##POPEGREGORYTHENINTH\n",
      "https://profile.theguardian.com/user/id/16261265\n",
      "\n",
      "In the case of Kyle Rittenhouse there is a bit more nuance than many on the left are recognising. \n",
      "Firstly, it's my position that it's insane for someone to be roaming the streets with an assault rifle, it's insane that the law allows concealed carry, and it's also insane that there are opposing gangs shooting each other on the streets. So much for the non-controversial part.\n",
      "However, after watching the videos it seems like the first person Rittenhouse shot was chasing him, had thrown something at him(unclear what) and had tried to grab the gun off him. The second person had swung a skateboard at his head while he was on the ground. The third was blatantly rushing him with a handgun.\n",
      "In other words I disagree that he was on some sort of spree - under US law, there is an argument to be made that he only fired in self-defence.\n",
      "I think the trial will come down to what he was doing there in the first place. You can't go out to pick a fight and then claim self-defence, for example. The defence will no doubt play up the 'concerned citizen' angle. One thing's for sure, the trial will be nuts. **RIOT**s outside the courthouse.\n",
      "\n",
      "##ROVERTHEHILLANDFARAW\n",
      "https://profile.theguardian.com/user/id/10688606\n",
      "\n",
      "They have lots of reasons, not all of which work together. The plain fact is that 'black lives' (as a wording grouping for minorities in the US) life is not as good as for white lives. Most people can agree with this as a basic concept of unfairness. Forming the solutions is the challenge. Clear actions or policies would help but these are not clear and, with such a broad objective, much effort will go into little impact.\n",
      "With the background of **RIOT**s, 'protection' militia, escalating violence on both sides, the chances of being able to prescribe useful reform will decrease. Refund the Police actually has a lot of merit in America with a militarized police force and many folks would sympathise with a clear path. However to go from current position to where is bring lost as you have people advocating ground zero policies etc. Rational dialogue seems to be retreating ever further backward with blame on all sides.\n",
      "\n",
      "##PARTOFTHEPROBLEM\n",
      "https://profile.theguardian.com/user/id/16171854\n",
      "\n",
      "Firstly, it's my position that it's insane for someone to be roaming the streets with an assault rifle...\n",
      "\n",
      "It's just a rifle...\n",
      "\n",
      "However, after watching the videos it seems like the first person Rittenhouse shot was chasing him...\n",
      "\n",
      "Actually, the first person was before the video started, though it's alleged* that he was attempting to grab Rittenhouse's rifle at the time.\n",
      "*a witness, who Rittenhouse has been charged with endangering by shooting the first bloke IIRC.\n",
      "\n",
      "I think the trial will come down to what he was doing there in the first place. You can't go out to pick a fight and then claim self-defence, for example.\n",
      "\n",
      "It appears as those he, and a few others, were guarding a petrol station/car lot that night from arson/**RIOT**ers and given what had occurred already in Kenosha... I think it's mad that he was out there, but the **RIOT**ers were there first and the police can't seem to handle it.\n",
      "\n",
      "##PARTOFTHEPROBLEM\n",
      "https://profile.theguardian.com/user/id/16171854\n",
      "\n",
      "But you appear only to be worried about the few scrotes robbing trainers, why is that?\n",
      "\n",
      "Oh, have they only been robbing trainers?! There was me think it was mass looting and arson that had been occurring, and that 30+ death had died (excluding Rittenhouse's incident).\n",
      "\n",
      "And it would serve you well to google just how much of the looting and **RIOT**ing was started by right wing white supremacists. This is a fact.\n",
      "\n",
      "No, no it's not... Otherwise there are a lot of black white supremacists, though I suppose you did say started, can you at least admit it's not only \"white supremacists\" who have been looting?\n",
      "Also, are you saying that antifa are a white supremacist organisation?\n",
      "\n",
      "##PARTOFTHEPROBLEM\n",
      "https://profile.theguardian.com/user/id/16171854\n",
      "\n",
      "BLM have a reason for their protest, do you know what it is?\n",
      "\n",
      "At this stage I don't think there is a reason for it actually, sure there's the nebulous idea of being against police brutality, but they're so reactive to that they start protesting even when the shootings are justified (then quickly disappear).\n",
      "You might not like it, but the **RIOT**ing & arson are going to help Trump in the elections as he's been offering federal assistance & it's been rejected time & again (though a few are accepting now).\n",
      "\n",
      "##KRITICALMASS\n",
      "https://profile.theguardian.com/user/id/17908002\n",
      "\n",
      "We may be witnessing the end of the America that used to inspire so many. Americans have always needed enemies and now one half of society, the half with guns, is turning on the other half. It's a collective insanity, the abandonment of reason and social solidarity for a crazy social contagion of armed anarchy, irrational violence and spiritual corruption, with so-called pat**RIOT**s and Christians fanning the flames.\n",
      "The decline of the USA was inevitable. They cannot live with it, and this is the result.\n",
      "\n",
      "##FERNANDOITURBURU\n",
      "https://profile.theguardian.com/user/id/17812901\n",
      "\n",
      "The excuse to be upfront now is violent protests. It is true that some downtown areas have been destroyed by **RIOT**ers. And that is never good, unless you benefit from it. (No need to write his name here). But at the end of the day, it's only an excuse. Tomorrow, they will find another excuse to justify their hatred. It's an old story in the US. The only difference is that now those people are in the White House, so it's a open attack of the civil society with 43% of voting support.\n",
      "\n",
      "##GRUMPYOLDFOOL\n",
      "https://profile.theguardian.com/user/id/17968071\n",
      "\n",
      "Trump will major on a law and order ticket, and paint Biden/Harris as weak and ineffectual liberal lefties who condone **RIOT**ing and looting because it's being performed by people they support. He has no problem with violence by armed right wing militia because they play to his strengths - he's a racist, bigoted, xenophobic, misogynistic narcissist, just like members of the armed right wing militias.\n",
      "It will be a much closer election in November than forecast 4 weeks ago.\n",
      "\n",
      "##BJERKLEY\n",
      "https://profile.theguardian.com/user/id/1380347\n",
      "\n",
      "You might not like it, but the **RIOT**ing & arson are going to help Trump in the elections\n",
      "\n",
      "Lots of people claiming that but this seems wishful thinking as much as anything. The protests have been going on for months and while Biden's lead has shrunk a bit recently, this slam dunk law and order platform would likely have had a more noticeable effect by this point.\n",
      "There's also the other aspect that a law and order platform faces more resistance when you're already in power.\n",
      "\n",
      "##BJERKLEY\n",
      "https://profile.theguardian.com/user/id/1380347\n",
      "\n",
      "If you don’t get, or accept, that concept, don’t be surprised to see Trump back in the Oval Office for another 4 years.\n",
      "\n",
      "We'll see. I mean, obviously people called it wrong before and polls can be deceptive, (and when you say the world, let's be clear this is what you mean) actually want to see.\n",
      "But I do think anyone who thinks its okay for a 17yo to turn up to protests/**RIOT**s with a gun really needs to be revisiting their own culpability for the state of society.\n",
      "\n",
      "##STEFFIEHU\n",
      "https://profile.theguardian.com/user/id/104220184\n",
      "\n",
      "You say this as though the violence wasn't routinely instigated by a violent police force. It was. We have all seen the multiple videos of hugely excessive violence and brutality used against peaceful protesters. \n",
      "But you appear only to be worried about the few scrotes robbing trainers, why is that?\n",
      "And it would serve you well to google just how much of the looting and **RIOT**ing was started by right wing white supremacists. This is a fact.\n",
      "\n",
      "##NIHILIST\n",
      "https://profile.theguardian.com/user/id/1186648\n",
      "\n",
      "Curious as to who is advising Donald now. Deliberately organising **RIOT**s in blue states using careful manipulation is something I don't think Donald is capable of and Bannon is currently on bail. The approach may work. The MAGA convoys firing paint guns conceals the fact that those in BLM know what they really would like to be firing. Thats the degree of antipathy that has to be overcome.\n",
      "\n",
      "##SPROCKETUK\n",
      "https://profile.theguardian.com/user/id/101261032\n",
      "\n",
      "The Kyle case is tricky to comment on.There are good arguments for self defence, there are good arguments for him not being there too.\n",
      "What I see in the right wing media is exactly the same as in the left wing media regarding the pat**RIOT** prayer guy shot in Portland.\n",
      "I'm just glad I live in the UK.\n",
      "America is a mess, whichever old guy wins the election.\n",
      "\n",
      "##TEAWITHLEMON\n",
      "https://profile.theguardian.com/user/id/18376429\n",
      "\n",
      "Donald Trump wants there to be division, **RIOT**s, and violence, so that he can claim law & order for the Republicans. Good citizens have a duty to stay out of it. Don't form vigilantes, don't go looking for confrontation. Stay away. Kyle Rittenhouse has done the dirty work, in the name of the president.\n",
      "Does Donald Trump tell the truth?\n",
      "\n",
      "##POPEGREGORYTHENINTH\n",
      "https://profile.theguardian.com/user/id/16261265\n",
      "\n",
      "It started when genuine protests by people in their own communities got out of hand. However it has since changed to a sequence of professional **RIOT**ers(mostly white) seizing the opportunity to travel to wherever the latest hotspot is.\n",
      "\n",
      "##WTOBIASJR\n",
      "https://profile.theguardian.com/user/id/101935823\n",
      "\n",
      "Here's what you wrote:\n",
      "\n",
      "...until BLM and co decided months of protests and **RIOT**s were a good idea\n",
      "\n",
      "If, as you say, the violence is coming from white people, what has this got to do with BLM? Why condemn them? Why blame them for Trump?\n",
      "\n",
      "##BLANCODIABLOMAGICO\n",
      "https://profile.theguardian.com/user/id/2173980\n",
      "\n",
      "Wow, you’re not watching the same clips as I am on social media. As provocative as the Trump supporter caravan may have been these **RIOT**s are 90% radical left wingers and the beliefs they’re espousing are equally toxic.\n",
      "\n",
      "##DSDSDSDSDS\n",
      "https://profile.theguardian.com/user/id/2738095\n",
      "\n",
      "Trump didnt have a hope until BLM and co decided months of protests and **RIOT**s were a good idea. Now theyre giving him another term.\n",
      "\n",
      "##HFLASHMAN\n",
      "https://profile.theguardian.com/user/id/4259440\n",
      "\n",
      "Trump appears to be pouring petrol on the bonfire, the **RIOT**s are his best asset right now & he knows it.\n"
     ]
    }
   ],
   "source": [
    "target = 'decolon'\n",
    "target = 'science'\n",
    "target = 'riot'\n",
    "\n",
    "\n",
    "xx = [x for x in all_comments if target.lower() in x.lower() and  len(x) > 20]\n",
    "yy = [x for x in all_comments if '#pin' in x.lower() and 2000 > len(x) > 20]\n",
    "\n",
    "#print('\\n\\n'.join( ['\\n\\n'.join(x) for x in zip(xx,yy)])  )\n",
    "\n",
    "\n",
    "#print( '\\n\\n'.join(xx).replace(target, ) )\n",
    "pxx = re.compile(target, re.I)\n",
    "print( pxx.sub('**' + target.upper() + '**', \n",
    "              '\\n\\n'.join(xx)) )\n",
    "               \n",
    "#print( '\\n\\n'.join(xx) )\n"
   ]
  },
  {
   "cell_type": "code",
   "execution_count": 29,
   "metadata": {},
   "outputs": [
    {
     "data": {
      "text/plain": [
       "36"
      ]
     },
     "execution_count": 29,
     "metadata": {},
     "output_type": "execute_result"
    }
   ],
   "source": []
  },
  {
   "cell_type": "code",
   "execution_count": null,
   "metadata": {},
   "outputs": [],
   "source": []
  }
 ],
 "metadata": {
  "kernelspec": {
   "display_name": "NLPkernel",
   "language": "python",
   "name": "nlpkernel"
  },
  "language_info": {
   "codemirror_mode": {
    "name": "ipython",
    "version": 3
   },
   "file_extension": ".py",
   "mimetype": "text/x-python",
   "name": "python",
   "nbconvert_exporter": "python",
   "pygments_lexer": "ipython3",
   "version": "3.6.5"
  }
 },
 "nbformat": 4,
 "nbformat_minor": 2
}
