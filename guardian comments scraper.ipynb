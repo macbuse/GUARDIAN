{
 "cells": [
  {
   "cell_type": "raw",
   "metadata": {},
   "source": [
    "# Basic scraping for Guardian discussions u"
   ]
  },
  {
   "cell_type": "code",
   "execution_count": 1,
   "metadata": {},
   "outputs": [
    {
     "name": "stdout",
     "output_type": "stream",
     "text": [
      "[master 61c604e] web\n",
      " 1 file changed, 6 insertions(+)\n",
      " create mode 100644 tags\n",
      "Counting objects: 3, done.\n",
      "Delta compression using up to 12 threads.\n",
      "Compressing objects: 100% (3/3), done.\n",
      "Writing objects: 100% (3/3), 489 bytes | 489.00 KiB/s, done.\n",
      "Total 3 (delta 1), reused 0 (delta 0)\n",
      "remote: Resolving deltas: 100% (1/1), completed with 1 local object.\u001b[K\n",
      "To https://github.com/macbuse/GUARDIAN.git\n",
      "   0a936c8..61c604e  master -> master\n"
     ]
    }
   ],
   "source": [
    "! ./.g\n"
   ]
  },
  {
   "cell_type": "code",
   "execution_count": 59,
   "metadata": {},
   "outputs": [],
   "source": [
    "with open('guardian comments scraper.ipynb','r') as fp:\n",
    "    nb = fp.read()"
   ]
  },
  {
   "cell_type": "code",
   "execution_count": 60,
   "metadata": {},
   "outputs": [],
   "source": [
    "import re\n",
    "\n",
    "pp = re.compile(\"(https://www.the.*?)'\")\n",
    "lks = pp.findall(nb)\n",
    "\n",
    "with open('links.txt','a') as fp:\n",
    "    fp.write('\\n'.join(lks))"
   ]
  },
  {
   "cell_type": "code",
   "execution_count": 2,
   "metadata": {},
   "outputs": [],
   "source": [
    "import re \n",
    "import requests\n",
    "import pickle\n",
    "import json"
   ]
  },
  {
   "cell_type": "code",
   "execution_count": 9,
   "metadata": {},
   "outputs": [],
   "source": [
    "article_url = 'https://www.theguardian.com/commentisfree/2020/aug/19/ditch-the-algorithm-generation-students-a-levels-politics'\n",
    "article_url = 'https://www.theguardian.com/commentisfree/2020/aug/21/joe-biden-democrat-convention-nice-guy-trump-fight'\n",
    "article_url = 'https://www.theguardian.com/commentisfree/2020/aug/23/the-cruel-exams-algorithm-has-laid-bare-the-unfairness-at-the-heart-of-our-schools'\n",
    "article_url = 'https://www.theguardian.com/commentisfree/2020/sep/01/us-mainstream-right-vigilante-terror'\n",
    "article_url = 'https://www.theguardian.com/commentisfree/2020/aug/31/politicians-covid-19-statistics-statisticians'\n",
    "article_url = 'https://www.theguardian.com/commentisfree/2021/apr/14/boris-johnson-is-telling-scotland-that-the-union-is-no-longer-based-on-consent'\n",
    "article_url = 'https://www.theguardian.com/commentisfree/2021/may/10/retail-politics-movements-polarising-projects-promise'"
   ]
  },
  {
   "cell_type": "code",
   "execution_count": 11,
   "metadata": {},
   "outputs": [],
   "source": [
    "article_url = 'https://www.theguardian.com/commentisfree/2020/sep/29/rival-scientists-lockdowns-scientific-covid-19'\n",
    "article_url = 'https://www.theguardian.com/commentisfree/2020/oct/08/johnson-and-sturgeon-will-need-a-better-philosophy-than-precaution-to-rid-us-of-covid'\n",
    "article_url = 'https://www.theguardian.com/commentisfree/2020/oct/10/continual-local-lockdowns-answer-covid-control'\n",
    "article_url = 'https://www.theguardian.com/commentisfree/2020/oct/11/the-rebel-scientists-cause-would-be-more-persuasive-if-it-werent-so-half-baked'\n",
    "\n",
    "article_url = 'https://www.theguardian.com/commentisfree/2021/apr/03/undermining-the-astrazeneca-jab-is-a-dangerous-act-of-political-folly#comment-148440261'\n",
    "article_url = 'https://www.theguardian.com/commentisfree/2021/apr/09/boris-johnson-brexit-belfast-violence-eu-good-friday-agreement'\n",
    "article_url ='https://www.theguardian.com/commentisfree/2021/apr/02/culture-war-government-race-report'\n",
    "article_url = 'https://www.theguardian.com/commentisfree/2021/mar/18/britain-sunny-vaccine-optimism-april-delivery-delay'\n",
    "article_url ='https://www.theguardian.com/commentisfree/2021/apr/14/boris-johnson-is-telling-scotland-that-the-union-is-no-longer-based-on-consent'\n",
    "article_url = 'https://www.theguardian.com/commentisfree/2021/apr/15/britain-harness-social-sciences-covid-pandemic-deprivation'\n",
    "article_url = 'https://www.theguardian.com/commentisfree/2021/apr/16/government-race-report-evidence#comment-148662066'\n",
    "article_url ='https://www.theguardian.com/commentisfree/2021/apr/20/britain-falling-birthrate-covid-pandemic-conservatives-removed-support-for-parents'\n",
    "article_url = 'https://www.theguardian.com/commentisfree/2021/apr/21/bmi-eating-disorder-pandemic-treatment'\n",
    "article_url = 'https://www.theguardian.com/commentisfree/2021/apr/30/government-delays-covid-public-inquiry-health-crisis'\n",
    "article_url = 'https://www.theguardian.com/commentisfree/2021/may/07/humiliation-hartlepool-smalltown-detective-di-starmer'\n",
    "article_url ='https://www.theguardian.com/commentisfree/2021/aug/06/uk-government-experts-vaccinating-under-16s'\n",
    "article_url = 'https://www.theguardian.com/commentisfree/2021/aug/01/there-is-a-case-for-vaccine-passports-but-ministers-are-failing-to-make-it'\n",
    "article_url = 'https://www.theguardian.com/commentisfree/2021/aug/09/america-is-flying-blind-when-it-comes-to-the-delta-variant'\n",
    "article_url = 'https://www.theguardian.com/commentisfree/2021/aug/10/covid-vaccines-britain-scientific-solution-jabs'\n",
    "article_url = 'https://www.theguardian.com/commentisfree/2021/aug/13/denial-anti-vaxxers-climate-sceptics'\n",
    "article_url = 'https://www.theguardian.com/commentisfree/2018/apr/11/bbc-andrew-neil-media-politics'\n",
    "\n",
    "article_url = 'https://www.theguardian.com/commentisfree/2021/aug/15/vaccine-passports-are-less-a-threat-to-liberty-than-a-mark-of-solidarity'\n",
    "article_url = 'https://www.theguardian.com/theobserver/commentisfree/2021/aug/14/will-we-reach-herd-immunity-for-the-new-coronavirus'\n",
    "article_url = 'https://www.theguardian.com/commentisfree/2021/aug/15/vaccine-hesitancy-broken-relationship-state-conspiracy-theorists'\n",
    "article_url = 'https://www.theguardian.com/commentisfree/2021/aug/17/dominic-raab-news-foreign-secretary-taliban-kabul'\n",
    "article_url= 'https://www.theguardian.com/commentisfree/2021/dec/11/so-which-of-these-politicians-is-a-neoliberal-not-one-of-them'\n",
    "\n",
    "article_url = 'https://www.theguardian.com/commentisfree/2021/dec/12/omicron-is-sneaky-it-could-be-fatal-for-us-or-for-our-faith-in-government'"
   ]
  },
  {
   "cell_type": "code",
   "execution_count": 3,
   "metadata": {},
   "outputs": [],
   "source": [
    "article_url ='https://www.theguardian.com/commentisfree/2021/dec/06/google-silicon-valley-ai-timnit-gebru'\n",
    "article_url = 'https://www.theguardian.com/commentisfree/2021/dec/20/rightwingers-us-social-change-coming'\n",
    "article_url = 'https://www.theguardian.com/commentisfree/2021/dec/22/omicron-covid-restrictions-young-people'"
   ]
  },
  {
   "cell_type": "code",
   "execution_count": null,
   "metadata": {},
   "outputs": [],
   "source": [
    "key = my_keys.keys['guardian']"
   ]
  },
  {
   "cell_type": "code",
   "execution_count": 4,
   "metadata": {},
   "outputs": [
    {
     "name": "stdout",
     "output_type": "stream",
     "text": [
      "/p/k4vhe\n",
      "getting comments page no. 1\n",
      "there are 13 pages\n",
      "getting comments page no. 2\n",
      "getting comments page no. 3\n",
      "getting comments page no. 4\n",
      "getting comments page no. 5\n",
      "getting comments page no. 6\n",
      "getting comments page no. 7\n",
      "getting comments page no. 8\n",
      "getting comments page no. 9\n",
      "getting comments page no. 10\n",
      "getting comments page no. 11\n",
      "getting comments page no. 12\n",
      "getting comments page no. 13\n",
      "archiving to k4vhe.pkl\n"
     ]
    }
   ],
   "source": [
    "#scrape the page and get the short url\n",
    "# 15/8/21  this failed and gave /p/temp\n",
    "short_url_pp =  re.compile('\"shortUrlId\":\"(.*?)\"')\n",
    "\n",
    "r = requests.get(article_url)\n",
    "mm = short_url_pp.search(r.text)\n",
    "short_url = mm.group(1)\n",
    "uu = r.text\n",
    "print(short_url)\n",
    "\n",
    "#the short url allows us to access the discussion\n",
    "# 15/8/21 api.nextgen.guardianapps.co.uk/discussion/ failed on \n",
    "# https://discussion.theguardian.com/discussion-api/discussion/p/tfmxg\n",
    "comments_url = 'https://api.nextgen.guardianapps.co.uk/discussion/%s.json'%short_url\n",
    "params = {'orderBy' : 'newest',\n",
    "          'pageSize' : 25,\n",
    "          'displayThreaded' : 'true',\n",
    "          'commentsClosed' : 'false',\n",
    "          'page' : '',\n",
    "          'maxResponses' : 50\n",
    "         }\n",
    "\n",
    "json_data =  []\n",
    "start_page  = 1\n",
    "last_page = None\n",
    "\n",
    "\n",
    "for num_page in range(start_page, 10**4):\n",
    "    print('getting comments page no.', num_page)\n",
    "    params['page'] = num_page\n",
    "    r = requests.get( comments_url, params=params)\n",
    "    json_data.append( r.text)\n",
    "    #The last page is a field in the json object\n",
    "    #I don't need to read this as json I could do a regexp\n",
    "    if num_page == start_page:\n",
    "        json_dict = json.loads(r.text)\n",
    "        last_page = json_dict['lastPage']\n",
    "        print('there are %d pages'%last_page)\n",
    "    if num_page == last_page : break\n",
    "        \n",
    "\n",
    "fn = '%s.pkl'%short_url.split('/')[-1]\n",
    "print('archiving to %s'%fn)\n",
    "with open(fn,'wb') as fp:\n",
    "    pickle.dump(json_data,fp)"
   ]
  },
  {
   "cell_type": "code",
   "execution_count": 8,
   "metadata": {},
   "outputs": [],
   "source": [
    "json_data = pickle.load(open('tgqq8.pkl','rb'))"
   ]
  },
  {
   "cell_type": "markdown",
   "metadata": {},
   "source": [
    "## remember each page of comments has been stored separately"
   ]
  },
  {
   "cell_type": "code",
   "execution_count": 9,
   "metadata": {},
   "outputs": [
    {
     "data": {
      "text/plain": [
       "31"
      ]
     },
     "execution_count": 9,
     "metadata": {},
     "output_type": "execute_result"
    }
   ],
   "source": [
    "dd = json.loads(json_data[0])\n",
    "len(json_data)"
   ]
  },
  {
   "cell_type": "code",
   "execution_count": 4,
   "metadata": {},
   "outputs": [
    {
     "data": {
      "text/plain": [
       "dict_keys(['postedCommentHtml', 'commentsHtml', 'commentCount', 'refreshStatus', 'lastPage', 'paginationHtml'])"
      ]
     },
     "execution_count": 4,
     "metadata": {},
     "output_type": "execute_result"
    }
   ],
   "source": [
    "xx = json.loads(json_data[0])\n",
    "xx.keys()"
   ]
  },
  {
   "cell_type": "code",
   "execution_count": 136,
   "metadata": {},
   "outputs": [
    {
     "name": "stdout",
     "output_type": "stream",
     "text": [
      " class=\"d-comment\n",
      "            d-comment--top-level\"\n",
      "           id=\"comment-144422422\"\n",
      "           data-comment-id=\"144422422\"\n",
      "           data-comment-author=\"Hushing\"\n",
      "           data-comment-replies=\"0\"\n",
      "           data-comment-timestamp=\"2020-10-11T14:25:06.000+01:00\"\n",
      "           data-comment-author-id=\"12407494\"\n",
      "           data-comment-highlighted=\"false\"\n",
      "           itemscope itemtype=\"http://schema.org/Comment\">\n",
      "\n",
      "    <div class=\"d-comment__inner d-comment__inner--top-level\">\n",
      "        <div class=\"\n"
     ]
    }
   ],
   "source": [
    "print( xx['commentsHtml'][200:700])"
   ]
  },
  {
   "cell_type": "code",
   "execution_count": 16,
   "metadata": {},
   "outputs": [],
   "source": [
    "pa = re.compile('data-comment-author=\"(.*?)\"')\n",
    "pid = re.compile('data-comment-author-id=\"(\\d+)')\n",
    "pcid = re.compile('\\sid=\"comment-(.*?)\"')\n",
    "pp = re.compile('<li class=\"d-comment(.*?)>',re.DOTALL)\n",
    "\n",
    "auths = []\n",
    "md = []\n",
    "for xx in json_data:\n",
    "    hh = json.loads(xx)['commentsHtml']\n",
    "    auths.extend(list( zip(pa.findall(hh), \n",
    "                           pid.findall(hh)\n",
    "                          )))\n",
    "    md.extend(pp.findall(hh))\n",
    "\n",
    "auths = list(set(auths))\n",
    "auths.sort(key=lambda x : x[0].lower())\n"
   ]
  },
  {
   "cell_type": "code",
   "execution_count": 102,
   "metadata": {},
   "outputs": [],
   "source": [
    "#print( '\\n'.join([x for x in md if 'pinkie' in x.lower()]))"
   ]
  },
  {
   "cell_type": "markdown",
   "metadata": {},
   "source": [
    "https://discussion.theguardian.com/comment-permalink/144375739"
   ]
  },
  {
   "cell_type": "code",
   "execution_count": 8,
   "metadata": {},
   "outputs": [],
   "source": [
    "auths = dict(auths)"
   ]
  },
  {
   "cell_type": "code",
   "execution_count": 9,
   "metadata": {},
   "outputs": [
    {
     "data": {
      "text/plain": [
       "'https://api.nextgen.guardianapps.co.uk/discussion//p/hvpq8.json'"
      ]
     },
     "execution_count": 9,
     "metadata": {},
     "output_type": "execute_result"
    }
   ],
   "source": [
    "comments_url"
   ]
  },
  {
   "cell_type": "code",
   "execution_count": 10,
   "metadata": {},
   "outputs": [
    {
     "ename": "FeatureNotFound",
     "evalue": "Couldn't find a tree builder with the features you requested: lxml. Do you need to install a parser library?",
     "output_type": "error",
     "traceback": [
      "\u001b[0;31m---------------------------------------------------------------------------\u001b[0m",
      "\u001b[0;31mFeatureNotFound\u001b[0m                           Traceback (most recent call last)",
      "\u001b[0;32m<ipython-input-10-913f43dfdc03>\u001b[0m in \u001b[0;36m<module>\u001b[0;34m\u001b[0m\n\u001b[1;32m     22\u001b[0m                    for a,b,d,c in zip(auth, comment_id, auth_id, raw)]\n\u001b[1;32m     23\u001b[0m \u001b[0;34m\u001b[0m\u001b[0m\n\u001b[0;32m---> 24\u001b[0;31m \u001b[0mall_texts\u001b[0m \u001b[0;34m=\u001b[0m \u001b[0;34m[\u001b[0m \u001b[0mhtml2comments\u001b[0m\u001b[0;34m(\u001b[0m\u001b[0mpage\u001b[0m\u001b[0;34m)\u001b[0m \u001b[0;32mfor\u001b[0m \u001b[0mpage\u001b[0m \u001b[0;32min\u001b[0m \u001b[0mjson_data\u001b[0m\u001b[0;34m[\u001b[0m\u001b[0;34m:\u001b[0m\u001b[0;34m]\u001b[0m \u001b[0;34m]\u001b[0m\u001b[0;34m\u001b[0m\u001b[0;34m\u001b[0m\u001b[0m\n\u001b[0m\u001b[1;32m     25\u001b[0m \u001b[0;34m\u001b[0m\u001b[0m\n\u001b[1;32m     26\u001b[0m \u001b[0;34m\u001b[0m\u001b[0m\n",
      "\u001b[0;32m<ipython-input-10-913f43dfdc03>\u001b[0m in \u001b[0;36m<listcomp>\u001b[0;34m(.0)\u001b[0m\n\u001b[1;32m     22\u001b[0m                    for a,b,d,c in zip(auth, comment_id, auth_id, raw)]\n\u001b[1;32m     23\u001b[0m \u001b[0;34m\u001b[0m\u001b[0m\n\u001b[0;32m---> 24\u001b[0;31m \u001b[0mall_texts\u001b[0m \u001b[0;34m=\u001b[0m \u001b[0;34m[\u001b[0m \u001b[0mhtml2comments\u001b[0m\u001b[0;34m(\u001b[0m\u001b[0mpage\u001b[0m\u001b[0;34m)\u001b[0m \u001b[0;32mfor\u001b[0m \u001b[0mpage\u001b[0m \u001b[0;32min\u001b[0m \u001b[0mjson_data\u001b[0m\u001b[0;34m[\u001b[0m\u001b[0;34m:\u001b[0m\u001b[0;34m]\u001b[0m \u001b[0;34m]\u001b[0m\u001b[0;34m\u001b[0m\u001b[0;34m\u001b[0m\u001b[0m\n\u001b[0m\u001b[1;32m     25\u001b[0m \u001b[0;34m\u001b[0m\u001b[0m\n\u001b[1;32m     26\u001b[0m \u001b[0;34m\u001b[0m\u001b[0m\n",
      "\u001b[0;32m<ipython-input-10-913f43dfdc03>\u001b[0m in \u001b[0;36mhtml2comments\u001b[0;34m(x)\u001b[0m\n\u001b[1;32m      4\u001b[0m \u001b[0;32mdef\u001b[0m \u001b[0mhtml2comments\u001b[0m\u001b[0;34m(\u001b[0m\u001b[0mx\u001b[0m\u001b[0;34m)\u001b[0m\u001b[0;34m:\u001b[0m\u001b[0;34m\u001b[0m\u001b[0;34m\u001b[0m\u001b[0m\n\u001b[1;32m      5\u001b[0m     \u001b[0mtt\u001b[0m \u001b[0;34m=\u001b[0m \u001b[0mjson\u001b[0m\u001b[0;34m.\u001b[0m\u001b[0mloads\u001b[0m\u001b[0;34m(\u001b[0m\u001b[0mx\u001b[0m\u001b[0;34m)\u001b[0m\u001b[0;34m\u001b[0m\u001b[0;34m\u001b[0m\u001b[0m\n\u001b[0;32m----> 6\u001b[0;31m     \u001b[0msoup\u001b[0m \u001b[0;34m=\u001b[0m \u001b[0mBeautifulSoup\u001b[0m\u001b[0;34m(\u001b[0m\u001b[0mtt\u001b[0m\u001b[0;34m[\u001b[0m\u001b[0;34m'commentsHtml'\u001b[0m\u001b[0;34m]\u001b[0m\u001b[0;34m,\u001b[0m  \u001b[0;34m\"lxml\"\u001b[0m\u001b[0;34m)\u001b[0m\u001b[0;34m\u001b[0m\u001b[0;34m\u001b[0m\u001b[0m\n\u001b[0m\u001b[1;32m      7\u001b[0m     raw = [ comment.text for comment in  \n\u001b[1;32m      8\u001b[0m             soup.findAll('div', {'class' : \"d-comment__body\"}) ]\n",
      "\u001b[0;32m~/anaconda3/envs/NLP/lib/python3.8/site-packages/bs4/__init__.py\u001b[0m in \u001b[0;36m__init__\u001b[0;34m(self, markup, features, builder, parse_only, from_encoding, exclude_encodings, element_classes, **kwargs)\u001b[0m\n\u001b[1;32m    243\u001b[0m             \u001b[0mbuilder_class\u001b[0m \u001b[0;34m=\u001b[0m \u001b[0mbuilder_registry\u001b[0m\u001b[0;34m.\u001b[0m\u001b[0mlookup\u001b[0m\u001b[0;34m(\u001b[0m\u001b[0;34m*\u001b[0m\u001b[0mfeatures\u001b[0m\u001b[0;34m)\u001b[0m\u001b[0;34m\u001b[0m\u001b[0;34m\u001b[0m\u001b[0m\n\u001b[1;32m    244\u001b[0m             \u001b[0;32mif\u001b[0m \u001b[0mbuilder_class\u001b[0m \u001b[0;32mis\u001b[0m \u001b[0;32mNone\u001b[0m\u001b[0;34m:\u001b[0m\u001b[0;34m\u001b[0m\u001b[0;34m\u001b[0m\u001b[0m\n\u001b[0;32m--> 245\u001b[0;31m                 raise FeatureNotFound(\n\u001b[0m\u001b[1;32m    246\u001b[0m                     \u001b[0;34m\"Couldn't find a tree builder with the features you \"\u001b[0m\u001b[0;34m\u001b[0m\u001b[0;34m\u001b[0m\u001b[0m\n\u001b[1;32m    247\u001b[0m                     \u001b[0;34m\"requested: %s. Do you need to install a parser library?\"\u001b[0m\u001b[0;34m\u001b[0m\u001b[0;34m\u001b[0m\u001b[0m\n",
      "\u001b[0;31mFeatureNotFound\u001b[0m: Couldn't find a tree builder with the features you requested: lxml. Do you need to install a parser library?"
     ]
    }
   ],
   "source": [
    "import importlib\n",
    "\n",
    "importlib.reload(bs4)\n",
    "from bs4 import BeautifulSoup\n",
    "\n",
    "def html2comments(x):\n",
    "    tt = json.loads(x)\n",
    "    soup = BeautifulSoup(tt['commentsHtml'],  \"lxml\")\n",
    "    raw = [ comment.text for comment in  \n",
    "            soup.findAll('div', {'class' : \"d-comment__body\"}) ]\n",
    "    \n",
    "    metadata = soup.findAll('span', {'class' : \"d-comment__author\"})\n",
    "    \n",
    "    \n",
    "    auth = [ x.text.upper().strip() for x in metadata]\n",
    "    auth_id = [ x.find('a')['href'] for x in metadata]\n",
    "    #this was a pain to do really\n",
    "    #the problem is blocked comments\n",
    "    comment_id = [ x['id'][len('comment-'):] for x in soup.findAll('li')]\n",
    " \n",
    "    \n",
    "    ss = '##{}\\nhttps://discussion.theguardian.com/comment-permalink/{}\\n{}\\n\\n{}'\n",
    "    return [ ss.format(a,b,d,c.strip())  \n",
    "                   for a,b,d,c in zip(auth, comment_id, auth_id, raw)]\n",
    "     \n",
    "all_texts = [ html2comments(page) for page in json_data[:] ]\n",
    "\n",
    "\n",
    "from itertools import chain\n",
    "all_comments = list(chain.from_iterable(all_texts))\n",
    "    "
   ]
  },
  {
   "cell_type": "markdown",
   "metadata": {},
   "source": [
    "# Random data hacking"
   ]
  },
  {
   "cell_type": "code",
   "execution_count": 5,
   "metadata": {
    "scrolled": true
   },
   "outputs": [
    {
     "data": {
      "text/plain": [
       "[('##ONETONOFMETAL', 12),\n",
       " ('##BASEBALLISBEST', 10),\n",
       " ('##3RDCLASSPHYSICIST', 8),\n",
       " ('##MINTAKA', 6),\n",
       " ('##MARKBLR', 5),\n",
       " ('##DEKEDEKE', 5),\n",
       " ('##VERETO', 5),\n",
       " ('##STILLGRIZZLY', 5)]"
      ]
     },
     "execution_count": 5,
     "metadata": {},
     "output_type": "execute_result"
    }
   ],
   "source": [
    "A = [x.split('\\n')[0] for x in all_comments]\n",
    "from collections import Counter\n",
    "AN = Counter(A)\n",
    "sorted([(x,y) for x,y in AN.items() if y > 4], key=lambda x : -x[1]) "
   ]
  },
  {
   "cell_type": "code",
   "execution_count": 15,
   "metadata": {},
   "outputs": [
    {
     "name": "stdout",
     "output_type": "stream",
     "text": [
      "[master d2e0e21] web\n",
      " 2 files changed, 117 insertions(+), 437 deletions(-)\n",
      " create mode 100644 kvf22.pkl\n",
      "Enumerating objects: 6, done.\n",
      "Counting objects: 100% (6/6), done.\n",
      "Delta compression using up to 4 threads\n",
      "Compressing objects: 100% (4/4), done.\n",
      "Writing objects: 100% (4/4), 368.09 KiB | 1.38 MiB/s, done.\n",
      "Total 4 (delta 2), reused 0 (delta 0)\n",
      "remote: Resolving deltas: 100% (2/2), completed with 2 local objects.\u001b[K\n",
      "To https://github.com/macbuse/GUARDIAN.git\n",
      "   d397016..d2e0e21  master -> master\n"
     ]
    }
   ],
   "source": [
    "! ./.g\n"
   ]
  },
  {
   "cell_type": "code",
   "execution_count": 7,
   "metadata": {},
   "outputs": [
    {
     "name": "stdout",
     "output_type": "stream",
     "text": [
      "##SUPERSTRIKER\n",
      "https://discussion.theguardian.com/comment-permalink/153639318\n",
      "https://profile.theguardian.com/user/id/104468511\n",
      "\n",
      "I think we all know what a neo liberal is those opposed to government intervention, on economic or broad social grounds. Thatcher and Reagan fall into that category, even if few of their policies where neo liberal. They set the ball rolling for the neo liberals who came after them. Thatcher sold off the council houses that neo liberals policies use to drive millions into the yokes for the rentier class to live of their backs. Private rent tenants have their noses held to the grindwheel lest they fall into arrears and eviction.\n",
      "Tony Blair? Not so much. Cameron? A fucking halfwit, but a full frontal attack on the welfare state saw the rise of food banks, homelessness and a general hatred of those ousted out of the labour market. Sure tools to drive the neo liberal agenda.\n",
      "The fact that some I'll informed people use the term as a catchall insult in the same way the idiotic Right use the term socialist or Marxist does not mean their is no legitimate use of the term.\n"
     ]
    }
   ],
   "source": [
    "print(all_comments[0])"
   ]
  },
  {
   "cell_type": "code",
   "execution_count": 6,
   "metadata": {},
   "outputs": [
    {
     "name": "stdout",
     "output_type": "stream",
     "text": [
      "##ROBERTDAVIE\n",
      "https://discussion.theguardian.com/comment-permalink/153850161\n",
      "https://profile.theguardian.com/user/id/12652813\n",
      "\n",
      "The “greed is good” mantra has encouraged the off-shoring of our industries and jobs at great cost to the Western World and all because a small wealthy elite has put their own interests ahead of the common good. Now look where we find ourselves. \n",
      "Capitalism is a system, like any, that can be changed to suit the interests of its practitioners if, and when, they realize the need to do so. This is not beyond the realm of possibility in western democracies if they can deal with the vested interests that have largely captured it in our time.\n",
      "In any form of a free enterprise capitalist economy wealth will inevitably accrue upwards towards those with the resources to capture it and this process has only been accelerated by globalisation. This extraction of wealth from western nations is weakening them and undermining democracy to the comfort of those many authoritarian regimes who now openly challenge and reject such tried and tested pillars of democracy as the rule of law.\n",
      "Our political parties have been following the same neoliberalist trajectory for the last fifty years and where has it got us? We have blindly off-shored our industries, jobs and much of the wealth of our respective nations in the interests of the wealthy few. As industries and jobs have left our shores an increasing tax burden has fallen on the shoulders of those small businesses and workers who are still producing. Workers experience this as a reduction in wages and conditions and the community experiences this as a reduction in public spending on benefits and services.\n",
      "As long as wealth accrues upwards towards the wealthy elite, through the mechanism of globalization and its’ off-shoring of industries and jobs, and through the continual use of political influence by this elite to ensure they pay little or no taxes then western nations will decline. When wealth is extracted from the economy through the loss of industries and their jobs, and through tax policies favouring big business, then the flow of goods and services declines as more people become dependent on low-income jobs or welfare. \n",
      "For evidence of where this will lead us, just look at what happened on January 6 when those vested interests realised their man was going to lose office. That is why sensible governments must develop feedback mechanisms to deal with this tendency towards the concentration of wealth and its extraction from the economy. Because along with this concentration of wealth goes the concentration of political power in the hands of the few who are then tempted to use it to further their own interests.\n",
      "The extent of the extraction of wealth from the US alone is truly staggering, “In the past four decades—under Democrats and Republicans alike—$50 trillion has moved from the bottom 90 percent to the top 1 percent of Americans.”https://thebulwark.com/fifty-trillion-reasons-why/\n",
      "“And while this was happening, America’s middle class—the wonder of the world—was decimated. Two generations have grown to adulthood not even knowing what “middle class” means. Those generations have no conception of a time when factory workers could afford to own a home, two cars, send their kids to college, pay their medical bills, take a vacation, retire with dignity. What was once a normal and basic reality now seems like fantasy to people who have grown up in a work environment where the minimum wage today has half the buying power it did in 1968.”https://thebulwark.com/fifty-trillion-reasons-why/\n",
      "Fewer tax paying workers and with big business paying little or no tax weakens western democracy and all it represents in this world. We see this at work in the Chinese who believe the US has been seriously and permanently weakened by the global financial crisis because, the fact is, that crisis has put China in a stronger economic and strategic position than the US. We see this strategic edge in the superiority of China over the US emerging in areas like AI, Quantum Computing and Hypervelocity missile technology where China has the resources to pursue these areas and the cash strapped US does not.\n",
      "The only way forward for the US and the Western World is to now increase its spending on infrastructure which includes everything from education to defence. To do so will require the raising of corporate taxes to the same levels as they were in the post war period when the West was at the leading edge of global civilisation.\n",
      "Western democracies must change course or we will only impoverish ourselves and all that we stand for. Those inspiring values of human rights, rule of law and progressive thinking that have guided the development of our civilisation will be rejected by humanity if it does not see them as a path towards a better life.\n",
      "\n",
      "##THARATAPU\n",
      "https://discussion.theguardian.com/comment-permalink/153852036\n",
      "https://profile.theguardian.com/user/id/100862802\n",
      "\n",
      "This is a powerful article by Ms Solnit; the thrust of it, that societal change and progress happen both quietly and dramatically, resonates with my observations over the 57-odd years of my life. A few examples:When I was born (in Australia) indigenous people were not counted as citizens, instead defined as 'fauna'. This changed dramatically in a 1967 referendum (one of the few to have ever been carried in Australia) where the majority of Australians voted for Aboriginal people to be full citizens. Aboriginal traditional culture was seen as 'backward' or 'stone age' but is now celebrated by the majority of Australians. Further, the recognition of the violence and injustice against Aboriginal people that arrived with white colonisation is now a mainstream social endeavor.When I was born the state determined a narrow set of grounds for divorce with documentary proof of such things as adultery, drunkenness and desertion leading in many cases to gross intrusions on the privacy of individuals. This was overturned in 1975 by 'no-fault divorce' law where the parties were seen as equal and could divorce by mutual agreement. A Family Court was also established to rule on cases where mutual agreement could not be reached.When I was born, all Australian States except Queensland still used capital punishment. The last execution was in 1968 in Victoria. From 1968 until 1985 each of the states progressively removed capital punishment from their books, and in 2010 the Federal Government made it illegal for any state to reimpose it. Further, it is illegal to extradite a prisoner in Australia to a jurisdiction where capital punishment is legal. When I was born, homosexuality was illegal in all states in Australia with heavy penalties including lengthy prison sentences. The states gradually decriminalised it over the intervening years. In 1994 the federal Labor Govt introduced anti-discrimination legislation; in 2017 a majority of Australians (61.6 per cent) in a plebiscite to legalise same sex marriage.When I was born, the ownership and use of firearms was very widespread and poorly regulated in Australia. In New South Wales for instance essentially anyone over 18 could purchase and use a rifle (including semi-automatic). No license or registration was required. In 1996 after the worst mass shooting in Australia's history (35 people killed in one incident), the Federal govt led the states in enacting powerful firearms laws that removed thousands of guns from the community, proper licensing and registration regimes and the need for individuals (eg. pastoralists) to prove a genuine need to own firearms. There have been no mass shootings in Australia since. In a recent Essential poll, 6% of Australians thought the laws were \"too strong\", 40% thought \"about right\" and 45% thought \"not strong enough\"The 'river' analogy in the article is terrific and rhymes very well with my understanding of the world as I have observed it over the last half century or so. I fully agree that this river cannot be stopped no matter how much a very few powerful and not-so-powerful people would like to go back to a world that is no longer and will never again exist.\n",
      "\n",
      "##WILDIRISH\n",
      "https://discussion.theguardian.com/comment-permalink/153851888\n",
      "https://profile.theguardian.com/user/id/18223318\n",
      "\n",
      "I do have to say I find this article to be a bit naive as far as truly understanding the underlying issues of what America is dealing with. In my heart I feel that too many people-both left and right have simply lost respect and common decency towards each other. I suppose personally My inner moto is that if I meet someone who is different from me-I may not agree with them but I will treat them first as a fellow human being-and I will try hard to see their point of view.I in no way support racism. And NO I did not vote for DT. Somehow though being White and identifying as white has become a bad thing. I cannot even write the very atrocious attacks that I have endured just because I am White. A lot of anger from the left against me for reasons I will never understand. And my politics are kind of both left and right. As a Conservative who values Freedom in the USA-I am still very deeply troubled by the crime waves and sudden openness to try to legalize as many drugs as possible. All while our Country is dealing with a huge gap between those who are educated and those who are not. If we legalize drugs in America I see all hell breaking loose. I truly do. I feel as if I am watching My Country landslide down into a major mess. It's not about race or ethnicity. For me it is about the Values our Country is built on. I have been the target of a Lot of attacks on me by a certain ethnic group. It's bizarre because they will tell me that I have to Move. I have to go away. I don't belong. And Yes, I was here first. As a Disabled person who has extra difficulties with everything- becoming a target and having to fend for my survival by a lot of disrespectful people who really do not care about how hard-- truly truly hard my life is--I don't understand why I have to fear them? And My Heart hurts for Race relations in our Country. I am mostly in the middle. Singled out for not belonging and then picked on. So, this article to me doesn't examine the fundamental problems we are facing which is that there are groups now who want to roll on over the Gentle, the Meek, the Weary, the Disabled and the beaten down. And in my opinion, it's really got to do with respect for the common man and woman going by the wayside. Respect disintegrating into a yell and a disregard for simple Common decency. Then again, I am proud of my morals. And I was raised in probably what would be classified as a Pro-Communist on one side and the other Parent clinging to Catholicism and trying so very hard to instill a great sense of Moral dignity and sense of Right and wrong in her children. I feel like in many ways my grandparents and my mom raised me. While I endured the other leftist side as best as I could. It is VERY difficult as a child to want to put up a Christmas tree bc that was what we were raised with only to suddenly be given a book entitled, \"The House without a Christmas Tree\"-and by the way noone had died-but made to grieve and being shunned for loving and enjoying Christmas. I have no idea how my Mom made it so long. And she was the minority. So you see, it's not really about Race. This all goes much deeper.\n",
      "\n",
      "##SABINAPARK\n",
      "https://discussion.theguardian.com/comment-permalink/153852542\n",
      "https://profile.theguardian.com/user/id/102356761\n",
      "\n",
      "You are in danger of proving his point, not answering it, by claiming the relative moral high ground for your politics and diminishing the moral value of those who hold different views.\n",
      "Your basic starting point “people can be divided into two broad groups” is a perspective that comes from seeing the world as divided into us-es and thems. Your categorisation of right wing values seems a bit negatively biased; your definition of socialism maybe over-generous. (Socialism in the proper sense of the word is not a vague concept of working together but the collective ownership of the means of production - and no major nation has gone far done this route and not turned back). \n",
      "I could for example reverse your argument by pointing out the downsides of planned economies and saying a majority of people believe in some form of market economy and only a minority believe in state planning and control - hence the majority of folk and nearly all nations are inherently right wing, not inherently left wing. But that would, in my opinion, be equally barking up the wrong tree. \n",
      "For me, answer to the question “why do we find it hard to recognise our common humanity” lies in psychology not politics. We are evolutionary designed to exist in small highly-collaborative groups and to be suspicious, even hostile, towards outsiders to that group. The tipping point for group size is speculated to be 75-150 (this fits with where chimpanzee groups break down) ie a group size where we can actively socialise and see the body language, facial signals etc of all our fellow group members. Ie we are collaborators with this we know and understand and agitators with those we don’t. \n",
      "The question, for me, in improving humanity’s lot is more a question of how we find ways to work together with our many different experiences and views when our species has ballooned to billions and technology has taken us global, than splitting into ideological groups and pointing at each other on social media. In a world beyond the social group ideology - in the form of religion or politics - takes the place of dialogue, interaction and understanding. Ever wondered where the terms “tribal politics” comes from? \n",
      "Not a view that we’ll go down well here I suspect :0)\n",
      "\n",
      "##ARDNAS1936\n",
      "https://discussion.theguardian.com/comment-permalink/153851179\n",
      "https://profile.theguardian.com/user/id/15837023\n",
      "\n",
      "Next March I'll turn 86 years of age--I'm 5 years older than my favorite politician, Bernie Sanders, and decades older than my young heroes Greta Thunberg, Stacey Abrams, AOC, Rashida Tlaib, and (in our state legislature) Chris Rabb. I was lucky. Since my father, born in 1899 on an Iowa farm, became a reader of Muckraker books and a LaFollette Progressive in the 1910s and 20s, and remained one all his life, I was raised in a political household--and was begging my high school and town libraries to send off for books on the histories and cultures of Indigenous Americans, Black Americans, Africans and all those others whose lives we under-educated white children were able to read, at best, on about one page in our history books. Instead of those who left genuine legacies, our textbooks celebrated mythic, deliberately untrue or no longer important 19th century ideas that praised white male slaveholding traitors, robber barons, banksters and Manifest Destiny land-thieves. The librarians came through for me! At age fourteen, back in 1950, I got a head start, but when young people of any era hear and learn the truth and become able to recognize the real world, they rise out of the depths of naive ignorance into educated knowledge that leads directly to the only certainty--change! The important thing is whether that change will be good, or bad, or wallowing in the swamp of sentimental false permanence. When people see the badge I've worn every day since August 2014 (which I make on my button machine) that reads BLACK LIVES MATTER, dozens ask if I have any to give away--I usually do--while only one will try to insult me as a \"do-gooder\". I reply that I'm proud of trying to do good, when the only alternatives would be to do bad, or attempt the impossible--to do nothing, which always serves the bad. I live by the wisdom in Micah 6:8, which teaches me all I need to do: \"What does the Lord require of you, humanity, but to do justice, to love mercy, and to walk humbly with your God.\" And I am sure that \"your\" God could have any name: Yahweh, Jehovah, Allah, Vishnu, Ahura Mazda, Inkulunkulu, Thunderbird, or simply your own ethical conscience.\n",
      "\n",
      "##GPWAYNE\n",
      "https://discussion.theguardian.com/comment-permalink/153852566\n",
      "https://profile.theguardian.com/user/id/2947466\n",
      "\n",
      "[The regressive right] can win the battles, but I do not believe they will, in the end, win the war.\n",
      "\n",
      "Unfortunately, I have to disagree. Every advance - for that is how I see the social and economic changes you list - is under attack. Right now, we have in the US a modest breathing space in which to gather our thoughts and marshall our forces, but it is hardly novel to observe that while some of us play by the rules of democracy and law, those who would turn the clock back will suffer no such constraints, as Trump's egregious administration proved over and over again - and continue to do so.\n",
      "I'm put in mind frequently by a social reading of Newton's third law: \"for every action there is an equal and opposite reaction\". Consider by way of an example the election of Obama to the office of US President. He himself has expressed the opinion that much of the extremist behaviour since was a reaction by the right to the affront of having a black man in the highest office in the land. The obdurate, indiscriminate opposition by Republican politicians to everything he proposed, everything he tried to do, every piece of legislation, every attempt to govern or find common ground, is testament to the 'opposite reaction', not to his political aims, but to the colour of his skin.\n",
      "And while the author limits her analysis to the US, on the global scale we only have to look at China, India, Poland, Hungary and Brazil (among others) to see the right's reaction after they lose a battle. For every step forward, the right will use rhetorical or literal force to push us two steps back; the undermining and eventual death of democracy is a profound case in point.\n",
      "\n",
      "##TIMNEAL\n",
      "https://discussion.theguardian.com/comment-permalink/153850272\n",
      "https://profile.theguardian.com/user/id/101463630\n",
      "\n",
      "The right-wing are just like my elderly cat, she hates any change and hates if we give her two days in a row the cat food she liked yesterday and then gets upset because we didn't give her it again for a week. She loves to sit in my lap but hates that my lap doesn't mold to her instantly and will spend 15 minutes working at it with her claws until we both get annoyed, and which point I kick her off and I get that glare. She jumps on the bed a night and how dare I read my book and not pay attention to her, so I put my book down to fuss over her, and I get that look. She demands to be let out, then stands half in half out and its my fault so I get that look, so I stick my toe under her rear and guide her out, so she runs to the other door and comes in through her flap and trips me up in the hallway, how dare I assume as she stood at the door and gave a loud meow she wanted to go out. And then she gives me that look because I nearly fell over her in the hallway.\n",
      "She's only happy when she's unhappy, unhappy is her happy place.\n",
      "And no her name's not Brexit, or Trump, she's Timmys cat so she's Fluffy Bum of course. She's currently punishing me by spending the day curled up on my sweater in the bottom of the wardrobe. Because no matter how much I deserve her punishment she still wants to curl up on something comfortable and familiar.\n",
      "She's 17 and a half now and so I make allowances for her cantankerous nature, I am her person after all. And I'll miss her. Unlike \"the right\"\n",
      "but like the right, she's not happy unless she has something to be unhappy about. Which like the right gets dam confusing. Is she happy or not and if not is she?\n",
      "\n",
      "##JAMESVALENCIA\n",
      "https://discussion.theguardian.com/comment-permalink/153851961\n",
      "https://profile.theguardian.com/user/id/3761271\n",
      "\n",
      "People can be seen in two broad groups :\n",
      "• Those who think all is best if the individual is left alone as much as possible to get on with it and do their best. Those who can, do more, and the others do less.\n",
      "• Those who think all is best when working together, cooperating, because collaboration achieves more for all and everyone alone.\n",
      "The first is conservative, because \"leave the individual alone\" meshes seamlesly with \"leave things as they are\" and \"protect the status quo\". It includes right wing democracy, right wing authoritariaism.\n",
      "The second is socialism (in the proper broad sense of the word : democratic socialism, anarchism, authoritarian socialism) and is the more successful of the two : all major nations (even \"the right wing free market USA\") have a significant element of democratic socialism : the joint health care, education, transport, taxation, and government interventionism.\n",
      "What's my point : \n",
      "Well my point is the answer to \"should it be so hard for so many to recognise our shared humanity?\"is that for slightly under half of humanity is right wing, valuing independence and \"leave me alone to achieve and protect my stuff\" more than \"let's work together to make everything as best as possible for all\".\n",
      "Why \"slightly less than half\" are right wing? I wouldn't put this strongly, but my guess is humanity is inherently slighlty left wing. Hence the obervation of global spread of social policy metioned above, and the extreme rarity of right wing states.\n",
      "Hence : have hope :)\n",
      "\n",
      "##AMIGODEDURRUTI\n",
      "https://discussion.theguardian.com/comment-permalink/153852133\n",
      "https://profile.theguardian.com/user/id/17488340\n",
      "\n",
      "Onward and upward...An effective opposition to exploitation, poverty, war and ecological ruin does not mean petitioning the owners and rulers of this society to pretend to be humane or to be more responsive to our needs. Capitalism always manages its managers - we need to stop being managed by them and start acting on the new terms that our times demand. All our large and small actions should aim at cutting the people who have power out of the picture, rendering them unable to act, and doing this in novel ways that can help to create a mass popular political reality that does not exist right now. We must use new forms of action that won’t produce quick results, but that can build toward something big in the future, as this social order declines, linked to similar efforts everywhere else in the world.\n",
      "The anti-wage labor direct action ethos that we need to create today is irreconcilably hostile to electoral politics. It involves sustained action in the workplace outside of and against the control of employers and unions. It means opposing all democratic, undemocratic, nationalist, racial or ethnic-based alternatives to a mass movement of the wage-earning class against capitalist social relations and the state. The best actions must have some potential to spread and become general, even if this potential to spread is solely in that they offer a strong example of what to try next.\n",
      "\n",
      "##PHILLYRED\n",
      "https://discussion.theguardian.com/comment-permalink/153850963\n",
      "https://profile.theguardian.com/user/id/15262182\n",
      "\n",
      "The problem is that the United States now has to confront its original sin: the enslavement of people of African descent. And, yes, I know that it was the colonists wot did it, but the Founding Fathers did virtually nothing to ameliorate the situation, and had no intention of abolishing slavery. It requires that the narrative of American history be re-written of which the 1619 Project is only a part. Many academic historians have been blazing this particular trail for a number of years, but only now is it entering the national bloodstream. And it's a narrative that doesn't reflect well on white Americans - we have, in no particular order, the massive exploitation of slave labor to drain, clear thousands of square miles of land (no, it wasn't the rugged pioneers who did it) across the American South and the Mississippi Valley along with the attendant brutalities and horrors of enslavement, the removal of the Cherokees and other indigenous peoples who were in the way - and then after the Civil War, the battle, which largely failed, over giving African-Americans even the most basic rights. So when you have to throw out the triumphalist Manifest Destiny narrative of white people creating the nation and replace with something that places the people who did the actual work i.e. the enslaved and the victims of this process i.e. the Native Americans, you're gonna get some blow back.\n",
      "\n",
      "##HINEKAAHU\n",
      "https://discussion.theguardian.com/comment-permalink/153852103\n",
      "https://profile.theguardian.com/user/id/105225572\n",
      "\n",
      "Part of the problem is exactly the values the US was founded on - the real ones that can be seen in the history, not the 'creation myth' ones that were never enacted. I have worked on reservations in the USA, what a shock I got to see the USA's very own apartheid system - third world diseases, health care so starved of money that essential equipment was denied. I also found out that people were left to die on the street in winter (pick up what's left after the spring thaw), saw elderly roaming shopping malls in stinking, urine-soaked clothes, beggars everywhere. Every tribe I worked with had an horrendous history of invasion and dislocation. Eventually I went to DC, and took a look at the National Mall. I was astounded by the hypocrisy of the words written down at the monument. It's not hard to work out that the 'founding fathers' happily supported the brutal, systematic invasion, theft of lands and resources, murder and rape of indigenous peoples. Then there's what has happened as a result of slavery. I mean no offense and there are some wonderful people in the USA, but given the terrible actions that the powerful have consistently visited upon the powerless - it's no surprise that there will be a day of reckoning when the 'old guard' will be confronted with the past - the real past, not the fantasy of pilgrims and 'thanks giving'.\n",
      "\n",
      "##OPRICHNIKI\n",
      "https://discussion.theguardian.com/comment-permalink/153851883\n",
      "https://profile.theguardian.com/user/id/100095977\n",
      "\n",
      "Absolutely. This commentary would be perfect for late 1920's Weimar Republic Germany. Nothing to see here, everything is going to get better!Demographics aren't enough to assume the US works past it's explicitly racist and economically segregated society. The cult of Trump has subsumed the petite bourgeois faction of small and medium sized capitalists that have been simmering in eternal anger since the end of WW2, but now the watchword is \"immigration\" and \"CRT\" instead of \"communism\" and civil rights legislation. This country is always going to be critically wounded, socially and politically, both because it refuses to acknowledge the myths of it's own history, and the fact that it was the de facto penultimate colonial power after the second world war. If the ponzi scheme economy tilts just a little against the middle and working classes, which it will inevitably do, I expect a full reactionary backlash against any \"progressive\" tint this editorial author is squinting to perceive. In short, the left is going to get rinsed in 2022, and I predict a fully authoritarian executive to emerge in 2024, and last well into the next few decades. It's nice to have democratic fantasies, though. They have sustained the West for decades.\n",
      "\n",
      "##HELOVELACE\n",
      "https://discussion.theguardian.com/comment-permalink/153851947\n",
      "https://profile.theguardian.com/user/id/104028596\n",
      "\n",
      "You throw away a casual line like \"and the majority of evidence suggests otherwise\" and simply expect people to accept that at face value. When in my lifetime, and I am not that old, I have seen with my own two eyes the demographics of entire regions, cities and towns, in my country change completely. \n",
      "And that change involves a particular race being replaced by other races, the census figures every decade confirm this to be true.\n",
      "Now for many people this is a jolly good thing, I respect that opinion, many people prefer a more diverse racial mix, many people are pleased to see mass immigration, they think it is beneficial, I respect that opinion.\n",
      "But for other people, people for whom their culture and heritage mean a lot, who quite liked the way their neighbourhoods used to look like, people who are not evil, not some form of goose-stepping fascists, just ordinary people, traditional and settled in their ways, such change is unnerving. \n",
      "They find it strange and they resent the fact that when they express their opinions, when they ask who voted for this change, when they complain about how the changes have affected them and their families they are basically told to shut up because they have no right to have such opinions.\n",
      "\n",
      "##JONATHAN169\n",
      "https://discussion.theguardian.com/comment-permalink/153852315\n",
      "https://profile.theguardian.com/user/id/103672595\n",
      "\n",
      "LOL...since I have been on this planet...too long, and we have had the same fundamental issues. In terms of putting: poverty, injustice, equality, educational and health reach, integrating our lifestyle in a symbiotic sustainable sequence with the planet... - we are just not capable of crossing national boundaries and getting stuff sorted. Never mind the pile of utter: opinionated \"crap that goes on within a nation: she is that, he is this...day and night, media-fed too, I mean writing articles about tweets...OMG! Did MI5 really shut journalism down ...' on that day in 2013' ? We will see the demise of many Animals (tigers, rhinos, politicians) and their habitats, plants that could cure cancer or even covid and future pandemics. Lost forever, not even found, (we know why $$$). We trample on this Earth like it was an old dishrag, converting habitat into penthouses, and then proudly surf the net in search of dopamine-driven dancing cats or 'likes'. I am NOT buying any of it! We need so much fundamental global change ...still...and still..., that if we actually applied 10% of the change that was needed, anthropologists would declare the emergence of a new species: 'HOMO-REALLY-DOES-CARE-YOU-US.\n",
      "\n",
      "##NANCYJT\n",
      "https://discussion.theguardian.com/comment-permalink/153852222\n",
      "https://profile.theguardian.com/user/id/17047937\n",
      "\n",
      "Thank you for this wonderfully thoughtful comment.\n",
      "I am Canadian, and because our economy is tied so closely to yours, and some of your cultural things cross the border, and because we have enjoyed so many holidays in your country, I have been paying attention to what is happening with you, particularly since Mr. Obama was elected President, I didn't think that would ever happen; and more particularly since 2016.\n",
      "I have subscriptions to the Washington Post and the New York Times, neither of which most Americans would describe as right wing I think. I would not describe them as left wing.\n",
      "I am surprised by the racism that permeates the comments on articles (although the writers would be horrified to be called racist), as well as the stated unwillingness of so many to consider that they live in a larger society, and 'don't want to pay for 'them''.\n",
      "Great strides have been made since the 60's in enacting laws that promote greater equality of both opportunity and of each person, but the entrenched attitudes of so many really make me wonder how deep the spirit of those laws runs in citizens.\n",
      "Best wishes to you all. I hope 2022 can see some more progress made.\n",
      "\n",
      "##THREERRIVERS\n",
      "https://discussion.theguardian.com/comment-permalink/153852078\n",
      "https://profile.theguardian.com/user/id/100128511\n",
      "\n",
      "yet it's the left that will self-implode. isn;t is Poly Sci 101 almost? almost a Rising Expectations thing. in the USA for example, to appease the Feel The Burn crowd, and younger folks in general, Biden and Kerry tout all kinds of fake 'green' projects yet overall Co2 emissions, \"dirty\" ones as well as \"clean\" Co2 emissions, are still rising will continue. not that it is much of a correlation to the thermodynamic forcing on the ocean.. which is because of many decades of emissions, of course, not current emissions so much... but that we continue to push excess accumulated Co2 higher, not any lower at all. when the \"climate believers\" realize that and any real action is taken, it will fulfill what Trump retorted to Biden on this in the first 2020 debate. Travel. so the \"Blue States\".. teh American \"left\" will have a heck of a fight between the austistic fashion version of No Fly and the then, much more suddenly accepted (because of what we will increasingly be able to see and feel in \"real life\") Kevin Anderson of the Tyndall Centre version of No Fly. and they are just as armed as the American right. or more so.\n",
      "\n",
      "##JIMMIEFL\n",
      "https://discussion.theguardian.com/comment-permalink/153851684\n",
      "https://profile.theguardian.com/user/id/101264136\n",
      "\n",
      "Not sure.\n",
      "Not American and have to say from a distance looks like US is terminal. How many years is the question, 20 or 30 I would say....guess. \n",
      "And is this decline that motivates the far right. \n",
      "They are told their whole lives they are entitled to greatness because they are American, the best nation in history. And not just whites or white males feel this way, so even though they call it white supremacy it really is more national narcissism that can include women, and minorities. \n",
      "So they need to feel the US is still superior and that is not happening. Because it isn't. It is a basket case. \n",
      "100 years ago the far right had Catholics in their sight. Italians and Irish. And Jews. But progress has eliminated them as scapegoats so they simply select a new one. In fact allowing more entry to the in group can swell their numbers. Germany with fascism only had 1% population as Jews. Any that protest are automatically communist. \n",
      "US was a mess 100 years ago and they turned it around. But I do not see that happening any time soon.\n",
      "But there is hope Trump only lasted one term, a rarity for a populist.\n",
      "\n",
      "##RONNEWMEXICO\n",
      "https://discussion.theguardian.com/comment-permalink/153851993\n",
      "https://profile.theguardian.com/user/id/14139778\n",
      "\n",
      "I have no anger nor am I angry about anything.If your sentiment was truly suit myself you would let me suit myself but you cannot.Your choice specifies we have to think in your way or else.I cannot fairly state my opinion as it offends you.I have no problem with you stating suit myself.I am glad you have gotten very far and wish you more. If that works for you more of it for you.But it by far and large has not spelled good educated poliical decisions.There is no american history of it producing that. Religion and politics should be two different animals. In america they are not. Our local city council elections one pastor just recommended one candidate over another from the pulpit in their church. I saw a film of it. She just lost anyway.\n",
      "Now those who are most fervent in this say we can not should not wear masks for covid nor get vaccinated. We then suffer for them. Their beliefs.I will not speak for the world but america we are lost. If we cannot but pray our way out of covid, what hope is there?But it seems that is it,locally at least. They refuse our governors laws in that.\n",
      "\n",
      "##RONNEWMEXICO\n",
      "https://discussion.theguardian.com/comment-permalink/153852018\n",
      "https://profile.theguardian.com/user/id/14139778\n",
      "\n",
      "In the winter most all cities in warmer states will have mentally disabled people roaming the streets.WE were conservative republican both the governor and the last mayor for eight years,(up until two years ago), and it did not change when the dems came to power. Albuquerque had homeless mentally disabled people then and we do now. Crime then and now about the same.\n",
      "This started way way back under Ronald R. He took the money the feds allocated for local community places and action and put it into a pot the states could use at their discression.So they did and it all devolved as the states in the eighties had economic problems and used it for other means.Now it is all gone. So what do we do with them, we have them in the streets with little to no care. Before back in the day they were not in jail or homeless but in hospital or treated by clinics.Now not so much. Some states better in that than others.Those with more money. Which is why it was a federal program under JFK. .\n",
      "That is the real of it. They need treatment care.\n",
      "\n",
      "##HELOVELACE\n",
      "https://discussion.theguardian.com/comment-permalink/153851226\n",
      "https://profile.theguardian.com/user/id/104028596\n",
      "\n",
      "White people are not being replaced\n",
      "\n",
      "You say that, and you may well be right, I fully respect your opinion and defend your right to express that opinion. I certainly have no objection to any of the opinions you express and I can certainly see how you come to them and I probably agree with the majority of your opinions.\n",
      "However, other people, perfectly reasonable people, people who do not hate their fellow men and women irrationally, people who aren't hunkered down in the basements of their parents' homes spouting hate speech, joining racist cults, might just have a slightly different opinion on that particular issue. \n",
      "Like I say, they are not hate-filled, they are not inciting violence, they are not trying to harm other people, but they simple observe their environments and happen to believe that a very distinct demographic pattern is occurring and they feel uncomfortable with it.\n",
      "I would afford them the same respect to express their opinion and listen to what they have to say as I would people who disagree with them.\n"
     ]
    }
   ],
   "source": [
    "all_comments.sort(key=lambda x : -len(x) )\n",
    "print( '\\n\\n'.join(all_comments[:20]) )"
   ]
  },
  {
   "cell_type": "code",
   "execution_count": 7,
   "metadata": {},
   "outputs": [
    {
     "name": "stdout",
     "output_type": "stream",
     "text": [
      "[master 65b23aa] web\n",
      " 2 files changed, 167 insertions(+), 233 deletions(-)\n",
      " create mode 100644 jz8nk.pkl\n",
      "Enumerating objects: 6, done.\n",
      "Counting objects: 100% (6/6), done.\n",
      "Delta compression using up to 4 threads\n",
      "Compressing objects: 100% (4/4), done.\n",
      "Writing objects: 100% (4/4), 78.59 KiB | 1.33 MiB/s, done.\n",
      "Total 4 (delta 2), reused 0 (delta 0)\n",
      "remote: Resolving deltas: 100% (2/2), completed with 2 local objects.\u001b[K\n",
      "To https://github.com/macbuse/GUARDIAN.git\n",
      "   d2e0e21..65b23aa  master -> master\n"
     ]
    }
   ],
   "source": [
    "! ./.g"
   ]
  },
  {
   "cell_type": "code",
   "execution_count": 18,
   "metadata": {},
   "outputs": [
    {
     "name": "stderr",
     "output_type": "stream",
     "text": [
      "[nltk_data] Downloading package vader_lexicon to\n",
      "[nltk_data]     /home/gregmcshane/nltk_data...\n",
      "[nltk_data]   Package vader_lexicon is already up-to-date!\n"
     ]
    }
   ],
   "source": [
    "#https://towardsdatascience.com/sentimental-analysis-using-vader-a3415fef7664\n",
    "\n",
    "import nltk\n",
    "#nltk.download('vader_lexicon')\n",
    "\n",
    "from nltk.sentiment.vader import SentimentIntensityAnalyzer\n",
    "\n",
    "sid = SentimentIntensityAnalyzer()"
   ]
  },
  {
   "cell_type": "code",
   "execution_count": 22,
   "metadata": {},
   "outputs": [],
   "source": [
    "a = '''My views haven't changed. Leaving the EU will be of no benefit to anyone except those who hold money and power along with certain corporates and a smidgen of medium to small businesses.\n",
    "How else can it be when you are shutting shop to the most developed nations, the richest nations in the world, who are either in the EU or have market agreements with the EU. Even the emerging markets of China and India along with other developing economies are aspiring to develop trading agreements with the EU, the second largest economy in the world. Any deal with the UK will be secondary and will depend upon their agreement with the EU.\n",
    "Boris Johnson once said \"f**k business\". I take this as meaning there is something in it for them and they don't really care if businesses find it difficulA\n",
    "t to cope.\n",
    "I can see ministers and conservative MPs queuing to fill their pockets by acting as advisors for potential trade deals whilst the rest of the country are left struggling trying to rebuild their lives, especially following the pandemic. The same ministers will probably be looking to lower all kinds of standards from food and welfare to safety at work to improve their opportunities.\n",
    "When it comes to brinkmanship, I can only view this as getting away with whatever they can. I do not believe it is anything to do with negotiating an agreement that will be to the benefit of the UK or the EU as a whole, I don't believe our ministers are capable of doing that.'''"
   ]
  },
  {
   "cell_type": "code",
   "execution_count": 24,
   "metadata": {},
   "outputs": [
    {
     "ename": "TypeError",
     "evalue": "sentiment_valence() missing 4 required positional arguments: 'sentitext', 'item', 'i', and 'sentiments'",
     "output_type": "error",
     "traceback": [
      "\u001b[0;31m------------------------------------------------------------\u001b[0m",
      "\u001b[0;31mTypeError\u001b[0m                  Traceback (most recent call last)",
      "\u001b[0;32m<ipython-input-24-6f3326dcf5de>\u001b[0m in \u001b[0;36m<module>\u001b[0;34m\u001b[0m\n\u001b[1;32m      1\u001b[0m \u001b[0msid\u001b[0m\u001b[0;34m.\u001b[0m\u001b[0mpolarity_scores\u001b[0m\u001b[0;34m(\u001b[0m\u001b[0ma\u001b[0m\u001b[0;34m)\u001b[0m\u001b[0;34m\u001b[0m\u001b[0m\n\u001b[0;32m----> 2\u001b[0;31m \u001b[0msid\u001b[0m\u001b[0;34m.\u001b[0m\u001b[0msentiment_valence\u001b[0m\u001b[0;34m(\u001b[0m\u001b[0ma\u001b[0m\u001b[0;34m)\u001b[0m\u001b[0;34m\u001b[0m\u001b[0m\n\u001b[0m",
      "\u001b[0;31mTypeError\u001b[0m: sentiment_valence() missing 4 required positional arguments: 'sentitext', 'item', 'i', and 'sentiments'"
     ]
    }
   ],
   "source": [
    "sid.polarity_scores(a)\n",
    "sid.sentiment_valence(a)"
   ]
  },
  {
   "cell_type": "code",
   "execution_count": 10,
   "metadata": {},
   "outputs": [
    {
     "name": "stdout",
     "output_type": "stream",
     "text": [
      "##SOMEHOWRATIONAL\n",
      "https://discussion.theguardian.com/comment-permalink/153639308\n",
      "https://profile.theguardian.com/user/id/17763035\n",
      "\n",
      "I use the term meaning a world view that treats the market and capitalism not as a useful economic tool, but as something untouchable that is supposed to bring solutions in all kinds of areas. Capitalism not as a mere economic system but as a guiding principle for everything.I associate the term with a drive to privatize everything as well as confusing democracy with socialism. Everything is being called \"socialist\" even when it is just democratic common sense as soon as there is a role for the state in it. Not wanting to privatize infrastructure is not socialist.Similarly there is the idea that society doesn't exist as such, but that it is nothing but a collection of individuals. Which is true in a sense, but that it similar to saying a table doesn't exist as it is nothing but a collection of atoms. There is also the idea connected to it that there is no such thing as public service and that politicians are always only out for their own interest. Which is of course a perfect justification for corruption and goes hand in hand with the disdain for regulation. Of course criminals dislike regulation and red tape.In other words \"neoliberalism\" is denying the existence of a public sphere in the democratic sense as this view denies the very existence of a public as well as the idea of a \"public interest\". The \"state\" is seen as something alien and evil, best reduced to as small an existence as possible. This worldview is fundamentally anti-democratic in my opinion. There is complete lack of understanding that in a democracy the state is the political representation of the people. Maybe a different term would be better than \"neoliberalism\", the term doesn't matter as much. But these concepts are widespread, influential and - in my view at least - very damaging.\n",
      "They have also prepared the ground for **TRUMP** and others like him, by spreading cynicism about democracy wherever you look.\n",
      "\n",
      "##THEDEPTFORDBOUNDER\n",
      "https://discussion.theguardian.com/comment-permalink/153638051\n",
      "https://profile.theguardian.com/user/id/17100331\n",
      "\n",
      "It's quite true to say neoliberal is the most lazily applied epithet and all purpose insult of our age. Why can't people just call out rapacious capitalism for what it is rather than use a term that doesn't stand up to etymological scrutiny (i.e. it doesn't do what it says on the tin). There are plenty of rapacious capitalists about who claim to be both 'populists' and opponents of 'neo-liberal elites', from **TRUMP** downwards, and as a consequence they are given a free pass by people who are only too quick to point the finger at 'revisionists' like Macron and even Starmer. The fact that 'the (self appointed) left' waste so much energy on this rather than directly calling out the daily corruption and chicanery all around us is why they so rarely win elections, it's a form of collective narcissism that actually denies ordinary people the kind of social justice and equality of life chances and opportunities that they are crying out for now, not some hypothetical moment in the distant future when 'the left' has finally purged itself of all revisionist tendencies (i.e. never).\n",
      "\n",
      "##PARCELOFROGUE\n",
      "https://discussion.theguardian.com/comment-permalink/153638210\n",
      "https://profile.theguardian.com/user/id/3489183\n",
      "\n",
      "A better term than neoliberalism would be Extreme Marketism. The term liberal has all sort of other meanings wrapped into it, which often do not apply.\n",
      "These Extreme Free Market crowd ( Extreme Free Marketeers ) are often not open tolerant people, but hang 'em and flog 'em right wing tories and some neofascists who want severe restrictions and penalties on people that are anything but liberal. Think Farage, or better still, don't do.They want freedom for money only, to avoid taxes, to fence hot money from stolen assets or illegal activities. So money can travel but many people are not allowed.\n",
      "The Extreme Free marketeers in USA are **TRUMP**ists and the Tea Party wing of the Republicans. The hypocrites went on and on about hand outs and \"big government\" but once the pandemic hit they were claiming for every last cent. Even \"Build that wall\" turned out to be fraudulent money raising so Bannon could live in luxury.\n",
      "\n",
      "##APORETE\n",
      "https://discussion.theguardian.com/comment-permalink/153635647\n",
      "https://profile.theguardian.com/user/id/105882863\n",
      "\n",
      "As seriously, a belief in neoliberal hegemony ducks the question whether it makes sense to think of today’s right as neoliberal. I can see the idea’s appeal. \n",
      "Elements of it are (they say) post-neoliberal. **TRUMP** and Johnson are, as you point out, opposed to core tenets of neoliberalism.\n",
      "Also, the term is quite straightforward - it posits labour's freedom to compete on equal terms for the chance to make themselves useful to (now global) capital - which is sacrosanct. This is why early liberals fought tooth and nail against slavery and also fought tooth and nail to preserve the nightmare of child labour.\n",
      "\n",
      "##IHATECAPTCHAS\n",
      "https://discussion.theguardian.com/comment-permalink/153638140\n",
      "https://profile.theguardian.com/user/id/106724717\n",
      "\n",
      "They are all globalists - but I don't mean that in the traditional right wing slur sense as such.\n",
      "None of the above would have any problem with say Chinese or Saudi state owned companies owning any of our public services or infrastructure. Nor would they have a problem with jobs being offshored overseas.\n",
      "I'm not going to comment on whether that is bad or good, but that's where they stand. **TRUMP**, Sanders and Corbyn but also Starmer and Charles Kennedy would probably take a very different view. Again it is up to the reader to decide on how they view that.\n",
      "\n",
      "##A_REBOUR\n",
      "https://discussion.theguardian.com/comment-permalink/153638282\n",
      "https://profile.theguardian.com/user/id/103109953\n",
      "\n",
      "They refuse to understand. It must be some kind of residual belief in goodness - what in British politics was known as the 'Good Chap' theory of govt. Having good chaps as our checks and balances was the reason we didn't need a proper constitution, the thing that saved - to some extent - the US.And people still refuse to understand why **TRUMP** invented Stop the Steal - he rorted $60M in one month in donations from the low information crowd on the back of it.\n",
      "\n",
      "##JUSME2\n",
      "https://discussion.theguardian.com/comment-permalink/153639091\n",
      "https://profile.theguardian.com/user/id/11657365\n",
      "\n",
      "I've been wondering how the word \"liberal\" could be used in any way to describe people like Johnson, **TRUMP**, Clinton, Morrison etcConservative doesn't really cut it either because some things they do are extremely radical imo. (like going to war at the drop of a hat).So I just think of them as \"right wingers\". That especially dishonest, greedy & cruel type of person that happily changes from conservative to liberal depending on what they want at that moment.\n",
      "\n",
      "##NEUTRALPADDY\n",
      "https://discussion.theguardian.com/comment-permalink/153638884\n",
      "https://profile.theguardian.com/user/id/2912649\n",
      "\n",
      "Did **TRUMP**s mob on Jan 6 constitute 'neo-liberals' ? Partly ? There is a terrifying story elsewhere a 30+ slide Powerpoint has emerged as to how **TRUMP** had detailed plans to invoke emergency powers & halt in its tracks handing over to Biden. Is that how low neo-liberals will stoop?\n",
      "\n",
      "##3RDROCK\n",
      "https://discussion.theguardian.com/comment-permalink/153637067\n",
      "https://profile.theguardian.com/user/id/17346623\n",
      "\n",
      "Yes though the media cannot be blamed for people's choices in an election. Look at **TRUMP** who was hated by the press yet still managed to secure a win.\n",
      "\n",
      "Propaganda is a wonderful thing - especially when aimed at an audience whose shoe size exceeds their IQ. ;-)\n",
      "\n",
      "##EARLBERTEONI\n",
      "https://discussion.theguardian.com/comment-permalink/153636323\n",
      "https://profile.theguardian.com/user/id/2454201\n",
      "\n",
      "**TRUMP** had a huge amount of media support, notably from Fox News but also from many local outlets. Plus his self-administered media presence on Twitter and Facebook. The idea that he won *despite* a hostile media is clearly nonsense.\n",
      "\n",
      "##MFISHER\n",
      "https://discussion.theguardian.com/comment-permalink/153636414\n",
      "https://profile.theguardian.com/user/id/106698196\n",
      "\n",
      "So did Corbyn in the Guardian or on Facebook where everyone gets their news now, **TRUMP** was rubbished by the majority of the urban establishment but is still seen as a hero in rural areas.\n",
      "\n",
      "##TIMERSET\n",
      "https://discussion.theguardian.com/comment-permalink/153637990\n",
      "https://profile.theguardian.com/user/id/102217262\n",
      "\n",
      "Exactly. Same with **TRUMP**. He doesn't give a shit about left or right. All he cares about is **TRUMP**, so he will choose the side that will help his personal finances and self-interest.\n",
      "\n",
      "##BOBMEYRICK\n",
      "https://discussion.theguardian.com/comment-permalink/153639297\n",
      "https://profile.theguardian.com/user/id/4773741\n",
      "\n",
      "Look at **TRUMP** who was hated by the press yet still managed to secure a win.\n",
      "I presume you're referring to 2016 rather than 2020. Remember he had, ahem, \"outside help\"...\n",
      "\n",
      "##HFLASHMAN\n",
      "https://discussion.theguardian.com/comment-permalink/153635885\n",
      "https://profile.theguardian.com/user/id/4259440\n",
      "\n",
      "Having gone down this route & courting the UKIPers the Conservatives have got more **TRUMP**ian in recent years & it's difficult to know what they actually stand for.\n",
      "\n",
      "##MFISHER\n",
      "https://discussion.theguardian.com/comment-permalink/153635817\n",
      "https://profile.theguardian.com/user/id/106698196\n",
      "\n",
      "Yes though the media cannot be blamed for people's choices in an election. Look at **TRUMP** who was hated by the press yet still managed to secure a win.\n",
      "\n",
      "##MFISHER\n",
      "https://discussion.theguardian.com/comment-permalink/153637079\n",
      "https://profile.theguardian.com/user/id/106698196\n",
      "\n",
      "Indeed but the Democrats kept blaming Facebook for Russian influence because it was instrumental in getting **TRUMP** elected.\n",
      "\n",
      "##TIMTHEOUS\n",
      "https://discussion.theguardian.com/comment-permalink/153639251\n",
      "https://profile.theguardian.com/user/id/10511989\n",
      "\n",
      "fox news combined with favourable newspapers owned by Murdochgave the world **TRUMP**...to pretend otherwise is insulting\n"
     ]
    }
   ],
   "source": [
    "target = 'decolon'\n",
    "target = 'science'\n",
    "target = 'trump'\n",
    "\n",
    "\n",
    "xx = [x for x in all_comments if target.lower() in x.lower() and  len(x) > 20]\n",
    "yy = [x for x in all_comments if '#pin' in x.lower() and 2000 > len(x) > 20]\n",
    "\n",
    "#print('\\n\\n'.join( ['\\n\\n'.join(x) for x in zip(xx,yy)])  )\n",
    "\n",
    "#print( '\\n\\n'.join(xx).replace(target, ) )\n",
    "pxx = re.compile(target, re.I)\n",
    "print( pxx.sub('**' + target.upper() + '**', \n",
    "              '\\n\\n'.join(xx)) )\n",
    "               \n",
    "#print( '\\n\\n'.join(xx) )\n"
   ]
  },
  {
   "cell_type": "code",
   "execution_count": 20,
   "metadata": {},
   "outputs": [
    {
     "data": {
      "text/plain": [
       "0.7820401046207497"
      ]
     },
     "execution_count": 20,
     "metadata": {},
     "output_type": "execute_result"
    }
   ],
   "source": [
    "(26/31) / (74/69)"
   ]
  },
  {
   "cell_type": "code",
   "execution_count": 64,
   "metadata": {},
   "outputs": [
    {
     "data": {
      "text/plain": [
       "529"
      ]
     },
     "execution_count": 64,
     "metadata": {},
     "output_type": "execute_result"
    }
   ],
   "source": [
    "23**2"
   ]
  },
  {
   "cell_type": "markdown",
   "metadata": {},
   "source": [
    "## "
   ]
  },
  {
   "cell_type": "code",
   "execution_count": 21,
   "metadata": {},
   "outputs": [
    {
     "data": {
      "text/plain": [
       "211"
      ]
     },
     "execution_count": 21,
     "metadata": {},
     "output_type": "execute_result"
    }
   ],
   "source": [
    "84 + 127"
   ]
  },
  {
   "cell_type": "code",
   "execution_count": 24,
   "metadata": {},
   "outputs": [
    {
     "data": {
      "text/plain": [
       "1.2842073077511085"
      ]
     },
     "execution_count": 24,
     "metadata": {},
     "output_type": "execute_result"
    }
   ],
   "source": [
    "84/211/.31"
   ]
  },
  {
   "cell_type": "code",
   "execution_count": 25,
   "metadata": {},
   "outputs": [
    {
     "data": {
      "text/plain": [
       "0.8723126588364586"
      ]
     },
     "execution_count": 25,
     "metadata": {},
     "output_type": "execute_result"
    }
   ],
   "source": [
    "127/211/.69"
   ]
  },
  {
   "cell_type": "code",
   "execution_count": 26,
   "metadata": {},
   "outputs": [
    {
     "data": {
      "text/plain": [
       "1.471264367816092"
      ]
     },
     "execution_count": 26,
     "metadata": {},
     "output_type": "execute_result"
    }
   ],
   "source": [
    "1.28/.87"
   ]
  },
  {
   "cell_type": "code",
   "execution_count": null,
   "metadata": {},
   "outputs": [],
   "source": []
  }
 ],
 "metadata": {
  "kernelspec": {
   "display_name": "NLP",
   "language": "python",
   "name": "nlp"
  },
  "language_info": {
   "codemirror_mode": {
    "name": "ipython",
    "version": 3
   },
   "file_extension": ".py",
   "mimetype": "text/x-python",
   "name": "python",
   "nbconvert_exporter": "python",
   "pygments_lexer": "ipython3",
   "version": "3.8.5"
  },
  "widgets": {
   "application/vnd.jupyter.widget-state+json": {
    "state": {},
    "version_major": 2,
    "version_minor": 0
   }
  }
 },
 "nbformat": 4,
 "nbformat_minor": 4
}
