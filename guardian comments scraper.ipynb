{
 "cells": [
  {
   "cell_type": "markdown",
   "metadata": {},
   "source": [
    "# Basic scraping for Guardian discussions u"
   ]
  },
  {
   "cell_type": "code",
   "execution_count": 1,
   "metadata": {},
   "outputs": [
    {
     "name": "stdout",
     "output_type": "stream",
     "text": [
      "[master 88b5249] web\n",
      " 4 files changed, 1443 insertions(+), 1132 deletions(-)\n",
      " rewrite guardian comments scraper.ipynb (75%)\n",
      " create mode 100644 h8qmd.pkl\n",
      " create mode 100644 hbc2e.pkl\n",
      " create mode 100644 hbe5y.pkl\n",
      "Enumerating objects: 8, done.\n",
      "Counting objects: 100% (8/8), done.\n",
      "Delta compression using up to 4 threads\n",
      "Compressing objects: 100% (6/6), done.\n",
      "Writing objects: 100% (6/6), 3.01 MiB | 91.00 KiB/s, done.\n",
      "Total 6 (delta 2), reused 0 (delta 0)\n",
      "remote: Resolving deltas: 100% (2/2), completed with 1 local object.\u001b[K\n",
      "To https://github.com/macbuse/GUARDIAN.git\n",
      "   50158a0..88b5249  master -> master\n"
     ]
    }
   ],
   "source": [
    "! ./.g\n"
   ]
  },
  {
   "cell_type": "code",
   "execution_count": 59,
   "metadata": {},
   "outputs": [],
   "source": [
    "with open('guardian comments scraper.ipynb','r') as fp:\n",
    "    nb = fp.read()"
   ]
  },
  {
   "cell_type": "code",
   "execution_count": 60,
   "metadata": {},
   "outputs": [],
   "source": [
    "import re\n",
    "\n",
    "pp = re.compile(\"(https://www.the.*?)'\")\n",
    "lks = pp.findall(nb)\n",
    "\n",
    "with open('links.txt','a') as fp:\n",
    "    fp.write('\\n'.join(lks))"
   ]
  },
  {
   "cell_type": "code",
   "execution_count": 1,
   "metadata": {},
   "outputs": [],
   "source": [
    "import re \n",
    "import requests\n",
    "import pickle\n",
    "import json"
   ]
  },
  {
   "cell_type": "code",
   "execution_count": 9,
   "metadata": {},
   "outputs": [],
   "source": [
    "article_url = 'https://www.theguardian.com/commentisfree/2020/aug/19/ditch-the-algorithm-generation-students-a-levels-politics'\n",
    "article_url = 'https://www.theguardian.com/commentisfree/2020/aug/21/joe-biden-democrat-convention-nice-guy-trump-fight'\n",
    "article_url = 'https://www.theguardian.com/commentisfree/2020/aug/23/the-cruel-exams-algorithm-has-laid-bare-the-unfairness-at-the-heart-of-our-schools'\n",
    "article_url = 'https://www.theguardian.com/commentisfree/2020/sep/01/us-mainstream-right-vigilante-terror'\n",
    "article_url = 'https://www.theguardian.com/commentisfree/2020/aug/31/politicians-covid-19-statistics-statisticians'\n",
    "article_url = 'https://www.theguardian.com/commentisfree/2021/apr/14/boris-johnson-is-telling-scotland-that-the-union-is-no-longer-based-on-consent'\n",
    "article_url = 'https://www.theguardian.com/commentisfree/2021/may/10/retail-politics-movements-polarising-projects-promise'"
   ]
  },
  {
   "cell_type": "code",
   "execution_count": 4,
   "metadata": {},
   "outputs": [],
   "source": [
    "article_url = 'https://www.theguardian.com/commentisfree/2020/sep/29/rival-scientists-lockdowns-scientific-covid-19'\n",
    "article_url = 'https://www.theguardian.com/commentisfree/2020/oct/08/johnson-and-sturgeon-will-need-a-better-philosophy-than-precaution-to-rid-us-of-covid'\n",
    "article_url = 'https://www.theguardian.com/commentisfree/2020/oct/10/continual-local-lockdowns-answer-covid-control'\n",
    "article_url = 'https://www.theguardian.com/commentisfree/2020/oct/11/the-rebel-scientists-cause-would-be-more-persuasive-if-it-werent-so-half-baked'\n",
    "\n",
    "article_url = 'https://www.theguardian.com/commentisfree/2021/apr/03/undermining-the-astrazeneca-jab-is-a-dangerous-act-of-political-folly#comment-148440261'\n",
    "article_url = 'https://www.theguardian.com/commentisfree/2021/apr/09/boris-johnson-brexit-belfast-violence-eu-good-friday-agreement'\n",
    "article_url ='https://www.theguardian.com/commentisfree/2021/apr/02/culture-war-government-race-report'\n",
    "article_url = 'https://www.theguardian.com/commentisfree/2021/mar/18/britain-sunny-vaccine-optimism-april-delivery-delay'\n",
    "article_url ='https://www.theguardian.com/commentisfree/2021/apr/14/boris-johnson-is-telling-scotland-that-the-union-is-no-longer-based-on-consent'\n",
    "article_url = 'https://www.theguardian.com/commentisfree/2021/apr/15/britain-harness-social-sciences-covid-pandemic-deprivation'\n",
    "article_url = 'https://www.theguardian.com/commentisfree/2021/apr/16/government-race-report-evidence#comment-148662066'\n",
    "article_url ='https://www.theguardian.com/commentisfree/2021/apr/20/britain-falling-birthrate-covid-pandemic-conservatives-removed-support-for-parents'\n",
    "article_url = 'https://www.theguardian.com/commentisfree/2021/apr/21/bmi-eating-disorder-pandemic-treatment'\n",
    "article_url = 'https://www.theguardian.com/commentisfree/2021/apr/30/government-delays-covid-public-inquiry-health-crisis'\n",
    "article_url = 'https://www.theguardian.com/commentisfree/2021/may/07/humiliation-hartlepool-smalltown-detective-di-starmer'\n",
    "article_url ='https://www.theguardian.com/commentisfree/2021/aug/06/uk-government-experts-vaccinating-under-16s'\n",
    "article_url = 'https://www.theguardian.com/commentisfree/2021/aug/01/there-is-a-case-for-vaccine-passports-but-ministers-are-failing-to-make-it'\n",
    "article_url = 'https://www.theguardian.com/commentisfree/2021/aug/09/america-is-flying-blind-when-it-comes-to-the-delta-variant'\n",
    "article_url = 'https://www.theguardian.com/commentisfree/2021/aug/10/covid-vaccines-britain-scientific-solution-jabs'"
   ]
  },
  {
   "cell_type": "code",
   "execution_count": 14,
   "metadata": {},
   "outputs": [
    {
     "ename": "NameError",
     "evalue": "name 'my_keys' is not defined",
     "output_type": "error",
     "traceback": [
      "\u001b[0;31m---------------------------------------\u001b[0m",
      "\u001b[0;31mNameError\u001b[0mTraceback (most recent call last)",
      "\u001b[0;32m<ipython-input-14-e80f1eb56025>\u001b[0m in \u001b[0;36m<module>\u001b[0;34m\u001b[0m\n\u001b[1;32m      1\u001b[0m \u001b[0;34m\u001b[0m\u001b[0m\n\u001b[0;32m----> 2\u001b[0;31m \u001b[0mkey\u001b[0m \u001b[0;34m=\u001b[0m \u001b[0mmy_keys\u001b[0m\u001b[0;34m.\u001b[0m\u001b[0mkeys\u001b[0m\u001b[0;34m[\u001b[0m\u001b[0;34m'guardian'\u001b[0m\u001b[0;34m]\u001b[0m\u001b[0;34m\u001b[0m\u001b[0m\n\u001b[0m",
      "\u001b[0;31mNameError\u001b[0m: name 'my_keys' is not defined"
     ]
    }
   ],
   "source": [
    "\n",
    "key = my_keys.keys['guardian']"
   ]
  },
  {
   "cell_type": "code",
   "execution_count": 5,
   "metadata": {},
   "outputs": [
    {
     "name": "stdout",
     "output_type": "stream",
     "text": [
      "getting comments page no. 1\n",
      "there are 6 pages\n",
      "getting comments page no. 2\n",
      "getting comments page no. 3\n",
      "getting comments page no. 4\n",
      "getting comments page no. 5\n",
      "getting comments page no. 6\n",
      "archiving to tedzk.pkl\n"
     ]
    }
   ],
   "source": [
    "#scrape the page and get the short url\n",
    "short_url_pp =  re.compile('\"shortUrlId\":\"(.*?)\"')\n",
    "\n",
    "r = requests.get(article_url)\n",
    "mm = short_url_pp.search(r.text)\n",
    "short_url = mm.group(1)\n",
    "\n",
    "#the short url allows us to access the discussion\n",
    "comments_url = 'https://api.nextgen.guardianapps.co.uk/discussion/%s.json'%short_url\n",
    "params = {'orderBy' : 'newest',\n",
    "          'pageSize' : 25,\n",
    "          'displayThreaded' : 'true',\n",
    "          'commentsClosed' : 'false',\n",
    "          'page' : '',\n",
    "          'maxResponses' : 50\n",
    "         }\n",
    "\n",
    "json_data =  []\n",
    "start_page  = 1\n",
    "last_page = None\n",
    "\n",
    "\n",
    "for num_page in range(start_page, 10**4):\n",
    "    print('getting comments page no.', num_page)\n",
    "    params['page'] = num_page\n",
    "    r = requests.get( comments_url, params=params)\n",
    "    json_data.append( r.text)\n",
    "    #The last page is a field in the json object\n",
    "    #I don't need to read this as json I could do a regexp\n",
    "    if num_page == start_page:\n",
    "        json_dict = json.loads(r.text)\n",
    "        last_page = json_dict['lastPage']\n",
    "        print('there are %d pages'%last_page)\n",
    "    if num_page == last_page : break\n",
    "        \n",
    "\n",
    "fn = '%s.pkl'%short_url.split('/')[-1]\n",
    "print('archiving to %s'%fn)\n",
    "with open(fn,'wb') as fp:\n",
    "    pickle.dump(json_data,fp)"
   ]
  },
  {
   "cell_type": "markdown",
   "metadata": {},
   "source": [
    "## remember each page of comments has been stored separately"
   ]
  },
  {
   "cell_type": "code",
   "execution_count": 16,
   "metadata": {},
   "outputs": [
    {
     "data": {
      "text/plain": [
       "11"
      ]
     },
     "execution_count": 16,
     "metadata": {},
     "output_type": "execute_result"
    }
   ],
   "source": [
    "dd = json.loads(json_data[0])\n",
    "len(json_data)"
   ]
  },
  {
   "cell_type": "code",
   "execution_count": 17,
   "metadata": {},
   "outputs": [
    {
     "data": {
      "text/plain": [
       "dict_keys(['postedCommentHtml', 'commentsHtml', 'commentCount', 'refreshStatus', 'lastPage', 'paginationHtml'])"
      ]
     },
     "execution_count": 17,
     "metadata": {},
     "output_type": "execute_result"
    }
   ],
   "source": [
    "xx = json.loads(json_data[0])\n",
    "xx.keys()"
   ]
  },
  {
   "cell_type": "code",
   "execution_count": 136,
   "metadata": {},
   "outputs": [
    {
     "name": "stdout",
     "output_type": "stream",
     "text": [
      " class=\"d-comment\n",
      "            d-comment--top-level\"\n",
      "           id=\"comment-144422422\"\n",
      "           data-comment-id=\"144422422\"\n",
      "           data-comment-author=\"Hushing\"\n",
      "           data-comment-replies=\"0\"\n",
      "           data-comment-timestamp=\"2020-10-11T14:25:06.000+01:00\"\n",
      "           data-comment-author-id=\"12407494\"\n",
      "           data-comment-highlighted=\"false\"\n",
      "           itemscope itemtype=\"http://schema.org/Comment\">\n",
      "\n",
      "    <div class=\"d-comment__inner d-comment__inner--top-level\">\n",
      "        <div class=\"\n"
     ]
    }
   ],
   "source": [
    "print( xx['commentsHtml'][200:700])"
   ]
  },
  {
   "cell_type": "code",
   "execution_count": 16,
   "metadata": {},
   "outputs": [],
   "source": [
    "pa = re.compile('data-comment-author=\"(.*?)\"')\n",
    "pid = re.compile('data-comment-author-id=\"(\\d+)')\n",
    "pcid = re.compile('\\sid=\"comment-(.*?)\"')\n",
    "pp = re.compile('<li class=\"d-comment(.*?)>',re.DOTALL)\n",
    "\n",
    "auths = []\n",
    "md = []\n",
    "for xx in json_data:\n",
    "    hh = json.loads(xx)['commentsHtml']\n",
    "    auths.extend(list( zip(pa.findall(hh), \n",
    "                           pid.findall(hh)\n",
    "                          )))\n",
    "    md.extend(pp.findall(hh))\n",
    "\n",
    "auths = list(set(auths))\n",
    "auths.sort(key=lambda x : x[0].lower())\n"
   ]
  },
  {
   "cell_type": "code",
   "execution_count": 102,
   "metadata": {},
   "outputs": [],
   "source": [
    "#print( '\\n'.join([x for x in md if 'pinkie' in x.lower()]))"
   ]
  },
  {
   "cell_type": "markdown",
   "metadata": {},
   "source": [
    "https://discussion.theguardian.com/comment-permalink/144375739"
   ]
  },
  {
   "cell_type": "code",
   "execution_count": 8,
   "metadata": {},
   "outputs": [],
   "source": [
    "auths = dict(auths)"
   ]
  },
  {
   "cell_type": "code",
   "execution_count": 9,
   "metadata": {},
   "outputs": [
    {
     "data": {
      "text/plain": [
       "'https://api.nextgen.guardianapps.co.uk/discussion//p/hvpq8.json'"
      ]
     },
     "execution_count": 9,
     "metadata": {},
     "output_type": "execute_result"
    }
   ],
   "source": [
    "comments_url"
   ]
  },
  {
   "cell_type": "code",
   "execution_count": 6,
   "metadata": {},
   "outputs": [],
   "source": [
    "\n",
    "from bs4 import BeautifulSoup\n",
    "\n",
    "def html2comments(x):\n",
    "    tt = json.loads(x)\n",
    "    soup = BeautifulSoup(tt['commentsHtml'],  \"lxml\")\n",
    "    raw = [ comment.text for comment in  \n",
    "            soup.findAll('div', {'class' : \"d-comment__body\"}) ]\n",
    "    \n",
    "    metadata = soup.findAll('span', {'class' : \"d-comment__author\"})\n",
    "    \n",
    "    \n",
    "    auth = [ x.text.upper().strip() for x in metadata]\n",
    "    auth_id = [ x.find('a')['href'] for x in metadata]\n",
    "    #this was a pain to do really\n",
    "    #the problem is blocked comments\n",
    "    comment_id = [ x['id'][len('comment-'):] for x in soup.findAll('li')]\n",
    " \n",
    "    \n",
    "    ss = '##{}\\nhttps://discussion.theguardian.com/comment-permalink/{}\\n{}\\n\\n{}'\n",
    "    return [ ss.format(a,b,d,c.strip())  \n",
    "                   for a,b,d,c in zip(auth, comment_id, auth_id, raw)]\n",
    "     \n",
    "all_texts = [ html2comments(page) for page in json_data[:] ]\n",
    "\n",
    "\n",
    "\n",
    "from itertools import chain\n",
    "all_comments = list(chain.from_iterable(all_texts))\n",
    "    "
   ]
  },
  {
   "cell_type": "markdown",
   "metadata": {},
   "source": [
    "# Random data hacking"
   ]
  },
  {
   "cell_type": "code",
   "execution_count": 6,
   "metadata": {
    "scrolled": true
   },
   "outputs": [
    {
     "data": {
      "text/plain": [
       "[('##SHAKINGHEADSLOWLY', 64),\n",
       " ('##RATHERBEINOZ', 22),\n",
       " ('##VANLEEUW', 22),\n",
       " ('##LAVERBLAMP', 20),\n",
       " ('##IFITSMAGIC', 17),\n",
       " ('##FREDBERTL', 17),\n",
       " ('##YELLOWSKY', 14),\n",
       " ('##ELLENWILKINSON45', 13),\n",
       " ('##MINTAKA', 13),\n",
       " ('##HERMANN_STEINPILZ', 11),\n",
       " ('##EWENCAMERON', 11),\n",
       " ('##DAVE6723', 11),\n",
       " ('##GHOSTOF99', 11),\n",
       " ('##MERLINV12', 11),\n",
       " ('##STEVEINBAVARIA', 11),\n",
       " ('##WORDCHAZER', 10),\n",
       " ('##MUSTYKANKLES', 9),\n",
       " ('##ZAZENDADDY', 9),\n",
       " ('##STEVEMILL', 9),\n",
       " ('##ENVIROCAPITALIST', 9),\n",
       " ('##TESTAMENT235', 8),\n",
       " ('##LOISBEIM', 8),\n",
       " ('##FREDDYWIDGEON', 8),\n",
       " ('##IVORBIGONE', 7),\n",
       " ('##FATFREDDYCAT', 7),\n",
       " ('##MRKURON', 7),\n",
       " ('##EUROPAKELT', 6),\n",
       " ('##DUSTY', 6),\n",
       " ('##1ESSEX', 6),\n",
       " ('##FAIRSHARES', 6),\n",
       " ('##TELVANNAH', 6),\n",
       " ('##VSBAIN67', 6),\n",
       " ('##STILL_MELTY_CLOCK', 6),\n",
       " ('##AUTHURN', 6),\n",
       " ('##STEVE__M', 6),\n",
       " ('##STEVERP', 6),\n",
       " ('##ARTHURRANK', 5),\n",
       " ('##THEXOVERLORD', 5),\n",
       " ('##UNEDUKATED', 5),\n",
       " ('##BEAUFRERE', 5),\n",
       " ('##SHORTORDERCOOK', 5),\n",
       " ('##GROODLE', 5),\n",
       " ('##TOMASSTEDRON', 5),\n",
       " ('##LISAMARIE3', 5),\n",
       " ('##MRTEE', 5),\n",
       " ('##FRANCISGROSE', 5),\n",
       " ('##MUSUBI', 5),\n",
       " ('##HUBBAHUBBA', 5),\n",
       " ('##WHERESMEHAT', 5),\n",
       " ('##YORKSHIREEXPAT', 5)]"
      ]
     },
     "execution_count": 6,
     "metadata": {},
     "output_type": "execute_result"
    }
   ],
   "source": [
    "A = [x.split('\\n')[0] for x in all_comments]\n",
    "from collections import Counter\n",
    "AN = Counter(A)\n",
    "sorted([(x,y) for x,y in AN.items() if y > 4], key=lambda x : -x[1]) "
   ]
  },
  {
   "cell_type": "code",
   "execution_count": 7,
   "metadata": {},
   "outputs": [
    {
     "name": "stdout",
     "output_type": "stream",
     "text": [
      "[master 51fb340] web\n",
      " 3 files changed, 206 insertions(+), 368 deletions(-)\n",
      " create mode 100644 tbca8.pkl\n",
      " create mode 100644 tdvxp.pkl\n",
      "Enumerating objects: 7, done.\n",
      "Counting objects: 100% (7/7), done.\n",
      "Delta compression using up to 4 threads\n",
      "Compressing objects: 100% (5/5), done.\n",
      "Writing objects: 100% (5/5), 663.64 KiB | 1.15 MiB/s, done.\n",
      "Total 5 (delta 2), reused 0 (delta 0)\n",
      "remote: Resolving deltas: 100% (2/2), completed with 2 local objects.\u001b[K\n",
      "To https://github.com/macbuse/GUARDIAN.git\n",
      "   88b5249..51fb340  master -> master\n"
     ]
    }
   ],
   "source": [
    "! ./.g\n"
   ]
  },
  {
   "cell_type": "code",
   "execution_count": 7,
   "metadata": {},
   "outputs": [
    {
     "name": "stdout",
     "output_type": "stream",
     "text": [
      "##SIGMA79\n",
      "https://discussion.theguardian.com/comment-permalink/151126119\n",
      "https://profile.theguardian.com/user/id/17326520\n",
      "\n",
      "This comment was removed by a moderator because it didn't abide by our\n",
      "                            community standards.\n",
      "                            Replies may also be deleted. For more detail see our FAQs.\n"
     ]
    }
   ],
   "source": [
    "print(all_comments[0])"
   ]
  },
  {
   "cell_type": "code",
   "execution_count": 18,
   "metadata": {},
   "outputs": [
    {
     "name": "stdout",
     "output_type": "stream",
     "text": [
      "##MARKPJNY\n",
      "https://discussion.theguardian.com/comment-permalink/151171893\n",
      "https://profile.theguardian.com/user/id/101511398\n",
      "\n",
      "Nuances abound in any full understanding of the Pandemic, though most of the populace are not even willing to deal with hard and simple facts.  Certainly, the processing of a complete understanding is beyond the attention span and the desire of a good many, though perhaps not the readers here. If the Global Warming-Climate problems are not a good example of the difficulty of dealing with Scientific facts and Scientific limitations, nothing else can be seen as illustrating the problem more clearly: people prefer to assume that no harm can come to them or to minimize the difficulties.  The fact that this pattern, seen to be more applicable to adolescents than to adults- the ability to see risk as minimal and a life as more invulnerable in the face of such risks- that situation would seem to have ended. Most people out there are the nearly-immortal adolescents of their younger days.I have long suspected that Dr. Topol here is correct. As there is insufficient testing and tracing, it is impossible to make accurate assessments of asymptomatic disease. The Vanilla flavor of Covid19 had some possibly 80 % of cases as asymptomatic. This might not be the case if the Delta Variant is more severe in all and more dramatic in everybody. What might be the case however is that only 50 % are asymptomatic, or perhaps 30 % and this is yet significant enough from the standpoint of transmission. Those exposed to the 30 or 50 % or even fewer could spread to un-immunized and therefor unprotected individuals. Others could spread the virus as asymptomatic infections between multiple un-immunized or even among partially-immunized individuals. While all of this transmission is going on, a new Variant might then be able to assume some degree of prominence. The truth is that we do not know and we may not be absolutely blind, but we certainly are walking about with broken spectacles which distort our vision sufficiently to fail to account for a very chaotic and rapid change of circumstances with an evolving pathogen in multiple different forms. As we make assumptions to show what we know, or what we would hope to comfort those quite reasonably upset, we need to be careful. There are all too many out there who would deny all and are willing to use any errors to discredit the Science entirely.  Emergence of yet new episodes similar to Provincetown or to a new and more severe Variant may lead to loss of credibility and then to credulity among the masses and this will not help. There is a need for modesty in Science. It is always a process. The development of both tests and immunizations shows what it can do. The ability to fully prognosticate is not nearly something for which Science or the people who claim to use it can really solve so readily for the purpose of easy answers.  Pandemics do as they will. Humans can exhibit hubris, but the virus has control of the future for now and likely for some time to come and we have to muddle along with it as best as we can. Assuming that it will be done soon sounds good, but is probably incorrect, as much as I would hope that this would be the case.  If we are honest with ourselves, we need to hold on tightly and ride the business out and not get either complaisant or depressed and merely wait things out. In the UK plague moved about from 1346 and into the 1370's with periods of quiescence before it was done. It is true that antibiotics would have shortened the business, but irregular bursts at intervals, sometimes quite long, are far from unknown and antivirals may be out there for SARS-CoV-2. Even with that, we also need to develop ones that may be less prone to the development of resistance. HIV-AIDS is a quite different creature, but it shows that even a treatment may need to go through multiple changes to remain effective and reasonably successful.\n",
      "\n",
      "##RATTENKRIEG\n",
      "https://discussion.theguardian.com/comment-permalink/151173559\n",
      "https://profile.theguardian.com/user/id/15074150\n",
      "\n",
      "This seems to be the lastest spin from the Trumpers?I just debunked this nonsense in a comment above here, but I'll copy myself here as well then:\n",
      "\"You're spreading Republican nonsense, trying to blame the Democrats.\n",
      "The REASON many people - democratic politicians among them - where initially cautious to trust FDA approval of the vaccines when they first came, was that Trump was president, and as we all know he lies his ass off on any and everything.He ignored and still ignores facts and science and he desperately wanted positive news ahead of the 2020 election.\n",
      "So when - after having pushed a number of drugs that had no effect against Covid-19 (which researchers knew and said at the time) as \"magic bullets\" - he started publicly pressuring the FDA to greenlight vaccines, many where rightly worried that this political pressure would allow unsafe products to reach the public.\n",
      "This was a very small window in time however, as more and more studies became available and authorising bodies in Europe and the rest of the world rather swiftly came to the same conclusion - that the Pfizer and Moderna vaccines (the first ones) where safe to use.\n",
      "So those articles you try using as basis for your argument about the Democrats being to blame all stem from a time before scientific consensus was reached that these vaccines where safe.The fact that Trump had pressured the FDA to authorise the use of the vaccines to improve his chances in the election had not, in fact, effected the quality of their scientific evaluation.\n",
      "Trump still lost the election, and then presided over two months of utter inaction in distributing the vaccines that where now approved.\n",
      "Actually getting shots in arms didn't mean squat to him - he spent his time fomenting an insurrection and trying to cling on to power instead.\n",
      "The US had to wait for the Biden-administration before actual distribution of the vaccines started in earnest.Trumps inaction on that front certainly cost many thousands of lives and billions of dollars in economic losses.\"\n",
      "\n",
      "##CEPHALUS\n",
      "https://discussion.theguardian.com/comment-permalink/151173588\n",
      "https://profile.theguardian.com/user/id/4081256\n",
      "\n",
      "As an epidemiologist, I've often noted that data collection and reporting (& related public health strategies) are political. In much of Canada, data on age, ethnicity, race and precise locations of outbreaks were either deliberately not collected or suppressed, making it impossible for local governments, ethnic organizations and individuals to plan and act effectively. Why? Because governments were terrified of agism or racism or targeting specific localities AND such information would undermine the policy objectives of universal masking and social distancing. This has precedence: insisting, for example, that HIV was a threat to the entire population rather than to men who have sex with men was not only untrue but politically motivated. Likewise, \"second hand smoke\" was over-egged and weaponized to vilify smoking and smokers. Now data that would tell us how effective vaccines are deliberately not collected or suppressed out of fear that it will fuel vaccine hesitancy/opposition. The use of hospital and death data conveniently underplays covid in the population and in particular covid in the fully vaccinated population. This is essential if the objective is to \"open up\" the economy to commerce, get people back in restaurants and bars and have tourism and all the associated cash rolling again. If vaccines aren't hyped as a panacea, and the current outbreaks blamed on people who aren't immunized, the false and dangerous narrative of \"it's ok to socialize, travel, shop, etc.\" is exposed & it becomes obvious we should all be masking, socially isolating, and staying home. Which, of course, we should. If vaccines were so effective, we simply wouldn't see the number of cases of covid in the US and UK as we in fact do. Rates of infection this summer are higher than last well before immunization began. It isn't \"all down to vaccine hesitancy\"; that's propaganda plain and simple. Vaccines can and do reduce illness severity and that's important, but it isn't the only thing.\n",
      "\n",
      "##RATTENKRIEG\n",
      "https://discussion.theguardian.com/comment-permalink/151173202\n",
      "https://profile.theguardian.com/user/id/15074150\n",
      "\n",
      "You're spreading Republican nonsense, trying to blame the Democrats.\n",
      "As both those articles states, the REASON many people - democratic politicians among them - where initially cautious to trust FDA approval of the vaccines when they first came, was that Trump was president, and as we all know he lies his ass off on any and everything.He ignored and still ignores facts and science and he desperately wanted positive news ahead of the 2020 election.\n",
      "So when - after having pushed a number of drugs that had no effect against Covid-19 (which researchers knew and said at the time) as \"magic bullets\" - he started publicly pressuring the FDA to greenlight vaccines, many where rightly worried that this political pressure would allow unsafe products to reach the public.\n",
      "This was a very small window in time however, as more and more studies became available and authorising bodies in Europe and the rest of the world rather swiftly came to the same conclusion - that the Pfizer and Moderna vaccines (the first ones) where safe to use.\n",
      "So those articles you try using as basis for your argument about the Democrats being to blame all stem from a time before scientific consensus was reached that these vaccines where safe.The fact that Trump had pressured the FDA to authorise the use of the vaccines to improve his chances in the election had not, in fact, effected the quality of their scientific evaluation.\n",
      "Trump still lost the election, and then presided over two months of utter inaction in distributing the vaccines that where now approved.\n",
      "Actually getting shots in arms didn't mean squat to him - he spent his time fomenting an insurrection and trying to cling on to power instead.\n",
      "The US had to wait for the Biden-administration before actual distribution of the vaccines started in earnest.Trumps inaction on that front certainly cost many thousands of lives and billions of dollars in economic losses.\n",
      "\n",
      "##FREEDOMOFSPEECG\n",
      "https://discussion.theguardian.com/comment-permalink/151173379\n",
      "https://profile.theguardian.com/user/id/104322773\n",
      "\n",
      "Thanks. I take the point that you are making about the % of covid deaths in the vaccinated group being higher from raw data than the 99.5% quoted. If I understand correctly you get 8.78% by dividing the number of vaccinated covid deaths into the total number of covid deaths?\n",
      "But that 8.78% comes from the 58% of the population who are fully vaccinated, leaving 91.22% of deaths coming from the unvaccinated population. That suggests a rate difference of over 14:1 not 5-10:1. (And your post quoted a 5-10 rate difference.)\n",
      "And that takes no account of possible characteristic differences between the two groups. I am not sure how the various states rolled out the vaccines in the US, but in the UK the oldest and most vulnerable were given the vaccine first. That means that, prior to any vaccinations, the vaccinated population are more at risk from covid than the unvaccinated population. Using age as an example, every additional 7 years of age roughly doubled the risk of death from covid. \n",
      "https://www.bmj.com/content/370/bmj.m3259\n",
      "So if the vaccinated cohort are all 7 years older than the unvaccinated cohort, you would expect the death rate (before any vaccine effect) to be twice as high in the vaccinated group as in the unvaccinated group. If the vaccinated group are all 14 years older, the expected deaths would be 4x different.\n",
      "I have no idea what the different age profiles of the two groups are, but it could be very different between the two, not least because the unvaccinated group includes all the pre-teens in the country. If the adjusted age gap is 15-20 years that would move the 14:1 ratio up into the 90s:1 which is the sort of numbers that are being shown in studies in the UK at least.\n",
      "Sorry if I have misunderstood your statistic, but if I have understood it correctly I don't think it is correct because of the above.\n",
      "\n",
      "##KEDARB\n",
      "https://discussion.theguardian.com/comment-permalink/151170460\n",
      "https://profile.theguardian.com/user/id/2934342\n",
      "\n",
      "Let's face one fact in America no matter how bitter is the truth. Everything is politicized including the governmental agencies which are supposed to be neutral and non-political. If these conditions persisted a year ago, CDC would have been giving us a more dire scenario. The bad news would not have been brushed under the carpet as it is being done now. The MSM used to give us practically a running commentary on who is being admitted to the hospital with Covid infection and the situation. Now the statistic is more like a minor footnote in their reporting if any.\n",
      "Americans are getting way too complacent about the vaccination and the virus. In my line of work I have to meet a few clients every now and then. It is the elderly who can be the most vulnerable are the most complacent. It is common for the people in their 70s, 80s and even 90s not to wear the face mask because they are vaccinated. Almost a year ago, one of my colleague Christine's client Albert, a 90 year old gentleman was going to come to the office. Christine normally works from home and comes only one day a week and leaves early. She said that she will help him if she is around otherwise if I could. Albert came late and she was gone. After I had helped him, Albert put his hand out to shake mine. Hesitantly I did shake his hand. Next he asked me to take my mask off so he could see my face. Feeling awkward I did take it off for a couple of seconds.\n",
      "Today when I go to supermarket or many other indoor places lots of people are not wearing face masks. Vaccination is only 60% to 80% effective. For the next year or two at least we should try to wear as much as possible. This is a small sacrifice we all can make rather than going into a lockdown mode again and businesses being shut.\n",
      "\n",
      "##MARVINH2G2\n",
      "https://discussion.theguardian.com/comment-permalink/151170532\n",
      "https://profile.theguardian.com/user/id/102173891\n",
      "\n",
      "Then I basically agree with your view.\n",
      "The 6 vs 38 works out as 83% effective against fatality. (5/6 * 100).\n",
      "Vendors are quoting about 90+% against hospitalisation and death for AZ & Pfizer, so it's pretty ball park similar for J&J. \n",
      "J&J probably is the weakest on Phase 3 statistics, and although they proudly say it's a single dose vaccine, it looks like it needed a second dose on the statistics they report.\n",
      "Worldwide eradication is not going to happen at this point. China has been impressive, but other countries have proven incapable of getting the same results. \n",
      "Annoyingly, many countries, UK included, have gotten down to very low case counts with lockdown. Where they have lacked is the step to go from low to zero with vigorous proactive contact tracing.\n",
      "What's insane is that this final step doesn't require \"totalitarian control\" as the case numbers were small. It requires professionalism and rigor in contact tracing, and potentially focussed surge testing. \n",
      "By nature of the small counts, it's not a huge effort that one can put down to a communist regime, but rather a quality and focussed effort that any country should be able to manage. Particularly any developed nation.\n",
      "With the way the world has gone, though populations will have to acquire immunity. Better done through vaccine that infection, and if the vaccines are leaky but protective against hospitalisation and death then vaccination and then a mild infection might be better than no vaccine and infection.\n",
      "However, 1500 in the USA is small compared to the total cases in the USA.\n",
      "My worry isn't about the vaccine escape of the current strain, it's the potential for breeding a super vaccine escape strain that sets the world back to square one.\n",
      "\n",
      "##MARVINH2G2\n",
      "https://discussion.theguardian.com/comment-permalink/151173361\n",
      "https://profile.theguardian.com/user/id/102173891\n",
      "\n",
      "Hello - I mean a variant that breaks through the protection afforded by vaccines.\n",
      "For example, the AstraZeneca is only 10% effective against *mild* infection by the beta and gamma strains. Source, (among others), British Heart foundation so it is established scientific consensus.\n",
      "https://www.bhf.org.uk/informationsupport/heart-matters-magazine/news/coronavirus-and-your-health/covid-variant#SAoxford\n",
      "\n",
      "A small study of 2,000 people in South Africa has shown that the Oxford/AstraZeneca vaccine offers minimal protection against mild cases of the Beta variant, but the vaccine is still likely to reduce severe cases and deaths from the strain. \n",
      "The study, which was based people of an average age of 31, shows that protection may be as low as 10%. The research wasn’t able to determine whether it protects against serious illness or hospitalisation, because this group of people were at low risk of serious illness. Other research suggests that the vaccine is still likely to reduce severe cases and deaths from the B.1.351 strain. More research is needed in this area.\n",
      "Oxford University is working on adapting the vaccine to ensure that it protects against this variant, as well as other strains. They have said a ‘booster’ jab could be available by autumn 2021.\n",
      "\n",
      "Protection against serious illness is much stronger, though. My fear is, for example what if the delta strain repeats the \"E484K\" mutation that is common to both gamma and beta strains. \n",
      "Good British Medical Journal note on E484 as \"vaccine escape mutation\".\n",
      "https://www.bmj.com/content/372/bmj.n359\n",
      "And a good NYtimes article on mutations:\n",
      "https://www.nytimes.com/interactive/2021/health/coronavirus-variant-tracker.html\n",
      "\n",
      "##DAVE6723\n",
      "https://discussion.theguardian.com/comment-permalink/151174028\n",
      "https://profile.theguardian.com/user/id/18522661\n",
      "\n",
      "And not shared by other experts. There are always outliers, in any science, and always people who say \"do more\" when the targets may well want to do more but can't, or may have a broader perspective that says we can do more good overall by expending our resources on X not Y.\n",
      "Americans are normal humans and they're getting the same vaccines as countries which have sequenced and have published the answer for the global community. There may be higher priorities than repeating an experiment where it's 99.99% certain you'll get the answer you already know. There may be some information you can then publish which is irrelevant to the CDC but useful in public messaging, but that's another matter.\n",
      "All vaccines that are rolled out in an emergency are issued under Emergency Use provision, globally. That's what they're for. Since I don't want millions to die needlessly, I'm glad those provisions are there. They've had Phase 3 trials which is all they'd get under non-emergency provisions. They'd just take the monitoring of side effects more slowly.\n",
      "Because vaccine side effects almost always appear immediately or in a few weeks, especially with the mRNA vaccines which are metabolised within days, it's not like statins where you can get something unexpected emerging after 5 years of daily use. These are some of the most tested vaccines on the market, by monitoring the rollout. In the UK, it would take 50 years to get the same coverage for a one-shot childhood vaccine. because it's only given to one age cohort at a time.\n",
      "I know it's politicised. That doesn't make rejecting a vaccine \"because Trump\" any less stupid. Ditto \"because Biden\" or \"because Fauci\".\n",
      "\n",
      "##WAVINGPINES1971\n",
      "https://discussion.theguardian.com/comment-permalink/151175539\n",
      "https://profile.theguardian.com/user/id/18402706\n",
      "\n",
      "It's undeniable that the entire thing was politicized from the beginning. To those claiming that even though it has been \"politicized\"....the \"data\" is iron clad and incorruptible....How can you possibly know that? Is it faith? Religious people seem to get the same mystical \"certainty\" from praying about it.....Except the voices in their heads tell'em it's all \"fake\".....In the US, we ultimately rely on data collected and published by Pfizer to determine how well the Pfizer vaccine works.....We also rely on the data Moderna collects and publishes to determine how well the Moderna vaccine works...Yes yes I know, that data is then submitted and \"checked\" by regulatory boards....regulatory boards that are staffed with current industry share holders and former industry executives. Nothing shady about any of that right? We can completely trust those corporations right? I mean it's not like some major \"private\" drug company is currently being sued for lying about and pushing dangerous opioids that resulted in tens of thousands of deaths and countless destroyed lives purely for their own profit.....Just trust'em folks...they only ever have your best interests at heart, they \"promise for real\" this time........There is now independent, on the ground \"data\", coming in from Israel and Iceland with dramatically different figures than \"the companies\" are claiming..but, of course, the US isn't interested in those \"results\"....And now, the CDC isn't apparently interested in knowing how many \"breakthrough cases\" are even happening....Again, nothing strange or shady about that....\n",
      "\n",
      "##MASONINNY\n",
      "https://discussion.theguardian.com/comment-permalink/151174549\n",
      "https://profile.theguardian.com/user/id/12561368\n",
      "\n",
      "Sorry, that's unknowledgeable. Other federal republics give their states/provinces more independence in decision-making than the US gives to its 50 states. Canada's provinces are actually more autonomous. So is Bavaria, which regularly tries to thwart the German Federal Republic's reach into its \"own affairs.\" \n",
      "Vaccinations in the US are voluntary, and some people are refusing to comply. Full stop. Here in New York City, vax rates are lower in Republican enclaves and black-majority neighborhoods than elsewhere -- and lower than in larger southern cities and southern university towns. As for statistics, Florida is a Republican stronghold (with a Trump-friendly governor who vetoed mask mandates in schools), but its mostly urbanized counties do excellent first-world statistic-gathering, and local newspapers from the Miami Herald to the Florida Times-Union (in Jacksonville) report them. I'd rather live there than in at least 5 member-states of the EU. As for Provincetown: Massachusetts is as safe as anywhere in Europe.\n",
      "Yes, entire nations of the Holy European Union have higher Covid caseloads and much higher death rates than the US, or even US regions. And the death rate in prosperous Belgium and the UK -- with its NHS -- is still, respectively, much higher and a bit higher than the US rate. These inconvenient facts still don't prevent armchair analysis.\n",
      "\n",
      "##NOTDROWNINGJUSTWAVIN\n",
      "https://discussion.theguardian.com/comment-permalink/151169257\n",
      "https://profile.theguardian.com/user/id/3296858\n",
      "\n",
      "The Democrats have stopped supporting sceince since they came to power.Their policy now is to blame unvaccinated people for the problem. (Who are one problem)They have ignored data from Israel and also Holland and the UK.They publish deliberate misinformation. The head of the CDC stated virtually all deaths could be avoided. That was mid July when they had plenty of data in the USA showing it not to be the case.They picked Jan-Jun as to show 99.5% of deaths were unvaccinated, knowing a massive winter pre vaccination, pre delat wave would dilute the death rate.Even Dr Fauci on TV quoted the 99.5% with 24 hours of testifying to Congress using 90% as the fighter when under oath.They only classify vaccinated and unvaccinated is assumed. This is a statistical disaster, they should have an unknown group. This can easily make the figure twice as bad as presented even now.They continue to push vaccine passports, that in reality are now useless as the vaccine seems to only half the transmitability of a variant that is twice as transmitable as the previous one. They also have maintained travel restrictions on countries with most no Cases, like China, but allow travel from allies where Covid is rampant.If follow the science is, get as many vaccinated as you can and then do nothing else, then yes, they are following that.\n",
      "\n",
      "##GOLFFANATIC\n",
      "https://discussion.theguardian.com/comment-permalink/151172232\n",
      "https://profile.theguardian.com/user/id/4577049\n",
      "\n",
      "2 Aug 2021 BMJ:\n",
      "\n",
      "In the UK the expert advisory board SAGE predicted that new variants will eventually overcome existing vaccines. \n",
      "“As eradication of SARS-CoV-2 will be unlikely, we have high confidence in stating that there will always be variants,” the panel reported. A variant bringing more severe disease with mortality like SARS-CoV (10%) or MERS-CoV (~35%) was a “realistic possibility,” as was a variant that finds an animal reservoir then returns to strike humans in an evolved, vaccine resistant form. A sharp antigenic shift that changes the spike protein on the virus enough to evade current vaccines is also a realistic possibility, SAGE said.\n",
      "\n",
      "and\n",
      "\n",
      "Jeffrey Shaman, an epidemiologist at Columbia University, said, “In some sense, vaccination is now about personal protection—protecting oneself against severe disease. Herd immunity is not relevant as we are seeing plenty of evidence of repeat and breakthrough infections.” \n",
      "Andrew Noymer, an epidemiologist at U California at Irvine: “Although most cases did not result in hospital admission, showing the vaccine works in an important way, this study is portentous for the achievement of herd immunity. If the vaccinated can become infected and, we believe from other studies, potentially spread covid, then herd immunity becomes more mirage than oasis.”\n",
      "\n",
      "##DAVE6723\n",
      "https://discussion.theguardian.com/comment-permalink/151172630\n",
      "https://profile.theguardian.com/user/id/18522661\n",
      "\n",
      "Err, that's another single opinion.\n",
      "And is about the professional advice of the CDC scientists, not a statement by the Biden administration so we're going round in circles.\n",
      "An anyway mask or no mask is not declaring victory. Masks are a fractional addition to protection, mostly of others. We know from multiple scientific studies, outside the USA if you don't trust US ones, that vaccinated individuals are less likely to be infected, and if they are they typically have a much lower viral load so should shed less. So in the cost-benefit analysis it is a way to loosen up for the part of the population that has done the right thing (so maybe a bit of carrot-and-stick there).\n",
      "It's not something I would do, and my country has retained masks in public transport, crowded indoor places such as stores, and for teenagers in crowded indoor parts of the school. But mask-wearing is not the massively polarised political issue I read it is in the USA. So maybe they think striking a compromise will get the best overall outcome. That's part of the scientists' job, which is why those committees usual include social scientists as well as epidemiologists and vaccinologists. And maybe it was the right overall balance with Alpha, but not with Delta where people shed ten times as much virus.\n",
      "\n",
      "##GOLFFANATIC\n",
      "https://discussion.theguardian.com/comment-permalink/151174096\n",
      "https://profile.theguardian.com/user/id/4577049\n",
      "\n",
      "I disagree(-d) with the statement \n",
      "\n",
      "it may help for formulating the annual booster ingredients\n",
      "\n",
      "Nothing to do with 'individual decision making', nor, actually, with the need for 'publishing data on every hospitalized case'. Not only impractical but unnecessary. \n",
      "What is necessary - and vital - is the response to surges by sequencing cases to identify variants and specific new mutations or mutation clusters in order to take action to mitigate spread. And to be able to assess the \"enemy's\" new weapons.\n",
      "Surprised if you don't consider that an element of \"public health\"\n",
      "Fully agree regarding the god-awful messaging from the beginning: The UK govt was well-aware of the need for honest, consistent, unemotional, non-politicized , trustworthy communication with the public - the need for this was spelled out in their extensive epidemic/public health emergency planning.\n",
      "Total fail in this regard and the consequences have been dire.\n",
      "Of course vaccine uptake must be increased because we're in a race with the evolutionary pressure on the virus, which should not be minimized: trick is that you (and most of us) also want/need access to all \n",
      "\n",
      "the data being gathered.\n",
      ", said data being misunderstood or distorted to support anti-vaccine responses.\n",
      "\n",
      "##BOJOHARAM\n",
      "https://discussion.theguardian.com/comment-permalink/151175867\n",
      "https://profile.theguardian.com/user/id/105623417\n",
      "\n",
      "Statistically, it has to be. Substantially higher in fact, even if it's less as a proportion of the population. But regardless, the loud, ideologically-driven anti-vaxxers are better represented in the media in the form of Tucker Carlson etc., support for their views appears to overlap significantly with support for other conspiracy theories which carry an outsize political weight, and they appear better able to evangelise for their cause - even if it's only amongst their own political cohort - than people who are just hesitant about getting the vaccine for (mostly fictitious) health reasons, or for reasons relating to religion.\n",
      "I don't know much at all about the racial demographics of NY or about the vaccine rollout there, but I do know that Asian people as a cohort make higher than average wages. This suggests to me a higher level of education, less poverty etc. which I would think (but don't know) would correspond with greater willingness to get vaccinated.\n",
      "I certainly can't imagine that vaccine passporting would *reduce* racial tensions, but lots of things can raise racial tensions and that happens every year anyway. That's not a good enough reason to avoid bringing in measures to reduce the spread of a deadly virus.\n",
      "\n",
      "##MAKOMK\n",
      "https://discussion.theguardian.com/comment-permalink/151174733\n",
      "https://profile.theguardian.com/user/id/3961188\n",
      "\n",
      "The trouble is, there's a huge amount of pressure from the US media, political activists, even the White House to some extent, to downplay and mislead people about the limited effectiveness of the vaccines for partisan reasons. Vaccination is seen as a left-wing, anti-Trump cause and anything which calls into question the idea that the US could just end Covid right now if it wasn't for those dangerous Trump-supporting Republican anti-vaxxers a dangerous act of betrayal. For example, many point to stats like the one mentioned in the article about how only a tiny proportion of people who're vaccinated have been hospitalized or died to insist that headlines accurately reporting on how much vaccines are believged reduce the risk of being infected, hospitalized or dying are misleading. In reality, the smaller stats are the misleading ones - only a tiny proportion of the US population in general have been hospitalized or died over the time period where vaccines have been available, but since people don't have that information to compare to they think it says more about the effectiveness of vaccines than it really does.\n",
      "\n",
      "##BRADIPO\n",
      "https://discussion.theguardian.com/comment-permalink/151172196\n",
      "https://profile.theguardian.com/user/id/16775246\n",
      "\n",
      "I find it surprising that the US cannot provide daily data, as it happens, for example in Italy (I'm Italian) and, I'm sure, in many other countries. Our Health Minister web site gives up-dated and plenty of information and data.All TVs are doing it as well, daily, many times a day. And we, people, are paying great attention. I believe that this is connected to the general care we Italians have for health. We (left,center or right) care a lot about how is produced our food, about the quality of our water and air, about the quality of almost every good we buy and use. I believe we are the only country that, after Chernobyl, refused atomic energy by referendum. In the past 3 years, having more free time available, I have collected as many information as possible about the US and UK, mainly following the astonishment about US people choice of Trump as president and the UK decision to leave EU. I believe that neither in the US nor in the UK there is a similar popular attitude. My opinion is that people's reaction and beheaviour to Covid19 is reflecting a country's style and philosophy of life.\n",
      "\n",
      "##NOTDROWNINGJUSTWAVIN\n",
      "https://discussion.theguardian.com/comment-permalink/151169438\n",
      "https://profile.theguardian.com/user/id/3296858\n",
      "\n",
      "That's not verified anywhere.The only country to get good data on vaccines vs the Delta variant is Israel, and they have reverted to many restrictions based on what they have seen.It appears that vaccination gives somewhere between 5x and 10x the protection of not being vaccinated.There are huge holes in the data in the USA. All who are unkown status are assemwd unvaxinated. This is a disaster.If the average age is 65 and the vaccination rate is 70% in this age group. 7 of 10 unknowns are in fact vaccinated.Reporting 95 out of 100 vaccinated is great, but if 10% are unknowns, another 7 are actually breakthrough deaths, taking 95 to 88%.It's the middle of summer and it's worse than last summer, nobody is taking this into consideration.The number or childred getting hospitalized in the USA is a concern. 300 per day is a lot, anecdotally it is worse on the young, data not available yet.Last year 600,000 died in the USA with plenty of mitigation in place.If it's 5x better, that's still 120,000 with mitigation, how many without.This winter may we'll be as and as the last one.\n",
      "\n",
      "##OROADFC\n",
      "https://discussion.theguardian.com/comment-permalink/151172158\n",
      "https://profile.theguardian.com/user/id/4690766\n",
      "\n",
      "If you ask me this virus is just international communism and if you give into communism you might as well give up the united states, the only way to fight this is through the second amendment, with the right to bear arms, and the guts to use them, you won't see no coroneyvirus on my street because me and my neighbours are packing, and all this goshdarn foolishness about catching disease is just the government trying to steal my bullets, and the vaccines are only being offered to law-abiding gun owners to track us with miniature cameras and see where we keep our weapons so the FBI can come and seize them, well out of my cold dead hands buddy and millions more. we aint given up our guns no sir just so you can have some international communism virus come and tell us what to do, you just wait to see what President Trump says before they used the vaccines to cheat him out of home and office, saying they found it the day after the election, yeh sure boy, and my ar-15 is fulla blanks, do you want to test out the veracity of my magazine capacity, ha\n"
     ]
    }
   ],
   "source": [
    "all_comments.sort(key=lambda x : -len(x) )\n",
    "print( '\\n\\n'.join(all_comments[:20]) )"
   ]
  },
  {
   "cell_type": "code",
   "execution_count": 18,
   "metadata": {},
   "outputs": [
    {
     "name": "stderr",
     "output_type": "stream",
     "text": [
      "[nltk_data] Downloading package vader_lexicon to\n",
      "[nltk_data]     /home/gregmcshane/nltk_data...\n",
      "[nltk_data]   Package vader_lexicon is already up-to-date!\n"
     ]
    }
   ],
   "source": [
    "#https://towardsdatascience.com/sentimental-analysis-using-vader-a3415fef7664\n",
    "\n",
    "import nltk\n",
    "#nltk.download('vader_lexicon')\n",
    "\n",
    "from nltk.sentiment.vader import SentimentIntensityAnalyzer\n",
    "\n",
    "sid = SentimentIntensityAnalyzer()"
   ]
  },
  {
   "cell_type": "code",
   "execution_count": 22,
   "metadata": {},
   "outputs": [],
   "source": [
    "a = '''My views haven't changed. Leaving the EU will be of no benefit to anyone except those who hold money and power along with certain corporates and a smidgen of medium to small businesses.\n",
    "How else can it be when you are shutting shop to the most developed nations, the richest nations in the world, who are either in the EU or have market agreements with the EU. Even the emerging markets of China and India along with other developing economies are aspiring to develop trading agreements with the EU, the second largest economy in the world. Any deal with the UK will be secondary and will depend upon their agreement with the EU.\n",
    "Boris Johnson once said \"f**k business\". I take this as meaning there is something in it for them and they don't really care if businesses find it difficulA\n",
    "t to cope.\n",
    "I can see ministers and conservative MPs queuing to fill their pockets by acting as advisors for potential trade deals whilst the rest of the country are left struggling trying to rebuild their lives, especially following the pandemic. The same ministers will probably be looking to lower all kinds of standards from food and welfare to safety at work to improve their opportunities.\n",
    "When it comes to brinkmanship, I can only view this as getting away with whatever they can. I do not believe it is anything to do with negotiating an agreement that will be to the benefit of the UK or the EU as a whole, I don't believe our ministers are capable of doing that.'''"
   ]
  },
  {
   "cell_type": "code",
   "execution_count": 24,
   "metadata": {},
   "outputs": [
    {
     "ename": "TypeError",
     "evalue": "sentiment_valence() missing 4 required positional arguments: 'sentitext', 'item', 'i', and 'sentiments'",
     "output_type": "error",
     "traceback": [
      "\u001b[0;31m------------------------------------------------------------\u001b[0m",
      "\u001b[0;31mTypeError\u001b[0m                  Traceback (most recent call last)",
      "\u001b[0;32m<ipython-input-24-6f3326dcf5de>\u001b[0m in \u001b[0;36m<module>\u001b[0;34m\u001b[0m\n\u001b[1;32m      1\u001b[0m \u001b[0msid\u001b[0m\u001b[0;34m.\u001b[0m\u001b[0mpolarity_scores\u001b[0m\u001b[0;34m(\u001b[0m\u001b[0ma\u001b[0m\u001b[0;34m)\u001b[0m\u001b[0;34m\u001b[0m\u001b[0m\n\u001b[0;32m----> 2\u001b[0;31m \u001b[0msid\u001b[0m\u001b[0;34m.\u001b[0m\u001b[0msentiment_valence\u001b[0m\u001b[0;34m(\u001b[0m\u001b[0ma\u001b[0m\u001b[0;34m)\u001b[0m\u001b[0;34m\u001b[0m\u001b[0m\n\u001b[0m",
      "\u001b[0;31mTypeError\u001b[0m: sentiment_valence() missing 4 required positional arguments: 'sentitext', 'item', 'i', and 'sentiments'"
     ]
    }
   ],
   "source": [
    "sid.polarity_scores(a)\n",
    "sid.sentiment_valence(a)"
   ]
  },
  {
   "cell_type": "code",
   "execution_count": 12,
   "metadata": {},
   "outputs": [
    {
     "name": "stdout",
     "output_type": "stream",
     "text": [
      "##KERFUFFLING\n",
      "https://discussion.theguardian.com/comment-permalink/151018838\n",
      "https://profile.theguardian.com/user/id/4016829\n",
      "\n",
      "“The libertarians contend that vaccine passports will fundamentally compromise the freedom of the individual”\n",
      "\n",
      "The blinkered, **MYO**pic and single mindedness of these so called \"libertarians\" is, well to put it mildly, absolutely staggering.\n",
      "What they determine to be freedom is quite simply whatever affects them at any given time. The freedom of others is irrelevant. With the case of de Piffle Johnson and those that are attracted to the dim glow of his gibbering pronouncements (I mean, really, after \"er, umming\" his way through something that is not very obvious as to what he is making an attempt to disclose they all roar \"hear, hear\", \"indeed\", \"spot on\". Seriously?) there is little actual cognisance other than congregating around a flag. A symbol of imaginary freedoms and liberties, which each has in their own image. Very much a \"Don't walk on the grass\" obviously not applying to them. Money and self determined privileges go hand in hand. No money, no status, no privileges. Or rights for that matter.\n",
      "Take in to consideration a recent Tory party statement...................\n",
      "\n",
      "“Fundraising is a legitimate part of the democratic process. The alternative is more taxpayer-funding of political campaigning, which would mean less money for frontline services like schools, police and hospitals.”\n",
      "\n",
      "Fundraising may well be a legitimate part of the democratic process but that doesn't mean that some donations are used in an open and honest way. Trying to insist this is an honourable defence of the democratic process is risible when the statement includes, what is to all intents and purposes a threat, with the public being asked to pay more in tax and subsequently schools, police and hospitals will suffer. In other words they will hit them first just to prove a point. Rather than wasting £40 million on teaching Latin to all and sundry at Boghampton and Scumsley's state schools merely to attempt to prove a point. If that isn't the antithesis to \"woke\" I don't know what is. Culture warriors sabre rattling to shake the leaves from the trees.\n",
      "The very right to be an ignoramus while claiming to hold the highest of moralistic high grounds is at stake here. Apparently.\n",
      "\n",
      "##**MYO**THERNAMEISREAL\n",
      "https://discussion.theguardian.com/comment-permalink/151017617\n",
      "https://profile.theguardian.com/user/id/17009209\n",
      "\n",
      "Early in 2020, when vaccines were but a gleam in the gloom of the first wave of Covid, I remarked that in addition to making effective vaccines, we will need to manage issues like planning the process of delivering and subsequently proving vaccination.\n",
      "That these issues would be worldwide was obvious. We do not need to reach the point of approving every single vaccine for domestic use before accepting them - just be convinced that the vaccines are moderately effective. Other countries might, for many reasons, end up using vaccines we consider inappropriate in the UK. Maybe side effects are worse? Or someone comes up with a combined flu and Covid vaccine?\n",
      "Even now, we are hearing about the need for double-vaccinations- ignoring the single-injection Janssen vaccine. Providing little guidance for those who have had two different vaccines (for whatever reason).\n",
      "From where we are, I'd now be very unlikely to volunteer for vaccine testing - in case the vaccine/vaccine combination doesn't count officially - domestically or abroad, or I can't get a second vaccination. An area almost wholly ignored by politicians.\n",
      "The government has had well over a year to come up with the basic framework and to discuss with the WHO and rest of the world. Yet appears to be making it up on the hoof.\n",
      "\n",
      "##**MYO**THERNAMEISREAL\n",
      "https://discussion.theguardian.com/comment-permalink/151018115\n",
      "https://profile.theguardian.com/user/id/17009209\n",
      "\n",
      "It does rather look that way, but we still have 20 million doses ordered - from BBC website yesterday.\n",
      "It is approved so planning and announcements should take it into account.\n"
     ]
    }
   ],
   "source": [
    "target = 'decolon'\n",
    "target = 'myo'\n",
    "#get = 'vacc'\n",
    "\n",
    "\n",
    "xx = [x for x in all_comments if target.lower() in x.lower() and  len(x) > 20]\n",
    "yy = [x for x in all_comments if '#pin' in x.lower() and 2000 > len(x) > 20]\n",
    "\n",
    "#print('\\n\\n'.join( ['\\n\\n'.join(x) for x in zip(xx,yy)])  )\n",
    "\n",
    "\n",
    "#print( '\\n\\n'.join(xx).replace(target, ) )\n",
    "pxx = re.compile(target, re.I)\n",
    "print( pxx.sub('**' + target.upper() + '**', \n",
    "              '\\n\\n'.join(xx)) )\n",
    "               \n",
    "#print( '\\n\\n'.join(xx) )\n"
   ]
  },
  {
   "cell_type": "code",
   "execution_count": 20,
   "metadata": {},
   "outputs": [
    {
     "data": {
      "text/plain": [
       "0.7820401046207497"
      ]
     },
     "execution_count": 20,
     "metadata": {},
     "output_type": "execute_result"
    }
   ],
   "source": [
    "(26/31) / (74/69)"
   ]
  },
  {
   "cell_type": "code",
   "execution_count": 64,
   "metadata": {},
   "outputs": [
    {
     "data": {
      "text/plain": [
       "529"
      ]
     },
     "execution_count": 64,
     "metadata": {},
     "output_type": "execute_result"
    }
   ],
   "source": [
    "23**2"
   ]
  },
  {
   "cell_type": "markdown",
   "metadata": {},
   "source": [
    "## "
   ]
  },
  {
   "cell_type": "code",
   "execution_count": 21,
   "metadata": {},
   "outputs": [
    {
     "data": {
      "text/plain": [
       "211"
      ]
     },
     "execution_count": 21,
     "metadata": {},
     "output_type": "execute_result"
    }
   ],
   "source": [
    "84 + 127"
   ]
  },
  {
   "cell_type": "code",
   "execution_count": 24,
   "metadata": {},
   "outputs": [
    {
     "data": {
      "text/plain": [
       "1.2842073077511085"
      ]
     },
     "execution_count": 24,
     "metadata": {},
     "output_type": "execute_result"
    }
   ],
   "source": [
    "84/211/.31"
   ]
  },
  {
   "cell_type": "code",
   "execution_count": 25,
   "metadata": {},
   "outputs": [
    {
     "data": {
      "text/plain": [
       "0.8723126588364586"
      ]
     },
     "execution_count": 25,
     "metadata": {},
     "output_type": "execute_result"
    }
   ],
   "source": [
    "127/211/.69"
   ]
  },
  {
   "cell_type": "code",
   "execution_count": 26,
   "metadata": {},
   "outputs": [
    {
     "data": {
      "text/plain": [
       "1.471264367816092"
      ]
     },
     "execution_count": 26,
     "metadata": {},
     "output_type": "execute_result"
    }
   ],
   "source": [
    "1.28/.87"
   ]
  },
  {
   "cell_type": "code",
   "execution_count": null,
   "metadata": {},
   "outputs": [],
   "source": []
  }
 ],
 "metadata": {
  "kernelspec": {
   "display_name": "NLPkernel",
   "language": "python",
   "name": "nlpkernel"
  },
  "language_info": {
   "codemirror_mode": {
    "name": "ipython",
    "version": 3
   },
   "file_extension": ".py",
   "mimetype": "text/x-python",
   "name": "python",
   "nbconvert_exporter": "python",
   "pygments_lexer": "ipython3",
   "version": "3.6.5"
  }
 },
 "nbformat": 4,
 "nbformat_minor": 2
}
