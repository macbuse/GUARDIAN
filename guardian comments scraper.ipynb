{
 "cells": [
  {
   "cell_type": "raw",
   "metadata": {},
   "source": [
    "# Basic scraping for Guardian discussions u"
   ]
  },
  {
   "cell_type": "code",
   "execution_count": 1,
   "metadata": {},
   "outputs": [
    {
     "name": "stdout",
     "output_type": "stream",
     "text": [
      "[master 705b837] web\n",
      " 3 files changed, 1090 insertions(+), 1110 deletions(-)\n",
      " rewrite guardian comments scraper.ipynb (69%)\n",
      " create mode 100644 jnntf.pkl\n",
      " create mode 100644 k9va7.pkl\n",
      "Counting objects: 5, done.\n",
      "Delta compression using up to 12 threads.\n",
      "Compressing objects: 100% (5/5), done.\n",
      "Writing objects: 100% (5/5), 1.08 MiB | 163.00 KiB/s, done.\n",
      "Total 5 (delta 2), reused 0 (delta 0)\n",
      "remote: Resolving deltas: 100% (2/2), completed with 1 local object.\u001b[K\n",
      "To https://github.com/macbuse/GUARDIAN.git\n",
      "   961a95f..705b837  master -> master\n"
     ]
    }
   ],
   "source": [
    "! ./.g\n"
   ]
  },
  {
   "cell_type": "code",
   "execution_count": 59,
   "metadata": {},
   "outputs": [],
   "source": [
    "with open('guardian comments scraper.ipynb','r') as fp:\n",
    "    nb = fp.read()"
   ]
  },
  {
   "cell_type": "code",
   "execution_count": 60,
   "metadata": {},
   "outputs": [],
   "source": [
    "import re\n",
    "\n",
    "pp = re.compile(\"(https://www.the.*?)'\")\n",
    "lks = pp.findall(nb)\n",
    "\n",
    "with open('links.txt','a') as fp:\n",
    "    fp.write('\\n'.join(lks))"
   ]
  },
  {
   "cell_type": "code",
   "execution_count": 1,
   "metadata": {},
   "outputs": [],
   "source": [
    "import re \n",
    "import requests\n",
    "import pickle\n",
    "import json"
   ]
  },
  {
   "cell_type": "code",
   "execution_count": 9,
   "metadata": {},
   "outputs": [],
   "source": [
    "article_url = 'https://www.theguardian.com/commentisfree/2020/aug/19/ditch-the-algorithm-generation-students-a-levels-politics'\n",
    "article_url = 'https://www.theguardian.com/commentisfree/2020/aug/21/joe-biden-democrat-convention-nice-guy-trump-fight'\n",
    "article_url = 'https://www.theguardian.com/commentisfree/2020/aug/23/the-cruel-exams-algorithm-has-laid-bare-the-unfairness-at-the-heart-of-our-schools'\n",
    "article_url = 'https://www.theguardian.com/commentisfree/2020/sep/01/us-mainstream-right-vigilante-terror'\n",
    "article_url = 'https://www.theguardian.com/commentisfree/2020/aug/31/politicians-covid-19-statistics-statisticians'\n",
    "article_url = 'https://www.theguardian.com/commentisfree/2021/apr/14/boris-johnson-is-telling-scotland-that-the-union-is-no-longer-based-on-consent'\n",
    "article_url = 'https://www.theguardian.com/commentisfree/2021/may/10/retail-politics-movements-polarising-projects-promise'"
   ]
  },
  {
   "cell_type": "code",
   "execution_count": 11,
   "metadata": {},
   "outputs": [],
   "source": [
    "article_url = 'https://www.theguardian.com/commentisfree/2020/sep/29/rival-scientists-lockdowns-scientific-covid-19'\n",
    "article_url = 'https://www.theguardian.com/commentisfree/2020/oct/08/johnson-and-sturgeon-will-need-a-better-philosophy-than-precaution-to-rid-us-of-covid'\n",
    "article_url = 'https://www.theguardian.com/commentisfree/2020/oct/10/continual-local-lockdowns-answer-covid-control'\n",
    "article_url = 'https://www.theguardian.com/commentisfree/2020/oct/11/the-rebel-scientists-cause-would-be-more-persuasive-if-it-werent-so-half-baked'\n",
    "\n",
    "article_url = 'https://www.theguardian.com/commentisfree/2021/apr/03/undermining-the-astrazeneca-jab-is-a-dangerous-act-of-political-folly#comment-148440261'\n",
    "article_url = 'https://www.theguardian.com/commentisfree/2021/apr/09/boris-johnson-brexit-belfast-violence-eu-good-friday-agreement'\n",
    "article_url ='https://www.theguardian.com/commentisfree/2021/apr/02/culture-war-government-race-report'\n",
    "article_url = 'https://www.theguardian.com/commentisfree/2021/mar/18/britain-sunny-vaccine-optimism-april-delivery-delay'\n",
    "article_url ='https://www.theguardian.com/commentisfree/2021/apr/14/boris-johnson-is-telling-scotland-that-the-union-is-no-longer-based-on-consent'\n",
    "article_url = 'https://www.theguardian.com/commentisfree/2021/apr/15/britain-harness-social-sciences-covid-pandemic-deprivation'\n",
    "article_url = 'https://www.theguardian.com/commentisfree/2021/apr/16/government-race-report-evidence#comment-148662066'\n",
    "article_url ='https://www.theguardian.com/commentisfree/2021/apr/20/britain-falling-birthrate-covid-pandemic-conservatives-removed-support-for-parents'\n",
    "article_url = 'https://www.theguardian.com/commentisfree/2021/apr/21/bmi-eating-disorder-pandemic-treatment'\n",
    "article_url = 'https://www.theguardian.com/commentisfree/2021/apr/30/government-delays-covid-public-inquiry-health-crisis'\n",
    "article_url = 'https://www.theguardian.com/commentisfree/2021/may/07/humiliation-hartlepool-smalltown-detective-di-starmer'\n",
    "article_url ='https://www.theguardian.com/commentisfree/2021/aug/06/uk-government-experts-vaccinating-under-16s'\n",
    "article_url = 'https://www.theguardian.com/commentisfree/2021/aug/01/there-is-a-case-for-vaccine-passports-but-ministers-are-failing-to-make-it'\n",
    "article_url = 'https://www.theguardian.com/commentisfree/2021/aug/09/america-is-flying-blind-when-it-comes-to-the-delta-variant'\n",
    "article_url = 'https://www.theguardian.com/commentisfree/2021/aug/10/covid-vaccines-britain-scientific-solution-jabs'\n",
    "article_url = 'https://www.theguardian.com/commentisfree/2021/aug/13/denial-anti-vaxxers-climate-sceptics'\n",
    "article_url = 'https://www.theguardian.com/commentisfree/2018/apr/11/bbc-andrew-neil-media-politics'\n",
    "\n",
    "article_url = 'https://www.theguardian.com/commentisfree/2021/aug/15/vaccine-passports-are-less-a-threat-to-liberty-than-a-mark-of-solidarity'\n",
    "article_url = 'https://www.theguardian.com/theobserver/commentisfree/2021/aug/14/will-we-reach-herd-immunity-for-the-new-coronavirus'\n",
    "article_url = 'https://www.theguardian.com/commentisfree/2021/aug/15/vaccine-hesitancy-broken-relationship-state-conspiracy-theorists'\n",
    "article_url = 'https://www.theguardian.com/commentisfree/2021/aug/17/dominic-raab-news-foreign-secretary-taliban-kabul'\n",
    "article_url= 'https://www.theguardian.com/commentisfree/2021/dec/11/so-which-of-these-politicians-is-a-neoliberal-not-one-of-them'\n",
    "\n",
    "article_url = 'https://www.theguardian.com/commentisfree/2021/dec/12/omicron-is-sneaky-it-could-be-fatal-for-us-or-for-our-faith-in-government'"
   ]
  },
  {
   "cell_type": "code",
   "execution_count": 13,
   "metadata": {},
   "outputs": [],
   "source": [
    "article_url ='https://www.theguardian.com/commentisfree/2021/dec/06/google-silicon-valley-ai-timnit-gebru'\n",
    "article_url = 'https://www.theguardian.com/commentisfree/2021/dec/20/rightwingers-us-social-change-coming'\n",
    "article_url = 'https://www.theguardian.com/commentisfree/2021/dec/22/omicron-covid-restrictions-young-people'\n",
    "article_url = 'https://www.theguardian.com/politics/2022/jan/01/sir-tim-brighouse-many-hold-gove-responsible-expert-educator-sets-out-whats-gone-wrong-with-britains-schools'\n",
    "article_url ='https://www.theguardian.com/commentisfree/2022/jan/10/colston-four-britain-apology-for-past'\n",
    "article_url = 'https://www.theguardian.com/commentisfree/2022/jan/21/democrats-shape-up-bidens-presidency-trumpian-sequel'\n",
    "article_url = 'https://www.theguardian.com/commentisfree/2022/jan/28/joe-rogan-neil-young-spotify-streaming-service'"
   ]
  },
  {
   "cell_type": "code",
   "execution_count": 7,
   "metadata": {},
   "outputs": [],
   "source": [
    "article_url = 'https://www.theguardian.com/commentisfree/2022/mar/04/ukraine-eu-membership-zelenskiy-european-values-war'\n",
    "article_url = 'https://www.theguardian.com/commentisfree/2022/feb/27/liberal-democracies-must-defend-their-values-and-show-putin-that-the-west-isnt-weak'\n",
    "article_url = 'https://www.theguardian.com/commentisfree/2022/mar/06/progress-women-international-womens-day-labour-party'\n",
    "article_url = 'https://www.theguardian.com/commentisfree/2022/mar/09/vladimir-putin-west-downfall-dictator-democracies'\n",
    "article_url = 'https://www.theguardian.com/commentisfree/2022/mar/26/britain-clocks-go-forward-eu-us-hour-changes'\n",
    "article_url = 'https://www.theguardian.com/commentisfree/2022/mar/27/for-brazen-cynicism-i-have-seen-nothing-like-sunaks-plan-in-40-years'"
   ]
  },
  {
   "cell_type": "code",
   "execution_count": 15,
   "metadata": {},
   "outputs": [],
   "source": [
    "article_url = 'https://www.theguardian.com/commentisfree/2022/apr/01/straight-women-tv-shows-lesbians-sally-wainwright'\n",
    "article_url ='https://www.theguardian.com/commentisfree/2022/apr/06/united-nations-putin-ukraine-catastrophic'\n",
    "article_url = 'https://www.theguardian.com/commentisfree/2022/apr/10/stench-entitlement-now-oozing-from-rishi-sunaks-home-as-well-as-boris-johnsons'\n",
    "article_url = 'https://www.theguardian.com/commentisfree/2022/apr/10/orban-le-pen-voters-sening-chill-message-to-europes-beleagured-centre'\n",
    "article_url = 'https://www.theguardian.com/commentisfree/2022/apr/11/france-populism-gaining-ground-revolution'\n",
    "\n",
    "article_url = 'https://www.theguardian.com/commentisfree/2022/apr/12/herd-immunity-covid-reinfection-virus-world'\n",
    "article_url = 'https://www.theguardian.com/commentisfree/2022/apr/17/whoever-ends-up-in-elysee-palace-europeanism-is-already-on-the-way-out'\n",
    "article_url = 'https://www.theguardian.com/commentisfree/2022/apr/17/nato-should-talk-less-and-do-more-or-ukraine-will-be-torn-apart-bit-by-bit'\n",
    "article_url = 'https://www.theguardian.com/commentisfree/2022/apr/20/france-emmanuel-macron-president-far-right-marine-le-pen'\n",
    "article_url ='https://www.theguardian.com/commentisfree/2022/apr/23/france-vote-le-pen-macron-tv-debate-far-right'\n",
    "article_url = 'https://www.theguardian.com/commentisfree/2022/apr/22/hips-dont-lie-liam-gallagher-replacement-surgery-older-bodies'\n",
    "\n",
    "article_url = 'https://www.theguardian.com/commentisfree/2022/apr/25/french-left-emmanuel-macron-marine-le-pen-far-right-president'"
   ]
  },
  {
   "cell_type": "code",
   "execution_count": null,
   "metadata": {},
   "outputs": [],
   "source": [
    "key = my_keys.keys['guardian']"
   ]
  },
  {
   "cell_type": "code",
   "execution_count": 16,
   "metadata": {},
   "outputs": [
    {
     "name": "stdout",
     "output_type": "stream",
     "text": [
      "/p/ybxgx\n",
      "getting comments page no. 1\n",
      "there are 8 pages\n",
      "getting comments page no. 2\n",
      "getting comments page no. 3\n",
      "getting comments page no. 4\n",
      "getting comments page no. 5\n",
      "getting comments page no. 6\n",
      "getting comments page no. 7\n",
      "getting comments page no. 8\n",
      "archiving to ybxgx.pkl\n"
     ]
    }
   ],
   "source": [
    "#scrape the page and get the short url\n",
    "# 15/8/21  this failed and gave /p/temp\n",
    "short_url_pp =  re.compile('\"shortUrlId\":\"(.*?)\"')\n",
    "\n",
    "r = requests.get(article_url)\n",
    "mm = short_url_pp.search(r.text)\n",
    "short_url = mm.group(1)\n",
    "uu = r.text\n",
    "print(short_url)\n",
    "\n",
    "#the short url allows us to access the discussion\n",
    "# 15/8/21 api.nextgen.guardianapps.co.uk/discussion/ failed on \n",
    "# https://discussion.theguardian.com/discussion-api/discussion/p/tfmxg\n",
    "comments_url = 'https://api.nextgen.guardianapps.co.uk/discussion/%s.json'%short_url\n",
    "params = {'orderBy' : 'newest',\n",
    "          'pageSize' : 25,\n",
    "          'displayThreaded' : 'true',\n",
    "          'commentsClosed' : 'false',\n",
    "          'page' : '',\n",
    "          'maxResponses' : 50\n",
    "         }\n",
    "\n",
    "json_data =  []\n",
    "start_page  = 1\n",
    "last_page = None\n",
    "\n",
    "\n",
    "for num_page in range(start_page, 10**4):\n",
    "    print('getting comments page no.', num_page)\n",
    "    params['page'] = num_page\n",
    "    r = requests.get( comments_url, params=params)\n",
    "    json_data.append( r.text)\n",
    "    #The last page is a field in the json object\n",
    "    #I don't need to read this as json I could do a regexp\n",
    "    if num_page == start_page:\n",
    "        json_dict = json.loads(r.text)\n",
    "        last_page = json_dict['lastPage']\n",
    "        print('there are %d pages'%last_page)\n",
    "    if num_page == last_page : break\n",
    "        \n",
    "\n",
    "fn = '%s.pkl'%short_url.split('/')[-1]\n",
    "print('archiving to %s'%fn)\n",
    "with open(fn,'wb') as fp:\n",
    "    pickle.dump(json_data,fp)"
   ]
  },
  {
   "cell_type": "code",
   "execution_count": 2,
   "metadata": {},
   "outputs": [],
   "source": [
    "import pickle\n",
    "\n",
    "json_data = pickle.load(open('k4vhe.pkl','rb'))"
   ]
  },
  {
   "cell_type": "markdown",
   "metadata": {},
   "source": [
    "---\n",
    "\n",
    "## remember each page of comments has been stored separately"
   ]
  },
  {
   "cell_type": "code",
   "execution_count": 9,
   "metadata": {},
   "outputs": [
    {
     "data": {
      "text/plain": [
       "14"
      ]
     },
     "execution_count": 9,
     "metadata": {},
     "output_type": "execute_result"
    }
   ],
   "source": [
    "dd = json.loads(json_data[0])\n",
    "len(json_data)"
   ]
  },
  {
   "cell_type": "code",
   "execution_count": 19,
   "metadata": {},
   "outputs": [
    {
     "data": {
      "text/plain": [
       "'\\n<div class=\"d-discussion d-discussion--recommendations-open u-cf\"\\n     data-read-only=\"false\" >\\n\\n    \\n    \\n        <div class=\"d-discussion__size-message\">\\n            Due to the large number of comments, they are being shown 100 per page.\\n        </div>\\n    \\n\\n\\n    <ul class=\"d-thread d-thread--comments js-new-comments\">\\n\\n        \\n            \\n\\n<li class=\"d-comment\\n            d-comment--top-level d-comment-staff\"\\n           id=\"comment-154007965\"\\n           data-comment-id=\"154007965\"\\n           data-comment-author=\"CommunityMod\"\\n           data-comment-replies=\"0\"\\n           data-comment-timestamp=\"2022-01-01T18:00:47.000Z\"\\n           data-comment-author-id=\"2902769\"\\n           data-comment-highlighted=\"false\"\\n           itemscope itemtype=\"http://schema.org/Comment\">\\n\\n    <div class=\"d-comment__inner d-comment__inner--top-level\">\\n        <div class=\"d-comment__meta\">\\n            <span class=\"d-comment__avatar-wrapper\">\\n                <img src=\"https://avatar.guim.co.uk/user/2902769\" alt=\"\" class=\"d-comment__avatar\"/>\\n            </span>\\n            <div class=\"d-comment__meta-text\">\\n                <span\\n                    itemscope\\n                    itemprop=\"author\"\\n                    itemtype=\"http://schema.org/Person\"\\n                    title=\"CommunityMod\"\\n                    class=\"d-comment__author\">\\n                    <a href=\"https://profile.theguardian.com/user/id/2902769\" itemprop=\"url\">\\n                        <span itemprop=\"givenName\">CommunityMod</span>\\n                    </a>\\n                </span>\\n\\n                \\n                <div class=\"d-comment__timestamp\">\\n                    <a href=\"https://discussion.theguardian.com/comment-permalink/154007965\" class=\"d-comment__timestamp block-time\">\\n                        <time class=\"js-timestamp\" itemprop=\"dateCreated\"\\n                            datetime=\"2022-01-01T18:00:47Z\"\\n                            data-timestamp=\"1641060047000\" data-relativeformat=\"med\"\\n                            title=\"Permalink to this comment (1 Jan 2022 18:00)\">1 Jan 2022 18:00</time>\\n                        \\n\\n<span  class=\"inline-comment-anchor inline-icon \" >\\n    \\n        <svg width=\"15\" height=\"15\" viewbox=\"0 0 15 15\" class=\"inline-comment-anchor__svg inline-icon__svg\">\\n <path fill=\"#898989\" d=\"M5.725 13.348a2.563 2.563 0 0 1-3.699-3.547l8.424-8.79a1.921 1.921 0 0 1 2.776 2.658l-6.894 7.193a1.277 1.277 0 0 1-1.812.038 1.28 1.28 0 0 1-.04-1.81l5.324-5.553.337.321-5.325 5.555a.815.815 0 0 0 1.175 1.128l6.896-7.193a1.456 1.456 0 0 0-2.101-2.015l-8.427 8.79a2.102 2.102 0 0 0 .063 2.965 2.098 2.098 0 0 0 2.965-.062l6.853-7.152.338.323-6.853 7.151z\" />\\n</svg>\\n    \\n</span>\\n\\n                    </a>\\n                </div>\\n\\n                \\n    <div class=\"d-comment__author-label\">\\n        \\n\\n<span  class=\"inline-marque-36 inline-icon d-comment__gu-icon\" >\\n    \\n        <svg width=\"36\" height=\"36\" viewbox=\"0 0 36 36\" class=\"d-comment__gu-icon__svg inline-marque-36__svg inline-icon__svg\">\\n <path d=\"M18 0a18 18 0 1 0 0 36 18 18 0 0 0 0-36\" />\\n <path fill=\"#FFF\" d=\"M21.2 4.4c2.3.4 5.3 2 6.3 3.1v5.2H27L21.2 5v-.6zm-2.2.4c-4 0-6.3 5.6-6.3 13.2 0 7.7 2.2 13.3 6.3 13.3v.6c-6 .4-14.4-4.2-14-13.8A13.3 13.3 0 0 1 19 4v.7zm10.4 14.4-1.9.9v8.6c-1 1-3.8 2.6-6.3 3.1V19.9l-2.2-.7v-.6h10.4v.6z\" />\\n</svg>\\n    \\n</span>\\n Staff\\n    </div>\\n\\n\\n\\n                \\n            </div>\\n        </div>\\n\\n        <div class=\"d-comment__content\">\\n\\n             \\n                <div\\n                    class=\"d-comment__recommend js-recommend-comment\"\\n                    data-comment-id=\"154007965\"\\n                    data-comment-url=\"https://discussion.theguardian.com/comment-permalink/154007965\"\\n                    data-user-id=\"2902769\"\\n                    data-recommend-count=\"1\"\\n                    title=\"1 recommendations\">\\n                    <button class=\"u-button-reset d-comment__recommend-button rounded-icon\" data-link-name=\"Recommend comment\" >\\n                        <span class=\"d-comment__recommend-pulse\"></span>\\n                        \\n\\n<span  class=\"inline-arrow-up-white inline-icon \" >\\n    \\n        <svg height=\"14\" width=\"15\" class=\"inline-arrow-up-white__svg inline-icon__svg\">\\n <path d=\"m.5 7 5.25-4.5V14h1.5V2.5L12.5 7l.5-1-5.75-6h-1.5L0 6l.5 1Z\" />\\n</svg>\\n    \\n</span>\\n\\n                    </button>\\n                    <span class=\"d-comment__recommend-count js-recommend-count\">\\n                        <span class=\"d-comment__recommend-count--old\">1</span>\\n                        <span class=\"d-comment__recommend-count--new\">2</span>\\n                    </span>\\n                </div>\\n            \\n\\n            <div class=\"d-comment__main \">\\n\\n                <div class=\"d-comment__body\" itemprop=\"text\">\\n                    \\n                        \\n                            <p>Comments will close here at 18:15 GMT.</p>\\n                        \\n                    \\n                </div>\\n                \\n                    <div class=\"d-comment__actions d-comment__actions--left modern-visible\">\\n                        <a class=\"d-comment__action d-comment__action--reply\" href=\"https://profile.theguardian.com/signin?returnUrl=https://discussion.theguardian.com/comment-permalink/154007965&componentEventParams=componentType%3Didentityauthentication%26componentId%3Dsignin_to_reply_comment\"\\n                                data-link-name=\"reply to comment\" data-comment-id=\"154007965\" role=\"button\">\\n                            \\n\\n<span  class=\"inline-reply inline-icon blue\" >\\n    \\n        <svg width=\"18\" height=\"18\" class=\"blue__svg inline-reply__svg inline-icon__svg\">\\n <path d=\"m10.1 5 .9-1 4 4.5v1L11 14l-.9-1 2.5-3H4L3 9V6.5h2V8h7.6l-2.5-3z\" />\\n</svg>\\n    \\n</span>\\n\\n                            Reply\\n                        </a>\\n\\n                        \\n                            \\n<div class=\"d-comment__action d-comment__action--share\">\\n\\n    <div class=\"sharing-text\">\\n\\n<span  class=\"inline-share inline-icon comment-share-icon\" >\\n    \\n        <svg width=\"12\" height=\"12\" viewbox=\"0 0 12 12\" class=\"comment-share-icon__svg inline-share__svg inline-icon__svg\">\\n <path d=\"M10.073 8.4c-.475 0-.906.19-1.225.497L3.54 6.221 3.555 6l-.015-.221 5.308-2.676c.319.308.75.497 1.225.497.982 0 1.778-.806 1.778-1.8S11.055 0 10.073 0 8.295.806 8.295 1.8l.016.233-5.299 2.675a1.762 1.762 0 0 0-1.236-.507c-.982 0-1.778.806-1.778 1.8s.796 1.8 1.778 1.8c.48 0 .915-.194 1.236-.507l5.299 2.675-.016.233c0 .994.796 1.8 1.778 1.8s1.778-.806 1.778-1.8-.796-1.8-1.778-1.8zm0-7.68c.588 0 1.067.484 1.067 1.08 0 .596-.479 1.08-1.067 1.08S9.006 2.396 9.006 1.8c0-.596.479-1.08 1.067-1.08zm0 10.56a1.075 1.075 0 0 1-1.067-1.08c0-.596.479-1.08 1.067-1.08s1.067.484 1.067 1.08c0 .596-.479 1.08-1.067 1.08z\" />\\n</svg>\\n    \\n</span>\\n <span>Share</span></div>\\n\\n    <div class=\"sharing-buttons\" data-link-name=\"comment social\">\\n    \\n        \\n            \\n\\n        <a href=\"https://www.facebook.com/dialog/share?app_id=180444840287&amp;href=https%3A%2F%2Fdiscussion.theguardian.com%2Fcomment-permalink%2F154007965&amp;quote=CommunityMod%20commented%3A%20%22Comments%20will%20close%20here%20at%2018%3A15%20GMT.%22\"\\n        target=\"_blank\"\\n        class=\"social__action social-icon-wrapper\"\\n        data-link-name=\"social-comment : facebook\">\\n            <span class=\"inline-icon__fallback button\">\\n                Share on Facebook</span>\\n            \\n\\n<span  class=\"inline-share-facebook inline-icon rounded-icon social-icon centered-icon social-icon--facebook comment-facebook-icon\" >\\n    \\n        <svg width=\"32\" height=\"32\" viewbox=\"-2 -2 32 32\" class=\"rounded-icon__svg social-icon__svg centered-icon__svg social-icon--facebook__svg comment-facebook-icon__svg inline-share-facebook__svg inline-icon__svg\">\\n <path d=\"M17.9 14h-3v8H12v-8h-2v-2.9h2V8.7C12 6.8 13.1 5 16 5c1.2 0 2 .1 2 .1v3h-1.8c-1 0-1.2.5-1.2 1.3v1.8h3l-.1 2.8z\" />\\n</svg>\\n    \\n</span>\\n\\n            <span class=\"u-h\">Facebook</span>\\n        </a>\\n    \\n\\n            \\n            \\n                \\n\\n        <a href=\"https://tw'"
      ]
     },
     "execution_count": 19,
     "metadata": {},
     "output_type": "execute_result"
    }
   ],
   "source": [
    "xx = json.loads(json_data[0])\n",
    "xx['commentsHtml'][:8000]"
   ]
  },
  {
   "cell_type": "code",
   "execution_count": null,
   "metadata": {},
   "outputs": [],
   "source": [
    "https://discussion.theguardian.com/comment-permalink/154003870"
   ]
  },
  {
   "cell_type": "code",
   "execution_count": 136,
   "metadata": {},
   "outputs": [
    {
     "name": "stdout",
     "output_type": "stream",
     "text": [
      " class=\"d-comment\n",
      "            d-comment--top-level\"\n",
      "           id=\"comment-144422422\"\n",
      "           data-comment-id=\"144422422\"\n",
      "           data-comment-author=\"Hushing\"\n",
      "           data-comment-replies=\"0\"\n",
      "           data-comment-timestamp=\"2020-10-11T14:25:06.000+01:00\"\n",
      "           data-comment-author-id=\"12407494\"\n",
      "           data-comment-highlighted=\"false\"\n",
      "           itemscope itemtype=\"http://schema.org/Comment\">\n",
      "\n",
      "    <div class=\"d-comment__inner d-comment__inner--top-level\">\n",
      "        <div class=\"\n"
     ]
    }
   ],
   "source": [
    "print( xx['commentsHtml'][200:700])"
   ]
  },
  {
   "cell_type": "code",
   "execution_count": 16,
   "metadata": {},
   "outputs": [],
   "source": [
    "pa = re.compile('data-comment-author=\"(.*?)\"')\n",
    "pid = re.compile('data-comment-author-id=\"(\\d+)')\n",
    "pcid = re.compile('\\sid=\"comment-(.*?)\"')\n",
    "pp = re.compile('<li class=\"d-comment(.*?)>',re.DOTALL)\n",
    "\n",
    "auths = []\n",
    "md = []\n",
    "for xx in json_data:\n",
    "    hh = json.loads(xx)['commentsHtml']\n",
    "    auths.extend(list( zip(pa.findall(hh), \n",
    "                           pid.findall(hh)\n",
    "                          )))\n",
    "    md.extend(pp.findall(hh))\n",
    "\n",
    "auths = list(set(auths))\n",
    "auths.sort(key=lambda x : x[0].lower())\n"
   ]
  },
  {
   "cell_type": "code",
   "execution_count": 102,
   "metadata": {},
   "outputs": [],
   "source": [
    "#print( '\\n'.join([x for x in md if 'pinkie' in x.lower()]))"
   ]
  },
  {
   "cell_type": "markdown",
   "metadata": {},
   "source": [
    "https://discussion.theguardian.com/comment-permalink/144375739"
   ]
  },
  {
   "cell_type": "code",
   "execution_count": 8,
   "metadata": {},
   "outputs": [],
   "source": [
    "auths = dict(auths)"
   ]
  },
  {
   "cell_type": "code",
   "execution_count": 9,
   "metadata": {},
   "outputs": [
    {
     "data": {
      "text/plain": [
       "'https://api.nextgen.guardianapps.co.uk/discussion//p/hvpq8.json'"
      ]
     },
     "execution_count": 9,
     "metadata": {},
     "output_type": "execute_result"
    }
   ],
   "source": [
    "comments_url"
   ]
  },
  {
   "cell_type": "code",
   "execution_count": 17,
   "metadata": {},
   "outputs": [],
   "source": [
    "\n",
    "from bs4 import BeautifulSoup\n",
    "\n",
    "def html2comments(x):\n",
    "    tt = json.loads(x)\n",
    "    soup = BeautifulSoup(tt['commentsHtml'],  \"lxml\")\n",
    "    raw = [ comment.text for comment in  \n",
    "            soup.findAll('div', {'class' : \"d-comment__body\"}) ]\n",
    "    \n",
    "    metadata = soup.findAll('span', {'class' : \"d-comment__author\"})\n",
    "    \n",
    "    \n",
    "    auth = [ x.text.upper().strip() for x in metadata]\n",
    "    auth_id = [ x.find('a')['href'] for x in metadata]\n",
    "    #this was a pain to do really\n",
    "    #the problem is blocked comments\n",
    "    comment_id = [ x['id'][len('comment-'):] for x in soup.findAll('li')]\n",
    " \n",
    "    \n",
    "    ss = '##{}\\nhttps://discussion.theguardian.com/comment-permalink/{}\\n{}\\n\\n{}'\n",
    "    return [ ss.format(a,b,d,c.strip())  \n",
    "                   for a,b,d,c in zip(auth, comment_id, auth_id, raw)]\n",
    "     \n",
    "all_texts = [ html2comments(page) for page in json_data[:] ]\n",
    "\n",
    "\n",
    "from itertools import chain\n",
    "all_comments = list(chain.from_iterable(all_texts))\n",
    "    "
   ]
  },
  {
   "cell_type": "code",
   "execution_count": null,
   "metadata": {},
   "outputs": [],
   "source": []
  },
  {
   "cell_type": "markdown",
   "metadata": {},
   "source": [
    "# Random data hacking"
   ]
  },
  {
   "cell_type": "code",
   "execution_count": 7,
   "metadata": {
    "scrolled": true
   },
   "outputs": [
    {
     "data": {
      "text/plain": [
       "[('##VERAANTHONY', 8),\n",
       " ('##ELEPHANTMOTH', 7),\n",
       " ('##GETTROTTED', 7),\n",
       " ('##JOHNNIEAYSGARTH', 7),\n",
       " ('##ATTILA9000', 6),\n",
       " ('##ROVERTHEHILLANDFARAW', 5)]"
      ]
     },
     "execution_count": 7,
     "metadata": {},
     "output_type": "execute_result"
    }
   ],
   "source": [
    "A = [x.split('\\n')[0] for x in all_comments]\n",
    "from collections import Counter\n",
    "AN = Counter(A)\n",
    "sorted([(x,y) for x,y in AN.items() if y > 4], key=lambda x : -x[1]) "
   ]
  },
  {
   "cell_type": "code",
   "execution_count": 7,
   "metadata": {},
   "outputs": [
    {
     "name": "stdout",
     "output_type": "stream",
     "text": [
      "[master 2d74372] web\n",
      " 1 file changed, 0 insertions(+), 0 deletions(-)\n",
      " create mode 100644 kdxb7.pkl\n",
      "Counting objects: 3, done.\n",
      "Delta compression using up to 12 threads.\n",
      "Compressing objects: 100% (3/3), done.\n",
      "Writing objects: 100% (3/3), 418.83 KiB | 3.25 MiB/s, done.\n",
      "Total 3 (delta 1), reused 0 (delta 0)\n",
      "remote: Resolving deltas: 100% (1/1), completed with 1 local object.\u001b[K\n",
      "To https://github.com/macbuse/GUARDIAN.git\n",
      "   705b837..2d74372  master -> master\n"
     ]
    }
   ],
   "source": [
    "! ./.g\n"
   ]
  },
  {
   "cell_type": "code",
   "execution_count": 30,
   "metadata": {},
   "outputs": [
    {
     "name": "stdout",
     "output_type": "stream",
     "text": [
      "##STILT\n",
      "https://discussion.theguardian.com/comment-permalink/155280552\n",
      "https://profile.theguardian.com/user/id/2397205\n",
      "\n",
      "This comment was removed by a moderator because it didn't abide by our\n",
      "         \n"
     ]
    }
   ],
   "source": [
    "print(all_comments[0][:200])"
   ]
  },
  {
   "cell_type": "code",
   "execution_count": 25,
   "metadata": {},
   "outputs": [
    {
     "data": {
      "text/plain": [
       "'france-populism-gaining-ground-revolution'"
      ]
     },
     "execution_count": 25,
     "metadata": {},
     "output_type": "execute_result"
    }
   ],
   "source": []
  },
  {
   "cell_type": "code",
   "execution_count": 18,
   "metadata": {},
   "outputs": [
    {
     "name": "stdout",
     "output_type": "stream",
     "text": [
      "##BF_SILVERTOWN\n",
      "https://discussion.theguardian.com/comment-permalink/156083367\n",
      "https://profile.theguardian.com/user/id/11269657\n",
      "\n",
      "Yeah it's well known that people vote for candidates they don't trust... Let's cut this nonsense. The main and obvious reason for the rather comfortable re-election of Macron is that he is, globally, a good president. Increasing his first round score from 24% (8.7M votes) in 2017 to 27.8% (9.8M votes) in 2022 was no small achievement, especially in an ever moaning country like France. It is just remarkable and astounding. He succeeded in keeping a middle line pleasing both the moderate left and the moderate right. People who have something (business, job, money, property, security…) to lose felt rather safe with him. This was especially true during the Covid-19 crisis, that most will feel he navigated as well as possible, trying to keep a balance between public health imperatives and the survival of the economy. The added, secondary ‘advantage’ for Macron to this Covid-19 tragedy is that it put an abrupt end to the Yellow Vests agitation that was starting to seriously threaten the peace of the country and Macron’s credibility and competence to handle it. The second bit of luck Macron had is Poutine’s Russia attacking Ukraine just when France (and by association Macron) are ‘presiding’ the European Union. These pics of Macron and Poutine meeting, each at one end of a four-metre long white table in some magnificent room of the Kremlin, were nice... It might be difficult to understand for people from a country without a President, but the French absolutely love the President being a President, being the Chief of the Armies and being on the world stage. I assume France’s number 1 Poutine’s supporter, this dear Ms Le Pen, must be slightly annoyed that her Master gave this inadvertent push to her rival.We’ll never know for sure, but I think that even without these events, he would still have been elected for a second mandate, just less comfortably. He achieved what generations of political experts had said to be impossible since the end of De Gaulle, that is being elected president of France from the centre of the political spectrum. He did it and in the process sucked dry to a state of near death his nearest rivals, the Socialist Party and the Republicans, something totally unthinkable just six years ago. There lies a big danger. It leaves the extremes, Le Pen on the right and Mélenchon on the left, as the primary alternative to Macron. A far-right candidate just made 43% in the 2nd round of the French presidential election… Just let that sink in. It’s a victory for now, but the future is very uncertain.Maybe it’s even uncertain at very short-term with the incoming legislative elections. Macron’s party, LREM, if it is really a party, had won them by a landslide in 2017, surfing on the euphoria of Macron’s triumphal victory at the presidential election. The context will be different this time. Macron and his party lost the advantage of the novelty. A new generation of MPs replaced the old ones in 2017, but they hardly demonstrated that they were better, to put it mildly. It’s hard to think of many decent and promising figures emerging from the Macronist ranks since 2017. Getting a clear majority at the Assembly might be a bit more tricky this time.\n",
      "\n",
      "##APPEALFORSANITY\n",
      "https://discussion.theguardian.com/comment-permalink/156086676\n",
      "https://profile.theguardian.com/user/id/1314307\n",
      "\n",
      "I am not so convinced that the far right is quite so powerful based on this result. \n",
      "If Jadot, Roussel and Hidalgo had eaten humble pie and backed a unity progressive-left candidate - that is, Mélenchon - Le Pen would not even have reached the second round. And today we might be looking at a leftist not centrist President. \n",
      "The adversarial format of Presidential second rounds in France will tend to benefit those running against the incumbent. Contrarian voters will switch allegiance to the change-underdog candidate, not the continuity-favourite candidate, particularly if their first round choice was on either extreme of the left or right. This was not really an issue in 2017 as neither candidate was in power. \n",
      "In 2022, Le Pen was in a position to harvest these contrarians, particularly with daft demographic bribes like 'no income tax for under 30s' and the slightly counterintuitive right-wing defence of one of Europe's lowest retirement age. \n",
      "The gilets jaunes, Brexit shenanigans, the pandemic and now Ukraine have not exactly made for the easiest of 5-year terms for Macron. His imperfections-during-crises have made him the target for easy sniping from his opponents. His undoubted charisma and slickness in international affairs has been cast as a Parisian aloofness that is 'out of touch' with the grievances voiced ay roundabouts, village foodtrucks, vaccination centres. \n",
      "Yet what would France be without a few Gavroches shouting from the barricades? \n",
      "The RN voter base remains highly regional, with a strong anti-Parisian sentiment playing a role - the Ch'tis/Nordistes, Alsace/Lorraine, some bits of Provence and Occitanie, plus a few right-wingers in the Garonne basin (and a few outre mer communities). In these regions, voters have certainly gravitated away from the centre, and from the two traditional left-right parties (PS, les Républicains), towards the policy-bribe populism of RN and La France Insoumise. \n",
      "In many ways, these bits of France follow the 'left-behind communities' patterns - a kind of societal disgruntlement, fanned by social media and Bannonite culture wars - that has been observed by political analysts across European democracies. \n",
      "Yet other bits of 'La Province'- Normandy, Brittany, the Loire and Vendée, the Basque Country - have proven less vulnerable to the politics of anti-elitism and quixotic crowdpleasing policies. So the left-behind theory is not a perfect fit, and Le Pen has failed to gain traction in entire tracts of Western France. \n",
      "The Législatives in June will show more accurately how France is feeling right now: Presidentials are always so polarising. \n",
      "Hopefully the divisions on the left-progressive front will be (slightly) healed, encouraging Macron into alliances with left-green parties and a slightly less ideologically-entrenched Mélenchon. Without overtures towards the centre from the left and greens, Macron might be rempted, again, to seek solace in working, again, with Républicains. The biggest challenge of all is how his party can groom a successor, given that LREM is so identified with Macron, and that he cannot run for a third term.\n",
      "\n",
      "##BARREIROS\n",
      "https://discussion.theguardian.com/comment-permalink/156087155\n",
      "https://profile.theguardian.com/user/id/107368403\n",
      "\n",
      "I come from solid mining stock, a community-orientated left-winger to the marrow. \n",
      "Practical considerations apart, I live and try to make a living in a former olive oil mill in rural Spain, with an army of dogs and a vegetable garden. I have a reproduction Shepard Fairey poster of Joe Strummer near the front door, so that nobody can say they weren't warned. I haven't taken a flight in 10n years and I drive nor more than 100 kilometers a month.\n",
      "I try to be coherent and live in accordance with my principles, difficult though that is, and I am no friend at all of corporate, capitalist consumersim.\n",
      "For better or for worse, I can't make it clearer about where my political allegiances lie, and I don't apologies for that. \n",
      "But I sure am glad Macron won yesterday. Not because I like him, which I don't. He's a slippery lackey of the moneyed-classes, happy to direct things towards \"more of the same\", a willing accomplice of social injustice and environmental destruction. In any other context I'd avoid offering him my support at all costs. \n",
      "But, as Owen Jones and his ilk are unable to understand, there are degrees to these things. Awful though he is, Macron isn't an all-out xenophobic, homophobic, isolationist fascist chancer hell-bent on reaping reward from absolute confrontation and the misery of others.\n",
      "Small mercies? Yes, small mercies, indeed, lamentably.\n",
      "And as such, Macron should be seen as no more than a beachhead, a tourniquet, a point from which to stem the bleeding and which to stage a recovery. The French left should now employ all their energy in converting Macron's vision into the popular manifestation of the far right, thus send Le Pen off into the realms of absolute extremism, to latitudes far beyond the countenance of ordinary folk, and thank their lucky stars for having been given a foothold from which to fight back. \n",
      "For to rail against a right of centre, yet democratically domesticated, Macron as a politician beyond the acceptable pale is to ignore the very real, very serious threat posed to us all by Le Pen and her barely-camouflaged fascist ilk. Just as it is to rail against Pedro Sanchez and his conformist PSOE in Spain, or Starmer in the UK. \n",
      "Is the fact that they don't display sufficient Ideological \"purity\" sufficient argument to hand over the reins of society to the extreme right? \n",
      "Really? FFS. \n",
      "You would think they/we would have learnt the lesson from the very public, extremely ineffectual, backing of the unrealistic far left in the UK, which ended with..... Johnson in power by a majority. To this day. \n",
      "Le Pen is not interested in allowing space to work towards to any goal whatever that doesn't fall within her narrow, personal, exclusive, repressive vision of the world.\n",
      "Offer thanks that Macron is in power, not protest, oh impolute one, and work from there. The alternative should be clear.\n",
      "\n",
      "##WHACKER\n",
      "https://discussion.theguardian.com/comment-permalink/156085628\n",
      "https://profile.theguardian.com/user/id/2096730\n",
      "\n",
      "What has happened in France (as in many democracies) is that the divide between right and left has been replaced by other divisions, which has led to populism entering the political arena in the form of parties such as Le Pen's. The map of voting patterns in France shows that in cities and urban areas, Le Pen received much fewer votes than her overall percentage score while in rural and peri-urban areas she did well. In Paris she polled only 14%! It is in the \"forgotten\" areas in which people feel abandoned, with the loss of traditional industries and the withdrawal of the social apparatus of the state (post offices, primary schools, small hospitals etc.) that Le Pen is getting her support. This discontent is the fuel of the movements such as the Gilets Jaunes which was not a Le Pen movement and avoided association with her. Melenchon and Le Pen surf on the same wave of discontent. Macron has favoured investment in start-up industries and training courses, apprenticeships for the young (note that youth unemployment has gone down dramatically in the last couple of years). A lot of people \"detest\" Macron as being arrogant and talking down to his opponents, as being of the \"elite\". However, anybody can see that he has a really impressive command of his \"dossiers\", he can talk in minute detail with all the numbers, on any subject i.e. he is obviously very smart. Compare him with Le Pen in the debate and she comes across as unsure and unclear about what she wants to say - injecting \"eh\" every three words because her brain is not working very fast. This is my personal perception - to others it might make her more human.Given his obvious competence, the real question is what does Macron want to do, what is his vision for the country? Is he a nasty ultraliberal or a centrist with a social concience? He has navigated COVID reasonably well, brought unemployment down and invested in education and training more than his predecessors. However, does he want to and will he be able to reverse the impoverishment of small towns and rural areas? In the coming parlimentary elections, will the traditional left and right parties maintain their bases? Note that Le Pen's party has exercised very little real political power in France in spite of >30% of support in recent Presidential elections, apart from a couple of medium-sized towns and these victories often end in bitter infighting.The upcoming parlimentary elections will be the real test to see if Le Pen's presidential score will be converted into political power.\n",
      "\n",
      "##EUROCITOYEN\n",
      "https://discussion.theguardian.com/comment-permalink/156086238\n",
      "https://profile.theguardian.com/user/id/16771414\n",
      "\n",
      "Oh honestly. I was last in France just before the Brexit vote in the UK. All the political shows seemed to be loaded with the dissatisfied complaining about everything. The same was true in Britain, only it was all our own mini Le Pens; Farage et al. . .Britain went down the rabbit hole of Brexit, and France, a republic with a long democratic history, didn't. \n",
      "Things are changing in Western Europe. We no longer manufacture great quantities of stuff the way we once did. Additionally, other parts of the world have increasing power. France is a great country and the people there generally have a pretty good life. The same is true of Britain. \n",
      "I worry that the French may let economic changes and a shift in the balance of power lead to a bonfire of principle, but the common sense of the French electorate held fast. \n",
      "Macron is an intelligent, competent, decent leader. So he thinks you should have to work to the age of 65... Guess what - so does everyone else. The Americans work until 70, and many after that. We are living longer, at least those who aren't in dangerous physical jobs. If you want to see where you might be heading with a Le Pen style government, look no further than right here. We've got a far-right lunatic, who wouldn't know the truth if he slept with and had a family with it. \n",
      "Macron won because he's the best on offer in difficult times, and because he's the most competent. You could do a hell of a lot worse. You could elect a squealing, unserious, elitist, far right leader who would tell one lie after another, convince the public to leave the EU, abandon all your trade alliances and cultural links with your neighbours, tank your economy and impoverish and embarrass a great country. \n",
      "Let Marcron be arrogant if he wants. Let him struct around like a peacock. I don't care. The man is competent. In fact he's more than that, but competent is enough to be proud and to keep the faith in democracy. After all, it's more than we can manage not far away.\n",
      "\n",
      "##JAMESVALENCIA\n",
      "https://discussion.theguardian.com/comment-permalink/156083883\n",
      "https://profile.theguardian.com/user/id/3761271\n",
      "\n",
      "The root problem is democacies do not work well when choices are not clear.\n",
      "Why are choices not clear : because, like it or not, life in rich democracies such as France is OK for nearly all. Of course hunger and poverty still exist. But the left has, over the 20th century, delivered unemployment, paid holidays, weekends, universal suffrage, education for all.\n",
      "Therefore the great battles have been won. Where we are now is no less important : equality and equal opportunity. But the great rallying cries are gone.\n",
      "And worst of all, the majority of the population still feels poor, and neglected, because there is no political program for them other than \"we make things work better, we're the centre\".\n",
      "First symptom of this : Politicians, starting with Blair, saying \"I'm the centre, I'm the best choice for everyone!\". However still staying in Labour, though it' telling the Blair project rebaptised it.\n",
      "Macron is another more forthright symptom. The same message \"I'm in the center, I am neither left nor right, I do the best for all!\" went home.\n",
      "And therefore we're left without clear choices. Voters, dissatisfied, listen to campaigns from the extremes who, naturally, have no problem delivering populist chants.\n",
      "The solution to Le Pen, to Johnson and Brexit, to other populist extremes, is for the traditional parties to cease this \"we're the centre!\" poison, and remember their founding principles. Which are :\n",
      "• On the left : Cooperation and solidarity, build a better society for everyone.• On the right : Ensure law and order only, and otherwise leave individuals to it.\n",
      "The left, of course, works better - which is why we have societies fit to live in and no more workhouses.\n",
      "But we need that choice. Politicians must stop claiming to be for everyone, because they cannot be : there is always the choice between left and right, \"prioritise everyone\" and \"prioritise me\".\n",
      "Otherwise, centrism removes choice, democracy, and leads to dictatorship.\n",
      "\n",
      "##FLUBICON\n",
      "https://discussion.theguardian.com/comment-permalink/156083616\n",
      "https://profile.theguardian.com/user/id/13349781\n",
      "\n",
      "With Marine Le Pen’s National Rally (formerly National Front), the far right had come perilously close to gaining power in France...\n",
      "\n",
      "Macron is himself a right wing nationalist.\n",
      "Macron has spent the past five years LARPing as Napoleon, a warmonger who laid waste to Europe and reinstituted slavery; he's paid tribute to Nazis; he's refused to support Muslim candidates in his own party, in punishment for wearing the hijab; he's begun quoting and adopting the language of the extreme right; he's launched crackdowns against immigration in 2018 and 2021 (net migration to France is c. 8 times lower than to the UK, for context), with bills targeting \"Islamist separatism,\" which is little more than right wing conspiracy theory gibberish; he's serially cut taxes on the rich; he's broken working class protesters through the kind of indiscriminate violence that wouldn't features in our worst nightmares of the Police, Crime, Sentencing and Courts Bill. He's significantly prolonged the misery and violence being inflicted on Libya by repeatedly supporting General Haftar. And his interior minister, almost laughably, thinks Marine le Pen isn't far right enough.\n",
      "This is to say nothing of his idiotic, anti-science, conspiracy theory response to the pandemic, based on nothing but national enmity and spite.\n",
      "Let's be under no illusion: Macron is a far right nationalist. We would call him such in this country. Europe is completely in thrall to the far right and the only people who don't recognise this are the same people who were writing absurd hagiography about gay-bashing, climate-denying Merkel.\n",
      "\n",
      "##JAMESVALENCIA\n",
      "https://discussion.theguardian.com/comment-permalink/156085478\n",
      "https://profile.theguardian.com/user/id/3761271\n",
      "\n",
      "Mélechon's core problem is the his party is him.Few people bother to remember what his party's name is.Nor the name of any individual other than him.\n",
      "He is an individualist at heart. He's taken pains to be the single public figure in his party. There are no successors. There are only the party faithful.\n",
      "For someone on the left, this is the big show-stopper : I can't support someone who left the socialist party to set up on his own, on a platform which is completely tied up with his person.\n",
      "One he's gone, Mélenchonisme is also gone, because he's alone.\n",
      "It's a great shame, because he's smart, he's an excellent speaker, and most of his policies are great - they're only a bit too nationalistic for this internationalist left-winger.\n",
      "The socialist party could do with someone with his talents, but without his individualism. The PS's biggest problem in my opinion is the lack of fits rate candidates. The best we could do was Hidalgo, which did not work out.\n",
      "Interestingly, the flip side of the PS's diastrous showing is that PS voters all went over to Mélenchon to try and beat Le Pen into third place. It nearly worked, but there were too may other left-wingers in the tiny Geen vote.\n",
      "All that to say : Mélenchon is not a good choice. He's single-handedly responsible for the fracturing of the left, after walking out of the PS instead of staying and making his policies prevail - which he could easily have done with his political talents.\n",
      "\n",
      "##PERCEPTSANDCONCEPTS\n",
      "https://discussion.theguardian.com/comment-permalink/156084677\n",
      "https://profile.theguardian.com/user/id/105308977\n",
      "\n",
      "By the time the populist right gets to win the presidency it will have watered down its policies to such a degree to win it will no longer be considered the populist right. Two policies mentioned here by the author, green agenda and retirement age.Yes of course people want green policies but the vast majority do not want them at the cost of their material living standards. Consequently this causes serious difficulties for and government who attempts to address the climate issue..In an age when people are living longer the government wants to increase the retirement age from 62 currently to 65 , well boo- hoo.The hard left did not garner enough support to win, simple as.Article is no more than sour grapes, imho.\n",
      "Macon the lesser of two evils ? what a load of tosh. Macron is not authoritarian regardless of how much those on the french hard left and hard right along will their fellow traveler’s in U.K. especially those who have a pathological hatred of the EU attempt to paint him as such. The divisions in french society is just a reflection of the state of the world as it is today due to developments from the oil crisis in 1970s to the fall of the Berlin Wall, global pandemics, financial crisis, rise of China and global south, Islamic fundamentalism, etc.The blame all this on a 44 year old man is a bit rich, if u ask me.\n",
      "\n",
      "##FINLEYTOMS\n",
      "https://discussion.theguardian.com/comment-permalink/156084001\n",
      "https://profile.theguardian.com/user/id/13843281\n",
      "\n",
      "Cannot wait for the sensibles to read into this that Centrism is the only way to win and being as bland, corporate and superficially serious is enough to deal with the problems that face the world today. If you want to solve issues its probably best to have critical approach to the status quo, to actually look at the world beyond what is given to you. Funnily enough its not grown-up to simply take as truth the dictates of global capital and hegemonic media opinion. If the world is actually going to get better I believe the older generations who have been poisoned by years of being pandered too are going to have to learn some hard truths, things cannot stay as they are, grow up and let the people effected by years neoliberal brutalisation be represented within the political system. Or as is more likely politics will continue on its slow decline towards the far right and democratic decay because people were so concerned with appearing like \"adults in the room\" they forgot to have any compassion, policies or guiding vision for whats going wrong now and what will have to be implemented to make life for people better. However, Im completely sure the androids and ghouls running the Labour party will figure all this out before the next election and everything will be completely fine.\n",
      "\n",
      "##FOREVERNOW\n",
      "https://discussion.theguardian.com/comment-permalink/156084791\n",
      "https://profile.theguardian.com/user/id/101649835\n",
      "\n",
      "Apart from the heavy political bias evident in her \"analysis\", the author overlooks the influence of recent events on voter mood. They're an important factor because they're mostly temporary and will therefore have diminishing influence on voting in the future.\n",
      "Every government coming out of the two-year pandemic crisis is going to feel the brunt of voter dissatisfaction and frustration -- not to mention a heightened sense of insecurity -- brought on by the pandemic's impact on health and unprecedented public health measures. That factor will diminish over time, assuming the pandemic does, and with the perspective of time, many voters currently looking to punish their leaders will realize their government only did what was necessary and may even have done a good job.\n",
      "Voters are reacting to global inflation, and opposition politicians are trying to weaponize it as a domestic, partisan issue, but it will also be temporary as central banks and governments do what's necessary to cool their economies. Also, the supply chain issues contributing to inflation are temporary and are diminishing. If inflation is brought under control, incumbent governments will benefit.\n",
      "Indeed, considering these strong but temporary headwinds, Macron actually did very well.\n",
      "\n",
      "##RAPTOU\n",
      "https://discussion.theguardian.com/comment-permalink/156085043\n",
      "https://profile.theguardian.com/user/id/4038152\n",
      "\n",
      "\"Le Pen has managed to increase her vote by portraying herself as more hard right than far right.\"\n",
      "It's a bit more complicated than that. She's not right wing at all economically: she's very much in favour of the magic money tree. Wages will magically increase by 10%, companies will have to pay to remove wind turbines but this will magically not impact on consumers, that sort of thing. The sort of thing that sounds great until you actually think about it, which of course too many people don't.\n",
      "But don't be fooled that she has dropped the NATO and EU nonsense. She absolutely hasn't. All this guff about 'France first' employment laws is completely incompatible with EU membership, and cosying up to Putin went down like a cup of cold sick.\n",
      "To have a functioning democracy you need plurality. Strip down Macron and you have a garden variety centre right party that might not be your cup of tea but is a perfectly respectable mainstream political opinion. But where are the others? I'm not sure it's Macron's fault the centre left isn't functional in France at the moment, but that's how Le Pen is doing what she is doing. What really makes me angry are the people who are enabling it. And they're mostly on the left.\n",
      "\n",
      "##MASONINNY\n",
      "https://discussion.theguardian.com/comment-permalink/156087468\n",
      "https://profile.theguardian.com/user/id/12561368\n",
      "\n",
      "\"No victory for Macron\"? I'll take it nonetheless. Marine Le Pen is one frightening ghoul on the Euro-political scene: Putin apologist, probably subsidized by him as well, anti-EU and anti-NATO. After studying for two years in France, I learned that the French far Right is something else. From Action Directe to off-the-wall cranks like Zemmour and the Le Pens (pere, fille et petite-fille ), they're a collection of zanies that threatens France, Europe, and Western democracy.\n",
      "We elected Emperor Trump in the US, but his opinions on NATO were simply that: opinions. He couldn't take the US out of the Atlantic Alliance even if he tried (I actually don't think he wanted to go that far); there was much stiff opposition to that in his own administration. As for the Trump White House's \"assault on the EU,\" that stopped at retaliatory economic sanctions (like French Roquefort cheese or German apricot preserves). There were many US checks and balances on him. But if Marine Le Pen won in France? The loony Left and bonkers Right in France could unite and wreak far more havoc on Europe than Trump ever could in the US or abroad. Absolutely no contest.\n",
      "\n",
      "##HIBERNICA\n",
      "https://discussion.theguardian.com/comment-permalink/156084489\n",
      "https://profile.theguardian.com/user/id/2822285\n",
      "\n",
      "Le Pen has managed to increase her vote by portraying herself as more hard right than far right. She dropped some of the lunatic ideas that were loved by the far right like ditching the euro and leaving the EU. She has thrown her own father out of the party to distance herself from the racist agenda.\n",
      "There is a lesson to be learned here: Your vote increases if you're not far right any more.\n",
      "Of course, people will wonder whether she is to be trusted. Lots of people were convinced she would try to introduce Frexit by stealth, thus inflicting the same disaster on France that Britain has suffered. Not enough people were convinced that the leopard had changed its spots. And rightly so. But she will have learned her lesson. Watch her move even further from her original position in five years time. She'll portray herself as a cuddly member of the centre right.\n",
      "As for Macron, he has decreased unemployment sharply over his first five years. That alone indicates that he's doing a good job. Unemployment has been France's biggest problem for years. If he brings it down further he'll go down in history as a successful President.\n",
      "\n",
      "##REDFALCON\n",
      "https://discussion.theguardian.com/comment-permalink/156084731\n",
      "https://profile.theguardian.com/user/id/3285967\n",
      "\n",
      "Le Pen, on the other hand, leans a very long way to the Left in her social and economic policies\n",
      "That's a myth. \n",
      "For example, according to Le Monde's comparateur des programmes: \n",
      "* Macron favours a minimum retirement pention of 1,100 euros a month; Le Pen 1,000 euros a month; (Mélenchon 1,400). \n",
      "* (Mélenchon wants to move night-workers and those in arduous jobs to a 32-hour week. No proposal to change things from Macron or Le Pen.) \n",
      "* Macron and Le Pen want more flexible labour law; (Mélenchon wants a sixth week of paid holiday for all.) \n",
      "* Mélenchon wants to increase SMIC (minimum wage) to 1,400 euros a month; Macron and Le Pen don't propose any increase. \n",
      "* Mélenchon wants limits on the numbers of precarious jobs; Macron and Le Pen don't propose any change. \n",
      "* Mélenchon wants to recognise professional burn-out as a problem; Macron wants to look into it; no comment from Le Pen. \n",
      "* Mélenchon wants to legalise cannabis; Macron doesn't; Le Pen promises increasingly punitive laws alongside continued prohibition. \n",
      "* Mélenchon wants to reverse Macron's reform to unemployment benefit; no policy from Le Pen.\n",
      "\n",
      "##JOHNBIG\n",
      "https://discussion.theguardian.com/comment-permalink/156086771\n",
      "https://profile.theguardian.com/user/id/4753199\n",
      "\n",
      "Odd election. Accordingto Ms Bock everyone lost. It is true the Republicans have disappeared, the Parti Socialist has vanished, the Greens lost their deposit, all the others including the Communists are just commas on the bottom of the lists. But she still maintains that Macron with 58% to LePen's 42% is a misery for him.\n",
      "I know it is an opinion piece but it is usual to base these on some facts. The idea that Macron is responsible for the \"deep fracture\" in French society is a figment of her imagination. The only government in Europe with everyone united behind the leader is of course in Russia. Strange model to aspire to. Admittedly Melochon did better than expected but at 22% in the free for grabs of the first round is about the measure of his popularity.By the way the Minister of Finances saying he is unable to guarantee that there will be no push with the 49.3 to get the pension reform through is a gross distortion from a directed question by a journalist which could never be answerd by a yes or no. Does Ms Boch really think that this is on the cards or is she just stirring the mud on the bottom.\n",
      "\n",
      "##TEDAMI7\n",
      "https://discussion.theguardian.com/comment-permalink/156086248\n",
      "https://profile.theguardian.com/user/id/18142615\n",
      "\n",
      "Favour the rich, suppress protest, ignore the planet crisis, sit back and do nothing, you missed find someone else to blame and pick on the weak and vulnerable to display your firm, tough leadership. It is the way of politics all over the world, not just in France.\n",
      "We are heading for extinction. We have had enough knowledge to know how to prevent this since I produced a report in 1970 on the future of food and farming. All the current planet crisis issues were identified in that report, no original research ward conducted apart from a small amount of soil analysis. Now we have a massive Study industry of experts discovering what we have known for years but have done nothing about.\n",
      "Meanwhile, world leaders continue to pursue the policies that are bringing us to the disaster while people continue to vote for them. Kiss goodbye to your children and grandchildren, mankind, and apologise for not loving them enough to let them live. Of course, if the uncast votes were counted as \"none of them\" and that was the majority, then none of them could take office until we have the option of inspiring leadership.\n",
      "\n",
      "##JAMESVALENCIA\n",
      "https://discussion.theguardian.com/comment-permalink/156084126\n",
      "https://profile.theguardian.com/user/id/3761271\n",
      "\n",
      "The profundly depressing thing which had me down in the dumps is he normalisation of the fascists.\n",
      "So much that people will now say \"Oh, tu exaggères, they are not fasciste at all, look, she likes cats!\"\n",
      "Democracy has a problem around the world. Rooted in the drift away from left and right (\"those old parties have no relevance!\"), and drift toward cetrim (\"quite right, we just want someone who runs things better, not old left and right!\".\n",
      "The fact is left and right will always be the choices we should have. The left is \"do things together\". Collaboration. Equal rights.The right is \"leave individuals to themselves\". Freedom, small state.\n",
      "Democracy must be about choice. And those are the two eternal choices.\n",
      "The Blairite and Macronian centrist story is an illusion, therefore. And simulataneously removes choice. And in absence of choice, there's no democacy.\n",
      "And that is when voters lose interest, and the extremists who are always waiting in the wings creep back into power.\n",
      "Dictatorship has always come as a surprise. \"What just happened, Marge?\" says Homer waking up to the sound of jackboots.\n",
      "\n",
      "##SPOTTHELEMON\n",
      "https://discussion.theguardian.com/comment-permalink/156084491\n",
      "https://profile.theguardian.com/user/id/4077813\n",
      "\n",
      "no it was a defeat for Le Pen, if he had been up against a more socially liberal candidate of any political persuasion then he probably would have lost. The soft right label people like Le Pen far right when actually she's to the left of Macron so they can claim they're nothing to do with us, Zemmour was the true far right candidate & he only got 7.1% in the first round.Le Pen attracts Social conservatives from left, right and centre and mainly working class voters.\n",
      "When the BNP were popular in the UK then much of their support came from ex-Labour voters, on issues like health, transport, housing, protectionism and globalisation they were left of Labour as well as the Conservatives.The variations of UKIP in later years appealed mainly to working class voters, The Tories were very scared of them stealing working class Tory support but they gained support from Labour voters as well.\n",
      "The notion that extreme nationalism is sufficient to define a party or leader as far right leads to huge contradictions and totally fails to explain the political world, past and present.\n",
      "\n",
      "##BOGATTY\n",
      "https://discussion.theguardian.com/comment-permalink/156085895\n",
      "https://profile.theguardian.com/user/id/4169611\n",
      "\n",
      "It is much more than 'ouf' for me, who lives in France. It is huge relief. If one really reads what Le Pen had on her agenda, and what we all know she was hiding (Frexit by any other name), you will see that she was most definitely very far right. Macron's detractors need to take the blinkers off. He has managed to steer a fairly steady course through the problems of the past 5 years - culminating in his handling of covid, and his staunch support for Ukraine in the face of Russian aggression. While cost of living has certainly risen, that is true of every European country, and energy prices here have been capped at 4% as opposed to what is happening in the UK. No doubt the disenchanted will take to the streets again soon - otherwise what would they do with their Saturdays - but this will be in response to goading from the left, the anarchists and the black bloc (who pretty well took over the 'gilets jaunes' movement).Of course he needs to take on board what the voters are saying, but he still needs not to bow to the extremes of either the left or the right.\n"
     ]
    }
   ],
   "source": [
    "import os\n",
    "\n",
    "all_comments.sort(key=lambda x : -len(x) )\n",
    "txt = '\\n\\n'.join(all_comments[:20])\n",
    "print(txt)\n",
    "with open(os.environ['HOME']+'/tmp.txt','w') as fp:\n",
    "    fp.write('\\n\\n'.join(all_comments[:20]))\n",
    "with open(os.environ['HOME']+'/{}.txt'.format(article_url.split('/')[-1]),'w') as fp:\n",
    "    fp.write('\\n\\n'.join(all_comments[:20]))"
   ]
  },
  {
   "cell_type": "code",
   "execution_count": 19,
   "metadata": {},
   "outputs": [
    {
     "name": "stdout",
     "output_type": "stream",
     "text": [
      "[master 4331ca5] web\n",
      " 9 files changed, 1185 insertions(+), 1460 deletions(-)\n",
      " rewrite guardian comments scraper.ipynb (69%)\n",
      " create mode 100644 y829j.pkl\n",
      " create mode 100644 y8h4q.pkl\n",
      " create mode 100644 y98ff.pkl\n",
      " create mode 100644 y99zz.pkl\n",
      " create mode 100644 yaa2q.pkl\n",
      " create mode 100644 yaedy.pkl\n",
      " create mode 100644 yavg9.pkl\n",
      " create mode 100644 ybxgx.pkl\n",
      "Counting objects: 11, done.\n",
      "Delta compression using up to 12 threads.\n",
      "Compressing objects: 100% (11/11), done.\n",
      "Writing objects: 100% (11/11), 2.32 MiB | 93.00 KiB/s, done.\n",
      "Total 11 (delta 9), reused 0 (delta 0)\n",
      "remote: Resolving deltas: 100% (9/9), completed with 2 local objects.\u001b[K\n",
      "To https://github.com/macbuse/GUARDIAN.git\n",
      "   675153b..4331ca5  master -> master\n"
     ]
    }
   ],
   "source": [
    "! ./.g"
   ]
  },
  {
   "cell_type": "code",
   "execution_count": 18,
   "metadata": {},
   "outputs": [
    {
     "name": "stderr",
     "output_type": "stream",
     "text": [
      "[nltk_data] Downloading package vader_lexicon to\n",
      "[nltk_data]     /home/gregmcshane/nltk_data...\n",
      "[nltk_data]   Package vader_lexicon is already up-to-date!\n"
     ]
    }
   ],
   "source": [
    "#https://towardsdatascience.com/sentimental-analysis-using-vader-a3415fef7664\n",
    "\n",
    "import nltk\n",
    "#nltk.download('vader_lexicon')\n",
    "\n",
    "from nltk.sentiment.vader import SentimentIntensityAnalyzer\n",
    "\n",
    "sid = SentimentIntensityAnalyzer()"
   ]
  },
  {
   "cell_type": "code",
   "execution_count": 22,
   "metadata": {},
   "outputs": [],
   "source": [
    "a = '''My views haven't changed. Leaving the EU will be of no benefit to anyone except those who hold money and power along with certain corporates and a smidgen of medium to small businesses.\n",
    "How else can it be when you are shutting shop to the most developed nations, the richest nations in the world, who are either in the EU or have market agreements with the EU. Even the emerging markets of China and India along with other developing economies are aspiring to develop trading agreements with the EU, the second largest economy in the world. Any deal with the UK will be secondary and will depend upon their agreement with the EU.\n",
    "Boris Johnson once said \"f**k business\". I take this as meaning there is something in it for them and they don't really care if businesses find it difficulA\n",
    "t to cope.\n",
    "I can see ministers and conservative MPs queuing to fill their pockets by acting as advisors for potential trade deals whilst the rest of the country are left struggling trying to rebuild their lives, especially following the pandemic. The same ministers will probably be looking to lower all kinds of standards from food and welfare to safety at work to improve their opportunities.\n",
    "When it comes to brinkmanship, I can only view this as getting away with whatever they can. I do not believe it is anything to do with negotiating an agreement that will be to the benefit of the UK or the EU as a whole, I don't believe our ministers are capable of doing that.'''"
   ]
  },
  {
   "cell_type": "code",
   "execution_count": 24,
   "metadata": {},
   "outputs": [
    {
     "ename": "TypeError",
     "evalue": "sentiment_valence() missing 4 required positional arguments: 'sentitext', 'item', 'i', and 'sentiments'",
     "output_type": "error",
     "traceback": [
      "\u001b[0;31m------------------------------------------------------------\u001b[0m",
      "\u001b[0;31mTypeError\u001b[0m                  Traceback (most recent call last)",
      "\u001b[0;32m<ipython-input-24-6f3326dcf5de>\u001b[0m in \u001b[0;36m<module>\u001b[0;34m\u001b[0m\n\u001b[1;32m      1\u001b[0m \u001b[0msid\u001b[0m\u001b[0;34m.\u001b[0m\u001b[0mpolarity_scores\u001b[0m\u001b[0;34m(\u001b[0m\u001b[0ma\u001b[0m\u001b[0;34m)\u001b[0m\u001b[0;34m\u001b[0m\u001b[0m\n\u001b[0;32m----> 2\u001b[0;31m \u001b[0msid\u001b[0m\u001b[0;34m.\u001b[0m\u001b[0msentiment_valence\u001b[0m\u001b[0;34m(\u001b[0m\u001b[0ma\u001b[0m\u001b[0;34m)\u001b[0m\u001b[0;34m\u001b[0m\u001b[0m\n\u001b[0m",
      "\u001b[0;31mTypeError\u001b[0m: sentiment_valence() missing 4 required positional arguments: 'sentitext', 'item', 'i', and 'sentiments'"
     ]
    }
   ],
   "source": [
    "sid.polarity_scores(a)\n",
    "sid.sentiment_valence(a)"
   ]
  },
  {
   "cell_type": "code",
   "execution_count": 14,
   "metadata": {},
   "outputs": [
    {
     "name": "stdout",
     "output_type": "stream",
     "text": [
      "##PENKHULLMOONRAKER\n",
      "https://discussion.theguardian.com/comment-permalink/156038576\n",
      "https://profile.theguardian.com/user/id/17059353\n",
      "\n",
      "I'm not a doctor but he'll be waddling like a fat duck if he doesn't get the hip fixed. Arthritis is a very nasty disease and it's progressive - unless a lifestyle change is made it will wreak havoc on the body. Mobility becomes increasingly painful and therefore increasingly restricted, that ends up in weight gain and that can lead to diabetes, heart problems and stroke.\n",
      "It's important for Liam that he has the op and changes his diet, quits all sugar/alcohol. Stopping drugs too is a good idea as it disrupts good sleep patterns. He needs to stop the **RUNNING** and get into a regimented non-impactive (cycling/swimming) fitness regime immediately. I genuinely feel sorry for anyone with arthritis but \"taking the pain\" is a fastrack to obesity.\n",
      "\n",
      "##VSBAIN67\n",
      "https://discussion.theguardian.com/comment-permalink/156039114\n",
      "https://profile.theguardian.com/user/id/101965041\n",
      "\n",
      "That is fake news - read up as other replies suggest. If it is reported, it is simply confirmation bias - the active are obviously going to notice knee issues in a way the inactive won't. (I sometimes struggle with the 40 mins walking I am currently doing daily and yesterday's run also hurt a bit - but I would not notice that if I was driving these journies.)\n",
      "Indeed, whenever I discuss these matters - which hit me after menopause - with my GP or gynae or whoever the reply is invariably \"do more **RUNNING** and walking and sport\".\n",
      "\n",
      "##WHOTHENDIMAGGIO\n",
      "https://discussion.theguardian.com/comment-permalink/156038512\n",
      "https://profile.theguardian.com/user/id/17118806\n",
      "\n",
      "Who says **RUNNING** will exacerbate joint problems? If you go from never **RUNNING** to overdoing it in little time it may cause trouble, of course, but if your sensible about it it can alleviate the problems by strengthening the muscles, ligaments and tendons around the joints. As far as I can make out from my 52 years, to keep moving is always better than to sit on the couch. We got rid of our TV 16 years ago, and then got rid of the couch about 10 years ago; no regrets.\n",
      "\n",
      "##GUARDIANISTALEEDS\n",
      "https://discussion.theguardian.com/comment-permalink/156039519\n",
      "https://profile.theguardian.com/user/id/4122472\n",
      "\n",
      "Even though Liam's view is ludicrous.... I do feel his pain in my heart over Gen X hitting middle age. I moved into my 40s in recent years and despite my better judgement found myself **RUNNING** more, working out more etc as it takes a few more miles, a few more reps at the gym etc to keep everything in place like it was when I was 30. \n",
      "I'm annoyed with myself about it getting to me to be honest.\n",
      "\n",
      "##BERBERMOLL\n",
      "https://discussion.theguardian.com/comment-permalink/156038353\n",
      "https://profile.theguardian.com/user/id/18355905\n",
      "\n",
      "Five miles what? Walking good. **RUNNING** will exacerbate any joint problems. I do hard physical work and have pre-existong knee problems, as well as starting to feel my hips. I will be first in the queue for any artificial replacements.\n",
      "\n",
      "##BREMONTUK\n",
      "https://discussion.theguardian.com/comment-permalink/156038315\n",
      "https://profile.theguardian.com/user/id/102410728\n",
      "\n",
      "When I was diagnosed with hip trouble i was into **RUNNING** and blamed my problems on motor bike accidents \n",
      "But over the years I've changed my mind and now think 45 years of manual work have bu**ered up both knees and hips.\n",
      "\n",
      "##EMBERINO\n",
      "https://discussion.theguardian.com/comment-permalink/156038939\n",
      "https://profile.theguardian.com/user/id/103063037\n",
      "\n",
      "Skechers (please get the spelling right) are very comfortable. Perhaps Liam wore the **RUNNING** ones on his Heath runs. But as for drinking milk I fear you got that wrong I’m a lactose intolerant vegan.\n",
      "\n",
      "##MONKEYBIZ\n",
      "https://discussion.theguardian.com/comment-permalink/156039614\n",
      "https://profile.theguardian.com/user/id/2445553\n",
      "\n",
      "Sure, things are not as sharp as they once were. But neither am I as stupid as I once was. Or so I believe. Roundabouts and swings I suppose. Still **RUNNING** to keep arthritis at bay.\n",
      "\n",
      "##CAVECANEM\n",
      "https://discussion.theguardian.com/comment-permalink/156038641\n",
      "https://profile.theguardian.com/user/id/2590747\n",
      "\n",
      "Liam has been drug free for a while and has been out on the Heath **RUNNING** for years, doing proper hard yards. I wonder if that’s ironically what’s caused his hip problem…\n",
      "\n",
      "##BLUBBERMOUTH\n",
      "https://discussion.theguardian.com/comment-permalink/156039483\n",
      "https://profile.theguardian.com/user/id/14698777\n",
      "\n",
      "I don't know how he's managed to wear them out - he hardly moves on stage and isn't exactly known for **RUNNING** marathons.\n",
      "Maybe they have just seized up.\n",
      "\n",
      "##PETETHEBEAT\n",
      "https://discussion.theguardian.com/comment-permalink/156038757\n",
      "https://profile.theguardian.com/user/id/4596721\n",
      "\n",
      "He did/does a lot of **RUNNING** - maybe explains it.\n",
      "I do as well with no issues and am older but maybe sore hips and knees are down to luck.\n",
      "\n",
      "##SLATTERS\n",
      "https://discussion.theguardian.com/comment-permalink/156039396\n",
      "https://profile.theguardian.com/user/id/3123384\n",
      "\n",
      "It could have been brought on by his **RUNNING**. If you do it wrong with incorrect footwear it can cause loads of problems.\n",
      "\n",
      "##GOKARTMOZART\n",
      "https://discussion.theguardian.com/comment-permalink/156038832\n",
      "https://profile.theguardian.com/user/id/106350470\n",
      "\n",
      "There is no proven link between joint trouble and **RUNNING**, it’s a myth.\n"
     ]
    }
   ],
   "source": [
    "target = 'decolon'\n",
    "target = 'science'\n",
    "target = 'irish'\n",
    "target = 'mandela'\n",
    "target = 'abolit'\n",
    "target = 'running'\n",
    "\n",
    "\n",
    "xx = [x for x in all_comments if target.lower() in x.lower() and  len(x) > 20]\n",
    "yy = [x for x in all_comments if '#pin' in x.lower() and 2000 > len(x) > 20]\n",
    "\n",
    "#print('\\n\\n'.join( ['\\n\\n'.join(x) for x in zip(xx,yy)])  )\n",
    "\n",
    "#print( '\\n\\n'.join(xx).replace(target, ) )\n",
    "pxx = re.compile(target, re.I)\n",
    "print( pxx.sub('**' + target.upper() + '**', \n",
    "              '\\n\\n'.join(xx)) )\n",
    "               \n",
    "#print( '\\n\\n'.join(xx) )\n"
   ]
  },
  {
   "cell_type": "code",
   "execution_count": 20,
   "metadata": {},
   "outputs": [
    {
     "data": {
      "text/plain": [
       "0.7820401046207497"
      ]
     },
     "execution_count": 20,
     "metadata": {},
     "output_type": "execute_result"
    }
   ],
   "source": [
    "(26/31) / (74/69)"
   ]
  },
  {
   "cell_type": "code",
   "execution_count": 64,
   "metadata": {},
   "outputs": [
    {
     "data": {
      "text/plain": [
       "529"
      ]
     },
     "execution_count": 64,
     "metadata": {},
     "output_type": "execute_result"
    }
   ],
   "source": [
    "23**2"
   ]
  },
  {
   "cell_type": "markdown",
   "metadata": {},
   "source": [
    "## "
   ]
  },
  {
   "cell_type": "code",
   "execution_count": 21,
   "metadata": {},
   "outputs": [
    {
     "data": {
      "text/plain": [
       "211"
      ]
     },
     "execution_count": 21,
     "metadata": {},
     "output_type": "execute_result"
    }
   ],
   "source": [
    "84 + 127"
   ]
  },
  {
   "cell_type": "code",
   "execution_count": 24,
   "metadata": {},
   "outputs": [
    {
     "data": {
      "text/plain": [
       "1.2842073077511085"
      ]
     },
     "execution_count": 24,
     "metadata": {},
     "output_type": "execute_result"
    }
   ],
   "source": [
    "84/211/.31"
   ]
  },
  {
   "cell_type": "code",
   "execution_count": 25,
   "metadata": {},
   "outputs": [
    {
     "data": {
      "text/plain": [
       "0.8723126588364586"
      ]
     },
     "execution_count": 25,
     "metadata": {},
     "output_type": "execute_result"
    }
   ],
   "source": [
    "127/211/.69"
   ]
  },
  {
   "cell_type": "code",
   "execution_count": 26,
   "metadata": {},
   "outputs": [
    {
     "data": {
      "text/plain": [
       "1.471264367816092"
      ]
     },
     "execution_count": 26,
     "metadata": {},
     "output_type": "execute_result"
    }
   ],
   "source": [
    "1.28/.87"
   ]
  },
  {
   "cell_type": "code",
   "execution_count": null,
   "metadata": {},
   "outputs": [],
   "source": []
  }
 ],
 "metadata": {
  "kernelspec": {
   "display_name": "NLP",
   "language": "python",
   "name": "nlp"
  },
  "language_info": {
   "codemirror_mode": {
    "name": "ipython",
    "version": 3
   },
   "file_extension": ".py",
   "mimetype": "text/x-python",
   "name": "python",
   "nbconvert_exporter": "python",
   "pygments_lexer": "ipython3",
   "version": "3.8.5"
  },
  "widgets": {
   "application/vnd.jupyter.widget-state+json": {
    "state": {},
    "version_major": 2,
    "version_minor": 0
   }
  }
 },
 "nbformat": 4,
 "nbformat_minor": 4
}
