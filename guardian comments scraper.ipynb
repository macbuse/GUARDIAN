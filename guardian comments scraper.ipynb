{
 "cells": [
  {
   "cell_type": "raw",
   "metadata": {},
   "source": [
    "# Basic scraping for Guardian discussions u"
   ]
  },
  {
   "cell_type": "code",
   "execution_count": 1,
   "metadata": {},
   "outputs": [
    {
     "name": "stdout",
     "output_type": "stream",
     "text": [
      "[master 705b837] web\n",
      " 3 files changed, 1090 insertions(+), 1110 deletions(-)\n",
      " rewrite guardian comments scraper.ipynb (69%)\n",
      " create mode 100644 jnntf.pkl\n",
      " create mode 100644 k9va7.pkl\n",
      "Counting objects: 5, done.\n",
      "Delta compression using up to 12 threads.\n",
      "Compressing objects: 100% (5/5), done.\n",
      "Writing objects: 100% (5/5), 1.08 MiB | 163.00 KiB/s, done.\n",
      "Total 5 (delta 2), reused 0 (delta 0)\n",
      "remote: Resolving deltas: 100% (2/2), completed with 1 local object.\u001b[K\n",
      "To https://github.com/macbuse/GUARDIAN.git\n",
      "   961a95f..705b837  master -> master\n"
     ]
    }
   ],
   "source": [
    "! ./.g\n"
   ]
  },
  {
   "cell_type": "code",
   "execution_count": 59,
   "metadata": {},
   "outputs": [],
   "source": [
    "with open('guardian comments scraper.ipynb','r') as fp:\n",
    "    nb = fp.read()"
   ]
  },
  {
   "cell_type": "code",
   "execution_count": 60,
   "metadata": {},
   "outputs": [],
   "source": [
    "import re\n",
    "\n",
    "pp = re.compile(\"(https://www.the.*?)'\")\n",
    "lks = pp.findall(nb)\n",
    "\n",
    "with open('links.txt','a') as fp:\n",
    "    fp.write('\\n'.join(lks))"
   ]
  },
  {
   "cell_type": "code",
   "execution_count": 2,
   "metadata": {},
   "outputs": [],
   "source": [
    "import re \n",
    "import requests\n",
    "import pickle\n",
    "import json"
   ]
  },
  {
   "cell_type": "code",
   "execution_count": 9,
   "metadata": {},
   "outputs": [],
   "source": [
    "article_url = 'https://www.theguardian.com/commentisfree/2020/aug/19/ditch-the-algorithm-generation-students-a-levels-politics'\n",
    "article_url = 'https://www.theguardian.com/commentisfree/2020/aug/21/joe-biden-democrat-convention-nice-guy-trump-fight'\n",
    "article_url = 'https://www.theguardian.com/commentisfree/2020/aug/23/the-cruel-exams-algorithm-has-laid-bare-the-unfairness-at-the-heart-of-our-schools'\n",
    "article_url = 'https://www.theguardian.com/commentisfree/2020/sep/01/us-mainstream-right-vigilante-terror'\n",
    "article_url = 'https://www.theguardian.com/commentisfree/2020/aug/31/politicians-covid-19-statistics-statisticians'\n",
    "article_url = 'https://www.theguardian.com/commentisfree/2021/apr/14/boris-johnson-is-telling-scotland-that-the-union-is-no-longer-based-on-consent'\n",
    "article_url = 'https://www.theguardian.com/commentisfree/2021/may/10/retail-politics-movements-polarising-projects-promise'"
   ]
  },
  {
   "cell_type": "code",
   "execution_count": 11,
   "metadata": {},
   "outputs": [],
   "source": [
    "article_url = 'https://www.theguardian.com/commentisfree/2020/sep/29/rival-scientists-lockdowns-scientific-covid-19'\n",
    "article_url = 'https://www.theguardian.com/commentisfree/2020/oct/08/johnson-and-sturgeon-will-need-a-better-philosophy-than-precaution-to-rid-us-of-covid'\n",
    "article_url = 'https://www.theguardian.com/commentisfree/2020/oct/10/continual-local-lockdowns-answer-covid-control'\n",
    "article_url = 'https://www.theguardian.com/commentisfree/2020/oct/11/the-rebel-scientists-cause-would-be-more-persuasive-if-it-werent-so-half-baked'\n",
    "\n",
    "article_url = 'https://www.theguardian.com/commentisfree/2021/apr/03/undermining-the-astrazeneca-jab-is-a-dangerous-act-of-political-folly#comment-148440261'\n",
    "article_url = 'https://www.theguardian.com/commentisfree/2021/apr/09/boris-johnson-brexit-belfast-violence-eu-good-friday-agreement'\n",
    "article_url ='https://www.theguardian.com/commentisfree/2021/apr/02/culture-war-government-race-report'\n",
    "article_url = 'https://www.theguardian.com/commentisfree/2021/mar/18/britain-sunny-vaccine-optimism-april-delivery-delay'\n",
    "article_url ='https://www.theguardian.com/commentisfree/2021/apr/14/boris-johnson-is-telling-scotland-that-the-union-is-no-longer-based-on-consent'\n",
    "article_url = 'https://www.theguardian.com/commentisfree/2021/apr/15/britain-harness-social-sciences-covid-pandemic-deprivation'\n",
    "article_url = 'https://www.theguardian.com/commentisfree/2021/apr/16/government-race-report-evidence#comment-148662066'\n",
    "article_url ='https://www.theguardian.com/commentisfree/2021/apr/20/britain-falling-birthrate-covid-pandemic-conservatives-removed-support-for-parents'\n",
    "article_url = 'https://www.theguardian.com/commentisfree/2021/apr/21/bmi-eating-disorder-pandemic-treatment'\n",
    "article_url = 'https://www.theguardian.com/commentisfree/2021/apr/30/government-delays-covid-public-inquiry-health-crisis'\n",
    "article_url = 'https://www.theguardian.com/commentisfree/2021/may/07/humiliation-hartlepool-smalltown-detective-di-starmer'\n",
    "article_url ='https://www.theguardian.com/commentisfree/2021/aug/06/uk-government-experts-vaccinating-under-16s'\n",
    "article_url = 'https://www.theguardian.com/commentisfree/2021/aug/01/there-is-a-case-for-vaccine-passports-but-ministers-are-failing-to-make-it'\n",
    "article_url = 'https://www.theguardian.com/commentisfree/2021/aug/09/america-is-flying-blind-when-it-comes-to-the-delta-variant'\n",
    "article_url = 'https://www.theguardian.com/commentisfree/2021/aug/10/covid-vaccines-britain-scientific-solution-jabs'\n",
    "article_url = 'https://www.theguardian.com/commentisfree/2021/aug/13/denial-anti-vaxxers-climate-sceptics'\n",
    "article_url = 'https://www.theguardian.com/commentisfree/2018/apr/11/bbc-andrew-neil-media-politics'\n",
    "\n",
    "article_url = 'https://www.theguardian.com/commentisfree/2021/aug/15/vaccine-passports-are-less-a-threat-to-liberty-than-a-mark-of-solidarity'\n",
    "article_url = 'https://www.theguardian.com/theobserver/commentisfree/2021/aug/14/will-we-reach-herd-immunity-for-the-new-coronavirus'\n",
    "article_url = 'https://www.theguardian.com/commentisfree/2021/aug/15/vaccine-hesitancy-broken-relationship-state-conspiracy-theorists'\n",
    "article_url = 'https://www.theguardian.com/commentisfree/2021/aug/17/dominic-raab-news-foreign-secretary-taliban-kabul'\n",
    "article_url= 'https://www.theguardian.com/commentisfree/2021/dec/11/so-which-of-these-politicians-is-a-neoliberal-not-one-of-them'\n",
    "\n",
    "article_url = 'https://www.theguardian.com/commentisfree/2021/dec/12/omicron-is-sneaky-it-could-be-fatal-for-us-or-for-our-faith-in-government'"
   ]
  },
  {
   "cell_type": "code",
   "execution_count": 13,
   "metadata": {},
   "outputs": [],
   "source": [
    "article_url ='https://www.theguardian.com/commentisfree/2021/dec/06/google-silicon-valley-ai-timnit-gebru'\n",
    "article_url = 'https://www.theguardian.com/commentisfree/2021/dec/20/rightwingers-us-social-change-coming'\n",
    "article_url = 'https://www.theguardian.com/commentisfree/2021/dec/22/omicron-covid-restrictions-young-people'\n",
    "article_url = 'https://www.theguardian.com/politics/2022/jan/01/sir-tim-brighouse-many-hold-gove-responsible-expert-educator-sets-out-whats-gone-wrong-with-britains-schools'\n",
    "article_url ='https://www.theguardian.com/commentisfree/2022/jan/10/colston-four-britain-apology-for-past'\n",
    "article_url = 'https://www.theguardian.com/commentisfree/2022/jan/21/democrats-shape-up-bidens-presidency-trumpian-sequel'\n",
    "article_url = 'https://www.theguardian.com/commentisfree/2022/jan/28/joe-rogan-neil-young-spotify-streaming-service'"
   ]
  },
  {
   "cell_type": "code",
   "execution_count": 27,
   "metadata": {},
   "outputs": [],
   "source": [
    "article_url = 'https://www.theguardian.com/commentisfree/2022/mar/04/ukraine-eu-membership-zelenskiy-european-values-war'"
   ]
  },
  {
   "cell_type": "code",
   "execution_count": null,
   "metadata": {},
   "outputs": [],
   "source": [
    "key = my_keys.keys['guardian']"
   ]
  },
  {
   "cell_type": "code",
   "execution_count": 28,
   "metadata": {},
   "outputs": [
    {
     "name": "stdout",
     "output_type": "stream",
     "text": [
      "/p/kqqtv\n",
      "getting comments page no. 1\n",
      "there are 5 pages\n",
      "getting comments page no. 2\n",
      "getting comments page no. 3\n",
      "getting comments page no. 4\n",
      "getting comments page no. 5\n",
      "archiving to kqqtv.pkl\n"
     ]
    }
   ],
   "source": [
    "#scrape the page and get the short url\n",
    "# 15/8/21  this failed and gave /p/temp\n",
    "short_url_pp =  re.compile('\"shortUrlId\":\"(.*?)\"')\n",
    "\n",
    "r = requests.get(article_url)\n",
    "mm = short_url_pp.search(r.text)\n",
    "short_url = mm.group(1)\n",
    "uu = r.text\n",
    "print(short_url)\n",
    "\n",
    "#the short url allows us to access the discussion\n",
    "# 15/8/21 api.nextgen.guardianapps.co.uk/discussion/ failed on \n",
    "# https://discussion.theguardian.com/discussion-api/discussion/p/tfmxg\n",
    "comments_url = 'https://api.nextgen.guardianapps.co.uk/discussion/%s.json'%short_url\n",
    "params = {'orderBy' : 'newest',\n",
    "          'pageSize' : 25,\n",
    "          'displayThreaded' : 'true',\n",
    "          'commentsClosed' : 'false',\n",
    "          'page' : '',\n",
    "          'maxResponses' : 50\n",
    "         }\n",
    "\n",
    "json_data =  []\n",
    "start_page  = 1\n",
    "last_page = None\n",
    "\n",
    "\n",
    "for num_page in range(start_page, 10**4):\n",
    "    print('getting comments page no.', num_page)\n",
    "    params['page'] = num_page\n",
    "    r = requests.get( comments_url, params=params)\n",
    "    json_data.append( r.text)\n",
    "    #The last page is a field in the json object\n",
    "    #I don't need to read this as json I could do a regexp\n",
    "    if num_page == start_page:\n",
    "        json_dict = json.loads(r.text)\n",
    "        last_page = json_dict['lastPage']\n",
    "        print('there are %d pages'%last_page)\n",
    "    if num_page == last_page : break\n",
    "        \n",
    "\n",
    "fn = '%s.pkl'%short_url.split('/')[-1]\n",
    "print('archiving to %s'%fn)\n",
    "with open(fn,'wb') as fp:\n",
    "    pickle.dump(json_data,fp)"
   ]
  },
  {
   "cell_type": "code",
   "execution_count": 2,
   "metadata": {},
   "outputs": [],
   "source": [
    "import pickle\n",
    "\n",
    "json_data = pickle.load(open('k4vhe.pkl','rb'))"
   ]
  },
  {
   "cell_type": "markdown",
   "metadata": {},
   "source": [
    "## remember each page of comments has been stored separately"
   ]
  },
  {
   "cell_type": "code",
   "execution_count": 9,
   "metadata": {},
   "outputs": [
    {
     "data": {
      "text/plain": [
       "14"
      ]
     },
     "execution_count": 9,
     "metadata": {},
     "output_type": "execute_result"
    }
   ],
   "source": [
    "dd = json.loads(json_data[0])\n",
    "len(json_data)"
   ]
  },
  {
   "cell_type": "code",
   "execution_count": 19,
   "metadata": {},
   "outputs": [
    {
     "data": {
      "text/plain": [
       "'\\n<div class=\"d-discussion d-discussion--recommendations-open u-cf\"\\n     data-read-only=\"false\" >\\n\\n    \\n    \\n        <div class=\"d-discussion__size-message\">\\n            Due to the large number of comments, they are being shown 100 per page.\\n        </div>\\n    \\n\\n\\n    <ul class=\"d-thread d-thread--comments js-new-comments\">\\n\\n        \\n            \\n\\n<li class=\"d-comment\\n            d-comment--top-level d-comment-staff\"\\n           id=\"comment-154007965\"\\n           data-comment-id=\"154007965\"\\n           data-comment-author=\"CommunityMod\"\\n           data-comment-replies=\"0\"\\n           data-comment-timestamp=\"2022-01-01T18:00:47.000Z\"\\n           data-comment-author-id=\"2902769\"\\n           data-comment-highlighted=\"false\"\\n           itemscope itemtype=\"http://schema.org/Comment\">\\n\\n    <div class=\"d-comment__inner d-comment__inner--top-level\">\\n        <div class=\"d-comment__meta\">\\n            <span class=\"d-comment__avatar-wrapper\">\\n                <img src=\"https://avatar.guim.co.uk/user/2902769\" alt=\"\" class=\"d-comment__avatar\"/>\\n            </span>\\n            <div class=\"d-comment__meta-text\">\\n                <span\\n                    itemscope\\n                    itemprop=\"author\"\\n                    itemtype=\"http://schema.org/Person\"\\n                    title=\"CommunityMod\"\\n                    class=\"d-comment__author\">\\n                    <a href=\"https://profile.theguardian.com/user/id/2902769\" itemprop=\"url\">\\n                        <span itemprop=\"givenName\">CommunityMod</span>\\n                    </a>\\n                </span>\\n\\n                \\n                <div class=\"d-comment__timestamp\">\\n                    <a href=\"https://discussion.theguardian.com/comment-permalink/154007965\" class=\"d-comment__timestamp block-time\">\\n                        <time class=\"js-timestamp\" itemprop=\"dateCreated\"\\n                            datetime=\"2022-01-01T18:00:47Z\"\\n                            data-timestamp=\"1641060047000\" data-relativeformat=\"med\"\\n                            title=\"Permalink to this comment (1 Jan 2022 18:00)\">1 Jan 2022 18:00</time>\\n                        \\n\\n<span  class=\"inline-comment-anchor inline-icon \" >\\n    \\n        <svg width=\"15\" height=\"15\" viewbox=\"0 0 15 15\" class=\"inline-comment-anchor__svg inline-icon__svg\">\\n <path fill=\"#898989\" d=\"M5.725 13.348a2.563 2.563 0 0 1-3.699-3.547l8.424-8.79a1.921 1.921 0 0 1 2.776 2.658l-6.894 7.193a1.277 1.277 0 0 1-1.812.038 1.28 1.28 0 0 1-.04-1.81l5.324-5.553.337.321-5.325 5.555a.815.815 0 0 0 1.175 1.128l6.896-7.193a1.456 1.456 0 0 0-2.101-2.015l-8.427 8.79a2.102 2.102 0 0 0 .063 2.965 2.098 2.098 0 0 0 2.965-.062l6.853-7.152.338.323-6.853 7.151z\" />\\n</svg>\\n    \\n</span>\\n\\n                    </a>\\n                </div>\\n\\n                \\n    <div class=\"d-comment__author-label\">\\n        \\n\\n<span  class=\"inline-marque-36 inline-icon d-comment__gu-icon\" >\\n    \\n        <svg width=\"36\" height=\"36\" viewbox=\"0 0 36 36\" class=\"d-comment__gu-icon__svg inline-marque-36__svg inline-icon__svg\">\\n <path d=\"M18 0a18 18 0 1 0 0 36 18 18 0 0 0 0-36\" />\\n <path fill=\"#FFF\" d=\"M21.2 4.4c2.3.4 5.3 2 6.3 3.1v5.2H27L21.2 5v-.6zm-2.2.4c-4 0-6.3 5.6-6.3 13.2 0 7.7 2.2 13.3 6.3 13.3v.6c-6 .4-14.4-4.2-14-13.8A13.3 13.3 0 0 1 19 4v.7zm10.4 14.4-1.9.9v8.6c-1 1-3.8 2.6-6.3 3.1V19.9l-2.2-.7v-.6h10.4v.6z\" />\\n</svg>\\n    \\n</span>\\n Staff\\n    </div>\\n\\n\\n\\n                \\n            </div>\\n        </div>\\n\\n        <div class=\"d-comment__content\">\\n\\n             \\n                <div\\n                    class=\"d-comment__recommend js-recommend-comment\"\\n                    data-comment-id=\"154007965\"\\n                    data-comment-url=\"https://discussion.theguardian.com/comment-permalink/154007965\"\\n                    data-user-id=\"2902769\"\\n                    data-recommend-count=\"1\"\\n                    title=\"1 recommendations\">\\n                    <button class=\"u-button-reset d-comment__recommend-button rounded-icon\" data-link-name=\"Recommend comment\" >\\n                        <span class=\"d-comment__recommend-pulse\"></span>\\n                        \\n\\n<span  class=\"inline-arrow-up-white inline-icon \" >\\n    \\n        <svg height=\"14\" width=\"15\" class=\"inline-arrow-up-white__svg inline-icon__svg\">\\n <path d=\"m.5 7 5.25-4.5V14h1.5V2.5L12.5 7l.5-1-5.75-6h-1.5L0 6l.5 1Z\" />\\n</svg>\\n    \\n</span>\\n\\n                    </button>\\n                    <span class=\"d-comment__recommend-count js-recommend-count\">\\n                        <span class=\"d-comment__recommend-count--old\">1</span>\\n                        <span class=\"d-comment__recommend-count--new\">2</span>\\n                    </span>\\n                </div>\\n            \\n\\n            <div class=\"d-comment__main \">\\n\\n                <div class=\"d-comment__body\" itemprop=\"text\">\\n                    \\n                        \\n                            <p>Comments will close here at 18:15 GMT.</p>\\n                        \\n                    \\n                </div>\\n                \\n                    <div class=\"d-comment__actions d-comment__actions--left modern-visible\">\\n                        <a class=\"d-comment__action d-comment__action--reply\" href=\"https://profile.theguardian.com/signin?returnUrl=https://discussion.theguardian.com/comment-permalink/154007965&componentEventParams=componentType%3Didentityauthentication%26componentId%3Dsignin_to_reply_comment\"\\n                                data-link-name=\"reply to comment\" data-comment-id=\"154007965\" role=\"button\">\\n                            \\n\\n<span  class=\"inline-reply inline-icon blue\" >\\n    \\n        <svg width=\"18\" height=\"18\" class=\"blue__svg inline-reply__svg inline-icon__svg\">\\n <path d=\"m10.1 5 .9-1 4 4.5v1L11 14l-.9-1 2.5-3H4L3 9V6.5h2V8h7.6l-2.5-3z\" />\\n</svg>\\n    \\n</span>\\n\\n                            Reply\\n                        </a>\\n\\n                        \\n                            \\n<div class=\"d-comment__action d-comment__action--share\">\\n\\n    <div class=\"sharing-text\">\\n\\n<span  class=\"inline-share inline-icon comment-share-icon\" >\\n    \\n        <svg width=\"12\" height=\"12\" viewbox=\"0 0 12 12\" class=\"comment-share-icon__svg inline-share__svg inline-icon__svg\">\\n <path d=\"M10.073 8.4c-.475 0-.906.19-1.225.497L3.54 6.221 3.555 6l-.015-.221 5.308-2.676c.319.308.75.497 1.225.497.982 0 1.778-.806 1.778-1.8S11.055 0 10.073 0 8.295.806 8.295 1.8l.016.233-5.299 2.675a1.762 1.762 0 0 0-1.236-.507c-.982 0-1.778.806-1.778 1.8s.796 1.8 1.778 1.8c.48 0 .915-.194 1.236-.507l5.299 2.675-.016.233c0 .994.796 1.8 1.778 1.8s1.778-.806 1.778-1.8-.796-1.8-1.778-1.8zm0-7.68c.588 0 1.067.484 1.067 1.08 0 .596-.479 1.08-1.067 1.08S9.006 2.396 9.006 1.8c0-.596.479-1.08 1.067-1.08zm0 10.56a1.075 1.075 0 0 1-1.067-1.08c0-.596.479-1.08 1.067-1.08s1.067.484 1.067 1.08c0 .596-.479 1.08-1.067 1.08z\" />\\n</svg>\\n    \\n</span>\\n <span>Share</span></div>\\n\\n    <div class=\"sharing-buttons\" data-link-name=\"comment social\">\\n    \\n        \\n            \\n\\n        <a href=\"https://www.facebook.com/dialog/share?app_id=180444840287&amp;href=https%3A%2F%2Fdiscussion.theguardian.com%2Fcomment-permalink%2F154007965&amp;quote=CommunityMod%20commented%3A%20%22Comments%20will%20close%20here%20at%2018%3A15%20GMT.%22\"\\n        target=\"_blank\"\\n        class=\"social__action social-icon-wrapper\"\\n        data-link-name=\"social-comment : facebook\">\\n            <span class=\"inline-icon__fallback button\">\\n                Share on Facebook</span>\\n            \\n\\n<span  class=\"inline-share-facebook inline-icon rounded-icon social-icon centered-icon social-icon--facebook comment-facebook-icon\" >\\n    \\n        <svg width=\"32\" height=\"32\" viewbox=\"-2 -2 32 32\" class=\"rounded-icon__svg social-icon__svg centered-icon__svg social-icon--facebook__svg comment-facebook-icon__svg inline-share-facebook__svg inline-icon__svg\">\\n <path d=\"M17.9 14h-3v8H12v-8h-2v-2.9h2V8.7C12 6.8 13.1 5 16 5c1.2 0 2 .1 2 .1v3h-1.8c-1 0-1.2.5-1.2 1.3v1.8h3l-.1 2.8z\" />\\n</svg>\\n    \\n</span>\\n\\n            <span class=\"u-h\">Facebook</span>\\n        </a>\\n    \\n\\n            \\n            \\n                \\n\\n        <a href=\"https://tw'"
      ]
     },
     "execution_count": 19,
     "metadata": {},
     "output_type": "execute_result"
    }
   ],
   "source": [
    "xx = json.loads(json_data[0])\n",
    "xx['commentsHtml'][:8000]"
   ]
  },
  {
   "cell_type": "code",
   "execution_count": null,
   "metadata": {},
   "outputs": [],
   "source": [
    "https://discussion.theguardian.com/comment-permalink/154003870"
   ]
  },
  {
   "cell_type": "code",
   "execution_count": 136,
   "metadata": {},
   "outputs": [
    {
     "name": "stdout",
     "output_type": "stream",
     "text": [
      " class=\"d-comment\n",
      "            d-comment--top-level\"\n",
      "           id=\"comment-144422422\"\n",
      "           data-comment-id=\"144422422\"\n",
      "           data-comment-author=\"Hushing\"\n",
      "           data-comment-replies=\"0\"\n",
      "           data-comment-timestamp=\"2020-10-11T14:25:06.000+01:00\"\n",
      "           data-comment-author-id=\"12407494\"\n",
      "           data-comment-highlighted=\"false\"\n",
      "           itemscope itemtype=\"http://schema.org/Comment\">\n",
      "\n",
      "    <div class=\"d-comment__inner d-comment__inner--top-level\">\n",
      "        <div class=\"\n"
     ]
    }
   ],
   "source": [
    "print( xx['commentsHtml'][200:700])"
   ]
  },
  {
   "cell_type": "code",
   "execution_count": 16,
   "metadata": {},
   "outputs": [],
   "source": [
    "pa = re.compile('data-comment-author=\"(.*?)\"')\n",
    "pid = re.compile('data-comment-author-id=\"(\\d+)')\n",
    "pcid = re.compile('\\sid=\"comment-(.*?)\"')\n",
    "pp = re.compile('<li class=\"d-comment(.*?)>',re.DOTALL)\n",
    "\n",
    "auths = []\n",
    "md = []\n",
    "for xx in json_data:\n",
    "    hh = json.loads(xx)['commentsHtml']\n",
    "    auths.extend(list( zip(pa.findall(hh), \n",
    "                           pid.findall(hh)\n",
    "                          )))\n",
    "    md.extend(pp.findall(hh))\n",
    "\n",
    "auths = list(set(auths))\n",
    "auths.sort(key=lambda x : x[0].lower())\n"
   ]
  },
  {
   "cell_type": "code",
   "execution_count": 102,
   "metadata": {},
   "outputs": [],
   "source": [
    "#print( '\\n'.join([x for x in md if 'pinkie' in x.lower()]))"
   ]
  },
  {
   "cell_type": "markdown",
   "metadata": {},
   "source": [
    "https://discussion.theguardian.com/comment-permalink/144375739"
   ]
  },
  {
   "cell_type": "code",
   "execution_count": 8,
   "metadata": {},
   "outputs": [],
   "source": [
    "auths = dict(auths)"
   ]
  },
  {
   "cell_type": "code",
   "execution_count": 9,
   "metadata": {},
   "outputs": [
    {
     "data": {
      "text/plain": [
       "'https://api.nextgen.guardianapps.co.uk/discussion//p/hvpq8.json'"
      ]
     },
     "execution_count": 9,
     "metadata": {},
     "output_type": "execute_result"
    }
   ],
   "source": [
    "comments_url"
   ]
  },
  {
   "cell_type": "code",
   "execution_count": 29,
   "metadata": {},
   "outputs": [],
   "source": [
    "\n",
    "from bs4 import BeautifulSoup\n",
    "\n",
    "def html2comments(x):\n",
    "    tt = json.loads(x)\n",
    "    soup = BeautifulSoup(tt['commentsHtml'],  \"lxml\")\n",
    "    raw = [ comment.text for comment in  \n",
    "            soup.findAll('div', {'class' : \"d-comment__body\"}) ]\n",
    "    \n",
    "    metadata = soup.findAll('span', {'class' : \"d-comment__author\"})\n",
    "    \n",
    "    \n",
    "    auth = [ x.text.upper().strip() for x in metadata]\n",
    "    auth_id = [ x.find('a')['href'] for x in metadata]\n",
    "    #this was a pain to do really\n",
    "    #the problem is blocked comments\n",
    "    comment_id = [ x['id'][len('comment-'):] for x in soup.findAll('li')]\n",
    " \n",
    "    \n",
    "    ss = '##{}\\nhttps://discussion.theguardian.com/comment-permalink/{}\\n{}\\n\\n{}'\n",
    "    return [ ss.format(a,b,d,c.strip())  \n",
    "                   for a,b,d,c in zip(auth, comment_id, auth_id, raw)]\n",
    "     \n",
    "all_texts = [ html2comments(page) for page in json_data[:] ]\n",
    "\n",
    "\n",
    "from itertools import chain\n",
    "all_comments = list(chain.from_iterable(all_texts))\n",
    "    "
   ]
  },
  {
   "cell_type": "code",
   "execution_count": null,
   "metadata": {},
   "outputs": [],
   "source": []
  },
  {
   "cell_type": "markdown",
   "metadata": {},
   "source": [
    "# Random data hacking"
   ]
  },
  {
   "cell_type": "code",
   "execution_count": 6,
   "metadata": {
    "scrolled": true
   },
   "outputs": [
    {
     "data": {
      "text/plain": [
       "[('##ANDREWF75', 26),\n",
       " ('##BARONVONAMERICANO', 22),\n",
       " ('##SEELIFEDIFFERENTLY', 17),\n",
       " ('##ZIONTRAIN', 15),\n",
       " ('##1LOVE1HEART', 15),\n",
       " ('##KAVANGH', 15),\n",
       " ('##ATLANT', 14),\n",
       " ('##DAVETHEWRAPPER', 12),\n",
       " ('##LISAMARIE3', 11),\n",
       " ('##PROUDSONOFDUCK', 10),\n",
       " ('##MISTERFRISKY', 9),\n",
       " ('##IRRELIGIOUS', 9),\n",
       " ('##MADORKALLAN', 8),\n",
       " ('##SNAFU5001', 8),\n",
       " ('##JALFRED_ARRY', 8),\n",
       " ('##DEANO1956', 8),\n",
       " ('##HFLASHMAN', 7),\n",
       " ('##JUSTANOTHERPROFILE', 7),\n",
       " ('##COMPAID', 7),\n",
       " ('##ROVERTHEHILLANDFARAW', 7),\n",
       " ('##MRMAY', 7),\n",
       " ('##TD1972', 6),\n",
       " ('##MCPWILK', 6),\n",
       " ('##DENSHER', 6),\n",
       " ('##LUDALEIN', 6),\n",
       " ('##DONDI', 6),\n",
       " ('##SOMETIMELATER', 5),\n",
       " ('##JAYPEE65', 5),\n",
       " ('##ROLLERRULER', 5),\n",
       " ('##SHIRA7777', 5),\n",
       " ('##OLDBUTNOTWISE', 5),\n",
       " ('##LEEABROAD', 5),\n",
       " ('##CMAN', 5)]"
      ]
     },
     "execution_count": 6,
     "metadata": {},
     "output_type": "execute_result"
    }
   ],
   "source": [
    "A = [x.split('\\n')[0] for x in all_comments]\n",
    "from collections import Counter\n",
    "AN = Counter(A)\n",
    "sorted([(x,y) for x,y in AN.items() if y > 4], key=lambda x : -x[1]) "
   ]
  },
  {
   "cell_type": "code",
   "execution_count": 7,
   "metadata": {},
   "outputs": [
    {
     "name": "stdout",
     "output_type": "stream",
     "text": [
      "[master 2d74372] web\n",
      " 1 file changed, 0 insertions(+), 0 deletions(-)\n",
      " create mode 100644 kdxb7.pkl\n",
      "Counting objects: 3, done.\n",
      "Delta compression using up to 12 threads.\n",
      "Compressing objects: 100% (3/3), done.\n",
      "Writing objects: 100% (3/3), 418.83 KiB | 3.25 MiB/s, done.\n",
      "Total 3 (delta 1), reused 0 (delta 0)\n",
      "remote: Resolving deltas: 100% (1/1), completed with 1 local object.\u001b[K\n",
      "To https://github.com/macbuse/GUARDIAN.git\n",
      "   705b837..2d74372  master -> master\n"
     ]
    }
   ],
   "source": [
    "! ./.g\n"
   ]
  },
  {
   "cell_type": "code",
   "execution_count": 30,
   "metadata": {},
   "outputs": [
    {
     "name": "stdout",
     "output_type": "stream",
     "text": [
      "##STILT\n",
      "https://discussion.theguardian.com/comment-permalink/155280552\n",
      "https://profile.theguardian.com/user/id/2397205\n",
      "\n",
      "This comment was removed by a moderator because it didn't abide by our\n",
      "         \n"
     ]
    }
   ],
   "source": [
    "print(all_comments[0][:200])"
   ]
  },
  {
   "cell_type": "code",
   "execution_count": 31,
   "metadata": {},
   "outputs": [
    {
     "name": "stdout",
     "output_type": "stream",
     "text": [
      "##FROGHOLE1\n",
      "https://discussion.theguardian.com/comment-permalink/155280272\n",
      "https://profile.theguardian.com/user/id/15794618\n",
      "\n",
      "If Ukraine is offered membership, then why should it continue to be denied to the states of the western Balkans or, indeed, to the Caucasus (Georgia also made considerable sacrifices)?\n",
      "Moreover, if Serbia in particular is brought into the EU and receives transfer payments which improve its living standards in line with other central European countries, it is far less likely to be played by Russia.\n",
      "In addition, if Ukraine, the western Balkans and the Caucasus, then why not Turkey also? Turkey, an ancient enemy of Russia, has only turned towards Russia because is was strung along in the late 1990s and early 2000s. If Turkey were folded into the EU, it would be much more willing to exercise suasion over Russia by closing the Straits, making it very much harder for Russia to project power in the Middle East, especially from Tartus.\n",
      "If is not only that membership was denied Ukraine because of Russia's visceral reaction against associate membership in 2008, but because for all its Gaullist talk about a Europe 'from the Atlantic to the Urals' France has wanted a 'little Europe', which it is easier for it to 'lead' and Germany (along with the other 'frugals') has been anxious about the burden of transfer payments. However, such has been the bouleversement of so many of Germany's policy predicates over the last two weeks, that France may perceive the abandonment of a 'little Europe' worthwhile if the crisis can be used to get Germany to agree to a more generous financial settlement within the EU. This may be especially true if Macron wins decisively next month, as now seems likely.\n",
      "\n",
      "##QUIETSKEPTIC\n",
      "https://discussion.theguardian.com/comment-permalink/155280180\n",
      "https://profile.theguardian.com/user/id/1687824\n",
      "\n",
      "How small minded all this makes the “Brexit Brigade” look! \n",
      "For years other Europeans (for I consider myself European, whatever Brexit may have done to U.K. passport colours!) have told us that a major reason for the EU was to preserve peace through unity. Now we find ourselves obliged to cooperate in the face of what is happening. And if we think this is Putin’s last adventure - we are naive! Fragmentation suits him just fine! \n",
      "Is Ukraine perfectly governed? No. But then neither is the U.K. Look at the low key anti democratic moves of this government, the London Money Laundromat they have ignored/encouraged. \n",
      "But neither does any of that argue for why Ukraine should not be accepted swiftly into the “waiting room” for the EU, nor why the U.K. should not swiftly reverse at least some of our self imposed separation and clean up our act! \n",
      "Even some of the less admirable leaders around the place (E.g. Erdogan, Orban) have swiftly realised the danger Putin poses and come, at least partly, on side. Germany has made the most remarkable about face, finally realising intent is not enough, you have to be able to back it up with actions. \n",
      "There can never be a perfect human organisation of any kind - because humans are flawed. But a sincere attempt at collective coexistence and collective defence, against the bullies the world will always throw up, seems a sensible course. Choosing to be outside it less so!\n",
      "\n",
      "##HIGHBURY\n",
      "https://discussion.theguardian.com/comment-permalink/155278548\n",
      "https://profile.theguardian.com/user/id/2651196\n",
      "\n",
      "If president Zelenskiy is prepared to concede his country’s neutral status, as he has already hinted, if only for a specified period, then he must have something of major historical importance to show his own people that their sacrifice has not been in vain.\n",
      "\n",
      "Not knowing whether Timothy's article would be open for comment I have written to him asking for some clarification of Ukraine's status in respect of neutrality.\n",
      "\n",
      "It would be very helpful for the rest of us if you could enlarge on the Budapest Memorandum under which Ukraine gave up the nuclear weapons from the Soviet Union. Looking at Wikipedia, I see that Article 2 says \n",
      "2. The Russian Federation, the United Kingdom of Great Britain and Northern Ireland and the United States of America reaffirm their obligation to refrain from the threat or use of force against the territorial integrity or political independence of Ukraine, and that none of their weapons will ever be used against Ukraine except in self-defence or otherwise in accordance with the Charter of the United Nations.\n",
      "This isn't a clear cut declaration of neutrality, as say we understand it with Switzerland, but equally it seems to suggest that Ukraine's territory is 'inviolable'. In any event, as a by the by does it not suggest that the United Kingdom of Great Britain and Northern Ireland and the United States of America ought to be actively defending Ukraine?\n",
      "\n",
      "##QUERCUS1000\n",
      "https://discussion.theguardian.com/comment-permalink/155280435\n",
      "https://profile.theguardian.com/user/id/102853791\n",
      "\n",
      "Pentagon sets up hotline with Russia to avert Ukraine ‘miscalculation’\n",
      "It’s getting so like the old days? We used to have that to avert nuclear war. \n",
      "Feels like a mash up of the energy crisis of the 70s with the culmination of the Cold War in the 80s with a bit of Chernobyl thrown in. \n",
      "I honestly thought after the shit of the 2008 banking crooks crisis…austerity…Covid..we were turning the corner. \n",
      "But here we are 2022.. dreadfulness in the east. Failed Brexit disaster unfolding here still..ha ha did you read Minister Prentis re pork? Funny no mention of the 40000 pigs recently killed and dumped here as we have no people to process them..pig industry clearly linking it to Brexit.\n",
      "Now we have new austerity in anything but name for us little people..energy crisis..against the backdrop of climate catastrophe far earlier than it was even predicted. \n",
      "Think these wars will not intensify as climate intensifies??\n",
      "We really need to get our acts together or it will all be like the books and films I used to read and watch when I was younger..Omega Man, Soylent Green, Silent Running, Blade Runner..set in 2019.. all having elements of reality in them now. \n",
      "But back to Prentis…straight out of 1984. Ministry of Truth \n",
      "We should open our arms to all refugees.\n",
      "\n",
      "##PHILWEBSTER\n",
      "https://discussion.theguardian.com/comment-permalink/155278977\n",
      "https://profile.theguardian.com/user/id/11256036\n",
      "\n",
      "It's not a case of the truth being \"in the middle\". Putin is 100% in the wrong re Ukraine. I look forward to seeing him overthrown by the people of Russia and (at least figuratively) hanging from a lamppost. (Though NATO didn't help by expanding eastwards.)\n",
      "But that does not mean that we should forget the crimes of other imperialist powers. Russia is committing these crimes in Ukraine; China is committing crimes against the Uyghurs; and the West is currently supporting Saudi Arabia in its slaughter in Yemen (to say nothing of the hundreds of thousands of deaths caused in Iraq).\n",
      "The crimes of ALL the imperialist powers have to be condemned. There's no future in supporting one set of gangsters against another.\n",
      "Personally I support the slogan put forward during the Cold War by the Marxist Tony Cliff: \"Neither Washington nor Moscow but International Socialism.\"\n",
      "Cliff put forward the argument that the Stalinist USSR and other so-called \"communist\" states were/are actually bureaucratic state capitalist tyrannies.\n",
      "With a bureaucratic state capitalist regime in China today as the third main imperialist power on the world stage, perhaps we should amend it to \"Neither Washington nor Moscow nor Beijing but International Socialism\".\n",
      "\n",
      "##CHERRYPP\n",
      "https://discussion.theguardian.com/comment-permalink/155279695\n",
      "https://profile.theguardian.com/user/id/107011529\n",
      "\n",
      "Why is BTL still jabbering on about Johnson and Brexit when there are far, far more serious things going on right now. \n",
      "The issue of Ukraine’s relationship with the EU, and the right of Ukrainians to choose for themselves what that is, is actually very relevant to what is happening now.\n",
      "The issue of Ukraine’s Association Agreement with the EU was behind the Maidan Revolution of 2013/14.\n",
      "The Ukrainian President of the time, Yanukovych, failed to implement the promised agreement between Ukraine and EU. A peaceful protest in Maidan Square that followed was suppressed with brutality. This precipitated a rebellion which culminated in Yanukovych being replaced in a democratic election by Poroshenko, who finalised the agreement with the EU.\n",
      "The Maidan Revolution was the moment when Ukrainians in Kyiv showed they wanted to move in the direction of progressive Europe, not oppressive Russia.\n",
      "Putin’s response was to annex the Crimea and, ultimately, try to invade Ukraine to prevent any option of joining the EU or NATO and to force it to be subservient to Russia.\n",
      "So contrasting this to the democratic choice people in U.K. were given in 1975 and 2016 actually is relevant.\n",
      "\n",
      "##FIRMBUTFAIR\n",
      "https://discussion.theguardian.com/comment-permalink/155278911\n",
      "https://profile.theguardian.com/user/id/4464643\n",
      "\n",
      "Putin needs to be resisted at every level short of outright war involving NATO forces.\n",
      "Eventual EU membership of Ukraine once it has reached a certainly level of economic development, with a closer relationship with the EU in the meantime, should be part of this.\n",
      "However what also needs to be done is to make the sort of offer to Russia's people that should have been made before Putin dragged it off down the path to aggressive authoritarianism.\n",
      "The Russian's should be promised that if they (1) defenestrate Putin and (2) restore democracy including genuinely competitive elections they can be offered closer links with the EU.\n",
      "I doubt whether Russia is likely to be a candidate for full membership any time remotely soon - it is too populous and too extended beyond Europe ever really to fit in, but it needs to be brought back into the fold at some stage.\n",
      "After 1991 the west tried to push Russia down a path towards über capitalism, creating a hugely rich kleptocracy while leaving the rest of society hollowed out and paving the way for vicious opportunists like Putin.\n",
      "The Russians will need help, including access to western markets and investment to rebuild this.\n",
      "\n",
      "##JAE426\n",
      "https://discussion.theguardian.com/comment-permalink/155279074\n",
      "https://profile.theguardian.com/user/id/3763667\n",
      "\n",
      "The problem is that Ukraine can't possibly win, and even if Russia exhausts itself militarily and financially and retreats, the independent Ukraine that could be free to apply to join the EU would be a ruin of a country, thrown back into 19th-century levels of poverty and prospects. I suspect Europe (and not just EU members) will pick up the bill for rebuilding the country anyway, so perhaps it's moot whether Ukraine can meet the current conditions for EU membership anytime soon regardless.\n",
      "On the other hand, perhaps now's the time for the EU to consider a looser structure, and move on from seeing a two-tier EU as undermining of its ultimate ambitions. All of Europe, whether inside the EU or not, has been more united in the past week than at any time since the end of the Cold War. These are winds the EU could catch in its sails and build upon, with 'associate' membership for countries like Ukraine, Norway, the UK, Switzerland, and possibly the Balkans and Baltic countries too. That way when issues come up that impact every single country in Europe, EU or not, everyone's inside the tent, regardless of what's going on with other issues.\n",
      "\n",
      "##SCIENCEMATTERSMORE\n",
      "https://discussion.theguardian.com/comment-permalink/155280392\n",
      "https://profile.theguardian.com/user/id/14910558\n",
      "\n",
      "It is so typical of Guardianistas to use this tragedy as yet another excuse to bring out the tired criticisms of Brexit and the EU. Please save you perpetual regurgitation of these issues whilst Ukraine faces an existential crisis. The UK made a democratic decision to leave, even though many here believes either the vote was rigged or the electorate are idiots (neither of which is true). \n",
      "But the EU is irrelevant on this issue. It is NATO to whom we look for collective defence. EU countries have been utterly reckless and irresponsible in failing to take defence spending seriously, as if keeping their citizens safe was unimportant when in fact it should be their first responsibility. As a result Europe has to hide under the umbrella of the US, again. Only France and the UK come anywhere near to funding defence responsibly, and at 2% of GDP that is pathetic compared to how much Russia spends. If there is anything positive that comes out of this crisis, and it will be no comfort to Ukraine, then perhaps Europe might start to take defence seriously.\n",
      "\n",
      "##REDREDDINGTON\n",
      "https://discussion.theguardian.com/comment-permalink/155279340\n",
      "https://profile.theguardian.com/user/id/17893964\n",
      "\n",
      "A little history lesson for you.\n",
      "Neville Chamberlain, the British Prime Minister, was keen to avoid war. He believed this could be achieved through the use of negotiation, agreements and diplomacy. His policy was to appease Hitler, which usually meant giving in to Hitler’s territorial demands.This included Britain not ‘getting tough’ on Germany when it rearmed and invaded the Rhineland, and its invasion of Czechoslovakia.The most famous example of appeasement is Chamberlain signing the Munich agreement which resulted in Germany taking the Sudetenland from Czechoslovakia. Chamberlain hoped this would be the end of Hitler’s demands, although other politicians such as Churchill warned otherwise.I am not saying the world should go to war,but it seems the UK has not learned from history which is no surprise with who we have running this so called government of corruption through Russian interests.When a government takes money from oligarchs with well known links to Putin i would call it appeasement and treason.\n",
      "\n",
      "##BATTERIES4EVER\n",
      "https://discussion.theguardian.com/comment-permalink/155278840\n",
      "https://profile.theguardian.com/user/id/17294702\n",
      "\n",
      "In interesting difference between the EU and Russia is that we hardly shelled cities in the UK after Brexit, at least not that I can remember. Apart from the economical aspects: the whole point of the EU is to keep the continent together after centuries of wars. In that sense it is the island mentality of the UK that helped to cause Brexit, in the rest of Europe there was generally more sense of belonging together in a big world with a lot of less big countries around (China, Russia, USA to mention a few). After this brutal action, that sense has increased tenfold and although this will go down it will likely hold at a higher level than before. Even in the economical sense it is not true: investing money in poorer states is an effort, but in the end also helps the donating country. the Netherlands have always been net payers to the EU - but got manifold profits back due to increased trade. See it as a yearly subscription to a shop or service where then everything is 10% off - it is often worth the fee!\n",
      "\n",
      "##CASHDASH\n",
      "https://discussion.theguardian.com/comment-permalink/155279825\n",
      "https://profile.theguardian.com/user/id/1853199\n",
      "\n",
      "Most EU citizens would support Ukraine being a candidate for membership. The UK is irrelevant in this discussion.European politician politicians who say (thank you \"Don't look Up\"): \n",
      "\n",
      "I say we sit tight and assess.\n",
      "\n",
      "should be locked up for their own protection. \n",
      "But so should politicians who are now so enthusiastic about destroying the Russian Economy: yes, Ursula von der Leyen, I'm talking about you! \n",
      "Let's try to destroy as little as possible. Putin needs to go or at least leave Ukraine, but destroying the Russian economy isn't necessarily going to bring that about: it's just going to repeat the suffering of both the Russian and Ukrainian people. \n",
      "Give the Ukrainians the means to defeat Russia. But at the same time squeeze the known and limited number of Russian accomplices to Putin's war: essentially the bureaucrats, the Nomenclatur, and squeeze them till they squeak. \n",
      "But don't destroy the lives of millions of Russians: they are needed to form a future democracy.\n",
      "\n",
      "##BLUTGRAETSCHE\n",
      "https://discussion.theguardian.com/comment-permalink/155278736\n",
      "https://profile.theguardian.com/user/id/14817834\n",
      "\n",
      "Of course Ukraine deserves it and it will eventually join the EU. But make no mistake, Ukraine will need a lot of help, not just financial help, to fulfill basic criteria of convergence. \n",
      "As impressive and humbling the bravery of the Ukrainian people is, not to mention their inspiring leader, it's also true that Ukraine is a country that is suffering from severe corruption and kleptocratic structures not that much different to Putin's Russia.\n",
      "The perspective of EU membership is real, but a bit of realism wouldn't hurt either, even in this dire hour. Ukraine will join the EU, but it will be a long process in which it can and should be able to rely on the full support of the EU. \n",
      "Freedom and democracy are important values, but you need to have the democratic structures to preserve them. The EU has to make sure that future Ukrainian governments can't just switch back to autocratic instincts like the ones in Poland and Hungary did, for example.\n",
      "\n",
      "##KOMRADEKRAPPER\n",
      "https://discussion.theguardian.com/comment-permalink/155278962\n",
      "https://profile.theguardian.com/user/id/107158046\n",
      "\n",
      "Just a side note. I voted Brexit. Were I now to be given a second vote, I would vote to rejoin. \n",
      "I doubt they would have us now, but should the opportunity arise I would take it.\n",
      "But this time, instead of voting to leave to desaturate the unskilled and low skilled labour market, and to reduce pressure on housing, I would be voting to join a United States of Europe.\n",
      "Because, when the founding fathers examined the wreckage from World War 2 and decided to take that journey together, a United States of Europe was where they wanted it to end.\n",
      "The EU's timidity in admitting to that ambition was what weakened its appeal for recalcitrants such as myself. But that was then and this is now, as we wake up to the reality of a monstrous aggressor on our borders who would demolish everything we stand for if he could.\n",
      "He will hate it. He will threaten us. But he cannot stop us. If we decide to go for it, if we are ever allowed the chance.\n",
      "\n",
      "##TULLYBASCOMBE\n",
      "https://discussion.theguardian.com/comment-permalink/155280426\n",
      "https://profile.theguardian.com/user/id/3321165\n",
      "\n",
      "So NATO bombing Libya on Obama's orders was fine, Bush and Blair lying about Iraq having WMD so they could bomb the shit out of it was fine, invading Afghanistan (and occupying it for 20 years) because the US wanted revenge for 9/11 but didn't want to upset it's buddy Saudi Arabia was fine because they were all done and supported by democracies? Doesn't take much to justify the West's actions, apparently. \n",
      "If there is to be any sort of international justice, it should apply to everyone, not just the countries that the US and it's assorted allies don't like. For example, the ICC has been urged to start war crimes investigations against Putin and Russia but the USA isn't even a signatory (maybe Russia isn't either) and neither is Israel - what happened the last time an ICC judge said they would instigate an investigation into US actions? Sanctions against the judge ring any bells?\n",
      "\n",
      "##DISPASSIONATEFAN\n",
      "https://discussion.theguardian.com/comment-permalink/155280307\n",
      "https://profile.theguardian.com/user/id/10087487\n",
      "\n",
      "Behind the scenes, the EU should be encouraging Ukraine to surrender to save lives. Yes, Ukranians have fought bravely and strengthened their national spirit but ultimately they will lose against mad Putin's army. The choice is between cutting the loss of lives to the current level or facing the prospect of tens of thousands more dying. The EU and the West generally should be working behind the scenes with Ukraine and Russia to bring about a ceasefire to save lives, both Ukrainian and Russian. The West should then strengthen their economic sanctions ever tighter to squeeze the oligarchs and Putin's cronies. Yes, ordinary Russians will suffer too but in 5-10 years, Putin's regime will fail as did the USSR, perhaps even sooner. That is the only way to defeat Putin and restore the sovereignty of Ukraine without further blood shed and risking WW3, possibly a nuclear one.\n",
      "\n",
      "##TIMPAN33\n",
      "https://discussion.theguardian.com/comment-permalink/155279569\n",
      "https://profile.theguardian.com/user/id/4458206\n",
      "\n",
      "One thing is what is just at this moment. Maybe the EU should say: Despite all your deep flaws, this is a situation where we have to say: Join us if you wish. Which they wish. \n",
      "Though half the country would probably leave for EU, even if there was no war.\n",
      "But maybe, that maybe is rather large, this can be considered yet another grave security breach by Russia and warrant an even harder stance towards Ukraine when the war is over and Russia is the winner. There are almost no more sanctions to be used againt Russia and Russia will be the total winner. \n",
      "So maybe, rationally, it would be better to let Russia participate in a peace treaty, if one can call it that as Russia is the sole aggressor, to achieve the best possible situation for Ukraine afterwards. This idea that Ukraine would join Nato after this is absurdly stupid. \n",
      "That Finland is considering it is just weird.\n",
      "\n",
      "##KOMRADEKRAPPER\n",
      "https://discussion.theguardian.com/comment-permalink/155279425\n",
      "https://profile.theguardian.com/user/id/107158046\n",
      "\n",
      "Oh, for pity's sake. Tony Benn was articulating sound reasons for not being in the then then Common Market as long ago as 1973...because he had spent time in the Council of Ministers and knew what is was like from the inside. He knew what the effects of membership would mean for the people whose party his was, or was back then.\n",
      "Did you know that the reason there were no referenda about joining the Euro was because those whose vision it was knew that it would never get approval. So, knowing it would Neve be approved, they did it anyway, without a vote.\n",
      "That is one side of the Eu, which some people understood perfectly well. \n",
      "However..\n",
      "It should always have been about a United States of Europe. That should always have been held aloft as the grand ambition and there should have been total honesty about what would have to be given up to achieve it.\n",
      "\n",
      "##COPENHAGENCALLER\n",
      "https://discussion.theguardian.com/comment-permalink/155278713\n",
      "https://profile.theguardian.com/user/id/15076872\n",
      "\n",
      "Granting Ukraine status as an applicant for membership of the EU will be largely symbolic at this point, because it will indeed take years, before Ukraine can actually become a proper member of the EU. However, symbols and symbolic gestures matter, and I see no point in denying the people of Ukraine the prospect of one day joining the European Union. Will it be difficult and expensive for all parties involved? Yes, of course, but it will be worth it in the end for all, once a free, independent, and democratic Ukraine joins the rest of Europe. It's something for all Europeans, including all Ukrainians, to strive towards, and I think that the solidarity shown by the EU with Ukraine right now proves us willing to do just that.Maybe the not-quite-so-United-Kingdom could learn a thing or two from that, but I must be in La-La-Land now.\n",
      "\n",
      "##FRISIAN\n",
      "https://discussion.theguardian.com/comment-permalink/155278801\n",
      "https://profile.theguardian.com/user/id/3613431\n",
      "\n",
      "Article 42 (7) TEU:\"If a Member State is the victim of armed aggression on its territory, the other Member States shall have towards it an obligation of aid and assistance by all the means in their power, in accordance with Article 51 of the United Nations Charter. This shall not prejudice the specific character of the security and defence policy of certain Member States.\"Letting the Ukraine right now requires an accession treaty with lots of exemptions, so it would be symbolic at best.Besides, the last expansion at British behest caused a lot of troubles, that haven't completely resolved yet, so further expansion isn't on the table.Given Timothy Garton Ash is a British historian his opinion will suffer the same fate as all the opinions of his countrymen: The EU won't give a flying flamingo about them. Brexit means Brexit, out means out.\n"
     ]
    }
   ],
   "source": [
    "all_comments.sort(key=lambda x : -len(x) )\n",
    "print( '\\n\\n'.join(all_comments[:20]) )"
   ]
  },
  {
   "cell_type": "code",
   "execution_count": 17,
   "metadata": {},
   "outputs": [
    {
     "name": "stdout",
     "output_type": "stream",
     "text": [
      "[master dd7587e] web\n",
      " 2 files changed, 193 insertions(+), 261 deletions(-)\n",
      " create mode 100644 kfgzx.pkl\n",
      "Counting objects: 4, done.\n",
      "Delta compression using up to 12 threads.\n",
      "Compressing objects: 100% (4/4), done.\n",
      "Writing objects: 100% (4/4), 427.02 KiB | 2.11 MiB/s, done.\n",
      "Total 4 (delta 2), reused 0 (delta 0)\n",
      "remote: Resolving deltas: 100% (2/2), completed with 2 local objects.\u001b[K\n",
      "To https://github.com/macbuse/GUARDIAN.git\n",
      "   72292db..dd7587e  master -> master\n"
     ]
    }
   ],
   "source": [
    "! ./.g"
   ]
  },
  {
   "cell_type": "code",
   "execution_count": 18,
   "metadata": {},
   "outputs": [
    {
     "name": "stderr",
     "output_type": "stream",
     "text": [
      "[nltk_data] Downloading package vader_lexicon to\n",
      "[nltk_data]     /home/gregmcshane/nltk_data...\n",
      "[nltk_data]   Package vader_lexicon is already up-to-date!\n"
     ]
    }
   ],
   "source": [
    "#https://towardsdatascience.com/sentimental-analysis-using-vader-a3415fef7664\n",
    "\n",
    "import nltk\n",
    "#nltk.download('vader_lexicon')\n",
    "\n",
    "from nltk.sentiment.vader import SentimentIntensityAnalyzer\n",
    "\n",
    "sid = SentimentIntensityAnalyzer()"
   ]
  },
  {
   "cell_type": "code",
   "execution_count": 22,
   "metadata": {},
   "outputs": [],
   "source": [
    "a = '''My views haven't changed. Leaving the EU will be of no benefit to anyone except those who hold money and power along with certain corporates and a smidgen of medium to small businesses.\n",
    "How else can it be when you are shutting shop to the most developed nations, the richest nations in the world, who are either in the EU or have market agreements with the EU. Even the emerging markets of China and India along with other developing economies are aspiring to develop trading agreements with the EU, the second largest economy in the world. Any deal with the UK will be secondary and will depend upon their agreement with the EU.\n",
    "Boris Johnson once said \"f**k business\". I take this as meaning there is something in it for them and they don't really care if businesses find it difficulA\n",
    "t to cope.\n",
    "I can see ministers and conservative MPs queuing to fill their pockets by acting as advisors for potential trade deals whilst the rest of the country are left struggling trying to rebuild their lives, especially following the pandemic. The same ministers will probably be looking to lower all kinds of standards from food and welfare to safety at work to improve their opportunities.\n",
    "When it comes to brinkmanship, I can only view this as getting away with whatever they can. I do not believe it is anything to do with negotiating an agreement that will be to the benefit of the UK or the EU as a whole, I don't believe our ministers are capable of doing that.'''"
   ]
  },
  {
   "cell_type": "code",
   "execution_count": 24,
   "metadata": {},
   "outputs": [
    {
     "ename": "TypeError",
     "evalue": "sentiment_valence() missing 4 required positional arguments: 'sentitext', 'item', 'i', and 'sentiments'",
     "output_type": "error",
     "traceback": [
      "\u001b[0;31m------------------------------------------------------------\u001b[0m",
      "\u001b[0;31mTypeError\u001b[0m                  Traceback (most recent call last)",
      "\u001b[0;32m<ipython-input-24-6f3326dcf5de>\u001b[0m in \u001b[0;36m<module>\u001b[0;34m\u001b[0m\n\u001b[1;32m      1\u001b[0m \u001b[0msid\u001b[0m\u001b[0;34m.\u001b[0m\u001b[0mpolarity_scores\u001b[0m\u001b[0;34m(\u001b[0m\u001b[0ma\u001b[0m\u001b[0;34m)\u001b[0m\u001b[0;34m\u001b[0m\u001b[0m\n\u001b[0;32m----> 2\u001b[0;31m \u001b[0msid\u001b[0m\u001b[0;34m.\u001b[0m\u001b[0msentiment_valence\u001b[0m\u001b[0;34m(\u001b[0m\u001b[0ma\u001b[0m\u001b[0;34m)\u001b[0m\u001b[0;34m\u001b[0m\u001b[0m\n\u001b[0m",
      "\u001b[0;31mTypeError\u001b[0m: sentiment_valence() missing 4 required positional arguments: 'sentitext', 'item', 'i', and 'sentiments'"
     ]
    }
   ],
   "source": [
    "sid.polarity_scores(a)\n",
    "sid.sentiment_valence(a)"
   ]
  },
  {
   "cell_type": "code",
   "execution_count": 19,
   "metadata": {},
   "outputs": [
    {
     "name": "stdout",
     "output_type": "stream",
     "text": [
      "##LOUISRIEL\n",
      "https://discussion.theguardian.com/comment-permalink/154612565\n",
      "https://profile.theguardian.com/user/id/100809061\n",
      "\n",
      "Likely, most of what you think you know about Malone is based on reading or hearing various know-nothings repeating Malone's own self-promotion.3 decades ago, under someone else's direction, Malone did a couple of experiments whose results suggested it was possible to get controlled transient expression of foreign proteins in mammalian cells, by temporarily stabilizing the mRNA and transfecting it into the cells ( https://pubmed.ncbi.nlm.nih.gov/2762315/ ). After publishing that result, he appeared as a middle author on a handful of papers that attempted to further the transfection technology he had worked with.While he has since had a successful career in biotech -- including vaccine technology -- and he seems to have contributed to the development of, for example, some DNA transfection technologies, AFAICT he hasn't in the last 25 years published much about mRNA that is noteworthy. He may indeed be an expert in mRNA vaccine technology, but if so it isn't -- again, AFACIT -- because he's ever successfully developed one, either in a human or in a lab animal.Most significantly, he categorically is not \"the inventor\" of mRNA vaccines, a title he has given to himself and then promulgated through gullible media types like Rogan. As a graduate student working under supervision, he made an early, significant contribution -- mainly a proof of concept. It took another 25 years before the work of hundreds of other scientists brought that concept to fruition, with a technology that is not, as it happens, directly based on the technique Malone published, which had long before been abandoned ( https://www.ncbi.nlm.nih.gov/pmc/articles/PMC3597572/ ).He comes across as an embittered egomaniac, of a sort that almost all who work in **SCIENCE** have encountered (see: Didier Raoult): They make hyperbolic and grandiose claims about the significance of their own ideas and work, dismiss and undermine the ideas and work of others, and end up in conflict (often, over credit) with people who try to work with them.Thus, the problem with bringing Malone on as an expert is that we cannot separate his interest in sharing his viewpoint from his interest in tearing down the people whose success is eating away at his liver. They're getting paid, and he isn't. They're getting interviewed on CNN and in the NYT and he isn't. He's the genius, and they're the pedestrian drones, but they're all fabulously wealthy and courting the Swedish Committee. The injustice of it all!\n",
      "\n",
      "##SHORTORDERCOOK\n",
      "https://discussion.theguardian.com/comment-permalink/154611480\n",
      "https://profile.theguardian.com/user/id/12611808\n",
      "\n",
      "With views you disagree with, including conspiracy theories, it's always best to give them the oxygen of publicity, where better to have them exposed and debunked.\n",
      "\n",
      "The trouble is that this has repeatedly been shown to be incorrect. People have many reasons for accepting a fact as true or not, it actually being true is not always one of those reasons. The most obvious example of this is that literally no one thinks that a way to reduce racism in society would be to have more racists given time on news programs to explain why they are racist.\n",
      "In the same way, allowing debate between people were right on climate change and people who were wrong did not stop people believing those demonstrably wrong things about climate change, it simply exposed more people to them. It set action on climate change back thirty years. \n",
      "What has actually turned the tide on public opinion on climate change has been denying people spreading misinformation on climate change a platform. News programs have been lobbied not to get on prominent climate **SCIENCE** deniers, scientists have refused to appear on programs with them, newspapers have refused to print them and websites delete comments which feature climate **SCIENCE** denial. In this way debate is allowed to focus on the actual issues around climate change, rather than constantly being around whether misinformation is misinformation or not.\n",
      "Incidentally, if you think that only \"the left\" shuts down debate, then why is it that mainstream media never discusses prominent left-wing ideas like nationalisation, except to shut it down by saying how unrealistic it is? Writing off left-wing ideas as \"fringe\", \"radical\" or \"extreme\" has been a tactic of the right for decades.\n",
      "\n",
      "##TEREUS\n",
      "https://discussion.theguardian.com/comment-permalink/154612096\n",
      "https://profile.theguardian.com/user/id/2941933\n",
      "\n",
      "I'm not an anti-vaxxer and there's no doubt Malone is a bit of a crank these days. But that is a totally unfair characterisation of him. I thought this article was pretty fair: https://www.theatlantic.com/**SCIENCE**/archive/2021/08/robert-malone-vaccine-inventor-vaccine-skeptic/619734/\n",
      "\n",
      "The abridged version is that when Malone was a graduate student in biology in the late 1980s at the Salk Institute for Biological Studies, he injected genetic material—DNA and RNA—into the cells of mice in hopes of creating a new kind of vaccine. He was the first author on a 1989 paper demonstrating how RNA could be delivered into cells using lipids, which are basically tiny globules of fat, and a co-author on a 1990 **SCIENCE** paper showing that if you inject pure RNA or DNA into mouse muscle cells, it can lead to the transcription of new proteins. If the same approach worked for human cells, the latter paper said in its conclusion, this technology “may provide alternative approaches to vaccine development.” \n",
      "These two studies do indeed represent seminal work in the field of gene transfer, according to Rein Verbeke, a postdoctoral fellow at Ghent University, in Belgium, and the lead author of a 2019 history of mRNA-vaccine development. (Indeed, Malone’s studies are the first two references in Verbeke’s paper, out of 224 in total.) Verbeke told me he believes that Malone and his co-authors “sparked for the first time the hope that mRNA could have potential as a new drug class,” though he also notes that “the achievement of the mRNA vaccines of today is the accomplishment of a lot of collaborative efforts.”\n",
      "\n",
      "##MEREMORTAL\n",
      "https://discussion.theguardian.com/comment-permalink/154610530\n",
      "https://profile.theguardian.com/user/id/2679561\n",
      "\n",
      "i'm not up on this particular controversy, but I think Joe Rogan who I've watched a few times has struck me as a really brilliant interviwer. He may not be right about everything, he may have a guest that some people despise, but he strikes me as intellectually honest and open to being mistaken. I think he got to where he got to because he was willing to chat to all sorts of people, he's certainly no shock jock and he's not some total jerk like Howard Stern or Rush Limbaugh or Hannity or any of those other cretins. I don't think he deserves such a massive pile-on, because in a time of pandemic you want people willing to ask questions, for example everyone tried to say in the first year of the pandemic that saying that Covid was a lab leak was tantamount to being a total loony, but we heard this year that Jeremy Farrar (director of the Wellcome Trust and a scientist) thought in private emails that the virus being a lab leak was 70/30 to it being from the wet market. But a few weeks later he signed a letter to the Lancet saying that anyone who doubted the market story was a conspiracy theorist. In the initial email he was worried about the lab leak theory because it 'might harm **SCIENCE**'. So there are questions to be answered. I'm triple jabbed so i'm absolutely not anti-vax in any way but I don't agree with this pile-on on Joe Rogan who strikes me as a pretty impressive person. Neil Young is free to do what he likes it doesn't mean he's understood every nuance of this particular issue as well any more than Rogan.\n",
      "\n",
      "##TEREUS\n",
      "https://discussion.theguardian.com/comment-permalink/154611941\n",
      "https://profile.theguardian.com/user/id/2941933\n",
      "\n",
      "But the problem is no-one has unfettered access to the truth. We are all making best guesses based on partial data. I agree that we can make judgements about likelihoods, and in some cases be highly confident that a particular statement is true (say human activity is warming the planet or whatever). But you hardly need to be a historian to know history is absolutely littered with people, whole societies, who all believed a certain thing, who would have considered that thing a stone cold fact, and yet we know (as far as we can) that they were wrong. I bloody love **SCIENCE**. I am a trained physicist. I love Bayes. I despair of the conspiratorial mode of much thinking these days. But I am very skeptical that the way to fight it is by deplatforming speech. I know Rogan does not have a 'right' to that platform. But still, I think any attack on the pipes of information, rather than the information itself, will likely backfire.I reckon the only way to fight is to educate - not just formally, but informally, in every conversation, tweet, CiF comment: try to show you have weighed up an argument, that you have not just ad hominemed it or straw-manned it, try to understand why someone might think something different from you without impugning their integrity, try to employ a scout mindset, and all that done, lay out as clearly as you can why you believe whatever you believe. \n",
      "Jordan Peterson is a total arse though.\n",
      "\n",
      "##SHORTORDERCOOK\n",
      "https://discussion.theguardian.com/comment-permalink/154612601\n",
      "https://profile.theguardian.com/user/id/12611808\n",
      "\n",
      "But you hardly need to be a historian to know history is absolutely littered with people, whole societies, who all believed a certain thing, who would have considered that thing a stone cold fact, and yet we know (as far as we can) that they were wrong.\n",
      "\n",
      "That may have been the case then but it's not the case now. With modern **SCIENCE** the chances of the whole of society believing something that is wrong in an important way is tiny. Moreover the problem with those beliefs is not the holding of them in itself, it is the fact that major damage was caused to those societies by actions taken based on those beliefs being true. On matters of fact, there is nothing that we could plausibly be wrong about enough to cause major damage to society. \n",
      "This practical argument for free speech, that it allows society to work through ideas and that preventing it prevents potentially dangerous erroneous beliefs being cast aside also has to be weighed against deliberately malicious actors causing damage by spreading misinformation, as we saw over the last thirty years with the climate change debate. Freely allowing climate **SCIENCE** deniers access to media platforms did nothing to advance public knowledge and debate. Lobbying the BBC and other media organisations to stop giving bogus think tanks air time was what worked.\n",
      "\n",
      "##BORTHOLOMEW\n",
      "https://discussion.theguardian.com/comment-permalink/154612449\n",
      "https://profile.theguardian.com/user/id/103305589\n",
      "\n",
      "Stop building a ridiculous straw man. Climate change is physics. 100 percent exact **SCIENCE** every time from here to the end of time. Stupid, ARROGANT people argue against exact **SCIENCE** like physics without studying the topic. They arrogantly argue against thousands and thousands of scientists who have studied physics and the exact topic for years and have done work amongst the topic even for decades! But arrogant people think they know better than these people. They don't. They know less. You actually have to study the topic for years until you know about the topic. Spewing pseudoscientific bullshit is not enough even though it might be even logical. You still need to learn the MEASURED and established causative facts. You know, how it goes in real life. And nothing is more real than physics.\n",
      "Almost as stupid and arrogant people argue against established, empirical, MEASUREABLE facts with unmeasureable hypothetical, cherrypicking bullshit which gets people killed like in the case of vaccinations. You have bullshit on your side, I and other people against the bullshitters spewing bullshit have MEASUREABLE objective facts. Protip: you can look them up even yourself! Just look at the numbers. The end.\n",
      "\n",
      "##EPIVORE\n",
      "https://discussion.theguardian.com/comment-permalink/154612998\n",
      "https://profile.theguardian.com/user/id/13748050\n",
      "\n",
      "Go look at the procession of loonbags he's had on since his views on Covid swung over to the alt-right conspiracy side in mid-2020. Then find the very few episodes since then with (even those with his more normal guests) where he doesn't go on a lengthy rant about masks or vaccines or ivermectin while his guests sit there either cowed into nodding their agreement because they know he'll have a go at them if they disagree or embarrassedly trying to segue into another subject. Practically every single episode has turned into a Covid rant about supposed personal freedoms in which he's on the wrong (and he's, he's wrong) side of both the **SCIENCE** and public health policy - he makes the classic libertarian error of thinking that freedom equates to a right to be utterly and completely selfish. This is why his guest list is starting to look decidedly B-grade compared to what it was before all this nonsense started. It's also why I (and anyone I know) can't listen to him anymore.\n",
      "\n",
      "##HIDEAL\n",
      "https://discussion.theguardian.com/comment-permalink/154611451\n",
      "https://profile.theguardian.com/user/id/106584156\n",
      "\n",
      "Hysterical nonsense. You can disagree with him all you want, but he is one of an increasingly rare sources of information that provides long form discussion on a variety of topics that are routinely censored (on one side) and deliberately misrepresented in the media day in and day out.\n",
      "Rogan himself is not an expert on many of the subjects and says so repeatedly himself countless times. His guests have a variety of backgrounds and some, such as Dr Robert Malone and Peter McCullough, have been vilified by the media and people who haven’t watched/heard a word of anything they have to say, despite them having substantial documented backgrounds in medical **SCIENCE**/virology.\n",
      "The constant demand for censorship when people disagree and have emotional reactions to complex issues is the problem here, and Spotify was right in letting Neil leave to “keep on rocking in his free world”.\n",
      "\n",
      "##JAMIECHOOCHOOS\n",
      "https://discussion.theguardian.com/comment-permalink/154608952\n",
      "https://profile.theguardian.com/user/id/101905259\n",
      "\n",
      "So it's all ratings and viewing figures with you? The more people see it, the more worthwhile it is? \n",
      "To me this is more an example of \"eat shit, a million flies can't be wrong\".\n",
      "\n",
      "The problem is we are dealing with whether a company should allow something or not on its platform. So it's not about whether a million flies can be wrong, but about whether a million flies are allowed to express an opinion that might be wrong.\n",
      "It is about as definitely wrong as you can be to say 2+2=10, but no one argues that directly factually incorrect statement should be removed from the airways. You could say it's not as impactful as misinformation over vaccines and viruses, but given **SCIENCE** famously has evidence but no proofs, it seems incongruous to tell people that something is settled and they need to shut up so they can just say \"ha! told you so!\"\n",
      "\n",
      "##MINDBOGGLE\n",
      "https://discussion.theguardian.com/comment-permalink/154608427\n",
      "https://profile.theguardian.com/user/id/2237043\n",
      "\n",
      "Maybe this is a free speech issue. If you listen to the podcast between Joe Rogan and Robert Malone (a medical doctor and one of the inventors of the mRNA technology behind the covid vaccines), you hear two deeply intelligent people with open minds trying to find a way towards a world where we all have better health, in the broadest, largest sense. Many on here may disagree with their ideas about the best way to get there, but I think our society is a better place for having open discussion, where everyone at least tries to listen to other people's points of views respectfully, even if they disagree with it. In that way, the best **SCIENCE** will float to the top. Open discussion and free exchange of ideas is at the heart of the best scientific developments and medicine.\n",
      "\n",
      "##CANADAJAMES\n",
      "https://discussion.theguardian.com/comment-permalink/154612413\n",
      "https://profile.theguardian.com/user/id/16537110\n",
      "\n",
      "Rogan, and Spotify, are monetizing stupidity. There is an insatiable appetite in America, and elsewhere, for anything and anyone taking on anything to do with what has been characterized as the “liberal elites”, the “woke”. **SCIENCE**, education, and even empathy are seen as part and parcel of the left of center march to the tar pits. Whatever Rogan’s own views are, he, and Spotify have to make money out of ignorance. Nothing particularly new about that. Capitalism’s primary tenet is that there is the only morality attached to money is how much of it, not how, it is made. Good for Mr. Young for refusing to support that.\n",
      "\n",
      "##HUG_A_FOODIE\n",
      "https://discussion.theguardian.com/comment-permalink/154610109\n",
      "https://profile.theguardian.com/user/id/105404981\n",
      "\n",
      "I mean in terms of the 'big picture stuff' he asks questions about during his interviews (**SCIENCE**, metaphysics, psychedelics, why are we here, etc, etc).\n",
      "In that, he's just as much an idiot as the rest of us. \n",
      "And by the way - accumulation of wealth does not necessarily correlate with intelligence. I don't see him as any more intelligent than an average human being, personally. He has a great broadcasting personality and that's what endears him to people. It's what has made him such a success.\n",
      "\n",
      "##UNDERTHINKER\n",
      "https://discussion.theguardian.com/comment-permalink/154612899\n",
      "https://profile.theguardian.com/user/id/101944209\n",
      "\n",
      "I think that's pretty disingenuous. Having a variety of perspectives available online doesn't force everyone to come up with their own opinion on every matter though does it? It just enables someone to if they want to. \n",
      "I'm happy to go with the mainstream **SCIENCE** view on covid or climate or the earth being round, but I firmly believe people who want to should be able to investigate on their own, whereupon they may agree or disagree with the prevailing wisdom.\n",
      "\n",
      "##SHORTORDERCOOK\n",
      "https://discussion.theguardian.com/comment-permalink/154608847\n",
      "https://profile.theguardian.com/user/id/12611808\n",
      "\n",
      "Better **SCIENCE** doesn't float to the top in podcasts and other similar media. Thirty years of climate misinformation have shown us that. Most people are not qualified to judge whether something is true or not, and it's laughably easy for malicious actors to spread misinformation to people for whom it is convenient to believe in. The only solution is to ruthlessly hammer down on misinformation and the people perpetrating it.\n",
      "\n",
      "##THELETTERO\n",
      "https://discussion.theguardian.com/comment-permalink/154609789\n",
      "https://profile.theguardian.com/user/id/2417241\n",
      "\n",
      "So, Rogan's past guests include...\n",
      "Robert Malone and his Covid vaccine misinfoJordan Peterson questioning the **SCIENCE** behind climate change modelsAndy Ngo being allowed to give his side of his run in with Antifa (whilst failing to mention his close ties with the Proud Boys)Alex Jones talking assorted right-wing conspiracy bullshit\n",
      "Anyone see a pattern here? Yeah, me too. Think I'll pass and stick with Shakey.\n",
      "\n",
      "##NASHER02\n",
      "https://discussion.theguardian.com/comment-permalink/154608932\n",
      "https://profile.theguardian.com/user/id/4540336\n",
      "\n",
      "Exactly. If this pandemic has taught us anything it is that we need to be able to hear unorthodox views. **SCIENCE** only advances as unorthodoxy is expressed, discussed, tested and then becomes the orthodoxy. The price we pay for that is having to have questionable people like Malone airing their views. But the alternative is much much worse. Staggering to me that a liberal paper would not see that.\n",
      "\n",
      "##SHORTORDERCOOK\n",
      "https://discussion.theguardian.com/comment-permalink/154610826\n",
      "https://profile.theguardian.com/user/id/12611808\n",
      "\n",
      "When you get into **SCIENCE**, there's no middle ground between being correct and being incorrect. If one \"side\" is saying something that's incorrect, as has been the case with climate **SCIENCE** for the last thirty years, the answer isn't to get someone who's wrong to debate with someone who's right, it's to try and make sure the person who's wrong doesn't get to spread their wrongness.\n",
      "\n",
      "##TJHOOKER71\n",
      "https://discussion.theguardian.com/comment-permalink/154609449\n",
      "https://profile.theguardian.com/user/id/106395726\n",
      "\n",
      "Any broadcaster that publishes to many millions of people garbage like Peterson's 'views' on climate **SCIENCE** and covid disinformation without immediately balancing the nonsense with sane, expert opinion is a public liability. Unfortunately this stuff appears to be lucrative enough for corporations like Spotify to keep their moral compass (if they have one) firmly unchecked.\n",
      "\n",
      "##SHORTORDERCOOK\n",
      "https://discussion.theguardian.com/comment-permalink/154609741\n",
      "https://profile.theguardian.com/user/id/12611808\n",
      "\n",
      "No, there is such a thing as being correct or incorrect, it's not my opinion, it's an objective fact that what Peterson was saying on Rogan's podcast about climate **SCIENCE** was incorrect, moreover the things he was saying have been repeatedly proven to be incorrect over the last thirty years every time they have been regurgitated by climate **SCIENCE** deniers.\n",
      "\n",
      "##BLEAK_T_W\n",
      "https://discussion.theguardian.com/comment-permalink/154608365\n",
      "https://profile.theguardian.com/user/id/104384402\n",
      "\n",
      "asks them intelligent questions,\n",
      "In regards to certain topics, this may be true; in regards to **SCIENCE**, medicine, technology, he is very enthusiastic, and laughably, jaw-droppingly, ignorant and ill-informed, and seemingly completely unable to differentiate between nonsense and fact.\n",
      "\n",
      "##ELEPHANTOFTRUTH\n",
      "https://discussion.theguardian.com/comment-permalink/154610361\n",
      "https://profile.theguardian.com/user/id/4154310\n",
      "\n",
      "Dr Robert Malone is not an expert he is an accomplished self-publicist who has made far more impact on social media than he has on the world of published peer-reviewed **SCIENCE**.\n"
     ]
    }
   ],
   "source": [
    "target = 'decolon'\n",
    "target = 'science'\n",
    "target = 'irish'\n",
    "target = 'mandela'\n",
    "target = 'abolit'\n",
    "target = 'science'\n",
    "\n",
    "\n",
    "xx = [x for x in all_comments if target.lower() in x.lower() and  len(x) > 20]\n",
    "yy = [x for x in all_comments if '#pin' in x.lower() and 2000 > len(x) > 20]\n",
    "\n",
    "#print('\\n\\n'.join( ['\\n\\n'.join(x) for x in zip(xx,yy)])  )\n",
    "\n",
    "#print( '\\n\\n'.join(xx).replace(target, ) )\n",
    "pxx = re.compile(target, re.I)\n",
    "print( pxx.sub('**' + target.upper() + '**', \n",
    "              '\\n\\n'.join(xx)) )\n",
    "               \n",
    "#print( '\\n\\n'.join(xx) )\n"
   ]
  },
  {
   "cell_type": "code",
   "execution_count": 20,
   "metadata": {},
   "outputs": [
    {
     "data": {
      "text/plain": [
       "0.7820401046207497"
      ]
     },
     "execution_count": 20,
     "metadata": {},
     "output_type": "execute_result"
    }
   ],
   "source": [
    "(26/31) / (74/69)"
   ]
  },
  {
   "cell_type": "code",
   "execution_count": 64,
   "metadata": {},
   "outputs": [
    {
     "data": {
      "text/plain": [
       "529"
      ]
     },
     "execution_count": 64,
     "metadata": {},
     "output_type": "execute_result"
    }
   ],
   "source": [
    "23**2"
   ]
  },
  {
   "cell_type": "markdown",
   "metadata": {},
   "source": [
    "## "
   ]
  },
  {
   "cell_type": "code",
   "execution_count": 21,
   "metadata": {},
   "outputs": [
    {
     "data": {
      "text/plain": [
       "211"
      ]
     },
     "execution_count": 21,
     "metadata": {},
     "output_type": "execute_result"
    }
   ],
   "source": [
    "84 + 127"
   ]
  },
  {
   "cell_type": "code",
   "execution_count": 24,
   "metadata": {},
   "outputs": [
    {
     "data": {
      "text/plain": [
       "1.2842073077511085"
      ]
     },
     "execution_count": 24,
     "metadata": {},
     "output_type": "execute_result"
    }
   ],
   "source": [
    "84/211/.31"
   ]
  },
  {
   "cell_type": "code",
   "execution_count": 25,
   "metadata": {},
   "outputs": [
    {
     "data": {
      "text/plain": [
       "0.8723126588364586"
      ]
     },
     "execution_count": 25,
     "metadata": {},
     "output_type": "execute_result"
    }
   ],
   "source": [
    "127/211/.69"
   ]
  },
  {
   "cell_type": "code",
   "execution_count": 26,
   "metadata": {},
   "outputs": [
    {
     "data": {
      "text/plain": [
       "1.471264367816092"
      ]
     },
     "execution_count": 26,
     "metadata": {},
     "output_type": "execute_result"
    }
   ],
   "source": [
    "1.28/.87"
   ]
  },
  {
   "cell_type": "code",
   "execution_count": null,
   "metadata": {},
   "outputs": [],
   "source": []
  }
 ],
 "metadata": {
  "kernelspec": {
   "display_name": "NLP",
   "language": "python",
   "name": "nlp"
  },
  "language_info": {
   "codemirror_mode": {
    "name": "ipython",
    "version": 3
   },
   "file_extension": ".py",
   "mimetype": "text/x-python",
   "name": "python",
   "nbconvert_exporter": "python",
   "pygments_lexer": "ipython3",
   "version": "3.8.5"
  },
  "widgets": {
   "application/vnd.jupyter.widget-state+json": {
    "state": {},
    "version_major": 2,
    "version_minor": 0
   }
  }
 },
 "nbformat": 4,
 "nbformat_minor": 4
}
