{
 "cells": [
  {
   "cell_type": "markdown",
   "metadata": {},
   "source": [
    "# Basic scraping for Guardian discussions u"
   ]
  },
  {
   "cell_type": "code",
   "execution_count": 1,
   "metadata": {},
   "outputs": [
    {
     "name": "stdout",
     "output_type": "stream",
     "text": [
      " arvive_scraper.ipynb  'guardian comments scraper.ipynb'\n"
     ]
    }
   ],
   "source": [
    "! ls *scraper.ipynb"
   ]
  },
  {
   "cell_type": "code",
   "execution_count": 30,
   "metadata": {},
   "outputs": [],
   "source": [
    "with open('guardian comments scraper.ipynb','r') as fp:\n",
    "    nb = fp.read()"
   ]
  },
  {
   "cell_type": "code",
   "execution_count": 4,
   "metadata": {},
   "outputs": [
    {
     "ename": "NameError",
     "evalue": "name 'nb' is not defined",
     "output_type": "error",
     "traceback": [
      "\u001b[0;31m------------------------------------------------------------\u001b[0m",
      "\u001b[0;31mNameError\u001b[0m                  Traceback (most recent call last)",
      "\u001b[0;32m<ipython-input-4-f0ae906cc98c>\u001b[0m in \u001b[0;36m<module>\u001b[0;34m()\u001b[0m\n\u001b[1;32m      1\u001b[0m \u001b[0mpp\u001b[0m \u001b[0;34m=\u001b[0m \u001b[0mre\u001b[0m\u001b[0;34m.\u001b[0m\u001b[0mcompile\u001b[0m\u001b[0;34m(\u001b[0m\u001b[0;34m\"(https://www.*?)'\"\u001b[0m\u001b[0;34m)\u001b[0m\u001b[0;34m\u001b[0m\u001b[0m\n\u001b[0;32m----> 2\u001b[0;31m \u001b[0mpp\u001b[0m\u001b[0;34m.\u001b[0m\u001b[0mfindall\u001b[0m\u001b[0;34m(\u001b[0m\u001b[0mnb\u001b[0m\u001b[0;34m)\u001b[0m\u001b[0;34m\u001b[0m\u001b[0m\n\u001b[0m",
      "\u001b[0;31mNameError\u001b[0m: name 'nb' is not defined"
     ]
    }
   ],
   "source": [
    "pp = re.compile(\"(https://www.*?)'\")\n",
    "pp.findall(nb)\n"
   ]
  },
  {
   "cell_type": "code",
   "execution_count": 2,
   "metadata": {},
   "outputs": [],
   "source": [
    "import my_keys\n",
    "\n",
    "import re \n",
    "import requests\n",
    "import pickle\n",
    "import json"
   ]
  },
  {
   "cell_type": "code",
   "execution_count": 3,
   "metadata": {},
   "outputs": [],
   "source": [
    "key = my_keys.keys['guardian']"
   ]
  },
  {
   "cell_type": "code",
   "execution_count": 4,
   "metadata": {},
   "outputs": [],
   "source": [
    "\n",
    "article_url = 'https://www.theguardian.com/commentisfree/2019/mar/14/panic-maths-anxiety-studying-pupils-schools'\n",
    "\n",
    "article_url = 'https://www.theguardian.com/commentisfree/2019/mar/11/whatsapp-facebook-extreme-polarise-radicalise-mps-politicians'\n",
    "\n",
    "article_url = 'https://www.theguardian.com/commentisfree/2019/mar/12/communities-losing-local-radio'\n",
    "\n",
    "article_url = 'https://www.theguardian.com/commentisfree/2019/mar/25/eu-music-tech-companies-songs-writers-copyright-directive'\n",
    "\n",
    "article_url = 'https://www.theguardian.com/commentisfree/2019/apr/03/emmanuel-macron-britain-eu-france-president'\n",
    "\n",
    "article_url = 'https://www.theguardian.com/commentisfree/2019/apr/05/brexit-eu-club-belonging-members-britain'\n",
    "\n",
    "article_url = 'https://www.theguardian.com/commentisfree/2019/apr/07/brexit-destroy-parties-britain-conservatives-labour'\n",
    "\n",
    "article_url = 'https://www.theguardian.com/commentisfree/2019/apr/08/wall-street-socialism-jpmorgan-jamie-dimon-bailout'\n",
    "\n",
    "article_url = 'https://www.theguardian.com/commentisfree/2019/apr/09/brexit-basil-fawlty-towers-sitcom'\n",
    "\n",
    "article_url = 'https://www.theguardian.com/commentisfree/2019/apr/08/brexit-deal-may-labour-uk-eu-customs-union'\n",
    "\n",
    "article_url = 'https://www.theguardian.com/commentisfree/2019/apr/10/neoliberalism-freedom-control-privatisation-state'\n",
    "\n",
    "article_url = 'https://www.theguardian.com/film/2019/apr/12/the-rise-of-skywalker-star-wars-episode-ix-title-revealed-as-first-trailer-drops'\n",
    "\n",
    "article_url = 'https://www.theguardian.com/commentisfree/picture/2019/apr/13/its-alive-brexit-monster-wallows-in-the-mire-of-european-elections-cartoon'\n",
    "\n",
    "\n",
    "article_url = '''https://www.theguardian.com/books/2017/apr/28/courage-of-hopelessness-slavoj-zizek-review'''\n",
    "\n",
    "article_url = '''https://www.theguardian.com/commentisfree/2019/apr/22/tories-schools-austerity-cuts-politicians'''\n",
    "\n",
    "article_url = '''https://www.theguardian.com/commentisfree/2019/apr/25/capitalism-economic-system-survival-earth'''\n",
    "\n",
    "article_url = '''https://www.theguardian.com/commentisfree/2019/may/06/stitch-up-brexit-theresa-may-jeremy-corbyn'''\n",
    "\n",
    "article_url = 'https://www.theguardian.com/tv-and-radio/2017/apr/12/doctor-who-smug-stale-how-to-get-back-to-its-glory-days'\n",
    "\n",
    "article_url = 'https://www.theguardian.com/commentisfree/2020/apr/13/people-work-lockdown-herd-immunity-debate-coronavirus'\n",
    "\n",
    "article_url = 'https://www.theguardian.com/commentisfree/2020/apr/08/how-will-the-coronavirus-crisis-end-lockdown-pandemic'\n",
    "\n",
    "article_url = 'https://www.theguardian.com/commentisfree/2020/apr/01/coronavirus-crisis-brexit-brexiteers'\n",
    "\n",
    "article_url = 'https://www.theguardian.com/commentisfree/2020/apr/22/flattening-curve-new-zealand-coronavirus'\n",
    "\n",
    "article_url = \"https://www.theguardian.com/commentisfree/2020/apr/23/cabinet-blame-game-matt-hancock-coronavirus-test-scientists\"\n",
    "\n",
    "article_url = \"https://www.theguardian.com/commentisfree/2020/apr/24/the-guardian-view-on-universities-a-bailout-is-in-all-our-interests\"\n",
    "\n",
    "article_url = \"https://www.theguardian.com/commentisfree/2020/apr/25/lift-the-lockdown-on-the-say-so-of-a-tory-with-an-empathy-bypass-no-thanks-catherine-bennett\"\n",
    "\n",
    "article_url = \"https://www.theguardian.com/commentisfree/2020/apr/22/coronavirus-is-a-dress-rehearsal-for-what-awaits-us-if-governments-continue-to-ignore-science\"\n",
    "\n",
    "article_url = \"https://www.theguardian.com/commentisfree/2020/apr/24/face-masks-mandatory-spread-coronavirus-government\"\n",
    "\n",
    "article_url =\"https://www.theguardian.com/commentisfree/2020/mar/25/there-is-no-trade-off-between-the-economy-and-health\"\n",
    "\n",
    "\n",
    "article_url = \"https://www.theguardian.com/commentisfree/2020/apr/29/the-guardian-view-on-herd-immunity-yes-it-was-part-of-the-plan\"\n",
    "\n",
    "article_url ='https://www.theguardian.com/commentisfree/2020/apr/30/coronavirus-deaths-how-does-britain-compare-with-other-countries'\n",
    "article_url = 'https://www.theguardian.com/commentisfree/2020/apr/26/nudge-theory-is-a-poor-substitute-for-science-in-matters-of-life-or-death-coronavirus'\n",
    "article_url = 'https://www.theguardian.com/commentisfree/2020/apr/26/prejudice-older-people-coronavirus'\n",
    "\n",
    "article_url = 'https://www.theguardian.com/commentisfree/2020/may/02/the-british-charlatan-style-has-been-sent-packing-by-too-much-reality'\n",
    "article_url = 'https://www.theguardian.com/commentisfree/2020/may/03/the-promise-of-an-oxford-vaccine-reveals-how-a-new-britain-could-thrive'\n",
    "article_url = 'https://www.theguardian.com/commentisfree/2020/apr/10/modelling-pandemic-politicians-decisions-science'\n",
    "\n",
    "article_url = 'https://www.theguardian.com/commentisfree/2020/apr/28/theres-no-such-thing-just-following-the-science-coronavirus-advice-political#comment-140167881'\n",
    "article_url = 'https://www.theguardian.com/commentisfree/2020/may/06/headlines-neil-ferguson-coronavirus-death-rate'\n",
    "article_url = 'https://www.theguardian.com/commentisfree/2020/may/15/europe-emerges-lockdown-question-hangs-was-sweden-right'\n",
    "article_url = 'https://www.theguardian.com/commentisfree/2020/may/16/state-intervention-agenda-dont-assume-neoliberalism-dead'\n",
    "article_url = 'https://www.theguardian.com/commentisfree/2020/may/17/looming-economic-disaster-will-only-be-worse-if-those-leading-britain-stick-to-dogma'\n",
    "\n",
    "article_url = 'https://www.theguardian.com/commentisfree/2020/may/21/if-we-can-do-without-gcses-and-university-exams-now-why-go-back'\n",
    "article_url = 'https://www.theguardian.com/commentisfree/2020/may/24/the-weak-defence-of-dominic-cummings-further-erodes-trust-in-the-government'\n",
    "\n",
    "article_url = 'https://www.theguardian.com/commentisfree/2020/may/26/dominic-cummings-boris-johnson-terrified-sack-him'\n",
    "article_url = 'https://www.theguardian.com/commentisfree/2020/may/22/sweden-u-turn-controversial-covid-19-strategy'\n",
    "article_url = 'https://www.theguardian.com/commentisfree/2020/may/29/britain-shame-coronavirus-deaths-economic-collapse'\n",
    "article_url = 'https://www.theguardian.com/commentisfree/2020/may/31/coronavirus-economy-change-pandemic'\n",
    "article_url = 'https://www.theguardian.com/commentisfree/2020/jun/01/prevent-chaotic-end-lockdown-true-risks-british-people'\n",
    "article_url = 'https://www.theguardian.com/commentisfree/2020/jun/12/protests-affront-democracy-liberty-rampant-statue-toppled'\n",
    "article_url = 'https://www.theguardian.com/commentisfree/2020/jun/16/marcus-rashford-politicians-nurses-footballer-ministers'\n",
    "article_url = 'https://www.theguardian.com/commentisfree/2020/jun/26/uk-arts-sector-coronavirus-film-television-theatre-design'\n",
    "article_url = 'https://www.theguardian.com/commentisfree/2020/jul/04/trump-remdesivir-covid-19-drug'\n",
    "\n",
    "article_url = 'https://www.theguardian.com/commentisfree/2020/jul/05/pandemic-orthodox-economics-covid-19'\n",
    "article_url = 'https://www.theguardian.com/commentisfree/2020/jul/10/free-speech-young-people'\n"
   ]
  },
  {
   "cell_type": "code",
   "execution_count": 2,
   "metadata": {},
   "outputs": [],
   "source": [
    "article_url = 'https://www.theguardian.com/commentisfree/2020/jul/05/our-school-systems-are-broken-lets-grab-this-chance-to-remake-them'\n",
    "article_url = 'https://www.theguardian.com/commentisfree/2020/jul/12/for-years-we-have-failed-those-going-to-university-we-have-to-get-it-right-this-time'\n",
    "\n",
    "article_url = 'https://www.theguardian.com/education/2020/mar/31/covid-19-is-our-best-chance-to-change-universities-for-good#comments'\n",
    "article_url = 'https://www.theguardian.com/commentisfree/2020/jul/14/erase-outdated-tv-shows-account-channel-4'"
   ]
  },
  {
   "cell_type": "code",
   "execution_count": 5,
   "metadata": {},
   "outputs": [],
   "source": [
    "article_url = 'https://www.theguardian.com/commentisfree/2020/jul/15/brexit-britain-partnership-boris-johnson'\n",
    "article_url = 'https://www.theguardian.com/commentisfree/2020/jul/23/bias-science-bse-coronavirus-crisis'\n",
    "\n",
    "article_url = 'https://www.theguardian.com/commentisfree/2020/jul/24/britain-brexit-brinkmanship-brink'"
   ]
  },
  {
   "cell_type": "code",
   "execution_count": 6,
   "metadata": {},
   "outputs": [
    {
     "name": "stdout",
     "output_type": "stream",
     "text": [
      "getting comments page no. 1\n",
      "there are 14 pages\n",
      "getting comments page no. 2\n",
      "getting comments page no. 3\n",
      "getting comments page no. 4\n",
      "getting comments page no. 5\n",
      "getting comments page no. 6\n",
      "getting comments page no. 7\n",
      "getting comments page no. 8\n",
      "getting comments page no. 9\n",
      "getting comments page no. 10\n",
      "getting comments page no. 11\n",
      "getting comments page no. 12\n",
      "getting comments page no. 13\n",
      "getting comments page no. 14\n",
      "archiving to edxxn.pkl\n"
     ]
    }
   ],
   "source": [
    "#scrape the page and get the short url\n",
    "short_url_pp =  re.compile('\"shortUrlId\":\"(.*?)\"')\n",
    "\n",
    "r = requests.get(article_url)\n",
    "mm = short_url_pp.search(r.text)\n",
    "short_url = mm.group(1)\n",
    "\n",
    "#the short url allows us to access the discussion\n",
    "comments_url = 'https://api.nextgen.guardianapps.co.uk/discussion/%s.json'%short_url\n",
    "params = {'orderBy' : 'newest',\n",
    "          'pageSize' : 25,\n",
    "          'displayThreaded' : 'true',\n",
    "          'commentsClosed' : 'false',\n",
    "          'page' : '',\n",
    "          'maxResponses' : 50\n",
    "         }\n",
    "\n",
    "json_data =  []\n",
    "start_page  = 1\n",
    "last_page = None\n",
    "\n",
    "\n",
    "for num_page in range(start_page, 10**4):\n",
    "    print('getting comments page no.', num_page)\n",
    "    params['page'] = num_page\n",
    "    r = requests.get( comments_url, params=params)\n",
    "    json_data.append( r.text)\n",
    "    #The last page is a field in the json object\n",
    "    #I don't need to read this as json I could do a regexp\n",
    "    if num_page == start_page:\n",
    "        json_dict = json.loads(r.text)\n",
    "        last_page = json_dict['lastPage']\n",
    "        print('there are %d pages'%last_page)\n",
    "    if num_page == last_page : break\n",
    "        \n",
    "\n",
    "fn = '%s.pkl'%short_url.split('/')[-1]\n",
    "print('archiving to %s'%fn)\n",
    "with open(fn ,'wb') as fp:\n",
    "    pickle.dump(json_data,fp)\n",
    "    \n"
   ]
  },
  {
   "cell_type": "code",
   "execution_count": 5,
   "metadata": {},
   "outputs": [
    {
     "ename": "SyntaxError",
     "evalue": "invalid syntax (<ipython-input-5-e27ba741f4b5>, line 3)",
     "output_type": "error",
     "traceback": [
      "\u001b[0;36m  File \u001b[0;32m\"<ipython-input-5-e27ba741f4b5>\"\u001b[0;36m, line \u001b[0;32m3\u001b[0m\n\u001b[0;31m    archiving to dqhaa.pkl #jenkins\u001b[0m\n\u001b[0m               ^\u001b[0m\n\u001b[0;31mSyntaxError\u001b[0m\u001b[0;31m:\u001b[0m invalid syntax\n"
     ]
    }
   ],
   "source": [
    "json_data = pickle.load(open('dpb6e.pkl','rb') ) #jenkins\n",
    "\n",
    "archiving to dqhaa.pkl #jenkins\n",
    "\n",
    "archiving to evdjz.pkl #big cummings\n",
    "\n",
    "e9j7e.pkl # bragg"
   ]
  },
  {
   "cell_type": "markdown",
   "metadata": {},
   "source": [
    "## remember each page of comments has been stored separately"
   ]
  },
  {
   "cell_type": "code",
   "execution_count": 31,
   "metadata": {},
   "outputs": [
    {
     "data": {
      "text/plain": [
       "9"
      ]
     },
     "execution_count": 31,
     "metadata": {},
     "output_type": "execute_result"
    }
   ],
   "source": [
    "dd = json.loads(json_data[0])\n",
    "len(json_data)"
   ]
  },
  {
   "cell_type": "code",
   "execution_count": 8,
   "metadata": {},
   "outputs": [
    {
     "data": {
      "text/plain": [
       "dict_keys(['postedCommentHtml', 'commentsHtml', 'commentCount', 'refreshStatus', 'lastPage', 'paginationHtml'])"
      ]
     },
     "execution_count": 8,
     "metadata": {},
     "output_type": "execute_result"
    }
   ],
   "source": [
    "xx = json.loads(json_data[0])\n",
    "xx.keys()"
   ]
  },
  {
   "cell_type": "code",
   "execution_count": 9,
   "metadata": {},
   "outputs": [
    {
     "name": "stdout",
     "output_type": "stream",
     "text": [
      "\n",
      "\n",
      "<div class=\"d-discussion d-discussion--recommendations-open u-cf\"\n",
      "     data-read-only=\"false\" >\n",
      "\n",
      " \n"
     ]
    }
   ],
   "source": [
    "print( xx['commentsHtml'][:100])"
   ]
  },
  {
   "cell_type": "code",
   "execution_count": 10,
   "metadata": {},
   "outputs": [],
   "source": [
    "pa = re.compile('data-comment-author=\"(.*?)\"')\n",
    "pid = re.compile('data-comment-author-id=\"(\\d+)')\n",
    "\n",
    "auths = []\n",
    "for xx in json_data:\n",
    "    hh = json.loads(xx)['commentsHtml']\n",
    "    auths.extend(list( zip(pa.findall(hh) , pid.findall(hh)) ))\n",
    "\n",
    "auths = list(set(auths))\n",
    "auths.sort(key=lambda x : x[0].lower())\n"
   ]
  },
  {
   "cell_type": "code",
   "execution_count": 11,
   "metadata": {},
   "outputs": [],
   "source": [
    "auths = dict(auths)"
   ]
  },
  {
   "cell_type": "code",
   "execution_count": 12,
   "metadata": {},
   "outputs": [],
   "source": [
    "class Comment():\n",
    "    pass\n",
    "\n",
    "from bs4 import BeautifulSoup\n",
    "\n",
    "def html2comments(x):\n",
    "    tt = json.loads(x)\n",
    "    soup = BeautifulSoup(tt['commentsHtml'],  \"lxml\")\n",
    "    raw = [ comment.text for comment in  \n",
    "            soup.findAll('div', {'class' : \"d-comment__body\"}) ]\n",
    "    \n",
    "    metadata = soup.findAll('span', {'class' : \"d-comment__author\"})\n",
    "    \n",
    "    auth = [x.text.upper().strip() for x in metadata]\n",
    "    auth_id = [ x.find('a')['href'] for x in metadata]\n",
    "    \n",
    "    return [ '##{}\\n{}\\n\\n{}'.format(a,b,c.strip())  for a,b,c in zip(auth, auth_id, raw)]\n",
    "     \n",
    "all_texts = [ html2comments(page) for page in json_data[:] ]\n",
    "\n",
    "\n",
    "\n",
    "from itertools import chain\n",
    "all_comments = list(chain.from_iterable(all_texts))\n",
    "    "
   ]
  },
  {
   "cell_type": "markdown",
   "metadata": {},
   "source": [
    "with open('b7jtb.pkl','rb') as fp:\n",
    "    json_data = pickle.load(fp)"
   ]
  },
  {
   "cell_type": "code",
   "execution_count": 13,
   "metadata": {},
   "outputs": [],
   "source": [
    "A = [x.split('\\n')[0] for x in all_comments]\n",
    "from collections import Counter\n",
    "AN = Counter(A)"
   ]
  },
  {
   "cell_type": "code",
   "execution_count": 14,
   "metadata": {},
   "outputs": [
    {
     "data": {
      "text/plain": [
       "[('##TKCAX', 28),\n",
       " ('##DRAGON_JADE', 26),\n",
       " ('##SOLENTBOUND', 19),\n",
       " ('##PUMUCKLMAN', 19),\n",
       " ('##MARYFLAKEWIELD', 19),\n",
       " ('##PASTISANDCHIPS', 18),\n",
       " ('##SUTTREE7', 17),\n",
       " ('##UNIONJACK', 14),\n",
       " ('##JACM111', 13),\n",
       " ('##BOBDODDS', 12),\n",
       " ('##ONLYME01', 12),\n",
       " ('##TONYXX', 12),\n",
       " ('##KEVINSJONES', 11),\n",
       " ('##LOVEDOGG', 11),\n",
       " ('##TIJGER', 10),\n",
       " ('##TONDA99', 10),\n",
       " ('##HANGARSHUFFLE', 10),\n",
       " ('##ANTONYMOUSBOSCH', 10),\n",
       " ('##FIDELCASTRO', 10),\n",
       " ('##CICADOIDEA', 10),\n",
       " ('##WESTFRISIAN', 9),\n",
       " ('##NOVEDSTHEBEST', 9),\n",
       " ('##CANARYATTHEWHARF', 9),\n",
       " ('##SEELIFEDIFFERENTLY', 9),\n",
       " ('##ETHELFRIDA', 9),\n",
       " ('##KATIEL', 8),\n",
       " ('##ABBYLOX', 8),\n",
       " ('##NOUVELLEANABELLE', 7),\n",
       " ('##NAGASADHU', 7),\n",
       " ('##ANDA_SKOA', 7),\n",
       " ('##CONCERNEDPLEB', 7),\n",
       " ('##FROGMELLAMOUSETRAP', 7),\n",
       " ('##FCUKEEL', 7),\n",
       " ('##SQUIDSIN1975', 7),\n",
       " ('##GRUENEBAUM', 6),\n",
       " ('##VSBAIN67', 6),\n",
       " ('##CRITICALCAMBERWELL01', 6),\n",
       " ('##UIVER2', 6),\n",
       " ('##BLACKFLAMESOLUTIONS', 6),\n",
       " ('##BISCUIT74', 5),\n",
       " ('##DOGSKEEPINGMESANE', 5),\n",
       " ('##EDWINAONIONS', 5),\n",
       " ('##B1NGOCREPUSCULE', 5),\n",
       " ('##SEPTICSCEPTIC', 5),\n",
       " ('##ENVIROCAPITALIST', 5),\n",
       " ('##COMPAID', 5),\n",
       " ('##BLORIS', 5),\n",
       " ('##ROWAN17', 5),\n",
       " ('##TACITURNE', 5),\n",
       " ('##SEAJAY', 5)]"
      ]
     },
     "execution_count": 14,
     "metadata": {},
     "output_type": "execute_result"
    }
   ],
   "source": [
    "sorted([(x,y) for x,y in AN.items() if y > 4], key=lambda x : -x[1]) "
   ]
  },
  {
   "cell_type": "code",
   "execution_count": null,
   "metadata": {},
   "outputs": [],
   "source": []
  },
  {
   "cell_type": "code",
   "execution_count": 15,
   "metadata": {},
   "outputs": [],
   "source": [
    "all_comments.sort(key=lambda x : -len(x) )"
   ]
  },
  {
   "cell_type": "code",
   "execution_count": 16,
   "metadata": {},
   "outputs": [
    {
     "name": "stdout",
     "output_type": "stream",
     "text": [
      "##DOTHEOSTRICH123\n",
      "https://profile.theguardian.com/user/id/103396525\n",
      "\n",
      "'If it ain't brunk, don't fix it' seems to be strategy number 6 engraved in the slate tablets, bought to us lesser beings by Alex Winston de Impaler John Manson he picked up from a Prophet, living off grid, halfway up Ben Nevis. As dismembered body parts come flying out of the back of the woodchipper, instead of sawdust. He exclaims 'see I told you I was right, build, build build, Towers of Silence, then let the Vultures tidy things up'. The birds that have already collected, start flapping their wings expectantly.As regards the complicated relationship between the Organ Grinder and his Monkey it is becoming increasingly difficult to know who is in charge. Granted Cummings resembles a bald headed Uakari Monkey, after standing for far too long in the shadow of Gove, so his face has turned red. Thereby letting the more photogenic hairy one, stand next to Bridges, large earth moving equipment, as well as Crabs that appear to have escaped from his nether regions. Although chopsticks, may be a tad difficult a tune for Mr Organ Grinder, it was his name, that rid the Tories of all vocal opposition to any of his 'Dr Strangelove' motivated plans. I still believe a fair proportion of these, are dreamt up by the tumour that has annexed a portion of Number 10 and sits in a hammock talking into a dictophone. Which he then hands to willing interns, to edit before passing on to the P.M., regurgitated at his next appearance.Either way forget the trifles, we have lost the benefits of the EU, possibly encouraging civil unrest from Scotland, Ireland and Gibraltar, after they finally realise the detrimental implications. 'Never in the field of human conquest, will so much be destroyed by so few'. When it finally hits little Englanders like a slap in the face from a stunned Cod, who mouths, 'but I always wanted to see Spain'. It is you, the terrible Two shall blame. However, without their lying Bus, Corbyn's deafness, as well as the Daily Heil, this four year War leading to ever more unpleasantness, would never have occurred. If not God, perhaps Jack Sparrow's legal team can save us.\n",
      "\n",
      "##STEVERANDOMNO\n",
      "https://profile.theguardian.com/user/id/3247168\n",
      "\n",
      "It is now for the Brexiters, after their astounding success, to make Brexit a success and lead the country to better times.\n",
      "\n",
      "No, it's for everyone. A democratic decision was made to leave the EU. Some EU fanatics can throw their toys out of the pram and pretend that because they lost a vote on a single decision, it absolves them of any responsibility if they like, but that's not very helpful. Mercifully, most will probably take the pragmatic and responsible approach and won't behave that way.\n",
      "\n",
      "Why, then, are Brexiters still so angry? \n",
      "\n",
      "I can't speak for most Brexiters, but why would they be angry? They have got what they wanted, eventually. I'm not angry at all.\n",
      "\n",
      "Do they think that the government specially selected for Brexit is performing well? \n",
      "\n",
      "On Brexit, yes. Which is why they were elected. On some other things, probably no better than any other government. \n",
      "\n",
      "Are they happy that Russian interference in our democratic process is recognised as real but not investigated?\n",
      "\n",
      "Oh please. This is just a last desperate grasping at straws by those who hold on to an iota of hope that Brexit can be reversed. Maybe there should be an investigation into the amount of interference members of the EU have had in the past 4 years. How much contact did they have with those MP's who were elected on a platform of respecting the referendum but demonstrated they actually wanted Brexit in Name Only or second stitched up 'people's vote'. \n",
      "\n",
      "What have you actually won, so far, nothing has come to light.\n",
      "\n",
      "The democratic decision to forge a path for the UK outside of the EU is being delivered after four years of deliberate delay. That's all the victory that was necessary.\n",
      "\n",
      "##MELMEY\n",
      "https://profile.theguardian.com/user/id/16323536\n",
      "\n",
      "Watching Brexit unfold from an EU country I mainly saw the combination of two things that from the beginning were a blueprint for a disaster:First, British exceptionalism guided everything. The idea that the UK is so special that everyone will do everything they want was already part of the leave campaign, but throughout the negotiations it became clear that it was not only a campaign slogan, but that enough Tory politicians actually seem to believe it.Secondly, the drawing of very hard lines for every negotiation from the very beginning. There were so many red lines and absolutely no room for compromise. And again, of course you start a negotiation with a list of things you want, but you also need to have a list of items for which you are willing to strike a compromise. And looking at the current negotiations you get the impression that second list doesn't exist for the UK government (which again might be linked to the idea of exceptionalism in that they truly think that they will get what they want while the EU will be ready to compromise on everything).And if you followed the event of the last EU meeting and the current discussions in EU parliament you probably realized that the EU already moved on. They saw that the UK is not willing to find a compromise and there are other topics that are more important. In that sense the corona crisis probably made it more difficult for the UK to strike a deal. The focus of the EU is elsewhere and you heard some insiders saying that they were happy that the UK was not part of the negotiations of the corona fund and the coming budget as they would have made things more difficult.\n",
      "\n",
      "##149222\n",
      "https://profile.theguardian.com/user/id/18277162\n",
      "\n",
      "I know, I know, I'm admiring my tinfoil hat in the mirror as a write this.\n",
      "But I'm convinced that it's impossible, even for this lot, to have made such an irredeemable mess of Brexit, as it seems they have, without there being some other plan going on behind the scenes.\n",
      "The real Brexit if you like, the unholy thing on the slab that Gove and Cummings have been working on in the shadows to bring to life.\n",
      "The EU and our future relationship with it is irrelevant to this monstrosity I believe; the EU will only be useful as a target of outrageous lies and blame when needed.\n",
      "Otherwise, I predict that what many have said already will come to pass in some form or another, namely and in short, Singapore-on-Thames.\n",
      "A low-tax, corporation-kowtowing neoliberal, neo-Thatcherist wet dream designed to erode the EU economy, while giving cream to the fat cats by selling out our own economy to the USA, putting additional pressure on the EU particularly by being a conduit for low-quality, GM foods at cut-rate prices thanks to American big-ag.\n",
      "Rest of the world? Who cares about cosying up to the rest of the world? The rest of the world will be beating a path to the UK's low-tax door, begging for a seat at the table, and while we're at it we'll be the thin edge of the American wedge in the effort to break up the EU completely.\n",
      "THAT, I believe, could well be the plan, or something near enough to that. It's going to be ugly, disgraceful, beneath us, and unworthy of our espoused values as a nation.\n",
      "But haven't just those things served as leitmotifs for the Tory governments from Cameron to Johnson already?\n",
      "\n",
      "##GHOTIFACE\n",
      "https://profile.theguardian.com/user/id/15275475\n",
      "\n",
      "All I can think at the moment is how did we come to this pass???....\n",
      "With all the promises that were made about ‘the easiest deal in the world’ and how the EU needed a deal more than we did, driven by German car companies desperate to keep their market… etc etc etc…\n",
      "It seems now that that we are just hoping and praying that we manage to come out of this with a full set of arms and legs…\n",
      "The basic logic of the situation of course is that we are the small fry in what we laughingly call this negotiation and we we only ever get what is in the interests of the bigger partner and anything that we do get is going to come with strings, rules and requirements attached….\n",
      "And if this is the way it goes with our nearest neighbourhood power, who actually do have some interest in keeping us from imploding and may want access to our markets then really how do we expect things to go when we try and strike deals with the other big World powers who are not going to be anything like a friendly or self-interested in keeping us intact as our neighbours\n",
      "The only people it seems who could possibly stop the very worst happening now are the rest of the Conservative Party in Parliament, who you just have to hope are clear-sighted and patriotic enough to realise what the risks are…\n",
      "But can they throw the self-inflicted chains off and remove the heavy blinkers with which they have covered their eyes for the whole of Johnson’s period in No.10 and actually do this….\n",
      "For the sake of the whole Country.\n",
      "\n",
      "##WHATSERVICE\n",
      "https://profile.theguardian.com/user/id/11207549\n",
      "\n",
      "My views haven't changed. Leaving the EU will be of no benefit to anyone except those who hold money and power along with certain corporates and a smidgen of medium to small businesses.\n",
      "How else can it be when you are shutting shop to the most developed nations, the richest nations in the world, who are either in the EU or have market agreements with the EU. Even the emerging markets of China and India along with other developing economies are aspiring to develop trading agreements with the EU, the second largest economy in the world. Any deal with the UK will be secondary and will depend upon their agreement with the EU.\n",
      "Boris Johnson once said \"f**k business\". I take this as meaning there is something in it for them and they don't really care if businesses find it difficult to cope.\n",
      "I can see ministers and conservative MPs queuing to fill their pockets by acting as advisors for potential trade deals whilst the rest of the country are left struggling trying to rebuild their lives, especially following the pandemic. The same ministers will probably be looking to lower all kinds of standards from food and welfare to safety at work to improve their opportunities.\n",
      "When it comes to brinkmanship, I can only view this as getting away with whatever they can. I do not believe it is anything to do with negotiating an agreement that will be to the benefit of the UK or the EU as a whole, I don't believe our ministers are capable of doing that.\n",
      "\n",
      "##FCUKEEL\n",
      "https://profile.theguardian.com/user/id/103460122\n",
      "\n",
      "Dishonesty was used by the NO campaign in 2014 with the Scottish referendum. Three of the main Parliamentary parties were complicit, Tory, Labour and Libdem all falsely assured the Scottish electorate that if Scotland stayed in the UK then Scotland would stay in the EU. \n",
      "Why would you expect honesty to surround the process of BREXIT. The only question that needs asking and then addressing is how can such dishonesty win out every time?\n",
      "My answer would be dishonesty can always win out because the media is 95% owned and controlled by the super wealthy many of whom are not even residents or even citizens of the UK. Is this monopoly control by the super wealthy going to be addressed by the Tory/Labour parties the answer is, no it is not going to be addressed. Sir Keir Starmer has been invited to write opinion pieces in the Telegraph precisely because he does not threaten this monopoly.\n",
      "90% of current MPs are also complicit in this dishonesty and because parliament is complicit in maintaining this media monopoly you are at best naive and at worse a fool for expecting 'honest' politics from the unionist parties.\n",
      "I would contend that it doesn't matter to the ERG what sort of BREXIT deal the UK government strikes with the EU because the media can always be relied upon to report whatever suits best the narrative of the ERG, because the ERG has the backing of the media monopoly, nearly but not quite wholly owned by super wealthy non doms.\n",
      "\n",
      "##TACITURNE\n",
      "https://profile.theguardian.com/user/id/16143899\n",
      "\n",
      "You don't seem to understand that the basic set of WTO rules is the LCD of international trade. This is why WTO members have all set about forming themselves into trading blocs or free trade areas, like the EU, ECOWAS, Mercosur, etc, the LCD is pretty disadvantageous, it just gives you the basic legal right to trade.\n",
      "Nor do you understand that many of the 111 countries you refer to which trade with us right now under WTO rules, trade with us as part of the EU, ie as part of a negotiated free trade area, the EU. After the 31/12, those terms will no longer apply, it's nothing punitive on the part of either the EU or the WTO, it's just how international trade works. Why do you think Kenyan beans and Moroccan lemons in Tescos will rocket in price?\n",
      "We will be in pretty much the same situation as Mauretania, though they have at least got a fishing deal together with neighbours. So far, we've got the Faroes. Forget the 111 you boast of - you're throwing out the legal base for current trade with them.\n",
      "Duncan Smith was on Sky last year, basically saying exactly the same as you, let's go WTO. His fellow interviewee disagreed with IDS' insistence on what the UK would be allowed, and explained precisely why, including some of what I've just said. IDS told this chap that he didn't understand the WTO, and was wrong. His fellow interviewee was Pascal Lamy, who ran the WTO for 8 years, and resorted to miming a unicorn horn on his forehead.\n",
      "\n",
      "##FALLOWFIELD\n",
      "https://profile.theguardian.com/user/id/2968301\n",
      "\n",
      "This is one I made earlier -There will be no downside to Brexit, only a considerable upside. David Davis (10 October 2016)The day after we vote to leave we hold all the cards and we can choose the path we want. Michael Gove (9 April 2016)There will continue to be free trade, and access to the single market. Boris Johnson (26 June 2016)Getting out of the EU can be quick and easy – the UK holds most of the cards in any negotiation. John Redwood (17 July 2016)To me, Brexit is easy. Nigel Farage (20 September 2016)The free trade agreement that we will have to do with the European Union should be one of the easiest in human history. Liam Fox (20 July 2017)It beggars belief that anyone can take this bunch of shysters seriously. Actually, I aplogise for including Deadwood as nobody has ever taken him seriously.Like Marina, I was surprised to see the name of Little Liam doing a Lazarus. That surely is Fartage territory, although nominating him to lead the WTO would surely be as ridiculous as expecting him to represent the British fishing industry in Brussels when he was an MEP. Nigel is not so much WTO as WTF?Anyway, good luck to Lord Snooty's pals The Ergs. They always were a crusade looking for an enemy, and now they have their sights set on China. If you think that the UK is being humiliated by the EU, you ain't seen nothing yet.\n",
      "\n",
      "##NEIL4072\n",
      "https://profile.theguardian.com/user/id/3707208\n",
      "\n",
      "I think your first question is the one that makes me weep the most. How on earth did we let it happen ? My guess is that the slow burn fuse was lit by Mrs Thatcher and that at that point we all began to believe that our economy could grow and that we could all share in the growth. As the years went by it began to dawn that not everyone would share in the growth. A scapegoat was needed and we got two for the price of one. Immigration and the EU. Neatly provided by Farage and his not so merry men. Like a lightning rod the anger was channelled away from the real sources of blame and towards the hapless immigrants and the blameless bureaucrats of the EU. The latter, we were told, had incredible powers over us whereas in reality they were doing the bidding of member states and their elected governments. As for the immigrants from the East, Mr Blair had argued strongly and successfully for their membership of Europe to help the UK economy top grow by using minimum wage labour rather than by investment in people and equipment.Who knows really ? I'm just making a guess of course and I am sure that people far wiser than I am can provide some ideas. What I do know, however, is the country is now in the hands of some very dangerous people who would certainly place themselves on the opposite side of the barricades from where I would stand.\n",
      "\n",
      "##GARFIELDLOVESTOROCK\n",
      "https://profile.theguardian.com/user/id/101672103\n",
      "\n",
      "History always allow for linear developments. In fact there have always been developments and events that stopped, reversed, or even destroyed achievements and solid empires.The belief that the run of history lets you plan as if there was no outside world and reality to interfere with your grand plans does hamper people's ability to think ahead. They fail to see see that there's no guarantee that projections into the future will pan out just as they expect them to. The reason for this is simple: Projections of desired scenarios are based on the status quo as they see it. It just so happens that experienced chief economist and nominee for the Nobel Prize in economics Andrea Jenkyns cannot for the life of her imagine that things might not pan out the way she thinks they might. The unexpected has hijacked reality already; there'll be much more of the unexpected with a No Deal and trade on WTO terms. Expect Andrea Jenkyns to go very quiet by the time the reality of that has sunk in with the electorate. The con-\"artists formerly known as Eurosceptics\" have no idea what a “global trading nation” might look like because they ignore the warning signs and instead are preoccupied with their wrecking ball. In all the dust and rubble of their destruction they fail to recognise their abysmal failure to create something new.\n",
      "\n",
      "##LALANDE\n",
      "https://profile.theguardian.com/user/id/100628145\n",
      "\n",
      "My game theoretical analysis looks at the ordinal preferences of the two actors and explains why the outcome is likely to be hard Brexit. As can readily be seen, this analysis was made some years ago during the period of Chequers. However, the ordinal preferences seem to be largely the same.\n",
      " EU T E T (3,3) (4,1)UK   E (1,2) (2,4) \n",
      "The above expresses my view of the ordinal preferences of the two parties. 4= most preferred option, 3= next best option etc..\n",
      "Options for the UK are: T persist with chequers and E -meet EU requirements on freedom of movement , Ireland etc..Options for the EU are T-don't negotiate, and E -negotiate.\n",
      "Using backwards induction, assuming a starting point of (3,3), (i.e. both sides adopt a \"tough\" stance) , with the EU moving first we have:(3,3)->(4,1)->(2,4)->(1,2)->(3,3)(3,3) (4,1) (2,4) (3,3)Outcome (3,3)\n",
      "If the UK moves first:(3,3)->(1,2)->(2,4)->(4,1)->(3,3)(3,3) (3,3) (3,3) (3,3)Outcome (3,3)\n",
      "(3,3) is, incidentally, the unique pure strategy Nash equilibrium for this game.\n",
      "Under the rules of Theory of Moves, the outcome is (3,3) whoever moves first, i.e. the UK doesn’t budge significantly from Chequers and the EU refuses to negotiate. \n",
      "So I conclude that the situation will remain at (3, 3) with a hard Brexit - a particularly dire outcome for the UK.\n",
      "\n",
      "##MATTMARS\n",
      "https://profile.theguardian.com/user/id/102357586\n",
      "\n",
      "Brexit has been supported blindly by this government in order to tackle a supposed fall from grace on the international stage that left us a weaker country; their solution was to take us out of the worlds largest trade and free movement block in the world.\n",
      "Since 2016, most of the Conservative party have been hell bent on a no deal Brexit and a trade agreement with the us that puts our health and wellbeing at risk. They have repeatedly lied about the risks of this deal in order to push their own wealth seeking agenda, demonstrating their thirst for money. There handling of negotiations from July 2019 has resembled the uncompromising western foreign policy of the last forty years, with the government treating the situation as a battle between good and evil. They have stuck to their orthodox Brexiteer beliefs and have silenced those who spoke against them in their party.\n",
      "After the shambles of the Covid-19 response, will be forced to run back to Brexit as a distraction and a rallying point for their voters who may begin to shop around for a party to lend their vote to. The British economy will be toast after coronavirus and a no deal Brexit, leading to a true fall from grace on the world stage: this can be mitigated by a more sensible dialogue with the EU on trade.\n",
      "\n",
      "##NOVEDSTHEBEST\n",
      "https://profile.theguardian.com/user/id/101802099\n",
      "\n",
      "\"The free trade agreement that we will have to do with the European Union should be one of the easiest in human history\"\n",
      "Misplaced optimism if there ever was. Much of that based on common sense that there are no convergence issues, and it is in the interest of the EU as well as the UK. They didn't take into account how brittle the EU is and terrified of any country leaving the EU being successful with just an FTA and no need for the poisoned politics which come with the rest of the EU. \n",
      "The logic was that even if the ultras in the EU would want to punish the UK, those national leaders would be more pragmatic mostly because they have to answer to their own electorate. Let's be clear if talks break down it will be the fault of the EU and those national leaders, not the UK who have been clear all alone that a 'plain vanilla' FTA is acceptable, but would prefer a more deeper one. \n",
      "That is going to be bad news for a lot of companies around the EU who have a lot of exposure to the UK market. Certainly when Club Med is in such deep trouble and the agonising Covid bailout agreed last week is too small, and has more strings than a puppet orgy. We will have to see what does happen, but I suspect the EU will get a lot more unpopular and not just because of Brexit.\n",
      "\n",
      "##WOODPECKER101\n",
      "https://profile.theguardian.com/user/id/103805540\n",
      "\n",
      "Very good,However on a more serious note, China and the US no longer trade under WTO rules, they have to all intents and purposes binned it with regard to Sino/ US trade, The idea the EU/UK trade will seamlessly transfer into WTO rules is wishful thinking under the present climate. Far too much bad blood, a trade war similar to recent US/China ructions is probably where things will begin.Guardian did a piece yesterday which claimed at the 12th hour a deal will be reached despite current shenanigans. However it neglected to mention EU Parliament or its veto.EU Parliament has not forgotten the outright hostility of this U.K. government towards EU and the verbal abuse it has had to suffer in recent years.Recent EU Parliament election has resulted in a much more radical and less conformist body no longer at the beckon call of commission or 27 heads of government.When it comes to standards and regulations, workers rights, environmental degradation etc, no way will they allow the U.K. access without a regimented and strictly enforced level playing field.If the U.K. government wants to open a brothel outside it’s front gate there’s not much they can do about it.One thing for sure though it will not, under any circumstances be selling it’s wares on the inside\n",
      "\n",
      "##SOLENTBOUND\n",
      "https://profile.theguardian.com/user/id/15214069\n",
      "\n",
      "It’s interesting that Canada is no longer on the priority list of countries that the U.K. hopes to conclude agreements with. At one time, there was talk about Canada and the U.K. entering into CETA bilaterally, which would be easy to do, and negotiating additional provisions from there.\n",
      "However, Canada’s current position appears to be quite a bit more distant. This is what the Canadian Trade Commissioner’s site says:\n",
      "“When the transition period ends on December 31, 2020, the UK will no longer be bound by the EU’s treaties with third countries, including CETA. Canada-UK bilateral trade would no longer benefit from any CETA preferences and would be based on WTO rules, including most-favoured nation (MFN) tariffs on goods.\n",
      "“Now that the UK has left the EU, it will have the jurisdiction to negotiate trade agreements. And once there is more clarity on the UK’s trade relationship with the EU, Canada intends to re-engage with the UK to discuss how our bilateral trade relationship can be strengthened. Any future trade agreement between Canada and the UK would be influenced by the UK-EU trade negotiations, as well as any unilateral UK approaches.”\n",
      "URL: https://www.tradecommissioner.gc.ca/united-kingdom-royaume-uni/information-brexit-renseignements.aspx?lang=eng\n",
      "\n",
      "##REDLEADER\n",
      "https://profile.theguardian.com/user/id/1375646\n",
      "\n",
      "What else can they do? They campaigned to leave the EU on the premise that all the existing arrangements robbed the UK blind, that we lost out on the existing deal and that we would gain more by scrapping all of our links with the other twenty-seven countries on our continent (plus associated members and third parties with trade treaties) than we would lose. How could they ever have conceded that, having left the union, we must now try to patch up the incision we've just made as much as possible? Had the Tories turned around the day following the referendum and conceded that it is essential to our economy to remain in the EEA - or, at least, to engage with it as much as Switzerland - would you have held your tongue and congratulated them on achieving their patriotic aim or would you have pointed out that they'd just thrown away our seat at the table out of sheer vanity? I wouldn't have. I'd have been right on their case, on this website and others. Are we really organized and disciplined enough to let them continue to crow about defeating us even if they bow to the inevitable and seek a trade deal that effectively mean non-voting membership? I doubt it - whoever in history would have eaten such a quantity of humble pie for the greater good?\n",
      "\n",
      "##ABBYLOX\n",
      "https://profile.theguardian.com/user/id/17217284\n",
      "\n",
      "\"None of which is to say the jobs of those in the fishing industry are unimportant, or that the immense hardships they have faced are immaterial.\"\n",
      "Isn't that exactly what you are saying? The Guardian has published many articles recently about the the problems facing theatres but doesn't show anything like the same concern over fishing. You then try to imply that fishing is unimportant as it is only a small part of the economy even though the same didn't apply to theatre.\n",
      "In 2016 fishing and seafood processing/preservation contributed £1.4bn to the economy. In comparison, according to the Arts Council, in 2015 the market segment of the performing arts sector contributed £1.6bn.\n",
      "https://commonslibrary.parliament.uk/research-briefings/cdp-2017-0256/\n",
      "https://www.artscouncil.org.uk/sites/default/files/download-file/Contribution_arts_culture_industry_UK_economy.pdf\n",
      "Of course, this isn't quite a fair comparison as you would probably also need to add the retail component of seafood sales to the total for fishing as that is a necessary part of getting the product to the end customer. However, it does seem as if fishing is at least as important as theatre to the UK, if not more so since cheap food production is what underpins the rest of the economy.\n",
      "\n",
      "##REDLEADER\n",
      "https://profile.theguardian.com/user/id/1375646\n",
      "\n",
      "What else can they do? #they campaigned to leave the EU on the premise that all the existing arrangements robbed the UK blind, that we lost out on the existing deal and that we would gain more by scrapping all of our links with the other twenty-seven countries on our continent (plus associated member and third parties with trade treaties) than we would lose.\n",
      "How could they ever have conceded that, having left the union, we must now try to path up the incision we've just made as much as possible? \n",
      "Had the Tories turned around the day following the referendum and conceded that it is essential to our economy to remain in the EEA - or, at least, to engage with it as much as Switzerland - would you have held your tongue and congratulated themon achieving their patriotic aims or would you have pointed out that they'd just thrown away our seat at the table out of sheer vanity? I wouldn't have. I'd have been right on their case, on this website and others. Are we really organized enough to let them continue to crow about defeating us even if they bow to the inevitable and seek a trade deal that effectively mean non-voting membership? I doubt it - who ever in history would eat such a quantity of humble pie for the greater good?\n",
      "\n",
      "##PETERLARS\n",
      "https://profile.theguardian.com/user/id/14215209\n",
      "\n",
      "Thanks Marina. The cataclysmic ineptitude of our ruling class (I won't insult the word \"elite\") is a gift that - sadly - is a gift that refuses to stop giving. Dear Toff Ineptitude, please stop. Please. Stop. I was expecting Brexit to expose the uselessness of our Brexiteer class but Covid-19 has beaten Brexit to it. And yet opinion polls and vox pops (especially with local Tory party \"bigwigs\") suggest that the Tories are not being blamed. I guess Owen is right about the right wing press. I had hoped in the halcyon pre-Cameron and pre-referendum days that Britain would come to terms with geopolitical reality without the need for a national catastrophe in order to bring about a long overdue understanding of Britain's \"placeintheworld\". Sadly the ineptitude of Cameron was but foreplay to the Old Etonian bumfuckery in which we - willingly it seems - find ourselves. There seems no end to the English working classes peculiar lust for being rogered by blokes with posh accents. Perhaps it's a cultural comfort blanket. It's certainly something that needs drastic therapy. Great Britain and its culture wars, eh? It's like watching an aged drunk pick a fight with himself in a (locked down) pub.\n"
     ]
    }
   ],
   "source": [
    "print( '\\n\\n'.join(all_comments[:20]) )"
   ]
  },
  {
   "cell_type": "code",
   "execution_count": 18,
   "metadata": {},
   "outputs": [
    {
     "name": "stderr",
     "output_type": "stream",
     "text": [
      "[nltk_data] Downloading package vader_lexicon to\n",
      "[nltk_data]     /home/gregmcshane/nltk_data...\n",
      "[nltk_data]   Package vader_lexicon is already up-to-date!\n"
     ]
    }
   ],
   "source": [
    "#https://towardsdatascience.com/sentimental-analysis-using-vader-a3415fef7664\n",
    "\n",
    "import nltk\n",
    "nltk.download('vader_lexicon')\n",
    "\n",
    "from nltk.sentiment.vader import SentimentIntensityAnalyzer\n",
    "\n",
    "sid = SentimentIntensityAnalyzer()"
   ]
  },
  {
   "cell_type": "code",
   "execution_count": 22,
   "metadata": {},
   "outputs": [],
   "source": [
    "a = '''My views haven't changed. Leaving the EU will be of no benefit to anyone except those who hold money and power along with certain corporates and a smidgen of medium to small businesses.\n",
    "How else can it be when you are shutting shop to the most developed nations, the richest nations in the world, who are either in the EU or have market agreements with the EU. Even the emerging markets of China and India along with other developing economies are aspiring to develop trading agreements with the EU, the second largest economy in the world. Any deal with the UK will be secondary and will depend upon their agreement with the EU.\n",
    "Boris Johnson once said \"f**k business\". I take this as meaning there is something in it for them and they don't really care if businesses find it difficulA\n",
    "t to cope.\n",
    "I can see ministers and conservative MPs queuing to fill their pockets by acting as advisors for potential trade deals whilst the rest of the country are left struggling trying to rebuild their lives, especially following the pandemic. The same ministers will probably be looking to lower all kinds of standards from food and welfare to safety at work to improve their opportunities.\n",
    "When it comes to brinkmanship, I can only view this as getting away with whatever they can. I do not believe it is anything to do with negotiating an agreement that will be to the benefit of the UK or the EU as a whole, I don't believe our ministers are capable of doing that.'''"
   ]
  },
  {
   "cell_type": "code",
   "execution_count": 24,
   "metadata": {},
   "outputs": [
    {
     "ename": "TypeError",
     "evalue": "sentiment_valence() missing 4 required positional arguments: 'sentitext', 'item', 'i', and 'sentiments'",
     "output_type": "error",
     "traceback": [
      "\u001b[0;31m------------------------------------------------------------\u001b[0m",
      "\u001b[0;31mTypeError\u001b[0m                  Traceback (most recent call last)",
      "\u001b[0;32m<ipython-input-24-6f3326dcf5de>\u001b[0m in \u001b[0;36m<module>\u001b[0;34m\u001b[0m\n\u001b[1;32m      1\u001b[0m \u001b[0msid\u001b[0m\u001b[0;34m.\u001b[0m\u001b[0mpolarity_scores\u001b[0m\u001b[0;34m(\u001b[0m\u001b[0ma\u001b[0m\u001b[0;34m)\u001b[0m\u001b[0;34m\u001b[0m\u001b[0m\n\u001b[0;32m----> 2\u001b[0;31m \u001b[0msid\u001b[0m\u001b[0;34m.\u001b[0m\u001b[0msentiment_valence\u001b[0m\u001b[0;34m(\u001b[0m\u001b[0ma\u001b[0m\u001b[0;34m)\u001b[0m\u001b[0;34m\u001b[0m\u001b[0m\n\u001b[0m",
      "\u001b[0;31mTypeError\u001b[0m: sentiment_valence() missing 4 required positional arguments: 'sentitext', 'item', 'i', and 'sentiments'"
     ]
    }
   ],
   "source": [
    "sid.polarity_scores(a)\n",
    "sid.sentiment_valence(a)"
   ]
  },
  {
   "cell_type": "code",
   "execution_count": 20,
   "metadata": {},
   "outputs": [
    {
     "name": "stdout",
     "output_type": "stream",
     "text": [
      "##WHATSERVICE\n",
      "https://profile.theguardian.com/user/id/11207549\n",
      "\n",
      "My views haven't changed. Leaving the EU will be of no benefit to anyone except those who hold money and power along with certain corporates and a smidgen of medium to small businesses.\n",
      "How else can it be when you are shutting shop to the most developed nations, the richest nations in the world, who are either in the EU or have market agreements with the EU. Even the emerging markets of China and India along with other developing economies are aspiring to develop trading agreements with the EU, the second largest economy in the world. Any deal with the UK will be secondary and will depend upon their agreement with the EU.\n",
      "Boris Johnson once said \"f**k business\". I take this as meaning there is something in it for them and they don't really care if businesses find it difficult to cope.\n",
      "I can see ministers and conservative MPs queuing to fill their pockets by acting as advisors for potential trade deals whilst the rest of the country are left struggling trying to rebuild their lives, especially following the pandemic. The same ministers will probably be looking to lower all kinds of standards from food and welfare to safety at work to improve their opportunities.\n",
      "When it comes to brinkmanship, I can only view this as getting away with whatever they can. I do not believe it is anything to do with negotiating an agreement that will be to the benefit of the UK or the EU as a whole, I don't believe our ministers are capable of doing that.\n",
      "\n",
      "##FALLOWFIELD\n",
      "https://profile.theguardian.com/user/id/2968301\n",
      "\n",
      "This is one I made earlier -There will be no downside to Brexit, only a considerable upside. David Davis (10 October 2016)The day after we vote to leave we hold all the cards and we can choose the path we want. Michael Gove (9 April 2016)There will continue to be free trade, and access to the single market. Boris Johnson (26 June 2016)Getting out of the EU can be quick and easy – the UK holds most of the cards in any negotiation. John Redwood (17 July 2016)To me, Brexit is easy. Nigel Farage (20 September 2016)The free trade agreement that we will have to do with the European Union should be one of the easiest in human history. Liam Fox (20 July 2017)It beggars belief that anyone can take this bunch of shysters seriously. Actually, I aplogise for including Deadwood as nobody has ever taken him seriously.Like Marina, I was surprised to see the name of Little Liam doing a Lazarus. That surely is Fartage territory, although nominating him to lead the WTO would surely be as ridiculous as expecting him to represent the British fishing industry in Brussels when he was an MEP. Nigel is not so much WTO as WTF?Anyway, good luck to Lord Snooty's pals The Ergs. They always were a crusade looking for an enemy, and now they have their sights set on China. If you think that the UK is being humiliated by the EU, you ain't seen nothing yet.\n",
      "\n",
      "##MARVINH2G2\n",
      "https://profile.theguardian.com/user/id/102173891\n",
      "\n",
      "back on 7th Aug I posted:\n",
      "\n",
      "Boris Johnson is clearly pivoting towards the USA. He has no intention of compromising with the EU. He in several speeches already talked up Genetic Modification and research, which is aimed at recasting GM as a \"bright British future\", while making our food industry compatible with the USA and incompatible with Europes. \n",
      "If there is an open border and we are awash with designer GM corn, steroid-Beef, and bleached chicken, the regulatory divergence with the EU will force a closing of the border to keep our food out the single market.\n",
      "To suggest otherwise is naive or more likely dishonest.\n",
      "Johnsons sudden love of GM food is the clearest indication that he plans to no-deal, pivot to Trump, and kiss his rump. Everything else is just about making the EU look bad and Boris look innocent.\n",
      "His decision to do this, just look at his cabinet, set a countdown running on a Tory party split and VoNC. This puts Cummings and Johnson on collision course with the constitution. I hope it breaks them, and breaks Brexit. Viciously\n",
      "\n",
      "He purged and prorogued, but sadly due to Swinson and Corbyn it didn't beak Brexit.\n",
      "\n",
      "##FREDFREDERICKSON\n",
      "https://profile.theguardian.com/user/id/101732686\n",
      "\n",
      "Brexit was smashing yourself in the face because you saw something ghastly in the mirror.\n",
      "Scotland knew this as far back as Thatcher’s Poll Tax onslaught in the late 80s, early 90s, when the Scots were used and abused as the testing ground for dystopian policies. For your own preservation, you have to break the link with a country that not only damages you, but is clearly self-destructive. \n",
      "Given the choice of anything but BORIS, he is PM with a thumping majority. Dear lord. Unless and until the English get a grip on their knickers, and stop the madness that just gets them more mad, then they are where they are and will stay there. I don’t rejoice in this, I think it is a pitiful sight. \n",
      "Ireland will be united and the Scots will be out, and it won’t even be for proud nationalist reasons.\n",
      "\n",
      "##MARYFLAKEWIELD\n",
      "https://profile.theguardian.com/user/id/103921609\n",
      "\n",
      "The Bar has been lowered\n",
      "Tory jokers, Johnson, Jenryk,Eustice,and Francois the cheeky chappy in exactly the same comic guise Boris wore 20 years ago, have standards have fallen so low in a generation.If we think back to Ken Clarke, David Steel, Roy Jenkins or John Smith and we compare to such 3rd rate rabble as Pritti Patel, Michael Gove and Boris.Even Teresa May shines above this shower and that's saying something, she was merely medicore these people are dangerous at any time.\n",
      "At possibly the darkest hour since 1940 with Brexit and the pandemic tragedy mishandled we are lumbered with venal racist greed, when we need soldarity, compassion and vision.\n",
      "As others have remarked it is as if the lunatics have taken over the Tory party.\n",
      "\n",
      "##TOILETSEAT\n",
      "https://profile.theguardian.com/user/id/101829955\n",
      "\n",
      "Our brilliant gov.Less than six months ago, thousands of enthusiastic Britons gathered in Parliament Square in London to celebrate Britain's exit from the European Union. Now, Prime Minister Boris Johnson and his government of Brexiteers were to show what a truly global Britain could accomplish.\n",
      "It is another, wing shot Britain that is now stubbornly insisting that the transition period with the EU expires at the end of the year. That there will be a hard Brexit if no agreement is reached. The top leaders tried a month ago to add a shot of positive energy to the process, but not all of Johnson's superlatives can camouflage the fact that the EU and the UK are almost as far apart as when the negotiations began.\n",
      "\n",
      "##BLORIS\n",
      "https://profile.theguardian.com/user/id/102973432\n",
      "\n",
      "Can't have done, no proof see. Because we didn't look.\n",
      "\n",
      "Sooooo. 2014 may have been, 2015 no idea. 2016 most certainly not, 2017 may or may not who the fuck cares, and 2019 well no Russian messing about here, well unless it involves Corbyn he is obviously a Russian plant left over from the cold war. I am sure Corbyn enjoys a good match with a Russian Oligarch or their wife… Wait, no hold on that’s wrong. But hey, you know it's only “Boris being Boris” I am sure it only happened once, and anyway who can stop someone bidding at an auction.” Oh, no wait. there was a rematch. I wonder who won. I know who lost, tens of millions of us.\n",
      "\n",
      "https://medium.com/@leewilson_/so-right-we-start-at-the-beginning-f5af9c86b776\n",
      "\n",
      "##ROIBERTABRUIS\n",
      "https://profile.theguardian.com/user/id/10915447\n",
      "\n",
      "You just couldn't make it up really.\n",
      "Much of the fishing in the North Sea, and the EU agreed fishing rights, are based upon historical reciprocal arrangements bound by international maritime law. These arrangements protect access to fishing in national waters going back hundreds of years.\n",
      "And as for the UK fishing fleet that trawls on an industrial scale it is in the ownership of a handful of individuals and half of them are in foreign ownership. The fishing rights Boris and Gove keep banging on about will be handed right back to the Spanish. It really is Pythonesque.\n",
      "\n",
      "##SCOTTKEYS\n",
      "https://profile.theguardian.com/user/id/102220884\n",
      "\n",
      "\"The free trade agreement that we will have to do with the European Union should be one of the easiest in human history\"\n",
      "This quote will go down in history a bit like George W. Bush's \"Mission Accomplished\". Its really surreal watching this play out... everyone is focused on COVID-19 Boris, take the opportunity to get an extension. Neither Britain or the EU is currently focused on Brexit. There is literally no rush regarding this, its a daft issue we shouldn't even be wasting resources on. COVID-19 and its economic consequences is not.\n",
      "\n",
      "##BAZGRA\n",
      "https://profile.theguardian.com/user/id/15161157\n",
      "\n",
      "I wonder how long and what'll it take before the UK comes to the EU for a handout? When recession and unemployment begin to bite then the Frugal Four of Europe will likely be first in line to help. Take the Netherlands, the role of which as tax haven is currently supreme. It'll not take lightly to Boris's proposed tax-free ports and will consider a pay-off/ deal/sweetener to block the competition. Expect a visit from 'our friends in Europe' in the spring......unless the Yanks get in first!\n",
      "\n",
      "##SCOTDUKE\n",
      "https://profile.theguardian.com/user/id/2955718\n",
      "\n",
      "If the UK does leave the EU without a deal due to our idiotic and incompetent government, the swift job losses as firms pull out, as well as the chaos at Dover and other ports, will be appalling. If the Tories really do go ahead with this, the impact will be savage. Boris and his cabinet of fools ill be booted out very quickly.\n",
      "But who would take over?\n",
      "\n",
      "##TONYXX\n",
      "https://profile.theguardian.com/user/id/15918575\n",
      "\n",
      "Boris wants no trade barriers with the EU on the condition the UK can trade freely with whoever it wants. He wants to eat all the cake and leave no crumbs for the EU!\n",
      "\n",
      "whilst the EU wants no trade barriers with the UK on condition that it can trade freely with whoever it wants plus it wants to have fill access to UK fishing waters\n",
      "\n",
      "##STRUTTINGPIG\n",
      "https://profile.theguardian.com/user/id/10577113\n",
      "\n",
      "You mean the point where Boris realises he's painted himself into a corner again, his friend Trump is history and with him the US trade deal and so will sign anything the EU cares to put in front of him. Like he did over the Ireland issue.To right, Boris likes his Bollinger too much to fuck his supply.\n",
      "\n",
      "##LOUISVANAARDT\n",
      "https://profile.theguardian.com/user/id/103088442\n",
      "\n",
      "One could say the Conservative party led by Boris and financially supported by A little Russian money , has given Putin an outstanding victory. With Brexit the British Bulldog has become America’s poodle. All we can hope for is that there is something left to salvage by the next election.\n",
      "\n",
      "##LOUISVANAARDT\n",
      "https://profile.theguardian.com/user/id/103088442\n",
      "\n",
      "One could say the Conservative party led by Boris and financially supported by A little Russian money , has given Putin an outstanding victory. With Brexit the British Bulldog has become America’s poodle. All we can hope for is that there is something left to salvage by the next election.\n",
      "\n",
      "##ODYSSIOS\n",
      "https://profile.theguardian.com/user/id/12051254\n",
      "\n",
      "'Marina, you're on quite a roll lately' ... or is that, 'Troll?' 'Troll Boris Trolled!' I can see the headlines now. Permission to laugh insanely , Sir / Madam/ prefer not to say?\n",
      "I always thought the end-times would be dramatic; global thermonuclear war, at least. But no. Such a let-down.\n",
      "\n",
      "##PEZLEY1\n",
      "https://profile.theguardian.com/user/id/100009219\n",
      "\n",
      "\"...trying to cover up your Nigel Farage neck tattoo by getting a slightly bigger Boris Johnson one on top of it.\"OK, this made me laugh until I choked! Oh god, Marina.... thank you so very much for your columns, they really are a beacon of sanity in a world gone batshit crazy!\n",
      "\n",
      "##BUSKERDOO\n",
      "https://profile.theguardian.com/user/id/12056797\n",
      "\n",
      "Let the happy idiots sing patriotic verse to Comrade Boris, find your own solace and resource. I literally started giving less of a shit about those who believe all the govt nonsense than I do about the dust on the skirting boards.\n",
      "Its the floating sensible ones to engage.\n",
      "\n",
      "##JAMES1992\n",
      "https://profile.theguardian.com/user/id/3277382\n",
      "\n",
      "You've got no idea what Brexit means in regards to trade with the EU or what Boris has already signed up to. Have a read and you may even figure out you've been mugged off like all the other morons who believed Boris and his halfwit chorus.\n",
      "\n",
      "##JAMES1992\n",
      "https://profile.theguardian.com/user/id/3277382\n",
      "\n",
      "You've got no idea what Brexit means in regards to trade with the EU or what Boris has already signed up to. Have a read and you may even figure out you've been mugged off like all the other morons who believed Boris and his halfwit chorus.\n",
      "\n",
      "##ODYSSIOS\n",
      "https://profile.theguardian.com/user/id/12051254\n",
      "\n",
      "I'm quite sure the EU is, and has been on many recent occasions, 'On the brink'. On the brink of telling the UK to go fuck itself. Which is what, in the end, will happen, by whatever name or circumlocution.\n",
      "On yer bike, Boris, Ausgefuck.\n",
      "\n",
      "##JAMES1992\n",
      "https://profile.theguardian.com/user/id/3277382\n",
      "\n",
      "It's all generic Boris bullshit. He'll sell out whoever necessary to get a deal when it comes down to the wire. The halfwit ERG xenophobes won't get a vote on it and the EU hold all the cards, especially on fishing rights.\n",
      "\n",
      "##RICKDAVIE\n",
      "https://profile.theguardian.com/user/id/4104240\n",
      "\n",
      "Boris wants no trade barriers with the EU on the condition the UK can trade freely with whoever it wants. He wants to eat all the cake and leave no crumbs for the EU! He thinks the EU will just Cave in to his demands.\n",
      "\n",
      "##ULENSPIEGEL\n",
      "https://profile.theguardian.com/user/id/11314558\n",
      "\n",
      "This is a bit like trying to cover up your Nigel Farage neck tattoo by getting a slightly bigger Boris Johnson one on top of it.\n",
      "\n",
      "But be careful, next year you need place for Gove to cover up Johnson.\n",
      "\n",
      "##BABOO\n",
      "https://profile.theguardian.com/user/id/3763856\n",
      "\n",
      "\"This is a bit like trying to cover up your Nigel Farage neck tattoo by getting a slightly bigger Boris Johnson one on top of it.\" Really, that was most amusing. Marina, you're on quite a roll lately.\n",
      "\n",
      "##PINKYBRAIN\n",
      "https://profile.theguardian.com/user/id/4686033\n",
      "\n",
      "If those people are dumb enough to believe in and vote for Boris, they will be dumb enough to believe his excuses and point the finger at whoever Boris blames for the coming mess.\n",
      "\n",
      "##SQUIDSIN1975\n",
      "https://profile.theguardian.com/user/id/15939286\n",
      "\n",
      "I recently discovered one of my best friends has signed up for all the 'we love Boris Johnson' FB pages. I'm actually slightly heartbroken! So yes, I think you're right.\n",
      "\n",
      "##D4V304K35\n",
      "https://profile.theguardian.com/user/id/16621828\n",
      "\n",
      "Thatcher. She wanted competent people.\n",
      "Well Boris wants people who blindly support Brexit.\n",
      "I'll let you draw your own conclusions on the competence of such people.\n",
      "\n",
      "##BLACKFLAMESOLUTIONS\n",
      "https://profile.theguardian.com/user/id/17984577\n",
      "\n",
      "Here in NL we complain about 'Europe' too. \n",
      "But no one sensible wants to leave the EU.\n",
      "Boris said something very similar in 2014.\n",
      "\n",
      "##BOGUSJOHNSON\n",
      "https://profile.theguardian.com/user/id/101909968\n",
      "\n",
      "Do you recall when Stalins finance minister paid Churchill to play tennis with his wife...no...that was Boris with Putin\n",
      "\n",
      "##2LIAMMAC\n",
      "https://profile.theguardian.com/user/id/100813309\n",
      "\n",
      "Boris and his brinks. The last thing Britain needs is more brinks Matt Hancock jobs.\n",
      "\n",
      "##TIJGER\n",
      "https://profile.theguardian.com/user/id/3819854\n",
      "\n",
      "Thats not a problem, Boris doesnt pay for the Bollinger.\n"
     ]
    }
   ],
   "source": [
    "target = 'decolon'\n",
    "target = ''\n",
    "\n",
    "\n",
    "xx = [x for x in all_comments if target.lower() in x.lower() and  len(x) > 20]\n",
    "yy = [x for x in all_comments if '#pin' in x.lower() and 2000 > len(x) > 20]\n",
    "\n",
    "#print('\\n\\n'.join( ['\\n\\n'.join(x) for x in zip(xx,yy)])  )\n",
    "\n",
    "\n",
    "print( '\\n\\n'.join(xx).replace(target, '**'+ target.upper() +'**') )\n",
    "#print( '\\n\\n'.join(xx) )\n"
   ]
  },
  {
   "cell_type": "code",
   "execution_count": 29,
   "metadata": {},
   "outputs": [
    {
     "data": {
      "text/plain": [
       "36"
      ]
     },
     "execution_count": 29,
     "metadata": {},
     "output_type": "execute_result"
    }
   ],
   "source": []
  },
  {
   "cell_type": "code",
   "execution_count": null,
   "metadata": {},
   "outputs": [],
   "source": []
  }
 ],
 "metadata": {
  "kernelspec": {
   "display_name": "NLPkernel",
   "language": "python",
   "name": "nlpkernel"
  },
  "language_info": {
   "codemirror_mode": {
    "name": "ipython",
    "version": 3
   },
   "file_extension": ".py",
   "mimetype": "text/x-python",
   "name": "python",
   "nbconvert_exporter": "python",
   "pygments_lexer": "ipython3",
   "version": "3.6.5"
  }
 },
 "nbformat": 4,
 "nbformat_minor": 2
}
