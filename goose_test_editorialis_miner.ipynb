{
 "cells": [
  {
   "cell_type": "markdown",
   "metadata": {},
   "source": [
    "# Let's get started\n",
    "\n",
    "Pull the front page and get the links.\n",
    "Some use BeautifulSoup to do this but regexp\n",
    "is more efficient"
   ]
  },
  {
   "cell_type": "code",
   "execution_count": 1,
   "metadata": {},
   "outputs": [],
   "source": [
    "import datetime, calendar\n",
    "mydate = datetime.datetime.now()\n",
    " \n",
    "yy, mm, dd = str(mydate).split(' ')[0].split('-')\n",
    "today = calendar.month_abbr[int(mm)].lower() + '/' + dd"
   ]
  },
  {
   "cell_type": "code",
   "execution_count": 5,
   "metadata": {},
   "outputs": [],
   "source": [
    "import requests\n",
    "import re\n",
    "pp = re.compile('<a href=\"(.*?)\".*?data-link-name=\"(.*?)\"', re.DOTALL)\n",
    "r = requests.get('https://www.theguardian.com/')\n",
    "\n",
    "\n",
    "lks =  set([ lk for lk, name in pp.findall(r.text) \n",
    "                       if name == 'article' and today in ])  \n",
    "\n"
   ]
  },
  {
   "cell_type": "code",
   "execution_count": 19,
   "metadata": {},
   "outputs": [
    {
     "ename": "NameError",
     "evalue": "name 'lks' is not defined",
     "output_type": "error",
     "traceback": [
      "\u001b[0;31m------------------------------------------------------------\u001b[0m",
      "\u001b[0;31mNameError\u001b[0m                  Traceback (most recent call last)",
      "\u001b[0;32m<ipython-input-19-6966fd47564c>\u001b[0m in \u001b[0;36m<module>\u001b[0;34m\u001b[0m\n\u001b[0;32m----> 1\u001b[0;31m \u001b[0mlist\u001b[0m\u001b[0;34m(\u001b[0m\u001b[0mlks\u001b[0m\u001b[0;34m)\u001b[0m\u001b[0;34m[\u001b[0m\u001b[0;34m:\u001b[0m\u001b[0;34m]\u001b[0m\u001b[0;34m\u001b[0m\u001b[0m\n\u001b[0m",
      "\u001b[0;31mNameError\u001b[0m: name 'lks' is not defined"
     ]
    }
   ],
   "source": [
    "list(lks)[:]"
   ]
  },
  {
   "cell_type": "code",
   "execution_count": 18,
   "metadata": {},
   "outputs": [
    {
     "ename": "NameError",
     "evalue": "name 'pp' is not defined",
     "output_type": "error",
     "traceback": [
      "\u001b[0;31m------------------------------------------------------------\u001b[0m",
      "\u001b[0;31mNameError\u001b[0m                  Traceback (most recent call last)",
      "\u001b[0;32m<ipython-input-18-e085f863f3ea>\u001b[0m in \u001b[0;36m<module>\u001b[0;34m\u001b[0m\n\u001b[0;32m----> 1\u001b[0;31m \u001b[0mpp\u001b[0m\u001b[0;34m.\u001b[0m\u001b[0mfindall\u001b[0m\u001b[0;34m(\u001b[0m\u001b[0mr\u001b[0m\u001b[0;34m.\u001b[0m\u001b[0mtext\u001b[0m\u001b[0;34m)\u001b[0m\u001b[0;34m\u001b[0m\u001b[0m\n\u001b[0m",
      "\u001b[0;31mNameError\u001b[0m: name 'pp' is not defined"
     ]
    }
   ],
   "source": [
    "pp.findall(r.text)"
   ]
  },
  {
   "cell_type": "code",
   "execution_count": null,
   "metadata": {},
   "outputs": [],
   "source": []
  },
  {
   "cell_type": "markdown",
   "metadata": {},
   "source": [
    "# Sorting the links\n",
    "\n",
    "I always write a class to do this.\n",
    "The object contains :\n",
    "\n",
    "- meta data\n",
    "- a payload\n",
    "- a unique identifier generated using a hash fucntion\n"
   ]
  },
  {
   "cell_type": "code",
   "execution_count": 4,
   "metadata": {},
   "outputs": [],
   "source": [
    "import hashlib\n",
    "\n",
    "class GuardianArt():\n",
    "    \n",
    "    def __init__(self, lk=\"\"):\n",
    "        self.raw = lk\n",
    "        self.id = str(hash(self))\n",
    "        \n",
    "        #this is the payload\n",
    "        self.goose_art = None\n",
    "        \n",
    "        #the rest is meta data\n",
    "        self.label = lk.split('/')[3]\n",
    "        self.tag = 'misc'\n",
    "        \n",
    "        \n",
    "        #change tag from misc if appropriate to do so \n",
    "        if ( lk.split('/')[4] in ['audio', 'video', 'gallery']):\n",
    "            self.tag = self.label = 'xmedia'    \n",
    "        elif (self.label == 'world' or 'news' in self.label):\n",
    "            self.tag = 'news'\n",
    "        elif self.label == 'commentisfree':\n",
    "            self.tag = 'op_ed'\n",
    "\n",
    "    def __hash__(self):\n",
    "        return int( hashlib.md5(self.raw.encode()).hexdigest(), 16)\n",
    "        \n",
    "    def __repr__(self):\n",
    "        return self.raw\n",
    "    \n",
    "    def __str__(self):\n",
    "        return self.raw\n",
    "\n",
    "\n",
    "arts = [GuardianArt(lk) for lk in lks]\n",
    "\n",
    "shit_list = ['xmedia', 'football', 'business', 'stage', 'sport'] \n",
    "arts = [art for art in arts \n",
    "             if art.label not in shit_list]\n",
    "\n",
    "#tags = set([art.tag for art in arts])\n",
    "misc = set([art.label for art in arts if art.tag == 'misc'])"
   ]
  },
  {
   "cell_type": "markdown",
   "metadata": {},
   "source": [
    "# Loading the articles\n",
    "\n",
    "This used to be hard but I use Goose to do this now"
   ]
  },
  {
   "cell_type": "code",
   "execution_count": 5,
   "metadata": {},
   "outputs": [
    {
     "name": "stdout",
     "output_type": "stream",
     "text": [
      "japanese-food-store-closes-after-videos-of-rats-browsing-its-shelves-go-viral\n",
      "stare-seagulls-out-to-save-your-snacks-researcher-says\n",
      "fossil-fuel-lobby-pollute-politics-climate-crisis\n",
      "no-deal-brexit-would-harm-uk-security-senior-officer-warns\n",
      "i-am-really-shy-introducing-phoenix-the-worlds-first-hijab-wearing-champion-wrestler\n",
      "high-speed-trains-to-nowhere-australias-long-running-rail-fail\n",
      "post-referendum-britain-royals-progressive-meghan-markle\n",
      "high-court-rules-public-servants-can-be-sacked-for-political-social-media-posts\n",
      "fight-for-our-lives-fiji-calls-world-leaders-selfish-as-it-lays-out-climate-crisis-blueprint\n",
      "hong-kong-protests-australia-issues-travel-alert-as-china-warns-of-worst-crisis-since-1997\n",
      "salisbury-attack-metropolitan-police-examine-role-vladimir-putin-russia\n",
      "kathy-burke-after-i-got-sick-the-toughest-thing-was-what-it-did-to-my-mental-health\n",
      "bondi-beach-mural-of-border-force-officers-defaced-after-council-vote-to-keep-it\n",
      "canada-manhunt-police-find-several-items-linked-to-suspects\n",
      "fossils-largest-parrot-ever-recorded-found-new-zealand-heracles-inexpectatus\n",
      "philippines-declares-epidemic-after-dengue-fever-kills-more-than-600\n",
      "papua-new-guinea-asks-china-to-refinance-its-national-debt-as-beijing-influence-grows\n",
      "camra-calls-time-on-sexist-names-at-great-british-beer-festival\n",
      "spain-road-trip-granada-alhambra-almeria-spaghetti-western\n",
      "budget-airline-disasters-low-cost-flying-nightmares\n",
      "masked-men-destroy-hong-kong-lennon-wall-at-australias-university-of-queensland\n"
     ]
    }
   ],
   "source": [
    "from goose3 import Goose\n",
    "#from  bs4 import BeautifulSoup\n",
    "\n",
    "gg = Goose()\n",
    "\n",
    "for art in arts:\n",
    "    print(  str(art).split('/')[-1],)\n",
    "    try:\n",
    "        art.goose_art = gg.extract(url=str(art) ) \n",
    "    except:\n",
    "        pass\n"
   ]
  },
  {
   "cell_type": "markdown",
   "metadata": {},
   "source": [
    "# Output to HTML\n",
    "\n",
    "There are libraries for doing HTML output from python \n",
    "but as often as not string formatting is easier."
   ]
  },
  {
   "cell_type": "code",
   "execution_count": 7,
   "metadata": {},
   "outputs": [],
   "source": [
    "header = '''<!DOCTYPE html>\n",
    "<html id=\"js-context\" class=\"js-off is-not-modern id--signed-out\" lang=\"en\" data-page-path=\"/international\">\n",
    "<head>\n",
    "<title>News, sport and opinion from the Guardian's global edition | The Guardian</title>\n",
    "<meta charset=\"utf-8\">\n",
    "</head>\n",
    "'''  \n",
    "\n",
    "headline_wrapper = '<h2 id=\"%s\">%s</h2>'\n",
    "keyword_wrapper = '<h4>%s</h4>'\n",
    "para_wrapper = \"<p>%s</p>\\n\\n\"\n",
    "toc_item_wrapper = '<a href=\"#%s\">%s</a><br>\\n'\n",
    "\n",
    "sections = ['news', 'op_ed', 'misc']\n",
    "text  = {x:[] for x in sections}\n",
    "tocs  = {x:[] for x in sections}\n",
    "\n",
    "\n",
    "for yy in arts:\n",
    "    #the goose object is stored in the article\n",
    "    art = yy.goose_art\n",
    "    \n",
    "    html_id = (yy.id, art.title)\n",
    "    tocs[yy.tag].append(html_id) \n",
    "    \n",
    "    html_text = ''.join( [para_wrapper%x for x in art.cleaned_text.split('\\n'*2)])\n",
    "    text[yy.tag].append('\\n\\n'.join([ headline_wrapper%html_id, \n",
    "                                      keyword_wrapper%art.meta_keywords, \n",
    "                                      html_text]))\n",
    "\n",
    "#write to a file remember to use a context cos it's cleaner   \n",
    "with  open('text.html','w') as fp:\n",
    "    fp.write(header + '<body>\\n')\n",
    "    \n",
    "    for ss in sections:\n",
    "        fp.write('<h1>%s</h1>'%ss.upper())\n",
    "        toc_html = [toc_item_wrapper%x for x in tocs[ss] ]\n",
    "        fp.write(''.join(toc_html) + '<br>\\n')\n",
    "        \n",
    "    for ss in sections:\n",
    "        fp.write('\\n'.join(text[ss]) )\n",
    "\n",
    "    fp.write('</body>\\n')"
   ]
  },
  {
   "cell_type": "code",
   "execution_count": null,
   "metadata": {},
   "outputs": [],
   "source": []
  },
  {
   "cell_type": "code",
   "execution_count": 1,
   "metadata": {},
   "outputs": [
    {
     "name": "stdout",
     "output_type": "stream",
     "text": [
      "0\n",
      "1\n",
      "2\n",
      "3\n",
      "4\n"
     ]
    }
   ],
   "source": [
    "def counter(n=0):\n",
    "    while 1:\n",
    "        yield(str(n))\n",
    "        n += 1\n",
    "\n",
    "get_id = counter(n=0)\n",
    "        \n",
    "for x in range(5):\n",
    "    print(next(get_id))\n",
    "    \n",
    "    "
   ]
  },
  {
   "cell_type": "code",
   "execution_count": 3,
   "metadata": {},
   "outputs": [
    {
     "name": "stdout",
     "output_type": "stream",
     "text": [
      "[\"<p>It's hard to convey what a dreadful experience this exhibition is. The best is bad, the worst beneath description. It is leaden, dull, pretentious, coarse, dishonest, desperate and futile. I cannot believe it is an accurate report on the state of German art, and if it is, what has gone wrong?</p>\\n\\n\", '<p>German art was the most consistently interesting and surprising of the past century. France sparkled in the 1900s, America after 1940. Germany alone was as provocatively creative in the 1980s as it had been in 1918. Not only that, a recognisable tradition connects the Dadaism of Hannah Höch and George Grosz, or the expressionism of Franz Marc and Emil Nolde in the first half of the century with the later brilliance of Joseph Beuys, Anselm Kiefer or Martin Kippenberger.</p>\\n\\n', \"<p>This is all the more surprising given how utterly German history was broken by Hitler. None of that survives in this wasteland of an exhibition. It claims to be identifying a new national spirit in German art, but the title gives away what this really is: a pathetic attempt to force German artists into the dated, flag-waving costume of Young British Art. They don't look good in it.</p>\\n\\n\", \"<p>Germany has always been more serious about art than us, and the power of its art lies in intellectual bravery - even German pop art looked like applied Marxist theory. Here, all that baggage has been evacuated as Young! artists strive to look stupid enough to fit in, like Lisa Simpson trying to dumb down to make friends. Unsuccessful imitations of Jeff Koons collide with unconvincing quotations of pop. A wistful text complains about the flute on Nico's Chelsea Girls. A flag is given a glitter makeover.</p>\\n\\n\", \"<p>Saddest of all are the painters, because you can tell they are capable of better. German post-war painting is such a living tradition. But André Butzer and Thomas Zipp have signed a contract that forbids taking themselves seriously. It's depressing to see German artists lobotomise themselves to the level of young British ones.</p>\\n\\n\", \"<p>When Charles Saatchi's Sensation toured to Berlin in the 1990s, it was reported that Germany was underwhelmed, and with good reason. But the acid of ignorance has, on this evidence, eaten into their culture after all.</p>\\n\\n\"]\n"
     ]
    }
   ],
   "source": [
    "#print(' \\n'.join([ x for x in dir(art) if x[0] != '_']) )\n",
    "wrapper = \"<p>%s</p>\\n\\n\"\n",
    "dd = [wrapper%x for x in art.cleaned_text.split('\\n'*2)]\n",
    "print(dd)\n"
   ]
  },
  {
   "cell_type": "code",
   "execution_count": 13,
   "metadata": {},
   "outputs": [
    {
     "name": "stdout",
     "output_type": "stream",
     "text": [
      "If not exactly a local saint, like Churchill or Florence Nightingale, Charles Dickens comes close enough for his reputation to have largely survived, to date, the documented mistreatment of his wife, Catherine, mother of his 10 children. She was publicly dumped by him, denigrated and separated from all but one of their children, having become fat and – to Dickens – dull.\n",
      "\n",
      "Indeed, as the playwright Martin McDonagh demonstrated in a recent play, A Very Very Very Dark Matter, the reputational damage has been so scant that his hilarious reimagining of the creator of Tiny Tim – as a foulmouthed, lecherous fraud – came across as not so much counterfactual as wildly blasphemous.\n",
      "\n",
      "It was natural, then, that last week’s revelation by John Bowen, professor of 19th century literature at the University of York that Dickens may have taken gaslighting his wife to the point of attempted false imprisonment would be received with dismay, even reluctance. “But he’s still a good man?” pleaded one prominent, male, interviewer, evidently eager to find some, any excuse, for a celebrated man who appears to have wanted to consign a sane woman, against her will, to a private asylum from which she would have been unlikely to escape.\n",
      "\n",
      "“If you were in a private asylum, discharge rates were a mere 10-14%,” writes Sarah Wise, the author of Inconvenient People, Lunacy, Liberty and the Mad-Doctors in Victorian England. But this, Bowen has now concluded from a cache of letters, is probably what Dickens intended for his wife. Before she died, he writes in the Times Literary Supplement, the dying Catherine confided in a friend, Edward Dutton Cook, who told another correspondent: “He even tried to shut her up in a lunatic asylum, poor thing! But bad as the law is in regard to proof of insanity he could not quite wrest it to his purpose.”\n",
      "\n",
      "The new information accords, as Bowen says, with existing evidence that Dickens, once he was besotted with Ellen Ternan, deliberately circulated lies about his wife’s sanity, alluding to “a mental disorder under which she sometimes labours”. Responding to Bowen’s discovery, Dickens’s biographer Clare Tomalin told MailOnline: “I think during this period he was mad effectively and their lives were thrown into turmoil.”\n",
      "\n",
      "Along with his possible insanity, any reputational readjustment must also take into account Dickens’s close friendship with a fellow gaslighter, Edward Bulwer-Lytton, a powerful politician and novelist, during a period Wise says was “the high-water mark of the Victorian malicious lunacy incarceration phenomenon”.\n",
      "\n",
      "After his (sane) estranged wife, Rosina, publicly denounced his “unexampled career of vice”, at a political hustings, Bulwer-Lytton secured the medical signatures needed to have her carried off, in 1858, to a private asylum, a nightmare she later described in A Blighted Life. (That same month, Bowen notes, the Dickenses separated.) “Never,” Rosina wrote, “was a more criminal or despotic Law passed than that which now enables a Husband to lock up his Wife in a Madhouse on the certificate of two medical men, who often in haste, frequently for a bribe, certify to madness where none exists.” Dickens, she describes as “that patent Humbug”.\n",
      "\n",
      "A year after Rosina escaped, Dickens published, in his journal All the Year Round, Wilkie Collins’s The Woman in White, based on a true story of false incarceration in a Parisian asylum. The principal villain, Sir Percival Glyde, says of one victim: “She’s just mad enough to be shut up and just sane enough to ruin me when she’s at large.”\n",
      "\n",
      "How substantial, if any, will be the damage to Dickens? Must he now shift into the creative subset, genius wife torturers, along with Philip Roth, Kingsley Amis, Picasso, Hemingway, Ted Hughes? His devotees could argue, against such an outcome, that Bulwer-Lytton got away with it. If, moreover, in the years since Dickens invented Catherine’s mental disorder health practitioners have become more reluctant to collaborate with controlling spouses, variations on gaslighting have definitely outlived him, in public as well as private life. While the responses to #MeToo, and The Archers storyline, have increased recognition of this form of abuse, crude public insinuations about the mental stability of prominent women remain, in contrast, permissible.\n",
      "\n",
      "Were, for example, the intentions of Andrew Neil notably enlightened, when the BBC presenter described my colleague, the award-winning journalist Carole Cadwalladr, as the “mad cat woman from [The]Simpsons, Karol Kodswallop”? Neither the BBC nor Neil apologised for his misogyny towards Cadwalladr, nor, with this high-profile rehearsal of the “crazy cat lady” meme, for this misguided contribution (following his colleagues’ mockery of Carrie Gracie) to the gendered denigration of strong or combative women as mental, shrill, hysterical, stroppy, bloody difficult, insufficiently calm.\n",
      "\n",
      "Already, the Tory recruits to the Independent Group have, being women, been described on social media as, variously, crazy, mental, barking mad, unhinged, hysterical, emotional, bonkers. At least one is, of course, a batshit crazy cat lady. A Mail writer adds, perhaps because Soubry ignores the Mail, that she drinks to excess.\n",
      "\n",
      "If it’s impossible to know how women in public might behave if their conduct were not continually up for shaming by the craziness police, a look at unusual behaviour that is considered permissible and rational in their male peers maybe hints at what public gaslighting suppresses. The rarity of any equivalent female eccentricity tells its own story.\n",
      "\n",
      "Under current, unspoken regulations, it would be impossible for a female politician to speak or dress or act with the affectation or disinhibition of, say, Jacob Rees-Mogg or Boris Johnson. The same, with his trusty shell-suit and sacks of allotment potatoes, his precious hoard of manhole covers and assorted jetsam, applies to that surely Dickensian figure, Jeremy Corbyn. There’s no need for mad-doctors, when a simple mention of crazy cat ladies will do the job.\n"
     ]
    }
   ],
   "source": [
    "print(article.cleaned_text)"
   ]
  },
  {
   "cell_type": "code",
   "execution_count": 24,
   "metadata": {},
   "outputs": [
    {
     "name": "stdout",
     "output_type": "stream",
     "text": [
      "page > https://www.theguardian.com/profile/afuahirsch?page=1\n",
      "page > https://www.theguardian.com/profile/afuahirsch?page=2\n",
      "page > https://www.theguardian.com/profile/afuahirsch?page=3\n",
      "page > https://www.theguardian.com/profile/afuahirsch?page=4\n",
      "page > https://www.theguardian.com/profile/afuahirsch?page=5\n",
      "page > https://www.theguardian.com/profile/afuahirsch?page=6\n",
      "page > https://www.theguardian.com/profile/afuahirsch?page=7\n",
      "page > https://www.theguardian.com/profile/afuahirsch?page=8\n",
      "page > https://www.theguardian.com/profile/afuahirsch?page=9\n",
      "page > https://www.theguardian.com/profile/afuahirsch?page=10\n",
      "page > https://www.theguardian.com/profile/afuahirsch?page=11\n",
      "page > https://www.theguardian.com/profile/afuahirsch?page=12\n",
      "page > https://www.theguardian.com/profile/afuahirsch?page=13\n",
      "page > https://www.theguardian.com/profile/afuahirsch?page=14\n",
      "page > https://www.theguardian.com/profile/afuahirsch?page=15\n",
      "page > https://www.theguardian.com/profile/afuahirsch?page=16\n",
      "page > https://www.theguardian.com/profile/afuahirsch?page=17\n",
      "page > https://www.theguardian.com/profile/afuahirsch?page=18\n",
      "page > https://www.theguardian.com/profile/afuahirsch?page=19\n",
      "page > https://www.theguardian.com/profile/afuahirsch?page=20\n",
      "page > https://www.theguardian.com/profile/afuahirsch?page=21\n",
      "page > https://www.theguardian.com/profile/afuahirsch?page=22\n",
      "page > https://www.theguardian.com/profile/afuahirsch?page=23\n",
      "page > https://www.theguardian.com/profile/afuahirsch?page=24\n",
      "page > https://www.theguardian.com/profile/afuahirsch?page=25\n",
      "page > https://www.theguardian.com/profile/afuahirsch?page=26\n",
      "page > https://www.theguardian.com/profile/afuahirsch?page=27\n",
      "page > https://www.theguardian.com/profile/afuahirsch?page=28\n",
      "page > https://www.theguardian.com/profile/afuahirsch?page=29\n",
      "page > https://www.theguardian.com/profile/afuahirsch?page=30\n",
      "page > https://www.theguardian.com/profile/afuahirsch?page=31\n",
      "page > https://www.theguardian.com/profile/afuahirsch?page=32\n",
      "page > https://www.theguardian.com/profile/afuahirsch?page=33\n",
      "page > https://www.theguardian.com/profile/afuahirsch?page=34\n",
      "page > https://www.theguardian.com/profile/afuahirsch?page=35\n",
      "page > https://www.theguardian.com/profile/afuahirsch?page=36\n",
      "page > https://www.theguardian.com/profile/afuahirsch?page=37\n",
      "page > https://www.theguardian.com/profile/afuahirsch?page=38\n",
      "page > https://www.theguardian.com/profile/afuahirsch?page=39\n",
      "page > https://www.theguardian.com/profile/afuahirsch?page=40\n",
      "page > https://www.theguardian.com/profile/afuahirsch?page=41\n",
      "page > https://www.theguardian.com/profile/afuahirsch?page=42\n",
      "page > https://www.theguardian.com/profile/afuahirsch?page=43\n",
      "page > https://www.theguardian.com/profile/afuahirsch?page=44\n",
      "page > https://www.theguardian.com/profile/afuahirsch?page=45\n",
      "\n",
      "Failed: https://www.theguardian.com/profile/afuahirsch?page=46 302\n"
     ]
    }
   ],
   "source": [
    "#from goose3 import Goose\n",
    "from  bs4 import BeautifulSoup\n",
    "\n",
    "import requests\n",
    "import re, os\n",
    "\n",
    "def get_series( key_word='profile/hadleyfreeman'):\n",
    "    \n",
    "    user_agent = {'User-agent': 'Mozilla/5.0'}\n",
    "    #needs to be https otherwise might provoke a redirect\n",
    "    base_url = 'https://www.theguardian.com/' + key_word\n",
    "    stuff = []\n",
    "    while True:  \n",
    "        #params instead of data bitch\n",
    "        params = {'page': len(stuff) + 1}\n",
    "        #if stuff == []: \n",
    "        #    params = \"\"\n",
    "        r = requests.get( base_url, \n",
    "                          allow_redirects=False,\n",
    "                          headers=user_agent, \n",
    "                          params=params)\n",
    "       \n",
    "        #this should fail with 301 i.e. redirect\n",
    "        if r.status_code != 200: \n",
    "            print('\\nFailed: %s'%r.url, r.status_code)\n",
    "            break\n",
    "        print('page >', r.url)\n",
    "        soup = BeautifulSoup(r.text)\n",
    "        stuff.append(soup.find_all(\"a\", {\"class\":\"fc-item__link\"}) )\n",
    "     \n",
    "    return stuff\n",
    "\n",
    "name = 'profile/marinahyde'\n",
    "subject ='world/black-lives-matter-movement'\n",
    "subject = 'society/transgender'\n",
    "subject = 'profile/julia-carrie-wong'\n",
    "subject = 'profile/rhiannon-lucy-cosslett'\n",
    "subject = 'profile/nesrinemalik'\n",
    "subject = '/profile/simone-lia'\n",
    "subject = 'profile/owen-jones'\n",
    "subject = 'society/transgender'\n",
    "subject = 'profile/afuahirsch'\n",
    "tt = get_series(key_word=subject)"
   ]
  },
  {
   "cell_type": "code",
   "execution_count": 2,
   "metadata": {},
   "outputs": [
    {
     "data": {
      "text/plain": [
       "'profile/owen-jones'"
      ]
     },
     "execution_count": 2,
     "metadata": {},
     "output_type": "execute_result"
    }
   ],
   "source": [
    "subject"
   ]
  },
  {
   "cell_type": "code",
   "execution_count": 25,
   "metadata": {},
   "outputs": [],
   "source": [
    "data = []\n",
    "for page in tt:\n",
    "    data.extend([(x.text.strip(), x['href'].split('/')[3], x['href']) for x in page])\n",
    "ppp, tag, urls = zip(*data)\n",
    "\n",
    "import csv\n",
    "\n",
    "with open('%s.csv'%subject.split('/')[-1], 'w') as fp:\n",
    "    fieldnames = ['Title','Tag', 'URL']\n",
    "    writer = csv.writer(fp)\n",
    "    writer.writerow(fieldnames)\n",
    "    for row in data:\n",
    "        writer.writerow(row)"
   ]
  },
  {
   "cell_type": "code",
   "execution_count": 6,
   "metadata": {},
   "outputs": [
    {
     "data": {
      "text/plain": [
       "'how_to_cry_as_a_man_hrt_gave_me_a_range_of_emotions_i_never_thought'"
      ]
     },
     "execution_count": 6,
     "metadata": {},
     "output_type": "execute_result"
    }
   ],
   "source": [
    "src = urls[2]\n",
    "fn = '_'.join(src.split('/')[-1].split('-')[2:-1])\n",
    "fn"
   ]
  },
  {
   "cell_type": "code",
   "execution_count": 8,
   "metadata": {},
   "outputs": [],
   "source": [
    "titles, sections, urls = zip(*data)"
   ]
  },
  {
   "cell_type": "code",
   "execution_count": 10,
   "metadata": {},
   "outputs": [
    {
     "data": {
      "text/plain": [
       "'housing-network tv-and-radio media theobserver technology music world sport inequality social-care-network business uk-news lifeandstyle commentisfree fashion childrens-books-site global-development-professionals-network voluntary-sector-network culture-professionals-network stage artanddesign culture society teacher-network australia-news law global-development film travel membership news education football books us-news global science cities sustainable-business careers theguardian games uk politics'"
      ]
     },
     "execution_count": 10,
     "metadata": {},
     "output_type": "execute_result"
    }
   ],
   "source": [
    "' '.join(list(set(sections)))"
   ]
  },
  {
   "cell_type": "code",
   "execution_count": 16,
   "metadata": {},
   "outputs": [
    {
     "data": {
      "text/html": [
       "<div>\n",
       "<style scoped>\n",
       "    .dataframe tbody tr th:only-of-type {\n",
       "        vertical-align: middle;\n",
       "    }\n",
       "\n",
       "    .dataframe tbody tr th {\n",
       "        vertical-align: top;\n",
       "    }\n",
       "\n",
       "    .dataframe thead th {\n",
       "        text-align: right;\n",
       "    }\n",
       "</style>\n",
       "<table border=\"1\" class=\"dataframe\">\n",
       "  <thead>\n",
       "    <tr style=\"text-align: right;\">\n",
       "      <th></th>\n",
       "      <th>title</th>\n",
       "      <th>sextion</th>\n",
       "    </tr>\n",
       "  </thead>\n",
       "  <tbody>\n",
       "    <tr>\n",
       "      <th>0</th>\n",
       "      <td>Ask Hadley  Has Victoria’s Secret’s offensive ...</td>\n",
       "      <td>fashion</td>\n",
       "    </tr>\n",
       "    <tr>\n",
       "      <th>1</th>\n",
       "      <td>The look I love  Caitlyn Jenner: ‘It was tough...</td>\n",
       "      <td>fashion</td>\n",
       "    </tr>\n",
       "    <tr>\n",
       "      <th>2</th>\n",
       "      <td>Marketing boss quits Victoria's Secret after f...</td>\n",
       "      <td>fashion</td>\n",
       "    </tr>\n",
       "    <tr>\n",
       "      <th>3</th>\n",
       "      <td>The look I love  Munroe Bergdorf: ‘At the begi...</td>\n",
       "      <td>fashion</td>\n",
       "    </tr>\n",
       "    <tr>\n",
       "      <th>4</th>\n",
       "      <td>The Fashion spring/summer 2019  Munroe Bergdor...</td>\n",
       "      <td>fashion</td>\n",
       "    </tr>\n",
       "    <tr>\n",
       "      <th>5</th>\n",
       "      <td>'Every step I take is a defiance': Rain Dove o...</td>\n",
       "      <td>fashion</td>\n",
       "    </tr>\n",
       "    <tr>\n",
       "      <th>6</th>\n",
       "      <td>Ask Hadley  Tantrums over tiaras … how to navi...</td>\n",
       "      <td>fashion</td>\n",
       "    </tr>\n",
       "    <tr>\n",
       "      <th>7</th>\n",
       "      <td>Hari Nef: ‘Identity is a dead end. It’s a snoo...</td>\n",
       "      <td>fashion</td>\n",
       "    </tr>\n",
       "    <tr>\n",
       "      <th>8</th>\n",
       "      <td>How I get ready  Boy Meets Girl’s Rebecca Root...</td>\n",
       "      <td>fashion</td>\n",
       "    </tr>\n",
       "    <tr>\n",
       "      <th>9</th>\n",
       "      <td>Transparent: finally, a realistic portrayal of...</td>\n",
       "      <td>fashion</td>\n",
       "    </tr>\n",
       "    <tr>\n",
       "      <th>10</th>\n",
       "      <td>Tschan Andrews: 'The Zoolander 2 trailer is ju...</td>\n",
       "      <td>fashion</td>\n",
       "    </tr>\n",
       "    <tr>\n",
       "      <th>11</th>\n",
       "      <td>Transgender models: on a high street near you</td>\n",
       "      <td>fashion</td>\n",
       "    </tr>\n",
       "    <tr>\n",
       "      <th>12</th>\n",
       "      <td>Kim Kardashian may have broken the internet, b...</td>\n",
       "      <td>fashion</td>\n",
       "    </tr>\n",
       "    <tr>\n",
       "      <th>13</th>\n",
       "      <td>Top modelling agency IMG signs transgender mod...</td>\n",
       "      <td>fashion</td>\n",
       "    </tr>\n",
       "    <tr>\n",
       "      <th>14</th>\n",
       "      <td>Fashion blog  How voguing came back into vogue</td>\n",
       "      <td>fashion</td>\n",
       "    </tr>\n",
       "  </tbody>\n",
       "</table>\n",
       "</div>"
      ],
      "text/plain": [
       "                                                title  sextion\n",
       "0   Ask Hadley  Has Victoria’s Secret’s offensive ...  fashion\n",
       "1   The look I love  Caitlyn Jenner: ‘It was tough...  fashion\n",
       "2   Marketing boss quits Victoria's Secret after f...  fashion\n",
       "3   The look I love  Munroe Bergdorf: ‘At the begi...  fashion\n",
       "4   The Fashion spring/summer 2019  Munroe Bergdor...  fashion\n",
       "5   'Every step I take is a defiance': Rain Dove o...  fashion\n",
       "6   Ask Hadley  Tantrums over tiaras … how to navi...  fashion\n",
       "7   Hari Nef: ‘Identity is a dead end. It’s a snoo...  fashion\n",
       "8   How I get ready  Boy Meets Girl’s Rebecca Root...  fashion\n",
       "9   Transparent: finally, a realistic portrayal of...  fashion\n",
       "10  Tschan Andrews: 'The Zoolander 2 trailer is ju...  fashion\n",
       "11      Transgender models: on a high street near you  fashion\n",
       "12  Kim Kardashian may have broken the internet, b...  fashion\n",
       "13  Top modelling agency IMG signs transgender mod...  fashion\n",
       "14     Fashion blog  How voguing came back into vogue  fashion"
      ]
     },
     "execution_count": 16,
     "metadata": {},
     "output_type": "execute_result"
    }
   ],
   "source": [
    "target = [x for x in data if x[1] in ['fashion']]\n",
    "len(target)\n",
    "tt, ss, uu = zip(*target)\n",
    "import pandas as pd\n",
    "\n",
    "pd.DataFrame({'title': tt, 'sextion': ss})"
   ]
  },
  {
   "cell_type": "code",
   "execution_count": 21,
   "metadata": {},
   "outputs": [
    {
     "name": "stdout",
     "output_type": "stream",
     "text": [
      "0\n"
     ]
    }
   ],
   "source": [
    "#this is so that it works nicely on a restart    \n",
    "prefix, start  = 'pd', 0\n",
    "fns = [ int(x[len(prefix):]) for x in os.listdir('.') if x[:len(prefix)] ==  prefix ]\n",
    "if fns : start = max(fns) + 1\n",
    "    \n",
    "print(start)\n",
    "miner(uu, start=start, prefix=prefix)\n",
    "    "
   ]
  },
  {
   "cell_type": "code",
   "execution_count": 65,
   "metadata": {},
   "outputs": [
    {
     "name": "stdout",
     "output_type": "stream",
     "text": [
      "Getting 0\n",
      "Getting 1\n",
      "Getting 2\n",
      "Getting 3\n",
      "Getting 4\n",
      "Getting 5\n",
      "Getting 6\n",
      "Getting 7\n",
      "Getting 8\n",
      "Getting 9\n",
      "Getting 10\n",
      "Getting 11\n",
      "Getting 12\n"
     ]
    }
   ],
   "source": [
    "\n",
    "pc = re.compile('href=\"(.*?)\"', re.DOTALL)\n",
    "\n",
    "ims = [ x for x in pc.findall(r.text) if \"comics\" in x]\n",
    "pics = [ x for x in re.split('[=\\+&]+',ims[0]) if 'jpg' in x]\n",
    "\n",
    "for k, url in enumerate(pics):\n",
    "    print('Getting', k)\n",
    "    with open(fn + '_{:02}.jpg'.format(k),'wb') as fp:\n",
    "        fp.write(requests.get(url).content)\n"
   ]
  },
  {
   "cell_type": "code",
   "execution_count": 64,
   "metadata": {},
   "outputs": [
    {
     "data": {
      "text/plain": [
       "'05'"
      ]
     },
     "execution_count": 64,
     "metadata": {},
     "output_type": "execute_result"
    }
   ],
   "source": [
    "\"{:02}\".format(5)"
   ]
  },
  {
   "cell_type": "code",
   "execution_count": 5,
   "metadata": {},
   "outputs": [],
   "source": [
    "from collections import Counter"
   ]
  },
  {
   "cell_type": "code",
   "execution_count": 19,
   "metadata": {},
   "outputs": [
    {
     "data": {
      "text/plain": [
       "'tv-and-radio'"
      ]
     },
     "execution_count": 19,
     "metadata": {},
     "output_type": "execute_result"
    }
   ],
   "source": [
    "data[0][1]"
   ]
  },
  {
   "cell_type": "code",
   "execution_count": 21,
   "metadata": {},
   "outputs": [],
   "source": [
    "xx = Counter([x[1] for x in data])\n",
    "tags = Counter([x[1] for x in data])"
   ]
  },
  {
   "cell_type": "code",
   "execution_count": 22,
   "metadata": {},
   "outputs": [
    {
     "name": "stdout",
     "output_type": "stream",
     "text": [
      "artanddesign\n",
      "books\n",
      "cities\n",
      "commentisfree\n",
      "education\n",
      "environment\n",
      "fashion\n",
      "global\n",
      "lifeandstyle\n",
      "media\n",
      "money\n",
      "music\n",
      "politics\n",
      "society\n",
      "technology\n",
      "theguardian\n",
      "travel\n",
      "tv-and-radio\n",
      "uk-news\n",
      "world\n"
     ]
    }
   ],
   "source": [
    "[ (tag, total) for tag, total in xx.items() if total >5]\n",
    "print('\\n'.join([ x for x in sorted(tags.keys())]) )"
   ]
  },
  {
   "cell_type": "code",
   "execution_count": 13,
   "metadata": {},
   "outputs": [],
   "source": [
    "bag = [x  for x in data if ' '.join(x[0].split()[:2]).lower() == 'we must']\n",
    "bag = [x  for x in data if ' '.join(x[0].split()[:2]).lower() != 'podcast the']\n",
    "bag =  [ x for x in data if 'transphob' in x[0].lower() ]\n",
    "titles, urls = zip(*bag)\n",
    "with open('urls.txt','w') as fp:\n",
    "    fp.write('\\n'.join(urls))\n",
    "    \n"
   ]
  },
  {
   "cell_type": "code",
   "execution_count": 23,
   "metadata": {},
   "outputs": [
    {
     "data": {
      "text/plain": [
       "Counter({'tv-and-radio': 6,\n",
       "         'commentisfree': 372,\n",
       "         'lifeandstyle': 27,\n",
       "         'books': 16,\n",
       "         'society': 5,\n",
       "         'world': 5,\n",
       "         'artanddesign': 3,\n",
       "         'environment': 1,\n",
       "         'uk-news': 1,\n",
       "         'money': 3,\n",
       "         'music': 1,\n",
       "         'media': 3,\n",
       "         'politics': 3,\n",
       "         'education': 2,\n",
       "         'cities': 1,\n",
       "         'global': 4,\n",
       "         'travel': 22,\n",
       "         'theguardian': 15,\n",
       "         'technology': 1,\n",
       "         'fashion': 2})"
      ]
     },
     "execution_count": 23,
     "metadata": {},
     "output_type": "execute_result"
    }
   ],
   "source": [
    "tags"
   ]
  },
  {
   "cell_type": "code",
   "execution_count": 58,
   "metadata": {},
   "outputs": [
    {
     "data": {
      "text/plain": [
       "(\"We must all share the blame for our 'useless' politicians\",\n",
       " \"We must brave the rage, and take on won't-pay fathers\",\n",
       " 'We must hold our nerve and support deprived children',\n",
       " 'We must be free to criticise without being called racist',\n",
       " 'We must save the dome for sport and rock concerts',\n",
       " 'We must save the BBC: it is too precious to switch off')"
      ]
     },
     "execution_count": 58,
     "metadata": {},
     "output_type": "execute_result"
    }
   ],
   "source": [
    "titles[:]"
   ]
  },
  {
   "cell_type": "code",
   "execution_count": 20,
   "metadata": {},
   "outputs": [
    {
     "name": "stdout",
     "output_type": "stream",
     "text": [
      "0\n"
     ]
    }
   ],
   "source": [
    "from goose3 import Goose\n",
    "import time, os\n",
    "\n",
    "def miner(urls, \n",
    "          start=0, \n",
    "          prefix=''):\n",
    "    \n",
    "    #with open('urls.txt','r') as fp:\n",
    "    #    urls = list(fp.readlines())\n",
    "\n",
    "    gg = Goose()\n",
    "    failed = []\n",
    "    for k, url in enumerate(urls[start:]):\n",
    "        \n",
    "        url = url.strip()\n",
    "        ss = str(k + start)\n",
    "        fn = prefix + '0'*(4 - len(ss)) + ss\n",
    "        try:\n",
    "            art = gg.extract( url=url)\n",
    "            with open(fn,'w') as fp:    \n",
    "                fp.write('\\n\\n'.join([art.title, art.meta_keywords, art.cleaned_text, url]))\n",
    "        except:\n",
    "            failed.append( url)\n",
    "        time.sleep(5)\n",
    "\n",
    "    with open('failed.txt','w') as ffp:\n",
    "        ffp.write('\\n'.join(failed))\n",
    "\n",
    "#this is so that it works nicely on a restart    \n",
    "prefix, start  = 'hh', 0\n",
    "fns = [ int(x[len(prefix):]) for x in os.listdir('.') if x[:len(prefix)] ==  prefix ]\n",
    "if fns : start = max(fns) + 1\n",
    "    \n",
    "print(start)\n",
    "#miner(start=start, prefix=prefix)\n",
    "    \n",
    "    \n",
    "        "
   ]
  },
  {
   "cell_type": "code",
   "execution_count": 37,
   "metadata": {},
   "outputs": [
    {
     "data": {
      "text/plain": [
       "'3000'"
      ]
     },
     "execution_count": 37,
     "metadata": {},
     "output_type": "execute_result"
    }
   ],
   "source": [
    "k = 3000\n",
    "ss = str(k)\n",
    "fn = '0'*(4 - len(ss)) + ss\n",
    "fn"
   ]
  },
  {
   "cell_type": "code",
   "execution_count": null,
   "metadata": {},
   "outputs": [],
   "source": [
    "len(urls)\n"
   ]
  },
  {
   "cell_type": "code",
   "execution_count": null,
   "metadata": {},
   "outputs": [
    {
     "name": "stdout",
     "output_type": "stream",
     "text": [
      "Transphobia row leaves Scottish poetry scene in turmoil\n",
      "\n",
      "Books,Culture,Scotland,Poetry,Transgender,UK news,PEN\n",
      "\n",
      "A bitter conflict is escalating in the Scottish literary scene with the Scottish\n",
      " Poetry Library (SPL) standing accused of “institutional transphobia” after it s\n",
      "aid that it would not support “bullying and calls for no-platforming of writers”\n",
      ".\n",
      "\n",
      "The organisation – an influential part of Scotland’s thriving poetry scene – rel\n",
      "eased its statement in February after what it described as an “escalation, parti\n",
      "cularly on social media, of disharmony” and an increase in writers being no-plat\n",
      "formed at literary events. It stressed that the statement was to encourage freed\n",
      "om of expression and was not tied to a specific incident, but, speaking to the N\n",
      "ational, SPL director Asif Khan said that these issues had affected the mental h\n",
      "ealth of some unnamed poets, claiming some had become suicidal.\n",
      "\n",
      "The issue was raised in the Scottish parliament on Tuesday, where the SNP’s Joan\n",
      " McAlpine said it was “worrying that women such as feminist poets in Scotland, J\n",
      "enny Lindsay and Magi Gibson, have been subject to online mobs trying to stop th\n",
      "em getting work or blocking their performances”.\n",
      "\n",
      "The library stressed that it had spoken out to encourage freedom of expression. \n",
      "\u001b[7m--More--(23%)\u001b[m"
     ]
    }
   ],
   "source": [
    "! more hh0000"
   ]
  },
  {
   "cell_type": "code",
   "execution_count": null,
   "metadata": {},
   "outputs": [],
   "source": []
  }
 ],
 "metadata": {
  "kernelspec": {
   "display_name": "NLPkernel",
   "language": "python",
   "name": "nlpkernel"
  },
  "language_info": {
   "codemirror_mode": {
    "name": "ipython",
    "version": 3
   },
   "file_extension": ".py",
   "mimetype": "text/x-python",
   "name": "python",
   "nbconvert_exporter": "python",
   "pygments_lexer": "ipython3",
   "version": "3.6.5"
  }
 },
 "nbformat": 4,
 "nbformat_minor": 2
}
