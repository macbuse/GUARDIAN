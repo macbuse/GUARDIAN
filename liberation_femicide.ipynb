{
 "cells": [
  {
   "cell_type": "code",
   "execution_count": 75,
   "metadata": {},
   "outputs": [],
   "source": [
    "url = 'https://www.liberation.fr/apps/2018/02/meurtres-conjugaux-derriere-les-chiffres/static/data.csv'"
   ]
  },
  {
   "cell_type": "code",
   "execution_count": 76,
   "metadata": {},
   "outputs": [],
   "source": [
    "import requests\n",
    "\n",
    "user_agent = {'User-Agent': \"Mozilla/5.0 (X11; CrOS x86_64 13099.62.0) AppleWebKit/537.36 (KHTML, like Gecko) Chrome/84.0.4147.83 Safari/537.36\",\n",
    "             'Referer': 'https://www.liberation.fr/apps/2018/02/meurtres-conjugaux-derriere-les-chiffres/'}\n",
    "\n",
    "\n",
    "  \n",
    "r = requests.get(url, \n",
    "                headers=user_agent)"
   ]
  },
  {
   "cell_type": "code",
   "execution_count": 4,
   "metadata": {},
   "outputs": [
    {
     "data": {
      "text/plain": [
       "<Response [200]>"
      ]
     },
     "execution_count": 4,
     "metadata": {},
     "output_type": "execute_result"
    }
   ],
   "source": [
    "r"
   ]
  },
  {
   "cell_type": "code",
   "execution_count": 77,
   "metadata": {},
   "outputs": [],
   "source": [
    "with open('femicides2.csv','w') as fp:\n",
    "    fp.write(r.text)"
   ]
  },
  {
   "cell_type": "code",
   "execution_count": 2,
   "metadata": {},
   "outputs": [],
   "source": [
    "import pandas as pd\n",
    "\n",
    "import matplotlib.pyplot as plt\n",
    "import numpy as np "
   ]
  },
  {
   "cell_type": "code",
   "execution_count": 78,
   "metadata": {},
   "outputs": [],
   "source": [
    "df = pd.read_csv('femicides2.csv')"
   ]
  },
  {
   "cell_type": "code",
   "execution_count": 79,
   "metadata": {},
   "outputs": [
    {
     "data": {
      "text/plain": [
       "389"
      ]
     },
     "execution_count": 79,
     "metadata": {},
     "output_type": "execute_result"
    }
   ],
   "source": [
    "len(df)"
   ]
  },
  {
   "cell_type": "code",
   "execution_count": 80,
   "metadata": {},
   "outputs": [
    {
     "data": {
      "text/plain": [
       "\"pÃ©e avec une casserole par son mari malade\\netranglÃ©e alors qu'elle venait rÃ©cupÃ©rer des affaires\\nfrappÃ©e Ã\\xa0 plusieurs reprises au visage et Ã\\xa0 la tÃªte par son ex qui avait dÃ©jÃ\\xa0 Ã©tÃ© condamnÃ© pour des violences\\nRenversÃ©e en voiture par son ex alors qu'elle Ã©tait avec son compagnon\\nabattue dâ\\x80\\x99un tir de fusil de chasse dans la cour de lâ\\x80\\x99exploitation agricole oÃ¹ elle travaillait\\npoignardÃ©e chez elle   \\npoignardÃ©e dans son lit \\nbattue Ã\\xa0 mort chez elle\\n24 coups de couteau, principalement au visage et dans le cou dans sa cuisine / divorce en cours / antÃ©cÃ©dents violences\\n45 coups de couteau, principalement Ã\\xa0 lâ\\x80\\x99abdomen / Â«adulte protÃ©gÃ©eÂ», rencontre Ã\\xa0 l'HP / alcool\\npoignardÃ©e Ã\\xa0 11 reprises dans lâ\\x80\\x99abdomen en voiture / compagnon connu pour violences\\ntuÃ©e avec une arme de poing par son mari qui souffrait d'un cancer et s'est ensuite suicidÃ©\\nabattue devant chez elle de deux balles\\ntouchÃ©e par un tir dans le dos aprÃ¨s une dispute avec son compagnon, policier / c\""
      ]
     },
     "execution_count": 80,
     "metadata": {},
     "output_type": "execute_result"
    }
   ],
   "source": [
    "txt = '\\n'.join(df.dropna(subset=['circonstances'])['circonstances'])\n",
    "txt[1000:2000]"
   ]
  },
  {
   "cell_type": "code",
   "execution_count": 92,
   "metadata": {},
   "outputs": [],
   "source": [
    "import re\n",
    "\n",
    "px = re.compile('Ã.')\n",
    "\n",
    "set(px.findall(txt))\n",
    "\n",
    "trans = {'Ã\\xa0' : 'à', 'Ã¢' : '', \n",
    " 'Ã§' : 'ç',\n",
    " 'Ã¨' : 'è', 'Ã©' : 'é', 'Ãª' : 'ê', 'Ã«' : 'e',\n",
    "  'Ã´' : 'ô',\n",
    " 'â\\x80\\x99' : \"'\", 'Â«' : '\"', 'Â»' : '\"',\n",
    " 'Ã®' : 'î', 'Ã»' : 'û',  'Ã¹' : 'ù'\n",
    "}\n",
    "\n",
    "def clean_txt(txt):\n",
    "    tt = txt[:]\n",
    "    for x, y in trans.items():\n",
    "        tt = tt.replace(x,y)\n",
    "    return tt\n",
    "\n",
    "#print(tt)"
   ]
  },
  {
   "cell_type": "code",
   "execution_count": 83,
   "metadata": {},
   "outputs": [
    {
     "data": {
      "image/png": "[encoded data removed]",
      "text/plain": [
       "<Figure size 432x288 with 1 Axes>"
      ]
     },
     "metadata": {
      "needs_background": "light"
     },
     "output_type": "display_data"
    }
   ],
   "source": [
    "import re\n",
    "\n",
    "pp = re.compile('\\d+')\n",
    "ages = [int(x) for x in pp.findall( ' '.join(df['age']))]\n",
    "\n",
    "plt.hist( ages, bins = 14);"
   ]
  },
  {
   "cell_type": "code",
   "execution_count": 87,
   "metadata": {},
   "outputs": [],
   "source": [
    "set([ x.lower().strip() for x in df['mois'].values ]) \n",
    "\n",
    "df['mois'] = np.array([month2num[x.lower().strip()] \n",
    "                       for x in df['mois'].values])"
   ]
  },
  {
   "cell_type": "code",
   "execution_count": 86,
   "metadata": {},
   "outputs": [],
   "source": [
    "month2num = {'aoã»t' : 8,\n",
    " 'avril' : 4,\n",
    " 'dã©cembre' : 12,\n",
    " 'fã©vrier': 2,\n",
    " 'janvier' : 1,\n",
    " 'juillet' : 7,\n",
    " 'juin' : 6,\n",
    " 'mai' : 5,\n",
    " 'mars' : 3,\n",
    " 'novembre' : 11,\n",
    " 'octobre' : 10,\n",
    " 'septembre' : 9}"
   ]
  },
  {
   "cell_type": "code",
   "execution_count": 88,
   "metadata": {},
   "outputs": [],
   "source": [
    "dd = {}\n",
    "\n",
    "for yy in range(2017,2021):\n",
    "    dd[yy] = [len( df[(df['annee'] == yy) & (df['mois'] == k)])\n",
    "              for k in range(1, 7) ]"
   ]
  },
  {
   "cell_type": "code",
   "execution_count": 89,
   "metadata": {},
   "outputs": [
    {
     "data": {
      "image/png": "[encoded data removed]",
      "text/plain": [
       "<Figure size 432x288 with 1 Axes>"
      ]
     },
     "metadata": {
      "needs_background": "light"
     },
     "output_type": "display_data"
    }
   ],
   "source": [
    "cc = [c for c in 'rgby']\n",
    "\n",
    "for yy in range(2017,2021):\n",
    "    plt.plot(dd[yy], cc.pop(0) + '-')"
   ]
  },
  {
   "cell_type": "code",
   "execution_count": 90,
   "metadata": {},
   "outputs": [],
   "source": [
    "ddf = df[df['age'] != '?']"
   ]
  },
  {
   "cell_type": "code",
   "execution_count": 99,
   "metadata": {},
   "outputs": [
    {
     "name": "stdout",
     "output_type": "stream",
     "text": [
      "Strangulation\n",
      "Arme blanche\n",
      "Ecrasée par un train\n",
      "Strangulation\n",
      "Asphyxie\n",
      "Strangulation\n",
      "Arme blanche\n",
      "Arme à feu\n",
      "Arme blanche\n",
      "Brulée \n",
      "Arme blanche\n",
      "Arme à feu\n",
      "Défenestrée\n",
      "coups\n",
      "étranglement\n",
      "coups (batte ou rouleau)\n",
      "voiture\n",
      "couteau\n",
      "arme à feu\n",
      "revolver\n",
      "coups de couteau\n",
      "couteau\n",
      "couteau\n",
      "arme à feu\n",
      "strangulation \n",
      "couteau\n",
      "étouffement\n",
      "coups\n",
      "arme blanche\n",
      "étranglée\n",
      "arme blanche\n",
      "défenestrée\n",
      "couteau\n",
      "strangulation \n",
      "percutée par un véhicule\n",
      "?\n",
      "arme blanche\n",
      "poignard\n",
      "coups\n",
      "arme blanche\n",
      "arme à feu\n"
     ]
    }
   ],
   "source": [
    " mask = (30 < ddf['age'].astype(int))  &  (ddf['age'].astype(int) < 35)\n",
    "    \n",
    "print( clean_txt( '\\n'.join(ddf[mask]['mode opÃ©ratoire']) ) )"
   ]
  },
  {
   "cell_type": "code",
   "execution_count": null,
   "metadata": {},
   "outputs": [],
   "source": []
  }
 ],
 "metadata": {
  "kernelspec": {
   "display_name": "Python 3",
   "language": "python",
   "name": "python3"
  },
  "language_info": {
   "codemirror_mode": {
    "name": "ipython",
    "version": 3
   },
   "file_extension": ".py",
   "mimetype": "text/x-python",
   "name": "python",
   "nbconvert_exporter": "python",
   "pygments_lexer": "ipython3",
   "version": "3.6.5"
  }
 },
 "nbformat": 4,
 "nbformat_minor": 2
}
