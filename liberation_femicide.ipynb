{
 "cells": [
  {
   "cell_type": "code",
   "execution_count": 1,
   "metadata": {},
   "outputs": [],
   "source": [
    "url = 'https://www.liberation.fr/apps/2018/02/meurtres-conjugaux-derriere-les-chiffres/static/data.csv'"
   ]
  },
  {
   "cell_type": "code",
   "execution_count": 2,
   "metadata": {},
   "outputs": [],
   "source": [
    "import requests\n",
    "\n",
    "user_agent = {'User-Agent': \"Mozilla/5.0 (X11; CrOS x86_64 13099.62.0) AppleWebKit/537.36 (KHTML, like Gecko) Chrome/84.0.4147.83 Safari/537.36\",\n",
    "             'Referer': 'https://www.liberation.fr/apps/2018/02/meurtres-conjugaux-derriere-les-chiffres/'}\n",
    "\n",
    "\n",
    "  \n",
    "r = requests.get(url, \n",
    "                headers=user_agent)"
   ]
  },
  {
   "cell_type": "code",
   "execution_count": 3,
   "metadata": {},
   "outputs": [
    {
     "data": {
      "text/plain": [
       "<Response [200]>"
      ]
     },
     "execution_count": 3,
     "metadata": {},
     "output_type": "execute_result"
    }
   ],
   "source": [
    "r"
   ]
  },
  {
   "cell_type": "code",
   "execution_count": 4,
   "metadata": {},
   "outputs": [],
   "source": [
    "with open('femicides3.csv','w') as fp:\n",
    "    fp.write(r.text)"
   ]
  },
  {
   "cell_type": "code",
   "execution_count": 5,
   "metadata": {},
   "outputs": [],
   "source": [
    "import pandas as pd\n",
    "import matplotlib.pyplot as plt\n",
    "import numpy as np "
   ]
  },
  {
   "cell_type": "code",
   "execution_count": 29,
   "metadata": {},
   "outputs": [
    {
     "data": {
      "text/html": [
       "<div>\n",
       "<style scoped>\n",
       "    .dataframe tbody tr th:only-of-type {\n",
       "        vertical-align: middle;\n",
       "    }\n",
       "\n",
       "    .dataframe tbody tr th {\n",
       "        vertical-align: top;\n",
       "    }\n",
       "\n",
       "    .dataframe thead th {\n",
       "        text-align: right;\n",
       "    }\n",
       "</style>\n",
       "<table border=\"1\" class=\"dataframe\">\n",
       "  <thead>\n",
       "    <tr style=\"text-align: right;\">\n",
       "      <th></th>\n",
       "      <th>publication</th>\n",
       "      <th>annee</th>\n",
       "      <th>mois</th>\n",
       "      <th>prenom</th>\n",
       "      <th>age</th>\n",
       "      <th>vrai age</th>\n",
       "      <th>ville</th>\n",
       "      <th>circonstances</th>\n",
       "      <th>domicile (ou Ã  proximitÃ© ?)</th>\n",
       "      <th>mode opÃ©ratoire</th>\n",
       "      <th>temoins</th>\n",
       "      <th>sÃ©paration ?</th>\n",
       "      <th>suicide auteur</th>\n",
       "      <th>autres morts</th>\n",
       "      <th>interdiction entrer en contact</th>\n",
       "      <th>texte</th>\n",
       "      <th>lien</th>\n",
       "    </tr>\n",
       "  </thead>\n",
       "  <tbody>\n",
       "    <tr>\n",
       "      <th>0</th>\n",
       "      <td>ok</td>\n",
       "      <td>2017</td>\n",
       "      <td>Janvier</td>\n",
       "      <td>Doris</td>\n",
       "      <td>60</td>\n",
       "      <td>60</td>\n",
       "      <td>Aubenas (ArdÃ¨che)</td>\n",
       "      <td>Coups de batte de base-ball et strangulation p...</td>\n",
       "      <td>oui</td>\n",
       "      <td>arme blanche et strangulation</td>\n",
       "      <td>non</td>\n",
       "      <td>non</td>\n",
       "      <td>oui</td>\n",
       "      <td>NaN</td>\n",
       "      <td>NaN</td>\n",
       "      <td>Elle sâappelait Doris. Elle avait 60 ans. El...</td>\n",
       "      <td>http://www.ladepeche.fr/article/2017/01/24/250...</td>\n",
       "    </tr>\n",
       "    <tr>\n",
       "      <th>1</th>\n",
       "      <td>ok</td>\n",
       "      <td>2017</td>\n",
       "      <td>Janvier</td>\n",
       "      <td>Sandrine</td>\n",
       "      <td>45</td>\n",
       "      <td>40+</td>\n",
       "      <td>Talence (Gironde)</td>\n",
       "      <td>corps retrouvÃ© dans son pavillon</td>\n",
       "      <td>oui</td>\n",
       "      <td>?</td>\n",
       "      <td>?</td>\n",
       "      <td>oui</td>\n",
       "      <td>oui (en dÃ©tention)</td>\n",
       "      <td>NaN</td>\n",
       "      <td>NaN</td>\n",
       "      <td>Elle sâappelait Sandrine. Elle avait Â«la qu...</td>\n",
       "      <td>https://www.francebleu.fr/infos/faits-divers-j...</td>\n",
       "    </tr>\n",
       "    <tr>\n",
       "      <th>2</th>\n",
       "      <td>ok</td>\n",
       "      <td>2017</td>\n",
       "      <td>Janvier</td>\n",
       "      <td>ValÃ©rie</td>\n",
       "      <td>39</td>\n",
       "      <td>39</td>\n",
       "      <td>BesanÃ§on (Doubs)</td>\n",
       "      <td>Coups de couteau aprÃ¨s une dispute</td>\n",
       "      <td>NaN</td>\n",
       "      <td>arme blanche</td>\n",
       "      <td>non</td>\n",
       "      <td>non</td>\n",
       "      <td>non</td>\n",
       "      <td>NaN</td>\n",
       "      <td>NaN</td>\n",
       "      <td>Elle sâappelait ValÃ©rie. Elle avait 39 ans....</td>\n",
       "      <td>http://www.estrepublicain.fr/edition-de-besanc...</td>\n",
       "    </tr>\n",
       "    <tr>\n",
       "      <th>3</th>\n",
       "      <td>ok</td>\n",
       "      <td>2017</td>\n",
       "      <td>Janvier</td>\n",
       "      <td>Catherine</td>\n",
       "      <td>40</td>\n",
       "      <td>40</td>\n",
       "      <td>Crouzet (Gard)</td>\n",
       "      <td>abattue par arme Ã  feu dans sa voiture</td>\n",
       "      <td>non</td>\n",
       "      <td>arme Ã  feu</td>\n",
       "      <td>non</td>\n",
       "      <td>oui</td>\n",
       "      <td>oui</td>\n",
       "      <td>NaN</td>\n",
       "      <td>NaN</td>\n",
       "      <td>Elle sâappelait Catherine. Elle avait 40 ans...</td>\n",
       "      <td>https://www.francebleu.fr/infos/faits-divers-j...</td>\n",
       "    </tr>\n",
       "    <tr>\n",
       "      <th>4</th>\n",
       "      <td>ok</td>\n",
       "      <td>2017</td>\n",
       "      <td>Janvier</td>\n",
       "      <td>Sandra</td>\n",
       "      <td>39</td>\n",
       "      <td>39</td>\n",
       "      <td>Avon (Seine-et-Marne)</td>\n",
       "      <td>Emboutie en voiture et poignardÃ©e</td>\n",
       "      <td>non</td>\n",
       "      <td>arme blanche</td>\n",
       "      <td>oui</td>\n",
       "      <td>oui?</td>\n",
       "      <td>non</td>\n",
       "      <td>NaN</td>\n",
       "      <td>NaN</td>\n",
       "      <td>Elle sâappelait Sandra. Elle avait 39 ans. A...</td>\n",
       "      <td>http://www.francesoir.fr/societe-faits-divers/...</td>\n",
       "    </tr>\n",
       "  </tbody>\n",
       "</table>\n",
       "</div>"
      ],
      "text/plain": [
       "  publication  annee     mois     prenom age vrai age                  ville  \\\n",
       "0          ok   2017  Janvier      Doris  60       60     Aubenas (ArdÃ¨che)   \n",
       "1          ok   2017  Janvier   Sandrine  45      40+      Talence (Gironde)   \n",
       "2          ok   2017  Janvier   ValÃ©rie  39       39      BesanÃ§on (Doubs)   \n",
       "3          ok   2017  Janvier  Catherine  40       40         Crouzet (Gard)   \n",
       "4          ok   2017  Janvier     Sandra  39       39  Avon (Seine-et-Marne)   \n",
       "\n",
       "                                       circonstances  \\\n",
       "0  Coups de batte de base-ball et strangulation p...   \n",
       "1                  corps retrouvÃ© dans son pavillon   \n",
       "2                Coups de couteau aprÃ¨s une dispute   \n",
       "3            abattue par arme Ã  feu dans sa voiture   \n",
       "4                Emboutie en voiture et poignardÃ©e    \n",
       "\n",
       "  domicile (ou Ã  proximitÃ© ?)               mode opÃ©ratoire temoins  \\\n",
       "0                           oui  arme blanche et strangulation     non   \n",
       "1                           oui                              ?       ?   \n",
       "2                           NaN                arme blanche        non   \n",
       "3                           non                    arme Ã  feu     non   \n",
       "4                           non                   arme blanche     oui   \n",
       "\n",
       "  sÃ©paration ?       suicide auteur autres morts  \\\n",
       "0           non                  oui          NaN   \n",
       "1           oui  oui (en dÃ©tention)          NaN   \n",
       "2           non                  non          NaN   \n",
       "3           oui                  oui          NaN   \n",
       "4          oui?                  non          NaN   \n",
       "\n",
       "  interdiction entrer en contact  \\\n",
       "0                            NaN   \n",
       "1                            NaN   \n",
       "2                            NaN   \n",
       "3                            NaN   \n",
       "4                            NaN   \n",
       "\n",
       "                                               texte  \\\n",
       "0  Elle sâappelait Doris. Elle avait 60 ans. El...   \n",
       "1  Elle sâappelait Sandrine. Elle avait Â«la qu...   \n",
       "2  Elle sâappelait ValÃ©rie. Elle avait 39 ans....   \n",
       "3  Elle sâappelait Catherine. Elle avait 40 ans...   \n",
       "4  Elle sâappelait Sandra. Elle avait 39 ans. A...   \n",
       "\n",
       "                                                lien  \n",
       "0  http://www.ladepeche.fr/article/2017/01/24/250...  \n",
       "1  https://www.francebleu.fr/infos/faits-divers-j...  \n",
       "2  http://www.estrepublicain.fr/edition-de-besanc...  \n",
       "3  https://www.francebleu.fr/infos/faits-divers-j...  \n",
       "4  http://www.francesoir.fr/societe-faits-divers/...  "
      ]
     },
     "execution_count": 29,
     "metadata": {},
     "output_type": "execute_result"
    }
   ],
   "source": [
    "df = pd.read_csv('femicides3.csv')\n",
    "df.head()"
   ]
  },
  {
   "cell_type": "code",
   "execution_count": 7,
   "metadata": {},
   "outputs": [
    {
     "data": {
      "text/plain": [
       "395"
      ]
     },
     "execution_count": 7,
     "metadata": {},
     "output_type": "execute_result"
    }
   ],
   "source": [
    "len(df)"
   ]
  },
  {
   "cell_type": "code",
   "execution_count": 8,
   "metadata": {},
   "outputs": [
    {
     "data": {
      "text/plain": [
       "\"pÃ©e avec une casserole par son mari malade\\netranglÃ©e alors qu'elle venait rÃ©cupÃ©rer des affaires\\nfrappÃ©e Ã\\xa0 plusieurs reprises au visage et Ã\\xa0 la tÃªte par son ex qui avait dÃ©jÃ\\xa0 Ã©tÃ© condamnÃ© pour des violences\\nRenversÃ©e en voiture par son ex alors qu'elle Ã©tait avec son compagnon\\nabattue dâ\\x80\\x99un tir de fusil de chasse dans la cour de lâ\\x80\\x99exploitation agricole oÃ¹ elle travaillait\\npoignardÃ©e chez elle   \\npoignardÃ©e dans son lit \\nbattue Ã\\xa0 mort chez elle\\n24 coups de couteau, principalement au visage et dans le cou dans sa cuisine / divorce en cours / antÃ©cÃ©dents violences\\n45 coups de couteau, principalement Ã\\xa0 lâ\\x80\\x99abdomen / Â«adulte protÃ©gÃ©eÂ», rencontre Ã\\xa0 l'HP / alcool\\npoignardÃ©e Ã\\xa0 11 reprises dans lâ\\x80\\x99abdomen en voiture / compagnon connu pour violences\\ntuÃ©e avec une arme de poing par son mari qui souffrait d'un cancer et s'est ensuite suicidÃ©\\nabattue devant chez elle de deux balles\\ntouchÃ©e par un tir dans le dos aprÃ¨s une dispute avec son compagnon, policier / c\""
      ]
     },
     "execution_count": 8,
     "metadata": {},
     "output_type": "execute_result"
    }
   ],
   "source": [
    "txt = '\\n'.join(df.dropna(subset=['circonstances'])['circonstances'])\n",
    "txt[1000:2000]"
   ]
  },
  {
   "cell_type": "code",
   "execution_count": 9,
   "metadata": {},
   "outputs": [],
   "source": [
    "import re\n",
    "\n",
    "px = re.compile('Ã.')\n",
    "\n",
    "set(px.findall(txt))\n",
    "\n",
    "trans = {'Ã\\xa0' : 'à', 'Ã¢' : '', \n",
    " 'Ã§' : 'ç',\n",
    " 'Ã¨' : 'è', 'Ã©' : 'é', 'Ãª' : 'ê', 'Ã«' : 'e',\n",
    "  'Ã´' : 'ô',\n",
    " 'â\\x80\\x99' : \"'\", 'Â«' : '\"', 'Â»' : '\"',\n",
    " 'Ã®' : 'î', 'Ã»' : 'û',  'Ã¹' : 'ù'\n",
    "}\n",
    "\n",
    "def clean_txt(txt):\n",
    "    tt = txt[:]\n",
    "    for x, y in trans.items():\n",
    "        tt = tt.replace(x,y)\n",
    "    return tt\n",
    "\n",
    "#print(tt)"
   ]
  },
  {
   "cell_type": "code",
   "execution_count": 27,
   "metadata": {},
   "outputs": [
    {
     "data": {
      "image/png": "[encoded data removed]",
      "text/plain": [
       "<Figure size 432x288 with 1 Axes>"
      ]
     },
     "metadata": {
      "needs_background": "light"
     },
     "output_type": "display_data"
    }
   ],
   "source": [
    "import re\n",
    "\n",
    "pp = re.compile('\\d+')\n",
    "ages = [int(x) for x in pp.findall( ' '.join(df['age']))]\n",
    "\n",
    "plt.hist( ages, bins = 14);"
   ]
  },
  {
   "cell_type": "code",
   "execution_count": 15,
   "metadata": {},
   "outputs": [],
   "source": [
    "set([ x.lower().strip() for x in df['mois'].values ]) \n",
    "\n",
    "df['mois'] = np.array([month2num[x.lower().strip()] \n",
    "                       for x in df['mois'].values])"
   ]
  },
  {
   "cell_type": "code",
   "execution_count": 14,
   "metadata": {},
   "outputs": [],
   "source": [
    "month2num = {'aout' : 8,\n",
    "             'aoã»t' : 8,\n",
    " 'avril' : 4,\n",
    " 'dã©cembre' : 12,\n",
    " 'fã©vrier': 2,\n",
    " 'janvier' : 1,\n",
    " 'juillet' : 7,\n",
    " 'juin' : 6,\n",
    " 'mai' : 5,\n",
    " 'mars' : 3,\n",
    " 'novembre' : 11,\n",
    " 'octobre' : 10,\n",
    " 'septembre' : 9}"
   ]
  },
  {
   "cell_type": "code",
   "execution_count": 24,
   "metadata": {},
   "outputs": [],
   "source": [
    "dd = {}\n",
    "\n",
    "for yy in range(2017,2021):\n",
    "    dd[yy] = [len( df[(df['annee'] == yy) & (df['mois'] == k)])\n",
    "              for k in range(1, 9) ]"
   ]
  },
  {
   "cell_type": "code",
   "execution_count": 25,
   "metadata": {},
   "outputs": [
    {
     "data": {
      "image/png": "[encoded data removed]",
      "text/plain": [
       "<Figure size 432x288 with 1 Axes>"
      ]
     },
     "metadata": {
      "needs_background": "light"
     },
     "output_type": "display_data"
    }
   ],
   "source": [
    "cc = [c for c in 'rgby']\n",
    "\n",
    "for yy in range(2017,2021):\n",
    "    plt.plot(dd[yy], cc.pop(0) + '-')"
   ]
  },
  {
   "cell_type": "code",
   "execution_count": 44,
   "metadata": {},
   "outputs": [
    {
     "data": {
      "text/plain": [
       "[<matplotlib.lines.Line2D at 0x7e726d253710>]"
      ]
     },
     "execution_count": 44,
     "metadata": {},
     "output_type": "execute_result"
    },
    {
     "data": {
      "image/png": "[encoded data removed]",
      "text/plain": [
       "<Figure size 432x288 with 1 Axes>"
      ]
     },
     "metadata": {
      "needs_background": "light"
     },
     "output_type": "display_data"
    }
   ],
   "source": [
    "ddf = df[df['age'] != '?']\n",
    "mm = [ month2num[x.lower().strip()] for x in  ddf['mois'].values ]\n",
    "aa = [ int(x) for x in ddf['age'].values ]\n",
    "L = [x for x in zip(mm,aa) if 30 < x[1] < 40]\n",
    "X, Y = list(zip(*L))\n",
    "plt.plot(X,Y, 'rx')"
   ]
  },
  {
   "cell_type": "code",
   "execution_count": 99,
   "metadata": {},
   "outputs": [
    {
     "name": "stdout",
     "output_type": "stream",
     "text": [
      "Strangulation\n",
      "Arme blanche\n",
      "Ecrasée par un train\n",
      "Strangulation\n",
      "Asphyxie\n",
      "Strangulation\n",
      "Arme blanche\n",
      "Arme à feu\n",
      "Arme blanche\n",
      "Brulée \n",
      "Arme blanche\n",
      "Arme à feu\n",
      "Défenestrée\n",
      "coups\n",
      "étranglement\n",
      "coups (batte ou rouleau)\n",
      "voiture\n",
      "couteau\n",
      "arme à feu\n",
      "revolver\n",
      "coups de couteau\n",
      "couteau\n",
      "couteau\n",
      "arme à feu\n",
      "strangulation \n",
      "couteau\n",
      "étouffement\n",
      "coups\n",
      "arme blanche\n",
      "étranglée\n",
      "arme blanche\n",
      "défenestrée\n",
      "couteau\n",
      "strangulation \n",
      "percutée par un véhicule\n",
      "?\n",
      "arme blanche\n",
      "poignard\n",
      "coups\n",
      "arme blanche\n",
      "arme à feu\n"
     ]
    }
   ],
   "source": [
    " mask = (30 < ddf['age'].astype(int))  &  (ddf['age'].astype(int) < 35)\n",
    "    \n",
    "print( clean_txt( '\\n'.join(ddf[mask]['mode opÃ©ratoire']) ) )"
   ]
  },
  {
   "cell_type": "code",
   "execution_count": null,
   "metadata": {},
   "outputs": [],
   "source": []
  }
 ],
 "metadata": {
  "kernelspec": {
   "display_name": "Python 3",
   "language": "python",
   "name": "python3"
  },
  "language_info": {
   "codemirror_mode": {
    "name": "ipython",
    "version": 3
   },
   "file_extension": ".py",
   "mimetype": "text/x-python",
   "name": "python",
   "nbconvert_exporter": "python",
   "pygments_lexer": "ipython3",
   "version": "3.6.5"
  }
 },
 "nbformat": 4,
 "nbformat_minor": 2
}
